{
 "cells": [
  {
   "cell_type": "markdown",
   "metadata": {},
   "source": [
    "# Проект \"Принятие решений в бизнесе\""
   ]
  },
  {
   "cell_type": "markdown",
   "metadata": {},
   "source": [
    "Компания, в которой мы работаем, хочет выйти на новый уровень, увеличить свою выручку. Для этого необходимо организовать определенный мероприятия, но пока непонятно какие. Поэтому руководство обратилось к нам - аналитикам.\n",
    "\n",
    "У нас есть подготовленный список гипотез для увеличения выручки. Нам необходимо их приоритезировать - выяснить, какой путь выбрать компании. Для этого мы применим различные фреймворки и отсортируем гипотезы по убыванию приоритета.\n",
    "\n",
    "\n",
    "Затем мы запустим А/В-тест и проанализируем его результаты. У нас будет 2 группы: А и В. Мы посмотрим, как складывалась конверсия, средний чек, выручка в каждой из групп. Изучим \"сырые\" данные, затем проверим их на аномалии, \"очистим\" от выбросов и посмотрим, что изменится.\n",
    "\n",
    "Для проведения этой работы у нас есть 3 датафрейма: файл /datasets/hypothesis.csv содержит гипотезы, которые нам предстоит приоретизировать, /datasets/orders.csv — информацию о заказах, а /datasets/visitors.csv — информацию о количестве посетителей.\n",
    "\n"
   ]
  },
  {
   "cell_type": "markdown",
   "metadata": {},
   "source": [
    "## Часть 1. Приоритизация гипотез."
   ]
  },
  {
   "cell_type": "markdown",
   "metadata": {},
   "source": [
    "### Предобработка данных."
   ]
  },
  {
   "cell_type": "markdown",
   "metadata": {},
   "source": [
    "Для начала подгрузим все библиотеки, которые могут нам пригодиться:"
   ]
  },
  {
   "cell_type": "code",
   "execution_count": 1,
   "metadata": {},
   "outputs": [],
   "source": [
    "import pandas as pd\n",
    "import numpy as np\n",
    "import matplotlib.pyplot as plt\n",
    "import datetime as dt\n",
    "import scipy.stats as stats"
   ]
  },
  {
   "cell_type": "markdown",
   "metadata": {},
   "source": [
    "Данные о гипотезах назовём data, данные о заказах - orders, о посещениях - visitors."
   ]
  },
  {
   "cell_type": "code",
   "execution_count": 2,
   "metadata": {},
   "outputs": [],
   "source": [
    "data = pd.read_csv('/datasets/hypothesis.csv')\n",
    "orders = pd.read_csv('/datasets/orders.csv')\n",
    "visitors = pd.read_csv('/datasets/visitors.csv')"
   ]
  },
  {
   "cell_type": "markdown",
   "metadata": {},
   "source": [
    "### Данные о гипотезах."
   ]
  },
  {
   "cell_type": "markdown",
   "metadata": {},
   "source": [
    "Выгрузим таблицу и информацию о ней:"
   ]
  },
  {
   "cell_type": "code",
   "execution_count": 3,
   "metadata": {
    "scrolled": true
   },
   "outputs": [
    {
     "data": {
      "text/html": [
       "<div>\n",
       "<style scoped>\n",
       "    .dataframe tbody tr th:only-of-type {\n",
       "        vertical-align: middle;\n",
       "    }\n",
       "\n",
       "    .dataframe tbody tr th {\n",
       "        vertical-align: top;\n",
       "    }\n",
       "\n",
       "    .dataframe thead th {\n",
       "        text-align: right;\n",
       "    }\n",
       "</style>\n",
       "<table border=\"1\" class=\"dataframe\">\n",
       "  <thead>\n",
       "    <tr style=\"text-align: right;\">\n",
       "      <th></th>\n",
       "      <th>Hypothesis</th>\n",
       "      <th>Reach</th>\n",
       "      <th>Impact</th>\n",
       "      <th>Confidence</th>\n",
       "      <th>Efforts</th>\n",
       "    </tr>\n",
       "  </thead>\n",
       "  <tbody>\n",
       "    <tr>\n",
       "      <th>0</th>\n",
       "      <td>Добавить два новых канала привлечения трафика, что позволит привлекать на 30% больше пользователей</td>\n",
       "      <td>3</td>\n",
       "      <td>10</td>\n",
       "      <td>8</td>\n",
       "      <td>6</td>\n",
       "    </tr>\n",
       "    <tr>\n",
       "      <th>1</th>\n",
       "      <td>Запустить собственную службу доставки, что сократит срок доставки заказов</td>\n",
       "      <td>2</td>\n",
       "      <td>5</td>\n",
       "      <td>4</td>\n",
       "      <td>10</td>\n",
       "    </tr>\n",
       "    <tr>\n",
       "      <th>2</th>\n",
       "      <td>Добавить блоки рекомендаций товаров на сайт интернет магазина, чтобы повысить конверсию и средни...</td>\n",
       "      <td>8</td>\n",
       "      <td>3</td>\n",
       "      <td>7</td>\n",
       "      <td>3</td>\n",
       "    </tr>\n",
       "    <tr>\n",
       "      <th>3</th>\n",
       "      <td>Изменить структура категорий, что увеличит конверсию, т.к. пользователи быстрее найдут нужный товар</td>\n",
       "      <td>8</td>\n",
       "      <td>3</td>\n",
       "      <td>3</td>\n",
       "      <td>8</td>\n",
       "    </tr>\n",
       "    <tr>\n",
       "      <th>4</th>\n",
       "      <td>Изменить цвет фона главной страницы, чтобы увеличить вовлеченность пользователей</td>\n",
       "      <td>3</td>\n",
       "      <td>1</td>\n",
       "      <td>1</td>\n",
       "      <td>1</td>\n",
       "    </tr>\n",
       "  </tbody>\n",
       "</table>\n",
       "</div>"
      ],
      "text/plain": [
       "                                                                                            Hypothesis  \\\n",
       "0   Добавить два новых канала привлечения трафика, что позволит привлекать на 30% больше пользователей   \n",
       "1                            Запустить собственную службу доставки, что сократит срок доставки заказов   \n",
       "2  Добавить блоки рекомендаций товаров на сайт интернет магазина, чтобы повысить конверсию и средни...   \n",
       "3  Изменить структура категорий, что увеличит конверсию, т.к. пользователи быстрее найдут нужный товар   \n",
       "4                     Изменить цвет фона главной страницы, чтобы увеличить вовлеченность пользователей   \n",
       "\n",
       "   Reach  Impact  Confidence  Efforts  \n",
       "0      3      10           8        6  \n",
       "1      2       5           4       10  \n",
       "2      8       3           7        3  \n",
       "3      8       3           3        8  \n",
       "4      3       1           1        1  "
      ]
     },
     "execution_count": 3,
     "metadata": {},
     "output_type": "execute_result"
    }
   ],
   "source": [
    "pd.options.display.max_colwidth = 100\n",
    "data.head()"
   ]
  },
  {
   "cell_type": "code",
   "execution_count": 4,
   "metadata": {},
   "outputs": [
    {
     "name": "stdout",
     "output_type": "stream",
     "text": [
      "<class 'pandas.core.frame.DataFrame'>\n",
      "RangeIndex: 9 entries, 0 to 8\n",
      "Data columns (total 5 columns):\n",
      " #   Column      Non-Null Count  Dtype \n",
      "---  ------      --------------  ----- \n",
      " 0   Hypothesis  9 non-null      object\n",
      " 1   Reach       9 non-null      int64 \n",
      " 2   Impact      9 non-null      int64 \n",
      " 3   Confidence  9 non-null      int64 \n",
      " 4   Efforts     9 non-null      int64 \n",
      "dtypes: int64(4), object(1)\n",
      "memory usage: 488.0+ bytes\n"
     ]
    }
   ],
   "source": [
    "data.info()"
   ]
  },
  {
   "cell_type": "markdown",
   "metadata": {},
   "source": [
    "Типы данных и названия столбцов удовлетворительные. Проверим таблицу на дубликаты."
   ]
  },
  {
   "cell_type": "code",
   "execution_count": 5,
   "metadata": {},
   "outputs": [
    {
     "data": {
      "text/plain": [
       "0"
      ]
     },
     "execution_count": 5,
     "metadata": {},
     "output_type": "execute_result"
    }
   ],
   "source": [
    "data.duplicated().sum()"
   ]
  },
  {
   "cell_type": "markdown",
   "metadata": {},
   "source": [
    "Явных дубликатов нет. Впринципе, понять, что обработка дополнительная не нужна - таблица маленькая. Можно продолжать работу с ней."
   ]
  },
  {
   "cell_type": "markdown",
   "metadata": {},
   "source": [
    "### Данные о заказах."
   ]
  },
  {
   "cell_type": "markdown",
   "metadata": {},
   "source": [
    "Выгрузим таблицу и информацию о ней:"
   ]
  },
  {
   "cell_type": "code",
   "execution_count": 6,
   "metadata": {},
   "outputs": [
    {
     "data": {
      "text/html": [
       "<div>\n",
       "<style scoped>\n",
       "    .dataframe tbody tr th:only-of-type {\n",
       "        vertical-align: middle;\n",
       "    }\n",
       "\n",
       "    .dataframe tbody tr th {\n",
       "        vertical-align: top;\n",
       "    }\n",
       "\n",
       "    .dataframe thead th {\n",
       "        text-align: right;\n",
       "    }\n",
       "</style>\n",
       "<table border=\"1\" class=\"dataframe\">\n",
       "  <thead>\n",
       "    <tr style=\"text-align: right;\">\n",
       "      <th></th>\n",
       "      <th>transactionId</th>\n",
       "      <th>visitorId</th>\n",
       "      <th>date</th>\n",
       "      <th>revenue</th>\n",
       "      <th>group</th>\n",
       "    </tr>\n",
       "  </thead>\n",
       "  <tbody>\n",
       "    <tr>\n",
       "      <th>0</th>\n",
       "      <td>3667963787</td>\n",
       "      <td>3312258926</td>\n",
       "      <td>2019-08-15</td>\n",
       "      <td>1650</td>\n",
       "      <td>B</td>\n",
       "    </tr>\n",
       "    <tr>\n",
       "      <th>1</th>\n",
       "      <td>2804400009</td>\n",
       "      <td>3642806036</td>\n",
       "      <td>2019-08-15</td>\n",
       "      <td>730</td>\n",
       "      <td>B</td>\n",
       "    </tr>\n",
       "    <tr>\n",
       "      <th>2</th>\n",
       "      <td>2961555356</td>\n",
       "      <td>4069496402</td>\n",
       "      <td>2019-08-15</td>\n",
       "      <td>400</td>\n",
       "      <td>A</td>\n",
       "    </tr>\n",
       "    <tr>\n",
       "      <th>3</th>\n",
       "      <td>3797467345</td>\n",
       "      <td>1196621759</td>\n",
       "      <td>2019-08-15</td>\n",
       "      <td>9759</td>\n",
       "      <td>B</td>\n",
       "    </tr>\n",
       "    <tr>\n",
       "      <th>4</th>\n",
       "      <td>2282983706</td>\n",
       "      <td>2322279887</td>\n",
       "      <td>2019-08-15</td>\n",
       "      <td>2308</td>\n",
       "      <td>B</td>\n",
       "    </tr>\n",
       "  </tbody>\n",
       "</table>\n",
       "</div>"
      ],
      "text/plain": [
       "   transactionId   visitorId        date  revenue group\n",
       "0     3667963787  3312258926  2019-08-15     1650     B\n",
       "1     2804400009  3642806036  2019-08-15      730     B\n",
       "2     2961555356  4069496402  2019-08-15      400     A\n",
       "3     3797467345  1196621759  2019-08-15     9759     B\n",
       "4     2282983706  2322279887  2019-08-15     2308     B"
      ]
     },
     "execution_count": 6,
     "metadata": {},
     "output_type": "execute_result"
    }
   ],
   "source": [
    "orders.head()"
   ]
  },
  {
   "cell_type": "code",
   "execution_count": 7,
   "metadata": {},
   "outputs": [
    {
     "name": "stdout",
     "output_type": "stream",
     "text": [
      "<class 'pandas.core.frame.DataFrame'>\n",
      "RangeIndex: 1197 entries, 0 to 1196\n",
      "Data columns (total 5 columns):\n",
      " #   Column         Non-Null Count  Dtype \n",
      "---  ------         --------------  ----- \n",
      " 0   transactionId  1197 non-null   int64 \n",
      " 1   visitorId      1197 non-null   int64 \n",
      " 2   date           1197 non-null   object\n",
      " 3   revenue        1197 non-null   int64 \n",
      " 4   group          1197 non-null   object\n",
      "dtypes: int64(3), object(2)\n",
      "memory usage: 46.9+ KB\n"
     ]
    }
   ],
   "source": [
    "orders.info()"
   ]
  },
  {
   "cell_type": "markdown",
   "metadata": {},
   "source": [
    "Посмотрим названия столбцов:"
   ]
  },
  {
   "cell_type": "code",
   "execution_count": 8,
   "metadata": {},
   "outputs": [
    {
     "data": {
      "text/plain": [
       "['transactionId', 'visitorId', 'date', 'revenue', 'group']"
      ]
     },
     "execution_count": 8,
     "metadata": {},
     "output_type": "execute_result"
    }
   ],
   "source": [
    "orders.columns.to_list()"
   ]
  },
  {
   "cell_type": "markdown",
   "metadata": {},
   "source": [
    "Слишком громоздкие названия первых двух колонок предлагаю заменить на orderId и userId соответственно. Так же предлагаю заменить тип данных столбца date. Затем проверим на дубликаты."
   ]
  },
  {
   "cell_type": "code",
   "execution_count": 9,
   "metadata": {},
   "outputs": [],
   "source": [
    "orders.columns = ['orderId', 'userId', 'date', 'revenue', 'group']"
   ]
  },
  {
   "cell_type": "code",
   "execution_count": 10,
   "metadata": {},
   "outputs": [],
   "source": [
    "orders['date'] = pd.to_datetime(orders['date'])"
   ]
  },
  {
   "cell_type": "markdown",
   "metadata": {},
   "source": [
    "Проверим, что получилось:"
   ]
  },
  {
   "cell_type": "code",
   "execution_count": 11,
   "metadata": {},
   "outputs": [
    {
     "name": "stdout",
     "output_type": "stream",
     "text": [
      "<class 'pandas.core.frame.DataFrame'>\n",
      "RangeIndex: 1197 entries, 0 to 1196\n",
      "Data columns (total 5 columns):\n",
      " #   Column   Non-Null Count  Dtype         \n",
      "---  ------   --------------  -----         \n",
      " 0   orderId  1197 non-null   int64         \n",
      " 1   userId   1197 non-null   int64         \n",
      " 2   date     1197 non-null   datetime64[ns]\n",
      " 3   revenue  1197 non-null   int64         \n",
      " 4   group    1197 non-null   object        \n",
      "dtypes: datetime64[ns](1), int64(3), object(1)\n",
      "memory usage: 46.9+ KB\n"
     ]
    }
   ],
   "source": [
    "orders.info()"
   ]
  },
  {
   "cell_type": "code",
   "execution_count": 12,
   "metadata": {},
   "outputs": [
    {
     "data": {
      "text/plain": [
       "0"
      ]
     },
     "execution_count": 12,
     "metadata": {},
     "output_type": "execute_result"
    }
   ],
   "source": [
    "orders.duplicated().sum()"
   ]
  },
  {
   "cell_type": "markdown",
   "metadata": {},
   "source": [
    "Явных дубликатов нет. Проверим, есть ли пользователи, которые попали в обе группы:"
   ]
  },
  {
   "cell_type": "code",
   "execution_count": 13,
   "metadata": {},
   "outputs": [
    {
     "data": {
      "text/plain": [
       "'количество пересекающихся пользователей:'"
      ]
     },
     "metadata": {},
     "output_type": "display_data"
    },
    {
     "data": {
      "text/plain": [
       "58"
      ]
     },
     "metadata": {},
     "output_type": "display_data"
    }
   ],
   "source": [
    "def intersection_list(orders_A, orders_B): \n",
    "    return set(orders_A).intersection(orders_B) \n",
    " \n",
    "orders_A = orders.query('group == \"A\"')\n",
    "orders_A = orders_A['userId'].drop_duplicates()\n",
    "orders_B = orders.query('group == \"B\"')\n",
    "orders_B = orders_B['userId'].drop_duplicates()\n",
    "delete_list = intersection_list(orders_A, orders_B)\n",
    " \n",
    "delete_list_count = len([item for item in delete_list])\n",
    " \n",
    "display(\"количество пересекающихся пользователей:\",delete_list_count)"
   ]
  },
  {
   "cell_type": "markdown",
   "metadata": {},
   "source": [
    "Учитывая размер базы, а так же то, что задвоение само себя нивелирует, можно не тратить время на удаление этих дубликатов. Таблица готова к работе."
   ]
  },
  {
   "cell_type": "markdown",
   "metadata": {},
   "source": [
    "### Данные о посещениях."
   ]
  },
  {
   "cell_type": "markdown",
   "metadata": {},
   "source": [
    "Выгрузим таблицу и информацию о ней:"
   ]
  },
  {
   "cell_type": "code",
   "execution_count": 14,
   "metadata": {},
   "outputs": [
    {
     "data": {
      "text/html": [
       "<div>\n",
       "<style scoped>\n",
       "    .dataframe tbody tr th:only-of-type {\n",
       "        vertical-align: middle;\n",
       "    }\n",
       "\n",
       "    .dataframe tbody tr th {\n",
       "        vertical-align: top;\n",
       "    }\n",
       "\n",
       "    .dataframe thead th {\n",
       "        text-align: right;\n",
       "    }\n",
       "</style>\n",
       "<table border=\"1\" class=\"dataframe\">\n",
       "  <thead>\n",
       "    <tr style=\"text-align: right;\">\n",
       "      <th></th>\n",
       "      <th>date</th>\n",
       "      <th>group</th>\n",
       "      <th>visitors</th>\n",
       "    </tr>\n",
       "  </thead>\n",
       "  <tbody>\n",
       "    <tr>\n",
       "      <th>0</th>\n",
       "      <td>2019-08-01</td>\n",
       "      <td>A</td>\n",
       "      <td>719</td>\n",
       "    </tr>\n",
       "    <tr>\n",
       "      <th>1</th>\n",
       "      <td>2019-08-02</td>\n",
       "      <td>A</td>\n",
       "      <td>619</td>\n",
       "    </tr>\n",
       "    <tr>\n",
       "      <th>2</th>\n",
       "      <td>2019-08-03</td>\n",
       "      <td>A</td>\n",
       "      <td>507</td>\n",
       "    </tr>\n",
       "    <tr>\n",
       "      <th>3</th>\n",
       "      <td>2019-08-04</td>\n",
       "      <td>A</td>\n",
       "      <td>717</td>\n",
       "    </tr>\n",
       "    <tr>\n",
       "      <th>4</th>\n",
       "      <td>2019-08-05</td>\n",
       "      <td>A</td>\n",
       "      <td>756</td>\n",
       "    </tr>\n",
       "  </tbody>\n",
       "</table>\n",
       "</div>"
      ],
      "text/plain": [
       "         date group  visitors\n",
       "0  2019-08-01     A       719\n",
       "1  2019-08-02     A       619\n",
       "2  2019-08-03     A       507\n",
       "3  2019-08-04     A       717\n",
       "4  2019-08-05     A       756"
      ]
     },
     "execution_count": 14,
     "metadata": {},
     "output_type": "execute_result"
    }
   ],
   "source": [
    "visitors.head()"
   ]
  },
  {
   "cell_type": "code",
   "execution_count": 15,
   "metadata": {},
   "outputs": [
    {
     "name": "stdout",
     "output_type": "stream",
     "text": [
      "<class 'pandas.core.frame.DataFrame'>\n",
      "RangeIndex: 62 entries, 0 to 61\n",
      "Data columns (total 3 columns):\n",
      " #   Column    Non-Null Count  Dtype \n",
      "---  ------    --------------  ----- \n",
      " 0   date      62 non-null     object\n",
      " 1   group     62 non-null     object\n",
      " 2   visitors  62 non-null     int64 \n",
      "dtypes: int64(1), object(2)\n",
      "memory usage: 1.6+ KB\n"
     ]
    }
   ],
   "source": [
    "visitors.info()"
   ]
  },
  {
   "cell_type": "markdown",
   "metadata": {},
   "source": [
    "Названия столбцов меня устраивают, предлагаю изменить тип данных в столбце date и проверить на дубликаты и пропуски:"
   ]
  },
  {
   "cell_type": "code",
   "execution_count": 16,
   "metadata": {},
   "outputs": [],
   "source": [
    "visitors['date'] = pd.to_datetime(visitors['date'])"
   ]
  },
  {
   "cell_type": "code",
   "execution_count": 17,
   "metadata": {},
   "outputs": [
    {
     "data": {
      "text/plain": [
       "0"
      ]
     },
     "execution_count": 17,
     "metadata": {},
     "output_type": "execute_result"
    }
   ],
   "source": [
    "visitors.duplicated().sum()"
   ]
  },
  {
   "cell_type": "code",
   "execution_count": 18,
   "metadata": {},
   "outputs": [
    {
     "data": {
      "text/plain": [
       "date        0\n",
       "group       0\n",
       "visitors    0\n",
       "dtype: int64"
      ]
     },
     "execution_count": 18,
     "metadata": {},
     "output_type": "execute_result"
    }
   ],
   "source": [
    "visitors.isna().sum()"
   ]
  },
  {
   "cell_type": "code",
   "execution_count": 19,
   "metadata": {},
   "outputs": [
    {
     "name": "stdout",
     "output_type": "stream",
     "text": [
      "<class 'pandas.core.frame.DataFrame'>\n",
      "RangeIndex: 62 entries, 0 to 61\n",
      "Data columns (total 3 columns):\n",
      " #   Column    Non-Null Count  Dtype         \n",
      "---  ------    --------------  -----         \n",
      " 0   date      62 non-null     datetime64[ns]\n",
      " 1   group     62 non-null     object        \n",
      " 2   visitors  62 non-null     int64         \n",
      "dtypes: datetime64[ns](1), int64(1), object(1)\n",
      "memory usage: 1.6+ KB\n"
     ]
    }
   ],
   "source": [
    "visitors.info()"
   ]
  },
  {
   "cell_type": "markdown",
   "metadata": {},
   "source": [
    "Дубликатов и пропусков нет. Теперь и эта таблица готова к работе."
   ]
  },
  {
   "cell_type": "markdown",
   "metadata": {},
   "source": [
    "Предлагаю посмотреть временные рамки тестирования, количество групп и размер групп по численности."
   ]
  },
  {
   "cell_type": "code",
   "execution_count": 20,
   "metadata": {},
   "outputs": [
    {
     "data": {
      "text/plain": [
       "array(['B', 'A'], dtype=object)"
      ]
     },
     "execution_count": 20,
     "metadata": {},
     "output_type": "execute_result"
    }
   ],
   "source": [
    "orders['group'].unique()"
   ]
  },
  {
   "cell_type": "code",
   "execution_count": 21,
   "metadata": {},
   "outputs": [
    {
     "data": {
      "text/plain": [
       "557"
      ]
     },
     "execution_count": 21,
     "metadata": {},
     "output_type": "execute_result"
    }
   ],
   "source": [
    "orders.query('group == \"A\"')['group'].count()"
   ]
  },
  {
   "cell_type": "code",
   "execution_count": 22,
   "metadata": {},
   "outputs": [
    {
     "data": {
      "text/plain": [
       "640"
      ]
     },
     "execution_count": 22,
     "metadata": {},
     "output_type": "execute_result"
    }
   ],
   "source": [
    "orders.query('group == \"B\"')['group'].count()"
   ]
  },
  {
   "cell_type": "code",
   "execution_count": 23,
   "metadata": {},
   "outputs": [
    {
     "data": {
      "text/plain": [
       "Timestamp('2019-08-31 00:00:00')"
      ]
     },
     "execution_count": 23,
     "metadata": {},
     "output_type": "execute_result"
    }
   ],
   "source": [
    "orders['date'].max()"
   ]
  },
  {
   "cell_type": "code",
   "execution_count": 24,
   "metadata": {},
   "outputs": [
    {
     "data": {
      "text/plain": [
       "Timestamp('2019-08-01 00:00:00')"
      ]
     },
     "execution_count": 24,
     "metadata": {},
     "output_type": "execute_result"
    }
   ],
   "source": [
    "orders['date'].min()"
   ]
  },
  {
   "cell_type": "markdown",
   "metadata": {},
   "source": [
    "Тест длился с 1 по 31 августа 2019 года - на протяжении месяца.Тест парный - 2 группы (А и В). Группа В больше группы А - это не очень хорошо, но мы будем работать с тем, что есть."
   ]
  },
  {
   "cell_type": "markdown",
   "metadata": {},
   "source": [
    "###  Применение фреймворк ICE для приоритизации гипотез. Сортировка их по убыванию приоритета."
   ]
  },
  {
   "cell_type": "markdown",
   "metadata": {},
   "source": [
    "Посчитаем ICE для гипотез. Добавим полученные значения ICE к существующей таблице. Новый столбец назовём ICE.\n",
    "Выведем столбцы 'Hypothesis' и 'ICE', отсортированные по столбцу 'ICE'."
   ]
  },
  {
   "cell_type": "code",
   "execution_count": 25,
   "metadata": {},
   "outputs": [
    {
     "data": {
      "text/html": [
       "<div>\n",
       "<style scoped>\n",
       "    .dataframe tbody tr th:only-of-type {\n",
       "        vertical-align: middle;\n",
       "    }\n",
       "\n",
       "    .dataframe tbody tr th {\n",
       "        vertical-align: top;\n",
       "    }\n",
       "\n",
       "    .dataframe thead th {\n",
       "        text-align: right;\n",
       "    }\n",
       "</style>\n",
       "<table border=\"1\" class=\"dataframe\">\n",
       "  <thead>\n",
       "    <tr style=\"text-align: right;\">\n",
       "      <th></th>\n",
       "      <th>Hypothesis</th>\n",
       "      <th>ICE</th>\n",
       "    </tr>\n",
       "  </thead>\n",
       "  <tbody>\n",
       "    <tr>\n",
       "      <th>8</th>\n",
       "      <td>Запустить акцию, дающую скидку на товар в день рождения</td>\n",
       "      <td>16.20</td>\n",
       "    </tr>\n",
       "    <tr>\n",
       "      <th>0</th>\n",
       "      <td>Добавить два новых канала привлечения трафика, что позволит привлекать на 30% больше пользователей</td>\n",
       "      <td>13.33</td>\n",
       "    </tr>\n",
       "    <tr>\n",
       "      <th>7</th>\n",
       "      <td>Добавить форму подписки на все основные страницы, чтобы собрать базу клиентов для email-рассылок</td>\n",
       "      <td>11.20</td>\n",
       "    </tr>\n",
       "    <tr>\n",
       "      <th>6</th>\n",
       "      <td>Показать на главной странице баннеры с актуальными акциями и распродажами, чтобы увеличить конве...</td>\n",
       "      <td>8.00</td>\n",
       "    </tr>\n",
       "    <tr>\n",
       "      <th>2</th>\n",
       "      <td>Добавить блоки рекомендаций товаров на сайт интернет магазина, чтобы повысить конверсию и средни...</td>\n",
       "      <td>7.00</td>\n",
       "    </tr>\n",
       "    <tr>\n",
       "      <th>1</th>\n",
       "      <td>Запустить собственную службу доставки, что сократит срок доставки заказов</td>\n",
       "      <td>2.00</td>\n",
       "    </tr>\n",
       "    <tr>\n",
       "      <th>5</th>\n",
       "      <td>Добавить страницу отзывов клиентов о магазине, что позволит увеличить количество заказов</td>\n",
       "      <td>1.33</td>\n",
       "    </tr>\n",
       "    <tr>\n",
       "      <th>3</th>\n",
       "      <td>Изменить структура категорий, что увеличит конверсию, т.к. пользователи быстрее найдут нужный товар</td>\n",
       "      <td>1.12</td>\n",
       "    </tr>\n",
       "    <tr>\n",
       "      <th>4</th>\n",
       "      <td>Изменить цвет фона главной страницы, чтобы увеличить вовлеченность пользователей</td>\n",
       "      <td>1.00</td>\n",
       "    </tr>\n",
       "  </tbody>\n",
       "</table>\n",
       "</div>"
      ],
      "text/plain": [
       "                                                                                            Hypothesis  \\\n",
       "8                                              Запустить акцию, дающую скидку на товар в день рождения   \n",
       "0   Добавить два новых канала привлечения трафика, что позволит привлекать на 30% больше пользователей   \n",
       "7     Добавить форму подписки на все основные страницы, чтобы собрать базу клиентов для email-рассылок   \n",
       "6  Показать на главной странице баннеры с актуальными акциями и распродажами, чтобы увеличить конве...   \n",
       "2  Добавить блоки рекомендаций товаров на сайт интернет магазина, чтобы повысить конверсию и средни...   \n",
       "1                            Запустить собственную службу доставки, что сократит срок доставки заказов   \n",
       "5             Добавить страницу отзывов клиентов о магазине, что позволит увеличить количество заказов   \n",
       "3  Изменить структура категорий, что увеличит конверсию, т.к. пользователи быстрее найдут нужный товар   \n",
       "4                     Изменить цвет фона главной страницы, чтобы увеличить вовлеченность пользователей   \n",
       "\n",
       "     ICE  \n",
       "8  16.20  \n",
       "0  13.33  \n",
       "7  11.20  \n",
       "6   8.00  \n",
       "2   7.00  \n",
       "1   2.00  \n",
       "5   1.33  \n",
       "3   1.12  \n",
       "4   1.00  "
      ]
     },
     "metadata": {},
     "output_type": "display_data"
    }
   ],
   "source": [
    "data['ICE'] = round((data['Impact']*data['Confidence'])/data['Efforts'], 2)\n",
    "display(data[['Hypothesis','ICE']].sort_values(by='ICE', ascending=False))"
   ]
  },
  {
   "cell_type": "markdown",
   "metadata": {},
   "source": [
    "Наиболее перспективные гипотезы разместились под индексами 0,7 и 8."
   ]
  },
  {
   "cell_type": "markdown",
   "metadata": {},
   "source": [
    "###  Применение фреймворк RICE для приоритизации гипотез. Сортировка их по убыванию приоритета."
   ]
  },
  {
   "cell_type": "markdown",
   "metadata": {},
   "source": [
    "Посчитаем RICE для гипотез. Добавим полученные значения RICE к существующей таблице. Новый столбец назовем RICE. \n",
    "Выведите из получившейся таблицы столбцы 'Hypothesis' и 'RICE', отсортированные по столбцу 'RICE'. "
   ]
  },
  {
   "cell_type": "code",
   "execution_count": 26,
   "metadata": {},
   "outputs": [
    {
     "data": {
      "text/html": [
       "<div>\n",
       "<style scoped>\n",
       "    .dataframe tbody tr th:only-of-type {\n",
       "        vertical-align: middle;\n",
       "    }\n",
       "\n",
       "    .dataframe tbody tr th {\n",
       "        vertical-align: top;\n",
       "    }\n",
       "\n",
       "    .dataframe thead th {\n",
       "        text-align: right;\n",
       "    }\n",
       "</style>\n",
       "<table border=\"1\" class=\"dataframe\">\n",
       "  <thead>\n",
       "    <tr style=\"text-align: right;\">\n",
       "      <th></th>\n",
       "      <th>Hypothesis</th>\n",
       "      <th>RICE</th>\n",
       "    </tr>\n",
       "  </thead>\n",
       "  <tbody>\n",
       "    <tr>\n",
       "      <th>7</th>\n",
       "      <td>Добавить форму подписки на все основные страницы, чтобы собрать базу клиентов для email-рассылок</td>\n",
       "      <td>112.0</td>\n",
       "    </tr>\n",
       "    <tr>\n",
       "      <th>2</th>\n",
       "      <td>Добавить блоки рекомендаций товаров на сайт интернет магазина, чтобы повысить конверсию и средни...</td>\n",
       "      <td>56.0</td>\n",
       "    </tr>\n",
       "    <tr>\n",
       "      <th>0</th>\n",
       "      <td>Добавить два новых канала привлечения трафика, что позволит привлекать на 30% больше пользователей</td>\n",
       "      <td>40.0</td>\n",
       "    </tr>\n",
       "    <tr>\n",
       "      <th>6</th>\n",
       "      <td>Показать на главной странице баннеры с актуальными акциями и распродажами, чтобы увеличить конве...</td>\n",
       "      <td>40.0</td>\n",
       "    </tr>\n",
       "    <tr>\n",
       "      <th>8</th>\n",
       "      <td>Запустить акцию, дающую скидку на товар в день рождения</td>\n",
       "      <td>16.2</td>\n",
       "    </tr>\n",
       "    <tr>\n",
       "      <th>3</th>\n",
       "      <td>Изменить структура категорий, что увеличит конверсию, т.к. пользователи быстрее найдут нужный товар</td>\n",
       "      <td>9.0</td>\n",
       "    </tr>\n",
       "    <tr>\n",
       "      <th>1</th>\n",
       "      <td>Запустить собственную службу доставки, что сократит срок доставки заказов</td>\n",
       "      <td>4.0</td>\n",
       "    </tr>\n",
       "    <tr>\n",
       "      <th>5</th>\n",
       "      <td>Добавить страницу отзывов клиентов о магазине, что позволит увеличить количество заказов</td>\n",
       "      <td>4.0</td>\n",
       "    </tr>\n",
       "    <tr>\n",
       "      <th>4</th>\n",
       "      <td>Изменить цвет фона главной страницы, чтобы увеличить вовлеченность пользователей</td>\n",
       "      <td>3.0</td>\n",
       "    </tr>\n",
       "  </tbody>\n",
       "</table>\n",
       "</div>"
      ],
      "text/plain": [
       "                                                                                            Hypothesis  \\\n",
       "7     Добавить форму подписки на все основные страницы, чтобы собрать базу клиентов для email-рассылок   \n",
       "2  Добавить блоки рекомендаций товаров на сайт интернет магазина, чтобы повысить конверсию и средни...   \n",
       "0   Добавить два новых канала привлечения трафика, что позволит привлекать на 30% больше пользователей   \n",
       "6  Показать на главной странице баннеры с актуальными акциями и распродажами, чтобы увеличить конве...   \n",
       "8                                              Запустить акцию, дающую скидку на товар в день рождения   \n",
       "3  Изменить структура категорий, что увеличит конверсию, т.к. пользователи быстрее найдут нужный товар   \n",
       "1                            Запустить собственную службу доставки, что сократит срок доставки заказов   \n",
       "5             Добавить страницу отзывов клиентов о магазине, что позволит увеличить количество заказов   \n",
       "4                     Изменить цвет фона главной страницы, чтобы увеличить вовлеченность пользователей   \n",
       "\n",
       "    RICE  \n",
       "7  112.0  \n",
       "2   56.0  \n",
       "0   40.0  \n",
       "6   40.0  \n",
       "8   16.2  \n",
       "3    9.0  \n",
       "1    4.0  \n",
       "5    4.0  \n",
       "4    3.0  "
      ]
     },
     "metadata": {},
     "output_type": "display_data"
    }
   ],
   "source": [
    "data['RICE'] = (data['Reach']*data['Impact']*data['Confidence'])/data['Efforts']\n",
    "display(data[['Hypothesis','RICE']].sort_values(by='RICE', ascending=False))"
   ]
  },
  {
   "cell_type": "markdown",
   "metadata": {},
   "source": [
    "Теперь в лидерах гипотеза с индексом 7, за ней идут 2, 0 и 6."
   ]
  },
  {
   "cell_type": "markdown",
   "metadata": {},
   "source": [
    "###  Как и почему изменилась приоритизация гипотез при применении RICE вместо ICE"
   ]
  },
  {
   "cell_type": "markdown",
   "metadata": {},
   "source": [
    "При применении RICE лидером среди гипотез стала гипотеза с индексом 7, как и в случае с применением ICE. Предлагаю вывести на экран всю таблицу и внимательно её изучить:"
   ]
  },
  {
   "cell_type": "code",
   "execution_count": 27,
   "metadata": {},
   "outputs": [
    {
     "data": {
      "text/html": [
       "<div>\n",
       "<style scoped>\n",
       "    .dataframe tbody tr th:only-of-type {\n",
       "        vertical-align: middle;\n",
       "    }\n",
       "\n",
       "    .dataframe tbody tr th {\n",
       "        vertical-align: top;\n",
       "    }\n",
       "\n",
       "    .dataframe thead th {\n",
       "        text-align: right;\n",
       "    }\n",
       "</style>\n",
       "<table border=\"1\" class=\"dataframe\">\n",
       "  <thead>\n",
       "    <tr style=\"text-align: right;\">\n",
       "      <th></th>\n",
       "      <th>Hypothesis</th>\n",
       "      <th>Reach</th>\n",
       "      <th>Impact</th>\n",
       "      <th>Confidence</th>\n",
       "      <th>Efforts</th>\n",
       "      <th>ICE</th>\n",
       "      <th>RICE</th>\n",
       "    </tr>\n",
       "  </thead>\n",
       "  <tbody>\n",
       "    <tr>\n",
       "      <th>0</th>\n",
       "      <td>Добавить два новых канала привлечения трафика, что позволит привлекать на 30% больше пользователей</td>\n",
       "      <td>3</td>\n",
       "      <td>10</td>\n",
       "      <td>8</td>\n",
       "      <td>6</td>\n",
       "      <td>13.33</td>\n",
       "      <td>40.0</td>\n",
       "    </tr>\n",
       "    <tr>\n",
       "      <th>1</th>\n",
       "      <td>Запустить собственную службу доставки, что сократит срок доставки заказов</td>\n",
       "      <td>2</td>\n",
       "      <td>5</td>\n",
       "      <td>4</td>\n",
       "      <td>10</td>\n",
       "      <td>2.00</td>\n",
       "      <td>4.0</td>\n",
       "    </tr>\n",
       "    <tr>\n",
       "      <th>2</th>\n",
       "      <td>Добавить блоки рекомендаций товаров на сайт интернет магазина, чтобы повысить конверсию и средни...</td>\n",
       "      <td>8</td>\n",
       "      <td>3</td>\n",
       "      <td>7</td>\n",
       "      <td>3</td>\n",
       "      <td>7.00</td>\n",
       "      <td>56.0</td>\n",
       "    </tr>\n",
       "    <tr>\n",
       "      <th>3</th>\n",
       "      <td>Изменить структура категорий, что увеличит конверсию, т.к. пользователи быстрее найдут нужный товар</td>\n",
       "      <td>8</td>\n",
       "      <td>3</td>\n",
       "      <td>3</td>\n",
       "      <td>8</td>\n",
       "      <td>1.12</td>\n",
       "      <td>9.0</td>\n",
       "    </tr>\n",
       "    <tr>\n",
       "      <th>4</th>\n",
       "      <td>Изменить цвет фона главной страницы, чтобы увеличить вовлеченность пользователей</td>\n",
       "      <td>3</td>\n",
       "      <td>1</td>\n",
       "      <td>1</td>\n",
       "      <td>1</td>\n",
       "      <td>1.00</td>\n",
       "      <td>3.0</td>\n",
       "    </tr>\n",
       "    <tr>\n",
       "      <th>5</th>\n",
       "      <td>Добавить страницу отзывов клиентов о магазине, что позволит увеличить количество заказов</td>\n",
       "      <td>3</td>\n",
       "      <td>2</td>\n",
       "      <td>2</td>\n",
       "      <td>3</td>\n",
       "      <td>1.33</td>\n",
       "      <td>4.0</td>\n",
       "    </tr>\n",
       "    <tr>\n",
       "      <th>6</th>\n",
       "      <td>Показать на главной странице баннеры с актуальными акциями и распродажами, чтобы увеличить конве...</td>\n",
       "      <td>5</td>\n",
       "      <td>3</td>\n",
       "      <td>8</td>\n",
       "      <td>3</td>\n",
       "      <td>8.00</td>\n",
       "      <td>40.0</td>\n",
       "    </tr>\n",
       "    <tr>\n",
       "      <th>7</th>\n",
       "      <td>Добавить форму подписки на все основные страницы, чтобы собрать базу клиентов для email-рассылок</td>\n",
       "      <td>10</td>\n",
       "      <td>7</td>\n",
       "      <td>8</td>\n",
       "      <td>5</td>\n",
       "      <td>11.20</td>\n",
       "      <td>112.0</td>\n",
       "    </tr>\n",
       "    <tr>\n",
       "      <th>8</th>\n",
       "      <td>Запустить акцию, дающую скидку на товар в день рождения</td>\n",
       "      <td>1</td>\n",
       "      <td>9</td>\n",
       "      <td>9</td>\n",
       "      <td>5</td>\n",
       "      <td>16.20</td>\n",
       "      <td>16.2</td>\n",
       "    </tr>\n",
       "  </tbody>\n",
       "</table>\n",
       "</div>"
      ],
      "text/plain": [
       "                                                                                            Hypothesis  \\\n",
       "0   Добавить два новых канала привлечения трафика, что позволит привлекать на 30% больше пользователей   \n",
       "1                            Запустить собственную службу доставки, что сократит срок доставки заказов   \n",
       "2  Добавить блоки рекомендаций товаров на сайт интернет магазина, чтобы повысить конверсию и средни...   \n",
       "3  Изменить структура категорий, что увеличит конверсию, т.к. пользователи быстрее найдут нужный товар   \n",
       "4                     Изменить цвет фона главной страницы, чтобы увеличить вовлеченность пользователей   \n",
       "5             Добавить страницу отзывов клиентов о магазине, что позволит увеличить количество заказов   \n",
       "6  Показать на главной странице баннеры с актуальными акциями и распродажами, чтобы увеличить конве...   \n",
       "7     Добавить форму подписки на все основные страницы, чтобы собрать базу клиентов для email-рассылок   \n",
       "8                                              Запустить акцию, дающую скидку на товар в день рождения   \n",
       "\n",
       "   Reach  Impact  Confidence  Efforts    ICE   RICE  \n",
       "0      3      10           8        6  13.33   40.0  \n",
       "1      2       5           4       10   2.00    4.0  \n",
       "2      8       3           7        3   7.00   56.0  \n",
       "3      8       3           3        8   1.12    9.0  \n",
       "4      3       1           1        1   1.00    3.0  \n",
       "5      3       2           2        3   1.33    4.0  \n",
       "6      5       3           8        3   8.00   40.0  \n",
       "7     10       7           8        5  11.20  112.0  \n",
       "8      1       9           9        5  16.20   16.2  "
      ]
     },
     "execution_count": 27,
     "metadata": {},
     "output_type": "execute_result"
    }
   ],
   "source": [
    "data"
   ]
  },
  {
   "cell_type": "markdown",
   "metadata": {},
   "source": [
    "ICE и RICE отличаются между собой. Фреймворк RICE реагирует в том числе и на количество пользователей, которых затронут изминения, изложенные в гипотезе. Эта информация отражается в параметре Reach. \n",
    " \n",
    "Параметр Reach у гипотезы с индексом 7 самый большой (10), за ней идут гипотезы 2 и 3 (8). Следовательно, охват пользователей у этих гипотез больше, что и оказывает влияние на приоретизацию. С учетом всего вышесказанного я бы выбрала для анализа именно гипотезу с индексом 7, так как не учитывать то, как много пользователей она затрагивает при всех прочих вводных, считаю нецелесообразным."
   ]
  },
  {
   "cell_type": "markdown",
   "metadata": {},
   "source": [
    "Вывод: мы провели первую часть работы - преоретизация гипотез. Для этого мы использовала фреймворки ICE и RICE. Результаты в обоих случаях не сильно противоречили друг другу по причине различий в параметрах. Я бы рекомендовала обязательно учитывать то, как много пользователей затрагивает гипотеза, поэтому мой фаворит - гипотеза с индексом 7. "
   ]
  },
  {
   "cell_type": "markdown",
   "metadata": {},
   "source": [
    "##  Часть 2. Анализ А/В-теста."
   ]
  },
  {
   "cell_type": "markdown",
   "metadata": {},
   "source": [
    "###   Построим график кумулятивной выручки по группам."
   ]
  },
  {
   "cell_type": "markdown",
   "metadata": {},
   "source": [
    "Чтобы построить графики, нужно собрать кумулятивные данные. Объявим датафрейм cumulativeData со столбцами:\n",
    "date — дата;\n",
    "group — группа A/B-теста (A или B);\n",
    "orders — кумулятивное количество заказов на указанную дату в указанной группе;\n",
    "buyers — кумулятивное количество пользователей, совершивших хотя бы один заказ, на указанную дату в указанной группе;\n",
    "revenue — кумулятивная выручка на указанную дату в указанной группе (средний чек);\n",
    "visitors — кумулятивное количество посетителей интернет-магазина на указанную дату в определённой группе."
   ]
  },
  {
   "cell_type": "code",
   "execution_count": 28,
   "metadata": {},
   "outputs": [
    {
     "name": "stdout",
     "output_type": "stream",
     "text": [
      "        date group  orders  buyers  revenue  visitors\n",
      "0 2019-08-01     A      24      20   148579       719\n",
      "1 2019-08-01     B      21      20   101217       713\n",
      "2 2019-08-02     A      44      38   242401      1338\n",
      "3 2019-08-02     B      45      43   266748      1294\n",
      "4 2019-08-03     A      68      62   354874      1845\n"
     ]
    }
   ],
   "source": [
    "# создаем массив уникальных пар значений дат и групп теста\n",
    "datesGroups = orders[['date','group']].drop_duplicates()\n",
    "\n",
    "# получаем агрегированные кумулятивные по дням данные о заказах \n",
    "ordersAggregated = datesGroups.apply(lambda x: orders[np.logical_and(orders['date'] <= x['date'], orders['group'] == x['group'])].agg({'date' : 'max', 'group' : 'max', 'orderId' : 'nunique', 'userId' : 'nunique', 'revenue' : 'sum'}), axis=1).sort_values(by=['date','group'])\n",
    "\n",
    "# получаем агрегированные кумулятивные по дням данные о посетителях интернет-магазина \n",
    "visitorsAggregated = datesGroups.apply(lambda x: visitors[np.logical_and(visitors['date'] <= x['date'], visitors['group'] == x['group'])].agg({'date' : 'max', 'group' : 'max', 'visitors' : 'sum'}), axis=1).sort_values(by=['date','group'])\n",
    "\n",
    "# объединяем кумулятивные данные в одной таблице и присваиваем ее столбцам понятные названия\n",
    "cumulativeData = ordersAggregated.merge(visitorsAggregated, left_on=['date', 'group'], right_on=['date', 'group'])\n",
    "cumulativeData.columns = ['date', 'group', 'orders', 'buyers', 'revenue', 'visitors']\n",
    "\n",
    "print(cumulativeData.head(5)) "
   ]
  },
  {
   "cell_type": "markdown",
   "metadata": {},
   "source": [
    "Построим графики кумулятивной выручки по дням и группам A/B-тестирования:"
   ]
  },
  {
   "cell_type": "code",
   "execution_count": 29,
   "metadata": {},
   "outputs": [
    {
     "data": {
      "image/png": "[encoded data removed]",
      "text/plain": [
       "<Figure size 720x360 with 1 Axes>"
      ]
     },
     "metadata": {
      "needs_background": "light"
     },
     "output_type": "display_data"
    }
   ],
   "source": [
    "# датафрейм с кумулятивным количеством заказов и кумулятивной выручкой по дням в группе А\n",
    "cumulativeRevenueA = cumulativeData[cumulativeData['group']=='A'][['date','revenue', 'orders']]\n",
    "\n",
    "# датафрейм с кумулятивным количеством заказов и кумулятивной выручкой по дням в группе B\n",
    "cumulativeRevenueB = cumulativeData[cumulativeData['group']=='B'][['date','revenue', 'orders']]\n",
    "plt.figure(figsize=(10,5))\n",
    "# Строим график выручки группы А\n",
    "plt.plot(cumulativeRevenueA['date'], cumulativeRevenueA['revenue'], label='A')\n",
    "\n",
    "# Строим график выручки группы B\n",
    "plt.plot(cumulativeRevenueB['date'], cumulativeRevenueB['revenue'], label='B')\n",
    "\n",
    "plt.xticks(rotation=90)\n",
    "plt.title('Графики кумулятивной выручки по дням и группам A/B-тестирования') \n",
    "plt.xlabel('Дата')\n",
    "plt.ylabel('Выручка')\n",
    "plt.legend()\n",
    "\n",
    "plt.show()"
   ]
  },
  {
   "cell_type": "markdown",
   "metadata": {},
   "source": [
    "Выручка почти равномерно увеличивается в течение всего теста. Однако графики выручки обеих групп в нескольких точках резко растут. Это может сигнализировать о всплесках числа заказов, либо о появлении очень дорогих заказов в выборке. "
   ]
  },
  {
   "cell_type": "markdown",
   "metadata": {},
   "source": [
    "### Построим график кумулятивного среднего чека по группам."
   ]
  },
  {
   "cell_type": "markdown",
   "metadata": {},
   "source": [
    "Построим графики среднего чека по группам — разделим кумулятивную выручку на кумулятивное число заказов:"
   ]
  },
  {
   "cell_type": "code",
   "execution_count": 30,
   "metadata": {},
   "outputs": [
    {
     "data": {
      "image/png": "[encoded data removed]",
      "text/plain": [
       "<Figure size 720x360 with 1 Axes>"
      ]
     },
     "metadata": {
      "needs_background": "light"
     },
     "output_type": "display_data"
    }
   ],
   "source": [
    "plt.figure(figsize=(10,5))\n",
    "plt.plot(cumulativeRevenueA['date'], cumulativeRevenueA['revenue']/cumulativeRevenueA['orders'], label='A')\n",
    "plt.plot(cumulativeRevenueB['date'], cumulativeRevenueB['revenue']/cumulativeRevenueB['orders'], label='B')\n",
    "plt.xticks(rotation=90)\n",
    "plt.title('График кумулятивного среднего чека по группам') \n",
    "plt.xlabel('Дата')\n",
    "plt.ylabel('Средний чек')\n",
    "plt.legend() \n",
    "plt.show()"
   ]
  },
  {
   "cell_type": "markdown",
   "metadata": {},
   "source": [
    "Средний чек в обеих группах \"лихорадило\" на протяжении практически всего теста. После 17 августа произошел резкий скачек среднего чека в группе В (возможно большой заказ привел к тому, что нужно больше данных, чтобы прийти к реальному среднему чеку и установиться на его уровне), затем спад и после 29 августа в обеих группах средний чек стабилизируется. "
   ]
  },
  {
   "cell_type": "markdown",
   "metadata": {},
   "source": [
    "### Построим график относительного изменения кумулятивного среднего чека группы B к группе A. "
   ]
  },
  {
   "cell_type": "code",
   "execution_count": 31,
   "metadata": {},
   "outputs": [
    {
     "data": {
      "image/png": "[encoded data removed]",
      "text/plain": [
       "<Figure size 720x360 with 1 Axes>"
      ]
     },
     "metadata": {
      "needs_background": "light"
     },
     "output_type": "display_data"
    }
   ],
   "source": [
    "# собираем данные в одном датафрейме\n",
    "mergedCumulativeRevenue = cumulativeRevenueA.merge(cumulativeRevenueB, left_on='date', right_on='date', how='left', suffixes=['A', 'B'])\n",
    "plt.figure(figsize=(10,5))\n",
    "# cтроим отношение средних чеков\n",
    "plt.plot(mergedCumulativeRevenue['date'], (mergedCumulativeRevenue['revenueB']/mergedCumulativeRevenue['ordersB'])/(mergedCumulativeRevenue['revenueA']/mergedCumulativeRevenue['ordersA'])-1)\n",
    "\n",
    "plt.xticks(rotation=90)\n",
    "\n",
    "# добавляем ось X\n",
    "plt.axhline(y=0, color='black', linestyle='--') \n",
    "\n",
    "plt.title('График относительного изменения кумулятивного среднего чека группы B к группе A') \n",
    "plt.xlabel('Дата')\n",
    "plt.show()"
   ]
  },
  {
   "cell_type": "markdown",
   "metadata": {},
   "source": [
    "В нескольких точках график различия между сегментами резко «скачет». Предполагаю, что спрятались крупные заказы и выбросы."
   ]
  },
  {
   "cell_type": "markdown",
   "metadata": {},
   "source": [
    "### Построим график кумулятивной конверсии по группам. "
   ]
  },
  {
   "cell_type": "code",
   "execution_count": 32,
   "metadata": {},
   "outputs": [
    {
     "data": {
      "image/png": "[encoded data removed]",
      "text/plain": [
       "<Figure size 720x360 with 1 Axes>"
      ]
     },
     "metadata": {
      "needs_background": "light"
     },
     "output_type": "display_data"
    }
   ],
   "source": [
    "# считаем кумулятивную конверсию\n",
    "cumulativeData['conversion'] = cumulativeData['orders']/cumulativeData['visitors']\n",
    "# отделяем данные по группе A\n",
    "cumulativeDataA = cumulativeData[cumulativeData['group']=='A']\n",
    "# отделяем данные по группе B\n",
    "cumulativeDataB = cumulativeData[cumulativeData['group']=='B']\n",
    "# строим графики\n",
    "plt.figure(figsize=(10,5))\n",
    "\n",
    "plt.plot(cumulativeDataA['date'], cumulativeDataA['conversion'], label='A')\n",
    "plt.plot(cumulativeDataB['date'], cumulativeDataB['conversion'], label='B')\n",
    "plt.xticks(rotation=90)\n",
    "plt.legend()\n",
    "# задаем масштаб осей\n",
    "plt.axis([dt.datetime.strptime('2019-08-01', '%Y-%m-%d'), dt.datetime.strptime('2019-09-01', '%Y-%m-%d'), 0.025, 0.040])\n",
    "\n",
    "plt.title('График кумулятивной конверсии по группам') \n",
    "plt.xlabel('Дата')\n",
    "plt.ylabel('Конверсия')\n",
    "plt.show()\n",
    "\n",
    "\n"
   ]
  },
  {
   "cell_type": "markdown",
   "metadata": {},
   "source": [
    "В начале эксперимента обе конверсии совершили небольшой  скачек, затем с группе А конверсия пошла на убывание и с продолжением времени установилась, в то время как в группе В она подросла и тоже установилась."
   ]
  },
  {
   "cell_type": "markdown",
   "metadata": {},
   "source": [
    "### Построим график относительного изменения кумулятивной конверсии группы B к группе A."
   ]
  },
  {
   "cell_type": "code",
   "execution_count": 33,
   "metadata": {},
   "outputs": [
    {
     "data": {
      "image/png": "[encoded data removed]",
      "text/plain": [
       "<Figure size 720x360 with 1 Axes>"
      ]
     },
     "metadata": {
      "needs_background": "light"
     },
     "output_type": "display_data"
    }
   ],
   "source": [
    "mergedCumulativeConversions = cumulativeDataA[['date','conversion']].merge(cumulativeDataB[['date','conversion']], left_on='date', right_on='date', how='left', suffixes=['A', 'B'])\n",
    "plt.figure(figsize=(10,5))\n",
    "plt.plot(mergedCumulativeConversions['date'], mergedCumulativeConversions['conversionB']/mergedCumulativeConversions['conversionA']-1, label=\"Относительный прирост конверсии группы B относительно группы A\")\n",
    "plt.xticks(rotation=90)\n",
    "plt.legend()\n",
    "\n",
    "plt.axhline(y=0, color='black', linestyle='--')\n",
    "plt.axhline(y=-0.1, color='grey', linestyle='--')\n",
    "plt.axis([dt.datetime.strptime('2019-08-01', '%Y-%m-%d'), dt.datetime.strptime('2019-09-01', '%Y-%m-%d'), -0.2, 0.3])\n",
    "\n",
    "plt.title('График относительного изменения кумулятивной конверсии группы B к группе A') \n",
    "plt.xlabel('Дата')\n",
    "\n",
    "plt.show()\n"
   ]
  },
  {
   "cell_type": "markdown",
   "metadata": {},
   "source": [
    "В начале теста группа B значительно проигрывала группе A, затем вырвалась вперёд и снова упала, затем начала стабильно опережать группу А и на продолжении теста оставалась в лидерах."
   ]
  },
  {
   "cell_type": "markdown",
   "metadata": {},
   "source": [
    "### Построим точечный график количества заказов по пользователям."
   ]
  },
  {
   "cell_type": "markdown",
   "metadata": {},
   "source": [
    "Для этого нам понадобится датасет orders. "
   ]
  },
  {
   "cell_type": "code",
   "execution_count": 34,
   "metadata": {},
   "outputs": [
    {
     "name": "stdout",
     "output_type": "stream",
     "text": [
      "          userId  orders\n",
      "1023  4256040402      11\n",
      "591   2458001652      11\n",
      "569   2378935119       9\n",
      "487   2038680547       8\n",
      "44     199603092       5\n",
      "744   3062433592       5\n",
      "55     237748145       5\n",
      "917   3803269165       5\n",
      "299   1230306981       5\n",
      "897   3717692402       5\n"
     ]
    }
   ],
   "source": [
    "ordersByUsers = (\n",
    "    orders.groupby('userId', as_index=False)\n",
    "    .agg({'orderId': 'nunique'})\n",
    ")\n",
    "\n",
    "ordersByUsers.columns = ['userId', 'orders']\n",
    "\n",
    "print(ordersByUsers.sort_values(by='orders', ascending=False).head(10)) "
   ]
  },
  {
   "cell_type": "markdown",
   "metadata": {},
   "source": [
    "Построим точечную диаграмму числа заказов на одного пользователя:"
   ]
  },
  {
   "cell_type": "code",
   "execution_count": 35,
   "metadata": {},
   "outputs": [
    {
     "data": {
      "image/png": "[encoded data removed]",
      "text/plain": [
       "<Figure size 720x360 with 1 Axes>"
      ]
     },
     "metadata": {
      "needs_background": "light"
     },
     "output_type": "display_data"
    }
   ],
   "source": [
    "x_values = pd.Series(range(0,len(ordersByUsers)))\n",
    "plt.figure(figsize=(10,5))\n",
    "plt.title('Точечная диаграмма числа заказов на одного пользователя') \n",
    "plt.xlabel('Пользователи')\n",
    "plt.ylabel('Заказы')\n",
    "\n",
    "plt.scatter(x_values, ordersByUsers['orders'])\n",
    "plt.show()"
   ]
  },
  {
   "cell_type": "markdown",
   "metadata": {},
   "source": [
    "Мы видим значительные выбросы. Хотелось бы взглянуть и на гисторгамму тоже:"
   ]
  },
  {
   "cell_type": "code",
   "execution_count": 36,
   "metadata": {},
   "outputs": [
    {
     "data": {
      "image/png": "[encoded data removed]",
      "text/plain": [
       "<Figure size 720x360 with 1 Axes>"
      ]
     },
     "metadata": {
      "needs_background": "light"
     },
     "output_type": "display_data"
    }
   ],
   "source": [
    "plt.figure(figsize=(10,5))\n",
    "plt.hist(ordersByUsers['orders'])\n",
    "plt.title('Гистограмма числа заказов на одного пользователя') \n",
    "plt.xlabel('Заказы')\n",
    "plt.ylabel('Пользователи')\n",
    "plt.show()"
   ]
  },
  {
   "cell_type": "markdown",
   "metadata": {},
   "source": [
    "Большинство покупателей заказывают до 2-х раз. Много пользователей с 3-4 заказами. Их точная доля не ясна — непонятно, считать их аномалиями или нет."
   ]
  },
  {
   "cell_type": "markdown",
   "metadata": {},
   "source": [
    "### Посчитаем 95-й и 99-й перцентили количества заказов на пользователя. Выберем границу для определения аномальных пользователей."
   ]
  },
  {
   "cell_type": "code",
   "execution_count": 37,
   "metadata": {},
   "outputs": [
    {
     "name": "stdout",
     "output_type": "stream",
     "text": [
      "[2. 4.]\n"
     ]
    }
   ],
   "source": [
    "print(np.percentile(ordersByUsers['orders'], [95, 99])) "
   ]
  },
  {
   "cell_type": "markdown",
   "metadata": {},
   "source": [
    "Теперь стало ясно, что не более 5% клиентов делали 2 заказа и не более 1% - 4. Разумно выбрать 2 заказа на одного пользователя за верхнюю границу числа заказов, и отсеять аномальных пользователей по ней. "
   ]
  },
  {
   "cell_type": "markdown",
   "metadata": {},
   "source": [
    "### Построим точечный график стоимостей заказов."
   ]
  },
  {
   "cell_type": "code",
   "execution_count": 38,
   "metadata": {},
   "outputs": [
    {
     "data": {
      "image/png": "[encoded data removed]",
      "text/plain": [
       "<Figure size 720x360 with 1 Axes>"
      ]
     },
     "metadata": {
      "needs_background": "light"
     },
     "output_type": "display_data"
    }
   ],
   "source": [
    "x_values = pd.Series(range(0,len(orders['revenue'])))\n",
    "plt.figure(figsize=(10,5))\n",
    "plt.scatter(x_values, orders['revenue'])\n",
    "plt.title('Точечный график стоимостей заказов') \n",
    "plt.xlabel('Заказы')\n",
    "plt.ylabel('Стоимость')\n",
    "plt.show()"
   ]
  },
  {
   "cell_type": "markdown",
   "metadata": {},
   "source": [
    "Мы видим 2 больших заказа (выброса). Теперь установим лимит для оси y и посмотрим информацию более детально."
   ]
  },
  {
   "cell_type": "code",
   "execution_count": 39,
   "metadata": {},
   "outputs": [
    {
     "data": {
      "image/png": "[encoded data removed]",
      "text/plain": [
       "<Figure size 720x360 with 1 Axes>"
      ]
     },
     "metadata": {
      "needs_background": "light"
     },
     "output_type": "display_data"
    }
   ],
   "source": [
    "x_values = pd.Series(range(0,len(orders['revenue'])))\n",
    "plt.figure(figsize=(10,5))\n",
    "plt.scatter(x_values, orders['revenue'])\n",
    "plt.ylim([0, 200000])\n",
    "plt.title('Точечный график стоимостей заказов') \n",
    "plt.xlabel('Заказы')\n",
    "plt.ylabel('Стоимость')\n",
    "plt.show()"
   ]
  },
  {
   "cell_type": "markdown",
   "metadata": {},
   "source": [
    "Всё, как предполагали: есть немного дорогих заказов. По графику можно выбрать границу аномальных заказов между 25 000 и 50 000 рублей. Однако принято отсеивать от 1% до 5% наблюдений с крайними значениями."
   ]
  },
  {
   "cell_type": "markdown",
   "metadata": {},
   "source": [
    "### Посчитаем 95-й и 99-й перцентили стоимости заказов. Выберем границу для определения аномальных заказов."
   ]
  },
  {
   "cell_type": "code",
   "execution_count": 40,
   "metadata": {},
   "outputs": [
    {
     "name": "stdout",
     "output_type": "stream",
     "text": [
      "[28000.  58233.2]\n"
     ]
    }
   ],
   "source": [
    "print(np.percentile(orders['revenue'], [95, 99])) "
   ]
  },
  {
   "cell_type": "markdown",
   "metadata": {},
   "source": [
    "Получается, что всего 5% заказов имеют стоимость выше 28000, и всего 1% - более 58233.2. Здесь и будет проходить граница аномальных заказов."
   ]
  },
  {
   "cell_type": "markdown",
   "metadata": {},
   "source": [
    "### Посчитаем статистическую значимость различий в конверсии между группами по «сырым» данным. "
   ]
  },
  {
   "cell_type": "markdown",
   "metadata": {},
   "source": [
    "Сформулируем нулевую и альтернативную гипотезы:\n",
    "- Н0: статистически значимых различий в конверсии между группами нет\n",
    "- Н1:статистически значимые различия в конверсии между группами есть\n",
    "\n",
    "Будем проверять сначала на \"сырых\" данных, потом \"почистим\" и проверим снова.\n",
    "\n",
    "Мы будем проверять гипотезы критерием Манна-Уитни. В данных очевидно есть выбросы, поэтому для проверки мы выбрали этот критерий."
   ]
  },
  {
   "cell_type": "code",
   "execution_count": 41,
   "metadata": {},
   "outputs": [
    {
     "name": "stdout",
     "output_type": "stream",
     "text": [
      "P-value: 0.017\n",
      "Относительная разница в сравниваемых величинах: 0.138\n"
     ]
    }
   ],
   "source": [
    "# Создадим переменные ordersByUsersA и ordersByUsersB со столбцами 'userId', 'orders'. \n",
    "# В них для пользователей, которые заказывали хотя бы 1 раз, укажем число совершённых заказов и конверсию.\n",
    "ordersByUsersA = (\n",
    "    orders[orders['group'] == 'A']\n",
    "    .groupby('userId', as_index=False)\n",
    "    .agg({'orderId': pd.Series.nunique})\n",
    ")\n",
    "ordersByUsersA.columns = ['userId', 'orders']\n",
    "\n",
    "\n",
    "ordersByUsersB = (\n",
    "    orders[orders['group'] == 'B']\n",
    "    .groupby('userId', as_index=False)\n",
    "    .agg({'orderId': pd.Series.nunique})\n",
    ")\n",
    "ordersByUsersB.columns = ['userId', 'orders'] \n",
    "\n",
    "#подготовим выборки с количеством заказов на пользователя\n",
    "visitors_daily_A = visitors[visitors['group'] == 'A'][['date', 'visitors']]\n",
    "visitors_daily_A.columns = ['date', 'visitors_A']\n",
    " \n",
    "visitors_daily_B = visitors[visitors['group'] == 'B'][['date', 'visitors']]\n",
    "visitors_daily_B.columns = ['date', 'visitors_B']\n",
    " \n",
    " \n",
    "sampleA = pd.concat(\n",
    "    [\n",
    "        ordersByUsersA['orders'],\n",
    "        pd.Series(\n",
    "            0,\n",
    "            index=np.arange(\n",
    "                visitors_daily_A['visitors_A'].sum() - len(ordersByUsersA['orders'])\n",
    "            ),\n",
    "            name='orders',\n",
    "        ),\n",
    "    ],\n",
    "    axis=0,\n",
    ")\n",
    " \n",
    "sampleB = pd.concat(\n",
    "    [\n",
    "        ordersByUsersB['orders'],\n",
    "        pd.Series(\n",
    "            0,\n",
    "            index=np.arange(\n",
    "                visitors_daily_B['visitors_B'].sum() - len(ordersByUsersB['orders'])\n",
    "            ),\n",
    "            name='orders',\n",
    "        ),\n",
    "    ],\n",
    "    axis=0,\n",
    ")\n",
    " \n",
    " \n",
    "print('P-value:', \"{0:.3f}\".format(stats.mannwhitneyu(sampleA, sampleB)[1]))\n",
    "print('Относительная разница в сравниваемых величинах:', \"{0:.3f}\".format(sampleB.mean() / sampleA.mean() - 1))"
   ]
  },
  {
   "cell_type": "markdown",
   "metadata": {},
   "source": [
    "Первое число — p-value = 0.017 меньше 0.05. Значит, нулевую гипотезу отвергаем. Относительный проигрыш группы B равен 13,8% — второе число в выводе."
   ]
  },
  {
   "cell_type": "markdown",
   "metadata": {},
   "source": [
    "### Посчитаем статистическую значимость различий в среднем чеке заказа между группами по «сырым» данным."
   ]
  },
  {
   "cell_type": "markdown",
   "metadata": {},
   "source": [
    "Сформулируем нулевую и альтернативную гипотезы:\n",
    "Н0: статистически значимых различий в среднем чеке между группами нет\n",
    "Н1:статистически значимые различия в среднем чеке между группами есть\n",
    "\n",
    "Сначала будем проверять гипотезы на \"сырых\" данных, потом \"почистим\" и посмотрим, что измениться."
   ]
  },
  {
   "cell_type": "code",
   "execution_count": 42,
   "metadata": {},
   "outputs": [
    {
     "name": "stdout",
     "output_type": "stream",
     "text": [
      "P-value: 0.729\n",
      "Относительная разница в сравниваемых величинах: 0.259\n"
     ]
    }
   ],
   "source": [
    "print('P-value:','{0:.3f}'.format(stats.mannwhitneyu(orders[orders['group']=='A']['revenue'], orders[orders['group']=='B']['revenue'])[1]))\n",
    "print('Относительная разница в сравниваемых величинах:','{0:.3f}'.format(orders[orders['group']=='B']['revenue'].mean()/orders[orders['group']=='A']['revenue'].mean()-1)) "
   ]
  },
  {
   "cell_type": "markdown",
   "metadata": {},
   "source": [
    "P-value значительно больше 0.05. Значит, причин отвергать нулевую гипотезу и считать, что в среднем чеке есть различия, нет. Впрочем, относительный проигрыш группы B 25,9%. Посмотрим, что будет после \"чистки\" данных."
   ]
  },
  {
   "cell_type": "markdown",
   "metadata": {},
   "source": [
    "### Посчитаем статистическую значимость различий в конверсии между группами по «очищенным» данным. "
   ]
  },
  {
   "cell_type": "markdown",
   "metadata": {},
   "source": [
    "Узнаем, сколько всего аномальных пользователей:"
   ]
  },
  {
   "cell_type": "code",
   "execution_count": 43,
   "metadata": {},
   "outputs": [
    {
     "name": "stdout",
     "output_type": "stream",
     "text": [
      "1099    148427295\n",
      "18      199603092\n",
      "928     204675465\n",
      "23      237748145\n",
      "37      249864742\n",
      "Name: userId, dtype: int64\n",
      "74\n"
     ]
    }
   ],
   "source": [
    "usersWithManyOrders = pd.concat(\n",
    "    [\n",
    "        ordersByUsersA[ordersByUsersA['orders'] > np.percentile(ordersByUsers['orders'], 95)]['userId'],\n",
    "        ordersByUsersB[ordersByUsersB['orders'] > np.percentile(ordersByUsers['orders'], 95)]['userId'],\n",
    "    ],\n",
    "    axis=0,\n",
    ")\n",
    "usersWithExpensiveOrders = orders[orders['revenue'] > np.percentile(orders['revenue'], 95)]['userId']\n",
    "abnormalUsers = (\n",
    "    pd.concat([usersWithManyOrders, usersWithExpensiveOrders], axis=0)\n",
    "    .drop_duplicates()\n",
    "    .sort_values()\n",
    ")\n",
    "print(abnormalUsers.head(5))\n",
    "print(abnormalUsers.shape[0]) "
   ]
  },
  {
   "cell_type": "code",
   "execution_count": 44,
   "metadata": {},
   "outputs": [
    {
     "name": "stdout",
     "output_type": "stream",
     "text": [
      "Процент потерь пользователей составил: 7.18 %\n"
     ]
    }
   ],
   "source": [
    "print('Процент потерь пользователей составил:', round(len(abnormalUsers.index.tolist()) / orders['userId'].nunique() * 100, 2), '%')"
   ]
  },
  {
   "cell_type": "markdown",
   "metadata": {},
   "source": [
    "Всего 74 аномальных пользователей - это 7,18% пользователей."
   ]
  },
  {
   "cell_type": "markdown",
   "metadata": {},
   "source": [
    "Узнаем, как их действия повлияли на результаты теста. Посчитаем статистическую значимость различий в конверсии между группами теста по очищенным данным. Сначала подготовим выборки с конверсиями:"
   ]
  },
  {
   "cell_type": "code",
   "execution_count": 45,
   "metadata": {},
   "outputs": [],
   "source": [
    "sampleAFiltered = pd.concat(\n",
    "    [\n",
    "        ordersByUsersA[\n",
    "            np.logical_not(ordersByUsersA['userId'].isin(abnormalUsers))\n",
    "        ]['orders'],\n",
    "        pd.Series(\n",
    "            0,\n",
    "            index=np.arange(\n",
    "                 visitors_daily_A['visitors_A'].sum() - len(ordersByUsersA['orders'])\n",
    "            ),\n",
    "            name='orders',\n",
    "        ),\n",
    "    ],\n",
    "    axis=0,\n",
    ")\n",
    "\n",
    "sampleBFiltered = pd.concat(\n",
    "    [\n",
    "        ordersByUsersB[\n",
    "            np.logical_not(ordersByUsersB['userId'].isin(abnormalUsers))\n",
    "        ]['orders'],\n",
    "        pd.Series(\n",
    "            0,\n",
    "            index=np.arange(\n",
    "                visitors_daily_B['visitors_B'].sum() - len(ordersByUsersB['orders'])\n",
    "            ),\n",
    "            name='orders',\n",
    "        ),\n",
    "    ],\n",
    "    axis=0,\n",
    ") "
   ]
  },
  {
   "cell_type": "markdown",
   "metadata": {},
   "source": [
    "Применим статистический критерий Манна-Уитни к полученным выборкам:"
   ]
  },
  {
   "cell_type": "code",
   "execution_count": 46,
   "metadata": {},
   "outputs": [
    {
     "name": "stdout",
     "output_type": "stream",
     "text": [
      "P-value: 0.013\n",
      "Относительная разница в сравниваемых величинах: 0.173\n"
     ]
    }
   ],
   "source": [
    "print('P-value:','{0:.3f}'.format(stats.mannwhitneyu(sampleAFiltered, sampleBFiltered)[1]))\n",
    "print('Относительная разница в сравниваемых величинах:','{0:.3f}'.format(sampleBFiltered.mean()/sampleAFiltered.mean()-1)) "
   ]
  },
  {
   "cell_type": "markdown",
   "metadata": {},
   "source": [
    "P-value значительно меньше 0.05. Значит, стоит отвергнуть нулевую гипотезу и считать, что в конверсии есть различия. Впрочем, относительный проигрыш группы В - 17,3% "
   ]
  },
  {
   "cell_type": "markdown",
   "metadata": {},
   "source": [
    "P-value при \"очистке\" данных остался значительно ниже 0.05 - значит причины отвергать нулевую гипотезу есть, относительный проигрыш увеличился до 17,3% с 13,8%. Вот так изменилась ситуация после \"очистки\" данных."
   ]
  },
  {
   "cell_type": "markdown",
   "metadata": {},
   "source": [
    "### Посчитаем статистическую значимость различий в среднем чеке заказа между группами по «очищенным» данным. "
   ]
  },
  {
   "cell_type": "code",
   "execution_count": 47,
   "metadata": {
    "scrolled": true
   },
   "outputs": [
    {
     "name": "stdout",
     "output_type": "stream",
     "text": [
      "P-value: 0.738\n",
      "Относительная разница в сравниваемых величинах: -0.020\n"
     ]
    }
   ],
   "source": [
    "print(\n",
    "    'P-value:',\n",
    "    '{0:.3f}'.format(\n",
    "        stats.mannwhitneyu(\n",
    "            orders[\n",
    "                np.logical_and(\n",
    "                    orders['group'] == 'A',\n",
    "                    np.logical_not(orders['userId'].isin(abnormalUsers)),\n",
    "                )\n",
    "            ]['revenue'],\n",
    "            orders[\n",
    "                np.logical_and(\n",
    "                    orders['group'] == 'B',\n",
    "                    np.logical_not(orders['userId'].isin(abnormalUsers)),\n",
    "                )\n",
    "            ]['revenue'],\n",
    "        )[1]\n",
    "    )\n",
    ")\n",
    "\n",
    "print(\n",
    "    'Относительная разница в сравниваемых величинах:',\n",
    "    \"{0:.3f}\".format(\n",
    "        orders[\n",
    "            np.logical_and(\n",
    "                orders['group'] == 'B',\n",
    "                np.logical_not(orders['userId'].isin(abnormalUsers)),\n",
    "            )\n",
    "        ]['revenue'].mean()\n",
    "        / orders[\n",
    "            np.logical_and(\n",
    "                orders['group'] == 'A',\n",
    "                np.logical_not(orders['userId'].isin(abnormalUsers)),\n",
    "            )\n",
    "        ]['revenue'].mean()\n",
    "        - 1\n",
    "    )\n",
    ") "
   ]
  },
  {
   "cell_type": "markdown",
   "metadata": {},
   "source": [
    "P-value сильно не изменился и остался больше 0.05. Значит, причин отвергать нулевую гипотезу и считать, что в среднем чеке есть различия, нет. Впрочем, проигрыш группы B в меньшую сторону относительно группы A прилично увеличился превратился в небольшое лидирование в 2%, что подтверждает наш вывод."
   ]
  },
  {
   "cell_type": "markdown",
   "metadata": {},
   "source": [
    "После \"очистки\" данных p-value вырос с 0,729 до 0,947, что закрепило нас в уверенности в том, что нулевую гипотезу отвергать не стоит. Что касается отставания группы В, то теперь она вырвалась вперед (с 25,9% отставания до 2% лидирования) - вот как сильно были \"засорены\" данные."
   ]
  },
  {
   "cell_type": "markdown",
   "metadata": {},
   "source": [
    "### Примем решение по результатам теста."
   ]
  },
  {
   "cell_type": "markdown",
   "metadata": {},
   "source": [
    "Аномалий в данных было 7,18, и если говорить о среднем чеке, то p-value в \"сырых\" и \"чистых\" данных критически не изменился, а вот отставание группы В в 25,9% после проработки аномалий превратились в лидирование, хоть и небольшое - 1,6%. Можно прийти к выводу, что критических различий по среднему чеку между группами нет.\n",
    "\n",
    "Что касается конверсий, то в \"сырых\" данных и в \"очищенных\" есть все причины отвергуть нулевую гипотезу. Различия между группами есть, и после \"очистки\" данных отставание группы В выросло с 13,8% до 17,3%.\n",
    "\n",
    "График различия конверсии между группами сообщает, что в начале теста группа B значительно проигрывала группе A, затем вырвалась вперёд и снова упала, затем начала стабильно опережать группу А и на продолжении теста оставалась в лидерах. Т.о. график близок к стабилизации.\n",
    "\n",
    "График различия среднего чека колеблется: он-то и позволил вам найти аномалии. Сделать из этого графика определённые выводы нельзя. Ожидать, что он стабилизаруется в случае продолжения теста предпосылок нет.\n",
    "\n",
    "По всем вышеперечисленным причинам можно прийти к выводу, что статистически важных различий между группами не обнаружилось.\n",
    "Предлагаю тест остановить и признать его успешным. Различия между группами в показателе конверсии на лицо - группа А в этом показателе проигрывает с отставанием в 17,3%.\n",
    "\n"
   ]
  }
 ],
 "metadata": {
  "ExecuteTimeLog": [
   {
    "duration": 1311,
    "start_time": "2022-10-26T17:44:31.141Z"
   },
   {
    "duration": 5,
    "start_time": "2022-10-26T17:51:50.073Z"
   },
   {
    "duration": 202,
    "start_time": "2022-10-26T17:53:05.585Z"
   },
   {
    "duration": 1050,
    "start_time": "2022-10-26T17:54:19.789Z"
   },
   {
    "duration": 77,
    "start_time": "2022-10-26T17:54:20.841Z"
   },
   {
    "duration": 1060,
    "start_time": "2022-10-26T17:56:55.733Z"
   },
   {
    "duration": 77,
    "start_time": "2022-10-26T17:56:56.795Z"
   },
   {
    "duration": 11,
    "start_time": "2022-10-26T17:56:56.873Z"
   },
   {
    "duration": 9,
    "start_time": "2022-10-26T17:56:56.886Z"
   },
   {
    "duration": 9,
    "start_time": "2022-10-26T17:56:56.897Z"
   },
   {
    "duration": 12,
    "start_time": "2022-10-26T17:56:56.907Z"
   },
   {
    "duration": 12,
    "start_time": "2022-10-26T17:56:56.921Z"
   },
   {
    "duration": 13,
    "start_time": "2022-10-26T17:56:56.935Z"
   },
   {
    "duration": 7,
    "start_time": "2022-10-26T18:05:05.679Z"
   },
   {
    "duration": 7,
    "start_time": "2022-10-26T18:05:21.964Z"
   },
   {
    "duration": 87,
    "start_time": "2022-10-26T18:06:12.926Z"
   },
   {
    "duration": 7,
    "start_time": "2022-10-26T18:06:40.196Z"
   },
   {
    "duration": 9,
    "start_time": "2022-10-26T18:06:40.887Z"
   },
   {
    "duration": 6,
    "start_time": "2022-10-26T18:06:44.757Z"
   },
   {
    "duration": 8,
    "start_time": "2022-10-26T18:07:15.361Z"
   },
   {
    "duration": 7,
    "start_time": "2022-10-26T18:07:34.992Z"
   },
   {
    "duration": 1044,
    "start_time": "2022-10-26T18:08:33.943Z"
   },
   {
    "duration": 76,
    "start_time": "2022-10-26T18:08:34.989Z"
   },
   {
    "duration": 10,
    "start_time": "2022-10-26T18:08:35.066Z"
   },
   {
    "duration": 18,
    "start_time": "2022-10-26T18:08:35.078Z"
   },
   {
    "duration": 7,
    "start_time": "2022-10-26T18:08:35.097Z"
   },
   {
    "duration": 18,
    "start_time": "2022-10-26T18:08:35.105Z"
   },
   {
    "duration": 11,
    "start_time": "2022-10-26T18:08:35.124Z"
   },
   {
    "duration": 9,
    "start_time": "2022-10-26T18:08:35.136Z"
   },
   {
    "duration": 12,
    "start_time": "2022-10-26T18:08:35.146Z"
   },
   {
    "duration": 3,
    "start_time": "2022-10-26T18:13:25.981Z"
   },
   {
    "duration": 4,
    "start_time": "2022-10-26T18:15:14.826Z"
   },
   {
    "duration": 88,
    "start_time": "2022-10-26T18:15:16.208Z"
   },
   {
    "duration": 290,
    "start_time": "2022-10-26T18:16:05.016Z"
   },
   {
    "duration": 3,
    "start_time": "2022-10-26T18:16:27.039Z"
   },
   {
    "duration": 4,
    "start_time": "2022-10-26T18:16:36.529Z"
   },
   {
    "duration": 5,
    "start_time": "2022-10-26T18:17:18.090Z"
   },
   {
    "duration": 10,
    "start_time": "2022-10-26T18:17:49.116Z"
   },
   {
    "duration": 6,
    "start_time": "2022-10-26T18:18:19.266Z"
   },
   {
    "duration": 1088,
    "start_time": "2022-10-26T18:19:41.391Z"
   },
   {
    "duration": 5,
    "start_time": "2022-10-26T18:19:44.563Z"
   },
   {
    "duration": 1067,
    "start_time": "2022-10-26T18:19:46.158Z"
   },
   {
    "duration": 10,
    "start_time": "2022-10-26T18:20:34.115Z"
   },
   {
    "duration": 1040,
    "start_time": "2022-10-26T18:27:55.856Z"
   },
   {
    "duration": 77,
    "start_time": "2022-10-26T18:27:56.898Z"
   },
   {
    "duration": 9,
    "start_time": "2022-10-26T18:27:56.977Z"
   },
   {
    "duration": 13,
    "start_time": "2022-10-26T18:27:56.988Z"
   },
   {
    "duration": 7,
    "start_time": "2022-10-26T18:27:57.003Z"
   },
   {
    "duration": 9,
    "start_time": "2022-10-26T18:27:57.012Z"
   },
   {
    "duration": 13,
    "start_time": "2022-10-26T18:27:57.023Z"
   },
   {
    "duration": 7,
    "start_time": "2022-10-26T18:27:57.038Z"
   },
   {
    "duration": 5,
    "start_time": "2022-10-26T18:27:57.046Z"
   },
   {
    "duration": 8,
    "start_time": "2022-10-26T18:27:57.053Z"
   },
   {
    "duration": 13,
    "start_time": "2022-10-26T18:27:57.062Z"
   },
   {
    "duration": 10,
    "start_time": "2022-10-26T18:27:57.077Z"
   },
   {
    "duration": 34,
    "start_time": "2022-10-26T18:27:57.088Z"
   },
   {
    "duration": 8,
    "start_time": "2022-10-26T18:27:57.123Z"
   },
   {
    "duration": 12,
    "start_time": "2022-10-26T18:27:57.132Z"
   },
   {
    "duration": 4,
    "start_time": "2022-10-26T18:29:44.920Z"
   },
   {
    "duration": 3,
    "start_time": "2022-10-26T18:30:04.221Z"
   },
   {
    "duration": 5,
    "start_time": "2022-10-26T18:30:04.789Z"
   },
   {
    "duration": 9,
    "start_time": "2022-10-26T18:30:17.969Z"
   },
   {
    "duration": 1054,
    "start_time": "2022-10-26T18:30:42.232Z"
   },
   {
    "duration": 77,
    "start_time": "2022-10-26T18:30:43.288Z"
   },
   {
    "duration": 12,
    "start_time": "2022-10-26T18:30:43.369Z"
   },
   {
    "duration": 11,
    "start_time": "2022-10-26T18:30:43.382Z"
   },
   {
    "duration": 8,
    "start_time": "2022-10-26T18:30:43.394Z"
   },
   {
    "duration": 10,
    "start_time": "2022-10-26T18:30:43.404Z"
   },
   {
    "duration": 11,
    "start_time": "2022-10-26T18:30:43.415Z"
   },
   {
    "duration": 4,
    "start_time": "2022-10-26T18:30:43.427Z"
   },
   {
    "duration": 4,
    "start_time": "2022-10-26T18:30:43.433Z"
   },
   {
    "duration": 7,
    "start_time": "2022-10-26T18:30:43.438Z"
   },
   {
    "duration": 12,
    "start_time": "2022-10-26T18:30:43.447Z"
   },
   {
    "duration": 13,
    "start_time": "2022-10-26T18:30:43.460Z"
   },
   {
    "duration": 10,
    "start_time": "2022-10-26T18:30:43.474Z"
   },
   {
    "duration": 7,
    "start_time": "2022-10-26T18:30:43.485Z"
   },
   {
    "duration": 34,
    "start_time": "2022-10-26T18:30:43.493Z"
   },
   {
    "duration": 4,
    "start_time": "2022-10-26T18:30:43.528Z"
   },
   {
    "duration": 8,
    "start_time": "2022-10-26T18:30:43.533Z"
   },
   {
    "duration": 10,
    "start_time": "2022-10-26T18:30:43.542Z"
   },
   {
    "duration": 1179,
    "start_time": "2022-10-26T18:33:05.096Z"
   },
   {
    "duration": 9,
    "start_time": "2022-10-26T18:34:11.444Z"
   },
   {
    "duration": 9,
    "start_time": "2022-10-26T18:36:14.992Z"
   },
   {
    "duration": 9,
    "start_time": "2022-10-26T18:38:40.468Z"
   },
   {
    "duration": 8,
    "start_time": "2022-10-26T18:40:45.464Z"
   },
   {
    "duration": 7,
    "start_time": "2022-10-26T18:41:27.421Z"
   },
   {
    "duration": 10,
    "start_time": "2022-10-26T18:43:57.187Z"
   },
   {
    "duration": 1080,
    "start_time": "2022-10-26T18:48:44.417Z"
   },
   {
    "duration": 79,
    "start_time": "2022-10-26T18:48:45.499Z"
   },
   {
    "duration": 11,
    "start_time": "2022-10-26T18:48:45.579Z"
   },
   {
    "duration": 10,
    "start_time": "2022-10-26T18:48:45.592Z"
   },
   {
    "duration": 6,
    "start_time": "2022-10-26T18:48:45.603Z"
   },
   {
    "duration": 12,
    "start_time": "2022-10-26T18:48:45.611Z"
   },
   {
    "duration": 12,
    "start_time": "2022-10-26T18:48:45.624Z"
   },
   {
    "duration": 8,
    "start_time": "2022-10-26T18:48:45.637Z"
   },
   {
    "duration": 4,
    "start_time": "2022-10-26T18:48:45.646Z"
   },
   {
    "duration": 8,
    "start_time": "2022-10-26T18:48:45.652Z"
   },
   {
    "duration": 12,
    "start_time": "2022-10-26T18:48:45.662Z"
   },
   {
    "duration": 7,
    "start_time": "2022-10-26T18:48:45.676Z"
   },
   {
    "duration": 13,
    "start_time": "2022-10-26T18:48:45.684Z"
   },
   {
    "duration": 25,
    "start_time": "2022-10-26T18:48:45.699Z"
   },
   {
    "duration": 14,
    "start_time": "2022-10-26T18:48:45.726Z"
   },
   {
    "duration": 7,
    "start_time": "2022-10-26T18:48:45.741Z"
   },
   {
    "duration": 8,
    "start_time": "2022-10-26T18:48:45.750Z"
   },
   {
    "duration": 11,
    "start_time": "2022-10-26T18:48:45.760Z"
   },
   {
    "duration": 9,
    "start_time": "2022-10-26T18:48:45.773Z"
   },
   {
    "duration": 9,
    "start_time": "2022-10-26T18:48:45.784Z"
   },
   {
    "duration": 32,
    "start_time": "2022-10-26T18:48:45.795Z"
   },
   {
    "duration": 1140,
    "start_time": "2022-10-26T18:50:09.319Z"
   },
   {
    "duration": 81,
    "start_time": "2022-10-26T18:50:10.461Z"
   },
   {
    "duration": 14,
    "start_time": "2022-10-26T18:50:10.544Z"
   },
   {
    "duration": 13,
    "start_time": "2022-10-26T18:50:10.560Z"
   },
   {
    "duration": 14,
    "start_time": "2022-10-26T18:50:10.575Z"
   },
   {
    "duration": 15,
    "start_time": "2022-10-26T18:50:10.591Z"
   },
   {
    "duration": 20,
    "start_time": "2022-10-26T18:50:10.609Z"
   },
   {
    "duration": 12,
    "start_time": "2022-10-26T18:50:10.631Z"
   },
   {
    "duration": 11,
    "start_time": "2022-10-26T18:50:10.645Z"
   },
   {
    "duration": 15,
    "start_time": "2022-10-26T18:50:10.659Z"
   },
   {
    "duration": 25,
    "start_time": "2022-10-26T18:50:10.677Z"
   },
   {
    "duration": 19,
    "start_time": "2022-10-26T18:50:10.704Z"
   },
   {
    "duration": 29,
    "start_time": "2022-10-26T18:50:10.726Z"
   },
   {
    "duration": 12,
    "start_time": "2022-10-26T18:50:10.757Z"
   },
   {
    "duration": 20,
    "start_time": "2022-10-26T18:50:10.771Z"
   },
   {
    "duration": 9,
    "start_time": "2022-10-26T18:50:10.793Z"
   },
   {
    "duration": 23,
    "start_time": "2022-10-26T18:50:10.804Z"
   },
   {
    "duration": 23,
    "start_time": "2022-10-26T18:50:10.830Z"
   },
   {
    "duration": 11,
    "start_time": "2022-10-26T18:50:10.856Z"
   },
   {
    "duration": 8,
    "start_time": "2022-10-26T18:50:10.868Z"
   },
   {
    "duration": 24,
    "start_time": "2022-10-26T18:50:10.878Z"
   },
   {
    "duration": 368,
    "start_time": "2022-10-26T18:53:12.739Z"
   },
   {
    "duration": 304,
    "start_time": "2022-10-26T18:53:36.905Z"
   },
   {
    "duration": 295,
    "start_time": "2022-10-26T18:53:45.089Z"
   },
   {
    "duration": 6,
    "start_time": "2022-10-26T18:53:53.572Z"
   },
   {
    "duration": 255,
    "start_time": "2022-10-26T19:01:56.714Z"
   },
   {
    "duration": 223,
    "start_time": "2022-10-26T19:03:08.052Z"
   },
   {
    "duration": 142,
    "start_time": "2022-10-26T19:05:16.784Z"
   },
   {
    "duration": 151,
    "start_time": "2022-10-26T19:10:20.039Z"
   },
   {
    "duration": 152,
    "start_time": "2022-10-26T19:10:34.985Z"
   },
   {
    "duration": 155,
    "start_time": "2022-10-26T19:10:48.099Z"
   },
   {
    "duration": 157,
    "start_time": "2022-10-26T19:11:01.988Z"
   },
   {
    "duration": 1093,
    "start_time": "2022-10-26T19:14:18.795Z"
   },
   {
    "duration": 78,
    "start_time": "2022-10-26T19:14:19.890Z"
   },
   {
    "duration": 9,
    "start_time": "2022-10-26T19:14:19.969Z"
   },
   {
    "duration": 9,
    "start_time": "2022-10-26T19:14:19.980Z"
   },
   {
    "duration": 6,
    "start_time": "2022-10-26T19:14:19.991Z"
   },
   {
    "duration": 8,
    "start_time": "2022-10-26T19:14:19.998Z"
   },
   {
    "duration": 13,
    "start_time": "2022-10-26T19:14:20.007Z"
   },
   {
    "duration": 13,
    "start_time": "2022-10-26T19:14:20.021Z"
   },
   {
    "duration": 5,
    "start_time": "2022-10-26T19:14:20.035Z"
   },
   {
    "duration": 22,
    "start_time": "2022-10-26T19:14:20.042Z"
   },
   {
    "duration": 11,
    "start_time": "2022-10-26T19:14:20.066Z"
   },
   {
    "duration": 8,
    "start_time": "2022-10-26T19:14:20.078Z"
   },
   {
    "duration": 12,
    "start_time": "2022-10-26T19:14:20.087Z"
   },
   {
    "duration": 7,
    "start_time": "2022-10-26T19:14:20.101Z"
   },
   {
    "duration": 14,
    "start_time": "2022-10-26T19:14:20.109Z"
   },
   {
    "duration": 15,
    "start_time": "2022-10-26T19:14:20.125Z"
   },
   {
    "duration": 10,
    "start_time": "2022-10-26T19:14:20.142Z"
   },
   {
    "duration": 10,
    "start_time": "2022-10-26T19:14:20.154Z"
   },
   {
    "duration": 15,
    "start_time": "2022-10-26T19:14:20.166Z"
   },
   {
    "duration": 8,
    "start_time": "2022-10-26T19:14:20.182Z"
   },
   {
    "duration": 11,
    "start_time": "2022-10-26T19:14:20.192Z"
   },
   {
    "duration": 283,
    "start_time": "2022-10-26T19:14:20.205Z"
   },
   {
    "duration": 257,
    "start_time": "2022-10-26T19:14:20.490Z"
   },
   {
    "duration": 165,
    "start_time": "2022-10-26T19:14:20.748Z"
   },
   {
    "duration": 259,
    "start_time": "2022-10-26T19:15:33.999Z"
   },
   {
    "duration": 256,
    "start_time": "2022-10-26T19:15:51.933Z"
   },
   {
    "duration": 254,
    "start_time": "2022-10-26T19:21:22.100Z"
   },
   {
    "duration": 167,
    "start_time": "2022-10-26T19:23:06.572Z"
   },
   {
    "duration": 233,
    "start_time": "2022-10-26T19:23:13.657Z"
   },
   {
    "duration": 206,
    "start_time": "2022-10-26T19:24:10.948Z"
   },
   {
    "duration": 169,
    "start_time": "2022-10-26T19:25:01.141Z"
   },
   {
    "duration": 258,
    "start_time": "2022-10-26T19:26:54.355Z"
   },
   {
    "duration": 268,
    "start_time": "2022-10-26T19:27:24.285Z"
   },
   {
    "duration": 244,
    "start_time": "2022-10-26T19:32:25.906Z"
   },
   {
    "duration": 290,
    "start_time": "2022-10-26T19:34:59.772Z"
   },
   {
    "duration": 1032,
    "start_time": "2022-10-26T19:36:42.060Z"
   },
   {
    "duration": 78,
    "start_time": "2022-10-26T19:36:43.094Z"
   },
   {
    "duration": 12,
    "start_time": "2022-10-26T19:36:43.173Z"
   },
   {
    "duration": 10,
    "start_time": "2022-10-26T19:36:43.187Z"
   },
   {
    "duration": 5,
    "start_time": "2022-10-26T19:36:43.198Z"
   },
   {
    "duration": 9,
    "start_time": "2022-10-26T19:36:43.204Z"
   },
   {
    "duration": 10,
    "start_time": "2022-10-26T19:36:43.214Z"
   },
   {
    "duration": 8,
    "start_time": "2022-10-26T19:36:43.225Z"
   },
   {
    "duration": 5,
    "start_time": "2022-10-26T19:36:43.234Z"
   },
   {
    "duration": 5,
    "start_time": "2022-10-26T19:36:43.242Z"
   },
   {
    "duration": 12,
    "start_time": "2022-10-26T19:36:43.248Z"
   },
   {
    "duration": 5,
    "start_time": "2022-10-26T19:36:43.262Z"
   },
   {
    "duration": 11,
    "start_time": "2022-10-26T19:36:43.269Z"
   },
   {
    "duration": 7,
    "start_time": "2022-10-26T19:36:43.281Z"
   },
   {
    "duration": 37,
    "start_time": "2022-10-26T19:36:43.289Z"
   },
   {
    "duration": 3,
    "start_time": "2022-10-26T19:36:43.328Z"
   },
   {
    "duration": 7,
    "start_time": "2022-10-26T19:36:43.333Z"
   },
   {
    "duration": 11,
    "start_time": "2022-10-26T19:36:43.341Z"
   },
   {
    "duration": 11,
    "start_time": "2022-10-26T19:36:43.353Z"
   },
   {
    "duration": 8,
    "start_time": "2022-10-26T19:36:43.366Z"
   },
   {
    "duration": 9,
    "start_time": "2022-10-26T19:36:43.376Z"
   },
   {
    "duration": 289,
    "start_time": "2022-10-26T19:36:43.386Z"
   },
   {
    "duration": 232,
    "start_time": "2022-10-26T19:36:43.676Z"
   },
   {
    "duration": 164,
    "start_time": "2022-10-26T19:36:43.910Z"
   },
   {
    "duration": 251,
    "start_time": "2022-10-26T19:36:44.076Z"
   },
   {
    "duration": 172,
    "start_time": "2022-10-26T19:36:44.328Z"
   },
   {
    "duration": 294,
    "start_time": "2022-10-26T19:36:44.501Z"
   },
   {
    "duration": 151,
    "start_time": "2022-10-26T19:37:18.142Z"
   },
   {
    "duration": 5,
    "start_time": "2022-10-26T19:37:53.047Z"
   },
   {
    "duration": 5,
    "start_time": "2022-10-26T19:38:00.750Z"
   },
   {
    "duration": 4,
    "start_time": "2022-10-26T19:38:09.342Z"
   },
   {
    "duration": 227,
    "start_time": "2022-10-26T19:38:39.509Z"
   },
   {
    "duration": 150,
    "start_time": "2022-10-26T19:38:47.415Z"
   },
   {
    "duration": 263,
    "start_time": "2022-10-26T19:39:17.477Z"
   },
   {
    "duration": 276,
    "start_time": "2022-10-26T19:39:27.881Z"
   },
   {
    "duration": 303,
    "start_time": "2022-10-26T19:39:42.106Z"
   },
   {
    "duration": 298,
    "start_time": "2022-10-26T19:40:00.304Z"
   },
   {
    "duration": 168,
    "start_time": "2022-10-26T19:41:48.856Z"
   },
   {
    "duration": 1062,
    "start_time": "2022-10-26T19:51:48.946Z"
   },
   {
    "duration": 78,
    "start_time": "2022-10-26T19:51:50.010Z"
   },
   {
    "duration": 13,
    "start_time": "2022-10-26T19:51:50.089Z"
   },
   {
    "duration": 11,
    "start_time": "2022-10-26T19:51:50.104Z"
   },
   {
    "duration": 13,
    "start_time": "2022-10-26T19:51:50.117Z"
   },
   {
    "duration": 10,
    "start_time": "2022-10-26T19:51:50.131Z"
   },
   {
    "duration": 12,
    "start_time": "2022-10-26T19:51:50.143Z"
   },
   {
    "duration": 5,
    "start_time": "2022-10-26T19:51:50.157Z"
   },
   {
    "duration": 7,
    "start_time": "2022-10-26T19:51:50.163Z"
   },
   {
    "duration": 8,
    "start_time": "2022-10-26T19:51:50.171Z"
   },
   {
    "duration": 12,
    "start_time": "2022-10-26T19:51:50.181Z"
   },
   {
    "duration": 8,
    "start_time": "2022-10-26T19:51:50.194Z"
   },
   {
    "duration": 26,
    "start_time": "2022-10-26T19:51:50.203Z"
   },
   {
    "duration": 7,
    "start_time": "2022-10-26T19:51:50.232Z"
   },
   {
    "duration": 18,
    "start_time": "2022-10-26T19:51:50.240Z"
   },
   {
    "duration": 4,
    "start_time": "2022-10-26T19:51:50.259Z"
   },
   {
    "duration": 8,
    "start_time": "2022-10-26T19:51:50.265Z"
   },
   {
    "duration": 16,
    "start_time": "2022-10-26T19:51:50.275Z"
   },
   {
    "duration": 10,
    "start_time": "2022-10-26T19:51:50.292Z"
   },
   {
    "duration": 8,
    "start_time": "2022-10-26T19:51:50.322Z"
   },
   {
    "duration": 10,
    "start_time": "2022-10-26T19:51:50.332Z"
   },
   {
    "duration": 304,
    "start_time": "2022-10-26T19:51:50.344Z"
   },
   {
    "duration": 259,
    "start_time": "2022-10-26T19:51:50.649Z"
   },
   {
    "duration": 223,
    "start_time": "2022-10-26T19:51:50.910Z"
   },
   {
    "duration": 274,
    "start_time": "2022-10-26T19:51:51.136Z"
   },
   {
    "duration": 171,
    "start_time": "2022-10-26T19:51:51.422Z"
   },
   {
    "duration": 289,
    "start_time": "2022-10-26T19:51:51.594Z"
   },
   {
    "duration": 11,
    "start_time": "2022-10-26T19:55:26.067Z"
   },
   {
    "duration": 94,
    "start_time": "2022-10-26T19:56:34.731Z"
   },
   {
    "duration": 160,
    "start_time": "2022-10-26T20:02:17.856Z"
   },
   {
    "duration": 1075,
    "start_time": "2022-10-26T20:03:51.131Z"
   },
   {
    "duration": 77,
    "start_time": "2022-10-26T20:03:52.208Z"
   },
   {
    "duration": 12,
    "start_time": "2022-10-26T20:03:52.286Z"
   },
   {
    "duration": 13,
    "start_time": "2022-10-26T20:03:52.299Z"
   },
   {
    "duration": 8,
    "start_time": "2022-10-26T20:03:52.314Z"
   },
   {
    "duration": 9,
    "start_time": "2022-10-26T20:03:52.324Z"
   },
   {
    "duration": 11,
    "start_time": "2022-10-26T20:03:52.335Z"
   },
   {
    "duration": 5,
    "start_time": "2022-10-26T20:03:52.348Z"
   },
   {
    "duration": 6,
    "start_time": "2022-10-26T20:03:52.355Z"
   },
   {
    "duration": 11,
    "start_time": "2022-10-26T20:03:52.362Z"
   },
   {
    "duration": 13,
    "start_time": "2022-10-26T20:03:52.374Z"
   },
   {
    "duration": 6,
    "start_time": "2022-10-26T20:03:52.388Z"
   },
   {
    "duration": 27,
    "start_time": "2022-10-26T20:03:52.396Z"
   },
   {
    "duration": 6,
    "start_time": "2022-10-26T20:03:52.426Z"
   },
   {
    "duration": 11,
    "start_time": "2022-10-26T20:03:52.434Z"
   },
   {
    "duration": 6,
    "start_time": "2022-10-26T20:03:52.446Z"
   },
   {
    "duration": 7,
    "start_time": "2022-10-26T20:03:52.453Z"
   },
   {
    "duration": 11,
    "start_time": "2022-10-26T20:03:52.461Z"
   },
   {
    "duration": 11,
    "start_time": "2022-10-26T20:03:52.474Z"
   },
   {
    "duration": 7,
    "start_time": "2022-10-26T20:03:52.487Z"
   },
   {
    "duration": 8,
    "start_time": "2022-10-26T20:03:52.522Z"
   },
   {
    "duration": 264,
    "start_time": "2022-10-26T20:03:52.531Z"
   },
   {
    "duration": 235,
    "start_time": "2022-10-26T20:03:52.797Z"
   },
   {
    "duration": 161,
    "start_time": "2022-10-26T20:03:53.034Z"
   },
   {
    "duration": 287,
    "start_time": "2022-10-26T20:03:53.197Z"
   },
   {
    "duration": 181,
    "start_time": "2022-10-26T20:03:53.485Z"
   },
   {
    "duration": 265,
    "start_time": "2022-10-26T20:03:53.667Z"
   },
   {
    "duration": 8,
    "start_time": "2022-10-26T20:03:53.933Z"
   },
   {
    "duration": 116,
    "start_time": "2022-10-26T20:03:53.943Z"
   },
   {
    "duration": 167,
    "start_time": "2022-10-26T20:03:54.061Z"
   },
   {
    "duration": 4,
    "start_time": "2022-10-26T20:04:47.832Z"
   },
   {
    "duration": 116,
    "start_time": "2022-10-26T20:09:52.701Z"
   },
   {
    "duration": 363,
    "start_time": "2022-10-26T20:11:21.405Z"
   },
   {
    "duration": 10,
    "start_time": "2022-10-26T20:13:10.154Z"
   },
   {
    "duration": 128,
    "start_time": "2022-10-26T20:13:17.313Z"
   },
   {
    "duration": 131,
    "start_time": "2022-10-26T20:13:53.330Z"
   },
   {
    "duration": 4,
    "start_time": "2022-10-26T20:15:24.650Z"
   },
   {
    "duration": 3,
    "start_time": "2022-10-26T20:16:00.239Z"
   },
   {
    "duration": 4,
    "start_time": "2022-10-26T20:16:09.359Z"
   },
   {
    "duration": 1100,
    "start_time": "2022-10-26T20:19:07.391Z"
   },
   {
    "duration": 76,
    "start_time": "2022-10-26T20:19:08.493Z"
   },
   {
    "duration": 11,
    "start_time": "2022-10-26T20:19:08.571Z"
   },
   {
    "duration": 10,
    "start_time": "2022-10-26T20:19:08.584Z"
   },
   {
    "duration": 9,
    "start_time": "2022-10-26T20:19:08.595Z"
   },
   {
    "duration": 9,
    "start_time": "2022-10-26T20:19:08.606Z"
   },
   {
    "duration": 11,
    "start_time": "2022-10-26T20:19:08.617Z"
   },
   {
    "duration": 7,
    "start_time": "2022-10-26T20:19:08.630Z"
   },
   {
    "duration": 5,
    "start_time": "2022-10-26T20:19:08.638Z"
   },
   {
    "duration": 7,
    "start_time": "2022-10-26T20:19:08.645Z"
   },
   {
    "duration": 12,
    "start_time": "2022-10-26T20:19:08.653Z"
   },
   {
    "duration": 8,
    "start_time": "2022-10-26T20:19:08.666Z"
   },
   {
    "duration": 12,
    "start_time": "2022-10-26T20:19:08.675Z"
   },
   {
    "duration": 7,
    "start_time": "2022-10-26T20:19:08.688Z"
   },
   {
    "duration": 9,
    "start_time": "2022-10-26T20:19:08.722Z"
   },
   {
    "duration": 5,
    "start_time": "2022-10-26T20:19:08.732Z"
   },
   {
    "duration": 8,
    "start_time": "2022-10-26T20:19:08.738Z"
   },
   {
    "duration": 11,
    "start_time": "2022-10-26T20:19:08.747Z"
   },
   {
    "duration": 9,
    "start_time": "2022-10-26T20:19:08.759Z"
   },
   {
    "duration": 7,
    "start_time": "2022-10-26T20:19:08.770Z"
   },
   {
    "duration": 9,
    "start_time": "2022-10-26T20:19:08.778Z"
   },
   {
    "duration": 299,
    "start_time": "2022-10-26T20:19:08.788Z"
   },
   {
    "duration": 242,
    "start_time": "2022-10-26T20:19:09.089Z"
   },
   {
    "duration": 162,
    "start_time": "2022-10-26T20:19:09.332Z"
   },
   {
    "duration": 276,
    "start_time": "2022-10-26T20:19:09.496Z"
   },
   {
    "duration": 176,
    "start_time": "2022-10-26T20:19:09.774Z"
   },
   {
    "duration": 256,
    "start_time": "2022-10-26T20:19:09.951Z"
   },
   {
    "duration": 14,
    "start_time": "2022-10-26T20:19:10.210Z"
   },
   {
    "duration": 103,
    "start_time": "2022-10-26T20:19:10.226Z"
   },
   {
    "duration": 174,
    "start_time": "2022-10-26T20:19:10.330Z"
   },
   {
    "duration": 16,
    "start_time": "2022-10-26T20:19:10.506Z"
   },
   {
    "duration": 135,
    "start_time": "2022-10-26T20:19:10.524Z"
   },
   {
    "duration": 4,
    "start_time": "2022-10-26T20:19:10.660Z"
   },
   {
    "duration": 9,
    "start_time": "2022-10-26T20:19:10.666Z"
   },
   {
    "duration": 1046,
    "start_time": "2022-10-26T20:22:26.457Z"
   },
   {
    "duration": 76,
    "start_time": "2022-10-26T20:22:27.505Z"
   },
   {
    "duration": 10,
    "start_time": "2022-10-26T20:22:27.583Z"
   },
   {
    "duration": 12,
    "start_time": "2022-10-26T20:22:27.594Z"
   },
   {
    "duration": 8,
    "start_time": "2022-10-26T20:22:27.608Z"
   },
   {
    "duration": 36,
    "start_time": "2022-10-26T20:22:27.617Z"
   },
   {
    "duration": 10,
    "start_time": "2022-10-26T20:22:27.655Z"
   },
   {
    "duration": 13,
    "start_time": "2022-10-26T20:22:27.666Z"
   },
   {
    "duration": 9,
    "start_time": "2022-10-26T20:22:27.680Z"
   },
   {
    "duration": 9,
    "start_time": "2022-10-26T20:22:27.691Z"
   },
   {
    "duration": 17,
    "start_time": "2022-10-26T20:22:27.702Z"
   },
   {
    "duration": 6,
    "start_time": "2022-10-26T20:22:27.721Z"
   },
   {
    "duration": 21,
    "start_time": "2022-10-26T20:22:27.728Z"
   },
   {
    "duration": 6,
    "start_time": "2022-10-26T20:22:27.751Z"
   },
   {
    "duration": 17,
    "start_time": "2022-10-26T20:22:27.759Z"
   },
   {
    "duration": 5,
    "start_time": "2022-10-26T20:22:27.777Z"
   },
   {
    "duration": 8,
    "start_time": "2022-10-26T20:22:27.784Z"
   },
   {
    "duration": 12,
    "start_time": "2022-10-26T20:22:27.793Z"
   },
   {
    "duration": 18,
    "start_time": "2022-10-26T20:22:27.806Z"
   },
   {
    "duration": 11,
    "start_time": "2022-10-26T20:22:27.825Z"
   },
   {
    "duration": 15,
    "start_time": "2022-10-26T20:22:27.838Z"
   },
   {
    "duration": 263,
    "start_time": "2022-10-26T20:22:27.854Z"
   },
   {
    "duration": 222,
    "start_time": "2022-10-26T20:22:28.121Z"
   },
   {
    "duration": 152,
    "start_time": "2022-10-26T20:22:28.345Z"
   },
   {
    "duration": 271,
    "start_time": "2022-10-26T20:22:28.498Z"
   },
   {
    "duration": 189,
    "start_time": "2022-10-26T20:22:28.771Z"
   },
   {
    "duration": 272,
    "start_time": "2022-10-26T20:22:28.961Z"
   },
   {
    "duration": 9,
    "start_time": "2022-10-26T20:22:29.236Z"
   },
   {
    "duration": 127,
    "start_time": "2022-10-26T20:22:29.246Z"
   },
   {
    "duration": 179,
    "start_time": "2022-10-26T20:22:29.374Z"
   },
   {
    "duration": 4,
    "start_time": "2022-10-26T20:22:29.555Z"
   },
   {
    "duration": 144,
    "start_time": "2022-10-26T20:22:29.560Z"
   },
   {
    "duration": 4,
    "start_time": "2022-10-26T20:22:29.705Z"
   },
   {
    "duration": 13,
    "start_time": "2022-10-26T20:22:29.710Z"
   },
   {
    "duration": 404,
    "start_time": "2022-10-26T20:22:29.725Z"
   },
   {
    "duration": 18,
    "start_time": "2022-10-26T20:24:03.674Z"
   },
   {
    "duration": 15,
    "start_time": "2022-10-26T20:25:13.553Z"
   },
   {
    "duration": 20,
    "start_time": "2022-10-26T20:26:35.346Z"
   },
   {
    "duration": 123,
    "start_time": "2022-10-26T20:31:12.815Z"
   },
   {
    "duration": 1542,
    "start_time": "2022-10-26T20:32:23.045Z"
   },
   {
    "duration": 196,
    "start_time": "2022-10-26T20:33:26.150Z"
   },
   {
    "duration": 1143,
    "start_time": "2022-10-26T20:33:26.693Z"
   },
   {
    "duration": 259,
    "start_time": "2022-10-26T20:36:54.496Z"
   },
   {
    "duration": 197,
    "start_time": "2022-10-26T20:37:43.513Z"
   },
   {
    "duration": 9,
    "start_time": "2022-10-26T20:43:11.236Z"
   },
   {
    "duration": 1139,
    "start_time": "2022-10-26T20:44:11.275Z"
   },
   {
    "duration": 82,
    "start_time": "2022-10-26T20:44:12.416Z"
   },
   {
    "duration": 10,
    "start_time": "2022-10-26T20:44:12.500Z"
   },
   {
    "duration": 12,
    "start_time": "2022-10-26T20:44:12.512Z"
   },
   {
    "duration": 12,
    "start_time": "2022-10-26T20:44:12.526Z"
   },
   {
    "duration": 13,
    "start_time": "2022-10-26T20:44:12.540Z"
   },
   {
    "duration": 24,
    "start_time": "2022-10-26T20:44:12.554Z"
   },
   {
    "duration": 8,
    "start_time": "2022-10-26T20:44:12.580Z"
   },
   {
    "duration": 5,
    "start_time": "2022-10-26T20:44:12.589Z"
   },
   {
    "duration": 8,
    "start_time": "2022-10-26T20:44:12.597Z"
   },
   {
    "duration": 16,
    "start_time": "2022-10-26T20:44:12.606Z"
   },
   {
    "duration": 6,
    "start_time": "2022-10-26T20:44:12.625Z"
   },
   {
    "duration": 15,
    "start_time": "2022-10-26T20:44:12.632Z"
   },
   {
    "duration": 7,
    "start_time": "2022-10-26T20:44:12.649Z"
   },
   {
    "duration": 11,
    "start_time": "2022-10-26T20:44:12.657Z"
   },
   {
    "duration": 11,
    "start_time": "2022-10-26T20:44:12.670Z"
   },
   {
    "duration": 8,
    "start_time": "2022-10-26T20:44:12.682Z"
   },
   {
    "duration": 32,
    "start_time": "2022-10-26T20:44:12.691Z"
   },
   {
    "duration": 12,
    "start_time": "2022-10-26T20:44:12.725Z"
   },
   {
    "duration": 8,
    "start_time": "2022-10-26T20:44:12.738Z"
   },
   {
    "duration": 10,
    "start_time": "2022-10-26T20:44:12.748Z"
   },
   {
    "duration": 294,
    "start_time": "2022-10-26T20:44:12.760Z"
   },
   {
    "duration": 245,
    "start_time": "2022-10-26T20:44:13.056Z"
   },
   {
    "duration": 186,
    "start_time": "2022-10-26T20:44:13.302Z"
   },
   {
    "duration": 307,
    "start_time": "2022-10-26T20:44:13.490Z"
   },
   {
    "duration": 193,
    "start_time": "2022-10-26T20:44:13.799Z"
   },
   {
    "duration": 308,
    "start_time": "2022-10-26T20:44:13.994Z"
   },
   {
    "duration": 18,
    "start_time": "2022-10-26T20:44:14.305Z"
   },
   {
    "duration": 112,
    "start_time": "2022-10-26T20:44:14.324Z"
   },
   {
    "duration": 169,
    "start_time": "2022-10-26T20:44:14.437Z"
   },
   {
    "duration": 5,
    "start_time": "2022-10-26T20:44:14.607Z"
   },
   {
    "duration": 140,
    "start_time": "2022-10-26T20:44:14.622Z"
   },
   {
    "duration": 4,
    "start_time": "2022-10-26T20:44:14.763Z"
   },
   {
    "duration": 8,
    "start_time": "2022-10-26T20:44:14.768Z"
   },
   {
    "duration": 199,
    "start_time": "2022-10-26T20:44:14.778Z"
   },
   {
    "duration": 11,
    "start_time": "2022-10-26T20:44:14.978Z"
   },
   {
    "duration": 97,
    "start_time": "2022-10-26T20:46:11.333Z"
   },
   {
    "duration": 16,
    "start_time": "2022-10-26T20:48:13.202Z"
   },
   {
    "duration": 21,
    "start_time": "2022-10-26T20:48:40.081Z"
   },
   {
    "duration": 1095,
    "start_time": "2022-10-26T20:51:32.788Z"
   },
   {
    "duration": 78,
    "start_time": "2022-10-26T20:51:33.885Z"
   },
   {
    "duration": 12,
    "start_time": "2022-10-26T20:51:33.965Z"
   },
   {
    "duration": 11,
    "start_time": "2022-10-26T20:51:33.979Z"
   },
   {
    "duration": 6,
    "start_time": "2022-10-26T20:51:33.991Z"
   },
   {
    "duration": 9,
    "start_time": "2022-10-26T20:51:33.998Z"
   },
   {
    "duration": 13,
    "start_time": "2022-10-26T20:51:34.008Z"
   },
   {
    "duration": 6,
    "start_time": "2022-10-26T20:51:34.022Z"
   },
   {
    "duration": 5,
    "start_time": "2022-10-26T20:51:34.029Z"
   },
   {
    "duration": 7,
    "start_time": "2022-10-26T20:51:34.036Z"
   },
   {
    "duration": 13,
    "start_time": "2022-10-26T20:51:34.045Z"
   },
   {
    "duration": 4,
    "start_time": "2022-10-26T20:51:34.060Z"
   },
   {
    "duration": 13,
    "start_time": "2022-10-26T20:51:34.065Z"
   },
   {
    "duration": 6,
    "start_time": "2022-10-26T20:51:34.079Z"
   },
   {
    "duration": 10,
    "start_time": "2022-10-26T20:51:34.087Z"
   },
   {
    "duration": 26,
    "start_time": "2022-10-26T20:51:34.098Z"
   },
   {
    "duration": 8,
    "start_time": "2022-10-26T20:51:34.126Z"
   },
   {
    "duration": 13,
    "start_time": "2022-10-26T20:51:34.135Z"
   },
   {
    "duration": 10,
    "start_time": "2022-10-26T20:51:34.149Z"
   },
   {
    "duration": 7,
    "start_time": "2022-10-26T20:51:34.160Z"
   },
   {
    "duration": 14,
    "start_time": "2022-10-26T20:51:34.168Z"
   },
   {
    "duration": 263,
    "start_time": "2022-10-26T20:51:34.183Z"
   },
   {
    "duration": 231,
    "start_time": "2022-10-26T20:51:34.447Z"
   },
   {
    "duration": 157,
    "start_time": "2022-10-26T20:51:34.679Z"
   },
   {
    "duration": 253,
    "start_time": "2022-10-26T20:51:34.838Z"
   },
   {
    "duration": 177,
    "start_time": "2022-10-26T20:51:35.092Z"
   },
   {
    "duration": 268,
    "start_time": "2022-10-26T20:51:35.271Z"
   },
   {
    "duration": 9,
    "start_time": "2022-10-26T20:51:35.541Z"
   },
   {
    "duration": 121,
    "start_time": "2022-10-26T20:51:35.552Z"
   },
   {
    "duration": 171,
    "start_time": "2022-10-26T20:51:35.675Z"
   },
   {
    "duration": 3,
    "start_time": "2022-10-26T20:51:35.848Z"
   },
   {
    "duration": 125,
    "start_time": "2022-10-26T20:51:35.853Z"
   },
   {
    "duration": 3,
    "start_time": "2022-10-26T20:51:35.980Z"
   },
   {
    "duration": 14,
    "start_time": "2022-10-26T20:51:35.984Z"
   },
   {
    "duration": 240,
    "start_time": "2022-10-26T20:51:36.000Z"
   },
   {
    "duration": 106,
    "start_time": "2022-10-26T20:51:36.242Z"
   },
   {
    "duration": 0,
    "start_time": "2022-10-26T20:51:36.349Z"
   },
   {
    "duration": 9,
    "start_time": "2022-10-26T20:51:46.309Z"
   },
   {
    "duration": 9,
    "start_time": "2022-10-26T20:56:10.406Z"
   },
   {
    "duration": 21,
    "start_time": "2022-10-26T21:05:21.238Z"
   },
   {
    "duration": 9,
    "start_time": "2022-10-26T21:09:59.312Z"
   },
   {
    "duration": 13,
    "start_time": "2022-10-26T21:12:33.301Z"
   },
   {
    "duration": 9,
    "start_time": "2022-10-26T21:12:42.897Z"
   },
   {
    "duration": 10,
    "start_time": "2022-10-26T21:13:10.540Z"
   },
   {
    "duration": 8,
    "start_time": "2022-10-26T21:13:44.681Z"
   },
   {
    "duration": 19,
    "start_time": "2022-10-26T21:14:47.053Z"
   },
   {
    "duration": 17,
    "start_time": "2022-10-26T21:14:59.585Z"
   },
   {
    "duration": 7,
    "start_time": "2022-10-26T21:15:14.442Z"
   },
   {
    "duration": 7,
    "start_time": "2022-10-26T21:15:23.314Z"
   },
   {
    "duration": 16,
    "start_time": "2022-10-26T21:20:32.082Z"
   },
   {
    "duration": 7,
    "start_time": "2022-10-26T21:21:48.022Z"
   },
   {
    "duration": 6,
    "start_time": "2022-10-26T21:22:16.477Z"
   },
   {
    "duration": 1026,
    "start_time": "2022-10-26T21:24:26.655Z"
   },
   {
    "duration": 77,
    "start_time": "2022-10-26T21:24:27.682Z"
   },
   {
    "duration": 9,
    "start_time": "2022-10-26T21:24:27.761Z"
   },
   {
    "duration": 21,
    "start_time": "2022-10-26T21:24:27.772Z"
   },
   {
    "duration": 22,
    "start_time": "2022-10-26T21:24:27.795Z"
   },
   {
    "duration": 22,
    "start_time": "2022-10-26T21:24:27.818Z"
   },
   {
    "duration": 18,
    "start_time": "2022-10-26T21:24:27.842Z"
   },
   {
    "duration": 18,
    "start_time": "2022-10-26T21:24:27.862Z"
   },
   {
    "duration": 11,
    "start_time": "2022-10-26T21:24:27.882Z"
   },
   {
    "duration": 12,
    "start_time": "2022-10-26T21:24:27.896Z"
   },
   {
    "duration": 21,
    "start_time": "2022-10-26T21:24:27.909Z"
   },
   {
    "duration": 14,
    "start_time": "2022-10-26T21:24:27.931Z"
   },
   {
    "duration": 21,
    "start_time": "2022-10-26T21:24:27.946Z"
   },
   {
    "duration": 15,
    "start_time": "2022-10-26T21:24:27.968Z"
   },
   {
    "duration": 16,
    "start_time": "2022-10-26T21:24:27.984Z"
   },
   {
    "duration": 16,
    "start_time": "2022-10-26T21:24:28.001Z"
   },
   {
    "duration": 26,
    "start_time": "2022-10-26T21:24:28.018Z"
   },
   {
    "duration": 16,
    "start_time": "2022-10-26T21:24:28.046Z"
   },
   {
    "duration": 15,
    "start_time": "2022-10-26T21:24:28.064Z"
   },
   {
    "duration": 8,
    "start_time": "2022-10-26T21:24:28.080Z"
   },
   {
    "duration": 15,
    "start_time": "2022-10-26T21:24:28.089Z"
   },
   {
    "duration": 269,
    "start_time": "2022-10-26T21:24:28.105Z"
   },
   {
    "duration": 228,
    "start_time": "2022-10-26T21:24:28.376Z"
   },
   {
    "duration": 160,
    "start_time": "2022-10-26T21:24:28.606Z"
   },
   {
    "duration": 236,
    "start_time": "2022-10-26T21:24:28.767Z"
   },
   {
    "duration": 193,
    "start_time": "2022-10-26T21:24:29.005Z"
   },
   {
    "duration": 309,
    "start_time": "2022-10-26T21:24:29.200Z"
   },
   {
    "duration": 11,
    "start_time": "2022-10-26T21:24:29.512Z"
   },
   {
    "duration": 129,
    "start_time": "2022-10-26T21:24:29.524Z"
   },
   {
    "duration": 189,
    "start_time": "2022-10-26T21:24:29.655Z"
   },
   {
    "duration": 3,
    "start_time": "2022-10-26T21:24:29.846Z"
   },
   {
    "duration": 141,
    "start_time": "2022-10-26T21:24:29.851Z"
   },
   {
    "duration": 4,
    "start_time": "2022-10-26T21:24:29.994Z"
   },
   {
    "duration": 27,
    "start_time": "2022-10-26T21:24:29.999Z"
   },
   {
    "duration": 213,
    "start_time": "2022-10-26T21:24:30.028Z"
   },
   {
    "duration": 37,
    "start_time": "2022-10-26T21:24:30.243Z"
   },
   {
    "duration": 17,
    "start_time": "2022-10-26T21:24:30.281Z"
   },
   {
    "duration": 114,
    "start_time": "2022-10-26T21:24:30.299Z"
   },
   {
    "duration": 8,
    "start_time": "2022-10-26T21:27:48.998Z"
   },
   {
    "duration": 8,
    "start_time": "2022-10-26T21:28:05.630Z"
   },
   {
    "duration": 37,
    "start_time": "2022-10-26T21:30:44.256Z"
   },
   {
    "duration": 9,
    "start_time": "2022-10-26T21:30:45.087Z"
   },
   {
    "duration": 10,
    "start_time": "2022-10-26T21:30:47.285Z"
   },
   {
    "duration": 21,
    "start_time": "2022-10-26T21:37:45.604Z"
   },
   {
    "duration": 20,
    "start_time": "2022-10-26T21:42:30.419Z"
   },
   {
    "duration": 1058,
    "start_time": "2022-10-26T21:43:12.433Z"
   },
   {
    "duration": 78,
    "start_time": "2022-10-26T21:43:13.492Z"
   },
   {
    "duration": 11,
    "start_time": "2022-10-26T21:43:13.571Z"
   },
   {
    "duration": 9,
    "start_time": "2022-10-26T21:43:13.583Z"
   },
   {
    "duration": 9,
    "start_time": "2022-10-26T21:43:13.594Z"
   },
   {
    "duration": 9,
    "start_time": "2022-10-26T21:43:13.604Z"
   },
   {
    "duration": 15,
    "start_time": "2022-10-26T21:43:13.614Z"
   },
   {
    "duration": 10,
    "start_time": "2022-10-26T21:43:13.630Z"
   },
   {
    "duration": 6,
    "start_time": "2022-10-26T21:43:13.641Z"
   },
   {
    "duration": 12,
    "start_time": "2022-10-26T21:43:13.649Z"
   },
   {
    "duration": 15,
    "start_time": "2022-10-26T21:43:13.663Z"
   },
   {
    "duration": 11,
    "start_time": "2022-10-26T21:43:13.679Z"
   },
   {
    "duration": 12,
    "start_time": "2022-10-26T21:43:13.691Z"
   },
   {
    "duration": 9,
    "start_time": "2022-10-26T21:43:13.706Z"
   },
   {
    "duration": 9,
    "start_time": "2022-10-26T21:43:13.722Z"
   },
   {
    "duration": 5,
    "start_time": "2022-10-26T21:43:13.732Z"
   },
   {
    "duration": 7,
    "start_time": "2022-10-26T21:43:13.738Z"
   },
   {
    "duration": 10,
    "start_time": "2022-10-26T21:43:13.747Z"
   },
   {
    "duration": 13,
    "start_time": "2022-10-26T21:43:13.758Z"
   },
   {
    "duration": 7,
    "start_time": "2022-10-26T21:43:13.772Z"
   },
   {
    "duration": 10,
    "start_time": "2022-10-26T21:43:13.780Z"
   },
   {
    "duration": 277,
    "start_time": "2022-10-26T21:43:13.792Z"
   },
   {
    "duration": 231,
    "start_time": "2022-10-26T21:43:14.071Z"
   },
   {
    "duration": 166,
    "start_time": "2022-10-26T21:43:14.304Z"
   },
   {
    "duration": 218,
    "start_time": "2022-10-26T21:43:14.472Z"
   },
   {
    "duration": 184,
    "start_time": "2022-10-26T21:43:14.692Z"
   },
   {
    "duration": 264,
    "start_time": "2022-10-26T21:43:14.878Z"
   },
   {
    "duration": 8,
    "start_time": "2022-10-26T21:43:15.143Z"
   },
   {
    "duration": 106,
    "start_time": "2022-10-26T21:43:15.152Z"
   },
   {
    "duration": 169,
    "start_time": "2022-10-26T21:43:15.259Z"
   },
   {
    "duration": 3,
    "start_time": "2022-10-26T21:43:15.430Z"
   },
   {
    "duration": 127,
    "start_time": "2022-10-26T21:43:15.435Z"
   },
   {
    "duration": 4,
    "start_time": "2022-10-26T21:43:15.564Z"
   },
   {
    "duration": 10,
    "start_time": "2022-10-26T21:43:15.569Z"
   },
   {
    "duration": 192,
    "start_time": "2022-10-26T21:43:15.580Z"
   },
   {
    "duration": 35,
    "start_time": "2022-10-26T21:43:15.773Z"
   },
   {
    "duration": 18,
    "start_time": "2022-10-26T21:43:15.810Z"
   },
   {
    "duration": 10,
    "start_time": "2022-10-26T21:43:15.830Z"
   },
   {
    "duration": 19,
    "start_time": "2022-10-26T21:43:15.842Z"
   },
   {
    "duration": 8,
    "start_time": "2022-10-26T21:43:15.863Z"
   },
   {
    "duration": 10,
    "start_time": "2022-10-26T21:43:47.853Z"
   },
   {
    "duration": 9,
    "start_time": "2022-10-26T21:44:24.893Z"
   },
   {
    "duration": 1020,
    "start_time": "2022-10-26T21:44:58.467Z"
   },
   {
    "duration": 78,
    "start_time": "2022-10-26T21:44:59.489Z"
   },
   {
    "duration": 9,
    "start_time": "2022-10-26T21:44:59.569Z"
   },
   {
    "duration": 9,
    "start_time": "2022-10-26T21:44:59.580Z"
   },
   {
    "duration": 8,
    "start_time": "2022-10-26T21:44:59.591Z"
   },
   {
    "duration": 12,
    "start_time": "2022-10-26T21:44:59.600Z"
   },
   {
    "duration": 10,
    "start_time": "2022-10-26T21:44:59.613Z"
   },
   {
    "duration": 6,
    "start_time": "2022-10-26T21:44:59.624Z"
   },
   {
    "duration": 4,
    "start_time": "2022-10-26T21:44:59.631Z"
   },
   {
    "duration": 12,
    "start_time": "2022-10-26T21:44:59.637Z"
   },
   {
    "duration": 15,
    "start_time": "2022-10-26T21:44:59.650Z"
   },
   {
    "duration": 15,
    "start_time": "2022-10-26T21:44:59.666Z"
   },
   {
    "duration": 13,
    "start_time": "2022-10-26T21:44:59.682Z"
   },
   {
    "duration": 26,
    "start_time": "2022-10-26T21:44:59.696Z"
   },
   {
    "duration": 23,
    "start_time": "2022-10-26T21:44:59.724Z"
   },
   {
    "duration": 25,
    "start_time": "2022-10-26T21:44:59.749Z"
   },
   {
    "duration": 15,
    "start_time": "2022-10-26T21:44:59.776Z"
   },
   {
    "duration": 22,
    "start_time": "2022-10-26T21:44:59.792Z"
   },
   {
    "duration": 18,
    "start_time": "2022-10-26T21:44:59.816Z"
   },
   {
    "duration": 9,
    "start_time": "2022-10-26T21:44:59.835Z"
   },
   {
    "duration": 19,
    "start_time": "2022-10-26T21:44:59.845Z"
   },
   {
    "duration": 268,
    "start_time": "2022-10-26T21:44:59.865Z"
   },
   {
    "duration": 225,
    "start_time": "2022-10-26T21:45:00.135Z"
   },
   {
    "duration": 163,
    "start_time": "2022-10-26T21:45:00.361Z"
   },
   {
    "duration": 253,
    "start_time": "2022-10-26T21:45:00.525Z"
   },
   {
    "duration": 185,
    "start_time": "2022-10-26T21:45:00.780Z"
   },
   {
    "duration": 260,
    "start_time": "2022-10-26T21:45:00.967Z"
   },
   {
    "duration": 8,
    "start_time": "2022-10-26T21:45:01.229Z"
   },
   {
    "duration": 110,
    "start_time": "2022-10-26T21:45:01.239Z"
   },
   {
    "duration": 162,
    "start_time": "2022-10-26T21:45:01.350Z"
   },
   {
    "duration": 4,
    "start_time": "2022-10-26T21:45:01.521Z"
   },
   {
    "duration": 157,
    "start_time": "2022-10-26T21:45:01.526Z"
   },
   {
    "duration": 5,
    "start_time": "2022-10-26T21:45:01.684Z"
   },
   {
    "duration": 14,
    "start_time": "2022-10-26T21:45:01.690Z"
   },
   {
    "duration": 192,
    "start_time": "2022-10-26T21:45:01.706Z"
   },
   {
    "duration": 39,
    "start_time": "2022-10-26T21:45:01.900Z"
   },
   {
    "duration": 16,
    "start_time": "2022-10-26T21:45:01.941Z"
   },
   {
    "duration": 20,
    "start_time": "2022-10-26T21:45:01.958Z"
   },
   {
    "duration": 23,
    "start_time": "2022-10-26T21:45:01.979Z"
   },
   {
    "duration": 19,
    "start_time": "2022-10-26T21:45:02.003Z"
   },
   {
    "duration": 9,
    "start_time": "2022-10-26T21:45:02.024Z"
   },
   {
    "duration": 8,
    "start_time": "2022-10-26T21:48:13.800Z"
   },
   {
    "duration": 16,
    "start_time": "2022-10-26T21:48:40.672Z"
   },
   {
    "duration": 12,
    "start_time": "2022-10-26T21:49:15.449Z"
   },
   {
    "duration": 1003,
    "start_time": "2022-10-26T21:49:58.773Z"
   },
   {
    "duration": 77,
    "start_time": "2022-10-26T21:49:59.778Z"
   },
   {
    "duration": 9,
    "start_time": "2022-10-26T21:49:59.856Z"
   },
   {
    "duration": 11,
    "start_time": "2022-10-26T21:49:59.867Z"
   },
   {
    "duration": 5,
    "start_time": "2022-10-26T21:49:59.879Z"
   },
   {
    "duration": 8,
    "start_time": "2022-10-26T21:49:59.886Z"
   },
   {
    "duration": 10,
    "start_time": "2022-10-26T21:49:59.895Z"
   },
   {
    "duration": 3,
    "start_time": "2022-10-26T21:49:59.906Z"
   },
   {
    "duration": 4,
    "start_time": "2022-10-26T21:49:59.911Z"
   },
   {
    "duration": 5,
    "start_time": "2022-10-26T21:49:59.918Z"
   },
   {
    "duration": 10,
    "start_time": "2022-10-26T21:49:59.924Z"
   },
   {
    "duration": 5,
    "start_time": "2022-10-26T21:49:59.935Z"
   },
   {
    "duration": 10,
    "start_time": "2022-10-26T21:49:59.941Z"
   },
   {
    "duration": 6,
    "start_time": "2022-10-26T21:49:59.953Z"
   },
   {
    "duration": 11,
    "start_time": "2022-10-26T21:49:59.960Z"
   },
   {
    "duration": 4,
    "start_time": "2022-10-26T21:49:59.972Z"
   },
   {
    "duration": 6,
    "start_time": "2022-10-26T21:49:59.978Z"
   },
   {
    "duration": 10,
    "start_time": "2022-10-26T21:49:59.986Z"
   },
   {
    "duration": 9,
    "start_time": "2022-10-26T21:50:00.022Z"
   },
   {
    "duration": 17,
    "start_time": "2022-10-26T21:50:00.033Z"
   },
   {
    "duration": 16,
    "start_time": "2022-10-26T21:50:00.052Z"
   },
   {
    "duration": 273,
    "start_time": "2022-10-26T21:50:00.069Z"
   },
   {
    "duration": 226,
    "start_time": "2022-10-26T21:50:00.344Z"
   },
   {
    "duration": 157,
    "start_time": "2022-10-26T21:50:00.572Z"
   },
   {
    "duration": 262,
    "start_time": "2022-10-26T21:50:00.731Z"
   },
   {
    "duration": 193,
    "start_time": "2022-10-26T21:50:00.994Z"
   },
   {
    "duration": 309,
    "start_time": "2022-10-26T21:50:01.189Z"
   },
   {
    "duration": 8,
    "start_time": "2022-10-26T21:50:01.500Z"
   },
   {
    "duration": 114,
    "start_time": "2022-10-26T21:50:01.509Z"
   },
   {
    "duration": 155,
    "start_time": "2022-10-26T21:50:01.625Z"
   },
   {
    "duration": 4,
    "start_time": "2022-10-26T21:50:01.782Z"
   },
   {
    "duration": 126,
    "start_time": "2022-10-26T21:50:01.787Z"
   },
   {
    "duration": 8,
    "start_time": "2022-10-26T21:50:01.915Z"
   },
   {
    "duration": 48,
    "start_time": "2022-10-26T21:50:01.925Z"
   },
   {
    "duration": 199,
    "start_time": "2022-10-26T21:50:01.975Z"
   },
   {
    "duration": 33,
    "start_time": "2022-10-26T21:50:02.176Z"
   },
   {
    "duration": 18,
    "start_time": "2022-10-26T21:50:02.210Z"
   },
   {
    "duration": 28,
    "start_time": "2022-10-26T21:50:02.229Z"
   },
   {
    "duration": 47,
    "start_time": "2022-10-26T21:50:02.258Z"
   },
   {
    "duration": 34,
    "start_time": "2022-10-26T21:50:02.307Z"
   },
   {
    "duration": 32,
    "start_time": "2022-10-26T21:50:02.342Z"
   },
   {
    "duration": 35,
    "start_time": "2022-10-26T21:50:02.376Z"
   },
   {
    "duration": 65,
    "start_time": "2022-10-26T21:50:02.413Z"
   },
   {
    "duration": 31,
    "start_time": "2022-10-26T21:50:02.480Z"
   },
   {
    "duration": 1084,
    "start_time": "2022-10-26T21:57:29.546Z"
   },
   {
    "duration": 79,
    "start_time": "2022-10-26T21:57:30.632Z"
   },
   {
    "duration": 11,
    "start_time": "2022-10-26T21:57:30.712Z"
   },
   {
    "duration": 45,
    "start_time": "2022-10-26T21:57:30.725Z"
   },
   {
    "duration": 48,
    "start_time": "2022-10-26T21:57:30.772Z"
   },
   {
    "duration": 56,
    "start_time": "2022-10-26T21:57:30.821Z"
   },
   {
    "duration": 26,
    "start_time": "2022-10-26T21:57:30.879Z"
   },
   {
    "duration": 25,
    "start_time": "2022-10-26T21:57:30.906Z"
   },
   {
    "duration": 27,
    "start_time": "2022-10-26T21:57:30.933Z"
   },
   {
    "duration": 46,
    "start_time": "2022-10-26T21:57:30.962Z"
   },
   {
    "duration": 46,
    "start_time": "2022-10-26T21:57:31.011Z"
   },
   {
    "duration": 37,
    "start_time": "2022-10-26T21:57:31.058Z"
   },
   {
    "duration": 32,
    "start_time": "2022-10-26T21:57:31.096Z"
   },
   {
    "duration": 32,
    "start_time": "2022-10-26T21:57:31.130Z"
   },
   {
    "duration": 46,
    "start_time": "2022-10-26T21:57:31.163Z"
   },
   {
    "duration": 9,
    "start_time": "2022-10-26T21:57:31.210Z"
   },
   {
    "duration": 9,
    "start_time": "2022-10-26T21:57:31.221Z"
   },
   {
    "duration": 39,
    "start_time": "2022-10-26T21:57:31.232Z"
   },
   {
    "duration": 11,
    "start_time": "2022-10-26T21:57:31.273Z"
   },
   {
    "duration": 12,
    "start_time": "2022-10-26T21:57:31.286Z"
   },
   {
    "duration": 32,
    "start_time": "2022-10-26T21:57:31.299Z"
   },
   {
    "duration": 275,
    "start_time": "2022-10-26T21:57:31.332Z"
   },
   {
    "duration": 235,
    "start_time": "2022-10-26T21:57:31.609Z"
   },
   {
    "duration": 177,
    "start_time": "2022-10-26T21:57:31.845Z"
   },
   {
    "duration": 270,
    "start_time": "2022-10-26T21:57:32.024Z"
   },
   {
    "duration": 201,
    "start_time": "2022-10-26T21:57:32.295Z"
   },
   {
    "duration": 326,
    "start_time": "2022-10-26T21:57:32.497Z"
   },
   {
    "duration": 8,
    "start_time": "2022-10-26T21:57:32.827Z"
   },
   {
    "duration": 120,
    "start_time": "2022-10-26T21:57:32.837Z"
   },
   {
    "duration": 179,
    "start_time": "2022-10-26T21:57:32.958Z"
   },
   {
    "duration": 3,
    "start_time": "2022-10-26T21:57:33.139Z"
   },
   {
    "duration": 125,
    "start_time": "2022-10-26T21:57:33.143Z"
   },
   {
    "duration": 4,
    "start_time": "2022-10-26T21:57:33.269Z"
   },
   {
    "duration": 13,
    "start_time": "2022-10-26T21:57:33.274Z"
   },
   {
    "duration": 185,
    "start_time": "2022-10-26T21:57:33.288Z"
   },
   {
    "duration": 34,
    "start_time": "2022-10-26T21:57:33.475Z"
   },
   {
    "duration": 19,
    "start_time": "2022-10-26T21:57:33.510Z"
   },
   {
    "duration": 9,
    "start_time": "2022-10-26T21:57:33.530Z"
   },
   {
    "duration": 19,
    "start_time": "2022-10-26T21:57:33.541Z"
   },
   {
    "duration": 8,
    "start_time": "2022-10-26T21:57:33.561Z"
   },
   {
    "duration": 9,
    "start_time": "2022-10-26T21:57:33.570Z"
   },
   {
    "duration": 7,
    "start_time": "2022-10-26T21:57:33.580Z"
   },
   {
    "duration": 45,
    "start_time": "2022-10-26T21:57:33.588Z"
   },
   {
    "duration": 11,
    "start_time": "2022-10-26T21:57:33.635Z"
   },
   {
    "duration": 1079,
    "start_time": "2022-10-26T21:58:51.189Z"
   },
   {
    "duration": 76,
    "start_time": "2022-10-26T21:58:52.269Z"
   },
   {
    "duration": 10,
    "start_time": "2022-10-26T21:58:52.347Z"
   },
   {
    "duration": 10,
    "start_time": "2022-10-26T21:58:52.358Z"
   },
   {
    "duration": 7,
    "start_time": "2022-10-26T21:58:52.369Z"
   },
   {
    "duration": 8,
    "start_time": "2022-10-26T21:58:52.377Z"
   },
   {
    "duration": 11,
    "start_time": "2022-10-26T21:58:52.386Z"
   },
   {
    "duration": 5,
    "start_time": "2022-10-26T21:58:52.398Z"
   },
   {
    "duration": 7,
    "start_time": "2022-10-26T21:58:52.404Z"
   },
   {
    "duration": 8,
    "start_time": "2022-10-26T21:58:52.413Z"
   },
   {
    "duration": 8,
    "start_time": "2022-10-26T21:58:52.423Z"
   },
   {
    "duration": 4,
    "start_time": "2022-10-26T21:58:52.432Z"
   },
   {
    "duration": 9,
    "start_time": "2022-10-26T21:58:52.438Z"
   },
   {
    "duration": 6,
    "start_time": "2022-10-26T21:58:52.448Z"
   },
   {
    "duration": 10,
    "start_time": "2022-10-26T21:58:52.455Z"
   },
   {
    "duration": 8,
    "start_time": "2022-10-26T21:58:52.466Z"
   },
   {
    "duration": 9,
    "start_time": "2022-10-26T21:58:52.475Z"
   },
   {
    "duration": 9,
    "start_time": "2022-10-26T21:58:52.485Z"
   },
   {
    "duration": 8,
    "start_time": "2022-10-26T21:58:52.521Z"
   },
   {
    "duration": 8,
    "start_time": "2022-10-26T21:58:52.530Z"
   },
   {
    "duration": 10,
    "start_time": "2022-10-26T21:58:52.539Z"
   },
   {
    "duration": 274,
    "start_time": "2022-10-26T21:58:52.550Z"
   },
   {
    "duration": 245,
    "start_time": "2022-10-26T21:58:52.826Z"
   },
   {
    "duration": 155,
    "start_time": "2022-10-26T21:58:53.072Z"
   },
   {
    "duration": 254,
    "start_time": "2022-10-26T21:58:53.229Z"
   },
   {
    "duration": 164,
    "start_time": "2022-10-26T21:58:53.484Z"
   },
   {
    "duration": 253,
    "start_time": "2022-10-26T21:58:53.650Z"
   },
   {
    "duration": 17,
    "start_time": "2022-10-26T21:58:53.905Z"
   },
   {
    "duration": 101,
    "start_time": "2022-10-26T21:58:53.923Z"
   },
   {
    "duration": 99,
    "start_time": "2022-10-26T21:58:54.026Z"
   },
   {
    "duration": 4,
    "start_time": "2022-10-26T21:58:54.126Z"
   },
   {
    "duration": 182,
    "start_time": "2022-10-26T21:58:54.131Z"
   },
   {
    "duration": 9,
    "start_time": "2022-10-26T21:58:54.314Z"
   },
   {
    "duration": 8,
    "start_time": "2022-10-26T21:58:54.324Z"
   },
   {
    "duration": 185,
    "start_time": "2022-10-26T21:58:54.333Z"
   },
   {
    "duration": 35,
    "start_time": "2022-10-26T21:58:54.520Z"
   },
   {
    "duration": 8,
    "start_time": "2022-10-26T21:58:54.556Z"
   },
   {
    "duration": 9,
    "start_time": "2022-10-26T21:58:54.566Z"
   },
   {
    "duration": 20,
    "start_time": "2022-10-26T21:58:54.576Z"
   },
   {
    "duration": 30,
    "start_time": "2022-10-26T21:58:54.598Z"
   },
   {
    "duration": 9,
    "start_time": "2022-10-26T21:58:54.629Z"
   },
   {
    "duration": 6,
    "start_time": "2022-10-26T21:58:54.640Z"
   },
   {
    "duration": 24,
    "start_time": "2022-10-26T21:58:54.647Z"
   },
   {
    "duration": 10,
    "start_time": "2022-10-26T21:58:54.672Z"
   },
   {
    "duration": 1054,
    "start_time": "2022-10-26T21:59:24.844Z"
   },
   {
    "duration": 76,
    "start_time": "2022-10-26T21:59:25.900Z"
   },
   {
    "duration": 9,
    "start_time": "2022-10-26T21:59:25.977Z"
   },
   {
    "duration": 18,
    "start_time": "2022-10-26T21:59:25.988Z"
   },
   {
    "duration": 9,
    "start_time": "2022-10-26T21:59:26.008Z"
   },
   {
    "duration": 14,
    "start_time": "2022-10-26T21:59:26.019Z"
   },
   {
    "duration": 15,
    "start_time": "2022-10-26T21:59:26.034Z"
   },
   {
    "duration": 13,
    "start_time": "2022-10-26T21:59:26.050Z"
   },
   {
    "duration": 7,
    "start_time": "2022-10-26T21:59:26.065Z"
   },
   {
    "duration": 9,
    "start_time": "2022-10-26T21:59:26.076Z"
   },
   {
    "duration": 29,
    "start_time": "2022-10-26T21:59:26.086Z"
   },
   {
    "duration": 14,
    "start_time": "2022-10-26T21:59:26.117Z"
   },
   {
    "duration": 14,
    "start_time": "2022-10-26T21:59:26.132Z"
   },
   {
    "duration": 10,
    "start_time": "2022-10-26T21:59:26.148Z"
   },
   {
    "duration": 18,
    "start_time": "2022-10-26T21:59:26.160Z"
   },
   {
    "duration": 6,
    "start_time": "2022-10-26T21:59:26.179Z"
   },
   {
    "duration": 10,
    "start_time": "2022-10-26T21:59:26.187Z"
   },
   {
    "duration": 13,
    "start_time": "2022-10-26T21:59:26.199Z"
   },
   {
    "duration": 11,
    "start_time": "2022-10-26T21:59:26.213Z"
   },
   {
    "duration": 7,
    "start_time": "2022-10-26T21:59:26.225Z"
   },
   {
    "duration": 9,
    "start_time": "2022-10-26T21:59:26.233Z"
   },
   {
    "duration": 273,
    "start_time": "2022-10-26T21:59:26.244Z"
   },
   {
    "duration": 234,
    "start_time": "2022-10-26T21:59:26.522Z"
   },
   {
    "duration": 161,
    "start_time": "2022-10-26T21:59:26.757Z"
   },
   {
    "duration": 255,
    "start_time": "2022-10-26T21:59:26.922Z"
   },
   {
    "duration": 179,
    "start_time": "2022-10-26T21:59:27.179Z"
   },
   {
    "duration": 251,
    "start_time": "2022-10-26T21:59:27.360Z"
   },
   {
    "duration": 9,
    "start_time": "2022-10-26T21:59:27.621Z"
   },
   {
    "duration": 117,
    "start_time": "2022-10-26T21:59:27.632Z"
   },
   {
    "duration": 110,
    "start_time": "2022-10-26T21:59:27.751Z"
   },
   {
    "duration": 4,
    "start_time": "2022-10-26T21:59:27.863Z"
   },
   {
    "duration": 130,
    "start_time": "2022-10-26T21:59:27.868Z"
   },
   {
    "duration": 4,
    "start_time": "2022-10-26T21:59:27.999Z"
   },
   {
    "duration": 18,
    "start_time": "2022-10-26T21:59:28.004Z"
   },
   {
    "duration": 260,
    "start_time": "2022-10-26T21:59:28.024Z"
   },
   {
    "duration": 38,
    "start_time": "2022-10-26T21:59:28.285Z"
   },
   {
    "duration": 12,
    "start_time": "2022-10-26T21:59:28.324Z"
   },
   {
    "duration": 11,
    "start_time": "2022-10-26T21:59:28.337Z"
   },
   {
    "duration": 19,
    "start_time": "2022-10-26T21:59:28.350Z"
   },
   {
    "duration": 8,
    "start_time": "2022-10-26T21:59:28.370Z"
   },
   {
    "duration": 9,
    "start_time": "2022-10-26T21:59:28.380Z"
   },
   {
    "duration": 35,
    "start_time": "2022-10-26T21:59:28.391Z"
   },
   {
    "duration": 23,
    "start_time": "2022-10-26T21:59:28.427Z"
   },
   {
    "duration": 13,
    "start_time": "2022-10-26T21:59:28.452Z"
   },
   {
    "duration": 3,
    "start_time": "2022-10-26T21:59:44.833Z"
   },
   {
    "duration": 1030,
    "start_time": "2022-10-26T21:59:49.831Z"
   },
   {
    "duration": 79,
    "start_time": "2022-10-26T21:59:50.863Z"
   },
   {
    "duration": 12,
    "start_time": "2022-10-26T21:59:50.944Z"
   },
   {
    "duration": 12,
    "start_time": "2022-10-26T21:59:50.958Z"
   },
   {
    "duration": 8,
    "start_time": "2022-10-26T21:59:50.972Z"
   },
   {
    "duration": 11,
    "start_time": "2022-10-26T21:59:50.982Z"
   },
   {
    "duration": 11,
    "start_time": "2022-10-26T21:59:50.995Z"
   },
   {
    "duration": 13,
    "start_time": "2022-10-26T21:59:51.008Z"
   },
   {
    "duration": 14,
    "start_time": "2022-10-26T21:59:51.023Z"
   },
   {
    "duration": 8,
    "start_time": "2022-10-26T21:59:51.040Z"
   },
   {
    "duration": 14,
    "start_time": "2022-10-26T21:59:51.050Z"
   },
   {
    "duration": 14,
    "start_time": "2022-10-26T21:59:51.066Z"
   },
   {
    "duration": 14,
    "start_time": "2022-10-26T21:59:51.081Z"
   },
   {
    "duration": 6,
    "start_time": "2022-10-26T21:59:51.097Z"
   },
   {
    "duration": 28,
    "start_time": "2022-10-26T21:59:51.104Z"
   },
   {
    "duration": 7,
    "start_time": "2022-10-26T21:59:51.133Z"
   },
   {
    "duration": 7,
    "start_time": "2022-10-26T21:59:51.141Z"
   },
   {
    "duration": 12,
    "start_time": "2022-10-26T21:59:51.149Z"
   },
   {
    "duration": 10,
    "start_time": "2022-10-26T21:59:51.162Z"
   },
   {
    "duration": 7,
    "start_time": "2022-10-26T21:59:51.173Z"
   },
   {
    "duration": 11,
    "start_time": "2022-10-26T21:59:51.182Z"
   },
   {
    "duration": 290,
    "start_time": "2022-10-26T21:59:51.194Z"
   },
   {
    "duration": 247,
    "start_time": "2022-10-26T21:59:51.485Z"
   },
   {
    "duration": 163,
    "start_time": "2022-10-26T21:59:51.734Z"
   },
   {
    "duration": 270,
    "start_time": "2022-10-26T21:59:51.898Z"
   },
   {
    "duration": 166,
    "start_time": "2022-10-26T21:59:52.169Z"
   },
   {
    "duration": 270,
    "start_time": "2022-10-26T21:59:52.336Z"
   },
   {
    "duration": 17,
    "start_time": "2022-10-26T21:59:52.609Z"
   },
   {
    "duration": 108,
    "start_time": "2022-10-26T21:59:52.628Z"
   },
   {
    "duration": 106,
    "start_time": "2022-10-26T21:59:52.738Z"
   },
   {
    "duration": 4,
    "start_time": "2022-10-26T21:59:52.845Z"
   },
   {
    "duration": 133,
    "start_time": "2022-10-26T21:59:52.850Z"
   },
   {
    "duration": 4,
    "start_time": "2022-10-26T21:59:52.984Z"
   },
   {
    "duration": 16,
    "start_time": "2022-10-26T21:59:52.989Z"
   },
   {
    "duration": 273,
    "start_time": "2022-10-26T21:59:53.006Z"
   },
   {
    "duration": 43,
    "start_time": "2022-10-26T21:59:53.281Z"
   },
   {
    "duration": 11,
    "start_time": "2022-10-26T21:59:53.326Z"
   },
   {
    "duration": 12,
    "start_time": "2022-10-26T21:59:53.338Z"
   },
   {
    "duration": 27,
    "start_time": "2022-10-26T21:59:53.352Z"
   },
   {
    "duration": 12,
    "start_time": "2022-10-26T21:59:53.381Z"
   },
   {
    "duration": 11,
    "start_time": "2022-10-26T21:59:53.394Z"
   },
   {
    "duration": 24,
    "start_time": "2022-10-26T21:59:53.406Z"
   },
   {
    "duration": 21,
    "start_time": "2022-10-26T21:59:53.431Z"
   },
   {
    "duration": 11,
    "start_time": "2022-10-26T21:59:53.454Z"
   },
   {
    "duration": 796,
    "start_time": "2022-10-26T22:00:30.154Z"
   },
   {
    "duration": 78,
    "start_time": "2022-10-26T22:00:30.952Z"
   },
   {
    "duration": 15,
    "start_time": "2022-10-26T22:00:31.032Z"
   },
   {
    "duration": 28,
    "start_time": "2022-10-26T22:00:31.049Z"
   },
   {
    "duration": 37,
    "start_time": "2022-10-26T22:00:31.079Z"
   },
   {
    "duration": 54,
    "start_time": "2022-10-26T22:00:31.118Z"
   },
   {
    "duration": 27,
    "start_time": "2022-10-26T22:00:31.174Z"
   },
   {
    "duration": 18,
    "start_time": "2022-10-26T22:00:31.202Z"
   },
   {
    "duration": 43,
    "start_time": "2022-10-26T22:00:31.221Z"
   },
   {
    "duration": 42,
    "start_time": "2022-10-26T22:00:31.266Z"
   },
   {
    "duration": 67,
    "start_time": "2022-10-26T22:00:31.310Z"
   },
   {
    "duration": 18,
    "start_time": "2022-10-26T22:00:31.378Z"
   },
   {
    "duration": 53,
    "start_time": "2022-10-26T22:00:31.397Z"
   },
   {
    "duration": 36,
    "start_time": "2022-10-26T22:00:31.451Z"
   },
   {
    "duration": 32,
    "start_time": "2022-10-26T22:00:31.489Z"
   },
   {
    "duration": 19,
    "start_time": "2022-10-26T22:00:31.522Z"
   },
   {
    "duration": 9,
    "start_time": "2022-10-26T22:00:31.543Z"
   },
   {
    "duration": 24,
    "start_time": "2022-10-26T22:00:31.554Z"
   },
   {
    "duration": 29,
    "start_time": "2022-10-26T22:00:31.579Z"
   },
   {
    "duration": 8,
    "start_time": "2022-10-26T22:00:31.609Z"
   },
   {
    "duration": 19,
    "start_time": "2022-10-26T22:00:31.618Z"
   },
   {
    "duration": 265,
    "start_time": "2022-10-26T22:00:31.639Z"
   },
   {
    "duration": 94,
    "start_time": "2022-10-26T22:00:31.905Z"
   },
   {
    "duration": 0,
    "start_time": "2022-10-26T22:00:32.001Z"
   },
   {
    "duration": 0,
    "start_time": "2022-10-26T22:00:32.002Z"
   },
   {
    "duration": 0,
    "start_time": "2022-10-26T22:00:32.003Z"
   },
   {
    "duration": 0,
    "start_time": "2022-10-26T22:00:32.004Z"
   },
   {
    "duration": 0,
    "start_time": "2022-10-26T22:00:32.005Z"
   },
   {
    "duration": 0,
    "start_time": "2022-10-26T22:00:32.006Z"
   },
   {
    "duration": 1,
    "start_time": "2022-10-26T22:00:32.021Z"
   },
   {
    "duration": 0,
    "start_time": "2022-10-26T22:00:32.023Z"
   },
   {
    "duration": 0,
    "start_time": "2022-10-26T22:00:32.023Z"
   },
   {
    "duration": 0,
    "start_time": "2022-10-26T22:00:32.025Z"
   },
   {
    "duration": 0,
    "start_time": "2022-10-26T22:00:32.025Z"
   },
   {
    "duration": 0,
    "start_time": "2022-10-26T22:00:32.026Z"
   },
   {
    "duration": 0,
    "start_time": "2022-10-26T22:00:32.027Z"
   },
   {
    "duration": 0,
    "start_time": "2022-10-26T22:00:32.028Z"
   },
   {
    "duration": 0,
    "start_time": "2022-10-26T22:00:32.029Z"
   },
   {
    "duration": 0,
    "start_time": "2022-10-26T22:00:32.030Z"
   },
   {
    "duration": 0,
    "start_time": "2022-10-26T22:00:32.031Z"
   },
   {
    "duration": 0,
    "start_time": "2022-10-26T22:00:32.032Z"
   },
   {
    "duration": 0,
    "start_time": "2022-10-26T22:00:32.033Z"
   },
   {
    "duration": 0,
    "start_time": "2022-10-26T22:00:32.034Z"
   },
   {
    "duration": 0,
    "start_time": "2022-10-26T22:00:32.035Z"
   },
   {
    "duration": 998,
    "start_time": "2022-10-26T22:01:02.956Z"
   },
   {
    "duration": 77,
    "start_time": "2022-10-26T22:01:03.955Z"
   },
   {
    "duration": 11,
    "start_time": "2022-10-26T22:01:04.033Z"
   },
   {
    "duration": 11,
    "start_time": "2022-10-26T22:01:04.046Z"
   },
   {
    "duration": 8,
    "start_time": "2022-10-26T22:01:04.058Z"
   },
   {
    "duration": 8,
    "start_time": "2022-10-26T22:01:04.067Z"
   },
   {
    "duration": 10,
    "start_time": "2022-10-26T22:01:04.076Z"
   },
   {
    "duration": 5,
    "start_time": "2022-10-26T22:01:04.087Z"
   },
   {
    "duration": 5,
    "start_time": "2022-10-26T22:01:04.094Z"
   },
   {
    "duration": 6,
    "start_time": "2022-10-26T22:01:04.101Z"
   },
   {
    "duration": 17,
    "start_time": "2022-10-26T22:01:04.108Z"
   },
   {
    "duration": 7,
    "start_time": "2022-10-26T22:01:04.126Z"
   },
   {
    "duration": 10,
    "start_time": "2022-10-26T22:01:04.134Z"
   },
   {
    "duration": 5,
    "start_time": "2022-10-26T22:01:04.146Z"
   },
   {
    "duration": 11,
    "start_time": "2022-10-26T22:01:04.153Z"
   },
   {
    "duration": 5,
    "start_time": "2022-10-26T22:01:04.165Z"
   },
   {
    "duration": 9,
    "start_time": "2022-10-26T22:01:04.172Z"
   },
   {
    "duration": 15,
    "start_time": "2022-10-26T22:01:04.182Z"
   },
   {
    "duration": 27,
    "start_time": "2022-10-26T22:01:04.198Z"
   },
   {
    "duration": 14,
    "start_time": "2022-10-26T22:01:04.226Z"
   },
   {
    "duration": 15,
    "start_time": "2022-10-26T22:01:04.241Z"
   },
   {
    "duration": 253,
    "start_time": "2022-10-26T22:01:04.257Z"
   },
   {
    "duration": 233,
    "start_time": "2022-10-26T22:01:04.511Z"
   },
   {
    "duration": 151,
    "start_time": "2022-10-26T22:01:04.745Z"
   },
   {
    "duration": 268,
    "start_time": "2022-10-26T22:01:04.898Z"
   },
   {
    "duration": 170,
    "start_time": "2022-10-26T22:01:05.168Z"
   },
   {
    "duration": 262,
    "start_time": "2022-10-26T22:01:05.340Z"
   },
   {
    "duration": 16,
    "start_time": "2022-10-26T22:01:05.606Z"
   },
   {
    "duration": 110,
    "start_time": "2022-10-26T22:01:05.623Z"
   },
   {
    "duration": 105,
    "start_time": "2022-10-26T22:01:05.735Z"
   },
   {
    "duration": 4,
    "start_time": "2022-10-26T22:01:05.842Z"
   },
   {
    "duration": 127,
    "start_time": "2022-10-26T22:01:05.848Z"
   },
   {
    "duration": 3,
    "start_time": "2022-10-26T22:01:05.977Z"
   },
   {
    "duration": 9,
    "start_time": "2022-10-26T22:01:05.981Z"
   },
   {
    "duration": 280,
    "start_time": "2022-10-26T22:01:05.992Z"
   },
   {
    "duration": 33,
    "start_time": "2022-10-26T22:01:06.274Z"
   },
   {
    "duration": 18,
    "start_time": "2022-10-26T22:01:06.308Z"
   },
   {
    "duration": 11,
    "start_time": "2022-10-26T22:01:06.327Z"
   },
   {
    "duration": 19,
    "start_time": "2022-10-26T22:01:06.339Z"
   },
   {
    "duration": 8,
    "start_time": "2022-10-26T22:01:06.359Z"
   },
   {
    "duration": 8,
    "start_time": "2022-10-26T22:01:06.369Z"
   },
   {
    "duration": 8,
    "start_time": "2022-10-26T22:01:06.379Z"
   },
   {
    "duration": 41,
    "start_time": "2022-10-26T22:01:06.388Z"
   },
   {
    "duration": 11,
    "start_time": "2022-10-26T22:01:06.431Z"
   },
   {
    "duration": 1008,
    "start_time": "2022-10-26T22:01:22.736Z"
   },
   {
    "duration": 77,
    "start_time": "2022-10-26T22:01:23.746Z"
   },
   {
    "duration": 10,
    "start_time": "2022-10-26T22:01:23.827Z"
   },
   {
    "duration": 11,
    "start_time": "2022-10-26T22:01:23.838Z"
   },
   {
    "duration": 9,
    "start_time": "2022-10-26T22:01:23.850Z"
   },
   {
    "duration": 8,
    "start_time": "2022-10-26T22:01:23.860Z"
   },
   {
    "duration": 11,
    "start_time": "2022-10-26T22:01:23.869Z"
   },
   {
    "duration": 6,
    "start_time": "2022-10-26T22:01:23.881Z"
   },
   {
    "duration": 6,
    "start_time": "2022-10-26T22:01:23.889Z"
   },
   {
    "duration": 24,
    "start_time": "2022-10-26T22:01:23.897Z"
   },
   {
    "duration": 8,
    "start_time": "2022-10-26T22:01:23.923Z"
   },
   {
    "duration": 6,
    "start_time": "2022-10-26T22:01:23.932Z"
   },
   {
    "duration": 13,
    "start_time": "2022-10-26T22:01:23.939Z"
   },
   {
    "duration": 6,
    "start_time": "2022-10-26T22:01:23.953Z"
   },
   {
    "duration": 10,
    "start_time": "2022-10-26T22:01:23.960Z"
   },
   {
    "duration": 5,
    "start_time": "2022-10-26T22:01:23.971Z"
   },
   {
    "duration": 7,
    "start_time": "2022-10-26T22:01:23.978Z"
   },
   {
    "duration": 37,
    "start_time": "2022-10-26T22:01:23.986Z"
   },
   {
    "duration": 7,
    "start_time": "2022-10-26T22:01:24.024Z"
   },
   {
    "duration": 6,
    "start_time": "2022-10-26T22:01:24.033Z"
   },
   {
    "duration": 14,
    "start_time": "2022-10-26T22:01:24.041Z"
   },
   {
    "duration": 106,
    "start_time": "2022-10-26T22:01:24.056Z"
   },
   {
    "duration": 0,
    "start_time": "2022-10-26T22:01:24.164Z"
   },
   {
    "duration": 0,
    "start_time": "2022-10-26T22:01:24.165Z"
   },
   {
    "duration": 0,
    "start_time": "2022-10-26T22:01:24.166Z"
   },
   {
    "duration": 0,
    "start_time": "2022-10-26T22:01:24.167Z"
   },
   {
    "duration": 0,
    "start_time": "2022-10-26T22:01:24.167Z"
   },
   {
    "duration": 0,
    "start_time": "2022-10-26T22:01:24.168Z"
   },
   {
    "duration": 0,
    "start_time": "2022-10-26T22:01:24.169Z"
   },
   {
    "duration": 0,
    "start_time": "2022-10-26T22:01:24.170Z"
   },
   {
    "duration": 0,
    "start_time": "2022-10-26T22:01:24.171Z"
   },
   {
    "duration": 0,
    "start_time": "2022-10-26T22:01:24.172Z"
   },
   {
    "duration": 0,
    "start_time": "2022-10-26T22:01:24.173Z"
   },
   {
    "duration": 0,
    "start_time": "2022-10-26T22:01:24.173Z"
   },
   {
    "duration": 0,
    "start_time": "2022-10-26T22:01:24.174Z"
   },
   {
    "duration": 0,
    "start_time": "2022-10-26T22:01:24.175Z"
   },
   {
    "duration": 0,
    "start_time": "2022-10-26T22:01:24.176Z"
   },
   {
    "duration": 0,
    "start_time": "2022-10-26T22:01:24.177Z"
   },
   {
    "duration": 0,
    "start_time": "2022-10-26T22:01:24.178Z"
   },
   {
    "duration": 0,
    "start_time": "2022-10-26T22:01:24.179Z"
   },
   {
    "duration": 0,
    "start_time": "2022-10-26T22:01:24.180Z"
   },
   {
    "duration": 0,
    "start_time": "2022-10-26T22:01:24.181Z"
   },
   {
    "duration": 0,
    "start_time": "2022-10-26T22:01:24.182Z"
   },
   {
    "duration": 0,
    "start_time": "2022-10-26T22:01:24.182Z"
   },
   {
    "duration": 1031,
    "start_time": "2022-10-26T22:01:41.208Z"
   },
   {
    "duration": 77,
    "start_time": "2022-10-26T22:01:42.241Z"
   },
   {
    "duration": 11,
    "start_time": "2022-10-26T22:01:42.319Z"
   },
   {
    "duration": 9,
    "start_time": "2022-10-26T22:01:42.332Z"
   },
   {
    "duration": 7,
    "start_time": "2022-10-26T22:01:42.342Z"
   },
   {
    "duration": 8,
    "start_time": "2022-10-26T22:01:42.351Z"
   },
   {
    "duration": 10,
    "start_time": "2022-10-26T22:01:42.361Z"
   },
   {
    "duration": 8,
    "start_time": "2022-10-26T22:01:42.372Z"
   },
   {
    "duration": 4,
    "start_time": "2022-10-26T22:01:42.382Z"
   },
   {
    "duration": 8,
    "start_time": "2022-10-26T22:01:42.388Z"
   },
   {
    "duration": 30,
    "start_time": "2022-10-26T22:01:42.397Z"
   },
   {
    "duration": 8,
    "start_time": "2022-10-26T22:01:42.428Z"
   },
   {
    "duration": 12,
    "start_time": "2022-10-26T22:01:42.438Z"
   },
   {
    "duration": 7,
    "start_time": "2022-10-26T22:01:42.451Z"
   },
   {
    "duration": 13,
    "start_time": "2022-10-26T22:01:42.459Z"
   },
   {
    "duration": 5,
    "start_time": "2022-10-26T22:01:42.473Z"
   },
   {
    "duration": 8,
    "start_time": "2022-10-26T22:01:42.479Z"
   },
   {
    "duration": 10,
    "start_time": "2022-10-26T22:01:42.489Z"
   },
   {
    "duration": 9,
    "start_time": "2022-10-26T22:01:42.521Z"
   },
   {
    "duration": 7,
    "start_time": "2022-10-26T22:01:42.532Z"
   },
   {
    "duration": 10,
    "start_time": "2022-10-26T22:01:42.540Z"
   },
   {
    "duration": 264,
    "start_time": "2022-10-26T22:01:42.551Z"
   },
   {
    "duration": 234,
    "start_time": "2022-10-26T22:01:42.817Z"
   },
   {
    "duration": 153,
    "start_time": "2022-10-26T22:01:43.052Z"
   },
   {
    "duration": 279,
    "start_time": "2022-10-26T22:01:43.206Z"
   },
   {
    "duration": 168,
    "start_time": "2022-10-26T22:01:43.486Z"
   },
   {
    "duration": 259,
    "start_time": "2022-10-26T22:01:43.656Z"
   },
   {
    "duration": 7,
    "start_time": "2022-10-26T22:01:43.921Z"
   },
   {
    "duration": 116,
    "start_time": "2022-10-26T22:01:43.930Z"
   },
   {
    "duration": 110,
    "start_time": "2022-10-26T22:01:44.048Z"
   },
   {
    "duration": 4,
    "start_time": "2022-10-26T22:01:44.159Z"
   },
   {
    "duration": 124,
    "start_time": "2022-10-26T22:01:44.165Z"
   },
   {
    "duration": 4,
    "start_time": "2022-10-26T22:01:44.291Z"
   },
   {
    "duration": 8,
    "start_time": "2022-10-26T22:01:44.297Z"
   },
   {
    "duration": 259,
    "start_time": "2022-10-26T22:01:44.306Z"
   },
   {
    "duration": 38,
    "start_time": "2022-10-26T22:01:44.566Z"
   },
   {
    "duration": 22,
    "start_time": "2022-10-26T22:01:44.606Z"
   },
   {
    "duration": 9,
    "start_time": "2022-10-26T22:01:44.630Z"
   },
   {
    "duration": 23,
    "start_time": "2022-10-26T22:01:44.640Z"
   },
   {
    "duration": 8,
    "start_time": "2022-10-26T22:01:44.664Z"
   },
   {
    "duration": 7,
    "start_time": "2022-10-26T22:01:44.673Z"
   },
   {
    "duration": 8,
    "start_time": "2022-10-26T22:01:44.682Z"
   },
   {
    "duration": 43,
    "start_time": "2022-10-26T22:01:44.691Z"
   },
   {
    "duration": 11,
    "start_time": "2022-10-26T22:01:44.735Z"
   },
   {
    "duration": 1012,
    "start_time": "2022-10-26T22:02:11.419Z"
   },
   {
    "duration": 76,
    "start_time": "2022-10-26T22:02:12.433Z"
   },
   {
    "duration": 10,
    "start_time": "2022-10-26T22:02:12.511Z"
   },
   {
    "duration": 11,
    "start_time": "2022-10-26T22:02:12.523Z"
   },
   {
    "duration": 7,
    "start_time": "2022-10-26T22:02:12.535Z"
   },
   {
    "duration": 8,
    "start_time": "2022-10-26T22:02:12.544Z"
   },
   {
    "duration": 11,
    "start_time": "2022-10-26T22:02:12.553Z"
   },
   {
    "duration": 3,
    "start_time": "2022-10-26T22:02:12.565Z"
   },
   {
    "duration": 4,
    "start_time": "2022-10-26T22:02:12.569Z"
   },
   {
    "duration": 7,
    "start_time": "2022-10-26T22:02:12.575Z"
   },
   {
    "duration": 10,
    "start_time": "2022-10-26T22:02:12.583Z"
   },
   {
    "duration": 29,
    "start_time": "2022-10-26T22:02:12.595Z"
   },
   {
    "duration": 11,
    "start_time": "2022-10-26T22:02:12.625Z"
   },
   {
    "duration": 6,
    "start_time": "2022-10-26T22:02:12.637Z"
   },
   {
    "duration": 12,
    "start_time": "2022-10-26T22:02:12.644Z"
   },
   {
    "duration": 5,
    "start_time": "2022-10-26T22:02:12.657Z"
   },
   {
    "duration": 7,
    "start_time": "2022-10-26T22:02:12.663Z"
   },
   {
    "duration": 11,
    "start_time": "2022-10-26T22:02:12.672Z"
   },
   {
    "duration": 8,
    "start_time": "2022-10-26T22:02:12.684Z"
   },
   {
    "duration": 35,
    "start_time": "2022-10-26T22:02:12.694Z"
   },
   {
    "duration": 10,
    "start_time": "2022-10-26T22:02:12.730Z"
   },
   {
    "duration": 259,
    "start_time": "2022-10-26T22:02:12.742Z"
   },
   {
    "duration": 227,
    "start_time": "2022-10-26T22:02:13.003Z"
   },
   {
    "duration": 158,
    "start_time": "2022-10-26T22:02:13.232Z"
   },
   {
    "duration": 277,
    "start_time": "2022-10-26T22:02:13.391Z"
   },
   {
    "duration": 168,
    "start_time": "2022-10-26T22:02:13.669Z"
   },
   {
    "duration": 262,
    "start_time": "2022-10-26T22:02:13.838Z"
   },
   {
    "duration": 22,
    "start_time": "2022-10-26T22:02:14.103Z"
   },
   {
    "duration": 103,
    "start_time": "2022-10-26T22:02:14.127Z"
   },
   {
    "duration": 97,
    "start_time": "2022-10-26T22:02:14.232Z"
   },
   {
    "duration": 4,
    "start_time": "2022-10-26T22:02:14.331Z"
   },
   {
    "duration": 132,
    "start_time": "2022-10-26T22:02:14.337Z"
   },
   {
    "duration": 3,
    "start_time": "2022-10-26T22:02:14.471Z"
   },
   {
    "duration": 8,
    "start_time": "2022-10-26T22:02:14.475Z"
   },
   {
    "duration": 258,
    "start_time": "2022-10-26T22:02:14.484Z"
   },
   {
    "duration": 34,
    "start_time": "2022-10-26T22:02:14.744Z"
   },
   {
    "duration": 9,
    "start_time": "2022-10-26T22:02:14.780Z"
   },
   {
    "duration": 9,
    "start_time": "2022-10-26T22:02:14.791Z"
   },
   {
    "duration": 19,
    "start_time": "2022-10-26T22:02:14.821Z"
   },
   {
    "duration": 8,
    "start_time": "2022-10-26T22:02:14.841Z"
   },
   {
    "duration": 7,
    "start_time": "2022-10-26T22:02:14.851Z"
   },
   {
    "duration": 6,
    "start_time": "2022-10-26T22:02:14.859Z"
   },
   {
    "duration": 16,
    "start_time": "2022-10-26T22:02:14.867Z"
   },
   {
    "duration": 39,
    "start_time": "2022-10-26T22:02:14.884Z"
   },
   {
    "duration": 1057,
    "start_time": "2022-10-26T22:02:29.061Z"
   },
   {
    "duration": 79,
    "start_time": "2022-10-26T22:02:30.123Z"
   },
   {
    "duration": 13,
    "start_time": "2022-10-26T22:02:30.204Z"
   },
   {
    "duration": 15,
    "start_time": "2022-10-26T22:02:30.219Z"
   },
   {
    "duration": 24,
    "start_time": "2022-10-26T22:02:30.236Z"
   },
   {
    "duration": 11,
    "start_time": "2022-10-26T22:02:30.262Z"
   },
   {
    "duration": 14,
    "start_time": "2022-10-26T22:02:30.274Z"
   },
   {
    "duration": 9,
    "start_time": "2022-10-26T22:02:30.289Z"
   },
   {
    "duration": 4,
    "start_time": "2022-10-26T22:02:30.300Z"
   },
   {
    "duration": 14,
    "start_time": "2022-10-26T22:02:30.307Z"
   },
   {
    "duration": 18,
    "start_time": "2022-10-26T22:02:30.323Z"
   },
   {
    "duration": 14,
    "start_time": "2022-10-26T22:02:30.343Z"
   },
   {
    "duration": 18,
    "start_time": "2022-10-26T22:02:30.358Z"
   },
   {
    "duration": 7,
    "start_time": "2022-10-26T22:02:30.377Z"
   },
   {
    "duration": 27,
    "start_time": "2022-10-26T22:02:30.385Z"
   },
   {
    "duration": 18,
    "start_time": "2022-10-26T22:02:30.413Z"
   },
   {
    "duration": 27,
    "start_time": "2022-10-26T22:02:30.433Z"
   },
   {
    "duration": 33,
    "start_time": "2022-10-26T22:02:30.462Z"
   },
   {
    "duration": 36,
    "start_time": "2022-10-26T22:02:30.497Z"
   },
   {
    "duration": 27,
    "start_time": "2022-10-26T22:02:30.535Z"
   },
   {
    "duration": 19,
    "start_time": "2022-10-26T22:02:30.564Z"
   },
   {
    "duration": 307,
    "start_time": "2022-10-26T22:02:30.585Z"
   },
   {
    "duration": 260,
    "start_time": "2022-10-26T22:02:30.894Z"
   },
   {
    "duration": 166,
    "start_time": "2022-10-26T22:02:31.156Z"
   },
   {
    "duration": 271,
    "start_time": "2022-10-26T22:02:31.324Z"
   },
   {
    "duration": 194,
    "start_time": "2022-10-26T22:02:31.597Z"
   },
   {
    "duration": 317,
    "start_time": "2022-10-26T22:02:31.793Z"
   },
   {
    "duration": 8,
    "start_time": "2022-10-26T22:02:32.121Z"
   },
   {
    "duration": 129,
    "start_time": "2022-10-26T22:02:32.131Z"
   },
   {
    "duration": 110,
    "start_time": "2022-10-26T22:02:32.262Z"
   },
   {
    "duration": 4,
    "start_time": "2022-10-26T22:02:32.373Z"
   },
   {
    "duration": 145,
    "start_time": "2022-10-26T22:02:32.379Z"
   },
   {
    "duration": 4,
    "start_time": "2022-10-26T22:02:32.525Z"
   },
   {
    "duration": 121,
    "start_time": "2022-10-26T22:02:32.531Z"
   },
   {
    "duration": 274,
    "start_time": "2022-10-26T22:02:32.654Z"
   },
   {
    "duration": 38,
    "start_time": "2022-10-26T22:02:32.929Z"
   },
   {
    "duration": 10,
    "start_time": "2022-10-26T22:02:32.969Z"
   },
   {
    "duration": 9,
    "start_time": "2022-10-26T22:02:32.980Z"
   },
   {
    "duration": 43,
    "start_time": "2022-10-26T22:02:32.991Z"
   },
   {
    "duration": 9,
    "start_time": "2022-10-26T22:02:33.036Z"
   },
   {
    "duration": 11,
    "start_time": "2022-10-26T22:02:33.046Z"
   },
   {
    "duration": 10,
    "start_time": "2022-10-26T22:02:33.058Z"
   },
   {
    "duration": 18,
    "start_time": "2022-10-26T22:02:33.070Z"
   },
   {
    "duration": 33,
    "start_time": "2022-10-26T22:02:33.089Z"
   },
   {
    "duration": 1033,
    "start_time": "2022-10-26T22:02:50.524Z"
   },
   {
    "duration": 76,
    "start_time": "2022-10-26T22:02:51.559Z"
   },
   {
    "duration": 10,
    "start_time": "2022-10-26T22:02:51.637Z"
   },
   {
    "duration": 10,
    "start_time": "2022-10-26T22:02:51.649Z"
   },
   {
    "duration": 5,
    "start_time": "2022-10-26T22:02:51.661Z"
   },
   {
    "duration": 8,
    "start_time": "2022-10-26T22:02:51.667Z"
   },
   {
    "duration": 10,
    "start_time": "2022-10-26T22:02:51.677Z"
   },
   {
    "duration": 5,
    "start_time": "2022-10-26T22:02:51.688Z"
   },
   {
    "duration": 5,
    "start_time": "2022-10-26T22:02:51.694Z"
   },
   {
    "duration": 6,
    "start_time": "2022-10-26T22:02:51.701Z"
   },
   {
    "duration": 19,
    "start_time": "2022-10-26T22:02:51.708Z"
   },
   {
    "duration": 6,
    "start_time": "2022-10-26T22:02:51.729Z"
   },
   {
    "duration": 10,
    "start_time": "2022-10-26T22:02:51.736Z"
   },
   {
    "duration": 6,
    "start_time": "2022-10-26T22:02:51.747Z"
   },
   {
    "duration": 9,
    "start_time": "2022-10-26T22:02:51.755Z"
   },
   {
    "duration": 5,
    "start_time": "2022-10-26T22:02:51.766Z"
   },
   {
    "duration": 10,
    "start_time": "2022-10-26T22:02:51.772Z"
   },
   {
    "duration": 10,
    "start_time": "2022-10-26T22:02:51.783Z"
   },
   {
    "duration": 32,
    "start_time": "2022-10-26T22:02:51.795Z"
   },
   {
    "duration": 13,
    "start_time": "2022-10-26T22:02:51.829Z"
   },
   {
    "duration": 11,
    "start_time": "2022-10-26T22:02:51.843Z"
   },
   {
    "duration": 262,
    "start_time": "2022-10-26T22:02:51.855Z"
   },
   {
    "duration": 220,
    "start_time": "2022-10-26T22:02:52.121Z"
   },
   {
    "duration": 154,
    "start_time": "2022-10-26T22:02:52.342Z"
   },
   {
    "duration": 270,
    "start_time": "2022-10-26T22:02:52.497Z"
   },
   {
    "duration": 256,
    "start_time": "2022-10-26T22:02:52.768Z"
   },
   {
    "duration": 0,
    "start_time": "2022-10-26T22:02:53.026Z"
   },
   {
    "duration": 0,
    "start_time": "2022-10-26T22:02:53.027Z"
   },
   {
    "duration": 0,
    "start_time": "2022-10-26T22:02:53.027Z"
   },
   {
    "duration": 0,
    "start_time": "2022-10-26T22:02:53.029Z"
   },
   {
    "duration": 0,
    "start_time": "2022-10-26T22:02:53.029Z"
   },
   {
    "duration": 0,
    "start_time": "2022-10-26T22:02:53.030Z"
   },
   {
    "duration": 0,
    "start_time": "2022-10-26T22:02:53.031Z"
   },
   {
    "duration": 0,
    "start_time": "2022-10-26T22:02:53.032Z"
   },
   {
    "duration": 0,
    "start_time": "2022-10-26T22:02:53.033Z"
   },
   {
    "duration": 0,
    "start_time": "2022-10-26T22:02:53.034Z"
   },
   {
    "duration": 0,
    "start_time": "2022-10-26T22:02:53.035Z"
   },
   {
    "duration": 0,
    "start_time": "2022-10-26T22:02:53.036Z"
   },
   {
    "duration": 0,
    "start_time": "2022-10-26T22:02:53.037Z"
   },
   {
    "duration": 0,
    "start_time": "2022-10-26T22:02:53.038Z"
   },
   {
    "duration": 0,
    "start_time": "2022-10-26T22:02:53.039Z"
   },
   {
    "duration": 1,
    "start_time": "2022-10-26T22:02:53.039Z"
   },
   {
    "duration": 0,
    "start_time": "2022-10-26T22:02:53.040Z"
   },
   {
    "duration": 0,
    "start_time": "2022-10-26T22:02:53.041Z"
   },
   {
    "duration": 976,
    "start_time": "2022-10-26T22:03:04.460Z"
   },
   {
    "duration": 77,
    "start_time": "2022-10-26T22:03:05.437Z"
   },
   {
    "duration": 10,
    "start_time": "2022-10-26T22:03:05.515Z"
   },
   {
    "duration": 11,
    "start_time": "2022-10-26T22:03:05.527Z"
   },
   {
    "duration": 6,
    "start_time": "2022-10-26T22:03:05.539Z"
   },
   {
    "duration": 11,
    "start_time": "2022-10-26T22:03:05.546Z"
   },
   {
    "duration": 14,
    "start_time": "2022-10-26T22:03:05.558Z"
   },
   {
    "duration": 14,
    "start_time": "2022-10-26T22:03:05.574Z"
   },
   {
    "duration": 8,
    "start_time": "2022-10-26T22:03:05.589Z"
   },
   {
    "duration": 5,
    "start_time": "2022-10-26T22:03:05.600Z"
   },
   {
    "duration": 16,
    "start_time": "2022-10-26T22:03:05.607Z"
   },
   {
    "duration": 10,
    "start_time": "2022-10-26T22:03:05.624Z"
   },
   {
    "duration": 12,
    "start_time": "2022-10-26T22:03:05.635Z"
   },
   {
    "duration": 7,
    "start_time": "2022-10-26T22:03:05.648Z"
   },
   {
    "duration": 12,
    "start_time": "2022-10-26T22:03:05.656Z"
   },
   {
    "duration": 8,
    "start_time": "2022-10-26T22:03:05.669Z"
   },
   {
    "duration": 9,
    "start_time": "2022-10-26T22:03:05.678Z"
   },
   {
    "duration": 33,
    "start_time": "2022-10-26T22:03:05.689Z"
   },
   {
    "duration": 14,
    "start_time": "2022-10-26T22:03:05.724Z"
   },
   {
    "duration": 6,
    "start_time": "2022-10-26T22:03:05.740Z"
   },
   {
    "duration": 13,
    "start_time": "2022-10-26T22:03:05.747Z"
   },
   {
    "duration": 265,
    "start_time": "2022-10-26T22:03:05.762Z"
   },
   {
    "duration": 255,
    "start_time": "2022-10-26T22:03:06.029Z"
   },
   {
    "duration": 158,
    "start_time": "2022-10-26T22:03:06.286Z"
   },
   {
    "duration": 236,
    "start_time": "2022-10-26T22:03:06.445Z"
   },
   {
    "duration": 177,
    "start_time": "2022-10-26T22:03:06.682Z"
   },
   {
    "duration": 241,
    "start_time": "2022-10-26T22:03:06.860Z"
   },
   {
    "duration": 19,
    "start_time": "2022-10-26T22:03:07.103Z"
   },
   {
    "duration": 103,
    "start_time": "2022-10-26T22:03:07.123Z"
   },
   {
    "duration": 96,
    "start_time": "2022-10-26T22:03:07.227Z"
   },
   {
    "duration": 3,
    "start_time": "2022-10-26T22:03:07.325Z"
   },
   {
    "duration": 133,
    "start_time": "2022-10-26T22:03:07.329Z"
   },
   {
    "duration": 4,
    "start_time": "2022-10-26T22:03:07.463Z"
   },
   {
    "duration": 6,
    "start_time": "2022-10-26T22:03:07.469Z"
   },
   {
    "duration": 256,
    "start_time": "2022-10-26T22:03:07.476Z"
   },
   {
    "duration": 33,
    "start_time": "2022-10-26T22:03:07.734Z"
   },
   {
    "duration": 9,
    "start_time": "2022-10-26T22:03:07.768Z"
   },
   {
    "duration": 14,
    "start_time": "2022-10-26T22:03:07.778Z"
   },
   {
    "duration": 38,
    "start_time": "2022-10-26T22:03:07.794Z"
   },
   {
    "duration": 9,
    "start_time": "2022-10-26T22:03:07.833Z"
   },
   {
    "duration": 9,
    "start_time": "2022-10-26T22:03:07.843Z"
   },
   {
    "duration": 10,
    "start_time": "2022-10-26T22:03:07.854Z"
   },
   {
    "duration": 18,
    "start_time": "2022-10-26T22:03:07.865Z"
   },
   {
    "duration": 39,
    "start_time": "2022-10-26T22:03:07.885Z"
   },
   {
    "duration": 2,
    "start_time": "2022-10-26T22:37:27.151Z"
   },
   {
    "duration": 77,
    "start_time": "2022-10-26T22:37:29.491Z"
   },
   {
    "duration": 7,
    "start_time": "2022-10-26T22:37:35.718Z"
   },
   {
    "duration": 9,
    "start_time": "2022-10-26T22:37:38.438Z"
   },
   {
    "duration": 6,
    "start_time": "2022-10-26T22:37:39.635Z"
   },
   {
    "duration": 8,
    "start_time": "2022-10-26T22:37:47.852Z"
   },
   {
    "duration": 11,
    "start_time": "2022-10-26T22:37:51.117Z"
   },
   {
    "duration": 3,
    "start_time": "2022-10-26T22:37:52.678Z"
   },
   {
    "duration": 3,
    "start_time": "2022-10-26T22:37:55.523Z"
   },
   {
    "duration": 6,
    "start_time": "2022-10-26T22:37:56.011Z"
   },
   {
    "duration": 9,
    "start_time": "2022-10-26T22:37:57.416Z"
   },
   {
    "duration": 5,
    "start_time": "2022-10-26T22:37:58.319Z"
   },
   {
    "duration": 10,
    "start_time": "2022-10-26T22:38:01.519Z"
   },
   {
    "duration": 7,
    "start_time": "2022-10-26T22:38:11.774Z"
   },
   {
    "duration": 10,
    "start_time": "2022-10-26T22:38:12.469Z"
   },
   {
    "duration": 3,
    "start_time": "2022-10-26T22:38:13.502Z"
   },
   {
    "duration": 5,
    "start_time": "2022-10-26T22:38:14.008Z"
   },
   {
    "duration": 9,
    "start_time": "2022-10-26T22:38:14.598Z"
   },
   {
    "duration": 7,
    "start_time": "2022-10-26T22:38:19.565Z"
   },
   {
    "duration": 7,
    "start_time": "2022-10-26T22:38:33.540Z"
   },
   {
    "duration": 9,
    "start_time": "2022-10-26T22:38:42.076Z"
   },
   {
    "duration": 243,
    "start_time": "2022-10-26T22:38:48.547Z"
   },
   {
    "duration": 150,
    "start_time": "2022-10-26T22:38:52.076Z"
   },
   {
    "duration": 143,
    "start_time": "2022-10-26T22:39:04.411Z"
   },
   {
    "duration": 262,
    "start_time": "2022-10-26T22:39:24.325Z"
   },
   {
    "duration": 167,
    "start_time": "2022-10-26T22:39:34.120Z"
   },
   {
    "duration": 246,
    "start_time": "2022-10-26T22:39:40.245Z"
   },
   {
    "duration": 9,
    "start_time": "2022-10-26T22:39:51.126Z"
   },
   {
    "duration": 93,
    "start_time": "2022-10-26T22:39:56.717Z"
   },
   {
    "duration": 98,
    "start_time": "2022-10-26T22:40:06.079Z"
   },
   {
    "duration": 4,
    "start_time": "2022-10-26T22:40:11.529Z"
   },
   {
    "duration": 119,
    "start_time": "2022-10-26T22:40:17.015Z"
   },
   {
    "duration": 4,
    "start_time": "2022-10-26T22:40:23.325Z"
   },
   {
    "duration": 4,
    "start_time": "2022-10-26T22:40:24.876Z"
   },
   {
    "duration": 186,
    "start_time": "2022-10-26T22:40:34.008Z"
   },
   {
    "duration": 37,
    "start_time": "2022-10-26T22:40:44.039Z"
   },
   {
    "duration": 9,
    "start_time": "2022-10-26T22:40:46.485Z"
   },
   {
    "duration": 11,
    "start_time": "2022-10-26T22:40:50.072Z"
   },
   {
    "duration": 20,
    "start_time": "2022-10-26T22:40:54.160Z"
   },
   {
    "duration": 972,
    "start_time": "2022-10-26T22:55:12.272Z"
   },
   {
    "duration": 77,
    "start_time": "2022-10-26T22:55:13.246Z"
   },
   {
    "duration": 11,
    "start_time": "2022-10-26T22:55:13.324Z"
   },
   {
    "duration": 10,
    "start_time": "2022-10-26T22:55:13.337Z"
   },
   {
    "duration": 7,
    "start_time": "2022-10-26T22:55:13.348Z"
   },
   {
    "duration": 9,
    "start_time": "2022-10-26T22:55:13.357Z"
   },
   {
    "duration": 17,
    "start_time": "2022-10-26T22:55:13.371Z"
   },
   {
    "duration": 6,
    "start_time": "2022-10-26T22:55:13.389Z"
   },
   {
    "duration": 6,
    "start_time": "2022-10-26T22:55:13.396Z"
   },
   {
    "duration": 20,
    "start_time": "2022-10-26T22:55:13.404Z"
   },
   {
    "duration": 15,
    "start_time": "2022-10-26T22:55:13.425Z"
   },
   {
    "duration": 6,
    "start_time": "2022-10-26T22:55:13.441Z"
   },
   {
    "duration": 11,
    "start_time": "2022-10-26T22:55:13.448Z"
   },
   {
    "duration": 6,
    "start_time": "2022-10-26T22:55:13.460Z"
   },
   {
    "duration": 12,
    "start_time": "2022-10-26T22:55:13.468Z"
   },
   {
    "duration": 5,
    "start_time": "2022-10-26T22:55:13.481Z"
   },
   {
    "duration": 8,
    "start_time": "2022-10-26T22:55:13.488Z"
   },
   {
    "duration": 24,
    "start_time": "2022-10-26T22:55:13.498Z"
   },
   {
    "duration": 9,
    "start_time": "2022-10-26T22:55:13.523Z"
   },
   {
    "duration": 8,
    "start_time": "2022-10-26T22:55:13.533Z"
   },
   {
    "duration": 9,
    "start_time": "2022-10-26T22:55:13.542Z"
   },
   {
    "duration": 266,
    "start_time": "2022-10-26T22:55:13.552Z"
   },
   {
    "duration": 229,
    "start_time": "2022-10-26T22:55:13.821Z"
   },
   {
    "duration": 161,
    "start_time": "2022-10-26T22:55:14.052Z"
   },
   {
    "duration": 256,
    "start_time": "2022-10-26T22:55:14.222Z"
   },
   {
    "duration": 169,
    "start_time": "2022-10-26T22:55:14.480Z"
   },
   {
    "duration": 253,
    "start_time": "2022-10-26T22:55:14.651Z"
   },
   {
    "duration": 18,
    "start_time": "2022-10-26T22:55:14.908Z"
   },
   {
    "duration": 114,
    "start_time": "2022-10-26T22:55:14.927Z"
   },
   {
    "duration": 107,
    "start_time": "2022-10-26T22:55:15.043Z"
   },
   {
    "duration": 4,
    "start_time": "2022-10-26T22:55:15.151Z"
   },
   {
    "duration": 123,
    "start_time": "2022-10-26T22:55:15.157Z"
   },
   {
    "duration": 4,
    "start_time": "2022-10-26T22:55:15.281Z"
   },
   {
    "duration": 7,
    "start_time": "2022-10-26T22:55:15.287Z"
   },
   {
    "duration": 269,
    "start_time": "2022-10-26T22:55:15.296Z"
   },
   {
    "duration": 34,
    "start_time": "2022-10-26T22:55:15.566Z"
   },
   {
    "duration": 8,
    "start_time": "2022-10-26T22:55:15.602Z"
   },
   {
    "duration": 9,
    "start_time": "2022-10-26T22:55:15.621Z"
   },
   {
    "duration": 26,
    "start_time": "2022-10-26T22:55:15.631Z"
   },
   {
    "duration": 9,
    "start_time": "2022-10-26T22:55:15.658Z"
   },
   {
    "duration": 9,
    "start_time": "2022-10-26T22:55:15.668Z"
   },
   {
    "duration": 7,
    "start_time": "2022-10-26T22:55:15.678Z"
   },
   {
    "duration": 44,
    "start_time": "2022-10-26T22:55:15.686Z"
   },
   {
    "duration": 11,
    "start_time": "2022-10-26T22:55:15.731Z"
   },
   {
    "duration": 1020,
    "start_time": "2022-10-27T01:24:00.320Z"
   },
   {
    "duration": 189,
    "start_time": "2022-10-27T01:24:01.342Z"
   },
   {
    "duration": 11,
    "start_time": "2022-10-27T01:24:01.533Z"
   },
   {
    "duration": 11,
    "start_time": "2022-10-27T01:24:01.545Z"
   },
   {
    "duration": 5,
    "start_time": "2022-10-27T01:24:01.557Z"
   },
   {
    "duration": 10,
    "start_time": "2022-10-27T01:24:01.564Z"
   },
   {
    "duration": 9,
    "start_time": "2022-10-27T01:24:01.576Z"
   },
   {
    "duration": 9,
    "start_time": "2022-10-27T01:24:01.586Z"
   },
   {
    "duration": 10,
    "start_time": "2022-10-27T01:24:01.596Z"
   },
   {
    "duration": 8,
    "start_time": "2022-10-27T01:24:01.608Z"
   },
   {
    "duration": 21,
    "start_time": "2022-10-27T01:24:01.617Z"
   },
   {
    "duration": 11,
    "start_time": "2022-10-27T01:24:01.640Z"
   },
   {
    "duration": 12,
    "start_time": "2022-10-27T01:24:01.653Z"
   },
   {
    "duration": 7,
    "start_time": "2022-10-27T01:24:01.668Z"
   },
   {
    "duration": 15,
    "start_time": "2022-10-27T01:24:01.677Z"
   },
   {
    "duration": 4,
    "start_time": "2022-10-27T01:24:01.693Z"
   },
   {
    "duration": 7,
    "start_time": "2022-10-27T01:24:01.698Z"
   },
   {
    "duration": 10,
    "start_time": "2022-10-27T01:24:01.706Z"
   },
   {
    "duration": 9,
    "start_time": "2022-10-27T01:24:01.717Z"
   },
   {
    "duration": 8,
    "start_time": "2022-10-27T01:24:01.727Z"
   },
   {
    "duration": 12,
    "start_time": "2022-10-27T01:24:01.736Z"
   },
   {
    "duration": 291,
    "start_time": "2022-10-27T01:24:01.749Z"
   },
   {
    "duration": 248,
    "start_time": "2022-10-27T01:24:02.042Z"
   },
   {
    "duration": 176,
    "start_time": "2022-10-27T01:24:02.292Z"
   },
   {
    "duration": 283,
    "start_time": "2022-10-27T01:24:02.469Z"
   },
   {
    "duration": 185,
    "start_time": "2022-10-27T01:24:02.753Z"
   },
   {
    "duration": 282,
    "start_time": "2022-10-27T01:24:02.940Z"
   },
   {
    "duration": 8,
    "start_time": "2022-10-27T01:24:03.224Z"
   },
   {
    "duration": 112,
    "start_time": "2022-10-27T01:24:03.233Z"
   },
   {
    "duration": 127,
    "start_time": "2022-10-27T01:24:03.347Z"
   },
   {
    "duration": 3,
    "start_time": "2022-10-27T01:24:03.476Z"
   },
   {
    "duration": 130,
    "start_time": "2022-10-27T01:24:03.490Z"
   },
   {
    "duration": 4,
    "start_time": "2022-10-27T01:24:03.622Z"
   },
   {
    "duration": 8,
    "start_time": "2022-10-27T01:24:03.627Z"
   },
   {
    "duration": 132,
    "start_time": "2022-10-27T01:24:03.636Z"
   },
   {
    "duration": 10,
    "start_time": "2022-10-27T01:24:03.769Z"
   },
   {
    "duration": 18,
    "start_time": "2022-10-27T01:24:03.781Z"
   },
   {
    "duration": 1423,
    "start_time": "2022-10-27T01:24:03.800Z"
   },
   {
    "duration": 0,
    "start_time": "2022-10-27T01:24:05.224Z"
   },
   {
    "duration": 0,
    "start_time": "2022-10-27T01:24:05.225Z"
   },
   {
    "duration": 0,
    "start_time": "2022-10-27T01:24:05.226Z"
   },
   {
    "duration": 0,
    "start_time": "2022-10-27T01:24:05.228Z"
   },
   {
    "duration": 0,
    "start_time": "2022-10-27T01:24:05.229Z"
   },
   {
    "duration": 0,
    "start_time": "2022-10-27T01:24:05.230Z"
   },
   {
    "duration": 10,
    "start_time": "2022-10-27T01:24:10.928Z"
   },
   {
    "duration": 260,
    "start_time": "2022-10-27T01:24:29.568Z"
   },
   {
    "duration": 1086,
    "start_time": "2022-10-27T01:25:39.634Z"
   },
   {
    "duration": 72,
    "start_time": "2022-10-27T01:25:40.722Z"
   },
   {
    "duration": 11,
    "start_time": "2022-10-27T01:25:40.796Z"
   },
   {
    "duration": 10,
    "start_time": "2022-10-27T01:25:40.809Z"
   },
   {
    "duration": 10,
    "start_time": "2022-10-27T01:25:40.820Z"
   },
   {
    "duration": 12,
    "start_time": "2022-10-27T01:25:40.831Z"
   },
   {
    "duration": 18,
    "start_time": "2022-10-27T01:25:40.845Z"
   },
   {
    "duration": 11,
    "start_time": "2022-10-27T01:25:40.865Z"
   },
   {
    "duration": 13,
    "start_time": "2022-10-27T01:25:40.878Z"
   },
   {
    "duration": 11,
    "start_time": "2022-10-27T01:25:40.894Z"
   },
   {
    "duration": 10,
    "start_time": "2022-10-27T01:25:40.907Z"
   },
   {
    "duration": 6,
    "start_time": "2022-10-27T01:25:40.919Z"
   },
   {
    "duration": 13,
    "start_time": "2022-10-27T01:25:40.927Z"
   },
   {
    "duration": 6,
    "start_time": "2022-10-27T01:25:40.941Z"
   },
   {
    "duration": 10,
    "start_time": "2022-10-27T01:25:40.949Z"
   },
   {
    "duration": 31,
    "start_time": "2022-10-27T01:25:40.960Z"
   },
   {
    "duration": 8,
    "start_time": "2022-10-27T01:25:40.993Z"
   },
   {
    "duration": 12,
    "start_time": "2022-10-27T01:25:41.002Z"
   },
   {
    "duration": 9,
    "start_time": "2022-10-27T01:25:41.016Z"
   },
   {
    "duration": 15,
    "start_time": "2022-10-27T01:25:41.026Z"
   },
   {
    "duration": 15,
    "start_time": "2022-10-27T01:25:41.042Z"
   },
   {
    "duration": 270,
    "start_time": "2022-10-27T01:25:41.059Z"
   },
   {
    "duration": 245,
    "start_time": "2022-10-27T01:25:41.330Z"
   },
   {
    "duration": 174,
    "start_time": "2022-10-27T01:25:41.577Z"
   },
   {
    "duration": 306,
    "start_time": "2022-10-27T01:25:41.753Z"
   },
   {
    "duration": 187,
    "start_time": "2022-10-27T01:25:42.060Z"
   },
   {
    "duration": 287,
    "start_time": "2022-10-27T01:25:42.249Z"
   },
   {
    "duration": 8,
    "start_time": "2022-10-27T01:25:42.540Z"
   },
   {
    "duration": 122,
    "start_time": "2022-10-27T01:25:42.550Z"
   },
   {
    "duration": 122,
    "start_time": "2022-10-27T01:25:42.674Z"
   },
   {
    "duration": 4,
    "start_time": "2022-10-27T01:25:42.798Z"
   },
   {
    "duration": 138,
    "start_time": "2022-10-27T01:25:42.804Z"
   },
   {
    "duration": 4,
    "start_time": "2022-10-27T01:25:42.943Z"
   },
   {
    "duration": 7,
    "start_time": "2022-10-27T01:25:42.948Z"
   },
   {
    "duration": 277,
    "start_time": "2022-10-27T01:25:42.957Z"
   },
   {
    "duration": 37,
    "start_time": "2022-10-27T01:25:43.236Z"
   },
   {
    "duration": 20,
    "start_time": "2022-10-27T01:25:43.274Z"
   },
   {
    "duration": 18,
    "start_time": "2022-10-27T01:25:43.295Z"
   },
   {
    "duration": 8,
    "start_time": "2022-10-27T01:25:43.315Z"
   },
   {
    "duration": 8,
    "start_time": "2022-10-27T01:25:43.325Z"
   },
   {
    "duration": 7,
    "start_time": "2022-10-27T01:25:43.334Z"
   },
   {
    "duration": 16,
    "start_time": "2022-10-27T01:25:43.342Z"
   },
   {
    "duration": 40,
    "start_time": "2022-10-27T01:25:43.360Z"
   },
   {
    "duration": 80,
    "start_time": "2022-10-27T13:37:43.916Z"
   },
   {
    "duration": 7,
    "start_time": "2022-10-27T13:38:31.664Z"
   },
   {
    "duration": 8,
    "start_time": "2022-10-27T13:38:42.065Z"
   },
   {
    "duration": 8,
    "start_time": "2022-10-27T13:40:02.171Z"
   },
   {
    "duration": 6,
    "start_time": "2022-10-27T13:40:13.340Z"
   },
   {
    "duration": 6,
    "start_time": "2022-10-27T13:40:25.621Z"
   },
   {
    "duration": 7,
    "start_time": "2022-10-27T13:40:31.372Z"
   },
   {
    "duration": 1354,
    "start_time": "2022-10-27T13:40:48.173Z"
   },
   {
    "duration": 210,
    "start_time": "2022-10-27T13:40:49.529Z"
   },
   {
    "duration": 13,
    "start_time": "2022-10-27T13:40:49.741Z"
   },
   {
    "duration": 12,
    "start_time": "2022-10-27T13:40:49.756Z"
   },
   {
    "duration": 5,
    "start_time": "2022-10-27T13:40:49.770Z"
   },
   {
    "duration": 9,
    "start_time": "2022-10-27T13:40:49.777Z"
   },
   {
    "duration": 12,
    "start_time": "2022-10-27T13:40:49.788Z"
   },
   {
    "duration": 25,
    "start_time": "2022-10-27T13:40:49.801Z"
   },
   {
    "duration": 4,
    "start_time": "2022-10-27T13:40:49.828Z"
   },
   {
    "duration": 6,
    "start_time": "2022-10-27T13:40:49.836Z"
   },
   {
    "duration": 12,
    "start_time": "2022-10-27T13:40:49.844Z"
   },
   {
    "duration": 7,
    "start_time": "2022-10-27T13:40:49.858Z"
   },
   {
    "duration": 12,
    "start_time": "2022-10-27T13:40:49.866Z"
   },
   {
    "duration": 47,
    "start_time": "2022-10-27T13:40:49.880Z"
   },
   {
    "duration": 11,
    "start_time": "2022-10-27T13:40:49.929Z"
   },
   {
    "duration": 6,
    "start_time": "2022-10-27T13:40:49.942Z"
   },
   {
    "duration": 6,
    "start_time": "2022-10-27T13:40:49.950Z"
   },
   {
    "duration": 14,
    "start_time": "2022-10-27T13:40:49.958Z"
   },
   {
    "duration": 9,
    "start_time": "2022-10-27T13:40:49.975Z"
   },
   {
    "duration": 42,
    "start_time": "2022-10-27T13:40:49.986Z"
   },
   {
    "duration": 11,
    "start_time": "2022-10-27T13:40:50.030Z"
   },
   {
    "duration": 335,
    "start_time": "2022-10-27T13:40:50.043Z"
   },
   {
    "duration": 328,
    "start_time": "2022-10-27T13:40:50.380Z"
   },
   {
    "duration": 199,
    "start_time": "2022-10-27T13:40:50.709Z"
   },
   {
    "duration": 356,
    "start_time": "2022-10-27T13:40:50.910Z"
   },
   {
    "duration": 236,
    "start_time": "2022-10-27T13:40:51.267Z"
   },
   {
    "duration": 343,
    "start_time": "2022-10-27T13:40:51.505Z"
   },
   {
    "duration": 11,
    "start_time": "2022-10-27T13:40:51.852Z"
   },
   {
    "duration": 161,
    "start_time": "2022-10-27T13:40:51.865Z"
   },
   {
    "duration": 153,
    "start_time": "2022-10-27T13:40:52.029Z"
   },
   {
    "duration": 4,
    "start_time": "2022-10-27T13:40:52.184Z"
   },
   {
    "duration": 152,
    "start_time": "2022-10-27T13:40:52.189Z"
   },
   {
    "duration": 5,
    "start_time": "2022-10-27T13:40:52.342Z"
   },
   {
    "duration": 8,
    "start_time": "2022-10-27T13:40:52.348Z"
   },
   {
    "duration": 359,
    "start_time": "2022-10-27T13:40:52.358Z"
   },
   {
    "duration": 39,
    "start_time": "2022-10-27T13:40:52.719Z"
   },
   {
    "duration": 7,
    "start_time": "2022-10-27T13:40:52.760Z"
   },
   {
    "duration": 23,
    "start_time": "2022-10-27T13:40:52.769Z"
   },
   {
    "duration": 34,
    "start_time": "2022-10-27T13:40:52.794Z"
   },
   {
    "duration": 9,
    "start_time": "2022-10-27T13:40:52.829Z"
   },
   {
    "duration": 10,
    "start_time": "2022-10-27T13:40:52.840Z"
   },
   {
    "duration": 23,
    "start_time": "2022-10-27T13:40:52.851Z"
   },
   {
    "duration": 16,
    "start_time": "2022-10-27T13:40:52.876Z"
   },
   {
    "duration": 1187,
    "start_time": "2022-10-27T13:50:25.326Z"
   },
   {
    "duration": 84,
    "start_time": "2022-10-27T13:50:26.515Z"
   },
   {
    "duration": 14,
    "start_time": "2022-10-27T13:50:26.601Z"
   },
   {
    "duration": 12,
    "start_time": "2022-10-27T13:50:26.618Z"
   },
   {
    "duration": 7,
    "start_time": "2022-10-27T13:50:26.632Z"
   },
   {
    "duration": 22,
    "start_time": "2022-10-27T13:50:26.640Z"
   },
   {
    "duration": 14,
    "start_time": "2022-10-27T13:50:26.664Z"
   },
   {
    "duration": 6,
    "start_time": "2022-10-27T13:50:26.680Z"
   },
   {
    "duration": 4,
    "start_time": "2022-10-27T13:50:26.688Z"
   },
   {
    "duration": 5,
    "start_time": "2022-10-27T13:50:26.695Z"
   },
   {
    "duration": 34,
    "start_time": "2022-10-27T13:50:26.702Z"
   },
   {
    "duration": 6,
    "start_time": "2022-10-27T13:50:26.738Z"
   },
   {
    "duration": 14,
    "start_time": "2022-10-27T13:50:26.746Z"
   },
   {
    "duration": 10,
    "start_time": "2022-10-27T13:50:26.762Z"
   },
   {
    "duration": 53,
    "start_time": "2022-10-27T13:50:26.773Z"
   },
   {
    "duration": 5,
    "start_time": "2022-10-27T13:50:26.828Z"
   },
   {
    "duration": 10,
    "start_time": "2022-10-27T13:50:26.835Z"
   },
   {
    "duration": 13,
    "start_time": "2022-10-27T13:50:26.847Z"
   },
   {
    "duration": 8,
    "start_time": "2022-10-27T13:50:26.863Z"
   },
   {
    "duration": 9,
    "start_time": "2022-10-27T13:50:26.873Z"
   },
   {
    "duration": 47,
    "start_time": "2022-10-27T13:50:26.883Z"
   },
   {
    "duration": 326,
    "start_time": "2022-10-27T13:50:26.931Z"
   },
   {
    "duration": 302,
    "start_time": "2022-10-27T13:50:27.260Z"
   },
   {
    "duration": 209,
    "start_time": "2022-10-27T13:50:27.564Z"
   },
   {
    "duration": 316,
    "start_time": "2022-10-27T13:50:27.776Z"
   },
   {
    "duration": 230,
    "start_time": "2022-10-27T13:50:28.094Z"
   },
   {
    "duration": 319,
    "start_time": "2022-10-27T13:50:28.326Z"
   },
   {
    "duration": 11,
    "start_time": "2022-10-27T13:50:28.649Z"
   },
   {
    "duration": 144,
    "start_time": "2022-10-27T13:50:28.662Z"
   },
   {
    "duration": 133,
    "start_time": "2022-10-27T13:50:28.808Z"
   },
   {
    "duration": 4,
    "start_time": "2022-10-27T13:50:28.943Z"
   },
   {
    "duration": 171,
    "start_time": "2022-10-27T13:50:28.949Z"
   },
   {
    "duration": 4,
    "start_time": "2022-10-27T13:50:29.124Z"
   },
   {
    "duration": 13,
    "start_time": "2022-10-27T13:50:29.129Z"
   },
   {
    "duration": 333,
    "start_time": "2022-10-27T13:50:29.143Z"
   },
   {
    "duration": 55,
    "start_time": "2022-10-27T13:50:29.478Z"
   },
   {
    "duration": 7,
    "start_time": "2022-10-27T13:50:29.536Z"
   },
   {
    "duration": 34,
    "start_time": "2022-10-27T13:50:29.545Z"
   },
   {
    "duration": 11,
    "start_time": "2022-10-27T13:50:29.580Z"
   },
   {
    "duration": 9,
    "start_time": "2022-10-27T13:50:29.593Z"
   },
   {
    "duration": 26,
    "start_time": "2022-10-27T13:50:29.604Z"
   },
   {
    "duration": 25,
    "start_time": "2022-10-27T13:50:29.632Z"
   },
   {
    "duration": 15,
    "start_time": "2022-10-27T13:50:29.659Z"
   },
   {
    "duration": 199,
    "start_time": "2022-10-27T13:51:46.466Z"
   },
   {
    "duration": 185,
    "start_time": "2022-10-27T13:53:55.980Z"
   },
   {
    "duration": 243,
    "start_time": "2022-10-27T13:54:47.611Z"
   },
   {
    "duration": 338,
    "start_time": "2022-10-27T13:56:15.819Z"
   },
   {
    "duration": 213,
    "start_time": "2022-10-27T13:56:31.472Z"
   },
   {
    "duration": 260,
    "start_time": "2022-10-27T13:58:12.393Z"
   },
   {
    "duration": 239,
    "start_time": "2022-10-27T14:02:49.306Z"
   },
   {
    "duration": 332,
    "start_time": "2022-10-27T14:04:13.874Z"
   },
   {
    "duration": 235,
    "start_time": "2022-10-27T14:04:42.742Z"
   },
   {
    "duration": 333,
    "start_time": "2022-10-27T14:05:25.605Z"
   },
   {
    "duration": 455,
    "start_time": "2022-10-27T14:06:14.509Z"
   },
   {
    "duration": 224,
    "start_time": "2022-10-27T14:08:10.870Z"
   },
   {
    "duration": 295,
    "start_time": "2022-10-27T14:09:21.813Z"
   },
   {
    "duration": 345,
    "start_time": "2022-10-27T14:09:53.352Z"
   },
   {
    "duration": 1240,
    "start_time": "2022-10-27T14:10:20.485Z"
   },
   {
    "duration": 81,
    "start_time": "2022-10-27T14:10:21.728Z"
   },
   {
    "duration": 15,
    "start_time": "2022-10-27T14:10:21.811Z"
   },
   {
    "duration": 16,
    "start_time": "2022-10-27T14:10:21.829Z"
   },
   {
    "duration": 20,
    "start_time": "2022-10-27T14:10:21.847Z"
   },
   {
    "duration": 19,
    "start_time": "2022-10-27T14:10:21.869Z"
   },
   {
    "duration": 22,
    "start_time": "2022-10-27T14:10:21.891Z"
   },
   {
    "duration": 13,
    "start_time": "2022-10-27T14:10:21.915Z"
   },
   {
    "duration": 4,
    "start_time": "2022-10-27T14:10:21.931Z"
   },
   {
    "duration": 9,
    "start_time": "2022-10-27T14:10:21.939Z"
   },
   {
    "duration": 16,
    "start_time": "2022-10-27T14:10:21.949Z"
   },
   {
    "duration": 9,
    "start_time": "2022-10-27T14:10:21.967Z"
   },
   {
    "duration": 48,
    "start_time": "2022-10-27T14:10:21.978Z"
   },
   {
    "duration": 10,
    "start_time": "2022-10-27T14:10:22.028Z"
   },
   {
    "duration": 18,
    "start_time": "2022-10-27T14:10:22.041Z"
   },
   {
    "duration": 17,
    "start_time": "2022-10-27T14:10:22.061Z"
   },
   {
    "duration": 16,
    "start_time": "2022-10-27T14:10:22.080Z"
   },
   {
    "duration": 33,
    "start_time": "2022-10-27T14:10:22.099Z"
   },
   {
    "duration": 11,
    "start_time": "2022-10-27T14:10:22.134Z"
   },
   {
    "duration": 12,
    "start_time": "2022-10-27T14:10:22.148Z"
   },
   {
    "duration": 15,
    "start_time": "2022-10-27T14:10:22.162Z"
   },
   {
    "duration": 419,
    "start_time": "2022-10-27T14:10:22.179Z"
   },
   {
    "duration": 366,
    "start_time": "2022-10-27T14:10:22.600Z"
   },
   {
    "duration": 256,
    "start_time": "2022-10-27T14:10:22.968Z"
   },
   {
    "duration": 337,
    "start_time": "2022-10-27T14:10:23.226Z"
   },
   {
    "duration": 252,
    "start_time": "2022-10-27T14:10:23.565Z"
   },
   {
    "duration": 358,
    "start_time": "2022-10-27T14:10:23.820Z"
   },
   {
    "duration": 10,
    "start_time": "2022-10-27T14:10:24.183Z"
   },
   {
    "duration": 151,
    "start_time": "2022-10-27T14:10:24.195Z"
   },
   {
    "duration": 143,
    "start_time": "2022-10-27T14:10:24.348Z"
   },
   {
    "duration": 5,
    "start_time": "2022-10-27T14:10:24.493Z"
   },
   {
    "duration": 187,
    "start_time": "2022-10-27T14:10:24.499Z"
   },
   {
    "duration": 6,
    "start_time": "2022-10-27T14:10:24.688Z"
   },
   {
    "duration": 8,
    "start_time": "2022-10-27T14:10:24.696Z"
   },
   {
    "duration": 360,
    "start_time": "2022-10-27T14:10:24.724Z"
   },
   {
    "duration": 76,
    "start_time": "2022-10-27T14:10:25.087Z"
   },
   {
    "duration": 9,
    "start_time": "2022-10-27T14:10:25.165Z"
   },
   {
    "duration": 55,
    "start_time": "2022-10-27T14:10:25.176Z"
   },
   {
    "duration": 14,
    "start_time": "2022-10-27T14:10:25.234Z"
   },
   {
    "duration": 13,
    "start_time": "2022-10-27T14:10:25.250Z"
   },
   {
    "duration": 14,
    "start_time": "2022-10-27T14:10:25.267Z"
   },
   {
    "duration": 54,
    "start_time": "2022-10-27T14:10:25.283Z"
   },
   {
    "duration": 15,
    "start_time": "2022-10-27T14:10:25.340Z"
   },
   {
    "duration": 360,
    "start_time": "2022-10-27T14:13:12.056Z"
   },
   {
    "duration": 250,
    "start_time": "2022-10-27T14:13:27.287Z"
   },
   {
    "duration": 250,
    "start_time": "2022-10-27T14:13:35.604Z"
   },
   {
    "duration": 161,
    "start_time": "2022-10-27T14:14:28.136Z"
   },
   {
    "duration": 221,
    "start_time": "2022-10-27T14:15:45.805Z"
   },
   {
    "duration": 54,
    "start_time": "2022-10-27T14:22:52.025Z"
   },
   {
    "duration": 7,
    "start_time": "2022-10-27T14:23:38.868Z"
   },
   {
    "duration": 23,
    "start_time": "2022-10-27T14:23:39.858Z"
   },
   {
    "duration": 28,
    "start_time": "2022-10-27T14:28:55.372Z"
   },
   {
    "duration": 40,
    "start_time": "2022-10-27T14:40:29.479Z"
   },
   {
    "duration": 7,
    "start_time": "2022-10-27T14:40:45.331Z"
   },
   {
    "duration": 6,
    "start_time": "2022-10-27T14:40:49.907Z"
   },
   {
    "duration": 20,
    "start_time": "2022-10-27T14:40:50.424Z"
   },
   {
    "duration": 1825,
    "start_time": "2022-10-27T14:41:00.335Z"
   },
   {
    "duration": 84,
    "start_time": "2022-10-27T14:41:02.162Z"
   },
   {
    "duration": 256,
    "start_time": "2022-10-27T14:41:02.249Z"
   },
   {
    "duration": 100,
    "start_time": "2022-10-27T14:41:02.508Z"
   },
   {
    "duration": 31,
    "start_time": "2022-10-27T14:41:02.610Z"
   },
   {
    "duration": 35,
    "start_time": "2022-10-27T14:41:02.643Z"
   },
   {
    "duration": 25,
    "start_time": "2022-10-27T14:41:02.680Z"
   },
   {
    "duration": 8,
    "start_time": "2022-10-27T14:41:02.707Z"
   },
   {
    "duration": 8,
    "start_time": "2022-10-27T14:41:02.716Z"
   },
   {
    "duration": 9,
    "start_time": "2022-10-27T14:41:02.727Z"
   },
   {
    "duration": 16,
    "start_time": "2022-10-27T14:41:02.738Z"
   },
   {
    "duration": 7,
    "start_time": "2022-10-27T14:41:02.757Z"
   },
   {
    "duration": 17,
    "start_time": "2022-10-27T14:41:02.766Z"
   },
   {
    "duration": 39,
    "start_time": "2022-10-27T14:41:02.785Z"
   },
   {
    "duration": 12,
    "start_time": "2022-10-27T14:41:02.827Z"
   },
   {
    "duration": 10,
    "start_time": "2022-10-27T14:41:02.841Z"
   },
   {
    "duration": 11,
    "start_time": "2022-10-27T14:41:02.854Z"
   },
   {
    "duration": 15,
    "start_time": "2022-10-27T14:41:02.867Z"
   },
   {
    "duration": 39,
    "start_time": "2022-10-27T14:41:02.885Z"
   },
   {
    "duration": 10,
    "start_time": "2022-10-27T14:41:02.926Z"
   },
   {
    "duration": 17,
    "start_time": "2022-10-27T14:41:02.938Z"
   },
   {
    "duration": 356,
    "start_time": "2022-10-27T14:41:02.958Z"
   },
   {
    "duration": 353,
    "start_time": "2022-10-27T14:41:03.316Z"
   },
   {
    "duration": 218,
    "start_time": "2022-10-27T14:41:03.672Z"
   },
   {
    "duration": 380,
    "start_time": "2022-10-27T14:41:03.893Z"
   },
   {
    "duration": 265,
    "start_time": "2022-10-27T14:41:04.274Z"
   },
   {
    "duration": 327,
    "start_time": "2022-10-27T14:41:04.541Z"
   },
   {
    "duration": 10,
    "start_time": "2022-10-27T14:41:04.872Z"
   },
   {
    "duration": 143,
    "start_time": "2022-10-27T14:41:04.883Z"
   },
   {
    "duration": 136,
    "start_time": "2022-10-27T14:41:05.027Z"
   },
   {
    "duration": 5,
    "start_time": "2022-10-27T14:41:05.165Z"
   },
   {
    "duration": 186,
    "start_time": "2022-10-27T14:41:05.172Z"
   },
   {
    "duration": 6,
    "start_time": "2022-10-27T14:41:05.360Z"
   },
   {
    "duration": 163,
    "start_time": "2022-10-27T14:41:05.368Z"
   },
   {
    "duration": 1386,
    "start_time": "2022-10-27T14:41:05.533Z"
   },
   {
    "duration": 0,
    "start_time": "2022-10-27T14:41:06.921Z"
   },
   {
    "duration": 0,
    "start_time": "2022-10-27T14:41:06.923Z"
   },
   {
    "duration": 0,
    "start_time": "2022-10-27T14:41:06.925Z"
   },
   {
    "duration": 0,
    "start_time": "2022-10-27T14:41:06.927Z"
   },
   {
    "duration": 0,
    "start_time": "2022-10-27T14:41:06.929Z"
   },
   {
    "duration": 0,
    "start_time": "2022-10-27T14:41:06.931Z"
   },
   {
    "duration": 297,
    "start_time": "2022-10-27T14:53:30.071Z"
   },
   {
    "duration": 206,
    "start_time": "2022-10-27T14:54:47.523Z"
   },
   {
    "duration": 220,
    "start_time": "2022-10-27T14:55:32.634Z"
   },
   {
    "duration": 17,
    "start_time": "2022-10-27T14:59:02.099Z"
   },
   {
    "duration": 12,
    "start_time": "2022-10-27T15:00:49.932Z"
   },
   {
    "duration": 1303,
    "start_time": "2022-10-27T15:01:41.977Z"
   },
   {
    "duration": 10,
    "start_time": "2022-10-27T15:13:47.459Z"
   },
   {
    "duration": 8,
    "start_time": "2022-10-27T15:16:50.805Z"
   },
   {
    "duration": 11,
    "start_time": "2022-10-27T15:18:43.281Z"
   },
   {
    "duration": 13,
    "start_time": "2022-10-27T15:19:04.000Z"
   },
   {
    "duration": 12,
    "start_time": "2022-10-27T15:26:38.446Z"
   },
   {
    "duration": 1280,
    "start_time": "2022-10-27T15:33:31.108Z"
   },
   {
    "duration": 80,
    "start_time": "2022-10-27T15:33:32.390Z"
   },
   {
    "duration": 16,
    "start_time": "2022-10-27T15:33:32.472Z"
   },
   {
    "duration": 13,
    "start_time": "2022-10-27T15:33:32.490Z"
   },
   {
    "duration": 15,
    "start_time": "2022-10-27T15:33:32.504Z"
   },
   {
    "duration": 10,
    "start_time": "2022-10-27T15:33:32.521Z"
   },
   {
    "duration": 12,
    "start_time": "2022-10-27T15:33:32.533Z"
   },
   {
    "duration": 5,
    "start_time": "2022-10-27T15:33:32.547Z"
   },
   {
    "duration": 6,
    "start_time": "2022-10-27T15:33:32.554Z"
   },
   {
    "duration": 8,
    "start_time": "2022-10-27T15:33:32.562Z"
   },
   {
    "duration": 13,
    "start_time": "2022-10-27T15:33:32.571Z"
   },
   {
    "duration": 9,
    "start_time": "2022-10-27T15:33:32.585Z"
   },
   {
    "duration": 39,
    "start_time": "2022-10-27T15:33:32.596Z"
   },
   {
    "duration": 7,
    "start_time": "2022-10-27T15:33:32.637Z"
   },
   {
    "duration": 14,
    "start_time": "2022-10-27T15:33:32.646Z"
   },
   {
    "duration": 5,
    "start_time": "2022-10-27T15:33:32.662Z"
   },
   {
    "duration": 7,
    "start_time": "2022-10-27T15:33:32.669Z"
   },
   {
    "duration": 7,
    "start_time": "2022-10-27T15:33:32.677Z"
   },
   {
    "duration": 46,
    "start_time": "2022-10-27T15:33:32.685Z"
   },
   {
    "duration": 14,
    "start_time": "2022-10-27T15:33:32.732Z"
   },
   {
    "duration": 25,
    "start_time": "2022-10-27T15:33:32.748Z"
   },
   {
    "duration": 17,
    "start_time": "2022-10-27T15:33:32.775Z"
   },
   {
    "duration": 377,
    "start_time": "2022-10-27T15:33:32.794Z"
   },
   {
    "duration": 343,
    "start_time": "2022-10-27T15:33:33.173Z"
   },
   {
    "duration": 210,
    "start_time": "2022-10-27T15:33:33.517Z"
   },
   {
    "duration": 332,
    "start_time": "2022-10-27T15:33:33.729Z"
   },
   {
    "duration": 226,
    "start_time": "2022-10-27T15:33:34.063Z"
   },
   {
    "duration": 347,
    "start_time": "2022-10-27T15:33:34.292Z"
   },
   {
    "duration": 10,
    "start_time": "2022-10-27T15:33:34.641Z"
   },
   {
    "duration": 147,
    "start_time": "2022-10-27T15:33:34.653Z"
   },
   {
    "duration": 129,
    "start_time": "2022-10-27T15:33:34.802Z"
   },
   {
    "duration": 4,
    "start_time": "2022-10-27T15:33:34.933Z"
   },
   {
    "duration": 169,
    "start_time": "2022-10-27T15:33:34.938Z"
   },
   {
    "duration": 5,
    "start_time": "2022-10-27T15:33:35.108Z"
   },
   {
    "duration": 296,
    "start_time": "2022-10-27T15:33:35.115Z"
   },
   {
    "duration": 18,
    "start_time": "2022-10-27T15:33:35.413Z"
   },
   {
    "duration": 14,
    "start_time": "2022-10-27T15:33:35.432Z"
   },
   {
    "duration": 1264,
    "start_time": "2022-10-27T15:33:35.448Z"
   },
   {
    "duration": 0,
    "start_time": "2022-10-27T15:33:36.714Z"
   },
   {
    "duration": 0,
    "start_time": "2022-10-27T15:33:36.715Z"
   },
   {
    "duration": 163,
    "start_time": "2022-10-27T15:35:25.579Z"
   },
   {
    "duration": 216,
    "start_time": "2022-10-27T15:35:45.156Z"
   },
   {
    "duration": 230,
    "start_time": "2022-10-27T15:35:56.275Z"
   },
   {
    "duration": 264,
    "start_time": "2022-10-27T15:36:01.660Z"
   },
   {
    "duration": 183,
    "start_time": "2022-10-27T15:36:15.465Z"
   },
   {
    "duration": 198,
    "start_time": "2022-10-27T15:36:26.098Z"
   },
   {
    "duration": 12,
    "start_time": "2022-10-27T15:48:44.692Z"
   },
   {
    "duration": 11,
    "start_time": "2022-10-27T15:52:43.676Z"
   },
   {
    "duration": 8,
    "start_time": "2022-10-27T15:58:57.864Z"
   },
   {
    "duration": 26,
    "start_time": "2022-10-27T15:59:14.030Z"
   },
   {
    "duration": 16,
    "start_time": "2022-10-27T16:00:19.665Z"
   },
   {
    "duration": 1167,
    "start_time": "2022-10-27T16:00:49.157Z"
   },
   {
    "duration": 82,
    "start_time": "2022-10-27T16:00:50.327Z"
   },
   {
    "duration": 14,
    "start_time": "2022-10-27T16:00:50.411Z"
   },
   {
    "duration": 11,
    "start_time": "2022-10-27T16:00:50.427Z"
   },
   {
    "duration": 7,
    "start_time": "2022-10-27T16:00:50.440Z"
   },
   {
    "duration": 8,
    "start_time": "2022-10-27T16:00:50.449Z"
   },
   {
    "duration": 12,
    "start_time": "2022-10-27T16:00:50.460Z"
   },
   {
    "duration": 6,
    "start_time": "2022-10-27T16:00:50.473Z"
   },
   {
    "duration": 4,
    "start_time": "2022-10-27T16:00:50.481Z"
   },
   {
    "duration": 38,
    "start_time": "2022-10-27T16:00:50.489Z"
   },
   {
    "duration": 11,
    "start_time": "2022-10-27T16:00:50.529Z"
   },
   {
    "duration": 8,
    "start_time": "2022-10-27T16:00:50.542Z"
   },
   {
    "duration": 13,
    "start_time": "2022-10-27T16:00:50.551Z"
   },
   {
    "duration": 7,
    "start_time": "2022-10-27T16:00:50.565Z"
   },
   {
    "duration": 12,
    "start_time": "2022-10-27T16:00:50.574Z"
   },
   {
    "duration": 5,
    "start_time": "2022-10-27T16:00:50.624Z"
   },
   {
    "duration": 8,
    "start_time": "2022-10-27T16:00:50.630Z"
   },
   {
    "duration": 9,
    "start_time": "2022-10-27T16:00:50.640Z"
   },
   {
    "duration": 12,
    "start_time": "2022-10-27T16:00:50.651Z"
   },
   {
    "duration": 13,
    "start_time": "2022-10-27T16:00:50.665Z"
   },
   {
    "duration": 12,
    "start_time": "2022-10-27T16:00:50.679Z"
   },
   {
    "duration": 13,
    "start_time": "2022-10-27T16:00:50.724Z"
   },
   {
    "duration": 309,
    "start_time": "2022-10-27T16:00:50.739Z"
   },
   {
    "duration": 309,
    "start_time": "2022-10-27T16:00:51.051Z"
   },
   {
    "duration": 239,
    "start_time": "2022-10-27T16:00:51.362Z"
   },
   {
    "duration": 352,
    "start_time": "2022-10-27T16:00:51.603Z"
   },
   {
    "duration": 255,
    "start_time": "2022-10-27T16:00:51.957Z"
   },
   {
    "duration": 340,
    "start_time": "2022-10-27T16:00:52.215Z"
   },
   {
    "duration": 12,
    "start_time": "2022-10-27T16:00:52.557Z"
   },
   {
    "duration": 134,
    "start_time": "2022-10-27T16:00:52.570Z"
   },
   {
    "duration": 149,
    "start_time": "2022-10-27T16:00:52.706Z"
   },
   {
    "duration": 5,
    "start_time": "2022-10-27T16:00:52.857Z"
   },
   {
    "duration": 153,
    "start_time": "2022-10-27T16:00:52.865Z"
   },
   {
    "duration": 5,
    "start_time": "2022-10-27T16:00:53.020Z"
   },
   {
    "duration": 311,
    "start_time": "2022-10-27T16:00:53.027Z"
   },
   {
    "duration": 12,
    "start_time": "2022-10-27T16:00:53.340Z"
   },
   {
    "duration": 11,
    "start_time": "2022-10-27T16:00:53.354Z"
   },
   {
    "duration": 10,
    "start_time": "2022-10-27T16:00:53.367Z"
   },
   {
    "duration": 59,
    "start_time": "2022-10-27T16:00:53.383Z"
   },
   {
    "duration": 21,
    "start_time": "2022-10-27T16:00:53.445Z"
   },
   {
    "duration": 231,
    "start_time": "2022-10-27T17:18:47.660Z"
   },
   {
    "duration": 239,
    "start_time": "2022-10-27T17:19:13.127Z"
   },
   {
    "duration": 235,
    "start_time": "2022-10-27T17:19:25.599Z"
   },
   {
    "duration": 212,
    "start_time": "2022-10-27T17:22:43.670Z"
   },
   {
    "duration": 242,
    "start_time": "2022-10-27T17:25:32.346Z"
   },
   {
    "duration": 1202,
    "start_time": "2022-10-27T17:26:15.159Z"
   },
   {
    "duration": 81,
    "start_time": "2022-10-27T17:26:16.366Z"
   },
   {
    "duration": 14,
    "start_time": "2022-10-27T17:26:16.449Z"
   },
   {
    "duration": 12,
    "start_time": "2022-10-27T17:26:16.465Z"
   },
   {
    "duration": 7,
    "start_time": "2022-10-27T17:26:16.478Z"
   },
   {
    "duration": 9,
    "start_time": "2022-10-27T17:26:16.487Z"
   },
   {
    "duration": 12,
    "start_time": "2022-10-27T17:26:16.497Z"
   },
   {
    "duration": 4,
    "start_time": "2022-10-27T17:26:16.526Z"
   },
   {
    "duration": 5,
    "start_time": "2022-10-27T17:26:16.532Z"
   },
   {
    "duration": 6,
    "start_time": "2022-10-27T17:26:16.539Z"
   },
   {
    "duration": 19,
    "start_time": "2022-10-27T17:26:16.546Z"
   },
   {
    "duration": 6,
    "start_time": "2022-10-27T17:26:16.567Z"
   },
   {
    "duration": 14,
    "start_time": "2022-10-27T17:26:16.575Z"
   },
   {
    "duration": 41,
    "start_time": "2022-10-27T17:26:16.591Z"
   },
   {
    "duration": 16,
    "start_time": "2022-10-27T17:26:16.634Z"
   },
   {
    "duration": 6,
    "start_time": "2022-10-27T17:26:16.651Z"
   },
   {
    "duration": 10,
    "start_time": "2022-10-27T17:26:16.658Z"
   },
   {
    "duration": 9,
    "start_time": "2022-10-27T17:26:16.670Z"
   },
   {
    "duration": 13,
    "start_time": "2022-10-27T17:26:16.681Z"
   },
   {
    "duration": 37,
    "start_time": "2022-10-27T17:26:16.696Z"
   },
   {
    "duration": 10,
    "start_time": "2022-10-27T17:26:16.734Z"
   },
   {
    "duration": 44,
    "start_time": "2022-10-27T17:26:16.746Z"
   },
   {
    "duration": 325,
    "start_time": "2022-10-27T17:26:16.793Z"
   },
   {
    "duration": 321,
    "start_time": "2022-10-27T17:26:17.120Z"
   },
   {
    "duration": 233,
    "start_time": "2022-10-27T17:26:17.443Z"
   },
   {
    "duration": 355,
    "start_time": "2022-10-27T17:26:17.678Z"
   },
   {
    "duration": 246,
    "start_time": "2022-10-27T17:26:18.035Z"
   },
   {
    "duration": 363,
    "start_time": "2022-10-27T17:26:18.285Z"
   },
   {
    "duration": 11,
    "start_time": "2022-10-27T17:26:18.649Z"
   },
   {
    "duration": 138,
    "start_time": "2022-10-27T17:26:18.662Z"
   },
   {
    "duration": 140,
    "start_time": "2022-10-27T17:26:18.802Z"
   },
   {
    "duration": 4,
    "start_time": "2022-10-27T17:26:18.944Z"
   },
   {
    "duration": 170,
    "start_time": "2022-10-27T17:26:18.950Z"
   },
   {
    "duration": 4,
    "start_time": "2022-10-27T17:26:19.123Z"
   },
   {
    "duration": 271,
    "start_time": "2022-10-27T17:26:19.128Z"
   },
   {
    "duration": 26,
    "start_time": "2022-10-27T17:26:19.401Z"
   },
   {
    "duration": 11,
    "start_time": "2022-10-27T17:26:19.429Z"
   },
   {
    "duration": 9,
    "start_time": "2022-10-27T17:26:19.442Z"
   },
   {
    "duration": 25,
    "start_time": "2022-10-27T17:26:19.453Z"
   },
   {
    "duration": 48,
    "start_time": "2022-10-27T17:26:19.480Z"
   },
   {
    "duration": 1304,
    "start_time": "2022-10-27T17:37:41.672Z"
   },
   {
    "duration": 79,
    "start_time": "2022-10-27T17:37:42.978Z"
   },
   {
    "duration": 12,
    "start_time": "2022-10-27T17:37:43.059Z"
   },
   {
    "duration": 32,
    "start_time": "2022-10-27T17:37:43.073Z"
   },
   {
    "duration": 12,
    "start_time": "2022-10-27T17:37:43.106Z"
   },
   {
    "duration": 35,
    "start_time": "2022-10-27T17:37:43.121Z"
   },
   {
    "duration": 27,
    "start_time": "2022-10-27T17:37:43.158Z"
   },
   {
    "duration": 26,
    "start_time": "2022-10-27T17:37:43.187Z"
   },
   {
    "duration": 14,
    "start_time": "2022-10-27T17:37:43.215Z"
   },
   {
    "duration": 7,
    "start_time": "2022-10-27T17:37:43.232Z"
   },
   {
    "duration": 22,
    "start_time": "2022-10-27T17:37:43.241Z"
   },
   {
    "duration": 20,
    "start_time": "2022-10-27T17:37:43.265Z"
   },
   {
    "duration": 21,
    "start_time": "2022-10-27T17:37:43.287Z"
   },
   {
    "duration": 12,
    "start_time": "2022-10-27T17:37:43.309Z"
   },
   {
    "duration": 14,
    "start_time": "2022-10-27T17:37:43.323Z"
   },
   {
    "duration": 14,
    "start_time": "2022-10-27T17:37:43.339Z"
   },
   {
    "duration": 10,
    "start_time": "2022-10-27T17:37:43.355Z"
   },
   {
    "duration": 9,
    "start_time": "2022-10-27T17:37:43.367Z"
   },
   {
    "duration": 25,
    "start_time": "2022-10-27T17:37:43.377Z"
   },
   {
    "duration": 14,
    "start_time": "2022-10-27T17:37:43.404Z"
   },
   {
    "duration": 23,
    "start_time": "2022-10-27T17:37:43.420Z"
   },
   {
    "duration": 10,
    "start_time": "2022-10-27T17:37:43.444Z"
   },
   {
    "duration": 319,
    "start_time": "2022-10-27T17:37:43.456Z"
   },
   {
    "duration": 299,
    "start_time": "2022-10-27T17:37:43.776Z"
   },
   {
    "duration": 205,
    "start_time": "2022-10-27T17:37:44.077Z"
   },
   {
    "duration": 345,
    "start_time": "2022-10-27T17:37:44.284Z"
   },
   {
    "duration": 225,
    "start_time": "2022-10-27T17:37:44.631Z"
   },
   {
    "duration": 313,
    "start_time": "2022-10-27T17:37:44.859Z"
   },
   {
    "duration": 11,
    "start_time": "2022-10-27T17:37:45.174Z"
   },
   {
    "duration": 138,
    "start_time": "2022-10-27T17:37:45.187Z"
   },
   {
    "duration": 153,
    "start_time": "2022-10-27T17:37:45.328Z"
   },
   {
    "duration": 4,
    "start_time": "2022-10-27T17:37:45.484Z"
   },
   {
    "duration": 241,
    "start_time": "2022-10-27T17:37:45.491Z"
   },
   {
    "duration": 4,
    "start_time": "2022-10-27T17:37:45.734Z"
   },
   {
    "duration": 180,
    "start_time": "2022-10-27T17:37:45.739Z"
   },
   {
    "duration": 11,
    "start_time": "2022-10-27T17:37:45.924Z"
   },
   {
    "duration": 11,
    "start_time": "2022-10-27T17:37:45.937Z"
   },
   {
    "duration": 9,
    "start_time": "2022-10-27T17:37:45.950Z"
   },
   {
    "duration": 25,
    "start_time": "2022-10-27T17:37:45.961Z"
   },
   {
    "duration": 51,
    "start_time": "2022-10-27T17:37:45.988Z"
   },
   {
    "duration": 1121,
    "start_time": "2022-10-27T17:38:04.079Z"
   },
   {
    "duration": 80,
    "start_time": "2022-10-27T17:38:05.202Z"
   },
   {
    "duration": 13,
    "start_time": "2022-10-27T17:38:05.284Z"
   },
   {
    "duration": 14,
    "start_time": "2022-10-27T17:38:05.299Z"
   },
   {
    "duration": 15,
    "start_time": "2022-10-27T17:38:05.315Z"
   },
   {
    "duration": 11,
    "start_time": "2022-10-27T17:38:05.333Z"
   },
   {
    "duration": 15,
    "start_time": "2022-10-27T17:38:05.346Z"
   },
   {
    "duration": 6,
    "start_time": "2022-10-27T17:38:05.363Z"
   },
   {
    "duration": 4,
    "start_time": "2022-10-27T17:38:05.371Z"
   },
   {
    "duration": 6,
    "start_time": "2022-10-27T17:38:05.377Z"
   },
   {
    "duration": 45,
    "start_time": "2022-10-27T17:38:05.385Z"
   },
   {
    "duration": 5,
    "start_time": "2022-10-27T17:38:05.431Z"
   },
   {
    "duration": 12,
    "start_time": "2022-10-27T17:38:05.437Z"
   },
   {
    "duration": 7,
    "start_time": "2022-10-27T17:38:05.450Z"
   },
   {
    "duration": 9,
    "start_time": "2022-10-27T17:38:05.458Z"
   },
   {
    "duration": 5,
    "start_time": "2022-10-27T17:38:05.469Z"
   },
   {
    "duration": 54,
    "start_time": "2022-10-27T17:38:05.475Z"
   },
   {
    "duration": 7,
    "start_time": "2022-10-27T17:38:05.531Z"
   },
   {
    "duration": 11,
    "start_time": "2022-10-27T17:38:05.540Z"
   },
   {
    "duration": 20,
    "start_time": "2022-10-27T17:38:05.553Z"
   },
   {
    "duration": 8,
    "start_time": "2022-10-27T17:38:05.575Z"
   },
   {
    "duration": 40,
    "start_time": "2022-10-27T17:38:05.585Z"
   },
   {
    "duration": 294,
    "start_time": "2022-10-27T17:38:05.627Z"
   },
   {
    "duration": 297,
    "start_time": "2022-10-27T17:38:05.923Z"
   },
   {
    "duration": 193,
    "start_time": "2022-10-27T17:38:06.223Z"
   },
   {
    "duration": 307,
    "start_time": "2022-10-27T17:38:06.417Z"
   },
   {
    "duration": 220,
    "start_time": "2022-10-27T17:38:06.725Z"
   },
   {
    "duration": 338,
    "start_time": "2022-10-27T17:38:06.948Z"
   },
   {
    "duration": 10,
    "start_time": "2022-10-27T17:38:07.287Z"
   },
   {
    "duration": 130,
    "start_time": "2022-10-27T17:38:07.299Z"
   },
   {
    "duration": 130,
    "start_time": "2022-10-27T17:38:07.431Z"
   },
   {
    "duration": 4,
    "start_time": "2022-10-27T17:38:07.563Z"
   },
   {
    "duration": 172,
    "start_time": "2022-10-27T17:38:07.569Z"
   },
   {
    "duration": 4,
    "start_time": "2022-10-27T17:38:07.743Z"
   },
   {
    "duration": 262,
    "start_time": "2022-10-27T17:38:07.749Z"
   },
   {
    "duration": 20,
    "start_time": "2022-10-27T17:38:08.012Z"
   },
   {
    "duration": 9,
    "start_time": "2022-10-27T17:38:08.034Z"
   },
   {
    "duration": 8,
    "start_time": "2022-10-27T17:38:08.044Z"
   },
   {
    "duration": 22,
    "start_time": "2022-10-27T17:38:08.053Z"
   },
   {
    "duration": 13,
    "start_time": "2022-10-27T17:38:08.076Z"
   },
   {
    "duration": 3760,
    "start_time": "2022-10-27T17:42:39.522Z"
   },
   {
    "duration": 309,
    "start_time": "2022-10-27T17:42:58.404Z"
   },
   {
    "duration": 232,
    "start_time": "2022-10-27T17:43:10.170Z"
   },
   {
    "duration": 205,
    "start_time": "2022-10-27T17:43:39.514Z"
   },
   {
    "duration": 323,
    "start_time": "2022-10-27T17:43:50.337Z"
   },
   {
    "duration": 260,
    "start_time": "2022-10-27T17:45:19.237Z"
   },
   {
    "duration": 460,
    "start_time": "2022-10-27T17:45:25.126Z"
   },
   {
    "duration": 138,
    "start_time": "2022-10-27T17:45:35.466Z"
   },
   {
    "duration": 157,
    "start_time": "2022-10-27T17:45:42.572Z"
   },
   {
    "duration": 193,
    "start_time": "2022-10-27T17:45:49.901Z"
   },
   {
    "duration": 349,
    "start_time": "2022-10-27T17:46:57.122Z"
   },
   {
    "duration": 231,
    "start_time": "2022-10-27T17:47:13.964Z"
   },
   {
    "duration": 180,
    "start_time": "2022-10-27T17:48:46.184Z"
   },
   {
    "duration": 268,
    "start_time": "2022-10-27T17:51:00.923Z"
   },
   {
    "duration": 341,
    "start_time": "2022-10-27T17:53:43.689Z"
   },
   {
    "duration": 1187,
    "start_time": "2022-10-27T17:56:01.197Z"
   },
   {
    "duration": 84,
    "start_time": "2022-10-27T17:56:02.386Z"
   },
   {
    "duration": 15,
    "start_time": "2022-10-27T17:56:02.472Z"
   },
   {
    "duration": 12,
    "start_time": "2022-10-27T17:56:02.489Z"
   },
   {
    "duration": 6,
    "start_time": "2022-10-27T17:56:02.503Z"
   },
   {
    "duration": 11,
    "start_time": "2022-10-27T17:56:02.511Z"
   },
   {
    "duration": 15,
    "start_time": "2022-10-27T17:56:02.524Z"
   },
   {
    "duration": 6,
    "start_time": "2022-10-27T17:56:02.540Z"
   },
   {
    "duration": 5,
    "start_time": "2022-10-27T17:56:02.548Z"
   },
   {
    "duration": 6,
    "start_time": "2022-10-27T17:56:02.556Z"
   },
   {
    "duration": 12,
    "start_time": "2022-10-27T17:56:02.563Z"
   },
   {
    "duration": 7,
    "start_time": "2022-10-27T17:56:02.577Z"
   },
   {
    "duration": 42,
    "start_time": "2022-10-27T17:56:02.586Z"
   },
   {
    "duration": 7,
    "start_time": "2022-10-27T17:56:02.629Z"
   },
   {
    "duration": 12,
    "start_time": "2022-10-27T17:56:02.638Z"
   },
   {
    "duration": 4,
    "start_time": "2022-10-27T17:56:02.652Z"
   },
   {
    "duration": 7,
    "start_time": "2022-10-27T17:56:02.658Z"
   },
   {
    "duration": 6,
    "start_time": "2022-10-27T17:56:02.667Z"
   },
   {
    "duration": 49,
    "start_time": "2022-10-27T17:56:02.675Z"
   },
   {
    "duration": 13,
    "start_time": "2022-10-27T17:56:02.726Z"
   },
   {
    "duration": 10,
    "start_time": "2022-10-27T17:56:02.741Z"
   },
   {
    "duration": 13,
    "start_time": "2022-10-27T17:56:02.753Z"
   },
   {
    "duration": 342,
    "start_time": "2022-10-27T17:56:02.768Z"
   },
   {
    "duration": 347,
    "start_time": "2022-10-27T17:56:03.112Z"
   },
   {
    "duration": 274,
    "start_time": "2022-10-27T17:56:03.461Z"
   },
   {
    "duration": 330,
    "start_time": "2022-10-27T17:56:03.737Z"
   },
   {
    "duration": 305,
    "start_time": "2022-10-27T17:56:04.069Z"
   },
   {
    "duration": 373,
    "start_time": "2022-10-27T17:56:04.377Z"
   },
   {
    "duration": 10,
    "start_time": "2022-10-27T17:56:04.752Z"
   },
   {
    "duration": 148,
    "start_time": "2022-10-27T17:56:04.763Z"
   },
   {
    "duration": 140,
    "start_time": "2022-10-27T17:56:04.913Z"
   },
   {
    "duration": 5,
    "start_time": "2022-10-27T17:56:05.054Z"
   },
   {
    "duration": 163,
    "start_time": "2022-10-27T17:56:05.060Z"
   },
   {
    "duration": 5,
    "start_time": "2022-10-27T17:56:05.225Z"
   },
   {
    "duration": 300,
    "start_time": "2022-10-27T17:56:05.232Z"
   },
   {
    "duration": 19,
    "start_time": "2022-10-27T17:56:05.534Z"
   },
   {
    "duration": 13,
    "start_time": "2022-10-27T17:56:05.555Z"
   },
   {
    "duration": 8,
    "start_time": "2022-10-27T17:56:05.570Z"
   },
   {
    "duration": 64,
    "start_time": "2022-10-27T17:56:05.580Z"
   },
   {
    "duration": 17,
    "start_time": "2022-10-27T17:56:05.646Z"
   },
   {
    "duration": 6,
    "start_time": "2022-10-27T17:59:21.846Z"
   },
   {
    "duration": 1145,
    "start_time": "2022-10-27T18:24:34.543Z"
   },
   {
    "duration": 82,
    "start_time": "2022-10-27T18:24:35.691Z"
   },
   {
    "duration": 14,
    "start_time": "2022-10-27T18:24:35.775Z"
   },
   {
    "duration": 12,
    "start_time": "2022-10-27T18:24:35.791Z"
   },
   {
    "duration": 16,
    "start_time": "2022-10-27T18:24:35.804Z"
   },
   {
    "duration": 12,
    "start_time": "2022-10-27T18:24:35.822Z"
   },
   {
    "duration": 11,
    "start_time": "2022-10-27T18:24:35.836Z"
   },
   {
    "duration": 14,
    "start_time": "2022-10-27T18:24:35.848Z"
   },
   {
    "duration": 4,
    "start_time": "2022-10-27T18:24:35.868Z"
   },
   {
    "duration": 8,
    "start_time": "2022-10-27T18:24:35.875Z"
   },
   {
    "duration": 16,
    "start_time": "2022-10-27T18:24:35.885Z"
   },
   {
    "duration": 24,
    "start_time": "2022-10-27T18:24:35.903Z"
   },
   {
    "duration": 13,
    "start_time": "2022-10-27T18:24:35.929Z"
   },
   {
    "duration": 8,
    "start_time": "2022-10-27T18:24:35.944Z"
   },
   {
    "duration": 11,
    "start_time": "2022-10-27T18:24:35.954Z"
   },
   {
    "duration": 5,
    "start_time": "2022-10-27T18:24:35.966Z"
   },
   {
    "duration": 9,
    "start_time": "2022-10-27T18:24:35.973Z"
   },
   {
    "duration": 45,
    "start_time": "2022-10-27T18:24:35.984Z"
   },
   {
    "duration": 12,
    "start_time": "2022-10-27T18:24:36.031Z"
   },
   {
    "duration": 15,
    "start_time": "2022-10-27T18:24:36.045Z"
   },
   {
    "duration": 10,
    "start_time": "2022-10-27T18:24:36.062Z"
   },
   {
    "duration": 19,
    "start_time": "2022-10-27T18:24:36.074Z"
   },
   {
    "duration": 332,
    "start_time": "2022-10-27T18:24:36.095Z"
   },
   {
    "duration": 304,
    "start_time": "2022-10-27T18:24:36.429Z"
   },
   {
    "duration": 224,
    "start_time": "2022-10-27T18:24:36.735Z"
   },
   {
    "duration": 300,
    "start_time": "2022-10-27T18:24:36.961Z"
   },
   {
    "duration": 246,
    "start_time": "2022-10-27T18:24:37.263Z"
   },
   {
    "duration": 332,
    "start_time": "2022-10-27T18:24:37.513Z"
   },
   {
    "duration": 10,
    "start_time": "2022-10-27T18:24:37.846Z"
   },
   {
    "duration": 147,
    "start_time": "2022-10-27T18:24:37.858Z"
   },
   {
    "duration": 137,
    "start_time": "2022-10-27T18:24:38.007Z"
   },
   {
    "duration": 5,
    "start_time": "2022-10-27T18:24:38.146Z"
   },
   {
    "duration": 179,
    "start_time": "2022-10-27T18:24:38.153Z"
   },
   {
    "duration": 4,
    "start_time": "2022-10-27T18:24:38.334Z"
   },
   {
    "duration": 285,
    "start_time": "2022-10-27T18:24:38.339Z"
   },
   {
    "duration": 10,
    "start_time": "2022-10-27T18:24:38.626Z"
   },
   {
    "duration": 9,
    "start_time": "2022-10-27T18:24:38.638Z"
   },
   {
    "duration": 8,
    "start_time": "2022-10-27T18:24:38.649Z"
   },
   {
    "duration": 23,
    "start_time": "2022-10-27T18:24:38.659Z"
   },
   {
    "duration": 49,
    "start_time": "2022-10-27T18:24:38.684Z"
   },
   {
    "duration": 12,
    "start_time": "2022-10-27T18:26:46.563Z"
   },
   {
    "duration": 47,
    "start_time": "2022-10-27T18:27:26.086Z"
   },
   {
    "duration": 1241,
    "start_time": "2022-10-27T18:45:24.163Z"
   },
   {
    "duration": 87,
    "start_time": "2022-10-27T18:45:25.407Z"
   },
   {
    "duration": 17,
    "start_time": "2022-10-27T18:45:25.496Z"
   },
   {
    "duration": 19,
    "start_time": "2022-10-27T18:45:25.516Z"
   },
   {
    "duration": 8,
    "start_time": "2022-10-27T18:45:25.537Z"
   },
   {
    "duration": 9,
    "start_time": "2022-10-27T18:45:25.547Z"
   },
   {
    "duration": 26,
    "start_time": "2022-10-27T18:45:25.558Z"
   },
   {
    "duration": 8,
    "start_time": "2022-10-27T18:45:25.586Z"
   },
   {
    "duration": 4,
    "start_time": "2022-10-27T18:45:25.597Z"
   },
   {
    "duration": 8,
    "start_time": "2022-10-27T18:45:25.623Z"
   },
   {
    "duration": 15,
    "start_time": "2022-10-27T18:45:25.633Z"
   },
   {
    "duration": 9,
    "start_time": "2022-10-27T18:45:25.650Z"
   },
   {
    "duration": 16,
    "start_time": "2022-10-27T18:45:25.661Z"
   },
   {
    "duration": 51,
    "start_time": "2022-10-27T18:45:25.679Z"
   },
   {
    "duration": 17,
    "start_time": "2022-10-27T18:45:25.732Z"
   },
   {
    "duration": 6,
    "start_time": "2022-10-27T18:45:25.751Z"
   },
   {
    "duration": 8,
    "start_time": "2022-10-27T18:45:25.760Z"
   },
   {
    "duration": 8,
    "start_time": "2022-10-27T18:45:25.771Z"
   },
   {
    "duration": 59,
    "start_time": "2022-10-27T18:45:25.781Z"
   },
   {
    "duration": 15,
    "start_time": "2022-10-27T18:45:25.842Z"
   },
   {
    "duration": 12,
    "start_time": "2022-10-27T18:45:25.859Z"
   },
   {
    "duration": 13,
    "start_time": "2022-10-27T18:45:25.873Z"
   },
   {
    "duration": 382,
    "start_time": "2022-10-27T18:45:25.924Z"
   },
   {
    "duration": 537,
    "start_time": "2022-10-27T18:45:26.308Z"
   },
   {
    "duration": 293,
    "start_time": "2022-10-27T18:45:26.848Z"
   },
   {
    "duration": 344,
    "start_time": "2022-10-27T18:45:27.144Z"
   },
   {
    "duration": 291,
    "start_time": "2022-10-27T18:45:27.490Z"
   },
   {
    "duration": 454,
    "start_time": "2022-10-27T18:45:27.786Z"
   },
   {
    "duration": 14,
    "start_time": "2022-10-27T18:45:28.242Z"
   },
   {
    "duration": 233,
    "start_time": "2022-10-27T18:45:28.259Z"
   },
   {
    "duration": 198,
    "start_time": "2022-10-27T18:45:28.495Z"
   },
   {
    "duration": 6,
    "start_time": "2022-10-27T18:45:28.696Z"
   },
   {
    "duration": 268,
    "start_time": "2022-10-27T18:45:28.704Z"
   },
   {
    "duration": 6,
    "start_time": "2022-10-27T18:45:28.974Z"
   },
   {
    "duration": 336,
    "start_time": "2022-10-27T18:45:28.982Z"
   },
   {
    "duration": 17,
    "start_time": "2022-10-27T18:45:29.328Z"
   },
   {
    "duration": 18,
    "start_time": "2022-10-27T18:45:29.347Z"
   },
   {
    "duration": 27,
    "start_time": "2022-10-27T18:45:29.368Z"
   },
   {
    "duration": 56,
    "start_time": "2022-10-27T18:45:29.397Z"
   },
   {
    "duration": 19,
    "start_time": "2022-10-27T18:45:29.456Z"
   },
   {
    "duration": 1387,
    "start_time": "2022-10-27T18:46:17.006Z"
   },
   {
    "duration": 82,
    "start_time": "2022-10-27T18:46:18.397Z"
   },
   {
    "duration": 19,
    "start_time": "2022-10-27T18:46:18.482Z"
   },
   {
    "duration": 12,
    "start_time": "2022-10-27T18:46:18.504Z"
   },
   {
    "duration": 6,
    "start_time": "2022-10-27T18:46:18.518Z"
   },
   {
    "duration": 10,
    "start_time": "2022-10-27T18:46:18.526Z"
   },
   {
    "duration": 16,
    "start_time": "2022-10-27T18:46:18.538Z"
   },
   {
    "duration": 6,
    "start_time": "2022-10-27T18:46:18.556Z"
   },
   {
    "duration": 4,
    "start_time": "2022-10-27T18:46:18.563Z"
   },
   {
    "duration": 7,
    "start_time": "2022-10-27T18:46:18.571Z"
   },
   {
    "duration": 48,
    "start_time": "2022-10-27T18:46:18.580Z"
   },
   {
    "duration": 7,
    "start_time": "2022-10-27T18:46:18.630Z"
   },
   {
    "duration": 18,
    "start_time": "2022-10-27T18:46:18.639Z"
   },
   {
    "duration": 12,
    "start_time": "2022-10-27T18:46:18.659Z"
   },
   {
    "duration": 15,
    "start_time": "2022-10-27T18:46:18.673Z"
   },
   {
    "duration": 10,
    "start_time": "2022-10-27T18:46:18.723Z"
   },
   {
    "duration": 11,
    "start_time": "2022-10-27T18:46:18.735Z"
   },
   {
    "duration": 11,
    "start_time": "2022-10-27T18:46:18.748Z"
   },
   {
    "duration": 11,
    "start_time": "2022-10-27T18:46:18.763Z"
   },
   {
    "duration": 47,
    "start_time": "2022-10-27T18:46:18.776Z"
   },
   {
    "duration": 13,
    "start_time": "2022-10-27T18:46:18.826Z"
   },
   {
    "duration": 15,
    "start_time": "2022-10-27T18:46:18.840Z"
   },
   {
    "duration": 396,
    "start_time": "2022-10-27T18:46:18.857Z"
   },
   {
    "duration": 359,
    "start_time": "2022-10-27T18:46:19.255Z"
   },
   {
    "duration": 249,
    "start_time": "2022-10-27T18:46:19.624Z"
   },
   {
    "duration": 405,
    "start_time": "2022-10-27T18:46:19.875Z"
   },
   {
    "duration": 261,
    "start_time": "2022-10-27T18:46:20.282Z"
   },
   {
    "duration": 381,
    "start_time": "2022-10-27T18:46:20.548Z"
   },
   {
    "duration": 12,
    "start_time": "2022-10-27T18:46:20.931Z"
   },
   {
    "duration": 184,
    "start_time": "2022-10-27T18:46:20.945Z"
   },
   {
    "duration": 163,
    "start_time": "2022-10-27T18:46:21.131Z"
   },
   {
    "duration": 5,
    "start_time": "2022-10-27T18:46:21.296Z"
   },
   {
    "duration": 206,
    "start_time": "2022-10-27T18:46:21.304Z"
   },
   {
    "duration": 15,
    "start_time": "2022-10-27T18:46:21.511Z"
   },
   {
    "duration": 320,
    "start_time": "2022-10-27T18:46:21.528Z"
   },
   {
    "duration": 25,
    "start_time": "2022-10-27T18:46:21.850Z"
   },
   {
    "duration": 12,
    "start_time": "2022-10-27T18:46:21.878Z"
   },
   {
    "duration": 35,
    "start_time": "2022-10-27T18:46:21.893Z"
   },
   {
    "duration": 36,
    "start_time": "2022-10-27T18:46:21.931Z"
   },
   {
    "duration": 18,
    "start_time": "2022-10-27T18:46:21.969Z"
   },
   {
    "duration": 1330,
    "start_time": "2022-10-27T18:47:23.819Z"
   },
   {
    "duration": 81,
    "start_time": "2022-10-27T18:47:25.151Z"
   },
   {
    "duration": 19,
    "start_time": "2022-10-27T18:47:25.236Z"
   },
   {
    "duration": 29,
    "start_time": "2022-10-27T18:47:25.258Z"
   },
   {
    "duration": 34,
    "start_time": "2022-10-27T18:47:25.290Z"
   },
   {
    "duration": 35,
    "start_time": "2022-10-27T18:47:25.325Z"
   },
   {
    "duration": 22,
    "start_time": "2022-10-27T18:47:25.362Z"
   },
   {
    "duration": 20,
    "start_time": "2022-10-27T18:47:25.386Z"
   },
   {
    "duration": 10,
    "start_time": "2022-10-27T18:47:25.408Z"
   },
   {
    "duration": 25,
    "start_time": "2022-10-27T18:47:25.422Z"
   },
   {
    "duration": 35,
    "start_time": "2022-10-27T18:47:25.449Z"
   },
   {
    "duration": 12,
    "start_time": "2022-10-27T18:47:25.486Z"
   },
   {
    "duration": 44,
    "start_time": "2022-10-27T18:47:25.501Z"
   },
   {
    "duration": 26,
    "start_time": "2022-10-27T18:47:25.546Z"
   },
   {
    "duration": 23,
    "start_time": "2022-10-27T18:47:25.574Z"
   },
   {
    "duration": 12,
    "start_time": "2022-10-27T18:47:25.600Z"
   },
   {
    "duration": 22,
    "start_time": "2022-10-27T18:47:25.614Z"
   },
   {
    "duration": 30,
    "start_time": "2022-10-27T18:47:25.638Z"
   },
   {
    "duration": 17,
    "start_time": "2022-10-27T18:47:25.671Z"
   },
   {
    "duration": 17,
    "start_time": "2022-10-27T18:47:25.690Z"
   },
   {
    "duration": 10,
    "start_time": "2022-10-27T18:47:25.709Z"
   },
   {
    "duration": 12,
    "start_time": "2022-10-27T18:47:25.720Z"
   },
   {
    "duration": 317,
    "start_time": "2022-10-27T18:47:25.734Z"
   },
   {
    "duration": 334,
    "start_time": "2022-10-27T18:47:26.054Z"
   },
   {
    "duration": 242,
    "start_time": "2022-10-27T18:47:26.390Z"
   },
   {
    "duration": 335,
    "start_time": "2022-10-27T18:47:26.635Z"
   },
   {
    "duration": 280,
    "start_time": "2022-10-27T18:47:26.973Z"
   },
   {
    "duration": 312,
    "start_time": "2022-10-27T18:47:27.257Z"
   },
   {
    "duration": 10,
    "start_time": "2022-10-27T18:47:27.571Z"
   },
   {
    "duration": 152,
    "start_time": "2022-10-27T18:47:27.582Z"
   },
   {
    "duration": 150,
    "start_time": "2022-10-27T18:47:27.736Z"
   },
   {
    "duration": 5,
    "start_time": "2022-10-27T18:47:27.888Z"
   },
   {
    "duration": 196,
    "start_time": "2022-10-27T18:47:27.895Z"
   },
   {
    "duration": 6,
    "start_time": "2022-10-27T18:47:28.093Z"
   },
   {
    "duration": 276,
    "start_time": "2022-10-27T18:47:28.100Z"
   },
   {
    "duration": 14,
    "start_time": "2022-10-27T18:47:28.377Z"
   },
   {
    "duration": 32,
    "start_time": "2022-10-27T18:47:28.392Z"
   },
   {
    "duration": 10,
    "start_time": "2022-10-27T18:47:28.426Z"
   },
   {
    "duration": 41,
    "start_time": "2022-10-27T18:47:28.438Z"
   },
   {
    "duration": 42,
    "start_time": "2022-10-27T18:47:28.482Z"
   },
   {
    "duration": 103,
    "start_time": "2022-10-28T16:47:24.454Z"
   },
   {
    "duration": 125,
    "start_time": "2022-10-28T16:47:35.431Z"
   },
   {
    "duration": 0,
    "start_time": "2022-10-28T16:47:35.559Z"
   },
   {
    "duration": 0,
    "start_time": "2022-10-28T16:47:35.560Z"
   },
   {
    "duration": 0,
    "start_time": "2022-10-28T16:47:35.561Z"
   },
   {
    "duration": 0,
    "start_time": "2022-10-28T16:47:35.562Z"
   },
   {
    "duration": 0,
    "start_time": "2022-10-28T16:47:35.563Z"
   },
   {
    "duration": 0,
    "start_time": "2022-10-28T16:47:35.564Z"
   },
   {
    "duration": 0,
    "start_time": "2022-10-28T16:47:35.565Z"
   },
   {
    "duration": 0,
    "start_time": "2022-10-28T16:47:35.566Z"
   },
   {
    "duration": 0,
    "start_time": "2022-10-28T16:47:35.567Z"
   },
   {
    "duration": 0,
    "start_time": "2022-10-28T16:47:35.568Z"
   },
   {
    "duration": 0,
    "start_time": "2022-10-28T16:47:35.569Z"
   },
   {
    "duration": 0,
    "start_time": "2022-10-28T16:47:35.570Z"
   },
   {
    "duration": 0,
    "start_time": "2022-10-28T16:47:35.571Z"
   },
   {
    "duration": 0,
    "start_time": "2022-10-28T16:47:35.572Z"
   },
   {
    "duration": 0,
    "start_time": "2022-10-28T16:47:35.572Z"
   },
   {
    "duration": 0,
    "start_time": "2022-10-28T16:47:35.573Z"
   },
   {
    "duration": 0,
    "start_time": "2022-10-28T16:47:35.574Z"
   },
   {
    "duration": 0,
    "start_time": "2022-10-28T16:47:35.575Z"
   },
   {
    "duration": 0,
    "start_time": "2022-10-28T16:47:35.576Z"
   },
   {
    "duration": 0,
    "start_time": "2022-10-28T16:47:35.577Z"
   },
   {
    "duration": 0,
    "start_time": "2022-10-28T16:47:35.578Z"
   },
   {
    "duration": 0,
    "start_time": "2022-10-28T16:47:35.579Z"
   },
   {
    "duration": 0,
    "start_time": "2022-10-28T16:47:35.580Z"
   },
   {
    "duration": 0,
    "start_time": "2022-10-28T16:47:35.581Z"
   },
   {
    "duration": 0,
    "start_time": "2022-10-28T16:47:35.582Z"
   },
   {
    "duration": 0,
    "start_time": "2022-10-28T16:47:35.583Z"
   },
   {
    "duration": 0,
    "start_time": "2022-10-28T16:47:35.584Z"
   },
   {
    "duration": 0,
    "start_time": "2022-10-28T16:47:35.585Z"
   },
   {
    "duration": 54,
    "start_time": "2022-10-28T16:47:35.587Z"
   },
   {
    "duration": 0,
    "start_time": "2022-10-28T16:47:35.643Z"
   },
   {
    "duration": 0,
    "start_time": "2022-10-28T16:47:35.644Z"
   },
   {
    "duration": 0,
    "start_time": "2022-10-28T16:47:35.644Z"
   },
   {
    "duration": 0,
    "start_time": "2022-10-28T16:47:35.645Z"
   },
   {
    "duration": 0,
    "start_time": "2022-10-28T16:47:35.647Z"
   },
   {
    "duration": 0,
    "start_time": "2022-10-28T16:47:35.647Z"
   },
   {
    "duration": 0,
    "start_time": "2022-10-28T16:47:35.648Z"
   },
   {
    "duration": 0,
    "start_time": "2022-10-28T16:47:35.649Z"
   },
   {
    "duration": 0,
    "start_time": "2022-10-28T16:47:35.650Z"
   },
   {
    "duration": 0,
    "start_time": "2022-10-28T16:47:35.651Z"
   },
   {
    "duration": 0,
    "start_time": "2022-10-28T16:47:35.652Z"
   },
   {
    "duration": 6,
    "start_time": "2022-10-28T16:49:54.150Z"
   },
   {
    "duration": 1181,
    "start_time": "2022-10-28T16:51:11.251Z"
   },
   {
    "duration": 238,
    "start_time": "2022-10-28T16:51:12.434Z"
   },
   {
    "duration": 12,
    "start_time": "2022-10-28T16:51:12.674Z"
   },
   {
    "duration": 10,
    "start_time": "2022-10-28T16:51:12.688Z"
   },
   {
    "duration": 7,
    "start_time": "2022-10-28T16:51:12.699Z"
   },
   {
    "duration": 11,
    "start_time": "2022-10-28T16:51:12.708Z"
   },
   {
    "duration": 14,
    "start_time": "2022-10-28T16:51:12.720Z"
   },
   {
    "duration": 8,
    "start_time": "2022-10-28T16:51:12.736Z"
   },
   {
    "duration": 8,
    "start_time": "2022-10-28T16:51:12.745Z"
   },
   {
    "duration": 7,
    "start_time": "2022-10-28T16:51:12.756Z"
   },
   {
    "duration": 11,
    "start_time": "2022-10-28T16:51:12.765Z"
   },
   {
    "duration": 6,
    "start_time": "2022-10-28T16:51:12.778Z"
   },
   {
    "duration": 23,
    "start_time": "2022-10-28T16:51:12.786Z"
   },
   {
    "duration": 7,
    "start_time": "2022-10-28T16:51:12.810Z"
   },
   {
    "duration": 12,
    "start_time": "2022-10-28T16:51:12.818Z"
   },
   {
    "duration": 7,
    "start_time": "2022-10-28T16:51:12.832Z"
   },
   {
    "duration": 9,
    "start_time": "2022-10-28T16:51:12.840Z"
   },
   {
    "duration": 7,
    "start_time": "2022-10-28T16:51:12.850Z"
   },
   {
    "duration": 10,
    "start_time": "2022-10-28T16:51:12.858Z"
   },
   {
    "duration": 37,
    "start_time": "2022-10-28T16:51:12.869Z"
   },
   {
    "duration": 10,
    "start_time": "2022-10-28T16:51:12.907Z"
   },
   {
    "duration": 19,
    "start_time": "2022-10-28T16:51:12.918Z"
   },
   {
    "duration": 257,
    "start_time": "2022-10-28T16:51:12.938Z"
   },
   {
    "duration": 270,
    "start_time": "2022-10-28T16:51:13.196Z"
   },
   {
    "duration": 192,
    "start_time": "2022-10-28T16:51:13.467Z"
   },
   {
    "duration": 364,
    "start_time": "2022-10-28T16:51:13.661Z"
   },
   {
    "duration": 203,
    "start_time": "2022-10-28T16:51:14.026Z"
   },
   {
    "duration": 275,
    "start_time": "2022-10-28T16:51:14.232Z"
   },
   {
    "duration": 9,
    "start_time": "2022-10-28T16:51:14.509Z"
   },
   {
    "duration": 120,
    "start_time": "2022-10-28T16:51:14.520Z"
   },
   {
    "duration": 117,
    "start_time": "2022-10-28T16:51:14.642Z"
   },
   {
    "duration": 4,
    "start_time": "2022-10-28T16:51:14.760Z"
   },
   {
    "duration": 151,
    "start_time": "2022-10-28T16:51:14.766Z"
   },
   {
    "duration": 4,
    "start_time": "2022-10-28T16:51:14.918Z"
   },
   {
    "duration": 222,
    "start_time": "2022-10-28T16:51:14.923Z"
   },
   {
    "duration": 8,
    "start_time": "2022-10-28T16:51:15.147Z"
   },
   {
    "duration": 8,
    "start_time": "2022-10-28T16:51:15.157Z"
   },
   {
    "duration": 7,
    "start_time": "2022-10-28T16:51:15.166Z"
   },
   {
    "duration": 39,
    "start_time": "2022-10-28T16:51:15.174Z"
   },
   {
    "duration": 11,
    "start_time": "2022-10-28T16:51:15.215Z"
   },
   {
    "duration": 127,
    "start_time": "2022-10-28T16:54:18.701Z"
   },
   {
    "duration": 114,
    "start_time": "2022-10-28T16:54:44.259Z"
   },
   {
    "duration": 123,
    "start_time": "2022-10-28T16:57:48.939Z"
   },
   {
    "duration": 118,
    "start_time": "2022-10-28T16:58:24.876Z"
   },
   {
    "duration": 116,
    "start_time": "2022-10-28T17:00:11.859Z"
   },
   {
    "duration": 129,
    "start_time": "2022-10-28T17:00:21.451Z"
   },
   {
    "duration": 154,
    "start_time": "2022-10-28T17:02:33.142Z"
   },
   {
    "duration": 4,
    "start_time": "2022-10-28T17:08:35.580Z"
   },
   {
    "duration": 9,
    "start_time": "2022-10-28T17:16:16.966Z"
   },
   {
    "duration": 9,
    "start_time": "2022-10-28T17:17:13.174Z"
   },
   {
    "duration": 18,
    "start_time": "2022-10-28T17:19:43.738Z"
   },
   {
    "duration": 1072,
    "start_time": "2022-10-28T17:24:42.982Z"
   },
   {
    "duration": 77,
    "start_time": "2022-10-28T17:24:44.056Z"
   },
   {
    "duration": 12,
    "start_time": "2022-10-28T17:24:44.135Z"
   },
   {
    "duration": 10,
    "start_time": "2022-10-28T17:24:44.149Z"
   },
   {
    "duration": 7,
    "start_time": "2022-10-28T17:24:44.161Z"
   },
   {
    "duration": 10,
    "start_time": "2022-10-28T17:24:44.169Z"
   },
   {
    "duration": 13,
    "start_time": "2022-10-28T17:24:44.180Z"
   },
   {
    "duration": 7,
    "start_time": "2022-10-28T17:24:44.195Z"
   },
   {
    "duration": 4,
    "start_time": "2022-10-28T17:24:44.204Z"
   },
   {
    "duration": 6,
    "start_time": "2022-10-28T17:24:44.210Z"
   },
   {
    "duration": 13,
    "start_time": "2022-10-28T17:24:44.217Z"
   },
   {
    "duration": 8,
    "start_time": "2022-10-28T17:24:44.232Z"
   },
   {
    "duration": 13,
    "start_time": "2022-10-28T17:24:44.241Z"
   },
   {
    "duration": 7,
    "start_time": "2022-10-28T17:24:44.255Z"
   },
   {
    "duration": 13,
    "start_time": "2022-10-28T17:24:44.263Z"
   },
   {
    "duration": 6,
    "start_time": "2022-10-28T17:24:44.304Z"
   },
   {
    "duration": 7,
    "start_time": "2022-10-28T17:24:44.311Z"
   },
   {
    "duration": 8,
    "start_time": "2022-10-28T17:24:44.319Z"
   },
   {
    "duration": 12,
    "start_time": "2022-10-28T17:24:44.328Z"
   },
   {
    "duration": 11,
    "start_time": "2022-10-28T17:24:44.341Z"
   },
   {
    "duration": 9,
    "start_time": "2022-10-28T17:24:44.353Z"
   },
   {
    "duration": 10,
    "start_time": "2022-10-28T17:24:44.364Z"
   },
   {
    "duration": 289,
    "start_time": "2022-10-28T17:24:44.375Z"
   },
   {
    "duration": 257,
    "start_time": "2022-10-28T17:24:44.665Z"
   },
   {
    "duration": 181,
    "start_time": "2022-10-28T17:24:44.924Z"
   },
   {
    "duration": 292,
    "start_time": "2022-10-28T17:24:45.106Z"
   },
   {
    "duration": 203,
    "start_time": "2022-10-28T17:24:45.405Z"
   },
   {
    "duration": 285,
    "start_time": "2022-10-28T17:24:45.610Z"
   },
   {
    "duration": 15,
    "start_time": "2022-10-28T17:24:45.897Z"
   },
   {
    "duration": 135,
    "start_time": "2022-10-28T17:24:45.913Z"
   },
   {
    "duration": 134,
    "start_time": "2022-10-28T17:24:46.050Z"
   },
   {
    "duration": 5,
    "start_time": "2022-10-28T17:24:46.186Z"
   },
   {
    "duration": 165,
    "start_time": "2022-10-28T17:24:46.192Z"
   },
   {
    "duration": 5,
    "start_time": "2022-10-28T17:24:46.358Z"
   },
   {
    "duration": 261,
    "start_time": "2022-10-28T17:24:46.364Z"
   },
   {
    "duration": 10,
    "start_time": "2022-10-28T17:24:46.626Z"
   },
   {
    "duration": 10,
    "start_time": "2022-10-28T17:24:46.637Z"
   },
   {
    "duration": 8,
    "start_time": "2022-10-28T17:24:46.649Z"
   },
   {
    "duration": 20,
    "start_time": "2022-10-28T17:24:46.658Z"
   },
   {
    "duration": 14,
    "start_time": "2022-10-28T17:24:46.706Z"
   },
   {
    "duration": 1082,
    "start_time": "2022-10-28T17:53:33.483Z"
   },
   {
    "duration": 77,
    "start_time": "2022-10-28T17:53:34.566Z"
   },
   {
    "duration": 12,
    "start_time": "2022-10-28T17:53:34.645Z"
   },
   {
    "duration": 11,
    "start_time": "2022-10-28T17:53:34.660Z"
   },
   {
    "duration": 8,
    "start_time": "2022-10-28T17:53:34.673Z"
   },
   {
    "duration": 10,
    "start_time": "2022-10-28T17:53:34.683Z"
   },
   {
    "duration": 10,
    "start_time": "2022-10-28T17:53:34.695Z"
   },
   {
    "duration": 6,
    "start_time": "2022-10-28T17:53:34.707Z"
   },
   {
    "duration": 4,
    "start_time": "2022-10-28T17:53:34.714Z"
   },
   {
    "duration": 6,
    "start_time": "2022-10-28T17:53:34.721Z"
   },
   {
    "duration": 12,
    "start_time": "2022-10-28T17:53:34.729Z"
   },
   {
    "duration": 7,
    "start_time": "2022-10-28T17:53:34.742Z"
   },
   {
    "duration": 14,
    "start_time": "2022-10-28T17:53:34.751Z"
   },
   {
    "duration": 7,
    "start_time": "2022-10-28T17:53:34.767Z"
   },
   {
    "duration": 10,
    "start_time": "2022-10-28T17:53:34.806Z"
   },
   {
    "duration": 8,
    "start_time": "2022-10-28T17:53:34.818Z"
   },
   {
    "duration": 9,
    "start_time": "2022-10-28T17:53:34.828Z"
   },
   {
    "duration": 10,
    "start_time": "2022-10-28T17:53:34.839Z"
   },
   {
    "duration": 13,
    "start_time": "2022-10-28T17:53:34.850Z"
   },
   {
    "duration": 12,
    "start_time": "2022-10-28T17:53:34.865Z"
   },
   {
    "duration": 30,
    "start_time": "2022-10-28T17:53:34.879Z"
   },
   {
    "duration": 13,
    "start_time": "2022-10-28T17:53:34.911Z"
   },
   {
    "duration": 292,
    "start_time": "2022-10-28T17:53:34.926Z"
   },
   {
    "duration": 280,
    "start_time": "2022-10-28T17:53:35.220Z"
   },
   {
    "duration": 208,
    "start_time": "2022-10-28T17:53:35.504Z"
   },
   {
    "duration": 313,
    "start_time": "2022-10-28T17:53:35.714Z"
   },
   {
    "duration": 206,
    "start_time": "2022-10-28T17:53:36.029Z"
   },
   {
    "duration": 330,
    "start_time": "2022-10-28T17:53:36.239Z"
   },
   {
    "duration": 12,
    "start_time": "2022-10-28T17:53:36.571Z"
   },
   {
    "duration": 158,
    "start_time": "2022-10-28T17:53:36.585Z"
   },
   {
    "duration": 132,
    "start_time": "2022-10-28T17:53:36.745Z"
   },
   {
    "duration": 5,
    "start_time": "2022-10-28T17:53:36.878Z"
   },
   {
    "duration": 173,
    "start_time": "2022-10-28T17:53:36.884Z"
   },
   {
    "duration": 4,
    "start_time": "2022-10-28T17:53:37.058Z"
   },
   {
    "duration": 278,
    "start_time": "2022-10-28T17:53:37.063Z"
   },
   {
    "duration": 14,
    "start_time": "2022-10-28T17:53:37.343Z"
   },
   {
    "duration": 19,
    "start_time": "2022-10-28T17:53:37.359Z"
   },
   {
    "duration": 28,
    "start_time": "2022-10-28T17:53:37.381Z"
   },
   {
    "duration": 29,
    "start_time": "2022-10-28T17:53:37.411Z"
   },
   {
    "duration": 18,
    "start_time": "2022-10-28T17:53:37.442Z"
   },
   {
    "duration": 5,
    "start_time": "2022-10-28T17:54:55.082Z"
   },
   {
    "duration": 1017,
    "start_time": "2022-10-28T17:55:24.232Z"
   },
   {
    "duration": 76,
    "start_time": "2022-10-28T17:55:25.251Z"
   },
   {
    "duration": 12,
    "start_time": "2022-10-28T17:55:25.328Z"
   },
   {
    "duration": 22,
    "start_time": "2022-10-28T17:55:25.342Z"
   },
   {
    "duration": 11,
    "start_time": "2022-10-28T17:55:25.366Z"
   },
   {
    "duration": 16,
    "start_time": "2022-10-28T17:55:25.378Z"
   },
   {
    "duration": 15,
    "start_time": "2022-10-28T17:55:25.396Z"
   },
   {
    "duration": 21,
    "start_time": "2022-10-28T17:55:25.413Z"
   },
   {
    "duration": 19,
    "start_time": "2022-10-28T17:55:25.435Z"
   },
   {
    "duration": 8,
    "start_time": "2022-10-28T17:55:25.457Z"
   },
   {
    "duration": 26,
    "start_time": "2022-10-28T17:55:25.466Z"
   },
   {
    "duration": 11,
    "start_time": "2022-10-28T17:55:25.493Z"
   },
   {
    "duration": 20,
    "start_time": "2022-10-28T17:55:25.505Z"
   },
   {
    "duration": 25,
    "start_time": "2022-10-28T17:55:25.527Z"
   },
   {
    "duration": 38,
    "start_time": "2022-10-28T17:55:25.554Z"
   },
   {
    "duration": 12,
    "start_time": "2022-10-28T17:55:25.594Z"
   },
   {
    "duration": 21,
    "start_time": "2022-10-28T17:55:25.607Z"
   },
   {
    "duration": 10,
    "start_time": "2022-10-28T17:55:25.629Z"
   },
   {
    "duration": 15,
    "start_time": "2022-10-28T17:55:25.641Z"
   },
   {
    "duration": 20,
    "start_time": "2022-10-28T17:55:25.657Z"
   },
   {
    "duration": 11,
    "start_time": "2022-10-28T17:55:25.678Z"
   },
   {
    "duration": 13,
    "start_time": "2022-10-28T17:55:25.691Z"
   },
   {
    "duration": 264,
    "start_time": "2022-10-28T17:55:25.705Z"
   },
   {
    "duration": 265,
    "start_time": "2022-10-28T17:55:25.971Z"
   },
   {
    "duration": 198,
    "start_time": "2022-10-28T17:55:26.238Z"
   },
   {
    "duration": 281,
    "start_time": "2022-10-28T17:55:26.438Z"
   },
   {
    "duration": 209,
    "start_time": "2022-10-28T17:55:26.720Z"
   },
   {
    "duration": 294,
    "start_time": "2022-10-28T17:55:26.932Z"
   },
   {
    "duration": 10,
    "start_time": "2022-10-28T17:55:27.227Z"
   },
   {
    "duration": 182,
    "start_time": "2022-10-28T17:55:27.238Z"
   },
   {
    "duration": 146,
    "start_time": "2022-10-28T17:55:27.422Z"
   },
   {
    "duration": 4,
    "start_time": "2022-10-28T17:55:27.570Z"
   },
   {
    "duration": 162,
    "start_time": "2022-10-28T17:55:27.576Z"
   },
   {
    "duration": 4,
    "start_time": "2022-10-28T17:55:27.740Z"
   },
   {
    "duration": 267,
    "start_time": "2022-10-28T17:55:27.746Z"
   },
   {
    "duration": 11,
    "start_time": "2022-10-28T17:55:28.015Z"
   },
   {
    "duration": 10,
    "start_time": "2022-10-28T17:55:28.028Z"
   },
   {
    "duration": 4,
    "start_time": "2022-10-28T17:55:28.040Z"
   },
   {
    "duration": 12,
    "start_time": "2022-10-28T17:55:28.046Z"
   },
   {
    "duration": 52,
    "start_time": "2022-10-28T17:55:28.060Z"
   },
   {
    "duration": 13,
    "start_time": "2022-10-28T17:55:28.113Z"
   },
   {
    "duration": 1106,
    "start_time": "2022-10-28T18:01:48.998Z"
   },
   {
    "duration": 83,
    "start_time": "2022-10-28T18:01:50.106Z"
   },
   {
    "duration": 11,
    "start_time": "2022-10-28T18:01:50.190Z"
   },
   {
    "duration": 19,
    "start_time": "2022-10-28T18:01:50.203Z"
   },
   {
    "duration": 16,
    "start_time": "2022-10-28T18:01:50.225Z"
   },
   {
    "duration": 17,
    "start_time": "2022-10-28T18:01:50.247Z"
   },
   {
    "duration": 22,
    "start_time": "2022-10-28T18:01:50.266Z"
   },
   {
    "duration": 10,
    "start_time": "2022-10-28T18:01:50.290Z"
   },
   {
    "duration": 19,
    "start_time": "2022-10-28T18:01:50.302Z"
   },
   {
    "duration": 17,
    "start_time": "2022-10-28T18:01:50.323Z"
   },
   {
    "duration": 23,
    "start_time": "2022-10-28T18:01:50.342Z"
   },
   {
    "duration": 10,
    "start_time": "2022-10-28T18:01:50.367Z"
   },
   {
    "duration": 21,
    "start_time": "2022-10-28T18:01:50.379Z"
   },
   {
    "duration": 10,
    "start_time": "2022-10-28T18:01:50.405Z"
   },
   {
    "duration": 55,
    "start_time": "2022-10-28T18:01:50.417Z"
   },
   {
    "duration": 11,
    "start_time": "2022-10-28T18:01:50.473Z"
   },
   {
    "duration": 8,
    "start_time": "2022-10-28T18:01:50.486Z"
   },
   {
    "duration": 11,
    "start_time": "2022-10-28T18:01:50.496Z"
   },
   {
    "duration": 23,
    "start_time": "2022-10-28T18:01:50.509Z"
   },
   {
    "duration": 26,
    "start_time": "2022-10-28T18:01:50.534Z"
   },
   {
    "duration": 15,
    "start_time": "2022-10-28T18:01:50.562Z"
   },
   {
    "duration": 20,
    "start_time": "2022-10-28T18:01:50.579Z"
   },
   {
    "duration": 339,
    "start_time": "2022-10-28T18:01:50.601Z"
   },
   {
    "duration": 283,
    "start_time": "2022-10-28T18:01:50.942Z"
   },
   {
    "duration": 211,
    "start_time": "2022-10-28T18:01:51.227Z"
   },
   {
    "duration": 299,
    "start_time": "2022-10-28T18:01:51.440Z"
   },
   {
    "duration": 232,
    "start_time": "2022-10-28T18:01:51.741Z"
   },
   {
    "duration": 340,
    "start_time": "2022-10-28T18:01:51.975Z"
   },
   {
    "duration": 10,
    "start_time": "2022-10-28T18:01:52.317Z"
   },
   {
    "duration": 147,
    "start_time": "2022-10-28T18:01:52.329Z"
   },
   {
    "duration": 150,
    "start_time": "2022-10-28T18:01:52.477Z"
   },
   {
    "duration": 4,
    "start_time": "2022-10-28T18:01:52.628Z"
   },
   {
    "duration": 171,
    "start_time": "2022-10-28T18:01:52.634Z"
   },
   {
    "duration": 4,
    "start_time": "2022-10-28T18:01:52.807Z"
   },
   {
    "duration": 321,
    "start_time": "2022-10-28T18:01:52.813Z"
   },
   {
    "duration": 12,
    "start_time": "2022-10-28T18:01:53.136Z"
   },
   {
    "duration": 13,
    "start_time": "2022-10-28T18:01:53.150Z"
   },
   {
    "duration": 41,
    "start_time": "2022-10-28T18:01:53.165Z"
   },
   {
    "duration": 11,
    "start_time": "2022-10-28T18:01:53.207Z"
   },
   {
    "duration": 22,
    "start_time": "2022-10-28T18:01:53.220Z"
   },
   {
    "duration": 12,
    "start_time": "2022-10-28T18:01:53.246Z"
   },
   {
    "duration": 974,
    "start_time": "2022-10-28T18:15:11.064Z"
   },
   {
    "duration": 76,
    "start_time": "2022-10-28T18:15:12.040Z"
   },
   {
    "duration": 12,
    "start_time": "2022-10-28T18:15:12.118Z"
   },
   {
    "duration": 10,
    "start_time": "2022-10-28T18:15:12.132Z"
   },
   {
    "duration": 10,
    "start_time": "2022-10-28T18:15:12.144Z"
   },
   {
    "duration": 13,
    "start_time": "2022-10-28T18:15:12.155Z"
   },
   {
    "duration": 15,
    "start_time": "2022-10-28T18:15:12.169Z"
   },
   {
    "duration": 4,
    "start_time": "2022-10-28T18:15:12.186Z"
   },
   {
    "duration": 14,
    "start_time": "2022-10-28T18:15:12.191Z"
   },
   {
    "duration": 5,
    "start_time": "2022-10-28T18:15:12.208Z"
   },
   {
    "duration": 17,
    "start_time": "2022-10-28T18:15:12.214Z"
   },
   {
    "duration": 14,
    "start_time": "2022-10-28T18:15:12.232Z"
   },
   {
    "duration": 14,
    "start_time": "2022-10-28T18:15:12.248Z"
   },
   {
    "duration": 24,
    "start_time": "2022-10-28T18:15:12.264Z"
   },
   {
    "duration": 19,
    "start_time": "2022-10-28T18:15:12.290Z"
   },
   {
    "duration": 7,
    "start_time": "2022-10-28T18:15:12.311Z"
   },
   {
    "duration": 8,
    "start_time": "2022-10-28T18:15:12.320Z"
   },
   {
    "duration": 8,
    "start_time": "2022-10-28T18:15:12.330Z"
   },
   {
    "duration": 11,
    "start_time": "2022-10-28T18:15:12.340Z"
   },
   {
    "duration": 11,
    "start_time": "2022-10-28T18:15:12.352Z"
   },
   {
    "duration": 10,
    "start_time": "2022-10-28T18:15:12.364Z"
   },
   {
    "duration": 31,
    "start_time": "2022-10-28T18:15:12.375Z"
   },
   {
    "duration": 272,
    "start_time": "2022-10-28T18:15:12.407Z"
   },
   {
    "duration": 275,
    "start_time": "2022-10-28T18:15:12.680Z"
   },
   {
    "duration": 188,
    "start_time": "2022-10-28T18:15:12.956Z"
   },
   {
    "duration": 286,
    "start_time": "2022-10-28T18:15:13.146Z"
   },
   {
    "duration": 194,
    "start_time": "2022-10-28T18:15:13.434Z"
   },
   {
    "duration": 278,
    "start_time": "2022-10-28T18:15:13.631Z"
   },
   {
    "duration": 9,
    "start_time": "2022-10-28T18:15:13.911Z"
   },
   {
    "duration": 136,
    "start_time": "2022-10-28T18:15:13.922Z"
   },
   {
    "duration": 128,
    "start_time": "2022-10-28T18:15:14.060Z"
   },
   {
    "duration": 5,
    "start_time": "2022-10-28T18:15:14.190Z"
   },
   {
    "duration": 156,
    "start_time": "2022-10-28T18:15:14.196Z"
   },
   {
    "duration": 4,
    "start_time": "2022-10-28T18:15:14.354Z"
   },
   {
    "duration": 224,
    "start_time": "2022-10-28T18:15:14.359Z"
   },
   {
    "duration": 10,
    "start_time": "2022-10-28T18:15:14.584Z"
   },
   {
    "duration": 11,
    "start_time": "2022-10-28T18:15:14.605Z"
   },
   {
    "duration": 4,
    "start_time": "2022-10-28T18:15:14.618Z"
   },
   {
    "duration": 7,
    "start_time": "2022-10-28T18:15:14.624Z"
   },
   {
    "duration": 19,
    "start_time": "2022-10-28T18:15:14.632Z"
   },
   {
    "duration": 13,
    "start_time": "2022-10-28T18:15:14.652Z"
   },
   {
    "duration": 4,
    "start_time": "2022-10-28T18:20:24.220Z"
   },
   {
    "duration": 1362,
    "start_time": "2022-10-28T18:21:41.891Z"
   },
   {
    "duration": 27,
    "start_time": "2022-10-28T18:25:52.338Z"
   },
   {
    "duration": 7,
    "start_time": "2022-10-28T18:26:03.717Z"
   },
   {
    "duration": 7,
    "start_time": "2022-10-28T18:26:25.455Z"
   },
   {
    "duration": 3,
    "start_time": "2022-10-28T18:27:33.687Z"
   },
   {
    "duration": 5,
    "start_time": "2022-10-28T18:27:52.239Z"
   },
   {
    "duration": 4,
    "start_time": "2022-10-28T18:28:04.462Z"
   },
   {
    "duration": 7,
    "start_time": "2022-10-28T18:28:05.082Z"
   },
   {
    "duration": 7,
    "start_time": "2022-10-28T18:28:05.621Z"
   },
   {
    "duration": 7,
    "start_time": "2022-10-28T18:28:06.105Z"
   },
   {
    "duration": 5,
    "start_time": "2022-10-28T18:28:06.671Z"
   },
   {
    "duration": 1053,
    "start_time": "2022-10-28T18:30:27.889Z"
   },
   {
    "duration": 86,
    "start_time": "2022-10-28T18:30:28.944Z"
   },
   {
    "duration": 15,
    "start_time": "2022-10-28T18:30:29.031Z"
   },
   {
    "duration": 11,
    "start_time": "2022-10-28T18:30:29.047Z"
   },
   {
    "duration": 7,
    "start_time": "2022-10-28T18:30:29.060Z"
   },
   {
    "duration": 9,
    "start_time": "2022-10-28T18:30:29.068Z"
   },
   {
    "duration": 13,
    "start_time": "2022-10-28T18:30:29.079Z"
   },
   {
    "duration": 8,
    "start_time": "2022-10-28T18:30:29.093Z"
   },
   {
    "duration": 17,
    "start_time": "2022-10-28T18:30:29.102Z"
   },
   {
    "duration": 9,
    "start_time": "2022-10-28T18:30:29.121Z"
   },
   {
    "duration": 12,
    "start_time": "2022-10-28T18:30:29.132Z"
   },
   {
    "duration": 7,
    "start_time": "2022-10-28T18:30:29.145Z"
   },
   {
    "duration": 12,
    "start_time": "2022-10-28T18:30:29.153Z"
   },
   {
    "duration": 7,
    "start_time": "2022-10-28T18:30:29.167Z"
   },
   {
    "duration": 11,
    "start_time": "2022-10-28T18:30:29.175Z"
   },
   {
    "duration": 27,
    "start_time": "2022-10-28T18:30:29.187Z"
   },
   {
    "duration": 9,
    "start_time": "2022-10-28T18:30:29.220Z"
   },
   {
    "duration": 11,
    "start_time": "2022-10-28T18:30:29.231Z"
   },
   {
    "duration": 12,
    "start_time": "2022-10-28T18:30:29.244Z"
   },
   {
    "duration": 7,
    "start_time": "2022-10-28T18:30:29.257Z"
   },
   {
    "duration": 6,
    "start_time": "2022-10-28T18:30:29.265Z"
   },
   {
    "duration": 7,
    "start_time": "2022-10-28T18:30:29.273Z"
   },
   {
    "duration": 5,
    "start_time": "2022-10-28T18:30:29.281Z"
   },
   {
    "duration": 28,
    "start_time": "2022-10-28T18:30:29.287Z"
   },
   {
    "duration": 12,
    "start_time": "2022-10-28T18:30:29.316Z"
   },
   {
    "duration": 10,
    "start_time": "2022-10-28T18:30:29.329Z"
   },
   {
    "duration": 29,
    "start_time": "2022-10-28T18:30:29.340Z"
   },
   {
    "duration": 265,
    "start_time": "2022-10-28T18:30:29.371Z"
   },
   {
    "duration": 286,
    "start_time": "2022-10-28T18:30:29.638Z"
   },
   {
    "duration": 207,
    "start_time": "2022-10-28T18:30:29.925Z"
   },
   {
    "duration": 281,
    "start_time": "2022-10-28T18:30:30.133Z"
   },
   {
    "duration": 210,
    "start_time": "2022-10-28T18:30:30.416Z"
   },
   {
    "duration": 292,
    "start_time": "2022-10-28T18:30:30.627Z"
   },
   {
    "duration": 9,
    "start_time": "2022-10-28T18:30:30.921Z"
   },
   {
    "duration": 147,
    "start_time": "2022-10-28T18:30:30.931Z"
   },
   {
    "duration": 136,
    "start_time": "2022-10-28T18:30:31.079Z"
   },
   {
    "duration": 4,
    "start_time": "2022-10-28T18:30:31.217Z"
   },
   {
    "duration": 157,
    "start_time": "2022-10-28T18:30:31.223Z"
   },
   {
    "duration": 4,
    "start_time": "2022-10-28T18:30:31.381Z"
   },
   {
    "duration": 250,
    "start_time": "2022-10-28T18:30:31.386Z"
   },
   {
    "duration": 9,
    "start_time": "2022-10-28T18:30:31.639Z"
   },
   {
    "duration": 22,
    "start_time": "2022-10-28T18:30:31.649Z"
   },
   {
    "duration": 11,
    "start_time": "2022-10-28T18:30:31.672Z"
   },
   {
    "duration": 47,
    "start_time": "2022-10-28T18:30:31.685Z"
   },
   {
    "duration": 30,
    "start_time": "2022-10-28T18:30:31.736Z"
   },
   {
    "duration": 13,
    "start_time": "2022-10-28T18:30:31.768Z"
   },
   {
    "duration": 137,
    "start_time": "2022-10-28T19:00:23.228Z"
   },
   {
    "duration": 146,
    "start_time": "2022-10-28T19:00:41.259Z"
   },
   {
    "duration": 1061,
    "start_time": "2022-10-28T19:02:42.840Z"
   },
   {
    "duration": 100,
    "start_time": "2022-10-28T19:02:43.903Z"
   },
   {
    "duration": 17,
    "start_time": "2022-10-28T19:02:44.004Z"
   },
   {
    "duration": 31,
    "start_time": "2022-10-28T19:02:44.023Z"
   },
   {
    "duration": 12,
    "start_time": "2022-10-28T19:02:44.056Z"
   },
   {
    "duration": 22,
    "start_time": "2022-10-28T19:02:44.069Z"
   },
   {
    "duration": 46,
    "start_time": "2022-10-28T19:02:44.092Z"
   },
   {
    "duration": 11,
    "start_time": "2022-10-28T19:02:44.139Z"
   },
   {
    "duration": 7,
    "start_time": "2022-10-28T19:02:44.152Z"
   },
   {
    "duration": 6,
    "start_time": "2022-10-28T19:02:44.161Z"
   },
   {
    "duration": 12,
    "start_time": "2022-10-28T19:02:44.168Z"
   },
   {
    "duration": 8,
    "start_time": "2022-10-28T19:02:44.182Z"
   },
   {
    "duration": 11,
    "start_time": "2022-10-28T19:02:44.192Z"
   },
   {
    "duration": 33,
    "start_time": "2022-10-28T19:02:44.204Z"
   },
   {
    "duration": 18,
    "start_time": "2022-10-28T19:02:44.239Z"
   },
   {
    "duration": 11,
    "start_time": "2022-10-28T19:02:44.260Z"
   },
   {
    "duration": 9,
    "start_time": "2022-10-28T19:02:44.273Z"
   },
   {
    "duration": 13,
    "start_time": "2022-10-28T19:02:44.284Z"
   },
   {
    "duration": 15,
    "start_time": "2022-10-28T19:02:44.299Z"
   },
   {
    "duration": 28,
    "start_time": "2022-10-28T19:02:44.315Z"
   },
   {
    "duration": 10,
    "start_time": "2022-10-28T19:02:44.345Z"
   },
   {
    "duration": 12,
    "start_time": "2022-10-28T19:02:44.357Z"
   },
   {
    "duration": 6,
    "start_time": "2022-10-28T19:02:44.371Z"
   },
   {
    "duration": 7,
    "start_time": "2022-10-28T19:02:44.379Z"
   },
   {
    "duration": 14,
    "start_time": "2022-10-28T19:02:44.387Z"
   },
   {
    "duration": 16,
    "start_time": "2022-10-28T19:02:44.402Z"
   },
   {
    "duration": 27,
    "start_time": "2022-10-28T19:02:44.420Z"
   },
   {
    "duration": 287,
    "start_time": "2022-10-28T19:02:44.450Z"
   },
   {
    "duration": 290,
    "start_time": "2022-10-28T19:02:44.739Z"
   },
   {
    "duration": 209,
    "start_time": "2022-10-28T19:02:45.030Z"
   },
   {
    "duration": 283,
    "start_time": "2022-10-28T19:02:45.241Z"
   },
   {
    "duration": 203,
    "start_time": "2022-10-28T19:02:45.531Z"
   },
   {
    "duration": 292,
    "start_time": "2022-10-28T19:02:45.736Z"
   },
   {
    "duration": 9,
    "start_time": "2022-10-28T19:02:46.031Z"
   },
   {
    "duration": 145,
    "start_time": "2022-10-28T19:02:46.042Z"
   },
   {
    "duration": 155,
    "start_time": "2022-10-28T19:02:46.190Z"
   },
   {
    "duration": 5,
    "start_time": "2022-10-28T19:02:46.346Z"
   },
   {
    "duration": 179,
    "start_time": "2022-10-28T19:02:46.352Z"
   },
   {
    "duration": 233,
    "start_time": "2022-10-28T19:02:46.533Z"
   },
   {
    "duration": 4,
    "start_time": "2022-10-28T19:02:46.767Z"
   },
   {
    "duration": 175,
    "start_time": "2022-10-28T19:02:46.773Z"
   },
   {
    "duration": 10,
    "start_time": "2022-10-28T19:02:46.950Z"
   },
   {
    "duration": 12,
    "start_time": "2022-10-28T19:02:46.961Z"
   },
   {
    "duration": 5,
    "start_time": "2022-10-28T19:02:46.975Z"
   },
   {
    "duration": 27,
    "start_time": "2022-10-28T19:02:46.981Z"
   },
   {
    "duration": 30,
    "start_time": "2022-10-28T19:02:47.009Z"
   },
   {
    "duration": 13,
    "start_time": "2022-10-28T19:02:47.041Z"
   },
   {
    "duration": 1103,
    "start_time": "2022-10-28T19:07:01.168Z"
   },
   {
    "duration": 97,
    "start_time": "2022-10-28T19:07:02.274Z"
   },
   {
    "duration": 13,
    "start_time": "2022-10-28T19:07:02.372Z"
   },
   {
    "duration": 11,
    "start_time": "2022-10-28T19:07:02.387Z"
   },
   {
    "duration": 8,
    "start_time": "2022-10-28T19:07:02.399Z"
   },
   {
    "duration": 40,
    "start_time": "2022-10-28T19:07:02.408Z"
   },
   {
    "duration": 10,
    "start_time": "2022-10-28T19:07:02.449Z"
   },
   {
    "duration": 5,
    "start_time": "2022-10-28T19:07:02.461Z"
   },
   {
    "duration": 8,
    "start_time": "2022-10-28T19:07:02.468Z"
   },
   {
    "duration": 7,
    "start_time": "2022-10-28T19:07:02.478Z"
   },
   {
    "duration": 12,
    "start_time": "2022-10-28T19:07:02.487Z"
   },
   {
    "duration": 8,
    "start_time": "2022-10-28T19:07:02.500Z"
   },
   {
    "duration": 37,
    "start_time": "2022-10-28T19:07:02.510Z"
   },
   {
    "duration": 11,
    "start_time": "2022-10-28T19:07:02.548Z"
   },
   {
    "duration": 15,
    "start_time": "2022-10-28T19:07:02.560Z"
   },
   {
    "duration": 6,
    "start_time": "2022-10-28T19:07:02.576Z"
   },
   {
    "duration": 9,
    "start_time": "2022-10-28T19:07:02.584Z"
   },
   {
    "duration": 7,
    "start_time": "2022-10-28T19:07:02.594Z"
   },
   {
    "duration": 45,
    "start_time": "2022-10-28T19:07:02.603Z"
   },
   {
    "duration": 9,
    "start_time": "2022-10-28T19:07:02.650Z"
   },
   {
    "duration": 10,
    "start_time": "2022-10-28T19:07:02.660Z"
   },
   {
    "duration": 10,
    "start_time": "2022-10-28T19:07:02.671Z"
   },
   {
    "duration": 6,
    "start_time": "2022-10-28T19:07:02.682Z"
   },
   {
    "duration": 7,
    "start_time": "2022-10-28T19:07:02.690Z"
   },
   {
    "duration": 15,
    "start_time": "2022-10-28T19:07:02.698Z"
   },
   {
    "duration": 40,
    "start_time": "2022-10-28T19:07:02.715Z"
   },
   {
    "duration": 12,
    "start_time": "2022-10-28T19:07:02.756Z"
   },
   {
    "duration": 299,
    "start_time": "2022-10-28T19:07:02.772Z"
   },
   {
    "duration": 312,
    "start_time": "2022-10-28T19:07:03.072Z"
   },
   {
    "duration": 218,
    "start_time": "2022-10-28T19:07:03.385Z"
   },
   {
    "duration": 294,
    "start_time": "2022-10-28T19:07:03.605Z"
   },
   {
    "duration": 229,
    "start_time": "2022-10-28T19:07:03.900Z"
   },
   {
    "duration": 286,
    "start_time": "2022-10-28T19:07:04.131Z"
   },
   {
    "duration": 13,
    "start_time": "2022-10-28T19:07:04.418Z"
   },
   {
    "duration": 135,
    "start_time": "2022-10-28T19:07:04.432Z"
   },
   {
    "duration": 143,
    "start_time": "2022-10-28T19:07:04.569Z"
   },
   {
    "duration": 5,
    "start_time": "2022-10-28T19:07:04.714Z"
   },
   {
    "duration": 193,
    "start_time": "2022-10-28T19:07:04.720Z"
   },
   {
    "duration": 238,
    "start_time": "2022-10-28T19:07:04.915Z"
   },
   {
    "duration": 5,
    "start_time": "2022-10-28T19:07:05.154Z"
   },
   {
    "duration": 171,
    "start_time": "2022-10-28T19:07:05.160Z"
   },
   {
    "duration": 9,
    "start_time": "2022-10-28T19:07:05.334Z"
   },
   {
    "duration": 8,
    "start_time": "2022-10-28T19:07:05.345Z"
   },
   {
    "duration": 8,
    "start_time": "2022-10-28T19:07:05.355Z"
   },
   {
    "duration": 11,
    "start_time": "2022-10-28T19:07:05.364Z"
   },
   {
    "duration": 19,
    "start_time": "2022-10-28T19:07:05.376Z"
   },
   {
    "duration": 17,
    "start_time": "2022-10-28T19:07:05.405Z"
   }
  ],
  "kernelspec": {
   "display_name": "Python 3 (ipykernel)",
   "language": "python",
   "name": "python3"
  },
  "language_info": {
   "codemirror_mode": {
    "name": "ipython",
    "version": 3
   },
   "file_extension": ".py",
   "mimetype": "text/x-python",
   "name": "python",
   "nbconvert_exporter": "python",
   "pygments_lexer": "ipython3",
   "version": "3.9.12"
  },
  "toc": {
   "base_numbering": 1,
   "nav_menu": {},
   "number_sections": true,
   "sideBar": true,
   "skip_h1_title": true,
   "title_cell": "Table of Contents",
   "title_sidebar": "Contents",
   "toc_cell": false,
   "toc_position": {
    "height": "calc(100% - 180px)",
    "left": "10px",
    "top": "150px",
    "width": "670.227px"
   },
   "toc_section_display": true,
   "toc_window_display": true
  }
 },
 "nbformat": 4,
 "nbformat_minor": 2
}
