{
 "cells": [
  {
   "cell_type": "markdown",
   "metadata": {},
   "source": [
    "# Определение перспективного тарифа для телеком-компании"
   ]
  },
  {
   "cell_type": "markdown",
   "metadata": {},
   "source": [
    "Чтобы скорректировать рекламный бюджет, коммерческий департамент хочет понять, какой тариф приносит больше денег. Нам предстоит сделать предварительный анализ тарифов на небольшой выборке клиентов. В нашем распоряжении данные 500 пользователей «Мегалайна»: кто они, откуда, каким тарифом пользуются, сколько звонков и сообщений каждый отправил за 2018 год. Нужно проанализировать поведение клиентов и сделать вывод — какой тариф лучше."
   ]
  },
  {
   "cell_type": "markdown",
   "metadata": {},
   "source": [
    "### Изучение данных."
   ]
  },
  {
   "cell_type": "markdown",
   "metadata": {},
   "source": [
    "Для начала импортируем все библиотеки, которые могут нам пригодиться:"
   ]
  },
  {
   "cell_type": "code",
   "execution_count": 1,
   "metadata": {},
   "outputs": [],
   "source": [
    "import pandas as pd\n",
    "import math\n",
    "import matplotlib.pyplot as plt\n",
    "from scipy import stats as st\n",
    "import numpy as np"
   ]
  },
  {
   "cell_type": "markdown",
   "metadata": {},
   "source": [
    "#### Таблица users (информация о пользователях)"
   ]
  },
  {
   "cell_type": "markdown",
   "metadata": {},
   "source": [
    "Прочитаем файл и сохраним его в переменной users:"
   ]
  },
  {
   "cell_type": "code",
   "execution_count": 2,
   "metadata": {},
   "outputs": [
    {
     "data": {
      "text/html": [
       "<div>\n",
       "<style scoped>\n",
       "    .dataframe tbody tr th:only-of-type {\n",
       "        vertical-align: middle;\n",
       "    }\n",
       "\n",
       "    .dataframe tbody tr th {\n",
       "        vertical-align: top;\n",
       "    }\n",
       "\n",
       "    .dataframe thead th {\n",
       "        text-align: right;\n",
       "    }\n",
       "</style>\n",
       "<table border=\"1\" class=\"dataframe\">\n",
       "  <thead>\n",
       "    <tr style=\"text-align: right;\">\n",
       "      <th></th>\n",
       "      <th>age</th>\n",
       "      <th>churn_date</th>\n",
       "      <th>city</th>\n",
       "      <th>first_name</th>\n",
       "      <th>last_name</th>\n",
       "      <th>reg_date</th>\n",
       "      <th>tariff</th>\n",
       "    </tr>\n",
       "    <tr>\n",
       "      <th>user_id</th>\n",
       "      <th></th>\n",
       "      <th></th>\n",
       "      <th></th>\n",
       "      <th></th>\n",
       "      <th></th>\n",
       "      <th></th>\n",
       "      <th></th>\n",
       "    </tr>\n",
       "  </thead>\n",
       "  <tbody>\n",
       "    <tr>\n",
       "      <th>1000</th>\n",
       "      <td>52</td>\n",
       "      <td>NaN</td>\n",
       "      <td>Краснодар</td>\n",
       "      <td>Рафаил</td>\n",
       "      <td>Верещагин</td>\n",
       "      <td>2018-05-25</td>\n",
       "      <td>ultra</td>\n",
       "    </tr>\n",
       "    <tr>\n",
       "      <th>1001</th>\n",
       "      <td>41</td>\n",
       "      <td>NaN</td>\n",
       "      <td>Москва</td>\n",
       "      <td>Иван</td>\n",
       "      <td>Ежов</td>\n",
       "      <td>2018-11-01</td>\n",
       "      <td>smart</td>\n",
       "    </tr>\n",
       "    <tr>\n",
       "      <th>1002</th>\n",
       "      <td>59</td>\n",
       "      <td>NaN</td>\n",
       "      <td>Стерлитамак</td>\n",
       "      <td>Евгений</td>\n",
       "      <td>Абрамович</td>\n",
       "      <td>2018-06-17</td>\n",
       "      <td>smart</td>\n",
       "    </tr>\n",
       "    <tr>\n",
       "      <th>1003</th>\n",
       "      <td>23</td>\n",
       "      <td>NaN</td>\n",
       "      <td>Москва</td>\n",
       "      <td>Белла</td>\n",
       "      <td>Белякова</td>\n",
       "      <td>2018-08-17</td>\n",
       "      <td>ultra</td>\n",
       "    </tr>\n",
       "    <tr>\n",
       "      <th>1004</th>\n",
       "      <td>68</td>\n",
       "      <td>NaN</td>\n",
       "      <td>Новокузнецк</td>\n",
       "      <td>Татьяна</td>\n",
       "      <td>Авдеенко</td>\n",
       "      <td>2018-05-14</td>\n",
       "      <td>ultra</td>\n",
       "    </tr>\n",
       "    <tr>\n",
       "      <th>1005</th>\n",
       "      <td>67</td>\n",
       "      <td>NaN</td>\n",
       "      <td>Набережные Челны</td>\n",
       "      <td>Афанасий</td>\n",
       "      <td>Горлов</td>\n",
       "      <td>2018-01-25</td>\n",
       "      <td>smart</td>\n",
       "    </tr>\n",
       "    <tr>\n",
       "      <th>1006</th>\n",
       "      <td>21</td>\n",
       "      <td>NaN</td>\n",
       "      <td>Ульяновск</td>\n",
       "      <td>Леонид</td>\n",
       "      <td>Ермолаев</td>\n",
       "      <td>2018-02-26</td>\n",
       "      <td>smart</td>\n",
       "    </tr>\n",
       "    <tr>\n",
       "      <th>1007</th>\n",
       "      <td>65</td>\n",
       "      <td>NaN</td>\n",
       "      <td>Москва</td>\n",
       "      <td>Юна</td>\n",
       "      <td>Березина</td>\n",
       "      <td>2018-04-19</td>\n",
       "      <td>smart</td>\n",
       "    </tr>\n",
       "    <tr>\n",
       "      <th>1008</th>\n",
       "      <td>63</td>\n",
       "      <td>NaN</td>\n",
       "      <td>Челябинск</td>\n",
       "      <td>Рустэм</td>\n",
       "      <td>Пономарёв</td>\n",
       "      <td>2018-12-19</td>\n",
       "      <td>smart</td>\n",
       "    </tr>\n",
       "    <tr>\n",
       "      <th>1009</th>\n",
       "      <td>24</td>\n",
       "      <td>NaN</td>\n",
       "      <td>Пермь</td>\n",
       "      <td>Василиса</td>\n",
       "      <td>Блинова</td>\n",
       "      <td>2018-03-22</td>\n",
       "      <td>smart</td>\n",
       "    </tr>\n",
       "  </tbody>\n",
       "</table>\n",
       "</div>"
      ],
      "text/plain": [
       "         age churn_date              city first_name  last_name    reg_date  \\\n",
       "user_id                                                                       \n",
       "1000      52        NaN         Краснодар     Рафаил  Верещагин  2018-05-25   \n",
       "1001      41        NaN            Москва       Иван       Ежов  2018-11-01   \n",
       "1002      59        NaN       Стерлитамак    Евгений  Абрамович  2018-06-17   \n",
       "1003      23        NaN            Москва      Белла   Белякова  2018-08-17   \n",
       "1004      68        NaN       Новокузнецк    Татьяна   Авдеенко  2018-05-14   \n",
       "1005      67        NaN  Набережные Челны   Афанасий     Горлов  2018-01-25   \n",
       "1006      21        NaN         Ульяновск     Леонид   Ермолаев  2018-02-26   \n",
       "1007      65        NaN            Москва        Юна   Березина  2018-04-19   \n",
       "1008      63        NaN         Челябинск     Рустэм  Пономарёв  2018-12-19   \n",
       "1009      24        NaN             Пермь   Василиса    Блинова  2018-03-22   \n",
       "\n",
       "        tariff  \n",
       "user_id         \n",
       "1000     ultra  \n",
       "1001     smart  \n",
       "1002     smart  \n",
       "1003     ultra  \n",
       "1004     ultra  \n",
       "1005     smart  \n",
       "1006     smart  \n",
       "1007     smart  \n",
       "1008     smart  \n",
       "1009     smart  "
      ]
     },
     "execution_count": 2,
     "metadata": {},
     "output_type": "execute_result"
    }
   ],
   "source": [
    "users = pd.read_csv('/datasets/users.csv', index_col=0)\n",
    "users.head(10)"
   ]
  },
  {
   "cell_type": "markdown",
   "metadata": {},
   "source": [
    "Подгрузим информацию о таблице:"
   ]
  },
  {
   "cell_type": "code",
   "execution_count": 3,
   "metadata": {},
   "outputs": [
    {
     "name": "stdout",
     "output_type": "stream",
     "text": [
      "<class 'pandas.core.frame.DataFrame'>\n",
      "Int64Index: 500 entries, 1000 to 1499\n",
      "Data columns (total 7 columns):\n",
      " #   Column      Non-Null Count  Dtype \n",
      "---  ------      --------------  ----- \n",
      " 0   age         500 non-null    int64 \n",
      " 1   churn_date  38 non-null     object\n",
      " 2   city        500 non-null    object\n",
      " 3   first_name  500 non-null    object\n",
      " 4   last_name   500 non-null    object\n",
      " 5   reg_date    500 non-null    object\n",
      " 6   tariff      500 non-null    object\n",
      "dtypes: int64(1), object(6)\n",
      "memory usage: 31.2+ KB\n"
     ]
    }
   ],
   "source": [
    "users.info()"
   ]
  },
  {
   "cell_type": "markdown",
   "metadata": {},
   "source": [
    "В таблице 500 строк, она содержит информацию о 500 клиентах: \n",
    "user_id — уникальный идентификатор пользователя - тип данных int64 - всё логично;\n",
    "first_name — имя пользователя - тип данных object - всё логично;\n",
    "last_name — фамилия пользователя - тип данных object - всё логично;\n",
    "age — возраст пользователя (годы) - тип данных int64 - всё логично;\n",
    "reg_date — дата подключения тарифа (день, месяц, год) - тип данных object - стоит поменять на формат \"дата и время\";\n",
    "churn_date — дата прекращения пользования тарифом (если значение пропущено, то тариф ещё действовал на момент выгрузки данных) - тип данных object - стоит поменять на формат \"дата и время\";\n",
    "city — город проживания пользователя - тип данных object - всё логично;\n",
    "tariff — название тарифного плана - тип данных object - всё логично.\n",
    "Названия столбцов не вызывают вопросов - всё красиво записано \"змеииным\" регистом. Предлагаю проверить таблицу на явные дубликаты и пропуски:"
   ]
  },
  {
   "cell_type": "code",
   "execution_count": 4,
   "metadata": {},
   "outputs": [
    {
     "data": {
      "text/plain": [
       "0"
      ]
     },
     "execution_count": 4,
     "metadata": {},
     "output_type": "execute_result"
    }
   ],
   "source": [
    "users.duplicated().sum()"
   ]
  },
  {
   "cell_type": "code",
   "execution_count": 5,
   "metadata": {},
   "outputs": [
    {
     "data": {
      "text/plain": [
       "age             0\n",
       "churn_date    462\n",
       "city            0\n",
       "first_name      0\n",
       "last_name       0\n",
       "reg_date        0\n",
       "tariff          0\n",
       "dtype: int64"
      ]
     },
     "execution_count": 5,
     "metadata": {},
     "output_type": "execute_result"
    }
   ],
   "source": [
    "users.isna().sum()"
   ]
  },
  {
   "cell_type": "markdown",
   "metadata": {},
   "source": [
    "Явных дубликатов нет, пропуски только в столбце churn_date — дата прекращения пользования тарифом - значит клиент тарифом пользоваться не прекратил. Такие пропуски мы заполнять не можем, значит оставим их. На всякий случай хочу посмотреть уникальные значения в столбце city, чтобы проверить таблицу на неявные будликаты:"
   ]
  },
  {
   "cell_type": "code",
   "execution_count": 6,
   "metadata": {},
   "outputs": [
    {
     "data": {
      "text/plain": [
       "Москва              99\n",
       "Санкт-Петербург     39\n",
       "Новосибирск         16\n",
       "Омск                14\n",
       "Казань              14\n",
       "Уфа                 12\n",
       "Набережные Челны    11\n",
       "Екатеринбург        11\n",
       "Ульяновск           11\n",
       "Краснодар           11\n",
       "Name: city, dtype: int64"
      ]
     },
     "execution_count": 6,
     "metadata": {},
     "output_type": "execute_result"
    }
   ],
   "source": [
    "users['city'].value_counts().head(10)"
   ]
  },
  {
   "cell_type": "markdown",
   "metadata": {},
   "source": [
    "Неявных дубликатов я тоже не нашла. Тогда отработаем проблему со столбцами churn_date и reg_date, поменяем тип данных этих столбцов на дату и время:"
   ]
  },
  {
   "cell_type": "code",
   "execution_count": 7,
   "metadata": {},
   "outputs": [
    {
     "name": "stdout",
     "output_type": "stream",
     "text": [
      "<class 'pandas.core.frame.DataFrame'>\n",
      "Int64Index: 500 entries, 1000 to 1499\n",
      "Data columns (total 7 columns):\n",
      " #   Column      Non-Null Count  Dtype         \n",
      "---  ------      --------------  -----         \n",
      " 0   age         500 non-null    int64         \n",
      " 1   churn_date  38 non-null     datetime64[ns]\n",
      " 2   city        500 non-null    object        \n",
      " 3   first_name  500 non-null    object        \n",
      " 4   last_name   500 non-null    object        \n",
      " 5   reg_date    500 non-null    datetime64[ns]\n",
      " 6   tariff      500 non-null    object        \n",
      "dtypes: datetime64[ns](2), int64(1), object(4)\n",
      "memory usage: 31.2+ KB\n"
     ]
    }
   ],
   "source": [
    "users['churn_date'] = pd.to_datetime(users['churn_date'], format='%Y-%m-%d')\n",
    "users['reg_date'] = pd.to_datetime(users['reg_date'], format='%Y-%m-%d')\n",
    "users.info()"
   ]
  },
  {
   "cell_type": "markdown",
   "metadata": {},
   "source": [
    "Мы обработали первую таблицу, проверили на пропуски и дубликаты, изменили типы данных в необходимых случаях. Продолжим работу."
   ]
  },
  {
   "cell_type": "markdown",
   "metadata": {},
   "source": [
    "#### Таблица calls (информация о звонках)"
   ]
  },
  {
   "cell_type": "markdown",
   "metadata": {},
   "source": [
    "Прочитаем файл и сохраним его в переменной calls:"
   ]
  },
  {
   "cell_type": "code",
   "execution_count": 8,
   "metadata": {},
   "outputs": [
    {
     "data": {
      "text/html": [
       "<div>\n",
       "<style scoped>\n",
       "    .dataframe tbody tr th:only-of-type {\n",
       "        vertical-align: middle;\n",
       "    }\n",
       "\n",
       "    .dataframe tbody tr th {\n",
       "        vertical-align: top;\n",
       "    }\n",
       "\n",
       "    .dataframe thead th {\n",
       "        text-align: right;\n",
       "    }\n",
       "</style>\n",
       "<table border=\"1\" class=\"dataframe\">\n",
       "  <thead>\n",
       "    <tr style=\"text-align: right;\">\n",
       "      <th></th>\n",
       "      <th>id</th>\n",
       "      <th>call_date</th>\n",
       "      <th>duration</th>\n",
       "      <th>user_id</th>\n",
       "    </tr>\n",
       "  </thead>\n",
       "  <tbody>\n",
       "    <tr>\n",
       "      <th>0</th>\n",
       "      <td>1000_0</td>\n",
       "      <td>2018-07-25</td>\n",
       "      <td>0.00</td>\n",
       "      <td>1000</td>\n",
       "    </tr>\n",
       "    <tr>\n",
       "      <th>1</th>\n",
       "      <td>1000_1</td>\n",
       "      <td>2018-08-17</td>\n",
       "      <td>0.00</td>\n",
       "      <td>1000</td>\n",
       "    </tr>\n",
       "    <tr>\n",
       "      <th>2</th>\n",
       "      <td>1000_2</td>\n",
       "      <td>2018-06-11</td>\n",
       "      <td>2.85</td>\n",
       "      <td>1000</td>\n",
       "    </tr>\n",
       "    <tr>\n",
       "      <th>3</th>\n",
       "      <td>1000_3</td>\n",
       "      <td>2018-09-21</td>\n",
       "      <td>13.80</td>\n",
       "      <td>1000</td>\n",
       "    </tr>\n",
       "    <tr>\n",
       "      <th>4</th>\n",
       "      <td>1000_4</td>\n",
       "      <td>2018-12-15</td>\n",
       "      <td>5.18</td>\n",
       "      <td>1000</td>\n",
       "    </tr>\n",
       "  </tbody>\n",
       "</table>\n",
       "</div>"
      ],
      "text/plain": [
       "       id   call_date  duration  user_id\n",
       "0  1000_0  2018-07-25      0.00     1000\n",
       "1  1000_1  2018-08-17      0.00     1000\n",
       "2  1000_2  2018-06-11      2.85     1000\n",
       "3  1000_3  2018-09-21     13.80     1000\n",
       "4  1000_4  2018-12-15      5.18     1000"
      ]
     },
     "execution_count": 8,
     "metadata": {},
     "output_type": "execute_result"
    }
   ],
   "source": [
    "calls = pd.read_csv('/datasets/calls.csv')\n",
    "calls.head()"
   ]
  },
  {
   "cell_type": "markdown",
   "metadata": {},
   "source": [
    "Подгрузим информацию об этой таблице:"
   ]
  },
  {
   "cell_type": "code",
   "execution_count": 9,
   "metadata": {},
   "outputs": [
    {
     "name": "stdout",
     "output_type": "stream",
     "text": [
      "<class 'pandas.core.frame.DataFrame'>\n",
      "RangeIndex: 202607 entries, 0 to 202606\n",
      "Data columns (total 4 columns):\n",
      " #   Column     Non-Null Count   Dtype  \n",
      "---  ------     --------------   -----  \n",
      " 0   id         202607 non-null  object \n",
      " 1   call_date  202607 non-null  object \n",
      " 2   duration   202607 non-null  float64\n",
      " 3   user_id    202607 non-null  int64  \n",
      "dtypes: float64(1), int64(1), object(2)\n",
      "memory usage: 6.2+ MB\n"
     ]
    }
   ],
   "source": [
    "calls.info()"
   ]
  },
  {
   "cell_type": "markdown",
   "metadata": {},
   "source": [
    "В таблице 202607 строк и 4 колонки: \n",
    "id — уникальный номер звонка - тип данных object - это нормально;\n",
    "call_date — дата звонка - тип данных object - надо менять на \"дата и время\";\n",
    "duration — длительность звонка в минутах -тип данных float64 - это нормально;\n",
    "user_id — идентификатор пользователя, сделавшего звонок - тип данных float64 - это нормально. \n",
    "Названия столбцов не вызывают вопросов - всё красиво записано \"змеииным\" регистом. Предлагаю проверить таблицу на явные дубликаты и пропуски:"
   ]
  },
  {
   "cell_type": "markdown",
   "metadata": {},
   "source": [
    "Мы должны учесть, что «Мегалайн» всегда округляет секунды до минут, значит нам тоже надо это сделать, чтобы дальнейшие подсчеты были верными:"
   ]
  },
  {
   "cell_type": "code",
   "execution_count": 10,
   "metadata": {},
   "outputs": [
    {
     "data": {
      "text/html": [
       "<div>\n",
       "<style scoped>\n",
       "    .dataframe tbody tr th:only-of-type {\n",
       "        vertical-align: middle;\n",
       "    }\n",
       "\n",
       "    .dataframe tbody tr th {\n",
       "        vertical-align: top;\n",
       "    }\n",
       "\n",
       "    .dataframe thead th {\n",
       "        text-align: right;\n",
       "    }\n",
       "</style>\n",
       "<table border=\"1\" class=\"dataframe\">\n",
       "  <thead>\n",
       "    <tr style=\"text-align: right;\">\n",
       "      <th></th>\n",
       "      <th>id</th>\n",
       "      <th>call_date</th>\n",
       "      <th>duration</th>\n",
       "      <th>user_id</th>\n",
       "    </tr>\n",
       "  </thead>\n",
       "  <tbody>\n",
       "    <tr>\n",
       "      <th>0</th>\n",
       "      <td>1000_0</td>\n",
       "      <td>2018-07-25</td>\n",
       "      <td>0.0</td>\n",
       "      <td>1000</td>\n",
       "    </tr>\n",
       "    <tr>\n",
       "      <th>1</th>\n",
       "      <td>1000_1</td>\n",
       "      <td>2018-08-17</td>\n",
       "      <td>0.0</td>\n",
       "      <td>1000</td>\n",
       "    </tr>\n",
       "    <tr>\n",
       "      <th>2</th>\n",
       "      <td>1000_2</td>\n",
       "      <td>2018-06-11</td>\n",
       "      <td>3.0</td>\n",
       "      <td>1000</td>\n",
       "    </tr>\n",
       "    <tr>\n",
       "      <th>3</th>\n",
       "      <td>1000_3</td>\n",
       "      <td>2018-09-21</td>\n",
       "      <td>14.0</td>\n",
       "      <td>1000</td>\n",
       "    </tr>\n",
       "    <tr>\n",
       "      <th>4</th>\n",
       "      <td>1000_4</td>\n",
       "      <td>2018-12-15</td>\n",
       "      <td>6.0</td>\n",
       "      <td>1000</td>\n",
       "    </tr>\n",
       "  </tbody>\n",
       "</table>\n",
       "</div>"
      ],
      "text/plain": [
       "       id   call_date  duration  user_id\n",
       "0  1000_0  2018-07-25       0.0     1000\n",
       "1  1000_1  2018-08-17       0.0     1000\n",
       "2  1000_2  2018-06-11       3.0     1000\n",
       "3  1000_3  2018-09-21      14.0     1000\n",
       "4  1000_4  2018-12-15       6.0     1000"
      ]
     },
     "execution_count": 10,
     "metadata": {},
     "output_type": "execute_result"
    }
   ],
   "source": [
    "calls['duration'] = np.ceil(calls['duration'])\n",
    "calls.head()"
   ]
  },
  {
   "cell_type": "code",
   "execution_count": 11,
   "metadata": {},
   "outputs": [
    {
     "data": {
      "text/plain": [
       "0"
      ]
     },
     "execution_count": 11,
     "metadata": {},
     "output_type": "execute_result"
    }
   ],
   "source": [
    "calls.duplicated().sum()"
   ]
  },
  {
   "cell_type": "code",
   "execution_count": 12,
   "metadata": {},
   "outputs": [
    {
     "data": {
      "text/plain": [
       "id           0\n",
       "call_date    0\n",
       "duration     0\n",
       "user_id      0\n",
       "dtype: int64"
      ]
     },
     "execution_count": 12,
     "metadata": {},
     "output_type": "execute_result"
    }
   ],
   "source": [
    "calls.isna().sum()"
   ]
  },
  {
   "cell_type": "markdown",
   "metadata": {},
   "source": [
    "Ни пропусков, ни явных дубликатов не обнаружено. Изменим тип данных в столбце call_date:"
   ]
  },
  {
   "cell_type": "code",
   "execution_count": 13,
   "metadata": {},
   "outputs": [
    {
     "name": "stdout",
     "output_type": "stream",
     "text": [
      "<class 'pandas.core.frame.DataFrame'>\n",
      "RangeIndex: 202607 entries, 0 to 202606\n",
      "Data columns (total 4 columns):\n",
      " #   Column     Non-Null Count   Dtype         \n",
      "---  ------     --------------   -----         \n",
      " 0   id         202607 non-null  object        \n",
      " 1   call_date  202607 non-null  datetime64[ns]\n",
      " 2   duration   202607 non-null  float64       \n",
      " 3   user_id    202607 non-null  int64         \n",
      "dtypes: datetime64[ns](1), float64(1), int64(1), object(1)\n",
      "memory usage: 6.2+ MB\n"
     ]
    }
   ],
   "source": [
    "calls['call_date'] = pd.to_datetime(calls['call_date'], format='%Y-%m-%d')\n",
    "calls.info()"
   ]
  },
  {
   "cell_type": "markdown",
   "metadata": {},
   "source": [
    "Таблица calls проверена и готова к анализу."
   ]
  },
  {
   "cell_type": "markdown",
   "metadata": {},
   "source": []
  },
  {
   "cell_type": "markdown",
   "metadata": {},
   "source": [
    "#### Таблица messages (информация о сообщениях)"
   ]
  },
  {
   "cell_type": "markdown",
   "metadata": {},
   "source": [
    "Прочитаем файл и сохраним его в переменной messages:"
   ]
  },
  {
   "cell_type": "code",
   "execution_count": 14,
   "metadata": {},
   "outputs": [
    {
     "data": {
      "text/html": [
       "<div>\n",
       "<style scoped>\n",
       "    .dataframe tbody tr th:only-of-type {\n",
       "        vertical-align: middle;\n",
       "    }\n",
       "\n",
       "    .dataframe tbody tr th {\n",
       "        vertical-align: top;\n",
       "    }\n",
       "\n",
       "    .dataframe thead th {\n",
       "        text-align: right;\n",
       "    }\n",
       "</style>\n",
       "<table border=\"1\" class=\"dataframe\">\n",
       "  <thead>\n",
       "    <tr style=\"text-align: right;\">\n",
       "      <th></th>\n",
       "      <th>id</th>\n",
       "      <th>message_date</th>\n",
       "      <th>user_id</th>\n",
       "    </tr>\n",
       "  </thead>\n",
       "  <tbody>\n",
       "    <tr>\n",
       "      <th>0</th>\n",
       "      <td>1000_0</td>\n",
       "      <td>2018-06-27</td>\n",
       "      <td>1000</td>\n",
       "    </tr>\n",
       "    <tr>\n",
       "      <th>1</th>\n",
       "      <td>1000_1</td>\n",
       "      <td>2018-10-08</td>\n",
       "      <td>1000</td>\n",
       "    </tr>\n",
       "    <tr>\n",
       "      <th>2</th>\n",
       "      <td>1000_2</td>\n",
       "      <td>2018-08-04</td>\n",
       "      <td>1000</td>\n",
       "    </tr>\n",
       "    <tr>\n",
       "      <th>3</th>\n",
       "      <td>1000_3</td>\n",
       "      <td>2018-06-16</td>\n",
       "      <td>1000</td>\n",
       "    </tr>\n",
       "    <tr>\n",
       "      <th>4</th>\n",
       "      <td>1000_4</td>\n",
       "      <td>2018-12-05</td>\n",
       "      <td>1000</td>\n",
       "    </tr>\n",
       "  </tbody>\n",
       "</table>\n",
       "</div>"
      ],
      "text/plain": [
       "       id message_date  user_id\n",
       "0  1000_0   2018-06-27     1000\n",
       "1  1000_1   2018-10-08     1000\n",
       "2  1000_2   2018-08-04     1000\n",
       "3  1000_3   2018-06-16     1000\n",
       "4  1000_4   2018-12-05     1000"
      ]
     },
     "execution_count": 14,
     "metadata": {},
     "output_type": "execute_result"
    }
   ],
   "source": [
    "messages = pd.read_csv('/datasets/messages.csv')\n",
    "messages.head()"
   ]
  },
  {
   "cell_type": "markdown",
   "metadata": {},
   "source": [
    "Подгрузим информацию об этой таблице:"
   ]
  },
  {
   "cell_type": "code",
   "execution_count": 15,
   "metadata": {},
   "outputs": [
    {
     "name": "stdout",
     "output_type": "stream",
     "text": [
      "<class 'pandas.core.frame.DataFrame'>\n",
      "RangeIndex: 123036 entries, 0 to 123035\n",
      "Data columns (total 3 columns):\n",
      " #   Column        Non-Null Count   Dtype \n",
      "---  ------        --------------   ----- \n",
      " 0   id            123036 non-null  object\n",
      " 1   message_date  123036 non-null  object\n",
      " 2   user_id       123036 non-null  int64 \n",
      "dtypes: int64(1), object(2)\n",
      "memory usage: 2.8+ MB\n"
     ]
    }
   ],
   "source": [
    "messages.info()"
   ]
  },
  {
   "cell_type": "markdown",
   "metadata": {},
   "source": [
    "В таблице всего три колонки: \n",
    "id — уникальный номер сообщения - тип данных object - это нормально;\n",
    "message_date — дата сообщения  тип данных object - стоит поменять на \"дата и время\";\n",
    "user_id — идентификатор пользователя, отправившего сообщение - тип данных int64 - это нормально.\n",
    "Названия столбцов написаны в \"змеином\" регистре, они ясны, всё выглядит \"стильно\".\n",
    "Проверим таблицу на явные дубликаты и пропуски в столбцах:"
   ]
  },
  {
   "cell_type": "code",
   "execution_count": 16,
   "metadata": {},
   "outputs": [
    {
     "data": {
      "text/plain": [
       "0"
      ]
     },
     "execution_count": 16,
     "metadata": {},
     "output_type": "execute_result"
    }
   ],
   "source": [
    "messages.duplicated().sum()"
   ]
  },
  {
   "cell_type": "code",
   "execution_count": 17,
   "metadata": {},
   "outputs": [
    {
     "data": {
      "text/plain": [
       "id              0\n",
       "message_date    0\n",
       "user_id         0\n",
       "dtype: int64"
      ]
     },
     "execution_count": 17,
     "metadata": {},
     "output_type": "execute_result"
    }
   ],
   "source": [
    "messages.isna().sum()"
   ]
  },
  {
   "cell_type": "markdown",
   "metadata": {},
   "source": [
    "Дубликатов нет, пропусков тоже нет. Изменим тип данных в столбце message_date:"
   ]
  },
  {
   "cell_type": "code",
   "execution_count": 18,
   "metadata": {},
   "outputs": [
    {
     "name": "stdout",
     "output_type": "stream",
     "text": [
      "<class 'pandas.core.frame.DataFrame'>\n",
      "RangeIndex: 123036 entries, 0 to 123035\n",
      "Data columns (total 3 columns):\n",
      " #   Column        Non-Null Count   Dtype         \n",
      "---  ------        --------------   -----         \n",
      " 0   id            123036 non-null  object        \n",
      " 1   message_date  123036 non-null  datetime64[ns]\n",
      " 2   user_id       123036 non-null  int64         \n",
      "dtypes: datetime64[ns](1), int64(1), object(1)\n",
      "memory usage: 2.8+ MB\n"
     ]
    }
   ],
   "source": [
    "messages['message_date'] = pd.to_datetime(messages['message_date'], format='%Y-%m-%d')\n",
    "messages.info()"
   ]
  },
  {
   "cell_type": "markdown",
   "metadata": {},
   "source": [
    "Тип данных заменили. Таблица готова к дальнейшей работе."
   ]
  },
  {
   "cell_type": "markdown",
   "metadata": {},
   "source": [
    "#### Таблица internet (информация об интернет-сессиях)"
   ]
  },
  {
   "cell_type": "markdown",
   "metadata": {},
   "source": [
    "Прочитаем файл и сохраним его в переменной internet:"
   ]
  },
  {
   "cell_type": "code",
   "execution_count": 19,
   "metadata": {},
   "outputs": [
    {
     "data": {
      "text/html": [
       "<div>\n",
       "<style scoped>\n",
       "    .dataframe tbody tr th:only-of-type {\n",
       "        vertical-align: middle;\n",
       "    }\n",
       "\n",
       "    .dataframe tbody tr th {\n",
       "        vertical-align: top;\n",
       "    }\n",
       "\n",
       "    .dataframe thead th {\n",
       "        text-align: right;\n",
       "    }\n",
       "</style>\n",
       "<table border=\"1\" class=\"dataframe\">\n",
       "  <thead>\n",
       "    <tr style=\"text-align: right;\">\n",
       "      <th></th>\n",
       "      <th>Unnamed: 0</th>\n",
       "      <th>id</th>\n",
       "      <th>mb_used</th>\n",
       "      <th>session_date</th>\n",
       "      <th>user_id</th>\n",
       "    </tr>\n",
       "  </thead>\n",
       "  <tbody>\n",
       "    <tr>\n",
       "      <th>0</th>\n",
       "      <td>0</td>\n",
       "      <td>1000_0</td>\n",
       "      <td>112.95</td>\n",
       "      <td>2018-11-25</td>\n",
       "      <td>1000</td>\n",
       "    </tr>\n",
       "    <tr>\n",
       "      <th>1</th>\n",
       "      <td>1</td>\n",
       "      <td>1000_1</td>\n",
       "      <td>1052.81</td>\n",
       "      <td>2018-09-07</td>\n",
       "      <td>1000</td>\n",
       "    </tr>\n",
       "    <tr>\n",
       "      <th>2</th>\n",
       "      <td>2</td>\n",
       "      <td>1000_2</td>\n",
       "      <td>1197.26</td>\n",
       "      <td>2018-06-25</td>\n",
       "      <td>1000</td>\n",
       "    </tr>\n",
       "    <tr>\n",
       "      <th>3</th>\n",
       "      <td>3</td>\n",
       "      <td>1000_3</td>\n",
       "      <td>550.27</td>\n",
       "      <td>2018-08-22</td>\n",
       "      <td>1000</td>\n",
       "    </tr>\n",
       "    <tr>\n",
       "      <th>4</th>\n",
       "      <td>4</td>\n",
       "      <td>1000_4</td>\n",
       "      <td>302.56</td>\n",
       "      <td>2018-09-24</td>\n",
       "      <td>1000</td>\n",
       "    </tr>\n",
       "  </tbody>\n",
       "</table>\n",
       "</div>"
      ],
      "text/plain": [
       "   Unnamed: 0      id  mb_used session_date  user_id\n",
       "0           0  1000_0   112.95   2018-11-25     1000\n",
       "1           1  1000_1  1052.81   2018-09-07     1000\n",
       "2           2  1000_2  1197.26   2018-06-25     1000\n",
       "3           3  1000_3   550.27   2018-08-22     1000\n",
       "4           4  1000_4   302.56   2018-09-24     1000"
      ]
     },
     "execution_count": 19,
     "metadata": {},
     "output_type": "execute_result"
    }
   ],
   "source": [
    "internet = pd.read_csv('/datasets/internet.csv')\n",
    "internet.head()"
   ]
  },
  {
   "cell_type": "markdown",
   "metadata": {},
   "source": [
    "Теперь посмотрим информацию о таблице:"
   ]
  },
  {
   "cell_type": "code",
   "execution_count": 20,
   "metadata": {},
   "outputs": [
    {
     "name": "stdout",
     "output_type": "stream",
     "text": [
      "<class 'pandas.core.frame.DataFrame'>\n",
      "RangeIndex: 149396 entries, 0 to 149395\n",
      "Data columns (total 5 columns):\n",
      " #   Column        Non-Null Count   Dtype  \n",
      "---  ------        --------------   -----  \n",
      " 0   Unnamed: 0    149396 non-null  int64  \n",
      " 1   id            149396 non-null  object \n",
      " 2   mb_used       149396 non-null  float64\n",
      " 3   session_date  149396 non-null  object \n",
      " 4   user_id       149396 non-null  int64  \n",
      "dtypes: float64(1), int64(2), object(2)\n",
      "memory usage: 5.7+ MB\n"
     ]
    }
   ],
   "source": [
    "internet.info()"
   ]
  },
  {
   "cell_type": "markdown",
   "metadata": {},
   "source": [
    "Названия столбцов написаны в \"змеином\" регистре, в этом смысле стиль соблюдён. \n",
    "Первый и второй столбец полностью дублируют друг друга. Можно первый исключить из таблицы - так она станет читабельнее.\n",
    "Что касается самих функциональных столбцов, то они характеризуются следующим образом:\n",
    "id — уникальный номер сессии - тип данных object - это подходит;\n",
    "mb_used — объём потраченного за сессию интернет-трафика (в мегабайтах) - тип данных float64 - это подходит;\n",
    "session_date — дата интернет-сессии - тип данных object - стоит поменять на дату и время;\n",
    "user_id — идентификатор пользователя тип данных int64 - это подходит.\n",
    "Сначала уберем ненужный столбец, потом приведем в порядок тип данных столбца session_date, затем проверим таблицу на явные дубликаты и пропуски."
   ]
  },
  {
   "cell_type": "code",
   "execution_count": 21,
   "metadata": {},
   "outputs": [
    {
     "data": {
      "text/html": [
       "<div>\n",
       "<style scoped>\n",
       "    .dataframe tbody tr th:only-of-type {\n",
       "        vertical-align: middle;\n",
       "    }\n",
       "\n",
       "    .dataframe tbody tr th {\n",
       "        vertical-align: top;\n",
       "    }\n",
       "\n",
       "    .dataframe thead th {\n",
       "        text-align: right;\n",
       "    }\n",
       "</style>\n",
       "<table border=\"1\" class=\"dataframe\">\n",
       "  <thead>\n",
       "    <tr style=\"text-align: right;\">\n",
       "      <th></th>\n",
       "      <th>id</th>\n",
       "      <th>mb_used</th>\n",
       "      <th>session_date</th>\n",
       "      <th>user_id</th>\n",
       "    </tr>\n",
       "  </thead>\n",
       "  <tbody>\n",
       "    <tr>\n",
       "      <th>0</th>\n",
       "      <td>1000_0</td>\n",
       "      <td>112.95</td>\n",
       "      <td>2018-11-25</td>\n",
       "      <td>1000</td>\n",
       "    </tr>\n",
       "    <tr>\n",
       "      <th>1</th>\n",
       "      <td>1000_1</td>\n",
       "      <td>1052.81</td>\n",
       "      <td>2018-09-07</td>\n",
       "      <td>1000</td>\n",
       "    </tr>\n",
       "    <tr>\n",
       "      <th>2</th>\n",
       "      <td>1000_2</td>\n",
       "      <td>1197.26</td>\n",
       "      <td>2018-06-25</td>\n",
       "      <td>1000</td>\n",
       "    </tr>\n",
       "    <tr>\n",
       "      <th>3</th>\n",
       "      <td>1000_3</td>\n",
       "      <td>550.27</td>\n",
       "      <td>2018-08-22</td>\n",
       "      <td>1000</td>\n",
       "    </tr>\n",
       "    <tr>\n",
       "      <th>4</th>\n",
       "      <td>1000_4</td>\n",
       "      <td>302.56</td>\n",
       "      <td>2018-09-24</td>\n",
       "      <td>1000</td>\n",
       "    </tr>\n",
       "    <tr>\n",
       "      <th>5</th>\n",
       "      <td>1000_5</td>\n",
       "      <td>399.97</td>\n",
       "      <td>2018-10-02</td>\n",
       "      <td>1000</td>\n",
       "    </tr>\n",
       "    <tr>\n",
       "      <th>6</th>\n",
       "      <td>1000_6</td>\n",
       "      <td>540.08</td>\n",
       "      <td>2018-09-07</td>\n",
       "      <td>1000</td>\n",
       "    </tr>\n",
       "    <tr>\n",
       "      <th>7</th>\n",
       "      <td>1000_7</td>\n",
       "      <td>415.70</td>\n",
       "      <td>2018-07-11</td>\n",
       "      <td>1000</td>\n",
       "    </tr>\n",
       "    <tr>\n",
       "      <th>8</th>\n",
       "      <td>1000_8</td>\n",
       "      <td>505.40</td>\n",
       "      <td>2018-10-08</td>\n",
       "      <td>1000</td>\n",
       "    </tr>\n",
       "    <tr>\n",
       "      <th>9</th>\n",
       "      <td>1000_9</td>\n",
       "      <td>345.54</td>\n",
       "      <td>2018-09-03</td>\n",
       "      <td>1000</td>\n",
       "    </tr>\n",
       "  </tbody>\n",
       "</table>\n",
       "</div>"
      ],
      "text/plain": [
       "       id  mb_used session_date  user_id\n",
       "0  1000_0   112.95   2018-11-25     1000\n",
       "1  1000_1  1052.81   2018-09-07     1000\n",
       "2  1000_2  1197.26   2018-06-25     1000\n",
       "3  1000_3   550.27   2018-08-22     1000\n",
       "4  1000_4   302.56   2018-09-24     1000\n",
       "5  1000_5   399.97   2018-10-02     1000\n",
       "6  1000_6   540.08   2018-09-07     1000\n",
       "7  1000_7   415.70   2018-07-11     1000\n",
       "8  1000_8   505.40   2018-10-08     1000\n",
       "9  1000_9   345.54   2018-09-03     1000"
      ]
     },
     "execution_count": 21,
     "metadata": {},
     "output_type": "execute_result"
    }
   ],
   "source": [
    "internet = internet[['id','mb_used','session_date','user_id']]\n",
    "internet.head(10)"
   ]
  },
  {
   "cell_type": "code",
   "execution_count": 22,
   "metadata": {},
   "outputs": [],
   "source": [
    "internet['session_date'] = pd.to_datetime(internet['session_date'], format='%Y-%m-%d')"
   ]
  },
  {
   "cell_type": "code",
   "execution_count": 23,
   "metadata": {},
   "outputs": [
    {
     "data": {
      "text/plain": [
       "0"
      ]
     },
     "execution_count": 23,
     "metadata": {},
     "output_type": "execute_result"
    }
   ],
   "source": [
    "internet.duplicated().sum()"
   ]
  },
  {
   "cell_type": "code",
   "execution_count": 24,
   "metadata": {},
   "outputs": [
    {
     "data": {
      "text/plain": [
       "id              0\n",
       "mb_used         0\n",
       "session_date    0\n",
       "user_id         0\n",
       "dtype: int64"
      ]
     },
     "execution_count": 24,
     "metadata": {},
     "output_type": "execute_result"
    }
   ],
   "source": [
    "internet.isna().sum()"
   ]
  },
  {
   "cell_type": "markdown",
   "metadata": {},
   "source": [
    "Теперь снова выгрузим информацию о таблице:"
   ]
  },
  {
   "cell_type": "code",
   "execution_count": 25,
   "metadata": {},
   "outputs": [
    {
     "name": "stdout",
     "output_type": "stream",
     "text": [
      "<class 'pandas.core.frame.DataFrame'>\n",
      "RangeIndex: 149396 entries, 0 to 149395\n",
      "Data columns (total 4 columns):\n",
      " #   Column        Non-Null Count   Dtype         \n",
      "---  ------        --------------   -----         \n",
      " 0   id            149396 non-null  object        \n",
      " 1   mb_used       149396 non-null  float64       \n",
      " 2   session_date  149396 non-null  datetime64[ns]\n",
      " 3   user_id       149396 non-null  int64         \n",
      "dtypes: datetime64[ns](1), float64(1), int64(1), object(1)\n",
      "memory usage: 4.6+ MB\n"
     ]
    }
   ],
   "source": [
    "internet.info()"
   ]
  },
  {
   "cell_type": "markdown",
   "metadata": {},
   "source": [
    "Дубликатов нет, пропусков тоже нет. Типы данных приведены в порядок. "
   ]
  },
  {
   "cell_type": "markdown",
   "metadata": {},
   "source": []
  },
  {
   "cell_type": "markdown",
   "metadata": {},
   "source": [
    "#### Таблица tariffs (информация о тарифах)"
   ]
  },
  {
   "cell_type": "markdown",
   "metadata": {},
   "source": [
    "Прочитаем файл и сохраним его в переменной  tariffs:"
   ]
  },
  {
   "cell_type": "code",
   "execution_count": 26,
   "metadata": {},
   "outputs": [
    {
     "data": {
      "text/html": [
       "<div>\n",
       "<style scoped>\n",
       "    .dataframe tbody tr th:only-of-type {\n",
       "        vertical-align: middle;\n",
       "    }\n",
       "\n",
       "    .dataframe tbody tr th {\n",
       "        vertical-align: top;\n",
       "    }\n",
       "\n",
       "    .dataframe thead th {\n",
       "        text-align: right;\n",
       "    }\n",
       "</style>\n",
       "<table border=\"1\" class=\"dataframe\">\n",
       "  <thead>\n",
       "    <tr style=\"text-align: right;\">\n",
       "      <th></th>\n",
       "      <th>messages_included</th>\n",
       "      <th>mb_per_month_included</th>\n",
       "      <th>minutes_included</th>\n",
       "      <th>rub_monthly_fee</th>\n",
       "      <th>rub_per_gb</th>\n",
       "      <th>rub_per_message</th>\n",
       "      <th>rub_per_minute</th>\n",
       "      <th>tariff_name</th>\n",
       "    </tr>\n",
       "  </thead>\n",
       "  <tbody>\n",
       "    <tr>\n",
       "      <th>0</th>\n",
       "      <td>50</td>\n",
       "      <td>15360</td>\n",
       "      <td>500</td>\n",
       "      <td>550</td>\n",
       "      <td>200</td>\n",
       "      <td>3</td>\n",
       "      <td>3</td>\n",
       "      <td>smart</td>\n",
       "    </tr>\n",
       "    <tr>\n",
       "      <th>1</th>\n",
       "      <td>1000</td>\n",
       "      <td>30720</td>\n",
       "      <td>3000</td>\n",
       "      <td>1950</td>\n",
       "      <td>150</td>\n",
       "      <td>1</td>\n",
       "      <td>1</td>\n",
       "      <td>ultra</td>\n",
       "    </tr>\n",
       "  </tbody>\n",
       "</table>\n",
       "</div>"
      ],
      "text/plain": [
       "   messages_included  mb_per_month_included  minutes_included  \\\n",
       "0                 50                  15360               500   \n",
       "1               1000                  30720              3000   \n",
       "\n",
       "   rub_monthly_fee  rub_per_gb  rub_per_message  rub_per_minute tariff_name  \n",
       "0              550         200                3               3       smart  \n",
       "1             1950         150                1               1       ultra  "
      ]
     },
     "execution_count": 26,
     "metadata": {},
     "output_type": "execute_result"
    }
   ],
   "source": [
    "tariffs = pd.read_csv('/datasets/tariffs.csv')\n",
    "tariffs"
   ]
  },
  {
   "cell_type": "code",
   "execution_count": 27,
   "metadata": {},
   "outputs": [
    {
     "name": "stdout",
     "output_type": "stream",
     "text": [
      "<class 'pandas.core.frame.DataFrame'>\n",
      "RangeIndex: 2 entries, 0 to 1\n",
      "Data columns (total 8 columns):\n",
      " #   Column                 Non-Null Count  Dtype \n",
      "---  ------                 --------------  ----- \n",
      " 0   messages_included      2 non-null      int64 \n",
      " 1   mb_per_month_included  2 non-null      int64 \n",
      " 2   minutes_included       2 non-null      int64 \n",
      " 3   rub_monthly_fee        2 non-null      int64 \n",
      " 4   rub_per_gb             2 non-null      int64 \n",
      " 5   rub_per_message        2 non-null      int64 \n",
      " 6   rub_per_minute         2 non-null      int64 \n",
      " 7   tariff_name            2 non-null      object\n",
      "dtypes: int64(7), object(1)\n",
      "memory usage: 256.0+ bytes\n"
     ]
    }
   ],
   "source": [
    "tariffs.info()"
   ]
  },
  {
   "cell_type": "markdown",
   "metadata": {},
   "source": [
    "Таблица содержит следующие данные по 2-м тарифам (т.е. строк всего 2):\n",
    "ariff_name — название тарифа - тип данных object - это нормально;\n",
    "Все остальные столбцы имеют тип данных int64, что полностью соответствует их содержанию: \n",
    "rub_monthly_fee — ежемесячная абонентская плата в рублях\n",
    "minutes_included — количество минут разговора в месяц, включённых в абонентскую плату\n",
    "messages_included — количество сообщений в месяц, включённых в абонентскую плату\n",
    "mb_per_month_included — объём интернет-трафика, включённого в абонентскую плату (в мегабайтах)\n",
    "rub_per_minute — стоимость минуты разговора сверх тарифного пакета (например, если в тарифе 100 минут разговора в месяц, то со 101 минуты будет взиматься плата)\n",
    "rub_per_message — стоимость отправки сообщения сверх тарифного пакета\n",
    "rub_per_gb — стоимость дополнительного гигабайта интернет-трафика сверх тарифного пакета (1 гигабайт = 1024 мегабайта)\n",
    "Пропусков и дубливатов нет - это видно невооруженным глазом.\n",
    "Названия слобцов стилистически верны - никаких дополнительных манипуляций с таблицей проводить не надо.\n"
   ]
  },
  {
   "cell_type": "markdown",
   "metadata": {},
   "source": []
  },
  {
   "cell_type": "markdown",
   "metadata": {},
   "source": [
    "### Подготовка данных."
   ]
  },
  {
   "cell_type": "markdown",
   "metadata": {},
   "source": [
    "#### Свод данных о звонках."
   ]
  },
  {
   "cell_type": "markdown",
   "metadata": {},
   "source": [
    "Таблица calls содержит данные за 2018 год. Нам будет необходимо посчитать для каждого пользователя количество звонков по месяцам. Предлагаю начать с того, что добавить столбец с информацией о месяце:"
   ]
  },
  {
   "cell_type": "code",
   "execution_count": 28,
   "metadata": {},
   "outputs": [
    {
     "data": {
      "text/html": [
       "<div>\n",
       "<style scoped>\n",
       "    .dataframe tbody tr th:only-of-type {\n",
       "        vertical-align: middle;\n",
       "    }\n",
       "\n",
       "    .dataframe tbody tr th {\n",
       "        vertical-align: top;\n",
       "    }\n",
       "\n",
       "    .dataframe thead th {\n",
       "        text-align: right;\n",
       "    }\n",
       "</style>\n",
       "<table border=\"1\" class=\"dataframe\">\n",
       "  <thead>\n",
       "    <tr style=\"text-align: right;\">\n",
       "      <th></th>\n",
       "      <th>id</th>\n",
       "      <th>call_date</th>\n",
       "      <th>duration</th>\n",
       "      <th>user_id</th>\n",
       "      <th>month</th>\n",
       "    </tr>\n",
       "  </thead>\n",
       "  <tbody>\n",
       "    <tr>\n",
       "      <th>0</th>\n",
       "      <td>1000_0</td>\n",
       "      <td>2018-07-25</td>\n",
       "      <td>0.0</td>\n",
       "      <td>1000</td>\n",
       "      <td>7</td>\n",
       "    </tr>\n",
       "    <tr>\n",
       "      <th>1</th>\n",
       "      <td>1000_1</td>\n",
       "      <td>2018-08-17</td>\n",
       "      <td>0.0</td>\n",
       "      <td>1000</td>\n",
       "      <td>8</td>\n",
       "    </tr>\n",
       "    <tr>\n",
       "      <th>2</th>\n",
       "      <td>1000_2</td>\n",
       "      <td>2018-06-11</td>\n",
       "      <td>3.0</td>\n",
       "      <td>1000</td>\n",
       "      <td>6</td>\n",
       "    </tr>\n",
       "    <tr>\n",
       "      <th>3</th>\n",
       "      <td>1000_3</td>\n",
       "      <td>2018-09-21</td>\n",
       "      <td>14.0</td>\n",
       "      <td>1000</td>\n",
       "      <td>9</td>\n",
       "    </tr>\n",
       "    <tr>\n",
       "      <th>4</th>\n",
       "      <td>1000_4</td>\n",
       "      <td>2018-12-15</td>\n",
       "      <td>6.0</td>\n",
       "      <td>1000</td>\n",
       "      <td>12</td>\n",
       "    </tr>\n",
       "    <tr>\n",
       "      <th>5</th>\n",
       "      <td>1000_5</td>\n",
       "      <td>2018-11-02</td>\n",
       "      <td>0.0</td>\n",
       "      <td>1000</td>\n",
       "      <td>11</td>\n",
       "    </tr>\n",
       "    <tr>\n",
       "      <th>6</th>\n",
       "      <td>1000_6</td>\n",
       "      <td>2018-10-18</td>\n",
       "      <td>0.0</td>\n",
       "      <td>1000</td>\n",
       "      <td>10</td>\n",
       "    </tr>\n",
       "    <tr>\n",
       "      <th>7</th>\n",
       "      <td>1000_7</td>\n",
       "      <td>2018-08-22</td>\n",
       "      <td>19.0</td>\n",
       "      <td>1000</td>\n",
       "      <td>8</td>\n",
       "    </tr>\n",
       "    <tr>\n",
       "      <th>8</th>\n",
       "      <td>1000_8</td>\n",
       "      <td>2018-09-15</td>\n",
       "      <td>19.0</td>\n",
       "      <td>1000</td>\n",
       "      <td>9</td>\n",
       "    </tr>\n",
       "    <tr>\n",
       "      <th>9</th>\n",
       "      <td>1000_9</td>\n",
       "      <td>2018-08-15</td>\n",
       "      <td>0.0</td>\n",
       "      <td>1000</td>\n",
       "      <td>8</td>\n",
       "    </tr>\n",
       "  </tbody>\n",
       "</table>\n",
       "</div>"
      ],
      "text/plain": [
       "       id  call_date  duration  user_id  month\n",
       "0  1000_0 2018-07-25       0.0     1000      7\n",
       "1  1000_1 2018-08-17       0.0     1000      8\n",
       "2  1000_2 2018-06-11       3.0     1000      6\n",
       "3  1000_3 2018-09-21      14.0     1000      9\n",
       "4  1000_4 2018-12-15       6.0     1000     12\n",
       "5  1000_5 2018-11-02       0.0     1000     11\n",
       "6  1000_6 2018-10-18       0.0     1000     10\n",
       "7  1000_7 2018-08-22      19.0     1000      8\n",
       "8  1000_8 2018-09-15      19.0     1000      9\n",
       "9  1000_9 2018-08-15       0.0     1000      8"
      ]
     },
     "execution_count": 28,
     "metadata": {},
     "output_type": "execute_result"
    }
   ],
   "source": [
    "calls['month'] = pd.DatetimeIndex(calls['call_date']).month\n",
    "calls.head(10)"
   ]
  },
  {
   "cell_type": "markdown",
   "metadata": {},
   "source": [
    "Теперь сгруппируем данные по клиентам по месяцам и назовём эту таблицу calls_info_sum. Эта таблица будет показывать суммарную длительность звонков:"
   ]
  },
  {
   "cell_type": "code",
   "execution_count": 29,
   "metadata": {},
   "outputs": [
    {
     "data": {
      "text/html": [
       "<div>\n",
       "<style scoped>\n",
       "    .dataframe tbody tr th:only-of-type {\n",
       "        vertical-align: middle;\n",
       "    }\n",
       "\n",
       "    .dataframe tbody tr th {\n",
       "        vertical-align: top;\n",
       "    }\n",
       "\n",
       "    .dataframe thead th {\n",
       "        text-align: right;\n",
       "    }\n",
       "</style>\n",
       "<table border=\"1\" class=\"dataframe\">\n",
       "  <thead>\n",
       "    <tr style=\"text-align: right;\">\n",
       "      <th></th>\n",
       "      <th>user_id</th>\n",
       "      <th>month</th>\n",
       "      <th>duration</th>\n",
       "    </tr>\n",
       "  </thead>\n",
       "  <tbody>\n",
       "    <tr>\n",
       "      <th>0</th>\n",
       "      <td>1000</td>\n",
       "      <td>5</td>\n",
       "      <td>159.0</td>\n",
       "    </tr>\n",
       "    <tr>\n",
       "      <th>1</th>\n",
       "      <td>1000</td>\n",
       "      <td>6</td>\n",
       "      <td>172.0</td>\n",
       "    </tr>\n",
       "    <tr>\n",
       "      <th>2</th>\n",
       "      <td>1000</td>\n",
       "      <td>7</td>\n",
       "      <td>340.0</td>\n",
       "    </tr>\n",
       "    <tr>\n",
       "      <th>3</th>\n",
       "      <td>1000</td>\n",
       "      <td>8</td>\n",
       "      <td>408.0</td>\n",
       "    </tr>\n",
       "    <tr>\n",
       "      <th>4</th>\n",
       "      <td>1000</td>\n",
       "      <td>9</td>\n",
       "      <td>466.0</td>\n",
       "    </tr>\n",
       "    <tr>\n",
       "      <th>...</th>\n",
       "      <td>...</td>\n",
       "      <td>...</td>\n",
       "      <td>...</td>\n",
       "    </tr>\n",
       "    <tr>\n",
       "      <th>3169</th>\n",
       "      <td>1498</td>\n",
       "      <td>10</td>\n",
       "      <td>247.0</td>\n",
       "    </tr>\n",
       "    <tr>\n",
       "      <th>3170</th>\n",
       "      <td>1499</td>\n",
       "      <td>9</td>\n",
       "      <td>70.0</td>\n",
       "    </tr>\n",
       "    <tr>\n",
       "      <th>3171</th>\n",
       "      <td>1499</td>\n",
       "      <td>10</td>\n",
       "      <td>449.0</td>\n",
       "    </tr>\n",
       "    <tr>\n",
       "      <th>3172</th>\n",
       "      <td>1499</td>\n",
       "      <td>11</td>\n",
       "      <td>612.0</td>\n",
       "    </tr>\n",
       "    <tr>\n",
       "      <th>3173</th>\n",
       "      <td>1499</td>\n",
       "      <td>12</td>\n",
       "      <td>492.0</td>\n",
       "    </tr>\n",
       "  </tbody>\n",
       "</table>\n",
       "<p>3174 rows × 3 columns</p>\n",
       "</div>"
      ],
      "text/plain": [
       "      user_id  month  duration\n",
       "0        1000      5     159.0\n",
       "1        1000      6     172.0\n",
       "2        1000      7     340.0\n",
       "3        1000      8     408.0\n",
       "4        1000      9     466.0\n",
       "...       ...    ...       ...\n",
       "3169     1498     10     247.0\n",
       "3170     1499      9      70.0\n",
       "3171     1499     10     449.0\n",
       "3172     1499     11     612.0\n",
       "3173     1499     12     492.0\n",
       "\n",
       "[3174 rows x 3 columns]"
      ]
     },
     "execution_count": 29,
     "metadata": {},
     "output_type": "execute_result"
    }
   ],
   "source": [
    "calls_info_sum = calls.groupby(['user_id', 'month'])['duration'].sum().reset_index()\n",
    "calls_info_sum"
   ]
  },
  {
   "cell_type": "markdown",
   "metadata": {},
   "source": [
    "А таблица calls_info_count будет показывать суммарное количество звонков:"
   ]
  },
  {
   "cell_type": "code",
   "execution_count": 30,
   "metadata": {},
   "outputs": [
    {
     "data": {
      "text/html": [
       "<div>\n",
       "<style scoped>\n",
       "    .dataframe tbody tr th:only-of-type {\n",
       "        vertical-align: middle;\n",
       "    }\n",
       "\n",
       "    .dataframe tbody tr th {\n",
       "        vertical-align: top;\n",
       "    }\n",
       "\n",
       "    .dataframe thead th {\n",
       "        text-align: right;\n",
       "    }\n",
       "</style>\n",
       "<table border=\"1\" class=\"dataframe\">\n",
       "  <thead>\n",
       "    <tr style=\"text-align: right;\">\n",
       "      <th></th>\n",
       "      <th>user_id</th>\n",
       "      <th>month</th>\n",
       "      <th>id</th>\n",
       "    </tr>\n",
       "  </thead>\n",
       "  <tbody>\n",
       "    <tr>\n",
       "      <th>0</th>\n",
       "      <td>1000</td>\n",
       "      <td>5</td>\n",
       "      <td>22</td>\n",
       "    </tr>\n",
       "    <tr>\n",
       "      <th>1</th>\n",
       "      <td>1000</td>\n",
       "      <td>6</td>\n",
       "      <td>43</td>\n",
       "    </tr>\n",
       "    <tr>\n",
       "      <th>2</th>\n",
       "      <td>1000</td>\n",
       "      <td>7</td>\n",
       "      <td>47</td>\n",
       "    </tr>\n",
       "    <tr>\n",
       "      <th>3</th>\n",
       "      <td>1000</td>\n",
       "      <td>8</td>\n",
       "      <td>52</td>\n",
       "    </tr>\n",
       "    <tr>\n",
       "      <th>4</th>\n",
       "      <td>1000</td>\n",
       "      <td>9</td>\n",
       "      <td>58</td>\n",
       "    </tr>\n",
       "    <tr>\n",
       "      <th>...</th>\n",
       "      <td>...</td>\n",
       "      <td>...</td>\n",
       "      <td>...</td>\n",
       "    </tr>\n",
       "    <tr>\n",
       "      <th>3169</th>\n",
       "      <td>1498</td>\n",
       "      <td>10</td>\n",
       "      <td>41</td>\n",
       "    </tr>\n",
       "    <tr>\n",
       "      <th>3170</th>\n",
       "      <td>1499</td>\n",
       "      <td>9</td>\n",
       "      <td>9</td>\n",
       "    </tr>\n",
       "    <tr>\n",
       "      <th>3171</th>\n",
       "      <td>1499</td>\n",
       "      <td>10</td>\n",
       "      <td>68</td>\n",
       "    </tr>\n",
       "    <tr>\n",
       "      <th>3172</th>\n",
       "      <td>1499</td>\n",
       "      <td>11</td>\n",
       "      <td>74</td>\n",
       "    </tr>\n",
       "    <tr>\n",
       "      <th>3173</th>\n",
       "      <td>1499</td>\n",
       "      <td>12</td>\n",
       "      <td>69</td>\n",
       "    </tr>\n",
       "  </tbody>\n",
       "</table>\n",
       "<p>3174 rows × 3 columns</p>\n",
       "</div>"
      ],
      "text/plain": [
       "      user_id  month  id\n",
       "0        1000      5  22\n",
       "1        1000      6  43\n",
       "2        1000      7  47\n",
       "3        1000      8  52\n",
       "4        1000      9  58\n",
       "...       ...    ...  ..\n",
       "3169     1498     10  41\n",
       "3170     1499      9   9\n",
       "3171     1499     10  68\n",
       "3172     1499     11  74\n",
       "3173     1499     12  69\n",
       "\n",
       "[3174 rows x 3 columns]"
      ]
     },
     "execution_count": 30,
     "metadata": {},
     "output_type": "execute_result"
    }
   ],
   "source": [
    "calls_info_count = calls.groupby(['user_id', 'month'])['id'].count().reset_index()\n",
    "calls_info_count"
   ]
  },
  {
   "cell_type": "markdown",
   "metadata": {},
   "source": [
    "Теперь объединим эти две таблицы в одну:"
   ]
  },
  {
   "cell_type": "code",
   "execution_count": 31,
   "metadata": {},
   "outputs": [
    {
     "data": {
      "text/html": [
       "<div>\n",
       "<style scoped>\n",
       "    .dataframe tbody tr th:only-of-type {\n",
       "        vertical-align: middle;\n",
       "    }\n",
       "\n",
       "    .dataframe tbody tr th {\n",
       "        vertical-align: top;\n",
       "    }\n",
       "\n",
       "    .dataframe thead th {\n",
       "        text-align: right;\n",
       "    }\n",
       "</style>\n",
       "<table border=\"1\" class=\"dataframe\">\n",
       "  <thead>\n",
       "    <tr style=\"text-align: right;\">\n",
       "      <th></th>\n",
       "      <th>user_id</th>\n",
       "      <th>month</th>\n",
       "      <th>duration</th>\n",
       "      <th>id</th>\n",
       "    </tr>\n",
       "  </thead>\n",
       "  <tbody>\n",
       "    <tr>\n",
       "      <th>0</th>\n",
       "      <td>1000</td>\n",
       "      <td>5</td>\n",
       "      <td>159.0</td>\n",
       "      <td>22</td>\n",
       "    </tr>\n",
       "    <tr>\n",
       "      <th>1</th>\n",
       "      <td>1000</td>\n",
       "      <td>6</td>\n",
       "      <td>172.0</td>\n",
       "      <td>43</td>\n",
       "    </tr>\n",
       "    <tr>\n",
       "      <th>2</th>\n",
       "      <td>1000</td>\n",
       "      <td>7</td>\n",
       "      <td>340.0</td>\n",
       "      <td>47</td>\n",
       "    </tr>\n",
       "    <tr>\n",
       "      <th>3</th>\n",
       "      <td>1000</td>\n",
       "      <td>8</td>\n",
       "      <td>408.0</td>\n",
       "      <td>52</td>\n",
       "    </tr>\n",
       "    <tr>\n",
       "      <th>4</th>\n",
       "      <td>1000</td>\n",
       "      <td>9</td>\n",
       "      <td>466.0</td>\n",
       "      <td>58</td>\n",
       "    </tr>\n",
       "  </tbody>\n",
       "</table>\n",
       "</div>"
      ],
      "text/plain": [
       "   user_id  month  duration  id\n",
       "0     1000      5     159.0  22\n",
       "1     1000      6     172.0  43\n",
       "2     1000      7     340.0  47\n",
       "3     1000      8     408.0  52\n",
       "4     1000      9     466.0  58"
      ]
     },
     "execution_count": 31,
     "metadata": {},
     "output_type": "execute_result"
    }
   ],
   "source": [
    "calls_info = calls_info_sum.merge(calls_info_count, on=['user_id', 'month'], how='outer')\n",
    "calls_info.head()"
   ]
  },
  {
   "cell_type": "markdown",
   "metadata": {},
   "source": [
    "Теперь у нас есть информация по каждому клиенту в разбивке по месяцам о количестве звонков и их продолжительности, которая хранится в таблице calls_info."
   ]
  },
  {
   "cell_type": "markdown",
   "metadata": {},
   "source": [
    "#### Свод данных о сообщениях."
   ]
  },
  {
   "cell_type": "markdown",
   "metadata": {},
   "source": [
    "Таблица messages содержит данные за 2018 год. Нам будет необходимо посчитать для каждого пользователя количество сообщений по месяцам. Предлагаю начать с того, что добавить столбец с информацией о месяце:"
   ]
  },
  {
   "cell_type": "code",
   "execution_count": 32,
   "metadata": {},
   "outputs": [
    {
     "data": {
      "text/html": [
       "<div>\n",
       "<style scoped>\n",
       "    .dataframe tbody tr th:only-of-type {\n",
       "        vertical-align: middle;\n",
       "    }\n",
       "\n",
       "    .dataframe tbody tr th {\n",
       "        vertical-align: top;\n",
       "    }\n",
       "\n",
       "    .dataframe thead th {\n",
       "        text-align: right;\n",
       "    }\n",
       "</style>\n",
       "<table border=\"1\" class=\"dataframe\">\n",
       "  <thead>\n",
       "    <tr style=\"text-align: right;\">\n",
       "      <th></th>\n",
       "      <th>id</th>\n",
       "      <th>message_date</th>\n",
       "      <th>user_id</th>\n",
       "      <th>month</th>\n",
       "    </tr>\n",
       "  </thead>\n",
       "  <tbody>\n",
       "    <tr>\n",
       "      <th>0</th>\n",
       "      <td>1000_0</td>\n",
       "      <td>2018-06-27</td>\n",
       "      <td>1000</td>\n",
       "      <td>6</td>\n",
       "    </tr>\n",
       "    <tr>\n",
       "      <th>1</th>\n",
       "      <td>1000_1</td>\n",
       "      <td>2018-10-08</td>\n",
       "      <td>1000</td>\n",
       "      <td>10</td>\n",
       "    </tr>\n",
       "    <tr>\n",
       "      <th>2</th>\n",
       "      <td>1000_2</td>\n",
       "      <td>2018-08-04</td>\n",
       "      <td>1000</td>\n",
       "      <td>8</td>\n",
       "    </tr>\n",
       "    <tr>\n",
       "      <th>3</th>\n",
       "      <td>1000_3</td>\n",
       "      <td>2018-06-16</td>\n",
       "      <td>1000</td>\n",
       "      <td>6</td>\n",
       "    </tr>\n",
       "    <tr>\n",
       "      <th>4</th>\n",
       "      <td>1000_4</td>\n",
       "      <td>2018-12-05</td>\n",
       "      <td>1000</td>\n",
       "      <td>12</td>\n",
       "    </tr>\n",
       "    <tr>\n",
       "      <th>5</th>\n",
       "      <td>1000_5</td>\n",
       "      <td>2018-06-20</td>\n",
       "      <td>1000</td>\n",
       "      <td>6</td>\n",
       "    </tr>\n",
       "    <tr>\n",
       "      <th>6</th>\n",
       "      <td>1000_6</td>\n",
       "      <td>2018-11-19</td>\n",
       "      <td>1000</td>\n",
       "      <td>11</td>\n",
       "    </tr>\n",
       "    <tr>\n",
       "      <th>7</th>\n",
       "      <td>1000_7</td>\n",
       "      <td>2018-10-29</td>\n",
       "      <td>1000</td>\n",
       "      <td>10</td>\n",
       "    </tr>\n",
       "    <tr>\n",
       "      <th>8</th>\n",
       "      <td>1000_8</td>\n",
       "      <td>2018-06-25</td>\n",
       "      <td>1000</td>\n",
       "      <td>6</td>\n",
       "    </tr>\n",
       "    <tr>\n",
       "      <th>9</th>\n",
       "      <td>1000_9</td>\n",
       "      <td>2018-12-18</td>\n",
       "      <td>1000</td>\n",
       "      <td>12</td>\n",
       "    </tr>\n",
       "  </tbody>\n",
       "</table>\n",
       "</div>"
      ],
      "text/plain": [
       "       id message_date  user_id  month\n",
       "0  1000_0   2018-06-27     1000      6\n",
       "1  1000_1   2018-10-08     1000     10\n",
       "2  1000_2   2018-08-04     1000      8\n",
       "3  1000_3   2018-06-16     1000      6\n",
       "4  1000_4   2018-12-05     1000     12\n",
       "5  1000_5   2018-06-20     1000      6\n",
       "6  1000_6   2018-11-19     1000     11\n",
       "7  1000_7   2018-10-29     1000     10\n",
       "8  1000_8   2018-06-25     1000      6\n",
       "9  1000_9   2018-12-18     1000     12"
      ]
     },
     "execution_count": 32,
     "metadata": {},
     "output_type": "execute_result"
    }
   ],
   "source": [
    "messages['month'] = pd.DatetimeIndex(messages['message_date']).month\n",
    "messages.head(10)"
   ]
  },
  {
   "cell_type": "markdown",
   "metadata": {},
   "source": [
    "Теперь сгруппируем данные по клиентам по месяцам и назовём эту таблицу messages_info:"
   ]
  },
  {
   "cell_type": "code",
   "execution_count": 33,
   "metadata": {},
   "outputs": [
    {
     "data": {
      "text/html": [
       "<div>\n",
       "<style scoped>\n",
       "    .dataframe tbody tr th:only-of-type {\n",
       "        vertical-align: middle;\n",
       "    }\n",
       "\n",
       "    .dataframe tbody tr th {\n",
       "        vertical-align: top;\n",
       "    }\n",
       "\n",
       "    .dataframe thead th {\n",
       "        text-align: right;\n",
       "    }\n",
       "</style>\n",
       "<table border=\"1\" class=\"dataframe\">\n",
       "  <thead>\n",
       "    <tr style=\"text-align: right;\">\n",
       "      <th></th>\n",
       "      <th>user_id</th>\n",
       "      <th>month</th>\n",
       "      <th>id</th>\n",
       "    </tr>\n",
       "  </thead>\n",
       "  <tbody>\n",
       "    <tr>\n",
       "      <th>0</th>\n",
       "      <td>1000</td>\n",
       "      <td>5</td>\n",
       "      <td>22</td>\n",
       "    </tr>\n",
       "    <tr>\n",
       "      <th>1</th>\n",
       "      <td>1000</td>\n",
       "      <td>6</td>\n",
       "      <td>60</td>\n",
       "    </tr>\n",
       "    <tr>\n",
       "      <th>2</th>\n",
       "      <td>1000</td>\n",
       "      <td>7</td>\n",
       "      <td>75</td>\n",
       "    </tr>\n",
       "    <tr>\n",
       "      <th>3</th>\n",
       "      <td>1000</td>\n",
       "      <td>8</td>\n",
       "      <td>81</td>\n",
       "    </tr>\n",
       "    <tr>\n",
       "      <th>4</th>\n",
       "      <td>1000</td>\n",
       "      <td>9</td>\n",
       "      <td>57</td>\n",
       "    </tr>\n",
       "  </tbody>\n",
       "</table>\n",
       "</div>"
      ],
      "text/plain": [
       "   user_id  month  id\n",
       "0     1000      5  22\n",
       "1     1000      6  60\n",
       "2     1000      7  75\n",
       "3     1000      8  81\n",
       "4     1000      9  57"
      ]
     },
     "execution_count": 33,
     "metadata": {},
     "output_type": "execute_result"
    }
   ],
   "source": [
    "messages_info = messages.groupby(['user_id', 'month'])['id'].count().reset_index()\n",
    "messages_info.head()"
   ]
  },
  {
   "cell_type": "markdown",
   "metadata": {},
   "source": [
    "Теперь у нас есть информация по каждому клиенту в разбивке по месяцам о количестве сообщений, которая хранится в таблице messages_info."
   ]
  },
  {
   "cell_type": "markdown",
   "metadata": {},
   "source": [
    "#### Свод данных об интернет-трафике."
   ]
  },
  {
   "cell_type": "markdown",
   "metadata": {},
   "source": [
    "Таблица internet содержит данные за 2018 год. Нам будет необходимо посчитать для каждого пользователя количество трафика по месяцам. Предлагаю начать с того, что добавить столбец с информацией о месяце:"
   ]
  },
  {
   "cell_type": "code",
   "execution_count": 34,
   "metadata": {},
   "outputs": [
    {
     "data": {
      "text/html": [
       "<div>\n",
       "<style scoped>\n",
       "    .dataframe tbody tr th:only-of-type {\n",
       "        vertical-align: middle;\n",
       "    }\n",
       "\n",
       "    .dataframe tbody tr th {\n",
       "        vertical-align: top;\n",
       "    }\n",
       "\n",
       "    .dataframe thead th {\n",
       "        text-align: right;\n",
       "    }\n",
       "</style>\n",
       "<table border=\"1\" class=\"dataframe\">\n",
       "  <thead>\n",
       "    <tr style=\"text-align: right;\">\n",
       "      <th></th>\n",
       "      <th>id</th>\n",
       "      <th>mb_used</th>\n",
       "      <th>session_date</th>\n",
       "      <th>user_id</th>\n",
       "      <th>month</th>\n",
       "    </tr>\n",
       "  </thead>\n",
       "  <tbody>\n",
       "    <tr>\n",
       "      <th>0</th>\n",
       "      <td>1000_0</td>\n",
       "      <td>112.95</td>\n",
       "      <td>2018-11-25</td>\n",
       "      <td>1000</td>\n",
       "      <td>11</td>\n",
       "    </tr>\n",
       "    <tr>\n",
       "      <th>1</th>\n",
       "      <td>1000_1</td>\n",
       "      <td>1052.81</td>\n",
       "      <td>2018-09-07</td>\n",
       "      <td>1000</td>\n",
       "      <td>9</td>\n",
       "    </tr>\n",
       "    <tr>\n",
       "      <th>2</th>\n",
       "      <td>1000_2</td>\n",
       "      <td>1197.26</td>\n",
       "      <td>2018-06-25</td>\n",
       "      <td>1000</td>\n",
       "      <td>6</td>\n",
       "    </tr>\n",
       "    <tr>\n",
       "      <th>3</th>\n",
       "      <td>1000_3</td>\n",
       "      <td>550.27</td>\n",
       "      <td>2018-08-22</td>\n",
       "      <td>1000</td>\n",
       "      <td>8</td>\n",
       "    </tr>\n",
       "    <tr>\n",
       "      <th>4</th>\n",
       "      <td>1000_4</td>\n",
       "      <td>302.56</td>\n",
       "      <td>2018-09-24</td>\n",
       "      <td>1000</td>\n",
       "      <td>9</td>\n",
       "    </tr>\n",
       "    <tr>\n",
       "      <th>5</th>\n",
       "      <td>1000_5</td>\n",
       "      <td>399.97</td>\n",
       "      <td>2018-10-02</td>\n",
       "      <td>1000</td>\n",
       "      <td>10</td>\n",
       "    </tr>\n",
       "    <tr>\n",
       "      <th>6</th>\n",
       "      <td>1000_6</td>\n",
       "      <td>540.08</td>\n",
       "      <td>2018-09-07</td>\n",
       "      <td>1000</td>\n",
       "      <td>9</td>\n",
       "    </tr>\n",
       "    <tr>\n",
       "      <th>7</th>\n",
       "      <td>1000_7</td>\n",
       "      <td>415.70</td>\n",
       "      <td>2018-07-11</td>\n",
       "      <td>1000</td>\n",
       "      <td>7</td>\n",
       "    </tr>\n",
       "    <tr>\n",
       "      <th>8</th>\n",
       "      <td>1000_8</td>\n",
       "      <td>505.40</td>\n",
       "      <td>2018-10-08</td>\n",
       "      <td>1000</td>\n",
       "      <td>10</td>\n",
       "    </tr>\n",
       "    <tr>\n",
       "      <th>9</th>\n",
       "      <td>1000_9</td>\n",
       "      <td>345.54</td>\n",
       "      <td>2018-09-03</td>\n",
       "      <td>1000</td>\n",
       "      <td>9</td>\n",
       "    </tr>\n",
       "  </tbody>\n",
       "</table>\n",
       "</div>"
      ],
      "text/plain": [
       "       id  mb_used session_date  user_id  month\n",
       "0  1000_0   112.95   2018-11-25     1000     11\n",
       "1  1000_1  1052.81   2018-09-07     1000      9\n",
       "2  1000_2  1197.26   2018-06-25     1000      6\n",
       "3  1000_3   550.27   2018-08-22     1000      8\n",
       "4  1000_4   302.56   2018-09-24     1000      9\n",
       "5  1000_5   399.97   2018-10-02     1000     10\n",
       "6  1000_6   540.08   2018-09-07     1000      9\n",
       "7  1000_7   415.70   2018-07-11     1000      7\n",
       "8  1000_8   505.40   2018-10-08     1000     10\n",
       "9  1000_9   345.54   2018-09-03     1000      9"
      ]
     },
     "execution_count": 34,
     "metadata": {},
     "output_type": "execute_result"
    }
   ],
   "source": [
    "internet['month'] = pd.DatetimeIndex(internet['session_date']).month\n",
    "internet.head(10)"
   ]
  },
  {
   "cell_type": "markdown",
   "metadata": {},
   "source": [
    "Теперь сгруппируем данные по клиентам по месяцам и назовём эту таблицу internet_info"
   ]
  },
  {
   "cell_type": "code",
   "execution_count": 35,
   "metadata": {},
   "outputs": [
    {
     "data": {
      "text/html": [
       "<div>\n",
       "<style scoped>\n",
       "    .dataframe tbody tr th:only-of-type {\n",
       "        vertical-align: middle;\n",
       "    }\n",
       "\n",
       "    .dataframe tbody tr th {\n",
       "        vertical-align: top;\n",
       "    }\n",
       "\n",
       "    .dataframe thead th {\n",
       "        text-align: right;\n",
       "    }\n",
       "</style>\n",
       "<table border=\"1\" class=\"dataframe\">\n",
       "  <thead>\n",
       "    <tr style=\"text-align: right;\">\n",
       "      <th></th>\n",
       "      <th>user_id</th>\n",
       "      <th>month</th>\n",
       "      <th>mb_used</th>\n",
       "    </tr>\n",
       "  </thead>\n",
       "  <tbody>\n",
       "    <tr>\n",
       "      <th>0</th>\n",
       "      <td>1000</td>\n",
       "      <td>5</td>\n",
       "      <td>2253.49</td>\n",
       "    </tr>\n",
       "    <tr>\n",
       "      <th>1</th>\n",
       "      <td>1000</td>\n",
       "      <td>6</td>\n",
       "      <td>23233.77</td>\n",
       "    </tr>\n",
       "    <tr>\n",
       "      <th>2</th>\n",
       "      <td>1000</td>\n",
       "      <td>7</td>\n",
       "      <td>14003.64</td>\n",
       "    </tr>\n",
       "    <tr>\n",
       "      <th>3</th>\n",
       "      <td>1000</td>\n",
       "      <td>8</td>\n",
       "      <td>14055.93</td>\n",
       "    </tr>\n",
       "    <tr>\n",
       "      <th>4</th>\n",
       "      <td>1000</td>\n",
       "      <td>9</td>\n",
       "      <td>14568.91</td>\n",
       "    </tr>\n",
       "    <tr>\n",
       "      <th>...</th>\n",
       "      <td>...</td>\n",
       "      <td>...</td>\n",
       "      <td>...</td>\n",
       "    </tr>\n",
       "    <tr>\n",
       "      <th>3198</th>\n",
       "      <td>1498</td>\n",
       "      <td>10</td>\n",
       "      <td>20579.36</td>\n",
       "    </tr>\n",
       "    <tr>\n",
       "      <th>3199</th>\n",
       "      <td>1499</td>\n",
       "      <td>9</td>\n",
       "      <td>1845.75</td>\n",
       "    </tr>\n",
       "    <tr>\n",
       "      <th>3200</th>\n",
       "      <td>1499</td>\n",
       "      <td>10</td>\n",
       "      <td>17788.51</td>\n",
       "    </tr>\n",
       "    <tr>\n",
       "      <th>3201</th>\n",
       "      <td>1499</td>\n",
       "      <td>11</td>\n",
       "      <td>17963.31</td>\n",
       "    </tr>\n",
       "    <tr>\n",
       "      <th>3202</th>\n",
       "      <td>1499</td>\n",
       "      <td>12</td>\n",
       "      <td>13055.58</td>\n",
       "    </tr>\n",
       "  </tbody>\n",
       "</table>\n",
       "<p>3203 rows × 3 columns</p>\n",
       "</div>"
      ],
      "text/plain": [
       "      user_id  month   mb_used\n",
       "0        1000      5   2253.49\n",
       "1        1000      6  23233.77\n",
       "2        1000      7  14003.64\n",
       "3        1000      8  14055.93\n",
       "4        1000      9  14568.91\n",
       "...       ...    ...       ...\n",
       "3198     1498     10  20579.36\n",
       "3199     1499      9   1845.75\n",
       "3200     1499     10  17788.51\n",
       "3201     1499     11  17963.31\n",
       "3202     1499     12  13055.58\n",
       "\n",
       "[3203 rows x 3 columns]"
      ]
     },
     "execution_count": 35,
     "metadata": {},
     "output_type": "execute_result"
    }
   ],
   "source": [
    "internet_info = internet.groupby(['user_id', 'month'])['mb_used'].sum().reset_index()\n",
    "internet_info"
   ]
  },
  {
   "cell_type": "markdown",
   "metadata": {},
   "source": [
    "Теперь мы можем посмотреть, какой клиент использовал какой трафик в каждом из месяцев отчетного года, используя новую таблицу internet_info. Остался один нерешеный вопрос. Оператор округляет трафик до ГБ при расчете оплаты. Значит нам необходимо привести данные в столбце mb_used к такому формату, чтобы расчеты были верны. Предлагаю изменить единицу измерения столбца: вместо Мб пусть будет ГБ. Сделать это просто - нужно разделить значения столбца на 1000ю Затем округим значения до большего целого:"
   ]
  },
  {
   "cell_type": "code",
   "execution_count": 36,
   "metadata": {},
   "outputs": [
    {
     "data": {
      "text/html": [
       "<div>\n",
       "<style scoped>\n",
       "    .dataframe tbody tr th:only-of-type {\n",
       "        vertical-align: middle;\n",
       "    }\n",
       "\n",
       "    .dataframe tbody tr th {\n",
       "        vertical-align: top;\n",
       "    }\n",
       "\n",
       "    .dataframe thead th {\n",
       "        text-align: right;\n",
       "    }\n",
       "</style>\n",
       "<table border=\"1\" class=\"dataframe\">\n",
       "  <thead>\n",
       "    <tr style=\"text-align: right;\">\n",
       "      <th></th>\n",
       "      <th>user_id</th>\n",
       "      <th>month</th>\n",
       "      <th>mb_used</th>\n",
       "    </tr>\n",
       "  </thead>\n",
       "  <tbody>\n",
       "    <tr>\n",
       "      <th>0</th>\n",
       "      <td>1000</td>\n",
       "      <td>5</td>\n",
       "      <td>3.0</td>\n",
       "    </tr>\n",
       "    <tr>\n",
       "      <th>1</th>\n",
       "      <td>1000</td>\n",
       "      <td>6</td>\n",
       "      <td>23.0</td>\n",
       "    </tr>\n",
       "    <tr>\n",
       "      <th>2</th>\n",
       "      <td>1000</td>\n",
       "      <td>7</td>\n",
       "      <td>14.0</td>\n",
       "    </tr>\n",
       "    <tr>\n",
       "      <th>3</th>\n",
       "      <td>1000</td>\n",
       "      <td>8</td>\n",
       "      <td>14.0</td>\n",
       "    </tr>\n",
       "    <tr>\n",
       "      <th>4</th>\n",
       "      <td>1000</td>\n",
       "      <td>9</td>\n",
       "      <td>15.0</td>\n",
       "    </tr>\n",
       "  </tbody>\n",
       "</table>\n",
       "</div>"
      ],
      "text/plain": [
       "   user_id  month  mb_used\n",
       "0     1000      5      3.0\n",
       "1     1000      6     23.0\n",
       "2     1000      7     14.0\n",
       "3     1000      8     14.0\n",
       "4     1000      9     15.0"
      ]
     },
     "execution_count": 36,
     "metadata": {},
     "output_type": "execute_result"
    }
   ],
   "source": [
    "internet_info['mb_used'] = internet_info['mb_used']/1024\n",
    "internet_info['mb_used'] = np.ceil(internet_info['mb_used'])\n",
    "internet_info.head()"
   ]
  },
  {
   "cell_type": "markdown",
   "metadata": {},
   "source": [
    "#### Объединение данных."
   ]
  },
  {
   "cell_type": "markdown",
   "metadata": {},
   "source": [
    "В итоге у нас есть 5 таблиц, которые содержат необходимы нам данные:\n",
    "1. users - дает информацию о том, какой тариф соответствует каждому пользователю. \n",
    "2. calls_info - дает информацию о том, сколько звонков и какой длительности совершает каждый клиент в разбивке по месяцам.\n",
    "3. messages_info - дает информацию о том, сколько сообщений отправлял каждый клиент с разбивкой по месяцам.\n",
    "4. internet_info - дает информацию о трафике\n",
    "5. tariffs - дает информацию о стоимости всех вышеперечисленных услуг."
   ]
  },
  {
   "cell_type": "markdown",
   "metadata": {},
   "source": [
    "Предлагаю объединить данные из этих таблиц. Начнем с таблиц с данными о звонках, сообщениях и интернет-трафике:"
   ]
  },
  {
   "cell_type": "code",
   "execution_count": 37,
   "metadata": {},
   "outputs": [
    {
     "data": {
      "text/html": [
       "<div>\n",
       "<style scoped>\n",
       "    .dataframe tbody tr th:only-of-type {\n",
       "        vertical-align: middle;\n",
       "    }\n",
       "\n",
       "    .dataframe tbody tr th {\n",
       "        vertical-align: top;\n",
       "    }\n",
       "\n",
       "    .dataframe thead th {\n",
       "        text-align: right;\n",
       "    }\n",
       "</style>\n",
       "<table border=\"1\" class=\"dataframe\">\n",
       "  <thead>\n",
       "    <tr style=\"text-align: right;\">\n",
       "      <th></th>\n",
       "      <th>user_id</th>\n",
       "      <th>month</th>\n",
       "      <th>duration</th>\n",
       "      <th>id_calls</th>\n",
       "      <th>id_messages</th>\n",
       "    </tr>\n",
       "  </thead>\n",
       "  <tbody>\n",
       "    <tr>\n",
       "      <th>0</th>\n",
       "      <td>1000</td>\n",
       "      <td>5</td>\n",
       "      <td>159.0</td>\n",
       "      <td>22.0</td>\n",
       "      <td>22.0</td>\n",
       "    </tr>\n",
       "    <tr>\n",
       "      <th>1</th>\n",
       "      <td>1000</td>\n",
       "      <td>6</td>\n",
       "      <td>172.0</td>\n",
       "      <td>43.0</td>\n",
       "      <td>60.0</td>\n",
       "    </tr>\n",
       "    <tr>\n",
       "      <th>2</th>\n",
       "      <td>1000</td>\n",
       "      <td>7</td>\n",
       "      <td>340.0</td>\n",
       "      <td>47.0</td>\n",
       "      <td>75.0</td>\n",
       "    </tr>\n",
       "    <tr>\n",
       "      <th>3</th>\n",
       "      <td>1000</td>\n",
       "      <td>8</td>\n",
       "      <td>408.0</td>\n",
       "      <td>52.0</td>\n",
       "      <td>81.0</td>\n",
       "    </tr>\n",
       "    <tr>\n",
       "      <th>4</th>\n",
       "      <td>1000</td>\n",
       "      <td>9</td>\n",
       "      <td>466.0</td>\n",
       "      <td>58.0</td>\n",
       "      <td>57.0</td>\n",
       "    </tr>\n",
       "  </tbody>\n",
       "</table>\n",
       "</div>"
      ],
      "text/plain": [
       "   user_id  month  duration  id_calls  id_messages\n",
       "0     1000      5     159.0      22.0         22.0\n",
       "1     1000      6     172.0      43.0         60.0\n",
       "2     1000      7     340.0      47.0         75.0\n",
       "3     1000      8     408.0      52.0         81.0\n",
       "4     1000      9     466.0      58.0         57.0"
      ]
     },
     "execution_count": 37,
     "metadata": {},
     "output_type": "execute_result"
    }
   ],
   "source": [
    "information = calls_info.merge(messages_info, on=['user_id', 'month'], suffixes=('_calls', '_messages'), how='outer')\n",
    "information.head()"
   ]
  },
  {
   "cell_type": "code",
   "execution_count": 38,
   "metadata": {},
   "outputs": [
    {
     "data": {
      "text/html": [
       "<div>\n",
       "<style scoped>\n",
       "    .dataframe tbody tr th:only-of-type {\n",
       "        vertical-align: middle;\n",
       "    }\n",
       "\n",
       "    .dataframe tbody tr th {\n",
       "        vertical-align: top;\n",
       "    }\n",
       "\n",
       "    .dataframe thead th {\n",
       "        text-align: right;\n",
       "    }\n",
       "</style>\n",
       "<table border=\"1\" class=\"dataframe\">\n",
       "  <thead>\n",
       "    <tr style=\"text-align: right;\">\n",
       "      <th></th>\n",
       "      <th>index</th>\n",
       "      <th>user_id</th>\n",
       "      <th>month</th>\n",
       "      <th>duration</th>\n",
       "      <th>id_calls</th>\n",
       "      <th>id_messages</th>\n",
       "      <th>mb_used</th>\n",
       "    </tr>\n",
       "  </thead>\n",
       "  <tbody>\n",
       "    <tr>\n",
       "      <th>0</th>\n",
       "      <td>0</td>\n",
       "      <td>1000</td>\n",
       "      <td>5</td>\n",
       "      <td>159.0</td>\n",
       "      <td>22.0</td>\n",
       "      <td>22.0</td>\n",
       "      <td>3.0</td>\n",
       "    </tr>\n",
       "    <tr>\n",
       "      <th>1</th>\n",
       "      <td>1</td>\n",
       "      <td>1000</td>\n",
       "      <td>6</td>\n",
       "      <td>172.0</td>\n",
       "      <td>43.0</td>\n",
       "      <td>60.0</td>\n",
       "      <td>23.0</td>\n",
       "    </tr>\n",
       "    <tr>\n",
       "      <th>2</th>\n",
       "      <td>2</td>\n",
       "      <td>1000</td>\n",
       "      <td>7</td>\n",
       "      <td>340.0</td>\n",
       "      <td>47.0</td>\n",
       "      <td>75.0</td>\n",
       "      <td>14.0</td>\n",
       "    </tr>\n",
       "    <tr>\n",
       "      <th>3</th>\n",
       "      <td>3</td>\n",
       "      <td>1000</td>\n",
       "      <td>8</td>\n",
       "      <td>408.0</td>\n",
       "      <td>52.0</td>\n",
       "      <td>81.0</td>\n",
       "      <td>14.0</td>\n",
       "    </tr>\n",
       "    <tr>\n",
       "      <th>4</th>\n",
       "      <td>4</td>\n",
       "      <td>1000</td>\n",
       "      <td>9</td>\n",
       "      <td>466.0</td>\n",
       "      <td>58.0</td>\n",
       "      <td>57.0</td>\n",
       "      <td>15.0</td>\n",
       "    </tr>\n",
       "  </tbody>\n",
       "</table>\n",
       "</div>"
      ],
      "text/plain": [
       "   index  user_id  month  duration  id_calls  id_messages  mb_used\n",
       "0      0     1000      5     159.0      22.0         22.0      3.0\n",
       "1      1     1000      6     172.0      43.0         60.0     23.0\n",
       "2      2     1000      7     340.0      47.0         75.0     14.0\n",
       "3      3     1000      8     408.0      52.0         81.0     14.0\n",
       "4      4     1000      9     466.0      58.0         57.0     15.0"
      ]
     },
     "execution_count": 38,
     "metadata": {},
     "output_type": "execute_result"
    }
   ],
   "source": [
    "information = information.merge(internet_info, on=['user_id', 'month'], how='outer').reset_index()\n",
    "information.head()"
   ]
  },
  {
   "cell_type": "markdown",
   "metadata": {},
   "source": [
    "Теперь нужно добавить информацию о тарифе, который использует каждый клиент:"
   ]
  },
  {
   "cell_type": "code",
   "execution_count": 39,
   "metadata": {},
   "outputs": [
    {
     "data": {
      "text/html": [
       "<div>\n",
       "<style scoped>\n",
       "    .dataframe tbody tr th:only-of-type {\n",
       "        vertical-align: middle;\n",
       "    }\n",
       "\n",
       "    .dataframe tbody tr th {\n",
       "        vertical-align: top;\n",
       "    }\n",
       "\n",
       "    .dataframe thead th {\n",
       "        text-align: right;\n",
       "    }\n",
       "</style>\n",
       "<table border=\"1\" class=\"dataframe\">\n",
       "  <thead>\n",
       "    <tr style=\"text-align: right;\">\n",
       "      <th></th>\n",
       "      <th>index</th>\n",
       "      <th>user_id</th>\n",
       "      <th>month</th>\n",
       "      <th>duration</th>\n",
       "      <th>id_calls</th>\n",
       "      <th>id_messages</th>\n",
       "      <th>mb_used</th>\n",
       "      <th>age</th>\n",
       "      <th>churn_date</th>\n",
       "      <th>city</th>\n",
       "      <th>first_name</th>\n",
       "      <th>last_name</th>\n",
       "      <th>reg_date</th>\n",
       "      <th>tariff</th>\n",
       "    </tr>\n",
       "  </thead>\n",
       "  <tbody>\n",
       "    <tr>\n",
       "      <th>0</th>\n",
       "      <td>0.0</td>\n",
       "      <td>1000</td>\n",
       "      <td>5.0</td>\n",
       "      <td>159.0</td>\n",
       "      <td>22.0</td>\n",
       "      <td>22.0</td>\n",
       "      <td>3.0</td>\n",
       "      <td>52</td>\n",
       "      <td>NaT</td>\n",
       "      <td>Краснодар</td>\n",
       "      <td>Рафаил</td>\n",
       "      <td>Верещагин</td>\n",
       "      <td>2018-05-25</td>\n",
       "      <td>ultra</td>\n",
       "    </tr>\n",
       "    <tr>\n",
       "      <th>1</th>\n",
       "      <td>1.0</td>\n",
       "      <td>1000</td>\n",
       "      <td>6.0</td>\n",
       "      <td>172.0</td>\n",
       "      <td>43.0</td>\n",
       "      <td>60.0</td>\n",
       "      <td>23.0</td>\n",
       "      <td>52</td>\n",
       "      <td>NaT</td>\n",
       "      <td>Краснодар</td>\n",
       "      <td>Рафаил</td>\n",
       "      <td>Верещагин</td>\n",
       "      <td>2018-05-25</td>\n",
       "      <td>ultra</td>\n",
       "    </tr>\n",
       "    <tr>\n",
       "      <th>2</th>\n",
       "      <td>2.0</td>\n",
       "      <td>1000</td>\n",
       "      <td>7.0</td>\n",
       "      <td>340.0</td>\n",
       "      <td>47.0</td>\n",
       "      <td>75.0</td>\n",
       "      <td>14.0</td>\n",
       "      <td>52</td>\n",
       "      <td>NaT</td>\n",
       "      <td>Краснодар</td>\n",
       "      <td>Рафаил</td>\n",
       "      <td>Верещагин</td>\n",
       "      <td>2018-05-25</td>\n",
       "      <td>ultra</td>\n",
       "    </tr>\n",
       "    <tr>\n",
       "      <th>3</th>\n",
       "      <td>3.0</td>\n",
       "      <td>1000</td>\n",
       "      <td>8.0</td>\n",
       "      <td>408.0</td>\n",
       "      <td>52.0</td>\n",
       "      <td>81.0</td>\n",
       "      <td>14.0</td>\n",
       "      <td>52</td>\n",
       "      <td>NaT</td>\n",
       "      <td>Краснодар</td>\n",
       "      <td>Рафаил</td>\n",
       "      <td>Верещагин</td>\n",
       "      <td>2018-05-25</td>\n",
       "      <td>ultra</td>\n",
       "    </tr>\n",
       "    <tr>\n",
       "      <th>4</th>\n",
       "      <td>4.0</td>\n",
       "      <td>1000</td>\n",
       "      <td>9.0</td>\n",
       "      <td>466.0</td>\n",
       "      <td>58.0</td>\n",
       "      <td>57.0</td>\n",
       "      <td>15.0</td>\n",
       "      <td>52</td>\n",
       "      <td>NaT</td>\n",
       "      <td>Краснодар</td>\n",
       "      <td>Рафаил</td>\n",
       "      <td>Верещагин</td>\n",
       "      <td>2018-05-25</td>\n",
       "      <td>ultra</td>\n",
       "    </tr>\n",
       "  </tbody>\n",
       "</table>\n",
       "</div>"
      ],
      "text/plain": [
       "   index  user_id  month  duration  id_calls  id_messages  mb_used  age  \\\n",
       "0    0.0     1000    5.0     159.0      22.0         22.0      3.0   52   \n",
       "1    1.0     1000    6.0     172.0      43.0         60.0     23.0   52   \n",
       "2    2.0     1000    7.0     340.0      47.0         75.0     14.0   52   \n",
       "3    3.0     1000    8.0     408.0      52.0         81.0     14.0   52   \n",
       "4    4.0     1000    9.0     466.0      58.0         57.0     15.0   52   \n",
       "\n",
       "  churn_date       city first_name  last_name   reg_date tariff  \n",
       "0        NaT  Краснодар     Рафаил  Верещагин 2018-05-25  ultra  \n",
       "1        NaT  Краснодар     Рафаил  Верещагин 2018-05-25  ultra  \n",
       "2        NaT  Краснодар     Рафаил  Верещагин 2018-05-25  ultra  \n",
       "3        NaT  Краснодар     Рафаил  Верещагин 2018-05-25  ultra  \n",
       "4        NaT  Краснодар     Рафаил  Верещагин 2018-05-25  ultra  "
      ]
     },
     "execution_count": 39,
     "metadata": {},
     "output_type": "execute_result"
    }
   ],
   "source": [
    "information = information.merge(users, on=['user_id'], how='outer')\n",
    "information.head()"
   ]
  },
  {
   "cell_type": "markdown",
   "metadata": {},
   "source": [
    "Проверим, всё ли прошло гладко, осталось ди у нас 500 клиентов, как и было в самом начале:"
   ]
  },
  {
   "cell_type": "code",
   "execution_count": 40,
   "metadata": {},
   "outputs": [
    {
     "data": {
      "text/plain": [
       "500"
      ]
     },
     "execution_count": 40,
     "metadata": {},
     "output_type": "execute_result"
    }
   ],
   "source": [
    "information['user_id'].value_counts().count()"
   ]
  },
  {
   "cell_type": "markdown",
   "metadata": {},
   "source": [
    "Теперь наша таблица содержит данные о тарифах и используемых услугах. Необходимо просчитать, сколько тратит на связь каждый клиент каждый месяц, чтобы проводить дальнейший анализ. У нас есть подробная информация о том, как считается стоимость услуг помимо абонентской платы. Заключим эту информацию в столбец expenses с помощью функции expenses:"
   ]
  },
  {
   "cell_type": "markdown",
   "metadata": {},
   "source": [
    "В процессе написания фукции будем ссыласться на данные из таблицы tariffs:"
   ]
  },
  {
   "cell_type": "code",
   "execution_count": 41,
   "metadata": {},
   "outputs": [
    {
     "data": {
      "text/html": [
       "<div>\n",
       "<style scoped>\n",
       "    .dataframe tbody tr th:only-of-type {\n",
       "        vertical-align: middle;\n",
       "    }\n",
       "\n",
       "    .dataframe tbody tr th {\n",
       "        vertical-align: top;\n",
       "    }\n",
       "\n",
       "    .dataframe thead th {\n",
       "        text-align: right;\n",
       "    }\n",
       "</style>\n",
       "<table border=\"1\" class=\"dataframe\">\n",
       "  <thead>\n",
       "    <tr style=\"text-align: right;\">\n",
       "      <th></th>\n",
       "      <th>messages_included</th>\n",
       "      <th>mb_per_month_included</th>\n",
       "      <th>minutes_included</th>\n",
       "      <th>rub_monthly_fee</th>\n",
       "      <th>rub_per_gb</th>\n",
       "      <th>rub_per_message</th>\n",
       "      <th>rub_per_minute</th>\n",
       "      <th>tariff_name</th>\n",
       "    </tr>\n",
       "  </thead>\n",
       "  <tbody>\n",
       "    <tr>\n",
       "      <th>0</th>\n",
       "      <td>50</td>\n",
       "      <td>15360</td>\n",
       "      <td>500</td>\n",
       "      <td>550</td>\n",
       "      <td>200</td>\n",
       "      <td>3</td>\n",
       "      <td>3</td>\n",
       "      <td>smart</td>\n",
       "    </tr>\n",
       "    <tr>\n",
       "      <th>1</th>\n",
       "      <td>1000</td>\n",
       "      <td>30720</td>\n",
       "      <td>3000</td>\n",
       "      <td>1950</td>\n",
       "      <td>150</td>\n",
       "      <td>1</td>\n",
       "      <td>1</td>\n",
       "      <td>ultra</td>\n",
       "    </tr>\n",
       "  </tbody>\n",
       "</table>\n",
       "</div>"
      ],
      "text/plain": [
       "   messages_included  mb_per_month_included  minutes_included  \\\n",
       "0                 50                  15360               500   \n",
       "1               1000                  30720              3000   \n",
       "\n",
       "   rub_monthly_fee  rub_per_gb  rub_per_message  rub_per_minute tariff_name  \n",
       "0              550         200                3               3       smart  \n",
       "1             1950         150                1               1       ultra  "
      ]
     },
     "execution_count": 41,
     "metadata": {},
     "output_type": "execute_result"
    }
   ],
   "source": [
    "tariffs"
   ]
  },
  {
   "cell_type": "markdown",
   "metadata": {},
   "source": [
    "Очевидно нам надо преобразовать МБ в ГБ:"
   ]
  },
  {
   "cell_type": "code",
   "execution_count": 42,
   "metadata": {},
   "outputs": [
    {
     "data": {
      "text/html": [
       "<div>\n",
       "<style scoped>\n",
       "    .dataframe tbody tr th:only-of-type {\n",
       "        vertical-align: middle;\n",
       "    }\n",
       "\n",
       "    .dataframe tbody tr th {\n",
       "        vertical-align: top;\n",
       "    }\n",
       "\n",
       "    .dataframe thead th {\n",
       "        text-align: right;\n",
       "    }\n",
       "</style>\n",
       "<table border=\"1\" class=\"dataframe\">\n",
       "  <thead>\n",
       "    <tr style=\"text-align: right;\">\n",
       "      <th></th>\n",
       "      <th>messages_included</th>\n",
       "      <th>mb_per_month_included</th>\n",
       "      <th>minutes_included</th>\n",
       "      <th>rub_monthly_fee</th>\n",
       "      <th>rub_per_gb</th>\n",
       "      <th>rub_per_message</th>\n",
       "      <th>rub_per_minute</th>\n",
       "      <th>tariff_name</th>\n",
       "      <th>gb_per_month_included</th>\n",
       "    </tr>\n",
       "  </thead>\n",
       "  <tbody>\n",
       "    <tr>\n",
       "      <th>0</th>\n",
       "      <td>50</td>\n",
       "      <td>15360</td>\n",
       "      <td>500</td>\n",
       "      <td>550</td>\n",
       "      <td>200</td>\n",
       "      <td>3</td>\n",
       "      <td>3</td>\n",
       "      <td>smart</td>\n",
       "      <td>15.0</td>\n",
       "    </tr>\n",
       "    <tr>\n",
       "      <th>1</th>\n",
       "      <td>1000</td>\n",
       "      <td>30720</td>\n",
       "      <td>3000</td>\n",
       "      <td>1950</td>\n",
       "      <td>150</td>\n",
       "      <td>1</td>\n",
       "      <td>1</td>\n",
       "      <td>ultra</td>\n",
       "      <td>30.0</td>\n",
       "    </tr>\n",
       "  </tbody>\n",
       "</table>\n",
       "</div>"
      ],
      "text/plain": [
       "   messages_included  mb_per_month_included  minutes_included  \\\n",
       "0                 50                  15360               500   \n",
       "1               1000                  30720              3000   \n",
       "\n",
       "   rub_monthly_fee  rub_per_gb  rub_per_message  rub_per_minute tariff_name  \\\n",
       "0              550         200                3               3       smart   \n",
       "1             1950         150                1               1       ultra   \n",
       "\n",
       "   gb_per_month_included  \n",
       "0                   15.0  \n",
       "1                   30.0  "
      ]
     },
     "execution_count": 42,
     "metadata": {},
     "output_type": "execute_result"
    }
   ],
   "source": [
    "tariffs['gb_per_month_included'] = tariffs['mb_per_month_included']/1024\n",
    "tariffs['gb_per_month_included'] = np.ceil(tariffs['gb_per_month_included'])\n",
    "tariffs"
   ]
  },
  {
   "cell_type": "code",
   "execution_count": 43,
   "metadata": {},
   "outputs": [
    {
     "data": {
      "text/html": [
       "<div>\n",
       "<style scoped>\n",
       "    .dataframe tbody tr th:only-of-type {\n",
       "        vertical-align: middle;\n",
       "    }\n",
       "\n",
       "    .dataframe tbody tr th {\n",
       "        vertical-align: top;\n",
       "    }\n",
       "\n",
       "    .dataframe thead th {\n",
       "        text-align: right;\n",
       "    }\n",
       "</style>\n",
       "<table border=\"1\" class=\"dataframe\">\n",
       "  <thead>\n",
       "    <tr style=\"text-align: right;\">\n",
       "      <th></th>\n",
       "      <th>index</th>\n",
       "      <th>user_id</th>\n",
       "      <th>month</th>\n",
       "      <th>duration</th>\n",
       "      <th>id_calls</th>\n",
       "      <th>id_messages</th>\n",
       "      <th>mb_used</th>\n",
       "      <th>age</th>\n",
       "      <th>churn_date</th>\n",
       "      <th>city</th>\n",
       "      <th>first_name</th>\n",
       "      <th>last_name</th>\n",
       "      <th>reg_date</th>\n",
       "      <th>tariff</th>\n",
       "      <th>expenses</th>\n",
       "    </tr>\n",
       "  </thead>\n",
       "  <tbody>\n",
       "    <tr>\n",
       "      <th>0</th>\n",
       "      <td>0.0</td>\n",
       "      <td>1000</td>\n",
       "      <td>5.0</td>\n",
       "      <td>159.0</td>\n",
       "      <td>22.0</td>\n",
       "      <td>22.0</td>\n",
       "      <td>3.0</td>\n",
       "      <td>52</td>\n",
       "      <td>NaT</td>\n",
       "      <td>Краснодар</td>\n",
       "      <td>Рафаил</td>\n",
       "      <td>Верещагин</td>\n",
       "      <td>2018-05-25</td>\n",
       "      <td>ultra</td>\n",
       "      <td>1950.0</td>\n",
       "    </tr>\n",
       "    <tr>\n",
       "      <th>1</th>\n",
       "      <td>1.0</td>\n",
       "      <td>1000</td>\n",
       "      <td>6.0</td>\n",
       "      <td>172.0</td>\n",
       "      <td>43.0</td>\n",
       "      <td>60.0</td>\n",
       "      <td>23.0</td>\n",
       "      <td>52</td>\n",
       "      <td>NaT</td>\n",
       "      <td>Краснодар</td>\n",
       "      <td>Рафаил</td>\n",
       "      <td>Верещагин</td>\n",
       "      <td>2018-05-25</td>\n",
       "      <td>ultra</td>\n",
       "      <td>1950.0</td>\n",
       "    </tr>\n",
       "    <tr>\n",
       "      <th>2</th>\n",
       "      <td>2.0</td>\n",
       "      <td>1000</td>\n",
       "      <td>7.0</td>\n",
       "      <td>340.0</td>\n",
       "      <td>47.0</td>\n",
       "      <td>75.0</td>\n",
       "      <td>14.0</td>\n",
       "      <td>52</td>\n",
       "      <td>NaT</td>\n",
       "      <td>Краснодар</td>\n",
       "      <td>Рафаил</td>\n",
       "      <td>Верещагин</td>\n",
       "      <td>2018-05-25</td>\n",
       "      <td>ultra</td>\n",
       "      <td>1950.0</td>\n",
       "    </tr>\n",
       "    <tr>\n",
       "      <th>3</th>\n",
       "      <td>3.0</td>\n",
       "      <td>1000</td>\n",
       "      <td>8.0</td>\n",
       "      <td>408.0</td>\n",
       "      <td>52.0</td>\n",
       "      <td>81.0</td>\n",
       "      <td>14.0</td>\n",
       "      <td>52</td>\n",
       "      <td>NaT</td>\n",
       "      <td>Краснодар</td>\n",
       "      <td>Рафаил</td>\n",
       "      <td>Верещагин</td>\n",
       "      <td>2018-05-25</td>\n",
       "      <td>ultra</td>\n",
       "      <td>1950.0</td>\n",
       "    </tr>\n",
       "    <tr>\n",
       "      <th>4</th>\n",
       "      <td>4.0</td>\n",
       "      <td>1000</td>\n",
       "      <td>9.0</td>\n",
       "      <td>466.0</td>\n",
       "      <td>58.0</td>\n",
       "      <td>57.0</td>\n",
       "      <td>15.0</td>\n",
       "      <td>52</td>\n",
       "      <td>NaT</td>\n",
       "      <td>Краснодар</td>\n",
       "      <td>Рафаил</td>\n",
       "      <td>Верещагин</td>\n",
       "      <td>2018-05-25</td>\n",
       "      <td>ultra</td>\n",
       "      <td>1950.0</td>\n",
       "    </tr>\n",
       "  </tbody>\n",
       "</table>\n",
       "</div>"
      ],
      "text/plain": [
       "   index  user_id  month  duration  id_calls  id_messages  mb_used  age  \\\n",
       "0    0.0     1000    5.0     159.0      22.0         22.0      3.0   52   \n",
       "1    1.0     1000    6.0     172.0      43.0         60.0     23.0   52   \n",
       "2    2.0     1000    7.0     340.0      47.0         75.0     14.0   52   \n",
       "3    3.0     1000    8.0     408.0      52.0         81.0     14.0   52   \n",
       "4    4.0     1000    9.0     466.0      58.0         57.0     15.0   52   \n",
       "\n",
       "  churn_date       city first_name  last_name   reg_date tariff  expenses  \n",
       "0        NaT  Краснодар     Рафаил  Верещагин 2018-05-25  ultra    1950.0  \n",
       "1        NaT  Краснодар     Рафаил  Верещагин 2018-05-25  ultra    1950.0  \n",
       "2        NaT  Краснодар     Рафаил  Верещагин 2018-05-25  ultra    1950.0  \n",
       "3        NaT  Краснодар     Рафаил  Верещагин 2018-05-25  ultra    1950.0  \n",
       "4        NaT  Краснодар     Рафаил  Верещагин 2018-05-25  ultra    1950.0  "
      ]
     },
     "execution_count": 43,
     "metadata": {},
     "output_type": "execute_result"
    }
   ],
   "source": [
    "def expenses_raw (raw):\n",
    "    tariff = raw['tariff']\n",
    "    calls = raw['duration']\n",
    "    message = raw['id_messages'] \n",
    "    gbyte = raw['mb_used'] \n",
    " \n",
    "    if tariff == 'ultra':\n",
    "        if calls >= tariffs.loc[1,'minutes_included']: \n",
    "            calls = (calls - tariffs.loc[1,'minutes_included']) * tariffs.loc[1,'rub_per_minute']\n",
    "        else:\n",
    "            calls = 0\n",
    " \n",
    "        if message >= tariffs.loc[1,'messages_included']:\n",
    "            message = (message-tariffs.loc[1,'messages_included']) * tariffs.loc[1,'rub_per_message']\n",
    "        else:\n",
    "            message = 0\n",
    " \n",
    "        if gbyte >= tariffs.loc[1,'gb_per_month_included']:\n",
    "                gbyte = (gbyte - tariffs.loc[1,'gb_per_month_included']) * tariffs.loc[1,'rub_per_gb']\n",
    "        else:\n",
    "            gbyte = 0\n",
    "        return 1950 + calls + message + gbyte\n",
    " \n",
    "    if tariff == 'smart':\n",
    "        if calls >= tariffs.loc[0,'minutes_included']: \n",
    "            calls = (calls - tariffs.loc[0,'minutes_included']) * tariffs.loc[0,'rub_per_minute']\n",
    "        else:\n",
    "            calls = 0\n",
    " \n",
    "        if message >= tariffs.loc[0,'messages_included']:\n",
    "            message = (message - tariffs.loc[0,'messages_included']) * tariffs.loc[0,'rub_per_message']\n",
    "        else:\n",
    "            message = 0\n",
    " \n",
    "        if gbyte >= tariffs.loc[0,'gb_per_month_included']:\n",
    "                gbyte =(gbyte - tariffs.loc[0,'gb_per_month_included']) * tariffs.loc[0,'rub_per_gb']\n",
    "        else:\n",
    "            gbyte = 0\n",
    "        return 550 + calls + message + gbyte\n",
    " \n",
    "information['expenses'] = information.apply(expenses_raw, axis =1)\n",
    "information.head()"
   ]
  },
  {
   "cell_type": "markdown",
   "metadata": {},
   "source": [
    "Теперь у нас есть таблица information, которая содержит в себе данные о звонках, сообщениях, интернет-трафиках, тарифах и стоимостях услуг по каждому клиенту в разбивке по месяцам. Теперь мы сможем проанализировать эти данные."
   ]
  },
  {
   "cell_type": "markdown",
   "metadata": {},
   "source": [
    "### Анализ и описание данных"
   ]
  },
  {
   "cell_type": "markdown",
   "metadata": {},
   "source": [
    "Предлагаю начать с того, что определить,  сколько минут разговора, сколько сообщений и какой объём интернет-трафика требуется пользователям каждого тарифа в месяц. Для начала поделим нашу таблицу на клиентов, которые пользуются тарифом \"Ультра\" - назовем этот срез information_ultra и такрифом \"Смарт\" - назовем срез information_smart. Сравним сколько клиентов в каждом из срезов."
   ]
  },
  {
   "cell_type": "code",
   "execution_count": 44,
   "metadata": {},
   "outputs": [
    {
     "data": {
      "text/html": [
       "<div>\n",
       "<style scoped>\n",
       "    .dataframe tbody tr th:only-of-type {\n",
       "        vertical-align: middle;\n",
       "    }\n",
       "\n",
       "    .dataframe tbody tr th {\n",
       "        vertical-align: top;\n",
       "    }\n",
       "\n",
       "    .dataframe thead th {\n",
       "        text-align: right;\n",
       "    }\n",
       "</style>\n",
       "<table border=\"1\" class=\"dataframe\">\n",
       "  <thead>\n",
       "    <tr style=\"text-align: right;\">\n",
       "      <th></th>\n",
       "      <th>index</th>\n",
       "      <th>user_id</th>\n",
       "      <th>month</th>\n",
       "      <th>duration</th>\n",
       "      <th>id_calls</th>\n",
       "      <th>id_messages</th>\n",
       "      <th>mb_used</th>\n",
       "      <th>age</th>\n",
       "      <th>churn_date</th>\n",
       "      <th>city</th>\n",
       "      <th>first_name</th>\n",
       "      <th>last_name</th>\n",
       "      <th>reg_date</th>\n",
       "      <th>tariff</th>\n",
       "      <th>expenses</th>\n",
       "    </tr>\n",
       "  </thead>\n",
       "  <tbody>\n",
       "    <tr>\n",
       "      <th>0</th>\n",
       "      <td>0.0</td>\n",
       "      <td>1000</td>\n",
       "      <td>5.0</td>\n",
       "      <td>159.0</td>\n",
       "      <td>22.0</td>\n",
       "      <td>22.0</td>\n",
       "      <td>3.0</td>\n",
       "      <td>52</td>\n",
       "      <td>NaT</td>\n",
       "      <td>Краснодар</td>\n",
       "      <td>Рафаил</td>\n",
       "      <td>Верещагин</td>\n",
       "      <td>2018-05-25</td>\n",
       "      <td>ultra</td>\n",
       "      <td>1950.0</td>\n",
       "    </tr>\n",
       "    <tr>\n",
       "      <th>1</th>\n",
       "      <td>1.0</td>\n",
       "      <td>1000</td>\n",
       "      <td>6.0</td>\n",
       "      <td>172.0</td>\n",
       "      <td>43.0</td>\n",
       "      <td>60.0</td>\n",
       "      <td>23.0</td>\n",
       "      <td>52</td>\n",
       "      <td>NaT</td>\n",
       "      <td>Краснодар</td>\n",
       "      <td>Рафаил</td>\n",
       "      <td>Верещагин</td>\n",
       "      <td>2018-05-25</td>\n",
       "      <td>ultra</td>\n",
       "      <td>1950.0</td>\n",
       "    </tr>\n",
       "    <tr>\n",
       "      <th>2</th>\n",
       "      <td>2.0</td>\n",
       "      <td>1000</td>\n",
       "      <td>7.0</td>\n",
       "      <td>340.0</td>\n",
       "      <td>47.0</td>\n",
       "      <td>75.0</td>\n",
       "      <td>14.0</td>\n",
       "      <td>52</td>\n",
       "      <td>NaT</td>\n",
       "      <td>Краснодар</td>\n",
       "      <td>Рафаил</td>\n",
       "      <td>Верещагин</td>\n",
       "      <td>2018-05-25</td>\n",
       "      <td>ultra</td>\n",
       "      <td>1950.0</td>\n",
       "    </tr>\n",
       "    <tr>\n",
       "      <th>3</th>\n",
       "      <td>3.0</td>\n",
       "      <td>1000</td>\n",
       "      <td>8.0</td>\n",
       "      <td>408.0</td>\n",
       "      <td>52.0</td>\n",
       "      <td>81.0</td>\n",
       "      <td>14.0</td>\n",
       "      <td>52</td>\n",
       "      <td>NaT</td>\n",
       "      <td>Краснодар</td>\n",
       "      <td>Рафаил</td>\n",
       "      <td>Верещагин</td>\n",
       "      <td>2018-05-25</td>\n",
       "      <td>ultra</td>\n",
       "      <td>1950.0</td>\n",
       "    </tr>\n",
       "    <tr>\n",
       "      <th>4</th>\n",
       "      <td>4.0</td>\n",
       "      <td>1000</td>\n",
       "      <td>9.0</td>\n",
       "      <td>466.0</td>\n",
       "      <td>58.0</td>\n",
       "      <td>57.0</td>\n",
       "      <td>15.0</td>\n",
       "      <td>52</td>\n",
       "      <td>NaT</td>\n",
       "      <td>Краснодар</td>\n",
       "      <td>Рафаил</td>\n",
       "      <td>Верещагин</td>\n",
       "      <td>2018-05-25</td>\n",
       "      <td>ultra</td>\n",
       "      <td>1950.0</td>\n",
       "    </tr>\n",
       "    <tr>\n",
       "      <th>...</th>\n",
       "      <td>...</td>\n",
       "      <td>...</td>\n",
       "      <td>...</td>\n",
       "      <td>...</td>\n",
       "      <td>...</td>\n",
       "      <td>...</td>\n",
       "      <td>...</td>\n",
       "      <td>...</td>\n",
       "      <td>...</td>\n",
       "      <td>...</td>\n",
       "      <td>...</td>\n",
       "      <td>...</td>\n",
       "      <td>...</td>\n",
       "      <td>...</td>\n",
       "      <td>...</td>\n",
       "    </tr>\n",
       "    <tr>\n",
       "      <th>3205</th>\n",
       "      <td>3204.0</td>\n",
       "      <td>1473</td>\n",
       "      <td>9.0</td>\n",
       "      <td>NaN</td>\n",
       "      <td>NaN</td>\n",
       "      <td>19.0</td>\n",
       "      <td>17.0</td>\n",
       "      <td>18</td>\n",
       "      <td>NaT</td>\n",
       "      <td>Красноярск</td>\n",
       "      <td>Николай</td>\n",
       "      <td>Лебедев</td>\n",
       "      <td>2018-08-05</td>\n",
       "      <td>ultra</td>\n",
       "      <td>1950.0</td>\n",
       "    </tr>\n",
       "    <tr>\n",
       "      <th>3206</th>\n",
       "      <td>3205.0</td>\n",
       "      <td>1473</td>\n",
       "      <td>10.0</td>\n",
       "      <td>NaN</td>\n",
       "      <td>NaN</td>\n",
       "      <td>20.0</td>\n",
       "      <td>14.0</td>\n",
       "      <td>18</td>\n",
       "      <td>NaT</td>\n",
       "      <td>Красноярск</td>\n",
       "      <td>Николай</td>\n",
       "      <td>Лебедев</td>\n",
       "      <td>2018-08-05</td>\n",
       "      <td>ultra</td>\n",
       "      <td>1950.0</td>\n",
       "    </tr>\n",
       "    <tr>\n",
       "      <th>3207</th>\n",
       "      <td>3206.0</td>\n",
       "      <td>1473</td>\n",
       "      <td>11.0</td>\n",
       "      <td>NaN</td>\n",
       "      <td>NaN</td>\n",
       "      <td>14.0</td>\n",
       "      <td>22.0</td>\n",
       "      <td>18</td>\n",
       "      <td>NaT</td>\n",
       "      <td>Красноярск</td>\n",
       "      <td>Николай</td>\n",
       "      <td>Лебедев</td>\n",
       "      <td>2018-08-05</td>\n",
       "      <td>ultra</td>\n",
       "      <td>1950.0</td>\n",
       "    </tr>\n",
       "    <tr>\n",
       "      <th>3208</th>\n",
       "      <td>3207.0</td>\n",
       "      <td>1473</td>\n",
       "      <td>12.0</td>\n",
       "      <td>NaN</td>\n",
       "      <td>NaN</td>\n",
       "      <td>20.0</td>\n",
       "      <td>18.0</td>\n",
       "      <td>18</td>\n",
       "      <td>NaT</td>\n",
       "      <td>Красноярск</td>\n",
       "      <td>Николай</td>\n",
       "      <td>Лебедев</td>\n",
       "      <td>2018-08-05</td>\n",
       "      <td>ultra</td>\n",
       "      <td>1950.0</td>\n",
       "    </tr>\n",
       "    <tr>\n",
       "      <th>3214</th>\n",
       "      <td>NaN</td>\n",
       "      <td>1128</td>\n",
       "      <td>NaN</td>\n",
       "      <td>NaN</td>\n",
       "      <td>NaN</td>\n",
       "      <td>NaN</td>\n",
       "      <td>NaN</td>\n",
       "      <td>51</td>\n",
       "      <td>2018-12-23</td>\n",
       "      <td>Волжский</td>\n",
       "      <td>Ксения</td>\n",
       "      <td>Агаева</td>\n",
       "      <td>2018-12-15</td>\n",
       "      <td>ultra</td>\n",
       "      <td>1950.0</td>\n",
       "    </tr>\n",
       "  </tbody>\n",
       "</table>\n",
       "<p>986 rows × 15 columns</p>\n",
       "</div>"
      ],
      "text/plain": [
       "       index  user_id  month  duration  id_calls  id_messages  mb_used  age  \\\n",
       "0        0.0     1000    5.0     159.0      22.0         22.0      3.0   52   \n",
       "1        1.0     1000    6.0     172.0      43.0         60.0     23.0   52   \n",
       "2        2.0     1000    7.0     340.0      47.0         75.0     14.0   52   \n",
       "3        3.0     1000    8.0     408.0      52.0         81.0     14.0   52   \n",
       "4        4.0     1000    9.0     466.0      58.0         57.0     15.0   52   \n",
       "...      ...      ...    ...       ...       ...          ...      ...  ...   \n",
       "3205  3204.0     1473    9.0       NaN       NaN         19.0     17.0   18   \n",
       "3206  3205.0     1473   10.0       NaN       NaN         20.0     14.0   18   \n",
       "3207  3206.0     1473   11.0       NaN       NaN         14.0     22.0   18   \n",
       "3208  3207.0     1473   12.0       NaN       NaN         20.0     18.0   18   \n",
       "3214     NaN     1128    NaN       NaN       NaN          NaN      NaN   51   \n",
       "\n",
       "     churn_date        city first_name  last_name   reg_date tariff  expenses  \n",
       "0           NaT   Краснодар     Рафаил  Верещагин 2018-05-25  ultra    1950.0  \n",
       "1           NaT   Краснодар     Рафаил  Верещагин 2018-05-25  ultra    1950.0  \n",
       "2           NaT   Краснодар     Рафаил  Верещагин 2018-05-25  ultra    1950.0  \n",
       "3           NaT   Краснодар     Рафаил  Верещагин 2018-05-25  ultra    1950.0  \n",
       "4           NaT   Краснодар     Рафаил  Верещагин 2018-05-25  ultra    1950.0  \n",
       "...         ...         ...        ...        ...        ...    ...       ...  \n",
       "3205        NaT  Красноярск    Николай    Лебедев 2018-08-05  ultra    1950.0  \n",
       "3206        NaT  Красноярск    Николай    Лебедев 2018-08-05  ultra    1950.0  \n",
       "3207        NaT  Красноярск    Николай    Лебедев 2018-08-05  ultra    1950.0  \n",
       "3208        NaT  Красноярск    Николай    Лебедев 2018-08-05  ultra    1950.0  \n",
       "3214 2018-12-23    Волжский     Ксения     Агаева 2018-12-15  ultra    1950.0  \n",
       "\n",
       "[986 rows x 15 columns]"
      ]
     },
     "execution_count": 44,
     "metadata": {},
     "output_type": "execute_result"
    }
   ],
   "source": [
    "information_ultra = information.query('tariff == \"ultra\"')\n",
    "information_ultra"
   ]
  },
  {
   "cell_type": "code",
   "execution_count": 45,
   "metadata": {},
   "outputs": [
    {
     "data": {
      "text/plain": [
       "149"
      ]
     },
     "execution_count": 45,
     "metadata": {},
     "output_type": "execute_result"
    }
   ],
   "source": [
    "information_ultra['user_id'].value_counts().count()"
   ]
  },
  {
   "cell_type": "code",
   "execution_count": 46,
   "metadata": {},
   "outputs": [
    {
     "data": {
      "text/html": [
       "<div>\n",
       "<style scoped>\n",
       "    .dataframe tbody tr th:only-of-type {\n",
       "        vertical-align: middle;\n",
       "    }\n",
       "\n",
       "    .dataframe tbody tr th {\n",
       "        vertical-align: top;\n",
       "    }\n",
       "\n",
       "    .dataframe thead th {\n",
       "        text-align: right;\n",
       "    }\n",
       "</style>\n",
       "<table border=\"1\" class=\"dataframe\">\n",
       "  <thead>\n",
       "    <tr style=\"text-align: right;\">\n",
       "      <th></th>\n",
       "      <th>index</th>\n",
       "      <th>user_id</th>\n",
       "      <th>month</th>\n",
       "      <th>duration</th>\n",
       "      <th>id_calls</th>\n",
       "      <th>id_messages</th>\n",
       "      <th>mb_used</th>\n",
       "      <th>age</th>\n",
       "      <th>churn_date</th>\n",
       "      <th>city</th>\n",
       "      <th>first_name</th>\n",
       "      <th>last_name</th>\n",
       "      <th>reg_date</th>\n",
       "      <th>tariff</th>\n",
       "      <th>expenses</th>\n",
       "    </tr>\n",
       "  </thead>\n",
       "  <tbody>\n",
       "    <tr>\n",
       "      <th>8</th>\n",
       "      <td>8.0</td>\n",
       "      <td>1001</td>\n",
       "      <td>11.0</td>\n",
       "      <td>430.0</td>\n",
       "      <td>59.0</td>\n",
       "      <td>NaN</td>\n",
       "      <td>18.0</td>\n",
       "      <td>41</td>\n",
       "      <td>NaT</td>\n",
       "      <td>Москва</td>\n",
       "      <td>Иван</td>\n",
       "      <td>Ежов</td>\n",
       "      <td>2018-11-01</td>\n",
       "      <td>smart</td>\n",
       "      <td>1150.0</td>\n",
       "    </tr>\n",
       "    <tr>\n",
       "      <th>9</th>\n",
       "      <td>9.0</td>\n",
       "      <td>1001</td>\n",
       "      <td>12.0</td>\n",
       "      <td>414.0</td>\n",
       "      <td>63.0</td>\n",
       "      <td>NaN</td>\n",
       "      <td>14.0</td>\n",
       "      <td>41</td>\n",
       "      <td>NaT</td>\n",
       "      <td>Москва</td>\n",
       "      <td>Иван</td>\n",
       "      <td>Ежов</td>\n",
       "      <td>2018-11-01</td>\n",
       "      <td>smart</td>\n",
       "      <td>550.0</td>\n",
       "    </tr>\n",
       "    <tr>\n",
       "      <th>10</th>\n",
       "      <td>10.0</td>\n",
       "      <td>1002</td>\n",
       "      <td>6.0</td>\n",
       "      <td>117.0</td>\n",
       "      <td>15.0</td>\n",
       "      <td>4.0</td>\n",
       "      <td>11.0</td>\n",
       "      <td>59</td>\n",
       "      <td>NaT</td>\n",
       "      <td>Стерлитамак</td>\n",
       "      <td>Евгений</td>\n",
       "      <td>Абрамович</td>\n",
       "      <td>2018-06-17</td>\n",
       "      <td>smart</td>\n",
       "      <td>550.0</td>\n",
       "    </tr>\n",
       "    <tr>\n",
       "      <th>11</th>\n",
       "      <td>11.0</td>\n",
       "      <td>1002</td>\n",
       "      <td>7.0</td>\n",
       "      <td>214.0</td>\n",
       "      <td>26.0</td>\n",
       "      <td>11.0</td>\n",
       "      <td>18.0</td>\n",
       "      <td>59</td>\n",
       "      <td>NaT</td>\n",
       "      <td>Стерлитамак</td>\n",
       "      <td>Евгений</td>\n",
       "      <td>Абрамович</td>\n",
       "      <td>2018-06-17</td>\n",
       "      <td>smart</td>\n",
       "      <td>1150.0</td>\n",
       "    </tr>\n",
       "    <tr>\n",
       "      <th>12</th>\n",
       "      <td>12.0</td>\n",
       "      <td>1002</td>\n",
       "      <td>8.0</td>\n",
       "      <td>289.0</td>\n",
       "      <td>42.0</td>\n",
       "      <td>13.0</td>\n",
       "      <td>20.0</td>\n",
       "      <td>59</td>\n",
       "      <td>NaT</td>\n",
       "      <td>Стерлитамак</td>\n",
       "      <td>Евгений</td>\n",
       "      <td>Абрамович</td>\n",
       "      <td>2018-06-17</td>\n",
       "      <td>smart</td>\n",
       "      <td>1550.0</td>\n",
       "    </tr>\n",
       "    <tr>\n",
       "      <th>...</th>\n",
       "      <td>...</td>\n",
       "      <td>...</td>\n",
       "      <td>...</td>\n",
       "      <td>...</td>\n",
       "      <td>...</td>\n",
       "      <td>...</td>\n",
       "      <td>...</td>\n",
       "      <td>...</td>\n",
       "      <td>...</td>\n",
       "      <td>...</td>\n",
       "      <td>...</td>\n",
       "      <td>...</td>\n",
       "      <td>...</td>\n",
       "      <td>...</td>\n",
       "      <td>...</td>\n",
       "    </tr>\n",
       "    <tr>\n",
       "      <th>3210</th>\n",
       "      <td>3209.0</td>\n",
       "      <td>1489</td>\n",
       "      <td>9.0</td>\n",
       "      <td>NaN</td>\n",
       "      <td>NaN</td>\n",
       "      <td>32.0</td>\n",
       "      <td>17.0</td>\n",
       "      <td>35</td>\n",
       "      <td>NaT</td>\n",
       "      <td>Санкт-Петербург</td>\n",
       "      <td>Павел</td>\n",
       "      <td>Гончаров</td>\n",
       "      <td>2018-08-15</td>\n",
       "      <td>smart</td>\n",
       "      <td>950.0</td>\n",
       "    </tr>\n",
       "    <tr>\n",
       "      <th>3211</th>\n",
       "      <td>3210.0</td>\n",
       "      <td>1489</td>\n",
       "      <td>10.0</td>\n",
       "      <td>NaN</td>\n",
       "      <td>NaN</td>\n",
       "      <td>21.0</td>\n",
       "      <td>20.0</td>\n",
       "      <td>35</td>\n",
       "      <td>NaT</td>\n",
       "      <td>Санкт-Петербург</td>\n",
       "      <td>Павел</td>\n",
       "      <td>Гончаров</td>\n",
       "      <td>2018-08-15</td>\n",
       "      <td>smart</td>\n",
       "      <td>1550.0</td>\n",
       "    </tr>\n",
       "    <tr>\n",
       "      <th>3212</th>\n",
       "      <td>3211.0</td>\n",
       "      <td>1489</td>\n",
       "      <td>11.0</td>\n",
       "      <td>NaN</td>\n",
       "      <td>NaN</td>\n",
       "      <td>20.0</td>\n",
       "      <td>18.0</td>\n",
       "      <td>35</td>\n",
       "      <td>NaT</td>\n",
       "      <td>Санкт-Петербург</td>\n",
       "      <td>Павел</td>\n",
       "      <td>Гончаров</td>\n",
       "      <td>2018-08-15</td>\n",
       "      <td>smart</td>\n",
       "      <td>1150.0</td>\n",
       "    </tr>\n",
       "    <tr>\n",
       "      <th>3213</th>\n",
       "      <td>3212.0</td>\n",
       "      <td>1489</td>\n",
       "      <td>12.0</td>\n",
       "      <td>NaN</td>\n",
       "      <td>NaN</td>\n",
       "      <td>35.0</td>\n",
       "      <td>17.0</td>\n",
       "      <td>35</td>\n",
       "      <td>NaT</td>\n",
       "      <td>Санкт-Петербург</td>\n",
       "      <td>Павел</td>\n",
       "      <td>Гончаров</td>\n",
       "      <td>2018-08-15</td>\n",
       "      <td>smart</td>\n",
       "      <td>950.0</td>\n",
       "    </tr>\n",
       "    <tr>\n",
       "      <th>3215</th>\n",
       "      <td>NaN</td>\n",
       "      <td>1371</td>\n",
       "      <td>NaN</td>\n",
       "      <td>NaN</td>\n",
       "      <td>NaN</td>\n",
       "      <td>NaN</td>\n",
       "      <td>NaN</td>\n",
       "      <td>50</td>\n",
       "      <td>2018-12-30</td>\n",
       "      <td>Омск</td>\n",
       "      <td>Ириней</td>\n",
       "      <td>Трофимов</td>\n",
       "      <td>2018-12-25</td>\n",
       "      <td>smart</td>\n",
       "      <td>550.0</td>\n",
       "    </tr>\n",
       "  </tbody>\n",
       "</table>\n",
       "<p>2230 rows × 15 columns</p>\n",
       "</div>"
      ],
      "text/plain": [
       "       index  user_id  month  duration  id_calls  id_messages  mb_used  age  \\\n",
       "8        8.0     1001   11.0     430.0      59.0          NaN     18.0   41   \n",
       "9        9.0     1001   12.0     414.0      63.0          NaN     14.0   41   \n",
       "10      10.0     1002    6.0     117.0      15.0          4.0     11.0   59   \n",
       "11      11.0     1002    7.0     214.0      26.0         11.0     18.0   59   \n",
       "12      12.0     1002    8.0     289.0      42.0         13.0     20.0   59   \n",
       "...      ...      ...    ...       ...       ...          ...      ...  ...   \n",
       "3210  3209.0     1489    9.0       NaN       NaN         32.0     17.0   35   \n",
       "3211  3210.0     1489   10.0       NaN       NaN         21.0     20.0   35   \n",
       "3212  3211.0     1489   11.0       NaN       NaN         20.0     18.0   35   \n",
       "3213  3212.0     1489   12.0       NaN       NaN         35.0     17.0   35   \n",
       "3215     NaN     1371    NaN       NaN       NaN          NaN      NaN   50   \n",
       "\n",
       "     churn_date             city first_name  last_name   reg_date tariff  \\\n",
       "8           NaT           Москва       Иван       Ежов 2018-11-01  smart   \n",
       "9           NaT           Москва       Иван       Ежов 2018-11-01  smart   \n",
       "10          NaT      Стерлитамак    Евгений  Абрамович 2018-06-17  smart   \n",
       "11          NaT      Стерлитамак    Евгений  Абрамович 2018-06-17  smart   \n",
       "12          NaT      Стерлитамак    Евгений  Абрамович 2018-06-17  smart   \n",
       "...         ...              ...        ...        ...        ...    ...   \n",
       "3210        NaT  Санкт-Петербург      Павел   Гончаров 2018-08-15  smart   \n",
       "3211        NaT  Санкт-Петербург      Павел   Гончаров 2018-08-15  smart   \n",
       "3212        NaT  Санкт-Петербург      Павел   Гончаров 2018-08-15  smart   \n",
       "3213        NaT  Санкт-Петербург      Павел   Гончаров 2018-08-15  smart   \n",
       "3215 2018-12-30             Омск     Ириней   Трофимов 2018-12-25  smart   \n",
       "\n",
       "      expenses  \n",
       "8       1150.0  \n",
       "9        550.0  \n",
       "10       550.0  \n",
       "11      1150.0  \n",
       "12      1550.0  \n",
       "...        ...  \n",
       "3210     950.0  \n",
       "3211    1550.0  \n",
       "3212    1150.0  \n",
       "3213     950.0  \n",
       "3215     550.0  \n",
       "\n",
       "[2230 rows x 15 columns]"
      ]
     },
     "execution_count": 46,
     "metadata": {},
     "output_type": "execute_result"
    }
   ],
   "source": [
    "information_smart = information.query('tariff == \"smart\"')\n",
    "information_smart"
   ]
  },
  {
   "cell_type": "code",
   "execution_count": 47,
   "metadata": {},
   "outputs": [
    {
     "data": {
      "text/plain": [
       "351"
      ]
     },
     "execution_count": 47,
     "metadata": {},
     "output_type": "execute_result"
    }
   ],
   "source": [
    "information_smart['user_id'].value_counts().count()"
   ]
  },
  {
   "cell_type": "markdown",
   "metadata": {},
   "source": [
    "351 клиент с тарифом \"Смарт\" против 149 клиентов с тарифом \"Ультра\". Логично, тариф \"Ультра\" дороже. Теперь поработаем с каждой группой клиентов отдельно."
   ]
  },
  {
   "cell_type": "markdown",
   "metadata": {},
   "source": [
    "#### Ультра"
   ]
  },
  {
   "cell_type": "markdown",
   "metadata": {},
   "source": [
    "Сколько минут разговора, сколько сообщений и какой объём интернет-трафика требуется пользователям тарифа \"Ультра\" в месяц."
   ]
  },
  {
   "cell_type": "markdown",
   "metadata": {},
   "source": [
    "##### Поговорим о минутах"
   ]
  },
  {
   "cell_type": "markdown",
   "metadata": {},
   "source": [
    "Нам надо найти среднее количество звонков в нашем тарифе, рассчитать дисперсию, стандартное отклонение, посмотреть гистограмму и на основании этих данных сделать выводы о распределениях."
   ]
  },
  {
   "cell_type": "code",
   "execution_count": 48,
   "metadata": {},
   "outputs": [
    {
     "data": {
      "text/plain": [
       "month\n",
       "1.0     428.111111\n",
       "2.0     297.125000\n",
       "3.0     489.648649\n",
       "4.0     475.301887\n",
       "5.0     534.250000\n",
       "6.0     497.469136\n",
       "7.0     564.397727\n",
       "8.0     530.611650\n",
       "9.0     558.882883\n",
       "10.0    581.728814\n",
       "11.0    562.364341\n",
       "12.0    614.925373\n",
       "Name: duration, dtype: float64"
      ]
     },
     "execution_count": 48,
     "metadata": {},
     "output_type": "execute_result"
    }
   ],
   "source": [
    "calls_ultra = information_ultra.groupby('month')['duration'].mean()\n",
    "calls_ultra"
   ]
  },
  {
   "cell_type": "code",
   "execution_count": 49,
   "metadata": {},
   "outputs": [],
   "source": [
    "#calls_ultra.mean()"
   ]
  },
  {
   "cell_type": "code",
   "execution_count": 50,
   "metadata": {},
   "outputs": [],
   "source": [
    "#varianse_calls_ultra = np.var(calls_ultra)\n",
    "#varianse_calls_ultra                                  "
   ]
  },
  {
   "cell_type": "code",
   "execution_count": 51,
   "metadata": {},
   "outputs": [
    {
     "data": {
      "text/plain": [
       "<AxesSubplot:>"
      ]
     },
     "execution_count": 51,
     "metadata": {},
     "output_type": "execute_result"
    },
    {
     "data": {
      "image/png": "[encoded data removed]",
      "text/plain": [
       "<Figure size 432x288 with 1 Axes>"
      ]
     },
     "metadata": {
      "needs_background": "light"
     },
     "output_type": "display_data"
    }
   ],
   "source": [
    "calls_ultra.hist(bins=10)"
   ]
  },
  {
   "cell_type": "markdown",
   "metadata": {},
   "source": [
    "Из графика видно, что в среднем владельцы тарифа \"Ультра\" меньше всего звонят в феврале, январе, во воторой половине года количество звонков незначительно увеличивается. "
   ]
  },
  {
   "cell_type": "code",
   "execution_count": 52,
   "metadata": {},
   "outputs": [],
   "source": [
    "#standart_deviation_calls_ultra = np.std(calls_ultra)\n",
    "#standart_deviation_calls_ultra"
   ]
  },
  {
   "cell_type": "code",
   "execution_count": 97,
   "metadata": {},
   "outputs": [
    {
     "data": {
      "text/html": [
       "<div>\n",
       "<style scoped>\n",
       "    .dataframe tbody tr th:only-of-type {\n",
       "        vertical-align: middle;\n",
       "    }\n",
       "\n",
       "    .dataframe tbody tr th {\n",
       "        vertical-align: top;\n",
       "    }\n",
       "\n",
       "    .dataframe thead tr th {\n",
       "        text-align: left;\n",
       "    }\n",
       "\n",
       "    .dataframe thead tr:last-of-type th {\n",
       "        text-align: right;\n",
       "    }\n",
       "</style>\n",
       "<table border=\"1\" class=\"dataframe\">\n",
       "  <thead>\n",
       "    <tr>\n",
       "      <th></th>\n",
       "      <th>mean</th>\n",
       "      <th>var</th>\n",
       "      <th>std</th>\n",
       "    </tr>\n",
       "    <tr>\n",
       "      <th></th>\n",
       "      <th>duration</th>\n",
       "      <th>duration</th>\n",
       "      <th>duration</th>\n",
       "    </tr>\n",
       "    <tr>\n",
       "      <th>tariff</th>\n",
       "      <th></th>\n",
       "      <th></th>\n",
       "      <th></th>\n",
       "    </tr>\n",
       "  </thead>\n",
       "  <tbody>\n",
       "    <tr>\n",
       "      <th>ultra</th>\n",
       "      <td>545.451104</td>\n",
       "      <td>94203.418396</td>\n",
       "      <td>306.925754</td>\n",
       "    </tr>\n",
       "  </tbody>\n",
       "</table>\n",
       "</div>"
      ],
      "text/plain": [
       "              mean           var         std\n",
       "          duration      duration    duration\n",
       "tariff                                      \n",
       "ultra   545.451104  94203.418396  306.925754"
      ]
     },
     "execution_count": 97,
     "metadata": {},
     "output_type": "execute_result"
    }
   ],
   "source": [
    "information_ultra.pivot_table(index= 'tariff', values= 'duration', aggfunc= ['mean', 'var','std'])"
   ]
  },
  {
   "cell_type": "markdown",
   "metadata": {},
   "source": [
    "Так же можно сделать вывод о том, что клиенты в этом тарифе никогда не выходят за пределы месячных лимитов по длительности звонков: в среднем они разговаривают 545 минут в месяц со стандартным отклонением в 306 минут, т.е. 3000 минут им не нужно. Возможно стоит пересмотреть тариф, чтобы клиент не подумал, что его хотят заставить платить за то, что он точно не использует, и не ушел к другому оператору."
   ]
  },
  {
   "cell_type": "markdown",
   "metadata": {},
   "source": [
    "##### Поговорим о сообщениях"
   ]
  },
  {
   "cell_type": "markdown",
   "metadata": {},
   "source": [
    "Посмотрим, как клиенты тарифа \"Ультра\" пользуются сообщениями:"
   ]
  },
  {
   "cell_type": "code",
   "execution_count": 54,
   "metadata": {},
   "outputs": [
    {
     "data": {
      "text/plain": [
       "191"
      ]
     },
     "execution_count": 54,
     "metadata": {},
     "output_type": "execute_result"
    }
   ],
   "source": [
    "information_ultra['id_messages'].isna().sum()"
   ]
  },
  {
   "cell_type": "markdown",
   "metadata": {},
   "source": [
    "191 клиент с пропусками в столбце сообщения, я уверена, что связано это с тем, что клиенты просто их не отправляют. Предлагаю их исключить из рассчета, чтобы без искажения посмотреть, как ведут себя оставшиеся 160. эти нули сильно искажают поведение остальных клиентов, так что из выборки их уберем."
   ]
  },
  {
   "cell_type": "code",
   "execution_count": 55,
   "metadata": {},
   "outputs": [
    {
     "data": {
      "text/html": [
       "<div>\n",
       "<style scoped>\n",
       "    .dataframe tbody tr th:only-of-type {\n",
       "        vertical-align: middle;\n",
       "    }\n",
       "\n",
       "    .dataframe tbody tr th {\n",
       "        vertical-align: top;\n",
       "    }\n",
       "\n",
       "    .dataframe thead th {\n",
       "        text-align: right;\n",
       "    }\n",
       "</style>\n",
       "<table border=\"1\" class=\"dataframe\">\n",
       "  <thead>\n",
       "    <tr style=\"text-align: right;\">\n",
       "      <th></th>\n",
       "      <th>index</th>\n",
       "      <th>user_id</th>\n",
       "      <th>month</th>\n",
       "      <th>duration</th>\n",
       "      <th>id_calls</th>\n",
       "      <th>id_messages</th>\n",
       "      <th>mb_used</th>\n",
       "      <th>age</th>\n",
       "      <th>churn_date</th>\n",
       "      <th>city</th>\n",
       "      <th>first_name</th>\n",
       "      <th>last_name</th>\n",
       "      <th>reg_date</th>\n",
       "      <th>tariff</th>\n",
       "      <th>expenses</th>\n",
       "    </tr>\n",
       "  </thead>\n",
       "  <tbody>\n",
       "    <tr>\n",
       "      <th>0</th>\n",
       "      <td>0.0</td>\n",
       "      <td>1000</td>\n",
       "      <td>5.0</td>\n",
       "      <td>159.0</td>\n",
       "      <td>22.0</td>\n",
       "      <td>22.0</td>\n",
       "      <td>3.0</td>\n",
       "      <td>52</td>\n",
       "      <td>NaT</td>\n",
       "      <td>Краснодар</td>\n",
       "      <td>Рафаил</td>\n",
       "      <td>Верещагин</td>\n",
       "      <td>2018-05-25</td>\n",
       "      <td>ultra</td>\n",
       "      <td>1950.0</td>\n",
       "    </tr>\n",
       "    <tr>\n",
       "      <th>1</th>\n",
       "      <td>1.0</td>\n",
       "      <td>1000</td>\n",
       "      <td>6.0</td>\n",
       "      <td>172.0</td>\n",
       "      <td>43.0</td>\n",
       "      <td>60.0</td>\n",
       "      <td>23.0</td>\n",
       "      <td>52</td>\n",
       "      <td>NaT</td>\n",
       "      <td>Краснодар</td>\n",
       "      <td>Рафаил</td>\n",
       "      <td>Верещагин</td>\n",
       "      <td>2018-05-25</td>\n",
       "      <td>ultra</td>\n",
       "      <td>1950.0</td>\n",
       "    </tr>\n",
       "    <tr>\n",
       "      <th>2</th>\n",
       "      <td>2.0</td>\n",
       "      <td>1000</td>\n",
       "      <td>7.0</td>\n",
       "      <td>340.0</td>\n",
       "      <td>47.0</td>\n",
       "      <td>75.0</td>\n",
       "      <td>14.0</td>\n",
       "      <td>52</td>\n",
       "      <td>NaT</td>\n",
       "      <td>Краснодар</td>\n",
       "      <td>Рафаил</td>\n",
       "      <td>Верещагин</td>\n",
       "      <td>2018-05-25</td>\n",
       "      <td>ultra</td>\n",
       "      <td>1950.0</td>\n",
       "    </tr>\n",
       "    <tr>\n",
       "      <th>3</th>\n",
       "      <td>3.0</td>\n",
       "      <td>1000</td>\n",
       "      <td>8.0</td>\n",
       "      <td>408.0</td>\n",
       "      <td>52.0</td>\n",
       "      <td>81.0</td>\n",
       "      <td>14.0</td>\n",
       "      <td>52</td>\n",
       "      <td>NaT</td>\n",
       "      <td>Краснодар</td>\n",
       "      <td>Рафаил</td>\n",
       "      <td>Верещагин</td>\n",
       "      <td>2018-05-25</td>\n",
       "      <td>ultra</td>\n",
       "      <td>1950.0</td>\n",
       "    </tr>\n",
       "    <tr>\n",
       "      <th>4</th>\n",
       "      <td>4.0</td>\n",
       "      <td>1000</td>\n",
       "      <td>9.0</td>\n",
       "      <td>466.0</td>\n",
       "      <td>58.0</td>\n",
       "      <td>57.0</td>\n",
       "      <td>15.0</td>\n",
       "      <td>52</td>\n",
       "      <td>NaT</td>\n",
       "      <td>Краснодар</td>\n",
       "      <td>Рафаил</td>\n",
       "      <td>Верещагин</td>\n",
       "      <td>2018-05-25</td>\n",
       "      <td>ultra</td>\n",
       "      <td>1950.0</td>\n",
       "    </tr>\n",
       "  </tbody>\n",
       "</table>\n",
       "</div>"
      ],
      "text/plain": [
       "   index  user_id  month  duration  id_calls  id_messages  mb_used  age  \\\n",
       "0    0.0     1000    5.0     159.0      22.0         22.0      3.0   52   \n",
       "1    1.0     1000    6.0     172.0      43.0         60.0     23.0   52   \n",
       "2    2.0     1000    7.0     340.0      47.0         75.0     14.0   52   \n",
       "3    3.0     1000    8.0     408.0      52.0         81.0     14.0   52   \n",
       "4    4.0     1000    9.0     466.0      58.0         57.0     15.0   52   \n",
       "\n",
       "  churn_date       city first_name  last_name   reg_date tariff  expenses  \n",
       "0        NaT  Краснодар     Рафаил  Верещагин 2018-05-25  ultra    1950.0  \n",
       "1        NaT  Краснодар     Рафаил  Верещагин 2018-05-25  ultra    1950.0  \n",
       "2        NaT  Краснодар     Рафаил  Верещагин 2018-05-25  ultra    1950.0  \n",
       "3        NaT  Краснодар     Рафаил  Верещагин 2018-05-25  ultra    1950.0  \n",
       "4        NaT  Краснодар     Рафаил  Верещагин 2018-05-25  ultra    1950.0  "
      ]
     },
     "execution_count": 55,
     "metadata": {},
     "output_type": "execute_result"
    }
   ],
   "source": [
    "information_ultra_use = information_ultra.dropna(subset = ['id_messages'])\n",
    "information_ultra_use.head()"
   ]
  },
  {
   "cell_type": "markdown",
   "metadata": {},
   "source": [
    "Теперь посмотрим, как вели себя те, кто всё же отправляет смс."
   ]
  },
  {
   "cell_type": "code",
   "execution_count": 56,
   "metadata": {},
   "outputs": [],
   "source": [
    "messages_ultra_use = information_ultra_use.groupby('month')['id_messages'].mean()"
   ]
  },
  {
   "cell_type": "code",
   "execution_count": 57,
   "metadata": {},
   "outputs": [],
   "source": [
    "#messages_ultra_use.mean()"
   ]
  },
  {
   "cell_type": "code",
   "execution_count": 58,
   "metadata": {},
   "outputs": [],
   "source": [
    "#varianse_messages_ultra = np.var(messages_ultra_use)\n",
    "#varianse_messages_ultra "
   ]
  },
  {
   "cell_type": "code",
   "execution_count": 59,
   "metadata": {},
   "outputs": [
    {
     "data": {
      "text/plain": [
       "<AxesSubplot:>"
      ]
     },
     "execution_count": 59,
     "metadata": {},
     "output_type": "execute_result"
    },
    {
     "data": {
      "image/png": "[encoded data removed]",
      "text/plain": [
       "<Figure size 432x288 with 1 Axes>"
      ]
     },
     "metadata": {
      "needs_background": "light"
     },
     "output_type": "display_data"
    }
   ],
   "source": [
    "messages_ultra_use.hist(bins=10)"
   ]
  },
  {
   "cell_type": "code",
   "execution_count": 60,
   "metadata": {},
   "outputs": [],
   "source": [
    "#standart_deviation_messages_ultra = np.std(messages_ultra_use)\n",
    "#standart_deviation_messages_ultra"
   ]
  },
  {
   "cell_type": "code",
   "execution_count": 99,
   "metadata": {},
   "outputs": [
    {
     "data": {
      "text/html": [
       "<div>\n",
       "<style scoped>\n",
       "    .dataframe tbody tr th:only-of-type {\n",
       "        vertical-align: middle;\n",
       "    }\n",
       "\n",
       "    .dataframe tbody tr th {\n",
       "        vertical-align: top;\n",
       "    }\n",
       "\n",
       "    .dataframe thead tr th {\n",
       "        text-align: left;\n",
       "    }\n",
       "\n",
       "    .dataframe thead tr:last-of-type th {\n",
       "        text-align: right;\n",
       "    }\n",
       "</style>\n",
       "<table border=\"1\" class=\"dataframe\">\n",
       "  <thead>\n",
       "    <tr>\n",
       "      <th></th>\n",
       "      <th>mean</th>\n",
       "      <th>var</th>\n",
       "      <th>std</th>\n",
       "    </tr>\n",
       "    <tr>\n",
       "      <th></th>\n",
       "      <th>id_messages</th>\n",
       "      <th>id_messages</th>\n",
       "      <th>id_messages</th>\n",
       "    </tr>\n",
       "    <tr>\n",
       "      <th>tariff</th>\n",
       "      <th></th>\n",
       "      <th></th>\n",
       "      <th></th>\n",
       "    </tr>\n",
       "  </thead>\n",
       "  <tbody>\n",
       "    <tr>\n",
       "      <th>ultra</th>\n",
       "      <td>61.161006</td>\n",
       "      <td>2109.659183</td>\n",
       "      <td>45.931026</td>\n",
       "    </tr>\n",
       "  </tbody>\n",
       "</table>\n",
       "</div>"
      ],
      "text/plain": [
       "              mean          var         std\n",
       "       id_messages  id_messages id_messages\n",
       "tariff                                     \n",
       "ultra    61.161006  2109.659183   45.931026"
      ]
     },
     "execution_count": 99,
     "metadata": {},
     "output_type": "execute_result"
    }
   ],
   "source": [
    "information_ultra_use.pivot_table(index= 'tariff', values= 'id_messages', aggfunc= ['mean', 'var','std'])"
   ]
  },
  {
   "cell_type": "markdown",
   "metadata": {},
   "source": [
    "Получается, что клиенты тарифа \"Ультра\" смс пользуются, за пределы лимитов тарифа не выходят - отправляют 61 сообщение в месяц со стандартным отклонением в 45 сообщений. Но очень много абонентов вообще сообщения не отправляют. 1000 сообщений в месяц им точно не нужно. Считаю, что нужно пересмотреть тариф, иначе у клиентов сложится впечатление, что они платят за услугу, которой точно не пользуются, и оператор их потеряет."
   ]
  },
  {
   "cell_type": "markdown",
   "metadata": {},
   "source": [
    "##### Поговорим об интернет-трафике"
   ]
  },
  {
   "cell_type": "markdown",
   "metadata": {},
   "source": [
    "Посмотрим, как обстоят дела с интернет-трафиком в тарифе \"Смарт\". Мы помним, что в лимит тарифа входит 15 ГБ в месяц. Остальное нужно оплачивать дополнительно."
   ]
  },
  {
   "cell_type": "code",
   "execution_count": 62,
   "metadata": {},
   "outputs": [
    {
     "data": {
      "text/plain": [
       "month\n",
       "1.0     13.222222\n",
       "2.0     13.090909\n",
       "3.0     17.648649\n",
       "4.0     16.963636\n",
       "5.0     19.666667\n",
       "6.0     19.168675\n",
       "7.0     20.733333\n",
       "8.0     19.783019\n",
       "9.0     19.412281\n",
       "10.0    20.229508\n",
       "11.0    19.954887\n",
       "12.0    21.898551\n",
       "Name: mb_used, dtype: float64"
      ]
     },
     "execution_count": 62,
     "metadata": {},
     "output_type": "execute_result"
    }
   ],
   "source": [
    "internet_ultra = information_ultra.groupby('month')['mb_used'].mean()\n",
    "internet_ultra"
   ]
  },
  {
   "cell_type": "code",
   "execution_count": 63,
   "metadata": {},
   "outputs": [],
   "source": [
    "#internet_ultra.mean()"
   ]
  },
  {
   "cell_type": "code",
   "execution_count": 64,
   "metadata": {},
   "outputs": [],
   "source": [
    "#varianse_internet_ultra = np.var(internet_ultra)\n",
    "#varianse_internet_ultra  "
   ]
  },
  {
   "cell_type": "code",
   "execution_count": 65,
   "metadata": {},
   "outputs": [
    {
     "data": {
      "text/plain": [
       "<AxesSubplot:>"
      ]
     },
     "execution_count": 65,
     "metadata": {},
     "output_type": "execute_result"
    },
    {
     "data": {
      "image/png": "[encoded data removed]",
      "text/plain": [
       "<Figure size 432x288 with 1 Axes>"
      ]
     },
     "metadata": {
      "needs_background": "light"
     },
     "output_type": "display_data"
    }
   ],
   "source": [
    "internet_ultra.hist(bins=10)"
   ]
  },
  {
   "cell_type": "code",
   "execution_count": 66,
   "metadata": {},
   "outputs": [],
   "source": [
    "#standart_deviation_internet_ultra = np.std(internet_ultra)\n",
    "#standart_deviation_internet_ultra"
   ]
  },
  {
   "cell_type": "code",
   "execution_count": 101,
   "metadata": {},
   "outputs": [
    {
     "data": {
      "text/html": [
       "<div>\n",
       "<style scoped>\n",
       "    .dataframe tbody tr th:only-of-type {\n",
       "        vertical-align: middle;\n",
       "    }\n",
       "\n",
       "    .dataframe tbody tr th {\n",
       "        vertical-align: top;\n",
       "    }\n",
       "\n",
       "    .dataframe thead tr th {\n",
       "        text-align: left;\n",
       "    }\n",
       "\n",
       "    .dataframe thead tr:last-of-type th {\n",
       "        text-align: right;\n",
       "    }\n",
       "</style>\n",
       "<table border=\"1\" class=\"dataframe\">\n",
       "  <thead>\n",
       "    <tr>\n",
       "      <th></th>\n",
       "      <th>mean</th>\n",
       "      <th>var</th>\n",
       "      <th>std</th>\n",
       "    </tr>\n",
       "    <tr>\n",
       "      <th></th>\n",
       "      <th>mb_used</th>\n",
       "      <th>mb_used</th>\n",
       "      <th>mb_used</th>\n",
       "    </tr>\n",
       "    <tr>\n",
       "      <th>tariff</th>\n",
       "      <th></th>\n",
       "      <th></th>\n",
       "      <th></th>\n",
       "    </tr>\n",
       "  </thead>\n",
       "  <tbody>\n",
       "    <tr>\n",
       "      <th>ultra</th>\n",
       "      <td>19.694359</td>\n",
       "      <td>94.146734</td>\n",
       "      <td>9.702924</td>\n",
       "    </tr>\n",
       "  </tbody>\n",
       "</table>\n",
       "</div>"
      ],
      "text/plain": [
       "             mean        var       std\n",
       "          mb_used    mb_used   mb_used\n",
       "tariff                                \n",
       "ultra   19.694359  94.146734  9.702924"
      ]
     },
     "execution_count": 101,
     "metadata": {},
     "output_type": "execute_result"
    }
   ],
   "source": [
    "information_ultra.pivot_table(index= 'tariff', values= 'mb_used', aggfunc= ['mean', 'var','std'])"
   ]
  },
  {
   "cell_type": "markdown",
   "metadata": {},
   "source": [
    "Получается, что абоненты не укладываются в лимиты тарифа - в среднем они используют 10 ГБ с очень маленьким стандартным отклонением."
   ]
  },
  {
   "cell_type": "markdown",
   "metadata": {},
   "source": [
    "#### Смарт"
   ]
  },
  {
   "cell_type": "markdown",
   "metadata": {},
   "source": [
    "Сколько минут разговора, сколько сообщений и какой объём интернет-трафика требуется пользователям тарифа \"Смарт\" в месяц."
   ]
  },
  {
   "cell_type": "markdown",
   "metadata": {},
   "source": [
    "##### Поговорим о минутах"
   ]
  },
  {
   "cell_type": "markdown",
   "metadata": {},
   "source": [
    "Посмотрим, как клиенты тарифа \"Смарт\" пользуются звонками."
   ]
  },
  {
   "cell_type": "code",
   "execution_count": 68,
   "metadata": {},
   "outputs": [
    {
     "data": {
      "text/plain": [
       "month\n",
       "1.0     203.852941\n",
       "2.0     298.689655\n",
       "3.0     390.051948\n",
       "4.0     367.133929\n",
       "5.0     387.361702\n",
       "6.0     398.067485\n",
       "7.0     408.353234\n",
       "8.0     423.269231\n",
       "9.0     430.266409\n",
       "10.0    427.590444\n",
       "11.0    436.647619\n",
       "12.0    479.985119\n",
       "Name: duration, dtype: float64"
      ]
     },
     "execution_count": 68,
     "metadata": {},
     "output_type": "execute_result"
    }
   ],
   "source": [
    "calls_smart = information_smart.groupby('month')['duration'].mean()\n",
    "calls_smart"
   ]
  },
  {
   "cell_type": "code",
   "execution_count": 69,
   "metadata": {},
   "outputs": [],
   "source": [
    "#calls_smart.mean()"
   ]
  },
  {
   "cell_type": "code",
   "execution_count": 70,
   "metadata": {},
   "outputs": [],
   "source": [
    "#varianse_calls_smart = np.var(calls_smart)\n",
    "#varianse_calls_smart  "
   ]
  },
  {
   "cell_type": "code",
   "execution_count": 71,
   "metadata": {},
   "outputs": [
    {
     "data": {
      "text/plain": [
       "<AxesSubplot:>"
      ]
     },
     "execution_count": 71,
     "metadata": {},
     "output_type": "execute_result"
    },
    {
     "data": {
      "image/png": "[encoded data removed]",
      "text/plain": [
       "<Figure size 432x288 with 1 Axes>"
      ]
     },
     "metadata": {
      "needs_background": "light"
     },
     "output_type": "display_data"
    }
   ],
   "source": [
    "calls_smart.hist(bins=10)"
   ]
  },
  {
   "cell_type": "code",
   "execution_count": 72,
   "metadata": {},
   "outputs": [],
   "source": [
    "#standart_deviation_calls_smart = np.std(calls_smart)\n",
    "#standart_deviation_calls_smart"
   ]
  },
  {
   "cell_type": "code",
   "execution_count": 73,
   "metadata": {},
   "outputs": [
    {
     "data": {
      "text/html": [
       "<div>\n",
       "<style scoped>\n",
       "    .dataframe tbody tr th:only-of-type {\n",
       "        vertical-align: middle;\n",
       "    }\n",
       "\n",
       "    .dataframe tbody tr th {\n",
       "        vertical-align: top;\n",
       "    }\n",
       "\n",
       "    .dataframe thead tr th {\n",
       "        text-align: left;\n",
       "    }\n",
       "\n",
       "    .dataframe thead tr:last-of-type th {\n",
       "        text-align: right;\n",
       "    }\n",
       "</style>\n",
       "<table border=\"1\" class=\"dataframe\">\n",
       "  <thead>\n",
       "    <tr>\n",
       "      <th></th>\n",
       "      <th>mean</th>\n",
       "      <th>var</th>\n",
       "      <th>std</th>\n",
       "    </tr>\n",
       "    <tr>\n",
       "      <th></th>\n",
       "      <th>duration</th>\n",
       "      <th>duration</th>\n",
       "      <th>duration</th>\n",
       "    </tr>\n",
       "    <tr>\n",
       "      <th>tariff</th>\n",
       "      <th></th>\n",
       "      <th></th>\n",
       "      <th></th>\n",
       "    </tr>\n",
       "  </thead>\n",
       "  <tbody>\n",
       "    <tr>\n",
       "      <th>smart</th>\n",
       "      <td>419.062978</td>\n",
       "      <td>35844.189551</td>\n",
       "      <td>189.325618</td>\n",
       "    </tr>\n",
       "  </tbody>\n",
       "</table>\n",
       "</div>"
      ],
      "text/plain": [
       "              mean           var         std\n",
       "          duration      duration    duration\n",
       "tariff                                      \n",
       "smart   419.062978  35844.189551  189.325618"
      ]
     },
     "execution_count": 73,
     "metadata": {},
     "output_type": "execute_result"
    }
   ],
   "source": [
    "information_smart.pivot_table(index= 'tariff', values= 'duration', aggfunc= ['mean', 'var','std'])"
   ]
  },
  {
   "cell_type": "markdown",
   "metadata": {},
   "source": [
    "Можно сделать вывод о том, что они, как и клиенты \"Ультра\" меньше всего разговаривают в январе и феврале. Однако иногда выходят за пределы месячного лимита - в среднем 419 минут со стандартным отклонением в 189 минут."
   ]
  },
  {
   "cell_type": "markdown",
   "metadata": {},
   "source": [
    "##### Поговорим о сообщениях"
   ]
  },
  {
   "cell_type": "markdown",
   "metadata": {},
   "source": [
    "Для начала проверим, все ли клиенты вообще ползуются этой услугой - сама, как пользователь, могу сказать, что смс не пишу совсем."
   ]
  },
  {
   "cell_type": "code",
   "execution_count": 74,
   "metadata": {},
   "outputs": [
    {
     "data": {
      "text/plain": [
       "308"
      ]
     },
     "execution_count": 74,
     "metadata": {},
     "output_type": "execute_result"
    }
   ],
   "source": [
    "information_smart['id_messages'].isna().sum()"
   ]
  },
  {
   "cell_type": "markdown",
   "metadata": {},
   "source": [
    "Так и есть - пропусков много, избавимся от них, чтобы не искажать данные по тем, кто пользуется."
   ]
  },
  {
   "cell_type": "code",
   "execution_count": 75,
   "metadata": {},
   "outputs": [
    {
     "data": {
      "text/html": [
       "<div>\n",
       "<style scoped>\n",
       "    .dataframe tbody tr th:only-of-type {\n",
       "        vertical-align: middle;\n",
       "    }\n",
       "\n",
       "    .dataframe tbody tr th {\n",
       "        vertical-align: top;\n",
       "    }\n",
       "\n",
       "    .dataframe thead th {\n",
       "        text-align: right;\n",
       "    }\n",
       "</style>\n",
       "<table border=\"1\" class=\"dataframe\">\n",
       "  <thead>\n",
       "    <tr style=\"text-align: right;\">\n",
       "      <th></th>\n",
       "      <th>index</th>\n",
       "      <th>user_id</th>\n",
       "      <th>month</th>\n",
       "      <th>duration</th>\n",
       "      <th>id_calls</th>\n",
       "      <th>id_messages</th>\n",
       "      <th>mb_used</th>\n",
       "      <th>age</th>\n",
       "      <th>churn_date</th>\n",
       "      <th>city</th>\n",
       "      <th>first_name</th>\n",
       "      <th>last_name</th>\n",
       "      <th>reg_date</th>\n",
       "      <th>tariff</th>\n",
       "      <th>expenses</th>\n",
       "    </tr>\n",
       "  </thead>\n",
       "  <tbody>\n",
       "    <tr>\n",
       "      <th>10</th>\n",
       "      <td>10.0</td>\n",
       "      <td>1002</td>\n",
       "      <td>6.0</td>\n",
       "      <td>117.0</td>\n",
       "      <td>15.0</td>\n",
       "      <td>4.0</td>\n",
       "      <td>11.0</td>\n",
       "      <td>59</td>\n",
       "      <td>NaT</td>\n",
       "      <td>Стерлитамак</td>\n",
       "      <td>Евгений</td>\n",
       "      <td>Абрамович</td>\n",
       "      <td>2018-06-17</td>\n",
       "      <td>smart</td>\n",
       "      <td>550.0</td>\n",
       "    </tr>\n",
       "    <tr>\n",
       "      <th>11</th>\n",
       "      <td>11.0</td>\n",
       "      <td>1002</td>\n",
       "      <td>7.0</td>\n",
       "      <td>214.0</td>\n",
       "      <td>26.0</td>\n",
       "      <td>11.0</td>\n",
       "      <td>18.0</td>\n",
       "      <td>59</td>\n",
       "      <td>NaT</td>\n",
       "      <td>Стерлитамак</td>\n",
       "      <td>Евгений</td>\n",
       "      <td>Абрамович</td>\n",
       "      <td>2018-06-17</td>\n",
       "      <td>smart</td>\n",
       "      <td>1150.0</td>\n",
       "    </tr>\n",
       "    <tr>\n",
       "      <th>12</th>\n",
       "      <td>12.0</td>\n",
       "      <td>1002</td>\n",
       "      <td>8.0</td>\n",
       "      <td>289.0</td>\n",
       "      <td>42.0</td>\n",
       "      <td>13.0</td>\n",
       "      <td>20.0</td>\n",
       "      <td>59</td>\n",
       "      <td>NaT</td>\n",
       "      <td>Стерлитамак</td>\n",
       "      <td>Евгений</td>\n",
       "      <td>Абрамович</td>\n",
       "      <td>2018-06-17</td>\n",
       "      <td>smart</td>\n",
       "      <td>1550.0</td>\n",
       "    </tr>\n",
       "    <tr>\n",
       "      <th>13</th>\n",
       "      <td>13.0</td>\n",
       "      <td>1002</td>\n",
       "      <td>9.0</td>\n",
       "      <td>206.0</td>\n",
       "      <td>36.0</td>\n",
       "      <td>4.0</td>\n",
       "      <td>17.0</td>\n",
       "      <td>59</td>\n",
       "      <td>NaT</td>\n",
       "      <td>Стерлитамак</td>\n",
       "      <td>Евгений</td>\n",
       "      <td>Абрамович</td>\n",
       "      <td>2018-06-17</td>\n",
       "      <td>smart</td>\n",
       "      <td>950.0</td>\n",
       "    </tr>\n",
       "    <tr>\n",
       "      <th>14</th>\n",
       "      <td>14.0</td>\n",
       "      <td>1002</td>\n",
       "      <td>10.0</td>\n",
       "      <td>212.0</td>\n",
       "      <td>33.0</td>\n",
       "      <td>10.0</td>\n",
       "      <td>14.0</td>\n",
       "      <td>59</td>\n",
       "      <td>NaT</td>\n",
       "      <td>Стерлитамак</td>\n",
       "      <td>Евгений</td>\n",
       "      <td>Абрамович</td>\n",
       "      <td>2018-06-17</td>\n",
       "      <td>smart</td>\n",
       "      <td>550.0</td>\n",
       "    </tr>\n",
       "    <tr>\n",
       "      <th>...</th>\n",
       "      <td>...</td>\n",
       "      <td>...</td>\n",
       "      <td>...</td>\n",
       "      <td>...</td>\n",
       "      <td>...</td>\n",
       "      <td>...</td>\n",
       "      <td>...</td>\n",
       "      <td>...</td>\n",
       "      <td>...</td>\n",
       "      <td>...</td>\n",
       "      <td>...</td>\n",
       "      <td>...</td>\n",
       "      <td>...</td>\n",
       "      <td>...</td>\n",
       "      <td>...</td>\n",
       "    </tr>\n",
       "    <tr>\n",
       "      <th>3209</th>\n",
       "      <td>3208.0</td>\n",
       "      <td>1489</td>\n",
       "      <td>8.0</td>\n",
       "      <td>NaN</td>\n",
       "      <td>NaN</td>\n",
       "      <td>17.0</td>\n",
       "      <td>11.0</td>\n",
       "      <td>35</td>\n",
       "      <td>NaT</td>\n",
       "      <td>Санкт-Петербург</td>\n",
       "      <td>Павел</td>\n",
       "      <td>Гончаров</td>\n",
       "      <td>2018-08-15</td>\n",
       "      <td>smart</td>\n",
       "      <td>550.0</td>\n",
       "    </tr>\n",
       "    <tr>\n",
       "      <th>3210</th>\n",
       "      <td>3209.0</td>\n",
       "      <td>1489</td>\n",
       "      <td>9.0</td>\n",
       "      <td>NaN</td>\n",
       "      <td>NaN</td>\n",
       "      <td>32.0</td>\n",
       "      <td>17.0</td>\n",
       "      <td>35</td>\n",
       "      <td>NaT</td>\n",
       "      <td>Санкт-Петербург</td>\n",
       "      <td>Павел</td>\n",
       "      <td>Гончаров</td>\n",
       "      <td>2018-08-15</td>\n",
       "      <td>smart</td>\n",
       "      <td>950.0</td>\n",
       "    </tr>\n",
       "    <tr>\n",
       "      <th>3211</th>\n",
       "      <td>3210.0</td>\n",
       "      <td>1489</td>\n",
       "      <td>10.0</td>\n",
       "      <td>NaN</td>\n",
       "      <td>NaN</td>\n",
       "      <td>21.0</td>\n",
       "      <td>20.0</td>\n",
       "      <td>35</td>\n",
       "      <td>NaT</td>\n",
       "      <td>Санкт-Петербург</td>\n",
       "      <td>Павел</td>\n",
       "      <td>Гончаров</td>\n",
       "      <td>2018-08-15</td>\n",
       "      <td>smart</td>\n",
       "      <td>1550.0</td>\n",
       "    </tr>\n",
       "    <tr>\n",
       "      <th>3212</th>\n",
       "      <td>3211.0</td>\n",
       "      <td>1489</td>\n",
       "      <td>11.0</td>\n",
       "      <td>NaN</td>\n",
       "      <td>NaN</td>\n",
       "      <td>20.0</td>\n",
       "      <td>18.0</td>\n",
       "      <td>35</td>\n",
       "      <td>NaT</td>\n",
       "      <td>Санкт-Петербург</td>\n",
       "      <td>Павел</td>\n",
       "      <td>Гончаров</td>\n",
       "      <td>2018-08-15</td>\n",
       "      <td>smart</td>\n",
       "      <td>1150.0</td>\n",
       "    </tr>\n",
       "    <tr>\n",
       "      <th>3213</th>\n",
       "      <td>3212.0</td>\n",
       "      <td>1489</td>\n",
       "      <td>12.0</td>\n",
       "      <td>NaN</td>\n",
       "      <td>NaN</td>\n",
       "      <td>35.0</td>\n",
       "      <td>17.0</td>\n",
       "      <td>35</td>\n",
       "      <td>NaT</td>\n",
       "      <td>Санкт-Петербург</td>\n",
       "      <td>Павел</td>\n",
       "      <td>Гончаров</td>\n",
       "      <td>2018-08-15</td>\n",
       "      <td>smart</td>\n",
       "      <td>950.0</td>\n",
       "    </tr>\n",
       "  </tbody>\n",
       "</table>\n",
       "<p>1922 rows × 15 columns</p>\n",
       "</div>"
      ],
      "text/plain": [
       "       index  user_id  month  duration  id_calls  id_messages  mb_used  age  \\\n",
       "10      10.0     1002    6.0     117.0      15.0          4.0     11.0   59   \n",
       "11      11.0     1002    7.0     214.0      26.0         11.0     18.0   59   \n",
       "12      12.0     1002    8.0     289.0      42.0         13.0     20.0   59   \n",
       "13      13.0     1002    9.0     206.0      36.0          4.0     17.0   59   \n",
       "14      14.0     1002   10.0     212.0      33.0         10.0     14.0   59   \n",
       "...      ...      ...    ...       ...       ...          ...      ...  ...   \n",
       "3209  3208.0     1489    8.0       NaN       NaN         17.0     11.0   35   \n",
       "3210  3209.0     1489    9.0       NaN       NaN         32.0     17.0   35   \n",
       "3211  3210.0     1489   10.0       NaN       NaN         21.0     20.0   35   \n",
       "3212  3211.0     1489   11.0       NaN       NaN         20.0     18.0   35   \n",
       "3213  3212.0     1489   12.0       NaN       NaN         35.0     17.0   35   \n",
       "\n",
       "     churn_date             city first_name  last_name   reg_date tariff  \\\n",
       "10          NaT      Стерлитамак    Евгений  Абрамович 2018-06-17  smart   \n",
       "11          NaT      Стерлитамак    Евгений  Абрамович 2018-06-17  smart   \n",
       "12          NaT      Стерлитамак    Евгений  Абрамович 2018-06-17  smart   \n",
       "13          NaT      Стерлитамак    Евгений  Абрамович 2018-06-17  smart   \n",
       "14          NaT      Стерлитамак    Евгений  Абрамович 2018-06-17  smart   \n",
       "...         ...              ...        ...        ...        ...    ...   \n",
       "3209        NaT  Санкт-Петербург      Павел   Гончаров 2018-08-15  smart   \n",
       "3210        NaT  Санкт-Петербург      Павел   Гончаров 2018-08-15  smart   \n",
       "3211        NaT  Санкт-Петербург      Павел   Гончаров 2018-08-15  smart   \n",
       "3212        NaT  Санкт-Петербург      Павел   Гончаров 2018-08-15  smart   \n",
       "3213        NaT  Санкт-Петербург      Павел   Гончаров 2018-08-15  smart   \n",
       "\n",
       "      expenses  \n",
       "10       550.0  \n",
       "11      1150.0  \n",
       "12      1550.0  \n",
       "13       950.0  \n",
       "14       550.0  \n",
       "...        ...  \n",
       "3209     550.0  \n",
       "3210     950.0  \n",
       "3211    1550.0  \n",
       "3212    1150.0  \n",
       "3213     950.0  \n",
       "\n",
       "[1922 rows x 15 columns]"
      ]
     },
     "execution_count": 75,
     "metadata": {},
     "output_type": "execute_result"
    }
   ],
   "source": [
    "information_smart_use = information_smart.dropna(subset = ['id_messages'])\n",
    "information_smart_use"
   ]
  },
  {
   "cell_type": "code",
   "execution_count": 76,
   "metadata": {},
   "outputs": [
    {
     "data": {
      "text/plain": [
       "month\n",
       "1.0     20.000000\n",
       "2.0     27.940000\n",
       "3.0     35.550725\n",
       "4.0     35.864583\n",
       "5.0     39.032787\n",
       "6.0     38.577465\n",
       "7.0     38.988506\n",
       "8.0     38.750000\n",
       "9.0     39.219731\n",
       "10.0    39.082677\n",
       "11.0    39.881481\n",
       "12.0    42.264808\n",
       "Name: id_messages, dtype: float64"
      ]
     },
     "execution_count": 76,
     "metadata": {},
     "output_type": "execute_result"
    }
   ],
   "source": [
    "messages_smart_use = information_smart_use.groupby('month')['id_messages'].mean()\n",
    "messages_smart_use"
   ]
  },
  {
   "cell_type": "code",
   "execution_count": 77,
   "metadata": {},
   "outputs": [],
   "source": [
    "#messages_smart_use.mean()"
   ]
  },
  {
   "cell_type": "code",
   "execution_count": 78,
   "metadata": {},
   "outputs": [],
   "source": [
    "#varianse_messages_smart = np.var(messages_smart_use)\n",
    "#varianse_messages_smart "
   ]
  },
  {
   "cell_type": "code",
   "execution_count": 79,
   "metadata": {},
   "outputs": [
    {
     "data": {
      "text/plain": [
       "<AxesSubplot:>"
      ]
     },
     "execution_count": 79,
     "metadata": {},
     "output_type": "execute_result"
    },
    {
     "data": {
      "image/png": "[encoded data removed]",
      "text/plain": [
       "<Figure size 432x288 with 1 Axes>"
      ]
     },
     "metadata": {
      "needs_background": "light"
     },
     "output_type": "display_data"
    }
   ],
   "source": [
    "messages_smart_use.hist(bins=10)"
   ]
  },
  {
   "cell_type": "code",
   "execution_count": 80,
   "metadata": {},
   "outputs": [],
   "source": [
    "#standart_deviation_messages_smart = np.std(messages_smart_use)\n",
    "#standart_deviation_messages_smart"
   ]
  },
  {
   "cell_type": "code",
   "execution_count": 81,
   "metadata": {},
   "outputs": [
    {
     "data": {
      "text/html": [
       "<div>\n",
       "<style scoped>\n",
       "    .dataframe tbody tr th:only-of-type {\n",
       "        vertical-align: middle;\n",
       "    }\n",
       "\n",
       "    .dataframe tbody tr th {\n",
       "        vertical-align: top;\n",
       "    }\n",
       "\n",
       "    .dataframe thead tr th {\n",
       "        text-align: left;\n",
       "    }\n",
       "\n",
       "    .dataframe thead tr:last-of-type th {\n",
       "        text-align: right;\n",
       "    }\n",
       "</style>\n",
       "<table border=\"1\" class=\"dataframe\">\n",
       "  <thead>\n",
       "    <tr>\n",
       "      <th></th>\n",
       "      <th>mean</th>\n",
       "      <th>var</th>\n",
       "      <th>std</th>\n",
       "    </tr>\n",
       "    <tr>\n",
       "      <th></th>\n",
       "      <th>id_messages</th>\n",
       "      <th>id_messages</th>\n",
       "      <th>id_messages</th>\n",
       "    </tr>\n",
       "    <tr>\n",
       "      <th>tariff</th>\n",
       "      <th></th>\n",
       "      <th></th>\n",
       "      <th></th>\n",
       "    </tr>\n",
       "  </thead>\n",
       "  <tbody>\n",
       "    <tr>\n",
       "      <th>smart</th>\n",
       "      <td>38.716441</td>\n",
       "      <td>717.594201</td>\n",
       "      <td>26.787949</td>\n",
       "    </tr>\n",
       "  </tbody>\n",
       "</table>\n",
       "</div>"
      ],
      "text/plain": [
       "              mean         var         std\n",
       "       id_messages id_messages id_messages\n",
       "tariff                                    \n",
       "smart    38.716441  717.594201   26.787949"
      ]
     },
     "execution_count": 81,
     "metadata": {},
     "output_type": "execute_result"
    }
   ],
   "source": [
    "information_smart_use.pivot_table(index= 'tariff', values= 'id_messages', aggfunc= ['mean', 'var','std'])"
   ]
  },
  {
   "cell_type": "markdown",
   "metadata": {},
   "source": [
    "Как мы видим, далеко не все клиенты тарифа \"Смарт\" отправляют сообщения. Но те, кто это делает, за пределы лимита сильно не выходят: в среднем это 39 смс в месяц со стандартным отклонением в 27 сообщений."
   ]
  },
  {
   "cell_type": "markdown",
   "metadata": {},
   "source": [
    "##### Поговорим об интернет-трафике"
   ]
  },
  {
   "cell_type": "code",
   "execution_count": 82,
   "metadata": {},
   "outputs": [
    {
     "data": {
      "text/plain": [
       "month\n",
       "1.0      8.735294\n",
       "2.0     11.844828\n",
       "3.0     15.233766\n",
       "4.0     13.625000\n",
       "5.0     15.907801\n",
       "6.0     15.951220\n",
       "7.0     15.875622\n",
       "8.0     16.807692\n",
       "9.0     16.392308\n",
       "10.0    16.880952\n",
       "11.0    17.000000\n",
       "12.0    18.201780\n",
       "Name: mb_used, dtype: float64"
      ]
     },
     "execution_count": 82,
     "metadata": {},
     "output_type": "execute_result"
    }
   ],
   "source": [
    "internet_smart = information_smart.groupby('month')['mb_used'].mean()\n",
    "internet_smart"
   ]
  },
  {
   "cell_type": "code",
   "execution_count": 83,
   "metadata": {},
   "outputs": [],
   "source": [
    "#internet_smart.mean()"
   ]
  },
  {
   "cell_type": "code",
   "execution_count": 84,
   "metadata": {},
   "outputs": [],
   "source": [
    "#varianse_internet_smart = np.var(internet_smart)\n",
    "#varianse_internet_smart  "
   ]
  },
  {
   "cell_type": "code",
   "execution_count": 85,
   "metadata": {},
   "outputs": [
    {
     "data": {
      "text/plain": [
       "<AxesSubplot:>"
      ]
     },
     "execution_count": 85,
     "metadata": {},
     "output_type": "execute_result"
    },
    {
     "data": {
      "image/png": "[encoded data removed]",
      "text/plain": [
       "<Figure size 432x288 with 1 Axes>"
      ]
     },
     "metadata": {
      "needs_background": "light"
     },
     "output_type": "display_data"
    }
   ],
   "source": [
    "internet_smart.hist(bins=10)"
   ]
  },
  {
   "cell_type": "code",
   "execution_count": 86,
   "metadata": {},
   "outputs": [],
   "source": [
    "#standart_deviation_internet_smart = np.std(internet_smart)\n",
    "#standart_deviation_internet_smart"
   ]
  },
  {
   "cell_type": "code",
   "execution_count": 87,
   "metadata": {},
   "outputs": [
    {
     "data": {
      "text/html": [
       "<div>\n",
       "<style scoped>\n",
       "    .dataframe tbody tr th:only-of-type {\n",
       "        vertical-align: middle;\n",
       "    }\n",
       "\n",
       "    .dataframe tbody tr th {\n",
       "        vertical-align: top;\n",
       "    }\n",
       "\n",
       "    .dataframe thead tr th {\n",
       "        text-align: left;\n",
       "    }\n",
       "\n",
       "    .dataframe thead tr:last-of-type th {\n",
       "        text-align: right;\n",
       "    }\n",
       "</style>\n",
       "<table border=\"1\" class=\"dataframe\">\n",
       "  <thead>\n",
       "    <tr>\n",
       "      <th></th>\n",
       "      <th>mean</th>\n",
       "      <th>var</th>\n",
       "      <th>std</th>\n",
       "    </tr>\n",
       "    <tr>\n",
       "      <th></th>\n",
       "      <th>mb_used</th>\n",
       "      <th>mb_used</th>\n",
       "      <th>mb_used</th>\n",
       "    </tr>\n",
       "    <tr>\n",
       "      <th>tariff</th>\n",
       "      <th></th>\n",
       "      <th></th>\n",
       "      <th></th>\n",
       "    </tr>\n",
       "  </thead>\n",
       "  <tbody>\n",
       "    <tr>\n",
       "      <th>smart</th>\n",
       "      <td>16.336176</td>\n",
       "      <td>32.923756</td>\n",
       "      <td>5.737923</td>\n",
       "    </tr>\n",
       "  </tbody>\n",
       "</table>\n",
       "</div>"
      ],
      "text/plain": [
       "             mean        var       std\n",
       "          mb_used    mb_used   mb_used\n",
       "tariff                                \n",
       "smart   16.336176  32.923756  5.737923"
      ]
     },
     "execution_count": 87,
     "metadata": {},
     "output_type": "execute_result"
    }
   ],
   "source": [
    "information_smart.pivot_table(index= 'tariff', values= 'mb_used', aggfunc= ['mean', 'var','std'])"
   ]
  },
  {
   "cell_type": "markdown",
   "metadata": {},
   "source": [
    "Что касается интернета, пользователям не нуужно 15 ГБ в месяц. В среднем они используют 1 ГБ с небольшим стандартным отклонением."
   ]
  },
  {
   "cell_type": "markdown",
   "metadata": {},
   "source": [
    "Вывод можно сделать следующий: тарифы надо пересматривать. Лимит по звонкам в тарифе \"Ультра\" превышает спрос в среднем в три раза, лимит по смс так же \"раздут\" в этом тарифе. У клиента может сложиться впечатление, что его заставляют платить \"за воздух\". Что касается интрнет трафика. то там излишки еще весомее: клиенты \"Ультра\" в среднем пользуются 10 ГБ из 30 предложенных, а клиенты \"Смарт\" вообще 1 из 10, т.е. предложение в 10 раз превышает спрос."
   ]
  },
  {
   "cell_type": "markdown",
   "metadata": {},
   "source": [
    "### Проверка гипотез."
   ]
  },
  {
   "cell_type": "markdown",
   "metadata": {},
   "source": [
    "#### Средняя выручка пользователей тарифов «Ультра» и «Смарт» различаются"
   ]
  },
  {
   "cell_type": "markdown",
   "metadata": {},
   "source": [
    "Для начала сформулируем нулевую и альтернативную гипотезы. Мы будем проверять гипотезу о равенстве средних двух генеральных совокупностей по имеющимся выборкам. Поведение клиентов с тарифом \"Смарт\" никак не зависит от поведения клиентов с тарифом \"Ультра\", так что наши совокупности независимы друг от друга.\n",
    "1. H0: выручка пользователей тарифов «Ультра» и «Смарт» не различается\n",
    "2. H1: выручка пользователей тарифов «Ультра» и «Смарт» различается\n"
   ]
  },
  {
   "cell_type": "markdown",
   "metadata": {},
   "source": [
    "Сначала сформируем необходимые нам массивы данных. Столбец с выручкой expenses в таблицах с характеристиками обоих тарифов мы уже подготовили:"
   ]
  },
  {
   "cell_type": "code",
   "execution_count": 88,
   "metadata": {},
   "outputs": [
    {
     "data": {
      "text/plain": [
       "8       1150.0\n",
       "9        550.0\n",
       "10       550.0\n",
       "11      1150.0\n",
       "12      1550.0\n",
       "         ...  \n",
       "3210     950.0\n",
       "3211    1550.0\n",
       "3212    1150.0\n",
       "3213     950.0\n",
       "3215     550.0\n",
       "Name: expenses, Length: 2230, dtype: float64"
      ]
     },
     "execution_count": 88,
     "metadata": {},
     "output_type": "execute_result"
    }
   ],
   "source": [
    "smart = information_smart['expenses']\n",
    "smart"
   ]
  },
  {
   "cell_type": "code",
   "execution_count": 89,
   "metadata": {},
   "outputs": [
    {
     "data": {
      "text/plain": [
       "0       1950.0\n",
       "1       1950.0\n",
       "2       1950.0\n",
       "3       1950.0\n",
       "4       1950.0\n",
       "         ...  \n",
       "3205    1950.0\n",
       "3206    1950.0\n",
       "3207    1950.0\n",
       "3208    1950.0\n",
       "3214    1950.0\n",
       "Name: expenses, Length: 986, dtype: float64"
      ]
     },
     "execution_count": 89,
     "metadata": {},
     "output_type": "execute_result"
    }
   ],
   "source": [
    "ultra = information_ultra['expenses']\n",
    "ultra"
   ]
  },
  {
   "cell_type": "markdown",
   "metadata": {},
   "source": [
    "Так как количество клиентов с тарифом \"Ультра\" и тарифом \"Смарт\" разное, параметр equal_var установим как False.\n",
    "Установим в качестве критического уровня статистической значимости alpha классическое значение в 0,05 и проверим нашу гипотезу:"
   ]
  },
  {
   "cell_type": "code",
   "execution_count": 90,
   "metadata": {},
   "outputs": [
    {
     "name": "stdout",
     "output_type": "stream",
     "text": [
      "р-значение: 1.927011394420941e-250\n",
      "Отвергаем нулевую гипотезу\n"
     ]
    }
   ],
   "source": [
    "alpha = 0.05\n",
    "results = st.ttest_ind(\n",
    "    smart,\n",
    "    ultra,\n",
    "    equal_var=False)\n",
    "print('р-значение:', results.pvalue)\n",
    "if results.pvalue < alpha:\n",
    "    print('Отвергаем нулевую гипотезу')\n",
    "else:\n",
    "    print('Не получилось опровергнуть нулевую гипотезу')\n",
    "    \n"
   ]
  },
  {
   "cell_type": "markdown",
   "metadata": {},
   "source": [
    "Приходим к выводу, что выручка пользователей тарифов «Ультра» и «Смарт» скорее всего различается. Но мы помним, что клиентов с тарифом \"Ультра\" у нас гораздо больше."
   ]
  },
  {
   "cell_type": "markdown",
   "metadata": {},
   "source": [
    "#### Средняя выручка пользователей из Москвы отличается от выручки пользователей из других регионов."
   ]
  },
  {
   "cell_type": "markdown",
   "metadata": {},
   "source": [
    "Для начала сформулируем нулевую и альтернативную гипотезы. Мы будем проверять гипотезу о равенстве средних двух генеральных совокупностей по имеющимся выборкам. Поведение клиентов из Москвы никак не зависит от поведения клиентов из других регионов, так что наши совокупности независимы друг от друга.\n",
    "\n",
    "1. H0: средняя выручка пользователей из Москвы не отличается от выручки пользователей из других регионов\n",
    "2. H1: средняя выручка пользователей из Москвы отличается от выручки пользователей из других регионов"
   ]
  },
  {
   "cell_type": "markdown",
   "metadata": {},
   "source": [
    "Сначала сформируем необходимые нам массивы данных. У нас есть общая таблица по всем клиентам с месячной выручкой information. Разобъем её на 2 части: Москва и регионы:"
   ]
  },
  {
   "cell_type": "code",
   "execution_count": 91,
   "metadata": {},
   "outputs": [
    {
     "data": {
      "text/html": [
       "<div>\n",
       "<style scoped>\n",
       "    .dataframe tbody tr th:only-of-type {\n",
       "        vertical-align: middle;\n",
       "    }\n",
       "\n",
       "    .dataframe tbody tr th {\n",
       "        vertical-align: top;\n",
       "    }\n",
       "\n",
       "    .dataframe thead th {\n",
       "        text-align: right;\n",
       "    }\n",
       "</style>\n",
       "<table border=\"1\" class=\"dataframe\">\n",
       "  <thead>\n",
       "    <tr style=\"text-align: right;\">\n",
       "      <th></th>\n",
       "      <th>index</th>\n",
       "      <th>user_id</th>\n",
       "      <th>month</th>\n",
       "      <th>duration</th>\n",
       "      <th>id_calls</th>\n",
       "      <th>id_messages</th>\n",
       "      <th>mb_used</th>\n",
       "      <th>age</th>\n",
       "      <th>churn_date</th>\n",
       "      <th>city</th>\n",
       "      <th>first_name</th>\n",
       "      <th>last_name</th>\n",
       "      <th>reg_date</th>\n",
       "      <th>tariff</th>\n",
       "      <th>expenses</th>\n",
       "    </tr>\n",
       "  </thead>\n",
       "  <tbody>\n",
       "    <tr>\n",
       "      <th>8</th>\n",
       "      <td>8.0</td>\n",
       "      <td>1001</td>\n",
       "      <td>11.0</td>\n",
       "      <td>430.0</td>\n",
       "      <td>59.0</td>\n",
       "      <td>NaN</td>\n",
       "      <td>18.0</td>\n",
       "      <td>41</td>\n",
       "      <td>NaT</td>\n",
       "      <td>Москва</td>\n",
       "      <td>Иван</td>\n",
       "      <td>Ежов</td>\n",
       "      <td>2018-11-01</td>\n",
       "      <td>smart</td>\n",
       "      <td>1150.0</td>\n",
       "    </tr>\n",
       "    <tr>\n",
       "      <th>9</th>\n",
       "      <td>9.0</td>\n",
       "      <td>1001</td>\n",
       "      <td>12.0</td>\n",
       "      <td>414.0</td>\n",
       "      <td>63.0</td>\n",
       "      <td>NaN</td>\n",
       "      <td>14.0</td>\n",
       "      <td>41</td>\n",
       "      <td>NaT</td>\n",
       "      <td>Москва</td>\n",
       "      <td>Иван</td>\n",
       "      <td>Ежов</td>\n",
       "      <td>2018-11-01</td>\n",
       "      <td>smart</td>\n",
       "      <td>550.0</td>\n",
       "    </tr>\n",
       "    <tr>\n",
       "      <th>17</th>\n",
       "      <td>17.0</td>\n",
       "      <td>1003</td>\n",
       "      <td>8.0</td>\n",
       "      <td>380.0</td>\n",
       "      <td>55.0</td>\n",
       "      <td>37.0</td>\n",
       "      <td>9.0</td>\n",
       "      <td>23</td>\n",
       "      <td>NaT</td>\n",
       "      <td>Москва</td>\n",
       "      <td>Белла</td>\n",
       "      <td>Белякова</td>\n",
       "      <td>2018-08-17</td>\n",
       "      <td>ultra</td>\n",
       "      <td>1950.0</td>\n",
       "    </tr>\n",
       "    <tr>\n",
       "      <th>18</th>\n",
       "      <td>18.0</td>\n",
       "      <td>1003</td>\n",
       "      <td>9.0</td>\n",
       "      <td>961.0</td>\n",
       "      <td>134.0</td>\n",
       "      <td>91.0</td>\n",
       "      <td>13.0</td>\n",
       "      <td>23</td>\n",
       "      <td>NaT</td>\n",
       "      <td>Москва</td>\n",
       "      <td>Белла</td>\n",
       "      <td>Белякова</td>\n",
       "      <td>2018-08-17</td>\n",
       "      <td>ultra</td>\n",
       "      <td>1950.0</td>\n",
       "    </tr>\n",
       "    <tr>\n",
       "      <th>19</th>\n",
       "      <td>19.0</td>\n",
       "      <td>1003</td>\n",
       "      <td>10.0</td>\n",
       "      <td>855.0</td>\n",
       "      <td>108.0</td>\n",
       "      <td>83.0</td>\n",
       "      <td>15.0</td>\n",
       "      <td>23</td>\n",
       "      <td>NaT</td>\n",
       "      <td>Москва</td>\n",
       "      <td>Белла</td>\n",
       "      <td>Белякова</td>\n",
       "      <td>2018-08-17</td>\n",
       "      <td>ultra</td>\n",
       "      <td>1950.0</td>\n",
       "    </tr>\n",
       "  </tbody>\n",
       "</table>\n",
       "</div>"
      ],
      "text/plain": [
       "    index  user_id  month  duration  id_calls  id_messages  mb_used  age  \\\n",
       "8     8.0     1001   11.0     430.0      59.0          NaN     18.0   41   \n",
       "9     9.0     1001   12.0     414.0      63.0          NaN     14.0   41   \n",
       "17   17.0     1003    8.0     380.0      55.0         37.0      9.0   23   \n",
       "18   18.0     1003    9.0     961.0     134.0         91.0     13.0   23   \n",
       "19   19.0     1003   10.0     855.0     108.0         83.0     15.0   23   \n",
       "\n",
       "   churn_date    city first_name last_name   reg_date tariff  expenses  \n",
       "8         NaT  Москва       Иван      Ежов 2018-11-01  smart    1150.0  \n",
       "9         NaT  Москва       Иван      Ежов 2018-11-01  smart     550.0  \n",
       "17        NaT  Москва      Белла  Белякова 2018-08-17  ultra    1950.0  \n",
       "18        NaT  Москва      Белла  Белякова 2018-08-17  ultra    1950.0  \n",
       "19        NaT  Москва      Белла  Белякова 2018-08-17  ultra    1950.0  "
      ]
     },
     "execution_count": 91,
     "metadata": {},
     "output_type": "execute_result"
    }
   ],
   "source": [
    "moscow = information.query('city == \"Москва\"')\n",
    "moscow.head()"
   ]
  },
  {
   "cell_type": "code",
   "execution_count": 92,
   "metadata": {},
   "outputs": [
    {
     "data": {
      "text/html": [
       "<div>\n",
       "<style scoped>\n",
       "    .dataframe tbody tr th:only-of-type {\n",
       "        vertical-align: middle;\n",
       "    }\n",
       "\n",
       "    .dataframe tbody tr th {\n",
       "        vertical-align: top;\n",
       "    }\n",
       "\n",
       "    .dataframe thead th {\n",
       "        text-align: right;\n",
       "    }\n",
       "</style>\n",
       "<table border=\"1\" class=\"dataframe\">\n",
       "  <thead>\n",
       "    <tr style=\"text-align: right;\">\n",
       "      <th></th>\n",
       "      <th>index</th>\n",
       "      <th>user_id</th>\n",
       "      <th>month</th>\n",
       "      <th>duration</th>\n",
       "      <th>id_calls</th>\n",
       "      <th>id_messages</th>\n",
       "      <th>mb_used</th>\n",
       "      <th>age</th>\n",
       "      <th>churn_date</th>\n",
       "      <th>city</th>\n",
       "      <th>first_name</th>\n",
       "      <th>last_name</th>\n",
       "      <th>reg_date</th>\n",
       "      <th>tariff</th>\n",
       "      <th>expenses</th>\n",
       "    </tr>\n",
       "  </thead>\n",
       "  <tbody>\n",
       "    <tr>\n",
       "      <th>0</th>\n",
       "      <td>0.0</td>\n",
       "      <td>1000</td>\n",
       "      <td>5.0</td>\n",
       "      <td>159.0</td>\n",
       "      <td>22.0</td>\n",
       "      <td>22.0</td>\n",
       "      <td>3.0</td>\n",
       "      <td>52</td>\n",
       "      <td>NaT</td>\n",
       "      <td>Краснодар</td>\n",
       "      <td>Рафаил</td>\n",
       "      <td>Верещагин</td>\n",
       "      <td>2018-05-25</td>\n",
       "      <td>ultra</td>\n",
       "      <td>1950.0</td>\n",
       "    </tr>\n",
       "    <tr>\n",
       "      <th>1</th>\n",
       "      <td>1.0</td>\n",
       "      <td>1000</td>\n",
       "      <td>6.0</td>\n",
       "      <td>172.0</td>\n",
       "      <td>43.0</td>\n",
       "      <td>60.0</td>\n",
       "      <td>23.0</td>\n",
       "      <td>52</td>\n",
       "      <td>NaT</td>\n",
       "      <td>Краснодар</td>\n",
       "      <td>Рафаил</td>\n",
       "      <td>Верещагин</td>\n",
       "      <td>2018-05-25</td>\n",
       "      <td>ultra</td>\n",
       "      <td>1950.0</td>\n",
       "    </tr>\n",
       "    <tr>\n",
       "      <th>2</th>\n",
       "      <td>2.0</td>\n",
       "      <td>1000</td>\n",
       "      <td>7.0</td>\n",
       "      <td>340.0</td>\n",
       "      <td>47.0</td>\n",
       "      <td>75.0</td>\n",
       "      <td>14.0</td>\n",
       "      <td>52</td>\n",
       "      <td>NaT</td>\n",
       "      <td>Краснодар</td>\n",
       "      <td>Рафаил</td>\n",
       "      <td>Верещагин</td>\n",
       "      <td>2018-05-25</td>\n",
       "      <td>ultra</td>\n",
       "      <td>1950.0</td>\n",
       "    </tr>\n",
       "    <tr>\n",
       "      <th>3</th>\n",
       "      <td>3.0</td>\n",
       "      <td>1000</td>\n",
       "      <td>8.0</td>\n",
       "      <td>408.0</td>\n",
       "      <td>52.0</td>\n",
       "      <td>81.0</td>\n",
       "      <td>14.0</td>\n",
       "      <td>52</td>\n",
       "      <td>NaT</td>\n",
       "      <td>Краснодар</td>\n",
       "      <td>Рафаил</td>\n",
       "      <td>Верещагин</td>\n",
       "      <td>2018-05-25</td>\n",
       "      <td>ultra</td>\n",
       "      <td>1950.0</td>\n",
       "    </tr>\n",
       "    <tr>\n",
       "      <th>4</th>\n",
       "      <td>4.0</td>\n",
       "      <td>1000</td>\n",
       "      <td>9.0</td>\n",
       "      <td>466.0</td>\n",
       "      <td>58.0</td>\n",
       "      <td>57.0</td>\n",
       "      <td>15.0</td>\n",
       "      <td>52</td>\n",
       "      <td>NaT</td>\n",
       "      <td>Краснодар</td>\n",
       "      <td>Рафаил</td>\n",
       "      <td>Верещагин</td>\n",
       "      <td>2018-05-25</td>\n",
       "      <td>ultra</td>\n",
       "      <td>1950.0</td>\n",
       "    </tr>\n",
       "  </tbody>\n",
       "</table>\n",
       "</div>"
      ],
      "text/plain": [
       "   index  user_id  month  duration  id_calls  id_messages  mb_used  age  \\\n",
       "0    0.0     1000    5.0     159.0      22.0         22.0      3.0   52   \n",
       "1    1.0     1000    6.0     172.0      43.0         60.0     23.0   52   \n",
       "2    2.0     1000    7.0     340.0      47.0         75.0     14.0   52   \n",
       "3    3.0     1000    8.0     408.0      52.0         81.0     14.0   52   \n",
       "4    4.0     1000    9.0     466.0      58.0         57.0     15.0   52   \n",
       "\n",
       "  churn_date       city first_name  last_name   reg_date tariff  expenses  \n",
       "0        NaT  Краснодар     Рафаил  Верещагин 2018-05-25  ultra    1950.0  \n",
       "1        NaT  Краснодар     Рафаил  Верещагин 2018-05-25  ultra    1950.0  \n",
       "2        NaT  Краснодар     Рафаил  Верещагин 2018-05-25  ultra    1950.0  \n",
       "3        NaT  Краснодар     Рафаил  Верещагин 2018-05-25  ultra    1950.0  \n",
       "4        NaT  Краснодар     Рафаил  Верещагин 2018-05-25  ultra    1950.0  "
      ]
     },
     "execution_count": 92,
     "metadata": {},
     "output_type": "execute_result"
    }
   ],
   "source": [
    "region = information.query('city != \"Москва\"')\n",
    "region.head()"
   ]
  },
  {
   "cell_type": "markdown",
   "metadata": {},
   "source": [
    "Теперь сделаем срезу из этих таблиц по выручке:"
   ]
  },
  {
   "cell_type": "code",
   "execution_count": 93,
   "metadata": {},
   "outputs": [
    {
     "data": {
      "text/plain": [
       "8       1150.0\n",
       "9        550.0\n",
       "17      1950.0\n",
       "18      1950.0\n",
       "19      1950.0\n",
       "         ...  \n",
       "3120     950.0\n",
       "3121     550.0\n",
       "3122    1750.0\n",
       "3123    1350.0\n",
       "3124     750.0\n",
       "Name: expenses, Length: 611, dtype: float64"
      ]
     },
     "execution_count": 93,
     "metadata": {},
     "output_type": "execute_result"
    }
   ],
   "source": [
    "moscow = moscow['expenses']\n",
    "moscow"
   ]
  },
  {
   "cell_type": "code",
   "execution_count": 94,
   "metadata": {},
   "outputs": [
    {
     "data": {
      "text/plain": [
       "0       1950.0\n",
       "1       1950.0\n",
       "2       1950.0\n",
       "3       1950.0\n",
       "4       1950.0\n",
       "         ...  \n",
       "3211    1550.0\n",
       "3212    1150.0\n",
       "3213     950.0\n",
       "3214    1950.0\n",
       "3215     550.0\n",
       "Name: expenses, Length: 2605, dtype: float64"
      ]
     },
     "execution_count": 94,
     "metadata": {},
     "output_type": "execute_result"
    }
   ],
   "source": [
    "region = region['expenses']\n",
    "region"
   ]
  },
  {
   "cell_type": "markdown",
   "metadata": {},
   "source": [
    "Так как количество клиентов из Москвы и из регионов разное, параметр equal_var установим как False. Установим в качестве критического уровня статистической значимости alpha классическое значение в 0,05 и проверим нашу гипотезу:"
   ]
  },
  {
   "cell_type": "code",
   "execution_count": 95,
   "metadata": {},
   "outputs": [
    {
     "name": "stdout",
     "output_type": "stream",
     "text": [
      "р-значение: 0.5216952110000279\n",
      "Не получилось опровергнуть нулевую гипотезу\n"
     ]
    }
   ],
   "source": [
    "alpha = 0.05\n",
    "results = st.ttest_ind(\n",
    "    moscow,\n",
    "    region,\n",
    "    equal_var=False)\n",
    "print('р-значение:', results.pvalue)\n",
    "if results.pvalue < alpha:\n",
    "    print('Отвергаем нулевую гипотезу')\n",
    "else:\n",
    "    print('Не получилось опровергнуть нулевую гипотезу')\n",
    "    \n"
   ]
  },
  {
   "cell_type": "markdown",
   "metadata": {},
   "source": [
    "Нулевую гипотезу мы отвергнуть не смогли, значит скорее всего жители Москвы и регионов приносят примерно одинаковую выручку."
   ]
  },
  {
   "cell_type": "markdown",
   "metadata": {},
   "source": [
    "### Общий вывод"
   ]
  },
  {
   "cell_type": "markdown",
   "metadata": {},
   "source": [
    "Мы провели предварительный анализ тарифов на небольшой выборке клиентов. К каким выводам мы пришли:\n",
    "1. Клиентов с тарифом \"Ультра\" гораздо больше, чем клиентов с тарифом \"Смарт\" . Это вполне объяснимо, если учесть стоимость обоих тарифов. При этом выручка от этих тарифов скорее всего различается.\n",
    "2. Прибыли от клиентов из регионов и из Москвы скорее всего не отличабтся друг от друга.\n",
    "3. Клиенты в обоих тарифах укладываются в лимиты по звонкам. Лимиты, можно сказать, очень большие для клиентов \"Ультра\" - есть смысл пересмотреть.\n",
    "4. Клиенты тарифа \"Смарт\" выходят за пределы тарифа по количеству сообщений (не сильно, но всё же). Однако львиная доля клиентов в обоих тарифах не пользуются смс вовсе. Возможно стоит пересмотреть этот вопрос. Я предполагаю, что смс отправляют клиенты \"возрастной категории\". Возможно им стоит предложить тариф, в который входят смс, но остальные могут интерпретировать наличие к примеру 1000 смс в тарифе, которыми они не пользуются совсем, как желание оператора взять деньги за \"воздух\" - это в свою очередь может привести к оттоку клиентов.\n",
    "5. Что касается интернет-трафика: клиентам обоих тарифов такие лимиты не нужны - их надо пересматривать."
   ]
  }
 ],
 "metadata": {
  "ExecuteTimeLog": [
   {
    "duration": 2,
    "start_time": "2022-06-02T08:52:47.113Z"
   },
   {
    "duration": 409,
    "start_time": "2022-06-02T08:53:45.100Z"
   },
   {
    "duration": 122,
    "start_time": "2022-06-02T08:55:44.015Z"
   },
   {
    "duration": 98,
    "start_time": "2022-06-02T08:55:59.837Z"
   },
   {
    "duration": 1052,
    "start_time": "2022-06-02T08:57:03.816Z"
   },
   {
    "duration": 59,
    "start_time": "2022-06-02T08:57:04.871Z"
   },
   {
    "duration": 16,
    "start_time": "2022-06-02T08:57:04.931Z"
   },
   {
    "duration": 8,
    "start_time": "2022-06-02T09:04:58.615Z"
   },
   {
    "duration": 6,
    "start_time": "2022-06-02T09:05:25.641Z"
   },
   {
    "duration": 6,
    "start_time": "2022-06-02T09:09:45.313Z"
   },
   {
    "duration": 8,
    "start_time": "2022-06-02T09:10:03.783Z"
   },
   {
    "duration": 1200,
    "start_time": "2022-06-02T09:10:27.966Z"
   },
   {
    "duration": 65,
    "start_time": "2022-06-02T09:10:29.169Z"
   },
   {
    "duration": 12,
    "start_time": "2022-06-02T09:10:29.236Z"
   },
   {
    "duration": 13,
    "start_time": "2022-06-02T09:10:29.251Z"
   },
   {
    "duration": 13,
    "start_time": "2022-06-02T09:10:29.266Z"
   },
   {
    "duration": 12,
    "start_time": "2022-06-02T09:10:29.290Z"
   },
   {
    "duration": 5,
    "start_time": "2022-06-02T09:13:29.637Z"
   },
   {
    "duration": 1188,
    "start_time": "2022-06-02T09:15:31.969Z"
   },
   {
    "duration": 52,
    "start_time": "2022-06-02T09:15:33.159Z"
   },
   {
    "duration": 10,
    "start_time": "2022-06-02T09:15:33.213Z"
   },
   {
    "duration": 12,
    "start_time": "2022-06-02T09:15:33.225Z"
   },
   {
    "duration": 12,
    "start_time": "2022-06-02T09:15:33.239Z"
   },
   {
    "duration": 12,
    "start_time": "2022-06-02T09:15:33.253Z"
   },
   {
    "duration": 30,
    "start_time": "2022-06-02T09:15:33.267Z"
   },
   {
    "duration": 249,
    "start_time": "2022-06-02T09:19:32.142Z"
   },
   {
    "duration": 39,
    "start_time": "2022-06-02T09:20:21.361Z"
   },
   {
    "duration": 108,
    "start_time": "2022-06-02T09:27:53.355Z"
   },
   {
    "duration": 20,
    "start_time": "2022-06-02T09:28:20.525Z"
   },
   {
    "duration": 1075,
    "start_time": "2022-06-02T09:30:17.489Z"
   },
   {
    "duration": 52,
    "start_time": "2022-06-02T09:30:18.566Z"
   },
   {
    "duration": 10,
    "start_time": "2022-06-02T09:30:18.620Z"
   },
   {
    "duration": 7,
    "start_time": "2022-06-02T09:30:18.632Z"
   },
   {
    "duration": 5,
    "start_time": "2022-06-02T09:30:18.641Z"
   },
   {
    "duration": 13,
    "start_time": "2022-06-02T09:30:18.648Z"
   },
   {
    "duration": 22,
    "start_time": "2022-06-02T09:30:18.663Z"
   },
   {
    "duration": 170,
    "start_time": "2022-06-02T09:30:18.691Z"
   },
   {
    "duration": 33,
    "start_time": "2022-06-02T09:30:18.863Z"
   },
   {
    "duration": 114,
    "start_time": "2022-06-02T09:30:18.899Z"
   },
   {
    "duration": 18,
    "start_time": "2022-06-02T09:30:19.015Z"
   },
   {
    "duration": 66,
    "start_time": "2022-06-02T09:30:19.035Z"
   },
   {
    "duration": 48,
    "start_time": "2022-06-02T09:36:09.377Z"
   },
   {
    "duration": 36,
    "start_time": "2022-06-02T09:36:15.169Z"
   },
   {
    "duration": 299,
    "start_time": "2022-06-02T10:12:24.722Z"
   },
   {
    "duration": 20,
    "start_time": "2022-06-02T10:12:56.018Z"
   },
   {
    "duration": 60,
    "start_time": "2022-06-02T10:16:02.007Z"
   },
   {
    "duration": 16,
    "start_time": "2022-06-02T10:16:04.090Z"
   },
   {
    "duration": 1108,
    "start_time": "2022-06-02T10:18:08.353Z"
   },
   {
    "duration": 47,
    "start_time": "2022-06-02T10:18:09.463Z"
   },
   {
    "duration": 11,
    "start_time": "2022-06-02T10:18:09.511Z"
   },
   {
    "duration": 13,
    "start_time": "2022-06-02T10:18:09.524Z"
   },
   {
    "duration": 7,
    "start_time": "2022-06-02T10:18:09.539Z"
   },
   {
    "duration": 6,
    "start_time": "2022-06-02T10:18:09.548Z"
   },
   {
    "duration": 19,
    "start_time": "2022-06-02T10:18:09.556Z"
   },
   {
    "duration": 160,
    "start_time": "2022-06-02T10:18:09.577Z"
   },
   {
    "duration": 24,
    "start_time": "2022-06-02T10:18:09.739Z"
   },
   {
    "duration": 110,
    "start_time": "2022-06-02T10:18:09.765Z"
   },
   {
    "duration": 23,
    "start_time": "2022-06-02T10:18:09.877Z"
   },
   {
    "duration": 45,
    "start_time": "2022-06-02T10:18:09.902Z"
   },
   {
    "duration": 45,
    "start_time": "2022-06-02T10:18:09.949Z"
   },
   {
    "duration": 95,
    "start_time": "2022-06-02T10:18:09.996Z"
   },
   {
    "duration": 18,
    "start_time": "2022-06-02T10:18:10.092Z"
   },
   {
    "duration": 55,
    "start_time": "2022-06-02T10:18:10.112Z"
   },
   {
    "duration": 14,
    "start_time": "2022-06-02T10:18:10.175Z"
   },
   {
    "duration": 23,
    "start_time": "2022-06-02T10:18:10.191Z"
   },
   {
    "duration": 24,
    "start_time": "2022-06-02T10:18:27.039Z"
   },
   {
    "duration": 20,
    "start_time": "2022-06-02T10:21:08.912Z"
   },
   {
    "duration": 1271,
    "start_time": "2022-06-02T10:21:31.453Z"
   },
   {
    "duration": 54,
    "start_time": "2022-06-02T10:21:32.727Z"
   },
   {
    "duration": 10,
    "start_time": "2022-06-02T10:21:32.783Z"
   },
   {
    "duration": 13,
    "start_time": "2022-06-02T10:21:32.795Z"
   },
   {
    "duration": 10,
    "start_time": "2022-06-02T10:21:32.809Z"
   },
   {
    "duration": 9,
    "start_time": "2022-06-02T10:21:32.820Z"
   },
   {
    "duration": 19,
    "start_time": "2022-06-02T10:21:32.831Z"
   },
   {
    "duration": 192,
    "start_time": "2022-06-02T10:21:32.851Z"
   },
   {
    "duration": 33,
    "start_time": "2022-06-02T10:21:33.045Z"
   },
   {
    "duration": 110,
    "start_time": "2022-06-02T10:21:33.080Z"
   },
   {
    "duration": 20,
    "start_time": "2022-06-02T10:21:33.191Z"
   },
   {
    "duration": 44,
    "start_time": "2022-06-02T10:21:33.213Z"
   },
   {
    "duration": 27,
    "start_time": "2022-06-02T10:21:33.276Z"
   },
   {
    "duration": 99,
    "start_time": "2022-06-02T10:21:33.305Z"
   },
   {
    "duration": 18,
    "start_time": "2022-06-02T10:21:33.405Z"
   },
   {
    "duration": 58,
    "start_time": "2022-06-02T10:21:33.425Z"
   },
   {
    "duration": 14,
    "start_time": "2022-06-02T10:21:33.485Z"
   },
   {
    "duration": 34,
    "start_time": "2022-06-02T10:21:33.501Z"
   },
   {
    "duration": 42,
    "start_time": "2022-06-02T10:21:33.536Z"
   },
   {
    "duration": 329,
    "start_time": "2022-06-02T10:23:16.027Z"
   },
   {
    "duration": 21,
    "start_time": "2022-06-02T10:23:54.703Z"
   },
   {
    "duration": 13,
    "start_time": "2022-06-02T10:53:52.396Z"
   },
   {
    "duration": 5,
    "start_time": "2022-06-02T10:54:48.004Z"
   },
   {
    "duration": 8,
    "start_time": "2022-06-02T10:57:52.136Z"
   },
   {
    "duration": 97,
    "start_time": "2022-06-02T10:58:39.379Z"
   },
   {
    "duration": 7,
    "start_time": "2022-06-02T10:58:55.406Z"
   },
   {
    "duration": 4,
    "start_time": "2022-06-02T10:59:04.993Z"
   },
   {
    "duration": 13,
    "start_time": "2022-06-02T10:59:35.169Z"
   },
   {
    "duration": 4,
    "start_time": "2022-06-02T11:04:21.124Z"
   },
   {
    "duration": 488,
    "start_time": "2022-06-02T11:04:35.777Z"
   },
   {
    "duration": 70,
    "start_time": "2022-06-02T11:05:02.210Z"
   },
   {
    "duration": 10,
    "start_time": "2022-06-02T11:06:43.187Z"
   },
   {
    "duration": 69,
    "start_time": "2022-06-02T11:08:57.874Z"
   },
   {
    "duration": 13,
    "start_time": "2022-06-02T11:16:38.276Z"
   },
   {
    "duration": 1075,
    "start_time": "2022-06-02T11:28:32.785Z"
   },
   {
    "duration": 83,
    "start_time": "2022-06-02T11:28:33.862Z"
   },
   {
    "duration": 10,
    "start_time": "2022-06-02T11:28:33.947Z"
   },
   {
    "duration": 8,
    "start_time": "2022-06-02T11:28:33.959Z"
   },
   {
    "duration": 13,
    "start_time": "2022-06-02T11:28:33.968Z"
   },
   {
    "duration": 10,
    "start_time": "2022-06-02T11:28:33.982Z"
   },
   {
    "duration": 14,
    "start_time": "2022-06-02T11:28:33.993Z"
   },
   {
    "duration": 219,
    "start_time": "2022-06-02T11:28:34.009Z"
   },
   {
    "duration": 23,
    "start_time": "2022-06-02T11:28:34.230Z"
   },
   {
    "duration": 99,
    "start_time": "2022-06-02T11:28:34.256Z"
   },
   {
    "duration": 20,
    "start_time": "2022-06-02T11:28:34.357Z"
   },
   {
    "duration": 46,
    "start_time": "2022-06-02T11:28:34.379Z"
   },
   {
    "duration": 27,
    "start_time": "2022-06-02T11:28:34.427Z"
   },
   {
    "duration": 94,
    "start_time": "2022-06-02T11:28:34.456Z"
   },
   {
    "duration": 273,
    "start_time": "2022-06-02T11:28:34.552Z"
   },
   {
    "duration": 18,
    "start_time": "2022-06-02T11:28:34.827Z"
   },
   {
    "duration": 48,
    "start_time": "2022-06-02T11:28:34.847Z"
   },
   {
    "duration": 14,
    "start_time": "2022-06-02T11:28:34.897Z"
   },
   {
    "duration": 43,
    "start_time": "2022-06-02T11:28:34.913Z"
   },
   {
    "duration": 30,
    "start_time": "2022-06-02T11:28:34.958Z"
   },
   {
    "duration": 329,
    "start_time": "2022-06-02T11:28:34.990Z"
   },
   {
    "duration": 20,
    "start_time": "2022-06-02T11:28:35.321Z"
   },
   {
    "duration": 13,
    "start_time": "2022-06-02T11:28:35.342Z"
   },
   {
    "duration": 24,
    "start_time": "2022-06-02T11:28:35.357Z"
   },
   {
    "duration": 39,
    "start_time": "2022-06-02T11:28:35.383Z"
   },
   {
    "duration": 11,
    "start_time": "2022-06-02T11:28:35.424Z"
   },
   {
    "duration": 39,
    "start_time": "2022-06-02T11:28:35.437Z"
   },
   {
    "duration": 23,
    "start_time": "2022-06-02T11:30:53.395Z"
   },
   {
    "duration": 1038,
    "start_time": "2022-06-02T11:39:09.816Z"
   },
   {
    "duration": 45,
    "start_time": "2022-06-02T11:39:10.856Z"
   },
   {
    "duration": 11,
    "start_time": "2022-06-02T11:39:10.903Z"
   },
   {
    "duration": 8,
    "start_time": "2022-06-02T11:39:10.916Z"
   },
   {
    "duration": 6,
    "start_time": "2022-06-02T11:39:10.925Z"
   },
   {
    "duration": 7,
    "start_time": "2022-06-02T11:39:10.932Z"
   },
   {
    "duration": 16,
    "start_time": "2022-06-02T11:39:10.941Z"
   },
   {
    "duration": 150,
    "start_time": "2022-06-02T11:39:10.959Z"
   },
   {
    "duration": 24,
    "start_time": "2022-06-02T11:39:11.111Z"
   },
   {
    "duration": 106,
    "start_time": "2022-06-02T11:39:11.138Z"
   },
   {
    "duration": 18,
    "start_time": "2022-06-02T11:39:11.246Z"
   },
   {
    "duration": 43,
    "start_time": "2022-06-02T11:39:11.275Z"
   },
   {
    "duration": 94,
    "start_time": "2022-06-02T11:39:11.319Z"
   },
   {
    "duration": 18,
    "start_time": "2022-06-02T11:39:11.415Z"
   },
   {
    "duration": 52,
    "start_time": "2022-06-02T11:39:11.435Z"
   },
   {
    "duration": 14,
    "start_time": "2022-06-02T11:39:11.488Z"
   },
   {
    "duration": 31,
    "start_time": "2022-06-02T11:39:11.503Z"
   },
   {
    "duration": 136,
    "start_time": "2022-06-02T11:39:11.535Z"
   },
   {
    "duration": 21,
    "start_time": "2022-06-02T11:39:11.675Z"
   },
   {
    "duration": 12,
    "start_time": "2022-06-02T11:39:11.698Z"
   },
   {
    "duration": 24,
    "start_time": "2022-06-02T11:39:11.711Z"
   },
   {
    "duration": 63,
    "start_time": "2022-06-02T11:39:11.736Z"
   },
   {
    "duration": 10,
    "start_time": "2022-06-02T11:39:11.801Z"
   },
   {
    "duration": 17,
    "start_time": "2022-06-02T11:39:11.813Z"
   },
   {
    "duration": 1062,
    "start_time": "2022-06-02T11:43:53.339Z"
   },
   {
    "duration": 50,
    "start_time": "2022-06-02T11:43:54.403Z"
   },
   {
    "duration": 12,
    "start_time": "2022-06-02T11:43:54.455Z"
   },
   {
    "duration": 9,
    "start_time": "2022-06-02T11:43:54.469Z"
   },
   {
    "duration": 6,
    "start_time": "2022-06-02T11:43:54.480Z"
   },
   {
    "duration": 6,
    "start_time": "2022-06-02T11:43:54.488Z"
   },
   {
    "duration": 16,
    "start_time": "2022-06-02T11:43:54.495Z"
   },
   {
    "duration": 171,
    "start_time": "2022-06-02T11:43:54.512Z"
   },
   {
    "duration": 23,
    "start_time": "2022-06-02T11:43:54.684Z"
   },
   {
    "duration": 112,
    "start_time": "2022-06-02T11:43:54.710Z"
   },
   {
    "duration": 19,
    "start_time": "2022-06-02T11:43:54.824Z"
   },
   {
    "duration": 58,
    "start_time": "2022-06-02T11:43:54.845Z"
   },
   {
    "duration": 99,
    "start_time": "2022-06-02T11:43:54.904Z"
   },
   {
    "duration": 21,
    "start_time": "2022-06-02T11:43:55.006Z"
   },
   {
    "duration": 70,
    "start_time": "2022-06-02T11:43:55.029Z"
   },
   {
    "duration": 15,
    "start_time": "2022-06-02T11:43:55.101Z"
   },
   {
    "duration": 34,
    "start_time": "2022-06-02T11:43:55.118Z"
   },
   {
    "duration": 150,
    "start_time": "2022-06-02T11:43:55.154Z"
   },
   {
    "duration": 21,
    "start_time": "2022-06-02T11:43:55.306Z"
   },
   {
    "duration": 12,
    "start_time": "2022-06-02T11:43:55.329Z"
   },
   {
    "duration": 44,
    "start_time": "2022-06-02T11:43:55.343Z"
   },
   {
    "duration": 48,
    "start_time": "2022-06-02T11:43:55.389Z"
   },
   {
    "duration": 14,
    "start_time": "2022-06-02T11:43:55.439Z"
   },
   {
    "duration": 21,
    "start_time": "2022-06-02T11:43:55.476Z"
   },
   {
    "duration": 30,
    "start_time": "2022-06-02T11:47:16.975Z"
   },
   {
    "duration": 11,
    "start_time": "2022-06-02T11:48:30.586Z"
   },
   {
    "duration": 11,
    "start_time": "2022-06-02T11:48:44.690Z"
   },
   {
    "duration": 105,
    "start_time": "2022-06-02T11:55:19.891Z"
   },
   {
    "duration": 71,
    "start_time": "2022-06-02T11:55:30.028Z"
   },
   {
    "duration": 20,
    "start_time": "2022-06-02T11:56:13.327Z"
   },
   {
    "duration": 69,
    "start_time": "2022-06-02T11:58:44.335Z"
   },
   {
    "duration": 14,
    "start_time": "2022-06-02T11:59:51.382Z"
   },
   {
    "duration": 24,
    "start_time": "2022-06-02T12:01:09.293Z"
   },
   {
    "duration": 1112,
    "start_time": "2022-06-02T12:01:28.962Z"
   },
   {
    "duration": 56,
    "start_time": "2022-06-02T12:01:30.079Z"
   },
   {
    "duration": 12,
    "start_time": "2022-06-02T12:01:30.136Z"
   },
   {
    "duration": 40,
    "start_time": "2022-06-02T12:01:30.150Z"
   },
   {
    "duration": 23,
    "start_time": "2022-06-02T12:01:30.193Z"
   },
   {
    "duration": 17,
    "start_time": "2022-06-02T12:01:30.217Z"
   },
   {
    "duration": 25,
    "start_time": "2022-06-02T12:01:30.235Z"
   },
   {
    "duration": 214,
    "start_time": "2022-06-02T12:01:30.262Z"
   },
   {
    "duration": 28,
    "start_time": "2022-06-02T12:01:30.486Z"
   },
   {
    "duration": 118,
    "start_time": "2022-06-02T12:01:30.515Z"
   },
   {
    "duration": 19,
    "start_time": "2022-06-02T12:01:30.635Z"
   },
   {
    "duration": 69,
    "start_time": "2022-06-02T12:01:30.656Z"
   },
   {
    "duration": 29,
    "start_time": "2022-06-02T12:01:30.726Z"
   },
   {
    "duration": 18,
    "start_time": "2022-06-02T12:01:30.758Z"
   },
   {
    "duration": 0,
    "start_time": "2022-06-02T12:01:30.782Z"
   },
   {
    "duration": 0,
    "start_time": "2022-06-02T12:01:30.782Z"
   },
   {
    "duration": 0,
    "start_time": "2022-06-02T12:01:30.783Z"
   },
   {
    "duration": 0,
    "start_time": "2022-06-02T12:01:30.784Z"
   },
   {
    "duration": 0,
    "start_time": "2022-06-02T12:01:30.784Z"
   },
   {
    "duration": 0,
    "start_time": "2022-06-02T12:01:30.785Z"
   },
   {
    "duration": 0,
    "start_time": "2022-06-02T12:01:30.786Z"
   },
   {
    "duration": 0,
    "start_time": "2022-06-02T12:01:30.786Z"
   },
   {
    "duration": 0,
    "start_time": "2022-06-02T12:01:30.788Z"
   },
   {
    "duration": 0,
    "start_time": "2022-06-02T12:01:30.792Z"
   },
   {
    "duration": 0,
    "start_time": "2022-06-02T12:01:30.792Z"
   },
   {
    "duration": 0,
    "start_time": "2022-06-02T12:01:30.794Z"
   },
   {
    "duration": 0,
    "start_time": "2022-06-02T12:01:30.794Z"
   },
   {
    "duration": 0,
    "start_time": "2022-06-02T12:01:30.795Z"
   },
   {
    "duration": 0,
    "start_time": "2022-06-02T12:01:30.796Z"
   },
   {
    "duration": 5,
    "start_time": "2022-06-02T12:02:12.529Z"
   },
   {
    "duration": 40,
    "start_time": "2022-06-02T12:03:11.179Z"
   },
   {
    "duration": 43,
    "start_time": "2022-06-02T12:03:34.611Z"
   },
   {
    "duration": 139,
    "start_time": "2022-06-02T12:03:45.811Z"
   },
   {
    "duration": 9,
    "start_time": "2022-06-02T12:04:13.227Z"
   },
   {
    "duration": 1105,
    "start_time": "2022-06-02T12:04:18.886Z"
   },
   {
    "duration": 49,
    "start_time": "2022-06-02T12:04:19.995Z"
   },
   {
    "duration": 10,
    "start_time": "2022-06-02T12:04:20.046Z"
   },
   {
    "duration": 15,
    "start_time": "2022-06-02T12:04:20.058Z"
   },
   {
    "duration": 9,
    "start_time": "2022-06-02T12:04:20.077Z"
   },
   {
    "duration": 40,
    "start_time": "2022-06-02T12:04:20.089Z"
   },
   {
    "duration": 16,
    "start_time": "2022-06-02T12:04:20.131Z"
   },
   {
    "duration": 168,
    "start_time": "2022-06-02T12:04:20.149Z"
   },
   {
    "duration": 24,
    "start_time": "2022-06-02T12:04:20.318Z"
   },
   {
    "duration": 120,
    "start_time": "2022-06-02T12:04:20.344Z"
   },
   {
    "duration": 42,
    "start_time": "2022-06-02T12:04:20.465Z"
   },
   {
    "duration": 44,
    "start_time": "2022-06-02T12:04:20.509Z"
   },
   {
    "duration": 53,
    "start_time": "2022-06-02T12:04:20.556Z"
   },
   {
    "duration": 117,
    "start_time": "2022-06-02T12:04:20.613Z"
   },
   {
    "duration": 0,
    "start_time": "2022-06-02T12:04:20.733Z"
   },
   {
    "duration": 0,
    "start_time": "2022-06-02T12:04:20.734Z"
   },
   {
    "duration": 0,
    "start_time": "2022-06-02T12:04:20.735Z"
   },
   {
    "duration": 0,
    "start_time": "2022-06-02T12:04:20.736Z"
   },
   {
    "duration": 0,
    "start_time": "2022-06-02T12:04:20.737Z"
   },
   {
    "duration": 0,
    "start_time": "2022-06-02T12:04:20.738Z"
   },
   {
    "duration": 0,
    "start_time": "2022-06-02T12:04:20.739Z"
   },
   {
    "duration": 0,
    "start_time": "2022-06-02T12:04:20.740Z"
   },
   {
    "duration": 0,
    "start_time": "2022-06-02T12:04:20.742Z"
   },
   {
    "duration": 0,
    "start_time": "2022-06-02T12:04:20.743Z"
   },
   {
    "duration": 0,
    "start_time": "2022-06-02T12:04:20.744Z"
   },
   {
    "duration": 0,
    "start_time": "2022-06-02T12:04:20.745Z"
   },
   {
    "duration": 0,
    "start_time": "2022-06-02T12:04:20.746Z"
   },
   {
    "duration": 0,
    "start_time": "2022-06-02T12:04:20.775Z"
   },
   {
    "duration": 0,
    "start_time": "2022-06-02T12:04:20.776Z"
   },
   {
    "duration": 24,
    "start_time": "2022-06-02T12:05:02.583Z"
   },
   {
    "duration": 13,
    "start_time": "2022-06-02T12:05:18.090Z"
   },
   {
    "duration": 12,
    "start_time": "2022-06-02T12:05:26.628Z"
   },
   {
    "duration": 19,
    "start_time": "2022-06-02T12:07:01.674Z"
   },
   {
    "duration": 28,
    "start_time": "2022-06-02T12:10:04.286Z"
   },
   {
    "duration": 14,
    "start_time": "2022-06-02T12:11:04.953Z"
   },
   {
    "duration": 13,
    "start_time": "2022-06-02T12:18:08.765Z"
   },
   {
    "duration": 1110,
    "start_time": "2022-06-02T12:18:37.592Z"
   },
   {
    "duration": 48,
    "start_time": "2022-06-02T12:18:38.704Z"
   },
   {
    "duration": 13,
    "start_time": "2022-06-02T12:18:38.753Z"
   },
   {
    "duration": 39,
    "start_time": "2022-06-02T12:18:38.768Z"
   },
   {
    "duration": 19,
    "start_time": "2022-06-02T12:18:38.810Z"
   },
   {
    "duration": 24,
    "start_time": "2022-06-02T12:18:38.831Z"
   },
   {
    "duration": 34,
    "start_time": "2022-06-02T12:18:38.857Z"
   },
   {
    "duration": 180,
    "start_time": "2022-06-02T12:18:38.893Z"
   },
   {
    "duration": 34,
    "start_time": "2022-06-02T12:18:39.077Z"
   },
   {
    "duration": 129,
    "start_time": "2022-06-02T12:18:39.113Z"
   },
   {
    "duration": 20,
    "start_time": "2022-06-02T12:18:39.244Z"
   },
   {
    "duration": 62,
    "start_time": "2022-06-02T12:18:39.266Z"
   },
   {
    "duration": 50,
    "start_time": "2022-06-02T12:18:39.330Z"
   },
   {
    "duration": 29,
    "start_time": "2022-06-02T12:18:39.383Z"
   },
   {
    "duration": 102,
    "start_time": "2022-06-02T12:18:39.414Z"
   },
   {
    "duration": 19,
    "start_time": "2022-06-02T12:18:39.517Z"
   },
   {
    "duration": 75,
    "start_time": "2022-06-02T12:18:39.538Z"
   },
   {
    "duration": 15,
    "start_time": "2022-06-02T12:18:39.615Z"
   },
   {
    "duration": 54,
    "start_time": "2022-06-02T12:18:39.632Z"
   },
   {
    "duration": 26,
    "start_time": "2022-06-02T12:18:39.688Z"
   },
   {
    "duration": 149,
    "start_time": "2022-06-02T12:18:39.716Z"
   },
   {
    "duration": 38,
    "start_time": "2022-06-02T12:18:39.867Z"
   },
   {
    "duration": 18,
    "start_time": "2022-06-02T12:18:39.907Z"
   },
   {
    "duration": 30,
    "start_time": "2022-06-02T12:18:39.926Z"
   },
   {
    "duration": 48,
    "start_time": "2022-06-02T12:18:39.976Z"
   },
   {
    "duration": 12,
    "start_time": "2022-06-02T12:18:40.026Z"
   },
   {
    "duration": 49,
    "start_time": "2022-06-02T12:18:40.040Z"
   },
   {
    "duration": 20,
    "start_time": "2022-06-02T12:18:40.091Z"
   },
   {
    "duration": 10,
    "start_time": "2022-06-02T12:18:40.113Z"
   },
   {
    "duration": 19,
    "start_time": "2022-06-02T12:20:24.414Z"
   },
   {
    "duration": 30,
    "start_time": "2022-06-02T12:24:42.409Z"
   },
   {
    "duration": 1178,
    "start_time": "2022-06-02T12:25:06.294Z"
   },
   {
    "duration": 57,
    "start_time": "2022-06-02T12:25:07.484Z"
   },
   {
    "duration": 15,
    "start_time": "2022-06-02T12:25:07.544Z"
   },
   {
    "duration": 9,
    "start_time": "2022-06-02T12:25:07.561Z"
   },
   {
    "duration": 13,
    "start_time": "2022-06-02T12:25:07.573Z"
   },
   {
    "duration": 14,
    "start_time": "2022-06-02T12:25:07.592Z"
   },
   {
    "duration": 15,
    "start_time": "2022-06-02T12:25:07.609Z"
   },
   {
    "duration": 173,
    "start_time": "2022-06-02T12:25:07.626Z"
   },
   {
    "duration": 26,
    "start_time": "2022-06-02T12:25:07.800Z"
   },
   {
    "duration": 135,
    "start_time": "2022-06-02T12:25:07.828Z"
   },
   {
    "duration": 31,
    "start_time": "2022-06-02T12:25:07.965Z"
   },
   {
    "duration": 93,
    "start_time": "2022-06-02T12:25:08.002Z"
   },
   {
    "duration": 29,
    "start_time": "2022-06-02T12:25:08.097Z"
   },
   {
    "duration": 26,
    "start_time": "2022-06-02T12:25:08.129Z"
   },
   {
    "duration": 119,
    "start_time": "2022-06-02T12:25:08.157Z"
   },
   {
    "duration": 26,
    "start_time": "2022-06-02T12:25:08.283Z"
   },
   {
    "duration": 46,
    "start_time": "2022-06-02T12:25:08.311Z"
   },
   {
    "duration": 30,
    "start_time": "2022-06-02T12:25:08.359Z"
   },
   {
    "duration": 39,
    "start_time": "2022-06-02T12:25:08.392Z"
   },
   {
    "duration": 45,
    "start_time": "2022-06-02T12:25:08.434Z"
   },
   {
    "duration": 29,
    "start_time": "2022-06-02T12:25:08.487Z"
   },
   {
    "duration": 147,
    "start_time": "2022-06-02T12:25:08.518Z"
   },
   {
    "duration": 33,
    "start_time": "2022-06-02T12:25:08.666Z"
   },
   {
    "duration": 15,
    "start_time": "2022-06-02T12:25:08.701Z"
   },
   {
    "duration": 23,
    "start_time": "2022-06-02T12:25:08.718Z"
   },
   {
    "duration": 64,
    "start_time": "2022-06-02T12:25:08.743Z"
   },
   {
    "duration": 13,
    "start_time": "2022-06-02T12:25:08.809Z"
   },
   {
    "duration": 17,
    "start_time": "2022-06-02T12:25:08.823Z"
   },
   {
    "duration": 40,
    "start_time": "2022-06-02T12:25:08.842Z"
   },
   {
    "duration": 16,
    "start_time": "2022-06-02T12:25:08.885Z"
   },
   {
    "duration": 28,
    "start_time": "2022-06-02T12:33:24.590Z"
   },
   {
    "duration": 1188,
    "start_time": "2022-06-02T12:34:02.016Z"
   },
   {
    "duration": 49,
    "start_time": "2022-06-02T12:34:03.208Z"
   },
   {
    "duration": 12,
    "start_time": "2022-06-02T12:34:03.259Z"
   },
   {
    "duration": 10,
    "start_time": "2022-06-02T12:34:03.274Z"
   },
   {
    "duration": 7,
    "start_time": "2022-06-02T12:34:03.285Z"
   },
   {
    "duration": 11,
    "start_time": "2022-06-02T12:34:03.294Z"
   },
   {
    "duration": 21,
    "start_time": "2022-06-02T12:34:03.307Z"
   },
   {
    "duration": 166,
    "start_time": "2022-06-02T12:34:03.331Z"
   },
   {
    "duration": 25,
    "start_time": "2022-06-02T12:34:03.499Z"
   },
   {
    "duration": 137,
    "start_time": "2022-06-02T12:34:03.528Z"
   },
   {
    "duration": 35,
    "start_time": "2022-06-02T12:34:03.668Z"
   },
   {
    "duration": 70,
    "start_time": "2022-06-02T12:34:03.705Z"
   },
   {
    "duration": 29,
    "start_time": "2022-06-02T12:34:03.777Z"
   },
   {
    "duration": 26,
    "start_time": "2022-06-02T12:34:03.808Z"
   },
   {
    "duration": 124,
    "start_time": "2022-06-02T12:34:03.836Z"
   },
   {
    "duration": 22,
    "start_time": "2022-06-02T12:34:03.961Z"
   },
   {
    "duration": 49,
    "start_time": "2022-06-02T12:34:03.985Z"
   },
   {
    "duration": 40,
    "start_time": "2022-06-02T12:34:04.036Z"
   },
   {
    "duration": 53,
    "start_time": "2022-06-02T12:34:04.078Z"
   },
   {
    "duration": 49,
    "start_time": "2022-06-02T12:34:04.133Z"
   },
   {
    "duration": 28,
    "start_time": "2022-06-02T12:34:04.184Z"
   },
   {
    "duration": 154,
    "start_time": "2022-06-02T12:34:04.214Z"
   },
   {
    "duration": 22,
    "start_time": "2022-06-02T12:34:04.376Z"
   },
   {
    "duration": 25,
    "start_time": "2022-06-02T12:34:04.400Z"
   },
   {
    "duration": 25,
    "start_time": "2022-06-02T12:34:04.428Z"
   },
   {
    "duration": 64,
    "start_time": "2022-06-02T12:34:04.455Z"
   },
   {
    "duration": 19,
    "start_time": "2022-06-02T12:34:04.521Z"
   },
   {
    "duration": 54,
    "start_time": "2022-06-02T12:34:04.544Z"
   },
   {
    "duration": 31,
    "start_time": "2022-06-02T12:34:04.601Z"
   },
   {
    "duration": 33,
    "start_time": "2022-06-02T12:34:04.634Z"
   },
   {
    "duration": 13,
    "start_time": "2022-06-02T12:34:04.669Z"
   },
   {
    "duration": 27,
    "start_time": "2022-06-02T12:37:00.243Z"
   },
   {
    "duration": 1081,
    "start_time": "2022-06-02T12:42:52.904Z"
   },
   {
    "duration": 55,
    "start_time": "2022-06-02T12:42:53.987Z"
   },
   {
    "duration": 12,
    "start_time": "2022-06-02T12:42:54.044Z"
   },
   {
    "duration": 10,
    "start_time": "2022-06-02T12:42:54.059Z"
   },
   {
    "duration": 8,
    "start_time": "2022-06-02T12:42:54.071Z"
   },
   {
    "duration": 9,
    "start_time": "2022-06-02T12:42:54.081Z"
   },
   {
    "duration": 20,
    "start_time": "2022-06-02T12:42:54.092Z"
   },
   {
    "duration": 233,
    "start_time": "2022-06-02T12:42:54.114Z"
   },
   {
    "duration": 32,
    "start_time": "2022-06-02T12:42:54.349Z"
   },
   {
    "duration": 126,
    "start_time": "2022-06-02T12:42:54.384Z"
   },
   {
    "duration": 33,
    "start_time": "2022-06-02T12:42:54.513Z"
   },
   {
    "duration": 84,
    "start_time": "2022-06-02T12:42:54.549Z"
   },
   {
    "duration": 41,
    "start_time": "2022-06-02T12:42:54.635Z"
   },
   {
    "duration": 27,
    "start_time": "2022-06-02T12:42:54.678Z"
   },
   {
    "duration": 136,
    "start_time": "2022-06-02T12:42:54.707Z"
   },
   {
    "duration": 37,
    "start_time": "2022-06-02T12:42:54.846Z"
   },
   {
    "duration": 50,
    "start_time": "2022-06-02T12:42:54.885Z"
   },
   {
    "duration": 16,
    "start_time": "2022-06-02T12:42:54.936Z"
   },
   {
    "duration": 50,
    "start_time": "2022-06-02T12:42:54.956Z"
   },
   {
    "duration": 21,
    "start_time": "2022-06-02T12:42:55.008Z"
   },
   {
    "duration": 52,
    "start_time": "2022-06-02T12:42:55.030Z"
   },
   {
    "duration": 171,
    "start_time": "2022-06-02T12:42:55.084Z"
   },
   {
    "duration": 39,
    "start_time": "2022-06-02T12:42:55.258Z"
   },
   {
    "duration": 17,
    "start_time": "2022-06-02T12:42:55.299Z"
   },
   {
    "duration": 60,
    "start_time": "2022-06-02T12:42:55.318Z"
   },
   {
    "duration": 47,
    "start_time": "2022-06-02T12:42:55.381Z"
   },
   {
    "duration": 12,
    "start_time": "2022-06-02T12:42:55.430Z"
   },
   {
    "duration": 50,
    "start_time": "2022-06-02T12:42:55.445Z"
   },
   {
    "duration": 24,
    "start_time": "2022-06-02T12:42:55.498Z"
   },
   {
    "duration": 20,
    "start_time": "2022-06-02T12:42:55.524Z"
   },
   {
    "duration": 30,
    "start_time": "2022-06-02T12:42:55.546Z"
   },
   {
    "duration": 14,
    "start_time": "2022-06-02T12:42:55.578Z"
   },
   {
    "duration": 1142,
    "start_time": "2022-06-02T14:13:09.050Z"
   },
   {
    "duration": 49,
    "start_time": "2022-06-02T14:13:10.194Z"
   },
   {
    "duration": 12,
    "start_time": "2022-06-02T14:13:10.245Z"
   },
   {
    "duration": 11,
    "start_time": "2022-06-02T14:13:10.258Z"
   },
   {
    "duration": 6,
    "start_time": "2022-06-02T14:13:10.272Z"
   },
   {
    "duration": 8,
    "start_time": "2022-06-02T14:13:10.280Z"
   },
   {
    "duration": 19,
    "start_time": "2022-06-02T14:13:10.290Z"
   },
   {
    "duration": 169,
    "start_time": "2022-06-02T14:13:10.311Z"
   },
   {
    "duration": 30,
    "start_time": "2022-06-02T14:13:10.481Z"
   },
   {
    "duration": 130,
    "start_time": "2022-06-02T14:13:10.513Z"
   },
   {
    "duration": 21,
    "start_time": "2022-06-02T14:13:10.645Z"
   },
   {
    "duration": 48,
    "start_time": "2022-06-02T14:13:10.675Z"
   },
   {
    "duration": 29,
    "start_time": "2022-06-02T14:13:10.724Z"
   },
   {
    "duration": 43,
    "start_time": "2022-06-02T14:13:10.756Z"
   },
   {
    "duration": 105,
    "start_time": "2022-06-02T14:13:10.801Z"
   },
   {
    "duration": 19,
    "start_time": "2022-06-02T14:13:10.908Z"
   },
   {
    "duration": 67,
    "start_time": "2022-06-02T14:13:10.929Z"
   },
   {
    "duration": 14,
    "start_time": "2022-06-02T14:13:10.998Z"
   },
   {
    "duration": 32,
    "start_time": "2022-06-02T14:13:11.014Z"
   },
   {
    "duration": 39,
    "start_time": "2022-06-02T14:13:11.048Z"
   },
   {
    "duration": 20,
    "start_time": "2022-06-02T14:13:11.088Z"
   },
   {
    "duration": 149,
    "start_time": "2022-06-02T14:13:11.109Z"
   },
   {
    "duration": 24,
    "start_time": "2022-06-02T14:13:11.259Z"
   },
   {
    "duration": 13,
    "start_time": "2022-06-02T14:13:11.284Z"
   },
   {
    "duration": 24,
    "start_time": "2022-06-02T14:13:11.298Z"
   },
   {
    "duration": 71,
    "start_time": "2022-06-02T14:13:11.323Z"
   },
   {
    "duration": 12,
    "start_time": "2022-06-02T14:13:11.396Z"
   },
   {
    "duration": 15,
    "start_time": "2022-06-02T14:13:11.410Z"
   },
   {
    "duration": 48,
    "start_time": "2022-06-02T14:13:11.427Z"
   },
   {
    "duration": 19,
    "start_time": "2022-06-02T14:13:11.477Z"
   },
   {
    "duration": 30,
    "start_time": "2022-06-02T14:13:11.498Z"
   },
   {
    "duration": 11,
    "start_time": "2022-06-02T14:13:11.530Z"
   },
   {
    "duration": 1090,
    "start_time": "2022-06-02T14:13:24.115Z"
   },
   {
    "duration": 49,
    "start_time": "2022-06-02T14:13:25.207Z"
   },
   {
    "duration": 13,
    "start_time": "2022-06-02T14:13:25.257Z"
   },
   {
    "duration": 8,
    "start_time": "2022-06-02T14:13:25.272Z"
   },
   {
    "duration": 7,
    "start_time": "2022-06-02T14:13:25.281Z"
   },
   {
    "duration": 8,
    "start_time": "2022-06-02T14:13:25.290Z"
   },
   {
    "duration": 14,
    "start_time": "2022-06-02T14:13:25.300Z"
   },
   {
    "duration": 188,
    "start_time": "2022-06-02T14:13:25.316Z"
   },
   {
    "duration": 24,
    "start_time": "2022-06-02T14:13:25.506Z"
   },
   {
    "duration": 130,
    "start_time": "2022-06-02T14:13:25.533Z"
   },
   {
    "duration": 28,
    "start_time": "2022-06-02T14:13:25.665Z"
   },
   {
    "duration": 49,
    "start_time": "2022-06-02T14:13:25.695Z"
   },
   {
    "duration": 53,
    "start_time": "2022-06-02T14:13:25.746Z"
   },
   {
    "duration": 30,
    "start_time": "2022-06-02T14:13:25.801Z"
   },
   {
    "duration": 139,
    "start_time": "2022-06-02T14:13:25.833Z"
   },
   {
    "duration": 20,
    "start_time": "2022-06-02T14:13:25.974Z"
   },
   {
    "duration": 53,
    "start_time": "2022-06-02T14:13:25.996Z"
   },
   {
    "duration": 33,
    "start_time": "2022-06-02T14:13:26.051Z"
   },
   {
    "duration": 36,
    "start_time": "2022-06-02T14:13:26.086Z"
   },
   {
    "duration": 22,
    "start_time": "2022-06-02T14:13:26.123Z"
   },
   {
    "duration": 48,
    "start_time": "2022-06-02T14:13:26.147Z"
   },
   {
    "duration": 156,
    "start_time": "2022-06-02T14:13:26.197Z"
   },
   {
    "duration": 24,
    "start_time": "2022-06-02T14:13:26.355Z"
   },
   {
    "duration": 13,
    "start_time": "2022-06-02T14:13:26.381Z"
   },
   {
    "duration": 27,
    "start_time": "2022-06-02T14:13:26.396Z"
   },
   {
    "duration": 81,
    "start_time": "2022-06-02T14:13:26.425Z"
   },
   {
    "duration": 14,
    "start_time": "2022-06-02T14:13:26.508Z"
   },
   {
    "duration": 21,
    "start_time": "2022-06-02T14:13:26.525Z"
   },
   {
    "duration": 42,
    "start_time": "2022-06-02T14:13:26.548Z"
   },
   {
    "duration": 25,
    "start_time": "2022-06-02T14:13:26.593Z"
   },
   {
    "duration": 31,
    "start_time": "2022-06-02T14:13:26.619Z"
   },
   {
    "duration": 11,
    "start_time": "2022-06-02T14:13:26.651Z"
   },
   {
    "duration": 1210,
    "start_time": "2022-06-02T14:39:01.323Z"
   },
   {
    "duration": 55,
    "start_time": "2022-06-02T14:39:02.535Z"
   },
   {
    "duration": 11,
    "start_time": "2022-06-02T14:39:02.592Z"
   },
   {
    "duration": 9,
    "start_time": "2022-06-02T14:39:02.605Z"
   },
   {
    "duration": 6,
    "start_time": "2022-06-02T14:39:02.615Z"
   },
   {
    "duration": 12,
    "start_time": "2022-06-02T14:39:02.622Z"
   },
   {
    "duration": 16,
    "start_time": "2022-06-02T14:39:02.635Z"
   },
   {
    "duration": 189,
    "start_time": "2022-06-02T14:39:02.652Z"
   },
   {
    "duration": 34,
    "start_time": "2022-06-02T14:39:02.842Z"
   },
   {
    "duration": 135,
    "start_time": "2022-06-02T14:39:02.879Z"
   },
   {
    "duration": 19,
    "start_time": "2022-06-02T14:39:03.016Z"
   },
   {
    "duration": 67,
    "start_time": "2022-06-02T14:39:03.037Z"
   },
   {
    "duration": 99,
    "start_time": "2022-06-02T14:39:03.106Z"
   },
   {
    "duration": 18,
    "start_time": "2022-06-02T14:39:03.206Z"
   },
   {
    "duration": 63,
    "start_time": "2022-06-02T14:39:03.226Z"
   },
   {
    "duration": 14,
    "start_time": "2022-06-02T14:39:03.291Z"
   },
   {
    "duration": 31,
    "start_time": "2022-06-02T14:39:03.306Z"
   },
   {
    "duration": 173,
    "start_time": "2022-06-02T14:39:03.339Z"
   },
   {
    "duration": 22,
    "start_time": "2022-06-02T14:39:03.513Z"
   },
   {
    "duration": 15,
    "start_time": "2022-06-02T14:39:03.537Z"
   },
   {
    "duration": 30,
    "start_time": "2022-06-02T14:39:03.574Z"
   },
   {
    "duration": 45,
    "start_time": "2022-06-02T14:39:03.606Z"
   },
   {
    "duration": 35,
    "start_time": "2022-06-02T14:39:03.653Z"
   },
   {
    "duration": 24,
    "start_time": "2022-06-02T14:39:03.691Z"
   },
   {
    "duration": 30,
    "start_time": "2022-06-02T14:39:03.717Z"
   },
   {
    "duration": 10,
    "start_time": "2022-06-02T14:39:03.748Z"
   },
   {
    "duration": 43,
    "start_time": "2022-06-02T14:39:03.760Z"
   },
   {
    "duration": 32,
    "start_time": "2022-06-02T14:39:03.806Z"
   },
   {
    "duration": 37,
    "start_time": "2022-06-02T14:39:03.840Z"
   },
   {
    "duration": 31,
    "start_time": "2022-06-02T14:39:03.879Z"
   },
   {
    "duration": 24,
    "start_time": "2022-06-02T14:39:03.912Z"
   },
   {
    "duration": 51,
    "start_time": "2022-06-02T14:39:03.939Z"
   },
   {
    "duration": 1104,
    "start_time": "2022-06-02T16:03:45.342Z"
   },
   {
    "duration": 47,
    "start_time": "2022-06-02T16:03:46.447Z"
   },
   {
    "duration": 10,
    "start_time": "2022-06-02T16:03:46.496Z"
   },
   {
    "duration": 10,
    "start_time": "2022-06-02T16:03:46.508Z"
   },
   {
    "duration": 10,
    "start_time": "2022-06-02T16:03:46.519Z"
   },
   {
    "duration": 6,
    "start_time": "2022-06-02T16:03:46.530Z"
   },
   {
    "duration": 19,
    "start_time": "2022-06-02T16:03:46.538Z"
   },
   {
    "duration": 165,
    "start_time": "2022-06-02T16:03:46.558Z"
   },
   {
    "duration": 21,
    "start_time": "2022-06-02T16:03:46.725Z"
   },
   {
    "duration": 99,
    "start_time": "2022-06-02T16:03:46.748Z"
   },
   {
    "duration": 27,
    "start_time": "2022-06-02T16:03:46.848Z"
   },
   {
    "duration": 42,
    "start_time": "2022-06-02T16:03:46.877Z"
   },
   {
    "duration": 88,
    "start_time": "2022-06-02T16:03:46.921Z"
   },
   {
    "duration": 17,
    "start_time": "2022-06-02T16:03:47.010Z"
   },
   {
    "duration": 53,
    "start_time": "2022-06-02T16:03:47.029Z"
   },
   {
    "duration": 13,
    "start_time": "2022-06-02T16:03:47.083Z"
   },
   {
    "duration": 35,
    "start_time": "2022-06-02T16:03:47.098Z"
   },
   {
    "duration": 136,
    "start_time": "2022-06-02T16:03:47.134Z"
   },
   {
    "duration": 19,
    "start_time": "2022-06-02T16:03:47.274Z"
   },
   {
    "duration": 11,
    "start_time": "2022-06-02T16:03:47.294Z"
   },
   {
    "duration": 21,
    "start_time": "2022-06-02T16:03:47.307Z"
   },
   {
    "duration": 58,
    "start_time": "2022-06-02T16:03:47.330Z"
   },
   {
    "duration": 10,
    "start_time": "2022-06-02T16:03:47.390Z"
   },
   {
    "duration": 14,
    "start_time": "2022-06-02T16:03:47.401Z"
   },
   {
    "duration": 18,
    "start_time": "2022-06-02T16:03:47.416Z"
   },
   {
    "duration": 9,
    "start_time": "2022-06-02T16:03:47.435Z"
   },
   {
    "duration": 44,
    "start_time": "2022-06-02T16:03:47.446Z"
   },
   {
    "duration": 27,
    "start_time": "2022-06-02T16:03:47.493Z"
   },
   {
    "duration": 18,
    "start_time": "2022-06-02T16:03:47.521Z"
   },
   {
    "duration": 37,
    "start_time": "2022-06-02T16:03:47.541Z"
   },
   {
    "duration": 20,
    "start_time": "2022-06-02T16:03:47.580Z"
   },
   {
    "duration": 16,
    "start_time": "2022-06-02T16:03:47.602Z"
   },
   {
    "duration": 95,
    "start_time": "2022-06-02T16:04:36.966Z"
   },
   {
    "duration": 5,
    "start_time": "2022-06-02T16:05:59.968Z"
   },
   {
    "duration": 11,
    "start_time": "2022-06-02T16:06:27.204Z"
   },
   {
    "duration": 9,
    "start_time": "2022-06-02T16:08:15.983Z"
   },
   {
    "duration": 9,
    "start_time": "2022-06-02T16:08:26.550Z"
   },
   {
    "duration": 9,
    "start_time": "2022-06-02T16:13:44.849Z"
   },
   {
    "duration": 9,
    "start_time": "2022-06-02T16:16:50.021Z"
   },
   {
    "duration": 57,
    "start_time": "2022-06-02T16:18:00.097Z"
   },
   {
    "duration": 9,
    "start_time": "2022-06-02T16:18:10.727Z"
   },
   {
    "duration": 8,
    "start_time": "2022-06-02T16:19:40.645Z"
   },
   {
    "duration": 10,
    "start_time": "2022-06-02T16:19:55.905Z"
   },
   {
    "duration": 9,
    "start_time": "2022-06-02T16:20:39.297Z"
   },
   {
    "duration": 980,
    "start_time": "2022-06-02T16:22:03.377Z"
   },
   {
    "duration": 46,
    "start_time": "2022-06-02T16:22:04.358Z"
   },
   {
    "duration": 10,
    "start_time": "2022-06-02T16:22:04.405Z"
   },
   {
    "duration": 8,
    "start_time": "2022-06-02T16:22:04.417Z"
   },
   {
    "duration": 6,
    "start_time": "2022-06-02T16:22:04.426Z"
   },
   {
    "duration": 7,
    "start_time": "2022-06-02T16:22:04.434Z"
   },
   {
    "duration": 16,
    "start_time": "2022-06-02T16:22:04.442Z"
   },
   {
    "duration": 151,
    "start_time": "2022-06-02T16:22:04.460Z"
   },
   {
    "duration": 21,
    "start_time": "2022-06-02T16:22:04.613Z"
   },
   {
    "duration": 101,
    "start_time": "2022-06-02T16:22:04.636Z"
   },
   {
    "duration": 0,
    "start_time": "2022-06-02T16:22:04.738Z"
   },
   {
    "duration": 0,
    "start_time": "2022-06-02T16:22:04.740Z"
   },
   {
    "duration": 0,
    "start_time": "2022-06-02T16:22:04.741Z"
   },
   {
    "duration": 0,
    "start_time": "2022-06-02T16:22:04.742Z"
   },
   {
    "duration": 0,
    "start_time": "2022-06-02T16:22:04.743Z"
   },
   {
    "duration": 0,
    "start_time": "2022-06-02T16:22:04.744Z"
   },
   {
    "duration": 0,
    "start_time": "2022-06-02T16:22:04.745Z"
   },
   {
    "duration": 0,
    "start_time": "2022-06-02T16:22:04.746Z"
   },
   {
    "duration": 0,
    "start_time": "2022-06-02T16:22:04.747Z"
   },
   {
    "duration": 0,
    "start_time": "2022-06-02T16:22:04.748Z"
   },
   {
    "duration": 0,
    "start_time": "2022-06-02T16:22:04.749Z"
   },
   {
    "duration": 0,
    "start_time": "2022-06-02T16:22:04.750Z"
   },
   {
    "duration": 0,
    "start_time": "2022-06-02T16:22:04.751Z"
   },
   {
    "duration": 0,
    "start_time": "2022-06-02T16:22:04.775Z"
   },
   {
    "duration": 0,
    "start_time": "2022-06-02T16:22:04.776Z"
   },
   {
    "duration": 0,
    "start_time": "2022-06-02T16:22:04.777Z"
   },
   {
    "duration": 0,
    "start_time": "2022-06-02T16:22:04.778Z"
   },
   {
    "duration": 0,
    "start_time": "2022-06-02T16:22:04.779Z"
   },
   {
    "duration": 0,
    "start_time": "2022-06-02T16:22:04.780Z"
   },
   {
    "duration": 0,
    "start_time": "2022-06-02T16:22:04.781Z"
   },
   {
    "duration": 0,
    "start_time": "2022-06-02T16:22:04.783Z"
   },
   {
    "duration": 0,
    "start_time": "2022-06-02T16:22:04.783Z"
   },
   {
    "duration": 0,
    "start_time": "2022-06-02T16:22:04.784Z"
   },
   {
    "duration": 10,
    "start_time": "2022-06-02T16:23:19.532Z"
   },
   {
    "duration": 9,
    "start_time": "2022-06-02T16:26:09.100Z"
   },
   {
    "duration": 10,
    "start_time": "2022-06-02T16:29:39.424Z"
   },
   {
    "duration": 1100,
    "start_time": "2022-06-02T16:31:19.968Z"
   },
   {
    "duration": 48,
    "start_time": "2022-06-02T16:31:21.069Z"
   },
   {
    "duration": 11,
    "start_time": "2022-06-02T16:31:21.118Z"
   },
   {
    "duration": 7,
    "start_time": "2022-06-02T16:31:21.131Z"
   },
   {
    "duration": 5,
    "start_time": "2022-06-02T16:31:21.140Z"
   },
   {
    "duration": 7,
    "start_time": "2022-06-02T16:31:21.146Z"
   },
   {
    "duration": 14,
    "start_time": "2022-06-02T16:31:21.155Z"
   },
   {
    "duration": 156,
    "start_time": "2022-06-02T16:31:21.174Z"
   },
   {
    "duration": 23,
    "start_time": "2022-06-02T16:31:21.331Z"
   },
   {
    "duration": 23,
    "start_time": "2022-06-02T16:31:21.357Z"
   },
   {
    "duration": 107,
    "start_time": "2022-06-02T16:31:21.382Z"
   },
   {
    "duration": 19,
    "start_time": "2022-06-02T16:31:21.491Z"
   },
   {
    "duration": 42,
    "start_time": "2022-06-02T16:31:21.511Z"
   },
   {
    "duration": 91,
    "start_time": "2022-06-02T16:31:21.574Z"
   },
   {
    "duration": 18,
    "start_time": "2022-06-02T16:31:21.666Z"
   },
   {
    "duration": 46,
    "start_time": "2022-06-02T16:31:21.685Z"
   },
   {
    "duration": 14,
    "start_time": "2022-06-02T16:31:21.733Z"
   },
   {
    "duration": 48,
    "start_time": "2022-06-02T16:31:21.748Z"
   },
   {
    "duration": 140,
    "start_time": "2022-06-02T16:31:21.798Z"
   },
   {
    "duration": 20,
    "start_time": "2022-06-02T16:31:21.939Z"
   },
   {
    "duration": 23,
    "start_time": "2022-06-02T16:31:21.960Z"
   },
   {
    "duration": 27,
    "start_time": "2022-06-02T16:31:21.985Z"
   },
   {
    "duration": 43,
    "start_time": "2022-06-02T16:31:22.014Z"
   },
   {
    "duration": 12,
    "start_time": "2022-06-02T16:31:22.075Z"
   },
   {
    "duration": 15,
    "start_time": "2022-06-02T16:31:22.088Z"
   },
   {
    "duration": 29,
    "start_time": "2022-06-02T16:31:22.105Z"
   },
   {
    "duration": 10,
    "start_time": "2022-06-02T16:31:22.135Z"
   },
   {
    "duration": 40,
    "start_time": "2022-06-02T16:31:22.148Z"
   },
   {
    "duration": 31,
    "start_time": "2022-06-02T16:31:22.189Z"
   },
   {
    "duration": 19,
    "start_time": "2022-06-02T16:31:22.222Z"
   },
   {
    "duration": 50,
    "start_time": "2022-06-02T16:31:22.243Z"
   },
   {
    "duration": 26,
    "start_time": "2022-06-02T16:31:22.294Z"
   },
   {
    "duration": 23,
    "start_time": "2022-06-02T16:31:22.322Z"
   },
   {
    "duration": 25,
    "start_time": "2022-06-02T16:31:53.393Z"
   },
   {
    "duration": 26,
    "start_time": "2022-06-02T16:32:41.295Z"
   },
   {
    "duration": 43,
    "start_time": "2022-06-02T16:33:46.441Z"
   },
   {
    "duration": 25,
    "start_time": "2022-06-02T16:35:16.931Z"
   },
   {
    "duration": 24,
    "start_time": "2022-06-02T16:35:21.567Z"
   },
   {
    "duration": 31,
    "start_time": "2022-06-02T16:35:31.994Z"
   },
   {
    "duration": 104,
    "start_time": "2022-06-02T16:44:22.654Z"
   },
   {
    "duration": 17,
    "start_time": "2022-06-02T16:44:35.594Z"
   },
   {
    "duration": 14,
    "start_time": "2022-06-02T16:46:32.130Z"
   },
   {
    "duration": 16,
    "start_time": "2022-06-02T16:46:58.155Z"
   },
   {
    "duration": 15,
    "start_time": "2022-06-02T16:47:13.601Z"
   },
   {
    "duration": 66,
    "start_time": "2022-06-03T05:12:13.840Z"
   },
   {
    "duration": 1251,
    "start_time": "2022-06-03T05:12:26.970Z"
   },
   {
    "duration": 99,
    "start_time": "2022-06-03T05:12:28.223Z"
   },
   {
    "duration": 12,
    "start_time": "2022-06-03T05:12:28.323Z"
   },
   {
    "duration": 8,
    "start_time": "2022-06-03T05:12:28.337Z"
   },
   {
    "duration": 13,
    "start_time": "2022-06-03T05:12:28.347Z"
   },
   {
    "duration": 11,
    "start_time": "2022-06-03T05:12:28.362Z"
   },
   {
    "duration": 15,
    "start_time": "2022-06-03T05:12:28.375Z"
   },
   {
    "duration": 226,
    "start_time": "2022-06-03T05:12:28.393Z"
   },
   {
    "duration": 26,
    "start_time": "2022-06-03T05:12:28.621Z"
   },
   {
    "duration": 11,
    "start_time": "2022-06-03T05:12:28.650Z"
   },
   {
    "duration": 116,
    "start_time": "2022-06-03T05:12:28.663Z"
   },
   {
    "duration": 21,
    "start_time": "2022-06-03T05:12:28.781Z"
   },
   {
    "duration": 60,
    "start_time": "2022-06-03T05:12:28.804Z"
   },
   {
    "duration": 280,
    "start_time": "2022-06-03T05:12:28.867Z"
   },
   {
    "duration": 18,
    "start_time": "2022-06-03T05:12:29.149Z"
   },
   {
    "duration": 79,
    "start_time": "2022-06-03T05:12:29.169Z"
   },
   {
    "duration": 27,
    "start_time": "2022-06-03T05:12:29.250Z"
   },
   {
    "duration": 30,
    "start_time": "2022-06-03T05:12:29.279Z"
   },
   {
    "duration": 324,
    "start_time": "2022-06-03T05:12:29.310Z"
   },
   {
    "duration": 21,
    "start_time": "2022-06-03T05:12:29.636Z"
   },
   {
    "duration": 13,
    "start_time": "2022-06-03T05:12:29.658Z"
   },
   {
    "duration": 27,
    "start_time": "2022-06-03T05:12:29.672Z"
   },
   {
    "duration": 66,
    "start_time": "2022-06-03T05:12:29.701Z"
   },
   {
    "duration": 12,
    "start_time": "2022-06-03T05:12:29.770Z"
   },
   {
    "duration": 15,
    "start_time": "2022-06-03T05:12:29.784Z"
   },
   {
    "duration": 61,
    "start_time": "2022-06-03T05:12:29.827Z"
   },
   {
    "duration": 14,
    "start_time": "2022-06-03T05:12:29.890Z"
   },
   {
    "duration": 41,
    "start_time": "2022-06-03T05:12:29.907Z"
   },
   {
    "duration": 157,
    "start_time": "2022-06-03T05:12:29.950Z"
   },
   {
    "duration": 0,
    "start_time": "2022-06-03T05:12:30.108Z"
   },
   {
    "duration": 0,
    "start_time": "2022-06-03T05:12:30.110Z"
   },
   {
    "duration": 0,
    "start_time": "2022-06-03T05:12:30.111Z"
   },
   {
    "duration": 0,
    "start_time": "2022-06-03T05:12:30.113Z"
   },
   {
    "duration": 0,
    "start_time": "2022-06-03T05:12:30.114Z"
   },
   {
    "duration": 0,
    "start_time": "2022-06-03T05:12:30.115Z"
   },
   {
    "duration": 27,
    "start_time": "2022-06-03T05:13:00.352Z"
   },
   {
    "duration": 33,
    "start_time": "2022-06-03T05:13:06.546Z"
   },
   {
    "duration": 20,
    "start_time": "2022-06-03T05:13:10.767Z"
   },
   {
    "duration": 25,
    "start_time": "2022-06-03T05:15:12.377Z"
   },
   {
    "duration": 35,
    "start_time": "2022-06-03T05:15:17.596Z"
   },
   {
    "duration": 31,
    "start_time": "2022-06-03T05:15:45.934Z"
   },
   {
    "duration": 20,
    "start_time": "2022-06-03T05:20:44.291Z"
   },
   {
    "duration": 24,
    "start_time": "2022-06-03T05:21:31.417Z"
   },
   {
    "duration": 11,
    "start_time": "2022-06-03T05:44:51.402Z"
   },
   {
    "duration": 17,
    "start_time": "2022-06-03T05:46:02.565Z"
   },
   {
    "duration": 11,
    "start_time": "2022-06-03T05:46:18.098Z"
   },
   {
    "duration": 14,
    "start_time": "2022-06-03T05:46:26.807Z"
   },
   {
    "duration": 9,
    "start_time": "2022-06-03T05:46:33.526Z"
   },
   {
    "duration": 43,
    "start_time": "2022-06-03T07:17:01.920Z"
   },
   {
    "duration": 1136,
    "start_time": "2022-06-03T07:17:43.106Z"
   },
   {
    "duration": 64,
    "start_time": "2022-06-03T07:17:44.244Z"
   },
   {
    "duration": 18,
    "start_time": "2022-06-03T07:17:44.310Z"
   },
   {
    "duration": 18,
    "start_time": "2022-06-03T07:17:44.331Z"
   },
   {
    "duration": 10,
    "start_time": "2022-06-03T07:17:44.351Z"
   },
   {
    "duration": 14,
    "start_time": "2022-06-03T07:17:44.363Z"
   },
   {
    "duration": 19,
    "start_time": "2022-06-03T07:17:44.378Z"
   },
   {
    "duration": 171,
    "start_time": "2022-06-03T07:17:44.399Z"
   },
   {
    "duration": 28,
    "start_time": "2022-06-03T07:17:44.572Z"
   },
   {
    "duration": 26,
    "start_time": "2022-06-03T07:17:44.604Z"
   },
   {
    "duration": 113,
    "start_time": "2022-06-03T07:17:44.632Z"
   },
   {
    "duration": 20,
    "start_time": "2022-06-03T07:17:44.747Z"
   },
   {
    "duration": 71,
    "start_time": "2022-06-03T07:17:44.768Z"
   },
   {
    "duration": 123,
    "start_time": "2022-06-03T07:17:44.841Z"
   },
   {
    "duration": 26,
    "start_time": "2022-06-03T07:17:44.967Z"
   },
   {
    "duration": 69,
    "start_time": "2022-06-03T07:17:44.995Z"
   },
   {
    "duration": 15,
    "start_time": "2022-06-03T07:17:45.066Z"
   },
   {
    "duration": 44,
    "start_time": "2022-06-03T07:17:45.083Z"
   },
   {
    "duration": 145,
    "start_time": "2022-06-03T07:17:45.129Z"
   },
   {
    "duration": 33,
    "start_time": "2022-06-03T07:17:45.276Z"
   },
   {
    "duration": 25,
    "start_time": "2022-06-03T07:17:45.311Z"
   },
   {
    "duration": 45,
    "start_time": "2022-06-03T07:17:45.338Z"
   },
   {
    "duration": 61,
    "start_time": "2022-06-03T07:17:45.385Z"
   },
   {
    "duration": 12,
    "start_time": "2022-06-03T07:17:45.447Z"
   },
   {
    "duration": 28,
    "start_time": "2022-06-03T07:17:45.461Z"
   },
   {
    "duration": 36,
    "start_time": "2022-06-03T07:17:45.491Z"
   },
   {
    "duration": 13,
    "start_time": "2022-06-03T07:17:45.529Z"
   },
   {
    "duration": 39,
    "start_time": "2022-06-03T07:17:45.546Z"
   },
   {
    "duration": 51,
    "start_time": "2022-06-03T07:17:45.586Z"
   },
   {
    "duration": 32,
    "start_time": "2022-06-03T07:17:45.639Z"
   },
   {
    "duration": 16,
    "start_time": "2022-06-03T07:17:45.672Z"
   },
   {
    "duration": 46,
    "start_time": "2022-06-03T07:17:45.689Z"
   },
   {
    "duration": 23,
    "start_time": "2022-06-03T07:17:45.736Z"
   },
   {
    "duration": 23,
    "start_time": "2022-06-03T07:17:45.761Z"
   },
   {
    "duration": 59,
    "start_time": "2022-06-03T07:17:45.786Z"
   },
   {
    "duration": 12,
    "start_time": "2022-06-03T07:17:45.847Z"
   },
   {
    "duration": 25,
    "start_time": "2022-06-03T08:40:09.587Z"
   },
   {
    "duration": 18,
    "start_time": "2022-06-03T08:40:33.175Z"
   },
   {
    "duration": 35,
    "start_time": "2022-06-03T08:43:01.704Z"
   },
   {
    "duration": 18,
    "start_time": "2022-06-03T08:43:15.179Z"
   },
   {
    "duration": 29,
    "start_time": "2022-06-03T08:44:43.809Z"
   },
   {
    "duration": 19,
    "start_time": "2022-06-03T08:45:12.453Z"
   },
   {
    "duration": 24,
    "start_time": "2022-06-03T08:46:34.740Z"
   },
   {
    "duration": 22,
    "start_time": "2022-06-03T08:46:42.281Z"
   },
   {
    "duration": 23,
    "start_time": "2022-06-03T08:47:05.546Z"
   },
   {
    "duration": 23,
    "start_time": "2022-06-03T08:47:26.952Z"
   },
   {
    "duration": 19,
    "start_time": "2022-06-03T08:47:32.667Z"
   },
   {
    "duration": 21,
    "start_time": "2022-06-03T08:47:37.470Z"
   },
   {
    "duration": 24,
    "start_time": "2022-06-03T08:48:06.143Z"
   },
   {
    "duration": 29,
    "start_time": "2022-06-03T08:48:20.523Z"
   },
   {
    "duration": 18,
    "start_time": "2022-06-03T08:48:28.699Z"
   },
   {
    "duration": 1167,
    "start_time": "2022-06-03T08:50:12.029Z"
   },
   {
    "duration": 91,
    "start_time": "2022-06-03T08:50:13.198Z"
   },
   {
    "duration": 18,
    "start_time": "2022-06-03T08:50:13.291Z"
   },
   {
    "duration": 20,
    "start_time": "2022-06-03T08:50:13.311Z"
   },
   {
    "duration": 20,
    "start_time": "2022-06-03T08:50:13.333Z"
   },
   {
    "duration": 33,
    "start_time": "2022-06-03T08:50:13.355Z"
   },
   {
    "duration": 35,
    "start_time": "2022-06-03T08:50:13.391Z"
   },
   {
    "duration": 292,
    "start_time": "2022-06-03T08:50:13.430Z"
   },
   {
    "duration": 43,
    "start_time": "2022-06-03T08:50:13.724Z"
   },
   {
    "duration": 10,
    "start_time": "2022-06-03T08:50:13.769Z"
   },
   {
    "duration": 153,
    "start_time": "2022-06-03T08:50:13.780Z"
   },
   {
    "duration": 28,
    "start_time": "2022-06-03T08:50:13.941Z"
   },
   {
    "duration": 57,
    "start_time": "2022-06-03T08:50:13.970Z"
   },
   {
    "duration": 315,
    "start_time": "2022-06-03T08:50:14.030Z"
   },
   {
    "duration": 21,
    "start_time": "2022-06-03T08:50:14.347Z"
   },
   {
    "duration": 69,
    "start_time": "2022-06-03T08:50:14.370Z"
   },
   {
    "duration": 21,
    "start_time": "2022-06-03T08:50:14.442Z"
   },
   {
    "duration": 75,
    "start_time": "2022-06-03T08:50:14.465Z"
   },
   {
    "duration": 217,
    "start_time": "2022-06-03T08:50:14.542Z"
   },
   {
    "duration": 24,
    "start_time": "2022-06-03T08:50:14.761Z"
   },
   {
    "duration": 49,
    "start_time": "2022-06-03T08:50:14.788Z"
   },
   {
    "duration": 35,
    "start_time": "2022-06-03T08:50:14.839Z"
   },
   {
    "duration": 64,
    "start_time": "2022-06-03T08:50:14.875Z"
   },
   {
    "duration": 20,
    "start_time": "2022-06-03T08:50:14.942Z"
   },
   {
    "duration": 43,
    "start_time": "2022-06-03T08:50:14.964Z"
   },
   {
    "duration": 57,
    "start_time": "2022-06-03T08:50:15.009Z"
   },
   {
    "duration": 11,
    "start_time": "2022-06-03T08:50:15.067Z"
   },
   {
    "duration": 62,
    "start_time": "2022-06-03T08:50:15.081Z"
   },
   {
    "duration": 29,
    "start_time": "2022-06-03T08:50:15.147Z"
   },
   {
    "duration": 62,
    "start_time": "2022-06-03T08:50:15.179Z"
   },
   {
    "duration": 18,
    "start_time": "2022-06-03T08:50:15.255Z"
   },
   {
    "duration": 29,
    "start_time": "2022-06-03T08:50:15.275Z"
   },
   {
    "duration": 41,
    "start_time": "2022-06-03T08:50:15.306Z"
   },
   {
    "duration": 27,
    "start_time": "2022-06-03T08:50:15.350Z"
   },
   {
    "duration": 25,
    "start_time": "2022-06-03T08:50:15.379Z"
   },
   {
    "duration": 33,
    "start_time": "2022-06-03T08:50:15.406Z"
   },
   {
    "duration": 23,
    "start_time": "2022-06-03T08:50:15.441Z"
   },
   {
    "duration": 52,
    "start_time": "2022-06-03T08:50:15.466Z"
   },
   {
    "duration": 31,
    "start_time": "2022-06-03T08:58:25.741Z"
   },
   {
    "duration": 31,
    "start_time": "2022-06-03T08:59:14.179Z"
   },
   {
    "duration": 43,
    "start_time": "2022-06-03T08:59:27.819Z"
   },
   {
    "duration": 4,
    "start_time": "2022-06-03T09:01:10.619Z"
   },
   {
    "duration": 118,
    "start_time": "2022-06-03T09:01:22.057Z"
   },
   {
    "duration": 1435,
    "start_time": "2022-06-03T09:01:43.152Z"
   },
   {
    "duration": 78,
    "start_time": "2022-06-03T09:01:44.589Z"
   },
   {
    "duration": 12,
    "start_time": "2022-06-03T09:01:44.669Z"
   },
   {
    "duration": 14,
    "start_time": "2022-06-03T09:01:44.683Z"
   },
   {
    "duration": 7,
    "start_time": "2022-06-03T09:01:44.698Z"
   },
   {
    "duration": 8,
    "start_time": "2022-06-03T09:01:44.707Z"
   },
   {
    "duration": 18,
    "start_time": "2022-06-03T09:01:44.716Z"
   },
   {
    "duration": 249,
    "start_time": "2022-06-03T09:01:44.736Z"
   },
   {
    "duration": 24,
    "start_time": "2022-06-03T09:01:44.987Z"
   },
   {
    "duration": 45,
    "start_time": "2022-06-03T09:01:45.013Z"
   },
   {
    "duration": 136,
    "start_time": "2022-06-03T09:01:45.060Z"
   },
   {
    "duration": 19,
    "start_time": "2022-06-03T09:01:45.197Z"
   },
   {
    "duration": 72,
    "start_time": "2022-06-03T09:01:45.217Z"
   },
   {
    "duration": 264,
    "start_time": "2022-06-03T09:01:45.291Z"
   },
   {
    "duration": 20,
    "start_time": "2022-06-03T09:01:45.557Z"
   },
   {
    "duration": 68,
    "start_time": "2022-06-03T09:01:45.579Z"
   },
   {
    "duration": 15,
    "start_time": "2022-06-03T09:01:45.650Z"
   },
   {
    "duration": 65,
    "start_time": "2022-06-03T09:01:45.666Z"
   },
   {
    "duration": 287,
    "start_time": "2022-06-03T09:01:45.735Z"
   },
   {
    "duration": 25,
    "start_time": "2022-06-03T09:01:46.023Z"
   },
   {
    "duration": 26,
    "start_time": "2022-06-03T09:01:46.050Z"
   },
   {
    "duration": 64,
    "start_time": "2022-06-03T09:01:46.078Z"
   },
   {
    "duration": 63,
    "start_time": "2022-06-03T09:01:46.146Z"
   },
   {
    "duration": 26,
    "start_time": "2022-06-03T09:01:46.210Z"
   },
   {
    "duration": 29,
    "start_time": "2022-06-03T09:01:46.239Z"
   },
   {
    "duration": 33,
    "start_time": "2022-06-03T09:01:46.270Z"
   },
   {
    "duration": 13,
    "start_time": "2022-06-03T09:01:46.305Z"
   },
   {
    "duration": 42,
    "start_time": "2022-06-03T09:01:46.337Z"
   },
   {
    "duration": 31,
    "start_time": "2022-06-03T09:01:46.381Z"
   },
   {
    "duration": 53,
    "start_time": "2022-06-03T09:01:46.415Z"
   },
   {
    "duration": 19,
    "start_time": "2022-06-03T09:01:46.469Z"
   },
   {
    "duration": 48,
    "start_time": "2022-06-03T09:01:46.490Z"
   },
   {
    "duration": 38,
    "start_time": "2022-06-03T09:01:46.540Z"
   },
   {
    "duration": 23,
    "start_time": "2022-06-03T09:01:46.579Z"
   },
   {
    "duration": 42,
    "start_time": "2022-06-03T09:01:46.604Z"
   },
   {
    "duration": 31,
    "start_time": "2022-06-03T09:01:46.647Z"
   },
   {
    "duration": 32,
    "start_time": "2022-06-03T09:01:46.679Z"
   },
   {
    "duration": 23,
    "start_time": "2022-06-03T09:01:46.713Z"
   },
   {
    "duration": 37,
    "start_time": "2022-06-03T09:01:46.738Z"
   },
   {
    "duration": 115,
    "start_time": "2022-06-03T09:01:46.777Z"
   },
   {
    "duration": 5,
    "start_time": "2022-06-03T09:03:18.219Z"
   },
   {
    "duration": 55,
    "start_time": "2022-06-03T09:25:52.862Z"
   },
   {
    "duration": 1110,
    "start_time": "2022-06-03T09:27:17.010Z"
   },
   {
    "duration": 75,
    "start_time": "2022-06-03T09:27:18.122Z"
   },
   {
    "duration": 11,
    "start_time": "2022-06-03T09:27:18.199Z"
   },
   {
    "duration": 21,
    "start_time": "2022-06-03T09:27:18.212Z"
   },
   {
    "duration": 6,
    "start_time": "2022-06-03T09:27:18.235Z"
   },
   {
    "duration": 21,
    "start_time": "2022-06-03T09:27:18.243Z"
   },
   {
    "duration": 24,
    "start_time": "2022-06-03T09:27:18.265Z"
   },
   {
    "duration": 241,
    "start_time": "2022-06-03T09:27:18.291Z"
   },
   {
    "duration": 23,
    "start_time": "2022-06-03T09:27:18.534Z"
   },
   {
    "duration": 9,
    "start_time": "2022-06-03T09:27:18.560Z"
   },
   {
    "duration": 117,
    "start_time": "2022-06-03T09:27:18.571Z"
   },
   {
    "duration": 19,
    "start_time": "2022-06-03T09:27:18.690Z"
   },
   {
    "duration": 74,
    "start_time": "2022-06-03T09:27:18.711Z"
   },
   {
    "duration": 276,
    "start_time": "2022-06-03T09:27:18.787Z"
   },
   {
    "duration": 18,
    "start_time": "2022-06-03T09:27:19.065Z"
   },
   {
    "duration": 49,
    "start_time": "2022-06-03T09:27:19.085Z"
   },
   {
    "duration": 14,
    "start_time": "2022-06-03T09:27:19.136Z"
   },
   {
    "duration": 32,
    "start_time": "2022-06-03T09:27:19.152Z"
   },
   {
    "duration": 319,
    "start_time": "2022-06-03T09:27:19.186Z"
   },
   {
    "duration": 20,
    "start_time": "2022-06-03T09:27:19.507Z"
   },
   {
    "duration": 16,
    "start_time": "2022-06-03T09:27:19.528Z"
   },
   {
    "duration": 23,
    "start_time": "2022-06-03T09:27:19.546Z"
   },
   {
    "duration": 59,
    "start_time": "2022-06-03T09:27:19.571Z"
   },
   {
    "duration": 13,
    "start_time": "2022-06-03T09:27:19.632Z"
   },
   {
    "duration": 17,
    "start_time": "2022-06-03T09:27:19.647Z"
   },
   {
    "duration": 21,
    "start_time": "2022-06-03T09:27:19.665Z"
   },
   {
    "duration": 10,
    "start_time": "2022-06-03T09:27:19.688Z"
   },
   {
    "duration": 48,
    "start_time": "2022-06-03T09:27:19.701Z"
   },
   {
    "duration": 27,
    "start_time": "2022-06-03T09:27:19.751Z"
   },
   {
    "duration": 58,
    "start_time": "2022-06-03T09:27:19.780Z"
   },
   {
    "duration": 16,
    "start_time": "2022-06-03T09:27:19.840Z"
   },
   {
    "duration": 21,
    "start_time": "2022-06-03T09:27:19.858Z"
   },
   {
    "duration": 48,
    "start_time": "2022-06-03T09:27:19.881Z"
   },
   {
    "duration": 24,
    "start_time": "2022-06-03T09:27:19.931Z"
   },
   {
    "duration": 23,
    "start_time": "2022-06-03T09:27:19.956Z"
   },
   {
    "duration": 10,
    "start_time": "2022-06-03T09:27:19.981Z"
   },
   {
    "duration": 49,
    "start_time": "2022-06-03T09:27:19.993Z"
   },
   {
    "duration": 20,
    "start_time": "2022-06-03T09:27:20.044Z"
   },
   {
    "duration": 31,
    "start_time": "2022-06-03T09:27:20.065Z"
   },
   {
    "duration": 5,
    "start_time": "2022-06-03T09:27:20.097Z"
   },
   {
    "duration": 136,
    "start_time": "2022-06-03T09:27:20.127Z"
   },
   {
    "duration": 94,
    "start_time": "2022-06-03T09:30:23.515Z"
   },
   {
    "duration": 81,
    "start_time": "2022-06-03T09:31:47.458Z"
   },
   {
    "duration": 82,
    "start_time": "2022-06-03T09:34:37.151Z"
   },
   {
    "duration": 1056,
    "start_time": "2022-06-03T09:36:56.075Z"
   },
   {
    "duration": 50,
    "start_time": "2022-06-03T09:36:57.133Z"
   },
   {
    "duration": 12,
    "start_time": "2022-06-03T09:36:57.184Z"
   },
   {
    "duration": 18,
    "start_time": "2022-06-03T09:36:57.198Z"
   },
   {
    "duration": 28,
    "start_time": "2022-06-03T09:36:57.218Z"
   },
   {
    "duration": 20,
    "start_time": "2022-06-03T09:36:57.248Z"
   },
   {
    "duration": 31,
    "start_time": "2022-06-03T09:36:57.270Z"
   },
   {
    "duration": 187,
    "start_time": "2022-06-03T09:36:57.303Z"
   },
   {
    "duration": 23,
    "start_time": "2022-06-03T09:36:57.492Z"
   },
   {
    "duration": 13,
    "start_time": "2022-06-03T09:36:57.527Z"
   },
   {
    "duration": 117,
    "start_time": "2022-06-03T09:36:57.541Z"
   },
   {
    "duration": 20,
    "start_time": "2022-06-03T09:36:57.660Z"
   },
   {
    "duration": 57,
    "start_time": "2022-06-03T09:36:57.681Z"
   },
   {
    "duration": 93,
    "start_time": "2022-06-03T09:36:57.740Z"
   },
   {
    "duration": 17,
    "start_time": "2022-06-03T09:36:57.834Z"
   },
   {
    "duration": 47,
    "start_time": "2022-06-03T09:36:57.853Z"
   },
   {
    "duration": 29,
    "start_time": "2022-06-03T09:36:57.902Z"
   },
   {
    "duration": 46,
    "start_time": "2022-06-03T09:36:57.932Z"
   },
   {
    "duration": 147,
    "start_time": "2022-06-03T09:36:57.979Z"
   },
   {
    "duration": 20,
    "start_time": "2022-06-03T09:36:58.128Z"
   },
   {
    "duration": 27,
    "start_time": "2022-06-03T09:36:58.150Z"
   },
   {
    "duration": 28,
    "start_time": "2022-06-03T09:36:58.179Z"
   },
   {
    "duration": 67,
    "start_time": "2022-06-03T09:36:58.208Z"
   },
   {
    "duration": 11,
    "start_time": "2022-06-03T09:36:58.276Z"
   },
   {
    "duration": 29,
    "start_time": "2022-06-03T09:36:58.289Z"
   },
   {
    "duration": 95,
    "start_time": "2022-06-03T09:36:58.319Z"
   },
   {
    "duration": 45,
    "start_time": "2022-06-03T09:36:58.415Z"
   },
   {
    "duration": 49,
    "start_time": "2022-06-03T09:36:58.463Z"
   },
   {
    "duration": 27,
    "start_time": "2022-06-03T09:36:58.514Z"
   },
   {
    "duration": 32,
    "start_time": "2022-06-03T09:36:58.542Z"
   },
   {
    "duration": 14,
    "start_time": "2022-06-03T09:36:58.576Z"
   },
   {
    "duration": 38,
    "start_time": "2022-06-03T09:36:58.592Z"
   },
   {
    "duration": 22,
    "start_time": "2022-06-03T09:36:58.632Z"
   },
   {
    "duration": 24,
    "start_time": "2022-06-03T09:36:58.656Z"
   },
   {
    "duration": 21,
    "start_time": "2022-06-03T09:36:58.681Z"
   },
   {
    "duration": 9,
    "start_time": "2022-06-03T09:36:58.727Z"
   },
   {
    "duration": 18,
    "start_time": "2022-06-03T09:36:58.738Z"
   },
   {
    "duration": 18,
    "start_time": "2022-06-03T09:36:58.758Z"
   },
   {
    "duration": 50,
    "start_time": "2022-06-03T09:36:58.778Z"
   },
   {
    "duration": 5,
    "start_time": "2022-06-03T09:36:58.829Z"
   },
   {
    "duration": 124,
    "start_time": "2022-06-03T09:36:58.836Z"
   },
   {
    "duration": 1293,
    "start_time": "2022-06-03T11:44:52.470Z"
   },
   {
    "duration": 91,
    "start_time": "2022-06-03T11:44:53.766Z"
   },
   {
    "duration": 12,
    "start_time": "2022-06-03T11:44:53.859Z"
   },
   {
    "duration": 11,
    "start_time": "2022-06-03T11:44:53.872Z"
   },
   {
    "duration": 12,
    "start_time": "2022-06-03T11:44:53.885Z"
   },
   {
    "duration": 12,
    "start_time": "2022-06-03T11:44:53.899Z"
   },
   {
    "duration": 19,
    "start_time": "2022-06-03T11:44:53.912Z"
   },
   {
    "duration": 472,
    "start_time": "2022-06-03T11:44:53.933Z"
   },
   {
    "duration": 28,
    "start_time": "2022-06-03T11:44:54.407Z"
   },
   {
    "duration": 13,
    "start_time": "2022-06-03T11:44:54.436Z"
   },
   {
    "duration": 121,
    "start_time": "2022-06-03T11:44:54.451Z"
   },
   {
    "duration": 26,
    "start_time": "2022-06-03T11:44:54.574Z"
   },
   {
    "duration": 76,
    "start_time": "2022-06-03T11:44:54.602Z"
   },
   {
    "duration": 156,
    "start_time": "2022-06-03T11:44:54.683Z"
   },
   {
    "duration": 27,
    "start_time": "2022-06-03T11:44:54.840Z"
   },
   {
    "duration": 62,
    "start_time": "2022-06-03T11:44:54.868Z"
   },
   {
    "duration": 23,
    "start_time": "2022-06-03T11:44:54.932Z"
   },
   {
    "duration": 41,
    "start_time": "2022-06-03T11:44:54.957Z"
   },
   {
    "duration": 413,
    "start_time": "2022-06-03T11:44:55.000Z"
   },
   {
    "duration": 24,
    "start_time": "2022-06-03T11:44:55.414Z"
   },
   {
    "duration": 18,
    "start_time": "2022-06-03T11:44:55.440Z"
   },
   {
    "duration": 27,
    "start_time": "2022-06-03T11:44:55.459Z"
   },
   {
    "duration": 56,
    "start_time": "2022-06-03T11:44:55.487Z"
   },
   {
    "duration": 22,
    "start_time": "2022-06-03T11:44:55.544Z"
   },
   {
    "duration": 19,
    "start_time": "2022-06-03T11:44:55.567Z"
   },
   {
    "duration": 50,
    "start_time": "2022-06-03T11:44:55.587Z"
   },
   {
    "duration": 14,
    "start_time": "2022-06-03T11:44:55.638Z"
   },
   {
    "duration": 35,
    "start_time": "2022-06-03T11:44:55.655Z"
   },
   {
    "duration": 25,
    "start_time": "2022-06-03T11:44:55.692Z"
   },
   {
    "duration": 53,
    "start_time": "2022-06-03T11:44:55.718Z"
   },
   {
    "duration": 15,
    "start_time": "2022-06-03T11:44:55.772Z"
   },
   {
    "duration": 21,
    "start_time": "2022-06-03T11:44:55.788Z"
   },
   {
    "duration": 55,
    "start_time": "2022-06-03T11:44:55.810Z"
   },
   {
    "duration": 25,
    "start_time": "2022-06-03T11:44:55.866Z"
   },
   {
    "duration": 20,
    "start_time": "2022-06-03T11:44:55.893Z"
   },
   {
    "duration": 32,
    "start_time": "2022-06-03T11:44:55.915Z"
   },
   {
    "duration": 23,
    "start_time": "2022-06-03T11:44:55.949Z"
   },
   {
    "duration": 22,
    "start_time": "2022-06-03T11:44:55.973Z"
   },
   {
    "duration": 64,
    "start_time": "2022-06-03T11:44:55.997Z"
   },
   {
    "duration": 6,
    "start_time": "2022-06-03T11:44:56.063Z"
   },
   {
    "duration": 120,
    "start_time": "2022-06-03T11:44:56.073Z"
   },
   {
    "duration": 1135,
    "start_time": "2022-06-03T11:49:03.114Z"
   },
   {
    "duration": 46,
    "start_time": "2022-06-03T11:49:04.257Z"
   },
   {
    "duration": 12,
    "start_time": "2022-06-03T11:49:04.305Z"
   },
   {
    "duration": 9,
    "start_time": "2022-06-03T11:49:04.318Z"
   },
   {
    "duration": 8,
    "start_time": "2022-06-03T11:49:04.328Z"
   },
   {
    "duration": 19,
    "start_time": "2022-06-03T11:49:04.337Z"
   },
   {
    "duration": 18,
    "start_time": "2022-06-03T11:49:04.357Z"
   },
   {
    "duration": 178,
    "start_time": "2022-06-03T11:49:04.377Z"
   },
   {
    "duration": 30,
    "start_time": "2022-06-03T11:49:04.559Z"
   },
   {
    "duration": 12,
    "start_time": "2022-06-03T11:49:04.592Z"
   },
   {
    "duration": 141,
    "start_time": "2022-06-03T11:49:04.606Z"
   },
   {
    "duration": 26,
    "start_time": "2022-06-03T11:49:04.748Z"
   },
   {
    "duration": 43,
    "start_time": "2022-06-03T11:49:04.776Z"
   },
   {
    "duration": 104,
    "start_time": "2022-06-03T11:49:04.821Z"
   },
   {
    "duration": 36,
    "start_time": "2022-06-03T11:49:04.927Z"
   },
   {
    "duration": 72,
    "start_time": "2022-06-03T11:49:04.965Z"
   },
   {
    "duration": 28,
    "start_time": "2022-06-03T11:49:05.040Z"
   },
   {
    "duration": 37,
    "start_time": "2022-06-03T11:49:05.070Z"
   },
   {
    "duration": 156,
    "start_time": "2022-06-03T11:49:05.109Z"
   },
   {
    "duration": 23,
    "start_time": "2022-06-03T11:49:05.267Z"
   },
   {
    "duration": 14,
    "start_time": "2022-06-03T11:49:05.291Z"
   },
   {
    "duration": 55,
    "start_time": "2022-06-03T11:49:05.307Z"
   },
   {
    "duration": 42,
    "start_time": "2022-06-03T11:49:05.363Z"
   },
   {
    "duration": 13,
    "start_time": "2022-06-03T11:49:05.406Z"
   },
   {
    "duration": 43,
    "start_time": "2022-06-03T11:49:05.421Z"
   },
   {
    "duration": 45,
    "start_time": "2022-06-03T11:49:05.466Z"
   },
   {
    "duration": 14,
    "start_time": "2022-06-03T11:49:05.513Z"
   },
   {
    "duration": 41,
    "start_time": "2022-06-03T11:49:05.532Z"
   },
   {
    "duration": 29,
    "start_time": "2022-06-03T11:49:05.575Z"
   },
   {
    "duration": 53,
    "start_time": "2022-06-03T11:49:05.606Z"
   },
   {
    "duration": 15,
    "start_time": "2022-06-03T11:49:05.661Z"
   },
   {
    "duration": 20,
    "start_time": "2022-06-03T11:49:05.678Z"
   },
   {
    "duration": 48,
    "start_time": "2022-06-03T11:49:05.700Z"
   },
   {
    "duration": 26,
    "start_time": "2022-06-03T11:49:05.749Z"
   },
   {
    "duration": 20,
    "start_time": "2022-06-03T11:49:05.777Z"
   },
   {
    "duration": 9,
    "start_time": "2022-06-03T11:49:05.798Z"
   },
   {
    "duration": 51,
    "start_time": "2022-06-03T11:49:05.809Z"
   },
   {
    "duration": 20,
    "start_time": "2022-06-03T11:49:05.862Z"
   },
   {
    "duration": 31,
    "start_time": "2022-06-03T11:49:05.884Z"
   },
   {
    "duration": 5,
    "start_time": "2022-06-03T11:49:05.917Z"
   },
   {
    "duration": 105,
    "start_time": "2022-06-03T11:49:05.942Z"
   },
   {
    "duration": 30,
    "start_time": "2022-06-03T11:53:25.378Z"
   },
   {
    "duration": 49,
    "start_time": "2022-06-03T11:54:02.608Z"
   },
   {
    "duration": 34,
    "start_time": "2022-06-03T11:57:50.356Z"
   },
   {
    "duration": 6,
    "start_time": "2022-06-03T11:58:40.363Z"
   },
   {
    "duration": 7,
    "start_time": "2022-06-03T11:59:01.514Z"
   },
   {
    "duration": 1194,
    "start_time": "2022-06-03T12:00:59.316Z"
   },
   {
    "duration": 70,
    "start_time": "2022-06-03T12:01:00.512Z"
   },
   {
    "duration": 13,
    "start_time": "2022-06-03T12:01:00.585Z"
   },
   {
    "duration": 67,
    "start_time": "2022-06-03T12:01:00.600Z"
   },
   {
    "duration": 27,
    "start_time": "2022-06-03T12:01:00.669Z"
   },
   {
    "duration": 43,
    "start_time": "2022-06-03T12:01:00.697Z"
   },
   {
    "duration": 40,
    "start_time": "2022-06-03T12:01:00.746Z"
   },
   {
    "duration": 213,
    "start_time": "2022-06-03T12:01:00.788Z"
   },
   {
    "duration": 39,
    "start_time": "2022-06-03T12:01:01.003Z"
   },
   {
    "duration": 17,
    "start_time": "2022-06-03T12:01:01.058Z"
   },
   {
    "duration": 135,
    "start_time": "2022-06-03T12:01:01.077Z"
   },
   {
    "duration": 43,
    "start_time": "2022-06-03T12:01:01.214Z"
   },
   {
    "duration": 71,
    "start_time": "2022-06-03T12:01:01.259Z"
   },
   {
    "duration": 122,
    "start_time": "2022-06-03T12:01:01.332Z"
   },
   {
    "duration": 20,
    "start_time": "2022-06-03T12:01:01.456Z"
   },
   {
    "duration": 59,
    "start_time": "2022-06-03T12:01:01.478Z"
   },
   {
    "duration": 27,
    "start_time": "2022-06-03T12:01:01.538Z"
   },
   {
    "duration": 61,
    "start_time": "2022-06-03T12:01:01.566Z"
   },
   {
    "duration": 161,
    "start_time": "2022-06-03T12:01:01.629Z"
   },
   {
    "duration": 24,
    "start_time": "2022-06-03T12:01:01.792Z"
   },
   {
    "duration": 41,
    "start_time": "2022-06-03T12:01:01.819Z"
   },
   {
    "duration": 37,
    "start_time": "2022-06-03T12:01:01.862Z"
   },
   {
    "duration": 71,
    "start_time": "2022-06-03T12:01:01.901Z"
   },
   {
    "duration": 14,
    "start_time": "2022-06-03T12:01:01.974Z"
   },
   {
    "duration": 35,
    "start_time": "2022-06-03T12:01:01.989Z"
   },
   {
    "duration": 35,
    "start_time": "2022-06-03T12:01:02.026Z"
   },
   {
    "duration": 15,
    "start_time": "2022-06-03T12:01:02.064Z"
   },
   {
    "duration": 65,
    "start_time": "2022-06-03T12:01:02.082Z"
   },
   {
    "duration": 37,
    "start_time": "2022-06-03T12:01:02.149Z"
   },
   {
    "duration": 34,
    "start_time": "2022-06-03T12:01:02.188Z"
   },
   {
    "duration": 36,
    "start_time": "2022-06-03T12:01:02.224Z"
   },
   {
    "duration": 36,
    "start_time": "2022-06-03T12:01:02.262Z"
   },
   {
    "duration": 24,
    "start_time": "2022-06-03T12:01:02.300Z"
   },
   {
    "duration": 38,
    "start_time": "2022-06-03T12:01:02.326Z"
   },
   {
    "duration": 24,
    "start_time": "2022-06-03T12:01:02.366Z"
   },
   {
    "duration": 14,
    "start_time": "2022-06-03T12:01:02.392Z"
   },
   {
    "duration": 60,
    "start_time": "2022-06-03T12:01:02.408Z"
   },
   {
    "duration": 21,
    "start_time": "2022-06-03T12:01:02.470Z"
   },
   {
    "duration": 32,
    "start_time": "2022-06-03T12:01:02.493Z"
   },
   {
    "duration": 32,
    "start_time": "2022-06-03T12:01:02.527Z"
   },
   {
    "duration": 129,
    "start_time": "2022-06-03T12:01:02.561Z"
   },
   {
    "duration": 31,
    "start_time": "2022-06-03T12:01:02.691Z"
   },
   {
    "duration": 5,
    "start_time": "2022-06-03T12:01:02.724Z"
   },
   {
    "duration": 55,
    "start_time": "2022-06-03T12:01:02.730Z"
   },
   {
    "duration": 5,
    "start_time": "2022-06-03T12:01:02.787Z"
   },
   {
    "duration": 2041,
    "start_time": "2022-06-03T12:07:31.567Z"
   },
   {
    "duration": 341,
    "start_time": "2022-06-03T12:07:48.294Z"
   },
   {
    "duration": 10,
    "start_time": "2022-06-03T12:09:25.664Z"
   },
   {
    "duration": 10,
    "start_time": "2022-06-03T12:10:04.255Z"
   },
   {
    "duration": 178,
    "start_time": "2022-06-03T12:10:16.992Z"
   },
   {
    "duration": 8,
    "start_time": "2022-06-03T12:12:45.771Z"
   },
   {
    "duration": 170,
    "start_time": "2022-06-03T12:13:13.305Z"
   },
   {
    "duration": 171,
    "start_time": "2022-06-03T12:21:35.688Z"
   },
   {
    "duration": 1085,
    "start_time": "2022-06-03T12:27:24.560Z"
   },
   {
    "duration": 1163,
    "start_time": "2022-06-03T12:27:39.103Z"
   },
   {
    "duration": 60,
    "start_time": "2022-06-03T12:27:40.269Z"
   },
   {
    "duration": 26,
    "start_time": "2022-06-03T12:27:40.332Z"
   },
   {
    "duration": 19,
    "start_time": "2022-06-03T12:27:40.360Z"
   },
   {
    "duration": 10,
    "start_time": "2022-06-03T12:27:40.382Z"
   },
   {
    "duration": 14,
    "start_time": "2022-06-03T12:27:40.394Z"
   },
   {
    "duration": 56,
    "start_time": "2022-06-03T12:27:40.410Z"
   },
   {
    "duration": 201,
    "start_time": "2022-06-03T12:27:40.468Z"
   },
   {
    "duration": 28,
    "start_time": "2022-06-03T12:27:40.671Z"
   },
   {
    "duration": 11,
    "start_time": "2022-06-03T12:27:40.701Z"
   },
   {
    "duration": 163,
    "start_time": "2022-06-03T12:27:40.714Z"
   },
   {
    "duration": 28,
    "start_time": "2022-06-03T12:27:40.879Z"
   },
   {
    "duration": 106,
    "start_time": "2022-06-03T12:27:40.909Z"
   },
   {
    "duration": 113,
    "start_time": "2022-06-03T12:27:41.017Z"
   },
   {
    "duration": 37,
    "start_time": "2022-06-03T12:27:41.133Z"
   },
   {
    "duration": 94,
    "start_time": "2022-06-03T12:27:41.173Z"
   },
   {
    "duration": 16,
    "start_time": "2022-06-03T12:27:41.269Z"
   },
   {
    "duration": 37,
    "start_time": "2022-06-03T12:27:41.288Z"
   },
   {
    "duration": 245,
    "start_time": "2022-06-03T12:27:41.349Z"
   },
   {
    "duration": 39,
    "start_time": "2022-06-03T12:27:41.597Z"
   },
   {
    "duration": 27,
    "start_time": "2022-06-03T12:27:41.646Z"
   },
   {
    "duration": 55,
    "start_time": "2022-06-03T12:27:41.676Z"
   },
   {
    "duration": 57,
    "start_time": "2022-06-03T12:27:41.733Z"
   },
   {
    "duration": 23,
    "start_time": "2022-06-03T12:27:41.792Z"
   },
   {
    "duration": 45,
    "start_time": "2022-06-03T12:27:41.818Z"
   },
   {
    "duration": 64,
    "start_time": "2022-06-03T12:27:41.865Z"
   },
   {
    "duration": 18,
    "start_time": "2022-06-03T12:27:41.932Z"
   },
   {
    "duration": 60,
    "start_time": "2022-06-03T12:27:41.960Z"
   },
   {
    "duration": 35,
    "start_time": "2022-06-03T12:27:42.022Z"
   },
   {
    "duration": 40,
    "start_time": "2022-06-03T12:27:42.059Z"
   },
   {
    "duration": 25,
    "start_time": "2022-06-03T12:27:42.101Z"
   },
   {
    "duration": 41,
    "start_time": "2022-06-03T12:27:42.128Z"
   },
   {
    "duration": 37,
    "start_time": "2022-06-03T12:27:42.171Z"
   },
   {
    "duration": 50,
    "start_time": "2022-06-03T12:27:42.210Z"
   },
   {
    "duration": 37,
    "start_time": "2022-06-03T12:27:42.262Z"
   },
   {
    "duration": 15,
    "start_time": "2022-06-03T12:27:42.301Z"
   },
   {
    "duration": 57,
    "start_time": "2022-06-03T12:27:42.318Z"
   },
   {
    "duration": 40,
    "start_time": "2022-06-03T12:27:42.377Z"
   },
   {
    "duration": 59,
    "start_time": "2022-06-03T12:27:42.420Z"
   },
   {
    "duration": 7,
    "start_time": "2022-06-03T12:27:42.481Z"
   },
   {
    "duration": 181,
    "start_time": "2022-06-03T12:27:42.490Z"
   },
   {
    "duration": 37,
    "start_time": "2022-06-03T12:27:42.673Z"
   },
   {
    "duration": 39,
    "start_time": "2022-06-03T12:27:42.712Z"
   },
   {
    "duration": 50,
    "start_time": "2022-06-03T12:27:42.755Z"
   },
   {
    "duration": 7,
    "start_time": "2022-06-03T12:27:42.808Z"
   },
   {
    "duration": 26,
    "start_time": "2022-06-03T12:27:42.817Z"
   },
   {
    "duration": 223,
    "start_time": "2022-06-03T12:27:42.845Z"
   },
   {
    "duration": 153,
    "start_time": "2022-06-03T12:27:43.070Z"
   },
   {
    "duration": 1510,
    "start_time": "2022-06-03T12:29:58.464Z"
   },
   {
    "duration": 58,
    "start_time": "2022-06-03T12:29:59.978Z"
   },
   {
    "duration": 23,
    "start_time": "2022-06-03T12:30:00.039Z"
   },
   {
    "duration": 26,
    "start_time": "2022-06-03T12:30:00.065Z"
   },
   {
    "duration": 27,
    "start_time": "2022-06-03T12:30:00.094Z"
   },
   {
    "duration": 50,
    "start_time": "2022-06-03T12:30:00.124Z"
   },
   {
    "duration": 37,
    "start_time": "2022-06-03T12:30:00.177Z"
   },
   {
    "duration": 260,
    "start_time": "2022-06-03T12:30:00.217Z"
   },
   {
    "duration": 48,
    "start_time": "2022-06-03T12:30:00.480Z"
   },
   {
    "duration": 32,
    "start_time": "2022-06-03T12:30:00.553Z"
   },
   {
    "duration": 186,
    "start_time": "2022-06-03T12:30:00.587Z"
   },
   {
    "duration": 39,
    "start_time": "2022-06-03T12:30:00.775Z"
   },
   {
    "duration": 139,
    "start_time": "2022-06-03T12:30:00.817Z"
   },
   {
    "duration": 148,
    "start_time": "2022-06-03T12:30:00.959Z"
   },
   {
    "duration": 45,
    "start_time": "2022-06-03T12:30:01.110Z"
   },
   {
    "duration": 86,
    "start_time": "2022-06-03T12:30:01.161Z"
   },
   {
    "duration": 28,
    "start_time": "2022-06-03T12:30:01.249Z"
   },
   {
    "duration": 58,
    "start_time": "2022-06-03T12:30:01.279Z"
   },
   {
    "duration": 241,
    "start_time": "2022-06-03T12:30:01.343Z"
   },
   {
    "duration": 36,
    "start_time": "2022-06-03T12:30:01.587Z"
   },
   {
    "duration": 38,
    "start_time": "2022-06-03T12:30:01.625Z"
   },
   {
    "duration": 66,
    "start_time": "2022-06-03T12:30:01.665Z"
   },
   {
    "duration": 77,
    "start_time": "2022-06-03T12:30:01.733Z"
   },
   {
    "duration": 28,
    "start_time": "2022-06-03T12:30:01.816Z"
   },
   {
    "duration": 77,
    "start_time": "2022-06-03T12:30:01.846Z"
   },
   {
    "duration": 69,
    "start_time": "2022-06-03T12:30:01.925Z"
   },
   {
    "duration": 18,
    "start_time": "2022-06-03T12:30:01.997Z"
   },
   {
    "duration": 60,
    "start_time": "2022-06-03T12:30:02.024Z"
   },
   {
    "duration": 68,
    "start_time": "2022-06-03T12:30:02.087Z"
   },
   {
    "duration": 58,
    "start_time": "2022-06-03T12:30:02.163Z"
   },
   {
    "duration": 25,
    "start_time": "2022-06-03T12:30:02.223Z"
   },
   {
    "duration": 28,
    "start_time": "2022-06-03T12:30:02.250Z"
   },
   {
    "duration": 45,
    "start_time": "2022-06-03T12:30:02.281Z"
   },
   {
    "duration": 44,
    "start_time": "2022-06-03T12:30:02.328Z"
   },
   {
    "duration": 56,
    "start_time": "2022-06-03T12:30:02.374Z"
   },
   {
    "duration": 30,
    "start_time": "2022-06-03T12:30:02.432Z"
   },
   {
    "duration": 44,
    "start_time": "2022-06-03T12:30:02.465Z"
   },
   {
    "duration": 37,
    "start_time": "2022-06-03T12:30:02.512Z"
   },
   {
    "duration": 74,
    "start_time": "2022-06-03T12:30:02.551Z"
   },
   {
    "duration": 8,
    "start_time": "2022-06-03T12:30:02.627Z"
   },
   {
    "duration": 202,
    "start_time": "2022-06-03T12:30:02.641Z"
   },
   {
    "duration": 47,
    "start_time": "2022-06-03T12:30:02.846Z"
   },
   {
    "duration": 7,
    "start_time": "2022-06-03T12:30:02.896Z"
   },
   {
    "duration": 91,
    "start_time": "2022-06-03T12:30:02.905Z"
   },
   {
    "duration": 9,
    "start_time": "2022-06-03T12:30:02.998Z"
   },
   {
    "duration": 14,
    "start_time": "2022-06-03T12:30:03.010Z"
   },
   {
    "duration": 292,
    "start_time": "2022-06-03T12:30:03.027Z"
   },
   {
    "duration": 194,
    "start_time": "2022-06-03T12:30:03.321Z"
   },
   {
    "duration": 54,
    "start_time": "2022-06-03T12:30:43.527Z"
   },
   {
    "duration": 64,
    "start_time": "2022-06-03T12:32:54.442Z"
   },
   {
    "duration": 71,
    "start_time": "2022-06-03T12:33:04.496Z"
   },
   {
    "duration": 1572,
    "start_time": "2022-06-03T12:34:05.197Z"
   },
   {
    "duration": 61,
    "start_time": "2022-06-03T12:34:06.773Z"
   },
   {
    "duration": 30,
    "start_time": "2022-06-03T12:34:06.836Z"
   },
   {
    "duration": 11,
    "start_time": "2022-06-03T12:34:06.876Z"
   },
   {
    "duration": 13,
    "start_time": "2022-06-03T12:34:06.890Z"
   },
   {
    "duration": 17,
    "start_time": "2022-06-03T12:34:06.906Z"
   },
   {
    "duration": 34,
    "start_time": "2022-06-03T12:34:06.926Z"
   },
   {
    "duration": 302,
    "start_time": "2022-06-03T12:34:06.963Z"
   },
   {
    "duration": 60,
    "start_time": "2022-06-03T12:34:07.271Z"
   },
   {
    "duration": 37,
    "start_time": "2022-06-03T12:34:07.334Z"
   },
   {
    "duration": 185,
    "start_time": "2022-06-03T12:34:07.385Z"
   },
   {
    "duration": 30,
    "start_time": "2022-06-03T12:34:07.574Z"
   },
   {
    "duration": 64,
    "start_time": "2022-06-03T12:34:07.606Z"
   },
   {
    "duration": 128,
    "start_time": "2022-06-03T12:34:07.676Z"
   },
   {
    "duration": 31,
    "start_time": "2022-06-03T12:34:07.813Z"
   },
   {
    "duration": 83,
    "start_time": "2022-06-03T12:34:07.850Z"
   },
   {
    "duration": 26,
    "start_time": "2022-06-03T12:34:07.937Z"
   },
   {
    "duration": 82,
    "start_time": "2022-06-03T12:34:07.966Z"
   },
   {
    "duration": 256,
    "start_time": "2022-06-03T12:34:08.050Z"
   },
   {
    "duration": 37,
    "start_time": "2022-06-03T12:34:08.310Z"
   },
   {
    "duration": 25,
    "start_time": "2022-06-03T12:34:08.350Z"
   },
   {
    "duration": 47,
    "start_time": "2022-06-03T12:34:08.377Z"
   },
   {
    "duration": 67,
    "start_time": "2022-06-03T12:34:08.426Z"
   },
   {
    "duration": 31,
    "start_time": "2022-06-03T12:34:08.495Z"
   },
   {
    "duration": 31,
    "start_time": "2022-06-03T12:34:08.530Z"
   },
   {
    "duration": 63,
    "start_time": "2022-06-03T12:34:08.564Z"
   },
   {
    "duration": 21,
    "start_time": "2022-06-03T12:34:08.632Z"
   },
   {
    "duration": 93,
    "start_time": "2022-06-03T12:34:08.655Z"
   },
   {
    "duration": 66,
    "start_time": "2022-06-03T12:34:08.751Z"
   },
   {
    "duration": 58,
    "start_time": "2022-06-03T12:34:08.819Z"
   },
   {
    "duration": 19,
    "start_time": "2022-06-03T12:34:08.881Z"
   },
   {
    "duration": 33,
    "start_time": "2022-06-03T12:34:08.902Z"
   },
   {
    "duration": 41,
    "start_time": "2022-06-03T12:34:08.937Z"
   },
   {
    "duration": 38,
    "start_time": "2022-06-03T12:34:08.980Z"
   },
   {
    "duration": 44,
    "start_time": "2022-06-03T12:34:09.019Z"
   },
   {
    "duration": 12,
    "start_time": "2022-06-03T12:34:09.065Z"
   },
   {
    "duration": 44,
    "start_time": "2022-06-03T12:34:09.079Z"
   },
   {
    "duration": 46,
    "start_time": "2022-06-03T12:34:09.125Z"
   },
   {
    "duration": 50,
    "start_time": "2022-06-03T12:34:09.174Z"
   },
   {
    "duration": 21,
    "start_time": "2022-06-03T12:34:09.226Z"
   },
   {
    "duration": 127,
    "start_time": "2022-06-03T12:34:09.252Z"
   },
   {
    "duration": 35,
    "start_time": "2022-06-03T12:34:09.381Z"
   },
   {
    "duration": 25,
    "start_time": "2022-06-03T12:34:09.418Z"
   },
   {
    "duration": 62,
    "start_time": "2022-06-03T12:34:09.445Z"
   },
   {
    "duration": 14,
    "start_time": "2022-06-03T12:34:09.509Z"
   },
   {
    "duration": 26,
    "start_time": "2022-06-03T12:34:09.525Z"
   },
   {
    "duration": 29,
    "start_time": "2022-06-03T12:34:09.553Z"
   },
   {
    "duration": 0,
    "start_time": "2022-06-03T12:34:09.584Z"
   },
   {
    "duration": 0,
    "start_time": "2022-06-03T12:34:09.585Z"
   },
   {
    "duration": 7,
    "start_time": "2022-06-03T12:34:18.164Z"
   },
   {
    "duration": 266,
    "start_time": "2022-06-03T12:34:19.367Z"
   },
   {
    "duration": 259,
    "start_time": "2022-06-03T12:34:24.268Z"
   },
   {
    "duration": 0,
    "start_time": "2022-06-03T12:35:22.105Z"
   },
   {
    "duration": 1382,
    "start_time": "2022-06-03T12:35:27.229Z"
   },
   {
    "duration": 91,
    "start_time": "2022-06-03T12:35:28.616Z"
   },
   {
    "duration": 17,
    "start_time": "2022-06-03T12:35:28.709Z"
   },
   {
    "duration": 46,
    "start_time": "2022-06-03T12:35:28.731Z"
   },
   {
    "duration": 17,
    "start_time": "2022-06-03T12:35:28.780Z"
   },
   {
    "duration": 12,
    "start_time": "2022-06-03T12:35:28.800Z"
   },
   {
    "duration": 30,
    "start_time": "2022-06-03T12:35:28.815Z"
   },
   {
    "duration": 232,
    "start_time": "2022-06-03T12:35:28.849Z"
   },
   {
    "duration": 35,
    "start_time": "2022-06-03T12:35:29.084Z"
   },
   {
    "duration": 40,
    "start_time": "2022-06-03T12:35:29.122Z"
   },
   {
    "duration": 177,
    "start_time": "2022-06-03T12:35:29.168Z"
   },
   {
    "duration": 39,
    "start_time": "2022-06-03T12:35:29.356Z"
   },
   {
    "duration": 97,
    "start_time": "2022-06-03T12:35:29.397Z"
   },
   {
    "duration": 116,
    "start_time": "2022-06-03T12:35:29.497Z"
   },
   {
    "duration": 35,
    "start_time": "2022-06-03T12:35:29.616Z"
   },
   {
    "duration": 76,
    "start_time": "2022-06-03T12:35:29.654Z"
   },
   {
    "duration": 32,
    "start_time": "2022-06-03T12:35:29.733Z"
   },
   {
    "duration": 62,
    "start_time": "2022-06-03T12:35:29.768Z"
   },
   {
    "duration": 189,
    "start_time": "2022-06-03T12:35:29.832Z"
   },
   {
    "duration": 43,
    "start_time": "2022-06-03T12:35:30.024Z"
   },
   {
    "duration": 15,
    "start_time": "2022-06-03T12:35:30.075Z"
   },
   {
    "duration": 42,
    "start_time": "2022-06-03T12:35:30.091Z"
   },
   {
    "duration": 69,
    "start_time": "2022-06-03T12:35:30.135Z"
   },
   {
    "duration": 16,
    "start_time": "2022-06-03T12:35:30.207Z"
   },
   {
    "duration": 68,
    "start_time": "2022-06-03T12:35:30.225Z"
   },
   {
    "duration": 46,
    "start_time": "2022-06-03T12:35:30.295Z"
   },
   {
    "duration": 26,
    "start_time": "2022-06-03T12:35:30.343Z"
   },
   {
    "duration": 81,
    "start_time": "2022-06-03T12:35:30.380Z"
   },
   {
    "duration": 43,
    "start_time": "2022-06-03T12:35:30.473Z"
   },
   {
    "duration": 53,
    "start_time": "2022-06-03T12:35:30.518Z"
   },
   {
    "duration": 22,
    "start_time": "2022-06-03T12:35:30.573Z"
   },
   {
    "duration": 54,
    "start_time": "2022-06-03T12:35:30.599Z"
   },
   {
    "duration": 58,
    "start_time": "2022-06-03T12:35:30.658Z"
   },
   {
    "duration": 45,
    "start_time": "2022-06-03T12:35:30.719Z"
   },
   {
    "duration": 37,
    "start_time": "2022-06-03T12:35:30.766Z"
   },
   {
    "duration": 15,
    "start_time": "2022-06-03T12:35:30.805Z"
   },
   {
    "duration": 46,
    "start_time": "2022-06-03T12:35:30.822Z"
   },
   {
    "duration": 48,
    "start_time": "2022-06-03T12:35:30.874Z"
   },
   {
    "duration": 57,
    "start_time": "2022-06-03T12:35:30.924Z"
   },
   {
    "duration": 8,
    "start_time": "2022-06-03T12:35:30.984Z"
   },
   {
    "duration": 185,
    "start_time": "2022-06-03T12:35:30.994Z"
   },
   {
    "duration": 46,
    "start_time": "2022-06-03T12:35:31.181Z"
   },
   {
    "duration": 11,
    "start_time": "2022-06-03T12:35:31.241Z"
   },
   {
    "duration": 81,
    "start_time": "2022-06-03T12:35:31.255Z"
   },
   {
    "duration": 23,
    "start_time": "2022-06-03T12:35:31.338Z"
   },
   {
    "duration": 45,
    "start_time": "2022-06-03T12:35:31.365Z"
   },
   {
    "duration": 22,
    "start_time": "2022-06-03T12:35:31.412Z"
   },
   {
    "duration": 0,
    "start_time": "2022-06-03T12:35:31.436Z"
   },
   {
    "duration": 1,
    "start_time": "2022-06-03T12:35:31.438Z"
   },
   {
    "duration": 1720,
    "start_time": "2022-06-03T12:36:56.640Z"
   },
   {
    "duration": 938,
    "start_time": "2022-06-03T12:37:26.172Z"
   },
   {
    "duration": 1281,
    "start_time": "2022-06-03T12:37:42.228Z"
   },
   {
    "duration": 10,
    "start_time": "2022-06-03T13:32:58.118Z"
   },
   {
    "duration": 1322,
    "start_time": "2022-06-03T13:33:06.291Z"
   },
   {
    "duration": 69,
    "start_time": "2022-06-03T13:33:07.616Z"
   },
   {
    "duration": 12,
    "start_time": "2022-06-03T13:33:07.687Z"
   },
   {
    "duration": 8,
    "start_time": "2022-06-03T13:33:07.702Z"
   },
   {
    "duration": 9,
    "start_time": "2022-06-03T13:33:07.713Z"
   },
   {
    "duration": 7,
    "start_time": "2022-06-03T13:33:07.724Z"
   },
   {
    "duration": 46,
    "start_time": "2022-06-03T13:33:07.743Z"
   },
   {
    "duration": 268,
    "start_time": "2022-06-03T13:33:07.791Z"
   },
   {
    "duration": 49,
    "start_time": "2022-06-03T13:33:08.062Z"
   },
   {
    "duration": 15,
    "start_time": "2022-06-03T13:33:08.116Z"
   },
   {
    "duration": 164,
    "start_time": "2022-06-03T13:33:08.133Z"
   },
   {
    "duration": 29,
    "start_time": "2022-06-03T13:33:08.300Z"
   },
   {
    "duration": 83,
    "start_time": "2022-06-03T13:33:08.331Z"
   },
   {
    "duration": 168,
    "start_time": "2022-06-03T13:33:08.417Z"
   },
   {
    "duration": 34,
    "start_time": "2022-06-03T13:33:08.588Z"
   },
   {
    "duration": 121,
    "start_time": "2022-06-03T13:33:08.624Z"
   },
   {
    "duration": 33,
    "start_time": "2022-06-03T13:33:08.763Z"
   },
   {
    "duration": 42,
    "start_time": "2022-06-03T13:33:08.797Z"
   },
   {
    "duration": 220,
    "start_time": "2022-06-03T13:33:08.844Z"
   },
   {
    "duration": 62,
    "start_time": "2022-06-03T13:33:09.073Z"
   },
   {
    "duration": 20,
    "start_time": "2022-06-03T13:33:09.138Z"
   },
   {
    "duration": 70,
    "start_time": "2022-06-03T13:33:09.161Z"
   },
   {
    "duration": 62,
    "start_time": "2022-06-03T13:33:09.233Z"
   },
   {
    "duration": 15,
    "start_time": "2022-06-03T13:33:09.296Z"
   },
   {
    "duration": 45,
    "start_time": "2022-06-03T13:33:09.313Z"
   },
   {
    "duration": 32,
    "start_time": "2022-06-03T13:33:09.359Z"
   },
   {
    "duration": 11,
    "start_time": "2022-06-03T13:33:09.393Z"
   },
   {
    "duration": 47,
    "start_time": "2022-06-03T13:33:09.410Z"
   },
   {
    "duration": 46,
    "start_time": "2022-06-03T13:33:09.460Z"
   },
   {
    "duration": 73,
    "start_time": "2022-06-03T13:33:09.509Z"
   },
   {
    "duration": 23,
    "start_time": "2022-06-03T13:33:09.587Z"
   },
   {
    "duration": 29,
    "start_time": "2022-06-03T13:33:09.620Z"
   },
   {
    "duration": 34,
    "start_time": "2022-06-03T13:33:09.651Z"
   },
   {
    "duration": 36,
    "start_time": "2022-06-03T13:33:09.687Z"
   },
   {
    "duration": 54,
    "start_time": "2022-06-03T13:33:09.726Z"
   },
   {
    "duration": 13,
    "start_time": "2022-06-03T13:33:09.784Z"
   },
   {
    "duration": 30,
    "start_time": "2022-06-03T13:33:09.799Z"
   },
   {
    "duration": 37,
    "start_time": "2022-06-03T13:33:09.831Z"
   },
   {
    "duration": 68,
    "start_time": "2022-06-03T13:33:09.871Z"
   },
   {
    "duration": 9,
    "start_time": "2022-06-03T13:33:09.943Z"
   },
   {
    "duration": 169,
    "start_time": "2022-06-03T13:33:09.954Z"
   },
   {
    "duration": 56,
    "start_time": "2022-06-03T13:33:10.125Z"
   },
   {
    "duration": 6,
    "start_time": "2022-06-03T13:33:10.183Z"
   },
   {
    "duration": 37,
    "start_time": "2022-06-03T13:33:10.191Z"
   },
   {
    "duration": 24,
    "start_time": "2022-06-03T13:33:10.230Z"
   },
   {
    "duration": 23,
    "start_time": "2022-06-03T13:33:10.256Z"
   },
   {
    "duration": 219,
    "start_time": "2022-06-03T13:33:10.281Z"
   },
   {
    "duration": 0,
    "start_time": "2022-06-03T13:33:10.502Z"
   },
   {
    "duration": 0,
    "start_time": "2022-06-03T13:33:10.504Z"
   },
   {
    "duration": 1208,
    "start_time": "2022-06-03T13:39:24.078Z"
   },
   {
    "duration": 49,
    "start_time": "2022-06-03T13:39:25.288Z"
   },
   {
    "duration": 23,
    "start_time": "2022-06-03T13:39:25.340Z"
   },
   {
    "duration": 48,
    "start_time": "2022-06-03T13:39:25.366Z"
   },
   {
    "duration": 57,
    "start_time": "2022-06-03T13:39:25.415Z"
   },
   {
    "duration": 28,
    "start_time": "2022-06-03T13:39:25.475Z"
   },
   {
    "duration": 78,
    "start_time": "2022-06-03T13:39:25.505Z"
   },
   {
    "duration": 240,
    "start_time": "2022-06-03T13:39:25.585Z"
   },
   {
    "duration": 45,
    "start_time": "2022-06-03T13:39:25.826Z"
   },
   {
    "duration": 11,
    "start_time": "2022-06-03T13:39:25.878Z"
   },
   {
    "duration": 219,
    "start_time": "2022-06-03T13:39:25.891Z"
   },
   {
    "duration": 35,
    "start_time": "2022-06-03T13:39:26.112Z"
   },
   {
    "duration": 62,
    "start_time": "2022-06-03T13:39:26.154Z"
   },
   {
    "duration": 117,
    "start_time": "2022-06-03T13:39:26.218Z"
   },
   {
    "duration": 40,
    "start_time": "2022-06-03T13:39:26.337Z"
   },
   {
    "duration": 103,
    "start_time": "2022-06-03T13:39:26.381Z"
   },
   {
    "duration": 31,
    "start_time": "2022-06-03T13:39:26.486Z"
   },
   {
    "duration": 85,
    "start_time": "2022-06-03T13:39:26.519Z"
   },
   {
    "duration": 219,
    "start_time": "2022-06-03T13:39:26.609Z"
   },
   {
    "duration": 39,
    "start_time": "2022-06-03T13:39:26.830Z"
   },
   {
    "duration": 46,
    "start_time": "2022-06-03T13:39:26.873Z"
   },
   {
    "duration": 56,
    "start_time": "2022-06-03T13:39:26.921Z"
   },
   {
    "duration": 81,
    "start_time": "2022-06-03T13:39:26.979Z"
   },
   {
    "duration": 15,
    "start_time": "2022-06-03T13:39:27.070Z"
   },
   {
    "duration": 28,
    "start_time": "2022-06-03T13:39:27.087Z"
   },
   {
    "duration": 97,
    "start_time": "2022-06-03T13:39:27.117Z"
   },
   {
    "duration": 13,
    "start_time": "2022-06-03T13:39:27.216Z"
   },
   {
    "duration": 98,
    "start_time": "2022-06-03T13:39:27.232Z"
   },
   {
    "duration": 38,
    "start_time": "2022-06-03T13:39:27.332Z"
   },
   {
    "duration": 67,
    "start_time": "2022-06-03T13:39:27.372Z"
   },
   {
    "duration": 21,
    "start_time": "2022-06-03T13:39:27.444Z"
   },
   {
    "duration": 60,
    "start_time": "2022-06-03T13:39:27.467Z"
   },
   {
    "duration": 64,
    "start_time": "2022-06-03T13:39:27.528Z"
   },
   {
    "duration": 40,
    "start_time": "2022-06-03T13:39:27.594Z"
   },
   {
    "duration": 64,
    "start_time": "2022-06-03T13:39:27.637Z"
   },
   {
    "duration": 27,
    "start_time": "2022-06-03T13:39:27.704Z"
   },
   {
    "duration": 70,
    "start_time": "2022-06-03T13:39:27.733Z"
   },
   {
    "duration": 34,
    "start_time": "2022-06-03T13:39:27.805Z"
   },
   {
    "duration": 93,
    "start_time": "2022-06-03T13:39:27.843Z"
   },
   {
    "duration": 31,
    "start_time": "2022-06-03T13:39:27.938Z"
   },
   {
    "duration": 182,
    "start_time": "2022-06-03T13:39:27.974Z"
   },
   {
    "duration": 57,
    "start_time": "2022-06-03T13:39:28.164Z"
   },
   {
    "duration": 46,
    "start_time": "2022-06-03T13:39:28.223Z"
   },
   {
    "duration": 80,
    "start_time": "2022-06-03T13:39:28.271Z"
   },
   {
    "duration": 49,
    "start_time": "2022-06-03T13:39:28.359Z"
   },
   {
    "duration": 21,
    "start_time": "2022-06-03T13:39:28.410Z"
   },
   {
    "duration": 187,
    "start_time": "2022-06-03T13:39:28.433Z"
   },
   {
    "duration": 0,
    "start_time": "2022-06-03T13:39:28.622Z"
   },
   {
    "duration": 0,
    "start_time": "2022-06-03T13:39:28.624Z"
   },
   {
    "duration": 910,
    "start_time": "2022-06-03T13:41:43.676Z"
   },
   {
    "duration": 21,
    "start_time": "2022-06-03T13:44:23.729Z"
   },
   {
    "duration": 16,
    "start_time": "2022-06-03T13:46:15.760Z"
   },
   {
    "duration": 5,
    "start_time": "2022-06-03T13:47:48.380Z"
   },
   {
    "duration": 218,
    "start_time": "2022-06-03T13:48:53.123Z"
   },
   {
    "duration": 5,
    "start_time": "2022-06-03T13:49:15.323Z"
   },
   {
    "duration": 251,
    "start_time": "2022-06-03T14:00:45.214Z"
   },
   {
    "duration": 754,
    "start_time": "2022-06-03T14:02:04.676Z"
   },
   {
    "duration": 309,
    "start_time": "2022-06-03T14:02:39.072Z"
   },
   {
    "duration": 177,
    "start_time": "2022-06-03T14:02:45.086Z"
   },
   {
    "duration": 56,
    "start_time": "2022-06-04T10:13:56.979Z"
   },
   {
    "duration": 1428,
    "start_time": "2022-06-04T10:14:15.074Z"
   },
   {
    "duration": 102,
    "start_time": "2022-06-04T10:14:16.505Z"
   },
   {
    "duration": 12,
    "start_time": "2022-06-04T10:14:16.608Z"
   },
   {
    "duration": 9,
    "start_time": "2022-06-04T10:14:16.622Z"
   },
   {
    "duration": 7,
    "start_time": "2022-06-04T10:14:16.632Z"
   },
   {
    "duration": 10,
    "start_time": "2022-06-04T10:14:16.640Z"
   },
   {
    "duration": 21,
    "start_time": "2022-06-04T10:14:16.651Z"
   },
   {
    "duration": 253,
    "start_time": "2022-06-04T10:14:16.673Z"
   },
   {
    "duration": 46,
    "start_time": "2022-06-04T10:14:16.929Z"
   },
   {
    "duration": 20,
    "start_time": "2022-06-04T10:14:16.981Z"
   },
   {
    "duration": 105,
    "start_time": "2022-06-04T10:14:17.003Z"
   },
   {
    "duration": 21,
    "start_time": "2022-06-04T10:14:17.110Z"
   },
   {
    "duration": 66,
    "start_time": "2022-06-04T10:14:17.132Z"
   },
   {
    "duration": 327,
    "start_time": "2022-06-04T10:14:17.200Z"
   },
   {
    "duration": 18,
    "start_time": "2022-06-04T10:14:17.528Z"
   },
   {
    "duration": 47,
    "start_time": "2022-06-04T10:14:17.548Z"
   },
   {
    "duration": 13,
    "start_time": "2022-06-04T10:14:17.597Z"
   },
   {
    "duration": 38,
    "start_time": "2022-06-04T10:14:17.611Z"
   },
   {
    "duration": 356,
    "start_time": "2022-06-04T10:14:17.650Z"
   },
   {
    "duration": 22,
    "start_time": "2022-06-04T10:14:18.008Z"
   },
   {
    "duration": 20,
    "start_time": "2022-06-04T10:14:18.032Z"
   },
   {
    "duration": 38,
    "start_time": "2022-06-04T10:14:18.054Z"
   },
   {
    "duration": 44,
    "start_time": "2022-06-04T10:14:18.093Z"
   },
   {
    "duration": 29,
    "start_time": "2022-06-04T10:14:18.139Z"
   },
   {
    "duration": 22,
    "start_time": "2022-06-04T10:14:18.173Z"
   },
   {
    "duration": 86,
    "start_time": "2022-06-04T10:14:18.197Z"
   },
   {
    "duration": 11,
    "start_time": "2022-06-04T10:14:18.284Z"
   },
   {
    "duration": 38,
    "start_time": "2022-06-04T10:14:18.299Z"
   },
   {
    "duration": 39,
    "start_time": "2022-06-04T10:14:18.339Z"
   },
   {
    "duration": 31,
    "start_time": "2022-06-04T10:14:18.382Z"
   },
   {
    "duration": 22,
    "start_time": "2022-06-04T10:14:18.414Z"
   },
   {
    "duration": 42,
    "start_time": "2022-06-04T10:14:18.437Z"
   },
   {
    "duration": 23,
    "start_time": "2022-06-04T10:14:18.481Z"
   },
   {
    "duration": 30,
    "start_time": "2022-06-04T10:14:18.505Z"
   },
   {
    "duration": 38,
    "start_time": "2022-06-04T10:14:18.536Z"
   },
   {
    "duration": 13,
    "start_time": "2022-06-04T10:14:18.578Z"
   },
   {
    "duration": 35,
    "start_time": "2022-06-04T10:14:18.592Z"
   },
   {
    "duration": 19,
    "start_time": "2022-06-04T10:14:18.628Z"
   },
   {
    "duration": 39,
    "start_time": "2022-06-04T10:14:18.648Z"
   },
   {
    "duration": 5,
    "start_time": "2022-06-04T10:14:18.689Z"
   },
   {
    "duration": 107,
    "start_time": "2022-06-04T10:14:18.695Z"
   },
   {
    "duration": 28,
    "start_time": "2022-06-04T10:14:18.803Z"
   },
   {
    "duration": 6,
    "start_time": "2022-06-04T10:14:18.832Z"
   },
   {
    "duration": 79,
    "start_time": "2022-06-04T10:14:18.840Z"
   },
   {
    "duration": 29,
    "start_time": "2022-06-04T10:14:18.921Z"
   },
   {
    "duration": 32,
    "start_time": "2022-06-04T10:14:18.952Z"
   },
   {
    "duration": 17,
    "start_time": "2022-06-04T10:14:18.988Z"
   },
   {
    "duration": 205,
    "start_time": "2022-06-04T10:14:19.007Z"
   },
   {
    "duration": 5,
    "start_time": "2022-06-04T10:14:19.215Z"
   },
   {
    "duration": 502,
    "start_time": "2022-06-04T10:15:17.691Z"
   },
   {
    "duration": 5,
    "start_time": "2022-06-04T10:15:32.180Z"
   },
   {
    "duration": 1121,
    "start_time": "2022-06-04T10:16:21.228Z"
   },
   {
    "duration": 60,
    "start_time": "2022-06-04T10:16:22.351Z"
   },
   {
    "duration": 11,
    "start_time": "2022-06-04T10:16:22.413Z"
   },
   {
    "duration": 9,
    "start_time": "2022-06-04T10:16:22.427Z"
   },
   {
    "duration": 7,
    "start_time": "2022-06-04T10:16:22.437Z"
   },
   {
    "duration": 7,
    "start_time": "2022-06-04T10:16:22.446Z"
   },
   {
    "duration": 20,
    "start_time": "2022-06-04T10:16:22.455Z"
   },
   {
    "duration": 169,
    "start_time": "2022-06-04T10:16:22.479Z"
   },
   {
    "duration": 26,
    "start_time": "2022-06-04T10:16:22.650Z"
   },
   {
    "duration": 18,
    "start_time": "2022-06-04T10:16:22.679Z"
   },
   {
    "duration": 112,
    "start_time": "2022-06-04T10:16:22.699Z"
   },
   {
    "duration": 19,
    "start_time": "2022-06-04T10:16:22.813Z"
   },
   {
    "duration": 65,
    "start_time": "2022-06-04T10:16:22.833Z"
   },
   {
    "duration": 100,
    "start_time": "2022-06-04T10:16:22.900Z"
   },
   {
    "duration": 19,
    "start_time": "2022-06-04T10:16:23.002Z"
   },
   {
    "duration": 69,
    "start_time": "2022-06-04T10:16:23.023Z"
   },
   {
    "duration": 14,
    "start_time": "2022-06-04T10:16:23.094Z"
   },
   {
    "duration": 35,
    "start_time": "2022-06-04T10:16:23.109Z"
   },
   {
    "duration": 156,
    "start_time": "2022-06-04T10:16:23.145Z"
   },
   {
    "duration": 22,
    "start_time": "2022-06-04T10:16:23.303Z"
   },
   {
    "duration": 13,
    "start_time": "2022-06-04T10:16:23.327Z"
   },
   {
    "duration": 52,
    "start_time": "2022-06-04T10:16:23.342Z"
   },
   {
    "duration": 39,
    "start_time": "2022-06-04T10:16:23.395Z"
   },
   {
    "duration": 35,
    "start_time": "2022-06-04T10:16:23.436Z"
   },
   {
    "duration": 19,
    "start_time": "2022-06-04T10:16:23.479Z"
   },
   {
    "duration": 33,
    "start_time": "2022-06-04T10:16:23.500Z"
   },
   {
    "duration": 10,
    "start_time": "2022-06-04T10:16:23.534Z"
   },
   {
    "duration": 40,
    "start_time": "2022-06-04T10:16:23.549Z"
   },
   {
    "duration": 38,
    "start_time": "2022-06-04T10:16:23.591Z"
   },
   {
    "duration": 49,
    "start_time": "2022-06-04T10:16:23.631Z"
   },
   {
    "duration": 19,
    "start_time": "2022-06-04T10:16:23.682Z"
   },
   {
    "duration": 25,
    "start_time": "2022-06-04T10:16:23.703Z"
   },
   {
    "duration": 40,
    "start_time": "2022-06-04T10:16:23.730Z"
   },
   {
    "duration": 31,
    "start_time": "2022-06-04T10:16:23.780Z"
   },
   {
    "duration": 21,
    "start_time": "2022-06-04T10:16:23.813Z"
   },
   {
    "duration": 9,
    "start_time": "2022-06-04T10:16:23.836Z"
   },
   {
    "duration": 43,
    "start_time": "2022-06-04T10:16:23.846Z"
   },
   {
    "duration": 19,
    "start_time": "2022-06-04T10:16:23.890Z"
   },
   {
    "duration": 30,
    "start_time": "2022-06-04T10:16:23.911Z"
   },
   {
    "duration": 31,
    "start_time": "2022-06-04T10:16:23.942Z"
   },
   {
    "duration": 115,
    "start_time": "2022-06-04T10:16:23.975Z"
   },
   {
    "duration": 31,
    "start_time": "2022-06-04T10:16:24.092Z"
   },
   {
    "duration": 5,
    "start_time": "2022-06-04T10:16:24.124Z"
   },
   {
    "duration": 54,
    "start_time": "2022-06-04T10:16:24.131Z"
   },
   {
    "duration": 5,
    "start_time": "2022-06-04T10:16:24.186Z"
   },
   {
    "duration": 11,
    "start_time": "2022-06-04T10:16:24.193Z"
   },
   {
    "duration": 7,
    "start_time": "2022-06-04T10:16:24.206Z"
   },
   {
    "duration": 6,
    "start_time": "2022-06-04T10:16:24.215Z"
   },
   {
    "duration": 176,
    "start_time": "2022-06-04T10:16:24.223Z"
   },
   {
    "duration": 4,
    "start_time": "2022-06-04T10:16:24.401Z"
   },
   {
    "duration": 1050,
    "start_time": "2022-06-04T10:18:39.419Z"
   },
   {
    "duration": 53,
    "start_time": "2022-06-04T10:18:40.471Z"
   },
   {
    "duration": 12,
    "start_time": "2022-06-04T10:18:40.525Z"
   },
   {
    "duration": 10,
    "start_time": "2022-06-04T10:18:40.538Z"
   },
   {
    "duration": 8,
    "start_time": "2022-06-04T10:18:40.550Z"
   },
   {
    "duration": 17,
    "start_time": "2022-06-04T10:18:40.559Z"
   },
   {
    "duration": 17,
    "start_time": "2022-06-04T10:18:40.578Z"
   },
   {
    "duration": 181,
    "start_time": "2022-06-04T10:18:40.597Z"
   },
   {
    "duration": 25,
    "start_time": "2022-06-04T10:18:40.780Z"
   },
   {
    "duration": 9,
    "start_time": "2022-06-04T10:18:40.807Z"
   },
   {
    "duration": 132,
    "start_time": "2022-06-04T10:18:40.818Z"
   },
   {
    "duration": 37,
    "start_time": "2022-06-04T10:18:40.952Z"
   },
   {
    "duration": 76,
    "start_time": "2022-06-04T10:18:40.992Z"
   },
   {
    "duration": 109,
    "start_time": "2022-06-04T10:18:41.072Z"
   },
   {
    "duration": 19,
    "start_time": "2022-06-04T10:18:41.182Z"
   },
   {
    "duration": 66,
    "start_time": "2022-06-04T10:18:41.202Z"
   },
   {
    "duration": 15,
    "start_time": "2022-06-04T10:18:41.270Z"
   },
   {
    "duration": 33,
    "start_time": "2022-06-04T10:18:41.286Z"
   },
   {
    "duration": 157,
    "start_time": "2022-06-04T10:18:41.320Z"
   },
   {
    "duration": 20,
    "start_time": "2022-06-04T10:18:41.479Z"
   },
   {
    "duration": 13,
    "start_time": "2022-06-04T10:18:41.501Z"
   },
   {
    "duration": 24,
    "start_time": "2022-06-04T10:18:41.516Z"
   },
   {
    "duration": 46,
    "start_time": "2022-06-04T10:18:41.564Z"
   },
   {
    "duration": 12,
    "start_time": "2022-06-04T10:18:41.611Z"
   },
   {
    "duration": 17,
    "start_time": "2022-06-04T10:18:41.625Z"
   },
   {
    "duration": 33,
    "start_time": "2022-06-04T10:18:41.665Z"
   },
   {
    "duration": 9,
    "start_time": "2022-06-04T10:18:41.700Z"
   },
   {
    "duration": 36,
    "start_time": "2022-06-04T10:18:41.711Z"
   },
   {
    "duration": 27,
    "start_time": "2022-06-04T10:18:41.749Z"
   },
   {
    "duration": 32,
    "start_time": "2022-06-04T10:18:41.777Z"
   },
   {
    "duration": 20,
    "start_time": "2022-06-04T10:18:41.811Z"
   },
   {
    "duration": 45,
    "start_time": "2022-06-04T10:18:41.833Z"
   },
   {
    "duration": 36,
    "start_time": "2022-06-04T10:18:41.880Z"
   },
   {
    "duration": 25,
    "start_time": "2022-06-04T10:18:41.918Z"
   },
   {
    "duration": 40,
    "start_time": "2022-06-04T10:18:41.944Z"
   },
   {
    "duration": 10,
    "start_time": "2022-06-04T10:18:41.986Z"
   },
   {
    "duration": 31,
    "start_time": "2022-06-04T10:18:41.998Z"
   },
   {
    "duration": 35,
    "start_time": "2022-06-04T10:18:42.030Z"
   },
   {
    "duration": 31,
    "start_time": "2022-06-04T10:18:42.067Z"
   },
   {
    "duration": 5,
    "start_time": "2022-06-04T10:18:42.100Z"
   },
   {
    "duration": 109,
    "start_time": "2022-06-04T10:18:42.109Z"
   },
   {
    "duration": 32,
    "start_time": "2022-06-04T10:18:42.220Z"
   },
   {
    "duration": 5,
    "start_time": "2022-06-04T10:18:42.265Z"
   },
   {
    "duration": 33,
    "start_time": "2022-06-04T10:18:42.272Z"
   },
   {
    "duration": 5,
    "start_time": "2022-06-04T10:18:42.307Z"
   },
   {
    "duration": 13,
    "start_time": "2022-06-04T10:18:42.313Z"
   },
   {
    "duration": 7,
    "start_time": "2022-06-04T10:18:42.328Z"
   },
   {
    "duration": 32,
    "start_time": "2022-06-04T10:18:42.337Z"
   },
   {
    "duration": 156,
    "start_time": "2022-06-04T10:18:42.371Z"
   },
   {
    "duration": 4,
    "start_time": "2022-06-04T10:18:42.529Z"
   },
   {
    "duration": 17,
    "start_time": "2022-06-04T10:18:42.535Z"
   },
   {
    "duration": 13,
    "start_time": "2022-06-04T10:18:42.553Z"
   },
   {
    "duration": 5,
    "start_time": "2022-06-04T10:18:42.568Z"
   },
   {
    "duration": 240,
    "start_time": "2022-06-04T10:18:42.574Z"
   },
   {
    "duration": 5,
    "start_time": "2022-06-04T10:18:42.816Z"
   },
   {
    "duration": 7,
    "start_time": "2022-06-04T10:23:44.975Z"
   },
   {
    "duration": 4,
    "start_time": "2022-06-04T10:23:47.223Z"
   },
   {
    "duration": 6,
    "start_time": "2022-06-04T10:23:49.047Z"
   },
   {
    "duration": 153,
    "start_time": "2022-06-04T10:23:50.707Z"
   },
   {
    "duration": 5,
    "start_time": "2022-06-04T10:23:53.475Z"
   },
   {
    "duration": 5,
    "start_time": "2022-06-04T10:24:40.795Z"
   },
   {
    "duration": 109,
    "start_time": "2022-06-04T10:32:39.684Z"
   },
   {
    "duration": 30,
    "start_time": "2022-06-04T10:34:24.879Z"
   },
   {
    "duration": 9,
    "start_time": "2022-06-04T10:56:09.846Z"
   },
   {
    "duration": 9,
    "start_time": "2022-06-04T10:56:29.410Z"
   },
   {
    "duration": 15,
    "start_time": "2022-06-04T10:57:51.324Z"
   },
   {
    "duration": 9,
    "start_time": "2022-06-04T10:58:46.584Z"
   },
   {
    "duration": 7,
    "start_time": "2022-06-04T10:58:51.315Z"
   },
   {
    "duration": 9,
    "start_time": "2022-06-04T10:58:53.926Z"
   },
   {
    "duration": 28,
    "start_time": "2022-06-04T10:59:14.203Z"
   },
   {
    "duration": 8,
    "start_time": "2022-06-04T11:01:19.107Z"
   },
   {
    "duration": 28,
    "start_time": "2022-06-04T11:01:35.637Z"
   },
   {
    "duration": 5,
    "start_time": "2022-06-04T11:02:04.527Z"
   },
   {
    "duration": 5,
    "start_time": "2022-06-04T11:02:05.756Z"
   },
   {
    "duration": 5,
    "start_time": "2022-06-04T11:02:19.542Z"
   },
   {
    "duration": 5,
    "start_time": "2022-06-04T11:02:35.130Z"
   },
   {
    "duration": 4,
    "start_time": "2022-06-04T11:02:36.783Z"
   },
   {
    "duration": 4,
    "start_time": "2022-06-04T11:02:56.430Z"
   },
   {
    "duration": 152,
    "start_time": "2022-06-04T11:03:02.311Z"
   },
   {
    "duration": 37,
    "start_time": "2022-06-04T11:03:24.953Z"
   },
   {
    "duration": 4,
    "start_time": "2022-06-04T11:03:29.539Z"
   },
   {
    "duration": 1089,
    "start_time": "2022-06-04T11:08:15.291Z"
   },
   {
    "duration": 53,
    "start_time": "2022-06-04T11:08:16.383Z"
   },
   {
    "duration": 12,
    "start_time": "2022-06-04T11:08:16.438Z"
   },
   {
    "duration": 9,
    "start_time": "2022-06-04T11:08:16.452Z"
   },
   {
    "duration": 19,
    "start_time": "2022-06-04T11:08:16.463Z"
   },
   {
    "duration": 11,
    "start_time": "2022-06-04T11:08:16.484Z"
   },
   {
    "duration": 15,
    "start_time": "2022-06-04T11:08:16.497Z"
   },
   {
    "duration": 188,
    "start_time": "2022-06-04T11:08:16.514Z"
   },
   {
    "duration": 24,
    "start_time": "2022-06-04T11:08:16.704Z"
   },
   {
    "duration": 13,
    "start_time": "2022-06-04T11:08:16.730Z"
   },
   {
    "duration": 132,
    "start_time": "2022-06-04T11:08:16.744Z"
   },
   {
    "duration": 24,
    "start_time": "2022-06-04T11:08:16.877Z"
   },
   {
    "duration": 53,
    "start_time": "2022-06-04T11:08:16.903Z"
   },
   {
    "duration": 103,
    "start_time": "2022-06-04T11:08:16.959Z"
   },
   {
    "duration": 26,
    "start_time": "2022-06-04T11:08:17.063Z"
   },
   {
    "duration": 50,
    "start_time": "2022-06-04T11:08:17.090Z"
   },
   {
    "duration": 40,
    "start_time": "2022-06-04T11:08:17.142Z"
   },
   {
    "duration": 31,
    "start_time": "2022-06-04T11:08:17.184Z"
   },
   {
    "duration": 138,
    "start_time": "2022-06-04T11:08:17.217Z"
   },
   {
    "duration": 37,
    "start_time": "2022-06-04T11:08:17.357Z"
   },
   {
    "duration": 14,
    "start_time": "2022-06-04T11:08:17.396Z"
   },
   {
    "duration": 31,
    "start_time": "2022-06-04T11:08:17.412Z"
   },
   {
    "duration": 68,
    "start_time": "2022-06-04T11:08:17.445Z"
   },
   {
    "duration": 12,
    "start_time": "2022-06-04T11:08:17.514Z"
   },
   {
    "duration": 16,
    "start_time": "2022-06-04T11:08:17.527Z"
   },
   {
    "duration": 39,
    "start_time": "2022-06-04T11:08:17.565Z"
   },
   {
    "duration": 11,
    "start_time": "2022-06-04T11:08:17.605Z"
   },
   {
    "duration": 51,
    "start_time": "2022-06-04T11:08:17.617Z"
   },
   {
    "duration": 33,
    "start_time": "2022-06-04T11:08:17.671Z"
   },
   {
    "duration": 31,
    "start_time": "2022-06-04T11:08:17.706Z"
   },
   {
    "duration": 36,
    "start_time": "2022-06-04T11:08:17.739Z"
   },
   {
    "duration": 20,
    "start_time": "2022-06-04T11:08:17.777Z"
   },
   {
    "duration": 23,
    "start_time": "2022-06-04T11:08:17.798Z"
   },
   {
    "duration": 23,
    "start_time": "2022-06-04T11:08:17.823Z"
   },
   {
    "duration": 43,
    "start_time": "2022-06-04T11:08:17.848Z"
   },
   {
    "duration": 10,
    "start_time": "2022-06-04T11:08:17.892Z"
   },
   {
    "duration": 17,
    "start_time": "2022-06-04T11:08:17.903Z"
   },
   {
    "duration": 47,
    "start_time": "2022-06-04T11:08:17.922Z"
   },
   {
    "duration": 30,
    "start_time": "2022-06-04T11:08:17.976Z"
   },
   {
    "duration": 10,
    "start_time": "2022-06-04T11:08:18.007Z"
   },
   {
    "duration": 103,
    "start_time": "2022-06-04T11:08:18.021Z"
   },
   {
    "duration": 29,
    "start_time": "2022-06-04T11:08:18.126Z"
   },
   {
    "duration": 27,
    "start_time": "2022-06-04T11:08:18.156Z"
   },
   {
    "duration": 37,
    "start_time": "2022-06-04T11:08:18.184Z"
   },
   {
    "duration": 5,
    "start_time": "2022-06-04T11:08:18.223Z"
   },
   {
    "duration": 24,
    "start_time": "2022-06-04T11:08:18.230Z"
   },
   {
    "duration": 21,
    "start_time": "2022-06-04T11:08:18.256Z"
   },
   {
    "duration": 12,
    "start_time": "2022-06-04T11:08:18.278Z"
   },
   {
    "duration": 134,
    "start_time": "2022-06-04T11:08:18.291Z"
   },
   {
    "duration": 5,
    "start_time": "2022-06-04T11:08:18.426Z"
   },
   {
    "duration": 10,
    "start_time": "2022-06-04T11:08:18.432Z"
   },
   {
    "duration": 41,
    "start_time": "2022-06-04T11:08:18.444Z"
   },
   {
    "duration": 4,
    "start_time": "2022-06-04T11:08:18.487Z"
   },
   {
    "duration": 7,
    "start_time": "2022-06-04T11:08:18.493Z"
   },
   {
    "duration": 6,
    "start_time": "2022-06-04T11:08:18.501Z"
   },
   {
    "duration": 247,
    "start_time": "2022-06-04T11:08:18.508Z"
   },
   {
    "duration": 119,
    "start_time": "2022-06-04T11:08:18.757Z"
   },
   {
    "duration": 0,
    "start_time": "2022-06-04T11:08:18.879Z"
   },
   {
    "duration": 0,
    "start_time": "2022-06-04T11:08:18.881Z"
   },
   {
    "duration": 0,
    "start_time": "2022-06-04T11:08:18.882Z"
   },
   {
    "duration": 0,
    "start_time": "2022-06-04T11:08:18.883Z"
   },
   {
    "duration": 1,
    "start_time": "2022-06-04T11:08:18.883Z"
   },
   {
    "duration": 0,
    "start_time": "2022-06-04T11:08:18.885Z"
   },
   {
    "duration": 0,
    "start_time": "2022-06-04T11:08:18.885Z"
   },
   {
    "duration": 0,
    "start_time": "2022-06-04T11:08:18.886Z"
   },
   {
    "duration": 0,
    "start_time": "2022-06-04T11:08:18.888Z"
   },
   {
    "duration": 0,
    "start_time": "2022-06-04T11:08:18.889Z"
   },
   {
    "duration": 0,
    "start_time": "2022-06-04T11:08:18.891Z"
   },
   {
    "duration": 0,
    "start_time": "2022-06-04T11:08:18.892Z"
   },
   {
    "duration": 5,
    "start_time": "2022-06-04T11:08:41.910Z"
   },
   {
    "duration": 7,
    "start_time": "2022-06-04T11:12:01.598Z"
   },
   {
    "duration": 5,
    "start_time": "2022-06-04T11:12:03.636Z"
   },
   {
    "duration": 5,
    "start_time": "2022-06-04T11:12:08.118Z"
   },
   {
    "duration": 134,
    "start_time": "2022-06-04T11:12:09.525Z"
   },
   {
    "duration": 6,
    "start_time": "2022-06-04T11:12:11.337Z"
   },
   {
    "duration": 6,
    "start_time": "2022-06-04T11:13:31.803Z"
   },
   {
    "duration": 6,
    "start_time": "2022-06-04T11:13:35.226Z"
   },
   {
    "duration": 5,
    "start_time": "2022-06-04T11:13:41.656Z"
   },
   {
    "duration": 156,
    "start_time": "2022-06-04T11:13:42.496Z"
   },
   {
    "duration": 5,
    "start_time": "2022-06-04T11:13:47.531Z"
   },
   {
    "duration": 1091,
    "start_time": "2022-06-04T11:20:51.487Z"
   },
   {
    "duration": 61,
    "start_time": "2022-06-04T11:20:52.580Z"
   },
   {
    "duration": 14,
    "start_time": "2022-06-04T11:20:52.643Z"
   },
   {
    "duration": 14,
    "start_time": "2022-06-04T11:20:52.659Z"
   },
   {
    "duration": 14,
    "start_time": "2022-06-04T11:20:52.675Z"
   },
   {
    "duration": 13,
    "start_time": "2022-06-04T11:20:52.690Z"
   },
   {
    "duration": 16,
    "start_time": "2022-06-04T11:20:52.704Z"
   },
   {
    "duration": 177,
    "start_time": "2022-06-04T11:20:52.722Z"
   },
   {
    "duration": 24,
    "start_time": "2022-06-04T11:20:52.900Z"
   },
   {
    "duration": 8,
    "start_time": "2022-06-04T11:20:52.926Z"
   },
   {
    "duration": 118,
    "start_time": "2022-06-04T11:20:52.936Z"
   },
   {
    "duration": 35,
    "start_time": "2022-06-04T11:20:53.056Z"
   },
   {
    "duration": 44,
    "start_time": "2022-06-04T11:20:53.093Z"
   },
   {
    "duration": 105,
    "start_time": "2022-06-04T11:20:53.140Z"
   },
   {
    "duration": 32,
    "start_time": "2022-06-04T11:20:53.247Z"
   },
   {
    "duration": 45,
    "start_time": "2022-06-04T11:20:53.281Z"
   },
   {
    "duration": 14,
    "start_time": "2022-06-04T11:20:53.328Z"
   },
   {
    "duration": 54,
    "start_time": "2022-06-04T11:20:53.344Z"
   },
   {
    "duration": 136,
    "start_time": "2022-06-04T11:20:53.400Z"
   },
   {
    "duration": 19,
    "start_time": "2022-06-04T11:20:53.537Z"
   },
   {
    "duration": 22,
    "start_time": "2022-06-04T11:20:53.565Z"
   },
   {
    "duration": 29,
    "start_time": "2022-06-04T11:20:53.589Z"
   },
   {
    "duration": 59,
    "start_time": "2022-06-04T11:20:53.620Z"
   },
   {
    "duration": 15,
    "start_time": "2022-06-04T11:20:53.681Z"
   },
   {
    "duration": 22,
    "start_time": "2022-06-04T11:20:53.697Z"
   },
   {
    "duration": 32,
    "start_time": "2022-06-04T11:20:53.720Z"
   },
   {
    "duration": 10,
    "start_time": "2022-06-04T11:20:53.754Z"
   },
   {
    "duration": 45,
    "start_time": "2022-06-04T11:20:53.766Z"
   },
   {
    "duration": 27,
    "start_time": "2022-06-04T11:20:53.812Z"
   },
   {
    "duration": 45,
    "start_time": "2022-06-04T11:20:53.840Z"
   },
   {
    "duration": 20,
    "start_time": "2022-06-04T11:20:53.887Z"
   },
   {
    "duration": 19,
    "start_time": "2022-06-04T11:20:53.909Z"
   },
   {
    "duration": 49,
    "start_time": "2022-06-04T11:20:53.930Z"
   },
   {
    "duration": 23,
    "start_time": "2022-06-04T11:20:53.981Z"
   },
   {
    "duration": 20,
    "start_time": "2022-06-04T11:20:54.006Z"
   },
   {
    "duration": 9,
    "start_time": "2022-06-04T11:20:54.028Z"
   },
   {
    "duration": 50,
    "start_time": "2022-06-04T11:20:54.039Z"
   },
   {
    "duration": 22,
    "start_time": "2022-06-04T11:20:54.090Z"
   },
   {
    "duration": 30,
    "start_time": "2022-06-04T11:20:54.113Z"
   },
   {
    "duration": 23,
    "start_time": "2022-06-04T11:20:54.144Z"
   },
   {
    "duration": 104,
    "start_time": "2022-06-04T11:20:54.172Z"
   },
   {
    "duration": 30,
    "start_time": "2022-06-04T11:20:54.277Z"
   },
   {
    "duration": 4,
    "start_time": "2022-06-04T11:20:54.308Z"
   },
   {
    "duration": 30,
    "start_time": "2022-06-04T11:20:54.313Z"
   },
   {
    "duration": 22,
    "start_time": "2022-06-04T11:20:54.344Z"
   },
   {
    "duration": 12,
    "start_time": "2022-06-04T11:20:54.367Z"
   },
   {
    "duration": 9,
    "start_time": "2022-06-04T11:20:54.381Z"
   },
   {
    "duration": 6,
    "start_time": "2022-06-04T11:20:54.391Z"
   },
   {
    "duration": 162,
    "start_time": "2022-06-04T11:20:54.398Z"
   },
   {
    "duration": 14,
    "start_time": "2022-06-04T11:20:54.572Z"
   },
   {
    "duration": 8,
    "start_time": "2022-06-04T11:20:54.588Z"
   },
   {
    "duration": 30,
    "start_time": "2022-06-04T11:20:54.597Z"
   },
   {
    "duration": 6,
    "start_time": "2022-06-04T11:20:54.629Z"
   },
   {
    "duration": 7,
    "start_time": "2022-06-04T11:20:54.636Z"
   },
   {
    "duration": 6,
    "start_time": "2022-06-04T11:20:54.645Z"
   },
   {
    "duration": 243,
    "start_time": "2022-06-04T11:20:54.652Z"
   },
   {
    "duration": 5,
    "start_time": "2022-06-04T11:20:54.896Z"
   },
   {
    "duration": 11,
    "start_time": "2022-06-04T11:20:54.902Z"
   },
   {
    "duration": 6,
    "start_time": "2022-06-04T11:20:54.914Z"
   },
   {
    "duration": 12,
    "start_time": "2022-06-04T11:20:54.922Z"
   },
   {
    "duration": 165,
    "start_time": "2022-06-04T11:20:54.935Z"
   },
   {
    "duration": 5,
    "start_time": "2022-06-04T11:20:55.102Z"
   },
   {
    "duration": 9,
    "start_time": "2022-06-04T11:20:55.108Z"
   },
   {
    "duration": 6,
    "start_time": "2022-06-04T11:20:55.119Z"
   },
   {
    "duration": 7,
    "start_time": "2022-06-04T11:20:55.127Z"
   },
   {
    "duration": 190,
    "start_time": "2022-06-04T11:20:55.135Z"
   },
   {
    "duration": 5,
    "start_time": "2022-06-04T11:20:55.327Z"
   },
   {
    "duration": 12,
    "start_time": "2022-06-04T11:20:55.335Z"
   },
   {
    "duration": 18,
    "start_time": "2022-06-04T11:20:55.350Z"
   },
   {
    "duration": 16,
    "start_time": "2022-06-04T11:20:55.370Z"
   },
   {
    "duration": 6,
    "start_time": "2022-06-04T11:20:55.388Z"
   },
   {
    "duration": 5,
    "start_time": "2022-06-04T11:20:55.396Z"
   },
   {
    "duration": 5,
    "start_time": "2022-06-04T11:20:55.403Z"
   },
   {
    "duration": 8,
    "start_time": "2022-06-04T11:20:55.410Z"
   },
   {
    "duration": 14,
    "start_time": "2022-06-04T11:20:55.419Z"
   },
   {
    "duration": 7,
    "start_time": "2022-06-04T11:20:55.435Z"
   },
   {
    "duration": 7,
    "start_time": "2022-06-04T11:20:55.443Z"
   },
   {
    "duration": 145,
    "start_time": "2022-06-04T11:20:55.451Z"
   },
   {
    "duration": 5,
    "start_time": "2022-06-04T11:20:55.597Z"
   },
   {
    "duration": 4,
    "start_time": "2022-06-04T11:22:07.727Z"
   },
   {
    "duration": 31,
    "start_time": "2022-06-04T11:24:00.760Z"
   },
   {
    "duration": 44,
    "start_time": "2022-06-04T11:24:05.235Z"
   },
   {
    "duration": 5,
    "start_time": "2022-06-04T11:24:47.050Z"
   },
   {
    "duration": 31,
    "start_time": "2022-06-04T11:25:19.851Z"
   },
   {
    "duration": 4,
    "start_time": "2022-06-04T11:25:20.603Z"
   },
   {
    "duration": 4,
    "start_time": "2022-06-04T11:25:21.187Z"
   },
   {
    "duration": 7,
    "start_time": "2022-06-04T11:25:40.418Z"
   },
   {
    "duration": 4,
    "start_time": "2022-06-04T11:25:43.944Z"
   },
   {
    "duration": 5,
    "start_time": "2022-06-04T11:25:47.076Z"
   },
   {
    "duration": 136,
    "start_time": "2022-06-04T11:25:51.348Z"
   },
   {
    "duration": 106,
    "start_time": "2022-06-04T11:25:54.019Z"
   },
   {
    "duration": 4,
    "start_time": "2022-06-04T11:26:17.007Z"
   },
   {
    "duration": 4,
    "start_time": "2022-06-04T11:28:20.915Z"
   },
   {
    "duration": 7,
    "start_time": "2022-06-04T11:29:15.939Z"
   },
   {
    "duration": 4,
    "start_time": "2022-06-04T11:29:17.176Z"
   },
   {
    "duration": 5,
    "start_time": "2022-06-04T11:29:18.515Z"
   },
   {
    "duration": 139,
    "start_time": "2022-06-04T11:29:20.299Z"
   },
   {
    "duration": 5,
    "start_time": "2022-06-04T11:29:22.614Z"
   },
   {
    "duration": 1129,
    "start_time": "2022-06-04T11:41:30.403Z"
   },
   {
    "duration": 60,
    "start_time": "2022-06-04T11:41:31.534Z"
   },
   {
    "duration": 11,
    "start_time": "2022-06-04T11:41:31.596Z"
   },
   {
    "duration": 27,
    "start_time": "2022-06-04T11:41:31.609Z"
   },
   {
    "duration": 25,
    "start_time": "2022-06-04T11:41:31.638Z"
   },
   {
    "duration": 18,
    "start_time": "2022-06-04T11:41:31.664Z"
   },
   {
    "duration": 18,
    "start_time": "2022-06-04T11:41:31.683Z"
   },
   {
    "duration": 180,
    "start_time": "2022-06-04T11:41:31.703Z"
   },
   {
    "duration": 25,
    "start_time": "2022-06-04T11:41:31.885Z"
   },
   {
    "duration": 10,
    "start_time": "2022-06-04T11:41:31.913Z"
   },
   {
    "duration": 128,
    "start_time": "2022-06-04T11:41:31.925Z"
   },
   {
    "duration": 30,
    "start_time": "2022-06-04T11:41:32.054Z"
   },
   {
    "duration": 55,
    "start_time": "2022-06-04T11:41:32.085Z"
   },
   {
    "duration": 104,
    "start_time": "2022-06-04T11:41:32.142Z"
   },
   {
    "duration": 32,
    "start_time": "2022-06-04T11:41:32.248Z"
   },
   {
    "duration": 45,
    "start_time": "2022-06-04T11:41:32.282Z"
   },
   {
    "duration": 13,
    "start_time": "2022-06-04T11:41:32.329Z"
   },
   {
    "duration": 50,
    "start_time": "2022-06-04T11:41:32.344Z"
   },
   {
    "duration": 134,
    "start_time": "2022-06-04T11:41:32.396Z"
   },
   {
    "duration": 18,
    "start_time": "2022-06-04T11:41:32.532Z"
   },
   {
    "duration": 21,
    "start_time": "2022-06-04T11:41:32.552Z"
   },
   {
    "duration": 31,
    "start_time": "2022-06-04T11:41:32.580Z"
   },
   {
    "duration": 43,
    "start_time": "2022-06-04T11:41:32.612Z"
   },
   {
    "duration": 25,
    "start_time": "2022-06-04T11:41:32.656Z"
   },
   {
    "duration": 17,
    "start_time": "2022-06-04T11:41:32.683Z"
   },
   {
    "duration": 34,
    "start_time": "2022-06-04T11:41:32.701Z"
   },
   {
    "duration": 11,
    "start_time": "2022-06-04T11:41:32.737Z"
   },
   {
    "duration": 39,
    "start_time": "2022-06-04T11:41:32.753Z"
   },
   {
    "duration": 27,
    "start_time": "2022-06-04T11:41:32.795Z"
   },
   {
    "duration": 57,
    "start_time": "2022-06-04T11:41:32.824Z"
   },
   {
    "duration": 15,
    "start_time": "2022-06-04T11:41:32.883Z"
   },
   {
    "duration": 20,
    "start_time": "2022-06-04T11:41:32.899Z"
   },
   {
    "duration": 22,
    "start_time": "2022-06-04T11:41:32.920Z"
   },
   {
    "duration": 44,
    "start_time": "2022-06-04T11:41:32.943Z"
   },
   {
    "duration": 20,
    "start_time": "2022-06-04T11:41:32.989Z"
   },
   {
    "duration": 8,
    "start_time": "2022-06-04T11:41:33.011Z"
   },
   {
    "duration": 18,
    "start_time": "2022-06-04T11:41:33.021Z"
   },
   {
    "duration": 47,
    "start_time": "2022-06-04T11:41:33.041Z"
   },
   {
    "duration": 31,
    "start_time": "2022-06-04T11:41:33.090Z"
   },
   {
    "duration": 4,
    "start_time": "2022-06-04T11:41:33.122Z"
   },
   {
    "duration": 137,
    "start_time": "2022-06-04T11:41:33.128Z"
   },
   {
    "duration": 32,
    "start_time": "2022-06-04T11:41:33.279Z"
   },
   {
    "duration": 10,
    "start_time": "2022-06-04T11:41:33.313Z"
   },
   {
    "duration": 43,
    "start_time": "2022-06-04T11:41:33.325Z"
   },
   {
    "duration": 6,
    "start_time": "2022-06-04T11:41:33.370Z"
   },
   {
    "duration": 18,
    "start_time": "2022-06-04T11:41:33.378Z"
   },
   {
    "duration": 6,
    "start_time": "2022-06-04T11:41:33.398Z"
   },
   {
    "duration": 8,
    "start_time": "2022-06-04T11:41:33.406Z"
   },
   {
    "duration": 137,
    "start_time": "2022-06-04T11:41:33.416Z"
   },
   {
    "duration": 18,
    "start_time": "2022-06-04T11:41:33.555Z"
   },
   {
    "duration": 10,
    "start_time": "2022-06-04T11:41:33.575Z"
   },
   {
    "duration": 33,
    "start_time": "2022-06-04T11:41:33.586Z"
   },
   {
    "duration": 3,
    "start_time": "2022-06-04T11:41:33.621Z"
   },
   {
    "duration": 8,
    "start_time": "2022-06-04T11:41:33.626Z"
   },
   {
    "duration": 7,
    "start_time": "2022-06-04T11:41:33.636Z"
   },
   {
    "duration": 233,
    "start_time": "2022-06-04T11:41:33.645Z"
   },
   {
    "duration": 8,
    "start_time": "2022-06-04T11:41:33.879Z"
   },
   {
    "duration": 10,
    "start_time": "2022-06-04T11:41:33.888Z"
   },
   {
    "duration": 5,
    "start_time": "2022-06-04T11:41:33.899Z"
   },
   {
    "duration": 5,
    "start_time": "2022-06-04T11:41:33.906Z"
   },
   {
    "duration": 145,
    "start_time": "2022-06-04T11:41:33.913Z"
   },
   {
    "duration": 19,
    "start_time": "2022-06-04T11:41:34.059Z"
   },
   {
    "duration": 8,
    "start_time": "2022-06-04T11:41:34.080Z"
   },
   {
    "duration": 7,
    "start_time": "2022-06-04T11:41:34.090Z"
   },
   {
    "duration": 7,
    "start_time": "2022-06-04T11:41:34.099Z"
   },
   {
    "duration": 172,
    "start_time": "2022-06-04T11:41:34.108Z"
   },
   {
    "duration": 5,
    "start_time": "2022-06-04T11:41:34.282Z"
   },
   {
    "duration": 10,
    "start_time": "2022-06-04T11:41:34.288Z"
   },
   {
    "duration": 32,
    "start_time": "2022-06-04T11:41:34.300Z"
   },
   {
    "duration": 6,
    "start_time": "2022-06-04T11:41:34.333Z"
   },
   {
    "duration": 41,
    "start_time": "2022-06-04T11:41:34.341Z"
   },
   {
    "duration": 7,
    "start_time": "2022-06-04T11:41:34.384Z"
   },
   {
    "duration": 127,
    "start_time": "2022-06-04T11:41:34.393Z"
   },
   {
    "duration": 5,
    "start_time": "2022-06-04T11:41:34.522Z"
   },
   {
    "duration": 12,
    "start_time": "2022-06-04T11:41:34.528Z"
   },
   {
    "duration": 5,
    "start_time": "2022-06-04T11:41:34.541Z"
   },
   {
    "duration": 18,
    "start_time": "2022-06-04T11:41:34.548Z"
   },
   {
    "duration": 160,
    "start_time": "2022-06-04T11:41:34.569Z"
   },
   {
    "duration": 4,
    "start_time": "2022-06-04T11:41:34.731Z"
   },
   {
    "duration": 7,
    "start_time": "2022-06-04T11:43:27.191Z"
   },
   {
    "duration": 3,
    "start_time": "2022-06-04T11:44:03.492Z"
   },
   {
    "duration": 6,
    "start_time": "2022-06-04T11:44:11.033Z"
   },
   {
    "duration": 5,
    "start_time": "2022-06-04T12:07:33.457Z"
   },
   {
    "duration": 1161,
    "start_time": "2022-06-04T12:08:57.208Z"
   },
   {
    "duration": 62,
    "start_time": "2022-06-04T12:08:58.372Z"
   },
   {
    "duration": 15,
    "start_time": "2022-06-04T12:08:58.436Z"
   },
   {
    "duration": 31,
    "start_time": "2022-06-04T12:08:58.453Z"
   },
   {
    "duration": 9,
    "start_time": "2022-06-04T12:08:58.487Z"
   },
   {
    "duration": 10,
    "start_time": "2022-06-04T12:08:58.498Z"
   },
   {
    "duration": 18,
    "start_time": "2022-06-04T12:08:58.510Z"
   },
   {
    "duration": 209,
    "start_time": "2022-06-04T12:08:58.530Z"
   },
   {
    "duration": 41,
    "start_time": "2022-06-04T12:08:58.741Z"
   },
   {
    "duration": 22,
    "start_time": "2022-06-04T12:08:58.789Z"
   },
   {
    "duration": 145,
    "start_time": "2022-06-04T12:08:58.813Z"
   },
   {
    "duration": 46,
    "start_time": "2022-06-04T12:08:58.960Z"
   },
   {
    "duration": 93,
    "start_time": "2022-06-04T12:08:59.009Z"
   },
   {
    "duration": 125,
    "start_time": "2022-06-04T12:08:59.106Z"
   },
   {
    "duration": 23,
    "start_time": "2022-06-04T12:08:59.234Z"
   },
   {
    "duration": 63,
    "start_time": "2022-06-04T12:08:59.258Z"
   },
   {
    "duration": 17,
    "start_time": "2022-06-04T12:08:59.323Z"
   },
   {
    "duration": 58,
    "start_time": "2022-06-04T12:08:59.342Z"
   },
   {
    "duration": 181,
    "start_time": "2022-06-04T12:08:59.403Z"
   },
   {
    "duration": 23,
    "start_time": "2022-06-04T12:08:59.586Z"
   },
   {
    "duration": 23,
    "start_time": "2022-06-04T12:08:59.611Z"
   },
   {
    "duration": 65,
    "start_time": "2022-06-04T12:08:59.636Z"
   },
   {
    "duration": 85,
    "start_time": "2022-06-04T12:08:59.703Z"
   },
   {
    "duration": 12,
    "start_time": "2022-06-04T12:08:59.790Z"
   },
   {
    "duration": 18,
    "start_time": "2022-06-04T12:08:59.803Z"
   },
   {
    "duration": 27,
    "start_time": "2022-06-04T12:08:59.824Z"
   },
   {
    "duration": 24,
    "start_time": "2022-06-04T12:08:59.853Z"
   },
   {
    "duration": 38,
    "start_time": "2022-06-04T12:08:59.879Z"
   },
   {
    "duration": 27,
    "start_time": "2022-06-04T12:08:59.918Z"
   },
   {
    "duration": 54,
    "start_time": "2022-06-04T12:08:59.947Z"
   },
   {
    "duration": 16,
    "start_time": "2022-06-04T12:09:00.002Z"
   },
   {
    "duration": 22,
    "start_time": "2022-06-04T12:09:00.020Z"
   },
   {
    "duration": 25,
    "start_time": "2022-06-04T12:09:00.070Z"
   },
   {
    "duration": 24,
    "start_time": "2022-06-04T12:09:00.097Z"
   },
   {
    "duration": 47,
    "start_time": "2022-06-04T12:09:00.123Z"
   },
   {
    "duration": 17,
    "start_time": "2022-06-04T12:09:00.171Z"
   },
   {
    "duration": 31,
    "start_time": "2022-06-04T12:09:00.191Z"
   },
   {
    "duration": 41,
    "start_time": "2022-06-04T12:09:00.224Z"
   },
   {
    "duration": 36,
    "start_time": "2022-06-04T12:09:00.268Z"
   },
   {
    "duration": 6,
    "start_time": "2022-06-04T12:09:00.305Z"
   },
   {
    "duration": 119,
    "start_time": "2022-06-04T12:09:00.315Z"
   },
   {
    "duration": 58,
    "start_time": "2022-06-04T12:09:00.435Z"
   },
   {
    "duration": 5,
    "start_time": "2022-06-04T12:09:00.495Z"
   },
   {
    "duration": 41,
    "start_time": "2022-06-04T12:09:00.502Z"
   },
   {
    "duration": 34,
    "start_time": "2022-06-04T12:09:00.545Z"
   },
   {
    "duration": 20,
    "start_time": "2022-06-04T12:09:00.583Z"
   },
   {
    "duration": 26,
    "start_time": "2022-06-04T12:09:00.605Z"
   },
   {
    "duration": 25,
    "start_time": "2022-06-04T12:09:00.633Z"
   },
   {
    "duration": 193,
    "start_time": "2022-06-04T12:09:00.659Z"
   },
   {
    "duration": 21,
    "start_time": "2022-06-04T12:09:00.854Z"
   },
   {
    "duration": 50,
    "start_time": "2022-06-04T12:09:00.878Z"
   },
   {
    "duration": 49,
    "start_time": "2022-06-04T12:09:00.930Z"
   },
   {
    "duration": 4,
    "start_time": "2022-06-04T12:09:00.982Z"
   },
   {
    "duration": 11,
    "start_time": "2022-06-04T12:09:00.988Z"
   },
   {
    "duration": 14,
    "start_time": "2022-06-04T12:09:01.000Z"
   },
   {
    "duration": 261,
    "start_time": "2022-06-04T12:09:01.016Z"
   },
   {
    "duration": 4,
    "start_time": "2022-06-04T12:09:01.283Z"
   },
   {
    "duration": 16,
    "start_time": "2022-06-04T12:09:01.289Z"
   },
   {
    "duration": 14,
    "start_time": "2022-06-04T12:09:01.307Z"
   },
   {
    "duration": 13,
    "start_time": "2022-06-04T12:09:01.323Z"
   },
   {
    "duration": 158,
    "start_time": "2022-06-04T12:09:01.338Z"
   },
   {
    "duration": 5,
    "start_time": "2022-06-04T12:09:01.498Z"
   },
   {
    "duration": 21,
    "start_time": "2022-06-04T12:09:01.504Z"
   },
   {
    "duration": 12,
    "start_time": "2022-06-04T12:09:01.527Z"
   },
   {
    "duration": 50,
    "start_time": "2022-06-04T12:09:01.541Z"
   },
   {
    "duration": 185,
    "start_time": "2022-06-04T12:09:01.593Z"
   },
   {
    "duration": 6,
    "start_time": "2022-06-04T12:09:01.781Z"
   },
   {
    "duration": 11,
    "start_time": "2022-06-04T12:09:01.789Z"
   },
   {
    "duration": 34,
    "start_time": "2022-06-04T12:09:01.801Z"
   },
   {
    "duration": 8,
    "start_time": "2022-06-04T12:09:01.836Z"
   },
   {
    "duration": 23,
    "start_time": "2022-06-04T12:09:01.846Z"
   },
   {
    "duration": 8,
    "start_time": "2022-06-04T12:09:01.880Z"
   },
   {
    "duration": 164,
    "start_time": "2022-06-04T12:09:01.890Z"
   },
   {
    "duration": 22,
    "start_time": "2022-06-04T12:09:02.056Z"
   },
   {
    "duration": 13,
    "start_time": "2022-06-04T12:09:02.082Z"
   },
   {
    "duration": 7,
    "start_time": "2022-06-04T12:09:02.097Z"
   },
   {
    "duration": 8,
    "start_time": "2022-06-04T12:09:02.106Z"
   },
   {
    "duration": 166,
    "start_time": "2022-06-04T12:09:02.116Z"
   },
   {
    "duration": 6,
    "start_time": "2022-06-04T12:09:02.284Z"
   },
   {
    "duration": 24,
    "start_time": "2022-06-04T12:09:02.291Z"
   },
   {
    "duration": 35,
    "start_time": "2022-06-04T12:09:02.316Z"
   },
   {
    "duration": 11,
    "start_time": "2022-06-04T12:09:02.353Z"
   },
   {
    "duration": 17,
    "start_time": "2022-06-04T12:15:24.685Z"
   },
   {
    "duration": 24,
    "start_time": "2022-06-04T12:15:45.495Z"
   },
   {
    "duration": 128,
    "start_time": "2022-06-04T12:16:02.093Z"
   },
   {
    "duration": 1080,
    "start_time": "2022-06-04T12:17:30.800Z"
   },
   {
    "duration": 54,
    "start_time": "2022-06-04T12:17:31.882Z"
   },
   {
    "duration": 12,
    "start_time": "2022-06-04T12:17:31.938Z"
   },
   {
    "duration": 33,
    "start_time": "2022-06-04T12:17:31.951Z"
   },
   {
    "duration": 16,
    "start_time": "2022-06-04T12:17:31.987Z"
   },
   {
    "duration": 18,
    "start_time": "2022-06-04T12:17:32.004Z"
   },
   {
    "duration": 29,
    "start_time": "2022-06-04T12:17:32.023Z"
   },
   {
    "duration": 195,
    "start_time": "2022-06-04T12:17:32.053Z"
   },
   {
    "duration": 39,
    "start_time": "2022-06-04T12:17:32.250Z"
   },
   {
    "duration": 12,
    "start_time": "2022-06-04T12:17:32.290Z"
   },
   {
    "duration": 118,
    "start_time": "2022-06-04T12:17:32.303Z"
   },
   {
    "duration": 33,
    "start_time": "2022-06-04T12:17:32.423Z"
   },
   {
    "duration": 54,
    "start_time": "2022-06-04T12:17:32.468Z"
   },
   {
    "duration": 98,
    "start_time": "2022-06-04T12:17:32.525Z"
   },
   {
    "duration": 20,
    "start_time": "2022-06-04T12:17:32.625Z"
   },
   {
    "duration": 61,
    "start_time": "2022-06-04T12:17:32.646Z"
   },
   {
    "duration": 14,
    "start_time": "2022-06-04T12:17:32.708Z"
   },
   {
    "duration": 62,
    "start_time": "2022-06-04T12:17:32.724Z"
   },
   {
    "duration": 145,
    "start_time": "2022-06-04T12:17:32.788Z"
   },
   {
    "duration": 29,
    "start_time": "2022-06-04T12:17:32.935Z"
   },
   {
    "duration": 17,
    "start_time": "2022-06-04T12:17:32.965Z"
   },
   {
    "duration": 26,
    "start_time": "2022-06-04T12:17:32.984Z"
   },
   {
    "duration": 74,
    "start_time": "2022-06-04T12:17:33.012Z"
   },
   {
    "duration": 12,
    "start_time": "2022-06-04T12:17:33.089Z"
   },
   {
    "duration": 16,
    "start_time": "2022-06-04T12:17:33.103Z"
   },
   {
    "duration": 33,
    "start_time": "2022-06-04T12:17:33.120Z"
   },
   {
    "duration": 9,
    "start_time": "2022-06-04T12:17:33.155Z"
   },
   {
    "duration": 44,
    "start_time": "2022-06-04T12:17:33.166Z"
   },
   {
    "duration": 27,
    "start_time": "2022-06-04T12:17:33.212Z"
   },
   {
    "duration": 41,
    "start_time": "2022-06-04T12:17:33.241Z"
   },
   {
    "duration": 15,
    "start_time": "2022-06-04T12:17:33.284Z"
   },
   {
    "duration": 19,
    "start_time": "2022-06-04T12:17:33.300Z"
   },
   {
    "duration": 23,
    "start_time": "2022-06-04T12:17:33.320Z"
   },
   {
    "duration": 25,
    "start_time": "2022-06-04T12:17:33.366Z"
   },
   {
    "duration": 19,
    "start_time": "2022-06-04T12:17:33.393Z"
   },
   {
    "duration": 9,
    "start_time": "2022-06-04T12:17:33.414Z"
   },
   {
    "duration": 44,
    "start_time": "2022-06-04T12:17:33.425Z"
   },
   {
    "duration": 23,
    "start_time": "2022-06-04T12:17:33.471Z"
   },
   {
    "duration": 29,
    "start_time": "2022-06-04T12:17:33.496Z"
   },
   {
    "duration": 5,
    "start_time": "2022-06-04T12:17:33.526Z"
   },
   {
    "duration": 120,
    "start_time": "2022-06-04T12:17:33.534Z"
   },
   {
    "duration": 39,
    "start_time": "2022-06-04T12:17:33.656Z"
   },
   {
    "duration": 5,
    "start_time": "2022-06-04T12:17:33.697Z"
   },
   {
    "duration": 28,
    "start_time": "2022-06-04T12:17:33.704Z"
   },
   {
    "duration": 4,
    "start_time": "2022-06-04T12:17:33.734Z"
   },
   {
    "duration": 37,
    "start_time": "2022-06-04T12:17:33.740Z"
   },
   {
    "duration": 7,
    "start_time": "2022-06-04T12:17:33.781Z"
   },
   {
    "duration": 7,
    "start_time": "2022-06-04T12:17:33.790Z"
   },
   {
    "duration": 146,
    "start_time": "2022-06-04T12:17:33.799Z"
   },
   {
    "duration": 3,
    "start_time": "2022-06-04T12:17:33.947Z"
   },
   {
    "duration": 26,
    "start_time": "2022-06-04T12:17:33.952Z"
   },
   {
    "duration": 28,
    "start_time": "2022-06-04T12:17:33.980Z"
   },
   {
    "duration": 4,
    "start_time": "2022-06-04T12:17:34.009Z"
   },
   {
    "duration": 6,
    "start_time": "2022-06-04T12:17:34.014Z"
   },
   {
    "duration": 6,
    "start_time": "2022-06-04T12:17:34.022Z"
   },
   {
    "duration": 223,
    "start_time": "2022-06-04T12:17:34.030Z"
   },
   {
    "duration": 21,
    "start_time": "2022-06-04T12:17:34.254Z"
   },
   {
    "duration": 16,
    "start_time": "2022-06-04T12:17:34.277Z"
   },
   {
    "duration": 7,
    "start_time": "2022-06-04T12:17:34.294Z"
   },
   {
    "duration": 14,
    "start_time": "2022-06-04T12:17:34.302Z"
   },
   {
    "duration": 133,
    "start_time": "2022-06-04T12:17:34.318Z"
   },
   {
    "duration": 4,
    "start_time": "2022-06-04T12:17:34.453Z"
   },
   {
    "duration": 19,
    "start_time": "2022-06-04T12:17:34.464Z"
   },
   {
    "duration": 9,
    "start_time": "2022-06-04T12:17:34.485Z"
   },
   {
    "duration": 6,
    "start_time": "2022-06-04T12:17:34.495Z"
   },
   {
    "duration": 172,
    "start_time": "2022-06-04T12:17:34.503Z"
   },
   {
    "duration": 8,
    "start_time": "2022-06-04T12:17:34.677Z"
   },
   {
    "duration": 6,
    "start_time": "2022-06-04T12:17:34.687Z"
   },
   {
    "duration": 31,
    "start_time": "2022-06-04T12:17:34.695Z"
   },
   {
    "duration": 6,
    "start_time": "2022-06-04T12:17:34.728Z"
   },
   {
    "duration": 6,
    "start_time": "2022-06-04T12:17:34.735Z"
   },
   {
    "duration": 24,
    "start_time": "2022-06-04T12:17:34.742Z"
   },
   {
    "duration": 158,
    "start_time": "2022-06-04T12:17:34.768Z"
   },
   {
    "duration": 5,
    "start_time": "2022-06-04T12:17:34.928Z"
   },
   {
    "duration": 11,
    "start_time": "2022-06-04T12:17:34.935Z"
   },
   {
    "duration": 18,
    "start_time": "2022-06-04T12:17:34.947Z"
   },
   {
    "duration": 21,
    "start_time": "2022-06-04T12:17:34.968Z"
   },
   {
    "duration": 140,
    "start_time": "2022-06-04T12:17:34.991Z"
   },
   {
    "duration": 4,
    "start_time": "2022-06-04T12:17:35.132Z"
   },
   {
    "duration": 8,
    "start_time": "2022-06-04T12:17:35.138Z"
   },
   {
    "duration": 22,
    "start_time": "2022-06-04T12:17:35.147Z"
   },
   {
    "duration": 6,
    "start_time": "2022-06-04T12:17:35.170Z"
   },
   {
    "duration": 33,
    "start_time": "2022-06-04T12:17:35.177Z"
   },
   {
    "duration": 139,
    "start_time": "2022-06-04T12:17:35.211Z"
   },
   {
    "duration": 37,
    "start_time": "2022-06-04T12:17:47.945Z"
   },
   {
    "duration": 30,
    "start_time": "2022-06-04T12:18:57.292Z"
   },
   {
    "duration": 1064,
    "start_time": "2022-06-04T12:20:30.323Z"
   },
   {
    "duration": 55,
    "start_time": "2022-06-04T12:20:31.389Z"
   },
   {
    "duration": 13,
    "start_time": "2022-06-04T12:20:31.446Z"
   },
   {
    "duration": 46,
    "start_time": "2022-06-04T12:20:31.461Z"
   },
   {
    "duration": 29,
    "start_time": "2022-06-04T12:20:31.509Z"
   },
   {
    "duration": 16,
    "start_time": "2022-06-04T12:20:31.540Z"
   },
   {
    "duration": 68,
    "start_time": "2022-06-04T12:20:31.558Z"
   },
   {
    "duration": 181,
    "start_time": "2022-06-04T12:20:31.628Z"
   },
   {
    "duration": 26,
    "start_time": "2022-06-04T12:20:31.811Z"
   },
   {
    "duration": 38,
    "start_time": "2022-06-04T12:20:31.839Z"
   },
   {
    "duration": 132,
    "start_time": "2022-06-04T12:20:31.881Z"
   },
   {
    "duration": 22,
    "start_time": "2022-06-04T12:20:32.015Z"
   },
   {
    "duration": 74,
    "start_time": "2022-06-04T12:20:32.039Z"
   },
   {
    "duration": 104,
    "start_time": "2022-06-04T12:20:32.116Z"
   },
   {
    "duration": 21,
    "start_time": "2022-06-04T12:20:32.221Z"
   },
   {
    "duration": 69,
    "start_time": "2022-06-04T12:20:32.244Z"
   },
   {
    "duration": 14,
    "start_time": "2022-06-04T12:20:32.315Z"
   },
   {
    "duration": 52,
    "start_time": "2022-06-04T12:20:32.330Z"
   },
   {
    "duration": 144,
    "start_time": "2022-06-04T12:20:32.383Z"
   },
   {
    "duration": 20,
    "start_time": "2022-06-04T12:20:32.529Z"
   },
   {
    "duration": 26,
    "start_time": "2022-06-04T12:20:32.551Z"
   },
   {
    "duration": 29,
    "start_time": "2022-06-04T12:20:32.582Z"
   },
   {
    "duration": 41,
    "start_time": "2022-06-04T12:20:32.612Z"
   },
   {
    "duration": 20,
    "start_time": "2022-06-04T12:20:32.666Z"
   },
   {
    "duration": 17,
    "start_time": "2022-06-04T12:20:32.687Z"
   },
   {
    "duration": 33,
    "start_time": "2022-06-04T12:20:32.706Z"
   },
   {
    "duration": 11,
    "start_time": "2022-06-04T12:20:32.740Z"
   },
   {
    "duration": 39,
    "start_time": "2022-06-04T12:20:32.752Z"
   },
   {
    "duration": 28,
    "start_time": "2022-06-04T12:20:32.793Z"
   },
   {
    "duration": 57,
    "start_time": "2022-06-04T12:20:32.822Z"
   },
   {
    "duration": 16,
    "start_time": "2022-06-04T12:20:32.882Z"
   },
   {
    "duration": 20,
    "start_time": "2022-06-04T12:20:32.899Z"
   },
   {
    "duration": 22,
    "start_time": "2022-06-04T12:20:32.920Z"
   },
   {
    "duration": 39,
    "start_time": "2022-06-04T12:20:32.944Z"
   },
   {
    "duration": 21,
    "start_time": "2022-06-04T12:20:32.984Z"
   },
   {
    "duration": 8,
    "start_time": "2022-06-04T12:20:33.007Z"
   },
   {
    "duration": 17,
    "start_time": "2022-06-04T12:20:33.016Z"
   },
   {
    "duration": 58,
    "start_time": "2022-06-04T12:20:33.035Z"
   },
   {
    "duration": 29,
    "start_time": "2022-06-04T12:20:33.095Z"
   },
   {
    "duration": 5,
    "start_time": "2022-06-04T12:20:33.126Z"
   },
   {
    "duration": 109,
    "start_time": "2022-06-04T12:20:33.136Z"
   },
   {
    "duration": 45,
    "start_time": "2022-06-04T12:20:33.247Z"
   },
   {
    "duration": 4,
    "start_time": "2022-06-04T12:20:33.293Z"
   },
   {
    "duration": 29,
    "start_time": "2022-06-04T12:20:33.298Z"
   },
   {
    "duration": 5,
    "start_time": "2022-06-04T12:20:33.328Z"
   },
   {
    "duration": 38,
    "start_time": "2022-06-04T12:20:33.335Z"
   },
   {
    "duration": 4,
    "start_time": "2022-06-04T12:20:33.375Z"
   },
   {
    "duration": 8,
    "start_time": "2022-06-04T12:20:33.381Z"
   },
   {
    "duration": 142,
    "start_time": "2022-06-04T12:20:33.391Z"
   },
   {
    "duration": 5,
    "start_time": "2022-06-04T12:20:33.535Z"
   },
   {
    "duration": 7,
    "start_time": "2022-06-04T12:20:33.541Z"
   },
   {
    "duration": 34,
    "start_time": "2022-06-04T12:20:33.568Z"
   },
   {
    "duration": 13,
    "start_time": "2022-06-04T12:20:33.604Z"
   },
   {
    "duration": 8,
    "start_time": "2022-06-04T12:20:33.618Z"
   },
   {
    "duration": 12,
    "start_time": "2022-06-04T12:20:33.628Z"
   },
   {
    "duration": 239,
    "start_time": "2022-06-04T12:20:33.641Z"
   },
   {
    "duration": 4,
    "start_time": "2022-06-04T12:20:33.882Z"
   },
   {
    "duration": 11,
    "start_time": "2022-06-04T12:20:33.888Z"
   },
   {
    "duration": 4,
    "start_time": "2022-06-04T12:20:33.900Z"
   },
   {
    "duration": 5,
    "start_time": "2022-06-04T12:20:33.906Z"
   },
   {
    "duration": 150,
    "start_time": "2022-06-04T12:20:33.913Z"
   },
   {
    "duration": 12,
    "start_time": "2022-06-04T12:20:34.067Z"
   },
   {
    "duration": 10,
    "start_time": "2022-06-04T12:20:34.080Z"
   },
   {
    "duration": 6,
    "start_time": "2022-06-04T12:20:34.091Z"
   },
   {
    "duration": 6,
    "start_time": "2022-06-04T12:20:34.098Z"
   },
   {
    "duration": 189,
    "start_time": "2022-06-04T12:20:34.105Z"
   },
   {
    "duration": 5,
    "start_time": "2022-06-04T12:20:34.296Z"
   },
   {
    "duration": 8,
    "start_time": "2022-06-04T12:20:34.302Z"
   },
   {
    "duration": 40,
    "start_time": "2022-06-04T12:20:34.311Z"
   },
   {
    "duration": 18,
    "start_time": "2022-06-04T12:20:34.352Z"
   },
   {
    "duration": 13,
    "start_time": "2022-06-04T12:20:34.371Z"
   },
   {
    "duration": 7,
    "start_time": "2022-06-04T12:20:34.385Z"
   },
   {
    "duration": 133,
    "start_time": "2022-06-04T12:20:34.394Z"
   },
   {
    "duration": 4,
    "start_time": "2022-06-04T12:20:34.529Z"
   },
   {
    "duration": 9,
    "start_time": "2022-06-04T12:20:34.535Z"
   },
   {
    "duration": 22,
    "start_time": "2022-06-04T12:20:34.546Z"
   },
   {
    "duration": 17,
    "start_time": "2022-06-04T12:20:34.570Z"
   },
   {
    "duration": 140,
    "start_time": "2022-06-04T12:20:34.589Z"
   },
   {
    "duration": 4,
    "start_time": "2022-06-04T12:20:34.731Z"
   },
   {
    "duration": 12,
    "start_time": "2022-06-04T12:20:34.736Z"
   },
   {
    "duration": 22,
    "start_time": "2022-06-04T12:20:34.749Z"
   },
   {
    "duration": 13,
    "start_time": "2022-06-04T12:20:34.778Z"
   },
   {
    "duration": 25,
    "start_time": "2022-06-04T12:20:34.793Z"
   },
   {
    "duration": 32,
    "start_time": "2022-06-04T12:20:34.820Z"
   },
   {
    "duration": 37,
    "start_time": "2022-06-04T12:20:34.854Z"
   },
   {
    "duration": 6,
    "start_time": "2022-06-04T12:20:34.892Z"
   },
   {
    "duration": 8,
    "start_time": "2022-06-04T12:21:36.111Z"
   },
   {
    "duration": 18,
    "start_time": "2022-06-04T12:21:46.130Z"
   },
   {
    "duration": 19,
    "start_time": "2022-06-04T12:21:57.941Z"
   },
   {
    "duration": 28,
    "start_time": "2022-06-04T12:22:05.446Z"
   },
   {
    "duration": 192,
    "start_time": "2022-06-04T12:23:54.417Z"
   },
   {
    "duration": 1147,
    "start_time": "2022-06-04T12:24:13.941Z"
   },
   {
    "duration": 52,
    "start_time": "2022-06-04T12:24:15.091Z"
   },
   {
    "duration": 12,
    "start_time": "2022-06-04T12:24:15.147Z"
   },
   {
    "duration": 29,
    "start_time": "2022-06-04T12:24:15.160Z"
   },
   {
    "duration": 7,
    "start_time": "2022-06-04T12:24:15.192Z"
   },
   {
    "duration": 7,
    "start_time": "2022-06-04T12:24:15.201Z"
   },
   {
    "duration": 14,
    "start_time": "2022-06-04T12:24:15.210Z"
   },
   {
    "duration": 187,
    "start_time": "2022-06-04T12:24:15.226Z"
   },
   {
    "duration": 30,
    "start_time": "2022-06-04T12:24:15.416Z"
   },
   {
    "duration": 19,
    "start_time": "2022-06-04T12:24:15.448Z"
   },
   {
    "duration": 124,
    "start_time": "2022-06-04T12:24:15.470Z"
   },
   {
    "duration": 21,
    "start_time": "2022-06-04T12:24:15.596Z"
   },
   {
    "duration": 62,
    "start_time": "2022-06-04T12:24:15.619Z"
   },
   {
    "duration": 103,
    "start_time": "2022-06-04T12:24:15.683Z"
   },
   {
    "duration": 20,
    "start_time": "2022-06-04T12:24:15.788Z"
   },
   {
    "duration": 66,
    "start_time": "2022-06-04T12:24:15.810Z"
   },
   {
    "duration": 14,
    "start_time": "2022-06-04T12:24:15.878Z"
   },
   {
    "duration": 36,
    "start_time": "2022-06-04T12:24:15.894Z"
   },
   {
    "duration": 165,
    "start_time": "2022-06-04T12:24:15.931Z"
   },
   {
    "duration": 24,
    "start_time": "2022-06-04T12:24:16.097Z"
   },
   {
    "duration": 12,
    "start_time": "2022-06-04T12:24:16.122Z"
   },
   {
    "duration": 52,
    "start_time": "2022-06-04T12:24:16.136Z"
   },
   {
    "duration": 45,
    "start_time": "2022-06-04T12:24:16.189Z"
   },
   {
    "duration": 32,
    "start_time": "2022-06-04T12:24:16.236Z"
   },
   {
    "duration": 19,
    "start_time": "2022-06-04T12:24:16.270Z"
   },
   {
    "duration": 31,
    "start_time": "2022-06-04T12:24:16.291Z"
   },
   {
    "duration": 10,
    "start_time": "2022-06-04T12:24:16.326Z"
   },
   {
    "duration": 40,
    "start_time": "2022-06-04T12:24:16.337Z"
   },
   {
    "duration": 27,
    "start_time": "2022-06-04T12:24:16.379Z"
   },
   {
    "duration": 32,
    "start_time": "2022-06-04T12:24:16.408Z"
   },
   {
    "duration": 38,
    "start_time": "2022-06-04T12:24:16.442Z"
   },
   {
    "duration": 19,
    "start_time": "2022-06-04T12:24:16.482Z"
   },
   {
    "duration": 21,
    "start_time": "2022-06-04T12:24:16.503Z"
   },
   {
    "duration": 40,
    "start_time": "2022-06-04T12:24:16.526Z"
   },
   {
    "duration": 27,
    "start_time": "2022-06-04T12:24:16.574Z"
   },
   {
    "duration": 9,
    "start_time": "2022-06-04T12:24:16.603Z"
   },
   {
    "duration": 17,
    "start_time": "2022-06-04T12:24:16.614Z"
   },
   {
    "duration": 45,
    "start_time": "2022-06-04T12:24:16.633Z"
   },
   {
    "duration": 30,
    "start_time": "2022-06-04T12:24:16.680Z"
   },
   {
    "duration": 5,
    "start_time": "2022-06-04T12:24:16.711Z"
   },
   {
    "duration": 115,
    "start_time": "2022-06-04T12:24:16.717Z"
   },
   {
    "duration": 46,
    "start_time": "2022-06-04T12:24:16.833Z"
   },
   {
    "duration": 5,
    "start_time": "2022-06-04T12:24:16.880Z"
   },
   {
    "duration": 32,
    "start_time": "2022-06-04T12:24:16.886Z"
   },
   {
    "duration": 8,
    "start_time": "2022-06-04T12:24:16.920Z"
   },
   {
    "duration": 8,
    "start_time": "2022-06-04T12:24:16.929Z"
   },
   {
    "duration": 5,
    "start_time": "2022-06-04T12:24:16.938Z"
   },
   {
    "duration": 35,
    "start_time": "2022-06-04T12:24:16.945Z"
   },
   {
    "duration": 144,
    "start_time": "2022-06-04T12:24:16.981Z"
   },
   {
    "duration": 3,
    "start_time": "2022-06-04T12:24:17.127Z"
   },
   {
    "duration": 6,
    "start_time": "2022-06-04T12:24:17.132Z"
   },
   {
    "duration": 50,
    "start_time": "2022-06-04T12:24:17.140Z"
   },
   {
    "duration": 5,
    "start_time": "2022-06-04T12:24:17.192Z"
   },
   {
    "duration": 6,
    "start_time": "2022-06-04T12:24:17.199Z"
   },
   {
    "duration": 5,
    "start_time": "2022-06-04T12:24:17.207Z"
   },
   {
    "duration": 260,
    "start_time": "2022-06-04T12:24:17.214Z"
   },
   {
    "duration": 8,
    "start_time": "2022-06-04T12:24:17.476Z"
   },
   {
    "duration": 13,
    "start_time": "2022-06-04T12:24:17.486Z"
   },
   {
    "duration": 5,
    "start_time": "2022-06-04T12:24:17.500Z"
   },
   {
    "duration": 6,
    "start_time": "2022-06-04T12:24:17.506Z"
   },
   {
    "duration": 159,
    "start_time": "2022-06-04T12:24:17.514Z"
   },
   {
    "duration": 4,
    "start_time": "2022-06-04T12:24:17.679Z"
   },
   {
    "duration": 11,
    "start_time": "2022-06-04T12:24:17.685Z"
   },
   {
    "duration": 6,
    "start_time": "2022-06-04T12:24:17.698Z"
   },
   {
    "duration": 6,
    "start_time": "2022-06-04T12:24:17.706Z"
   },
   {
    "duration": 173,
    "start_time": "2022-06-04T12:24:17.714Z"
   },
   {
    "duration": 6,
    "start_time": "2022-06-04T12:24:17.889Z"
   },
   {
    "duration": 6,
    "start_time": "2022-06-04T12:24:17.896Z"
   },
   {
    "duration": 31,
    "start_time": "2022-06-04T12:24:17.903Z"
   },
   {
    "duration": 5,
    "start_time": "2022-06-04T12:24:17.936Z"
   },
   {
    "duration": 34,
    "start_time": "2022-06-04T12:24:17.943Z"
   },
   {
    "duration": 4,
    "start_time": "2022-06-04T12:24:17.979Z"
   },
   {
    "duration": 128,
    "start_time": "2022-06-04T12:24:17.984Z"
   },
   {
    "duration": 5,
    "start_time": "2022-06-04T12:24:18.113Z"
   },
   {
    "duration": 12,
    "start_time": "2022-06-04T12:24:18.119Z"
   },
   {
    "duration": 4,
    "start_time": "2022-06-04T12:24:18.132Z"
   },
   {
    "duration": 6,
    "start_time": "2022-06-04T12:24:18.138Z"
   },
   {
    "duration": 152,
    "start_time": "2022-06-04T12:24:18.145Z"
   },
   {
    "duration": 5,
    "start_time": "2022-06-04T12:24:18.298Z"
   },
   {
    "duration": 25,
    "start_time": "2022-06-04T12:24:18.304Z"
   },
   {
    "duration": 18,
    "start_time": "2022-06-04T12:24:18.334Z"
   },
   {
    "duration": 43,
    "start_time": "2022-06-04T12:24:18.354Z"
   },
   {
    "duration": 28,
    "start_time": "2022-06-04T12:24:18.399Z"
   },
   {
    "duration": 21,
    "start_time": "2022-06-04T12:24:18.429Z"
   },
   {
    "duration": 6,
    "start_time": "2022-06-04T12:24:18.452Z"
   },
   {
    "duration": 29,
    "start_time": "2022-06-04T12:24:18.460Z"
   },
   {
    "duration": 22,
    "start_time": "2022-06-04T12:24:18.490Z"
   },
   {
    "duration": 1194,
    "start_time": "2022-06-04T12:37:17.483Z"
   },
   {
    "duration": 53,
    "start_time": "2022-06-04T12:37:18.679Z"
   },
   {
    "duration": 10,
    "start_time": "2022-06-04T12:37:18.734Z"
   },
   {
    "duration": 7,
    "start_time": "2022-06-04T12:37:18.746Z"
   },
   {
    "duration": 5,
    "start_time": "2022-06-04T12:37:18.754Z"
   },
   {
    "duration": 15,
    "start_time": "2022-06-04T12:37:18.761Z"
   },
   {
    "duration": 16,
    "start_time": "2022-06-04T12:37:18.778Z"
   },
   {
    "duration": 210,
    "start_time": "2022-06-04T12:37:18.795Z"
   },
   {
    "duration": 32,
    "start_time": "2022-06-04T12:37:19.007Z"
   },
   {
    "duration": 12,
    "start_time": "2022-06-04T12:37:19.043Z"
   },
   {
    "duration": 136,
    "start_time": "2022-06-04T12:37:19.066Z"
   },
   {
    "duration": 27,
    "start_time": "2022-06-04T12:37:19.204Z"
   },
   {
    "duration": 69,
    "start_time": "2022-06-04T12:37:19.234Z"
   },
   {
    "duration": 107,
    "start_time": "2022-06-04T12:37:19.304Z"
   },
   {
    "duration": 21,
    "start_time": "2022-06-04T12:37:19.413Z"
   },
   {
    "duration": 61,
    "start_time": "2022-06-04T12:37:19.436Z"
   },
   {
    "duration": 15,
    "start_time": "2022-06-04T12:37:19.499Z"
   },
   {
    "duration": 31,
    "start_time": "2022-06-04T12:37:19.516Z"
   },
   {
    "duration": 150,
    "start_time": "2022-06-04T12:37:19.565Z"
   },
   {
    "duration": 22,
    "start_time": "2022-06-04T12:37:19.716Z"
   },
   {
    "duration": 38,
    "start_time": "2022-06-04T12:37:19.740Z"
   },
   {
    "duration": 24,
    "start_time": "2022-06-04T12:37:19.779Z"
   },
   {
    "duration": 45,
    "start_time": "2022-06-04T12:37:19.805Z"
   },
   {
    "duration": 27,
    "start_time": "2022-06-04T12:37:19.852Z"
   },
   {
    "duration": 19,
    "start_time": "2022-06-04T12:37:19.881Z"
   },
   {
    "duration": 32,
    "start_time": "2022-06-04T12:37:19.902Z"
   },
   {
    "duration": 10,
    "start_time": "2022-06-04T12:37:19.935Z"
   },
   {
    "duration": 33,
    "start_time": "2022-06-04T12:37:19.949Z"
   },
   {
    "duration": 28,
    "start_time": "2022-06-04T12:37:19.983Z"
   },
   {
    "duration": 56,
    "start_time": "2022-06-04T12:37:20.013Z"
   },
   {
    "duration": 21,
    "start_time": "2022-06-04T12:37:20.071Z"
   },
   {
    "duration": 20,
    "start_time": "2022-06-04T12:37:20.094Z"
   },
   {
    "duration": 25,
    "start_time": "2022-06-04T12:37:20.116Z"
   },
   {
    "duration": 46,
    "start_time": "2022-06-04T12:37:20.143Z"
   },
   {
    "duration": 21,
    "start_time": "2022-06-04T12:37:20.190Z"
   },
   {
    "duration": 9,
    "start_time": "2022-06-04T12:37:20.213Z"
   },
   {
    "duration": 45,
    "start_time": "2022-06-04T12:37:20.224Z"
   },
   {
    "duration": 23,
    "start_time": "2022-06-04T12:37:20.271Z"
   },
   {
    "duration": 29,
    "start_time": "2022-06-04T12:37:20.295Z"
   },
   {
    "duration": 5,
    "start_time": "2022-06-04T12:37:20.326Z"
   },
   {
    "duration": 116,
    "start_time": "2022-06-04T12:37:20.332Z"
   },
   {
    "duration": 37,
    "start_time": "2022-06-04T12:37:20.450Z"
   },
   {
    "duration": 4,
    "start_time": "2022-06-04T12:37:20.489Z"
   },
   {
    "duration": 30,
    "start_time": "2022-06-04T12:37:20.494Z"
   },
   {
    "duration": 4,
    "start_time": "2022-06-04T12:37:20.526Z"
   },
   {
    "duration": 8,
    "start_time": "2022-06-04T12:37:20.531Z"
   },
   {
    "duration": 28,
    "start_time": "2022-06-04T12:37:20.541Z"
   },
   {
    "duration": 19,
    "start_time": "2022-06-04T12:37:20.571Z"
   },
   {
    "duration": 134,
    "start_time": "2022-06-04T12:37:20.592Z"
   },
   {
    "duration": 4,
    "start_time": "2022-06-04T12:37:20.728Z"
   },
   {
    "duration": 7,
    "start_time": "2022-06-04T12:37:20.734Z"
   },
   {
    "duration": 46,
    "start_time": "2022-06-04T12:37:20.742Z"
   },
   {
    "duration": 4,
    "start_time": "2022-06-04T12:37:20.789Z"
   },
   {
    "duration": 7,
    "start_time": "2022-06-04T12:37:20.794Z"
   },
   {
    "duration": 5,
    "start_time": "2022-06-04T12:37:20.803Z"
   },
   {
    "duration": 234,
    "start_time": "2022-06-04T12:37:20.810Z"
   },
   {
    "duration": 4,
    "start_time": "2022-06-04T12:37:21.046Z"
   },
   {
    "duration": 36,
    "start_time": "2022-06-04T12:37:21.052Z"
   },
   {
    "duration": 7,
    "start_time": "2022-06-04T12:37:21.090Z"
   },
   {
    "duration": 8,
    "start_time": "2022-06-04T12:37:21.099Z"
   },
   {
    "duration": 137,
    "start_time": "2022-06-04T12:37:21.108Z"
   },
   {
    "duration": 4,
    "start_time": "2022-06-04T12:37:21.246Z"
   },
   {
    "duration": 23,
    "start_time": "2022-06-04T12:37:21.252Z"
   },
   {
    "duration": 7,
    "start_time": "2022-06-04T12:37:21.278Z"
   },
   {
    "duration": 12,
    "start_time": "2022-06-04T12:37:21.287Z"
   },
   {
    "duration": 153,
    "start_time": "2022-06-04T12:37:21.301Z"
   },
   {
    "duration": 5,
    "start_time": "2022-06-04T12:37:21.455Z"
   },
   {
    "duration": 21,
    "start_time": "2022-06-04T12:37:21.461Z"
   },
   {
    "duration": 29,
    "start_time": "2022-06-04T12:37:21.484Z"
   },
   {
    "duration": 6,
    "start_time": "2022-06-04T12:37:21.514Z"
   },
   {
    "duration": 6,
    "start_time": "2022-06-04T12:37:21.522Z"
   },
   {
    "duration": 7,
    "start_time": "2022-06-04T12:37:21.529Z"
   },
   {
    "duration": 152,
    "start_time": "2022-06-04T12:37:21.538Z"
   },
   {
    "duration": 4,
    "start_time": "2022-06-04T12:37:21.691Z"
   },
   {
    "duration": 9,
    "start_time": "2022-06-04T12:37:21.697Z"
   },
   {
    "duration": 10,
    "start_time": "2022-06-04T12:37:21.708Z"
   },
   {
    "duration": 7,
    "start_time": "2022-06-04T12:37:21.719Z"
   },
   {
    "duration": 160,
    "start_time": "2022-06-04T12:37:21.727Z"
   },
   {
    "duration": 5,
    "start_time": "2022-06-04T12:37:21.889Z"
   },
   {
    "duration": 24,
    "start_time": "2022-06-04T12:37:21.895Z"
   },
   {
    "duration": 12,
    "start_time": "2022-06-04T12:37:21.921Z"
   },
   {
    "duration": 5,
    "start_time": "2022-06-04T12:37:21.939Z"
   },
   {
    "duration": 34,
    "start_time": "2022-06-04T12:37:21.946Z"
   },
   {
    "duration": 19,
    "start_time": "2022-06-04T12:37:21.982Z"
   },
   {
    "duration": 8,
    "start_time": "2022-06-04T12:37:22.003Z"
   },
   {
    "duration": 7,
    "start_time": "2022-06-04T12:37:22.012Z"
   },
   {
    "duration": 11,
    "start_time": "2022-06-04T12:37:22.021Z"
   },
   {
    "duration": 56,
    "start_time": "2022-06-04T19:39:24.813Z"
   },
   {
    "duration": 1146,
    "start_time": "2022-06-04T19:39:36.901Z"
   },
   {
    "duration": 84,
    "start_time": "2022-06-04T19:39:38.048Z"
   },
   {
    "duration": 13,
    "start_time": "2022-06-04T19:39:38.133Z"
   },
   {
    "duration": 15,
    "start_time": "2022-06-04T19:39:38.148Z"
   },
   {
    "duration": 18,
    "start_time": "2022-06-04T19:39:38.165Z"
   },
   {
    "duration": 9,
    "start_time": "2022-06-04T19:39:38.185Z"
   },
   {
    "duration": 19,
    "start_time": "2022-06-04T19:39:38.196Z"
   },
   {
    "duration": 263,
    "start_time": "2022-06-04T19:39:38.223Z"
   },
   {
    "duration": 27,
    "start_time": "2022-06-04T19:39:38.488Z"
   },
   {
    "duration": 16,
    "start_time": "2022-06-04T19:39:38.516Z"
   },
   {
    "duration": 124,
    "start_time": "2022-06-04T19:39:38.534Z"
   },
   {
    "duration": 21,
    "start_time": "2022-06-04T19:39:38.660Z"
   },
   {
    "duration": 68,
    "start_time": "2022-06-04T19:39:38.683Z"
   },
   {
    "duration": 305,
    "start_time": "2022-06-04T19:39:38.755Z"
   },
   {
    "duration": 30,
    "start_time": "2022-06-04T19:39:39.063Z"
   },
   {
    "duration": 53,
    "start_time": "2022-06-04T19:39:39.095Z"
   },
   {
    "duration": 14,
    "start_time": "2022-06-04T19:39:39.150Z"
   },
   {
    "duration": 37,
    "start_time": "2022-06-04T19:39:39.166Z"
   },
   {
    "duration": 366,
    "start_time": "2022-06-04T19:39:39.205Z"
   },
   {
    "duration": 23,
    "start_time": "2022-06-04T19:39:39.573Z"
   },
   {
    "duration": 13,
    "start_time": "2022-06-04T19:39:39.597Z"
   },
   {
    "duration": 35,
    "start_time": "2022-06-04T19:39:39.612Z"
   },
   {
    "duration": 50,
    "start_time": "2022-06-04T19:39:39.649Z"
   },
   {
    "duration": 27,
    "start_time": "2022-06-04T19:39:39.701Z"
   },
   {
    "duration": 16,
    "start_time": "2022-06-04T19:39:39.730Z"
   },
   {
    "duration": 58,
    "start_time": "2022-06-04T19:39:39.747Z"
   },
   {
    "duration": 10,
    "start_time": "2022-06-04T19:39:39.807Z"
   },
   {
    "duration": 33,
    "start_time": "2022-06-04T19:39:39.819Z"
   },
   {
    "duration": 27,
    "start_time": "2022-06-04T19:39:39.854Z"
   },
   {
    "duration": 49,
    "start_time": "2022-06-04T19:39:39.882Z"
   },
   {
    "duration": 17,
    "start_time": "2022-06-04T19:39:39.933Z"
   },
   {
    "duration": 24,
    "start_time": "2022-06-04T19:39:39.952Z"
   },
   {
    "duration": 54,
    "start_time": "2022-06-04T19:39:39.978Z"
   },
   {
    "duration": 24,
    "start_time": "2022-06-04T19:39:40.034Z"
   },
   {
    "duration": 23,
    "start_time": "2022-06-04T19:39:40.060Z"
   },
   {
    "duration": 45,
    "start_time": "2022-06-04T19:39:40.085Z"
   },
   {
    "duration": 22,
    "start_time": "2022-06-04T19:39:40.132Z"
   },
   {
    "duration": 23,
    "start_time": "2022-06-04T19:39:40.156Z"
   },
   {
    "duration": 63,
    "start_time": "2022-06-04T19:39:40.181Z"
   },
   {
    "duration": 5,
    "start_time": "2022-06-04T19:39:40.246Z"
   },
   {
    "duration": 156,
    "start_time": "2022-06-04T19:39:40.258Z"
   },
   {
    "duration": 31,
    "start_time": "2022-06-04T19:39:40.418Z"
   },
   {
    "duration": 6,
    "start_time": "2022-06-04T19:39:40.451Z"
   },
   {
    "duration": 31,
    "start_time": "2022-06-04T19:39:40.459Z"
   },
   {
    "duration": 32,
    "start_time": "2022-06-04T19:39:40.491Z"
   },
   {
    "duration": 8,
    "start_time": "2022-06-04T19:39:40.525Z"
   },
   {
    "duration": 8,
    "start_time": "2022-06-04T19:39:40.535Z"
   },
   {
    "duration": 7,
    "start_time": "2022-06-04T19:39:40.545Z"
   },
   {
    "duration": 158,
    "start_time": "2022-06-04T19:39:40.554Z"
   },
   {
    "duration": 9,
    "start_time": "2022-06-04T19:39:40.714Z"
   },
   {
    "duration": 6,
    "start_time": "2022-06-04T19:39:40.725Z"
   },
   {
    "duration": 43,
    "start_time": "2022-06-04T19:39:40.733Z"
   },
   {
    "duration": 4,
    "start_time": "2022-06-04T19:39:40.778Z"
   },
   {
    "duration": 7,
    "start_time": "2022-06-04T19:39:40.784Z"
   },
   {
    "duration": 31,
    "start_time": "2022-06-04T19:39:40.793Z"
   },
   {
    "duration": 229,
    "start_time": "2022-06-04T19:39:40.826Z"
   },
   {
    "duration": 4,
    "start_time": "2022-06-04T19:39:41.057Z"
   },
   {
    "duration": 11,
    "start_time": "2022-06-04T19:39:41.063Z"
   },
   {
    "duration": 5,
    "start_time": "2022-06-04T19:39:41.076Z"
   },
   {
    "duration": 11,
    "start_time": "2022-06-04T19:39:41.082Z"
   },
   {
    "duration": 180,
    "start_time": "2022-06-04T19:39:41.095Z"
   },
   {
    "duration": 4,
    "start_time": "2022-06-04T19:39:41.277Z"
   },
   {
    "duration": 10,
    "start_time": "2022-06-04T19:39:41.282Z"
   },
   {
    "duration": 6,
    "start_time": "2022-06-04T19:39:41.294Z"
   },
   {
    "duration": 24,
    "start_time": "2022-06-04T19:39:41.302Z"
   },
   {
    "duration": 155,
    "start_time": "2022-06-04T19:39:41.327Z"
   },
   {
    "duration": 5,
    "start_time": "2022-06-04T19:39:41.483Z"
   },
   {
    "duration": 9,
    "start_time": "2022-06-04T19:39:41.490Z"
   },
   {
    "duration": 47,
    "start_time": "2022-06-04T19:39:41.500Z"
   },
   {
    "duration": 7,
    "start_time": "2022-06-04T19:39:41.549Z"
   },
   {
    "duration": 22,
    "start_time": "2022-06-04T19:39:41.558Z"
   },
   {
    "duration": 8,
    "start_time": "2022-06-04T19:39:41.583Z"
   },
   {
    "duration": 135,
    "start_time": "2022-06-04T19:39:41.593Z"
   },
   {
    "duration": 4,
    "start_time": "2022-06-04T19:39:41.730Z"
   },
   {
    "duration": 12,
    "start_time": "2022-06-04T19:39:41.736Z"
   },
   {
    "duration": 4,
    "start_time": "2022-06-04T19:39:41.750Z"
   },
   {
    "duration": 10,
    "start_time": "2022-06-04T19:39:41.756Z"
   },
   {
    "duration": 184,
    "start_time": "2022-06-04T19:39:41.768Z"
   },
   {
    "duration": 6,
    "start_time": "2022-06-04T19:39:41.953Z"
   },
   {
    "duration": 14,
    "start_time": "2022-06-04T19:39:41.961Z"
   },
   {
    "duration": 9,
    "start_time": "2022-06-04T19:39:41.977Z"
   },
   {
    "duration": 18,
    "start_time": "2022-06-04T19:39:41.988Z"
   },
   {
    "duration": 36,
    "start_time": "2022-06-04T19:39:42.008Z"
   },
   {
    "duration": 20,
    "start_time": "2022-06-04T19:39:42.046Z"
   },
   {
    "duration": 6,
    "start_time": "2022-06-04T19:39:42.067Z"
   },
   {
    "duration": 11,
    "start_time": "2022-06-04T19:39:42.075Z"
   },
   {
    "duration": 8,
    "start_time": "2022-06-04T19:39:42.087Z"
   },
   {
    "duration": 75,
    "start_time": "2022-06-04T21:19:36.457Z"
   },
   {
    "duration": 84,
    "start_time": "2022-06-04T21:19:53.716Z"
   },
   {
    "duration": 34,
    "start_time": "2022-06-04T21:26:13.388Z"
   },
   {
    "duration": 57,
    "start_time": "2022-06-05T06:52:30.637Z"
   },
   {
    "duration": 52,
    "start_time": "2022-06-05T06:53:54.797Z"
   },
   {
    "duration": 7,
    "start_time": "2022-06-05T06:53:59.037Z"
   },
   {
    "duration": 1294,
    "start_time": "2022-06-05T06:54:08.146Z"
   },
   {
    "duration": 89,
    "start_time": "2022-06-05T06:54:09.442Z"
   },
   {
    "duration": 11,
    "start_time": "2022-06-05T06:54:09.532Z"
   },
   {
    "duration": 11,
    "start_time": "2022-06-05T06:54:09.545Z"
   },
   {
    "duration": 6,
    "start_time": "2022-06-05T06:54:09.557Z"
   },
   {
    "duration": 8,
    "start_time": "2022-06-05T06:54:09.564Z"
   },
   {
    "duration": 17,
    "start_time": "2022-06-05T06:54:09.574Z"
   },
   {
    "duration": 232,
    "start_time": "2022-06-05T06:54:09.593Z"
   },
   {
    "duration": 24,
    "start_time": "2022-06-05T06:54:09.827Z"
   },
   {
    "duration": 17,
    "start_time": "2022-06-05T06:54:09.854Z"
   },
   {
    "duration": 159,
    "start_time": "2022-06-05T06:54:09.872Z"
   },
   {
    "duration": 21,
    "start_time": "2022-06-05T06:54:10.033Z"
   },
   {
    "duration": 48,
    "start_time": "2022-06-05T06:54:10.056Z"
   },
   {
    "duration": 277,
    "start_time": "2022-06-05T06:54:10.106Z"
   },
   {
    "duration": 16,
    "start_time": "2022-06-05T06:54:10.385Z"
   },
   {
    "duration": 44,
    "start_time": "2022-06-05T06:54:10.403Z"
   },
   {
    "duration": 15,
    "start_time": "2022-06-05T06:54:10.448Z"
   },
   {
    "duration": 33,
    "start_time": "2022-06-05T06:54:10.464Z"
   },
   {
    "duration": 328,
    "start_time": "2022-06-05T06:54:10.498Z"
   },
   {
    "duration": 21,
    "start_time": "2022-06-05T06:54:10.827Z"
   },
   {
    "duration": 12,
    "start_time": "2022-06-05T06:54:10.850Z"
   },
   {
    "duration": 28,
    "start_time": "2022-06-05T06:54:10.863Z"
   },
   {
    "duration": 65,
    "start_time": "2022-06-05T06:54:10.893Z"
   },
   {
    "duration": 11,
    "start_time": "2022-06-05T06:54:10.960Z"
   },
   {
    "duration": 26,
    "start_time": "2022-06-05T06:54:10.972Z"
   },
   {
    "duration": 62,
    "start_time": "2022-06-05T06:54:11.000Z"
   },
   {
    "duration": 10,
    "start_time": "2022-06-05T06:54:11.064Z"
   },
   {
    "duration": 32,
    "start_time": "2022-06-05T06:54:11.079Z"
   },
   {
    "duration": 26,
    "start_time": "2022-06-05T06:54:11.113Z"
   },
   {
    "duration": 31,
    "start_time": "2022-06-05T06:54:11.140Z"
   },
   {
    "duration": 14,
    "start_time": "2022-06-05T06:54:11.172Z"
   },
   {
    "duration": 37,
    "start_time": "2022-06-05T06:54:11.187Z"
   },
   {
    "duration": 24,
    "start_time": "2022-06-05T06:54:11.226Z"
   },
   {
    "duration": 24,
    "start_time": "2022-06-05T06:54:11.252Z"
   },
   {
    "duration": 55,
    "start_time": "2022-06-05T06:54:11.278Z"
   },
   {
    "duration": 9,
    "start_time": "2022-06-05T06:54:11.336Z"
   },
   {
    "duration": 17,
    "start_time": "2022-06-05T06:54:11.347Z"
   },
   {
    "duration": 19,
    "start_time": "2022-06-05T06:54:11.365Z"
   },
   {
    "duration": 60,
    "start_time": "2022-06-05T06:54:11.386Z"
   },
   {
    "duration": 7,
    "start_time": "2022-06-05T06:54:11.448Z"
   },
   {
    "duration": 126,
    "start_time": "2022-06-05T06:54:11.456Z"
   },
   {
    "duration": 40,
    "start_time": "2022-06-05T06:54:11.584Z"
   },
   {
    "duration": 5,
    "start_time": "2022-06-05T06:54:11.625Z"
   },
   {
    "duration": 32,
    "start_time": "2022-06-05T06:54:11.632Z"
   },
   {
    "duration": 4,
    "start_time": "2022-06-05T06:54:11.666Z"
   },
   {
    "duration": 14,
    "start_time": "2022-06-05T06:54:11.672Z"
   },
   {
    "duration": 10,
    "start_time": "2022-06-05T06:54:11.687Z"
   },
   {
    "duration": 9,
    "start_time": "2022-06-05T06:54:11.698Z"
   },
   {
    "duration": 132,
    "start_time": "2022-06-05T06:54:11.724Z"
   },
   {
    "duration": 5,
    "start_time": "2022-06-05T06:54:11.858Z"
   },
   {
    "duration": 8,
    "start_time": "2022-06-05T06:54:11.864Z"
   },
   {
    "duration": 49,
    "start_time": "2022-06-05T06:54:11.874Z"
   },
   {
    "duration": 5,
    "start_time": "2022-06-05T06:54:11.924Z"
   },
   {
    "duration": 20,
    "start_time": "2022-06-05T06:54:11.931Z"
   },
   {
    "duration": 14,
    "start_time": "2022-06-05T06:54:11.953Z"
   },
   {
    "duration": 211,
    "start_time": "2022-06-05T06:54:11.968Z"
   },
   {
    "duration": 5,
    "start_time": "2022-06-05T06:54:12.181Z"
   },
   {
    "duration": 12,
    "start_time": "2022-06-05T06:54:12.187Z"
   },
   {
    "duration": 5,
    "start_time": "2022-06-05T06:54:12.200Z"
   },
   {
    "duration": 5,
    "start_time": "2022-06-05T06:54:12.223Z"
   },
   {
    "duration": 134,
    "start_time": "2022-06-05T06:54:12.229Z"
   },
   {
    "duration": 5,
    "start_time": "2022-06-05T06:54:12.365Z"
   },
   {
    "duration": 33,
    "start_time": "2022-06-05T06:54:12.372Z"
   },
   {
    "duration": 7,
    "start_time": "2022-06-05T06:54:12.406Z"
   },
   {
    "duration": 7,
    "start_time": "2022-06-05T06:54:12.415Z"
   },
   {
    "duration": 166,
    "start_time": "2022-06-05T06:54:12.423Z"
   },
   {
    "duration": 5,
    "start_time": "2022-06-05T06:54:12.591Z"
   },
   {
    "duration": 18,
    "start_time": "2022-06-05T06:54:12.598Z"
   },
   {
    "duration": 40,
    "start_time": "2022-06-05T06:54:12.618Z"
   },
   {
    "duration": 9,
    "start_time": "2022-06-05T06:54:12.660Z"
   },
   {
    "duration": 13,
    "start_time": "2022-06-05T06:54:12.671Z"
   },
   {
    "duration": 24,
    "start_time": "2022-06-05T06:54:12.686Z"
   },
   {
    "duration": 147,
    "start_time": "2022-06-05T06:54:12.713Z"
   },
   {
    "duration": 5,
    "start_time": "2022-06-05T06:54:12.861Z"
   },
   {
    "duration": 22,
    "start_time": "2022-06-05T06:54:12.867Z"
   },
   {
    "duration": 11,
    "start_time": "2022-06-05T06:54:12.891Z"
   },
   {
    "duration": 22,
    "start_time": "2022-06-05T06:54:12.903Z"
   },
   {
    "duration": 181,
    "start_time": "2022-06-05T06:54:12.927Z"
   },
   {
    "duration": 5,
    "start_time": "2022-06-05T06:54:13.110Z"
   },
   {
    "duration": 12,
    "start_time": "2022-06-05T06:54:13.117Z"
   },
   {
    "duration": 24,
    "start_time": "2022-06-05T06:54:13.130Z"
   },
   {
    "duration": 10,
    "start_time": "2022-06-05T06:54:13.161Z"
   },
   {
    "duration": 26,
    "start_time": "2022-06-05T06:54:13.173Z"
   },
   {
    "duration": 27,
    "start_time": "2022-06-05T06:54:13.201Z"
   },
   {
    "duration": 5,
    "start_time": "2022-06-05T06:54:13.231Z"
   },
   {
    "duration": 9,
    "start_time": "2022-06-05T06:54:13.237Z"
   },
   {
    "duration": 9,
    "start_time": "2022-06-05T06:54:13.248Z"
   },
   {
    "duration": 121,
    "start_time": "2022-06-05T06:55:06.684Z"
   },
   {
    "duration": 143,
    "start_time": "2022-06-05T06:55:21.313Z"
   },
   {
    "duration": 49,
    "start_time": "2022-06-05T06:56:14.245Z"
   },
   {
    "duration": 10,
    "start_time": "2022-06-05T06:56:17.463Z"
   },
   {
    "duration": 6,
    "start_time": "2022-06-05T06:56:22.103Z"
   },
   {
    "duration": 8,
    "start_time": "2022-06-05T06:56:22.831Z"
   },
   {
    "duration": 6,
    "start_time": "2022-06-05T06:56:29.191Z"
   },
   {
    "duration": 17,
    "start_time": "2022-06-05T06:56:32.327Z"
   },
   {
    "duration": 173,
    "start_time": "2022-06-05T06:56:38.685Z"
   },
   {
    "duration": 23,
    "start_time": "2022-06-05T06:56:43.548Z"
   },
   {
    "duration": 10,
    "start_time": "2022-06-05T06:56:49.456Z"
   },
   {
    "duration": 112,
    "start_time": "2022-06-05T06:56:53.408Z"
   },
   {
    "duration": 21,
    "start_time": "2022-06-05T06:56:54.035Z"
   },
   {
    "duration": 49,
    "start_time": "2022-06-05T06:56:55.693Z"
   },
   {
    "duration": 116,
    "start_time": "2022-06-05T06:57:01.531Z"
   },
   {
    "duration": 29,
    "start_time": "2022-06-05T06:57:06.067Z"
   },
   {
    "duration": 59,
    "start_time": "2022-06-05T06:57:08.582Z"
   },
   {
    "duration": 15,
    "start_time": "2022-06-05T06:57:09.661Z"
   },
   {
    "duration": 28,
    "start_time": "2022-06-05T06:57:11.558Z"
   },
   {
    "duration": 146,
    "start_time": "2022-06-05T06:57:17.666Z"
   },
   {
    "duration": 29,
    "start_time": "2022-06-05T06:57:22.024Z"
   },
   {
    "duration": 13,
    "start_time": "2022-06-05T06:58:02.491Z"
   },
   {
    "duration": 22,
    "start_time": "2022-06-05T06:58:11.648Z"
   },
   {
    "duration": 46,
    "start_time": "2022-06-05T06:58:47.648Z"
   },
   {
    "duration": 12,
    "start_time": "2022-06-05T06:58:48.384Z"
   },
   {
    "duration": 17,
    "start_time": "2022-06-05T06:58:49.803Z"
   },
   {
    "duration": 31,
    "start_time": "2022-06-05T06:59:10.634Z"
   },
   {
    "duration": 31,
    "start_time": "2022-06-05T06:59:17.488Z"
   },
   {
    "duration": 13,
    "start_time": "2022-06-05T06:59:19.323Z"
   },
   {
    "duration": 32,
    "start_time": "2022-06-05T06:59:39.616Z"
   },
   {
    "duration": 32,
    "start_time": "2022-06-05T06:59:43.203Z"
   },
   {
    "duration": 47,
    "start_time": "2022-06-05T06:59:51.299Z"
   },
   {
    "duration": 19,
    "start_time": "2022-06-05T07:00:03.511Z"
   },
   {
    "duration": 24,
    "start_time": "2022-06-05T07:00:42.794Z"
   },
   {
    "duration": 23,
    "start_time": "2022-06-05T07:00:54.843Z"
   },
   {
    "duration": 25,
    "start_time": "2022-06-05T07:00:59.785Z"
   },
   {
    "duration": 33,
    "start_time": "2022-06-05T07:01:26.027Z"
   },
   {
    "duration": 24,
    "start_time": "2022-06-05T07:02:18.792Z"
   },
   {
    "duration": 24,
    "start_time": "2022-06-05T07:02:23.317Z"
   },
   {
    "duration": 9,
    "start_time": "2022-06-05T07:02:25.297Z"
   },
   {
    "duration": 12,
    "start_time": "2022-06-05T07:04:21.646Z"
   },
   {
    "duration": 12,
    "start_time": "2022-06-05T07:04:42.614Z"
   },
   {
    "duration": 10,
    "start_time": "2022-06-05T07:04:48.055Z"
   },
   {
    "duration": 17,
    "start_time": "2022-06-05T07:05:39.056Z"
   },
   {
    "duration": 17,
    "start_time": "2022-06-05T07:05:55.002Z"
   },
   {
    "duration": 16,
    "start_time": "2022-06-05T07:06:03.366Z"
   },
   {
    "duration": 26,
    "start_time": "2022-06-05T07:06:23.517Z"
   },
   {
    "duration": 6,
    "start_time": "2022-06-05T07:06:31.053Z"
   },
   {
    "duration": 104,
    "start_time": "2022-06-05T07:06:35.639Z"
   },
   {
    "duration": 7,
    "start_time": "2022-06-05T07:08:30.889Z"
   },
   {
    "duration": 730,
    "start_time": "2022-06-05T07:11:07.232Z"
   },
   {
    "duration": 89,
    "start_time": "2022-06-05T07:11:38.722Z"
   },
   {
    "duration": 9,
    "start_time": "2022-06-05T07:17:13.980Z"
   },
   {
    "duration": 92,
    "start_time": "2022-06-05T07:17:20.232Z"
   },
   {
    "duration": 37,
    "start_time": "2022-06-05T07:17:30.736Z"
   },
   {
    "duration": 7,
    "start_time": "2022-06-05T07:17:32.084Z"
   },
   {
    "duration": 44,
    "start_time": "2022-06-05T07:17:32.394Z"
   },
   {
    "duration": 6,
    "start_time": "2022-06-05T07:17:36.738Z"
   },
   {
    "duration": 9,
    "start_time": "2022-06-05T07:18:57.886Z"
   },
   {
    "duration": 5,
    "start_time": "2022-06-05T07:19:05.390Z"
   },
   {
    "duration": 5,
    "start_time": "2022-06-05T07:19:07.086Z"
   },
   {
    "duration": 150,
    "start_time": "2022-06-05T07:19:11.591Z"
   },
   {
    "duration": 5,
    "start_time": "2022-06-05T07:19:15.189Z"
   },
   {
    "duration": 21,
    "start_time": "2022-06-05T07:24:28.115Z"
   },
   {
    "duration": 29,
    "start_time": "2022-06-05T07:24:56.960Z"
   },
   {
    "duration": 12,
    "start_time": "2022-06-05T07:26:49.912Z"
   },
   {
    "duration": 10,
    "start_time": "2022-06-05T07:27:01.564Z"
   },
   {
    "duration": 23,
    "start_time": "2022-06-05T07:27:17.253Z"
   },
   {
    "duration": 3,
    "start_time": "2022-06-05T07:28:03.789Z"
   },
   {
    "duration": 4,
    "start_time": "2022-06-05T07:28:14.924Z"
   },
   {
    "duration": 19,
    "start_time": "2022-06-05T07:28:30.087Z"
   },
   {
    "duration": 5,
    "start_time": "2022-06-05T07:28:35.240Z"
   },
   {
    "duration": 3,
    "start_time": "2022-06-05T07:28:37.034Z"
   },
   {
    "duration": 2,
    "start_time": "2022-06-05T07:28:37.814Z"
   },
   {
    "duration": 26,
    "start_time": "2022-06-05T07:32:20.435Z"
   },
   {
    "duration": 3,
    "start_time": "2022-06-05T07:33:10.151Z"
   },
   {
    "duration": 5,
    "start_time": "2022-06-05T07:33:11.140Z"
   },
   {
    "duration": 3,
    "start_time": "2022-06-05T07:33:12.693Z"
   },
   {
    "duration": 135,
    "start_time": "2022-06-05T07:33:13.385Z"
   },
   {
    "duration": 4,
    "start_time": "2022-06-05T07:33:16.344Z"
   },
   {
    "duration": 26,
    "start_time": "2022-06-05T07:33:17.652Z"
   },
   {
    "duration": 8,
    "start_time": "2022-06-05T07:34:49.599Z"
   },
   {
    "duration": 14,
    "start_time": "2022-06-05T07:34:52.220Z"
   },
   {
    "duration": 6,
    "start_time": "2022-06-05T07:35:21.441Z"
   },
   {
    "duration": 5,
    "start_time": "2022-06-05T07:35:24.742Z"
   },
   {
    "duration": 5,
    "start_time": "2022-06-05T07:35:25.745Z"
   },
   {
    "duration": 127,
    "start_time": "2022-06-05T07:35:26.941Z"
   },
   {
    "duration": 4,
    "start_time": "2022-06-05T07:35:29.898Z"
   },
   {
    "duration": 6,
    "start_time": "2022-06-05T07:36:08.442Z"
   },
   {
    "duration": 4,
    "start_time": "2022-06-05T07:36:18.023Z"
   },
   {
    "duration": 2,
    "start_time": "2022-06-05T07:36:23.586Z"
   },
   {
    "duration": 2,
    "start_time": "2022-06-05T07:36:34.551Z"
   },
   {
    "duration": 27,
    "start_time": "2022-06-05T07:37:04.287Z"
   },
   {
    "duration": 26,
    "start_time": "2022-06-05T07:38:44.319Z"
   },
   {
    "duration": 3,
    "start_time": "2022-06-05T07:41:32.501Z"
   },
   {
    "duration": 2,
    "start_time": "2022-06-05T07:41:39.562Z"
   },
   {
    "duration": 3,
    "start_time": "2022-06-05T07:41:52.786Z"
   },
   {
    "duration": 25,
    "start_time": "2022-06-05T07:45:51.738Z"
   },
   {
    "duration": 2,
    "start_time": "2022-06-05T07:46:09.294Z"
   },
   {
    "duration": 2,
    "start_time": "2022-06-05T07:46:15.831Z"
   },
   {
    "duration": 2,
    "start_time": "2022-06-05T07:46:24.994Z"
   },
   {
    "duration": 28,
    "start_time": "2022-06-05T07:53:58.093Z"
   },
   {
    "duration": 7,
    "start_time": "2022-06-05T07:54:25.192Z"
   },
   {
    "duration": 2,
    "start_time": "2022-06-05T07:54:26.008Z"
   },
   {
    "duration": 2,
    "start_time": "2022-06-05T07:54:26.812Z"
   },
   {
    "duration": 125,
    "start_time": "2022-06-05T07:54:27.658Z"
   },
   {
    "duration": 3,
    "start_time": "2022-06-05T07:54:31.116Z"
   },
   {
    "duration": 1157,
    "start_time": "2022-06-05T08:02:45.633Z"
   },
   {
    "duration": 63,
    "start_time": "2022-06-05T08:02:46.792Z"
   },
   {
    "duration": 11,
    "start_time": "2022-06-05T08:02:46.856Z"
   },
   {
    "duration": 7,
    "start_time": "2022-06-05T08:02:46.868Z"
   },
   {
    "duration": 7,
    "start_time": "2022-06-05T08:02:46.876Z"
   },
   {
    "duration": 7,
    "start_time": "2022-06-05T08:02:46.884Z"
   },
   {
    "duration": 15,
    "start_time": "2022-06-05T08:02:46.892Z"
   },
   {
    "duration": 169,
    "start_time": "2022-06-05T08:02:46.908Z"
   },
   {
    "duration": 24,
    "start_time": "2022-06-05T08:02:47.079Z"
   },
   {
    "duration": 18,
    "start_time": "2022-06-05T08:02:47.106Z"
   },
   {
    "duration": 120,
    "start_time": "2022-06-05T08:02:47.132Z"
   },
   {
    "duration": 21,
    "start_time": "2022-06-05T08:02:47.254Z"
   },
   {
    "duration": 71,
    "start_time": "2022-06-05T08:02:47.276Z"
   },
   {
    "duration": 107,
    "start_time": "2022-06-05T08:02:47.349Z"
   },
   {
    "duration": 20,
    "start_time": "2022-06-05T08:02:47.458Z"
   },
   {
    "duration": 59,
    "start_time": "2022-06-05T08:02:47.479Z"
   },
   {
    "duration": 13,
    "start_time": "2022-06-05T08:02:47.540Z"
   },
   {
    "duration": 31,
    "start_time": "2022-06-05T08:02:47.555Z"
   },
   {
    "duration": 143,
    "start_time": "2022-06-05T08:02:47.587Z"
   },
   {
    "duration": 20,
    "start_time": "2022-06-05T08:02:47.733Z"
   },
   {
    "duration": 12,
    "start_time": "2022-06-05T08:02:47.755Z"
   },
   {
    "duration": 24,
    "start_time": "2022-06-05T08:02:47.769Z"
   },
   {
    "duration": 65,
    "start_time": "2022-06-05T08:02:47.795Z"
   },
   {
    "duration": 13,
    "start_time": "2022-06-05T08:02:47.861Z"
   },
   {
    "duration": 15,
    "start_time": "2022-06-05T08:02:47.876Z"
   },
   {
    "duration": 32,
    "start_time": "2022-06-05T08:02:47.892Z"
   },
   {
    "duration": 12,
    "start_time": "2022-06-05T08:02:47.927Z"
   },
   {
    "duration": 32,
    "start_time": "2022-06-05T08:02:47.943Z"
   },
   {
    "duration": 26,
    "start_time": "2022-06-05T08:02:47.976Z"
   },
   {
    "duration": 50,
    "start_time": "2022-06-05T08:02:48.003Z"
   },
   {
    "duration": 11,
    "start_time": "2022-06-05T08:02:48.055Z"
   },
   {
    "duration": 18,
    "start_time": "2022-06-05T08:02:48.068Z"
   },
   {
    "duration": 50,
    "start_time": "2022-06-05T08:02:48.087Z"
   },
   {
    "duration": 23,
    "start_time": "2022-06-05T08:02:48.142Z"
   },
   {
    "duration": 20,
    "start_time": "2022-06-05T08:02:48.166Z"
   },
   {
    "duration": 8,
    "start_time": "2022-06-05T08:02:48.188Z"
   },
   {
    "duration": 45,
    "start_time": "2022-06-05T08:02:48.198Z"
   },
   {
    "duration": 15,
    "start_time": "2022-06-05T08:02:48.244Z"
   },
   {
    "duration": 18,
    "start_time": "2022-06-05T08:02:48.261Z"
   },
   {
    "duration": 4,
    "start_time": "2022-06-05T08:02:48.281Z"
   },
   {
    "duration": 9,
    "start_time": "2022-06-05T08:02:48.287Z"
   },
   {
    "duration": 109,
    "start_time": "2022-06-05T08:02:48.297Z"
   },
   {
    "duration": 39,
    "start_time": "2022-06-05T08:02:48.408Z"
   },
   {
    "duration": 4,
    "start_time": "2022-06-05T08:02:48.449Z"
   },
   {
    "duration": 37,
    "start_time": "2022-06-05T08:02:48.455Z"
   },
   {
    "duration": 4,
    "start_time": "2022-06-05T08:02:48.494Z"
   },
   {
    "duration": 36,
    "start_time": "2022-06-05T08:02:48.499Z"
   },
   {
    "duration": 3,
    "start_time": "2022-06-05T08:02:48.539Z"
   },
   {
    "duration": 13,
    "start_time": "2022-06-05T08:02:48.543Z"
   },
   {
    "duration": 158,
    "start_time": "2022-06-05T08:02:48.557Z"
   },
   {
    "duration": 2,
    "start_time": "2022-06-05T08:02:48.717Z"
   },
   {
    "duration": 121,
    "start_time": "2022-06-05T08:02:48.721Z"
   },
   {
    "duration": 0,
    "start_time": "2022-06-05T08:02:48.846Z"
   },
   {
    "duration": 0,
    "start_time": "2022-06-05T08:02:48.848Z"
   },
   {
    "duration": 0,
    "start_time": "2022-06-05T08:02:48.849Z"
   },
   {
    "duration": 0,
    "start_time": "2022-06-05T08:02:48.851Z"
   },
   {
    "duration": 0,
    "start_time": "2022-06-05T08:02:48.852Z"
   },
   {
    "duration": 0,
    "start_time": "2022-06-05T08:02:48.854Z"
   },
   {
    "duration": 0,
    "start_time": "2022-06-05T08:02:48.855Z"
   },
   {
    "duration": 1,
    "start_time": "2022-06-05T08:02:48.856Z"
   },
   {
    "duration": 0,
    "start_time": "2022-06-05T08:02:48.858Z"
   },
   {
    "duration": 0,
    "start_time": "2022-06-05T08:02:48.859Z"
   },
   {
    "duration": 0,
    "start_time": "2022-06-05T08:02:48.861Z"
   },
   {
    "duration": 0,
    "start_time": "2022-06-05T08:02:48.862Z"
   },
   {
    "duration": 1,
    "start_time": "2022-06-05T08:02:48.863Z"
   },
   {
    "duration": 0,
    "start_time": "2022-06-05T08:02:48.865Z"
   },
   {
    "duration": 0,
    "start_time": "2022-06-05T08:02:48.992Z"
   },
   {
    "duration": 0,
    "start_time": "2022-06-05T08:02:48.993Z"
   },
   {
    "duration": 0,
    "start_time": "2022-06-05T08:02:48.994Z"
   },
   {
    "duration": 0,
    "start_time": "2022-06-05T08:02:48.998Z"
   },
   {
    "duration": 0,
    "start_time": "2022-06-05T08:02:48.999Z"
   },
   {
    "duration": 0,
    "start_time": "2022-06-05T08:02:49.001Z"
   },
   {
    "duration": 0,
    "start_time": "2022-06-05T08:02:49.002Z"
   },
   {
    "duration": 0,
    "start_time": "2022-06-05T08:02:49.004Z"
   },
   {
    "duration": 0,
    "start_time": "2022-06-05T08:02:49.023Z"
   },
   {
    "duration": 0,
    "start_time": "2022-06-05T08:02:49.027Z"
   },
   {
    "duration": 0,
    "start_time": "2022-06-05T08:02:49.028Z"
   },
   {
    "duration": 0,
    "start_time": "2022-06-05T08:02:49.035Z"
   },
   {
    "duration": 0,
    "start_time": "2022-06-05T08:02:49.038Z"
   },
   {
    "duration": 0,
    "start_time": "2022-06-05T08:02:49.040Z"
   },
   {
    "duration": 0,
    "start_time": "2022-06-05T08:02:49.040Z"
   },
   {
    "duration": 0,
    "start_time": "2022-06-05T08:02:49.041Z"
   },
   {
    "duration": 0,
    "start_time": "2022-06-05T08:02:49.042Z"
   },
   {
    "duration": 0,
    "start_time": "2022-06-05T08:02:49.043Z"
   },
   {
    "duration": 0,
    "start_time": "2022-06-05T08:02:49.046Z"
   },
   {
    "duration": 0,
    "start_time": "2022-06-05T08:02:49.047Z"
   },
   {
    "duration": 0,
    "start_time": "2022-06-05T08:02:49.048Z"
   },
   {
    "duration": 0,
    "start_time": "2022-06-05T08:02:49.049Z"
   },
   {
    "duration": 0,
    "start_time": "2022-06-05T08:02:49.050Z"
   },
   {
    "duration": 0,
    "start_time": "2022-06-05T08:02:49.051Z"
   },
   {
    "duration": 1,
    "start_time": "2022-06-05T08:02:49.052Z"
   },
   {
    "duration": 0,
    "start_time": "2022-06-05T08:02:49.053Z"
   },
   {
    "duration": 0,
    "start_time": "2022-06-05T08:02:49.054Z"
   },
   {
    "duration": 0,
    "start_time": "2022-06-05T08:02:49.055Z"
   },
   {
    "duration": 10,
    "start_time": "2022-06-05T08:05:04.307Z"
   },
   {
    "duration": 31,
    "start_time": "2022-06-05T08:05:12.588Z"
   },
   {
    "duration": 1148,
    "start_time": "2022-06-05T08:05:20.651Z"
   },
   {
    "duration": 54,
    "start_time": "2022-06-05T08:05:21.801Z"
   },
   {
    "duration": 11,
    "start_time": "2022-06-05T08:05:21.856Z"
   },
   {
    "duration": 6,
    "start_time": "2022-06-05T08:05:21.869Z"
   },
   {
    "duration": 7,
    "start_time": "2022-06-05T08:05:21.877Z"
   },
   {
    "duration": 9,
    "start_time": "2022-06-05T08:05:21.885Z"
   },
   {
    "duration": 13,
    "start_time": "2022-06-05T08:05:21.896Z"
   },
   {
    "duration": 192,
    "start_time": "2022-06-05T08:05:21.911Z"
   },
   {
    "duration": 33,
    "start_time": "2022-06-05T08:05:22.105Z"
   },
   {
    "duration": 10,
    "start_time": "2022-06-05T08:05:22.141Z"
   },
   {
    "duration": 125,
    "start_time": "2022-06-05T08:05:22.153Z"
   },
   {
    "duration": 20,
    "start_time": "2022-06-05T08:05:22.280Z"
   },
   {
    "duration": 62,
    "start_time": "2022-06-05T08:05:22.301Z"
   },
   {
    "duration": 99,
    "start_time": "2022-06-05T08:05:22.365Z"
   },
   {
    "duration": 17,
    "start_time": "2022-06-05T08:05:22.466Z"
   },
   {
    "duration": 62,
    "start_time": "2022-06-05T08:05:22.485Z"
   },
   {
    "duration": 21,
    "start_time": "2022-06-05T08:05:22.549Z"
   },
   {
    "duration": 52,
    "start_time": "2022-06-05T08:05:22.572Z"
   },
   {
    "duration": 181,
    "start_time": "2022-06-05T08:05:22.626Z"
   },
   {
    "duration": 32,
    "start_time": "2022-06-05T08:05:22.808Z"
   },
   {
    "duration": 38,
    "start_time": "2022-06-05T08:05:22.842Z"
   },
   {
    "duration": 35,
    "start_time": "2022-06-05T08:05:22.881Z"
   },
   {
    "duration": 51,
    "start_time": "2022-06-05T08:05:22.917Z"
   },
   {
    "duration": 12,
    "start_time": "2022-06-05T08:05:22.969Z"
   },
   {
    "duration": 15,
    "start_time": "2022-06-05T08:05:22.982Z"
   },
   {
    "duration": 36,
    "start_time": "2022-06-05T08:05:22.998Z"
   },
   {
    "duration": 10,
    "start_time": "2022-06-05T08:05:23.036Z"
   },
   {
    "duration": 32,
    "start_time": "2022-06-05T08:05:23.050Z"
   },
   {
    "duration": 47,
    "start_time": "2022-06-05T08:05:23.083Z"
   },
   {
    "duration": 32,
    "start_time": "2022-06-05T08:05:23.132Z"
   },
   {
    "duration": 11,
    "start_time": "2022-06-05T08:05:23.165Z"
   },
   {
    "duration": 18,
    "start_time": "2022-06-05T08:05:23.178Z"
   },
   {
    "duration": 47,
    "start_time": "2022-06-05T08:05:23.197Z"
   },
   {
    "duration": 28,
    "start_time": "2022-06-05T08:05:23.246Z"
   },
   {
    "duration": 21,
    "start_time": "2022-06-05T08:05:23.276Z"
   },
   {
    "duration": 37,
    "start_time": "2022-06-05T08:05:23.299Z"
   },
   {
    "duration": 21,
    "start_time": "2022-06-05T08:05:23.337Z"
   },
   {
    "duration": 15,
    "start_time": "2022-06-05T08:05:23.360Z"
   },
   {
    "duration": 19,
    "start_time": "2022-06-05T08:05:23.376Z"
   },
   {
    "duration": 5,
    "start_time": "2022-06-05T08:05:23.396Z"
   },
   {
    "duration": 33,
    "start_time": "2022-06-05T08:05:23.402Z"
   },
   {
    "duration": 76,
    "start_time": "2022-06-05T08:05:23.437Z"
   },
   {
    "duration": 36,
    "start_time": "2022-06-05T08:05:23.515Z"
   },
   {
    "duration": 7,
    "start_time": "2022-06-05T08:05:23.552Z"
   },
   {
    "duration": 26,
    "start_time": "2022-06-05T08:05:23.560Z"
   },
   {
    "duration": 4,
    "start_time": "2022-06-05T08:05:23.588Z"
   },
   {
    "duration": 11,
    "start_time": "2022-06-05T08:05:23.593Z"
   },
   {
    "duration": 12,
    "start_time": "2022-06-05T08:05:23.625Z"
   },
   {
    "duration": 6,
    "start_time": "2022-06-05T08:05:23.639Z"
   },
   {
    "duration": 144,
    "start_time": "2022-06-05T08:05:23.647Z"
   },
   {
    "duration": 2,
    "start_time": "2022-06-05T08:05:23.793Z"
   },
   {
    "duration": 119,
    "start_time": "2022-06-05T08:05:23.797Z"
   },
   {
    "duration": 0,
    "start_time": "2022-06-05T08:05:23.917Z"
   },
   {
    "duration": 0,
    "start_time": "2022-06-05T08:05:23.919Z"
   },
   {
    "duration": 0,
    "start_time": "2022-06-05T08:05:23.920Z"
   },
   {
    "duration": 0,
    "start_time": "2022-06-05T08:05:23.920Z"
   },
   {
    "duration": 0,
    "start_time": "2022-06-05T08:05:23.922Z"
   },
   {
    "duration": 0,
    "start_time": "2022-06-05T08:05:23.923Z"
   },
   {
    "duration": 0,
    "start_time": "2022-06-05T08:05:23.924Z"
   },
   {
    "duration": 0,
    "start_time": "2022-06-05T08:05:23.924Z"
   },
   {
    "duration": 0,
    "start_time": "2022-06-05T08:05:23.925Z"
   },
   {
    "duration": 0,
    "start_time": "2022-06-05T08:05:24.002Z"
   },
   {
    "duration": 0,
    "start_time": "2022-06-05T08:05:24.003Z"
   },
   {
    "duration": 0,
    "start_time": "2022-06-05T08:05:24.005Z"
   },
   {
    "duration": 0,
    "start_time": "2022-06-05T08:05:24.005Z"
   },
   {
    "duration": 0,
    "start_time": "2022-06-05T08:05:24.028Z"
   },
   {
    "duration": 0,
    "start_time": "2022-06-05T08:05:24.029Z"
   },
   {
    "duration": 0,
    "start_time": "2022-06-05T08:05:24.030Z"
   },
   {
    "duration": 0,
    "start_time": "2022-06-05T08:05:24.031Z"
   },
   {
    "duration": 0,
    "start_time": "2022-06-05T08:05:24.031Z"
   },
   {
    "duration": 0,
    "start_time": "2022-06-05T08:05:24.032Z"
   },
   {
    "duration": 0,
    "start_time": "2022-06-05T08:05:24.033Z"
   },
   {
    "duration": 0,
    "start_time": "2022-06-05T08:05:24.034Z"
   },
   {
    "duration": 0,
    "start_time": "2022-06-05T08:05:24.034Z"
   },
   {
    "duration": 0,
    "start_time": "2022-06-05T08:05:24.035Z"
   },
   {
    "duration": 0,
    "start_time": "2022-06-05T08:05:24.036Z"
   },
   {
    "duration": 0,
    "start_time": "2022-06-05T08:05:24.037Z"
   },
   {
    "duration": 0,
    "start_time": "2022-06-05T08:05:24.038Z"
   },
   {
    "duration": 0,
    "start_time": "2022-06-05T08:05:24.038Z"
   },
   {
    "duration": 0,
    "start_time": "2022-06-05T08:05:24.039Z"
   },
   {
    "duration": 0,
    "start_time": "2022-06-05T08:05:24.042Z"
   },
   {
    "duration": 0,
    "start_time": "2022-06-05T08:05:24.044Z"
   },
   {
    "duration": 0,
    "start_time": "2022-06-05T08:05:24.045Z"
   },
   {
    "duration": 0,
    "start_time": "2022-06-05T08:05:24.047Z"
   },
   {
    "duration": 0,
    "start_time": "2022-06-05T08:05:24.048Z"
   },
   {
    "duration": 0,
    "start_time": "2022-06-05T08:05:24.049Z"
   },
   {
    "duration": 0,
    "start_time": "2022-06-05T08:05:24.050Z"
   },
   {
    "duration": 0,
    "start_time": "2022-06-05T08:05:24.051Z"
   },
   {
    "duration": 0,
    "start_time": "2022-06-05T08:05:24.052Z"
   },
   {
    "duration": 0,
    "start_time": "2022-06-05T08:05:24.053Z"
   },
   {
    "duration": 0,
    "start_time": "2022-06-05T08:05:24.054Z"
   },
   {
    "duration": 0,
    "start_time": "2022-06-05T08:05:24.055Z"
   },
   {
    "duration": 0,
    "start_time": "2022-06-05T08:05:24.056Z"
   },
   {
    "duration": 0,
    "start_time": "2022-06-05T08:05:24.057Z"
   },
   {
    "duration": 1208,
    "start_time": "2022-06-05T08:06:27.446Z"
   },
   {
    "duration": 50,
    "start_time": "2022-06-05T08:06:28.656Z"
   },
   {
    "duration": 11,
    "start_time": "2022-06-05T08:06:28.708Z"
   },
   {
    "duration": 20,
    "start_time": "2022-06-05T08:06:28.720Z"
   },
   {
    "duration": 6,
    "start_time": "2022-06-05T08:06:28.742Z"
   },
   {
    "duration": 7,
    "start_time": "2022-06-05T08:06:28.749Z"
   },
   {
    "duration": 18,
    "start_time": "2022-06-05T08:06:28.757Z"
   },
   {
    "duration": 178,
    "start_time": "2022-06-05T08:06:28.777Z"
   },
   {
    "duration": 40,
    "start_time": "2022-06-05T08:06:28.957Z"
   },
   {
    "duration": 23,
    "start_time": "2022-06-05T08:06:29.001Z"
   },
   {
    "duration": 135,
    "start_time": "2022-06-05T08:06:29.025Z"
   },
   {
    "duration": 21,
    "start_time": "2022-06-05T08:06:29.162Z"
   },
   {
    "duration": 73,
    "start_time": "2022-06-05T08:06:29.184Z"
   },
   {
    "duration": 105,
    "start_time": "2022-06-05T08:06:29.259Z"
   },
   {
    "duration": 18,
    "start_time": "2022-06-05T08:06:29.365Z"
   },
   {
    "duration": 58,
    "start_time": "2022-06-05T08:06:29.385Z"
   },
   {
    "duration": 14,
    "start_time": "2022-06-05T08:06:29.444Z"
   },
   {
    "duration": 27,
    "start_time": "2022-06-05T08:06:29.460Z"
   },
   {
    "duration": 154,
    "start_time": "2022-06-05T08:06:29.488Z"
   },
   {
    "duration": 36,
    "start_time": "2022-06-05T08:06:29.644Z"
   },
   {
    "duration": 16,
    "start_time": "2022-06-05T08:06:29.682Z"
   },
   {
    "duration": 46,
    "start_time": "2022-06-05T08:06:29.700Z"
   },
   {
    "duration": 53,
    "start_time": "2022-06-05T08:06:29.748Z"
   },
   {
    "duration": 36,
    "start_time": "2022-06-05T08:06:29.802Z"
   },
   {
    "duration": 17,
    "start_time": "2022-06-05T08:06:29.840Z"
   },
   {
    "duration": 30,
    "start_time": "2022-06-05T08:06:29.858Z"
   },
   {
    "duration": 10,
    "start_time": "2022-06-05T08:06:29.889Z"
   },
   {
    "duration": 34,
    "start_time": "2022-06-05T08:06:29.903Z"
   },
   {
    "duration": 28,
    "start_time": "2022-06-05T08:06:29.938Z"
   },
   {
    "duration": 35,
    "start_time": "2022-06-05T08:06:29.968Z"
   },
   {
    "duration": 35,
    "start_time": "2022-06-05T08:06:30.005Z"
   },
   {
    "duration": 23,
    "start_time": "2022-06-05T08:06:30.042Z"
   },
   {
    "duration": 21,
    "start_time": "2022-06-05T08:06:30.066Z"
   },
   {
    "duration": 42,
    "start_time": "2022-06-05T08:06:30.089Z"
   },
   {
    "duration": 25,
    "start_time": "2022-06-05T08:06:30.132Z"
   },
   {
    "duration": 9,
    "start_time": "2022-06-05T08:06:30.158Z"
   },
   {
    "duration": 13,
    "start_time": "2022-06-05T08:06:30.168Z"
   },
   {
    "duration": 42,
    "start_time": "2022-06-05T08:06:30.182Z"
   },
   {
    "duration": 28,
    "start_time": "2022-06-05T08:06:30.227Z"
   },
   {
    "duration": 6,
    "start_time": "2022-06-05T08:06:30.257Z"
   },
   {
    "duration": 11,
    "start_time": "2022-06-05T08:06:30.265Z"
   },
   {
    "duration": 100,
    "start_time": "2022-06-05T08:06:30.278Z"
   },
   {
    "duration": 26,
    "start_time": "2022-06-05T08:06:30.380Z"
   },
   {
    "duration": 5,
    "start_time": "2022-06-05T08:06:30.407Z"
   },
   {
    "duration": 29,
    "start_time": "2022-06-05T08:06:30.426Z"
   },
   {
    "duration": 5,
    "start_time": "2022-06-05T08:06:30.457Z"
   },
   {
    "duration": 12,
    "start_time": "2022-06-05T08:06:30.463Z"
   },
   {
    "duration": 13,
    "start_time": "2022-06-05T08:06:30.476Z"
   },
   {
    "duration": 10,
    "start_time": "2022-06-05T08:06:30.491Z"
   },
   {
    "duration": 168,
    "start_time": "2022-06-05T08:06:30.502Z"
   },
   {
    "duration": 3,
    "start_time": "2022-06-05T08:06:30.671Z"
   },
   {
    "duration": 122,
    "start_time": "2022-06-05T08:06:30.676Z"
   },
   {
    "duration": 0,
    "start_time": "2022-06-05T08:06:30.800Z"
   },
   {
    "duration": 0,
    "start_time": "2022-06-05T08:06:30.801Z"
   },
   {
    "duration": 0,
    "start_time": "2022-06-05T08:06:30.803Z"
   },
   {
    "duration": 0,
    "start_time": "2022-06-05T08:06:30.804Z"
   },
   {
    "duration": 0,
    "start_time": "2022-06-05T08:06:30.806Z"
   },
   {
    "duration": 0,
    "start_time": "2022-06-05T08:06:30.807Z"
   },
   {
    "duration": 0,
    "start_time": "2022-06-05T08:06:30.809Z"
   },
   {
    "duration": 0,
    "start_time": "2022-06-05T08:06:30.826Z"
   },
   {
    "duration": 0,
    "start_time": "2022-06-05T08:06:30.832Z"
   },
   {
    "duration": 0,
    "start_time": "2022-06-05T08:06:30.833Z"
   },
   {
    "duration": 0,
    "start_time": "2022-06-05T08:06:30.834Z"
   },
   {
    "duration": 0,
    "start_time": "2022-06-05T08:06:30.835Z"
   },
   {
    "duration": 0,
    "start_time": "2022-06-05T08:06:30.836Z"
   },
   {
    "duration": 0,
    "start_time": "2022-06-05T08:06:30.837Z"
   },
   {
    "duration": 0,
    "start_time": "2022-06-05T08:06:30.838Z"
   },
   {
    "duration": 0,
    "start_time": "2022-06-05T08:06:30.947Z"
   },
   {
    "duration": 0,
    "start_time": "2022-06-05T08:06:30.948Z"
   },
   {
    "duration": 0,
    "start_time": "2022-06-05T08:06:30.949Z"
   },
   {
    "duration": 0,
    "start_time": "2022-06-05T08:06:30.950Z"
   },
   {
    "duration": 0,
    "start_time": "2022-06-05T08:06:30.951Z"
   },
   {
    "duration": 0,
    "start_time": "2022-06-05T08:06:30.952Z"
   },
   {
    "duration": 0,
    "start_time": "2022-06-05T08:06:30.953Z"
   },
   {
    "duration": 0,
    "start_time": "2022-06-05T08:06:30.954Z"
   },
   {
    "duration": 0,
    "start_time": "2022-06-05T08:06:30.958Z"
   },
   {
    "duration": 0,
    "start_time": "2022-06-05T08:06:30.959Z"
   },
   {
    "duration": 0,
    "start_time": "2022-06-05T08:06:30.961Z"
   },
   {
    "duration": 0,
    "start_time": "2022-06-05T08:06:30.962Z"
   },
   {
    "duration": 0,
    "start_time": "2022-06-05T08:06:30.963Z"
   },
   {
    "duration": 0,
    "start_time": "2022-06-05T08:06:30.964Z"
   },
   {
    "duration": 0,
    "start_time": "2022-06-05T08:06:30.965Z"
   },
   {
    "duration": 0,
    "start_time": "2022-06-05T08:06:30.967Z"
   },
   {
    "duration": 0,
    "start_time": "2022-06-05T08:06:30.968Z"
   },
   {
    "duration": 0,
    "start_time": "2022-06-05T08:06:30.972Z"
   },
   {
    "duration": 0,
    "start_time": "2022-06-05T08:06:30.974Z"
   },
   {
    "duration": 0,
    "start_time": "2022-06-05T08:06:30.974Z"
   },
   {
    "duration": 0,
    "start_time": "2022-06-05T08:06:30.976Z"
   },
   {
    "duration": 0,
    "start_time": "2022-06-05T08:06:30.977Z"
   },
   {
    "duration": 0,
    "start_time": "2022-06-05T08:06:30.978Z"
   },
   {
    "duration": 0,
    "start_time": "2022-06-05T08:06:30.979Z"
   },
   {
    "duration": 0,
    "start_time": "2022-06-05T08:06:31.023Z"
   },
   {
    "duration": 0,
    "start_time": "2022-06-05T08:06:31.024Z"
   },
   {
    "duration": 0,
    "start_time": "2022-06-05T08:06:31.025Z"
   },
   {
    "duration": 39,
    "start_time": "2022-06-05T08:07:09.814Z"
   },
   {
    "duration": 1150,
    "start_time": "2022-06-05T08:07:37.592Z"
   },
   {
    "duration": 62,
    "start_time": "2022-06-05T08:07:38.745Z"
   },
   {
    "duration": 12,
    "start_time": "2022-06-05T08:07:38.809Z"
   },
   {
    "duration": 30,
    "start_time": "2022-06-05T08:07:38.823Z"
   },
   {
    "duration": 14,
    "start_time": "2022-06-05T08:07:38.855Z"
   },
   {
    "duration": 8,
    "start_time": "2022-06-05T08:07:38.871Z"
   },
   {
    "duration": 14,
    "start_time": "2022-06-05T08:07:38.881Z"
   },
   {
    "duration": 192,
    "start_time": "2022-06-05T08:07:38.896Z"
   },
   {
    "duration": 24,
    "start_time": "2022-06-05T08:07:39.089Z"
   },
   {
    "duration": 23,
    "start_time": "2022-06-05T08:07:39.115Z"
   },
   {
    "duration": 132,
    "start_time": "2022-06-05T08:07:39.142Z"
   },
   {
    "duration": 26,
    "start_time": "2022-06-05T08:07:39.276Z"
   },
   {
    "duration": 85,
    "start_time": "2022-06-05T08:07:39.304Z"
   },
   {
    "duration": 104,
    "start_time": "2022-06-05T08:07:39.391Z"
   },
   {
    "duration": 20,
    "start_time": "2022-06-05T08:07:39.496Z"
   },
   {
    "duration": 49,
    "start_time": "2022-06-05T08:07:39.526Z"
   },
   {
    "duration": 22,
    "start_time": "2022-06-05T08:07:39.577Z"
   },
   {
    "duration": 57,
    "start_time": "2022-06-05T08:07:39.601Z"
   },
   {
    "duration": 135,
    "start_time": "2022-06-05T08:07:39.660Z"
   },
   {
    "duration": 20,
    "start_time": "2022-06-05T08:07:39.796Z"
   },
   {
    "duration": 16,
    "start_time": "2022-06-05T08:07:39.823Z"
   },
   {
    "duration": 27,
    "start_time": "2022-06-05T08:07:39.841Z"
   },
   {
    "duration": 58,
    "start_time": "2022-06-05T08:07:39.870Z"
   },
   {
    "duration": 12,
    "start_time": "2022-06-05T08:07:39.939Z"
   },
   {
    "duration": 18,
    "start_time": "2022-06-05T08:07:39.952Z"
   },
   {
    "duration": 32,
    "start_time": "2022-06-05T08:07:39.971Z"
   },
   {
    "duration": 10,
    "start_time": "2022-06-05T08:07:40.005Z"
   },
   {
    "duration": 48,
    "start_time": "2022-06-05T08:07:40.019Z"
   },
   {
    "duration": 26,
    "start_time": "2022-06-05T08:07:40.068Z"
   },
   {
    "duration": 39,
    "start_time": "2022-06-05T08:07:40.095Z"
   },
   {
    "duration": 16,
    "start_time": "2022-06-05T08:07:40.139Z"
   },
   {
    "duration": 19,
    "start_time": "2022-06-05T08:07:40.157Z"
   },
   {
    "duration": 20,
    "start_time": "2022-06-05T08:07:40.177Z"
   },
   {
    "duration": 37,
    "start_time": "2022-06-05T08:07:40.198Z"
   },
   {
    "duration": 20,
    "start_time": "2022-06-05T08:07:40.237Z"
   },
   {
    "duration": 8,
    "start_time": "2022-06-05T08:07:40.259Z"
   },
   {
    "duration": 13,
    "start_time": "2022-06-05T08:07:40.268Z"
   },
   {
    "duration": 14,
    "start_time": "2022-06-05T08:07:40.283Z"
   },
   {
    "duration": 47,
    "start_time": "2022-06-05T08:07:40.298Z"
   },
   {
    "duration": 4,
    "start_time": "2022-06-05T08:07:40.346Z"
   },
   {
    "duration": 9,
    "start_time": "2022-06-05T08:07:40.352Z"
   },
   {
    "duration": 96,
    "start_time": "2022-06-05T08:07:40.362Z"
   },
   {
    "duration": 26,
    "start_time": "2022-06-05T08:07:40.460Z"
   },
   {
    "duration": 5,
    "start_time": "2022-06-05T08:07:40.488Z"
   },
   {
    "duration": 50,
    "start_time": "2022-06-05T08:07:40.494Z"
   },
   {
    "duration": 5,
    "start_time": "2022-06-05T08:07:40.545Z"
   },
   {
    "duration": 8,
    "start_time": "2022-06-05T08:07:40.551Z"
   },
   {
    "duration": 4,
    "start_time": "2022-06-05T08:07:40.560Z"
   },
   {
    "duration": 4,
    "start_time": "2022-06-05T08:07:40.565Z"
   },
   {
    "duration": 173,
    "start_time": "2022-06-05T08:07:40.571Z"
   },
   {
    "duration": 2,
    "start_time": "2022-06-05T08:07:40.746Z"
   },
   {
    "duration": 29,
    "start_time": "2022-06-05T08:07:40.749Z"
   },
   {
    "duration": 4,
    "start_time": "2022-06-05T08:07:40.779Z"
   },
   {
    "duration": 18,
    "start_time": "2022-06-05T08:07:40.785Z"
   },
   {
    "duration": 15,
    "start_time": "2022-06-05T08:07:40.823Z"
   },
   {
    "duration": 5,
    "start_time": "2022-06-05T08:07:40.840Z"
   },
   {
    "duration": 5,
    "start_time": "2022-06-05T08:07:40.847Z"
   },
   {
    "duration": 219,
    "start_time": "2022-06-05T08:07:40.853Z"
   },
   {
    "duration": 3,
    "start_time": "2022-06-05T08:07:41.073Z"
   },
   {
    "duration": 27,
    "start_time": "2022-06-05T08:07:41.077Z"
   },
   {
    "duration": 18,
    "start_time": "2022-06-05T08:07:41.105Z"
   },
   {
    "duration": 21,
    "start_time": "2022-06-05T08:07:41.125Z"
   },
   {
    "duration": 8,
    "start_time": "2022-06-05T08:07:41.147Z"
   },
   {
    "duration": 124,
    "start_time": "2022-06-05T08:07:41.157Z"
   },
   {
    "duration": 0,
    "start_time": "2022-06-05T08:07:41.284Z"
   },
   {
    "duration": 0,
    "start_time": "2022-06-05T08:07:41.285Z"
   },
   {
    "duration": 0,
    "start_time": "2022-06-05T08:07:41.286Z"
   },
   {
    "duration": 0,
    "start_time": "2022-06-05T08:07:41.287Z"
   },
   {
    "duration": 0,
    "start_time": "2022-06-05T08:07:41.289Z"
   },
   {
    "duration": 0,
    "start_time": "2022-06-05T08:07:41.290Z"
   },
   {
    "duration": 0,
    "start_time": "2022-06-05T08:07:41.291Z"
   },
   {
    "duration": 0,
    "start_time": "2022-06-05T08:07:41.293Z"
   },
   {
    "duration": 0,
    "start_time": "2022-06-05T08:07:41.294Z"
   },
   {
    "duration": 0,
    "start_time": "2022-06-05T08:07:41.296Z"
   },
   {
    "duration": 0,
    "start_time": "2022-06-05T08:07:41.297Z"
   },
   {
    "duration": 0,
    "start_time": "2022-06-05T08:07:41.299Z"
   },
   {
    "duration": 0,
    "start_time": "2022-06-05T08:07:41.300Z"
   },
   {
    "duration": 0,
    "start_time": "2022-06-05T08:07:41.301Z"
   },
   {
    "duration": 0,
    "start_time": "2022-06-05T08:07:41.324Z"
   },
   {
    "duration": 0,
    "start_time": "2022-06-05T08:07:41.325Z"
   },
   {
    "duration": 0,
    "start_time": "2022-06-05T08:07:41.326Z"
   },
   {
    "duration": 0,
    "start_time": "2022-06-05T08:07:41.330Z"
   },
   {
    "duration": 1,
    "start_time": "2022-06-05T08:07:41.330Z"
   },
   {
    "duration": 0,
    "start_time": "2022-06-05T08:07:41.331Z"
   },
   {
    "duration": 0,
    "start_time": "2022-06-05T08:07:41.335Z"
   },
   {
    "duration": 0,
    "start_time": "2022-06-05T08:07:41.336Z"
   },
   {
    "duration": 0,
    "start_time": "2022-06-05T08:07:41.337Z"
   },
   {
    "duration": 0,
    "start_time": "2022-06-05T08:07:41.340Z"
   },
   {
    "duration": 0,
    "start_time": "2022-06-05T08:07:41.341Z"
   },
   {
    "duration": 0,
    "start_time": "2022-06-05T08:07:41.342Z"
   },
   {
    "duration": 0,
    "start_time": "2022-06-05T08:07:41.343Z"
   },
   {
    "duration": 0,
    "start_time": "2022-06-05T08:07:41.344Z"
   },
   {
    "duration": 0,
    "start_time": "2022-06-05T08:07:41.345Z"
   },
   {
    "duration": 0,
    "start_time": "2022-06-05T08:07:41.346Z"
   },
   {
    "duration": 7,
    "start_time": "2022-06-05T08:08:13.882Z"
   },
   {
    "duration": 2,
    "start_time": "2022-06-05T08:08:16.245Z"
   },
   {
    "duration": 2,
    "start_time": "2022-06-05T08:08:16.806Z"
   },
   {
    "duration": 137,
    "start_time": "2022-06-05T08:08:17.405Z"
   },
   {
    "duration": 2,
    "start_time": "2022-06-05T08:08:20.760Z"
   },
   {
    "duration": 29,
    "start_time": "2022-06-05T08:08:21.340Z"
   },
   {
    "duration": 1143,
    "start_time": "2022-06-05T08:08:27.152Z"
   },
   {
    "duration": 56,
    "start_time": "2022-06-05T08:08:28.297Z"
   },
   {
    "duration": 11,
    "start_time": "2022-06-05T08:08:28.355Z"
   },
   {
    "duration": 10,
    "start_time": "2022-06-05T08:08:28.367Z"
   },
   {
    "duration": 6,
    "start_time": "2022-06-05T08:08:28.378Z"
   },
   {
    "duration": 6,
    "start_time": "2022-06-05T08:08:28.385Z"
   },
   {
    "duration": 13,
    "start_time": "2022-06-05T08:08:28.393Z"
   },
   {
    "duration": 167,
    "start_time": "2022-06-05T08:08:28.408Z"
   },
   {
    "duration": 22,
    "start_time": "2022-06-05T08:08:28.577Z"
   },
   {
    "duration": 23,
    "start_time": "2022-06-05T08:08:28.601Z"
   },
   {
    "duration": 112,
    "start_time": "2022-06-05T08:08:28.626Z"
   },
   {
    "duration": 20,
    "start_time": "2022-06-05T08:08:28.741Z"
   },
   {
    "duration": 81,
    "start_time": "2022-06-05T08:08:28.763Z"
   },
   {
    "duration": 112,
    "start_time": "2022-06-05T08:08:28.846Z"
   },
   {
    "duration": 22,
    "start_time": "2022-06-05T08:08:28.960Z"
   },
   {
    "duration": 69,
    "start_time": "2022-06-05T08:08:28.983Z"
   },
   {
    "duration": 16,
    "start_time": "2022-06-05T08:08:29.054Z"
   },
   {
    "duration": 34,
    "start_time": "2022-06-05T08:08:29.071Z"
   },
   {
    "duration": 140,
    "start_time": "2022-06-05T08:08:29.107Z"
   },
   {
    "duration": 27,
    "start_time": "2022-06-05T08:08:29.249Z"
   },
   {
    "duration": 16,
    "start_time": "2022-06-05T08:08:29.278Z"
   },
   {
    "duration": 53,
    "start_time": "2022-06-05T08:08:29.296Z"
   },
   {
    "duration": 44,
    "start_time": "2022-06-05T08:08:29.350Z"
   },
   {
    "duration": 28,
    "start_time": "2022-06-05T08:08:29.396Z"
   },
   {
    "duration": 24,
    "start_time": "2022-06-05T08:08:29.427Z"
   },
   {
    "duration": 31,
    "start_time": "2022-06-05T08:08:29.452Z"
   },
   {
    "duration": 10,
    "start_time": "2022-06-05T08:08:29.485Z"
   },
   {
    "duration": 37,
    "start_time": "2022-06-05T08:08:29.499Z"
   },
   {
    "duration": 25,
    "start_time": "2022-06-05T08:08:29.538Z"
   },
   {
    "duration": 28,
    "start_time": "2022-06-05T08:08:29.565Z"
   },
   {
    "duration": 10,
    "start_time": "2022-06-05T08:08:29.595Z"
   },
   {
    "duration": 24,
    "start_time": "2022-06-05T08:08:29.626Z"
   },
   {
    "duration": 20,
    "start_time": "2022-06-05T08:08:29.652Z"
   },
   {
    "duration": 22,
    "start_time": "2022-06-05T08:08:29.674Z"
   },
   {
    "duration": 45,
    "start_time": "2022-06-05T08:08:29.697Z"
   },
   {
    "duration": 11,
    "start_time": "2022-06-05T08:08:29.744Z"
   },
   {
    "duration": 15,
    "start_time": "2022-06-05T08:08:29.756Z"
   },
   {
    "duration": 15,
    "start_time": "2022-06-05T08:08:29.773Z"
   },
   {
    "duration": 45,
    "start_time": "2022-06-05T08:08:29.790Z"
   },
   {
    "duration": 7,
    "start_time": "2022-06-05T08:08:29.837Z"
   },
   {
    "duration": 12,
    "start_time": "2022-06-05T08:08:29.845Z"
   },
   {
    "duration": 98,
    "start_time": "2022-06-05T08:08:29.859Z"
   },
   {
    "duration": 30,
    "start_time": "2022-06-05T08:08:29.959Z"
   },
   {
    "duration": 5,
    "start_time": "2022-06-05T08:08:29.990Z"
   },
   {
    "duration": 52,
    "start_time": "2022-06-05T08:08:29.997Z"
   },
   {
    "duration": 22,
    "start_time": "2022-06-05T08:08:30.051Z"
   },
   {
    "duration": 10,
    "start_time": "2022-06-05T08:08:30.075Z"
   },
   {
    "duration": 12,
    "start_time": "2022-06-05T08:08:30.086Z"
   },
   {
    "duration": 17,
    "start_time": "2022-06-05T08:08:30.100Z"
   },
   {
    "duration": 181,
    "start_time": "2022-06-05T08:08:30.119Z"
   },
   {
    "duration": 3,
    "start_time": "2022-06-05T08:08:30.301Z"
   },
   {
    "duration": 50,
    "start_time": "2022-06-05T08:08:30.305Z"
   },
   {
    "duration": 5,
    "start_time": "2022-06-05T08:08:30.356Z"
   },
   {
    "duration": 21,
    "start_time": "2022-06-05T08:08:30.363Z"
   },
   {
    "duration": 4,
    "start_time": "2022-06-05T08:08:30.386Z"
   },
   {
    "duration": 11,
    "start_time": "2022-06-05T08:08:30.392Z"
   },
   {
    "duration": 35,
    "start_time": "2022-06-05T08:08:30.405Z"
   },
   {
    "duration": 229,
    "start_time": "2022-06-05T08:08:30.442Z"
   },
   {
    "duration": 2,
    "start_time": "2022-06-05T08:08:30.672Z"
   },
   {
    "duration": 30,
    "start_time": "2022-06-05T08:08:30.676Z"
   },
   {
    "duration": 28,
    "start_time": "2022-06-05T08:08:30.708Z"
   },
   {
    "duration": 8,
    "start_time": "2022-06-05T08:08:30.739Z"
   },
   {
    "duration": 21,
    "start_time": "2022-06-05T08:08:30.749Z"
   },
   {
    "duration": 149,
    "start_time": "2022-06-05T08:08:30.771Z"
   },
   {
    "duration": 12,
    "start_time": "2022-06-05T08:08:30.922Z"
   },
   {
    "duration": 43,
    "start_time": "2022-06-05T08:08:30.935Z"
   },
   {
    "duration": 21,
    "start_time": "2022-06-05T08:08:30.979Z"
   },
   {
    "duration": 10,
    "start_time": "2022-06-05T08:08:31.002Z"
   },
   {
    "duration": 35,
    "start_time": "2022-06-05T08:08:31.014Z"
   },
   {
    "duration": 153,
    "start_time": "2022-06-05T08:08:31.050Z"
   },
   {
    "duration": 3,
    "start_time": "2022-06-05T08:08:31.204Z"
   },
   {
    "duration": 49,
    "start_time": "2022-06-05T08:08:31.209Z"
   },
   {
    "duration": 20,
    "start_time": "2022-06-05T08:08:31.260Z"
   },
   {
    "duration": 36,
    "start_time": "2022-06-05T08:08:31.282Z"
   },
   {
    "duration": 13,
    "start_time": "2022-06-05T08:08:31.320Z"
   },
   {
    "duration": 9,
    "start_time": "2022-06-05T08:08:31.338Z"
   },
   {
    "duration": 18,
    "start_time": "2022-06-05T08:08:31.349Z"
   },
   {
    "duration": 138,
    "start_time": "2022-06-05T08:08:31.369Z"
   },
   {
    "duration": 2,
    "start_time": "2022-06-05T08:08:31.509Z"
   },
   {
    "duration": 58,
    "start_time": "2022-06-05T08:08:31.513Z"
   },
   {
    "duration": 6,
    "start_time": "2022-06-05T08:08:31.573Z"
   },
   {
    "duration": 5,
    "start_time": "2022-06-05T08:08:31.584Z"
   },
   {
    "duration": 7,
    "start_time": "2022-06-05T08:08:31.591Z"
   },
   {
    "duration": 154,
    "start_time": "2022-06-05T08:08:31.600Z"
   },
   {
    "duration": 3,
    "start_time": "2022-06-05T08:08:31.755Z"
   },
   {
    "duration": 33,
    "start_time": "2022-06-05T08:08:31.760Z"
   },
   {
    "duration": 6,
    "start_time": "2022-06-05T08:08:31.795Z"
   },
   {
    "duration": 15,
    "start_time": "2022-06-05T08:08:31.803Z"
   },
   {
    "duration": 28,
    "start_time": "2022-06-05T08:08:31.820Z"
   },
   {
    "duration": 24,
    "start_time": "2022-06-05T08:08:31.849Z"
   },
   {
    "duration": 33,
    "start_time": "2022-06-05T08:08:31.875Z"
   },
   {
    "duration": 7,
    "start_time": "2022-06-05T08:08:31.910Z"
   },
   {
    "duration": 29,
    "start_time": "2022-06-05T08:08:31.919Z"
   },
   {
    "duration": 13,
    "start_time": "2022-06-05T08:08:31.950Z"
   },
   {
    "duration": 706,
    "start_time": "2022-06-05T08:40:32.194Z"
   },
   {
    "duration": 44,
    "start_time": "2022-06-05T08:42:23.361Z"
   },
   {
    "duration": 125,
    "start_time": "2022-06-05T08:44:04.431Z"
   },
   {
    "duration": 100,
    "start_time": "2022-06-05T08:46:13.818Z"
   },
   {
    "duration": 11,
    "start_time": "2022-06-05T08:51:25.292Z"
   },
   {
    "duration": 13,
    "start_time": "2022-06-05T08:52:51.616Z"
   },
   {
    "duration": 110,
    "start_time": "2022-06-05T08:53:32.149Z"
   },
   {
    "duration": 154,
    "start_time": "2022-06-05T08:54:05.412Z"
   },
   {
    "duration": 163,
    "start_time": "2022-06-05T08:54:37.046Z"
   },
   {
    "duration": 197,
    "start_time": "2022-06-05T08:55:15.264Z"
   },
   {
    "duration": 189,
    "start_time": "2022-06-05T08:56:24.512Z"
   },
   {
    "duration": 188,
    "start_time": "2022-06-05T08:56:46.797Z"
   },
   {
    "duration": 218,
    "start_time": "2022-06-05T08:57:13.233Z"
   },
   {
    "duration": 212,
    "start_time": "2022-06-05T08:57:44.717Z"
   },
   {
    "duration": 312,
    "start_time": "2022-06-05T08:58:03.495Z"
   },
   {
    "duration": 230,
    "start_time": "2022-06-05T08:58:21.114Z"
   },
   {
    "duration": 1142,
    "start_time": "2022-06-05T08:58:53.595Z"
   },
   {
    "duration": 51,
    "start_time": "2022-06-05T08:58:54.739Z"
   },
   {
    "duration": 11,
    "start_time": "2022-06-05T08:58:54.792Z"
   },
   {
    "duration": 10,
    "start_time": "2022-06-05T08:58:54.805Z"
   },
   {
    "duration": 14,
    "start_time": "2022-06-05T08:58:54.816Z"
   },
   {
    "duration": 20,
    "start_time": "2022-06-05T08:58:54.831Z"
   },
   {
    "duration": 15,
    "start_time": "2022-06-05T08:58:54.853Z"
   },
   {
    "duration": 179,
    "start_time": "2022-06-05T08:58:54.871Z"
   },
   {
    "duration": 39,
    "start_time": "2022-06-05T08:58:55.052Z"
   },
   {
    "duration": 43,
    "start_time": "2022-06-05T08:58:55.095Z"
   },
   {
    "duration": 142,
    "start_time": "2022-06-05T08:58:55.142Z"
   },
   {
    "duration": 38,
    "start_time": "2022-06-05T08:58:55.286Z"
   },
   {
    "duration": 53,
    "start_time": "2022-06-05T08:58:55.330Z"
   },
   {
    "duration": 124,
    "start_time": "2022-06-05T08:58:55.385Z"
   },
   {
    "duration": 33,
    "start_time": "2022-06-05T08:58:55.512Z"
   },
   {
    "duration": 54,
    "start_time": "2022-06-05T08:58:55.548Z"
   },
   {
    "duration": 32,
    "start_time": "2022-06-05T08:58:55.604Z"
   },
   {
    "duration": 50,
    "start_time": "2022-06-05T08:58:55.638Z"
   },
   {
    "duration": 161,
    "start_time": "2022-06-05T08:58:55.690Z"
   },
   {
    "duration": 22,
    "start_time": "2022-06-05T08:58:55.853Z"
   },
   {
    "duration": 13,
    "start_time": "2022-06-05T08:58:55.877Z"
   },
   {
    "duration": 58,
    "start_time": "2022-06-05T08:58:55.892Z"
   },
   {
    "duration": 54,
    "start_time": "2022-06-05T08:58:55.953Z"
   },
   {
    "duration": 23,
    "start_time": "2022-06-05T08:58:56.009Z"
   },
   {
    "duration": 27,
    "start_time": "2022-06-05T08:58:56.035Z"
   },
   {
    "duration": 36,
    "start_time": "2022-06-05T08:58:56.064Z"
   },
   {
    "duration": 12,
    "start_time": "2022-06-05T08:58:56.102Z"
   },
   {
    "duration": 34,
    "start_time": "2022-06-05T08:58:56.119Z"
   },
   {
    "duration": 28,
    "start_time": "2022-06-05T08:58:56.155Z"
   },
   {
    "duration": 53,
    "start_time": "2022-06-05T08:58:56.185Z"
   },
   {
    "duration": 14,
    "start_time": "2022-06-05T08:58:56.240Z"
   },
   {
    "duration": 19,
    "start_time": "2022-06-05T08:58:56.255Z"
   },
   {
    "duration": 20,
    "start_time": "2022-06-05T08:58:56.275Z"
   },
   {
    "duration": 51,
    "start_time": "2022-06-05T08:58:56.297Z"
   },
   {
    "duration": 21,
    "start_time": "2022-06-05T08:58:56.349Z"
   },
   {
    "duration": 9,
    "start_time": "2022-06-05T08:58:56.372Z"
   },
   {
    "duration": 14,
    "start_time": "2022-06-05T08:58:56.383Z"
   },
   {
    "duration": 28,
    "start_time": "2022-06-05T08:58:56.423Z"
   },
   {
    "duration": 22,
    "start_time": "2022-06-05T08:58:56.453Z"
   },
   {
    "duration": 5,
    "start_time": "2022-06-05T08:58:56.476Z"
   },
   {
    "duration": 14,
    "start_time": "2022-06-05T08:58:56.483Z"
   },
   {
    "duration": 46,
    "start_time": "2022-06-05T08:58:56.498Z"
   },
   {
    "duration": 212,
    "start_time": "2022-06-05T08:58:56.546Z"
   },
   {
    "duration": 40,
    "start_time": "2022-06-05T08:58:56.760Z"
   },
   {
    "duration": 5,
    "start_time": "2022-06-05T08:58:56.802Z"
   },
   {
    "duration": 42,
    "start_time": "2022-06-05T08:58:56.809Z"
   },
   {
    "duration": 5,
    "start_time": "2022-06-05T08:58:56.853Z"
   },
   {
    "duration": 11,
    "start_time": "2022-06-05T08:58:56.860Z"
   },
   {
    "duration": 4,
    "start_time": "2022-06-05T08:58:56.873Z"
   },
   {
    "duration": 4,
    "start_time": "2022-06-05T08:58:56.879Z"
   },
   {
    "duration": 192,
    "start_time": "2022-06-05T08:58:56.885Z"
   },
   {
    "duration": 3,
    "start_time": "2022-06-05T08:58:57.079Z"
   },
   {
    "duration": 26,
    "start_time": "2022-06-05T08:58:57.083Z"
   },
   {
    "duration": 24,
    "start_time": "2022-06-05T08:58:57.111Z"
   },
   {
    "duration": 33,
    "start_time": "2022-06-05T08:58:57.136Z"
   },
   {
    "duration": 4,
    "start_time": "2022-06-05T08:58:57.171Z"
   },
   {
    "duration": 5,
    "start_time": "2022-06-05T08:58:57.177Z"
   },
   {
    "duration": 4,
    "start_time": "2022-06-05T08:58:57.184Z"
   },
   {
    "duration": 252,
    "start_time": "2022-06-05T08:58:57.190Z"
   },
   {
    "duration": 2,
    "start_time": "2022-06-05T08:58:57.447Z"
   },
   {
    "duration": 42,
    "start_time": "2022-06-05T08:58:57.452Z"
   },
   {
    "duration": 9,
    "start_time": "2022-06-05T08:58:57.496Z"
   },
   {
    "duration": 11,
    "start_time": "2022-06-05T08:58:57.507Z"
   },
   {
    "duration": 33,
    "start_time": "2022-06-05T08:58:57.519Z"
   },
   {
    "duration": 148,
    "start_time": "2022-06-05T08:58:57.555Z"
   },
   {
    "duration": 5,
    "start_time": "2022-06-05T08:58:57.705Z"
   },
   {
    "duration": 44,
    "start_time": "2022-06-05T08:58:57.712Z"
   },
   {
    "duration": 9,
    "start_time": "2022-06-05T08:58:57.758Z"
   },
   {
    "duration": 11,
    "start_time": "2022-06-05T08:58:57.769Z"
   },
   {
    "duration": 5,
    "start_time": "2022-06-05T08:58:57.782Z"
   },
   {
    "duration": 188,
    "start_time": "2022-06-05T08:58:57.789Z"
   },
   {
    "duration": 3,
    "start_time": "2022-06-05T08:58:57.979Z"
   },
   {
    "duration": 88,
    "start_time": "2022-06-05T08:58:57.983Z"
   },
   {
    "duration": 5,
    "start_time": "2022-06-05T08:58:58.073Z"
   },
   {
    "duration": 37,
    "start_time": "2022-06-05T08:58:58.080Z"
   },
   {
    "duration": 9,
    "start_time": "2022-06-05T08:58:58.119Z"
   },
   {
    "duration": 25,
    "start_time": "2022-06-05T08:58:58.130Z"
   },
   {
    "duration": 6,
    "start_time": "2022-06-05T08:58:58.157Z"
   },
   {
    "duration": 137,
    "start_time": "2022-06-05T08:58:58.164Z"
   },
   {
    "duration": 3,
    "start_time": "2022-06-05T08:58:58.303Z"
   },
   {
    "duration": 37,
    "start_time": "2022-06-05T08:58:58.307Z"
   },
   {
    "duration": 7,
    "start_time": "2022-06-05T08:58:58.348Z"
   },
   {
    "duration": 5,
    "start_time": "2022-06-05T08:58:58.357Z"
   },
   {
    "duration": 7,
    "start_time": "2022-06-05T08:58:58.365Z"
   },
   {
    "duration": 169,
    "start_time": "2022-06-05T08:58:58.374Z"
   },
   {
    "duration": 3,
    "start_time": "2022-06-05T08:58:58.545Z"
   },
   {
    "duration": 33,
    "start_time": "2022-06-05T08:58:58.550Z"
   },
   {
    "duration": 6,
    "start_time": "2022-06-05T08:58:58.584Z"
   },
   {
    "duration": 19,
    "start_time": "2022-06-05T08:58:58.592Z"
   },
   {
    "duration": 38,
    "start_time": "2022-06-05T08:58:58.612Z"
   },
   {
    "duration": 31,
    "start_time": "2022-06-05T08:58:58.652Z"
   },
   {
    "duration": 47,
    "start_time": "2022-06-05T08:58:58.685Z"
   },
   {
    "duration": 42,
    "start_time": "2022-06-05T08:58:58.734Z"
   },
   {
    "duration": 19,
    "start_time": "2022-06-05T08:58:58.778Z"
   },
   {
    "duration": 27,
    "start_time": "2022-06-05T08:58:58.799Z"
   },
   {
    "duration": 55,
    "start_time": "2022-06-05T17:25:20.227Z"
   },
   {
    "duration": 1323,
    "start_time": "2022-06-05T17:25:33.120Z"
   },
   {
    "duration": 97,
    "start_time": "2022-06-05T17:25:34.445Z"
   },
   {
    "duration": 15,
    "start_time": "2022-06-05T17:25:34.545Z"
   },
   {
    "duration": 11,
    "start_time": "2022-06-05T17:25:34.563Z"
   },
   {
    "duration": 7,
    "start_time": "2022-06-05T17:25:34.576Z"
   },
   {
    "duration": 8,
    "start_time": "2022-06-05T17:25:34.585Z"
   },
   {
    "duration": 16,
    "start_time": "2022-06-05T17:25:34.595Z"
   },
   {
    "duration": 244,
    "start_time": "2022-06-05T17:25:34.613Z"
   },
   {
    "duration": 25,
    "start_time": "2022-06-05T17:25:34.859Z"
   },
   {
    "duration": 11,
    "start_time": "2022-06-05T17:25:34.887Z"
   },
   {
    "duration": 125,
    "start_time": "2022-06-05T17:25:34.900Z"
   },
   {
    "duration": 22,
    "start_time": "2022-06-05T17:25:35.026Z"
   },
   {
    "duration": 67,
    "start_time": "2022-06-05T17:25:35.050Z"
   },
   {
    "duration": 312,
    "start_time": "2022-06-05T17:25:35.118Z"
   },
   {
    "duration": 19,
    "start_time": "2022-06-05T17:25:35.432Z"
   },
   {
    "duration": 54,
    "start_time": "2022-06-05T17:25:35.453Z"
   },
   {
    "duration": 17,
    "start_time": "2022-06-05T17:25:35.510Z"
   },
   {
    "duration": 35,
    "start_time": "2022-06-05T17:25:35.529Z"
   },
   {
    "duration": 311,
    "start_time": "2022-06-05T17:25:35.566Z"
   },
   {
    "duration": 23,
    "start_time": "2022-06-05T17:25:35.879Z"
   },
   {
    "duration": 15,
    "start_time": "2022-06-05T17:25:35.904Z"
   },
   {
    "duration": 31,
    "start_time": "2022-06-05T17:25:35.921Z"
   },
   {
    "duration": 83,
    "start_time": "2022-06-05T17:25:35.953Z"
   },
   {
    "duration": 16,
    "start_time": "2022-06-05T17:25:36.038Z"
   },
   {
    "duration": 23,
    "start_time": "2022-06-05T17:25:36.056Z"
   },
   {
    "duration": 66,
    "start_time": "2022-06-05T17:25:36.093Z"
   },
   {
    "duration": 11,
    "start_time": "2022-06-05T17:25:36.161Z"
   },
   {
    "duration": 39,
    "start_time": "2022-06-05T17:25:36.176Z"
   },
   {
    "duration": 29,
    "start_time": "2022-06-05T17:25:36.218Z"
   },
   {
    "duration": 47,
    "start_time": "2022-06-05T17:25:36.249Z"
   },
   {
    "duration": 14,
    "start_time": "2022-06-05T17:25:36.298Z"
   },
   {
    "duration": 21,
    "start_time": "2022-06-05T17:25:36.314Z"
   },
   {
    "duration": 23,
    "start_time": "2022-06-05T17:25:36.337Z"
   },
   {
    "duration": 55,
    "start_time": "2022-06-05T17:25:36.361Z"
   },
   {
    "duration": 22,
    "start_time": "2022-06-05T17:25:36.417Z"
   },
   {
    "duration": 10,
    "start_time": "2022-06-05T17:25:36.441Z"
   },
   {
    "duration": 43,
    "start_time": "2022-06-05T17:25:36.453Z"
   },
   {
    "duration": 17,
    "start_time": "2022-06-05T17:25:36.497Z"
   },
   {
    "duration": 23,
    "start_time": "2022-06-05T17:25:36.516Z"
   },
   {
    "duration": 18,
    "start_time": "2022-06-05T17:25:36.541Z"
   },
   {
    "duration": 16,
    "start_time": "2022-06-05T17:25:36.561Z"
   },
   {
    "duration": 35,
    "start_time": "2022-06-05T17:25:36.578Z"
   },
   {
    "duration": 206,
    "start_time": "2022-06-05T17:25:36.615Z"
   },
   {
    "duration": 127,
    "start_time": "2022-06-05T17:25:36.823Z"
   },
   {
    "duration": 0,
    "start_time": "2022-06-05T17:25:36.952Z"
   },
   {
    "duration": 0,
    "start_time": "2022-06-05T17:25:36.953Z"
   },
   {
    "duration": 0,
    "start_time": "2022-06-05T17:25:36.954Z"
   },
   {
    "duration": 0,
    "start_time": "2022-06-05T17:25:36.955Z"
   },
   {
    "duration": 0,
    "start_time": "2022-06-05T17:25:36.956Z"
   },
   {
    "duration": 0,
    "start_time": "2022-06-05T17:25:36.958Z"
   },
   {
    "duration": 0,
    "start_time": "2022-06-05T17:25:36.959Z"
   },
   {
    "duration": 0,
    "start_time": "2022-06-05T17:25:36.960Z"
   },
   {
    "duration": 0,
    "start_time": "2022-06-05T17:25:36.961Z"
   },
   {
    "duration": 0,
    "start_time": "2022-06-05T17:25:36.962Z"
   },
   {
    "duration": 0,
    "start_time": "2022-06-05T17:25:36.963Z"
   },
   {
    "duration": 0,
    "start_time": "2022-06-05T17:25:36.964Z"
   },
   {
    "duration": 0,
    "start_time": "2022-06-05T17:25:36.966Z"
   },
   {
    "duration": 0,
    "start_time": "2022-06-05T17:25:36.995Z"
   },
   {
    "duration": 0,
    "start_time": "2022-06-05T17:25:36.996Z"
   },
   {
    "duration": 0,
    "start_time": "2022-06-05T17:25:36.997Z"
   },
   {
    "duration": 0,
    "start_time": "2022-06-05T17:25:36.998Z"
   },
   {
    "duration": 0,
    "start_time": "2022-06-05T17:25:36.999Z"
   },
   {
    "duration": 0,
    "start_time": "2022-06-05T17:25:37.000Z"
   },
   {
    "duration": 0,
    "start_time": "2022-06-05T17:25:37.001Z"
   },
   {
    "duration": 0,
    "start_time": "2022-06-05T17:25:37.002Z"
   },
   {
    "duration": 0,
    "start_time": "2022-06-05T17:25:37.003Z"
   },
   {
    "duration": 0,
    "start_time": "2022-06-05T17:25:37.003Z"
   },
   {
    "duration": 0,
    "start_time": "2022-06-05T17:25:37.004Z"
   },
   {
    "duration": 0,
    "start_time": "2022-06-05T17:25:37.005Z"
   },
   {
    "duration": 0,
    "start_time": "2022-06-05T17:25:37.007Z"
   },
   {
    "duration": 0,
    "start_time": "2022-06-05T17:25:37.007Z"
   },
   {
    "duration": 0,
    "start_time": "2022-06-05T17:25:37.008Z"
   },
   {
    "duration": 0,
    "start_time": "2022-06-05T17:25:37.009Z"
   },
   {
    "duration": 0,
    "start_time": "2022-06-05T17:25:37.010Z"
   },
   {
    "duration": 0,
    "start_time": "2022-06-05T17:25:37.011Z"
   },
   {
    "duration": 0,
    "start_time": "2022-06-05T17:25:37.012Z"
   },
   {
    "duration": 0,
    "start_time": "2022-06-05T17:25:37.013Z"
   },
   {
    "duration": 0,
    "start_time": "2022-06-05T17:25:37.014Z"
   },
   {
    "duration": 0,
    "start_time": "2022-06-05T17:25:37.016Z"
   },
   {
    "duration": 0,
    "start_time": "2022-06-05T17:25:37.017Z"
   },
   {
    "duration": 0,
    "start_time": "2022-06-05T17:25:37.018Z"
   },
   {
    "duration": 0,
    "start_time": "2022-06-05T17:25:37.019Z"
   },
   {
    "duration": 0,
    "start_time": "2022-06-05T17:25:37.020Z"
   },
   {
    "duration": 1,
    "start_time": "2022-06-05T17:25:37.021Z"
   },
   {
    "duration": 0,
    "start_time": "2022-06-05T17:25:37.022Z"
   },
   {
    "duration": 0,
    "start_time": "2022-06-05T17:25:37.024Z"
   },
   {
    "duration": 0,
    "start_time": "2022-06-05T17:25:37.025Z"
   },
   {
    "duration": 0,
    "start_time": "2022-06-05T17:25:37.026Z"
   },
   {
    "duration": 0,
    "start_time": "2022-06-05T17:25:37.027Z"
   },
   {
    "duration": 0,
    "start_time": "2022-06-05T17:25:37.028Z"
   },
   {
    "duration": 0,
    "start_time": "2022-06-05T17:25:37.029Z"
   },
   {
    "duration": 0,
    "start_time": "2022-06-05T17:25:37.030Z"
   },
   {
    "duration": 0,
    "start_time": "2022-06-05T17:25:37.031Z"
   },
   {
    "duration": 0,
    "start_time": "2022-06-05T17:25:37.094Z"
   },
   {
    "duration": 0,
    "start_time": "2022-06-05T17:25:37.096Z"
   },
   {
    "duration": 0,
    "start_time": "2022-06-05T17:25:37.097Z"
   },
   {
    "duration": 472,
    "start_time": "2022-06-05T17:26:40.591Z"
   },
   {
    "duration": 5,
    "start_time": "2022-06-05T17:26:47.863Z"
   },
   {
    "duration": 4,
    "start_time": "2022-06-05T17:27:18.390Z"
   },
   {
    "duration": 7,
    "start_time": "2022-06-05T17:27:34.174Z"
   },
   {
    "duration": 7,
    "start_time": "2022-06-05T17:27:58.785Z"
   },
   {
    "duration": 1101,
    "start_time": "2022-06-05T17:31:22.697Z"
   },
   {
    "duration": 52,
    "start_time": "2022-06-05T17:31:23.800Z"
   },
   {
    "duration": 10,
    "start_time": "2022-06-05T17:31:23.854Z"
   },
   {
    "duration": 11,
    "start_time": "2022-06-05T17:31:23.866Z"
   },
   {
    "duration": 6,
    "start_time": "2022-06-05T17:31:23.879Z"
   },
   {
    "duration": 7,
    "start_time": "2022-06-05T17:31:23.887Z"
   },
   {
    "duration": 15,
    "start_time": "2022-06-05T17:31:23.896Z"
   },
   {
    "duration": 179,
    "start_time": "2022-06-05T17:31:23.913Z"
   },
   {
    "duration": 25,
    "start_time": "2022-06-05T17:31:24.093Z"
   },
   {
    "duration": 9,
    "start_time": "2022-06-05T17:31:24.121Z"
   },
   {
    "duration": 131,
    "start_time": "2022-06-05T17:31:24.132Z"
   },
   {
    "duration": 32,
    "start_time": "2022-06-05T17:31:24.265Z"
   },
   {
    "duration": 44,
    "start_time": "2022-06-05T17:31:24.299Z"
   },
   {
    "duration": 98,
    "start_time": "2022-06-05T17:31:24.345Z"
   },
   {
    "duration": 18,
    "start_time": "2022-06-05T17:31:24.445Z"
   },
   {
    "duration": 63,
    "start_time": "2022-06-05T17:31:24.465Z"
   },
   {
    "duration": 14,
    "start_time": "2022-06-05T17:31:24.530Z"
   },
   {
    "duration": 48,
    "start_time": "2022-06-05T17:31:24.546Z"
   },
   {
    "duration": 135,
    "start_time": "2022-06-05T17:31:24.596Z"
   },
   {
    "duration": 21,
    "start_time": "2022-06-05T17:31:24.733Z"
   },
   {
    "duration": 12,
    "start_time": "2022-06-05T17:31:24.756Z"
   },
   {
    "duration": 40,
    "start_time": "2022-06-05T17:31:24.770Z"
   },
   {
    "duration": 48,
    "start_time": "2022-06-05T17:31:24.812Z"
   },
   {
    "duration": 12,
    "start_time": "2022-06-05T17:31:24.861Z"
   },
   {
    "duration": 36,
    "start_time": "2022-06-05T17:31:24.874Z"
   },
   {
    "duration": 34,
    "start_time": "2022-06-05T17:31:24.911Z"
   },
   {
    "duration": 11,
    "start_time": "2022-06-05T17:31:24.948Z"
   },
   {
    "duration": 40,
    "start_time": "2022-06-05T17:31:24.963Z"
   },
   {
    "duration": 30,
    "start_time": "2022-06-05T17:31:25.004Z"
   },
   {
    "duration": 33,
    "start_time": "2022-06-05T17:31:25.035Z"
   },
   {
    "duration": 30,
    "start_time": "2022-06-05T17:31:25.069Z"
   },
   {
    "duration": 21,
    "start_time": "2022-06-05T17:31:25.101Z"
   },
   {
    "duration": 22,
    "start_time": "2022-06-05T17:31:25.123Z"
   },
   {
    "duration": 48,
    "start_time": "2022-06-05T17:31:25.146Z"
   },
   {
    "duration": 23,
    "start_time": "2022-06-05T17:31:25.195Z"
   },
   {
    "duration": 10,
    "start_time": "2022-06-05T17:31:25.219Z"
   },
   {
    "duration": 15,
    "start_time": "2022-06-05T17:31:25.231Z"
   },
   {
    "duration": 46,
    "start_time": "2022-06-05T17:31:25.248Z"
   },
   {
    "duration": 20,
    "start_time": "2022-06-05T17:31:25.297Z"
   },
   {
    "duration": 4,
    "start_time": "2022-06-05T17:31:25.320Z"
   },
   {
    "duration": 9,
    "start_time": "2022-06-05T17:31:25.326Z"
   },
   {
    "duration": 15,
    "start_time": "2022-06-05T17:31:25.336Z"
   },
   {
    "duration": 227,
    "start_time": "2022-06-05T17:31:25.352Z"
   },
   {
    "duration": 36,
    "start_time": "2022-06-05T17:31:25.580Z"
   },
   {
    "duration": 5,
    "start_time": "2022-06-05T17:31:25.617Z"
   },
   {
    "duration": 35,
    "start_time": "2022-06-05T17:31:25.623Z"
   },
   {
    "duration": 5,
    "start_time": "2022-06-05T17:31:25.660Z"
   },
   {
    "duration": 30,
    "start_time": "2022-06-05T17:31:25.666Z"
   },
   {
    "duration": 5,
    "start_time": "2022-06-05T17:31:25.698Z"
   },
   {
    "duration": 11,
    "start_time": "2022-06-05T17:31:25.704Z"
   },
   {
    "duration": 157,
    "start_time": "2022-06-05T17:31:25.717Z"
   },
   {
    "duration": 3,
    "start_time": "2022-06-05T17:31:25.876Z"
   },
   {
    "duration": 32,
    "start_time": "2022-06-05T17:31:25.880Z"
   },
   {
    "duration": 4,
    "start_time": "2022-06-05T17:31:25.914Z"
   },
   {
    "duration": 25,
    "start_time": "2022-06-05T17:31:25.920Z"
   },
   {
    "duration": 5,
    "start_time": "2022-06-05T17:31:25.946Z"
   },
   {
    "duration": 12,
    "start_time": "2022-06-05T17:31:25.953Z"
   },
   {
    "duration": 28,
    "start_time": "2022-06-05T17:31:25.967Z"
   },
   {
    "duration": 234,
    "start_time": "2022-06-05T17:31:25.997Z"
   },
   {
    "duration": 2,
    "start_time": "2022-06-05T17:31:26.233Z"
   },
   {
    "duration": 46,
    "start_time": "2022-06-05T17:31:26.237Z"
   },
   {
    "duration": 6,
    "start_time": "2022-06-05T17:31:26.285Z"
   },
   {
    "duration": 14,
    "start_time": "2022-06-05T17:31:26.293Z"
   },
   {
    "duration": 4,
    "start_time": "2022-06-05T17:31:26.309Z"
   },
   {
    "duration": 131,
    "start_time": "2022-06-05T17:31:26.314Z"
   },
   {
    "duration": 2,
    "start_time": "2022-06-05T17:31:26.446Z"
   },
   {
    "duration": 27,
    "start_time": "2022-06-05T17:31:26.450Z"
   },
   {
    "duration": 16,
    "start_time": "2022-06-05T17:31:26.479Z"
   },
   {
    "duration": 4,
    "start_time": "2022-06-05T17:31:26.497Z"
   },
   {
    "duration": 5,
    "start_time": "2022-06-05T17:31:26.503Z"
   },
   {
    "duration": 148,
    "start_time": "2022-06-05T17:31:26.510Z"
   },
   {
    "duration": 3,
    "start_time": "2022-06-05T17:31:26.659Z"
   },
   {
    "duration": 40,
    "start_time": "2022-06-05T17:31:26.664Z"
   },
   {
    "duration": 4,
    "start_time": "2022-06-05T17:31:26.707Z"
   },
   {
    "duration": 31,
    "start_time": "2022-06-05T17:31:26.713Z"
   },
   {
    "duration": 8,
    "start_time": "2022-06-05T17:31:26.746Z"
   },
   {
    "duration": 9,
    "start_time": "2022-06-05T17:31:26.756Z"
   },
   {
    "duration": 6,
    "start_time": "2022-06-05T17:31:26.766Z"
   },
   {
    "duration": 131,
    "start_time": "2022-06-05T17:31:26.794Z"
   },
   {
    "duration": 3,
    "start_time": "2022-06-05T17:31:26.926Z"
   },
   {
    "duration": 26,
    "start_time": "2022-06-05T17:31:26.930Z"
   },
   {
    "duration": 6,
    "start_time": "2022-06-05T17:31:26.961Z"
   },
   {
    "duration": 4,
    "start_time": "2022-06-05T17:31:26.969Z"
   },
   {
    "duration": 8,
    "start_time": "2022-06-05T17:31:26.994Z"
   },
   {
    "duration": 132,
    "start_time": "2022-06-05T17:31:27.004Z"
   },
   {
    "duration": 2,
    "start_time": "2022-06-05T17:31:27.138Z"
   },
   {
    "duration": 28,
    "start_time": "2022-06-05T17:31:27.142Z"
   },
   {
    "duration": 5,
    "start_time": "2022-06-05T17:31:27.172Z"
   },
   {
    "duration": 6,
    "start_time": "2022-06-05T17:31:27.194Z"
   },
   {
    "duration": 7,
    "start_time": "2022-06-05T17:31:27.201Z"
   },
   {
    "duration": 20,
    "start_time": "2022-06-05T17:31:27.210Z"
   },
   {
    "duration": 19,
    "start_time": "2022-06-05T17:31:27.231Z"
   },
   {
    "duration": 5,
    "start_time": "2022-06-05T17:31:27.252Z"
   },
   {
    "duration": 42,
    "start_time": "2022-06-05T17:31:27.258Z"
   },
   {
    "duration": 7,
    "start_time": "2022-06-05T17:31:27.301Z"
   },
   {
    "duration": 24,
    "start_time": "2022-06-05T17:32:41.367Z"
   },
   {
    "duration": 25,
    "start_time": "2022-06-05T17:34:33.952Z"
   },
   {
    "duration": 27,
    "start_time": "2022-06-05T17:35:47.535Z"
   },
   {
    "duration": 24,
    "start_time": "2022-06-05T17:37:05.326Z"
   },
   {
    "duration": 27,
    "start_time": "2022-06-05T17:38:44.432Z"
   },
   {
    "duration": 25,
    "start_time": "2022-06-05T17:39:36.183Z"
   }
  ],
  "kernelspec": {
   "display_name": "Python 3 (ipykernel)",
   "language": "python",
   "name": "python3"
  },
  "language_info": {
   "codemirror_mode": {
    "name": "ipython",
    "version": 3
   },
   "file_extension": ".py",
   "mimetype": "text/x-python",
   "name": "python",
   "nbconvert_exporter": "python",
   "pygments_lexer": "ipython3",
   "version": "3.9.12"
  },
  "toc": {
   "base_numbering": 1,
   "nav_menu": {},
   "number_sections": true,
   "sideBar": true,
   "skip_h1_title": true,
   "title_cell": "Table of Contents",
   "title_sidebar": "Contents",
   "toc_cell": false,
   "toc_position": {
    "height": "calc(100% - 180px)",
    "left": "10px",
    "top": "150px",
    "width": "165px"
   },
   "toc_section_display": true,
   "toc_window_display": true
  }
 },
 "nbformat": 4,
 "nbformat_minor": 2
}
