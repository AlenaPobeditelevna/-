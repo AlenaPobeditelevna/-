{
 "cells": [
  {
   "cell_type": "markdown",
   "metadata": {},
   "source": [
    "# Закономерности, определяющие успешность игры."
   ]
  },
  {
   "cell_type": "markdown",
   "metadata": {},
   "source": [
    "Нам доступны исторические данные о продажах игр, оценки пользователей и экспертов, жанры и платформы (например, Xbox или PlayStation). Нужно выявить определяющие успешность игры закономерности. Это позволит сделать ставку на потенциально популярный продукт и спланировать рекламные кампании."
   ]
  },
  {
   "cell_type": "markdown",
   "metadata": {},
   "source": [
    "## Изучение общей информации."
   ]
  },
  {
   "cell_type": "markdown",
   "metadata": {},
   "source": [
    "Для начала подгрузим все бибилиотеки, которые могут нам пригодиться:"
   ]
  },
  {
   "cell_type": "code",
   "execution_count": 1,
   "metadata": {},
   "outputs": [],
   "source": [
    "import pandas as pd\n",
    "import math\n",
    "import matplotlib.pyplot as plt\n",
    "from scipy import stats as st\n",
    "import numpy as np\n",
    "import seaborn as sns"
   ]
  },
  {
   "cell_type": "markdown",
   "metadata": {},
   "source": [
    "Прочитаем файл и сохраним его в переменной games:"
   ]
  },
  {
   "cell_type": "code",
   "execution_count": 2,
   "metadata": {},
   "outputs": [
    {
     "data": {
      "text/html": [
       "<div>\n",
       "<style scoped>\n",
       "    .dataframe tbody tr th:only-of-type {\n",
       "        vertical-align: middle;\n",
       "    }\n",
       "\n",
       "    .dataframe tbody tr th {\n",
       "        vertical-align: top;\n",
       "    }\n",
       "\n",
       "    .dataframe thead th {\n",
       "        text-align: right;\n",
       "    }\n",
       "</style>\n",
       "<table border=\"1\" class=\"dataframe\">\n",
       "  <thead>\n",
       "    <tr style=\"text-align: right;\">\n",
       "      <th></th>\n",
       "      <th>Platform</th>\n",
       "      <th>Year_of_Release</th>\n",
       "      <th>Genre</th>\n",
       "      <th>NA_sales</th>\n",
       "      <th>EU_sales</th>\n",
       "      <th>JP_sales</th>\n",
       "      <th>Other_sales</th>\n",
       "      <th>Critic_Score</th>\n",
       "      <th>User_Score</th>\n",
       "      <th>Rating</th>\n",
       "    </tr>\n",
       "    <tr>\n",
       "      <th>Name</th>\n",
       "      <th></th>\n",
       "      <th></th>\n",
       "      <th></th>\n",
       "      <th></th>\n",
       "      <th></th>\n",
       "      <th></th>\n",
       "      <th></th>\n",
       "      <th></th>\n",
       "      <th></th>\n",
       "      <th></th>\n",
       "    </tr>\n",
       "  </thead>\n",
       "  <tbody>\n",
       "    <tr>\n",
       "      <th>Wii Sports</th>\n",
       "      <td>Wii</td>\n",
       "      <td>2006.0</td>\n",
       "      <td>Sports</td>\n",
       "      <td>41.36</td>\n",
       "      <td>28.96</td>\n",
       "      <td>3.77</td>\n",
       "      <td>8.45</td>\n",
       "      <td>76.0</td>\n",
       "      <td>8</td>\n",
       "      <td>E</td>\n",
       "    </tr>\n",
       "    <tr>\n",
       "      <th>Super Mario Bros.</th>\n",
       "      <td>NES</td>\n",
       "      <td>1985.0</td>\n",
       "      <td>Platform</td>\n",
       "      <td>29.08</td>\n",
       "      <td>3.58</td>\n",
       "      <td>6.81</td>\n",
       "      <td>0.77</td>\n",
       "      <td>NaN</td>\n",
       "      <td>NaN</td>\n",
       "      <td>NaN</td>\n",
       "    </tr>\n",
       "    <tr>\n",
       "      <th>Mario Kart Wii</th>\n",
       "      <td>Wii</td>\n",
       "      <td>2008.0</td>\n",
       "      <td>Racing</td>\n",
       "      <td>15.68</td>\n",
       "      <td>12.76</td>\n",
       "      <td>3.79</td>\n",
       "      <td>3.29</td>\n",
       "      <td>82.0</td>\n",
       "      <td>8.3</td>\n",
       "      <td>E</td>\n",
       "    </tr>\n",
       "    <tr>\n",
       "      <th>Wii Sports Resort</th>\n",
       "      <td>Wii</td>\n",
       "      <td>2009.0</td>\n",
       "      <td>Sports</td>\n",
       "      <td>15.61</td>\n",
       "      <td>10.93</td>\n",
       "      <td>3.28</td>\n",
       "      <td>2.95</td>\n",
       "      <td>80.0</td>\n",
       "      <td>8</td>\n",
       "      <td>E</td>\n",
       "    </tr>\n",
       "    <tr>\n",
       "      <th>Pokemon Red/Pokemon Blue</th>\n",
       "      <td>GB</td>\n",
       "      <td>1996.0</td>\n",
       "      <td>Role-Playing</td>\n",
       "      <td>11.27</td>\n",
       "      <td>8.89</td>\n",
       "      <td>10.22</td>\n",
       "      <td>1.00</td>\n",
       "      <td>NaN</td>\n",
       "      <td>NaN</td>\n",
       "      <td>NaN</td>\n",
       "    </tr>\n",
       "    <tr>\n",
       "      <th>Tetris</th>\n",
       "      <td>GB</td>\n",
       "      <td>1989.0</td>\n",
       "      <td>Puzzle</td>\n",
       "      <td>23.20</td>\n",
       "      <td>2.26</td>\n",
       "      <td>4.22</td>\n",
       "      <td>0.58</td>\n",
       "      <td>NaN</td>\n",
       "      <td>NaN</td>\n",
       "      <td>NaN</td>\n",
       "    </tr>\n",
       "    <tr>\n",
       "      <th>New Super Mario Bros.</th>\n",
       "      <td>DS</td>\n",
       "      <td>2006.0</td>\n",
       "      <td>Platform</td>\n",
       "      <td>11.28</td>\n",
       "      <td>9.14</td>\n",
       "      <td>6.50</td>\n",
       "      <td>2.88</td>\n",
       "      <td>89.0</td>\n",
       "      <td>8.5</td>\n",
       "      <td>E</td>\n",
       "    </tr>\n",
       "    <tr>\n",
       "      <th>Wii Play</th>\n",
       "      <td>Wii</td>\n",
       "      <td>2006.0</td>\n",
       "      <td>Misc</td>\n",
       "      <td>13.96</td>\n",
       "      <td>9.18</td>\n",
       "      <td>2.93</td>\n",
       "      <td>2.84</td>\n",
       "      <td>58.0</td>\n",
       "      <td>6.6</td>\n",
       "      <td>E</td>\n",
       "    </tr>\n",
       "    <tr>\n",
       "      <th>New Super Mario Bros. Wii</th>\n",
       "      <td>Wii</td>\n",
       "      <td>2009.0</td>\n",
       "      <td>Platform</td>\n",
       "      <td>14.44</td>\n",
       "      <td>6.94</td>\n",
       "      <td>4.70</td>\n",
       "      <td>2.24</td>\n",
       "      <td>87.0</td>\n",
       "      <td>8.4</td>\n",
       "      <td>E</td>\n",
       "    </tr>\n",
       "    <tr>\n",
       "      <th>Duck Hunt</th>\n",
       "      <td>NES</td>\n",
       "      <td>1984.0</td>\n",
       "      <td>Shooter</td>\n",
       "      <td>26.93</td>\n",
       "      <td>0.63</td>\n",
       "      <td>0.28</td>\n",
       "      <td>0.47</td>\n",
       "      <td>NaN</td>\n",
       "      <td>NaN</td>\n",
       "      <td>NaN</td>\n",
       "    </tr>\n",
       "  </tbody>\n",
       "</table>\n",
       "</div>"
      ],
      "text/plain": [
       "                          Platform  Year_of_Release         Genre  NA_sales  \\\n",
       "Name                                                                          \n",
       "Wii Sports                     Wii           2006.0        Sports     41.36   \n",
       "Super Mario Bros.              NES           1985.0      Platform     29.08   \n",
       "Mario Kart Wii                 Wii           2008.0        Racing     15.68   \n",
       "Wii Sports Resort              Wii           2009.0        Sports     15.61   \n",
       "Pokemon Red/Pokemon Blue        GB           1996.0  Role-Playing     11.27   \n",
       "Tetris                          GB           1989.0        Puzzle     23.20   \n",
       "New Super Mario Bros.           DS           2006.0      Platform     11.28   \n",
       "Wii Play                       Wii           2006.0          Misc     13.96   \n",
       "New Super Mario Bros. Wii      Wii           2009.0      Platform     14.44   \n",
       "Duck Hunt                      NES           1984.0       Shooter     26.93   \n",
       "\n",
       "                           EU_sales  JP_sales  Other_sales  Critic_Score  \\\n",
       "Name                                                                       \n",
       "Wii Sports                    28.96      3.77         8.45          76.0   \n",
       "Super Mario Bros.              3.58      6.81         0.77           NaN   \n",
       "Mario Kart Wii                12.76      3.79         3.29          82.0   \n",
       "Wii Sports Resort             10.93      3.28         2.95          80.0   \n",
       "Pokemon Red/Pokemon Blue       8.89     10.22         1.00           NaN   \n",
       "Tetris                         2.26      4.22         0.58           NaN   \n",
       "New Super Mario Bros.          9.14      6.50         2.88          89.0   \n",
       "Wii Play                       9.18      2.93         2.84          58.0   \n",
       "New Super Mario Bros. Wii      6.94      4.70         2.24          87.0   \n",
       "Duck Hunt                      0.63      0.28         0.47           NaN   \n",
       "\n",
       "                          User_Score Rating  \n",
       "Name                                         \n",
       "Wii Sports                         8      E  \n",
       "Super Mario Bros.                NaN    NaN  \n",
       "Mario Kart Wii                   8.3      E  \n",
       "Wii Sports Resort                  8      E  \n",
       "Pokemon Red/Pokemon Blue         NaN    NaN  \n",
       "Tetris                           NaN    NaN  \n",
       "New Super Mario Bros.            8.5      E  \n",
       "Wii Play                         6.6      E  \n",
       "New Super Mario Bros. Wii        8.4      E  \n",
       "Duck Hunt                        NaN    NaN  "
      ]
     },
     "execution_count": 2,
     "metadata": {},
     "output_type": "execute_result"
    }
   ],
   "source": [
    "games = pd.read_csv('/datasets/games.csv', index_col=0)\n",
    "games.head(10)"
   ]
  },
  {
   "cell_type": "code",
   "execution_count": 3,
   "metadata": {},
   "outputs": [
    {
     "name": "stdout",
     "output_type": "stream",
     "text": [
      "<class 'pandas.core.frame.DataFrame'>\n",
      "Index: 16715 entries, Wii Sports to Winning Post 8 2016\n",
      "Data columns (total 10 columns):\n",
      " #   Column           Non-Null Count  Dtype  \n",
      "---  ------           --------------  -----  \n",
      " 0   Platform         16715 non-null  object \n",
      " 1   Year_of_Release  16446 non-null  float64\n",
      " 2   Genre            16713 non-null  object \n",
      " 3   NA_sales         16715 non-null  float64\n",
      " 4   EU_sales         16715 non-null  float64\n",
      " 5   JP_sales         16715 non-null  float64\n",
      " 6   Other_sales      16715 non-null  float64\n",
      " 7   Critic_Score     8137 non-null   float64\n",
      " 8   User_Score       10014 non-null  object \n",
      " 9   Rating           9949 non-null   object \n",
      "dtypes: float64(6), object(4)\n",
      "memory usage: 1.4+ MB\n"
     ]
    }
   ],
   "source": [
    "games.info()"
   ]
  },
  {
   "cell_type": "markdown",
   "metadata": {},
   "source": [
    "У нас имеется табличка, которая содержит слежующие данные:\n",
    "1. Name — название игры \n",
    "2. Platform — платформа - тип данных object - оставим неизменным;\n",
    "3. Year_of_Release — год выпуска - тип данных - float64 - надо предобразовать в формат \"дата и время\";\n",
    "4. Genre — жанр игры - тип данных object - оставим неизменным;\n",
    "5. NA_sales — продажи в Северной Америке (миллионы проданных копий) - тип данных float64 - оставим неизменным, т.к. речь идет о миллионах, дробных частей не избежать;\n",
    "6. EU_sales — продажи в Европе (миллионы проданных копий) - тип данных float64 - оставим неизменным, т.к. речь идет о миллионах, дробных частей не избежать;\n",
    "7. JP_sales — продажи в Японии (миллионы проданных копий) - тип данных float64 - оставим неизменным, т.к. речь идет о миллионах, дробных частей не избежать;\n",
    "8. Other_sales — продажи в других странах (миллионы проданных копий) - тип данных float64 - оставим неизменным, т.к. речь идет о миллионах, дробных частей не избежать;\n",
    "9. Critic_Score — оценка критиков (максимум 100) - тип данных float64 - посмотрим, если есть дробные значения, оставим как есть, если таковых нет, то заменим на int - так будет проще восприниматься информация и таблица будет красивее;\n",
    "10. User_Score — оценка пользователей (максимум 10) - тип данных очевидно надо менять на float64, так как данные содержат числовую оценку с дробной составляющей.\n",
    "11. Rating — рейтинг от организации ESRB (англ. Entertainment Software Rating Board). Эта ассоциация определяет рейтинг компьютерных игр и присваивает им подходящую возрастную категорию. - тип данных object  - т.к. оценка буквенная оставим тип данных неизменным.\n",
    "\n",
    "В таблице 10 колонок и 16715 строк. "
   ]
  },
  {
   "cell_type": "markdown",
   "metadata": {},
   "source": [
    "Хотелось бы, чтобы столбец с названиями игр не был представлен в виде столбца с индексами. Исправим это:"
   ]
  },
  {
   "cell_type": "code",
   "execution_count": 4,
   "metadata": {},
   "outputs": [
    {
     "name": "stdout",
     "output_type": "stream",
     "text": [
      "<class 'pandas.core.frame.DataFrame'>\n",
      "RangeIndex: 16715 entries, 0 to 16714\n",
      "Data columns (total 11 columns):\n",
      " #   Column           Non-Null Count  Dtype  \n",
      "---  ------           --------------  -----  \n",
      " 0   Name             16713 non-null  object \n",
      " 1   Platform         16715 non-null  object \n",
      " 2   Year_of_Release  16446 non-null  float64\n",
      " 3   Genre            16713 non-null  object \n",
      " 4   NA_sales         16715 non-null  float64\n",
      " 5   EU_sales         16715 non-null  float64\n",
      " 6   JP_sales         16715 non-null  float64\n",
      " 7   Other_sales      16715 non-null  float64\n",
      " 8   Critic_Score     8137 non-null   float64\n",
      " 9   User_Score       10014 non-null  object \n",
      " 10  Rating           9949 non-null   object \n",
      "dtypes: float64(6), object(5)\n",
      "memory usage: 1.4+ MB\n"
     ]
    }
   ],
   "source": [
    "games = games.reset_index()\n",
    "games.info()"
   ]
  },
  {
   "cell_type": "markdown",
   "metadata": {},
   "source": [
    "Теперь предлагаю посмотреть уникальные значения в этом столбце, чтобы проверить, нет ли неявных дубликатов в нашей таблице:"
   ]
  },
  {
   "cell_type": "code",
   "execution_count": 5,
   "metadata": {},
   "outputs": [
    {
     "data": {
      "text/plain": [
       "Need for Speed: Most Wanted    12\n",
       "LEGO Marvel Super Heroes        9\n",
       "Madden NFL 07                   9\n",
       "FIFA 14                         9\n",
       "Ratatouille                     9\n",
       "Name: Name, dtype: int64"
      ]
     },
     "execution_count": 5,
     "metadata": {},
     "output_type": "execute_result"
    }
   ],
   "source": [
    "games['Name'].value_counts().head()"
   ]
  },
  {
   "cell_type": "markdown",
   "metadata": {},
   "source": [
    "Предлагаю для начала привести все названия к нижнему регистру:"
   ]
  },
  {
   "cell_type": "markdown",
   "metadata": {},
   "source": [
    "Теперь давайте посмотрим, почему у нас 12 строк с названием игры Need for Speed: Most Wanted:"
   ]
  },
  {
   "cell_type": "code",
   "execution_count": 6,
   "metadata": {},
   "outputs": [
    {
     "data": {
      "text/html": [
       "<div>\n",
       "<style scoped>\n",
       "    .dataframe tbody tr th:only-of-type {\n",
       "        vertical-align: middle;\n",
       "    }\n",
       "\n",
       "    .dataframe tbody tr th {\n",
       "        vertical-align: top;\n",
       "    }\n",
       "\n",
       "    .dataframe thead th {\n",
       "        text-align: right;\n",
       "    }\n",
       "</style>\n",
       "<table border=\"1\" class=\"dataframe\">\n",
       "  <thead>\n",
       "    <tr style=\"text-align: right;\">\n",
       "      <th></th>\n",
       "      <th>Name</th>\n",
       "      <th>Platform</th>\n",
       "      <th>Year_of_Release</th>\n",
       "      <th>Genre</th>\n",
       "      <th>NA_sales</th>\n",
       "      <th>EU_sales</th>\n",
       "      <th>JP_sales</th>\n",
       "      <th>Other_sales</th>\n",
       "      <th>Critic_Score</th>\n",
       "      <th>User_Score</th>\n",
       "      <th>Rating</th>\n",
       "    </tr>\n",
       "  </thead>\n",
       "  <tbody>\n",
       "    <tr>\n",
       "      <th>253</th>\n",
       "      <td>Need for Speed: Most Wanted</td>\n",
       "      <td>PS2</td>\n",
       "      <td>2005.0</td>\n",
       "      <td>Racing</td>\n",
       "      <td>2.03</td>\n",
       "      <td>1.79</td>\n",
       "      <td>0.08</td>\n",
       "      <td>0.47</td>\n",
       "      <td>82.0</td>\n",
       "      <td>9.1</td>\n",
       "      <td>T</td>\n",
       "    </tr>\n",
       "    <tr>\n",
       "      <th>523</th>\n",
       "      <td>Need for Speed: Most Wanted</td>\n",
       "      <td>PS3</td>\n",
       "      <td>2012.0</td>\n",
       "      <td>Racing</td>\n",
       "      <td>0.71</td>\n",
       "      <td>1.46</td>\n",
       "      <td>0.06</td>\n",
       "      <td>0.58</td>\n",
       "      <td>NaN</td>\n",
       "      <td>NaN</td>\n",
       "      <td>NaN</td>\n",
       "    </tr>\n",
       "    <tr>\n",
       "      <th>1190</th>\n",
       "      <td>Need for Speed: Most Wanted</td>\n",
       "      <td>X360</td>\n",
       "      <td>2012.0</td>\n",
       "      <td>Racing</td>\n",
       "      <td>0.62</td>\n",
       "      <td>0.78</td>\n",
       "      <td>0.01</td>\n",
       "      <td>0.15</td>\n",
       "      <td>83.0</td>\n",
       "      <td>8.5</td>\n",
       "      <td>T</td>\n",
       "    </tr>\n",
       "    <tr>\n",
       "      <th>1591</th>\n",
       "      <td>Need for Speed: Most Wanted</td>\n",
       "      <td>X360</td>\n",
       "      <td>2005.0</td>\n",
       "      <td>Racing</td>\n",
       "      <td>1.00</td>\n",
       "      <td>0.13</td>\n",
       "      <td>0.02</td>\n",
       "      <td>0.10</td>\n",
       "      <td>83.0</td>\n",
       "      <td>8.5</td>\n",
       "      <td>T</td>\n",
       "    </tr>\n",
       "    <tr>\n",
       "      <th>1998</th>\n",
       "      <td>Need for Speed: Most Wanted</td>\n",
       "      <td>XB</td>\n",
       "      <td>2005.0</td>\n",
       "      <td>Racing</td>\n",
       "      <td>0.53</td>\n",
       "      <td>0.46</td>\n",
       "      <td>0.00</td>\n",
       "      <td>0.05</td>\n",
       "      <td>83.0</td>\n",
       "      <td>8.8</td>\n",
       "      <td>T</td>\n",
       "    </tr>\n",
       "    <tr>\n",
       "      <th>2048</th>\n",
       "      <td>Need for Speed: Most Wanted</td>\n",
       "      <td>PSV</td>\n",
       "      <td>2012.0</td>\n",
       "      <td>Racing</td>\n",
       "      <td>0.33</td>\n",
       "      <td>0.45</td>\n",
       "      <td>0.01</td>\n",
       "      <td>0.22</td>\n",
       "      <td>NaN</td>\n",
       "      <td>NaN</td>\n",
       "      <td>NaN</td>\n",
       "    </tr>\n",
       "    <tr>\n",
       "      <th>3581</th>\n",
       "      <td>Need for Speed: Most Wanted</td>\n",
       "      <td>GC</td>\n",
       "      <td>2005.0</td>\n",
       "      <td>Racing</td>\n",
       "      <td>0.43</td>\n",
       "      <td>0.11</td>\n",
       "      <td>0.00</td>\n",
       "      <td>0.02</td>\n",
       "      <td>80.0</td>\n",
       "      <td>9.1</td>\n",
       "      <td>T</td>\n",
       "    </tr>\n",
       "    <tr>\n",
       "      <th>5972</th>\n",
       "      <td>Need for Speed: Most Wanted</td>\n",
       "      <td>PC</td>\n",
       "      <td>2005.0</td>\n",
       "      <td>Racing</td>\n",
       "      <td>0.02</td>\n",
       "      <td>0.23</td>\n",
       "      <td>0.00</td>\n",
       "      <td>0.04</td>\n",
       "      <td>82.0</td>\n",
       "      <td>8.5</td>\n",
       "      <td>T</td>\n",
       "    </tr>\n",
       "    <tr>\n",
       "      <th>6273</th>\n",
       "      <td>Need for Speed: Most Wanted</td>\n",
       "      <td>WiiU</td>\n",
       "      <td>2013.0</td>\n",
       "      <td>Racing</td>\n",
       "      <td>0.13</td>\n",
       "      <td>0.12</td>\n",
       "      <td>0.00</td>\n",
       "      <td>0.02</td>\n",
       "      <td>NaN</td>\n",
       "      <td>NaN</td>\n",
       "      <td>NaN</td>\n",
       "    </tr>\n",
       "    <tr>\n",
       "      <th>6410</th>\n",
       "      <td>Need for Speed: Most Wanted</td>\n",
       "      <td>DS</td>\n",
       "      <td>2005.0</td>\n",
       "      <td>Racing</td>\n",
       "      <td>0.24</td>\n",
       "      <td>0.01</td>\n",
       "      <td>0.00</td>\n",
       "      <td>0.02</td>\n",
       "      <td>45.0</td>\n",
       "      <td>6.1</td>\n",
       "      <td>E</td>\n",
       "    </tr>\n",
       "    <tr>\n",
       "      <th>6473</th>\n",
       "      <td>Need for Speed: Most Wanted</td>\n",
       "      <td>GBA</td>\n",
       "      <td>2005.0</td>\n",
       "      <td>Racing</td>\n",
       "      <td>0.19</td>\n",
       "      <td>0.07</td>\n",
       "      <td>0.00</td>\n",
       "      <td>0.00</td>\n",
       "      <td>NaN</td>\n",
       "      <td>8.3</td>\n",
       "      <td>E</td>\n",
       "    </tr>\n",
       "    <tr>\n",
       "      <th>11715</th>\n",
       "      <td>Need for Speed: Most Wanted</td>\n",
       "      <td>PC</td>\n",
       "      <td>2012.0</td>\n",
       "      <td>Racing</td>\n",
       "      <td>0.00</td>\n",
       "      <td>0.06</td>\n",
       "      <td>0.00</td>\n",
       "      <td>0.02</td>\n",
       "      <td>82.0</td>\n",
       "      <td>8.5</td>\n",
       "      <td>T</td>\n",
       "    </tr>\n",
       "  </tbody>\n",
       "</table>\n",
       "</div>"
      ],
      "text/plain": [
       "                              Name Platform  Year_of_Release   Genre  \\\n",
       "253    Need for Speed: Most Wanted      PS2           2005.0  Racing   \n",
       "523    Need for Speed: Most Wanted      PS3           2012.0  Racing   \n",
       "1190   Need for Speed: Most Wanted     X360           2012.0  Racing   \n",
       "1591   Need for Speed: Most Wanted     X360           2005.0  Racing   \n",
       "1998   Need for Speed: Most Wanted       XB           2005.0  Racing   \n",
       "2048   Need for Speed: Most Wanted      PSV           2012.0  Racing   \n",
       "3581   Need for Speed: Most Wanted       GC           2005.0  Racing   \n",
       "5972   Need for Speed: Most Wanted       PC           2005.0  Racing   \n",
       "6273   Need for Speed: Most Wanted     WiiU           2013.0  Racing   \n",
       "6410   Need for Speed: Most Wanted       DS           2005.0  Racing   \n",
       "6473   Need for Speed: Most Wanted      GBA           2005.0  Racing   \n",
       "11715  Need for Speed: Most Wanted       PC           2012.0  Racing   \n",
       "\n",
       "       NA_sales  EU_sales  JP_sales  Other_sales  Critic_Score User_Score  \\\n",
       "253        2.03      1.79      0.08         0.47          82.0        9.1   \n",
       "523        0.71      1.46      0.06         0.58           NaN        NaN   \n",
       "1190       0.62      0.78      0.01         0.15          83.0        8.5   \n",
       "1591       1.00      0.13      0.02         0.10          83.0        8.5   \n",
       "1998       0.53      0.46      0.00         0.05          83.0        8.8   \n",
       "2048       0.33      0.45      0.01         0.22           NaN        NaN   \n",
       "3581       0.43      0.11      0.00         0.02          80.0        9.1   \n",
       "5972       0.02      0.23      0.00         0.04          82.0        8.5   \n",
       "6273       0.13      0.12      0.00         0.02           NaN        NaN   \n",
       "6410       0.24      0.01      0.00         0.02          45.0        6.1   \n",
       "6473       0.19      0.07      0.00         0.00           NaN        8.3   \n",
       "11715      0.00      0.06      0.00         0.02          82.0        8.5   \n",
       "\n",
       "      Rating  \n",
       "253        T  \n",
       "523      NaN  \n",
       "1190       T  \n",
       "1591       T  \n",
       "1998       T  \n",
       "2048     NaN  \n",
       "3581       T  \n",
       "5972       T  \n",
       "6273     NaN  \n",
       "6410       E  \n",
       "6473       E  \n",
       "11715      T  "
      ]
     },
     "execution_count": 6,
     "metadata": {},
     "output_type": "execute_result"
    }
   ],
   "source": [
    "games_nfs = games.query('Name == \"Need for Speed: Most Wanted\"')\n",
    "games_nfs"
   ]
  },
  {
   "cell_type": "raw",
   "metadata": {},
   "source": [
    "Выясняется, что это не дубликаты, а просто разные платформы и годы релиза. Неявных дубликатов не обнаружено."
   ]
  },
  {
   "cell_type": "markdown",
   "metadata": {},
   "source": [
    "Теперь нужно изменить названия колонок - сделать так, чтобы они был записаны в нижнем регистре."
   ]
  },
  {
   "cell_type": "code",
   "execution_count": 7,
   "metadata": {},
   "outputs": [
    {
     "data": {
      "text/plain": [
       "Index(['name', 'platform', 'year_of_release', 'genre', 'na_sales', 'eu_sales',\n",
       "       'jp_sales', 'other_sales', 'critic_score', 'user_score', 'rating'],\n",
       "      dtype='object')"
      ]
     },
     "execution_count": 7,
     "metadata": {},
     "output_type": "execute_result"
    }
   ],
   "source": [
    "games.columns = games.columns.str.lower()\n",
    "games.columns"
   ]
  },
  {
   "cell_type": "markdown",
   "metadata": {},
   "source": [
    "Так же предлагаю сразу проверить таблицу на явные дубликаты:"
   ]
  },
  {
   "cell_type": "code",
   "execution_count": 8,
   "metadata": {},
   "outputs": [
    {
     "data": {
      "text/plain": [
       "0"
      ]
     },
     "execution_count": 8,
     "metadata": {},
     "output_type": "execute_result"
    }
   ],
   "source": [
    "games.duplicated().sum()"
   ]
  },
  {
   "cell_type": "markdown",
   "metadata": {},
   "source": [
    "Явных дубликатов нет - можно продолжить работу."
   ]
  },
  {
   "cell_type": "markdown",
   "metadata": {},
   "source": [
    "## Подготовка данных."
   ]
  },
  {
   "cell_type": "markdown",
   "metadata": {},
   "source": [
    "### Типы данных."
   ]
  },
  {
   "cell_type": "markdown",
   "metadata": {},
   "source": [
    "#### Начнем со столбца year_of_release:"
   ]
  },
  {
   "cell_type": "markdown",
   "metadata": {},
   "source": [
    "Изменим тип данных на \"дата и время\":"
   ]
  },
  {
   "cell_type": "code",
   "execution_count": 9,
   "metadata": {},
   "outputs": [
    {
     "data": {
      "text/html": [
       "<div>\n",
       "<style scoped>\n",
       "    .dataframe tbody tr th:only-of-type {\n",
       "        vertical-align: middle;\n",
       "    }\n",
       "\n",
       "    .dataframe tbody tr th {\n",
       "        vertical-align: top;\n",
       "    }\n",
       "\n",
       "    .dataframe thead th {\n",
       "        text-align: right;\n",
       "    }\n",
       "</style>\n",
       "<table border=\"1\" class=\"dataframe\">\n",
       "  <thead>\n",
       "    <tr style=\"text-align: right;\">\n",
       "      <th></th>\n",
       "      <th>name</th>\n",
       "      <th>platform</th>\n",
       "      <th>year_of_release</th>\n",
       "      <th>genre</th>\n",
       "      <th>na_sales</th>\n",
       "      <th>eu_sales</th>\n",
       "      <th>jp_sales</th>\n",
       "      <th>other_sales</th>\n",
       "      <th>critic_score</th>\n",
       "      <th>user_score</th>\n",
       "      <th>rating</th>\n",
       "    </tr>\n",
       "  </thead>\n",
       "  <tbody>\n",
       "    <tr>\n",
       "      <th>0</th>\n",
       "      <td>Wii Sports</td>\n",
       "      <td>Wii</td>\n",
       "      <td>2006.0</td>\n",
       "      <td>Sports</td>\n",
       "      <td>41.36</td>\n",
       "      <td>28.96</td>\n",
       "      <td>3.77</td>\n",
       "      <td>8.45</td>\n",
       "      <td>76.0</td>\n",
       "      <td>8</td>\n",
       "      <td>E</td>\n",
       "    </tr>\n",
       "    <tr>\n",
       "      <th>1</th>\n",
       "      <td>Super Mario Bros.</td>\n",
       "      <td>NES</td>\n",
       "      <td>1985.0</td>\n",
       "      <td>Platform</td>\n",
       "      <td>29.08</td>\n",
       "      <td>3.58</td>\n",
       "      <td>6.81</td>\n",
       "      <td>0.77</td>\n",
       "      <td>NaN</td>\n",
       "      <td>NaN</td>\n",
       "      <td>NaN</td>\n",
       "    </tr>\n",
       "    <tr>\n",
       "      <th>2</th>\n",
       "      <td>Mario Kart Wii</td>\n",
       "      <td>Wii</td>\n",
       "      <td>2008.0</td>\n",
       "      <td>Racing</td>\n",
       "      <td>15.68</td>\n",
       "      <td>12.76</td>\n",
       "      <td>3.79</td>\n",
       "      <td>3.29</td>\n",
       "      <td>82.0</td>\n",
       "      <td>8.3</td>\n",
       "      <td>E</td>\n",
       "    </tr>\n",
       "    <tr>\n",
       "      <th>3</th>\n",
       "      <td>Wii Sports Resort</td>\n",
       "      <td>Wii</td>\n",
       "      <td>2009.0</td>\n",
       "      <td>Sports</td>\n",
       "      <td>15.61</td>\n",
       "      <td>10.93</td>\n",
       "      <td>3.28</td>\n",
       "      <td>2.95</td>\n",
       "      <td>80.0</td>\n",
       "      <td>8</td>\n",
       "      <td>E</td>\n",
       "    </tr>\n",
       "    <tr>\n",
       "      <th>4</th>\n",
       "      <td>Pokemon Red/Pokemon Blue</td>\n",
       "      <td>GB</td>\n",
       "      <td>1996.0</td>\n",
       "      <td>Role-Playing</td>\n",
       "      <td>11.27</td>\n",
       "      <td>8.89</td>\n",
       "      <td>10.22</td>\n",
       "      <td>1.00</td>\n",
       "      <td>NaN</td>\n",
       "      <td>NaN</td>\n",
       "      <td>NaN</td>\n",
       "    </tr>\n",
       "  </tbody>\n",
       "</table>\n",
       "</div>"
      ],
      "text/plain": [
       "                       name platform  year_of_release         genre  na_sales  \\\n",
       "0                Wii Sports      Wii           2006.0        Sports     41.36   \n",
       "1         Super Mario Bros.      NES           1985.0      Platform     29.08   \n",
       "2            Mario Kart Wii      Wii           2008.0        Racing     15.68   \n",
       "3         Wii Sports Resort      Wii           2009.0        Sports     15.61   \n",
       "4  Pokemon Red/Pokemon Blue       GB           1996.0  Role-Playing     11.27   \n",
       "\n",
       "   eu_sales  jp_sales  other_sales  critic_score user_score rating  \n",
       "0     28.96      3.77         8.45          76.0          8      E  \n",
       "1      3.58      6.81         0.77           NaN        NaN    NaN  \n",
       "2     12.76      3.79         3.29          82.0        8.3      E  \n",
       "3     10.93      3.28         2.95          80.0          8      E  \n",
       "4      8.89     10.22         1.00           NaN        NaN    NaN  "
      ]
     },
     "execution_count": 9,
     "metadata": {},
     "output_type": "execute_result"
    }
   ],
   "source": [
    "games['year_of_release'] = games['year_of_release'].astype(float)\n",
    "games.head()"
   ]
  },
  {
   "cell_type": "markdown",
   "metadata": {},
   "source": [
    "В дальнейшей работе выяснилось, что строить графики с типом данных \"дата и время не получается\". Так что придется \"закомментировать\" наше изменение типа данных."
   ]
  },
  {
   "cell_type": "markdown",
   "metadata": {},
   "source": [
    "Посмотрим, какие уникальные значения содержит этот столбец:"
   ]
  },
  {
   "cell_type": "code",
   "execution_count": 10,
   "metadata": {},
   "outputs": [
    {
     "data": {
      "text/plain": [
       "2008.0    1427\n",
       "2009.0    1426\n",
       "2010.0    1255\n",
       "2007.0    1197\n",
       "2011.0    1136\n",
       "2006.0    1006\n",
       "2005.0     939\n",
       "2002.0     829\n",
       "2003.0     775\n",
       "2004.0     762\n",
       "2012.0     653\n",
       "2015.0     606\n",
       "2014.0     581\n",
       "2013.0     544\n",
       "2016.0     502\n",
       "2001.0     482\n",
       "1998.0     379\n",
       "2000.0     350\n",
       "1999.0     338\n",
       "1997.0     289\n",
       "1996.0     263\n",
       "1995.0     219\n",
       "1994.0     121\n",
       "1993.0      62\n",
       "1981.0      46\n",
       "1992.0      43\n",
       "1991.0      41\n",
       "1982.0      36\n",
       "1986.0      21\n",
       "1989.0      17\n",
       "1983.0      17\n",
       "1987.0      16\n",
       "1990.0      16\n",
       "1988.0      15\n",
       "1984.0      14\n",
       "1985.0      14\n",
       "1980.0       9\n",
       "Name: year_of_release, dtype: int64"
      ]
     },
     "execution_count": 10,
     "metadata": {},
     "output_type": "execute_result"
    }
   ],
   "source": [
    "games['year_of_release'].value_counts()"
   ]
  },
  {
   "cell_type": "markdown",
   "metadata": {},
   "source": [
    "Никаких странностей не замечено."
   ]
  },
  {
   "cell_type": "markdown",
   "metadata": {},
   "source": [
    "#### Столбец  critic_score."
   ]
  },
  {
   "cell_type": "markdown",
   "metadata": {},
   "source": [
    "Посмотрим, если есть дробные значения, оставим как есть, если таковых нет, то заменим на int - так будет проще восприниматься информация и таблица будет красивее."
   ]
  },
  {
   "cell_type": "code",
   "execution_count": 11,
   "metadata": {},
   "outputs": [
    {
     "data": {
      "text/plain": [
       "70.0    256\n",
       "71.0    254\n",
       "75.0    245\n",
       "78.0    240\n",
       "73.0    238\n",
       "       ... \n",
       "29.0      3\n",
       "13.0      1\n",
       "22.0      1\n",
       "17.0      1\n",
       "21.0      1\n",
       "Name: critic_score, Length: 82, dtype: int64"
      ]
     },
     "execution_count": 11,
     "metadata": {},
     "output_type": "execute_result"
    }
   ],
   "source": [
    "games['critic_score'].value_counts()"
   ]
  },
  {
   "cell_type": "markdown",
   "metadata": {},
   "source": [
    "Дробных значений нет - хотелось бы преобразовать в тип данных int. Нам может воспрепятствовать наличие пропусков. Проверим, есть ли они:"
   ]
  },
  {
   "cell_type": "code",
   "execution_count": 12,
   "metadata": {},
   "outputs": [
    {
     "data": {
      "text/plain": [
       "8578"
      ]
     },
     "execution_count": 12,
     "metadata": {},
     "output_type": "execute_result"
    }
   ],
   "source": [
    "games['critic_score'].isna().sum()"
   ]
  },
  {
   "cell_type": "markdown",
   "metadata": {},
   "source": [
    "Пропуски есть. Логичного способа их заполнить я пока не вижу - оценка критиков - вещь непредсказуемая - воспользоваться средним или медианным значением будет крайне опасно для объективности анализа. Предлагаю оставить столбец без изменений."
   ]
  },
  {
   "cell_type": "markdown",
   "metadata": {},
   "source": [
    "#### Столбец user_score."
   ]
  },
  {
   "cell_type": "markdown",
   "metadata": {},
   "source": [
    "Оценка пользователей - предлагаю для начала посмотреть, какие уникальные значения содержит столбец:"
   ]
  },
  {
   "cell_type": "code",
   "execution_count": 13,
   "metadata": {},
   "outputs": [
    {
     "data": {
      "text/plain": [
       "tbd    2424\n",
       "7.8     324\n",
       "8       290\n",
       "8.2     282\n",
       "8.3     254\n",
       "       ... \n",
       "0.6       2\n",
       "1.3       2\n",
       "9.6       2\n",
       "0         1\n",
       "9.7       1\n",
       "Name: user_score, Length: 96, dtype: int64"
      ]
     },
     "execution_count": 13,
     "metadata": {},
     "output_type": "execute_result"
    }
   ],
   "source": [
    "games['user_score'].value_counts()"
   ]
  },
  {
   "cell_type": "markdown",
   "metadata": {},
   "source": [
    "Помимо числовых значений, столбец содержит строки со значением tbd - предполагаемая расшифровка \"подлежит уточнению\" (спасибо google-переводчику. Т.е. это пропущенное значение, которое ничем кроме NaN заменить невозможно. Нам скорее всего предстоит проводить арифметические операции с содержанием этого столбца, так что стоит заменить tbd на NaN. Так и сделаем:"
   ]
  },
  {
   "cell_type": "code",
   "execution_count": 14,
   "metadata": {},
   "outputs": [
    {
     "data": {
      "text/plain": [
       "7.8    324\n",
       "8      290\n",
       "8.2    282\n",
       "8.3    254\n",
       "8.5    253\n",
       "      ... \n",
       "0.6      2\n",
       "1.3      2\n",
       "9.6      2\n",
       "0        1\n",
       "9.7      1\n",
       "Name: user_score, Length: 95, dtype: int64"
      ]
     },
     "execution_count": 14,
     "metadata": {},
     "output_type": "execute_result"
    }
   ],
   "source": [
    "games.loc[games['user_score'] == 'tbd','user_score'] = np.nan\n",
    "games['user_score'].value_counts()"
   ]
  },
  {
   "cell_type": "markdown",
   "metadata": {},
   "source": [
    "Теперь поменяем тип данных на float"
   ]
  },
  {
   "cell_type": "code",
   "execution_count": 15,
   "metadata": {},
   "outputs": [
    {
     "name": "stdout",
     "output_type": "stream",
     "text": [
      "<class 'pandas.core.frame.DataFrame'>\n",
      "RangeIndex: 16715 entries, 0 to 16714\n",
      "Data columns (total 11 columns):\n",
      " #   Column           Non-Null Count  Dtype  \n",
      "---  ------           --------------  -----  \n",
      " 0   name             16713 non-null  object \n",
      " 1   platform         16715 non-null  object \n",
      " 2   year_of_release  16446 non-null  float64\n",
      " 3   genre            16713 non-null  object \n",
      " 4   na_sales         16715 non-null  float64\n",
      " 5   eu_sales         16715 non-null  float64\n",
      " 6   jp_sales         16715 non-null  float64\n",
      " 7   other_sales      16715 non-null  float64\n",
      " 8   critic_score     8137 non-null   float64\n",
      " 9   user_score       7590 non-null   float64\n",
      " 10  rating           9949 non-null   object \n",
      "dtypes: float64(7), object(4)\n",
      "memory usage: 1.4+ MB\n"
     ]
    }
   ],
   "source": [
    "games['user_score'] = games['user_score'].astype(float)\n",
    "games.info()"
   ]
  },
  {
   "cell_type": "markdown",
   "metadata": {},
   "source": [
    "Итого, в некоторых случаях нам пропуски помешали изменить тип данных на int - в общем это некритично и не стоит того, чтобы искажать исследование. Мы избавились от tbd - практически заменили значение на пропуск - это позволит нам проводить арифметические операции с содержанием столбца. Заменили тип данных на int в столбце year_of_release. "
   ]
  },
  {
   "cell_type": "markdown",
   "metadata": {},
   "source": [
    "### Пропуски"
   ]
  },
  {
   "cell_type": "markdown",
   "metadata": {},
   "source": [
    "Посмотрим, сколько пропусков в нашей таблице:"
   ]
  },
  {
   "cell_type": "code",
   "execution_count": 16,
   "metadata": {},
   "outputs": [
    {
     "data": {
      "text/plain": [
       "name                  2\n",
       "platform              0\n",
       "year_of_release     269\n",
       "genre                 2\n",
       "na_sales              0\n",
       "eu_sales              0\n",
       "jp_sales              0\n",
       "other_sales           0\n",
       "critic_score       8578\n",
       "user_score         9125\n",
       "rating             6766\n",
       "dtype: int64"
      ]
     },
     "execution_count": 16,
     "metadata": {},
     "output_type": "execute_result"
    }
   ],
   "source": [
    "games.isna().sum()"
   ]
  },
  {
   "cell_type": "markdown",
   "metadata": {},
   "source": [
    "У нас пропуски в четырёх столбцах: year_of_release, critic_score, user_score, rating. Мы поняли, что в столбце user_score 2424 строки заполнены информацией о том, что данные подлежат уточнению (tbd), т.е. эти оценки еще в пути, так что предположить, что пропуски связаны с уточнением данных или запланированным отсутствием этой информации. Делать предположения о том, какую оценку мог поставить пользователь я не считаю объективным - оценка - дело непредсказуемое и наше исследование от этого только исказится. Предлагаю оставить пропуски в этом столбце нетронутыми."
   ]
  },
  {
   "cell_type": "markdown",
   "metadata": {},
   "source": [
    "#### year_of_release"
   ]
  },
  {
   "cell_type": "markdown",
   "metadata": {},
   "source": [
    "В этом столбце у нас 269 пропусков. Причиной может быть как технический сбой (если данные автоматически подтягивались из какого-то каталога) и из-за человеческого фактора. Уточнить это у нас нет возможности. Можно было бы заморочиться и \"загуглить\" эту информацию, но это займет неоправдано много времени. "
   ]
  },
  {
   "cell_type": "code",
   "execution_count": 17,
   "metadata": {},
   "outputs": [
    {
     "data": {
      "text/plain": [
       "name                  2\n",
       "platform              0\n",
       "year_of_release       0\n",
       "genre                 2\n",
       "na_sales              0\n",
       "eu_sales              0\n",
       "jp_sales              0\n",
       "other_sales           0\n",
       "critic_score       8463\n",
       "user_score         8983\n",
       "rating             6678\n",
       "dtype: int64"
      ]
     },
     "execution_count": 17,
     "metadata": {},
     "output_type": "execute_result"
    }
   ],
   "source": [
    "games = games.dropna(subset=['year_of_release'])\n",
    "games.isna().sum()                               "
   ]
  },
  {
   "cell_type": "markdown",
   "metadata": {},
   "source": [
    "#### critic_score"
   ]
  },
  {
   "cell_type": "markdown",
   "metadata": {},
   "source": [
    "В стобце critic_score 8578 пропусков. Предлагаю на всякий случай посмотреть, какие уникальные значения в этом столбце:"
   ]
  },
  {
   "cell_type": "code",
   "execution_count": 18,
   "metadata": {},
   "outputs": [
    {
     "data": {
      "text/plain": [
       "70.0    252\n",
       "71.0    248\n",
       "75.0    240\n",
       "80.0    235\n",
       "73.0    234\n",
       "       ... \n",
       "29.0      3\n",
       "20.0      3\n",
       "13.0      1\n",
       "17.0      1\n",
       "21.0      1\n",
       "Name: critic_score, Length: 81, dtype: int64"
      ]
     },
     "execution_count": 18,
     "metadata": {},
     "output_type": "execute_result"
    }
   ],
   "source": [
    "games['critic_score'].value_counts()"
   ]
  },
  {
   "cell_type": "markdown",
   "metadata": {},
   "source": [
    "Неожиданных значений типа tbd в этом столбце нет. Что касается заполнения пропуска - как и в случае с user_score предположить оценку критиков не считаю возможным. Использование же среднего или медианного значения может привести к искажению данных."
   ]
  },
  {
   "cell_type": "markdown",
   "metadata": {},
   "source": [
    "#### user_score"
   ]
  },
  {
   "cell_type": "markdown",
   "metadata": {},
   "source": [
    "Делать предположения о том, какую оценку мог поставить пользователь я не считаю объективным - оценка - дело непредсказуемое и наше исследование от этого только исказится. Предлагаю оставить пропуски в этом столбце нетронутыми."
   ]
  },
  {
   "cell_type": "markdown",
   "metadata": {},
   "source": [
    "#### rating"
   ]
  },
  {
   "cell_type": "markdown",
   "metadata": {},
   "source": [
    "Посмотрим для начала уникальные значения этого столбца:"
   ]
  },
  {
   "cell_type": "code",
   "execution_count": 19,
   "metadata": {},
   "outputs": [
    {
     "data": {
      "text/plain": [
       "E       3921\n",
       "T       2905\n",
       "M       1536\n",
       "E10+    1393\n",
       "EC         8\n",
       "K-A        3\n",
       "RP         1\n",
       "AO         1\n",
       "Name: rating, dtype: int64"
      ]
     },
     "execution_count": 19,
     "metadata": {},
     "output_type": "execute_result"
    }
   ],
   "source": [
    "games['rating'].value_counts()"
   ]
  },
  {
   "cell_type": "markdown",
   "metadata": {},
   "source": [
    "Подгрузив информацию о видах рейтингов  ESRB, я выяснила, что все уникальные значения в нашем столбце имеют место быть среди значений этого рейтинга. Т.о. получается, что никаких \"странных\" значений в столбце нет. Что касается пропусков - никак невозможно предугадать, какой рейтинг у игры. Искать их в интернете нецелесообразно - 6766 игр. Скорее всего пропуски возникли из-за технической ошибки - наврятли данные заполнял человек. Оставим пропуски, как есть. Иного выхода не вижу."
   ]
  },
  {
   "cell_type": "markdown",
   "metadata": {},
   "source": [
    "#### Genre и Name"
   ]
  },
  {
   "cell_type": "markdown",
   "metadata": {},
   "source": [
    "В столбце name и genre всего по 2 пропуска. Удаление строк с пропусками не может повлиять на анализ, т.к. их очень мало."
   ]
  },
  {
   "cell_type": "code",
   "execution_count": 20,
   "metadata": {},
   "outputs": [
    {
     "data": {
      "text/plain": [
       "name                  0\n",
       "platform              0\n",
       "year_of_release       0\n",
       "genre                 0\n",
       "na_sales              0\n",
       "eu_sales              0\n",
       "jp_sales              0\n",
       "other_sales           0\n",
       "critic_score       8461\n",
       "user_score         8981\n",
       "rating             6676\n",
       "dtype: int64"
      ]
     },
     "execution_count": 20,
     "metadata": {},
     "output_type": "execute_result"
    }
   ],
   "source": [
    "games = games.dropna(subset=['name', 'genre'])\n",
    "games.isna().sum() "
   ]
  },
  {
   "cell_type": "markdown",
   "metadata": {},
   "source": [
    "Там, где это было возможно, мы удалили строки с пропусками в столбцах. В остальных местах мы их оставили, так как логичного способа заменить пропуски значениями, не повлияв на исследование я не нашла."
   ]
  },
  {
   "cell_type": "markdown",
   "metadata": {},
   "source": [
    "### Подсчет суммарных продаж во всех регионах."
   ]
  },
  {
   "cell_type": "markdown",
   "metadata": {},
   "source": [
    "Посчитаем суммарные продажи игр во всех регионах и запишем результат в новом столбце total_sales:"
   ]
  },
  {
   "cell_type": "code",
   "execution_count": 21,
   "metadata": {},
   "outputs": [
    {
     "data": {
      "text/html": [
       "<div>\n",
       "<style scoped>\n",
       "    .dataframe tbody tr th:only-of-type {\n",
       "        vertical-align: middle;\n",
       "    }\n",
       "\n",
       "    .dataframe tbody tr th {\n",
       "        vertical-align: top;\n",
       "    }\n",
       "\n",
       "    .dataframe thead th {\n",
       "        text-align: right;\n",
       "    }\n",
       "</style>\n",
       "<table border=\"1\" class=\"dataframe\">\n",
       "  <thead>\n",
       "    <tr style=\"text-align: right;\">\n",
       "      <th></th>\n",
       "      <th>name</th>\n",
       "      <th>platform</th>\n",
       "      <th>year_of_release</th>\n",
       "      <th>genre</th>\n",
       "      <th>na_sales</th>\n",
       "      <th>eu_sales</th>\n",
       "      <th>jp_sales</th>\n",
       "      <th>other_sales</th>\n",
       "      <th>critic_score</th>\n",
       "      <th>user_score</th>\n",
       "      <th>rating</th>\n",
       "      <th>total_sales</th>\n",
       "    </tr>\n",
       "  </thead>\n",
       "  <tbody>\n",
       "    <tr>\n",
       "      <th>0</th>\n",
       "      <td>Wii Sports</td>\n",
       "      <td>Wii</td>\n",
       "      <td>2006.0</td>\n",
       "      <td>Sports</td>\n",
       "      <td>41.36</td>\n",
       "      <td>28.96</td>\n",
       "      <td>3.77</td>\n",
       "      <td>8.45</td>\n",
       "      <td>76.0</td>\n",
       "      <td>8.0</td>\n",
       "      <td>E</td>\n",
       "      <td>82.54</td>\n",
       "    </tr>\n",
       "    <tr>\n",
       "      <th>1</th>\n",
       "      <td>Super Mario Bros.</td>\n",
       "      <td>NES</td>\n",
       "      <td>1985.0</td>\n",
       "      <td>Platform</td>\n",
       "      <td>29.08</td>\n",
       "      <td>3.58</td>\n",
       "      <td>6.81</td>\n",
       "      <td>0.77</td>\n",
       "      <td>NaN</td>\n",
       "      <td>NaN</td>\n",
       "      <td>NaN</td>\n",
       "      <td>40.24</td>\n",
       "    </tr>\n",
       "    <tr>\n",
       "      <th>2</th>\n",
       "      <td>Mario Kart Wii</td>\n",
       "      <td>Wii</td>\n",
       "      <td>2008.0</td>\n",
       "      <td>Racing</td>\n",
       "      <td>15.68</td>\n",
       "      <td>12.76</td>\n",
       "      <td>3.79</td>\n",
       "      <td>3.29</td>\n",
       "      <td>82.0</td>\n",
       "      <td>8.3</td>\n",
       "      <td>E</td>\n",
       "      <td>35.52</td>\n",
       "    </tr>\n",
       "    <tr>\n",
       "      <th>3</th>\n",
       "      <td>Wii Sports Resort</td>\n",
       "      <td>Wii</td>\n",
       "      <td>2009.0</td>\n",
       "      <td>Sports</td>\n",
       "      <td>15.61</td>\n",
       "      <td>10.93</td>\n",
       "      <td>3.28</td>\n",
       "      <td>2.95</td>\n",
       "      <td>80.0</td>\n",
       "      <td>8.0</td>\n",
       "      <td>E</td>\n",
       "      <td>32.77</td>\n",
       "    </tr>\n",
       "    <tr>\n",
       "      <th>4</th>\n",
       "      <td>Pokemon Red/Pokemon Blue</td>\n",
       "      <td>GB</td>\n",
       "      <td>1996.0</td>\n",
       "      <td>Role-Playing</td>\n",
       "      <td>11.27</td>\n",
       "      <td>8.89</td>\n",
       "      <td>10.22</td>\n",
       "      <td>1.00</td>\n",
       "      <td>NaN</td>\n",
       "      <td>NaN</td>\n",
       "      <td>NaN</td>\n",
       "      <td>31.38</td>\n",
       "    </tr>\n",
       "  </tbody>\n",
       "</table>\n",
       "</div>"
      ],
      "text/plain": [
       "                       name platform  year_of_release         genre  na_sales  \\\n",
       "0                Wii Sports      Wii           2006.0        Sports     41.36   \n",
       "1         Super Mario Bros.      NES           1985.0      Platform     29.08   \n",
       "2            Mario Kart Wii      Wii           2008.0        Racing     15.68   \n",
       "3         Wii Sports Resort      Wii           2009.0        Sports     15.61   \n",
       "4  Pokemon Red/Pokemon Blue       GB           1996.0  Role-Playing     11.27   \n",
       "\n",
       "   eu_sales  jp_sales  other_sales  critic_score  user_score rating  \\\n",
       "0     28.96      3.77         8.45          76.0         8.0      E   \n",
       "1      3.58      6.81         0.77           NaN         NaN    NaN   \n",
       "2     12.76      3.79         3.29          82.0         8.3      E   \n",
       "3     10.93      3.28         2.95          80.0         8.0      E   \n",
       "4      8.89     10.22         1.00           NaN         NaN    NaN   \n",
       "\n",
       "   total_sales  \n",
       "0        82.54  \n",
       "1        40.24  \n",
       "2        35.52  \n",
       "3        32.77  \n",
       "4        31.38  "
      ]
     },
     "execution_count": 21,
     "metadata": {},
     "output_type": "execute_result"
    }
   ],
   "source": [
    "games['total_sales'] = games['na_sales'] + games['eu_sales'] + games['jp_sales'] + games['other_sales']\n",
    "games.head()"
   ]
  },
  {
   "cell_type": "markdown",
   "metadata": {},
   "source": [
    "## Исследовательскй анализ данных."
   ]
  },
  {
   "cell_type": "markdown",
   "metadata": {},
   "source": [
    "### Cколько игр выпускалось в разные годы"
   ]
  },
  {
   "cell_type": "markdown",
   "metadata": {},
   "source": [
    "Для грамотного составления графика сначала посмотрим, сколько уникальных значений годов у нас имеется:"
   ]
  },
  {
   "cell_type": "code",
   "execution_count": 22,
   "metadata": {},
   "outputs": [
    {
     "data": {
      "text/plain": [
       "37"
      ]
     },
     "execution_count": 22,
     "metadata": {},
     "output_type": "execute_result"
    }
   ],
   "source": [
    "games['year_of_release'].value_counts().count()"
   ]
  },
  {
   "cell_type": "code",
   "execution_count": 23,
   "metadata": {},
   "outputs": [
    {
     "data": {
      "text/plain": [
       "<AxesSubplot:ylabel='Frequency'>"
      ]
     },
     "execution_count": 23,
     "metadata": {},
     "output_type": "execute_result"
    },
    {
     "data": {
      "image/png": "[encoded data removed]",
      "text/plain": [
       "<Figure size 432x288 with 1 Axes>"
      ]
     },
     "metadata": {
      "needs_background": "light"
     },
     "output_type": "display_data"
    }
   ],
   "source": [
    "games['year_of_release'].plot(kind='hist', bins=37)"
   ]
  },
  {
   "cell_type": "markdown",
   "metadata": {},
   "source": [
    "Мы видим, что с 1980 по 1990 выпуск игр имел \"вялый\" характер, затем, видимо, возможности графики и прочего, о чем я, как человек непосвященный, не знаю, привели к росту выпуска игр, который сохранялся вплоть до 2010 года, затем мы видим спад - скорее всего рынок перенасытился и инвесторы перестали активно поддерживать процесс. Мы в сво очередь можем прийти к выводу, что для анализа более важен период с 1990 по 2016 гг."
   ]
  },
  {
   "cell_type": "markdown",
   "metadata": {},
   "source": [
    "### Как менялись продажи по платформам"
   ]
  },
  {
   "cell_type": "markdown",
   "metadata": {},
   "source": [
    "Сначала выберем платформы с наибольшими суммарными продажами:"
   ]
  },
  {
   "cell_type": "code",
   "execution_count": 24,
   "metadata": {},
   "outputs": [
    {
     "data": {
      "text/plain": [
       "<AxesSubplot:xlabel='platform'>"
      ]
     },
     "execution_count": 24,
     "metadata": {},
     "output_type": "execute_result"
    },
    {
     "data": {
      "image/png": "[encoded data removed]",
      "text/plain": [
       "<Figure size 432x288 with 1 Axes>"
      ]
     },
     "metadata": {
      "needs_background": "light"
     },
     "output_type": "display_data"
    }
   ],
   "source": [
    "platforms = games.pivot_table(index='platform', values = 'total_sales', aggfunc = 'count')\n",
    "platforms.sort_values(by='total_sales', ascending=False).plot(kind='bar')"
   ]
  },
  {
   "cell_type": "markdown",
   "metadata": {},
   "source": [
    "Предлагаю составить список из первых 15 позиций - будем их считать самыми востребованными:"
   ]
  },
  {
   "cell_type": "code",
   "execution_count": 25,
   "metadata": {},
   "outputs": [],
   "source": [
    "leaders = ['PS2', 'DS', 'PS3', 'Wii', 'X360', 'PSP', 'PS', 'PC', 'XB', 'GBA', 'GC', '3DS', 'PSV', 'PS4', 'N64']\n",
    "years = [1990.0, 1991.0, 1992.0, 1993.0, 1994.0, \n",
    "         1995.0, 1996.0, 1997.0, 1998.0, 1999.0, \n",
    "         2000.0, 2001.0, 2002.0, 2003.0, 2004.0, \n",
    "         2005.0, 2006.0, 2007.0, 2008.0, 2009.0,\n",
    "         2010.0, 2011.0, 2012.0, 2013.0, 2014.0, \n",
    "         2015.0, 2016.0\n",
    "] "
   ]
  },
  {
   "cell_type": "markdown",
   "metadata": {},
   "source": [
    "Теперь отгруппируем таблицу по этому списку и построим распределение по годам (исходя из прошлого исследования, актуальными годами мы будем считать период с 1990 по 2016 гг.)"
   ]
  },
  {
   "cell_type": "code",
   "execution_count": 26,
   "metadata": {},
   "outputs": [
    {
     "data": {
      "text/html": [
       "<div>\n",
       "<style scoped>\n",
       "    .dataframe tbody tr th:only-of-type {\n",
       "        vertical-align: middle;\n",
       "    }\n",
       "\n",
       "    .dataframe tbody tr th {\n",
       "        vertical-align: top;\n",
       "    }\n",
       "\n",
       "    .dataframe thead th {\n",
       "        text-align: right;\n",
       "    }\n",
       "</style>\n",
       "<table border=\"1\" class=\"dataframe\">\n",
       "  <thead>\n",
       "    <tr style=\"text-align: right;\">\n",
       "      <th></th>\n",
       "      <th>name</th>\n",
       "      <th>platform</th>\n",
       "      <th>year_of_release</th>\n",
       "      <th>genre</th>\n",
       "      <th>na_sales</th>\n",
       "      <th>eu_sales</th>\n",
       "      <th>jp_sales</th>\n",
       "      <th>other_sales</th>\n",
       "      <th>critic_score</th>\n",
       "      <th>user_score</th>\n",
       "      <th>rating</th>\n",
       "      <th>total_sales</th>\n",
       "    </tr>\n",
       "  </thead>\n",
       "  <tbody>\n",
       "    <tr>\n",
       "      <th>0</th>\n",
       "      <td>Wii Sports</td>\n",
       "      <td>Wii</td>\n",
       "      <td>2006.0</td>\n",
       "      <td>Sports</td>\n",
       "      <td>41.36</td>\n",
       "      <td>28.96</td>\n",
       "      <td>3.77</td>\n",
       "      <td>8.45</td>\n",
       "      <td>76.0</td>\n",
       "      <td>8.0</td>\n",
       "      <td>E</td>\n",
       "      <td>82.54</td>\n",
       "    </tr>\n",
       "    <tr>\n",
       "      <th>2</th>\n",
       "      <td>Mario Kart Wii</td>\n",
       "      <td>Wii</td>\n",
       "      <td>2008.0</td>\n",
       "      <td>Racing</td>\n",
       "      <td>15.68</td>\n",
       "      <td>12.76</td>\n",
       "      <td>3.79</td>\n",
       "      <td>3.29</td>\n",
       "      <td>82.0</td>\n",
       "      <td>8.3</td>\n",
       "      <td>E</td>\n",
       "      <td>35.52</td>\n",
       "    </tr>\n",
       "    <tr>\n",
       "      <th>3</th>\n",
       "      <td>Wii Sports Resort</td>\n",
       "      <td>Wii</td>\n",
       "      <td>2009.0</td>\n",
       "      <td>Sports</td>\n",
       "      <td>15.61</td>\n",
       "      <td>10.93</td>\n",
       "      <td>3.28</td>\n",
       "      <td>2.95</td>\n",
       "      <td>80.0</td>\n",
       "      <td>8.0</td>\n",
       "      <td>E</td>\n",
       "      <td>32.77</td>\n",
       "    </tr>\n",
       "    <tr>\n",
       "      <th>6</th>\n",
       "      <td>New Super Mario Bros.</td>\n",
       "      <td>DS</td>\n",
       "      <td>2006.0</td>\n",
       "      <td>Platform</td>\n",
       "      <td>11.28</td>\n",
       "      <td>9.14</td>\n",
       "      <td>6.50</td>\n",
       "      <td>2.88</td>\n",
       "      <td>89.0</td>\n",
       "      <td>8.5</td>\n",
       "      <td>E</td>\n",
       "      <td>29.80</td>\n",
       "    </tr>\n",
       "    <tr>\n",
       "      <th>7</th>\n",
       "      <td>Wii Play</td>\n",
       "      <td>Wii</td>\n",
       "      <td>2006.0</td>\n",
       "      <td>Misc</td>\n",
       "      <td>13.96</td>\n",
       "      <td>9.18</td>\n",
       "      <td>2.93</td>\n",
       "      <td>2.84</td>\n",
       "      <td>58.0</td>\n",
       "      <td>6.6</td>\n",
       "      <td>E</td>\n",
       "      <td>28.91</td>\n",
       "    </tr>\n",
       "    <tr>\n",
       "      <th>...</th>\n",
       "      <td>...</td>\n",
       "      <td>...</td>\n",
       "      <td>...</td>\n",
       "      <td>...</td>\n",
       "      <td>...</td>\n",
       "      <td>...</td>\n",
       "      <td>...</td>\n",
       "      <td>...</td>\n",
       "      <td>...</td>\n",
       "      <td>...</td>\n",
       "      <td>...</td>\n",
       "      <td>...</td>\n",
       "    </tr>\n",
       "    <tr>\n",
       "      <th>16710</th>\n",
       "      <td>Samurai Warriors: Sanada Maru</td>\n",
       "      <td>PS3</td>\n",
       "      <td>2016.0</td>\n",
       "      <td>Action</td>\n",
       "      <td>0.00</td>\n",
       "      <td>0.00</td>\n",
       "      <td>0.01</td>\n",
       "      <td>0.00</td>\n",
       "      <td>NaN</td>\n",
       "      <td>NaN</td>\n",
       "      <td>NaN</td>\n",
       "      <td>0.01</td>\n",
       "    </tr>\n",
       "    <tr>\n",
       "      <th>16711</th>\n",
       "      <td>LMA Manager 2007</td>\n",
       "      <td>X360</td>\n",
       "      <td>2006.0</td>\n",
       "      <td>Sports</td>\n",
       "      <td>0.00</td>\n",
       "      <td>0.01</td>\n",
       "      <td>0.00</td>\n",
       "      <td>0.00</td>\n",
       "      <td>NaN</td>\n",
       "      <td>NaN</td>\n",
       "      <td>NaN</td>\n",
       "      <td>0.01</td>\n",
       "    </tr>\n",
       "    <tr>\n",
       "      <th>16712</th>\n",
       "      <td>Haitaka no Psychedelica</td>\n",
       "      <td>PSV</td>\n",
       "      <td>2016.0</td>\n",
       "      <td>Adventure</td>\n",
       "      <td>0.00</td>\n",
       "      <td>0.00</td>\n",
       "      <td>0.01</td>\n",
       "      <td>0.00</td>\n",
       "      <td>NaN</td>\n",
       "      <td>NaN</td>\n",
       "      <td>NaN</td>\n",
       "      <td>0.01</td>\n",
       "    </tr>\n",
       "    <tr>\n",
       "      <th>16713</th>\n",
       "      <td>Spirits &amp; Spells</td>\n",
       "      <td>GBA</td>\n",
       "      <td>2003.0</td>\n",
       "      <td>Platform</td>\n",
       "      <td>0.01</td>\n",
       "      <td>0.00</td>\n",
       "      <td>0.00</td>\n",
       "      <td>0.00</td>\n",
       "      <td>NaN</td>\n",
       "      <td>NaN</td>\n",
       "      <td>NaN</td>\n",
       "      <td>0.01</td>\n",
       "    </tr>\n",
       "    <tr>\n",
       "      <th>16714</th>\n",
       "      <td>Winning Post 8 2016</td>\n",
       "      <td>PSV</td>\n",
       "      <td>2016.0</td>\n",
       "      <td>Simulation</td>\n",
       "      <td>0.00</td>\n",
       "      <td>0.00</td>\n",
       "      <td>0.01</td>\n",
       "      <td>0.00</td>\n",
       "      <td>NaN</td>\n",
       "      <td>NaN</td>\n",
       "      <td>NaN</td>\n",
       "      <td>0.01</td>\n",
       "    </tr>\n",
       "  </tbody>\n",
       "</table>\n",
       "<p>15214 rows × 12 columns</p>\n",
       "</div>"
      ],
      "text/plain": [
       "                                name platform  year_of_release       genre  \\\n",
       "0                         Wii Sports      Wii           2006.0      Sports   \n",
       "2                     Mario Kart Wii      Wii           2008.0      Racing   \n",
       "3                  Wii Sports Resort      Wii           2009.0      Sports   \n",
       "6              New Super Mario Bros.       DS           2006.0    Platform   \n",
       "7                           Wii Play      Wii           2006.0        Misc   \n",
       "...                              ...      ...              ...         ...   \n",
       "16710  Samurai Warriors: Sanada Maru      PS3           2016.0      Action   \n",
       "16711               LMA Manager 2007     X360           2006.0      Sports   \n",
       "16712        Haitaka no Psychedelica      PSV           2016.0   Adventure   \n",
       "16713               Spirits & Spells      GBA           2003.0    Platform   \n",
       "16714            Winning Post 8 2016      PSV           2016.0  Simulation   \n",
       "\n",
       "       na_sales  eu_sales  jp_sales  other_sales  critic_score  user_score  \\\n",
       "0         41.36     28.96      3.77         8.45          76.0         8.0   \n",
       "2         15.68     12.76      3.79         3.29          82.0         8.3   \n",
       "3         15.61     10.93      3.28         2.95          80.0         8.0   \n",
       "6         11.28      9.14      6.50         2.88          89.0         8.5   \n",
       "7         13.96      9.18      2.93         2.84          58.0         6.6   \n",
       "...         ...       ...       ...          ...           ...         ...   \n",
       "16710      0.00      0.00      0.01         0.00           NaN         NaN   \n",
       "16711      0.00      0.01      0.00         0.00           NaN         NaN   \n",
       "16712      0.00      0.00      0.01         0.00           NaN         NaN   \n",
       "16713      0.01      0.00      0.00         0.00           NaN         NaN   \n",
       "16714      0.00      0.00      0.01         0.00           NaN         NaN   \n",
       "\n",
       "      rating  total_sales  \n",
       "0          E        82.54  \n",
       "2          E        35.52  \n",
       "3          E        32.77  \n",
       "6          E        29.80  \n",
       "7          E        28.91  \n",
       "...      ...          ...  \n",
       "16710    NaN         0.01  \n",
       "16711    NaN         0.01  \n",
       "16712    NaN         0.01  \n",
       "16713    NaN         0.01  \n",
       "16714    NaN         0.01  \n",
       "\n",
       "[15214 rows x 12 columns]"
      ]
     },
     "execution_count": 26,
     "metadata": {},
     "output_type": "execute_result"
    }
   ],
   "source": [
    "topical = games.query('platform in @leaders and year_of_release in @years')\n",
    "topical"
   ]
  },
  {
   "cell_type": "code",
   "execution_count": 27,
   "metadata": {},
   "outputs": [
    {
     "data": {
      "text/plain": [
       "<AxesSubplot:xlabel='year_of_release'>"
      ]
     },
     "execution_count": 27,
     "metadata": {},
     "output_type": "execute_result"
    },
    {
     "data": {
      "image/png": "[encoded data removed]",
      "text/plain": [
       "<Figure size 1440x720 with 1 Axes>"
      ]
     },
     "metadata": {
      "needs_background": "light"
     },
     "output_type": "display_data"
    }
   ],
   "source": [
    "topical.pivot_table(index='year_of_release', columns='platform', values='total_sales').plot(figsize=(20,10))"
   ]
  },
  {
   "cell_type": "markdown",
   "metadata": {},
   "source": [
    "Проанализируем увиденное:\n",
    "1. Платформа DS: просуществовала с 2004 года по 2013 (9 лет)\n",
    "2. Платформа GBA просуществовала с 2000 по 2007 гг. (7 лет)\n",
    "3. Платформа PC - долгожительница - с 1990 по настоящее время. (26 лет)\n",
    "4. Платформа PS - с 1994 по 2003 гг. (9 лет)\n",
    "5. Платформа PS2 - с 2000 по 2011 г.г. (11 лет)\n",
    "6. Платформа PS3 - с 2006 по настоящее время (10 лет)\n",
    "7. Платформа PSP - с 2004 по 2015 гг. (11 лет)\n",
    "8. Платформа Wii - с 2006 по настящее время (10 лет)\n",
    "9. Платформа X360 - с 2005 по настоящее время (11 лет)\n",
    "10. Платформа XB - с 2000 по 2007 гг. (7 лет)\n",
    "11. Платформа GC - с 2001 по 2007 гг. (6 лет)\n",
    "12. Платформа 3DS - с 2011 по настоящее время (5 лет)\n",
    "13. Платформа PSV - с 2011 по настоящее время (5 лет)\n",
    "14. Платформа PS4 - с 2013 по настоящее время (3 года)\n",
    "15. Платформа N64 - с 1996 по 2002 гг. (6 лет)\n",
    "\n",
    "Получается, что платформы, которые завершили свое существование, в среднем прожили 8 лет. \n",
    "Очевидным долгожителем является платформа PC - 26 лет в стою и не сдается.\n",
    "Годы появления: с 1990 по 1999 гг. появилось всего 3 значительных игрока, в то время, как с 2000 по 2013 гг. их появилось сразу 12 - т.е. плотность появление со временем увеличивается.\n",
    "\n",
    "Так же мы видим, что информацию до 2015 года рассматривать не стоит, так как в этом году закончилось \"умирание\" платформ, остались те, которые работают сейчас. Именно их и стоит анализировать. Предлагаю сгруппировать нашу таблицу в соответствии с указанной датой.\n"
   ]
  },
  {
   "cell_type": "code",
   "execution_count": 28,
   "metadata": {},
   "outputs": [
    {
     "data": {
      "text/html": [
       "<div>\n",
       "<style scoped>\n",
       "    .dataframe tbody tr th:only-of-type {\n",
       "        vertical-align: middle;\n",
       "    }\n",
       "\n",
       "    .dataframe tbody tr th {\n",
       "        vertical-align: top;\n",
       "    }\n",
       "\n",
       "    .dataframe thead th {\n",
       "        text-align: right;\n",
       "    }\n",
       "</style>\n",
       "<table border=\"1\" class=\"dataframe\">\n",
       "  <thead>\n",
       "    <tr style=\"text-align: right;\">\n",
       "      <th></th>\n",
       "      <th>name</th>\n",
       "      <th>platform</th>\n",
       "      <th>year_of_release</th>\n",
       "      <th>genre</th>\n",
       "      <th>na_sales</th>\n",
       "      <th>eu_sales</th>\n",
       "      <th>jp_sales</th>\n",
       "      <th>other_sales</th>\n",
       "      <th>critic_score</th>\n",
       "      <th>user_score</th>\n",
       "      <th>rating</th>\n",
       "      <th>total_sales</th>\n",
       "    </tr>\n",
       "  </thead>\n",
       "  <tbody>\n",
       "    <tr>\n",
       "      <th>31</th>\n",
       "      <td>Call of Duty: Black Ops 3</td>\n",
       "      <td>PS4</td>\n",
       "      <td>2015.0</td>\n",
       "      <td>Shooter</td>\n",
       "      <td>6.03</td>\n",
       "      <td>5.86</td>\n",
       "      <td>0.36</td>\n",
       "      <td>2.38</td>\n",
       "      <td>NaN</td>\n",
       "      <td>NaN</td>\n",
       "      <td>NaN</td>\n",
       "      <td>14.63</td>\n",
       "    </tr>\n",
       "    <tr>\n",
       "      <th>77</th>\n",
       "      <td>FIFA 16</td>\n",
       "      <td>PS4</td>\n",
       "      <td>2015.0</td>\n",
       "      <td>Sports</td>\n",
       "      <td>1.12</td>\n",
       "      <td>6.12</td>\n",
       "      <td>0.06</td>\n",
       "      <td>1.28</td>\n",
       "      <td>82.0</td>\n",
       "      <td>4.3</td>\n",
       "      <td>E</td>\n",
       "      <td>8.58</td>\n",
       "    </tr>\n",
       "    <tr>\n",
       "      <th>87</th>\n",
       "      <td>Star Wars Battlefront (2015)</td>\n",
       "      <td>PS4</td>\n",
       "      <td>2015.0</td>\n",
       "      <td>Shooter</td>\n",
       "      <td>2.99</td>\n",
       "      <td>3.49</td>\n",
       "      <td>0.22</td>\n",
       "      <td>1.28</td>\n",
       "      <td>NaN</td>\n",
       "      <td>NaN</td>\n",
       "      <td>NaN</td>\n",
       "      <td>7.98</td>\n",
       "    </tr>\n",
       "    <tr>\n",
       "      <th>94</th>\n",
       "      <td>FIFA 17</td>\n",
       "      <td>PS4</td>\n",
       "      <td>2016.0</td>\n",
       "      <td>Sports</td>\n",
       "      <td>0.66</td>\n",
       "      <td>5.75</td>\n",
       "      <td>0.08</td>\n",
       "      <td>1.11</td>\n",
       "      <td>85.0</td>\n",
       "      <td>5.0</td>\n",
       "      <td>E</td>\n",
       "      <td>7.60</td>\n",
       "    </tr>\n",
       "    <tr>\n",
       "      <th>99</th>\n",
       "      <td>Call of Duty: Black Ops 3</td>\n",
       "      <td>XOne</td>\n",
       "      <td>2015.0</td>\n",
       "      <td>Shooter</td>\n",
       "      <td>4.59</td>\n",
       "      <td>2.11</td>\n",
       "      <td>0.01</td>\n",
       "      <td>0.68</td>\n",
       "      <td>NaN</td>\n",
       "      <td>NaN</td>\n",
       "      <td>NaN</td>\n",
       "      <td>7.39</td>\n",
       "    </tr>\n",
       "  </tbody>\n",
       "</table>\n",
       "</div>"
      ],
      "text/plain": [
       "                            name platform  year_of_release    genre  na_sales  \\\n",
       "31     Call of Duty: Black Ops 3      PS4           2015.0  Shooter      6.03   \n",
       "77                       FIFA 16      PS4           2015.0   Sports      1.12   \n",
       "87  Star Wars Battlefront (2015)      PS4           2015.0  Shooter      2.99   \n",
       "94                       FIFA 17      PS4           2016.0   Sports      0.66   \n",
       "99     Call of Duty: Black Ops 3     XOne           2015.0  Shooter      4.59   \n",
       "\n",
       "    eu_sales  jp_sales  other_sales  critic_score  user_score rating  \\\n",
       "31      5.86      0.36         2.38           NaN         NaN    NaN   \n",
       "77      6.12      0.06         1.28          82.0         4.3      E   \n",
       "87      3.49      0.22         1.28           NaN         NaN    NaN   \n",
       "94      5.75      0.08         1.11          85.0         5.0      E   \n",
       "99      2.11      0.01         0.68           NaN         NaN    NaN   \n",
       "\n",
       "    total_sales  \n",
       "31        14.63  \n",
       "77         8.58  \n",
       "87         7.98  \n",
       "94         7.60  \n",
       "99         7.39  "
      ]
     },
     "execution_count": 28,
     "metadata": {},
     "output_type": "execute_result"
    }
   ],
   "source": [
    "games = games.query('year_of_release >= 2015')\n",
    "games.head()"
   ]
  },
  {
   "cell_type": "markdown",
   "metadata": {},
   "source": [
    "### Какие платформы лидируют по продажам, растут или падают? Выберите несколько потенциально прибыльных платформ."
   ]
  },
  {
   "cell_type": "code",
   "execution_count": 29,
   "metadata": {},
   "outputs": [
    {
     "data": {
      "text/plain": [
       "<AxesSubplot:xlabel='year_of_release'>"
      ]
     },
     "execution_count": 29,
     "metadata": {},
     "output_type": "execute_result"
    },
    {
     "data": {
      "image/png": "[encoded data removed]",
      "text/plain": [
       "<Figure size 1440x720 with 1 Axes>"
      ]
     },
     "metadata": {
      "needs_background": "light"
     },
     "output_type": "display_data"
    }
   ],
   "source": [
    "games.pivot_table(index='year_of_release', columns='platform', values='total_sales').plot(figsize=(20,10))"
   ]
  },
  {
   "cell_type": "markdown",
   "metadata": {},
   "source": [
    "У нас есть 9 платформ. Лидеры по продажам - PS4 (была на пике в 2013 году - год появления, и с тех пор продажи равномерно снижаются), XOne (ведет себя так же как PS4), WiiU (падение продаж у неё выражено менее ярко). Но все они сейчас идут на спад. Одна платформа - 3DS - единственная набирает обороты. Так же в ТОП5 входит X360. В течение ближайшего года эти платформы наверняка продожат свое существование и будут приносить стабильный доход, так как мы помним, что средний срок жизни платформы - 8 лет. Теперь отфильтруем таблицу по этим пяти платформам. Назовем таблицу games_top."
   ]
  },
  {
   "cell_type": "code",
   "execution_count": 30,
   "metadata": {},
   "outputs": [],
   "source": [
    "top = ['PS4', 'XOne', 'WiiU', '3DS', 'X360']"
   ]
  },
  {
   "cell_type": "code",
   "execution_count": 31,
   "metadata": {},
   "outputs": [
    {
     "data": {
      "text/html": [
       "<div>\n",
       "<style scoped>\n",
       "    .dataframe tbody tr th:only-of-type {\n",
       "        vertical-align: middle;\n",
       "    }\n",
       "\n",
       "    .dataframe tbody tr th {\n",
       "        vertical-align: top;\n",
       "    }\n",
       "\n",
       "    .dataframe thead th {\n",
       "        text-align: right;\n",
       "    }\n",
       "</style>\n",
       "<table border=\"1\" class=\"dataframe\">\n",
       "  <thead>\n",
       "    <tr style=\"text-align: right;\">\n",
       "      <th></th>\n",
       "      <th>name</th>\n",
       "      <th>platform</th>\n",
       "      <th>year_of_release</th>\n",
       "      <th>genre</th>\n",
       "      <th>na_sales</th>\n",
       "      <th>eu_sales</th>\n",
       "      <th>jp_sales</th>\n",
       "      <th>other_sales</th>\n",
       "      <th>critic_score</th>\n",
       "      <th>user_score</th>\n",
       "      <th>rating</th>\n",
       "      <th>total_sales</th>\n",
       "    </tr>\n",
       "  </thead>\n",
       "  <tbody>\n",
       "    <tr>\n",
       "      <th>31</th>\n",
       "      <td>Call of Duty: Black Ops 3</td>\n",
       "      <td>PS4</td>\n",
       "      <td>2015.0</td>\n",
       "      <td>Shooter</td>\n",
       "      <td>6.03</td>\n",
       "      <td>5.86</td>\n",
       "      <td>0.36</td>\n",
       "      <td>2.38</td>\n",
       "      <td>NaN</td>\n",
       "      <td>NaN</td>\n",
       "      <td>NaN</td>\n",
       "      <td>14.63</td>\n",
       "    </tr>\n",
       "    <tr>\n",
       "      <th>77</th>\n",
       "      <td>FIFA 16</td>\n",
       "      <td>PS4</td>\n",
       "      <td>2015.0</td>\n",
       "      <td>Sports</td>\n",
       "      <td>1.12</td>\n",
       "      <td>6.12</td>\n",
       "      <td>0.06</td>\n",
       "      <td>1.28</td>\n",
       "      <td>82.0</td>\n",
       "      <td>4.3</td>\n",
       "      <td>E</td>\n",
       "      <td>8.58</td>\n",
       "    </tr>\n",
       "    <tr>\n",
       "      <th>87</th>\n",
       "      <td>Star Wars Battlefront (2015)</td>\n",
       "      <td>PS4</td>\n",
       "      <td>2015.0</td>\n",
       "      <td>Shooter</td>\n",
       "      <td>2.99</td>\n",
       "      <td>3.49</td>\n",
       "      <td>0.22</td>\n",
       "      <td>1.28</td>\n",
       "      <td>NaN</td>\n",
       "      <td>NaN</td>\n",
       "      <td>NaN</td>\n",
       "      <td>7.98</td>\n",
       "    </tr>\n",
       "    <tr>\n",
       "      <th>94</th>\n",
       "      <td>FIFA 17</td>\n",
       "      <td>PS4</td>\n",
       "      <td>2016.0</td>\n",
       "      <td>Sports</td>\n",
       "      <td>0.66</td>\n",
       "      <td>5.75</td>\n",
       "      <td>0.08</td>\n",
       "      <td>1.11</td>\n",
       "      <td>85.0</td>\n",
       "      <td>5.0</td>\n",
       "      <td>E</td>\n",
       "      <td>7.60</td>\n",
       "    </tr>\n",
       "    <tr>\n",
       "      <th>99</th>\n",
       "      <td>Call of Duty: Black Ops 3</td>\n",
       "      <td>XOne</td>\n",
       "      <td>2015.0</td>\n",
       "      <td>Shooter</td>\n",
       "      <td>4.59</td>\n",
       "      <td>2.11</td>\n",
       "      <td>0.01</td>\n",
       "      <td>0.68</td>\n",
       "      <td>NaN</td>\n",
       "      <td>NaN</td>\n",
       "      <td>NaN</td>\n",
       "      <td>7.39</td>\n",
       "    </tr>\n",
       "  </tbody>\n",
       "</table>\n",
       "</div>"
      ],
      "text/plain": [
       "                            name platform  year_of_release    genre  na_sales  \\\n",
       "31     Call of Duty: Black Ops 3      PS4           2015.0  Shooter      6.03   \n",
       "77                       FIFA 16      PS4           2015.0   Sports      1.12   \n",
       "87  Star Wars Battlefront (2015)      PS4           2015.0  Shooter      2.99   \n",
       "94                       FIFA 17      PS4           2016.0   Sports      0.66   \n",
       "99     Call of Duty: Black Ops 3     XOne           2015.0  Shooter      4.59   \n",
       "\n",
       "    eu_sales  jp_sales  other_sales  critic_score  user_score rating  \\\n",
       "31      5.86      0.36         2.38           NaN         NaN    NaN   \n",
       "77      6.12      0.06         1.28          82.0         4.3      E   \n",
       "87      3.49      0.22         1.28           NaN         NaN    NaN   \n",
       "94      5.75      0.08         1.11          85.0         5.0      E   \n",
       "99      2.11      0.01         0.68           NaN         NaN    NaN   \n",
       "\n",
       "    total_sales  \n",
       "31        14.63  \n",
       "77         8.58  \n",
       "87         7.98  \n",
       "94         7.60  \n",
       "99         7.39  "
      ]
     },
     "execution_count": 31,
     "metadata": {},
     "output_type": "execute_result"
    }
   ],
   "source": [
    "games_top = games.query('platform in @top')\n",
    "games_top.head()"
   ]
  },
  {
   "cell_type": "markdown",
   "metadata": {},
   "source": [
    "### Ящик с усами. "
   ]
  },
  {
   "cell_type": "markdown",
   "metadata": {},
   "source": [
    "Постройте график «ящик с усами» по глобальным продажам игр в разбивке по платформам. Опишите результат."
   ]
  },
  {
   "cell_type": "code",
   "execution_count": 32,
   "metadata": {},
   "outputs": [
    {
     "data": {
      "text/plain": [
       "<AxesSubplot:xlabel='platform', ylabel='total_sales'>"
      ]
     },
     "execution_count": 32,
     "metadata": {},
     "output_type": "execute_result"
    },
    {
     "data": {
      "image/png": "[encoded data removed]",
      "text/plain": [
       "<Figure size 720x1080 with 1 Axes>"
      ]
     },
     "metadata": {
      "needs_background": "light"
     },
     "output_type": "display_data"
    }
   ],
   "source": [
    "plt.figure(figsize=(10, 15))\n",
    "plt.ylim([0,5])\n",
    "sns.boxplot(data=games_top, x='platform', y='total_sales')"
   ]
  },
  {
   "cell_type": "markdown",
   "metadata": {},
   "source": [
    "Мы видим, что медиана находится на уровне 0,3 и ниже, она ниже среднего. Есть выбросы - так называемых бетселлеров - которые фактически и формируют рынок, но в основной массе это игровой \"мусор\"."
   ]
  },
  {
   "cell_type": "markdown",
   "metadata": {},
   "source": [
    "### Как влияют на продажи внутри одной популярной платформы отзывы пользователей и критиков"
   ]
  },
  {
   "cell_type": "markdown",
   "metadata": {},
   "source": [
    "Построим диаграмму рассеяния и посчитаем корреляцию между отзывами и продажами на примере платформы XOne."
   ]
  },
  {
   "cell_type": "code",
   "execution_count": 33,
   "metadata": {},
   "outputs": [
    {
     "data": {
      "text/html": [
       "<div>\n",
       "<style scoped>\n",
       "    .dataframe tbody tr th:only-of-type {\n",
       "        vertical-align: middle;\n",
       "    }\n",
       "\n",
       "    .dataframe tbody tr th {\n",
       "        vertical-align: top;\n",
       "    }\n",
       "\n",
       "    .dataframe thead th {\n",
       "        text-align: right;\n",
       "    }\n",
       "</style>\n",
       "<table border=\"1\" class=\"dataframe\">\n",
       "  <thead>\n",
       "    <tr style=\"text-align: right;\">\n",
       "      <th></th>\n",
       "      <th>name</th>\n",
       "      <th>platform</th>\n",
       "      <th>year_of_release</th>\n",
       "      <th>genre</th>\n",
       "      <th>na_sales</th>\n",
       "      <th>eu_sales</th>\n",
       "      <th>jp_sales</th>\n",
       "      <th>other_sales</th>\n",
       "      <th>critic_score</th>\n",
       "      <th>user_score</th>\n",
       "      <th>rating</th>\n",
       "      <th>total_sales</th>\n",
       "    </tr>\n",
       "  </thead>\n",
       "  <tbody>\n",
       "    <tr>\n",
       "      <th>99</th>\n",
       "      <td>Call of Duty: Black Ops 3</td>\n",
       "      <td>XOne</td>\n",
       "      <td>2015.0</td>\n",
       "      <td>Shooter</td>\n",
       "      <td>4.59</td>\n",
       "      <td>2.11</td>\n",
       "      <td>0.01</td>\n",
       "      <td>0.68</td>\n",
       "      <td>NaN</td>\n",
       "      <td>NaN</td>\n",
       "      <td>NaN</td>\n",
       "      <td>7.39</td>\n",
       "    </tr>\n",
       "    <tr>\n",
       "      <th>242</th>\n",
       "      <td>Halo 5: Guardians</td>\n",
       "      <td>XOne</td>\n",
       "      <td>2015.0</td>\n",
       "      <td>Shooter</td>\n",
       "      <td>2.78</td>\n",
       "      <td>1.27</td>\n",
       "      <td>0.03</td>\n",
       "      <td>0.41</td>\n",
       "      <td>84.0</td>\n",
       "      <td>6.4</td>\n",
       "      <td>T</td>\n",
       "      <td>4.49</td>\n",
       "    </tr>\n",
       "    <tr>\n",
       "      <th>270</th>\n",
       "      <td>Fallout 4</td>\n",
       "      <td>XOne</td>\n",
       "      <td>2015.0</td>\n",
       "      <td>Role-Playing</td>\n",
       "      <td>2.51</td>\n",
       "      <td>1.32</td>\n",
       "      <td>0.01</td>\n",
       "      <td>0.38</td>\n",
       "      <td>88.0</td>\n",
       "      <td>6.2</td>\n",
       "      <td>M</td>\n",
       "      <td>4.22</td>\n",
       "    </tr>\n",
       "    <tr>\n",
       "      <th>342</th>\n",
       "      <td>Star Wars Battlefront (2015)</td>\n",
       "      <td>XOne</td>\n",
       "      <td>2015.0</td>\n",
       "      <td>Shooter</td>\n",
       "      <td>2.04</td>\n",
       "      <td>1.28</td>\n",
       "      <td>0.02</td>\n",
       "      <td>0.32</td>\n",
       "      <td>NaN</td>\n",
       "      <td>NaN</td>\n",
       "      <td>NaN</td>\n",
       "      <td>3.66</td>\n",
       "    </tr>\n",
       "    <tr>\n",
       "      <th>413</th>\n",
       "      <td>Gears of War: Ultimate Edition</td>\n",
       "      <td>XOne</td>\n",
       "      <td>2015.0</td>\n",
       "      <td>Shooter</td>\n",
       "      <td>2.61</td>\n",
       "      <td>0.33</td>\n",
       "      <td>0.00</td>\n",
       "      <td>0.34</td>\n",
       "      <td>82.0</td>\n",
       "      <td>7.5</td>\n",
       "      <td>M</td>\n",
       "      <td>3.28</td>\n",
       "    </tr>\n",
       "  </tbody>\n",
       "</table>\n",
       "</div>"
      ],
      "text/plain": [
       "                               name platform  year_of_release         genre  \\\n",
       "99        Call of Duty: Black Ops 3     XOne           2015.0       Shooter   \n",
       "242               Halo 5: Guardians     XOne           2015.0       Shooter   \n",
       "270                       Fallout 4     XOne           2015.0  Role-Playing   \n",
       "342    Star Wars Battlefront (2015)     XOne           2015.0       Shooter   \n",
       "413  Gears of War: Ultimate Edition     XOne           2015.0       Shooter   \n",
       "\n",
       "     na_sales  eu_sales  jp_sales  other_sales  critic_score  user_score  \\\n",
       "99       4.59      2.11      0.01         0.68           NaN         NaN   \n",
       "242      2.78      1.27      0.03         0.41          84.0         6.4   \n",
       "270      2.51      1.32      0.01         0.38          88.0         6.2   \n",
       "342      2.04      1.28      0.02         0.32           NaN         NaN   \n",
       "413      2.61      0.33      0.00         0.34          82.0         7.5   \n",
       "\n",
       "    rating  total_sales  \n",
       "99     NaN         7.39  \n",
       "242      T         4.49  \n",
       "270      M         4.22  \n",
       "342    NaN         3.66  \n",
       "413      M         3.28  "
      ]
     },
     "execution_count": 33,
     "metadata": {},
     "output_type": "execute_result"
    }
   ],
   "source": [
    "XOne = games_top.query('platform == \"XOne\"')\n",
    "XOne.head()"
   ]
  },
  {
   "cell_type": "code",
   "execution_count": 34,
   "metadata": {},
   "outputs": [
    {
     "data": {
      "text/plain": [
       "<AxesSubplot:xlabel='total_sales', ylabel='critic_score'>"
      ]
     },
     "execution_count": 34,
     "metadata": {},
     "output_type": "execute_result"
    },
    {
     "data": {
      "image/png": "[encoded data removed]",
      "text/plain": [
       "<Figure size 432x288 with 1 Axes>"
      ]
     },
     "metadata": {
      "needs_background": "light"
     },
     "output_type": "display_data"
    }
   ],
   "source": [
    "XOne.plot(x='total_sales', y='critic_score', kind='scatter')"
   ]
  },
  {
   "cell_type": "code",
   "execution_count": 35,
   "metadata": {},
   "outputs": [
    {
     "data": {
      "text/plain": [
       "0.430888745821368"
      ]
     },
     "execution_count": 35,
     "metadata": {},
     "output_type": "execute_result"
    }
   ],
   "source": [
    "XOne['total_sales'].corr(XOne['critic_score'])"
   ]
  },
  {
   "cell_type": "markdown",
   "metadata": {},
   "source": [
    "Присутствует положительная корреляция (незначительная), т.е. чем выше оценка критиков, тем выше продажи. Но т.к. она выражена очень неярко, связывать эти два показателя между собой не стоит."
   ]
  },
  {
   "cell_type": "code",
   "execution_count": 36,
   "metadata": {},
   "outputs": [
    {
     "data": {
      "text/plain": [
       "<AxesSubplot:xlabel='total_sales', ylabel='user_score'>"
      ]
     },
     "execution_count": 36,
     "metadata": {},
     "output_type": "execute_result"
    },
    {
     "data": {
      "image/png": "[encoded data removed]",
      "text/plain": [
       "<Figure size 432x288 with 1 Axes>"
      ]
     },
     "metadata": {
      "needs_background": "light"
     },
     "output_type": "display_data"
    }
   ],
   "source": [
    "XOne.plot(x='total_sales', y='user_score', kind='scatter')"
   ]
  },
  {
   "cell_type": "code",
   "execution_count": 37,
   "metadata": {},
   "outputs": [
    {
     "data": {
      "text/plain": [
       "-0.04146733387366271"
      ]
     },
     "execution_count": 37,
     "metadata": {},
     "output_type": "execute_result"
    }
   ],
   "source": [
    "XOne['total_sales'].corr(XOne['user_score'])"
   ]
  },
  {
   "cell_type": "markdown",
   "metadata": {},
   "source": [
    "Ориентируясь на коэффициент Пирсона можно сказать, что никакой ярковыраженной взаимосвязи между оценками пользователей и продажами игр на этой платформе нет."
   ]
  },
  {
   "cell_type": "markdown",
   "metadata": {},
   "source": [
    "### Соотнесём выводы с продажами игр на других платформах."
   ]
  },
  {
   "cell_type": "markdown",
   "metadata": {},
   "source": [
    "#### Построим диаграмму рассеяния и посчитаем корреляцию между отзывами и продажами для всех остальных выбранных нами платформ."
   ]
  },
  {
   "cell_type": "code",
   "execution_count": 38,
   "metadata": {},
   "outputs": [
    {
     "data": {
      "text/html": [
       "<div>\n",
       "<style scoped>\n",
       "    .dataframe tbody tr th:only-of-type {\n",
       "        vertical-align: middle;\n",
       "    }\n",
       "\n",
       "    .dataframe tbody tr th {\n",
       "        vertical-align: top;\n",
       "    }\n",
       "\n",
       "    .dataframe thead th {\n",
       "        text-align: right;\n",
       "    }\n",
       "</style>\n",
       "<table border=\"1\" class=\"dataframe\">\n",
       "  <thead>\n",
       "    <tr style=\"text-align: right;\">\n",
       "      <th></th>\n",
       "      <th>name</th>\n",
       "      <th>platform</th>\n",
       "      <th>year_of_release</th>\n",
       "      <th>genre</th>\n",
       "      <th>na_sales</th>\n",
       "      <th>eu_sales</th>\n",
       "      <th>jp_sales</th>\n",
       "      <th>other_sales</th>\n",
       "      <th>critic_score</th>\n",
       "      <th>user_score</th>\n",
       "      <th>rating</th>\n",
       "      <th>total_sales</th>\n",
       "    </tr>\n",
       "  </thead>\n",
       "  <tbody>\n",
       "    <tr>\n",
       "      <th>31</th>\n",
       "      <td>Call of Duty: Black Ops 3</td>\n",
       "      <td>PS4</td>\n",
       "      <td>2015.0</td>\n",
       "      <td>Shooter</td>\n",
       "      <td>6.03</td>\n",
       "      <td>5.86</td>\n",
       "      <td>0.36</td>\n",
       "      <td>2.38</td>\n",
       "      <td>NaN</td>\n",
       "      <td>NaN</td>\n",
       "      <td>NaN</td>\n",
       "      <td>14.63</td>\n",
       "    </tr>\n",
       "    <tr>\n",
       "      <th>77</th>\n",
       "      <td>FIFA 16</td>\n",
       "      <td>PS4</td>\n",
       "      <td>2015.0</td>\n",
       "      <td>Sports</td>\n",
       "      <td>1.12</td>\n",
       "      <td>6.12</td>\n",
       "      <td>0.06</td>\n",
       "      <td>1.28</td>\n",
       "      <td>82.0</td>\n",
       "      <td>4.3</td>\n",
       "      <td>E</td>\n",
       "      <td>8.58</td>\n",
       "    </tr>\n",
       "    <tr>\n",
       "      <th>87</th>\n",
       "      <td>Star Wars Battlefront (2015)</td>\n",
       "      <td>PS4</td>\n",
       "      <td>2015.0</td>\n",
       "      <td>Shooter</td>\n",
       "      <td>2.99</td>\n",
       "      <td>3.49</td>\n",
       "      <td>0.22</td>\n",
       "      <td>1.28</td>\n",
       "      <td>NaN</td>\n",
       "      <td>NaN</td>\n",
       "      <td>NaN</td>\n",
       "      <td>7.98</td>\n",
       "    </tr>\n",
       "    <tr>\n",
       "      <th>94</th>\n",
       "      <td>FIFA 17</td>\n",
       "      <td>PS4</td>\n",
       "      <td>2016.0</td>\n",
       "      <td>Sports</td>\n",
       "      <td>0.66</td>\n",
       "      <td>5.75</td>\n",
       "      <td>0.08</td>\n",
       "      <td>1.11</td>\n",
       "      <td>85.0</td>\n",
       "      <td>5.0</td>\n",
       "      <td>E</td>\n",
       "      <td>7.60</td>\n",
       "    </tr>\n",
       "    <tr>\n",
       "      <th>105</th>\n",
       "      <td>Fallout 4</td>\n",
       "      <td>PS4</td>\n",
       "      <td>2015.0</td>\n",
       "      <td>Role-Playing</td>\n",
       "      <td>2.53</td>\n",
       "      <td>3.27</td>\n",
       "      <td>0.24</td>\n",
       "      <td>1.13</td>\n",
       "      <td>87.0</td>\n",
       "      <td>6.5</td>\n",
       "      <td>M</td>\n",
       "      <td>7.17</td>\n",
       "    </tr>\n",
       "  </tbody>\n",
       "</table>\n",
       "</div>"
      ],
      "text/plain": [
       "                             name platform  year_of_release         genre  \\\n",
       "31      Call of Duty: Black Ops 3      PS4           2015.0       Shooter   \n",
       "77                        FIFA 16      PS4           2015.0        Sports   \n",
       "87   Star Wars Battlefront (2015)      PS4           2015.0       Shooter   \n",
       "94                        FIFA 17      PS4           2016.0        Sports   \n",
       "105                     Fallout 4      PS4           2015.0  Role-Playing   \n",
       "\n",
       "     na_sales  eu_sales  jp_sales  other_sales  critic_score  user_score  \\\n",
       "31       6.03      5.86      0.36         2.38           NaN         NaN   \n",
       "77       1.12      6.12      0.06         1.28          82.0         4.3   \n",
       "87       2.99      3.49      0.22         1.28           NaN         NaN   \n",
       "94       0.66      5.75      0.08         1.11          85.0         5.0   \n",
       "105      2.53      3.27      0.24         1.13          87.0         6.5   \n",
       "\n",
       "    rating  total_sales  \n",
       "31     NaN        14.63  \n",
       "77       E         8.58  \n",
       "87     NaN         7.98  \n",
       "94       E         7.60  \n",
       "105      M         7.17  "
      ]
     },
     "execution_count": 38,
     "metadata": {},
     "output_type": "execute_result"
    }
   ],
   "source": [
    "other = games_top.query('platform != \"XOne\"')\n",
    "other.head()"
   ]
  },
  {
   "cell_type": "markdown",
   "metadata": {},
   "source": [
    "Возьмем и промониторим отдельно платформы, которые не включили в список \"избранных\", например PS3  и Wii посмотрим, как они ведут себя по-отдельности:"
   ]
  },
  {
   "cell_type": "code",
   "execution_count": 39,
   "metadata": {},
   "outputs": [
    {
     "data": {
      "text/plain": [
       "<AxesSubplot:xlabel='total_sales', ylabel='critic_score'>"
      ]
     },
     "execution_count": 39,
     "metadata": {},
     "output_type": "execute_result"
    },
    {
     "data": {
      "image/png": "[encoded data removed]",
      "text/plain": [
       "<Figure size 432x288 with 1 Axes>"
      ]
     },
     "metadata": {
      "needs_background": "light"
     },
     "output_type": "display_data"
    }
   ],
   "source": [
    "other.plot(x='total_sales', y='critic_score', kind='scatter')"
   ]
  },
  {
   "cell_type": "code",
   "execution_count": 40,
   "metadata": {},
   "outputs": [
    {
     "data": {
      "text/plain": [
       "0.36905090746877667"
      ]
     },
     "execution_count": 40,
     "metadata": {},
     "output_type": "execute_result"
    }
   ],
   "source": [
    "other['total_sales'].corr(other['critic_score'])"
   ]
  },
  {
   "cell_type": "code",
   "execution_count": 41,
   "metadata": {},
   "outputs": [
    {
     "data": {
      "text/plain": [
       "<AxesSubplot:xlabel='total_sales', ylabel='user_score'>"
      ]
     },
     "execution_count": 41,
     "metadata": {},
     "output_type": "execute_result"
    },
    {
     "data": {
      "image/png": "[encoded data removed]",
      "text/plain": [
       "<Figure size 432x288 with 1 Axes>"
      ]
     },
     "metadata": {
      "needs_background": "light"
     },
     "output_type": "display_data"
    }
   ],
   "source": [
    "other.plot(x='total_sales', y='user_score', kind='scatter')"
   ]
  },
  {
   "cell_type": "code",
   "execution_count": 42,
   "metadata": {},
   "outputs": [
    {
     "data": {
      "text/plain": [
       "0.0012285759090274364"
      ]
     },
     "execution_count": 42,
     "metadata": {},
     "output_type": "execute_result"
    }
   ],
   "source": [
    "other['total_sales'].corr(other['user_score'])"
   ]
  },
  {
   "cell_type": "markdown",
   "metadata": {},
   "source": [
    "#### Возьмем и промониторим отдельно платформы, которые мы включили в список \"избранных\", например X360 и PS4 посмотрим, как они ведут себя по-отдельности:"
   ]
  },
  {
   "cell_type": "markdown",
   "metadata": {},
   "source": [
    "##### PS4"
   ]
  },
  {
   "cell_type": "code",
   "execution_count": 43,
   "metadata": {},
   "outputs": [
    {
     "data": {
      "text/html": [
       "<div>\n",
       "<style scoped>\n",
       "    .dataframe tbody tr th:only-of-type {\n",
       "        vertical-align: middle;\n",
       "    }\n",
       "\n",
       "    .dataframe tbody tr th {\n",
       "        vertical-align: top;\n",
       "    }\n",
       "\n",
       "    .dataframe thead th {\n",
       "        text-align: right;\n",
       "    }\n",
       "</style>\n",
       "<table border=\"1\" class=\"dataframe\">\n",
       "  <thead>\n",
       "    <tr style=\"text-align: right;\">\n",
       "      <th></th>\n",
       "      <th>name</th>\n",
       "      <th>platform</th>\n",
       "      <th>year_of_release</th>\n",
       "      <th>genre</th>\n",
       "      <th>na_sales</th>\n",
       "      <th>eu_sales</th>\n",
       "      <th>jp_sales</th>\n",
       "      <th>other_sales</th>\n",
       "      <th>critic_score</th>\n",
       "      <th>user_score</th>\n",
       "      <th>rating</th>\n",
       "      <th>total_sales</th>\n",
       "    </tr>\n",
       "  </thead>\n",
       "  <tbody>\n",
       "    <tr>\n",
       "      <th>31</th>\n",
       "      <td>Call of Duty: Black Ops 3</td>\n",
       "      <td>PS4</td>\n",
       "      <td>2015.0</td>\n",
       "      <td>Shooter</td>\n",
       "      <td>6.03</td>\n",
       "      <td>5.86</td>\n",
       "      <td>0.36</td>\n",
       "      <td>2.38</td>\n",
       "      <td>NaN</td>\n",
       "      <td>NaN</td>\n",
       "      <td>NaN</td>\n",
       "      <td>14.63</td>\n",
       "    </tr>\n",
       "    <tr>\n",
       "      <th>77</th>\n",
       "      <td>FIFA 16</td>\n",
       "      <td>PS4</td>\n",
       "      <td>2015.0</td>\n",
       "      <td>Sports</td>\n",
       "      <td>1.12</td>\n",
       "      <td>6.12</td>\n",
       "      <td>0.06</td>\n",
       "      <td>1.28</td>\n",
       "      <td>82.0</td>\n",
       "      <td>4.3</td>\n",
       "      <td>E</td>\n",
       "      <td>8.58</td>\n",
       "    </tr>\n",
       "    <tr>\n",
       "      <th>87</th>\n",
       "      <td>Star Wars Battlefront (2015)</td>\n",
       "      <td>PS4</td>\n",
       "      <td>2015.0</td>\n",
       "      <td>Shooter</td>\n",
       "      <td>2.99</td>\n",
       "      <td>3.49</td>\n",
       "      <td>0.22</td>\n",
       "      <td>1.28</td>\n",
       "      <td>NaN</td>\n",
       "      <td>NaN</td>\n",
       "      <td>NaN</td>\n",
       "      <td>7.98</td>\n",
       "    </tr>\n",
       "    <tr>\n",
       "      <th>94</th>\n",
       "      <td>FIFA 17</td>\n",
       "      <td>PS4</td>\n",
       "      <td>2016.0</td>\n",
       "      <td>Sports</td>\n",
       "      <td>0.66</td>\n",
       "      <td>5.75</td>\n",
       "      <td>0.08</td>\n",
       "      <td>1.11</td>\n",
       "      <td>85.0</td>\n",
       "      <td>5.0</td>\n",
       "      <td>E</td>\n",
       "      <td>7.60</td>\n",
       "    </tr>\n",
       "    <tr>\n",
       "      <th>105</th>\n",
       "      <td>Fallout 4</td>\n",
       "      <td>PS4</td>\n",
       "      <td>2015.0</td>\n",
       "      <td>Role-Playing</td>\n",
       "      <td>2.53</td>\n",
       "      <td>3.27</td>\n",
       "      <td>0.24</td>\n",
       "      <td>1.13</td>\n",
       "      <td>87.0</td>\n",
       "      <td>6.5</td>\n",
       "      <td>M</td>\n",
       "      <td>7.17</td>\n",
       "    </tr>\n",
       "  </tbody>\n",
       "</table>\n",
       "</div>"
      ],
      "text/plain": [
       "                             name platform  year_of_release         genre  \\\n",
       "31      Call of Duty: Black Ops 3      PS4           2015.0       Shooter   \n",
       "77                        FIFA 16      PS4           2015.0        Sports   \n",
       "87   Star Wars Battlefront (2015)      PS4           2015.0       Shooter   \n",
       "94                        FIFA 17      PS4           2016.0        Sports   \n",
       "105                     Fallout 4      PS4           2015.0  Role-Playing   \n",
       "\n",
       "     na_sales  eu_sales  jp_sales  other_sales  critic_score  user_score  \\\n",
       "31       6.03      5.86      0.36         2.38           NaN         NaN   \n",
       "77       1.12      6.12      0.06         1.28          82.0         4.3   \n",
       "87       2.99      3.49      0.22         1.28           NaN         NaN   \n",
       "94       0.66      5.75      0.08         1.11          85.0         5.0   \n",
       "105      2.53      3.27      0.24         1.13          87.0         6.5   \n",
       "\n",
       "    rating  total_sales  \n",
       "31     NaN        14.63  \n",
       "77       E         8.58  \n",
       "87     NaN         7.98  \n",
       "94       E         7.60  \n",
       "105      M         7.17  "
      ]
     },
     "execution_count": 43,
     "metadata": {},
     "output_type": "execute_result"
    }
   ],
   "source": [
    "ps4 = games.query('platform == \"PS4\"')\n",
    "ps4.head()"
   ]
  },
  {
   "cell_type": "code",
   "execution_count": 44,
   "metadata": {},
   "outputs": [
    {
     "data": {
      "text/plain": [
       "<AxesSubplot:xlabel='total_sales', ylabel='critic_score'>"
      ]
     },
     "execution_count": 44,
     "metadata": {},
     "output_type": "execute_result"
    },
    {
     "data": {
      "image/png": "[encoded data removed]",
      "text/plain": [
       "<Figure size 432x288 with 1 Axes>"
      ]
     },
     "metadata": {
      "needs_background": "light"
     },
     "output_type": "display_data"
    }
   ],
   "source": [
    "ps4.plot(x='total_sales', y='critic_score', kind='scatter')"
   ]
  },
  {
   "cell_type": "code",
   "execution_count": 45,
   "metadata": {},
   "outputs": [
    {
     "data": {
      "text/plain": [
       "<AxesSubplot:xlabel='total_sales', ylabel='user_score'>"
      ]
     },
     "execution_count": 45,
     "metadata": {},
     "output_type": "execute_result"
    },
    {
     "data": {
      "image/png": "[encoded data removed]",
      "text/plain": [
       "<Figure size 432x288 with 1 Axes>"
      ]
     },
     "metadata": {
      "needs_background": "light"
     },
     "output_type": "display_data"
    }
   ],
   "source": [
    "ps4.plot(x='total_sales', y='user_score', kind='scatter')"
   ]
  },
  {
   "cell_type": "code",
   "execution_count": 46,
   "metadata": {},
   "outputs": [
    {
     "data": {
      "text/plain": [
       "-0.05973845712638215"
      ]
     },
     "execution_count": 46,
     "metadata": {},
     "output_type": "execute_result"
    }
   ],
   "source": [
    "ps4['total_sales'].corr(ps4['user_score'])"
   ]
  },
  {
   "cell_type": "code",
   "execution_count": 47,
   "metadata": {},
   "outputs": [
    {
     "data": {
      "text/plain": [
       "0.3928485555130601"
      ]
     },
     "execution_count": 47,
     "metadata": {},
     "output_type": "execute_result"
    }
   ],
   "source": [
    "ps4['total_sales'].corr(ps4['critic_score'])"
   ]
  },
  {
   "cell_type": "markdown",
   "metadata": {},
   "source": [
    "Опять же корреляция присутствует, но совсем небольшая. У критиков все-таки чутьё лучше, они чаще одобряют прибыльные проекты. Но в общей сложности говорить о взимосвязи не стоит."
   ]
  },
  {
   "cell_type": "markdown",
   "metadata": {},
   "source": [
    "##### X360"
   ]
  },
  {
   "cell_type": "code",
   "execution_count": 48,
   "metadata": {},
   "outputs": [
    {
     "data": {
      "text/html": [
       "<div>\n",
       "<style scoped>\n",
       "    .dataframe tbody tr th:only-of-type {\n",
       "        vertical-align: middle;\n",
       "    }\n",
       "\n",
       "    .dataframe tbody tr th {\n",
       "        vertical-align: top;\n",
       "    }\n",
       "\n",
       "    .dataframe thead th {\n",
       "        text-align: right;\n",
       "    }\n",
       "</style>\n",
       "<table border=\"1\" class=\"dataframe\">\n",
       "  <thead>\n",
       "    <tr style=\"text-align: right;\">\n",
       "      <th></th>\n",
       "      <th>name</th>\n",
       "      <th>platform</th>\n",
       "      <th>year_of_release</th>\n",
       "      <th>genre</th>\n",
       "      <th>na_sales</th>\n",
       "      <th>eu_sales</th>\n",
       "      <th>jp_sales</th>\n",
       "      <th>other_sales</th>\n",
       "      <th>critic_score</th>\n",
       "      <th>user_score</th>\n",
       "      <th>rating</th>\n",
       "      <th>total_sales</th>\n",
       "    </tr>\n",
       "  </thead>\n",
       "  <tbody>\n",
       "    <tr>\n",
       "      <th>1049</th>\n",
       "      <td>Call of Duty: Black Ops 3</td>\n",
       "      <td>X360</td>\n",
       "      <td>2015.0</td>\n",
       "      <td>Shooter</td>\n",
       "      <td>1.14</td>\n",
       "      <td>0.40</td>\n",
       "      <td>0.0</td>\n",
       "      <td>0.16</td>\n",
       "      <td>NaN</td>\n",
       "      <td>NaN</td>\n",
       "      <td>NaN</td>\n",
       "      <td>1.70</td>\n",
       "    </tr>\n",
       "    <tr>\n",
       "      <th>1182</th>\n",
       "      <td>FIFA 16</td>\n",
       "      <td>X360</td>\n",
       "      <td>2015.0</td>\n",
       "      <td>Sports</td>\n",
       "      <td>0.57</td>\n",
       "      <td>0.88</td>\n",
       "      <td>0.0</td>\n",
       "      <td>0.12</td>\n",
       "      <td>NaN</td>\n",
       "      <td>2.9</td>\n",
       "      <td>E</td>\n",
       "      <td>1.57</td>\n",
       "    </tr>\n",
       "    <tr>\n",
       "      <th>2114</th>\n",
       "      <td>Madden NFL 16</td>\n",
       "      <td>X360</td>\n",
       "      <td>2015.0</td>\n",
       "      <td>Sports</td>\n",
       "      <td>0.85</td>\n",
       "      <td>0.02</td>\n",
       "      <td>0.0</td>\n",
       "      <td>0.10</td>\n",
       "      <td>NaN</td>\n",
       "      <td>5.1</td>\n",
       "      <td>E</td>\n",
       "      <td>0.97</td>\n",
       "    </tr>\n",
       "    <tr>\n",
       "      <th>2183</th>\n",
       "      <td>NBA 2K16</td>\n",
       "      <td>X360</td>\n",
       "      <td>2015.0</td>\n",
       "      <td>Sports</td>\n",
       "      <td>0.79</td>\n",
       "      <td>0.05</td>\n",
       "      <td>0.0</td>\n",
       "      <td>0.10</td>\n",
       "      <td>NaN</td>\n",
       "      <td>3.2</td>\n",
       "      <td>E</td>\n",
       "      <td>0.94</td>\n",
       "    </tr>\n",
       "    <tr>\n",
       "      <th>2360</th>\n",
       "      <td>Minecraft: Story Mode</td>\n",
       "      <td>X360</td>\n",
       "      <td>2015.0</td>\n",
       "      <td>Adventure</td>\n",
       "      <td>0.48</td>\n",
       "      <td>0.33</td>\n",
       "      <td>0.0</td>\n",
       "      <td>0.08</td>\n",
       "      <td>NaN</td>\n",
       "      <td>NaN</td>\n",
       "      <td>NaN</td>\n",
       "      <td>0.89</td>\n",
       "    </tr>\n",
       "  </tbody>\n",
       "</table>\n",
       "</div>"
      ],
      "text/plain": [
       "                           name platform  year_of_release      genre  \\\n",
       "1049  Call of Duty: Black Ops 3     X360           2015.0    Shooter   \n",
       "1182                    FIFA 16     X360           2015.0     Sports   \n",
       "2114              Madden NFL 16     X360           2015.0     Sports   \n",
       "2183                   NBA 2K16     X360           2015.0     Sports   \n",
       "2360      Minecraft: Story Mode     X360           2015.0  Adventure   \n",
       "\n",
       "      na_sales  eu_sales  jp_sales  other_sales  critic_score  user_score  \\\n",
       "1049      1.14      0.40       0.0         0.16           NaN         NaN   \n",
       "1182      0.57      0.88       0.0         0.12           NaN         2.9   \n",
       "2114      0.85      0.02       0.0         0.10           NaN         5.1   \n",
       "2183      0.79      0.05       0.0         0.10           NaN         3.2   \n",
       "2360      0.48      0.33       0.0         0.08           NaN         NaN   \n",
       "\n",
       "     rating  total_sales  \n",
       "1049    NaN         1.70  \n",
       "1182      E         1.57  \n",
       "2114      E         0.97  \n",
       "2183      E         0.94  \n",
       "2360    NaN         0.89  "
      ]
     },
     "execution_count": 48,
     "metadata": {},
     "output_type": "execute_result"
    }
   ],
   "source": [
    "x360 = games.query('platform == \"X360\"')\n",
    "x360.head()"
   ]
  },
  {
   "cell_type": "code",
   "execution_count": 49,
   "metadata": {},
   "outputs": [
    {
     "data": {
      "text/plain": [
       "<AxesSubplot:xlabel='total_sales', ylabel='critic_score'>"
      ]
     },
     "execution_count": 49,
     "metadata": {},
     "output_type": "execute_result"
    },
    {
     "data": {
      "image/png": "[encoded data removed]",
      "text/plain": [
       "<Figure size 432x288 with 1 Axes>"
      ]
     },
     "metadata": {
      "needs_background": "light"
     },
     "output_type": "display_data"
    }
   ],
   "source": [
    "x360.plot(x='total_sales', y='critic_score', kind='scatter')"
   ]
  },
  {
   "cell_type": "code",
   "execution_count": 50,
   "metadata": {},
   "outputs": [
    {
     "data": {
      "text/plain": [
       "<AxesSubplot:xlabel='total_sales', ylabel='user_score'>"
      ]
     },
     "execution_count": 50,
     "metadata": {},
     "output_type": "execute_result"
    },
    {
     "data": {
      "image/png": "[encoded data removed]",
      "text/plain": [
       "<Figure size 432x288 with 1 Axes>"
      ]
     },
     "metadata": {
      "needs_background": "light"
     },
     "output_type": "display_data"
    }
   ],
   "source": [
    "x360.plot(x='total_sales', y='user_score', kind='scatter')"
   ]
  },
  {
   "cell_type": "code",
   "execution_count": 51,
   "metadata": {},
   "outputs": [
    {
     "data": {
      "text/plain": [
       "-0.2813082274094897"
      ]
     },
     "execution_count": 51,
     "metadata": {},
     "output_type": "execute_result"
    }
   ],
   "source": [
    "x360['total_sales'].corr(x360['user_score'])"
   ]
  },
  {
   "cell_type": "code",
   "execution_count": 52,
   "metadata": {},
   "outputs": [
    {
     "data": {
      "text/plain": [
       "nan"
      ]
     },
     "execution_count": 52,
     "metadata": {},
     "output_type": "execute_result"
    }
   ],
   "source": [
    "x360['total_sales'].corr(x360['critic_score'])"
   ]
  },
  {
   "cell_type": "markdown",
   "metadata": {},
   "source": [
    "У платформы X360 очевидно нет никакой взаимосвязи между оценками критиков или пользователей и продажами. Коэффициенты Пирсона нам это показывают наглядно."
   ]
  },
  {
   "cell_type": "markdown",
   "metadata": {},
   "source": [
    "Можно смело делать вывод о том, что XOne не является исключением, и что такое поведение характерно для всех платформ нашей выборки: никакой ярковыраженной взаимосвязи между оценками пользователей, критиков и продажами игр нет. Есть небольшая связь между оценками критиков и продажами: чем выше оценки, тем выше продажи. Но она очень незначительная, поэтому выводов о прямой взаимосвЯзи я бы делать не стала."
   ]
  },
  {
   "cell_type": "markdown",
   "metadata": {},
   "source": [
    "### Посмотрим на общее распределение игр по жанрам. Найдем самых прибыльные жанры. Посмотрим, выделяются ли жанры с высокими и низкими продажами."
   ]
  },
  {
   "cell_type": "markdown",
   "metadata": {},
   "source": [
    "Для корректного анализа данных будем использовать медианное значение показателей total_sales:"
   ]
  },
  {
   "cell_type": "code",
   "execution_count": 53,
   "metadata": {},
   "outputs": [
    {
     "data": {
      "text/html": [
       "<div>\n",
       "<style scoped>\n",
       "    .dataframe tbody tr th:only-of-type {\n",
       "        vertical-align: middle;\n",
       "    }\n",
       "\n",
       "    .dataframe tbody tr th {\n",
       "        vertical-align: top;\n",
       "    }\n",
       "\n",
       "    .dataframe thead th {\n",
       "        text-align: right;\n",
       "    }\n",
       "</style>\n",
       "<table border=\"1\" class=\"dataframe\">\n",
       "  <thead>\n",
       "    <tr style=\"text-align: right;\">\n",
       "      <th></th>\n",
       "      <th>total_sales</th>\n",
       "    </tr>\n",
       "    <tr>\n",
       "      <th>genre</th>\n",
       "      <th></th>\n",
       "    </tr>\n",
       "  </thead>\n",
       "  <tbody>\n",
       "    <tr>\n",
       "      <th>Action</th>\n",
       "      <td>0.090</td>\n",
       "    </tr>\n",
       "    <tr>\n",
       "      <th>Adventure</th>\n",
       "      <td>0.050</td>\n",
       "    </tr>\n",
       "    <tr>\n",
       "      <th>Fighting</th>\n",
       "      <td>0.205</td>\n",
       "    </tr>\n",
       "    <tr>\n",
       "      <th>Misc</th>\n",
       "      <td>0.080</td>\n",
       "    </tr>\n",
       "    <tr>\n",
       "      <th>Platform</th>\n",
       "      <td>0.120</td>\n",
       "    </tr>\n",
       "    <tr>\n",
       "      <th>Puzzle</th>\n",
       "      <td>0.045</td>\n",
       "    </tr>\n",
       "    <tr>\n",
       "      <th>Racing</th>\n",
       "      <td>0.095</td>\n",
       "    </tr>\n",
       "    <tr>\n",
       "      <th>Role-Playing</th>\n",
       "      <td>0.205</td>\n",
       "    </tr>\n",
       "    <tr>\n",
       "      <th>Shooter</th>\n",
       "      <td>0.570</td>\n",
       "    </tr>\n",
       "    <tr>\n",
       "      <th>Simulation</th>\n",
       "      <td>0.140</td>\n",
       "    </tr>\n",
       "    <tr>\n",
       "      <th>Sports</th>\n",
       "      <td>0.175</td>\n",
       "    </tr>\n",
       "    <tr>\n",
       "      <th>Strategy</th>\n",
       "      <td>0.070</td>\n",
       "    </tr>\n",
       "  </tbody>\n",
       "</table>\n",
       "</div>"
      ],
      "text/plain": [
       "              total_sales\n",
       "genre                    \n",
       "Action              0.090\n",
       "Adventure           0.050\n",
       "Fighting            0.205\n",
       "Misc                0.080\n",
       "Platform            0.120\n",
       "Puzzle              0.045\n",
       "Racing              0.095\n",
       "Role-Playing        0.205\n",
       "Shooter             0.570\n",
       "Simulation          0.140\n",
       "Sports              0.175\n",
       "Strategy            0.070"
      ]
     },
     "execution_count": 53,
     "metadata": {},
     "output_type": "execute_result"
    }
   ],
   "source": [
    "genres = games_top.pivot_table(index='genre', values = 'total_sales', aggfunc = 'median')\n",
    "genres"
   ]
  },
  {
   "cell_type": "code",
   "execution_count": 54,
   "metadata": {},
   "outputs": [
    {
     "data": {
      "text/plain": [
       "<AxesSubplot:xlabel='genre'>"
      ]
     },
     "execution_count": 54,
     "metadata": {},
     "output_type": "execute_result"
    },
    {
     "data": {
      "image/png": "[encoded data removed]",
      "text/plain": [
       "<Figure size 432x288 with 1 Axes>"
      ]
     },
     "metadata": {
      "needs_background": "light"
     },
     "output_type": "display_data"
    }
   ],
   "source": [
    "genres.plot(kind='bar')"
   ]
  },
  {
   "cell_type": "markdown",
   "metadata": {},
   "source": [
    "Самыми прибыльным жанром очевидно является  Shooter, второе место практически разделяют Fidhting, Sports и Role-Playing.Самые низкие продажи у жанра Puzzle, однако не силён отрыв между ним и Adventure, Strategy, Misc. Т.е. можно сказать, что очевидный лидер имеется."
   ]
  },
  {
   "cell_type": "markdown",
   "metadata": {},
   "source": [
    "## Составьте портрет пользователя каждого региона"
   ]
  },
  {
   "cell_type": "markdown",
   "metadata": {},
   "source": [
    "### Самые популярные платформы (топ-5). Их различия в долях продаж."
   ]
  },
  {
   "cell_type": "code",
   "execution_count": 55,
   "metadata": {},
   "outputs": [
    {
     "data": {
      "image/png": "[encoded data removed]",
      "text/plain": [
       "<Figure size 360x360 with 1 Axes>"
      ]
     },
     "metadata": {},
     "output_type": "display_data"
    },
    {
     "data": {
      "image/png": "[encoded data removed]",
      "text/plain": [
       "<Figure size 360x360 with 1 Axes>"
      ]
     },
     "metadata": {},
     "output_type": "display_data"
    },
    {
     "data": {
      "image/png": "[encoded data removed]",
      "text/plain": [
       "<Figure size 360x360 with 1 Axes>"
      ]
     },
     "metadata": {},
     "output_type": "display_data"
    }
   ],
   "source": [
    "regions = ['eu_sales','na_sales', 'jp_sales']\n",
    "for i in regions:\n",
    "    (games.pivot_table(index='platform', values=i, aggfunc='sum').sort_values(by=i, ascending = False).head(5)\n",
    "                                .plot(kind='pie', y=i, figsize=(5,5), explode = (0.1, 0.05, 0.05, 0, 0), autopct= '%1.1f%%', shadow=True, title='Доля продаж в регионе'))\n",
    "plt.show()"
   ]
  },
  {
   "cell_type": "markdown",
   "metadata": {},
   "source": [
    "Итог: Вкусы европейцев и жителей Северной Америки касательно игровых платформ схож - они предпочитают PS4, в то время, как японцы скорее выберут 3DS"
   ]
  },
  {
   "cell_type": "markdown",
   "metadata": {},
   "source": [
    "### Самые популярные жанры (топ-5). В чём разница?"
   ]
  },
  {
   "cell_type": "code",
   "execution_count": 56,
   "metadata": {},
   "outputs": [
    {
     "data": {
      "image/png": "[encoded data removed]",
      "text/plain": [
       "<Figure size 360x360 with 1 Axes>"
      ]
     },
     "metadata": {},
     "output_type": "display_data"
    },
    {
     "data": {
      "image/png": "[encoded data removed]",
      "text/plain": [
       "<Figure size 360x360 with 1 Axes>"
      ]
     },
     "metadata": {},
     "output_type": "display_data"
    },
    {
     "data": {
      "image/png": "[encoded data removed]",
      "text/plain": [
       "<Figure size 360x360 with 1 Axes>"
      ]
     },
     "metadata": {},
     "output_type": "display_data"
    }
   ],
   "source": [
    "regions = ['eu_sales','na_sales', 'jp_sales']\n",
    "for i in regions:\n",
    "    (games.pivot_table(index='genre', values=i, aggfunc='sum').sort_values(by=i, ascending = False).head(5)\n",
    "                                .plot(kind='pie', y=i, figsize=(5,5), explode = (0.1, 0.05, 0.05, 0, 0), autopct= '%1.1f%%', shadow=True, title='Доля продаж в регионе'))\n",
    "plt.show()"
   ]
  },
  {
   "cell_type": "markdown",
   "metadata": {},
   "source": [
    "А вот Shooter и Action любят все, и Япония тут не исключение."
   ]
  },
  {
   "cell_type": "markdown",
   "metadata": {},
   "source": [
    "### Влияет ли рейтинг ESRB на продажи в отдельном регионе?"
   ]
  },
  {
   "cell_type": "markdown",
   "metadata": {},
   "source": [
    "Предлагаю составить сводную таблицу с рейтингами по кадому региону и посмотреть, что получится:"
   ]
  },
  {
   "cell_type": "code",
   "execution_count": 57,
   "metadata": {},
   "outputs": [
    {
     "data": {
      "text/html": [
       "<div>\n",
       "<style scoped>\n",
       "    .dataframe tbody tr th:only-of-type {\n",
       "        vertical-align: middle;\n",
       "    }\n",
       "\n",
       "    .dataframe tbody tr th {\n",
       "        vertical-align: top;\n",
       "    }\n",
       "\n",
       "    .dataframe thead th {\n",
       "        text-align: right;\n",
       "    }\n",
       "</style>\n",
       "<table border=\"1\" class=\"dataframe\">\n",
       "  <thead>\n",
       "    <tr style=\"text-align: right;\">\n",
       "      <th></th>\n",
       "      <th>eu_sales</th>\n",
       "      <th>jp_sales</th>\n",
       "      <th>na_sales</th>\n",
       "    </tr>\n",
       "    <tr>\n",
       "      <th>rating</th>\n",
       "      <th></th>\n",
       "      <th></th>\n",
       "      <th></th>\n",
       "    </tr>\n",
       "  </thead>\n",
       "  <tbody>\n",
       "    <tr>\n",
       "      <th>E</th>\n",
       "      <td>34.83</td>\n",
       "      <td>5.25</td>\n",
       "      <td>26.59</td>\n",
       "    </tr>\n",
       "    <tr>\n",
       "      <th>E10+</th>\n",
       "      <td>11.54</td>\n",
       "      <td>3.27</td>\n",
       "      <td>17.87</td>\n",
       "    </tr>\n",
       "    <tr>\n",
       "      <th>M</th>\n",
       "      <td>45.54</td>\n",
       "      <td>4.29</td>\n",
       "      <td>47.03</td>\n",
       "    </tr>\n",
       "    <tr>\n",
       "      <th>T</th>\n",
       "      <td>20.32</td>\n",
       "      <td>7.70</td>\n",
       "      <td>22.86</td>\n",
       "    </tr>\n",
       "  </tbody>\n",
       "</table>\n",
       "</div>"
      ],
      "text/plain": [
       "        eu_sales  jp_sales  na_sales\n",
       "rating                              \n",
       "E          34.83      5.25     26.59\n",
       "E10+       11.54      3.27     17.87\n",
       "M          45.54      4.29     47.03\n",
       "T          20.32      7.70     22.86"
      ]
     },
     "execution_count": 57,
     "metadata": {},
     "output_type": "execute_result"
    }
   ],
   "source": [
    "ratings = games.pivot_table(index='rating', values=['eu_sales','na_sales', 'jp_sales'], aggfunc='sum')\n",
    "ratings"
   ]
  },
  {
   "cell_type": "markdown",
   "metadata": {},
   "source": [
    "Попробуем визуализировать данные:"
   ]
  },
  {
   "cell_type": "code",
   "execution_count": 58,
   "metadata": {},
   "outputs": [
    {
     "data": {
      "text/plain": [
       "<AxesSubplot:xlabel='rating'>"
      ]
     },
     "execution_count": 58,
     "metadata": {},
     "output_type": "execute_result"
    },
    {
     "data": {
      "image/png": "[encoded data removed]",
      "text/plain": [
       "<Figure size 432x288 with 1 Axes>"
      ]
     },
     "metadata": {
      "needs_background": "light"
     },
     "output_type": "display_data"
    }
   ],
   "source": [
    "ratings.plot(kind='bar')"
   ]
  },
  {
   "cell_type": "markdown",
   "metadata": {},
   "source": [
    "Очевидно, что самые популярные рейтинги в Европе и Северной Америке - M - для взрослых. В Японии же предпочитают T - для подростков."
   ]
  },
  {
   "cell_type": "markdown",
   "metadata": {},
   "source": [
    "В качестве вывода проведенного исследования можно сказать следующее: европейцы и североамериканцы очень схожи в своих вкусах и касательно игровых платформ, и касательно рейтингов игр. Япония - островное государство со своими вкусами практически во всем. Игры в этом смысле исключением не стали."
   ]
  },
  {
   "cell_type": "markdown",
   "metadata": {},
   "source": [
    "## Проверьте гипотезы"
   ]
  },
  {
   "cell_type": "markdown",
   "metadata": {},
   "source": [
    "### Средние пользовательские рейтинги платформ Xbox One и PC одинаковые."
   ]
  },
  {
   "cell_type": "markdown",
   "metadata": {},
   "source": [
    "Мы будем проверять гипотезу о равенстве средних двух генеральных совокупностей по имеющимся выборкам. Поведение платформы Xbox One никак не зависит от поведения платформы PC так что наши совокупности независимы друг от друга. Т.о. мы можем применить для проверки гипотез  t-критерий Стьюдента (независимые выборки) - у нас для этого есть одно препятствие (выборки разного размера, о равенстве их дисперсий нельзя утверждать с уверенностью), но для того, чтобы его обойти есть equal_var=False).\n",
    "Для начала сформулируем нулевую и альтернативную гипотезы. H₀ всегда формулируется так, чтобы использовать знак равенства:\n",
    "\n",
    "1. H0: средний пользовательский рейтинг платформ Xbox One и PC одинаковый\n",
    "2. H1: средний пользовательский рейтинг платформ Xbox One и PC различается\n",
    "\n",
    "Сначала сформируем необходимые нам массивы данных."
   ]
  },
  {
   "cell_type": "code",
   "execution_count": 59,
   "metadata": {},
   "outputs": [
    {
     "data": {
      "text/html": [
       "<div>\n",
       "<style scoped>\n",
       "    .dataframe tbody tr th:only-of-type {\n",
       "        vertical-align: middle;\n",
       "    }\n",
       "\n",
       "    .dataframe tbody tr th {\n",
       "        vertical-align: top;\n",
       "    }\n",
       "\n",
       "    .dataframe thead th {\n",
       "        text-align: right;\n",
       "    }\n",
       "</style>\n",
       "<table border=\"1\" class=\"dataframe\">\n",
       "  <thead>\n",
       "    <tr style=\"text-align: right;\">\n",
       "      <th></th>\n",
       "      <th>name</th>\n",
       "      <th>platform</th>\n",
       "      <th>year_of_release</th>\n",
       "      <th>genre</th>\n",
       "      <th>na_sales</th>\n",
       "      <th>eu_sales</th>\n",
       "      <th>jp_sales</th>\n",
       "      <th>other_sales</th>\n",
       "      <th>critic_score</th>\n",
       "      <th>user_score</th>\n",
       "      <th>rating</th>\n",
       "      <th>total_sales</th>\n",
       "    </tr>\n",
       "  </thead>\n",
       "  <tbody>\n",
       "    <tr>\n",
       "      <th>99</th>\n",
       "      <td>Call of Duty: Black Ops 3</td>\n",
       "      <td>XOne</td>\n",
       "      <td>2015.0</td>\n",
       "      <td>Shooter</td>\n",
       "      <td>4.59</td>\n",
       "      <td>2.11</td>\n",
       "      <td>0.01</td>\n",
       "      <td>0.68</td>\n",
       "      <td>NaN</td>\n",
       "      <td>NaN</td>\n",
       "      <td>NaN</td>\n",
       "      <td>7.39</td>\n",
       "    </tr>\n",
       "    <tr>\n",
       "      <th>242</th>\n",
       "      <td>Halo 5: Guardians</td>\n",
       "      <td>XOne</td>\n",
       "      <td>2015.0</td>\n",
       "      <td>Shooter</td>\n",
       "      <td>2.78</td>\n",
       "      <td>1.27</td>\n",
       "      <td>0.03</td>\n",
       "      <td>0.41</td>\n",
       "      <td>84.0</td>\n",
       "      <td>6.4</td>\n",
       "      <td>T</td>\n",
       "      <td>4.49</td>\n",
       "    </tr>\n",
       "    <tr>\n",
       "      <th>270</th>\n",
       "      <td>Fallout 4</td>\n",
       "      <td>XOne</td>\n",
       "      <td>2015.0</td>\n",
       "      <td>Role-Playing</td>\n",
       "      <td>2.51</td>\n",
       "      <td>1.32</td>\n",
       "      <td>0.01</td>\n",
       "      <td>0.38</td>\n",
       "      <td>88.0</td>\n",
       "      <td>6.2</td>\n",
       "      <td>M</td>\n",
       "      <td>4.22</td>\n",
       "    </tr>\n",
       "    <tr>\n",
       "      <th>342</th>\n",
       "      <td>Star Wars Battlefront (2015)</td>\n",
       "      <td>XOne</td>\n",
       "      <td>2015.0</td>\n",
       "      <td>Shooter</td>\n",
       "      <td>2.04</td>\n",
       "      <td>1.28</td>\n",
       "      <td>0.02</td>\n",
       "      <td>0.32</td>\n",
       "      <td>NaN</td>\n",
       "      <td>NaN</td>\n",
       "      <td>NaN</td>\n",
       "      <td>3.66</td>\n",
       "    </tr>\n",
       "    <tr>\n",
       "      <th>413</th>\n",
       "      <td>Gears of War: Ultimate Edition</td>\n",
       "      <td>XOne</td>\n",
       "      <td>2015.0</td>\n",
       "      <td>Shooter</td>\n",
       "      <td>2.61</td>\n",
       "      <td>0.33</td>\n",
       "      <td>0.00</td>\n",
       "      <td>0.34</td>\n",
       "      <td>82.0</td>\n",
       "      <td>7.5</td>\n",
       "      <td>M</td>\n",
       "      <td>3.28</td>\n",
       "    </tr>\n",
       "  </tbody>\n",
       "</table>\n",
       "</div>"
      ],
      "text/plain": [
       "                               name platform  year_of_release         genre  \\\n",
       "99        Call of Duty: Black Ops 3     XOne           2015.0       Shooter   \n",
       "242               Halo 5: Guardians     XOne           2015.0       Shooter   \n",
       "270                       Fallout 4     XOne           2015.0  Role-Playing   \n",
       "342    Star Wars Battlefront (2015)     XOne           2015.0       Shooter   \n",
       "413  Gears of War: Ultimate Edition     XOne           2015.0       Shooter   \n",
       "\n",
       "     na_sales  eu_sales  jp_sales  other_sales  critic_score  user_score  \\\n",
       "99       4.59      2.11      0.01         0.68           NaN         NaN   \n",
       "242      2.78      1.27      0.03         0.41          84.0         6.4   \n",
       "270      2.51      1.32      0.01         0.38          88.0         6.2   \n",
       "342      2.04      1.28      0.02         0.32           NaN         NaN   \n",
       "413      2.61      0.33      0.00         0.34          82.0         7.5   \n",
       "\n",
       "    rating  total_sales  \n",
       "99     NaN         7.39  \n",
       "242      T         4.49  \n",
       "270      M         4.22  \n",
       "342    NaN         3.66  \n",
       "413      M         3.28  "
      ]
     },
     "execution_count": 59,
     "metadata": {},
     "output_type": "execute_result"
    }
   ],
   "source": [
    "games_xbox_one = games.query('platform == \"XOne\"')\n",
    "games_xbox_one.head()"
   ]
  },
  {
   "cell_type": "code",
   "execution_count": 60,
   "metadata": {},
   "outputs": [
    {
     "data": {
      "text/plain": [
       "99     NaN\n",
       "242    6.4\n",
       "270    6.2\n",
       "342    NaN\n",
       "413    7.5\n",
       "Name: user_score, dtype: float64"
      ]
     },
     "execution_count": 60,
     "metadata": {},
     "output_type": "execute_result"
    }
   ],
   "source": [
    "xbox_one = games_xbox_one['user_score']\n",
    "xbox_one.head()"
   ]
  },
  {
   "cell_type": "code",
   "execution_count": 61,
   "metadata": {},
   "outputs": [
    {
     "data": {
      "text/html": [
       "<div>\n",
       "<style scoped>\n",
       "    .dataframe tbody tr th:only-of-type {\n",
       "        vertical-align: middle;\n",
       "    }\n",
       "\n",
       "    .dataframe tbody tr th {\n",
       "        vertical-align: top;\n",
       "    }\n",
       "\n",
       "    .dataframe thead th {\n",
       "        text-align: right;\n",
       "    }\n",
       "</style>\n",
       "<table border=\"1\" class=\"dataframe\">\n",
       "  <thead>\n",
       "    <tr style=\"text-align: right;\">\n",
       "      <th></th>\n",
       "      <th>name</th>\n",
       "      <th>platform</th>\n",
       "      <th>year_of_release</th>\n",
       "      <th>genre</th>\n",
       "      <th>na_sales</th>\n",
       "      <th>eu_sales</th>\n",
       "      <th>jp_sales</th>\n",
       "      <th>other_sales</th>\n",
       "      <th>critic_score</th>\n",
       "      <th>user_score</th>\n",
       "      <th>rating</th>\n",
       "      <th>total_sales</th>\n",
       "    </tr>\n",
       "  </thead>\n",
       "  <tbody>\n",
       "    <tr>\n",
       "      <th>1530</th>\n",
       "      <td>Fallout 4</td>\n",
       "      <td>PC</td>\n",
       "      <td>2015.0</td>\n",
       "      <td>Role-Playing</td>\n",
       "      <td>0.51</td>\n",
       "      <td>0.67</td>\n",
       "      <td>0.0</td>\n",
       "      <td>0.10</td>\n",
       "      <td>84.0</td>\n",
       "      <td>5.4</td>\n",
       "      <td>M</td>\n",
       "      <td>1.28</td>\n",
       "    </tr>\n",
       "    <tr>\n",
       "      <th>1730</th>\n",
       "      <td>Grand Theft Auto V</td>\n",
       "      <td>PC</td>\n",
       "      <td>2015.0</td>\n",
       "      <td>Action</td>\n",
       "      <td>0.39</td>\n",
       "      <td>0.69</td>\n",
       "      <td>0.0</td>\n",
       "      <td>0.09</td>\n",
       "      <td>96.0</td>\n",
       "      <td>7.9</td>\n",
       "      <td>M</td>\n",
       "      <td>1.17</td>\n",
       "    </tr>\n",
       "    <tr>\n",
       "      <th>2851</th>\n",
       "      <td>The Witcher 3: Wild Hunt</td>\n",
       "      <td>PC</td>\n",
       "      <td>2015.0</td>\n",
       "      <td>Role-Playing</td>\n",
       "      <td>0.21</td>\n",
       "      <td>0.46</td>\n",
       "      <td>0.0</td>\n",
       "      <td>0.05</td>\n",
       "      <td>93.0</td>\n",
       "      <td>9.3</td>\n",
       "      <td>M</td>\n",
       "      <td>0.72</td>\n",
       "    </tr>\n",
       "    <tr>\n",
       "      <th>3123</th>\n",
       "      <td>Farming Simulator 17</td>\n",
       "      <td>PC</td>\n",
       "      <td>2016.0</td>\n",
       "      <td>Simulation</td>\n",
       "      <td>0.03</td>\n",
       "      <td>0.58</td>\n",
       "      <td>0.0</td>\n",
       "      <td>0.04</td>\n",
       "      <td>64.0</td>\n",
       "      <td>8.0</td>\n",
       "      <td>E</td>\n",
       "      <td>0.65</td>\n",
       "    </tr>\n",
       "    <tr>\n",
       "      <th>3666</th>\n",
       "      <td>Star Wars Battlefront (2015)</td>\n",
       "      <td>PC</td>\n",
       "      <td>2015.0</td>\n",
       "      <td>Shooter</td>\n",
       "      <td>0.13</td>\n",
       "      <td>0.38</td>\n",
       "      <td>0.0</td>\n",
       "      <td>0.04</td>\n",
       "      <td>NaN</td>\n",
       "      <td>NaN</td>\n",
       "      <td>NaN</td>\n",
       "      <td>0.55</td>\n",
       "    </tr>\n",
       "  </tbody>\n",
       "</table>\n",
       "</div>"
      ],
      "text/plain": [
       "                              name platform  year_of_release         genre  \\\n",
       "1530                     Fallout 4       PC           2015.0  Role-Playing   \n",
       "1730            Grand Theft Auto V       PC           2015.0        Action   \n",
       "2851      The Witcher 3: Wild Hunt       PC           2015.0  Role-Playing   \n",
       "3123          Farming Simulator 17       PC           2016.0    Simulation   \n",
       "3666  Star Wars Battlefront (2015)       PC           2015.0       Shooter   \n",
       "\n",
       "      na_sales  eu_sales  jp_sales  other_sales  critic_score  user_score  \\\n",
       "1530      0.51      0.67       0.0         0.10          84.0         5.4   \n",
       "1730      0.39      0.69       0.0         0.09          96.0         7.9   \n",
       "2851      0.21      0.46       0.0         0.05          93.0         9.3   \n",
       "3123      0.03      0.58       0.0         0.04          64.0         8.0   \n",
       "3666      0.13      0.38       0.0         0.04           NaN         NaN   \n",
       "\n",
       "     rating  total_sales  \n",
       "1530      M         1.28  \n",
       "1730      M         1.17  \n",
       "2851      M         0.72  \n",
       "3123      E         0.65  \n",
       "3666    NaN         0.55  "
      ]
     },
     "execution_count": 61,
     "metadata": {},
     "output_type": "execute_result"
    }
   ],
   "source": [
    "games_pc = games.query('platform == \"PC\"')\n",
    "games_pc.head()"
   ]
  },
  {
   "cell_type": "code",
   "execution_count": 62,
   "metadata": {},
   "outputs": [
    {
     "data": {
      "text/plain": [
       "1530    5.4\n",
       "1730    7.9\n",
       "2851    9.3\n",
       "3123    8.0\n",
       "3666    NaN\n",
       "Name: user_score, dtype: float64"
      ]
     },
     "execution_count": 62,
     "metadata": {},
     "output_type": "execute_result"
    }
   ],
   "source": [
    "pc = games_pc['user_score']\n",
    "pc.head()"
   ]
  },
  {
   "cell_type": "markdown",
   "metadata": {},
   "source": [
    "Так как срезы у нас разные, параметр equal_var установим как False. Установим в качестве критического уровня статистической значимости alpha классическое значение в 0,05 и проверим нашу гипотезу:"
   ]
  },
  {
   "cell_type": "code",
   "execution_count": 63,
   "metadata": {},
   "outputs": [
    {
     "name": "stdout",
     "output_type": "stream",
     "text": [
      "р-значение: 0.2946308864003399\n",
      "Не получилось опровергнуть нулевую гипотезу\n"
     ]
    }
   ],
   "source": [
    "alpha = 0.05\n",
    "results = st.ttest_ind(\n",
    "    xbox_one,\n",
    "    pc,\n",
    "    equal_var=False,\n",
    "    nan_policy='omit')\n",
    "print('р-значение:', results.pvalue)\n",
    "if results.pvalue < alpha:\n",
    "    print('Отвергаем нулевую гипотезу')\n",
    "else:\n",
    "    print('Не получилось опровергнуть нулевую гипотезу')"
   ]
  },
  {
   "cell_type": "markdown",
   "metadata": {},
   "source": [
    "Получается, что скорее всего средний пользовательский рейтинг платформ Xbox One и PC одинаковый."
   ]
  },
  {
   "cell_type": "markdown",
   "metadata": {},
   "source": [
    "### Средние пользовательские рейтинги жанров Action (англ. «действие», экшен-игры) и Sports (англ. «спортивные соревнования») разные."
   ]
  },
  {
   "cell_type": "markdown",
   "metadata": {},
   "source": [
    "Мы будем проверять гипотезу о равенстве средних двух генеральных совокупностей по имеющимся выборкам. Поведение поведение пользовательских рейтингов разных жанров никак не зависи друг от друга, так что наши совокупности независимы друг от друга. Т.о. мы можем применить для проверки гипотез  t-критерий Стьюдента (независимые выборки) - у нас для этого есть одно препятствие (выборки разного размера, о равенстве их дисперсий нельзя утверждать с уверенностью), но для того, чтобы его обойти есть equal_var=False).\n",
    "Для начала сформулируем нулевую и альтернативную гипотезы. H₀ всегда формулируется так, чтобы использовать знак равенства:\n",
    "\n",
    "1. H0: средний пользовательский рейтинг жанров Action и Sports одинаковый\n",
    "2. H1: средний пользовательский рейтинг жанров Action и Sports различается\n",
    "\n",
    "Сначала сформируем необходимые нам массивы данных."
   ]
  },
  {
   "cell_type": "code",
   "execution_count": 64,
   "metadata": {},
   "outputs": [
    {
     "data": {
      "text/html": [
       "<div>\n",
       "<style scoped>\n",
       "    .dataframe tbody tr th:only-of-type {\n",
       "        vertical-align: middle;\n",
       "    }\n",
       "\n",
       "    .dataframe tbody tr th {\n",
       "        vertical-align: top;\n",
       "    }\n",
       "\n",
       "    .dataframe thead th {\n",
       "        text-align: right;\n",
       "    }\n",
       "</style>\n",
       "<table border=\"1\" class=\"dataframe\">\n",
       "  <thead>\n",
       "    <tr style=\"text-align: right;\">\n",
       "      <th></th>\n",
       "      <th>name</th>\n",
       "      <th>platform</th>\n",
       "      <th>year_of_release</th>\n",
       "      <th>genre</th>\n",
       "      <th>na_sales</th>\n",
       "      <th>eu_sales</th>\n",
       "      <th>jp_sales</th>\n",
       "      <th>other_sales</th>\n",
       "      <th>critic_score</th>\n",
       "      <th>user_score</th>\n",
       "      <th>rating</th>\n",
       "      <th>total_sales</th>\n",
       "    </tr>\n",
       "  </thead>\n",
       "  <tbody>\n",
       "    <tr>\n",
       "      <th>231</th>\n",
       "      <td>Uncharted: The Nathan Drake Collection</td>\n",
       "      <td>PS4</td>\n",
       "      <td>2015.0</td>\n",
       "      <td>Action</td>\n",
       "      <td>2.07</td>\n",
       "      <td>1.71</td>\n",
       "      <td>0.08</td>\n",
       "      <td>0.76</td>\n",
       "      <td>86.0</td>\n",
       "      <td>8.1</td>\n",
       "      <td>T</td>\n",
       "      <td>4.62</td>\n",
       "    </tr>\n",
       "    <tr>\n",
       "      <th>305</th>\n",
       "      <td>Batman: Arkham Knight</td>\n",
       "      <td>PS4</td>\n",
       "      <td>2015.0</td>\n",
       "      <td>Action</td>\n",
       "      <td>1.53</td>\n",
       "      <td>1.69</td>\n",
       "      <td>0.10</td>\n",
       "      <td>0.64</td>\n",
       "      <td>87.0</td>\n",
       "      <td>7.6</td>\n",
       "      <td>M</td>\n",
       "      <td>3.96</td>\n",
       "    </tr>\n",
       "    <tr>\n",
       "      <th>390</th>\n",
       "      <td>Metal Gear Solid V: The Phantom Pain</td>\n",
       "      <td>PS4</td>\n",
       "      <td>2015.0</td>\n",
       "      <td>Action</td>\n",
       "      <td>1.09</td>\n",
       "      <td>1.36</td>\n",
       "      <td>0.49</td>\n",
       "      <td>0.48</td>\n",
       "      <td>93.0</td>\n",
       "      <td>8.2</td>\n",
       "      <td>M</td>\n",
       "      <td>3.42</td>\n",
       "    </tr>\n",
       "    <tr>\n",
       "      <th>396</th>\n",
       "      <td>Assassin's Creed Syndicate</td>\n",
       "      <td>PS4</td>\n",
       "      <td>2015.0</td>\n",
       "      <td>Action</td>\n",
       "      <td>0.81</td>\n",
       "      <td>1.99</td>\n",
       "      <td>0.07</td>\n",
       "      <td>0.52</td>\n",
       "      <td>76.0</td>\n",
       "      <td>6.8</td>\n",
       "      <td>M</td>\n",
       "      <td>3.39</td>\n",
       "    </tr>\n",
       "    <tr>\n",
       "      <th>406</th>\n",
       "      <td>Monster Hunter X</td>\n",
       "      <td>3DS</td>\n",
       "      <td>2015.0</td>\n",
       "      <td>Action</td>\n",
       "      <td>0.27</td>\n",
       "      <td>0.21</td>\n",
       "      <td>2.79</td>\n",
       "      <td>0.05</td>\n",
       "      <td>NaN</td>\n",
       "      <td>NaN</td>\n",
       "      <td>NaN</td>\n",
       "      <td>3.32</td>\n",
       "    </tr>\n",
       "  </tbody>\n",
       "</table>\n",
       "</div>"
      ],
      "text/plain": [
       "                                       name platform  year_of_release   genre  \\\n",
       "231  Uncharted: The Nathan Drake Collection      PS4           2015.0  Action   \n",
       "305                   Batman: Arkham Knight      PS4           2015.0  Action   \n",
       "390    Metal Gear Solid V: The Phantom Pain      PS4           2015.0  Action   \n",
       "396              Assassin's Creed Syndicate      PS4           2015.0  Action   \n",
       "406                        Monster Hunter X      3DS           2015.0  Action   \n",
       "\n",
       "     na_sales  eu_sales  jp_sales  other_sales  critic_score  user_score  \\\n",
       "231      2.07      1.71      0.08         0.76          86.0         8.1   \n",
       "305      1.53      1.69      0.10         0.64          87.0         7.6   \n",
       "390      1.09      1.36      0.49         0.48          93.0         8.2   \n",
       "396      0.81      1.99      0.07         0.52          76.0         6.8   \n",
       "406      0.27      0.21      2.79         0.05           NaN         NaN   \n",
       "\n",
       "    rating  total_sales  \n",
       "231      T         4.62  \n",
       "305      M         3.96  \n",
       "390      M         3.42  \n",
       "396      M         3.39  \n",
       "406    NaN         3.32  "
      ]
     },
     "execution_count": 64,
     "metadata": {},
     "output_type": "execute_result"
    }
   ],
   "source": [
    "games_action = games.query('genre == \"Action\"')\n",
    "games_action.head()"
   ]
  },
  {
   "cell_type": "code",
   "execution_count": 65,
   "metadata": {},
   "outputs": [
    {
     "data": {
      "text/plain": [
       "231    8.1\n",
       "305    7.6\n",
       "390    8.2\n",
       "396    6.8\n",
       "406    NaN\n",
       "Name: user_score, dtype: float64"
      ]
     },
     "execution_count": 65,
     "metadata": {},
     "output_type": "execute_result"
    }
   ],
   "source": [
    "action = games_action['user_score']\n",
    "action.head()"
   ]
  },
  {
   "cell_type": "code",
   "execution_count": 66,
   "metadata": {},
   "outputs": [
    {
     "data": {
      "text/html": [
       "<div>\n",
       "<style scoped>\n",
       "    .dataframe tbody tr th:only-of-type {\n",
       "        vertical-align: middle;\n",
       "    }\n",
       "\n",
       "    .dataframe tbody tr th {\n",
       "        vertical-align: top;\n",
       "    }\n",
       "\n",
       "    .dataframe thead th {\n",
       "        text-align: right;\n",
       "    }\n",
       "</style>\n",
       "<table border=\"1\" class=\"dataframe\">\n",
       "  <thead>\n",
       "    <tr style=\"text-align: right;\">\n",
       "      <th></th>\n",
       "      <th>name</th>\n",
       "      <th>platform</th>\n",
       "      <th>year_of_release</th>\n",
       "      <th>genre</th>\n",
       "      <th>na_sales</th>\n",
       "      <th>eu_sales</th>\n",
       "      <th>jp_sales</th>\n",
       "      <th>other_sales</th>\n",
       "      <th>critic_score</th>\n",
       "      <th>user_score</th>\n",
       "      <th>rating</th>\n",
       "      <th>total_sales</th>\n",
       "    </tr>\n",
       "  </thead>\n",
       "  <tbody>\n",
       "    <tr>\n",
       "      <th>77</th>\n",
       "      <td>FIFA 16</td>\n",
       "      <td>PS4</td>\n",
       "      <td>2015.0</td>\n",
       "      <td>Sports</td>\n",
       "      <td>1.12</td>\n",
       "      <td>6.12</td>\n",
       "      <td>0.06</td>\n",
       "      <td>1.28</td>\n",
       "      <td>82.0</td>\n",
       "      <td>4.3</td>\n",
       "      <td>E</td>\n",
       "      <td>8.58</td>\n",
       "    </tr>\n",
       "    <tr>\n",
       "      <th>94</th>\n",
       "      <td>FIFA 17</td>\n",
       "      <td>PS4</td>\n",
       "      <td>2016.0</td>\n",
       "      <td>Sports</td>\n",
       "      <td>0.66</td>\n",
       "      <td>5.75</td>\n",
       "      <td>0.08</td>\n",
       "      <td>1.11</td>\n",
       "      <td>85.0</td>\n",
       "      <td>5.0</td>\n",
       "      <td>E</td>\n",
       "      <td>7.60</td>\n",
       "    </tr>\n",
       "    <tr>\n",
       "      <th>314</th>\n",
       "      <td>NBA 2K16</td>\n",
       "      <td>PS4</td>\n",
       "      <td>2015.0</td>\n",
       "      <td>Sports</td>\n",
       "      <td>2.49</td>\n",
       "      <td>0.66</td>\n",
       "      <td>0.03</td>\n",
       "      <td>0.69</td>\n",
       "      <td>87.0</td>\n",
       "      <td>6.7</td>\n",
       "      <td>E10+</td>\n",
       "      <td>3.87</td>\n",
       "    </tr>\n",
       "    <tr>\n",
       "      <th>417</th>\n",
       "      <td>FIFA 16</td>\n",
       "      <td>XOne</td>\n",
       "      <td>2015.0</td>\n",
       "      <td>Sports</td>\n",
       "      <td>0.89</td>\n",
       "      <td>2.12</td>\n",
       "      <td>0.00</td>\n",
       "      <td>0.24</td>\n",
       "      <td>84.0</td>\n",
       "      <td>4.4</td>\n",
       "      <td>E</td>\n",
       "      <td>3.25</td>\n",
       "    </tr>\n",
       "    <tr>\n",
       "      <th>420</th>\n",
       "      <td>Madden NFL 16</td>\n",
       "      <td>PS4</td>\n",
       "      <td>2015.0</td>\n",
       "      <td>Sports</td>\n",
       "      <td>2.34</td>\n",
       "      <td>0.30</td>\n",
       "      <td>0.00</td>\n",
       "      <td>0.60</td>\n",
       "      <td>83.0</td>\n",
       "      <td>5.9</td>\n",
       "      <td>E</td>\n",
       "      <td>3.24</td>\n",
       "    </tr>\n",
       "  </tbody>\n",
       "</table>\n",
       "</div>"
      ],
      "text/plain": [
       "              name platform  year_of_release   genre  na_sales  eu_sales  \\\n",
       "77         FIFA 16      PS4           2015.0  Sports      1.12      6.12   \n",
       "94         FIFA 17      PS4           2016.0  Sports      0.66      5.75   \n",
       "314       NBA 2K16      PS4           2015.0  Sports      2.49      0.66   \n",
       "417        FIFA 16     XOne           2015.0  Sports      0.89      2.12   \n",
       "420  Madden NFL 16      PS4           2015.0  Sports      2.34      0.30   \n",
       "\n",
       "     jp_sales  other_sales  critic_score  user_score rating  total_sales  \n",
       "77       0.06         1.28          82.0         4.3      E         8.58  \n",
       "94       0.08         1.11          85.0         5.0      E         7.60  \n",
       "314      0.03         0.69          87.0         6.7   E10+         3.87  \n",
       "417      0.00         0.24          84.0         4.4      E         3.25  \n",
       "420      0.00         0.60          83.0         5.9      E         3.24  "
      ]
     },
     "execution_count": 66,
     "metadata": {},
     "output_type": "execute_result"
    }
   ],
   "source": [
    "games_sports = games.query('genre == \"Sports\"')\n",
    "games_sports.head()"
   ]
  },
  {
   "cell_type": "code",
   "execution_count": 67,
   "metadata": {},
   "outputs": [
    {
     "data": {
      "text/plain": [
       "77     4.3\n",
       "94     5.0\n",
       "314    6.7\n",
       "417    4.4\n",
       "420    5.9\n",
       "Name: user_score, dtype: float64"
      ]
     },
     "execution_count": 67,
     "metadata": {},
     "output_type": "execute_result"
    }
   ],
   "source": [
    "sports = games_sports['user_score']\n",
    "sports.head()"
   ]
  },
  {
   "cell_type": "markdown",
   "metadata": {},
   "source": [
    "Так как срезы у нас разные, параметр equal_var установим как False. Установим в качестве критического уровня статистической значимости alpha классическое значение в 0,05 и проверим нашу гипотезу:"
   ]
  },
  {
   "cell_type": "code",
   "execution_count": 68,
   "metadata": {},
   "outputs": [
    {
     "name": "stdout",
     "output_type": "stream",
     "text": [
      "р-значение: 5.97163549920592e-10\n",
      "Отвергаем нулевую гипотезу\n"
     ]
    }
   ],
   "source": [
    "alpha = 0.05\n",
    "results = st.ttest_ind(\n",
    "    action,\n",
    "    sports,\n",
    "    equal_var=False,\n",
    "    nan_policy='omit')\n",
    "print('р-значение:', results.pvalue)\n",
    "if results.pvalue < alpha:\n",
    "    print('Отвергаем нулевую гипотезу')\n",
    "else:\n",
    "    print('Не получилось опровергнуть нулевую гипотезу')"
   ]
  },
  {
   "cell_type": "markdown",
   "metadata": {},
   "source": [
    "Получается, что скорее всего средний пользовательский рейтинг жанров Action и Sports различается."
   ]
  },
  {
   "cell_type": "markdown",
   "metadata": {},
   "source": [
    "## Общий вывод.\n",
    "\n"
   ]
  },
  {
   "cell_type": "markdown",
   "metadata": {},
   "source": [
    "Для анализа мы выбрали период 2015, 2016 гг. - так как они дают самые актуальные данные. \n",
    "Что касается хронологии: с 2010 года игровой бизнес пошел на спад. С чем это связан, предполагать не возьмусь, но факт остается фактом.\n",
    "Надо отметить, что на игровом рынке выпускается очень много \"шлака\", и только немногие бестселлеры определяют тенденции.\n",
    "Что касается игровых платформ, то их появление и \"вымирание\" неравномерны. Срок \"жизни\" платформы - около 8 лет, так что ориентируясь на 2015 и 2017 гг. можно смело прогнозировать 2017 год. \n",
    "Мы выявили ТОП-5 самых популярных платформ и посмотрели, какова их доля на рынках Северной Америки, Европы и Японии. Отметим, что Япония очень своеобразна в своих вкусах, так что, если планируете покрыть максимальное количество пользователей, то стоит ориентироваться на Северную Америку и Европу - эти регионы схожи по вкусам и относительно платформы: предпочитают PS4, и относительно возрастной категории игр - для взрослых. В качестве жанра стоит выбрать Shooter.\n",
    "Для проведения аналица мы провели предобработку данных - удалили в некоторых случаях пропуски, заменили типы данных. Затем мы строили графики, чтобы выяснить, сколько игр выпускалось в разные годы, как менялись продажи по платформам, как разные кретерии влияли на продажи (жанры, рейтинги, отзывы, регионы)."
   ]
  }
 ],
 "metadata": {
  "ExecuteTimeLog": [
   {
    "duration": 1227,
    "start_time": "2022-06-06T10:37:19.787Z"
   },
   {
    "duration": 117,
    "start_time": "2022-06-06T10:39:24.392Z"
   },
   {
    "duration": 16,
    "start_time": "2022-06-06T10:40:34.597Z"
   },
   {
    "duration": 4,
    "start_time": "2022-06-06T10:48:24.207Z"
   },
   {
    "duration": 82,
    "start_time": "2022-06-06T14:43:02.752Z"
   },
   {
    "duration": 1438,
    "start_time": "2022-06-06T14:43:13.855Z"
   },
   {
    "duration": 266,
    "start_time": "2022-06-06T14:43:15.296Z"
   },
   {
    "duration": 16,
    "start_time": "2022-06-06T14:43:15.564Z"
   },
   {
    "duration": 167,
    "start_time": "2022-06-06T14:43:15.583Z"
   },
   {
    "duration": 8,
    "start_time": "2022-06-06T14:43:39.425Z"
   },
   {
    "duration": 14,
    "start_time": "2022-06-06T14:44:02.427Z"
   },
   {
    "duration": 11,
    "start_time": "2022-06-06T14:45:32.320Z"
   },
   {
    "duration": 9,
    "start_time": "2022-06-06T14:46:45.137Z"
   },
   {
    "duration": 8,
    "start_time": "2022-06-06T14:49:01.576Z"
   },
   {
    "duration": 1157,
    "start_time": "2022-06-06T14:50:16.562Z"
   },
   {
    "duration": 88,
    "start_time": "2022-06-06T14:50:17.721Z"
   },
   {
    "duration": 16,
    "start_time": "2022-06-06T14:50:17.811Z"
   },
   {
    "duration": 4,
    "start_time": "2022-06-06T14:50:17.829Z"
   },
   {
    "duration": 13,
    "start_time": "2022-06-06T14:55:42.647Z"
   },
   {
    "duration": 1098,
    "start_time": "2022-06-06T15:09:15.525Z"
   },
   {
    "duration": 73,
    "start_time": "2022-06-06T15:09:16.625Z"
   },
   {
    "duration": 28,
    "start_time": "2022-06-06T15:09:16.700Z"
   },
   {
    "duration": 5,
    "start_time": "2022-06-06T15:09:16.730Z"
   },
   {
    "duration": 19,
    "start_time": "2022-06-06T15:11:06.947Z"
   },
   {
    "duration": 27,
    "start_time": "2022-06-06T15:18:03.667Z"
   },
   {
    "duration": 21,
    "start_time": "2022-06-06T15:19:33.621Z"
   },
   {
    "duration": 1413,
    "start_time": "2022-06-06T15:19:46.294Z"
   },
   {
    "duration": 85,
    "start_time": "2022-06-06T15:19:47.710Z"
   },
   {
    "duration": 28,
    "start_time": "2022-06-06T15:19:47.797Z"
   },
   {
    "duration": 11,
    "start_time": "2022-06-06T15:19:47.828Z"
   },
   {
    "duration": 26,
    "start_time": "2022-06-06T15:19:47.841Z"
   },
   {
    "duration": 19,
    "start_time": "2022-06-06T15:20:01.846Z"
   },
   {
    "duration": 141,
    "start_time": "2022-06-06T15:20:28.388Z"
   },
   {
    "duration": 40,
    "start_time": "2022-06-06T15:20:35.408Z"
   },
   {
    "duration": 880,
    "start_time": "2022-06-06T15:20:47.186Z"
   },
   {
    "duration": 1177,
    "start_time": "2022-06-06T15:20:57.554Z"
   },
   {
    "duration": 95,
    "start_time": "2022-06-06T15:20:58.734Z"
   },
   {
    "duration": 14,
    "start_time": "2022-06-06T15:20:58.831Z"
   },
   {
    "duration": 5,
    "start_time": "2022-06-06T15:20:58.847Z"
   },
   {
    "duration": 22,
    "start_time": "2022-06-06T15:20:58.854Z"
   },
   {
    "duration": 4,
    "start_time": "2022-06-06T15:22:16.378Z"
   },
   {
    "duration": 28,
    "start_time": "2022-06-06T15:22:24.058Z"
   },
   {
    "duration": 1277,
    "start_time": "2022-06-06T15:23:04.588Z"
   },
   {
    "duration": 104,
    "start_time": "2022-06-06T15:23:05.869Z"
   },
   {
    "duration": 43,
    "start_time": "2022-06-06T15:23:05.980Z"
   },
   {
    "duration": 7,
    "start_time": "2022-06-06T15:23:06.034Z"
   },
   {
    "duration": 50,
    "start_time": "2022-06-06T15:23:06.044Z"
   },
   {
    "duration": 33,
    "start_time": "2022-06-06T15:23:14.594Z"
   },
   {
    "duration": 20,
    "start_time": "2022-06-06T15:27:04.024Z"
   },
   {
    "duration": 7,
    "start_time": "2022-06-06T15:28:36.437Z"
   },
   {
    "duration": 8,
    "start_time": "2022-06-06T15:28:59.253Z"
   },
   {
    "duration": 8,
    "start_time": "2022-06-06T15:29:06.838Z"
   },
   {
    "duration": 17,
    "start_time": "2022-06-06T15:29:17.227Z"
   },
   {
    "duration": 1165,
    "start_time": "2022-06-06T15:30:31.970Z"
   },
   {
    "duration": 90,
    "start_time": "2022-06-06T15:30:33.137Z"
   },
   {
    "duration": 15,
    "start_time": "2022-06-06T15:30:33.232Z"
   },
   {
    "duration": 5,
    "start_time": "2022-06-06T15:30:33.249Z"
   },
   {
    "duration": 22,
    "start_time": "2022-06-06T15:30:33.255Z"
   },
   {
    "duration": 30,
    "start_time": "2022-06-06T15:30:33.279Z"
   },
   {
    "duration": 134,
    "start_time": "2022-06-06T15:30:33.314Z"
   },
   {
    "duration": 5,
    "start_time": "2022-06-06T15:33:10.140Z"
   },
   {
    "duration": 10,
    "start_time": "2022-06-06T15:36:14.349Z"
   },
   {
    "duration": 18,
    "start_time": "2022-06-06T15:36:19.862Z"
   },
   {
    "duration": 10,
    "start_time": "2022-06-06T15:38:47.686Z"
   },
   {
    "duration": 33,
    "start_time": "2022-06-06T15:45:18.753Z"
   },
   {
    "duration": 25,
    "start_time": "2022-06-06T15:45:40.223Z"
   },
   {
    "duration": 32,
    "start_time": "2022-06-06T15:46:13.408Z"
   },
   {
    "duration": 64,
    "start_time": "2022-06-06T15:47:39.435Z"
   },
   {
    "duration": 33,
    "start_time": "2022-06-06T15:48:06.078Z"
   },
   {
    "duration": 16,
    "start_time": "2022-06-06T15:53:46.372Z"
   },
   {
    "duration": 1074,
    "start_time": "2022-06-06T15:53:59.443Z"
   },
   {
    "duration": 74,
    "start_time": "2022-06-06T15:54:00.519Z"
   },
   {
    "duration": 14,
    "start_time": "2022-06-06T15:54:00.595Z"
   },
   {
    "duration": 9,
    "start_time": "2022-06-06T15:54:00.611Z"
   },
   {
    "duration": 40,
    "start_time": "2022-06-06T15:54:00.622Z"
   },
   {
    "duration": 47,
    "start_time": "2022-06-06T15:54:00.664Z"
   },
   {
    "duration": 39,
    "start_time": "2022-06-06T15:54:00.712Z"
   },
   {
    "duration": 58,
    "start_time": "2022-06-06T15:54:00.753Z"
   },
   {
    "duration": 23,
    "start_time": "2022-06-06T15:54:00.813Z"
   },
   {
    "duration": 11,
    "start_time": "2022-06-06T15:58:48.286Z"
   },
   {
    "duration": 52,
    "start_time": "2022-06-07T06:53:38.569Z"
   },
   {
    "duration": 1206,
    "start_time": "2022-06-07T06:53:46.920Z"
   },
   {
    "duration": 115,
    "start_time": "2022-06-07T06:53:48.128Z"
   },
   {
    "duration": 13,
    "start_time": "2022-06-07T06:53:48.244Z"
   },
   {
    "duration": 4,
    "start_time": "2022-06-07T06:53:48.259Z"
   },
   {
    "duration": 21,
    "start_time": "2022-06-07T06:53:48.264Z"
   },
   {
    "duration": 15,
    "start_time": "2022-06-07T06:53:48.286Z"
   },
   {
    "duration": 30,
    "start_time": "2022-06-07T06:53:48.302Z"
   },
   {
    "duration": 4,
    "start_time": "2022-06-07T06:53:48.333Z"
   },
   {
    "duration": 8,
    "start_time": "2022-06-07T06:53:48.339Z"
   },
   {
    "duration": 6,
    "start_time": "2022-06-07T06:53:48.349Z"
   },
   {
    "duration": 0,
    "start_time": "2022-06-07T06:53:48.357Z"
   },
   {
    "duration": 13,
    "start_time": "2022-06-07T06:54:11.312Z"
   },
   {
    "duration": 15,
    "start_time": "2022-06-07T06:54:25.519Z"
   },
   {
    "duration": 5,
    "start_time": "2022-06-07T06:56:52.347Z"
   },
   {
    "duration": 990,
    "start_time": "2022-06-07T06:57:07.527Z"
   },
   {
    "duration": 67,
    "start_time": "2022-06-07T06:57:08.519Z"
   },
   {
    "duration": 12,
    "start_time": "2022-06-07T06:57:08.587Z"
   },
   {
    "duration": 13,
    "start_time": "2022-06-07T06:57:08.601Z"
   },
   {
    "duration": 5,
    "start_time": "2022-06-07T06:57:08.615Z"
   },
   {
    "duration": 20,
    "start_time": "2022-06-07T06:57:08.621Z"
   },
   {
    "duration": 5,
    "start_time": "2022-06-07T06:57:08.642Z"
   },
   {
    "duration": 4,
    "start_time": "2022-06-07T06:57:08.649Z"
   },
   {
    "duration": 8,
    "start_time": "2022-06-07T06:57:08.655Z"
   },
   {
    "duration": 6,
    "start_time": "2022-06-07T06:57:08.665Z"
   },
   {
    "duration": 0,
    "start_time": "2022-06-07T06:57:08.672Z"
   },
   {
    "duration": 17,
    "start_time": "2022-06-07T06:58:22.582Z"
   },
   {
    "duration": 15,
    "start_time": "2022-06-07T06:58:35.869Z"
   },
   {
    "duration": 16,
    "start_time": "2022-06-07T07:01:17.078Z"
   },
   {
    "duration": 5,
    "start_time": "2022-06-07T07:03:31.345Z"
   },
   {
    "duration": 9,
    "start_time": "2022-06-07T07:03:42.186Z"
   },
   {
    "duration": 11,
    "start_time": "2022-06-07T07:06:18.156Z"
   },
   {
    "duration": 15,
    "start_time": "2022-06-07T07:08:25.596Z"
   },
   {
    "duration": 17,
    "start_time": "2022-06-07T07:45:40.866Z"
   },
   {
    "duration": 22,
    "start_time": "2022-06-07T07:46:32.948Z"
   },
   {
    "duration": 25,
    "start_time": "2022-06-07T07:47:07.466Z"
   },
   {
    "duration": 55,
    "start_time": "2022-06-07T11:18:13.760Z"
   },
   {
    "duration": 1215,
    "start_time": "2022-06-07T11:18:19.906Z"
   },
   {
    "duration": 114,
    "start_time": "2022-06-07T11:18:21.123Z"
   },
   {
    "duration": 14,
    "start_time": "2022-06-07T11:18:21.239Z"
   },
   {
    "duration": 16,
    "start_time": "2022-06-07T11:18:21.255Z"
   },
   {
    "duration": 5,
    "start_time": "2022-06-07T11:18:21.273Z"
   },
   {
    "duration": 20,
    "start_time": "2022-06-07T11:18:21.280Z"
   },
   {
    "duration": 18,
    "start_time": "2022-06-07T11:18:21.326Z"
   },
   {
    "duration": 6,
    "start_time": "2022-06-07T11:18:21.346Z"
   },
   {
    "duration": 7,
    "start_time": "2022-06-07T11:18:21.354Z"
   },
   {
    "duration": 7,
    "start_time": "2022-06-07T11:18:21.363Z"
   },
   {
    "duration": 13,
    "start_time": "2022-06-07T11:18:21.371Z"
   },
   {
    "duration": 45,
    "start_time": "2022-06-07T11:18:21.386Z"
   },
   {
    "duration": 9,
    "start_time": "2022-06-07T11:18:21.432Z"
   },
   {
    "duration": 10,
    "start_time": "2022-06-07T11:18:21.442Z"
   },
   {
    "duration": 1123,
    "start_time": "2022-06-07T11:21:58.109Z"
   },
   {
    "duration": 106,
    "start_time": "2022-06-07T11:21:59.234Z"
   },
   {
    "duration": 14,
    "start_time": "2022-06-07T11:21:59.342Z"
   },
   {
    "duration": 21,
    "start_time": "2022-06-07T11:21:59.359Z"
   },
   {
    "duration": 6,
    "start_time": "2022-06-07T11:21:59.382Z"
   },
   {
    "duration": 19,
    "start_time": "2022-06-07T11:21:59.390Z"
   },
   {
    "duration": 33,
    "start_time": "2022-06-07T11:21:59.410Z"
   },
   {
    "duration": 8,
    "start_time": "2022-06-07T11:21:59.445Z"
   },
   {
    "duration": 9,
    "start_time": "2022-06-07T11:21:59.454Z"
   },
   {
    "duration": 8,
    "start_time": "2022-06-07T11:21:59.466Z"
   },
   {
    "duration": 14,
    "start_time": "2022-06-07T11:21:59.476Z"
   },
   {
    "duration": 44,
    "start_time": "2022-06-07T11:21:59.492Z"
   },
   {
    "duration": 9,
    "start_time": "2022-06-07T11:21:59.538Z"
   },
   {
    "duration": 7,
    "start_time": "2022-06-07T11:21:59.548Z"
   },
   {
    "duration": 7,
    "start_time": "2022-06-07T11:24:29.161Z"
   },
   {
    "duration": 477,
    "start_time": "2022-06-07T11:31:43.512Z"
   },
   {
    "duration": 1047,
    "start_time": "2022-06-07T11:31:49.264Z"
   },
   {
    "duration": 79,
    "start_time": "2022-06-07T11:31:50.312Z"
   },
   {
    "duration": 14,
    "start_time": "2022-06-07T11:31:50.393Z"
   },
   {
    "duration": 34,
    "start_time": "2022-06-07T11:31:50.409Z"
   },
   {
    "duration": 30,
    "start_time": "2022-06-07T11:31:50.445Z"
   },
   {
    "duration": 16,
    "start_time": "2022-06-07T11:31:50.477Z"
   },
   {
    "duration": 67,
    "start_time": "2022-06-07T11:31:50.495Z"
   },
   {
    "duration": 27,
    "start_time": "2022-06-07T11:31:50.563Z"
   },
   {
    "duration": 25,
    "start_time": "2022-06-07T11:31:50.591Z"
   },
   {
    "duration": 29,
    "start_time": "2022-06-07T11:31:50.618Z"
   },
   {
    "duration": 32,
    "start_time": "2022-06-07T11:31:50.649Z"
   },
   {
    "duration": 28,
    "start_time": "2022-06-07T11:31:50.683Z"
   },
   {
    "duration": 44,
    "start_time": "2022-06-07T11:31:50.712Z"
   },
   {
    "duration": 36,
    "start_time": "2022-06-07T11:31:50.758Z"
   },
   {
    "duration": 54,
    "start_time": "2022-06-07T11:31:50.795Z"
   },
   {
    "duration": 29,
    "start_time": "2022-06-07T11:31:50.850Z"
   },
   {
    "duration": 595,
    "start_time": "2022-06-07T11:37:35.469Z"
   },
   {
    "duration": 1241,
    "start_time": "2022-06-07T11:37:46.646Z"
   },
   {
    "duration": 84,
    "start_time": "2022-06-07T11:37:47.889Z"
   },
   {
    "duration": 16,
    "start_time": "2022-06-07T11:37:47.976Z"
   },
   {
    "duration": 15,
    "start_time": "2022-06-07T11:37:47.994Z"
   },
   {
    "duration": 36,
    "start_time": "2022-06-07T11:37:48.011Z"
   },
   {
    "duration": 11,
    "start_time": "2022-06-07T11:37:48.048Z"
   },
   {
    "duration": 28,
    "start_time": "2022-06-07T11:37:48.061Z"
   },
   {
    "duration": 16,
    "start_time": "2022-06-07T11:37:48.091Z"
   },
   {
    "duration": 19,
    "start_time": "2022-06-07T11:37:48.109Z"
   },
   {
    "duration": 25,
    "start_time": "2022-06-07T11:37:48.132Z"
   },
   {
    "duration": 7,
    "start_time": "2022-06-07T11:37:48.158Z"
   },
   {
    "duration": 14,
    "start_time": "2022-06-07T11:37:48.167Z"
   },
   {
    "duration": 18,
    "start_time": "2022-06-07T11:37:48.183Z"
   },
   {
    "duration": 33,
    "start_time": "2022-06-07T11:37:48.203Z"
   },
   {
    "duration": 14,
    "start_time": "2022-06-07T11:37:48.239Z"
   },
   {
    "duration": 13,
    "start_time": "2022-06-07T11:37:48.257Z"
   },
   {
    "duration": 519,
    "start_time": "2022-06-07T11:42:04.225Z"
   },
   {
    "duration": 486,
    "start_time": "2022-06-07T11:42:07.698Z"
   },
   {
    "duration": 1024,
    "start_time": "2022-06-07T11:42:14.598Z"
   },
   {
    "duration": 74,
    "start_time": "2022-06-07T11:42:15.624Z"
   },
   {
    "duration": 13,
    "start_time": "2022-06-07T11:42:15.700Z"
   },
   {
    "duration": 28,
    "start_time": "2022-06-07T11:42:15.714Z"
   },
   {
    "duration": 19,
    "start_time": "2022-06-07T11:42:15.744Z"
   },
   {
    "duration": 5,
    "start_time": "2022-06-07T11:42:15.764Z"
   },
   {
    "duration": 24,
    "start_time": "2022-06-07T11:42:15.771Z"
   },
   {
    "duration": 43,
    "start_time": "2022-06-07T11:42:15.797Z"
   },
   {
    "duration": 7,
    "start_time": "2022-06-07T11:42:15.845Z"
   },
   {
    "duration": 7,
    "start_time": "2022-06-07T11:42:15.856Z"
   },
   {
    "duration": 5,
    "start_time": "2022-06-07T11:42:15.864Z"
   },
   {
    "duration": 16,
    "start_time": "2022-06-07T11:42:15.871Z"
   },
   {
    "duration": 16,
    "start_time": "2022-06-07T11:42:15.888Z"
   },
   {
    "duration": 36,
    "start_time": "2022-06-07T11:42:15.906Z"
   },
   {
    "duration": 10,
    "start_time": "2022-06-07T11:42:15.944Z"
   },
   {
    "duration": 6,
    "start_time": "2022-06-07T11:42:15.956Z"
   },
   {
    "duration": 566,
    "start_time": "2022-06-07T11:43:31.714Z"
   },
   {
    "duration": 1105,
    "start_time": "2022-06-07T11:43:39.008Z"
   },
   {
    "duration": 73,
    "start_time": "2022-06-07T11:43:40.115Z"
   },
   {
    "duration": 13,
    "start_time": "2022-06-07T11:43:40.190Z"
   },
   {
    "duration": 24,
    "start_time": "2022-06-07T11:43:40.205Z"
   },
   {
    "duration": 15,
    "start_time": "2022-06-07T11:43:40.230Z"
   },
   {
    "duration": 16,
    "start_time": "2022-06-07T11:43:40.247Z"
   },
   {
    "duration": 5,
    "start_time": "2022-06-07T11:43:40.265Z"
   },
   {
    "duration": 21,
    "start_time": "2022-06-07T11:43:40.272Z"
   },
   {
    "duration": 47,
    "start_time": "2022-06-07T11:43:40.295Z"
   },
   {
    "duration": 6,
    "start_time": "2022-06-07T11:43:40.345Z"
   },
   {
    "duration": 13,
    "start_time": "2022-06-07T11:43:40.353Z"
   },
   {
    "duration": 4,
    "start_time": "2022-06-07T11:43:40.368Z"
   },
   {
    "duration": 9,
    "start_time": "2022-06-07T11:43:40.374Z"
   },
   {
    "duration": 14,
    "start_time": "2022-06-07T11:43:40.385Z"
   },
   {
    "duration": 41,
    "start_time": "2022-06-07T11:43:40.401Z"
   },
   {
    "duration": 10,
    "start_time": "2022-06-07T11:43:40.444Z"
   },
   {
    "duration": 7,
    "start_time": "2022-06-07T11:43:40.455Z"
   },
   {
    "duration": 122,
    "start_time": "2022-06-07T11:44:22.729Z"
   },
   {
    "duration": 1035,
    "start_time": "2022-06-07T11:44:28.560Z"
   },
   {
    "duration": 74,
    "start_time": "2022-06-07T11:44:29.597Z"
   },
   {
    "duration": 25,
    "start_time": "2022-06-07T11:44:29.673Z"
   },
   {
    "duration": 22,
    "start_time": "2022-06-07T11:44:29.701Z"
   },
   {
    "duration": 14,
    "start_time": "2022-06-07T11:44:29.725Z"
   },
   {
    "duration": 26,
    "start_time": "2022-06-07T11:44:29.741Z"
   },
   {
    "duration": 5,
    "start_time": "2022-06-07T11:44:29.769Z"
   },
   {
    "duration": 26,
    "start_time": "2022-06-07T11:44:29.775Z"
   },
   {
    "duration": 15,
    "start_time": "2022-06-07T11:44:29.803Z"
   },
   {
    "duration": 17,
    "start_time": "2022-06-07T11:44:29.826Z"
   },
   {
    "duration": 8,
    "start_time": "2022-06-07T11:44:29.844Z"
   },
   {
    "duration": 6,
    "start_time": "2022-06-07T11:44:29.854Z"
   },
   {
    "duration": 13,
    "start_time": "2022-06-07T11:44:29.861Z"
   },
   {
    "duration": 11,
    "start_time": "2022-06-07T11:44:29.876Z"
   },
   {
    "duration": 13,
    "start_time": "2022-06-07T11:44:29.889Z"
   },
   {
    "duration": 24,
    "start_time": "2022-06-07T11:44:29.904Z"
   },
   {
    "duration": 22,
    "start_time": "2022-06-07T11:44:29.933Z"
   },
   {
    "duration": 165,
    "start_time": "2022-06-07T12:00:25.595Z"
   },
   {
    "duration": 1159,
    "start_time": "2022-06-07T12:00:33.802Z"
   },
   {
    "duration": 82,
    "start_time": "2022-06-07T12:00:34.963Z"
   },
   {
    "duration": 19,
    "start_time": "2022-06-07T12:00:35.047Z"
   },
   {
    "duration": 15,
    "start_time": "2022-06-07T12:00:35.070Z"
   },
   {
    "duration": 10,
    "start_time": "2022-06-07T12:00:35.087Z"
   },
   {
    "duration": 49,
    "start_time": "2022-06-07T12:00:35.098Z"
   },
   {
    "duration": 31,
    "start_time": "2022-06-07T12:00:35.149Z"
   },
   {
    "duration": 4,
    "start_time": "2022-06-07T12:00:35.182Z"
   },
   {
    "duration": 22,
    "start_time": "2022-06-07T12:00:35.188Z"
   },
   {
    "duration": 40,
    "start_time": "2022-06-07T12:00:35.228Z"
   },
   {
    "duration": 13,
    "start_time": "2022-06-07T12:00:35.271Z"
   },
   {
    "duration": 10,
    "start_time": "2022-06-07T12:00:35.286Z"
   },
   {
    "duration": 9,
    "start_time": "2022-06-07T12:00:35.298Z"
   },
   {
    "duration": 18,
    "start_time": "2022-06-07T12:00:35.308Z"
   },
   {
    "duration": 40,
    "start_time": "2022-06-07T12:00:35.328Z"
   },
   {
    "duration": 23,
    "start_time": "2022-06-07T12:00:35.370Z"
   },
   {
    "duration": 8,
    "start_time": "2022-06-07T12:00:35.395Z"
   },
   {
    "duration": 11,
    "start_time": "2022-06-07T12:00:35.406Z"
   },
   {
    "duration": 1054,
    "start_time": "2022-06-07T12:02:31.758Z"
   },
   {
    "duration": 86,
    "start_time": "2022-06-07T12:02:32.814Z"
   },
   {
    "duration": 13,
    "start_time": "2022-06-07T12:02:32.902Z"
   },
   {
    "duration": 17,
    "start_time": "2022-06-07T12:02:32.916Z"
   },
   {
    "duration": 22,
    "start_time": "2022-06-07T12:02:32.935Z"
   },
   {
    "duration": 21,
    "start_time": "2022-06-07T12:02:32.959Z"
   },
   {
    "duration": 20,
    "start_time": "2022-06-07T12:02:32.982Z"
   },
   {
    "duration": 9,
    "start_time": "2022-06-07T12:02:33.004Z"
   },
   {
    "duration": 39,
    "start_time": "2022-06-07T12:02:33.015Z"
   },
   {
    "duration": 18,
    "start_time": "2022-06-07T12:02:33.056Z"
   },
   {
    "duration": 7,
    "start_time": "2022-06-07T12:02:33.076Z"
   },
   {
    "duration": 12,
    "start_time": "2022-06-07T12:02:33.084Z"
   },
   {
    "duration": 8,
    "start_time": "2022-06-07T12:02:33.098Z"
   },
   {
    "duration": 26,
    "start_time": "2022-06-07T12:02:33.108Z"
   },
   {
    "duration": 43,
    "start_time": "2022-06-07T12:02:33.137Z"
   },
   {
    "duration": 22,
    "start_time": "2022-06-07T12:02:33.181Z"
   },
   {
    "duration": 12,
    "start_time": "2022-06-07T12:02:33.204Z"
   },
   {
    "duration": 11,
    "start_time": "2022-06-07T12:02:33.218Z"
   },
   {
    "duration": 1065,
    "start_time": "2022-06-07T12:02:52.058Z"
   },
   {
    "duration": 78,
    "start_time": "2022-06-07T12:02:53.125Z"
   },
   {
    "duration": 13,
    "start_time": "2022-06-07T12:02:53.205Z"
   },
   {
    "duration": 15,
    "start_time": "2022-06-07T12:02:53.220Z"
   },
   {
    "duration": 32,
    "start_time": "2022-06-07T12:02:53.238Z"
   },
   {
    "duration": 22,
    "start_time": "2022-06-07T12:02:53.272Z"
   },
   {
    "duration": 42,
    "start_time": "2022-06-07T12:02:53.296Z"
   },
   {
    "duration": 5,
    "start_time": "2022-06-07T12:02:53.343Z"
   },
   {
    "duration": 19,
    "start_time": "2022-06-07T12:02:53.350Z"
   },
   {
    "duration": 16,
    "start_time": "2022-06-07T12:02:53.371Z"
   },
   {
    "duration": 5,
    "start_time": "2022-06-07T12:02:53.388Z"
   },
   {
    "duration": 7,
    "start_time": "2022-06-07T12:02:53.395Z"
   },
   {
    "duration": 4,
    "start_time": "2022-06-07T12:02:53.404Z"
   },
   {
    "duration": 18,
    "start_time": "2022-06-07T12:02:53.428Z"
   },
   {
    "duration": 11,
    "start_time": "2022-06-07T12:02:53.448Z"
   },
   {
    "duration": 15,
    "start_time": "2022-06-07T12:02:53.461Z"
   },
   {
    "duration": 9,
    "start_time": "2022-06-07T12:02:53.478Z"
   },
   {
    "duration": 6,
    "start_time": "2022-06-07T12:02:53.489Z"
   },
   {
    "duration": 524,
    "start_time": "2022-06-07T12:03:33.500Z"
   },
   {
    "duration": 40,
    "start_time": "2022-06-07T12:04:02.905Z"
   },
   {
    "duration": 608,
    "start_time": "2022-06-07T12:04:03.692Z"
   },
   {
    "duration": 36,
    "start_time": "2022-06-07T12:04:49.610Z"
   },
   {
    "duration": 1145,
    "start_time": "2022-06-07T12:05:55.963Z"
   },
   {
    "duration": 76,
    "start_time": "2022-06-07T12:05:57.110Z"
   },
   {
    "duration": 13,
    "start_time": "2022-06-07T12:05:57.188Z"
   },
   {
    "duration": 24,
    "start_time": "2022-06-07T12:05:57.203Z"
   },
   {
    "duration": 13,
    "start_time": "2022-06-07T12:05:57.234Z"
   },
   {
    "duration": 11,
    "start_time": "2022-06-07T12:05:57.249Z"
   },
   {
    "duration": 0,
    "start_time": "2022-06-07T12:05:57.262Z"
   },
   {
    "duration": 0,
    "start_time": "2022-06-07T12:05:57.263Z"
   },
   {
    "duration": 0,
    "start_time": "2022-06-07T12:05:57.264Z"
   },
   {
    "duration": 0,
    "start_time": "2022-06-07T12:05:57.265Z"
   },
   {
    "duration": 0,
    "start_time": "2022-06-07T12:05:57.266Z"
   },
   {
    "duration": 0,
    "start_time": "2022-06-07T12:05:57.267Z"
   },
   {
    "duration": 0,
    "start_time": "2022-06-07T12:05:57.268Z"
   },
   {
    "duration": 0,
    "start_time": "2022-06-07T12:05:57.270Z"
   },
   {
    "duration": 0,
    "start_time": "2022-06-07T12:05:57.271Z"
   },
   {
    "duration": 0,
    "start_time": "2022-06-07T12:05:57.271Z"
   },
   {
    "duration": 0,
    "start_time": "2022-06-07T12:05:57.272Z"
   },
   {
    "duration": 0,
    "start_time": "2022-06-07T12:05:57.274Z"
   },
   {
    "duration": 0,
    "start_time": "2022-06-07T12:05:57.275Z"
   },
   {
    "duration": 1079,
    "start_time": "2022-06-07T12:07:00.367Z"
   },
   {
    "duration": 72,
    "start_time": "2022-06-07T12:07:01.448Z"
   },
   {
    "duration": 18,
    "start_time": "2022-06-07T12:07:01.522Z"
   },
   {
    "duration": 32,
    "start_time": "2022-06-07T12:07:01.542Z"
   },
   {
    "duration": 18,
    "start_time": "2022-06-07T12:07:01.576Z"
   },
   {
    "duration": 49,
    "start_time": "2022-06-07T12:07:01.595Z"
   },
   {
    "duration": 38,
    "start_time": "2022-06-07T12:07:01.646Z"
   },
   {
    "duration": 8,
    "start_time": "2022-06-07T12:07:01.686Z"
   },
   {
    "duration": 44,
    "start_time": "2022-06-07T12:07:01.696Z"
   },
   {
    "duration": 22,
    "start_time": "2022-06-07T12:07:01.743Z"
   },
   {
    "duration": 6,
    "start_time": "2022-06-07T12:07:01.766Z"
   },
   {
    "duration": 16,
    "start_time": "2022-06-07T12:07:01.773Z"
   },
   {
    "duration": 31,
    "start_time": "2022-06-07T12:07:01.791Z"
   },
   {
    "duration": 32,
    "start_time": "2022-06-07T12:07:01.824Z"
   },
   {
    "duration": 21,
    "start_time": "2022-06-07T12:07:01.858Z"
   },
   {
    "duration": 31,
    "start_time": "2022-06-07T12:07:01.881Z"
   },
   {
    "duration": 10,
    "start_time": "2022-06-07T12:07:01.914Z"
   },
   {
    "duration": 31,
    "start_time": "2022-06-07T12:07:01.925Z"
   },
   {
    "duration": 134,
    "start_time": "2022-06-07T12:07:52.294Z"
   },
   {
    "duration": 26,
    "start_time": "2022-06-07T12:08:08.076Z"
   },
   {
    "duration": 1100,
    "start_time": "2022-06-07T12:08:24.422Z"
   },
   {
    "duration": 76,
    "start_time": "2022-06-07T12:08:25.530Z"
   },
   {
    "duration": 15,
    "start_time": "2022-06-07T12:08:25.607Z"
   },
   {
    "duration": 33,
    "start_time": "2022-06-07T12:08:25.625Z"
   },
   {
    "duration": 10,
    "start_time": "2022-06-07T12:08:25.660Z"
   },
   {
    "duration": 24,
    "start_time": "2022-06-07T12:08:25.672Z"
   },
   {
    "duration": 4,
    "start_time": "2022-06-07T12:08:25.698Z"
   },
   {
    "duration": 38,
    "start_time": "2022-06-07T12:08:25.704Z"
   },
   {
    "duration": 17,
    "start_time": "2022-06-07T12:08:25.744Z"
   },
   {
    "duration": 5,
    "start_time": "2022-06-07T12:08:25.764Z"
   },
   {
    "duration": 11,
    "start_time": "2022-06-07T12:08:25.771Z"
   },
   {
    "duration": 4,
    "start_time": "2022-06-07T12:08:25.784Z"
   },
   {
    "duration": 11,
    "start_time": "2022-06-07T12:08:25.789Z"
   },
   {
    "duration": 11,
    "start_time": "2022-06-07T12:08:25.801Z"
   },
   {
    "duration": 20,
    "start_time": "2022-06-07T12:08:25.834Z"
   },
   {
    "duration": 9,
    "start_time": "2022-06-07T12:08:25.855Z"
   },
   {
    "duration": 8,
    "start_time": "2022-06-07T12:08:25.865Z"
   },
   {
    "duration": 6,
    "start_time": "2022-06-07T12:21:43.256Z"
   },
   {
    "duration": 6,
    "start_time": "2022-06-07T12:24:08.970Z"
   },
   {
    "duration": 993,
    "start_time": "2022-06-07T12:29:57.818Z"
   },
   {
    "duration": 67,
    "start_time": "2022-06-07T12:29:58.812Z"
   },
   {
    "duration": 11,
    "start_time": "2022-06-07T12:29:58.881Z"
   },
   {
    "duration": 14,
    "start_time": "2022-06-07T12:29:58.894Z"
   },
   {
    "duration": 8,
    "start_time": "2022-06-07T12:29:58.910Z"
   },
   {
    "duration": 19,
    "start_time": "2022-06-07T12:29:58.926Z"
   },
   {
    "duration": 4,
    "start_time": "2022-06-07T12:29:58.947Z"
   },
   {
    "duration": 21,
    "start_time": "2022-06-07T12:29:58.952Z"
   },
   {
    "duration": 14,
    "start_time": "2022-06-07T12:29:58.974Z"
   },
   {
    "duration": 5,
    "start_time": "2022-06-07T12:29:58.990Z"
   },
   {
    "duration": 9,
    "start_time": "2022-06-07T12:29:58.996Z"
   },
   {
    "duration": 22,
    "start_time": "2022-06-07T12:29:59.007Z"
   },
   {
    "duration": 8,
    "start_time": "2022-06-07T12:29:59.030Z"
   },
   {
    "duration": 10,
    "start_time": "2022-06-07T12:29:59.039Z"
   },
   {
    "duration": 16,
    "start_time": "2022-06-07T12:29:59.050Z"
   },
   {
    "duration": 7,
    "start_time": "2022-06-07T12:29:59.068Z"
   },
   {
    "duration": 8,
    "start_time": "2022-06-07T12:29:59.077Z"
   },
   {
    "duration": 13,
    "start_time": "2022-06-07T12:29:59.087Z"
   },
   {
    "duration": 437,
    "start_time": "2022-06-07T12:34:38.012Z"
   },
   {
    "duration": 1024,
    "start_time": "2022-06-07T12:34:47.088Z"
   },
   {
    "duration": 68,
    "start_time": "2022-06-07T12:34:48.114Z"
   },
   {
    "duration": 13,
    "start_time": "2022-06-07T12:34:48.183Z"
   },
   {
    "duration": 15,
    "start_time": "2022-06-07T12:34:48.197Z"
   },
   {
    "duration": 9,
    "start_time": "2022-06-07T12:34:48.213Z"
   },
   {
    "duration": 25,
    "start_time": "2022-06-07T12:34:48.224Z"
   },
   {
    "duration": 4,
    "start_time": "2022-06-07T12:34:48.250Z"
   },
   {
    "duration": 18,
    "start_time": "2022-06-07T12:34:48.255Z"
   },
   {
    "duration": 21,
    "start_time": "2022-06-07T12:34:48.275Z"
   },
   {
    "duration": 29,
    "start_time": "2022-06-07T12:34:48.299Z"
   },
   {
    "duration": 7,
    "start_time": "2022-06-07T12:34:48.330Z"
   },
   {
    "duration": 4,
    "start_time": "2022-06-07T12:34:48.339Z"
   },
   {
    "duration": 10,
    "start_time": "2022-06-07T12:34:48.345Z"
   },
   {
    "duration": 10,
    "start_time": "2022-06-07T12:34:48.357Z"
   },
   {
    "duration": 15,
    "start_time": "2022-06-07T12:34:48.368Z"
   },
   {
    "duration": 7,
    "start_time": "2022-06-07T12:34:48.385Z"
   },
   {
    "duration": 36,
    "start_time": "2022-06-07T12:34:48.393Z"
   },
   {
    "duration": 6,
    "start_time": "2022-06-07T12:34:48.431Z"
   },
   {
    "duration": 130,
    "start_time": "2022-06-07T12:34:48.438Z"
   },
   {
    "duration": 10,
    "start_time": "2022-06-07T12:35:23.607Z"
   },
   {
    "duration": 952,
    "start_time": "2022-06-07T12:35:47.264Z"
   },
   {
    "duration": 69,
    "start_time": "2022-06-07T12:35:48.217Z"
   },
   {
    "duration": 13,
    "start_time": "2022-06-07T12:35:48.287Z"
   },
   {
    "duration": 14,
    "start_time": "2022-06-07T12:35:48.302Z"
   },
   {
    "duration": 10,
    "start_time": "2022-06-07T12:35:48.318Z"
   },
   {
    "duration": 30,
    "start_time": "2022-06-07T12:35:48.329Z"
   },
   {
    "duration": 4,
    "start_time": "2022-06-07T12:35:48.360Z"
   },
   {
    "duration": 20,
    "start_time": "2022-06-07T12:35:48.365Z"
   },
   {
    "duration": 15,
    "start_time": "2022-06-07T12:35:48.386Z"
   },
   {
    "duration": 5,
    "start_time": "2022-06-07T12:35:48.402Z"
   },
   {
    "duration": 22,
    "start_time": "2022-06-07T12:35:48.409Z"
   },
   {
    "duration": 4,
    "start_time": "2022-06-07T12:35:48.432Z"
   },
   {
    "duration": 10,
    "start_time": "2022-06-07T12:35:48.437Z"
   },
   {
    "duration": 10,
    "start_time": "2022-06-07T12:35:48.449Z"
   },
   {
    "duration": 13,
    "start_time": "2022-06-07T12:35:48.461Z"
   },
   {
    "duration": 8,
    "start_time": "2022-06-07T12:35:48.475Z"
   },
   {
    "duration": 6,
    "start_time": "2022-06-07T12:35:48.484Z"
   },
   {
    "duration": 40,
    "start_time": "2022-06-07T12:35:48.491Z"
   },
   {
    "duration": 100,
    "start_time": "2022-06-07T12:35:48.533Z"
   },
   {
    "duration": 0,
    "start_time": "2022-06-07T12:35:48.635Z"
   },
   {
    "duration": 3,
    "start_time": "2022-06-07T12:36:20.111Z"
   },
   {
    "duration": 17,
    "start_time": "2022-06-07T12:36:39.866Z"
   },
   {
    "duration": 5,
    "start_time": "2022-06-07T12:37:02.851Z"
   },
   {
    "duration": 15,
    "start_time": "2022-06-07T12:37:57.403Z"
   },
   {
    "duration": 73,
    "start_time": "2022-06-07T12:47:55.463Z"
   },
   {
    "duration": 78,
    "start_time": "2022-06-07T12:48:21.885Z"
   },
   {
    "duration": 80,
    "start_time": "2022-06-07T12:48:39.712Z"
   },
   {
    "duration": 55,
    "start_time": "2022-06-07T12:48:45.122Z"
   },
   {
    "duration": 1102,
    "start_time": "2022-06-07T12:48:55.812Z"
   },
   {
    "duration": 67,
    "start_time": "2022-06-07T12:48:56.916Z"
   },
   {
    "duration": 12,
    "start_time": "2022-06-07T12:48:56.985Z"
   },
   {
    "duration": 14,
    "start_time": "2022-06-07T12:48:56.998Z"
   },
   {
    "duration": 13,
    "start_time": "2022-06-07T12:48:57.014Z"
   },
   {
    "duration": 24,
    "start_time": "2022-06-07T12:48:57.028Z"
   },
   {
    "duration": 4,
    "start_time": "2022-06-07T12:48:57.053Z"
   },
   {
    "duration": 28,
    "start_time": "2022-06-07T12:48:57.058Z"
   },
   {
    "duration": 17,
    "start_time": "2022-06-07T12:48:57.088Z"
   },
   {
    "duration": 11,
    "start_time": "2022-06-07T12:48:57.107Z"
   },
   {
    "duration": 20,
    "start_time": "2022-06-07T12:48:57.119Z"
   },
   {
    "duration": 17,
    "start_time": "2022-06-07T12:48:57.141Z"
   },
   {
    "duration": 13,
    "start_time": "2022-06-07T12:48:57.159Z"
   },
   {
    "duration": 29,
    "start_time": "2022-06-07T12:48:57.174Z"
   },
   {
    "duration": 32,
    "start_time": "2022-06-07T12:48:57.206Z"
   },
   {
    "duration": 11,
    "start_time": "2022-06-07T12:48:57.240Z"
   },
   {
    "duration": 10,
    "start_time": "2022-06-07T12:48:57.252Z"
   },
   {
    "duration": 8,
    "start_time": "2022-06-07T12:48:57.263Z"
   },
   {
    "duration": 28,
    "start_time": "2022-06-07T12:48:57.272Z"
   },
   {
    "duration": 122,
    "start_time": "2022-06-07T12:48:57.302Z"
   },
   {
    "duration": 19,
    "start_time": "2022-06-07T12:49:05.870Z"
   },
   {
    "duration": 11,
    "start_time": "2022-06-07T12:52:53.107Z"
   },
   {
    "duration": 6,
    "start_time": "2022-06-07T12:53:13.563Z"
   },
   {
    "duration": 6,
    "start_time": "2022-06-07T12:53:26.978Z"
   },
   {
    "duration": 8,
    "start_time": "2022-06-07T12:53:38.777Z"
   },
   {
    "duration": 5,
    "start_time": "2022-06-07T12:53:52.002Z"
   },
   {
    "duration": 11,
    "start_time": "2022-06-07T12:55:36.863Z"
   },
   {
    "duration": 874,
    "start_time": "2022-06-07T12:55:50.718Z"
   },
   {
    "duration": 537,
    "start_time": "2022-06-07T12:56:20.271Z"
   },
   {
    "duration": 18,
    "start_time": "2022-06-07T12:58:39.724Z"
   },
   {
    "duration": 47,
    "start_time": "2022-06-07T13:02:04.592Z"
   },
   {
    "duration": 18,
    "start_time": "2022-06-07T13:02:28.861Z"
   },
   {
    "duration": 18,
    "start_time": "2022-06-07T13:02:46.130Z"
   },
   {
    "duration": 28,
    "start_time": "2022-06-07T13:03:21.277Z"
   },
   {
    "duration": 16,
    "start_time": "2022-06-07T13:04:00.165Z"
   },
   {
    "duration": 1027,
    "start_time": "2022-06-07T13:04:06.377Z"
   },
   {
    "duration": 102,
    "start_time": "2022-06-07T13:04:07.406Z"
   },
   {
    "duration": 17,
    "start_time": "2022-06-07T13:04:07.510Z"
   },
   {
    "duration": 42,
    "start_time": "2022-06-07T13:04:07.529Z"
   },
   {
    "duration": 17,
    "start_time": "2022-06-07T13:04:07.572Z"
   },
   {
    "duration": 39,
    "start_time": "2022-06-07T13:04:07.591Z"
   },
   {
    "duration": 6,
    "start_time": "2022-06-07T13:04:07.632Z"
   },
   {
    "duration": 35,
    "start_time": "2022-06-07T13:04:07.639Z"
   },
   {
    "duration": 23,
    "start_time": "2022-06-07T13:04:07.676Z"
   },
   {
    "duration": 34,
    "start_time": "2022-06-07T13:04:07.701Z"
   },
   {
    "duration": 43,
    "start_time": "2022-06-07T13:04:07.738Z"
   },
   {
    "duration": 37,
    "start_time": "2022-06-07T13:04:07.783Z"
   },
   {
    "duration": 16,
    "start_time": "2022-06-07T13:04:07.822Z"
   },
   {
    "duration": 24,
    "start_time": "2022-06-07T13:04:07.840Z"
   },
   {
    "duration": 35,
    "start_time": "2022-06-07T13:04:07.866Z"
   },
   {
    "duration": 24,
    "start_time": "2022-06-07T13:04:07.902Z"
   },
   {
    "duration": 90,
    "start_time": "2022-06-07T13:04:07.927Z"
   },
   {
    "duration": 95,
    "start_time": "2022-06-07T13:04:08.018Z"
   },
   {
    "duration": 0,
    "start_time": "2022-06-07T13:04:08.114Z"
   },
   {
    "duration": 0,
    "start_time": "2022-06-07T13:04:08.116Z"
   },
   {
    "duration": 0,
    "start_time": "2022-06-07T13:04:08.116Z"
   },
   {
    "duration": 0,
    "start_time": "2022-06-07T13:04:08.118Z"
   },
   {
    "duration": 33,
    "start_time": "2022-06-07T13:04:15.916Z"
   },
   {
    "duration": 1017,
    "start_time": "2022-06-07T13:04:21.777Z"
   },
   {
    "duration": 66,
    "start_time": "2022-06-07T13:04:22.796Z"
   },
   {
    "duration": 13,
    "start_time": "2022-06-07T13:04:22.863Z"
   },
   {
    "duration": 29,
    "start_time": "2022-06-07T13:04:22.877Z"
   },
   {
    "duration": 22,
    "start_time": "2022-06-07T13:04:22.908Z"
   },
   {
    "duration": 50,
    "start_time": "2022-06-07T13:04:22.932Z"
   },
   {
    "duration": 7,
    "start_time": "2022-06-07T13:04:22.984Z"
   },
   {
    "duration": 35,
    "start_time": "2022-06-07T13:04:22.992Z"
   },
   {
    "duration": 31,
    "start_time": "2022-06-07T13:04:23.029Z"
   },
   {
    "duration": 19,
    "start_time": "2022-06-07T13:04:23.062Z"
   },
   {
    "duration": 22,
    "start_time": "2022-06-07T13:04:23.082Z"
   },
   {
    "duration": 15,
    "start_time": "2022-06-07T13:04:23.106Z"
   },
   {
    "duration": 29,
    "start_time": "2022-06-07T13:04:23.122Z"
   },
   {
    "duration": 23,
    "start_time": "2022-06-07T13:04:23.153Z"
   },
   {
    "duration": 25,
    "start_time": "2022-06-07T13:04:23.179Z"
   },
   {
    "duration": 9,
    "start_time": "2022-06-07T13:04:23.206Z"
   },
   {
    "duration": 68,
    "start_time": "2022-06-07T13:04:23.217Z"
   },
   {
    "duration": 104,
    "start_time": "2022-06-07T13:04:23.287Z"
   },
   {
    "duration": 0,
    "start_time": "2022-06-07T13:04:23.393Z"
   },
   {
    "duration": 0,
    "start_time": "2022-06-07T13:04:23.394Z"
   },
   {
    "duration": 0,
    "start_time": "2022-06-07T13:04:23.395Z"
   },
   {
    "duration": 0,
    "start_time": "2022-06-07T13:04:23.395Z"
   },
   {
    "duration": 7,
    "start_time": "2022-06-07T13:04:46.560Z"
   },
   {
    "duration": 1058,
    "start_time": "2022-06-07T13:04:53.340Z"
   },
   {
    "duration": 70,
    "start_time": "2022-06-07T13:04:54.400Z"
   },
   {
    "duration": 12,
    "start_time": "2022-06-07T13:04:54.471Z"
   },
   {
    "duration": 14,
    "start_time": "2022-06-07T13:04:54.485Z"
   },
   {
    "duration": 27,
    "start_time": "2022-06-07T13:04:54.501Z"
   },
   {
    "duration": 20,
    "start_time": "2022-06-07T13:04:54.530Z"
   },
   {
    "duration": 4,
    "start_time": "2022-06-07T13:04:54.552Z"
   },
   {
    "duration": 20,
    "start_time": "2022-06-07T13:04:54.558Z"
   },
   {
    "duration": 15,
    "start_time": "2022-06-07T13:04:54.580Z"
   },
   {
    "duration": 31,
    "start_time": "2022-06-07T13:04:54.597Z"
   },
   {
    "duration": 6,
    "start_time": "2022-06-07T13:04:54.630Z"
   },
   {
    "duration": 21,
    "start_time": "2022-06-07T13:04:54.638Z"
   },
   {
    "duration": 18,
    "start_time": "2022-06-07T13:04:54.660Z"
   },
   {
    "duration": 19,
    "start_time": "2022-06-07T13:04:54.680Z"
   },
   {
    "duration": 19,
    "start_time": "2022-06-07T13:04:54.700Z"
   },
   {
    "duration": 10,
    "start_time": "2022-06-07T13:04:54.721Z"
   },
   {
    "duration": 66,
    "start_time": "2022-06-07T13:04:54.733Z"
   },
   {
    "duration": 17,
    "start_time": "2022-06-07T13:04:54.801Z"
   },
   {
    "duration": 37,
    "start_time": "2022-06-07T13:04:54.820Z"
   },
   {
    "duration": 26,
    "start_time": "2022-06-07T13:04:54.859Z"
   },
   {
    "duration": 8,
    "start_time": "2022-06-07T13:04:54.887Z"
   },
   {
    "duration": 113,
    "start_time": "2022-06-07T13:04:54.896Z"
   },
   {
    "duration": 31,
    "start_time": "2022-06-07T13:06:24.860Z"
   },
   {
    "duration": 26,
    "start_time": "2022-06-07T13:09:49.079Z"
   },
   {
    "duration": 1012,
    "start_time": "2022-06-07T13:09:56.500Z"
   },
   {
    "duration": 67,
    "start_time": "2022-06-07T13:09:57.514Z"
   },
   {
    "duration": 12,
    "start_time": "2022-06-07T13:09:57.583Z"
   },
   {
    "duration": 21,
    "start_time": "2022-06-07T13:09:57.596Z"
   },
   {
    "duration": 10,
    "start_time": "2022-06-07T13:09:57.619Z"
   },
   {
    "duration": 21,
    "start_time": "2022-06-07T13:09:57.630Z"
   },
   {
    "duration": 4,
    "start_time": "2022-06-07T13:09:57.652Z"
   },
   {
    "duration": 18,
    "start_time": "2022-06-07T13:09:57.658Z"
   },
   {
    "duration": 15,
    "start_time": "2022-06-07T13:09:57.677Z"
   },
   {
    "duration": 33,
    "start_time": "2022-06-07T13:09:57.694Z"
   },
   {
    "duration": 6,
    "start_time": "2022-06-07T13:09:57.729Z"
   },
   {
    "duration": 11,
    "start_time": "2022-06-07T13:09:57.736Z"
   },
   {
    "duration": 12,
    "start_time": "2022-06-07T13:09:57.749Z"
   },
   {
    "duration": 10,
    "start_time": "2022-06-07T13:09:57.763Z"
   },
   {
    "duration": 14,
    "start_time": "2022-06-07T13:09:57.775Z"
   },
   {
    "duration": 7,
    "start_time": "2022-06-07T13:09:57.790Z"
   },
   {
    "duration": 29,
    "start_time": "2022-06-07T13:09:57.799Z"
   },
   {
    "duration": 5,
    "start_time": "2022-06-07T13:09:57.829Z"
   },
   {
    "duration": 20,
    "start_time": "2022-06-07T13:09:57.836Z"
   },
   {
    "duration": 4,
    "start_time": "2022-06-07T13:09:57.858Z"
   },
   {
    "duration": 130,
    "start_time": "2022-06-07T13:09:57.863Z"
   },
   {
    "duration": 1023,
    "start_time": "2022-06-07T13:11:03.304Z"
   },
   {
    "duration": 78,
    "start_time": "2022-06-07T13:11:04.329Z"
   },
   {
    "duration": 16,
    "start_time": "2022-06-07T13:11:04.409Z"
   },
   {
    "duration": 17,
    "start_time": "2022-06-07T13:11:04.427Z"
   },
   {
    "duration": 10,
    "start_time": "2022-06-07T13:11:04.446Z"
   },
   {
    "duration": 23,
    "start_time": "2022-06-07T13:11:04.458Z"
   },
   {
    "duration": 5,
    "start_time": "2022-06-07T13:11:04.482Z"
   },
   {
    "duration": 39,
    "start_time": "2022-06-07T13:11:04.488Z"
   },
   {
    "duration": 3,
    "start_time": "2022-06-07T13:11:04.528Z"
   },
   {
    "duration": 10,
    "start_time": "2022-06-07T13:11:04.532Z"
   },
   {
    "duration": 6,
    "start_time": "2022-06-07T13:11:04.543Z"
   },
   {
    "duration": 5,
    "start_time": "2022-06-07T13:11:04.550Z"
   },
   {
    "duration": 12,
    "start_time": "2022-06-07T13:11:04.556Z"
   },
   {
    "duration": 9,
    "start_time": "2022-06-07T13:11:04.571Z"
   },
   {
    "duration": 47,
    "start_time": "2022-06-07T13:11:04.581Z"
   },
   {
    "duration": 9,
    "start_time": "2022-06-07T13:11:04.629Z"
   },
   {
    "duration": 9,
    "start_time": "2022-06-07T13:11:04.640Z"
   },
   {
    "duration": 5,
    "start_time": "2022-06-07T13:11:04.651Z"
   },
   {
    "duration": 27,
    "start_time": "2022-06-07T13:11:04.658Z"
   },
   {
    "duration": 6,
    "start_time": "2022-06-07T13:11:04.686Z"
   },
   {
    "duration": 216,
    "start_time": "2022-06-07T13:11:04.693Z"
   },
   {
    "duration": 1005,
    "start_time": "2022-06-07T13:12:48.710Z"
   },
   {
    "duration": 72,
    "start_time": "2022-06-07T13:12:49.717Z"
   },
   {
    "duration": 13,
    "start_time": "2022-06-07T13:12:49.791Z"
   },
   {
    "duration": 15,
    "start_time": "2022-06-07T13:12:49.807Z"
   },
   {
    "duration": 10,
    "start_time": "2022-06-07T13:12:49.823Z"
   },
   {
    "duration": 20,
    "start_time": "2022-06-07T13:12:49.835Z"
   },
   {
    "duration": 4,
    "start_time": "2022-06-07T13:12:49.857Z"
   },
   {
    "duration": 20,
    "start_time": "2022-06-07T13:12:49.862Z"
   },
   {
    "duration": 2,
    "start_time": "2022-06-07T13:12:49.883Z"
   },
   {
    "duration": 7,
    "start_time": "2022-06-07T13:12:49.887Z"
   },
   {
    "duration": 32,
    "start_time": "2022-06-07T13:12:49.896Z"
   },
   {
    "duration": 4,
    "start_time": "2022-06-07T13:12:49.929Z"
   },
   {
    "duration": 8,
    "start_time": "2022-06-07T13:12:49.935Z"
   },
   {
    "duration": 10,
    "start_time": "2022-06-07T13:12:49.945Z"
   },
   {
    "duration": 15,
    "start_time": "2022-06-07T13:12:49.956Z"
   },
   {
    "duration": 8,
    "start_time": "2022-06-07T13:12:49.972Z"
   },
   {
    "duration": 7,
    "start_time": "2022-06-07T13:12:49.982Z"
   },
   {
    "duration": 37,
    "start_time": "2022-06-07T13:12:49.991Z"
   },
   {
    "duration": 17,
    "start_time": "2022-06-07T13:12:50.029Z"
   },
   {
    "duration": 5,
    "start_time": "2022-06-07T13:12:50.047Z"
   },
   {
    "duration": 189,
    "start_time": "2022-06-07T13:12:50.054Z"
   },
   {
    "duration": 155,
    "start_time": "2022-06-07T13:13:04.912Z"
   },
   {
    "duration": 7,
    "start_time": "2022-06-07T13:16:55.522Z"
   },
   {
    "duration": 5,
    "start_time": "2022-06-07T13:17:20.067Z"
   },
   {
    "duration": 13,
    "start_time": "2022-06-07T13:24:50.552Z"
   },
   {
    "duration": 105,
    "start_time": "2022-06-07T13:25:20.663Z"
   },
   {
    "duration": 14,
    "start_time": "2022-06-07T13:25:26.518Z"
   },
   {
    "duration": 22,
    "start_time": "2022-06-07T13:25:53.267Z"
   },
   {
    "duration": 12,
    "start_time": "2022-06-07T13:27:09.808Z"
   },
   {
    "duration": 13,
    "start_time": "2022-06-07T13:27:29.520Z"
   },
   {
    "duration": 13,
    "start_time": "2022-06-07T13:27:41.560Z"
   },
   {
    "duration": 80,
    "start_time": "2022-06-07T13:29:47.472Z"
   },
   {
    "duration": 3,
    "start_time": "2022-06-07T13:41:53.512Z"
   },
   {
    "duration": 18,
    "start_time": "2022-06-07T13:43:21.716Z"
   },
   {
    "duration": 12,
    "start_time": "2022-06-07T13:55:17.945Z"
   },
   {
    "duration": 1115,
    "start_time": "2022-06-07T13:55:44.203Z"
   },
   {
    "duration": 77,
    "start_time": "2022-06-07T13:55:45.320Z"
   },
   {
    "duration": 12,
    "start_time": "2022-06-07T13:55:45.399Z"
   },
   {
    "duration": 14,
    "start_time": "2022-06-07T13:55:45.413Z"
   },
   {
    "duration": 9,
    "start_time": "2022-06-07T13:55:45.428Z"
   },
   {
    "duration": 21,
    "start_time": "2022-06-07T13:55:45.439Z"
   },
   {
    "duration": 4,
    "start_time": "2022-06-07T13:55:45.462Z"
   },
   {
    "duration": 21,
    "start_time": "2022-06-07T13:55:45.467Z"
   },
   {
    "duration": 3,
    "start_time": "2022-06-07T13:55:45.489Z"
   },
   {
    "duration": 9,
    "start_time": "2022-06-07T13:55:45.494Z"
   },
   {
    "duration": 27,
    "start_time": "2022-06-07T13:55:45.504Z"
   },
   {
    "duration": 7,
    "start_time": "2022-06-07T13:55:45.533Z"
   },
   {
    "duration": 9,
    "start_time": "2022-06-07T13:55:45.541Z"
   },
   {
    "duration": 12,
    "start_time": "2022-06-07T13:55:45.551Z"
   },
   {
    "duration": 16,
    "start_time": "2022-06-07T13:55:45.565Z"
   },
   {
    "duration": 8,
    "start_time": "2022-06-07T13:55:45.582Z"
   },
   {
    "duration": 10,
    "start_time": "2022-06-07T13:55:45.591Z"
   },
   {
    "duration": 7,
    "start_time": "2022-06-07T13:55:45.626Z"
   },
   {
    "duration": 19,
    "start_time": "2022-06-07T13:55:45.635Z"
   },
   {
    "duration": 5,
    "start_time": "2022-06-07T13:55:45.655Z"
   },
   {
    "duration": 193,
    "start_time": "2022-06-07T13:55:45.661Z"
   },
   {
    "duration": 15,
    "start_time": "2022-06-07T13:55:45.856Z"
   },
   {
    "duration": 3,
    "start_time": "2022-06-07T13:55:45.873Z"
   },
   {
    "duration": 109,
    "start_time": "2022-06-07T13:55:45.877Z"
   },
   {
    "duration": 12,
    "start_time": "2022-06-07T13:58:28.345Z"
   },
   {
    "duration": 9,
    "start_time": "2022-06-07T13:58:55.165Z"
   },
   {
    "duration": 11,
    "start_time": "2022-06-07T14:04:04.549Z"
   },
   {
    "duration": 141,
    "start_time": "2022-06-07T14:07:12.603Z"
   },
   {
    "duration": 194,
    "start_time": "2022-06-07T14:07:42.403Z"
   },
   {
    "duration": 232,
    "start_time": "2022-06-07T14:07:50.966Z"
   },
   {
    "duration": 256,
    "start_time": "2022-06-07T14:08:20.549Z"
   },
   {
    "duration": 25,
    "start_time": "2022-06-07T14:22:10.359Z"
   },
   {
    "duration": 23,
    "start_time": "2022-06-07T14:22:41.121Z"
   },
   {
    "duration": 27,
    "start_time": "2022-06-07T14:22:51.375Z"
   },
   {
    "duration": 24,
    "start_time": "2022-06-07T14:22:59.695Z"
   },
   {
    "duration": 12,
    "start_time": "2022-06-07T14:23:10.794Z"
   },
   {
    "duration": 10,
    "start_time": "2022-06-07T14:23:21.898Z"
   },
   {
    "duration": 22,
    "start_time": "2022-06-07T14:23:33.656Z"
   },
   {
    "duration": 9,
    "start_time": "2022-06-07T14:23:43.196Z"
   },
   {
    "duration": 1146,
    "start_time": "2022-06-07T14:23:54.210Z"
   },
   {
    "duration": 68,
    "start_time": "2022-06-07T14:23:55.358Z"
   },
   {
    "duration": 14,
    "start_time": "2022-06-07T14:23:55.428Z"
   },
   {
    "duration": 20,
    "start_time": "2022-06-07T14:23:55.445Z"
   },
   {
    "duration": 14,
    "start_time": "2022-06-07T14:23:55.467Z"
   },
   {
    "duration": 56,
    "start_time": "2022-06-07T14:23:55.483Z"
   },
   {
    "duration": 6,
    "start_time": "2022-06-07T14:23:55.541Z"
   },
   {
    "duration": 29,
    "start_time": "2022-06-07T14:23:55.549Z"
   },
   {
    "duration": 3,
    "start_time": "2022-06-07T14:23:55.580Z"
   },
   {
    "duration": 14,
    "start_time": "2022-06-07T14:23:55.585Z"
   },
   {
    "duration": 6,
    "start_time": "2022-06-07T14:23:55.600Z"
   },
   {
    "duration": 6,
    "start_time": "2022-06-07T14:23:55.627Z"
   },
   {
    "duration": 10,
    "start_time": "2022-06-07T14:23:55.635Z"
   },
   {
    "duration": 31,
    "start_time": "2022-06-07T14:23:55.647Z"
   },
   {
    "duration": 24,
    "start_time": "2022-06-07T14:23:55.679Z"
   },
   {
    "duration": 8,
    "start_time": "2022-06-07T14:23:55.705Z"
   },
   {
    "duration": 11,
    "start_time": "2022-06-07T14:23:55.714Z"
   },
   {
    "duration": 41,
    "start_time": "2022-06-07T14:23:55.726Z"
   },
   {
    "duration": 21,
    "start_time": "2022-06-07T14:23:55.769Z"
   },
   {
    "duration": 5,
    "start_time": "2022-06-07T14:23:55.792Z"
   },
   {
    "duration": 177,
    "start_time": "2022-06-07T14:23:55.798Z"
   },
   {
    "duration": 279,
    "start_time": "2022-06-07T14:23:55.976Z"
   },
   {
    "duration": 4,
    "start_time": "2022-06-07T14:23:56.257Z"
   },
   {
    "duration": 146,
    "start_time": "2022-06-07T14:23:56.263Z"
   },
   {
    "duration": 12,
    "start_time": "2022-06-07T14:25:01.315Z"
   },
   {
    "duration": 1030,
    "start_time": "2022-06-07T14:52:03.160Z"
   },
   {
    "duration": 71,
    "start_time": "2022-06-07T14:52:04.192Z"
   },
   {
    "duration": 13,
    "start_time": "2022-06-07T14:52:04.265Z"
   },
   {
    "duration": 18,
    "start_time": "2022-06-07T14:52:04.280Z"
   },
   {
    "duration": 14,
    "start_time": "2022-06-07T14:52:04.300Z"
   },
   {
    "duration": 35,
    "start_time": "2022-06-07T14:52:04.315Z"
   },
   {
    "duration": 3,
    "start_time": "2022-06-07T14:52:04.352Z"
   },
   {
    "duration": 26,
    "start_time": "2022-06-07T14:52:04.356Z"
   },
   {
    "duration": 2,
    "start_time": "2022-06-07T14:52:04.383Z"
   },
   {
    "duration": 16,
    "start_time": "2022-06-07T14:52:04.386Z"
   },
   {
    "duration": 18,
    "start_time": "2022-06-07T14:52:04.403Z"
   },
   {
    "duration": 40,
    "start_time": "2022-06-07T14:52:04.422Z"
   },
   {
    "duration": 40,
    "start_time": "2022-06-07T14:52:04.463Z"
   },
   {
    "duration": 20,
    "start_time": "2022-06-07T14:52:04.506Z"
   },
   {
    "duration": 21,
    "start_time": "2022-06-07T14:52:04.527Z"
   },
   {
    "duration": 8,
    "start_time": "2022-06-07T14:52:04.550Z"
   },
   {
    "duration": 14,
    "start_time": "2022-06-07T14:52:04.559Z"
   },
   {
    "duration": 6,
    "start_time": "2022-06-07T14:52:04.574Z"
   },
   {
    "duration": 22,
    "start_time": "2022-06-07T14:52:04.582Z"
   },
   {
    "duration": 4,
    "start_time": "2022-06-07T14:52:04.606Z"
   },
   {
    "duration": 194,
    "start_time": "2022-06-07T14:52:04.611Z"
   },
   {
    "duration": 246,
    "start_time": "2022-06-07T14:52:04.807Z"
   },
   {
    "duration": 3,
    "start_time": "2022-06-07T14:52:05.055Z"
   },
   {
    "duration": 103,
    "start_time": "2022-06-07T14:52:05.060Z"
   },
   {
    "duration": 12,
    "start_time": "2022-06-07T14:54:12.412Z"
   },
   {
    "duration": 3,
    "start_time": "2022-06-07T14:58:45.974Z"
   },
   {
    "duration": 10,
    "start_time": "2022-06-07T14:58:46.962Z"
   },
   {
    "duration": 81,
    "start_time": "2022-06-07T15:00:11.105Z"
   },
   {
    "duration": 11,
    "start_time": "2022-06-07T15:00:37.786Z"
   },
   {
    "duration": 1067,
    "start_time": "2022-06-07T15:00:44.255Z"
   },
   {
    "duration": 73,
    "start_time": "2022-06-07T15:00:45.324Z"
   },
   {
    "duration": 14,
    "start_time": "2022-06-07T15:00:45.399Z"
   },
   {
    "duration": 15,
    "start_time": "2022-06-07T15:00:45.416Z"
   },
   {
    "duration": 10,
    "start_time": "2022-06-07T15:00:45.432Z"
   },
   {
    "duration": 23,
    "start_time": "2022-06-07T15:00:45.443Z"
   },
   {
    "duration": 5,
    "start_time": "2022-06-07T15:00:45.467Z"
   },
   {
    "duration": 19,
    "start_time": "2022-06-07T15:00:45.473Z"
   },
   {
    "duration": 2,
    "start_time": "2022-06-07T15:00:45.493Z"
   },
   {
    "duration": 7,
    "start_time": "2022-06-07T15:00:45.527Z"
   },
   {
    "duration": 11,
    "start_time": "2022-06-07T15:00:45.535Z"
   },
   {
    "duration": 12,
    "start_time": "2022-06-07T15:00:45.548Z"
   },
   {
    "duration": 15,
    "start_time": "2022-06-07T15:00:45.561Z"
   },
   {
    "duration": 17,
    "start_time": "2022-06-07T15:00:45.578Z"
   },
   {
    "duration": 15,
    "start_time": "2022-06-07T15:00:45.597Z"
   },
   {
    "duration": 19,
    "start_time": "2022-06-07T15:00:45.614Z"
   },
   {
    "duration": 21,
    "start_time": "2022-06-07T15:00:45.635Z"
   },
   {
    "duration": 6,
    "start_time": "2022-06-07T15:00:45.659Z"
   },
   {
    "duration": 24,
    "start_time": "2022-06-07T15:00:45.667Z"
   },
   {
    "duration": 4,
    "start_time": "2022-06-07T15:00:45.693Z"
   },
   {
    "duration": 188,
    "start_time": "2022-06-07T15:00:45.698Z"
   },
   {
    "duration": 259,
    "start_time": "2022-06-07T15:00:45.888Z"
   },
   {
    "duration": 4,
    "start_time": "2022-06-07T15:00:46.148Z"
   },
   {
    "duration": 31,
    "start_time": "2022-06-07T15:00:46.154Z"
   },
   {
    "duration": 28,
    "start_time": "2022-06-07T15:01:15.250Z"
   },
   {
    "duration": 1061,
    "start_time": "2022-06-07T15:05:51.954Z"
   },
   {
    "duration": 78,
    "start_time": "2022-06-07T15:05:53.017Z"
   },
   {
    "duration": 13,
    "start_time": "2022-06-07T15:05:53.097Z"
   },
   {
    "duration": 16,
    "start_time": "2022-06-07T15:05:53.112Z"
   },
   {
    "duration": 9,
    "start_time": "2022-06-07T15:05:53.130Z"
   },
   {
    "duration": 25,
    "start_time": "2022-06-07T15:05:53.141Z"
   },
   {
    "duration": 5,
    "start_time": "2022-06-07T15:05:53.167Z"
   },
   {
    "duration": 26,
    "start_time": "2022-06-07T15:05:53.174Z"
   },
   {
    "duration": 10,
    "start_time": "2022-06-07T15:05:53.201Z"
   },
   {
    "duration": 7,
    "start_time": "2022-06-07T15:05:53.226Z"
   },
   {
    "duration": 6,
    "start_time": "2022-06-07T15:05:53.235Z"
   },
   {
    "duration": 10,
    "start_time": "2022-06-07T15:05:53.243Z"
   },
   {
    "duration": 23,
    "start_time": "2022-06-07T15:05:53.262Z"
   },
   {
    "duration": 32,
    "start_time": "2022-06-07T15:05:53.287Z"
   },
   {
    "duration": 19,
    "start_time": "2022-06-07T15:05:53.321Z"
   },
   {
    "duration": 11,
    "start_time": "2022-06-07T15:05:53.342Z"
   },
   {
    "duration": 24,
    "start_time": "2022-06-07T15:05:53.355Z"
   },
   {
    "duration": 7,
    "start_time": "2022-06-07T15:05:53.381Z"
   },
   {
    "duration": 27,
    "start_time": "2022-06-07T15:05:53.389Z"
   },
   {
    "duration": 5,
    "start_time": "2022-06-07T15:05:53.426Z"
   },
   {
    "duration": 196,
    "start_time": "2022-06-07T15:05:53.433Z"
   },
   {
    "duration": 286,
    "start_time": "2022-06-07T15:05:53.632Z"
   },
   {
    "duration": 7,
    "start_time": "2022-06-07T15:05:53.920Z"
   },
   {
    "duration": 46,
    "start_time": "2022-06-07T15:05:53.929Z"
   },
   {
    "duration": 1106,
    "start_time": "2022-06-07T15:06:11.211Z"
   },
   {
    "duration": 70,
    "start_time": "2022-06-07T15:06:12.318Z"
   },
   {
    "duration": 13,
    "start_time": "2022-06-07T15:06:12.390Z"
   },
   {
    "duration": 14,
    "start_time": "2022-06-07T15:06:12.404Z"
   },
   {
    "duration": 9,
    "start_time": "2022-06-07T15:06:12.419Z"
   },
   {
    "duration": 25,
    "start_time": "2022-06-07T15:06:12.429Z"
   },
   {
    "duration": 5,
    "start_time": "2022-06-07T15:06:12.455Z"
   },
   {
    "duration": 22,
    "start_time": "2022-06-07T15:06:12.462Z"
   },
   {
    "duration": 7,
    "start_time": "2022-06-07T15:06:12.486Z"
   },
   {
    "duration": 7,
    "start_time": "2022-06-07T15:06:12.497Z"
   },
   {
    "duration": 22,
    "start_time": "2022-06-07T15:06:12.506Z"
   },
   {
    "duration": 5,
    "start_time": "2022-06-07T15:06:12.529Z"
   },
   {
    "duration": 9,
    "start_time": "2022-06-07T15:06:12.536Z"
   },
   {
    "duration": 14,
    "start_time": "2022-06-07T15:06:12.547Z"
   },
   {
    "duration": 14,
    "start_time": "2022-06-07T15:06:12.563Z"
   },
   {
    "duration": 11,
    "start_time": "2022-06-07T15:06:12.579Z"
   },
   {
    "duration": 17,
    "start_time": "2022-06-07T15:06:12.591Z"
   },
   {
    "duration": 22,
    "start_time": "2022-06-07T15:06:12.609Z"
   },
   {
    "duration": 27,
    "start_time": "2022-06-07T15:06:12.633Z"
   },
   {
    "duration": 4,
    "start_time": "2022-06-07T15:06:12.662Z"
   },
   {
    "duration": 198,
    "start_time": "2022-06-07T15:06:12.667Z"
   },
   {
    "duration": 246,
    "start_time": "2022-06-07T15:06:12.867Z"
   },
   {
    "duration": 12,
    "start_time": "2022-06-07T15:06:13.115Z"
   },
   {
    "duration": 31,
    "start_time": "2022-06-07T15:06:13.129Z"
   },
   {
    "duration": 1022,
    "start_time": "2022-06-07T15:07:05.778Z"
   },
   {
    "duration": 71,
    "start_time": "2022-06-07T15:07:06.803Z"
   },
   {
    "duration": 13,
    "start_time": "2022-06-07T15:07:06.875Z"
   },
   {
    "duration": 14,
    "start_time": "2022-06-07T15:07:06.890Z"
   },
   {
    "duration": 25,
    "start_time": "2022-06-07T15:07:06.905Z"
   },
   {
    "duration": 23,
    "start_time": "2022-06-07T15:07:06.932Z"
   },
   {
    "duration": 5,
    "start_time": "2022-06-07T15:07:06.957Z"
   },
   {
    "duration": 22,
    "start_time": "2022-06-07T15:07:06.964Z"
   },
   {
    "duration": 2,
    "start_time": "2022-06-07T15:07:06.988Z"
   },
   {
    "duration": 36,
    "start_time": "2022-06-07T15:07:06.993Z"
   },
   {
    "duration": 5,
    "start_time": "2022-06-07T15:07:07.031Z"
   },
   {
    "duration": 6,
    "start_time": "2022-06-07T15:07:07.038Z"
   },
   {
    "duration": 10,
    "start_time": "2022-06-07T15:07:07.045Z"
   },
   {
    "duration": 13,
    "start_time": "2022-06-07T15:07:07.056Z"
   },
   {
    "duration": 14,
    "start_time": "2022-06-07T15:07:07.071Z"
   },
   {
    "duration": 46,
    "start_time": "2022-06-07T15:07:07.086Z"
   },
   {
    "duration": 8,
    "start_time": "2022-06-07T15:07:07.134Z"
   },
   {
    "duration": 10,
    "start_time": "2022-06-07T15:07:07.144Z"
   },
   {
    "duration": 21,
    "start_time": "2022-06-07T15:07:07.156Z"
   },
   {
    "duration": 4,
    "start_time": "2022-06-07T15:07:07.179Z"
   },
   {
    "duration": 215,
    "start_time": "2022-06-07T15:07:07.185Z"
   },
   {
    "duration": 259,
    "start_time": "2022-06-07T15:07:07.402Z"
   },
   {
    "duration": 3,
    "start_time": "2022-06-07T15:07:07.664Z"
   },
   {
    "duration": 32,
    "start_time": "2022-06-07T15:07:07.669Z"
   },
   {
    "duration": 411,
    "start_time": "2022-06-07T15:07:07.702Z"
   },
   {
    "duration": 1053,
    "start_time": "2022-06-07T15:07:37.021Z"
   },
   {
    "duration": 70,
    "start_time": "2022-06-07T15:07:38.076Z"
   },
   {
    "duration": 13,
    "start_time": "2022-06-07T15:07:38.147Z"
   },
   {
    "duration": 13,
    "start_time": "2022-06-07T15:07:38.163Z"
   },
   {
    "duration": 12,
    "start_time": "2022-06-07T15:07:38.178Z"
   },
   {
    "duration": 55,
    "start_time": "2022-06-07T15:07:38.193Z"
   },
   {
    "duration": 5,
    "start_time": "2022-06-07T15:07:38.250Z"
   },
   {
    "duration": 19,
    "start_time": "2022-06-07T15:07:38.257Z"
   },
   {
    "duration": 3,
    "start_time": "2022-06-07T15:07:38.277Z"
   },
   {
    "duration": 11,
    "start_time": "2022-06-07T15:07:38.283Z"
   },
   {
    "duration": 11,
    "start_time": "2022-06-07T15:07:38.295Z"
   },
   {
    "duration": 21,
    "start_time": "2022-06-07T15:07:38.308Z"
   },
   {
    "duration": 7,
    "start_time": "2022-06-07T15:07:38.330Z"
   },
   {
    "duration": 13,
    "start_time": "2022-06-07T15:07:38.339Z"
   },
   {
    "duration": 16,
    "start_time": "2022-06-07T15:07:38.353Z"
   },
   {
    "duration": 8,
    "start_time": "2022-06-07T15:07:38.371Z"
   },
   {
    "duration": 7,
    "start_time": "2022-06-07T15:07:38.380Z"
   },
   {
    "duration": 39,
    "start_time": "2022-06-07T15:07:38.389Z"
   },
   {
    "duration": 18,
    "start_time": "2022-06-07T15:07:38.430Z"
   },
   {
    "duration": 5,
    "start_time": "2022-06-07T15:07:38.450Z"
   },
   {
    "duration": 205,
    "start_time": "2022-06-07T15:07:38.456Z"
   },
   {
    "duration": 328,
    "start_time": "2022-06-07T15:07:38.663Z"
   },
   {
    "duration": 4,
    "start_time": "2022-06-07T15:07:38.992Z"
   },
   {
    "duration": 41,
    "start_time": "2022-06-07T15:07:39.002Z"
   },
   {
    "duration": 369912,
    "start_time": "2022-06-07T15:07:39.045Z"
   },
   {
    "duration": 428,
    "start_time": "2022-06-07T15:14:53.206Z"
   },
   {
    "duration": 436,
    "start_time": "2022-06-07T15:15:55.072Z"
   },
   {
    "duration": 310,
    "start_time": "2022-06-07T15:16:06.639Z"
   },
   {
    "duration": 29,
    "start_time": "2022-06-07T15:17:15.770Z"
   },
   {
    "duration": 267,
    "start_time": "2022-06-07T15:17:41.659Z"
   },
   {
    "duration": 4,
    "start_time": "2022-06-07T15:18:20.211Z"
   },
   {
    "duration": 40,
    "start_time": "2022-06-07T15:18:21.519Z"
   },
   {
    "duration": 239,
    "start_time": "2022-06-07T15:18:24.347Z"
   },
   {
    "duration": 252,
    "start_time": "2022-06-07T15:19:04.052Z"
   },
   {
    "duration": 318,
    "start_time": "2022-06-07T15:19:26.161Z"
   },
   {
    "duration": 3,
    "start_time": "2022-06-07T15:29:53.967Z"
   },
   {
    "duration": 26,
    "start_time": "2022-06-07T15:29:55.345Z"
   },
   {
    "duration": 234,
    "start_time": "2022-06-07T15:30:00.768Z"
   },
   {
    "duration": 3,
    "start_time": "2022-06-07T15:30:55.849Z"
   },
   {
    "duration": 23,
    "start_time": "2022-06-07T15:30:58.677Z"
   },
   {
    "duration": 249,
    "start_time": "2022-06-07T15:31:02.142Z"
   },
   {
    "duration": 6,
    "start_time": "2022-06-07T15:32:19.809Z"
   },
   {
    "duration": 24,
    "start_time": "2022-06-07T15:32:20.915Z"
   },
   {
    "duration": 303,
    "start_time": "2022-06-07T15:32:24.251Z"
   },
   {
    "duration": 298,
    "start_time": "2022-06-07T15:34:38.212Z"
   },
   {
    "duration": 1074,
    "start_time": "2022-06-07T15:59:59.886Z"
   },
   {
    "duration": 72,
    "start_time": "2022-06-07T16:00:00.962Z"
   },
   {
    "duration": 13,
    "start_time": "2022-06-07T16:00:01.036Z"
   },
   {
    "duration": 19,
    "start_time": "2022-06-07T16:00:01.050Z"
   },
   {
    "duration": 13,
    "start_time": "2022-06-07T16:00:01.071Z"
   },
   {
    "duration": 35,
    "start_time": "2022-06-07T16:00:01.085Z"
   },
   {
    "duration": 4,
    "start_time": "2022-06-07T16:00:01.127Z"
   },
   {
    "duration": 21,
    "start_time": "2022-06-07T16:00:01.133Z"
   },
   {
    "duration": 19,
    "start_time": "2022-06-07T16:00:01.155Z"
   },
   {
    "duration": 20,
    "start_time": "2022-06-07T16:00:01.177Z"
   },
   {
    "duration": 12,
    "start_time": "2022-06-07T16:00:01.199Z"
   },
   {
    "duration": 21,
    "start_time": "2022-06-07T16:00:01.212Z"
   },
   {
    "duration": 12,
    "start_time": "2022-06-07T16:00:01.235Z"
   },
   {
    "duration": 31,
    "start_time": "2022-06-07T16:00:01.248Z"
   },
   {
    "duration": 24,
    "start_time": "2022-06-07T16:00:01.280Z"
   },
   {
    "duration": 21,
    "start_time": "2022-06-07T16:00:01.305Z"
   },
   {
    "duration": 20,
    "start_time": "2022-06-07T16:00:01.327Z"
   },
   {
    "duration": 14,
    "start_time": "2022-06-07T16:00:01.349Z"
   },
   {
    "duration": 25,
    "start_time": "2022-06-07T16:00:01.364Z"
   },
   {
    "duration": 28,
    "start_time": "2022-06-07T16:00:01.391Z"
   },
   {
    "duration": 204,
    "start_time": "2022-06-07T16:00:01.421Z"
   },
   {
    "duration": 286,
    "start_time": "2022-06-07T16:00:01.627Z"
   },
   {
    "duration": 4,
    "start_time": "2022-06-07T16:00:01.915Z"
   },
   {
    "duration": 45,
    "start_time": "2022-06-07T16:00:01.928Z"
   },
   {
    "duration": 444,
    "start_time": "2022-06-07T16:00:01.975Z"
   },
   {
    "duration": 36,
    "start_time": "2022-06-07T16:04:52.763Z"
   },
   {
    "duration": 119,
    "start_time": "2022-06-07T16:06:02.696Z"
   },
   {
    "duration": 25,
    "start_time": "2022-06-07T16:45:33.282Z"
   },
   {
    "duration": 27,
    "start_time": "2022-06-07T16:45:50.907Z"
   },
   {
    "duration": 1162,
    "start_time": "2022-06-07T16:48:45.303Z"
   },
   {
    "duration": 93,
    "start_time": "2022-06-07T16:48:46.468Z"
   },
   {
    "duration": 18,
    "start_time": "2022-06-07T16:48:46.563Z"
   },
   {
    "duration": 15,
    "start_time": "2022-06-07T16:48:46.584Z"
   },
   {
    "duration": 30,
    "start_time": "2022-06-07T16:48:46.601Z"
   },
   {
    "duration": 23,
    "start_time": "2022-06-07T16:48:46.632Z"
   },
   {
    "duration": 4,
    "start_time": "2022-06-07T16:48:46.656Z"
   },
   {
    "duration": 22,
    "start_time": "2022-06-07T16:48:46.662Z"
   },
   {
    "duration": 2,
    "start_time": "2022-06-07T16:48:46.686Z"
   },
   {
    "duration": 39,
    "start_time": "2022-06-07T16:48:46.691Z"
   },
   {
    "duration": 7,
    "start_time": "2022-06-07T16:48:46.732Z"
   },
   {
    "duration": 9,
    "start_time": "2022-06-07T16:48:46.740Z"
   },
   {
    "duration": 9,
    "start_time": "2022-06-07T16:48:46.751Z"
   },
   {
    "duration": 13,
    "start_time": "2022-06-07T16:48:46.762Z"
   },
   {
    "duration": 18,
    "start_time": "2022-06-07T16:48:46.776Z"
   },
   {
    "duration": 9,
    "start_time": "2022-06-07T16:48:46.827Z"
   },
   {
    "duration": 9,
    "start_time": "2022-06-07T16:48:46.837Z"
   },
   {
    "duration": 6,
    "start_time": "2022-06-07T16:48:46.848Z"
   },
   {
    "duration": 24,
    "start_time": "2022-06-07T16:48:46.856Z"
   },
   {
    "duration": 6,
    "start_time": "2022-06-07T16:48:46.882Z"
   },
   {
    "duration": 216,
    "start_time": "2022-06-07T16:48:46.889Z"
   },
   {
    "duration": 262,
    "start_time": "2022-06-07T16:48:47.107Z"
   },
   {
    "duration": 4,
    "start_time": "2022-06-07T16:48:47.370Z"
   },
   {
    "duration": 42,
    "start_time": "2022-06-07T16:48:47.375Z"
   },
   {
    "duration": 411,
    "start_time": "2022-06-07T16:48:47.428Z"
   },
   {
    "duration": 18,
    "start_time": "2022-06-07T16:48:47.840Z"
   },
   {
    "duration": 30,
    "start_time": "2022-06-07T16:48:47.860Z"
   },
   {
    "duration": 110,
    "start_time": "2022-06-07T16:48:47.892Z"
   },
   {
    "duration": 300,
    "start_time": "2022-06-07T16:49:45.107Z"
   },
   {
    "duration": 263,
    "start_time": "2022-06-07T16:50:02.369Z"
   },
   {
    "duration": 184,
    "start_time": "2022-06-07T16:51:19.445Z"
   },
   {
    "duration": 261,
    "start_time": "2022-06-07T16:52:46.701Z"
   },
   {
    "duration": 206,
    "start_time": "2022-06-07T16:52:57.341Z"
   },
   {
    "duration": 129,
    "start_time": "2022-06-07T16:54:10.758Z"
   },
   {
    "duration": 259,
    "start_time": "2022-06-07T16:54:32.253Z"
   },
   {
    "duration": 28,
    "start_time": "2022-06-07T16:55:19.350Z"
   },
   {
    "duration": 17,
    "start_time": "2022-06-07T17:05:18.918Z"
   },
   {
    "duration": 316,
    "start_time": "2022-06-07T17:05:26.244Z"
   },
   {
    "duration": 34,
    "start_time": "2022-06-07T17:10:34.472Z"
   },
   {
    "duration": 44,
    "start_time": "2022-06-07T17:11:05.209Z"
   },
   {
    "duration": 22,
    "start_time": "2022-06-07T17:11:39.576Z"
   },
   {
    "duration": 1042,
    "start_time": "2022-06-07T17:17:25.577Z"
   },
   {
    "duration": 69,
    "start_time": "2022-06-07T17:17:26.620Z"
   },
   {
    "duration": 12,
    "start_time": "2022-06-07T17:17:26.690Z"
   },
   {
    "duration": 13,
    "start_time": "2022-06-07T17:17:26.704Z"
   },
   {
    "duration": 10,
    "start_time": "2022-06-07T17:17:26.719Z"
   },
   {
    "duration": 19,
    "start_time": "2022-06-07T17:17:26.730Z"
   },
   {
    "duration": 4,
    "start_time": "2022-06-07T17:17:26.750Z"
   },
   {
    "duration": 16,
    "start_time": "2022-06-07T17:17:26.755Z"
   },
   {
    "duration": 2,
    "start_time": "2022-06-07T17:17:26.773Z"
   },
   {
    "duration": 8,
    "start_time": "2022-06-07T17:17:26.777Z"
   },
   {
    "duration": 8,
    "start_time": "2022-06-07T17:17:26.786Z"
   },
   {
    "duration": 32,
    "start_time": "2022-06-07T17:17:26.795Z"
   },
   {
    "duration": 7,
    "start_time": "2022-06-07T17:17:26.828Z"
   },
   {
    "duration": 17,
    "start_time": "2022-06-07T17:17:26.836Z"
   },
   {
    "duration": 15,
    "start_time": "2022-06-07T17:17:26.854Z"
   },
   {
    "duration": 7,
    "start_time": "2022-06-07T17:17:26.871Z"
   },
   {
    "duration": 5,
    "start_time": "2022-06-07T17:17:26.880Z"
   },
   {
    "duration": 6,
    "start_time": "2022-06-07T17:17:26.887Z"
   },
   {
    "duration": 37,
    "start_time": "2022-06-07T17:17:26.894Z"
   },
   {
    "duration": 4,
    "start_time": "2022-06-07T17:17:26.932Z"
   },
   {
    "duration": 201,
    "start_time": "2022-06-07T17:17:26.938Z"
   },
   {
    "duration": 287,
    "start_time": "2022-06-07T17:17:27.141Z"
   },
   {
    "duration": 4,
    "start_time": "2022-06-07T17:17:27.430Z"
   },
   {
    "duration": 32,
    "start_time": "2022-06-07T17:17:27.435Z"
   },
   {
    "duration": 397,
    "start_time": "2022-06-07T17:17:27.469Z"
   },
   {
    "duration": 16,
    "start_time": "2022-06-07T17:17:27.868Z"
   },
   {
    "duration": 282,
    "start_time": "2022-06-07T17:17:27.885Z"
   },
   {
    "duration": 33,
    "start_time": "2022-06-07T17:17:28.170Z"
   },
   {
    "duration": 123,
    "start_time": "2022-06-07T17:17:28.205Z"
   },
   {
    "duration": 17,
    "start_time": "2022-06-07T17:22:04.411Z"
   },
   {
    "duration": 269,
    "start_time": "2022-06-07T17:22:09.833Z"
   },
   {
    "duration": 4,
    "start_time": "2022-06-07T17:22:17.263Z"
   },
   {
    "duration": 5,
    "start_time": "2022-06-07T17:22:18.710Z"
   },
   {
    "duration": 23,
    "start_time": "2022-06-07T17:22:50.473Z"
   },
   {
    "duration": 16,
    "start_time": "2022-06-07T17:23:03.090Z"
   },
   {
    "duration": 32,
    "start_time": "2022-06-07T17:24:52.108Z"
   },
   {
    "duration": 228,
    "start_time": "2022-06-07T17:27:12.724Z"
   },
   {
    "duration": 1127,
    "start_time": "2022-06-07T17:36:17.107Z"
   },
   {
    "duration": 70,
    "start_time": "2022-06-07T17:36:18.236Z"
   },
   {
    "duration": 13,
    "start_time": "2022-06-07T17:36:18.307Z"
   },
   {
    "duration": 13,
    "start_time": "2022-06-07T17:36:18.322Z"
   },
   {
    "duration": 9,
    "start_time": "2022-06-07T17:36:18.337Z"
   },
   {
    "duration": 19,
    "start_time": "2022-06-07T17:36:18.348Z"
   },
   {
    "duration": 5,
    "start_time": "2022-06-07T17:36:18.369Z"
   },
   {
    "duration": 16,
    "start_time": "2022-06-07T17:36:18.375Z"
   },
   {
    "duration": 2,
    "start_time": "2022-06-07T17:36:18.393Z"
   },
   {
    "duration": 6,
    "start_time": "2022-06-07T17:36:18.427Z"
   },
   {
    "duration": 29,
    "start_time": "2022-06-07T17:36:18.435Z"
   },
   {
    "duration": 4,
    "start_time": "2022-06-07T17:36:18.466Z"
   },
   {
    "duration": 8,
    "start_time": "2022-06-07T17:36:18.471Z"
   },
   {
    "duration": 11,
    "start_time": "2022-06-07T17:36:18.481Z"
   },
   {
    "duration": 14,
    "start_time": "2022-06-07T17:36:18.494Z"
   },
   {
    "duration": 18,
    "start_time": "2022-06-07T17:36:18.509Z"
   },
   {
    "duration": 6,
    "start_time": "2022-06-07T17:36:18.529Z"
   },
   {
    "duration": 7,
    "start_time": "2022-06-07T17:36:18.537Z"
   },
   {
    "duration": 20,
    "start_time": "2022-06-07T17:36:18.546Z"
   },
   {
    "duration": 5,
    "start_time": "2022-06-07T17:36:18.568Z"
   },
   {
    "duration": 257,
    "start_time": "2022-06-07T17:36:18.574Z"
   },
   {
    "duration": 241,
    "start_time": "2022-06-07T17:36:18.833Z"
   },
   {
    "duration": 4,
    "start_time": "2022-06-07T17:36:19.076Z"
   },
   {
    "duration": 28,
    "start_time": "2022-06-07T17:36:19.081Z"
   },
   {
    "duration": 349,
    "start_time": "2022-06-07T17:36:19.110Z"
   },
   {
    "duration": 18,
    "start_time": "2022-06-07T17:36:19.460Z"
   },
   {
    "duration": 248,
    "start_time": "2022-06-07T17:36:19.480Z"
   },
   {
    "duration": 3,
    "start_time": "2022-06-07T17:36:19.731Z"
   },
   {
    "duration": 21,
    "start_time": "2022-06-07T17:36:19.736Z"
   },
   {
    "duration": 232,
    "start_time": "2022-06-07T17:36:19.759Z"
   },
   {
    "duration": 152,
    "start_time": "2022-06-07T17:36:41.536Z"
   },
   {
    "duration": 151,
    "start_time": "2022-06-07T17:37:04.056Z"
   },
   {
    "duration": 139,
    "start_time": "2022-06-07T17:37:15.472Z"
   },
   {
    "duration": 154,
    "start_time": "2022-06-07T17:37:24.353Z"
   },
   {
    "duration": 168,
    "start_time": "2022-06-07T17:37:39.135Z"
   },
   {
    "duration": 226,
    "start_time": "2022-06-07T17:38:09.043Z"
   },
   {
    "duration": 187,
    "start_time": "2022-06-07T17:38:29.992Z"
   },
   {
    "duration": 183,
    "start_time": "2022-06-07T17:40:54.970Z"
   },
   {
    "duration": 27,
    "start_time": "2022-06-07T17:43:18.453Z"
   },
   {
    "duration": 1214,
    "start_time": "2022-06-08T07:34:26.275Z"
   },
   {
    "duration": 115,
    "start_time": "2022-06-08T07:34:27.491Z"
   },
   {
    "duration": 16,
    "start_time": "2022-06-08T07:34:27.607Z"
   },
   {
    "duration": 13,
    "start_time": "2022-06-08T07:34:27.653Z"
   },
   {
    "duration": 9,
    "start_time": "2022-06-08T07:34:27.668Z"
   },
   {
    "duration": 81,
    "start_time": "2022-06-08T07:34:27.679Z"
   },
   {
    "duration": 6,
    "start_time": "2022-06-08T07:34:27.762Z"
   },
   {
    "duration": 19,
    "start_time": "2022-06-08T07:34:27.769Z"
   },
   {
    "duration": 2,
    "start_time": "2022-06-08T07:34:27.790Z"
   },
   {
    "duration": 6,
    "start_time": "2022-06-08T07:34:27.852Z"
   },
   {
    "duration": 9,
    "start_time": "2022-06-08T07:34:27.860Z"
   },
   {
    "duration": 4,
    "start_time": "2022-06-08T07:34:27.871Z"
   },
   {
    "duration": 10,
    "start_time": "2022-06-08T07:34:27.877Z"
   },
   {
    "duration": 11,
    "start_time": "2022-06-08T07:34:27.888Z"
   },
   {
    "duration": 53,
    "start_time": "2022-06-08T07:34:27.900Z"
   },
   {
    "duration": 8,
    "start_time": "2022-06-08T07:34:27.954Z"
   },
   {
    "duration": 9,
    "start_time": "2022-06-08T07:34:27.964Z"
   },
   {
    "duration": 6,
    "start_time": "2022-06-08T07:34:27.974Z"
   },
   {
    "duration": 19,
    "start_time": "2022-06-08T07:34:27.981Z"
   },
   {
    "duration": 6,
    "start_time": "2022-06-08T07:34:28.002Z"
   },
   {
    "duration": 309,
    "start_time": "2022-06-08T07:34:28.010Z"
   },
   {
    "duration": 263,
    "start_time": "2022-06-08T07:34:28.321Z"
   },
   {
    "duration": 4,
    "start_time": "2022-06-08T07:34:28.585Z"
   },
   {
    "duration": 30,
    "start_time": "2022-06-08T07:34:28.590Z"
   },
   {
    "duration": 354,
    "start_time": "2022-06-08T07:34:28.622Z"
   },
   {
    "duration": 18,
    "start_time": "2022-06-08T07:34:28.977Z"
   },
   {
    "duration": 283,
    "start_time": "2022-06-08T07:34:28.996Z"
   },
   {
    "duration": 3,
    "start_time": "2022-06-08T07:34:29.281Z"
   },
   {
    "duration": 27,
    "start_time": "2022-06-08T07:34:29.286Z"
   },
   {
    "duration": 198,
    "start_time": "2022-06-08T07:34:29.315Z"
   },
   {
    "duration": 117,
    "start_time": "2022-06-08T08:01:08.654Z"
   },
   {
    "duration": 1162,
    "start_time": "2022-06-08T08:01:14.721Z"
   },
   {
    "duration": 67,
    "start_time": "2022-06-08T08:01:15.885Z"
   },
   {
    "duration": 14,
    "start_time": "2022-06-08T08:01:15.954Z"
   },
   {
    "duration": 35,
    "start_time": "2022-06-08T08:01:15.970Z"
   },
   {
    "duration": 10,
    "start_time": "2022-06-08T08:01:16.007Z"
   },
   {
    "duration": 58,
    "start_time": "2022-06-08T08:01:16.019Z"
   },
   {
    "duration": 6,
    "start_time": "2022-06-08T08:01:16.078Z"
   },
   {
    "duration": 24,
    "start_time": "2022-06-08T08:01:16.085Z"
   },
   {
    "duration": 2,
    "start_time": "2022-06-08T08:01:16.111Z"
   },
   {
    "duration": 13,
    "start_time": "2022-06-08T08:01:16.117Z"
   },
   {
    "duration": 21,
    "start_time": "2022-06-08T08:01:16.132Z"
   },
   {
    "duration": 4,
    "start_time": "2022-06-08T08:01:16.155Z"
   },
   {
    "duration": 12,
    "start_time": "2022-06-08T08:01:16.161Z"
   },
   {
    "duration": 12,
    "start_time": "2022-06-08T08:01:16.175Z"
   },
   {
    "duration": 14,
    "start_time": "2022-06-08T08:01:16.189Z"
   },
   {
    "duration": 8,
    "start_time": "2022-06-08T08:01:16.204Z"
   },
   {
    "duration": 7,
    "start_time": "2022-06-08T08:01:16.214Z"
   },
   {
    "duration": 6,
    "start_time": "2022-06-08T08:01:16.252Z"
   },
   {
    "duration": 25,
    "start_time": "2022-06-08T08:01:16.260Z"
   },
   {
    "duration": 5,
    "start_time": "2022-06-08T08:01:16.286Z"
   },
   {
    "duration": 264,
    "start_time": "2022-06-08T08:01:16.292Z"
   },
   {
    "duration": 264,
    "start_time": "2022-06-08T08:01:16.557Z"
   },
   {
    "duration": 4,
    "start_time": "2022-06-08T08:01:16.822Z"
   },
   {
    "duration": 36,
    "start_time": "2022-06-08T08:01:16.827Z"
   },
   {
    "duration": 372,
    "start_time": "2022-06-08T08:01:16.864Z"
   },
   {
    "duration": 18,
    "start_time": "2022-06-08T08:01:17.237Z"
   },
   {
    "duration": 274,
    "start_time": "2022-06-08T08:01:17.256Z"
   },
   {
    "duration": 2,
    "start_time": "2022-06-08T08:01:17.535Z"
   },
   {
    "duration": 24,
    "start_time": "2022-06-08T08:01:17.539Z"
   },
   {
    "duration": 196,
    "start_time": "2022-06-08T08:01:17.565Z"
   },
   {
    "duration": 128,
    "start_time": "2022-06-08T08:01:17.763Z"
   },
   {
    "duration": 25,
    "start_time": "2022-06-08T08:01:56.666Z"
   },
   {
    "duration": 16,
    "start_time": "2022-06-08T08:02:06.896Z"
   },
   {
    "duration": 129,
    "start_time": "2022-06-08T08:06:20.899Z"
   },
   {
    "duration": 153,
    "start_time": "2022-06-08T08:07:51.988Z"
   },
   {
    "duration": 6,
    "start_time": "2022-06-08T08:09:19.588Z"
   },
   {
    "duration": 6,
    "start_time": "2022-06-08T08:09:37.149Z"
   },
   {
    "duration": 1103,
    "start_time": "2022-06-08T08:13:35.486Z"
   },
   {
    "duration": 75,
    "start_time": "2022-06-08T08:13:36.591Z"
   },
   {
    "duration": 14,
    "start_time": "2022-06-08T08:13:36.667Z"
   },
   {
    "duration": 16,
    "start_time": "2022-06-08T08:13:36.683Z"
   },
   {
    "duration": 12,
    "start_time": "2022-06-08T08:13:36.701Z"
   },
   {
    "duration": 48,
    "start_time": "2022-06-08T08:13:36.715Z"
   },
   {
    "duration": 6,
    "start_time": "2022-06-08T08:13:36.764Z"
   },
   {
    "duration": 24,
    "start_time": "2022-06-08T08:13:36.772Z"
   },
   {
    "duration": 3,
    "start_time": "2022-06-08T08:13:36.798Z"
   },
   {
    "duration": 12,
    "start_time": "2022-06-08T08:13:36.803Z"
   },
   {
    "duration": 5,
    "start_time": "2022-06-08T08:13:36.817Z"
   },
   {
    "duration": 28,
    "start_time": "2022-06-08T08:13:36.824Z"
   },
   {
    "duration": 7,
    "start_time": "2022-06-08T08:13:36.853Z"
   },
   {
    "duration": 17,
    "start_time": "2022-06-08T08:13:36.861Z"
   },
   {
    "duration": 18,
    "start_time": "2022-06-08T08:13:36.879Z"
   },
   {
    "duration": 8,
    "start_time": "2022-06-08T08:13:36.899Z"
   },
   {
    "duration": 8,
    "start_time": "2022-06-08T08:13:36.908Z"
   },
   {
    "duration": 10,
    "start_time": "2022-06-08T08:13:36.917Z"
   },
   {
    "duration": 37,
    "start_time": "2022-06-08T08:13:36.929Z"
   },
   {
    "duration": 5,
    "start_time": "2022-06-08T08:13:36.967Z"
   },
   {
    "duration": 260,
    "start_time": "2022-06-08T08:13:36.973Z"
   },
   {
    "duration": 264,
    "start_time": "2022-06-08T08:13:37.234Z"
   },
   {
    "duration": 4,
    "start_time": "2022-06-08T08:13:37.499Z"
   },
   {
    "duration": 31,
    "start_time": "2022-06-08T08:13:37.504Z"
   },
   {
    "duration": 371,
    "start_time": "2022-06-08T08:13:37.537Z"
   },
   {
    "duration": 17,
    "start_time": "2022-06-08T08:13:37.910Z"
   },
   {
    "duration": 276,
    "start_time": "2022-06-08T08:13:37.929Z"
   },
   {
    "duration": 2,
    "start_time": "2022-06-08T08:13:38.208Z"
   },
   {
    "duration": 24,
    "start_time": "2022-06-08T08:13:38.212Z"
   },
   {
    "duration": 205,
    "start_time": "2022-06-08T08:13:38.238Z"
   },
   {
    "duration": 24,
    "start_time": "2022-06-08T08:13:38.444Z"
   },
   {
    "duration": 141,
    "start_time": "2022-06-08T08:13:38.470Z"
   },
   {
    "duration": 6,
    "start_time": "2022-06-08T08:13:38.613Z"
   },
   {
    "duration": 144,
    "start_time": "2022-06-08T08:13:38.620Z"
   },
   {
    "duration": 6,
    "start_time": "2022-06-08T08:13:38.765Z"
   },
   {
    "duration": 20,
    "start_time": "2022-06-08T08:17:49.983Z"
   },
   {
    "duration": 17,
    "start_time": "2022-06-08T08:19:07.794Z"
   },
   {
    "duration": 133,
    "start_time": "2022-06-08T08:19:08.441Z"
   },
   {
    "duration": 5,
    "start_time": "2022-06-08T08:19:10.715Z"
   },
   {
    "duration": 117,
    "start_time": "2022-06-08T08:19:11.593Z"
   },
   {
    "duration": 7,
    "start_time": "2022-06-08T08:19:14.765Z"
   },
   {
    "duration": 1116,
    "start_time": "2022-06-08T08:22:08.441Z"
   },
   {
    "duration": 68,
    "start_time": "2022-06-08T08:22:09.562Z"
   },
   {
    "duration": 13,
    "start_time": "2022-06-08T08:22:09.632Z"
   },
   {
    "duration": 25,
    "start_time": "2022-06-08T08:22:09.648Z"
   },
   {
    "duration": 13,
    "start_time": "2022-06-08T08:22:09.675Z"
   },
   {
    "duration": 33,
    "start_time": "2022-06-08T08:22:09.690Z"
   },
   {
    "duration": 4,
    "start_time": "2022-06-08T08:22:09.725Z"
   },
   {
    "duration": 31,
    "start_time": "2022-06-08T08:22:09.731Z"
   },
   {
    "duration": 9,
    "start_time": "2022-06-08T08:22:09.763Z"
   },
   {
    "duration": 20,
    "start_time": "2022-06-08T08:22:09.774Z"
   },
   {
    "duration": 20,
    "start_time": "2022-06-08T08:22:09.796Z"
   },
   {
    "duration": 27,
    "start_time": "2022-06-08T08:22:09.818Z"
   },
   {
    "duration": 19,
    "start_time": "2022-06-08T08:22:09.847Z"
   },
   {
    "duration": 28,
    "start_time": "2022-06-08T08:22:09.867Z"
   },
   {
    "duration": 22,
    "start_time": "2022-06-08T08:22:09.897Z"
   },
   {
    "duration": 17,
    "start_time": "2022-06-08T08:22:09.921Z"
   },
   {
    "duration": 27,
    "start_time": "2022-06-08T08:22:09.940Z"
   },
   {
    "duration": 21,
    "start_time": "2022-06-08T08:22:09.969Z"
   },
   {
    "duration": 37,
    "start_time": "2022-06-08T08:22:09.992Z"
   },
   {
    "duration": 7,
    "start_time": "2022-06-08T08:22:10.031Z"
   },
   {
    "duration": 288,
    "start_time": "2022-06-08T08:22:10.040Z"
   },
   {
    "duration": 282,
    "start_time": "2022-06-08T08:22:10.330Z"
   },
   {
    "duration": 4,
    "start_time": "2022-06-08T08:22:10.614Z"
   },
   {
    "duration": 43,
    "start_time": "2022-06-08T08:22:10.620Z"
   },
   {
    "duration": 459,
    "start_time": "2022-06-08T08:22:10.665Z"
   },
   {
    "duration": 18,
    "start_time": "2022-06-08T08:22:11.126Z"
   },
   {
    "duration": 294,
    "start_time": "2022-06-08T08:22:11.146Z"
   },
   {
    "duration": 9,
    "start_time": "2022-06-08T08:22:11.443Z"
   },
   {
    "duration": 18,
    "start_time": "2022-06-08T08:22:11.453Z"
   },
   {
    "duration": 215,
    "start_time": "2022-06-08T08:22:11.472Z"
   },
   {
    "duration": 17,
    "start_time": "2022-06-08T08:22:11.689Z"
   },
   {
    "duration": 156,
    "start_time": "2022-06-08T08:22:11.707Z"
   },
   {
    "duration": 6,
    "start_time": "2022-06-08T08:22:11.865Z"
   },
   {
    "duration": 150,
    "start_time": "2022-06-08T08:22:11.873Z"
   },
   {
    "duration": 6,
    "start_time": "2022-06-08T08:22:12.026Z"
   },
   {
    "duration": 37,
    "start_time": "2022-06-08T08:22:12.034Z"
   },
   {
    "duration": 168,
    "start_time": "2022-06-08T08:22:12.073Z"
   },
   {
    "duration": 11,
    "start_time": "2022-06-08T08:22:12.243Z"
   },
   {
    "duration": 128,
    "start_time": "2022-06-08T08:22:12.256Z"
   },
   {
    "duration": 5,
    "start_time": "2022-06-08T08:22:12.385Z"
   },
   {
    "duration": 1071,
    "start_time": "2022-06-08T08:24:46.807Z"
   },
   {
    "duration": 69,
    "start_time": "2022-06-08T08:24:47.881Z"
   },
   {
    "duration": 13,
    "start_time": "2022-06-08T08:24:47.953Z"
   },
   {
    "duration": 14,
    "start_time": "2022-06-08T08:24:47.967Z"
   },
   {
    "duration": 9,
    "start_time": "2022-06-08T08:24:47.982Z"
   },
   {
    "duration": 20,
    "start_time": "2022-06-08T08:24:47.993Z"
   },
   {
    "duration": 5,
    "start_time": "2022-06-08T08:24:48.014Z"
   },
   {
    "duration": 15,
    "start_time": "2022-06-08T08:24:48.052Z"
   },
   {
    "duration": 2,
    "start_time": "2022-06-08T08:24:48.069Z"
   },
   {
    "duration": 10,
    "start_time": "2022-06-08T08:24:48.073Z"
   },
   {
    "duration": 13,
    "start_time": "2022-06-08T08:24:48.085Z"
   },
   {
    "duration": 5,
    "start_time": "2022-06-08T08:24:48.100Z"
   },
   {
    "duration": 13,
    "start_time": "2022-06-08T08:24:48.107Z"
   },
   {
    "duration": 13,
    "start_time": "2022-06-08T08:24:48.121Z"
   },
   {
    "duration": 25,
    "start_time": "2022-06-08T08:24:48.136Z"
   },
   {
    "duration": 10,
    "start_time": "2022-06-08T08:24:48.163Z"
   },
   {
    "duration": 6,
    "start_time": "2022-06-08T08:24:48.176Z"
   },
   {
    "duration": 9,
    "start_time": "2022-06-08T08:24:48.183Z"
   },
   {
    "duration": 22,
    "start_time": "2022-06-08T08:24:48.193Z"
   },
   {
    "duration": 5,
    "start_time": "2022-06-08T08:24:48.216Z"
   },
   {
    "duration": 273,
    "start_time": "2022-06-08T08:24:48.222Z"
   },
   {
    "duration": 256,
    "start_time": "2022-06-08T08:24:48.496Z"
   },
   {
    "duration": 4,
    "start_time": "2022-06-08T08:24:48.754Z"
   },
   {
    "duration": 28,
    "start_time": "2022-06-08T08:24:48.760Z"
   },
   {
    "duration": 378,
    "start_time": "2022-06-08T08:24:48.790Z"
   },
   {
    "duration": 18,
    "start_time": "2022-06-08T08:24:49.170Z"
   },
   {
    "duration": 277,
    "start_time": "2022-06-08T08:24:49.192Z"
   },
   {
    "duration": 4,
    "start_time": "2022-06-08T08:24:49.471Z"
   },
   {
    "duration": 21,
    "start_time": "2022-06-08T08:24:49.477Z"
   },
   {
    "duration": 200,
    "start_time": "2022-06-08T08:24:49.500Z"
   },
   {
    "duration": 19,
    "start_time": "2022-06-08T08:24:49.702Z"
   },
   {
    "duration": 148,
    "start_time": "2022-06-08T08:24:49.722Z"
   },
   {
    "duration": 5,
    "start_time": "2022-06-08T08:24:49.872Z"
   },
   {
    "duration": 145,
    "start_time": "2022-06-08T08:24:49.879Z"
   },
   {
    "duration": 6,
    "start_time": "2022-06-08T08:24:50.026Z"
   },
   {
    "duration": 34,
    "start_time": "2022-06-08T08:24:50.033Z"
   },
   {
    "duration": 155,
    "start_time": "2022-06-08T08:24:50.068Z"
   },
   {
    "duration": 5,
    "start_time": "2022-06-08T08:24:50.225Z"
   },
   {
    "duration": 128,
    "start_time": "2022-06-08T08:24:50.231Z"
   },
   {
    "duration": 5,
    "start_time": "2022-06-08T08:24:50.361Z"
   },
   {
    "duration": 12,
    "start_time": "2022-06-08T08:32:36.150Z"
   },
   {
    "duration": 166,
    "start_time": "2022-06-08T08:32:59.647Z"
   },
   {
    "duration": 242,
    "start_time": "2022-06-08T08:35:12.850Z"
   },
   {
    "duration": 1064,
    "start_time": "2022-06-08T08:39:56.621Z"
   },
   {
    "duration": 69,
    "start_time": "2022-06-08T08:39:57.687Z"
   },
   {
    "duration": 12,
    "start_time": "2022-06-08T08:39:57.758Z"
   },
   {
    "duration": 13,
    "start_time": "2022-06-08T08:39:57.772Z"
   },
   {
    "duration": 10,
    "start_time": "2022-06-08T08:39:57.787Z"
   },
   {
    "duration": 22,
    "start_time": "2022-06-08T08:39:57.799Z"
   },
   {
    "duration": 4,
    "start_time": "2022-06-08T08:39:57.823Z"
   },
   {
    "duration": 36,
    "start_time": "2022-06-08T08:39:57.828Z"
   },
   {
    "duration": 2,
    "start_time": "2022-06-08T08:39:57.866Z"
   },
   {
    "duration": 15,
    "start_time": "2022-06-08T08:39:57.870Z"
   },
   {
    "duration": 9,
    "start_time": "2022-06-08T08:39:57.887Z"
   },
   {
    "duration": 4,
    "start_time": "2022-06-08T08:39:57.897Z"
   },
   {
    "duration": 15,
    "start_time": "2022-06-08T08:39:57.902Z"
   },
   {
    "duration": 21,
    "start_time": "2022-06-08T08:39:57.918Z"
   },
   {
    "duration": 30,
    "start_time": "2022-06-08T08:39:57.940Z"
   },
   {
    "duration": 7,
    "start_time": "2022-06-08T08:39:57.971Z"
   },
   {
    "duration": 23,
    "start_time": "2022-06-08T08:39:57.979Z"
   },
   {
    "duration": 12,
    "start_time": "2022-06-08T08:39:58.004Z"
   },
   {
    "duration": 27,
    "start_time": "2022-06-08T08:39:58.018Z"
   },
   {
    "duration": 4,
    "start_time": "2022-06-08T08:39:58.046Z"
   },
   {
    "duration": 256,
    "start_time": "2022-06-08T08:39:58.052Z"
   },
   {
    "duration": 244,
    "start_time": "2022-06-08T08:39:58.310Z"
   },
   {
    "duration": 4,
    "start_time": "2022-06-08T08:39:58.556Z"
   },
   {
    "duration": 30,
    "start_time": "2022-06-08T08:39:58.561Z"
   },
   {
    "duration": 379,
    "start_time": "2022-06-08T08:39:58.593Z"
   },
   {
    "duration": 18,
    "start_time": "2022-06-08T08:39:58.974Z"
   },
   {
    "duration": 282,
    "start_time": "2022-06-08T08:39:58.993Z"
   },
   {
    "duration": 3,
    "start_time": "2022-06-08T08:39:59.278Z"
   },
   {
    "duration": 21,
    "start_time": "2022-06-08T08:39:59.283Z"
   },
   {
    "duration": 198,
    "start_time": "2022-06-08T08:39:59.306Z"
   },
   {
    "duration": 18,
    "start_time": "2022-06-08T08:39:59.506Z"
   },
   {
    "duration": 140,
    "start_time": "2022-06-08T08:39:59.525Z"
   },
   {
    "duration": 5,
    "start_time": "2022-06-08T08:39:59.667Z"
   },
   {
    "duration": 145,
    "start_time": "2022-06-08T08:39:59.673Z"
   },
   {
    "duration": 5,
    "start_time": "2022-06-08T08:39:59.820Z"
   },
   {
    "duration": 38,
    "start_time": "2022-06-08T08:39:59.827Z"
   },
   {
    "duration": 150,
    "start_time": "2022-06-08T08:39:59.867Z"
   },
   {
    "duration": 6,
    "start_time": "2022-06-08T08:40:00.018Z"
   },
   {
    "duration": 121,
    "start_time": "2022-06-08T08:40:00.025Z"
   },
   {
    "duration": 5,
    "start_time": "2022-06-08T08:40:00.152Z"
   },
   {
    "duration": 33,
    "start_time": "2022-06-08T08:40:00.159Z"
   },
   {
    "duration": 163,
    "start_time": "2022-06-08T08:40:00.194Z"
   },
   {
    "duration": 17,
    "start_time": "2022-06-08T08:50:25.591Z"
   },
   {
    "duration": 16,
    "start_time": "2022-06-08T08:51:23.232Z"
   },
   {
    "duration": 12,
    "start_time": "2022-06-08T08:54:19.585Z"
   },
   {
    "duration": 236,
    "start_time": "2022-06-08T08:54:42.365Z"
   },
   {
    "duration": 171,
    "start_time": "2022-06-08T08:55:22.788Z"
   },
   {
    "duration": 231,
    "start_time": "2022-06-08T08:56:14.541Z"
   },
   {
    "duration": 127,
    "start_time": "2022-06-08T08:57:38.838Z"
   },
   {
    "duration": 305,
    "start_time": "2022-06-08T08:58:18.131Z"
   },
   {
    "duration": 327,
    "start_time": "2022-06-08T08:58:40.127Z"
   },
   {
    "duration": 302,
    "start_time": "2022-06-08T08:58:45.807Z"
   },
   {
    "duration": 1123,
    "start_time": "2022-06-08T08:59:09.583Z"
   },
   {
    "duration": 72,
    "start_time": "2022-06-08T08:59:10.708Z"
   },
   {
    "duration": 14,
    "start_time": "2022-06-08T08:59:10.782Z"
   },
   {
    "duration": 30,
    "start_time": "2022-06-08T08:59:10.797Z"
   },
   {
    "duration": 9,
    "start_time": "2022-06-08T08:59:10.829Z"
   },
   {
    "duration": 32,
    "start_time": "2022-06-08T08:59:10.840Z"
   },
   {
    "duration": 14,
    "start_time": "2022-06-08T08:59:10.873Z"
   },
   {
    "duration": 26,
    "start_time": "2022-06-08T08:59:10.888Z"
   },
   {
    "duration": 8,
    "start_time": "2022-06-08T08:59:10.915Z"
   },
   {
    "duration": 11,
    "start_time": "2022-06-08T08:59:10.926Z"
   },
   {
    "duration": 9,
    "start_time": "2022-06-08T08:59:10.938Z"
   },
   {
    "duration": 16,
    "start_time": "2022-06-08T08:59:10.948Z"
   },
   {
    "duration": 18,
    "start_time": "2022-06-08T08:59:10.966Z"
   },
   {
    "duration": 20,
    "start_time": "2022-06-08T08:59:10.985Z"
   },
   {
    "duration": 22,
    "start_time": "2022-06-08T08:59:11.007Z"
   },
   {
    "duration": 12,
    "start_time": "2022-06-08T08:59:11.031Z"
   },
   {
    "duration": 31,
    "start_time": "2022-06-08T08:59:11.045Z"
   },
   {
    "duration": 31,
    "start_time": "2022-06-08T08:59:11.077Z"
   },
   {
    "duration": 19,
    "start_time": "2022-06-08T08:59:11.110Z"
   },
   {
    "duration": 12,
    "start_time": "2022-06-08T08:59:11.130Z"
   },
   {
    "duration": 285,
    "start_time": "2022-06-08T08:59:11.144Z"
   },
   {
    "duration": 297,
    "start_time": "2022-06-08T08:59:11.430Z"
   },
   {
    "duration": 3,
    "start_time": "2022-06-08T08:59:11.729Z"
   },
   {
    "duration": 39,
    "start_time": "2022-06-08T08:59:11.734Z"
   },
   {
    "duration": 388,
    "start_time": "2022-06-08T08:59:11.775Z"
   },
   {
    "duration": 20,
    "start_time": "2022-06-08T08:59:12.165Z"
   },
   {
    "duration": 291,
    "start_time": "2022-06-08T08:59:12.187Z"
   },
   {
    "duration": 2,
    "start_time": "2022-06-08T08:59:12.482Z"
   },
   {
    "duration": 35,
    "start_time": "2022-06-08T08:59:12.486Z"
   },
   {
    "duration": 220,
    "start_time": "2022-06-08T08:59:12.523Z"
   },
   {
    "duration": 25,
    "start_time": "2022-06-08T08:59:12.745Z"
   },
   {
    "duration": 136,
    "start_time": "2022-06-08T08:59:12.772Z"
   },
   {
    "duration": 5,
    "start_time": "2022-06-08T08:59:12.910Z"
   },
   {
    "duration": 149,
    "start_time": "2022-06-08T08:59:12.916Z"
   },
   {
    "duration": 7,
    "start_time": "2022-06-08T08:59:13.066Z"
   },
   {
    "duration": 20,
    "start_time": "2022-06-08T08:59:13.074Z"
   },
   {
    "duration": 145,
    "start_time": "2022-06-08T08:59:13.096Z"
   },
   {
    "duration": 14,
    "start_time": "2022-06-08T08:59:13.254Z"
   },
   {
    "duration": 123,
    "start_time": "2022-06-08T08:59:13.270Z"
   },
   {
    "duration": 5,
    "start_time": "2022-06-08T08:59:13.395Z"
   },
   {
    "duration": 15,
    "start_time": "2022-06-08T08:59:13.402Z"
   },
   {
    "duration": 195,
    "start_time": "2022-06-08T08:59:13.419Z"
   },
   {
    "duration": 387,
    "start_time": "2022-06-08T08:59:13.616Z"
   },
   {
    "duration": 308,
    "start_time": "2022-06-08T08:59:14.005Z"
   },
   {
    "duration": 274,
    "start_time": "2022-06-08T08:59:14.315Z"
   },
   {
    "duration": 284,
    "start_time": "2022-06-08T09:00:13.106Z"
   },
   {
    "duration": 267,
    "start_time": "2022-06-08T09:00:56.819Z"
   },
   {
    "duration": 266,
    "start_time": "2022-06-08T09:01:25.627Z"
   },
   {
    "duration": 265,
    "start_time": "2022-06-08T09:02:08.492Z"
   },
   {
    "duration": 277,
    "start_time": "2022-06-08T09:02:23.459Z"
   },
   {
    "duration": 382,
    "start_time": "2022-06-08T09:02:46.539Z"
   },
   {
    "duration": 17,
    "start_time": "2022-06-08T09:14:36.233Z"
   },
   {
    "duration": 101,
    "start_time": "2022-06-08T09:15:43.756Z"
   },
   {
    "duration": 1087,
    "start_time": "2022-06-08T09:15:56.203Z"
   },
   {
    "duration": 66,
    "start_time": "2022-06-08T09:15:57.292Z"
   },
   {
    "duration": 12,
    "start_time": "2022-06-08T09:15:57.359Z"
   },
   {
    "duration": 21,
    "start_time": "2022-06-08T09:15:57.373Z"
   },
   {
    "duration": 9,
    "start_time": "2022-06-08T09:15:57.396Z"
   },
   {
    "duration": 24,
    "start_time": "2022-06-08T09:15:57.406Z"
   },
   {
    "duration": 20,
    "start_time": "2022-06-08T09:15:57.432Z"
   },
   {
    "duration": 24,
    "start_time": "2022-06-08T09:15:57.454Z"
   },
   {
    "duration": 4,
    "start_time": "2022-06-08T09:15:57.480Z"
   },
   {
    "duration": 9,
    "start_time": "2022-06-08T09:15:57.487Z"
   },
   {
    "duration": 9,
    "start_time": "2022-06-08T09:15:57.498Z"
   },
   {
    "duration": 9,
    "start_time": "2022-06-08T09:15:57.509Z"
   },
   {
    "duration": 10,
    "start_time": "2022-06-08T09:15:57.519Z"
   },
   {
    "duration": 26,
    "start_time": "2022-06-08T09:15:57.531Z"
   },
   {
    "duration": 14,
    "start_time": "2022-06-08T09:15:57.558Z"
   },
   {
    "duration": 17,
    "start_time": "2022-06-08T09:15:57.574Z"
   },
   {
    "duration": 8,
    "start_time": "2022-06-08T09:15:57.593Z"
   },
   {
    "duration": 6,
    "start_time": "2022-06-08T09:15:57.602Z"
   },
   {
    "duration": 22,
    "start_time": "2022-06-08T09:15:57.609Z"
   },
   {
    "duration": 21,
    "start_time": "2022-06-08T09:15:57.633Z"
   },
   {
    "duration": 253,
    "start_time": "2022-06-08T09:15:57.656Z"
   },
   {
    "duration": 272,
    "start_time": "2022-06-08T09:15:57.910Z"
   },
   {
    "duration": 4,
    "start_time": "2022-06-08T09:15:58.183Z"
   },
   {
    "duration": 29,
    "start_time": "2022-06-08T09:15:58.188Z"
   },
   {
    "duration": 366,
    "start_time": "2022-06-08T09:15:58.218Z"
   },
   {
    "duration": 18,
    "start_time": "2022-06-08T09:15:58.585Z"
   },
   {
    "duration": 272,
    "start_time": "2022-06-08T09:15:58.604Z"
   },
   {
    "duration": 2,
    "start_time": "2022-06-08T09:15:58.879Z"
   },
   {
    "duration": 25,
    "start_time": "2022-06-08T09:15:58.882Z"
   },
   {
    "duration": 187,
    "start_time": "2022-06-08T09:15:58.908Z"
   },
   {
    "duration": 18,
    "start_time": "2022-06-08T09:15:59.096Z"
   },
   {
    "duration": 142,
    "start_time": "2022-06-08T09:15:59.115Z"
   },
   {
    "duration": 5,
    "start_time": "2022-06-08T09:15:59.258Z"
   },
   {
    "duration": 137,
    "start_time": "2022-06-08T09:15:59.264Z"
   },
   {
    "duration": 4,
    "start_time": "2022-06-08T09:15:59.403Z"
   },
   {
    "duration": 25,
    "start_time": "2022-06-08T09:15:59.409Z"
   },
   {
    "duration": 149,
    "start_time": "2022-06-08T09:15:59.435Z"
   },
   {
    "duration": 5,
    "start_time": "2022-06-08T09:15:59.586Z"
   },
   {
    "duration": 133,
    "start_time": "2022-06-08T09:15:59.592Z"
   },
   {
    "duration": 5,
    "start_time": "2022-06-08T09:15:59.727Z"
   },
   {
    "duration": 24,
    "start_time": "2022-06-08T09:15:59.734Z"
   },
   {
    "duration": 179,
    "start_time": "2022-06-08T09:15:59.760Z"
   },
   {
    "duration": 384,
    "start_time": "2022-06-08T09:15:59.941Z"
   },
   {
    "duration": 274,
    "start_time": "2022-06-08T09:16:00.328Z"
   },
   {
    "duration": 290,
    "start_time": "2022-06-08T09:16:00.603Z"
   },
   {
    "duration": 19,
    "start_time": "2022-06-08T09:16:00.894Z"
   },
   {
    "duration": 20,
    "start_time": "2022-06-08T09:16:00.915Z"
   },
   {
    "duration": 5,
    "start_time": "2022-06-08T09:16:10.262Z"
   },
   {
    "duration": 19,
    "start_time": "2022-06-08T09:17:52.228Z"
   },
   {
    "duration": 6,
    "start_time": "2022-06-08T09:18:23.540Z"
   },
   {
    "duration": 5,
    "start_time": "2022-06-08T09:19:43.900Z"
   },
   {
    "duration": 34,
    "start_time": "2022-06-08T09:22:14.929Z"
   },
   {
    "duration": 6,
    "start_time": "2022-06-08T09:22:22.250Z"
   },
   {
    "duration": 21,
    "start_time": "2022-06-08T09:29:42.967Z"
   },
   {
    "duration": 7,
    "start_time": "2022-06-08T09:30:34.767Z"
   },
   {
    "duration": 17,
    "start_time": "2022-06-08T09:31:21.230Z"
   },
   {
    "duration": 6,
    "start_time": "2022-06-08T09:31:54.094Z"
   },
   {
    "duration": 5,
    "start_time": "2022-06-08T09:33:03.287Z"
   },
   {
    "duration": 1091,
    "start_time": "2022-06-08T09:33:41.183Z"
   },
   {
    "duration": 66,
    "start_time": "2022-06-08T09:33:42.276Z"
   },
   {
    "duration": 12,
    "start_time": "2022-06-08T09:33:42.344Z"
   },
   {
    "duration": 13,
    "start_time": "2022-06-08T09:33:42.359Z"
   },
   {
    "duration": 9,
    "start_time": "2022-06-08T09:33:42.374Z"
   },
   {
    "duration": 21,
    "start_time": "2022-06-08T09:33:42.385Z"
   },
   {
    "duration": 4,
    "start_time": "2022-06-08T09:33:42.407Z"
   },
   {
    "duration": 41,
    "start_time": "2022-06-08T09:33:42.412Z"
   },
   {
    "duration": 2,
    "start_time": "2022-06-08T09:33:42.455Z"
   },
   {
    "duration": 10,
    "start_time": "2022-06-08T09:33:42.460Z"
   },
   {
    "duration": 32,
    "start_time": "2022-06-08T09:33:42.472Z"
   },
   {
    "duration": 26,
    "start_time": "2022-06-08T09:33:42.506Z"
   },
   {
    "duration": 10,
    "start_time": "2022-06-08T09:33:42.534Z"
   },
   {
    "duration": 21,
    "start_time": "2022-06-08T09:33:42.545Z"
   },
   {
    "duration": 19,
    "start_time": "2022-06-08T09:33:42.568Z"
   },
   {
    "duration": 26,
    "start_time": "2022-06-08T09:33:42.589Z"
   },
   {
    "duration": 6,
    "start_time": "2022-06-08T09:33:42.616Z"
   },
   {
    "duration": 10,
    "start_time": "2022-06-08T09:33:42.624Z"
   },
   {
    "duration": 31,
    "start_time": "2022-06-08T09:33:42.636Z"
   },
   {
    "duration": 6,
    "start_time": "2022-06-08T09:33:42.669Z"
   },
   {
    "duration": 276,
    "start_time": "2022-06-08T09:33:42.676Z"
   },
   {
    "duration": 269,
    "start_time": "2022-06-08T09:33:42.953Z"
   },
   {
    "duration": 4,
    "start_time": "2022-06-08T09:33:43.223Z"
   },
   {
    "duration": 37,
    "start_time": "2022-06-08T09:33:43.228Z"
   },
   {
    "duration": 350,
    "start_time": "2022-06-08T09:33:43.266Z"
   },
   {
    "duration": 19,
    "start_time": "2022-06-08T09:33:43.617Z"
   },
   {
    "duration": 282,
    "start_time": "2022-06-08T09:33:43.637Z"
   },
   {
    "duration": 3,
    "start_time": "2022-06-08T09:33:43.923Z"
   },
   {
    "duration": 26,
    "start_time": "2022-06-08T09:33:43.927Z"
   },
   {
    "duration": 200,
    "start_time": "2022-06-08T09:33:43.955Z"
   },
   {
    "duration": 24,
    "start_time": "2022-06-08T09:33:44.157Z"
   },
   {
    "duration": 153,
    "start_time": "2022-06-08T09:33:44.183Z"
   },
   {
    "duration": 15,
    "start_time": "2022-06-08T09:33:44.339Z"
   },
   {
    "duration": 145,
    "start_time": "2022-06-08T09:33:44.356Z"
   },
   {
    "duration": 5,
    "start_time": "2022-06-08T09:33:44.502Z"
   },
   {
    "duration": 30,
    "start_time": "2022-06-08T09:33:44.509Z"
   },
   {
    "duration": 129,
    "start_time": "2022-06-08T09:33:44.540Z"
   },
   {
    "duration": 5,
    "start_time": "2022-06-08T09:33:44.671Z"
   },
   {
    "duration": 129,
    "start_time": "2022-06-08T09:33:44.677Z"
   },
   {
    "duration": 5,
    "start_time": "2022-06-08T09:33:44.808Z"
   },
   {
    "duration": 17,
    "start_time": "2022-06-08T09:33:44.815Z"
   },
   {
    "duration": 175,
    "start_time": "2022-06-08T09:33:44.833Z"
   },
   {
    "duration": 414,
    "start_time": "2022-06-08T09:33:45.010Z"
   },
   {
    "duration": 258,
    "start_time": "2022-06-08T09:33:45.427Z"
   },
   {
    "duration": 272,
    "start_time": "2022-06-08T09:33:45.687Z"
   },
   {
    "duration": 15,
    "start_time": "2022-06-08T09:33:45.961Z"
   },
   {
    "duration": 14,
    "start_time": "2022-06-08T09:33:45.977Z"
   },
   {
    "duration": 22,
    "start_time": "2022-06-08T09:33:45.992Z"
   },
   {
    "duration": 7,
    "start_time": "2022-06-08T09:33:46.016Z"
   },
   {
    "duration": 8,
    "start_time": "2022-06-08T09:33:46.025Z"
   },
   {
    "duration": 37,
    "start_time": "2022-06-08T09:33:46.034Z"
   },
   {
    "duration": 9,
    "start_time": "2022-06-08T09:33:46.073Z"
   },
   {
    "duration": 21,
    "start_time": "2022-06-08T09:33:46.083Z"
   },
   {
    "duration": 13,
    "start_time": "2022-06-08T09:33:46.106Z"
   },
   {
    "duration": 8,
    "start_time": "2022-06-08T09:33:46.120Z"
   },
   {
    "duration": 21,
    "start_time": "2022-06-08T09:33:46.131Z"
   },
   {
    "duration": 265,
    "start_time": "2022-06-08T09:50:13.994Z"
   },
   {
    "duration": 270,
    "start_time": "2022-06-08T09:50:23.826Z"
   },
   {
    "duration": 251,
    "start_time": "2022-06-08T09:50:32.274Z"
   },
   {
    "duration": 160,
    "start_time": "2022-06-08T10:32:22.672Z"
   },
   {
    "duration": 244,
    "start_time": "2022-06-08T10:35:05.356Z"
   },
   {
    "duration": 176,
    "start_time": "2022-06-08T10:35:23.636Z"
   },
   {
    "duration": 9,
    "start_time": "2022-06-08T10:47:30.657Z"
   },
   {
    "duration": 138,
    "start_time": "2022-06-08T10:48:22.948Z"
   },
   {
    "duration": 152,
    "start_time": "2022-06-08T10:50:40.142Z"
   },
   {
    "duration": 1083,
    "start_time": "2022-06-08T10:51:57.381Z"
   },
   {
    "duration": 70,
    "start_time": "2022-06-08T10:51:58.466Z"
   },
   {
    "duration": 12,
    "start_time": "2022-06-08T10:51:58.538Z"
   },
   {
    "duration": 14,
    "start_time": "2022-06-08T10:51:58.552Z"
   },
   {
    "duration": 8,
    "start_time": "2022-06-08T10:51:58.568Z"
   },
   {
    "duration": 21,
    "start_time": "2022-06-08T10:51:58.578Z"
   },
   {
    "duration": 5,
    "start_time": "2022-06-08T10:51:58.601Z"
   },
   {
    "duration": 45,
    "start_time": "2022-06-08T10:51:58.608Z"
   },
   {
    "duration": 3,
    "start_time": "2022-06-08T10:51:58.655Z"
   },
   {
    "duration": 12,
    "start_time": "2022-06-08T10:51:58.661Z"
   },
   {
    "duration": 11,
    "start_time": "2022-06-08T10:51:58.674Z"
   },
   {
    "duration": 11,
    "start_time": "2022-06-08T10:51:58.686Z"
   },
   {
    "duration": 14,
    "start_time": "2022-06-08T10:51:58.698Z"
   },
   {
    "duration": 13,
    "start_time": "2022-06-08T10:51:58.713Z"
   },
   {
    "duration": 33,
    "start_time": "2022-06-08T10:51:58.727Z"
   },
   {
    "duration": 20,
    "start_time": "2022-06-08T10:51:58.761Z"
   },
   {
    "duration": 8,
    "start_time": "2022-06-08T10:51:58.782Z"
   },
   {
    "duration": 10,
    "start_time": "2022-06-08T10:51:58.792Z"
   },
   {
    "duration": 25,
    "start_time": "2022-06-08T10:51:58.803Z"
   },
   {
    "duration": 4,
    "start_time": "2022-06-08T10:51:58.829Z"
   },
   {
    "duration": 247,
    "start_time": "2022-06-08T10:51:58.835Z"
   },
   {
    "duration": 274,
    "start_time": "2022-06-08T10:51:59.084Z"
   },
   {
    "duration": 4,
    "start_time": "2022-06-08T10:51:59.359Z"
   },
   {
    "duration": 30,
    "start_time": "2022-06-08T10:51:59.364Z"
   },
   {
    "duration": 344,
    "start_time": "2022-06-08T10:51:59.396Z"
   },
   {
    "duration": 19,
    "start_time": "2022-06-08T10:51:59.741Z"
   },
   {
    "duration": 287,
    "start_time": "2022-06-08T10:51:59.761Z"
   },
   {
    "duration": 2,
    "start_time": "2022-06-08T10:52:00.052Z"
   },
   {
    "duration": 22,
    "start_time": "2022-06-08T10:52:00.056Z"
   },
   {
    "duration": 221,
    "start_time": "2022-06-08T10:52:00.080Z"
   },
   {
    "duration": 23,
    "start_time": "2022-06-08T10:52:00.303Z"
   },
   {
    "duration": 155,
    "start_time": "2022-06-08T10:52:00.328Z"
   },
   {
    "duration": 5,
    "start_time": "2022-06-08T10:52:00.485Z"
   },
   {
    "duration": 175,
    "start_time": "2022-06-08T10:52:00.491Z"
   },
   {
    "duration": 5,
    "start_time": "2022-06-08T10:52:00.668Z"
   },
   {
    "duration": 54,
    "start_time": "2022-06-08T10:52:00.674Z"
   },
   {
    "duration": 182,
    "start_time": "2022-06-08T10:52:00.730Z"
   },
   {
    "duration": 5,
    "start_time": "2022-06-08T10:52:00.914Z"
   },
   {
    "duration": 195,
    "start_time": "2022-06-08T10:52:00.921Z"
   },
   {
    "duration": 6,
    "start_time": "2022-06-08T10:52:01.117Z"
   },
   {
    "duration": 88,
    "start_time": "2022-06-08T10:52:01.125Z"
   },
   {
    "duration": 182,
    "start_time": "2022-06-08T10:52:01.214Z"
   },
   {
    "duration": 7,
    "start_time": "2022-06-08T10:52:01.398Z"
   },
   {
    "duration": 250,
    "start_time": "2022-06-08T10:52:01.406Z"
   },
   {
    "duration": 282,
    "start_time": "2022-06-08T10:52:01.658Z"
   },
   {
    "duration": 291,
    "start_time": "2022-06-08T10:52:01.951Z"
   },
   {
    "duration": 22,
    "start_time": "2022-06-08T10:52:02.244Z"
   },
   {
    "duration": 23,
    "start_time": "2022-06-08T10:52:02.267Z"
   },
   {
    "duration": 23,
    "start_time": "2022-06-08T10:52:02.291Z"
   },
   {
    "duration": 47,
    "start_time": "2022-06-08T10:52:02.315Z"
   },
   {
    "duration": 29,
    "start_time": "2022-06-08T10:52:02.364Z"
   },
   {
    "duration": 39,
    "start_time": "2022-06-08T10:52:02.395Z"
   },
   {
    "duration": 38,
    "start_time": "2022-06-08T10:52:02.436Z"
   },
   {
    "duration": 36,
    "start_time": "2022-06-08T10:52:02.476Z"
   },
   {
    "duration": 47,
    "start_time": "2022-06-08T10:52:02.514Z"
   },
   {
    "duration": 15,
    "start_time": "2022-06-08T10:52:02.563Z"
   },
   {
    "duration": 8,
    "start_time": "2022-06-08T10:52:55.413Z"
   },
   {
    "duration": 150,
    "start_time": "2022-06-08T10:53:37.548Z"
   },
   {
    "duration": 7,
    "start_time": "2022-06-08T10:58:58.905Z"
   },
   {
    "duration": 155,
    "start_time": "2022-06-08T10:59:01.905Z"
   },
   {
    "duration": 1630,
    "start_time": "2022-06-08T11:03:34.281Z"
   },
   {
    "duration": 76,
    "start_time": "2022-06-08T11:03:35.913Z"
   },
   {
    "duration": 15,
    "start_time": "2022-06-08T11:03:35.994Z"
   },
   {
    "duration": 16,
    "start_time": "2022-06-08T11:03:36.011Z"
   },
   {
    "duration": 31,
    "start_time": "2022-06-08T11:03:36.029Z"
   },
   {
    "duration": 28,
    "start_time": "2022-06-08T11:03:36.061Z"
   },
   {
    "duration": 7,
    "start_time": "2022-06-08T11:03:36.091Z"
   },
   {
    "duration": 27,
    "start_time": "2022-06-08T11:03:36.099Z"
   },
   {
    "duration": 3,
    "start_time": "2022-06-08T11:03:36.157Z"
   },
   {
    "duration": 20,
    "start_time": "2022-06-08T11:03:36.162Z"
   },
   {
    "duration": 27,
    "start_time": "2022-06-08T11:03:36.184Z"
   },
   {
    "duration": 8,
    "start_time": "2022-06-08T11:03:36.212Z"
   },
   {
    "duration": 14,
    "start_time": "2022-06-08T11:03:36.222Z"
   },
   {
    "duration": 15,
    "start_time": "2022-06-08T11:03:36.238Z"
   },
   {
    "duration": 20,
    "start_time": "2022-06-08T11:03:36.255Z"
   },
   {
    "duration": 16,
    "start_time": "2022-06-08T11:03:36.277Z"
   },
   {
    "duration": 15,
    "start_time": "2022-06-08T11:03:36.295Z"
   },
   {
    "duration": 15,
    "start_time": "2022-06-08T11:03:36.312Z"
   },
   {
    "duration": 26,
    "start_time": "2022-06-08T11:03:36.329Z"
   },
   {
    "duration": 6,
    "start_time": "2022-06-08T11:03:36.358Z"
   },
   {
    "duration": 308,
    "start_time": "2022-06-08T11:03:36.366Z"
   },
   {
    "duration": 301,
    "start_time": "2022-06-08T11:03:36.677Z"
   },
   {
    "duration": 5,
    "start_time": "2022-06-08T11:03:36.980Z"
   },
   {
    "duration": 37,
    "start_time": "2022-06-08T11:03:36.987Z"
   },
   {
    "duration": 450,
    "start_time": "2022-06-08T11:03:37.026Z"
   },
   {
    "duration": 22,
    "start_time": "2022-06-08T11:03:37.478Z"
   },
   {
    "duration": 325,
    "start_time": "2022-06-08T11:03:37.505Z"
   },
   {
    "duration": 3,
    "start_time": "2022-06-08T11:03:37.832Z"
   },
   {
    "duration": 30,
    "start_time": "2022-06-08T11:03:37.836Z"
   },
   {
    "duration": 222,
    "start_time": "2022-06-08T11:03:37.868Z"
   },
   {
    "duration": 19,
    "start_time": "2022-06-08T11:03:38.092Z"
   },
   {
    "duration": 167,
    "start_time": "2022-06-08T11:03:38.113Z"
   },
   {
    "duration": 6,
    "start_time": "2022-06-08T11:03:38.283Z"
   },
   {
    "duration": 155,
    "start_time": "2022-06-08T11:03:38.291Z"
   },
   {
    "duration": 5,
    "start_time": "2022-06-08T11:03:38.452Z"
   },
   {
    "duration": 35,
    "start_time": "2022-06-08T11:03:38.459Z"
   },
   {
    "duration": 151,
    "start_time": "2022-06-08T11:03:38.496Z"
   },
   {
    "duration": 6,
    "start_time": "2022-06-08T11:03:38.651Z"
   },
   {
    "duration": 142,
    "start_time": "2022-06-08T11:03:38.659Z"
   },
   {
    "duration": 5,
    "start_time": "2022-06-08T11:03:38.803Z"
   },
   {
    "duration": 17,
    "start_time": "2022-06-08T11:03:38.811Z"
   },
   {
    "duration": 197,
    "start_time": "2022-06-08T11:03:38.830Z"
   },
   {
    "duration": 6,
    "start_time": "2022-06-08T11:03:39.029Z"
   },
   {
    "duration": 283,
    "start_time": "2022-06-08T11:03:39.037Z"
   },
   {
    "duration": 7,
    "start_time": "2022-06-08T11:03:39.322Z"
   },
   {
    "duration": 199,
    "start_time": "2022-06-08T11:03:39.331Z"
   },
   {
    "duration": 7,
    "start_time": "2022-06-08T11:03:39.532Z"
   },
   {
    "duration": 165,
    "start_time": "2022-06-08T11:03:39.541Z"
   },
   {
    "duration": 18,
    "start_time": "2022-06-08T11:03:39.707Z"
   },
   {
    "duration": 9,
    "start_time": "2022-06-08T11:03:39.727Z"
   },
   {
    "duration": 27,
    "start_time": "2022-06-08T11:03:39.738Z"
   },
   {
    "duration": 12,
    "start_time": "2022-06-08T11:03:39.767Z"
   },
   {
    "duration": 11,
    "start_time": "2022-06-08T11:03:39.781Z"
   },
   {
    "duration": 43,
    "start_time": "2022-06-08T11:03:39.794Z"
   },
   {
    "duration": 8,
    "start_time": "2022-06-08T11:03:39.839Z"
   },
   {
    "duration": 28,
    "start_time": "2022-06-08T11:03:39.848Z"
   },
   {
    "duration": 18,
    "start_time": "2022-06-08T11:03:39.878Z"
   },
   {
    "duration": 10,
    "start_time": "2022-06-08T11:03:39.898Z"
   },
   {
    "duration": 108,
    "start_time": "2022-06-08T11:28:44.949Z"
   },
   {
    "duration": 17,
    "start_time": "2022-06-08T11:28:56.693Z"
   },
   {
    "duration": 5,
    "start_time": "2022-06-08T11:29:15.446Z"
   },
   {
    "duration": 4,
    "start_time": "2022-06-08T11:29:25.860Z"
   },
   {
    "duration": 1169,
    "start_time": "2022-06-08T11:29:39.035Z"
   },
   {
    "duration": 70,
    "start_time": "2022-06-08T11:29:40.205Z"
   },
   {
    "duration": 13,
    "start_time": "2022-06-08T11:29:40.276Z"
   },
   {
    "duration": 16,
    "start_time": "2022-06-08T11:29:40.291Z"
   },
   {
    "duration": 8,
    "start_time": "2022-06-08T11:29:40.308Z"
   },
   {
    "duration": 38,
    "start_time": "2022-06-08T11:29:40.317Z"
   },
   {
    "duration": 4,
    "start_time": "2022-06-08T11:29:40.356Z"
   },
   {
    "duration": 21,
    "start_time": "2022-06-08T11:29:40.361Z"
   },
   {
    "duration": 2,
    "start_time": "2022-06-08T11:29:40.384Z"
   },
   {
    "duration": 12,
    "start_time": "2022-06-08T11:29:40.388Z"
   },
   {
    "duration": 7,
    "start_time": "2022-06-08T11:29:40.402Z"
   },
   {
    "duration": 4,
    "start_time": "2022-06-08T11:29:40.410Z"
   },
   {
    "duration": 14,
    "start_time": "2022-06-08T11:29:40.416Z"
   },
   {
    "duration": 32,
    "start_time": "2022-06-08T11:29:40.431Z"
   },
   {
    "duration": 39,
    "start_time": "2022-06-08T11:29:40.465Z"
   },
   {
    "duration": 8,
    "start_time": "2022-06-08T11:29:40.506Z"
   },
   {
    "duration": 12,
    "start_time": "2022-06-08T11:29:40.516Z"
   },
   {
    "duration": 6,
    "start_time": "2022-06-08T11:29:40.530Z"
   },
   {
    "duration": 19,
    "start_time": "2022-06-08T11:29:40.538Z"
   },
   {
    "duration": 5,
    "start_time": "2022-06-08T11:29:40.558Z"
   },
   {
    "duration": 250,
    "start_time": "2022-06-08T11:29:40.565Z"
   },
   {
    "duration": 266,
    "start_time": "2022-06-08T11:29:40.817Z"
   },
   {
    "duration": 4,
    "start_time": "2022-06-08T11:29:41.084Z"
   },
   {
    "duration": 31,
    "start_time": "2022-06-08T11:29:41.089Z"
   },
   {
    "duration": 358,
    "start_time": "2022-06-08T11:29:41.122Z"
   },
   {
    "duration": 18,
    "start_time": "2022-06-08T11:29:41.481Z"
   },
   {
    "duration": 267,
    "start_time": "2022-06-08T11:29:41.501Z"
   },
   {
    "duration": 2,
    "start_time": "2022-06-08T11:29:41.772Z"
   },
   {
    "duration": 21,
    "start_time": "2022-06-08T11:29:41.776Z"
   },
   {
    "duration": 193,
    "start_time": "2022-06-08T11:29:41.798Z"
   },
   {
    "duration": 16,
    "start_time": "2022-06-08T11:29:41.992Z"
   },
   {
    "duration": 131,
    "start_time": "2022-06-08T11:29:42.009Z"
   },
   {
    "duration": 12,
    "start_time": "2022-06-08T11:29:42.142Z"
   },
   {
    "duration": 132,
    "start_time": "2022-06-08T11:29:42.155Z"
   },
   {
    "duration": 4,
    "start_time": "2022-06-08T11:29:42.289Z"
   },
   {
    "duration": 29,
    "start_time": "2022-06-08T11:29:42.294Z"
   },
   {
    "duration": 129,
    "start_time": "2022-06-08T11:29:42.324Z"
   },
   {
    "duration": 4,
    "start_time": "2022-06-08T11:29:42.455Z"
   },
   {
    "duration": 132,
    "start_time": "2022-06-08T11:29:42.460Z"
   },
   {
    "duration": 5,
    "start_time": "2022-06-08T11:29:42.594Z"
   },
   {
    "duration": 14,
    "start_time": "2022-06-08T11:29:42.601Z"
   },
   {
    "duration": 177,
    "start_time": "2022-06-08T11:29:42.616Z"
   },
   {
    "duration": 2,
    "start_time": "2022-06-08T11:29:42.795Z"
   },
   {
    "duration": 11,
    "start_time": "2022-06-08T11:29:42.798Z"
   },
   {
    "duration": 103,
    "start_time": "2022-06-08T11:29:42.810Z"
   },
   {
    "duration": 0,
    "start_time": "2022-06-08T11:29:42.914Z"
   },
   {
    "duration": 0,
    "start_time": "2022-06-08T11:29:42.916Z"
   },
   {
    "duration": 0,
    "start_time": "2022-06-08T11:29:42.917Z"
   },
   {
    "duration": 0,
    "start_time": "2022-06-08T11:29:42.917Z"
   },
   {
    "duration": 0,
    "start_time": "2022-06-08T11:29:42.918Z"
   },
   {
    "duration": 0,
    "start_time": "2022-06-08T11:29:42.919Z"
   },
   {
    "duration": 0,
    "start_time": "2022-06-08T11:29:42.921Z"
   },
   {
    "duration": 0,
    "start_time": "2022-06-08T11:29:42.922Z"
   },
   {
    "duration": 0,
    "start_time": "2022-06-08T11:29:42.923Z"
   },
   {
    "duration": 0,
    "start_time": "2022-06-08T11:29:42.924Z"
   },
   {
    "duration": 0,
    "start_time": "2022-06-08T11:29:42.925Z"
   },
   {
    "duration": 0,
    "start_time": "2022-06-08T11:29:42.926Z"
   },
   {
    "duration": 0,
    "start_time": "2022-06-08T11:29:42.952Z"
   },
   {
    "duration": 0,
    "start_time": "2022-06-08T11:29:42.953Z"
   },
   {
    "duration": 0,
    "start_time": "2022-06-08T11:29:42.954Z"
   },
   {
    "duration": 0,
    "start_time": "2022-06-08T11:29:42.956Z"
   },
   {
    "duration": 0,
    "start_time": "2022-06-08T11:29:42.957Z"
   },
   {
    "duration": 0,
    "start_time": "2022-06-08T11:29:42.958Z"
   },
   {
    "duration": 0,
    "start_time": "2022-06-08T11:29:42.959Z"
   },
   {
    "duration": 0,
    "start_time": "2022-06-08T11:29:42.960Z"
   },
   {
    "duration": 6,
    "start_time": "2022-06-08T11:30:03.604Z"
   },
   {
    "duration": 16,
    "start_time": "2022-06-08T11:32:44.507Z"
   },
   {
    "duration": 26,
    "start_time": "2022-06-08T11:36:13.495Z"
   },
   {
    "duration": 23,
    "start_time": "2022-06-08T11:36:13.812Z"
   },
   {
    "duration": 28,
    "start_time": "2022-06-08T11:36:19.547Z"
   },
   {
    "duration": 222,
    "start_time": "2022-06-08T11:39:12.509Z"
   },
   {
    "duration": 119,
    "start_time": "2022-06-08T11:39:39.617Z"
   },
   {
    "duration": 272,
    "start_time": "2022-06-08T11:39:54.096Z"
   },
   {
    "duration": 826,
    "start_time": "2022-06-08T11:41:35.710Z"
   },
   {
    "duration": 770,
    "start_time": "2022-06-08T11:45:11.768Z"
   },
   {
    "duration": 1265,
    "start_time": "2022-06-08T11:47:32.435Z"
   },
   {
    "duration": 69,
    "start_time": "2022-06-08T11:47:33.702Z"
   },
   {
    "duration": 14,
    "start_time": "2022-06-08T11:47:33.773Z"
   },
   {
    "duration": 30,
    "start_time": "2022-06-08T11:47:33.789Z"
   },
   {
    "duration": 10,
    "start_time": "2022-06-08T11:47:33.821Z"
   },
   {
    "duration": 38,
    "start_time": "2022-06-08T11:47:33.833Z"
   },
   {
    "duration": 4,
    "start_time": "2022-06-08T11:47:33.873Z"
   },
   {
    "duration": 32,
    "start_time": "2022-06-08T11:47:33.879Z"
   },
   {
    "duration": 8,
    "start_time": "2022-06-08T11:47:33.912Z"
   },
   {
    "duration": 19,
    "start_time": "2022-06-08T11:47:33.923Z"
   },
   {
    "duration": 23,
    "start_time": "2022-06-08T11:47:33.944Z"
   },
   {
    "duration": 14,
    "start_time": "2022-06-08T11:47:33.969Z"
   },
   {
    "duration": 26,
    "start_time": "2022-06-08T11:47:33.985Z"
   },
   {
    "duration": 31,
    "start_time": "2022-06-08T11:47:34.013Z"
   },
   {
    "duration": 37,
    "start_time": "2022-06-08T11:47:34.046Z"
   },
   {
    "duration": 26,
    "start_time": "2022-06-08T11:47:34.085Z"
   },
   {
    "duration": 27,
    "start_time": "2022-06-08T11:47:34.114Z"
   },
   {
    "duration": 19,
    "start_time": "2022-06-08T11:47:34.143Z"
   },
   {
    "duration": 39,
    "start_time": "2022-06-08T11:47:34.164Z"
   },
   {
    "duration": 4,
    "start_time": "2022-06-08T11:47:34.205Z"
   },
   {
    "duration": 285,
    "start_time": "2022-06-08T11:47:34.210Z"
   },
   {
    "duration": 266,
    "start_time": "2022-06-08T11:47:34.497Z"
   },
   {
    "duration": 4,
    "start_time": "2022-06-08T11:47:34.764Z"
   },
   {
    "duration": 33,
    "start_time": "2022-06-08T11:47:34.769Z"
   },
   {
    "duration": 364,
    "start_time": "2022-06-08T11:47:34.804Z"
   },
   {
    "duration": 25,
    "start_time": "2022-06-08T11:47:35.170Z"
   },
   {
    "duration": 360,
    "start_time": "2022-06-08T11:47:35.197Z"
   },
   {
    "duration": 2,
    "start_time": "2022-06-08T11:47:35.561Z"
   },
   {
    "duration": 23,
    "start_time": "2022-06-08T11:47:35.565Z"
   },
   {
    "duration": 211,
    "start_time": "2022-06-08T11:47:35.589Z"
   },
   {
    "duration": 19,
    "start_time": "2022-06-08T11:47:35.801Z"
   },
   {
    "duration": 159,
    "start_time": "2022-06-08T11:47:35.822Z"
   },
   {
    "duration": 5,
    "start_time": "2022-06-08T11:47:35.983Z"
   },
   {
    "duration": 179,
    "start_time": "2022-06-08T11:47:35.989Z"
   },
   {
    "duration": 5,
    "start_time": "2022-06-08T11:47:36.170Z"
   },
   {
    "duration": 35,
    "start_time": "2022-06-08T11:47:36.176Z"
   },
   {
    "duration": 141,
    "start_time": "2022-06-08T11:47:36.212Z"
   },
   {
    "duration": 6,
    "start_time": "2022-06-08T11:47:36.354Z"
   },
   {
    "duration": 129,
    "start_time": "2022-06-08T11:47:36.361Z"
   },
   {
    "duration": 6,
    "start_time": "2022-06-08T11:47:36.492Z"
   },
   {
    "duration": 21,
    "start_time": "2022-06-08T11:47:36.500Z"
   },
   {
    "duration": 174,
    "start_time": "2022-06-08T11:47:36.523Z"
   },
   {
    "duration": 798,
    "start_time": "2022-06-08T11:47:36.699Z"
   },
   {
    "duration": 769,
    "start_time": "2022-06-08T11:47:37.499Z"
   },
   {
    "duration": 16,
    "start_time": "2022-06-08T11:47:38.269Z"
   },
   {
    "duration": 14,
    "start_time": "2022-06-08T11:47:38.286Z"
   },
   {
    "duration": 19,
    "start_time": "2022-06-08T11:47:38.301Z"
   },
   {
    "duration": 15,
    "start_time": "2022-06-08T11:47:38.321Z"
   },
   {
    "duration": 15,
    "start_time": "2022-06-08T11:47:38.338Z"
   },
   {
    "duration": 16,
    "start_time": "2022-06-08T11:47:38.354Z"
   },
   {
    "duration": 9,
    "start_time": "2022-06-08T11:47:38.372Z"
   },
   {
    "duration": 28,
    "start_time": "2022-06-08T11:47:38.382Z"
   },
   {
    "duration": 8,
    "start_time": "2022-06-08T11:47:38.412Z"
   },
   {
    "duration": 11,
    "start_time": "2022-06-08T11:47:38.422Z"
   },
   {
    "duration": 15,
    "start_time": "2022-06-08T11:55:20.138Z"
   },
   {
    "duration": 16,
    "start_time": "2022-06-08T11:56:06.985Z"
   },
   {
    "duration": 54,
    "start_time": "2022-06-08T11:58:07.628Z"
   },
   {
    "duration": 63,
    "start_time": "2022-06-08T11:58:22.070Z"
   },
   {
    "duration": 17,
    "start_time": "2022-06-08T11:58:48.176Z"
   },
   {
    "duration": 261,
    "start_time": "2022-06-08T11:59:20.440Z"
   },
   {
    "duration": 180,
    "start_time": "2022-06-08T11:59:43.320Z"
   },
   {
    "duration": 16,
    "start_time": "2022-06-08T12:00:00.362Z"
   },
   {
    "duration": 16,
    "start_time": "2022-06-08T12:02:46.024Z"
   },
   {
    "duration": 449,
    "start_time": "2022-06-08T12:03:20.811Z"
   },
   {
    "duration": 29,
    "start_time": "2022-06-08T12:03:41.684Z"
   },
   {
    "duration": 21,
    "start_time": "2022-06-08T12:03:51.067Z"
   },
   {
    "duration": 155,
    "start_time": "2022-06-08T12:03:59.858Z"
   },
   {
    "duration": 1195,
    "start_time": "2022-06-08T12:10:44.772Z"
   },
   {
    "duration": 84,
    "start_time": "2022-06-08T12:10:45.969Z"
   },
   {
    "duration": 12,
    "start_time": "2022-06-08T12:10:46.055Z"
   },
   {
    "duration": 14,
    "start_time": "2022-06-08T12:10:46.069Z"
   },
   {
    "duration": 8,
    "start_time": "2022-06-08T12:10:46.085Z"
   },
   {
    "duration": 24,
    "start_time": "2022-06-08T12:10:46.095Z"
   },
   {
    "duration": 36,
    "start_time": "2022-06-08T12:10:46.121Z"
   },
   {
    "duration": 24,
    "start_time": "2022-06-08T12:10:46.159Z"
   },
   {
    "duration": 2,
    "start_time": "2022-06-08T12:10:46.185Z"
   },
   {
    "duration": 9,
    "start_time": "2022-06-08T12:10:46.190Z"
   },
   {
    "duration": 10,
    "start_time": "2022-06-08T12:10:46.200Z"
   },
   {
    "duration": 6,
    "start_time": "2022-06-08T12:10:46.212Z"
   },
   {
    "duration": 34,
    "start_time": "2022-06-08T12:10:46.219Z"
   },
   {
    "duration": 11,
    "start_time": "2022-06-08T12:10:46.254Z"
   },
   {
    "duration": 18,
    "start_time": "2022-06-08T12:10:46.267Z"
   },
   {
    "duration": 7,
    "start_time": "2022-06-08T12:10:46.287Z"
   },
   {
    "duration": 8,
    "start_time": "2022-06-08T12:10:46.295Z"
   },
   {
    "duration": 12,
    "start_time": "2022-06-08T12:10:46.304Z"
   },
   {
    "duration": 37,
    "start_time": "2022-06-08T12:10:46.318Z"
   },
   {
    "duration": 5,
    "start_time": "2022-06-08T12:10:46.356Z"
   },
   {
    "duration": 270,
    "start_time": "2022-06-08T12:10:46.362Z"
   },
   {
    "duration": 266,
    "start_time": "2022-06-08T12:10:46.634Z"
   },
   {
    "duration": 3,
    "start_time": "2022-06-08T12:10:46.902Z"
   },
   {
    "duration": 52,
    "start_time": "2022-06-08T12:10:46.906Z"
   },
   {
    "duration": 372,
    "start_time": "2022-06-08T12:10:46.960Z"
   },
   {
    "duration": 19,
    "start_time": "2022-06-08T12:10:47.334Z"
   },
   {
    "duration": 279,
    "start_time": "2022-06-08T12:10:47.355Z"
   },
   {
    "duration": 2,
    "start_time": "2022-06-08T12:10:47.638Z"
   },
   {
    "duration": 29,
    "start_time": "2022-06-08T12:10:47.641Z"
   },
   {
    "duration": 201,
    "start_time": "2022-06-08T12:10:47.671Z"
   },
   {
    "duration": 16,
    "start_time": "2022-06-08T12:10:47.874Z"
   },
   {
    "duration": 138,
    "start_time": "2022-06-08T12:10:47.891Z"
   },
   {
    "duration": 5,
    "start_time": "2022-06-08T12:10:48.031Z"
   },
   {
    "duration": 155,
    "start_time": "2022-06-08T12:10:48.037Z"
   },
   {
    "duration": 4,
    "start_time": "2022-06-08T12:10:48.194Z"
   },
   {
    "duration": 20,
    "start_time": "2022-06-08T12:10:48.200Z"
   },
   {
    "duration": 137,
    "start_time": "2022-06-08T12:10:48.222Z"
   },
   {
    "duration": 5,
    "start_time": "2022-06-08T12:10:48.361Z"
   },
   {
    "duration": 119,
    "start_time": "2022-06-08T12:10:48.367Z"
   },
   {
    "duration": 5,
    "start_time": "2022-06-08T12:10:48.487Z"
   },
   {
    "duration": 19,
    "start_time": "2022-06-08T12:10:48.493Z"
   },
   {
    "duration": 175,
    "start_time": "2022-06-08T12:10:48.513Z"
   },
   {
    "duration": 812,
    "start_time": "2022-06-08T12:10:48.689Z"
   },
   {
    "duration": 810,
    "start_time": "2022-06-08T12:10:49.502Z"
   },
   {
    "duration": 14,
    "start_time": "2022-06-08T12:10:50.313Z"
   },
   {
    "duration": 152,
    "start_time": "2022-06-08T12:10:50.329Z"
   },
   {
    "duration": 17,
    "start_time": "2022-06-08T12:10:50.483Z"
   },
   {
    "duration": 12,
    "start_time": "2022-06-08T12:10:50.502Z"
   },
   {
    "duration": 24,
    "start_time": "2022-06-08T12:10:50.516Z"
   },
   {
    "duration": 25,
    "start_time": "2022-06-08T12:10:50.552Z"
   },
   {
    "duration": 10,
    "start_time": "2022-06-08T12:10:50.579Z"
   },
   {
    "duration": 26,
    "start_time": "2022-06-08T12:10:50.591Z"
   },
   {
    "duration": 16,
    "start_time": "2022-06-08T12:10:50.619Z"
   },
   {
    "duration": 22,
    "start_time": "2022-06-08T12:10:50.636Z"
   },
   {
    "duration": 11,
    "start_time": "2022-06-08T12:10:50.660Z"
   },
   {
    "duration": 17,
    "start_time": "2022-06-08T12:10:50.673Z"
   },
   {
    "duration": 103,
    "start_time": "2022-06-08T12:22:50.999Z"
   },
   {
    "duration": 9,
    "start_time": "2022-06-08T12:23:30.304Z"
   },
   {
    "duration": 17,
    "start_time": "2022-06-08T12:23:45.115Z"
   },
   {
    "duration": 132,
    "start_time": "2022-06-08T12:23:46.664Z"
   },
   {
    "duration": 1099,
    "start_time": "2022-06-08T12:23:53.397Z"
   },
   {
    "duration": 69,
    "start_time": "2022-06-08T12:23:54.498Z"
   },
   {
    "duration": 13,
    "start_time": "2022-06-08T12:23:54.569Z"
   },
   {
    "duration": 21,
    "start_time": "2022-06-08T12:23:54.585Z"
   },
   {
    "duration": 10,
    "start_time": "2022-06-08T12:23:54.608Z"
   },
   {
    "duration": 39,
    "start_time": "2022-06-08T12:23:54.619Z"
   },
   {
    "duration": 5,
    "start_time": "2022-06-08T12:23:54.660Z"
   },
   {
    "duration": 32,
    "start_time": "2022-06-08T12:23:54.667Z"
   },
   {
    "duration": 2,
    "start_time": "2022-06-08T12:23:54.701Z"
   },
   {
    "duration": 17,
    "start_time": "2022-06-08T12:23:54.706Z"
   },
   {
    "duration": 21,
    "start_time": "2022-06-08T12:23:54.725Z"
   },
   {
    "duration": 7,
    "start_time": "2022-06-08T12:23:54.748Z"
   },
   {
    "duration": 14,
    "start_time": "2022-06-08T12:23:54.756Z"
   },
   {
    "duration": 24,
    "start_time": "2022-06-08T12:23:54.771Z"
   },
   {
    "duration": 21,
    "start_time": "2022-06-08T12:23:54.796Z"
   },
   {
    "duration": 7,
    "start_time": "2022-06-08T12:23:54.818Z"
   },
   {
    "duration": 8,
    "start_time": "2022-06-08T12:23:54.827Z"
   },
   {
    "duration": 20,
    "start_time": "2022-06-08T12:23:54.837Z"
   },
   {
    "duration": 34,
    "start_time": "2022-06-08T12:23:54.859Z"
   },
   {
    "duration": 5,
    "start_time": "2022-06-08T12:23:54.894Z"
   },
   {
    "duration": 258,
    "start_time": "2022-06-08T12:23:54.900Z"
   },
   {
    "duration": 350,
    "start_time": "2022-06-08T12:23:55.160Z"
   },
   {
    "duration": 3,
    "start_time": "2022-06-08T12:23:55.512Z"
   },
   {
    "duration": 35,
    "start_time": "2022-06-08T12:23:55.517Z"
   },
   {
    "duration": 331,
    "start_time": "2022-06-08T12:23:55.553Z"
   },
   {
    "duration": 17,
    "start_time": "2022-06-08T12:23:55.885Z"
   },
   {
    "duration": 274,
    "start_time": "2022-06-08T12:23:55.904Z"
   },
   {
    "duration": 3,
    "start_time": "2022-06-08T12:23:56.181Z"
   },
   {
    "duration": 31,
    "start_time": "2022-06-08T12:23:56.185Z"
   },
   {
    "duration": 185,
    "start_time": "2022-06-08T12:23:56.217Z"
   },
   {
    "duration": 16,
    "start_time": "2022-06-08T12:23:56.404Z"
   },
   {
    "duration": 135,
    "start_time": "2022-06-08T12:23:56.422Z"
   },
   {
    "duration": 5,
    "start_time": "2022-06-08T12:23:56.559Z"
   },
   {
    "duration": 144,
    "start_time": "2022-06-08T12:23:56.566Z"
   },
   {
    "duration": 5,
    "start_time": "2022-06-08T12:23:56.712Z"
   },
   {
    "duration": 25,
    "start_time": "2022-06-08T12:23:56.718Z"
   },
   {
    "duration": 131,
    "start_time": "2022-06-08T12:23:56.744Z"
   },
   {
    "duration": 4,
    "start_time": "2022-06-08T12:23:56.877Z"
   },
   {
    "duration": 117,
    "start_time": "2022-06-08T12:23:56.882Z"
   },
   {
    "duration": 5,
    "start_time": "2022-06-08T12:23:57.000Z"
   },
   {
    "duration": 25,
    "start_time": "2022-06-08T12:23:57.007Z"
   },
   {
    "duration": 159,
    "start_time": "2022-06-08T12:23:57.034Z"
   },
   {
    "duration": 812,
    "start_time": "2022-06-08T12:23:57.194Z"
   },
   {
    "duration": 771,
    "start_time": "2022-06-08T12:23:58.007Z"
   },
   {
    "duration": 15,
    "start_time": "2022-06-08T12:23:58.779Z"
   },
   {
    "duration": 146,
    "start_time": "2022-06-08T12:23:58.796Z"
   },
   {
    "duration": 20,
    "start_time": "2022-06-08T12:23:58.944Z"
   },
   {
    "duration": 6,
    "start_time": "2022-06-08T12:23:58.966Z"
   },
   {
    "duration": 17,
    "start_time": "2022-06-08T12:23:58.973Z"
   },
   {
    "duration": 7,
    "start_time": "2022-06-08T12:23:58.991Z"
   },
   {
    "duration": 6,
    "start_time": "2022-06-08T12:23:58.999Z"
   },
   {
    "duration": 24,
    "start_time": "2022-06-08T12:23:59.007Z"
   },
   {
    "duration": 22,
    "start_time": "2022-06-08T12:23:59.033Z"
   },
   {
    "duration": 18,
    "start_time": "2022-06-08T12:23:59.056Z"
   },
   {
    "duration": 6,
    "start_time": "2022-06-08T12:23:59.076Z"
   },
   {
    "duration": 7,
    "start_time": "2022-06-08T12:23:59.084Z"
   },
   {
    "duration": 50,
    "start_time": "2022-06-08T21:18:38.689Z"
   },
   {
    "duration": 30,
    "start_time": "2022-06-08T21:22:06.221Z"
   },
   {
    "duration": 30,
    "start_time": "2022-06-08T21:23:47.056Z"
   },
   {
    "duration": 34,
    "start_time": "2022-06-08T21:25:51.964Z"
   },
   {
    "duration": 47,
    "start_time": "2022-06-09T03:55:04.783Z"
   },
   {
    "duration": 1237,
    "start_time": "2022-06-09T03:55:20.437Z"
   },
   {
    "duration": 108,
    "start_time": "2022-06-09T03:55:21.676Z"
   },
   {
    "duration": 13,
    "start_time": "2022-06-09T03:55:21.785Z"
   },
   {
    "duration": 17,
    "start_time": "2022-06-09T03:55:21.800Z"
   },
   {
    "duration": 9,
    "start_time": "2022-06-09T03:55:21.819Z"
   },
   {
    "duration": 30,
    "start_time": "2022-06-09T03:55:21.829Z"
   },
   {
    "duration": 4,
    "start_time": "2022-06-09T03:55:21.860Z"
   },
   {
    "duration": 25,
    "start_time": "2022-06-09T03:55:21.865Z"
   },
   {
    "duration": 20,
    "start_time": "2022-06-09T03:55:21.891Z"
   },
   {
    "duration": 8,
    "start_time": "2022-06-09T03:55:21.913Z"
   },
   {
    "duration": 8,
    "start_time": "2022-06-09T03:55:21.922Z"
   },
   {
    "duration": 8,
    "start_time": "2022-06-09T03:55:21.931Z"
   },
   {
    "duration": 9,
    "start_time": "2022-06-09T03:55:21.940Z"
   },
   {
    "duration": 11,
    "start_time": "2022-06-09T03:55:21.950Z"
   },
   {
    "duration": 15,
    "start_time": "2022-06-09T03:55:21.963Z"
   },
   {
    "duration": 11,
    "start_time": "2022-06-09T03:55:21.980Z"
   },
   {
    "duration": 9,
    "start_time": "2022-06-09T03:55:21.993Z"
   },
   {
    "duration": 7,
    "start_time": "2022-06-09T03:55:22.027Z"
   },
   {
    "duration": 19,
    "start_time": "2022-06-09T03:55:22.035Z"
   },
   {
    "duration": 5,
    "start_time": "2022-06-09T03:55:22.056Z"
   },
   {
    "duration": 206,
    "start_time": "2022-06-09T03:55:22.063Z"
   },
   {
    "duration": 249,
    "start_time": "2022-06-09T03:55:22.270Z"
   },
   {
    "duration": 6,
    "start_time": "2022-06-09T03:55:22.521Z"
   },
   {
    "duration": 23,
    "start_time": "2022-06-09T03:55:22.529Z"
   },
   {
    "duration": 352,
    "start_time": "2022-06-09T03:55:22.554Z"
   },
   {
    "duration": 18,
    "start_time": "2022-06-09T03:55:22.908Z"
   },
   {
    "duration": 259,
    "start_time": "2022-06-09T03:55:22.927Z"
   },
   {
    "duration": 2,
    "start_time": "2022-06-09T03:55:23.191Z"
   },
   {
    "duration": 30,
    "start_time": "2022-06-09T03:55:23.195Z"
   },
   {
    "duration": 181,
    "start_time": "2022-06-09T03:55:23.227Z"
   },
   {
    "duration": 21,
    "start_time": "2022-06-09T03:55:23.410Z"
   },
   {
    "duration": 127,
    "start_time": "2022-06-09T03:55:23.432Z"
   },
   {
    "duration": 4,
    "start_time": "2022-06-09T03:55:23.561Z"
   },
   {
    "duration": 131,
    "start_time": "2022-06-09T03:55:23.566Z"
   },
   {
    "duration": 4,
    "start_time": "2022-06-09T03:55:23.698Z"
   },
   {
    "duration": 30,
    "start_time": "2022-06-09T03:55:23.704Z"
   },
   {
    "duration": 205,
    "start_time": "2022-06-09T03:55:23.736Z"
   },
   {
    "duration": 5,
    "start_time": "2022-06-09T03:55:23.942Z"
   },
   {
    "duration": 149,
    "start_time": "2022-06-09T03:55:23.949Z"
   },
   {
    "duration": 5,
    "start_time": "2022-06-09T03:55:24.100Z"
   },
   {
    "duration": 21,
    "start_time": "2022-06-09T03:55:24.107Z"
   },
   {
    "duration": 158,
    "start_time": "2022-06-09T03:55:24.129Z"
   },
   {
    "duration": 664,
    "start_time": "2022-06-09T03:55:24.288Z"
   },
   {
    "duration": 682,
    "start_time": "2022-06-09T03:55:24.953Z"
   },
   {
    "duration": 13,
    "start_time": "2022-06-09T03:55:25.636Z"
   },
   {
    "duration": 129,
    "start_time": "2022-06-09T03:55:25.650Z"
   },
   {
    "duration": 14,
    "start_time": "2022-06-09T03:55:25.781Z"
   },
   {
    "duration": 6,
    "start_time": "2022-06-09T03:55:25.796Z"
   },
   {
    "duration": 26,
    "start_time": "2022-06-09T03:55:25.804Z"
   },
   {
    "duration": 7,
    "start_time": "2022-06-09T03:55:25.831Z"
   },
   {
    "duration": 8,
    "start_time": "2022-06-09T03:55:25.839Z"
   },
   {
    "duration": 16,
    "start_time": "2022-06-09T03:55:25.848Z"
   },
   {
    "duration": 7,
    "start_time": "2022-06-09T03:55:25.866Z"
   },
   {
    "duration": 17,
    "start_time": "2022-06-09T03:55:25.874Z"
   },
   {
    "duration": 6,
    "start_time": "2022-06-09T03:55:25.892Z"
   },
   {
    "duration": 29,
    "start_time": "2022-06-09T03:55:25.899Z"
   },
   {
    "duration": 19,
    "start_time": "2022-06-09T04:05:38.393Z"
   },
   {
    "duration": 1108,
    "start_time": "2022-06-09T04:06:07.355Z"
   },
   {
    "duration": 69,
    "start_time": "2022-06-09T04:06:08.465Z"
   },
   {
    "duration": 14,
    "start_time": "2022-06-09T04:06:08.536Z"
   },
   {
    "duration": 16,
    "start_time": "2022-06-09T04:06:08.553Z"
   },
   {
    "duration": 10,
    "start_time": "2022-06-09T04:06:08.571Z"
   },
   {
    "duration": 47,
    "start_time": "2022-06-09T04:06:08.583Z"
   },
   {
    "duration": 5,
    "start_time": "2022-06-09T04:06:08.632Z"
   },
   {
    "duration": 18,
    "start_time": "2022-06-09T04:06:08.639Z"
   },
   {
    "duration": 13,
    "start_time": "2022-06-09T04:06:08.658Z"
   },
   {
    "duration": 6,
    "start_time": "2022-06-09T04:06:08.674Z"
   },
   {
    "duration": 10,
    "start_time": "2022-06-09T04:06:08.682Z"
   },
   {
    "duration": 34,
    "start_time": "2022-06-09T04:06:08.694Z"
   },
   {
    "duration": 7,
    "start_time": "2022-06-09T04:06:08.730Z"
   },
   {
    "duration": 11,
    "start_time": "2022-06-09T04:06:08.738Z"
   },
   {
    "duration": 14,
    "start_time": "2022-06-09T04:06:08.751Z"
   },
   {
    "duration": 8,
    "start_time": "2022-06-09T04:06:08.766Z"
   },
   {
    "duration": 6,
    "start_time": "2022-06-09T04:06:08.775Z"
   },
   {
    "duration": 0,
    "start_time": "2022-06-09T04:06:08.783Z"
   },
   {
    "duration": 0,
    "start_time": "2022-06-09T04:06:08.784Z"
   },
   {
    "duration": 0,
    "start_time": "2022-06-09T04:06:08.786Z"
   },
   {
    "duration": 0,
    "start_time": "2022-06-09T04:06:08.787Z"
   },
   {
    "duration": 0,
    "start_time": "2022-06-09T04:06:08.788Z"
   },
   {
    "duration": 0,
    "start_time": "2022-06-09T04:06:08.789Z"
   },
   {
    "duration": 0,
    "start_time": "2022-06-09T04:06:08.790Z"
   },
   {
    "duration": 0,
    "start_time": "2022-06-09T04:06:08.828Z"
   },
   {
    "duration": 0,
    "start_time": "2022-06-09T04:06:08.829Z"
   },
   {
    "duration": 0,
    "start_time": "2022-06-09T04:06:08.830Z"
   },
   {
    "duration": 0,
    "start_time": "2022-06-09T04:06:08.831Z"
   },
   {
    "duration": 0,
    "start_time": "2022-06-09T04:06:08.832Z"
   },
   {
    "duration": 0,
    "start_time": "2022-06-09T04:06:08.833Z"
   },
   {
    "duration": 0,
    "start_time": "2022-06-09T04:06:08.834Z"
   },
   {
    "duration": 0,
    "start_time": "2022-06-09T04:06:08.835Z"
   },
   {
    "duration": 0,
    "start_time": "2022-06-09T04:06:08.836Z"
   },
   {
    "duration": 0,
    "start_time": "2022-06-09T04:06:08.837Z"
   },
   {
    "duration": 0,
    "start_time": "2022-06-09T04:06:08.838Z"
   },
   {
    "duration": 0,
    "start_time": "2022-06-09T04:06:08.839Z"
   },
   {
    "duration": 0,
    "start_time": "2022-06-09T04:06:08.840Z"
   },
   {
    "duration": 0,
    "start_time": "2022-06-09T04:06:08.841Z"
   },
   {
    "duration": 0,
    "start_time": "2022-06-09T04:06:08.842Z"
   },
   {
    "duration": 0,
    "start_time": "2022-06-09T04:06:08.843Z"
   },
   {
    "duration": 0,
    "start_time": "2022-06-09T04:06:08.844Z"
   },
   {
    "duration": 0,
    "start_time": "2022-06-09T04:06:08.845Z"
   },
   {
    "duration": 0,
    "start_time": "2022-06-09T04:06:08.846Z"
   },
   {
    "duration": 1,
    "start_time": "2022-06-09T04:06:08.847Z"
   },
   {
    "duration": 0,
    "start_time": "2022-06-09T04:06:08.848Z"
   },
   {
    "duration": 0,
    "start_time": "2022-06-09T04:06:08.849Z"
   },
   {
    "duration": 0,
    "start_time": "2022-06-09T04:06:08.850Z"
   },
   {
    "duration": 0,
    "start_time": "2022-06-09T04:06:08.851Z"
   },
   {
    "duration": 0,
    "start_time": "2022-06-09T04:06:08.852Z"
   },
   {
    "duration": 0,
    "start_time": "2022-06-09T04:06:08.853Z"
   },
   {
    "duration": 0,
    "start_time": "2022-06-09T04:06:08.854Z"
   },
   {
    "duration": 0,
    "start_time": "2022-06-09T04:06:08.855Z"
   },
   {
    "duration": 0,
    "start_time": "2022-06-09T04:06:08.856Z"
   },
   {
    "duration": 0,
    "start_time": "2022-06-09T04:06:08.857Z"
   },
   {
    "duration": 0,
    "start_time": "2022-06-09T04:06:08.858Z"
   },
   {
    "duration": 0,
    "start_time": "2022-06-09T04:06:08.859Z"
   },
   {
    "duration": 0,
    "start_time": "2022-06-09T04:06:08.861Z"
   },
   {
    "duration": 4,
    "start_time": "2022-06-09T04:06:34.559Z"
   },
   {
    "duration": 94,
    "start_time": "2022-06-09T04:09:59.885Z"
   },
   {
    "duration": 9,
    "start_time": "2022-06-09T04:10:40.140Z"
   },
   {
    "duration": 15,
    "start_time": "2022-06-09T04:18:34.773Z"
   },
   {
    "duration": 11,
    "start_time": "2022-06-09T04:20:53.142Z"
   },
   {
    "duration": 22,
    "start_time": "2022-06-09T04:21:08.823Z"
   },
   {
    "duration": 11,
    "start_time": "2022-06-09T04:21:22.280Z"
   },
   {
    "duration": 2,
    "start_time": "2022-06-09T04:22:13.572Z"
   },
   {
    "duration": 6,
    "start_time": "2022-06-09T04:25:04.450Z"
   },
   {
    "duration": 1049,
    "start_time": "2022-06-09T04:25:15.773Z"
   },
   {
    "duration": 80,
    "start_time": "2022-06-09T04:25:16.823Z"
   },
   {
    "duration": 15,
    "start_time": "2022-06-09T04:25:16.904Z"
   },
   {
    "duration": 18,
    "start_time": "2022-06-09T04:25:16.922Z"
   },
   {
    "duration": 10,
    "start_time": "2022-06-09T04:25:16.942Z"
   },
   {
    "duration": 24,
    "start_time": "2022-06-09T04:25:16.954Z"
   },
   {
    "duration": 5,
    "start_time": "2022-06-09T04:25:16.980Z"
   },
   {
    "duration": 41,
    "start_time": "2022-06-09T04:25:16.986Z"
   },
   {
    "duration": 15,
    "start_time": "2022-06-09T04:25:17.029Z"
   },
   {
    "duration": 9,
    "start_time": "2022-06-09T04:25:17.047Z"
   },
   {
    "duration": 6,
    "start_time": "2022-06-09T04:25:17.058Z"
   },
   {
    "duration": 8,
    "start_time": "2022-06-09T04:25:17.066Z"
   },
   {
    "duration": 10,
    "start_time": "2022-06-09T04:25:17.075Z"
   },
   {
    "duration": 15,
    "start_time": "2022-06-09T04:25:17.087Z"
   },
   {
    "duration": 37,
    "start_time": "2022-06-09T04:25:17.104Z"
   },
   {
    "duration": 9,
    "start_time": "2022-06-09T04:25:17.143Z"
   },
   {
    "duration": 14,
    "start_time": "2022-06-09T04:25:17.153Z"
   },
   {
    "duration": 7,
    "start_time": "2022-06-09T04:25:17.168Z"
   },
   {
    "duration": 7,
    "start_time": "2022-06-09T04:25:17.176Z"
   },
   {
    "duration": 43,
    "start_time": "2022-06-09T04:25:17.184Z"
   },
   {
    "duration": 0,
    "start_time": "2022-06-09T04:25:17.230Z"
   },
   {
    "duration": 0,
    "start_time": "2022-06-09T04:25:17.231Z"
   },
   {
    "duration": 0,
    "start_time": "2022-06-09T04:25:17.232Z"
   },
   {
    "duration": 0,
    "start_time": "2022-06-09T04:25:17.233Z"
   },
   {
    "duration": 0,
    "start_time": "2022-06-09T04:25:17.234Z"
   },
   {
    "duration": 0,
    "start_time": "2022-06-09T04:25:17.235Z"
   },
   {
    "duration": 0,
    "start_time": "2022-06-09T04:25:17.236Z"
   },
   {
    "duration": 0,
    "start_time": "2022-06-09T04:25:17.237Z"
   },
   {
    "duration": 0,
    "start_time": "2022-06-09T04:25:17.238Z"
   },
   {
    "duration": 0,
    "start_time": "2022-06-09T04:25:17.238Z"
   },
   {
    "duration": 0,
    "start_time": "2022-06-09T04:25:17.239Z"
   },
   {
    "duration": 0,
    "start_time": "2022-06-09T04:25:17.241Z"
   },
   {
    "duration": 0,
    "start_time": "2022-06-09T04:25:17.242Z"
   },
   {
    "duration": 0,
    "start_time": "2022-06-09T04:25:17.243Z"
   },
   {
    "duration": 0,
    "start_time": "2022-06-09T04:25:17.244Z"
   },
   {
    "duration": 0,
    "start_time": "2022-06-09T04:25:17.246Z"
   },
   {
    "duration": 0,
    "start_time": "2022-06-09T04:25:17.246Z"
   },
   {
    "duration": 1,
    "start_time": "2022-06-09T04:25:17.247Z"
   },
   {
    "duration": 0,
    "start_time": "2022-06-09T04:25:17.249Z"
   },
   {
    "duration": 0,
    "start_time": "2022-06-09T04:25:17.250Z"
   },
   {
    "duration": 0,
    "start_time": "2022-06-09T04:25:17.251Z"
   },
   {
    "duration": 0,
    "start_time": "2022-06-09T04:25:17.252Z"
   },
   {
    "duration": 0,
    "start_time": "2022-06-09T04:25:17.254Z"
   },
   {
    "duration": 0,
    "start_time": "2022-06-09T04:25:17.255Z"
   },
   {
    "duration": 0,
    "start_time": "2022-06-09T04:25:17.256Z"
   },
   {
    "duration": 0,
    "start_time": "2022-06-09T04:25:17.257Z"
   },
   {
    "duration": 0,
    "start_time": "2022-06-09T04:25:17.258Z"
   },
   {
    "duration": 0,
    "start_time": "2022-06-09T04:25:17.259Z"
   },
   {
    "duration": 0,
    "start_time": "2022-06-09T04:25:17.260Z"
   },
   {
    "duration": 0,
    "start_time": "2022-06-09T04:25:17.261Z"
   },
   {
    "duration": 0,
    "start_time": "2022-06-09T04:25:17.262Z"
   },
   {
    "duration": 0,
    "start_time": "2022-06-09T04:25:17.263Z"
   },
   {
    "duration": 0,
    "start_time": "2022-06-09T04:25:17.264Z"
   },
   {
    "duration": 0,
    "start_time": "2022-06-09T04:25:17.265Z"
   },
   {
    "duration": 0,
    "start_time": "2022-06-09T04:25:17.327Z"
   },
   {
    "duration": 0,
    "start_time": "2022-06-09T04:25:17.329Z"
   },
   {
    "duration": 0,
    "start_time": "2022-06-09T04:25:17.330Z"
   },
   {
    "duration": 0,
    "start_time": "2022-06-09T04:25:17.331Z"
   },
   {
    "duration": 13,
    "start_time": "2022-06-09T04:26:11.104Z"
   },
   {
    "duration": 1069,
    "start_time": "2022-06-09T04:29:19.377Z"
   },
   {
    "duration": 70,
    "start_time": "2022-06-09T04:29:20.448Z"
   },
   {
    "duration": 12,
    "start_time": "2022-06-09T04:29:20.520Z"
   },
   {
    "duration": 17,
    "start_time": "2022-06-09T04:29:20.534Z"
   },
   {
    "duration": 9,
    "start_time": "2022-06-09T04:29:20.552Z"
   },
   {
    "duration": 25,
    "start_time": "2022-06-09T04:29:20.562Z"
   },
   {
    "duration": 4,
    "start_time": "2022-06-09T04:29:20.588Z"
   },
   {
    "duration": 33,
    "start_time": "2022-06-09T04:29:20.594Z"
   },
   {
    "duration": 14,
    "start_time": "2022-06-09T04:29:20.628Z"
   },
   {
    "duration": 10,
    "start_time": "2022-06-09T04:29:20.645Z"
   },
   {
    "duration": 6,
    "start_time": "2022-06-09T04:29:20.656Z"
   },
   {
    "duration": 10,
    "start_time": "2022-06-09T04:29:20.663Z"
   },
   {
    "duration": 15,
    "start_time": "2022-06-09T04:29:20.674Z"
   },
   {
    "duration": 10,
    "start_time": "2022-06-09T04:29:20.690Z"
   },
   {
    "duration": 29,
    "start_time": "2022-06-09T04:29:20.701Z"
   },
   {
    "duration": 8,
    "start_time": "2022-06-09T04:29:20.731Z"
   },
   {
    "duration": 12,
    "start_time": "2022-06-09T04:29:20.740Z"
   },
   {
    "duration": 5,
    "start_time": "2022-06-09T04:29:20.754Z"
   },
   {
    "duration": 5,
    "start_time": "2022-06-09T04:29:20.761Z"
   },
   {
    "duration": 14,
    "start_time": "2022-06-09T04:29:20.768Z"
   },
   {
    "duration": 49,
    "start_time": "2022-06-09T04:29:20.784Z"
   },
   {
    "duration": 6,
    "start_time": "2022-06-09T04:29:20.835Z"
   },
   {
    "duration": 189,
    "start_time": "2022-06-09T04:29:20.842Z"
   },
   {
    "duration": 272,
    "start_time": "2022-06-09T04:29:21.033Z"
   },
   {
    "duration": 4,
    "start_time": "2022-06-09T04:29:21.307Z"
   },
   {
    "duration": 32,
    "start_time": "2022-06-09T04:29:21.313Z"
   },
   {
    "duration": 336,
    "start_time": "2022-06-09T04:29:21.346Z"
   },
   {
    "duration": 18,
    "start_time": "2022-06-09T04:29:21.687Z"
   },
   {
    "duration": 270,
    "start_time": "2022-06-09T04:29:21.706Z"
   },
   {
    "duration": 3,
    "start_time": "2022-06-09T04:29:21.977Z"
   },
   {
    "duration": 20,
    "start_time": "2022-06-09T04:29:21.982Z"
   },
   {
    "duration": 199,
    "start_time": "2022-06-09T04:29:22.004Z"
   },
   {
    "duration": 23,
    "start_time": "2022-06-09T04:29:22.205Z"
   },
   {
    "duration": 131,
    "start_time": "2022-06-09T04:29:22.229Z"
   },
   {
    "duration": 5,
    "start_time": "2022-06-09T04:29:22.362Z"
   },
   {
    "duration": 139,
    "start_time": "2022-06-09T04:29:22.368Z"
   },
   {
    "duration": 5,
    "start_time": "2022-06-09T04:29:22.508Z"
   },
   {
    "duration": 23,
    "start_time": "2022-06-09T04:29:22.514Z"
   },
   {
    "duration": 189,
    "start_time": "2022-06-09T04:29:22.539Z"
   },
   {
    "duration": 4,
    "start_time": "2022-06-09T04:29:22.730Z"
   },
   {
    "duration": 125,
    "start_time": "2022-06-09T04:29:22.735Z"
   },
   {
    "duration": 4,
    "start_time": "2022-06-09T04:29:22.862Z"
   },
   {
    "duration": 13,
    "start_time": "2022-06-09T04:29:22.868Z"
   },
   {
    "duration": 170,
    "start_time": "2022-06-09T04:29:22.882Z"
   },
   {
    "duration": 709,
    "start_time": "2022-06-09T04:29:23.054Z"
   },
   {
    "duration": 719,
    "start_time": "2022-06-09T04:29:23.765Z"
   },
   {
    "duration": 15,
    "start_time": "2022-06-09T04:29:24.485Z"
   },
   {
    "duration": 147,
    "start_time": "2022-06-09T04:29:24.501Z"
   },
   {
    "duration": 15,
    "start_time": "2022-06-09T04:29:24.650Z"
   },
   {
    "duration": 12,
    "start_time": "2022-06-09T04:29:24.667Z"
   },
   {
    "duration": 17,
    "start_time": "2022-06-09T04:29:24.681Z"
   },
   {
    "duration": 11,
    "start_time": "2022-06-09T04:29:24.699Z"
   },
   {
    "duration": 19,
    "start_time": "2022-06-09T04:29:24.711Z"
   },
   {
    "duration": 17,
    "start_time": "2022-06-09T04:29:24.731Z"
   },
   {
    "duration": 8,
    "start_time": "2022-06-09T04:29:24.750Z"
   },
   {
    "duration": 25,
    "start_time": "2022-06-09T04:29:24.759Z"
   },
   {
    "duration": 8,
    "start_time": "2022-06-09T04:29:24.786Z"
   },
   {
    "duration": 11,
    "start_time": "2022-06-09T04:29:24.796Z"
   },
   {
    "duration": 17,
    "start_time": "2022-06-09T04:32:10.768Z"
   },
   {
    "duration": 7,
    "start_time": "2022-06-09T04:36:56.809Z"
   },
   {
    "duration": 16,
    "start_time": "2022-06-09T04:37:47.426Z"
   },
   {
    "duration": 16,
    "start_time": "2022-06-09T04:37:50.474Z"
   },
   {
    "duration": 172,
    "start_time": "2022-06-09T04:38:50.710Z"
   },
   {
    "duration": 143,
    "start_time": "2022-06-09T04:39:41.917Z"
   },
   {
    "duration": 119,
    "start_time": "2022-06-09T04:40:40.165Z"
   },
   {
    "duration": 17,
    "start_time": "2022-06-09T04:40:41.301Z"
   },
   {
    "duration": 9,
    "start_time": "2022-06-09T04:40:53.218Z"
   },
   {
    "duration": 10,
    "start_time": "2022-06-09T04:41:52.562Z"
   },
   {
    "duration": 1125,
    "start_time": "2022-06-09T04:42:03.998Z"
   },
   {
    "duration": 72,
    "start_time": "2022-06-09T04:42:05.126Z"
   },
   {
    "duration": 14,
    "start_time": "2022-06-09T04:42:05.200Z"
   },
   {
    "duration": 30,
    "start_time": "2022-06-09T04:42:05.216Z"
   },
   {
    "duration": 33,
    "start_time": "2022-06-09T04:42:05.248Z"
   },
   {
    "duration": 43,
    "start_time": "2022-06-09T04:42:05.284Z"
   },
   {
    "duration": 4,
    "start_time": "2022-06-09T04:42:05.329Z"
   },
   {
    "duration": 33,
    "start_time": "2022-06-09T04:42:05.334Z"
   },
   {
    "duration": 17,
    "start_time": "2022-06-09T04:42:05.369Z"
   },
   {
    "duration": 21,
    "start_time": "2022-06-09T04:42:05.389Z"
   },
   {
    "duration": 36,
    "start_time": "2022-06-09T04:42:05.412Z"
   },
   {
    "duration": 32,
    "start_time": "2022-06-09T04:42:05.450Z"
   },
   {
    "duration": 37,
    "start_time": "2022-06-09T04:42:05.483Z"
   },
   {
    "duration": 19,
    "start_time": "2022-06-09T04:42:05.522Z"
   },
   {
    "duration": 29,
    "start_time": "2022-06-09T04:42:05.542Z"
   },
   {
    "duration": 28,
    "start_time": "2022-06-09T04:42:05.573Z"
   },
   {
    "duration": 36,
    "start_time": "2022-06-09T04:42:05.602Z"
   },
   {
    "duration": 29,
    "start_time": "2022-06-09T04:42:05.640Z"
   },
   {
    "duration": 41,
    "start_time": "2022-06-09T04:42:05.671Z"
   },
   {
    "duration": 30,
    "start_time": "2022-06-09T04:42:05.714Z"
   },
   {
    "duration": 35,
    "start_time": "2022-06-09T04:42:05.745Z"
   },
   {
    "duration": 19,
    "start_time": "2022-06-09T04:42:05.782Z"
   },
   {
    "duration": 189,
    "start_time": "2022-06-09T04:42:05.803Z"
   },
   {
    "duration": 315,
    "start_time": "2022-06-09T04:42:05.994Z"
   },
   {
    "duration": 5,
    "start_time": "2022-06-09T04:42:06.311Z"
   },
   {
    "duration": 66,
    "start_time": "2022-06-09T04:42:06.317Z"
   },
   {
    "duration": 417,
    "start_time": "2022-06-09T04:42:06.385Z"
   },
   {
    "duration": 21,
    "start_time": "2022-06-09T04:42:06.808Z"
   },
   {
    "duration": 275,
    "start_time": "2022-06-09T04:42:06.831Z"
   },
   {
    "duration": 3,
    "start_time": "2022-06-09T04:42:07.108Z"
   },
   {
    "duration": 34,
    "start_time": "2022-06-09T04:42:07.112Z"
   },
   {
    "duration": 196,
    "start_time": "2022-06-09T04:42:07.147Z"
   },
   {
    "duration": 16,
    "start_time": "2022-06-09T04:42:07.344Z"
   },
   {
    "duration": 134,
    "start_time": "2022-06-09T04:42:07.362Z"
   },
   {
    "duration": 7,
    "start_time": "2022-06-09T04:42:07.498Z"
   },
   {
    "duration": 136,
    "start_time": "2022-06-09T04:42:07.507Z"
   },
   {
    "duration": 5,
    "start_time": "2022-06-09T04:42:07.645Z"
   },
   {
    "duration": 40,
    "start_time": "2022-06-09T04:42:07.652Z"
   },
   {
    "duration": 197,
    "start_time": "2022-06-09T04:42:07.694Z"
   },
   {
    "duration": 5,
    "start_time": "2022-06-09T04:42:07.893Z"
   },
   {
    "duration": 134,
    "start_time": "2022-06-09T04:42:07.899Z"
   },
   {
    "duration": 5,
    "start_time": "2022-06-09T04:42:08.035Z"
   },
   {
    "duration": 45,
    "start_time": "2022-06-09T04:42:08.041Z"
   },
   {
    "duration": 153,
    "start_time": "2022-06-09T04:42:08.088Z"
   },
   {
    "duration": 16,
    "start_time": "2022-06-09T04:42:08.243Z"
   },
   {
    "duration": 136,
    "start_time": "2022-06-09T04:42:08.260Z"
   },
   {
    "duration": 12,
    "start_time": "2022-06-09T04:42:08.397Z"
   },
   {
    "duration": 175,
    "start_time": "2022-06-09T04:42:08.410Z"
   },
   {
    "duration": 730,
    "start_time": "2022-06-09T04:42:08.587Z"
   },
   {
    "duration": 776,
    "start_time": "2022-06-09T04:42:09.320Z"
   },
   {
    "duration": 29,
    "start_time": "2022-06-09T04:42:10.098Z"
   },
   {
    "duration": 158,
    "start_time": "2022-06-09T04:42:10.129Z"
   },
   {
    "duration": 19,
    "start_time": "2022-06-09T04:42:10.288Z"
   },
   {
    "duration": 26,
    "start_time": "2022-06-09T04:42:10.308Z"
   },
   {
    "duration": 47,
    "start_time": "2022-06-09T04:42:10.336Z"
   },
   {
    "duration": 16,
    "start_time": "2022-06-09T04:42:10.385Z"
   },
   {
    "duration": 39,
    "start_time": "2022-06-09T04:42:10.402Z"
   },
   {
    "duration": 36,
    "start_time": "2022-06-09T04:42:10.443Z"
   },
   {
    "duration": 29,
    "start_time": "2022-06-09T04:42:10.481Z"
   },
   {
    "duration": 60,
    "start_time": "2022-06-09T04:42:10.512Z"
   },
   {
    "duration": 24,
    "start_time": "2022-06-09T04:42:10.574Z"
   },
   {
    "duration": 31,
    "start_time": "2022-06-09T04:42:10.600Z"
   },
   {
    "duration": 132,
    "start_time": "2022-06-09T04:45:38.880Z"
   },
   {
    "duration": 9,
    "start_time": "2022-06-09T04:50:51.699Z"
   },
   {
    "duration": 10,
    "start_time": "2022-06-09T04:50:54.547Z"
   },
   {
    "duration": 1331,
    "start_time": "2022-06-09T04:51:02.213Z"
   },
   {
    "duration": 70,
    "start_time": "2022-06-09T04:51:03.546Z"
   },
   {
    "duration": 17,
    "start_time": "2022-06-09T04:51:03.618Z"
   },
   {
    "duration": 16,
    "start_time": "2022-06-09T04:51:03.638Z"
   },
   {
    "duration": 10,
    "start_time": "2022-06-09T04:51:03.656Z"
   },
   {
    "duration": 68,
    "start_time": "2022-06-09T04:51:03.668Z"
   },
   {
    "duration": 5,
    "start_time": "2022-06-09T04:51:03.738Z"
   },
   {
    "duration": 18,
    "start_time": "2022-06-09T04:51:03.745Z"
   },
   {
    "duration": 13,
    "start_time": "2022-06-09T04:51:03.765Z"
   },
   {
    "duration": 13,
    "start_time": "2022-06-09T04:51:03.781Z"
   },
   {
    "duration": 35,
    "start_time": "2022-06-09T04:51:03.795Z"
   },
   {
    "duration": 6,
    "start_time": "2022-06-09T04:51:03.833Z"
   },
   {
    "duration": 24,
    "start_time": "2022-06-09T04:51:03.841Z"
   },
   {
    "duration": 14,
    "start_time": "2022-06-09T04:51:03.867Z"
   },
   {
    "duration": 31,
    "start_time": "2022-06-09T04:51:03.883Z"
   },
   {
    "duration": 11,
    "start_time": "2022-06-09T04:51:03.927Z"
   },
   {
    "duration": 16,
    "start_time": "2022-06-09T04:51:03.940Z"
   },
   {
    "duration": 8,
    "start_time": "2022-06-09T04:51:03.958Z"
   },
   {
    "duration": 16,
    "start_time": "2022-06-09T04:51:03.967Z"
   },
   {
    "duration": 41,
    "start_time": "2022-06-09T04:51:03.986Z"
   },
   {
    "duration": 26,
    "start_time": "2022-06-09T04:51:04.030Z"
   },
   {
    "duration": 6,
    "start_time": "2022-06-09T04:51:04.059Z"
   },
   {
    "duration": 202,
    "start_time": "2022-06-09T04:51:04.067Z"
   },
   {
    "duration": 340,
    "start_time": "2022-06-09T04:51:04.271Z"
   },
   {
    "duration": 5,
    "start_time": "2022-06-09T04:51:04.613Z"
   },
   {
    "duration": 32,
    "start_time": "2022-06-09T04:51:04.619Z"
   },
   {
    "duration": 390,
    "start_time": "2022-06-09T04:51:04.653Z"
   },
   {
    "duration": 18,
    "start_time": "2022-06-09T04:51:05.048Z"
   },
   {
    "duration": 293,
    "start_time": "2022-06-09T04:51:05.068Z"
   },
   {
    "duration": 2,
    "start_time": "2022-06-09T04:51:05.363Z"
   },
   {
    "duration": 30,
    "start_time": "2022-06-09T04:51:05.367Z"
   },
   {
    "duration": 191,
    "start_time": "2022-06-09T04:51:05.399Z"
   },
   {
    "duration": 15,
    "start_time": "2022-06-09T04:51:05.592Z"
   },
   {
    "duration": 150,
    "start_time": "2022-06-09T04:51:05.609Z"
   },
   {
    "duration": 7,
    "start_time": "2022-06-09T04:51:05.762Z"
   },
   {
    "duration": 176,
    "start_time": "2022-06-09T04:51:05.772Z"
   },
   {
    "duration": 5,
    "start_time": "2022-06-09T04:51:05.950Z"
   },
   {
    "duration": 21,
    "start_time": "2022-06-09T04:51:05.956Z"
   },
   {
    "duration": 213,
    "start_time": "2022-06-09T04:51:05.979Z"
   },
   {
    "duration": 13,
    "start_time": "2022-06-09T04:51:06.198Z"
   },
   {
    "duration": 163,
    "start_time": "2022-06-09T04:51:06.213Z"
   },
   {
    "duration": 6,
    "start_time": "2022-06-09T04:51:06.378Z"
   },
   {
    "duration": 171,
    "start_time": "2022-06-09T04:51:06.386Z"
   },
   {
    "duration": 0,
    "start_time": "2022-06-09T04:51:06.559Z"
   },
   {
    "duration": 0,
    "start_time": "2022-06-09T04:51:06.561Z"
   },
   {
    "duration": 0,
    "start_time": "2022-06-09T04:51:06.562Z"
   },
   {
    "duration": 0,
    "start_time": "2022-06-09T04:51:06.564Z"
   },
   {
    "duration": 0,
    "start_time": "2022-06-09T04:51:06.565Z"
   },
   {
    "duration": 0,
    "start_time": "2022-06-09T04:51:06.567Z"
   },
   {
    "duration": 0,
    "start_time": "2022-06-09T04:51:06.568Z"
   },
   {
    "duration": 0,
    "start_time": "2022-06-09T04:51:06.569Z"
   },
   {
    "duration": 0,
    "start_time": "2022-06-09T04:51:06.571Z"
   },
   {
    "duration": 0,
    "start_time": "2022-06-09T04:51:06.572Z"
   },
   {
    "duration": 0,
    "start_time": "2022-06-09T04:51:06.573Z"
   },
   {
    "duration": 0,
    "start_time": "2022-06-09T04:51:06.574Z"
   },
   {
    "duration": 0,
    "start_time": "2022-06-09T04:51:06.575Z"
   },
   {
    "duration": 0,
    "start_time": "2022-06-09T04:51:06.576Z"
   },
   {
    "duration": 0,
    "start_time": "2022-06-09T04:51:06.577Z"
   },
   {
    "duration": 0,
    "start_time": "2022-06-09T04:51:06.579Z"
   },
   {
    "duration": 0,
    "start_time": "2022-06-09T04:51:06.581Z"
   },
   {
    "duration": 0,
    "start_time": "2022-06-09T04:51:06.582Z"
   },
   {
    "duration": 0,
    "start_time": "2022-06-09T04:51:06.584Z"
   },
   {
    "duration": 1,
    "start_time": "2022-06-09T04:51:06.584Z"
   },
   {
    "duration": 16,
    "start_time": "2022-06-09T04:51:36.768Z"
   },
   {
    "duration": 213,
    "start_time": "2022-06-09T04:51:38.600Z"
   },
   {
    "duration": 15,
    "start_time": "2022-06-09T04:51:39.907Z"
   },
   {
    "duration": 108,
    "start_time": "2022-06-09T04:51:40.756Z"
   },
   {
    "duration": 12,
    "start_time": "2022-06-09T04:51:44.818Z"
   },
   {
    "duration": 153,
    "start_time": "2022-06-09T04:51:48.593Z"
   },
   {
    "duration": 9,
    "start_time": "2022-06-09T04:51:50.016Z"
   },
   {
    "duration": 11,
    "start_time": "2022-06-09T04:51:52.841Z"
   },
   {
    "duration": 1167,
    "start_time": "2022-06-09T04:52:05.192Z"
   },
   {
    "duration": 87,
    "start_time": "2022-06-09T04:52:06.362Z"
   },
   {
    "duration": 17,
    "start_time": "2022-06-09T04:52:06.451Z"
   },
   {
    "duration": 27,
    "start_time": "2022-06-09T04:52:06.471Z"
   },
   {
    "duration": 22,
    "start_time": "2022-06-09T04:52:06.500Z"
   },
   {
    "duration": 36,
    "start_time": "2022-06-09T04:52:06.523Z"
   },
   {
    "duration": 10,
    "start_time": "2022-06-09T04:52:06.561Z"
   },
   {
    "duration": 39,
    "start_time": "2022-06-09T04:52:06.573Z"
   },
   {
    "duration": 20,
    "start_time": "2022-06-09T04:52:06.614Z"
   },
   {
    "duration": 21,
    "start_time": "2022-06-09T04:52:06.637Z"
   },
   {
    "duration": 37,
    "start_time": "2022-06-09T04:52:06.659Z"
   },
   {
    "duration": 22,
    "start_time": "2022-06-09T04:52:06.698Z"
   },
   {
    "duration": 27,
    "start_time": "2022-06-09T04:52:06.722Z"
   },
   {
    "duration": 23,
    "start_time": "2022-06-09T04:52:06.750Z"
   },
   {
    "duration": 32,
    "start_time": "2022-06-09T04:52:06.775Z"
   },
   {
    "duration": 20,
    "start_time": "2022-06-09T04:52:06.809Z"
   },
   {
    "duration": 24,
    "start_time": "2022-06-09T04:52:06.830Z"
   },
   {
    "duration": 13,
    "start_time": "2022-06-09T04:52:06.855Z"
   },
   {
    "duration": 25,
    "start_time": "2022-06-09T04:52:06.870Z"
   },
   {
    "duration": 26,
    "start_time": "2022-06-09T04:52:06.896Z"
   },
   {
    "duration": 26,
    "start_time": "2022-06-09T04:52:06.923Z"
   },
   {
    "duration": 9,
    "start_time": "2022-06-09T04:52:06.951Z"
   },
   {
    "duration": 200,
    "start_time": "2022-06-09T04:52:06.962Z"
   },
   {
    "duration": 287,
    "start_time": "2022-06-09T04:52:07.164Z"
   },
   {
    "duration": 4,
    "start_time": "2022-06-09T04:52:07.453Z"
   },
   {
    "duration": 38,
    "start_time": "2022-06-09T04:52:07.458Z"
   },
   {
    "duration": 357,
    "start_time": "2022-06-09T04:52:07.498Z"
   },
   {
    "duration": 17,
    "start_time": "2022-06-09T04:52:07.859Z"
   },
   {
    "duration": 269,
    "start_time": "2022-06-09T04:52:07.877Z"
   },
   {
    "duration": 3,
    "start_time": "2022-06-09T04:52:08.147Z"
   },
   {
    "duration": 20,
    "start_time": "2022-06-09T04:52:08.152Z"
   },
   {
    "duration": 192,
    "start_time": "2022-06-09T04:52:08.174Z"
   },
   {
    "duration": 17,
    "start_time": "2022-06-09T04:52:08.368Z"
   },
   {
    "duration": 141,
    "start_time": "2022-06-09T04:52:08.386Z"
   },
   {
    "duration": 6,
    "start_time": "2022-06-09T04:52:08.529Z"
   },
   {
    "duration": 158,
    "start_time": "2022-06-09T04:52:08.537Z"
   },
   {
    "duration": 5,
    "start_time": "2022-06-09T04:52:08.696Z"
   },
   {
    "duration": 26,
    "start_time": "2022-06-09T04:52:08.702Z"
   },
   {
    "duration": 199,
    "start_time": "2022-06-09T04:52:08.729Z"
   },
   {
    "duration": 6,
    "start_time": "2022-06-09T04:52:08.930Z"
   },
   {
    "duration": 114,
    "start_time": "2022-06-09T04:52:08.937Z"
   },
   {
    "duration": 5,
    "start_time": "2022-06-09T04:52:09.053Z"
   },
   {
    "duration": 27,
    "start_time": "2022-06-09T04:52:09.060Z"
   },
   {
    "duration": 165,
    "start_time": "2022-06-09T04:52:09.088Z"
   },
   {
    "duration": 17,
    "start_time": "2022-06-09T04:52:09.255Z"
   },
   {
    "duration": 129,
    "start_time": "2022-06-09T04:52:09.274Z"
   },
   {
    "duration": 12,
    "start_time": "2022-06-09T04:52:09.404Z"
   },
   {
    "duration": 166,
    "start_time": "2022-06-09T04:52:09.417Z"
   },
   {
    "duration": 8,
    "start_time": "2022-06-09T04:52:09.585Z"
   },
   {
    "duration": 699,
    "start_time": "2022-06-09T04:52:09.594Z"
   },
   {
    "duration": 800,
    "start_time": "2022-06-09T04:52:10.294Z"
   },
   {
    "duration": 15,
    "start_time": "2022-06-09T04:52:11.096Z"
   },
   {
    "duration": 162,
    "start_time": "2022-06-09T04:52:11.112Z"
   },
   {
    "duration": 19,
    "start_time": "2022-06-09T04:52:11.275Z"
   },
   {
    "duration": 10,
    "start_time": "2022-06-09T04:52:11.295Z"
   },
   {
    "duration": 32,
    "start_time": "2022-06-09T04:52:11.307Z"
   },
   {
    "duration": 9,
    "start_time": "2022-06-09T04:52:11.342Z"
   },
   {
    "duration": 10,
    "start_time": "2022-06-09T04:52:11.353Z"
   },
   {
    "duration": 18,
    "start_time": "2022-06-09T04:52:11.365Z"
   },
   {
    "duration": 5,
    "start_time": "2022-06-09T04:52:11.428Z"
   },
   {
    "duration": 19,
    "start_time": "2022-06-09T04:52:11.435Z"
   },
   {
    "duration": 19,
    "start_time": "2022-06-09T04:52:11.456Z"
   },
   {
    "duration": 52,
    "start_time": "2022-06-09T04:52:11.477Z"
   },
   {
    "duration": 13,
    "start_time": "2022-06-09T04:52:43.377Z"
   },
   {
    "duration": 155,
    "start_time": "2022-06-09T04:52:55.582Z"
   },
   {
    "duration": 12,
    "start_time": "2022-06-09T04:57:21.559Z"
   },
   {
    "duration": 1296,
    "start_time": "2022-06-09T05:14:43.649Z"
   },
   {
    "duration": 84,
    "start_time": "2022-06-09T05:14:44.947Z"
   },
   {
    "duration": 20,
    "start_time": "2022-06-09T05:14:45.033Z"
   },
   {
    "duration": 28,
    "start_time": "2022-06-09T05:14:45.056Z"
   },
   {
    "duration": 12,
    "start_time": "2022-06-09T05:14:45.086Z"
   },
   {
    "duration": 36,
    "start_time": "2022-06-09T05:14:45.100Z"
   },
   {
    "duration": 5,
    "start_time": "2022-06-09T05:14:45.138Z"
   },
   {
    "duration": 23,
    "start_time": "2022-06-09T05:14:45.145Z"
   },
   {
    "duration": 19,
    "start_time": "2022-06-09T05:14:45.171Z"
   },
   {
    "duration": 38,
    "start_time": "2022-06-09T05:14:45.194Z"
   },
   {
    "duration": 21,
    "start_time": "2022-06-09T05:14:45.234Z"
   },
   {
    "duration": 13,
    "start_time": "2022-06-09T05:14:45.257Z"
   },
   {
    "duration": 46,
    "start_time": "2022-06-09T05:14:45.272Z"
   },
   {
    "duration": 12,
    "start_time": "2022-06-09T05:14:45.321Z"
   },
   {
    "duration": 18,
    "start_time": "2022-06-09T05:14:45.335Z"
   },
   {
    "duration": 11,
    "start_time": "2022-06-09T05:14:45.355Z"
   },
   {
    "duration": 27,
    "start_time": "2022-06-09T05:14:45.367Z"
   },
   {
    "duration": 9,
    "start_time": "2022-06-09T05:14:45.396Z"
   },
   {
    "duration": 24,
    "start_time": "2022-06-09T05:14:45.428Z"
   },
   {
    "duration": 39,
    "start_time": "2022-06-09T05:14:45.454Z"
   },
   {
    "duration": 24,
    "start_time": "2022-06-09T05:14:45.495Z"
   },
   {
    "duration": 8,
    "start_time": "2022-06-09T05:14:45.522Z"
   },
   {
    "duration": 265,
    "start_time": "2022-06-09T05:14:45.532Z"
   },
   {
    "duration": 331,
    "start_time": "2022-06-09T05:14:45.798Z"
   },
   {
    "duration": 5,
    "start_time": "2022-06-09T05:14:46.130Z"
   },
   {
    "duration": 31,
    "start_time": "2022-06-09T05:14:46.137Z"
   },
   {
    "duration": 442,
    "start_time": "2022-06-09T05:14:46.169Z"
   },
   {
    "duration": 20,
    "start_time": "2022-06-09T05:14:46.615Z"
   },
   {
    "duration": 284,
    "start_time": "2022-06-09T05:14:46.637Z"
   },
   {
    "duration": 3,
    "start_time": "2022-06-09T05:14:46.927Z"
   },
   {
    "duration": 28,
    "start_time": "2022-06-09T05:14:46.931Z"
   },
   {
    "duration": 286,
    "start_time": "2022-06-09T05:14:46.961Z"
   },
   {
    "duration": 25,
    "start_time": "2022-06-09T05:14:47.249Z"
   },
   {
    "duration": 155,
    "start_time": "2022-06-09T05:14:47.276Z"
   },
   {
    "duration": 7,
    "start_time": "2022-06-09T05:14:47.433Z"
   },
   {
    "duration": 147,
    "start_time": "2022-06-09T05:14:47.442Z"
   },
   {
    "duration": 5,
    "start_time": "2022-06-09T05:14:47.590Z"
   },
   {
    "duration": 35,
    "start_time": "2022-06-09T05:14:47.597Z"
   },
   {
    "duration": 210,
    "start_time": "2022-06-09T05:14:47.634Z"
   },
   {
    "duration": 7,
    "start_time": "2022-06-09T05:14:47.846Z"
   },
   {
    "duration": 136,
    "start_time": "2022-06-09T05:14:47.855Z"
   },
   {
    "duration": 8,
    "start_time": "2022-06-09T05:14:47.993Z"
   },
   {
    "duration": 37,
    "start_time": "2022-06-09T05:14:48.003Z"
   },
   {
    "duration": 157,
    "start_time": "2022-06-09T05:14:48.045Z"
   },
   {
    "duration": 25,
    "start_time": "2022-06-09T05:14:48.204Z"
   },
   {
    "duration": 129,
    "start_time": "2022-06-09T05:14:48.231Z"
   },
   {
    "duration": 13,
    "start_time": "2022-06-09T05:14:48.362Z"
   },
   {
    "duration": 198,
    "start_time": "2022-06-09T05:14:48.377Z"
   },
   {
    "duration": 783,
    "start_time": "2022-06-09T05:14:48.576Z"
   },
   {
    "duration": 849,
    "start_time": "2022-06-09T05:14:49.361Z"
   },
   {
    "duration": 23,
    "start_time": "2022-06-09T05:14:50.213Z"
   },
   {
    "duration": 157,
    "start_time": "2022-06-09T05:14:50.237Z"
   },
   {
    "duration": 17,
    "start_time": "2022-06-09T05:14:50.395Z"
   },
   {
    "duration": 6,
    "start_time": "2022-06-09T05:14:50.428Z"
   },
   {
    "duration": 28,
    "start_time": "2022-06-09T05:14:50.437Z"
   },
   {
    "duration": 8,
    "start_time": "2022-06-09T05:14:50.467Z"
   },
   {
    "duration": 11,
    "start_time": "2022-06-09T05:14:50.477Z"
   },
   {
    "duration": 23,
    "start_time": "2022-06-09T05:14:50.490Z"
   },
   {
    "duration": 15,
    "start_time": "2022-06-09T05:14:50.514Z"
   },
   {
    "duration": 22,
    "start_time": "2022-06-09T05:14:50.530Z"
   },
   {
    "duration": 12,
    "start_time": "2022-06-09T05:14:50.555Z"
   },
   {
    "duration": 15,
    "start_time": "2022-06-09T05:14:50.569Z"
   },
   {
    "duration": 17,
    "start_time": "2022-06-09T07:26:44.930Z"
   },
   {
    "duration": 114,
    "start_time": "2022-06-09T07:26:54.915Z"
   },
   {
    "duration": 18,
    "start_time": "2022-06-09T07:28:18.148Z"
   },
   {
    "duration": 215,
    "start_time": "2022-06-09T07:28:31.082Z"
   },
   {
    "duration": 1049,
    "start_time": "2022-06-09T07:31:43.649Z"
   },
   {
    "duration": 69,
    "start_time": "2022-06-09T07:31:44.700Z"
   },
   {
    "duration": 16,
    "start_time": "2022-06-09T07:31:44.770Z"
   },
   {
    "duration": 19,
    "start_time": "2022-06-09T07:31:44.788Z"
   },
   {
    "duration": 21,
    "start_time": "2022-06-09T07:31:44.809Z"
   },
   {
    "duration": 27,
    "start_time": "2022-06-09T07:31:44.831Z"
   },
   {
    "duration": 4,
    "start_time": "2022-06-09T07:31:44.860Z"
   },
   {
    "duration": 23,
    "start_time": "2022-06-09T07:31:44.866Z"
   },
   {
    "duration": 37,
    "start_time": "2022-06-09T07:31:44.891Z"
   },
   {
    "duration": 9,
    "start_time": "2022-06-09T07:31:44.931Z"
   },
   {
    "duration": 6,
    "start_time": "2022-06-09T07:31:44.941Z"
   },
   {
    "duration": 5,
    "start_time": "2022-06-09T07:31:44.948Z"
   },
   {
    "duration": 11,
    "start_time": "2022-06-09T07:31:44.954Z"
   },
   {
    "duration": 11,
    "start_time": "2022-06-09T07:31:44.966Z"
   },
   {
    "duration": 14,
    "start_time": "2022-06-09T07:31:44.979Z"
   },
   {
    "duration": 35,
    "start_time": "2022-06-09T07:31:44.994Z"
   },
   {
    "duration": 14,
    "start_time": "2022-06-09T07:31:45.030Z"
   },
   {
    "duration": 9,
    "start_time": "2022-06-09T07:31:45.045Z"
   },
   {
    "duration": 9,
    "start_time": "2022-06-09T07:31:45.055Z"
   },
   {
    "duration": 16,
    "start_time": "2022-06-09T07:31:45.065Z"
   },
   {
    "duration": 16,
    "start_time": "2022-06-09T07:31:45.083Z"
   },
   {
    "duration": 31,
    "start_time": "2022-06-09T07:31:45.100Z"
   },
   {
    "duration": 184,
    "start_time": "2022-06-09T07:31:45.133Z"
   },
   {
    "duration": 267,
    "start_time": "2022-06-09T07:31:45.319Z"
   },
   {
    "duration": 5,
    "start_time": "2022-06-09T07:31:45.588Z"
   },
   {
    "duration": 37,
    "start_time": "2022-06-09T07:31:45.595Z"
   },
   {
    "duration": 340,
    "start_time": "2022-06-09T07:31:45.634Z"
   },
   {
    "duration": 16,
    "start_time": "2022-06-09T07:31:45.978Z"
   },
   {
    "duration": 277,
    "start_time": "2022-06-09T07:31:45.996Z"
   },
   {
    "duration": 3,
    "start_time": "2022-06-09T07:31:46.276Z"
   },
   {
    "duration": 29,
    "start_time": "2022-06-09T07:31:46.280Z"
   },
   {
    "duration": 226,
    "start_time": "2022-06-09T07:31:46.312Z"
   },
   {
    "duration": 17,
    "start_time": "2022-06-09T07:31:46.540Z"
   },
   {
    "duration": 133,
    "start_time": "2022-06-09T07:31:46.558Z"
   },
   {
    "duration": 5,
    "start_time": "2022-06-09T07:31:46.692Z"
   },
   {
    "duration": 124,
    "start_time": "2022-06-09T07:31:46.699Z"
   },
   {
    "duration": 5,
    "start_time": "2022-06-09T07:31:46.827Z"
   },
   {
    "duration": 18,
    "start_time": "2022-06-09T07:31:46.833Z"
   },
   {
    "duration": 210,
    "start_time": "2022-06-09T07:31:46.853Z"
   },
   {
    "duration": 5,
    "start_time": "2022-06-09T07:31:47.065Z"
   },
   {
    "duration": 116,
    "start_time": "2022-06-09T07:31:47.072Z"
   },
   {
    "duration": 5,
    "start_time": "2022-06-09T07:31:47.190Z"
   },
   {
    "duration": 16,
    "start_time": "2022-06-09T07:31:47.196Z"
   },
   {
    "duration": 144,
    "start_time": "2022-06-09T07:31:47.214Z"
   },
   {
    "duration": 4,
    "start_time": "2022-06-09T07:31:47.360Z"
   },
   {
    "duration": 21,
    "start_time": "2022-06-09T07:31:47.366Z"
   },
   {
    "duration": 140,
    "start_time": "2022-06-09T07:31:47.388Z"
   },
   {
    "duration": 13,
    "start_time": "2022-06-09T07:31:47.530Z"
   },
   {
    "duration": 178,
    "start_time": "2022-06-09T07:31:47.545Z"
   },
   {
    "duration": 672,
    "start_time": "2022-06-09T07:31:47.727Z"
   },
   {
    "duration": 721,
    "start_time": "2022-06-09T07:31:48.401Z"
   },
   {
    "duration": 15,
    "start_time": "2022-06-09T07:31:49.127Z"
   },
   {
    "duration": 158,
    "start_time": "2022-06-09T07:31:49.143Z"
   },
   {
    "duration": 18,
    "start_time": "2022-06-09T07:31:49.303Z"
   },
   {
    "duration": 8,
    "start_time": "2022-06-09T07:31:49.327Z"
   },
   {
    "duration": 23,
    "start_time": "2022-06-09T07:31:49.337Z"
   },
   {
    "duration": 9,
    "start_time": "2022-06-09T07:31:49.362Z"
   },
   {
    "duration": 8,
    "start_time": "2022-06-09T07:31:49.373Z"
   },
   {
    "duration": 26,
    "start_time": "2022-06-09T07:31:49.382Z"
   },
   {
    "duration": 19,
    "start_time": "2022-06-09T07:31:49.409Z"
   },
   {
    "duration": 20,
    "start_time": "2022-06-09T07:31:49.430Z"
   },
   {
    "duration": 14,
    "start_time": "2022-06-09T07:31:49.452Z"
   },
   {
    "duration": 11,
    "start_time": "2022-06-09T07:31:49.468Z"
   },
   {
    "duration": 143,
    "start_time": "2022-06-09T07:33:04.385Z"
   },
   {
    "duration": 1053,
    "start_time": "2022-06-09T07:33:19.247Z"
   },
   {
    "duration": 70,
    "start_time": "2022-06-09T07:33:20.302Z"
   },
   {
    "duration": 13,
    "start_time": "2022-06-09T07:33:20.374Z"
   },
   {
    "duration": 16,
    "start_time": "2022-06-09T07:33:20.389Z"
   },
   {
    "duration": 24,
    "start_time": "2022-06-09T07:33:20.407Z"
   },
   {
    "duration": 22,
    "start_time": "2022-06-09T07:33:20.432Z"
   },
   {
    "duration": 5,
    "start_time": "2022-06-09T07:33:20.455Z"
   },
   {
    "duration": 21,
    "start_time": "2022-06-09T07:33:20.462Z"
   },
   {
    "duration": 43,
    "start_time": "2022-06-09T07:33:20.485Z"
   },
   {
    "duration": 8,
    "start_time": "2022-06-09T07:33:20.531Z"
   },
   {
    "duration": 8,
    "start_time": "2022-06-09T07:33:20.541Z"
   },
   {
    "duration": 4,
    "start_time": "2022-06-09T07:33:20.551Z"
   },
   {
    "duration": 13,
    "start_time": "2022-06-09T07:33:20.557Z"
   },
   {
    "duration": 14,
    "start_time": "2022-06-09T07:33:20.571Z"
   },
   {
    "duration": 40,
    "start_time": "2022-06-09T07:33:20.587Z"
   },
   {
    "duration": 13,
    "start_time": "2022-06-09T07:33:20.629Z"
   },
   {
    "duration": 20,
    "start_time": "2022-06-09T07:33:20.644Z"
   },
   {
    "duration": 7,
    "start_time": "2022-06-09T07:33:20.666Z"
   },
   {
    "duration": 12,
    "start_time": "2022-06-09T07:33:20.674Z"
   },
   {
    "duration": 41,
    "start_time": "2022-06-09T07:33:20.687Z"
   },
   {
    "duration": 16,
    "start_time": "2022-06-09T07:33:20.729Z"
   },
   {
    "duration": 7,
    "start_time": "2022-06-09T07:33:20.747Z"
   },
   {
    "duration": 192,
    "start_time": "2022-06-09T07:33:20.755Z"
   },
   {
    "duration": 283,
    "start_time": "2022-06-09T07:33:20.949Z"
   },
   {
    "duration": 4,
    "start_time": "2022-06-09T07:33:21.234Z"
   },
   {
    "duration": 43,
    "start_time": "2022-06-09T07:33:21.239Z"
   },
   {
    "duration": 344,
    "start_time": "2022-06-09T07:33:21.283Z"
   },
   {
    "duration": 18,
    "start_time": "2022-06-09T07:33:21.630Z"
   },
   {
    "duration": 289,
    "start_time": "2022-06-09T07:33:21.649Z"
   },
   {
    "duration": 4,
    "start_time": "2022-06-09T07:33:21.939Z"
   },
   {
    "duration": 24,
    "start_time": "2022-06-09T07:33:21.945Z"
   },
   {
    "duration": 218,
    "start_time": "2022-06-09T07:33:21.971Z"
   },
   {
    "duration": 16,
    "start_time": "2022-06-09T07:33:22.191Z"
   },
   {
    "duration": 155,
    "start_time": "2022-06-09T07:33:22.208Z"
   },
   {
    "duration": 5,
    "start_time": "2022-06-09T07:33:22.365Z"
   },
   {
    "duration": 140,
    "start_time": "2022-06-09T07:33:22.372Z"
   },
   {
    "duration": 5,
    "start_time": "2022-06-09T07:33:22.514Z"
   },
   {
    "duration": 18,
    "start_time": "2022-06-09T07:33:22.527Z"
   },
   {
    "duration": 223,
    "start_time": "2022-06-09T07:33:22.547Z"
   },
   {
    "duration": 6,
    "start_time": "2022-06-09T07:33:22.773Z"
   },
   {
    "duration": 166,
    "start_time": "2022-06-09T07:33:22.781Z"
   },
   {
    "duration": 6,
    "start_time": "2022-06-09T07:33:22.949Z"
   },
   {
    "duration": 21,
    "start_time": "2022-06-09T07:33:22.956Z"
   },
   {
    "duration": 157,
    "start_time": "2022-06-09T07:33:22.979Z"
   },
   {
    "duration": 178,
    "start_time": "2022-06-09T07:33:23.138Z"
   },
   {
    "duration": 17,
    "start_time": "2022-06-09T07:33:23.327Z"
   },
   {
    "duration": 150,
    "start_time": "2022-06-09T07:33:23.345Z"
   },
   {
    "duration": 13,
    "start_time": "2022-06-09T07:33:23.497Z"
   },
   {
    "duration": 233,
    "start_time": "2022-06-09T07:33:23.511Z"
   },
   {
    "duration": 873,
    "start_time": "2022-06-09T07:33:23.747Z"
   },
   {
    "duration": 901,
    "start_time": "2022-06-09T07:33:24.621Z"
   },
   {
    "duration": 18,
    "start_time": "2022-06-09T07:33:25.527Z"
   },
   {
    "duration": 149,
    "start_time": "2022-06-09T07:33:25.547Z"
   },
   {
    "duration": 16,
    "start_time": "2022-06-09T07:33:25.697Z"
   },
   {
    "duration": 12,
    "start_time": "2022-06-09T07:33:25.716Z"
   },
   {
    "duration": 17,
    "start_time": "2022-06-09T07:33:25.730Z"
   },
   {
    "duration": 10,
    "start_time": "2022-06-09T07:33:25.749Z"
   },
   {
    "duration": 9,
    "start_time": "2022-06-09T07:33:25.761Z"
   },
   {
    "duration": 22,
    "start_time": "2022-06-09T07:33:25.771Z"
   },
   {
    "duration": 8,
    "start_time": "2022-06-09T07:33:25.795Z"
   },
   {
    "duration": 42,
    "start_time": "2022-06-09T07:33:25.805Z"
   },
   {
    "duration": 104,
    "start_time": "2022-06-09T07:33:25.849Z"
   },
   {
    "duration": 12,
    "start_time": "2022-06-09T07:33:25.955Z"
   },
   {
    "duration": 356,
    "start_time": "2022-06-09T07:36:33.986Z"
   },
   {
    "duration": 209,
    "start_time": "2022-06-09T07:36:40.024Z"
   },
   {
    "duration": 1122,
    "start_time": "2022-06-09T07:36:44.692Z"
   },
   {
    "duration": 69,
    "start_time": "2022-06-09T07:36:45.816Z"
   },
   {
    "duration": 12,
    "start_time": "2022-06-09T07:36:45.887Z"
   },
   {
    "duration": 27,
    "start_time": "2022-06-09T07:36:45.900Z"
   },
   {
    "duration": 19,
    "start_time": "2022-06-09T07:36:45.929Z"
   },
   {
    "duration": 51,
    "start_time": "2022-06-09T07:36:45.950Z"
   },
   {
    "duration": 13,
    "start_time": "2022-06-09T07:36:46.003Z"
   },
   {
    "duration": 44,
    "start_time": "2022-06-09T07:36:46.018Z"
   },
   {
    "duration": 43,
    "start_time": "2022-06-09T07:36:46.064Z"
   },
   {
    "duration": 37,
    "start_time": "2022-06-09T07:36:46.108Z"
   },
   {
    "duration": 40,
    "start_time": "2022-06-09T07:36:46.147Z"
   },
   {
    "duration": 27,
    "start_time": "2022-06-09T07:36:46.189Z"
   },
   {
    "duration": 43,
    "start_time": "2022-06-09T07:36:46.218Z"
   },
   {
    "duration": 75,
    "start_time": "2022-06-09T07:36:46.264Z"
   },
   {
    "duration": 57,
    "start_time": "2022-06-09T07:36:46.341Z"
   },
   {
    "duration": 46,
    "start_time": "2022-06-09T07:36:46.400Z"
   },
   {
    "duration": 49,
    "start_time": "2022-06-09T07:36:46.448Z"
   },
   {
    "duration": 62,
    "start_time": "2022-06-09T07:36:46.499Z"
   },
   {
    "duration": 56,
    "start_time": "2022-06-09T07:36:46.563Z"
   },
   {
    "duration": 43,
    "start_time": "2022-06-09T07:36:46.621Z"
   },
   {
    "duration": 41,
    "start_time": "2022-06-09T07:36:46.666Z"
   },
   {
    "duration": 20,
    "start_time": "2022-06-09T07:36:46.709Z"
   },
   {
    "duration": 202,
    "start_time": "2022-06-09T07:36:46.730Z"
   },
   {
    "duration": 300,
    "start_time": "2022-06-09T07:36:46.934Z"
   },
   {
    "duration": 4,
    "start_time": "2022-06-09T07:36:47.235Z"
   },
   {
    "duration": 51,
    "start_time": "2022-06-09T07:36:47.240Z"
   },
   {
    "duration": 349,
    "start_time": "2022-06-09T07:36:47.293Z"
   },
   {
    "duration": 17,
    "start_time": "2022-06-09T07:36:47.645Z"
   },
   {
    "duration": 277,
    "start_time": "2022-06-09T07:36:47.663Z"
   },
   {
    "duration": 3,
    "start_time": "2022-06-09T07:36:47.942Z"
   },
   {
    "duration": 65,
    "start_time": "2022-06-09T07:36:47.946Z"
   },
   {
    "duration": 201,
    "start_time": "2022-06-09T07:36:48.013Z"
   },
   {
    "duration": 17,
    "start_time": "2022-06-09T07:36:48.216Z"
   },
   {
    "duration": 172,
    "start_time": "2022-06-09T07:36:48.234Z"
   },
   {
    "duration": 6,
    "start_time": "2022-06-09T07:36:48.408Z"
   },
   {
    "duration": 147,
    "start_time": "2022-06-09T07:36:48.416Z"
   },
   {
    "duration": 5,
    "start_time": "2022-06-09T07:36:48.565Z"
   },
   {
    "duration": 49,
    "start_time": "2022-06-09T07:36:48.571Z"
   },
   {
    "duration": 215,
    "start_time": "2022-06-09T07:36:48.621Z"
   },
   {
    "duration": 6,
    "start_time": "2022-06-09T07:36:48.837Z"
   },
   {
    "duration": 148,
    "start_time": "2022-06-09T07:36:48.847Z"
   },
   {
    "duration": 6,
    "start_time": "2022-06-09T07:36:48.996Z"
   },
   {
    "duration": 37,
    "start_time": "2022-06-09T07:36:49.003Z"
   },
   {
    "duration": 171,
    "start_time": "2022-06-09T07:36:49.041Z"
   },
   {
    "duration": 145,
    "start_time": "2022-06-09T07:36:49.214Z"
   },
   {
    "duration": 5,
    "start_time": "2022-06-09T07:36:49.360Z"
   },
   {
    "duration": 20,
    "start_time": "2022-06-09T07:36:49.366Z"
   },
   {
    "duration": 46,
    "start_time": "2022-06-09T07:36:49.387Z"
   },
   {
    "duration": 147,
    "start_time": "2022-06-09T07:36:49.435Z"
   },
   {
    "duration": 13,
    "start_time": "2022-06-09T07:36:49.584Z"
   },
   {
    "duration": 163,
    "start_time": "2022-06-09T07:36:49.598Z"
   },
   {
    "duration": 739,
    "start_time": "2022-06-09T07:36:49.762Z"
   },
   {
    "duration": 733,
    "start_time": "2022-06-09T07:36:50.502Z"
   },
   {
    "duration": 14,
    "start_time": "2022-06-09T07:36:51.237Z"
   },
   {
    "duration": 161,
    "start_time": "2022-06-09T07:36:51.253Z"
   },
   {
    "duration": 19,
    "start_time": "2022-06-09T07:36:51.415Z"
   },
   {
    "duration": 30,
    "start_time": "2022-06-09T07:36:51.436Z"
   },
   {
    "duration": 31,
    "start_time": "2022-06-09T07:36:51.468Z"
   },
   {
    "duration": 20,
    "start_time": "2022-06-09T07:36:51.500Z"
   },
   {
    "duration": 20,
    "start_time": "2022-06-09T07:36:51.522Z"
   },
   {
    "duration": 39,
    "start_time": "2022-06-09T07:36:51.543Z"
   },
   {
    "duration": 17,
    "start_time": "2022-06-09T07:36:51.584Z"
   },
   {
    "duration": 34,
    "start_time": "2022-06-09T07:36:51.602Z"
   },
   {
    "duration": 25,
    "start_time": "2022-06-09T07:36:51.638Z"
   },
   {
    "duration": 91,
    "start_time": "2022-06-09T07:36:51.664Z"
   },
   {
    "duration": 131,
    "start_time": "2022-06-09T07:39:22.888Z"
   },
   {
    "duration": 5,
    "start_time": "2022-06-09T07:39:58.228Z"
   },
   {
    "duration": 4,
    "start_time": "2022-06-09T07:40:00.303Z"
   },
   {
    "duration": 1116,
    "start_time": "2022-06-09T07:41:32.951Z"
   },
   {
    "duration": 68,
    "start_time": "2022-06-09T07:41:34.071Z"
   },
   {
    "duration": 14,
    "start_time": "2022-06-09T07:41:34.141Z"
   },
   {
    "duration": 15,
    "start_time": "2022-06-09T07:41:34.156Z"
   },
   {
    "duration": 10,
    "start_time": "2022-06-09T07:41:34.173Z"
   },
   {
    "duration": 44,
    "start_time": "2022-06-09T07:41:34.184Z"
   },
   {
    "duration": 5,
    "start_time": "2022-06-09T07:41:34.229Z"
   },
   {
    "duration": 18,
    "start_time": "2022-06-09T07:41:34.236Z"
   },
   {
    "duration": 12,
    "start_time": "2022-06-09T07:41:34.256Z"
   },
   {
    "duration": 8,
    "start_time": "2022-06-09T07:41:34.270Z"
   },
   {
    "duration": 5,
    "start_time": "2022-06-09T07:41:34.279Z"
   },
   {
    "duration": 5,
    "start_time": "2022-06-09T07:41:34.286Z"
   },
   {
    "duration": 40,
    "start_time": "2022-06-09T07:41:34.293Z"
   },
   {
    "duration": 11,
    "start_time": "2022-06-09T07:41:34.335Z"
   },
   {
    "duration": 15,
    "start_time": "2022-06-09T07:41:34.348Z"
   },
   {
    "duration": 9,
    "start_time": "2022-06-09T07:41:34.365Z"
   },
   {
    "duration": 11,
    "start_time": "2022-06-09T07:41:34.375Z"
   },
   {
    "duration": 46,
    "start_time": "2022-06-09T07:41:34.388Z"
   },
   {
    "duration": 22,
    "start_time": "2022-06-09T07:41:34.436Z"
   },
   {
    "duration": 15,
    "start_time": "2022-06-09T07:41:34.460Z"
   },
   {
    "duration": 17,
    "start_time": "2022-06-09T07:41:34.476Z"
   },
   {
    "duration": 6,
    "start_time": "2022-06-09T07:41:34.494Z"
   },
   {
    "duration": 181,
    "start_time": "2022-06-09T07:41:34.501Z"
   },
   {
    "duration": 287,
    "start_time": "2022-06-09T07:41:34.683Z"
   },
   {
    "duration": 3,
    "start_time": "2022-06-09T07:41:34.972Z"
   },
   {
    "duration": 27,
    "start_time": "2022-06-09T07:41:34.977Z"
   },
   {
    "duration": 399,
    "start_time": "2022-06-09T07:41:35.007Z"
   },
   {
    "duration": 19,
    "start_time": "2022-06-09T07:41:35.408Z"
   },
   {
    "duration": 304,
    "start_time": "2022-06-09T07:41:35.429Z"
   },
   {
    "duration": 3,
    "start_time": "2022-06-09T07:41:35.735Z"
   },
   {
    "duration": 24,
    "start_time": "2022-06-09T07:41:35.739Z"
   },
   {
    "duration": 206,
    "start_time": "2022-06-09T07:41:35.765Z"
   },
   {
    "duration": 16,
    "start_time": "2022-06-09T07:41:35.973Z"
   },
   {
    "duration": 128,
    "start_time": "2022-06-09T07:41:35.991Z"
   },
   {
    "duration": 4,
    "start_time": "2022-06-09T07:41:36.127Z"
   },
   {
    "duration": 231,
    "start_time": "2022-06-09T07:41:36.133Z"
   },
   {
    "duration": 8,
    "start_time": "2022-06-09T07:41:36.366Z"
   },
   {
    "duration": 31,
    "start_time": "2022-06-09T07:41:36.376Z"
   },
   {
    "duration": 150,
    "start_time": "2022-06-09T07:41:36.408Z"
   },
   {
    "duration": 5,
    "start_time": "2022-06-09T07:41:36.560Z"
   },
   {
    "duration": 156,
    "start_time": "2022-06-09T07:41:36.567Z"
   },
   {
    "duration": 6,
    "start_time": "2022-06-09T07:41:36.727Z"
   },
   {
    "duration": 29,
    "start_time": "2022-06-09T07:41:36.735Z"
   },
   {
    "duration": 149,
    "start_time": "2022-06-09T07:41:36.765Z"
   },
   {
    "duration": 187,
    "start_time": "2022-06-09T07:41:36.916Z"
   },
   {
    "duration": 5,
    "start_time": "2022-06-09T07:41:37.107Z"
   },
   {
    "duration": 14,
    "start_time": "2022-06-09T07:41:37.114Z"
   },
   {
    "duration": 24,
    "start_time": "2022-06-09T07:41:37.129Z"
   },
   {
    "duration": 139,
    "start_time": "2022-06-09T07:41:37.154Z"
   },
   {
    "duration": 146,
    "start_time": "2022-06-09T07:41:37.295Z"
   },
   {
    "duration": 5,
    "start_time": "2022-06-09T07:41:37.443Z"
   },
   {
    "duration": 8,
    "start_time": "2022-06-09T07:41:37.450Z"
   },
   {
    "duration": 14,
    "start_time": "2022-06-09T07:41:37.460Z"
   },
   {
    "duration": 199,
    "start_time": "2022-06-09T07:41:37.475Z"
   },
   {
    "duration": 722,
    "start_time": "2022-06-09T07:41:37.675Z"
   },
   {
    "duration": 792,
    "start_time": "2022-06-09T07:41:38.398Z"
   },
   {
    "duration": 13,
    "start_time": "2022-06-09T07:41:39.191Z"
   },
   {
    "duration": 143,
    "start_time": "2022-06-09T07:41:39.206Z"
   },
   {
    "duration": 15,
    "start_time": "2022-06-09T07:41:39.351Z"
   },
   {
    "duration": 9,
    "start_time": "2022-06-09T07:41:39.368Z"
   },
   {
    "duration": 18,
    "start_time": "2022-06-09T07:41:39.378Z"
   },
   {
    "duration": 8,
    "start_time": "2022-06-09T07:41:39.397Z"
   },
   {
    "duration": 24,
    "start_time": "2022-06-09T07:41:39.406Z"
   },
   {
    "duration": 18,
    "start_time": "2022-06-09T07:41:39.432Z"
   },
   {
    "duration": 7,
    "start_time": "2022-06-09T07:41:39.451Z"
   },
   {
    "duration": 23,
    "start_time": "2022-06-09T07:41:39.459Z"
   },
   {
    "duration": 8,
    "start_time": "2022-06-09T07:41:39.484Z"
   },
   {
    "duration": 7,
    "start_time": "2022-06-09T07:41:39.493Z"
   },
   {
    "duration": 20,
    "start_time": "2022-06-09T07:43:41.259Z"
   },
   {
    "duration": 184,
    "start_time": "2022-06-09T07:43:46.908Z"
   },
   {
    "duration": 120,
    "start_time": "2022-06-09T07:43:52.773Z"
   },
   {
    "duration": 7,
    "start_time": "2022-06-09T07:44:04.866Z"
   },
   {
    "duration": 5,
    "start_time": "2022-06-09T07:44:23.900Z"
   },
   {
    "duration": 58,
    "start_time": "2022-06-09T09:59:33.583Z"
   },
   {
    "duration": 1392,
    "start_time": "2022-06-09T09:59:44.635Z"
   },
   {
    "duration": 179,
    "start_time": "2022-06-09T09:59:46.029Z"
   },
   {
    "duration": 14,
    "start_time": "2022-06-09T09:59:46.210Z"
   },
   {
    "duration": 34,
    "start_time": "2022-06-09T09:59:46.226Z"
   },
   {
    "duration": 41,
    "start_time": "2022-06-09T09:59:46.262Z"
   },
   {
    "duration": 33,
    "start_time": "2022-06-09T09:59:46.308Z"
   },
   {
    "duration": 4,
    "start_time": "2022-06-09T09:59:46.343Z"
   },
   {
    "duration": 64,
    "start_time": "2022-06-09T09:59:46.348Z"
   },
   {
    "duration": 18,
    "start_time": "2022-06-09T09:59:46.414Z"
   },
   {
    "duration": 16,
    "start_time": "2022-06-09T09:59:46.435Z"
   },
   {
    "duration": 36,
    "start_time": "2022-06-09T09:59:46.453Z"
   },
   {
    "duration": 29,
    "start_time": "2022-06-09T09:59:46.490Z"
   },
   {
    "duration": 19,
    "start_time": "2022-06-09T09:59:46.521Z"
   },
   {
    "duration": 57,
    "start_time": "2022-06-09T09:59:46.542Z"
   },
   {
    "duration": 47,
    "start_time": "2022-06-09T09:59:46.601Z"
   },
   {
    "duration": 44,
    "start_time": "2022-06-09T09:59:46.650Z"
   },
   {
    "duration": 33,
    "start_time": "2022-06-09T09:59:46.703Z"
   },
   {
    "duration": 11,
    "start_time": "2022-06-09T09:59:46.738Z"
   },
   {
    "duration": 63,
    "start_time": "2022-06-09T09:59:46.750Z"
   },
   {
    "duration": 20,
    "start_time": "2022-06-09T09:59:46.816Z"
   },
   {
    "duration": 31,
    "start_time": "2022-06-09T09:59:46.838Z"
   },
   {
    "duration": 44,
    "start_time": "2022-06-09T09:59:46.872Z"
   },
   {
    "duration": 284,
    "start_time": "2022-06-09T09:59:46.918Z"
   },
   {
    "duration": 357,
    "start_time": "2022-06-09T09:59:47.207Z"
   },
   {
    "duration": 5,
    "start_time": "2022-06-09T09:59:47.567Z"
   },
   {
    "duration": 131,
    "start_time": "2022-06-09T09:59:47.574Z"
   },
   {
    "duration": 601,
    "start_time": "2022-06-09T09:59:47.707Z"
   },
   {
    "duration": 17,
    "start_time": "2022-06-09T09:59:48.311Z"
   },
   {
    "duration": 358,
    "start_time": "2022-06-09T09:59:48.330Z"
   },
   {
    "duration": 5,
    "start_time": "2022-06-09T09:59:48.690Z"
   },
   {
    "duration": 40,
    "start_time": "2022-06-09T09:59:48.698Z"
   },
   {
    "duration": 300,
    "start_time": "2022-06-09T09:59:48.740Z"
   },
   {
    "duration": 29,
    "start_time": "2022-06-09T09:59:49.042Z"
   },
   {
    "duration": 202,
    "start_time": "2022-06-09T09:59:49.073Z"
   },
   {
    "duration": 6,
    "start_time": "2022-06-09T09:59:49.278Z"
   },
   {
    "duration": 203,
    "start_time": "2022-06-09T09:59:49.286Z"
   },
   {
    "duration": 10,
    "start_time": "2022-06-09T09:59:49.496Z"
   },
   {
    "duration": 49,
    "start_time": "2022-06-09T09:59:49.507Z"
   },
   {
    "duration": 298,
    "start_time": "2022-06-09T09:59:49.558Z"
   },
   {
    "duration": 6,
    "start_time": "2022-06-09T09:59:49.858Z"
   },
   {
    "duration": 184,
    "start_time": "2022-06-09T09:59:49.866Z"
   },
   {
    "duration": 6,
    "start_time": "2022-06-09T09:59:50.052Z"
   },
   {
    "duration": 62,
    "start_time": "2022-06-09T09:59:50.060Z"
   },
   {
    "duration": 158,
    "start_time": "2022-06-09T09:59:50.123Z"
   },
   {
    "duration": 158,
    "start_time": "2022-06-09T09:59:50.283Z"
   },
   {
    "duration": 5,
    "start_time": "2022-06-09T09:59:50.442Z"
   },
   {
    "duration": 15,
    "start_time": "2022-06-09T09:59:50.449Z"
   },
   {
    "duration": 53,
    "start_time": "2022-06-09T09:59:50.466Z"
   },
   {
    "duration": 115,
    "start_time": "2022-06-09T09:59:50.520Z"
   },
   {
    "duration": 1,
    "start_time": "2022-06-09T09:59:50.636Z"
   },
   {
    "duration": 0,
    "start_time": "2022-06-09T09:59:50.638Z"
   },
   {
    "duration": 0,
    "start_time": "2022-06-09T09:59:50.639Z"
   },
   {
    "duration": 0,
    "start_time": "2022-06-09T09:59:50.640Z"
   },
   {
    "duration": 0,
    "start_time": "2022-06-09T09:59:50.641Z"
   },
   {
    "duration": 0,
    "start_time": "2022-06-09T09:59:50.642Z"
   },
   {
    "duration": 0,
    "start_time": "2022-06-09T09:59:50.644Z"
   },
   {
    "duration": 0,
    "start_time": "2022-06-09T09:59:50.644Z"
   },
   {
    "duration": 0,
    "start_time": "2022-06-09T09:59:50.645Z"
   },
   {
    "duration": 0,
    "start_time": "2022-06-09T09:59:50.646Z"
   },
   {
    "duration": 0,
    "start_time": "2022-06-09T09:59:50.663Z"
   },
   {
    "duration": 0,
    "start_time": "2022-06-09T09:59:50.664Z"
   },
   {
    "duration": 0,
    "start_time": "2022-06-09T09:59:50.666Z"
   },
   {
    "duration": 0,
    "start_time": "2022-06-09T09:59:50.667Z"
   },
   {
    "duration": 0,
    "start_time": "2022-06-09T09:59:50.668Z"
   },
   {
    "duration": 0,
    "start_time": "2022-06-09T09:59:50.670Z"
   },
   {
    "duration": 0,
    "start_time": "2022-06-09T09:59:50.672Z"
   },
   {
    "duration": 0,
    "start_time": "2022-06-09T09:59:50.673Z"
   },
   {
    "duration": 0,
    "start_time": "2022-06-09T09:59:50.674Z"
   },
   {
    "duration": 22,
    "start_time": "2022-06-09T09:59:59.416Z"
   },
   {
    "duration": 16,
    "start_time": "2022-06-09T10:00:28.928Z"
   },
   {
    "duration": 233,
    "start_time": "2022-06-09T10:00:35.699Z"
   },
   {
    "duration": 1354,
    "start_time": "2022-06-09T10:00:52.688Z"
   },
   {
    "duration": 99,
    "start_time": "2022-06-09T10:00:54.044Z"
   },
   {
    "duration": 18,
    "start_time": "2022-06-09T10:00:54.144Z"
   },
   {
    "duration": 71,
    "start_time": "2022-06-09T10:00:54.168Z"
   },
   {
    "duration": 9,
    "start_time": "2022-06-09T10:00:54.241Z"
   },
   {
    "duration": 95,
    "start_time": "2022-06-09T10:00:54.252Z"
   },
   {
    "duration": 5,
    "start_time": "2022-06-09T10:00:54.348Z"
   },
   {
    "duration": 76,
    "start_time": "2022-06-09T10:00:54.354Z"
   },
   {
    "duration": 16,
    "start_time": "2022-06-09T10:00:54.431Z"
   },
   {
    "duration": 72,
    "start_time": "2022-06-09T10:00:54.449Z"
   },
   {
    "duration": 11,
    "start_time": "2022-06-09T10:00:54.523Z"
   },
   {
    "duration": 70,
    "start_time": "2022-06-09T10:00:54.536Z"
   },
   {
    "duration": 23,
    "start_time": "2022-06-09T10:00:54.608Z"
   },
   {
    "duration": 80,
    "start_time": "2022-06-09T10:00:54.634Z"
   },
   {
    "duration": 45,
    "start_time": "2022-06-09T10:00:54.717Z"
   },
   {
    "duration": 12,
    "start_time": "2022-06-09T10:00:54.765Z"
   },
   {
    "duration": 65,
    "start_time": "2022-06-09T10:00:54.779Z"
   },
   {
    "duration": 18,
    "start_time": "2022-06-09T10:00:54.846Z"
   },
   {
    "duration": 58,
    "start_time": "2022-06-09T10:00:54.865Z"
   },
   {
    "duration": 28,
    "start_time": "2022-06-09T10:00:54.925Z"
   },
   {
    "duration": 72,
    "start_time": "2022-06-09T10:00:54.956Z"
   },
   {
    "duration": 25,
    "start_time": "2022-06-09T10:00:55.030Z"
   },
   {
    "duration": 309,
    "start_time": "2022-06-09T10:00:55.057Z"
   },
   {
    "duration": 378,
    "start_time": "2022-06-09T10:00:55.368Z"
   },
   {
    "duration": 4,
    "start_time": "2022-06-09T10:00:55.748Z"
   },
   {
    "duration": 92,
    "start_time": "2022-06-09T10:00:55.753Z"
   },
   {
    "duration": 445,
    "start_time": "2022-06-09T10:00:55.847Z"
   },
   {
    "duration": 27,
    "start_time": "2022-06-09T10:00:56.293Z"
   },
   {
    "duration": 419,
    "start_time": "2022-06-09T10:00:56.322Z"
   },
   {
    "duration": 3,
    "start_time": "2022-06-09T10:00:56.744Z"
   },
   {
    "duration": 52,
    "start_time": "2022-06-09T10:00:56.768Z"
   },
   {
    "duration": 311,
    "start_time": "2022-06-09T10:00:56.822Z"
   },
   {
    "duration": 19,
    "start_time": "2022-06-09T10:00:57.135Z"
   },
   {
    "duration": 329,
    "start_time": "2022-06-09T10:00:57.155Z"
   },
   {
    "duration": 10,
    "start_time": "2022-06-09T10:00:57.485Z"
   },
   {
    "duration": 234,
    "start_time": "2022-06-09T10:00:57.497Z"
   },
   {
    "duration": 10,
    "start_time": "2022-06-09T10:00:57.734Z"
   },
   {
    "duration": 40,
    "start_time": "2022-06-09T10:00:57.746Z"
   },
   {
    "duration": 320,
    "start_time": "2022-06-09T10:00:57.789Z"
   },
   {
    "duration": 7,
    "start_time": "2022-06-09T10:00:58.115Z"
   },
   {
    "duration": 171,
    "start_time": "2022-06-09T10:00:58.127Z"
   },
   {
    "duration": 11,
    "start_time": "2022-06-09T10:00:58.299Z"
   },
   {
    "duration": 30,
    "start_time": "2022-06-09T10:00:58.312Z"
   },
   {
    "duration": 166,
    "start_time": "2022-06-09T10:00:58.345Z"
   },
   {
    "duration": 177,
    "start_time": "2022-06-09T10:00:58.514Z"
   },
   {
    "duration": 6,
    "start_time": "2022-06-09T10:00:58.693Z"
   },
   {
    "duration": 4,
    "start_time": "2022-06-09T10:00:58.701Z"
   },
   {
    "duration": 22,
    "start_time": "2022-06-09T10:00:58.715Z"
   },
   {
    "duration": 163,
    "start_time": "2022-06-09T10:00:58.739Z"
   },
   {
    "duration": 0,
    "start_time": "2022-06-09T10:00:58.904Z"
   },
   {
    "duration": 0,
    "start_time": "2022-06-09T10:00:58.910Z"
   },
   {
    "duration": 0,
    "start_time": "2022-06-09T10:00:58.911Z"
   },
   {
    "duration": 0,
    "start_time": "2022-06-09T10:00:58.914Z"
   },
   {
    "duration": 0,
    "start_time": "2022-06-09T10:00:58.915Z"
   },
   {
    "duration": 0,
    "start_time": "2022-06-09T10:00:58.916Z"
   },
   {
    "duration": 0,
    "start_time": "2022-06-09T10:00:58.917Z"
   },
   {
    "duration": 0,
    "start_time": "2022-06-09T10:00:58.918Z"
   },
   {
    "duration": 0,
    "start_time": "2022-06-09T10:00:58.920Z"
   },
   {
    "duration": 0,
    "start_time": "2022-06-09T10:00:58.921Z"
   },
   {
    "duration": 0,
    "start_time": "2022-06-09T10:00:58.923Z"
   },
   {
    "duration": 0,
    "start_time": "2022-06-09T10:00:58.924Z"
   },
   {
    "duration": 0,
    "start_time": "2022-06-09T10:00:58.925Z"
   },
   {
    "duration": 0,
    "start_time": "2022-06-09T10:00:58.926Z"
   },
   {
    "duration": 0,
    "start_time": "2022-06-09T10:00:58.927Z"
   },
   {
    "duration": 0,
    "start_time": "2022-06-09T10:00:58.929Z"
   },
   {
    "duration": 0,
    "start_time": "2022-06-09T10:00:58.958Z"
   },
   {
    "duration": 0,
    "start_time": "2022-06-09T10:00:58.960Z"
   },
   {
    "duration": 0,
    "start_time": "2022-06-09T10:00:58.961Z"
   },
   {
    "duration": 17,
    "start_time": "2022-06-09T10:02:02.844Z"
   },
   {
    "duration": 162,
    "start_time": "2022-06-09T10:02:04.587Z"
   },
   {
    "duration": 200,
    "start_time": "2022-06-09T10:02:10.487Z"
   },
   {
    "duration": 14,
    "start_time": "2022-06-09T10:02:12.880Z"
   },
   {
    "duration": 1687,
    "start_time": "2022-06-09T10:03:16.482Z"
   },
   {
    "duration": 132,
    "start_time": "2022-06-09T10:03:18.172Z"
   },
   {
    "duration": 21,
    "start_time": "2022-06-09T10:03:18.306Z"
   },
   {
    "duration": 39,
    "start_time": "2022-06-09T10:03:18.333Z"
   },
   {
    "duration": 78,
    "start_time": "2022-06-09T10:03:18.378Z"
   },
   {
    "duration": 123,
    "start_time": "2022-06-09T10:03:18.462Z"
   },
   {
    "duration": 63,
    "start_time": "2022-06-09T10:03:18.587Z"
   },
   {
    "duration": 112,
    "start_time": "2022-06-09T10:03:18.652Z"
   },
   {
    "duration": 28,
    "start_time": "2022-06-09T10:03:18.769Z"
   },
   {
    "duration": 50,
    "start_time": "2022-06-09T10:03:18.801Z"
   },
   {
    "duration": 49,
    "start_time": "2022-06-09T10:03:18.854Z"
   },
   {
    "duration": 42,
    "start_time": "2022-06-09T10:03:18.905Z"
   },
   {
    "duration": 18,
    "start_time": "2022-06-09T10:03:18.950Z"
   },
   {
    "duration": 73,
    "start_time": "2022-06-09T10:03:18.976Z"
   },
   {
    "duration": 75,
    "start_time": "2022-06-09T10:03:19.051Z"
   },
   {
    "duration": 19,
    "start_time": "2022-06-09T10:03:19.128Z"
   },
   {
    "duration": 23,
    "start_time": "2022-06-09T10:03:19.148Z"
   },
   {
    "duration": 8,
    "start_time": "2022-06-09T10:03:19.179Z"
   },
   {
    "duration": 50,
    "start_time": "2022-06-09T10:03:19.189Z"
   },
   {
    "duration": 41,
    "start_time": "2022-06-09T10:03:19.242Z"
   },
   {
    "duration": 59,
    "start_time": "2022-06-09T10:03:19.289Z"
   },
   {
    "duration": 14,
    "start_time": "2022-06-09T10:03:19.350Z"
   },
   {
    "duration": 367,
    "start_time": "2022-06-09T10:03:19.366Z"
   },
   {
    "duration": 447,
    "start_time": "2022-06-09T10:03:19.739Z"
   },
   {
    "duration": 8,
    "start_time": "2022-06-09T10:03:20.194Z"
   },
   {
    "duration": 123,
    "start_time": "2022-06-09T10:03:20.204Z"
   },
   {
    "duration": 547,
    "start_time": "2022-06-09T10:03:20.329Z"
   },
   {
    "duration": 28,
    "start_time": "2022-06-09T10:03:20.883Z"
   },
   {
    "duration": 536,
    "start_time": "2022-06-09T10:03:20.913Z"
   },
   {
    "duration": 7,
    "start_time": "2022-06-09T10:03:21.452Z"
   },
   {
    "duration": 104,
    "start_time": "2022-06-09T10:03:21.464Z"
   },
   {
    "duration": 347,
    "start_time": "2022-06-09T10:03:21.571Z"
   },
   {
    "duration": 26,
    "start_time": "2022-06-09T10:03:21.922Z"
   },
   {
    "duration": 346,
    "start_time": "2022-06-09T10:03:21.950Z"
   },
   {
    "duration": 6,
    "start_time": "2022-06-09T10:03:22.298Z"
   },
   {
    "duration": 236,
    "start_time": "2022-06-09T10:03:22.306Z"
   },
   {
    "duration": 7,
    "start_time": "2022-06-09T10:03:22.544Z"
   },
   {
    "duration": 81,
    "start_time": "2022-06-09T10:03:22.562Z"
   },
   {
    "duration": 329,
    "start_time": "2022-06-09T10:03:22.645Z"
   },
   {
    "duration": 9,
    "start_time": "2022-06-09T10:03:22.976Z"
   },
   {
    "duration": 265,
    "start_time": "2022-06-09T10:03:22.989Z"
   },
   {
    "duration": 9,
    "start_time": "2022-06-09T10:03:23.259Z"
   },
   {
    "duration": 109,
    "start_time": "2022-06-09T10:03:23.274Z"
   },
   {
    "duration": 254,
    "start_time": "2022-06-09T10:03:23.385Z"
   },
   {
    "duration": 228,
    "start_time": "2022-06-09T10:03:23.641Z"
   },
   {
    "duration": 9,
    "start_time": "2022-06-09T10:03:23.874Z"
   },
   {
    "duration": 57,
    "start_time": "2022-06-09T10:03:23.889Z"
   },
   {
    "duration": 48,
    "start_time": "2022-06-09T10:03:23.948Z"
   },
   {
    "duration": 222,
    "start_time": "2022-06-09T10:03:23.999Z"
   },
   {
    "duration": 207,
    "start_time": "2022-06-09T10:03:24.226Z"
   },
   {
    "duration": 5,
    "start_time": "2022-06-09T10:03:24.435Z"
   },
   {
    "duration": 24,
    "start_time": "2022-06-09T10:03:24.442Z"
   },
   {
    "duration": 73,
    "start_time": "2022-06-09T10:03:24.472Z"
   },
   {
    "duration": 274,
    "start_time": "2022-06-09T10:03:24.548Z"
   },
   {
    "duration": 1023,
    "start_time": "2022-06-09T10:03:24.824Z"
   },
   {
    "duration": 1115,
    "start_time": "2022-06-09T10:03:25.851Z"
   },
   {
    "duration": 42,
    "start_time": "2022-06-09T10:03:26.967Z"
   },
   {
    "duration": 229,
    "start_time": "2022-06-09T10:03:27.010Z"
   },
   {
    "duration": 24,
    "start_time": "2022-06-09T10:03:27.247Z"
   },
   {
    "duration": 75,
    "start_time": "2022-06-09T10:03:27.273Z"
   },
   {
    "duration": 98,
    "start_time": "2022-06-09T10:03:27.350Z"
   },
   {
    "duration": 38,
    "start_time": "2022-06-09T10:03:27.450Z"
   },
   {
    "duration": 55,
    "start_time": "2022-06-09T10:03:27.493Z"
   },
   {
    "duration": 118,
    "start_time": "2022-06-09T10:03:27.550Z"
   },
   {
    "duration": 12,
    "start_time": "2022-06-09T10:03:27.675Z"
   },
   {
    "duration": 115,
    "start_time": "2022-06-09T10:03:27.695Z"
   },
   {
    "duration": 197,
    "start_time": "2022-06-09T10:03:27.823Z"
   },
   {
    "duration": 86,
    "start_time": "2022-06-09T10:03:28.022Z"
   },
   {
    "duration": 1456,
    "start_time": "2022-06-09T10:09:46.988Z"
   },
   {
    "duration": 122,
    "start_time": "2022-06-09T10:09:48.446Z"
   },
   {
    "duration": 26,
    "start_time": "2022-06-09T10:09:48.570Z"
   },
   {
    "duration": 52,
    "start_time": "2022-06-09T10:09:48.599Z"
   },
   {
    "duration": 23,
    "start_time": "2022-06-09T10:09:48.653Z"
   },
   {
    "duration": 108,
    "start_time": "2022-06-09T10:09:48.678Z"
   },
   {
    "duration": 81,
    "start_time": "2022-06-09T10:09:48.789Z"
   },
   {
    "duration": 81,
    "start_time": "2022-06-09T10:09:48.872Z"
   },
   {
    "duration": 25,
    "start_time": "2022-06-09T10:09:48.956Z"
   },
   {
    "duration": 60,
    "start_time": "2022-06-09T10:09:48.987Z"
   },
   {
    "duration": 13,
    "start_time": "2022-06-09T10:09:49.049Z"
   },
   {
    "duration": 92,
    "start_time": "2022-06-09T10:09:49.064Z"
   },
   {
    "duration": 73,
    "start_time": "2022-06-09T10:09:49.162Z"
   },
   {
    "duration": 20,
    "start_time": "2022-06-09T10:09:49.238Z"
   },
   {
    "duration": 99,
    "start_time": "2022-06-09T10:09:49.260Z"
   },
   {
    "duration": 44,
    "start_time": "2022-06-09T10:09:49.361Z"
   },
   {
    "duration": 37,
    "start_time": "2022-06-09T10:09:49.407Z"
   },
   {
    "duration": 8,
    "start_time": "2022-06-09T10:09:49.445Z"
   },
   {
    "duration": 88,
    "start_time": "2022-06-09T10:09:49.455Z"
   },
   {
    "duration": 37,
    "start_time": "2022-06-09T10:09:49.545Z"
   },
   {
    "duration": 87,
    "start_time": "2022-06-09T10:09:49.584Z"
   },
   {
    "duration": 90,
    "start_time": "2022-06-09T10:09:49.673Z"
   },
   {
    "duration": 414,
    "start_time": "2022-06-09T10:09:49.765Z"
   },
   {
    "duration": 491,
    "start_time": "2022-06-09T10:09:50.181Z"
   },
   {
    "duration": 4,
    "start_time": "2022-06-09T10:09:50.674Z"
   },
   {
    "duration": 200,
    "start_time": "2022-06-09T10:09:50.684Z"
   },
   {
    "duration": 546,
    "start_time": "2022-06-09T10:09:50.886Z"
   },
   {
    "duration": 25,
    "start_time": "2022-06-09T10:09:51.435Z"
   },
   {
    "duration": 503,
    "start_time": "2022-06-09T10:09:51.464Z"
   },
   {
    "duration": 6,
    "start_time": "2022-06-09T10:09:51.970Z"
   },
   {
    "duration": 69,
    "start_time": "2022-06-09T10:09:51.981Z"
   },
   {
    "duration": 292,
    "start_time": "2022-06-09T10:09:52.052Z"
   },
   {
    "duration": 34,
    "start_time": "2022-06-09T10:09:52.346Z"
   },
   {
    "duration": 253,
    "start_time": "2022-06-09T10:09:52.382Z"
   },
   {
    "duration": 7,
    "start_time": "2022-06-09T10:09:52.637Z"
   },
   {
    "duration": 214,
    "start_time": "2022-06-09T10:09:52.646Z"
   },
   {
    "duration": 11,
    "start_time": "2022-06-09T10:09:52.868Z"
   },
   {
    "duration": 88,
    "start_time": "2022-06-09T10:09:52.881Z"
   },
   {
    "duration": 376,
    "start_time": "2022-06-09T10:09:52.970Z"
   },
   {
    "duration": 7,
    "start_time": "2022-06-09T10:09:53.348Z"
   },
   {
    "duration": 222,
    "start_time": "2022-06-09T10:09:53.369Z"
   },
   {
    "duration": 10,
    "start_time": "2022-06-09T10:09:53.597Z"
   },
   {
    "duration": 30,
    "start_time": "2022-06-09T10:09:53.613Z"
   },
   {
    "duration": 206,
    "start_time": "2022-06-09T10:09:53.645Z"
   },
   {
    "duration": 178,
    "start_time": "2022-06-09T10:09:53.853Z"
   },
   {
    "duration": 4,
    "start_time": "2022-06-09T10:09:54.033Z"
   },
   {
    "duration": 10,
    "start_time": "2022-06-09T10:09:54.039Z"
   },
   {
    "duration": 47,
    "start_time": "2022-06-09T10:09:54.050Z"
   },
   {
    "duration": 169,
    "start_time": "2022-06-09T10:09:54.098Z"
   },
   {
    "duration": 231,
    "start_time": "2022-06-09T10:09:54.269Z"
   },
   {
    "duration": 7,
    "start_time": "2022-06-09T10:09:54.502Z"
   },
   {
    "duration": 38,
    "start_time": "2022-06-09T10:09:54.511Z"
   },
   {
    "duration": 21,
    "start_time": "2022-06-09T10:09:54.551Z"
   },
   {
    "duration": 283,
    "start_time": "2022-06-09T10:09:54.574Z"
   },
   {
    "duration": 1007,
    "start_time": "2022-06-09T10:09:54.871Z"
   },
   {
    "duration": 980,
    "start_time": "2022-06-09T10:09:55.881Z"
   },
   {
    "duration": 16,
    "start_time": "2022-06-09T10:09:56.863Z"
   },
   {
    "duration": 383,
    "start_time": "2022-06-09T10:09:56.881Z"
   },
   {
    "duration": 26,
    "start_time": "2022-06-09T10:09:57.267Z"
   },
   {
    "duration": 75,
    "start_time": "2022-06-09T10:09:57.295Z"
   },
   {
    "duration": 73,
    "start_time": "2022-06-09T10:09:57.372Z"
   },
   {
    "duration": 13,
    "start_time": "2022-06-09T10:09:57.447Z"
   },
   {
    "duration": 76,
    "start_time": "2022-06-09T10:09:57.462Z"
   },
   {
    "duration": 44,
    "start_time": "2022-06-09T10:09:57.540Z"
   },
   {
    "duration": 47,
    "start_time": "2022-06-09T10:09:57.587Z"
   },
   {
    "duration": 32,
    "start_time": "2022-06-09T10:09:57.636Z"
   },
   {
    "duration": 68,
    "start_time": "2022-06-09T10:09:57.669Z"
   },
   {
    "duration": 19,
    "start_time": "2022-06-09T10:09:57.739Z"
   }
  ],
  "kernelspec": {
   "display_name": "Python 3 (ipykernel)",
   "language": "python",
   "name": "python3"
  },
  "language_info": {
   "codemirror_mode": {
    "name": "ipython",
    "version": 3
   },
   "file_extension": ".py",
   "mimetype": "text/x-python",
   "name": "python",
   "nbconvert_exporter": "python",
   "pygments_lexer": "ipython3",
   "version": "3.9.12"
  },
  "toc": {
   "base_numbering": 1,
   "nav_menu": {},
   "number_sections": true,
   "sideBar": true,
   "skip_h1_title": true,
   "title_cell": "Table of Contents",
   "title_sidebar": "Contents",
   "toc_cell": false,
   "toc_position": {
    "height": "calc(100% - 180px)",
    "left": "10px",
    "top": "150px",
    "width": "331.438px"
   },
   "toc_section_display": true,
   "toc_window_display": true
  }
 },
 "nbformat": 4,
 "nbformat_minor": 2
}
