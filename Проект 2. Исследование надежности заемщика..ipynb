{
 "cells": [
  {
   "cell_type": "markdown",
   "id": "7dec5165",
   "metadata": {},
   "source": [
    "# Исследование надежности заемщиков."
   ]
  },
  {
   "cell_type": "markdown",
   "id": "fe564629",
   "metadata": {},
   "source": [
    "Описание проекта:\n",
    "Заказчик — кредитный отдел банка. Нужно разобраться, влияет ли семейное положение и количество детей клиента на факт погашения кредита в срок. Входные данные от банка — статистика о платёжеспособности клиентов.\n",
    "Результаты исследования будут учтены при построении модели кредитного скоринга — специальной системы, которая оценивает способность потенциального заёмщика вернуть кредит банку."
   ]
  },
  {
   "cell_type": "markdown",
   "id": "60c1024e",
   "metadata": {},
   "source": [
    "### Шаг 1. Обзор данных"
   ]
  },
  {
   "cell_type": "markdown",
   "id": "595ea1f8",
   "metadata": {},
   "source": [
    "Читаем таблицу и сохраняем её в переменной borrowers (анг. заёмщики)\n",
    "Выводим таблицу на экран:"
   ]
  },
  {
   "cell_type": "code",
   "execution_count": 1,
   "id": "06cde1ab",
   "metadata": {
    "scrolled": false
   },
   "outputs": [],
   "source": [
    "import pandas as pd"
   ]
  },
  {
   "cell_type": "code",
   "execution_count": 2,
   "id": "7e500710",
   "metadata": {},
   "outputs": [],
   "source": [
    "borrowers = pd.read_csv('/datasets/data.csv')"
   ]
  },
  {
   "cell_type": "code",
   "execution_count": 3,
   "id": "aeb44304",
   "metadata": {},
   "outputs": [
    {
     "data": {
      "text/html": [
       "<div>\n",
       "<style scoped>\n",
       "    .dataframe tbody tr th:only-of-type {\n",
       "        vertical-align: middle;\n",
       "    }\n",
       "\n",
       "    .dataframe tbody tr th {\n",
       "        vertical-align: top;\n",
       "    }\n",
       "\n",
       "    .dataframe thead th {\n",
       "        text-align: right;\n",
       "    }\n",
       "</style>\n",
       "<table border=\"1\" class=\"dataframe\">\n",
       "  <thead>\n",
       "    <tr style=\"text-align: right;\">\n",
       "      <th></th>\n",
       "      <th>children</th>\n",
       "      <th>days_employed</th>\n",
       "      <th>dob_years</th>\n",
       "      <th>education</th>\n",
       "      <th>education_id</th>\n",
       "      <th>family_status</th>\n",
       "      <th>family_status_id</th>\n",
       "      <th>gender</th>\n",
       "      <th>income_type</th>\n",
       "      <th>debt</th>\n",
       "      <th>total_income</th>\n",
       "      <th>purpose</th>\n",
       "    </tr>\n",
       "  </thead>\n",
       "  <tbody>\n",
       "    <tr>\n",
       "      <th>0</th>\n",
       "      <td>1</td>\n",
       "      <td>-8437.673028</td>\n",
       "      <td>42</td>\n",
       "      <td>высшее</td>\n",
       "      <td>0</td>\n",
       "      <td>женат / замужем</td>\n",
       "      <td>0</td>\n",
       "      <td>F</td>\n",
       "      <td>сотрудник</td>\n",
       "      <td>0</td>\n",
       "      <td>253875.639453</td>\n",
       "      <td>покупка жилья</td>\n",
       "    </tr>\n",
       "    <tr>\n",
       "      <th>1</th>\n",
       "      <td>1</td>\n",
       "      <td>-4024.803754</td>\n",
       "      <td>36</td>\n",
       "      <td>среднее</td>\n",
       "      <td>1</td>\n",
       "      <td>женат / замужем</td>\n",
       "      <td>0</td>\n",
       "      <td>F</td>\n",
       "      <td>сотрудник</td>\n",
       "      <td>0</td>\n",
       "      <td>112080.014102</td>\n",
       "      <td>приобретение автомобиля</td>\n",
       "    </tr>\n",
       "    <tr>\n",
       "      <th>2</th>\n",
       "      <td>0</td>\n",
       "      <td>-5623.422610</td>\n",
       "      <td>33</td>\n",
       "      <td>Среднее</td>\n",
       "      <td>1</td>\n",
       "      <td>женат / замужем</td>\n",
       "      <td>0</td>\n",
       "      <td>M</td>\n",
       "      <td>сотрудник</td>\n",
       "      <td>0</td>\n",
       "      <td>145885.952297</td>\n",
       "      <td>покупка жилья</td>\n",
       "    </tr>\n",
       "    <tr>\n",
       "      <th>3</th>\n",
       "      <td>3</td>\n",
       "      <td>-4124.747207</td>\n",
       "      <td>32</td>\n",
       "      <td>среднее</td>\n",
       "      <td>1</td>\n",
       "      <td>женат / замужем</td>\n",
       "      <td>0</td>\n",
       "      <td>M</td>\n",
       "      <td>сотрудник</td>\n",
       "      <td>0</td>\n",
       "      <td>267628.550329</td>\n",
       "      <td>дополнительное образование</td>\n",
       "    </tr>\n",
       "    <tr>\n",
       "      <th>4</th>\n",
       "      <td>0</td>\n",
       "      <td>340266.072047</td>\n",
       "      <td>53</td>\n",
       "      <td>среднее</td>\n",
       "      <td>1</td>\n",
       "      <td>гражданский брак</td>\n",
       "      <td>1</td>\n",
       "      <td>F</td>\n",
       "      <td>пенсионер</td>\n",
       "      <td>0</td>\n",
       "      <td>158616.077870</td>\n",
       "      <td>сыграть свадьбу</td>\n",
       "    </tr>\n",
       "    <tr>\n",
       "      <th>...</th>\n",
       "      <td>...</td>\n",
       "      <td>...</td>\n",
       "      <td>...</td>\n",
       "      <td>...</td>\n",
       "      <td>...</td>\n",
       "      <td>...</td>\n",
       "      <td>...</td>\n",
       "      <td>...</td>\n",
       "      <td>...</td>\n",
       "      <td>...</td>\n",
       "      <td>...</td>\n",
       "      <td>...</td>\n",
       "    </tr>\n",
       "    <tr>\n",
       "      <th>21520</th>\n",
       "      <td>1</td>\n",
       "      <td>-4529.316663</td>\n",
       "      <td>43</td>\n",
       "      <td>среднее</td>\n",
       "      <td>1</td>\n",
       "      <td>гражданский брак</td>\n",
       "      <td>1</td>\n",
       "      <td>F</td>\n",
       "      <td>компаньон</td>\n",
       "      <td>0</td>\n",
       "      <td>224791.862382</td>\n",
       "      <td>операции с жильем</td>\n",
       "    </tr>\n",
       "    <tr>\n",
       "      <th>21521</th>\n",
       "      <td>0</td>\n",
       "      <td>343937.404131</td>\n",
       "      <td>67</td>\n",
       "      <td>среднее</td>\n",
       "      <td>1</td>\n",
       "      <td>женат / замужем</td>\n",
       "      <td>0</td>\n",
       "      <td>F</td>\n",
       "      <td>пенсионер</td>\n",
       "      <td>0</td>\n",
       "      <td>155999.806512</td>\n",
       "      <td>сделка с автомобилем</td>\n",
       "    </tr>\n",
       "    <tr>\n",
       "      <th>21522</th>\n",
       "      <td>1</td>\n",
       "      <td>-2113.346888</td>\n",
       "      <td>38</td>\n",
       "      <td>среднее</td>\n",
       "      <td>1</td>\n",
       "      <td>гражданский брак</td>\n",
       "      <td>1</td>\n",
       "      <td>M</td>\n",
       "      <td>сотрудник</td>\n",
       "      <td>1</td>\n",
       "      <td>89672.561153</td>\n",
       "      <td>недвижимость</td>\n",
       "    </tr>\n",
       "    <tr>\n",
       "      <th>21523</th>\n",
       "      <td>3</td>\n",
       "      <td>-3112.481705</td>\n",
       "      <td>38</td>\n",
       "      <td>среднее</td>\n",
       "      <td>1</td>\n",
       "      <td>женат / замужем</td>\n",
       "      <td>0</td>\n",
       "      <td>M</td>\n",
       "      <td>сотрудник</td>\n",
       "      <td>1</td>\n",
       "      <td>244093.050500</td>\n",
       "      <td>на покупку своего автомобиля</td>\n",
       "    </tr>\n",
       "    <tr>\n",
       "      <th>21524</th>\n",
       "      <td>2</td>\n",
       "      <td>-1984.507589</td>\n",
       "      <td>40</td>\n",
       "      <td>среднее</td>\n",
       "      <td>1</td>\n",
       "      <td>женат / замужем</td>\n",
       "      <td>0</td>\n",
       "      <td>F</td>\n",
       "      <td>сотрудник</td>\n",
       "      <td>0</td>\n",
       "      <td>82047.418899</td>\n",
       "      <td>на покупку автомобиля</td>\n",
       "    </tr>\n",
       "  </tbody>\n",
       "</table>\n",
       "<p>21525 rows × 12 columns</p>\n",
       "</div>"
      ],
      "text/plain": [
       "       children  days_employed  dob_years education  education_id  \\\n",
       "0             1   -8437.673028         42    высшее             0   \n",
       "1             1   -4024.803754         36   среднее             1   \n",
       "2             0   -5623.422610         33   Среднее             1   \n",
       "3             3   -4124.747207         32   среднее             1   \n",
       "4             0  340266.072047         53   среднее             1   \n",
       "...         ...            ...        ...       ...           ...   \n",
       "21520         1   -4529.316663         43   среднее             1   \n",
       "21521         0  343937.404131         67   среднее             1   \n",
       "21522         1   -2113.346888         38   среднее             1   \n",
       "21523         3   -3112.481705         38   среднее             1   \n",
       "21524         2   -1984.507589         40   среднее             1   \n",
       "\n",
       "          family_status  family_status_id gender income_type  debt  \\\n",
       "0       женат / замужем                 0      F   сотрудник     0   \n",
       "1       женат / замужем                 0      F   сотрудник     0   \n",
       "2       женат / замужем                 0      M   сотрудник     0   \n",
       "3       женат / замужем                 0      M   сотрудник     0   \n",
       "4      гражданский брак                 1      F   пенсионер     0   \n",
       "...                 ...               ...    ...         ...   ...   \n",
       "21520  гражданский брак                 1      F   компаньон     0   \n",
       "21521   женат / замужем                 0      F   пенсионер     0   \n",
       "21522  гражданский брак                 1      M   сотрудник     1   \n",
       "21523   женат / замужем                 0      M   сотрудник     1   \n",
       "21524   женат / замужем                 0      F   сотрудник     0   \n",
       "\n",
       "        total_income                       purpose  \n",
       "0      253875.639453                 покупка жилья  \n",
       "1      112080.014102       приобретение автомобиля  \n",
       "2      145885.952297                 покупка жилья  \n",
       "3      267628.550329    дополнительное образование  \n",
       "4      158616.077870               сыграть свадьбу  \n",
       "...              ...                           ...  \n",
       "21520  224791.862382             операции с жильем  \n",
       "21521  155999.806512          сделка с автомобилем  \n",
       "21522   89672.561153                  недвижимость  \n",
       "21523  244093.050500  на покупку своего автомобиля  \n",
       "21524   82047.418899         на покупку автомобиля  \n",
       "\n",
       "[21525 rows x 12 columns]"
      ]
     },
     "execution_count": 3,
     "metadata": {},
     "output_type": "execute_result"
    }
   ],
   "source": [
    "borrowers"
   ]
  },
  {
   "cell_type": "markdown",
   "id": "dfc2a981",
   "metadata": {},
   "source": [
    "Выгружаем информацию о таблице:"
   ]
  },
  {
   "cell_type": "code",
   "execution_count": 4,
   "id": "f32459e5",
   "metadata": {},
   "outputs": [
    {
     "name": "stdout",
     "output_type": "stream",
     "text": [
      "<class 'pandas.core.frame.DataFrame'>\n",
      "RangeIndex: 21525 entries, 0 to 21524\n",
      "Data columns (total 12 columns):\n",
      " #   Column            Non-Null Count  Dtype  \n",
      "---  ------            --------------  -----  \n",
      " 0   children          21525 non-null  int64  \n",
      " 1   days_employed     19351 non-null  float64\n",
      " 2   dob_years         21525 non-null  int64  \n",
      " 3   education         21525 non-null  object \n",
      " 4   education_id      21525 non-null  int64  \n",
      " 5   family_status     21525 non-null  object \n",
      " 6   family_status_id  21525 non-null  int64  \n",
      " 7   gender            21525 non-null  object \n",
      " 8   income_type       21525 non-null  object \n",
      " 9   debt              21525 non-null  int64  \n",
      " 10  total_income      19351 non-null  float64\n",
      " 11  purpose           21525 non-null  object \n",
      "dtypes: float64(2), int64(5), object(5)\n",
      "memory usage: 2.0+ MB\n"
     ]
    }
   ],
   "source": [
    "borrowers.info()"
   ]
  },
  {
   "cell_type": "markdown",
   "id": "47c9e2f1",
   "metadata": {},
   "source": [
    "Рассмотрим входные данные. Мы емеем таблицу, в которой содержатся следующие данные:\n",
    "children — количество детей в семье\n",
    "days_employed — общий трудовой стаж в днях\n",
    "dob_years — возраст клиента в годах\n",
    "education — уровень образования клиента\n",
    "education_id — идентификатор уровня образования\n",
    "family_status — семейное положение\n",
    "family_status_id — идентификатор семейного положения\n",
    "gender — пол клиента\n",
    "income_type — тип занятости\n",
    "debt — имел ли задолженность по возврату кредитов\n",
    "total_income — ежемесячный доход\n",
    "purpose — цель получения кредита\n",
    "В таблице 12 столбцов и 21525 строк, т.е. нам предоставлены данные о 21525 клиентах Банка, на основании которых мы будем проводить анализ."
   ]
  },
  {
   "cell_type": "markdown",
   "id": "e8698875",
   "metadata": {},
   "source": [
    "### Шаг 2.1 Заполнение пропусков"
   ]
  },
  {
   "cell_type": "code",
   "execution_count": 5,
   "id": "f6611977",
   "metadata": {},
   "outputs": [
    {
     "data": {
      "text/plain": [
       "children               0\n",
       "days_employed       2174\n",
       "dob_years              0\n",
       "education              0\n",
       "education_id           0\n",
       "family_status          0\n",
       "family_status_id       0\n",
       "gender                 0\n",
       "income_type            0\n",
       "debt                   0\n",
       "total_income        2174\n",
       "purpose                0\n",
       "dtype: int64"
      ]
     },
     "execution_count": 5,
     "metadata": {},
     "output_type": "execute_result"
    }
   ],
   "source": [
    "borrowers.isna().sum()"
   ]
  },
  {
   "cell_type": "markdown",
   "id": "39fe26a4",
   "metadata": {},
   "source": [
    "Выясняется, что пропущенные значения присутствуют в двух столбцах: 'days_employed'(общий трудовой стаж в днях) и 'total_income'\n",
    "(ежемесячный доход). При этом количество пропущенных значений в обоих столбцах одинаковое. Из информации о таблице мы видим,\n",
    "что в ней всего 21525 строк, т.о. пропуски в обоих столбцах составляют (2174/21525) 10.099883% - большая доля.\n",
    "Столбцы с пропусками имеют тип данных float64 - это числовой тип данных. Проверим, совпадают ли строки с пропусками в этих двух столбцах:"
   ]
  },
  {
   "cell_type": "code",
   "execution_count": 6,
   "id": "efebaa68",
   "metadata": {
    "scrolled": true
   },
   "outputs": [
    {
     "data": {
      "text/html": [
       "<div>\n",
       "<style scoped>\n",
       "    .dataframe tbody tr th:only-of-type {\n",
       "        vertical-align: middle;\n",
       "    }\n",
       "\n",
       "    .dataframe tbody tr th {\n",
       "        vertical-align: top;\n",
       "    }\n",
       "\n",
       "    .dataframe thead th {\n",
       "        text-align: right;\n",
       "    }\n",
       "</style>\n",
       "<table border=\"1\" class=\"dataframe\">\n",
       "  <thead>\n",
       "    <tr style=\"text-align: right;\">\n",
       "      <th></th>\n",
       "      <th>children</th>\n",
       "      <th>days_employed</th>\n",
       "      <th>dob_years</th>\n",
       "      <th>education</th>\n",
       "      <th>education_id</th>\n",
       "      <th>family_status</th>\n",
       "      <th>family_status_id</th>\n",
       "      <th>gender</th>\n",
       "      <th>income_type</th>\n",
       "      <th>debt</th>\n",
       "      <th>total_income</th>\n",
       "      <th>purpose</th>\n",
       "    </tr>\n",
       "  </thead>\n",
       "  <tbody>\n",
       "    <tr>\n",
       "      <th>12</th>\n",
       "      <td>0</td>\n",
       "      <td>NaN</td>\n",
       "      <td>65</td>\n",
       "      <td>среднее</td>\n",
       "      <td>1</td>\n",
       "      <td>гражданский брак</td>\n",
       "      <td>1</td>\n",
       "      <td>M</td>\n",
       "      <td>пенсионер</td>\n",
       "      <td>0</td>\n",
       "      <td>NaN</td>\n",
       "      <td>сыграть свадьбу</td>\n",
       "    </tr>\n",
       "    <tr>\n",
       "      <th>26</th>\n",
       "      <td>0</td>\n",
       "      <td>NaN</td>\n",
       "      <td>41</td>\n",
       "      <td>среднее</td>\n",
       "      <td>1</td>\n",
       "      <td>женат / замужем</td>\n",
       "      <td>0</td>\n",
       "      <td>M</td>\n",
       "      <td>госслужащий</td>\n",
       "      <td>0</td>\n",
       "      <td>NaN</td>\n",
       "      <td>образование</td>\n",
       "    </tr>\n",
       "    <tr>\n",
       "      <th>29</th>\n",
       "      <td>0</td>\n",
       "      <td>NaN</td>\n",
       "      <td>63</td>\n",
       "      <td>среднее</td>\n",
       "      <td>1</td>\n",
       "      <td>Не женат / не замужем</td>\n",
       "      <td>4</td>\n",
       "      <td>F</td>\n",
       "      <td>пенсионер</td>\n",
       "      <td>0</td>\n",
       "      <td>NaN</td>\n",
       "      <td>строительство жилой недвижимости</td>\n",
       "    </tr>\n",
       "    <tr>\n",
       "      <th>41</th>\n",
       "      <td>0</td>\n",
       "      <td>NaN</td>\n",
       "      <td>50</td>\n",
       "      <td>среднее</td>\n",
       "      <td>1</td>\n",
       "      <td>женат / замужем</td>\n",
       "      <td>0</td>\n",
       "      <td>F</td>\n",
       "      <td>госслужащий</td>\n",
       "      <td>0</td>\n",
       "      <td>NaN</td>\n",
       "      <td>сделка с подержанным автомобилем</td>\n",
       "    </tr>\n",
       "    <tr>\n",
       "      <th>55</th>\n",
       "      <td>0</td>\n",
       "      <td>NaN</td>\n",
       "      <td>54</td>\n",
       "      <td>среднее</td>\n",
       "      <td>1</td>\n",
       "      <td>гражданский брак</td>\n",
       "      <td>1</td>\n",
       "      <td>F</td>\n",
       "      <td>пенсионер</td>\n",
       "      <td>1</td>\n",
       "      <td>NaN</td>\n",
       "      <td>сыграть свадьбу</td>\n",
       "    </tr>\n",
       "    <tr>\n",
       "      <th>...</th>\n",
       "      <td>...</td>\n",
       "      <td>...</td>\n",
       "      <td>...</td>\n",
       "      <td>...</td>\n",
       "      <td>...</td>\n",
       "      <td>...</td>\n",
       "      <td>...</td>\n",
       "      <td>...</td>\n",
       "      <td>...</td>\n",
       "      <td>...</td>\n",
       "      <td>...</td>\n",
       "      <td>...</td>\n",
       "    </tr>\n",
       "    <tr>\n",
       "      <th>21489</th>\n",
       "      <td>2</td>\n",
       "      <td>NaN</td>\n",
       "      <td>47</td>\n",
       "      <td>Среднее</td>\n",
       "      <td>1</td>\n",
       "      <td>женат / замужем</td>\n",
       "      <td>0</td>\n",
       "      <td>M</td>\n",
       "      <td>компаньон</td>\n",
       "      <td>0</td>\n",
       "      <td>NaN</td>\n",
       "      <td>сделка с автомобилем</td>\n",
       "    </tr>\n",
       "    <tr>\n",
       "      <th>21495</th>\n",
       "      <td>1</td>\n",
       "      <td>NaN</td>\n",
       "      <td>50</td>\n",
       "      <td>среднее</td>\n",
       "      <td>1</td>\n",
       "      <td>гражданский брак</td>\n",
       "      <td>1</td>\n",
       "      <td>F</td>\n",
       "      <td>сотрудник</td>\n",
       "      <td>0</td>\n",
       "      <td>NaN</td>\n",
       "      <td>свадьба</td>\n",
       "    </tr>\n",
       "    <tr>\n",
       "      <th>21497</th>\n",
       "      <td>0</td>\n",
       "      <td>NaN</td>\n",
       "      <td>48</td>\n",
       "      <td>ВЫСШЕЕ</td>\n",
       "      <td>0</td>\n",
       "      <td>женат / замужем</td>\n",
       "      <td>0</td>\n",
       "      <td>F</td>\n",
       "      <td>компаньон</td>\n",
       "      <td>0</td>\n",
       "      <td>NaN</td>\n",
       "      <td>строительство недвижимости</td>\n",
       "    </tr>\n",
       "    <tr>\n",
       "      <th>21502</th>\n",
       "      <td>1</td>\n",
       "      <td>NaN</td>\n",
       "      <td>42</td>\n",
       "      <td>среднее</td>\n",
       "      <td>1</td>\n",
       "      <td>женат / замужем</td>\n",
       "      <td>0</td>\n",
       "      <td>F</td>\n",
       "      <td>сотрудник</td>\n",
       "      <td>0</td>\n",
       "      <td>NaN</td>\n",
       "      <td>строительство жилой недвижимости</td>\n",
       "    </tr>\n",
       "    <tr>\n",
       "      <th>21510</th>\n",
       "      <td>2</td>\n",
       "      <td>NaN</td>\n",
       "      <td>28</td>\n",
       "      <td>среднее</td>\n",
       "      <td>1</td>\n",
       "      <td>женат / замужем</td>\n",
       "      <td>0</td>\n",
       "      <td>F</td>\n",
       "      <td>сотрудник</td>\n",
       "      <td>0</td>\n",
       "      <td>NaN</td>\n",
       "      <td>приобретение автомобиля</td>\n",
       "    </tr>\n",
       "  </tbody>\n",
       "</table>\n",
       "<p>2174 rows × 12 columns</p>\n",
       "</div>"
      ],
      "text/plain": [
       "       children  days_employed  dob_years education  education_id  \\\n",
       "12            0            NaN         65   среднее             1   \n",
       "26            0            NaN         41   среднее             1   \n",
       "29            0            NaN         63   среднее             1   \n",
       "41            0            NaN         50   среднее             1   \n",
       "55            0            NaN         54   среднее             1   \n",
       "...         ...            ...        ...       ...           ...   \n",
       "21489         2            NaN         47   Среднее             1   \n",
       "21495         1            NaN         50   среднее             1   \n",
       "21497         0            NaN         48    ВЫСШЕЕ             0   \n",
       "21502         1            NaN         42   среднее             1   \n",
       "21510         2            NaN         28   среднее             1   \n",
       "\n",
       "               family_status  family_status_id gender  income_type  debt  \\\n",
       "12          гражданский брак                 1      M    пенсионер     0   \n",
       "26           женат / замужем                 0      M  госслужащий     0   \n",
       "29     Не женат / не замужем                 4      F    пенсионер     0   \n",
       "41           женат / замужем                 0      F  госслужащий     0   \n",
       "55          гражданский брак                 1      F    пенсионер     1   \n",
       "...                      ...               ...    ...          ...   ...   \n",
       "21489        женат / замужем                 0      M    компаньон     0   \n",
       "21495       гражданский брак                 1      F    сотрудник     0   \n",
       "21497        женат / замужем                 0      F    компаньон     0   \n",
       "21502        женат / замужем                 0      F    сотрудник     0   \n",
       "21510        женат / замужем                 0      F    сотрудник     0   \n",
       "\n",
       "       total_income                           purpose  \n",
       "12              NaN                   сыграть свадьбу  \n",
       "26              NaN                       образование  \n",
       "29              NaN  строительство жилой недвижимости  \n",
       "41              NaN  сделка с подержанным автомобилем  \n",
       "55              NaN                   сыграть свадьбу  \n",
       "...             ...                               ...  \n",
       "21489           NaN              сделка с автомобилем  \n",
       "21495           NaN                           свадьба  \n",
       "21497           NaN        строительство недвижимости  \n",
       "21502           NaN  строительство жилой недвижимости  \n",
       "21510           NaN           приобретение автомобиля  \n",
       "\n",
       "[2174 rows x 12 columns]"
      ]
     },
     "execution_count": 6,
     "metadata": {},
     "output_type": "execute_result"
    }
   ],
   "source": [
    "borrowers_passed = borrowers.loc[borrowers['total_income'].isna()]\n",
    "borrowers_passed"
   ]
  },
  {
   "cell_type": "markdown",
   "id": "a28e6f68",
   "metadata": {},
   "source": [
    "Как я и ожидала - совпадают. Т.е. информация о доходах и о стаже отсутствует у одних и тех же клиентов. Посмотрим, к какому типу занятости относятся эти клиенты. Сначала выгрузим типы занятости в таблице с пропусками (borrowers_passed), затем в общей таблице (borrowers):"
   ]
  },
  {
   "cell_type": "code",
   "execution_count": 7,
   "id": "6daecba1",
   "metadata": {},
   "outputs": [
    {
     "data": {
      "text/plain": [
       "сотрудник          1105\n",
       "компаньон           508\n",
       "пенсионер           413\n",
       "госслужащий         147\n",
       "предприниматель       1\n",
       "Name: income_type, dtype: int64"
      ]
     },
     "execution_count": 7,
     "metadata": {},
     "output_type": "execute_result"
    }
   ],
   "source": [
    "borrowers_passed['income_type'].value_counts()"
   ]
  },
  {
   "cell_type": "code",
   "execution_count": 8,
   "id": "bbb63c11",
   "metadata": {},
   "outputs": [
    {
     "data": {
      "text/plain": [
       "сотрудник          11119\n",
       "компаньон           5085\n",
       "пенсионер           3856\n",
       "госслужащий         1459\n",
       "предприниматель        2\n",
       "безработный            2\n",
       "студент                1\n",
       "в декрете              1\n",
       "Name: income_type, dtype: int64"
      ]
     },
     "execution_count": 8,
     "metadata": {},
     "output_type": "execute_result"
    }
   ],
   "source": [
    "borrowers['income_type'].value_counts()"
   ]
  },
  {
   "cell_type": "markdown",
   "id": "050e7a1c",
   "metadata": {},
   "source": [
    "Получается, что информация о доходах и о стаже отсутствует у тех клиентов, у которых она объективно должна быть.\n",
    "Эти клиенты не являются студентами, безработными и т.п. Значит причиной отсутствия не может быть реальное отсутствие дохода\n",
    "и стажа. Посмотрим, имеются ли задолженности у этих клиентов:"
   ]
  },
  {
   "cell_type": "code",
   "execution_count": 9,
   "id": "5cf04764",
   "metadata": {},
   "outputs": [
    {
     "data": {
      "text/plain": [
       "income_type      debt\n",
       "госслужащий      0        140\n",
       "                 1          7\n",
       "компаньон        0        478\n",
       "                 1         30\n",
       "пенсионер        0        378\n",
       "                 1         35\n",
       "предприниматель  0          1\n",
       "сотрудник        0       1007\n",
       "                 1         98\n",
       "Name: debt, dtype: int64"
      ]
     },
     "execution_count": 9,
     "metadata": {},
     "output_type": "execute_result"
    }
   ],
   "source": [
    "borrowers_passed.groupby('income_type')['debt'].value_counts()"
   ]
  },
  {
   "cell_type": "markdown",
   "id": "e3e1b822",
   "metadata": {},
   "source": [
    "Если предположить, что значение 1 в столбце \"dept\" означает наличие задолженности, а значение 0 означает отсутствие задолженности, мы приходим к выводу, что процент должников среди клиентов с пропущенными данными не значителен, поэтому предполагать, что данные пропущены из-за потери источника дохода, не приходится. Вариант с отсутствием информации, которую предоставлял клиент тоже маловероятен, так как кредит ему всё-таки выдали, а значит данные о стаже и доходах он предоставлял.\n",
    "Т.о. мы приходим к выводу, что информация отсутствует из-за технического сбоя. Лучше всего было бы уточнить этот момент у отправителя файла, возможно у него есть данные, но в нашем случае это невозможно, поэтому будем работать с тем, что есть.\n"
   ]
  },
  {
   "cell_type": "markdown",
   "id": "e317b3e7",
   "metadata": {},
   "source": [
    "Займемся пропусками в столбце 'total_income'(ежемесячный доход). Данные в этом столбце содержат количественные значения. \n",
    "Пропуски в таких переменных заполняют характерными значениями. Это значения, характеризующие состояние выборки, — набора данных, выбранных для проведения исследования. Чтобы примерно оценить типичные значения выборки, годятся среднее арифметическое или медиана. Мы будем использовать медианное значение. Сначала найдем медианное значение для каждой категории клиентов:"
   ]
  },
  {
   "cell_type": "code",
   "execution_count": 10,
   "id": "395d6c84",
   "metadata": {},
   "outputs": [
    {
     "data": {
      "text/plain": [
       "income_type\n",
       "безработный        131339.751676\n",
       "в декрете           53829.130729\n",
       "госслужащий        170898.309923\n",
       "компаньон          202417.461462\n",
       "пенсионер          137127.465690\n",
       "предприниматель    499163.144947\n",
       "сотрудник          161380.260488\n",
       "студент             98201.625314\n",
       "Name: total_income, dtype: float64"
      ]
     },
     "execution_count": 10,
     "metadata": {},
     "output_type": "execute_result"
    }
   ],
   "source": [
    "borrowers_transformed = borrowers.groupby('income_type')['total_income'].mean()\n",
    "borrowers_transformed"
   ]
  },
  {
   "cell_type": "markdown",
   "id": "5bcd4f46",
   "metadata": {},
   "source": [
    "Затем пишем функцию, которая вставит медианные значения для каждой категории клиентов вместо пропусков:"
   ]
  },
  {
   "cell_type": "code",
   "execution_count": 11,
   "id": "53ab463e",
   "metadata": {},
   "outputs": [],
   "source": [
    "def func(row):\n",
    "    if pd.isna(row['total_income']):\n",
    "        return borrowers_transformed.loc[row['income_type']]\n",
    "    return row['total_income']\n",
    " \n",
    "borrowers['total_income'] = borrowers.apply(func, axis=1) "
   ]
  },
  {
   "cell_type": "markdown",
   "id": "bc9c0d7e",
   "metadata": {},
   "source": [
    "Теперь проверим, сработала ли функция - запросим количество пропусков после всех проведенных манипуляций:"
   ]
  },
  {
   "cell_type": "code",
   "execution_count": 12,
   "id": "027dd99f",
   "metadata": {},
   "outputs": [
    {
     "data": {
      "text/plain": [
       "children               0\n",
       "days_employed       2174\n",
       "dob_years              0\n",
       "education              0\n",
       "education_id           0\n",
       "family_status          0\n",
       "family_status_id       0\n",
       "gender                 0\n",
       "income_type            0\n",
       "debt                   0\n",
       "total_income           0\n",
       "purpose                0\n",
       "dtype: int64"
      ]
     },
     "execution_count": 12,
     "metadata": {},
     "output_type": "execute_result"
    }
   ],
   "source": [
    "borrowers.isna().sum()"
   ]
  },
  {
   "cell_type": "markdown",
   "id": "78e803fd",
   "metadata": {},
   "source": [
    "Итог: мы избавились от пропусков в столбце 'total_income', заменив их медианными значениями для каждой отдельной группы клиентов."
   ]
  },
  {
   "cell_type": "markdown",
   "id": "c6632b54",
   "metadata": {},
   "source": [
    "### Шаг 2.2 Проверка данных на аномалии и исправления."
   ]
  },
  {
   "cell_type": "markdown",
   "id": "5157d8ac",
   "metadata": {},
   "source": [
    "Теперь займёмся столбцом 'days_employed'. В нём отображается трудовой стаж. Единицей измерения является день. Выгрузим минимальное и максимальное значение в столбце:"
   ]
  },
  {
   "cell_type": "code",
   "execution_count": 13,
   "id": "e0a60f7c",
   "metadata": {},
   "outputs": [
    {
     "name": "stdout",
     "output_type": "stream",
     "text": [
      "-18388.949900568383\n",
      "401755.40047533\n"
     ]
    }
   ],
   "source": [
    "print(borrowers['days_employed'].min())\n",
    "print(borrowers['days_employed'].max())"
   ]
  },
  {
   "cell_type": "markdown",
   "id": "717b32e5",
   "metadata": {},
   "source": [
    "Первое, что бросается в глаза - это значения в столбце со знаком \"-\". Как количество дней может быть отрицательным? Вторая аномалия - максимальное значение (401755.40047533). Если перевести в годы, то трудовой стаж этого клиента составляет 1100 лет - такого объективно быть не может."
   ]
  },
  {
   "cell_type": "markdown",
   "id": "fe581052",
   "metadata": {},
   "source": [
    "Начнем с первой проблемы. Вероятнее всего это технический сбой - логической причины такого явления я найти не могу. Значит надо избавиться от знака минус в наших данных:"
   ]
  },
  {
   "cell_type": "code",
   "execution_count": 14,
   "id": "1f123b86",
   "metadata": {},
   "outputs": [],
   "source": [
    "borrowers['days_employed']=borrowers['days_employed'].abs()"
   ]
  },
  {
   "cell_type": "markdown",
   "id": "167f8e15",
   "metadata": {},
   "source": [
    "Теперь проверим результат, снова запросив минимальное и максимальное значение:"
   ]
  },
  {
   "cell_type": "code",
   "execution_count": 15,
   "id": "ebdd5ddc",
   "metadata": {},
   "outputs": [
    {
     "name": "stdout",
     "output_type": "stream",
     "text": [
      "24.14163324048118\n",
      "401755.40047533\n"
     ]
    }
   ],
   "source": [
    "print(borrowers['days_employed'].min())\n",
    "print(borrowers['days_employed'].max())"
   ]
  },
  {
   "cell_type": "markdown",
   "id": "e48dfce6",
   "metadata": {},
   "source": [
    "Вторая проблема - аномальное большие значения стажа - могла возникнуть в результате сбоя или произошла ошибка в единицах измерения. Хотя нам обозначено, что стаж указан в днях, скорее всего это не так. Мы могли бы запросить данные еще раз. уточнить возможность такой ситуации, но у нас нет такой возможности. Поэтому предлагаю решить вопрос следующим образом: расчитаем максимально возможный трудовой стаж исходя из максимального возраста клиента и заменим этим значением значения, превышающие его. Сначала находим максимальный возраст клиента в нашей таблице:"
   ]
  },
  {
   "cell_type": "code",
   "execution_count": 16,
   "id": "4c58fa41",
   "metadata": {},
   "outputs": [
    {
     "data": {
      "text/plain": [
       "75"
      ]
     },
     "execution_count": 16,
     "metadata": {},
     "output_type": "execute_result"
    }
   ],
   "source": [
    "borrowers['dob_years'].max()"
   ]
  },
  {
   "cell_type": "markdown",
   "id": "361d57af",
   "metadata": {},
   "source": [
    "Самому старшему клиенту нашей таблицы 75 лет. С учетом трудового законодательства он мог начать работать в 14 лет (самое раннее), значит его максимально возможный стаж составляет 61 год или 22265 дней. Заменим этим значением все значения, его превышающие, а затем сразу проверим, запросив максимальное значение стажа:"
   ]
  },
  {
   "cell_type": "code",
   "execution_count": 17,
   "id": "776227f7",
   "metadata": {},
   "outputs": [
    {
     "data": {
      "text/plain": [
       "22265.0"
      ]
     },
     "execution_count": 17,
     "metadata": {},
     "output_type": "execute_result"
    }
   ],
   "source": [
    "borrowers.loc[borrowers['days_employed'] > 22265, 'days_employed'] = 22265\n",
    "borrowers['days_employed'].max()"
   ]
  },
  {
   "cell_type": "markdown",
   "id": "d4d67c33",
   "metadata": {},
   "source": [
    "Теперь, когда значения столбца адекватны, посмотрим на среднее значение стажа в различных категориях клиентов:"
   ]
  },
  {
   "cell_type": "code",
   "execution_count": 18,
   "id": "379c91b2",
   "metadata": {},
   "outputs": [
    {
     "data": {
      "text/plain": [
       "income_type\n",
       "безработный        22265.000000\n",
       "в декрете           3296.759962\n",
       "госслужащий         3399.896902\n",
       "компаньон           2111.524398\n",
       "пенсионер          22265.000000\n",
       "предприниматель      520.848083\n",
       "сотрудник           2326.499216\n",
       "студент              578.751554\n",
       "Name: days_employed, dtype: float64"
      ]
     },
     "execution_count": 18,
     "metadata": {},
     "output_type": "execute_result"
    }
   ],
   "source": [
    "borrowers_transformed_second = borrowers.groupby('income_type')['days_employed'].mean()\n",
    "borrowers_transformed_second"
   ]
  },
  {
   "cell_type": "markdown",
   "id": "84253003",
   "metadata": {},
   "source": [
    "Вероятно этими значениями будет целесообразно заменить пропуски. Воспользуемся для этого ранее применяемой функцией:"
   ]
  },
  {
   "cell_type": "code",
   "execution_count": 19,
   "id": "19422f5f",
   "metadata": {},
   "outputs": [],
   "source": [
    "def func_second(row):\n",
    "    if pd.isna(row['days_employed']):\n",
    "        return borrowers_transformed_second.loc[row['income_type']]\n",
    "    return row['days_employed']\n",
    " \n",
    "borrowers['days_employed'] = borrowers.apply(func_second, axis=1) "
   ]
  },
  {
   "cell_type": "markdown",
   "id": "4c5321fc",
   "metadata": {},
   "source": [
    "Проверим, сработала ли функция:"
   ]
  },
  {
   "cell_type": "code",
   "execution_count": 20,
   "id": "2537ef71",
   "metadata": {},
   "outputs": [
    {
     "data": {
      "text/plain": [
       "children            0\n",
       "days_employed       0\n",
       "dob_years           0\n",
       "education           0\n",
       "education_id        0\n",
       "family_status       0\n",
       "family_status_id    0\n",
       "gender              0\n",
       "income_type         0\n",
       "debt                0\n",
       "total_income        0\n",
       "purpose             0\n",
       "dtype: int64"
      ]
     },
     "execution_count": 20,
     "metadata": {},
     "output_type": "execute_result"
    }
   ],
   "source": [
    "borrowers.isna().sum()"
   ]
  },
  {
   "cell_type": "markdown",
   "id": "e515e7c0",
   "metadata": {},
   "source": [
    "### Шаг 2.3. Изменение типов данных."
   ]
  },
  {
   "cell_type": "markdown",
   "id": "10e48c89",
   "metadata": {},
   "source": [
    "Теперь осталось заменить вещественный тип данных в столбцах total_income и days_employed, чтобы значения были проще для \n",
    "восприятия:"
   ]
  },
  {
   "cell_type": "code",
   "execution_count": 21,
   "id": "56ab2612",
   "metadata": {},
   "outputs": [
    {
     "name": "stdout",
     "output_type": "stream",
     "text": [
      "<class 'pandas.core.frame.DataFrame'>\n",
      "RangeIndex: 21525 entries, 0 to 21524\n",
      "Data columns (total 12 columns):\n",
      " #   Column            Non-Null Count  Dtype \n",
      "---  ------            --------------  ----- \n",
      " 0   children          21525 non-null  int64 \n",
      " 1   days_employed     21525 non-null  int64 \n",
      " 2   dob_years         21525 non-null  int64 \n",
      " 3   education         21525 non-null  object\n",
      " 4   education_id      21525 non-null  int64 \n",
      " 5   family_status     21525 non-null  object\n",
      " 6   family_status_id  21525 non-null  int64 \n",
      " 7   gender            21525 non-null  object\n",
      " 8   income_type       21525 non-null  object\n",
      " 9   debt              21525 non-null  int64 \n",
      " 10  total_income      21525 non-null  int64 \n",
      " 11  purpose           21525 non-null  object\n",
      "dtypes: int64(7), object(5)\n",
      "memory usage: 2.0+ MB\n"
     ]
    }
   ],
   "source": [
    "borrowers['total_income'] = borrowers['total_income'].astype(int)\n",
    "borrowers['days_employed'] = borrowers['days_employed'].astype(int)\n",
    "borrowers.info()"
   ]
  },
  {
   "cell_type": "markdown",
   "id": "ffa83403",
   "metadata": {},
   "source": [
    "### Шаг 2.4. Удаление дубликатов."
   ]
  },
  {
   "cell_type": "markdown",
   "id": "e1dc9701",
   "metadata": {},
   "source": [
    "Сначала поищем дубликаты в ручном режиме. Выясним, сколько всего дубликатов есть в нашей таблице:"
   ]
  },
  {
   "cell_type": "code",
   "execution_count": 22,
   "id": "0a06031f",
   "metadata": {},
   "outputs": [
    {
     "data": {
      "text/plain": [
       "54"
      ]
     },
     "execution_count": 22,
     "metadata": {},
     "output_type": "execute_result"
    }
   ],
   "source": [
    "borrowers.duplicated().sum()"
   ]
  },
  {
   "cell_type": "markdown",
   "id": "dcec0cc5",
   "metadata": {},
   "source": [
    "Это явные строки-дубликаты. Удалим их методом drop_duplicates() с заменой индексов reset_index(drop=True)  и сразу проверим, избавились ли мы от них:"
   ]
  },
  {
   "cell_type": "code",
   "execution_count": 23,
   "id": "20621ed7",
   "metadata": {},
   "outputs": [],
   "source": [
    "borrowers = borrowers.drop_duplicates().reset_index(drop=True)"
   ]
  },
  {
   "cell_type": "code",
   "execution_count": 24,
   "id": "a4c0b375",
   "metadata": {},
   "outputs": [
    {
     "data": {
      "text/plain": [
       "0"
      ]
     },
     "execution_count": 24,
     "metadata": {},
     "output_type": "execute_result"
    }
   ],
   "source": [
    "borrowers.duplicated().sum()"
   ]
  },
  {
   "cell_type": "markdown",
   "id": "6ec6aba4",
   "metadata": {},
   "source": [
    "Теперь предлагаю подгрузить уникальные значения \"категориальных\" столбцов, чтобы картина стала понятнее. Такими столбцами у нас являются education, family_status, gender, income_type, purpose."
   ]
  },
  {
   "cell_type": "code",
   "execution_count": 25,
   "id": "a51a4b7d",
   "metadata": {},
   "outputs": [
    {
     "data": {
      "text/plain": [
       "среднее                13705\n",
       "высшее                  4710\n",
       "СРЕДНЕЕ                  772\n",
       "Среднее                  711\n",
       "неоконченное высшее      668\n",
       "ВЫСШЕЕ                   273\n",
       "Высшее                   268\n",
       "начальное                250\n",
       "Неоконченное высшее       47\n",
       "НЕОКОНЧЕННОЕ ВЫСШЕЕ       29\n",
       "НАЧАЛЬНОЕ                 17\n",
       "Начальное                 15\n",
       "ученая степень             4\n",
       "Ученая степень             1\n",
       "УЧЕНАЯ СТЕПЕНЬ             1\n",
       "Name: education, dtype: int64"
      ]
     },
     "execution_count": 25,
     "metadata": {},
     "output_type": "execute_result"
    }
   ],
   "source": [
    "borrowers['education'].value_counts()"
   ]
  },
  {
   "cell_type": "code",
   "execution_count": 26,
   "id": "aa011451",
   "metadata": {},
   "outputs": [
    {
     "data": {
      "text/plain": [
       "женат / замужем          12344\n",
       "гражданский брак          4163\n",
       "Не женат / не замужем     2810\n",
       "в разводе                 1195\n",
       "вдовец / вдова             959\n",
       "Name: family_status, dtype: int64"
      ]
     },
     "execution_count": 26,
     "metadata": {},
     "output_type": "execute_result"
    }
   ],
   "source": [
    "borrowers['family_status'].value_counts()"
   ]
  },
  {
   "cell_type": "code",
   "execution_count": 27,
   "id": "36a89f8c",
   "metadata": {},
   "outputs": [
    {
     "data": {
      "text/plain": [
       "F      14189\n",
       "M       7281\n",
       "XNA        1\n",
       "Name: gender, dtype: int64"
      ]
     },
     "execution_count": 27,
     "metadata": {},
     "output_type": "execute_result"
    }
   ],
   "source": [
    "borrowers['gender'].value_counts()"
   ]
  },
  {
   "cell_type": "code",
   "execution_count": 28,
   "id": "a2e5af9f",
   "metadata": {},
   "outputs": [
    {
     "data": {
      "text/plain": [
       "сотрудник          11091\n",
       "компаньон           5080\n",
       "пенсионер           3837\n",
       "госслужащий         1457\n",
       "предприниматель        2\n",
       "безработный            2\n",
       "студент                1\n",
       "в декрете              1\n",
       "Name: income_type, dtype: int64"
      ]
     },
     "execution_count": 28,
     "metadata": {},
     "output_type": "execute_result"
    }
   ],
   "source": [
    "borrowers['income_type'].value_counts()"
   ]
  },
  {
   "cell_type": "code",
   "execution_count": 29,
   "id": "0162a9f7",
   "metadata": {},
   "outputs": [
    {
     "data": {
      "text/plain": [
       "свадьба                                   793\n",
       "на проведение свадьбы                     773\n",
       "сыграть свадьбу                           769\n",
       "операции с недвижимостью                  675\n",
       "покупка коммерческой недвижимости         662\n",
       "операции с жильем                         652\n",
       "покупка жилья для сдачи                   652\n",
       "операции с коммерческой недвижимостью     650\n",
       "покупка жилья                             646\n",
       "жилье                                     646\n",
       "покупка жилья для семьи                   638\n",
       "строительство собственной недвижимости    635\n",
       "недвижимость                              633\n",
       "операции со своей недвижимостью           627\n",
       "строительство жилой недвижимости          625\n",
       "покупка недвижимости                      621\n",
       "покупка своего жилья                      620\n",
       "строительство недвижимости                619\n",
       "ремонт жилью                              607\n",
       "покупка жилой недвижимости                606\n",
       "на покупку своего автомобиля              505\n",
       "заняться высшим образованием              496\n",
       "автомобиль                                494\n",
       "сделка с подержанным автомобилем          486\n",
       "свой автомобиль                           479\n",
       "на покупку подержанного автомобиля        478\n",
       "автомобили                                478\n",
       "на покупку автомобиля                     472\n",
       "приобретение автомобиля                   461\n",
       "дополнительное образование                460\n",
       "сделка с автомобилем                      455\n",
       "высшее образование                        452\n",
       "образование                               447\n",
       "получение дополнительного образования     447\n",
       "получение образования                     442\n",
       "профильное образование                    436\n",
       "получение высшего образования             426\n",
       "заняться образованием                     408\n",
       "Name: purpose, dtype: int64"
      ]
     },
     "execution_count": 29,
     "metadata": {},
     "output_type": "execute_result"
    }
   ],
   "source": [
    "borrowers['purpose'].value_counts()"
   ]
  },
  {
   "cell_type": "markdown",
   "id": "7334d22c",
   "metadata": {},
   "source": [
    "Очевидно, что у нас проблемы в двух столбцах: purpose и education. Скорее всего данные вводили вручную - это привело к различным выражениям в столбце purpose. \n",
    "В столбце education дубликаты появились из-за различий в регистрах написания по той же причине. Решить этот вопрос легко - приведем все значения к единому регистру:"
   ]
  },
  {
   "cell_type": "code",
   "execution_count": 30,
   "id": "d874e255",
   "metadata": {},
   "outputs": [],
   "source": [
    "borrowers['education'] = borrowers['education'].str.lower()"
   ]
  },
  {
   "cell_type": "markdown",
   "id": "57c8f9fa",
   "metadata": {},
   "source": [
    "Проверим, что у нас получилось - снова запросим уникальные значения столбца education:"
   ]
  },
  {
   "cell_type": "code",
   "execution_count": 31,
   "id": "c39a45d1",
   "metadata": {},
   "outputs": [
    {
     "data": {
      "text/plain": [
       "среднее                15188\n",
       "высшее                  5251\n",
       "неоконченное высшее      744\n",
       "начальное                282\n",
       "ученая степень             6\n",
       "Name: education, dtype: int64"
      ]
     },
     "execution_count": 31,
     "metadata": {},
     "output_type": "execute_result"
    }
   ],
   "source": [
    "borrowers['education'].value_counts()"
   ]
  },
  {
   "cell_type": "markdown",
   "id": "32dff766",
   "metadata": {},
   "source": [
    "Со строками-дубликатами и дубликатами в столбце education мы разобрались. К столбцу purpose мы вернемся позднее (в 7-ом задании второго шага)."
   ]
  },
  {
   "cell_type": "markdown",
   "id": "b3c4de82",
   "metadata": {},
   "source": [
    "### Шаг 2.5. Формирование дополнительных датафреймов словарей, декомпозиция исходного датафрейма."
   ]
  },
  {
   "cell_type": "markdown",
   "id": "185df532",
   "metadata": {},
   "source": [
    "Создадим 2 новых датафрейма. \n",
    "В первом каждому уникальному значению из education соответствует уникальное значение education_id:"
   ]
  },
  {
   "cell_type": "code",
   "execution_count": 32,
   "id": "bfac2cec",
   "metadata": {},
   "outputs": [
    {
     "data": {
      "text/html": [
       "<div>\n",
       "<style scoped>\n",
       "    .dataframe tbody tr th:only-of-type {\n",
       "        vertical-align: middle;\n",
       "    }\n",
       "\n",
       "    .dataframe tbody tr th {\n",
       "        vertical-align: top;\n",
       "    }\n",
       "\n",
       "    .dataframe thead th {\n",
       "        text-align: right;\n",
       "    }\n",
       "</style>\n",
       "<table border=\"1\" class=\"dataframe\">\n",
       "  <thead>\n",
       "    <tr style=\"text-align: right;\">\n",
       "      <th></th>\n",
       "      <th>education</th>\n",
       "      <th>education_id</th>\n",
       "    </tr>\n",
       "  </thead>\n",
       "  <tbody>\n",
       "    <tr>\n",
       "      <th>0</th>\n",
       "      <td>высшее</td>\n",
       "      <td>0</td>\n",
       "    </tr>\n",
       "    <tr>\n",
       "      <th>1</th>\n",
       "      <td>среднее</td>\n",
       "      <td>1</td>\n",
       "    </tr>\n",
       "    <tr>\n",
       "      <th>2</th>\n",
       "      <td>среднее</td>\n",
       "      <td>1</td>\n",
       "    </tr>\n",
       "    <tr>\n",
       "      <th>3</th>\n",
       "      <td>среднее</td>\n",
       "      <td>1</td>\n",
       "    </tr>\n",
       "    <tr>\n",
       "      <th>4</th>\n",
       "      <td>среднее</td>\n",
       "      <td>1</td>\n",
       "    </tr>\n",
       "    <tr>\n",
       "      <th>...</th>\n",
       "      <td>...</td>\n",
       "      <td>...</td>\n",
       "    </tr>\n",
       "    <tr>\n",
       "      <th>21466</th>\n",
       "      <td>среднее</td>\n",
       "      <td>1</td>\n",
       "    </tr>\n",
       "    <tr>\n",
       "      <th>21467</th>\n",
       "      <td>среднее</td>\n",
       "      <td>1</td>\n",
       "    </tr>\n",
       "    <tr>\n",
       "      <th>21468</th>\n",
       "      <td>среднее</td>\n",
       "      <td>1</td>\n",
       "    </tr>\n",
       "    <tr>\n",
       "      <th>21469</th>\n",
       "      <td>среднее</td>\n",
       "      <td>1</td>\n",
       "    </tr>\n",
       "    <tr>\n",
       "      <th>21470</th>\n",
       "      <td>среднее</td>\n",
       "      <td>1</td>\n",
       "    </tr>\n",
       "  </tbody>\n",
       "</table>\n",
       "<p>21471 rows × 2 columns</p>\n",
       "</div>"
      ],
      "text/plain": [
       "      education  education_id\n",
       "0        высшее             0\n",
       "1       среднее             1\n",
       "2       среднее             1\n",
       "3       среднее             1\n",
       "4       среднее             1\n",
       "...         ...           ...\n",
       "21466   среднее             1\n",
       "21467   среднее             1\n",
       "21468   среднее             1\n",
       "21469   среднее             1\n",
       "21470   среднее             1\n",
       "\n",
       "[21471 rows x 2 columns]"
      ]
     },
     "execution_count": 32,
     "metadata": {},
     "output_type": "execute_result"
    }
   ],
   "source": [
    "borrowers_education = borrowers[['education','education_id']]\n",
    "borrowers_education"
   ]
  },
  {
   "cell_type": "markdown",
   "id": "cca75f59",
   "metadata": {},
   "source": [
    "Во втором каждому уникальному значению из family_status соответствует уникальное значение family_status_id:"
   ]
  },
  {
   "cell_type": "code",
   "execution_count": 33,
   "id": "5924f8d1",
   "metadata": {},
   "outputs": [
    {
     "data": {
      "text/html": [
       "<div>\n",
       "<style scoped>\n",
       "    .dataframe tbody tr th:only-of-type {\n",
       "        vertical-align: middle;\n",
       "    }\n",
       "\n",
       "    .dataframe tbody tr th {\n",
       "        vertical-align: top;\n",
       "    }\n",
       "\n",
       "    .dataframe thead th {\n",
       "        text-align: right;\n",
       "    }\n",
       "</style>\n",
       "<table border=\"1\" class=\"dataframe\">\n",
       "  <thead>\n",
       "    <tr style=\"text-align: right;\">\n",
       "      <th></th>\n",
       "      <th>family_status</th>\n",
       "      <th>family_status_id</th>\n",
       "    </tr>\n",
       "  </thead>\n",
       "  <tbody>\n",
       "    <tr>\n",
       "      <th>0</th>\n",
       "      <td>женат / замужем</td>\n",
       "      <td>0</td>\n",
       "    </tr>\n",
       "    <tr>\n",
       "      <th>1</th>\n",
       "      <td>женат / замужем</td>\n",
       "      <td>0</td>\n",
       "    </tr>\n",
       "    <tr>\n",
       "      <th>2</th>\n",
       "      <td>женат / замужем</td>\n",
       "      <td>0</td>\n",
       "    </tr>\n",
       "    <tr>\n",
       "      <th>3</th>\n",
       "      <td>женат / замужем</td>\n",
       "      <td>0</td>\n",
       "    </tr>\n",
       "    <tr>\n",
       "      <th>4</th>\n",
       "      <td>гражданский брак</td>\n",
       "      <td>1</td>\n",
       "    </tr>\n",
       "    <tr>\n",
       "      <th>...</th>\n",
       "      <td>...</td>\n",
       "      <td>...</td>\n",
       "    </tr>\n",
       "    <tr>\n",
       "      <th>21466</th>\n",
       "      <td>гражданский брак</td>\n",
       "      <td>1</td>\n",
       "    </tr>\n",
       "    <tr>\n",
       "      <th>21467</th>\n",
       "      <td>женат / замужем</td>\n",
       "      <td>0</td>\n",
       "    </tr>\n",
       "    <tr>\n",
       "      <th>21468</th>\n",
       "      <td>гражданский брак</td>\n",
       "      <td>1</td>\n",
       "    </tr>\n",
       "    <tr>\n",
       "      <th>21469</th>\n",
       "      <td>женат / замужем</td>\n",
       "      <td>0</td>\n",
       "    </tr>\n",
       "    <tr>\n",
       "      <th>21470</th>\n",
       "      <td>женат / замужем</td>\n",
       "      <td>0</td>\n",
       "    </tr>\n",
       "  </tbody>\n",
       "</table>\n",
       "<p>21471 rows × 2 columns</p>\n",
       "</div>"
      ],
      "text/plain": [
       "          family_status  family_status_id\n",
       "0       женат / замужем                 0\n",
       "1       женат / замужем                 0\n",
       "2       женат / замужем                 0\n",
       "3       женат / замужем                 0\n",
       "4      гражданский брак                 1\n",
       "...                 ...               ...\n",
       "21466  гражданский брак                 1\n",
       "21467   женат / замужем                 0\n",
       "21468  гражданский брак                 1\n",
       "21469   женат / замужем                 0\n",
       "21470   женат / замужем                 0\n",
       "\n",
       "[21471 rows x 2 columns]"
      ]
     },
     "execution_count": 33,
     "metadata": {},
     "output_type": "execute_result"
    }
   ],
   "source": [
    "borrowers_family_status = borrowers[['family_status','family_status_id']]\n",
    "borrowers_family_status"
   ]
  },
  {
   "cell_type": "markdown",
   "id": "b598a8a5",
   "metadata": {},
   "source": [
    "Эти новые датафреймы - наши \"словари\". В них сейчас много дубликатов, которые надо удалить:"
   ]
  },
  {
   "cell_type": "code",
   "execution_count": 34,
   "id": "724fd847",
   "metadata": {},
   "outputs": [
    {
     "data": {
      "text/html": [
       "<div>\n",
       "<style scoped>\n",
       "    .dataframe tbody tr th:only-of-type {\n",
       "        vertical-align: middle;\n",
       "    }\n",
       "\n",
       "    .dataframe tbody tr th {\n",
       "        vertical-align: top;\n",
       "    }\n",
       "\n",
       "    .dataframe thead th {\n",
       "        text-align: right;\n",
       "    }\n",
       "</style>\n",
       "<table border=\"1\" class=\"dataframe\">\n",
       "  <thead>\n",
       "    <tr style=\"text-align: right;\">\n",
       "      <th></th>\n",
       "      <th>education</th>\n",
       "      <th>education_id</th>\n",
       "    </tr>\n",
       "  </thead>\n",
       "  <tbody>\n",
       "    <tr>\n",
       "      <th>0</th>\n",
       "      <td>высшее</td>\n",
       "      <td>0</td>\n",
       "    </tr>\n",
       "    <tr>\n",
       "      <th>1</th>\n",
       "      <td>среднее</td>\n",
       "      <td>1</td>\n",
       "    </tr>\n",
       "    <tr>\n",
       "      <th>2</th>\n",
       "      <td>неоконченное высшее</td>\n",
       "      <td>2</td>\n",
       "    </tr>\n",
       "    <tr>\n",
       "      <th>3</th>\n",
       "      <td>начальное</td>\n",
       "      <td>3</td>\n",
       "    </tr>\n",
       "    <tr>\n",
       "      <th>4</th>\n",
       "      <td>ученая степень</td>\n",
       "      <td>4</td>\n",
       "    </tr>\n",
       "  </tbody>\n",
       "</table>\n",
       "</div>"
      ],
      "text/plain": [
       "             education  education_id\n",
       "0               высшее             0\n",
       "1              среднее             1\n",
       "2  неоконченное высшее             2\n",
       "3            начальное             3\n",
       "4       ученая степень             4"
      ]
     },
     "execution_count": 34,
     "metadata": {},
     "output_type": "execute_result"
    }
   ],
   "source": [
    "borrowers_education = borrowers_education.drop_duplicates().reset_index(drop=True)\n",
    "borrowers_education"
   ]
  },
  {
   "cell_type": "code",
   "execution_count": 35,
   "id": "9128a325",
   "metadata": {},
   "outputs": [
    {
     "data": {
      "text/html": [
       "<div>\n",
       "<style scoped>\n",
       "    .dataframe tbody tr th:only-of-type {\n",
       "        vertical-align: middle;\n",
       "    }\n",
       "\n",
       "    .dataframe tbody tr th {\n",
       "        vertical-align: top;\n",
       "    }\n",
       "\n",
       "    .dataframe thead th {\n",
       "        text-align: right;\n",
       "    }\n",
       "</style>\n",
       "<table border=\"1\" class=\"dataframe\">\n",
       "  <thead>\n",
       "    <tr style=\"text-align: right;\">\n",
       "      <th></th>\n",
       "      <th>family_status</th>\n",
       "      <th>family_status_id</th>\n",
       "    </tr>\n",
       "  </thead>\n",
       "  <tbody>\n",
       "    <tr>\n",
       "      <th>0</th>\n",
       "      <td>женат / замужем</td>\n",
       "      <td>0</td>\n",
       "    </tr>\n",
       "    <tr>\n",
       "      <th>1</th>\n",
       "      <td>гражданский брак</td>\n",
       "      <td>1</td>\n",
       "    </tr>\n",
       "    <tr>\n",
       "      <th>2</th>\n",
       "      <td>вдовец / вдова</td>\n",
       "      <td>2</td>\n",
       "    </tr>\n",
       "    <tr>\n",
       "      <th>3</th>\n",
       "      <td>в разводе</td>\n",
       "      <td>3</td>\n",
       "    </tr>\n",
       "    <tr>\n",
       "      <th>4</th>\n",
       "      <td>Не женат / не замужем</td>\n",
       "      <td>4</td>\n",
       "    </tr>\n",
       "  </tbody>\n",
       "</table>\n",
       "</div>"
      ],
      "text/plain": [
       "           family_status  family_status_id\n",
       "0        женат / замужем                 0\n",
       "1       гражданский брак                 1\n",
       "2         вдовец / вдова                 2\n",
       "3              в разводе                 3\n",
       "4  Не женат / не замужем                 4"
      ]
     },
     "execution_count": 35,
     "metadata": {},
     "output_type": "execute_result"
    }
   ],
   "source": [
    "borrowers_family_status = borrowers_family_status.drop_duplicates().reset_index(drop=True)\n",
    "borrowers_family_status"
   ]
  },
  {
   "cell_type": "markdown",
   "id": "2e312588",
   "metadata": {},
   "source": [
    "Теперь можно удалить из исходного датафрейма столбцы education и family_status, оставив столбцы education_id и family_status_id, по которым в словарях мы будем искать значения. Сначала удалим столбец education:"
   ]
  },
  {
   "cell_type": "code",
   "execution_count": 36,
   "id": "2797ca50",
   "metadata": {},
   "outputs": [],
   "source": [
    "borrowers.drop('education', inplace=True, axis=1)"
   ]
  },
  {
   "cell_type": "markdown",
   "id": "2a19d2c6",
   "metadata": {},
   "source": [
    "Затем удалим столбец family_status и выгрузим таблицу для проверки:"
   ]
  },
  {
   "cell_type": "code",
   "execution_count": 37,
   "id": "17a2fa49",
   "metadata": {},
   "outputs": [
    {
     "data": {
      "text/html": [
       "<div>\n",
       "<style scoped>\n",
       "    .dataframe tbody tr th:only-of-type {\n",
       "        vertical-align: middle;\n",
       "    }\n",
       "\n",
       "    .dataframe tbody tr th {\n",
       "        vertical-align: top;\n",
       "    }\n",
       "\n",
       "    .dataframe thead th {\n",
       "        text-align: right;\n",
       "    }\n",
       "</style>\n",
       "<table border=\"1\" class=\"dataframe\">\n",
       "  <thead>\n",
       "    <tr style=\"text-align: right;\">\n",
       "      <th></th>\n",
       "      <th>children</th>\n",
       "      <th>days_employed</th>\n",
       "      <th>dob_years</th>\n",
       "      <th>education_id</th>\n",
       "      <th>family_status_id</th>\n",
       "      <th>gender</th>\n",
       "      <th>income_type</th>\n",
       "      <th>debt</th>\n",
       "      <th>total_income</th>\n",
       "      <th>purpose</th>\n",
       "    </tr>\n",
       "  </thead>\n",
       "  <tbody>\n",
       "    <tr>\n",
       "      <th>0</th>\n",
       "      <td>1</td>\n",
       "      <td>8437</td>\n",
       "      <td>42</td>\n",
       "      <td>0</td>\n",
       "      <td>0</td>\n",
       "      <td>F</td>\n",
       "      <td>сотрудник</td>\n",
       "      <td>0</td>\n",
       "      <td>253875</td>\n",
       "      <td>покупка жилья</td>\n",
       "    </tr>\n",
       "    <tr>\n",
       "      <th>1</th>\n",
       "      <td>1</td>\n",
       "      <td>4024</td>\n",
       "      <td>36</td>\n",
       "      <td>1</td>\n",
       "      <td>0</td>\n",
       "      <td>F</td>\n",
       "      <td>сотрудник</td>\n",
       "      <td>0</td>\n",
       "      <td>112080</td>\n",
       "      <td>приобретение автомобиля</td>\n",
       "    </tr>\n",
       "    <tr>\n",
       "      <th>2</th>\n",
       "      <td>0</td>\n",
       "      <td>5623</td>\n",
       "      <td>33</td>\n",
       "      <td>1</td>\n",
       "      <td>0</td>\n",
       "      <td>M</td>\n",
       "      <td>сотрудник</td>\n",
       "      <td>0</td>\n",
       "      <td>145885</td>\n",
       "      <td>покупка жилья</td>\n",
       "    </tr>\n",
       "    <tr>\n",
       "      <th>3</th>\n",
       "      <td>3</td>\n",
       "      <td>4124</td>\n",
       "      <td>32</td>\n",
       "      <td>1</td>\n",
       "      <td>0</td>\n",
       "      <td>M</td>\n",
       "      <td>сотрудник</td>\n",
       "      <td>0</td>\n",
       "      <td>267628</td>\n",
       "      <td>дополнительное образование</td>\n",
       "    </tr>\n",
       "    <tr>\n",
       "      <th>4</th>\n",
       "      <td>0</td>\n",
       "      <td>22265</td>\n",
       "      <td>53</td>\n",
       "      <td>1</td>\n",
       "      <td>1</td>\n",
       "      <td>F</td>\n",
       "      <td>пенсионер</td>\n",
       "      <td>0</td>\n",
       "      <td>158616</td>\n",
       "      <td>сыграть свадьбу</td>\n",
       "    </tr>\n",
       "    <tr>\n",
       "      <th>...</th>\n",
       "      <td>...</td>\n",
       "      <td>...</td>\n",
       "      <td>...</td>\n",
       "      <td>...</td>\n",
       "      <td>...</td>\n",
       "      <td>...</td>\n",
       "      <td>...</td>\n",
       "      <td>...</td>\n",
       "      <td>...</td>\n",
       "      <td>...</td>\n",
       "    </tr>\n",
       "    <tr>\n",
       "      <th>21466</th>\n",
       "      <td>1</td>\n",
       "      <td>4529</td>\n",
       "      <td>43</td>\n",
       "      <td>1</td>\n",
       "      <td>1</td>\n",
       "      <td>F</td>\n",
       "      <td>компаньон</td>\n",
       "      <td>0</td>\n",
       "      <td>224791</td>\n",
       "      <td>операции с жильем</td>\n",
       "    </tr>\n",
       "    <tr>\n",
       "      <th>21467</th>\n",
       "      <td>0</td>\n",
       "      <td>22265</td>\n",
       "      <td>67</td>\n",
       "      <td>1</td>\n",
       "      <td>0</td>\n",
       "      <td>F</td>\n",
       "      <td>пенсионер</td>\n",
       "      <td>0</td>\n",
       "      <td>155999</td>\n",
       "      <td>сделка с автомобилем</td>\n",
       "    </tr>\n",
       "    <tr>\n",
       "      <th>21468</th>\n",
       "      <td>1</td>\n",
       "      <td>2113</td>\n",
       "      <td>38</td>\n",
       "      <td>1</td>\n",
       "      <td>1</td>\n",
       "      <td>M</td>\n",
       "      <td>сотрудник</td>\n",
       "      <td>1</td>\n",
       "      <td>89672</td>\n",
       "      <td>недвижимость</td>\n",
       "    </tr>\n",
       "    <tr>\n",
       "      <th>21469</th>\n",
       "      <td>3</td>\n",
       "      <td>3112</td>\n",
       "      <td>38</td>\n",
       "      <td>1</td>\n",
       "      <td>0</td>\n",
       "      <td>M</td>\n",
       "      <td>сотрудник</td>\n",
       "      <td>1</td>\n",
       "      <td>244093</td>\n",
       "      <td>на покупку своего автомобиля</td>\n",
       "    </tr>\n",
       "    <tr>\n",
       "      <th>21470</th>\n",
       "      <td>2</td>\n",
       "      <td>1984</td>\n",
       "      <td>40</td>\n",
       "      <td>1</td>\n",
       "      <td>0</td>\n",
       "      <td>F</td>\n",
       "      <td>сотрудник</td>\n",
       "      <td>0</td>\n",
       "      <td>82047</td>\n",
       "      <td>на покупку автомобиля</td>\n",
       "    </tr>\n",
       "  </tbody>\n",
       "</table>\n",
       "<p>21471 rows × 10 columns</p>\n",
       "</div>"
      ],
      "text/plain": [
       "       children  days_employed  dob_years  education_id  family_status_id  \\\n",
       "0             1           8437         42             0                 0   \n",
       "1             1           4024         36             1                 0   \n",
       "2             0           5623         33             1                 0   \n",
       "3             3           4124         32             1                 0   \n",
       "4             0          22265         53             1                 1   \n",
       "...         ...            ...        ...           ...               ...   \n",
       "21466         1           4529         43             1                 1   \n",
       "21467         0          22265         67             1                 0   \n",
       "21468         1           2113         38             1                 1   \n",
       "21469         3           3112         38             1                 0   \n",
       "21470         2           1984         40             1                 0   \n",
       "\n",
       "      gender income_type  debt  total_income                       purpose  \n",
       "0          F   сотрудник     0        253875                 покупка жилья  \n",
       "1          F   сотрудник     0        112080       приобретение автомобиля  \n",
       "2          M   сотрудник     0        145885                 покупка жилья  \n",
       "3          M   сотрудник     0        267628    дополнительное образование  \n",
       "4          F   пенсионер     0        158616               сыграть свадьбу  \n",
       "...      ...         ...   ...           ...                           ...  \n",
       "21466      F   компаньон     0        224791             операции с жильем  \n",
       "21467      F   пенсионер     0        155999          сделка с автомобилем  \n",
       "21468      M   сотрудник     1         89672                  недвижимость  \n",
       "21469      M   сотрудник     1        244093  на покупку своего автомобиля  \n",
       "21470      F   сотрудник     0         82047         на покупку автомобиля  \n",
       "\n",
       "[21471 rows x 10 columns]"
      ]
     },
     "execution_count": 37,
     "metadata": {},
     "output_type": "execute_result"
    }
   ],
   "source": [
    "borrowers.drop('family_status', inplace=True, axis=1)\n",
    "borrowers"
   ]
  },
  {
   "cell_type": "markdown",
   "id": "21382631",
   "metadata": {},
   "source": [
    "Теперь исходная таблица стала легче для восприятия и проще в работе: по значению столбцов education_id и family_status_id мы в новых таблицах-словарях легко находим описание указанных статусов."
   ]
  },
  {
   "cell_type": "markdown",
   "id": "d04a1afb",
   "metadata": {},
   "source": [
    "### Шаг 2.6. Категоризация дохода."
   ]
  },
  {
   "cell_type": "markdown",
   "id": "5c402ae6",
   "metadata": {},
   "source": [
    "На основании диапазонов, указанных ниже, создаём столбец total_income_category с категориями:\n",
    "0–30000 — 'E';\n",
    "30001–50000 — 'D';\n",
    "50001–200000 — 'C';\n",
    "200001–1000000 — 'B';\n",
    "1000001 и выше — 'A'.\n",
    "Для этого пишем функцию с правилами классификации клиентов. Учтем в функции возможность наличия значений, выпадающих из наших категорий - будем откладывать их в список error_list с помощью конструкции try-except. Назовём её age-group:"
   ]
  },
  {
   "cell_type": "code",
   "execution_count": 38,
   "id": "fad72c75",
   "metadata": {},
   "outputs": [],
   "source": [
    "error_list   = []\n",
    "def age_group(total_income):\n",
    "    try:\n",
    "        if 0<=total_income<=30000:\n",
    "            return 'E'\n",
    "        if 30001<=total_income<=50000:\n",
    "            return 'D'\n",
    "        if 50001<=total_income<=200000:\n",
    "            return 'C'\n",
    "        if 200001<=total_income<=1000000:\n",
    "            return 'B'\n",
    "        if total_income>=1000001:\n",
    "            return 'A'\n",
    "    except:\n",
    "        error_list.append(total_income)\n",
    "        "
   ]
  },
  {
   "cell_type": "markdown",
   "id": "238f000a",
   "metadata": {},
   "source": [
    "Теперь создаем новый столбец total_income_category с категориями:"
   ]
  },
  {
   "cell_type": "code",
   "execution_count": 39,
   "id": "123e5c47",
   "metadata": {},
   "outputs": [],
   "source": [
    "borrowers['total_income_category'] = borrowers['total_income'].apply(age_group)"
   ]
  },
  {
   "cell_type": "markdown",
   "id": "c998848e",
   "metadata": {},
   "source": [
    "Прверим, добавился ли новый столбец и сработала ли функция:"
   ]
  },
  {
   "cell_type": "code",
   "execution_count": 40,
   "id": "1f7bd283",
   "metadata": {},
   "outputs": [
    {
     "data": {
      "text/html": [
       "<div>\n",
       "<style scoped>\n",
       "    .dataframe tbody tr th:only-of-type {\n",
       "        vertical-align: middle;\n",
       "    }\n",
       "\n",
       "    .dataframe tbody tr th {\n",
       "        vertical-align: top;\n",
       "    }\n",
       "\n",
       "    .dataframe thead th {\n",
       "        text-align: right;\n",
       "    }\n",
       "</style>\n",
       "<table border=\"1\" class=\"dataframe\">\n",
       "  <thead>\n",
       "    <tr style=\"text-align: right;\">\n",
       "      <th></th>\n",
       "      <th>children</th>\n",
       "      <th>days_employed</th>\n",
       "      <th>dob_years</th>\n",
       "      <th>education_id</th>\n",
       "      <th>family_status_id</th>\n",
       "      <th>gender</th>\n",
       "      <th>income_type</th>\n",
       "      <th>debt</th>\n",
       "      <th>total_income</th>\n",
       "      <th>purpose</th>\n",
       "      <th>total_income_category</th>\n",
       "    </tr>\n",
       "  </thead>\n",
       "  <tbody>\n",
       "    <tr>\n",
       "      <th>0</th>\n",
       "      <td>1</td>\n",
       "      <td>8437</td>\n",
       "      <td>42</td>\n",
       "      <td>0</td>\n",
       "      <td>0</td>\n",
       "      <td>F</td>\n",
       "      <td>сотрудник</td>\n",
       "      <td>0</td>\n",
       "      <td>253875</td>\n",
       "      <td>покупка жилья</td>\n",
       "      <td>B</td>\n",
       "    </tr>\n",
       "    <tr>\n",
       "      <th>1</th>\n",
       "      <td>1</td>\n",
       "      <td>4024</td>\n",
       "      <td>36</td>\n",
       "      <td>1</td>\n",
       "      <td>0</td>\n",
       "      <td>F</td>\n",
       "      <td>сотрудник</td>\n",
       "      <td>0</td>\n",
       "      <td>112080</td>\n",
       "      <td>приобретение автомобиля</td>\n",
       "      <td>C</td>\n",
       "    </tr>\n",
       "    <tr>\n",
       "      <th>2</th>\n",
       "      <td>0</td>\n",
       "      <td>5623</td>\n",
       "      <td>33</td>\n",
       "      <td>1</td>\n",
       "      <td>0</td>\n",
       "      <td>M</td>\n",
       "      <td>сотрудник</td>\n",
       "      <td>0</td>\n",
       "      <td>145885</td>\n",
       "      <td>покупка жилья</td>\n",
       "      <td>C</td>\n",
       "    </tr>\n",
       "    <tr>\n",
       "      <th>3</th>\n",
       "      <td>3</td>\n",
       "      <td>4124</td>\n",
       "      <td>32</td>\n",
       "      <td>1</td>\n",
       "      <td>0</td>\n",
       "      <td>M</td>\n",
       "      <td>сотрудник</td>\n",
       "      <td>0</td>\n",
       "      <td>267628</td>\n",
       "      <td>дополнительное образование</td>\n",
       "      <td>B</td>\n",
       "    </tr>\n",
       "    <tr>\n",
       "      <th>4</th>\n",
       "      <td>0</td>\n",
       "      <td>22265</td>\n",
       "      <td>53</td>\n",
       "      <td>1</td>\n",
       "      <td>1</td>\n",
       "      <td>F</td>\n",
       "      <td>пенсионер</td>\n",
       "      <td>0</td>\n",
       "      <td>158616</td>\n",
       "      <td>сыграть свадьбу</td>\n",
       "      <td>C</td>\n",
       "    </tr>\n",
       "    <tr>\n",
       "      <th>...</th>\n",
       "      <td>...</td>\n",
       "      <td>...</td>\n",
       "      <td>...</td>\n",
       "      <td>...</td>\n",
       "      <td>...</td>\n",
       "      <td>...</td>\n",
       "      <td>...</td>\n",
       "      <td>...</td>\n",
       "      <td>...</td>\n",
       "      <td>...</td>\n",
       "      <td>...</td>\n",
       "    </tr>\n",
       "    <tr>\n",
       "      <th>21466</th>\n",
       "      <td>1</td>\n",
       "      <td>4529</td>\n",
       "      <td>43</td>\n",
       "      <td>1</td>\n",
       "      <td>1</td>\n",
       "      <td>F</td>\n",
       "      <td>компаньон</td>\n",
       "      <td>0</td>\n",
       "      <td>224791</td>\n",
       "      <td>операции с жильем</td>\n",
       "      <td>B</td>\n",
       "    </tr>\n",
       "    <tr>\n",
       "      <th>21467</th>\n",
       "      <td>0</td>\n",
       "      <td>22265</td>\n",
       "      <td>67</td>\n",
       "      <td>1</td>\n",
       "      <td>0</td>\n",
       "      <td>F</td>\n",
       "      <td>пенсионер</td>\n",
       "      <td>0</td>\n",
       "      <td>155999</td>\n",
       "      <td>сделка с автомобилем</td>\n",
       "      <td>C</td>\n",
       "    </tr>\n",
       "    <tr>\n",
       "      <th>21468</th>\n",
       "      <td>1</td>\n",
       "      <td>2113</td>\n",
       "      <td>38</td>\n",
       "      <td>1</td>\n",
       "      <td>1</td>\n",
       "      <td>M</td>\n",
       "      <td>сотрудник</td>\n",
       "      <td>1</td>\n",
       "      <td>89672</td>\n",
       "      <td>недвижимость</td>\n",
       "      <td>C</td>\n",
       "    </tr>\n",
       "    <tr>\n",
       "      <th>21469</th>\n",
       "      <td>3</td>\n",
       "      <td>3112</td>\n",
       "      <td>38</td>\n",
       "      <td>1</td>\n",
       "      <td>0</td>\n",
       "      <td>M</td>\n",
       "      <td>сотрудник</td>\n",
       "      <td>1</td>\n",
       "      <td>244093</td>\n",
       "      <td>на покупку своего автомобиля</td>\n",
       "      <td>B</td>\n",
       "    </tr>\n",
       "    <tr>\n",
       "      <th>21470</th>\n",
       "      <td>2</td>\n",
       "      <td>1984</td>\n",
       "      <td>40</td>\n",
       "      <td>1</td>\n",
       "      <td>0</td>\n",
       "      <td>F</td>\n",
       "      <td>сотрудник</td>\n",
       "      <td>0</td>\n",
       "      <td>82047</td>\n",
       "      <td>на покупку автомобиля</td>\n",
       "      <td>C</td>\n",
       "    </tr>\n",
       "  </tbody>\n",
       "</table>\n",
       "<p>21471 rows × 11 columns</p>\n",
       "</div>"
      ],
      "text/plain": [
       "       children  days_employed  dob_years  education_id  family_status_id  \\\n",
       "0             1           8437         42             0                 0   \n",
       "1             1           4024         36             1                 0   \n",
       "2             0           5623         33             1                 0   \n",
       "3             3           4124         32             1                 0   \n",
       "4             0          22265         53             1                 1   \n",
       "...         ...            ...        ...           ...               ...   \n",
       "21466         1           4529         43             1                 1   \n",
       "21467         0          22265         67             1                 0   \n",
       "21468         1           2113         38             1                 1   \n",
       "21469         3           3112         38             1                 0   \n",
       "21470         2           1984         40             1                 0   \n",
       "\n",
       "      gender income_type  debt  total_income                       purpose  \\\n",
       "0          F   сотрудник     0        253875                 покупка жилья   \n",
       "1          F   сотрудник     0        112080       приобретение автомобиля   \n",
       "2          M   сотрудник     0        145885                 покупка жилья   \n",
       "3          M   сотрудник     0        267628    дополнительное образование   \n",
       "4          F   пенсионер     0        158616               сыграть свадьбу   \n",
       "...      ...         ...   ...           ...                           ...   \n",
       "21466      F   компаньон     0        224791             операции с жильем   \n",
       "21467      F   пенсионер     0        155999          сделка с автомобилем   \n",
       "21468      M   сотрудник     1         89672                  недвижимость   \n",
       "21469      M   сотрудник     1        244093  на покупку своего автомобиля   \n",
       "21470      F   сотрудник     0         82047         на покупку автомобиля   \n",
       "\n",
       "      total_income_category  \n",
       "0                         B  \n",
       "1                         C  \n",
       "2                         C  \n",
       "3                         B  \n",
       "4                         C  \n",
       "...                     ...  \n",
       "21466                     B  \n",
       "21467                     C  \n",
       "21468                     C  \n",
       "21469                     B  \n",
       "21470                     C  \n",
       "\n",
       "[21471 rows x 11 columns]"
      ]
     },
     "execution_count": 40,
     "metadata": {},
     "output_type": "execute_result"
    }
   ],
   "source": [
    "borrowers"
   ]
  },
  {
   "cell_type": "markdown",
   "id": "c053b785",
   "metadata": {},
   "source": [
    "Проверим так же, пополнился ли наш список ошибок:"
   ]
  },
  {
   "cell_type": "code",
   "execution_count": 41,
   "id": "380713c1",
   "metadata": {},
   "outputs": [
    {
     "data": {
      "text/plain": [
       "[]"
      ]
     },
     "execution_count": 41,
     "metadata": {},
     "output_type": "execute_result"
    }
   ],
   "source": [
    "error_list"
   ]
  },
  {
   "cell_type": "markdown",
   "id": "95722c3d",
   "metadata": {},
   "source": [
    "Не пополнился, значит других значений в столбце нет."
   ]
  },
  {
   "cell_type": "markdown",
   "id": "5cd07dae",
   "metadata": {},
   "source": [
    "### Шаг 2.7. Категоризация целей кредита."
   ]
  },
  {
   "cell_type": "markdown",
   "id": "5dff230c",
   "metadata": {},
   "source": [
    "Вернемся к столбцу purpose (цель кредита). Как мы помним, в нем очень много дубликатов, которые возникли скорее всего из-за ручного ввода данных. Еще раз выгрузим уникальные значения этого столбца и убедимся в этом:"
   ]
  },
  {
   "cell_type": "code",
   "execution_count": 42,
   "id": "4b6b791b",
   "metadata": {},
   "outputs": [
    {
     "data": {
      "text/plain": [
       "свадьба                                   793\n",
       "на проведение свадьбы                     773\n",
       "сыграть свадьбу                           769\n",
       "операции с недвижимостью                  675\n",
       "покупка коммерческой недвижимости         662\n",
       "операции с жильем                         652\n",
       "покупка жилья для сдачи                   652\n",
       "операции с коммерческой недвижимостью     650\n",
       "покупка жилья                             646\n",
       "жилье                                     646\n",
       "покупка жилья для семьи                   638\n",
       "строительство собственной недвижимости    635\n",
       "недвижимость                              633\n",
       "операции со своей недвижимостью           627\n",
       "строительство жилой недвижимости          625\n",
       "покупка недвижимости                      621\n",
       "покупка своего жилья                      620\n",
       "строительство недвижимости                619\n",
       "ремонт жилью                              607\n",
       "покупка жилой недвижимости                606\n",
       "на покупку своего автомобиля              505\n",
       "заняться высшим образованием              496\n",
       "автомобиль                                494\n",
       "сделка с подержанным автомобилем          486\n",
       "свой автомобиль                           479\n",
       "на покупку подержанного автомобиля        478\n",
       "автомобили                                478\n",
       "на покупку автомобиля                     472\n",
       "приобретение автомобиля                   461\n",
       "дополнительное образование                460\n",
       "сделка с автомобилем                      455\n",
       "высшее образование                        452\n",
       "образование                               447\n",
       "получение дополнительного образования     447\n",
       "получение образования                     442\n",
       "профильное образование                    436\n",
       "получение высшего образования             426\n",
       "заняться образованием                     408\n",
       "Name: purpose, dtype: int64"
      ]
     },
     "execution_count": 42,
     "metadata": {},
     "output_type": "execute_result"
    }
   ],
   "source": [
    "borrowers['purpose'].value_counts()"
   ]
  },
  {
   "cell_type": "markdown",
   "id": "e82372b2",
   "metadata": {},
   "source": [
    "Напишем функцию, которая на основании данных из столбца purpose сформирует новый столбец purpose_category, в который войдут следующие категории:\n",
    "'операции с автомобилем',\n",
    "'операции с недвижимостью',\n",
    "'проведение свадьбы',\n",
    "'получение образования'."
   ]
  },
  {
   "cell_type": "code",
   "execution_count": 43,
   "id": "0caf2023",
   "metadata": {},
   "outputs": [],
   "source": [
    "def purpose_group(purpose):\n",
    "    if 'свадь' in purpose:\n",
    "        return 'проведение свадьбы'\n",
    "    if 'автом' in purpose:\n",
    "        return 'операции с автомобилем'\n",
    "    if 'образ' in purpose:\n",
    "        return 'получение образования'\n",
    "    if 'недвиж' in purpose or 'жиль' in purpose:\n",
    "        return 'операции с недвижимостью'"
   ]
  },
  {
   "cell_type": "markdown",
   "id": "570652d8",
   "metadata": {},
   "source": [
    "Теперь сформируем новый столбец, в который войдут эти категории и выведем на экран датафрейм для проверки:"
   ]
  },
  {
   "cell_type": "code",
   "execution_count": 44,
   "id": "28a0f5f3",
   "metadata": {},
   "outputs": [
    {
     "data": {
      "text/html": [
       "<div>\n",
       "<style scoped>\n",
       "    .dataframe tbody tr th:only-of-type {\n",
       "        vertical-align: middle;\n",
       "    }\n",
       "\n",
       "    .dataframe tbody tr th {\n",
       "        vertical-align: top;\n",
       "    }\n",
       "\n",
       "    .dataframe thead th {\n",
       "        text-align: right;\n",
       "    }\n",
       "</style>\n",
       "<table border=\"1\" class=\"dataframe\">\n",
       "  <thead>\n",
       "    <tr style=\"text-align: right;\">\n",
       "      <th></th>\n",
       "      <th>children</th>\n",
       "      <th>days_employed</th>\n",
       "      <th>dob_years</th>\n",
       "      <th>education_id</th>\n",
       "      <th>family_status_id</th>\n",
       "      <th>gender</th>\n",
       "      <th>income_type</th>\n",
       "      <th>debt</th>\n",
       "      <th>total_income</th>\n",
       "      <th>purpose</th>\n",
       "      <th>total_income_category</th>\n",
       "      <th>purpose_category</th>\n",
       "    </tr>\n",
       "  </thead>\n",
       "  <tbody>\n",
       "    <tr>\n",
       "      <th>0</th>\n",
       "      <td>1</td>\n",
       "      <td>8437</td>\n",
       "      <td>42</td>\n",
       "      <td>0</td>\n",
       "      <td>0</td>\n",
       "      <td>F</td>\n",
       "      <td>сотрудник</td>\n",
       "      <td>0</td>\n",
       "      <td>253875</td>\n",
       "      <td>покупка жилья</td>\n",
       "      <td>B</td>\n",
       "      <td>операции с недвижимостью</td>\n",
       "    </tr>\n",
       "    <tr>\n",
       "      <th>1</th>\n",
       "      <td>1</td>\n",
       "      <td>4024</td>\n",
       "      <td>36</td>\n",
       "      <td>1</td>\n",
       "      <td>0</td>\n",
       "      <td>F</td>\n",
       "      <td>сотрудник</td>\n",
       "      <td>0</td>\n",
       "      <td>112080</td>\n",
       "      <td>приобретение автомобиля</td>\n",
       "      <td>C</td>\n",
       "      <td>операции с автомобилем</td>\n",
       "    </tr>\n",
       "    <tr>\n",
       "      <th>2</th>\n",
       "      <td>0</td>\n",
       "      <td>5623</td>\n",
       "      <td>33</td>\n",
       "      <td>1</td>\n",
       "      <td>0</td>\n",
       "      <td>M</td>\n",
       "      <td>сотрудник</td>\n",
       "      <td>0</td>\n",
       "      <td>145885</td>\n",
       "      <td>покупка жилья</td>\n",
       "      <td>C</td>\n",
       "      <td>операции с недвижимостью</td>\n",
       "    </tr>\n",
       "    <tr>\n",
       "      <th>3</th>\n",
       "      <td>3</td>\n",
       "      <td>4124</td>\n",
       "      <td>32</td>\n",
       "      <td>1</td>\n",
       "      <td>0</td>\n",
       "      <td>M</td>\n",
       "      <td>сотрудник</td>\n",
       "      <td>0</td>\n",
       "      <td>267628</td>\n",
       "      <td>дополнительное образование</td>\n",
       "      <td>B</td>\n",
       "      <td>получение образования</td>\n",
       "    </tr>\n",
       "    <tr>\n",
       "      <th>4</th>\n",
       "      <td>0</td>\n",
       "      <td>22265</td>\n",
       "      <td>53</td>\n",
       "      <td>1</td>\n",
       "      <td>1</td>\n",
       "      <td>F</td>\n",
       "      <td>пенсионер</td>\n",
       "      <td>0</td>\n",
       "      <td>158616</td>\n",
       "      <td>сыграть свадьбу</td>\n",
       "      <td>C</td>\n",
       "      <td>проведение свадьбы</td>\n",
       "    </tr>\n",
       "    <tr>\n",
       "      <th>...</th>\n",
       "      <td>...</td>\n",
       "      <td>...</td>\n",
       "      <td>...</td>\n",
       "      <td>...</td>\n",
       "      <td>...</td>\n",
       "      <td>...</td>\n",
       "      <td>...</td>\n",
       "      <td>...</td>\n",
       "      <td>...</td>\n",
       "      <td>...</td>\n",
       "      <td>...</td>\n",
       "      <td>...</td>\n",
       "    </tr>\n",
       "    <tr>\n",
       "      <th>21466</th>\n",
       "      <td>1</td>\n",
       "      <td>4529</td>\n",
       "      <td>43</td>\n",
       "      <td>1</td>\n",
       "      <td>1</td>\n",
       "      <td>F</td>\n",
       "      <td>компаньон</td>\n",
       "      <td>0</td>\n",
       "      <td>224791</td>\n",
       "      <td>операции с жильем</td>\n",
       "      <td>B</td>\n",
       "      <td>операции с недвижимостью</td>\n",
       "    </tr>\n",
       "    <tr>\n",
       "      <th>21467</th>\n",
       "      <td>0</td>\n",
       "      <td>22265</td>\n",
       "      <td>67</td>\n",
       "      <td>1</td>\n",
       "      <td>0</td>\n",
       "      <td>F</td>\n",
       "      <td>пенсионер</td>\n",
       "      <td>0</td>\n",
       "      <td>155999</td>\n",
       "      <td>сделка с автомобилем</td>\n",
       "      <td>C</td>\n",
       "      <td>операции с автомобилем</td>\n",
       "    </tr>\n",
       "    <tr>\n",
       "      <th>21468</th>\n",
       "      <td>1</td>\n",
       "      <td>2113</td>\n",
       "      <td>38</td>\n",
       "      <td>1</td>\n",
       "      <td>1</td>\n",
       "      <td>M</td>\n",
       "      <td>сотрудник</td>\n",
       "      <td>1</td>\n",
       "      <td>89672</td>\n",
       "      <td>недвижимость</td>\n",
       "      <td>C</td>\n",
       "      <td>операции с недвижимостью</td>\n",
       "    </tr>\n",
       "    <tr>\n",
       "      <th>21469</th>\n",
       "      <td>3</td>\n",
       "      <td>3112</td>\n",
       "      <td>38</td>\n",
       "      <td>1</td>\n",
       "      <td>0</td>\n",
       "      <td>M</td>\n",
       "      <td>сотрудник</td>\n",
       "      <td>1</td>\n",
       "      <td>244093</td>\n",
       "      <td>на покупку своего автомобиля</td>\n",
       "      <td>B</td>\n",
       "      <td>операции с автомобилем</td>\n",
       "    </tr>\n",
       "    <tr>\n",
       "      <th>21470</th>\n",
       "      <td>2</td>\n",
       "      <td>1984</td>\n",
       "      <td>40</td>\n",
       "      <td>1</td>\n",
       "      <td>0</td>\n",
       "      <td>F</td>\n",
       "      <td>сотрудник</td>\n",
       "      <td>0</td>\n",
       "      <td>82047</td>\n",
       "      <td>на покупку автомобиля</td>\n",
       "      <td>C</td>\n",
       "      <td>операции с автомобилем</td>\n",
       "    </tr>\n",
       "  </tbody>\n",
       "</table>\n",
       "<p>21471 rows × 12 columns</p>\n",
       "</div>"
      ],
      "text/plain": [
       "       children  days_employed  dob_years  education_id  family_status_id  \\\n",
       "0             1           8437         42             0                 0   \n",
       "1             1           4024         36             1                 0   \n",
       "2             0           5623         33             1                 0   \n",
       "3             3           4124         32             1                 0   \n",
       "4             0          22265         53             1                 1   \n",
       "...         ...            ...        ...           ...               ...   \n",
       "21466         1           4529         43             1                 1   \n",
       "21467         0          22265         67             1                 0   \n",
       "21468         1           2113         38             1                 1   \n",
       "21469         3           3112         38             1                 0   \n",
       "21470         2           1984         40             1                 0   \n",
       "\n",
       "      gender income_type  debt  total_income                       purpose  \\\n",
       "0          F   сотрудник     0        253875                 покупка жилья   \n",
       "1          F   сотрудник     0        112080       приобретение автомобиля   \n",
       "2          M   сотрудник     0        145885                 покупка жилья   \n",
       "3          M   сотрудник     0        267628    дополнительное образование   \n",
       "4          F   пенсионер     0        158616               сыграть свадьбу   \n",
       "...      ...         ...   ...           ...                           ...   \n",
       "21466      F   компаньон     0        224791             операции с жильем   \n",
       "21467      F   пенсионер     0        155999          сделка с автомобилем   \n",
       "21468      M   сотрудник     1         89672                  недвижимость   \n",
       "21469      M   сотрудник     1        244093  на покупку своего автомобиля   \n",
       "21470      F   сотрудник     0         82047         на покупку автомобиля   \n",
       "\n",
       "      total_income_category          purpose_category  \n",
       "0                         B  операции с недвижимостью  \n",
       "1                         C    операции с автомобилем  \n",
       "2                         C  операции с недвижимостью  \n",
       "3                         B     получение образования  \n",
       "4                         C        проведение свадьбы  \n",
       "...                     ...                       ...  \n",
       "21466                     B  операции с недвижимостью  \n",
       "21467                     C    операции с автомобилем  \n",
       "21468                     C  операции с недвижимостью  \n",
       "21469                     B    операции с автомобилем  \n",
       "21470                     C    операции с автомобилем  \n",
       "\n",
       "[21471 rows x 12 columns]"
      ]
     },
     "execution_count": 44,
     "metadata": {},
     "output_type": "execute_result"
    }
   ],
   "source": [
    "borrowers['purpose_category'] = borrowers['purpose'].apply(purpose_group)\n",
    "borrowers"
   ]
  },
  {
   "cell_type": "markdown",
   "id": "ae2898b6",
   "metadata": {},
   "source": [
    "### Ответы на вопросы."
   ]
  },
  {
   "cell_type": "markdown",
   "id": "198eb03f",
   "metadata": {},
   "source": [
    "##### Вопрос 1:"
   ]
  },
  {
   "cell_type": "markdown",
   "id": "4ba49196",
   "metadata": {},
   "source": [
    "Выясним, есть ли зависимость между количеством детей и возвратом кредита в срок. Для этого выгрузим количество неплательщиков в каждой группе родителей. Примем за истину то, что значение 1 в столбце debt означает наличие задолженности, а значение 0 -её отсутствие. Воспользуемся методом pivot_table(), чтобы данные были удобнее для прочтения:"
   ]
  },
  {
   "cell_type": "code",
   "execution_count": 45,
   "id": "483a3bab",
   "metadata": {},
   "outputs": [
    {
     "data": {
      "text/html": [
       "<div>\n",
       "<style scoped>\n",
       "    .dataframe tbody tr th:only-of-type {\n",
       "        vertical-align: middle;\n",
       "    }\n",
       "\n",
       "    .dataframe tbody tr th {\n",
       "        vertical-align: top;\n",
       "    }\n",
       "\n",
       "    .dataframe thead th {\n",
       "        text-align: right;\n",
       "    }\n",
       "</style>\n",
       "<table border=\"1\" class=\"dataframe\">\n",
       "  <thead>\n",
       "    <tr style=\"text-align: right;\">\n",
       "      <th>debt</th>\n",
       "      <th>0</th>\n",
       "      <th>1</th>\n",
       "    </tr>\n",
       "    <tr>\n",
       "      <th>children</th>\n",
       "      <th></th>\n",
       "      <th></th>\n",
       "    </tr>\n",
       "  </thead>\n",
       "  <tbody>\n",
       "    <tr>\n",
       "      <th>-1</th>\n",
       "      <td>46.0</td>\n",
       "      <td>1.0</td>\n",
       "    </tr>\n",
       "    <tr>\n",
       "      <th>0</th>\n",
       "      <td>13044.0</td>\n",
       "      <td>1063.0</td>\n",
       "    </tr>\n",
       "    <tr>\n",
       "      <th>1</th>\n",
       "      <td>4365.0</td>\n",
       "      <td>444.0</td>\n",
       "    </tr>\n",
       "    <tr>\n",
       "      <th>2</th>\n",
       "      <td>1858.0</td>\n",
       "      <td>194.0</td>\n",
       "    </tr>\n",
       "    <tr>\n",
       "      <th>3</th>\n",
       "      <td>303.0</td>\n",
       "      <td>27.0</td>\n",
       "    </tr>\n",
       "    <tr>\n",
       "      <th>4</th>\n",
       "      <td>37.0</td>\n",
       "      <td>4.0</td>\n",
       "    </tr>\n",
       "    <tr>\n",
       "      <th>5</th>\n",
       "      <td>9.0</td>\n",
       "      <td>NaN</td>\n",
       "    </tr>\n",
       "    <tr>\n",
       "      <th>20</th>\n",
       "      <td>68.0</td>\n",
       "      <td>8.0</td>\n",
       "    </tr>\n",
       "  </tbody>\n",
       "</table>\n",
       "</div>"
      ],
      "text/plain": [
       "debt            0       1\n",
       "children                 \n",
       "-1           46.0     1.0\n",
       " 0        13044.0  1063.0\n",
       " 1         4365.0   444.0\n",
       " 2         1858.0   194.0\n",
       " 3          303.0    27.0\n",
       " 4           37.0     4.0\n",
       " 5            9.0     NaN\n",
       " 20          68.0     8.0"
      ]
     },
     "execution_count": 45,
     "metadata": {},
     "output_type": "execute_result"
    }
   ],
   "source": [
    "borrowers_children = borrowers.pivot_table(index='children', columns='debt', values='income_type', aggfunc='count')\n",
    "borrowers_children"
   ]
  },
  {
   "cell_type": "markdown",
   "id": "2e358fa7",
   "metadata": {},
   "source": [
    "Мы видим, что всплыла проблема: -1 ребенок у человека быть не может. Стоило бы уточнить информацию у отправителя данных, но у нас такой возможности нет, так что будем предполагать, что это технический сбой и имелось ввиду количество детей 1. Для того, чтобы данные выгружались корректно, исправим данные в столбце:"
   ]
  },
  {
   "cell_type": "code",
   "execution_count": 46,
   "id": "8a069587",
   "metadata": {},
   "outputs": [
    {
     "data": {
      "text/html": [
       "<div>\n",
       "<style scoped>\n",
       "    .dataframe tbody tr th:only-of-type {\n",
       "        vertical-align: middle;\n",
       "    }\n",
       "\n",
       "    .dataframe tbody tr th {\n",
       "        vertical-align: top;\n",
       "    }\n",
       "\n",
       "    .dataframe thead th {\n",
       "        text-align: right;\n",
       "    }\n",
       "</style>\n",
       "<table border=\"1\" class=\"dataframe\">\n",
       "  <thead>\n",
       "    <tr style=\"text-align: right;\">\n",
       "      <th>debt</th>\n",
       "      <th>0</th>\n",
       "      <th>1</th>\n",
       "    </tr>\n",
       "    <tr>\n",
       "      <th>children</th>\n",
       "      <th></th>\n",
       "      <th></th>\n",
       "    </tr>\n",
       "  </thead>\n",
       "  <tbody>\n",
       "    <tr>\n",
       "      <th>0</th>\n",
       "      <td>13044.0</td>\n",
       "      <td>1063.0</td>\n",
       "    </tr>\n",
       "    <tr>\n",
       "      <th>1</th>\n",
       "      <td>4411.0</td>\n",
       "      <td>445.0</td>\n",
       "    </tr>\n",
       "    <tr>\n",
       "      <th>2</th>\n",
       "      <td>1858.0</td>\n",
       "      <td>194.0</td>\n",
       "    </tr>\n",
       "    <tr>\n",
       "      <th>3</th>\n",
       "      <td>303.0</td>\n",
       "      <td>27.0</td>\n",
       "    </tr>\n",
       "    <tr>\n",
       "      <th>4</th>\n",
       "      <td>37.0</td>\n",
       "      <td>4.0</td>\n",
       "    </tr>\n",
       "    <tr>\n",
       "      <th>5</th>\n",
       "      <td>9.0</td>\n",
       "      <td>NaN</td>\n",
       "    </tr>\n",
       "    <tr>\n",
       "      <th>20</th>\n",
       "      <td>68.0</td>\n",
       "      <td>8.0</td>\n",
       "    </tr>\n",
       "  </tbody>\n",
       "</table>\n",
       "</div>"
      ],
      "text/plain": [
       "debt            0       1\n",
       "children                 \n",
       "0         13044.0  1063.0\n",
       "1          4411.0   445.0\n",
       "2          1858.0   194.0\n",
       "3           303.0    27.0\n",
       "4            37.0     4.0\n",
       "5             9.0     NaN\n",
       "20           68.0     8.0"
      ]
     },
     "execution_count": 46,
     "metadata": {},
     "output_type": "execute_result"
    }
   ],
   "source": [
    "borrowers['children']=borrowers['children'].abs()\n",
    "borrowers_children = borrowers.pivot_table(index='children', columns='debt', values='income_type', aggfunc='count')\n",
    "borrowers_children"
   ]
  },
  {
   "cell_type": "markdown",
   "id": "ccb9be5c",
   "metadata": {},
   "source": [
    "Посмотрим, какова доля должников среди клиентов в зависимости от того, сколько у них детей - введем дополнительный столбец, отражающий эту информацию:"
   ]
  },
  {
   "cell_type": "code",
   "execution_count": 47,
   "id": "f3fd075d",
   "metadata": {},
   "outputs": [
    {
     "data": {
      "text/html": [
       "<div>\n",
       "<style scoped>\n",
       "    .dataframe tbody tr th:only-of-type {\n",
       "        vertical-align: middle;\n",
       "    }\n",
       "\n",
       "    .dataframe tbody tr th {\n",
       "        vertical-align: top;\n",
       "    }\n",
       "\n",
       "    .dataframe thead th {\n",
       "        text-align: right;\n",
       "    }\n",
       "</style>\n",
       "<table border=\"1\" class=\"dataframe\">\n",
       "  <thead>\n",
       "    <tr style=\"text-align: right;\">\n",
       "      <th>debt</th>\n",
       "      <th>0</th>\n",
       "      <th>1</th>\n",
       "      <th>share_debtors</th>\n",
       "    </tr>\n",
       "    <tr>\n",
       "      <th>children</th>\n",
       "      <th></th>\n",
       "      <th></th>\n",
       "      <th></th>\n",
       "    </tr>\n",
       "  </thead>\n",
       "  <tbody>\n",
       "    <tr>\n",
       "      <th>0</th>\n",
       "      <td>13044.0</td>\n",
       "      <td>1063.0</td>\n",
       "      <td>8.149341</td>\n",
       "    </tr>\n",
       "    <tr>\n",
       "      <th>1</th>\n",
       "      <td>4411.0</td>\n",
       "      <td>445.0</td>\n",
       "      <td>10.088415</td>\n",
       "    </tr>\n",
       "    <tr>\n",
       "      <th>2</th>\n",
       "      <td>1858.0</td>\n",
       "      <td>194.0</td>\n",
       "      <td>10.441335</td>\n",
       "    </tr>\n",
       "    <tr>\n",
       "      <th>3</th>\n",
       "      <td>303.0</td>\n",
       "      <td>27.0</td>\n",
       "      <td>8.910891</td>\n",
       "    </tr>\n",
       "    <tr>\n",
       "      <th>4</th>\n",
       "      <td>37.0</td>\n",
       "      <td>4.0</td>\n",
       "      <td>10.810811</td>\n",
       "    </tr>\n",
       "    <tr>\n",
       "      <th>5</th>\n",
       "      <td>9.0</td>\n",
       "      <td>NaN</td>\n",
       "      <td>NaN</td>\n",
       "    </tr>\n",
       "    <tr>\n",
       "      <th>20</th>\n",
       "      <td>68.0</td>\n",
       "      <td>8.0</td>\n",
       "      <td>11.764706</td>\n",
       "    </tr>\n",
       "  </tbody>\n",
       "</table>\n",
       "</div>"
      ],
      "text/plain": [
       "debt            0       1  share_debtors\n",
       "children                                \n",
       "0         13044.0  1063.0       8.149341\n",
       "1          4411.0   445.0      10.088415\n",
       "2          1858.0   194.0      10.441335\n",
       "3           303.0    27.0       8.910891\n",
       "4            37.0     4.0      10.810811\n",
       "5             9.0     NaN            NaN\n",
       "20           68.0     8.0      11.764706"
      ]
     },
     "execution_count": 47,
     "metadata": {},
     "output_type": "execute_result"
    }
   ],
   "source": [
    "borrowers_children['share_debtors'] = borrowers_children[1] / borrowers_children[0] * 100\n",
    "borrowers_children"
   ]
  },
  {
   "cell_type": "markdown",
   "id": "fb85729a",
   "metadata": {},
   "source": [
    "##### Вывод 1:"
   ]
  },
  {
   "cell_type": "markdown",
   "id": "ea893d0e",
   "metadata": {},
   "source": [
    "Что мы видим:\n",
    "Неплательщиков среди клиентов с 1 ребенком - 10,0%\n",
    "Неплательщиков среди клиентов с 2 детьми  - 10,4%\n",
    "Неплательщиков среди клиентов с 3 детьми - 8,9% - этих клиентов крайне мало, рассматривать данные по неплательщикам в этой категории не стоит. Такая же ситуация с 4 и более детьми. Связано это скорее всего с тем, что таких семей не так много. \n",
    "Нужно учитывать тот факт, что отдельно от прочих условий рассматривать причиной задолженности только количество детей впринципе нецелесообразно, однако при такой категоричности вопроса можно сделать вывод, что семьи с одним ребенком справляются с платежами лучше, чем прочие."
   ]
  },
  {
   "cell_type": "markdown",
   "id": "f0107481",
   "metadata": {},
   "source": [
    "0.9.0.3 Вопрос 2:"
   ]
  },
  {
   "cell_type": "markdown",
   "id": "58851673",
   "metadata": {},
   "source": [
    "Есть ли зависимость между семейным положением и возвратом кредита в срок? Для этого выгрузим количество неплательщиков в каждой группе семейного положения. Опять же за истину примем то, что значение 1 в столбце debt означает наличие задолженности, а значение 0 -её отсутствие. Нам нужно будет обратиться к наше \"таблице-словарю\", так как ранее мы удалили столбец family_status."
   ]
  },
  {
   "cell_type": "code",
   "execution_count": 48,
   "id": "2dc28392",
   "metadata": {},
   "outputs": [
    {
     "data": {
      "text/html": [
       "<div>\n",
       "<style scoped>\n",
       "    .dataframe tbody tr th:only-of-type {\n",
       "        vertical-align: middle;\n",
       "    }\n",
       "\n",
       "    .dataframe tbody tr th {\n",
       "        vertical-align: top;\n",
       "    }\n",
       "\n",
       "    .dataframe thead th {\n",
       "        text-align: right;\n",
       "    }\n",
       "</style>\n",
       "<table border=\"1\" class=\"dataframe\">\n",
       "  <thead>\n",
       "    <tr style=\"text-align: right;\">\n",
       "      <th>debt</th>\n",
       "      <th>0</th>\n",
       "      <th>1</th>\n",
       "    </tr>\n",
       "    <tr>\n",
       "      <th>family_status_id</th>\n",
       "      <th></th>\n",
       "      <th></th>\n",
       "    </tr>\n",
       "  </thead>\n",
       "  <tbody>\n",
       "    <tr>\n",
       "      <th>0</th>\n",
       "      <td>11413</td>\n",
       "      <td>931</td>\n",
       "    </tr>\n",
       "    <tr>\n",
       "      <th>1</th>\n",
       "      <td>3775</td>\n",
       "      <td>388</td>\n",
       "    </tr>\n",
       "    <tr>\n",
       "      <th>2</th>\n",
       "      <td>896</td>\n",
       "      <td>63</td>\n",
       "    </tr>\n",
       "    <tr>\n",
       "      <th>3</th>\n",
       "      <td>1110</td>\n",
       "      <td>85</td>\n",
       "    </tr>\n",
       "    <tr>\n",
       "      <th>4</th>\n",
       "      <td>2536</td>\n",
       "      <td>274</td>\n",
       "    </tr>\n",
       "  </tbody>\n",
       "</table>\n",
       "</div>"
      ],
      "text/plain": [
       "debt                  0    1\n",
       "family_status_id            \n",
       "0                 11413  931\n",
       "1                  3775  388\n",
       "2                   896   63\n",
       "3                  1110   85\n",
       "4                  2536  274"
      ]
     },
     "execution_count": 48,
     "metadata": {},
     "output_type": "execute_result"
    }
   ],
   "source": [
    "borrowers_family_status_id = borrowers.pivot_table(index='family_status_id', columns='debt', values='income_type', aggfunc='count')\n",
    "borrowers_family_status_id"
   ]
  },
  {
   "cell_type": "code",
   "execution_count": 49,
   "id": "18825954",
   "metadata": {},
   "outputs": [
    {
     "data": {
      "text/html": [
       "<div>\n",
       "<style scoped>\n",
       "    .dataframe tbody tr th:only-of-type {\n",
       "        vertical-align: middle;\n",
       "    }\n",
       "\n",
       "    .dataframe tbody tr th {\n",
       "        vertical-align: top;\n",
       "    }\n",
       "\n",
       "    .dataframe thead th {\n",
       "        text-align: right;\n",
       "    }\n",
       "</style>\n",
       "<table border=\"1\" class=\"dataframe\">\n",
       "  <thead>\n",
       "    <tr style=\"text-align: right;\">\n",
       "      <th></th>\n",
       "      <th>family_status</th>\n",
       "      <th>family_status_id</th>\n",
       "    </tr>\n",
       "  </thead>\n",
       "  <tbody>\n",
       "    <tr>\n",
       "      <th>0</th>\n",
       "      <td>женат / замужем</td>\n",
       "      <td>0</td>\n",
       "    </tr>\n",
       "    <tr>\n",
       "      <th>1</th>\n",
       "      <td>гражданский брак</td>\n",
       "      <td>1</td>\n",
       "    </tr>\n",
       "    <tr>\n",
       "      <th>2</th>\n",
       "      <td>вдовец / вдова</td>\n",
       "      <td>2</td>\n",
       "    </tr>\n",
       "    <tr>\n",
       "      <th>3</th>\n",
       "      <td>в разводе</td>\n",
       "      <td>3</td>\n",
       "    </tr>\n",
       "    <tr>\n",
       "      <th>4</th>\n",
       "      <td>Не женат / не замужем</td>\n",
       "      <td>4</td>\n",
       "    </tr>\n",
       "  </tbody>\n",
       "</table>\n",
       "</div>"
      ],
      "text/plain": [
       "           family_status  family_status_id\n",
       "0        женат / замужем                 0\n",
       "1       гражданский брак                 1\n",
       "2         вдовец / вдова                 2\n",
       "3              в разводе                 3\n",
       "4  Не женат / не замужем                 4"
      ]
     },
     "execution_count": 49,
     "metadata": {},
     "output_type": "execute_result"
    }
   ],
   "source": [
    "borrowers_family_status"
   ]
  },
  {
   "cell_type": "markdown",
   "id": "f1f01029",
   "metadata": {},
   "source": [
    "Посмотрим, какова доля должников среди клиентов в зависимости от семейного положения - введем дополнительный столбец, отражающий эту информацию:"
   ]
  },
  {
   "cell_type": "code",
   "execution_count": 50,
   "id": "da90daa9",
   "metadata": {},
   "outputs": [
    {
     "data": {
      "text/html": [
       "<div>\n",
       "<style scoped>\n",
       "    .dataframe tbody tr th:only-of-type {\n",
       "        vertical-align: middle;\n",
       "    }\n",
       "\n",
       "    .dataframe tbody tr th {\n",
       "        vertical-align: top;\n",
       "    }\n",
       "\n",
       "    .dataframe thead th {\n",
       "        text-align: right;\n",
       "    }\n",
       "</style>\n",
       "<table border=\"1\" class=\"dataframe\">\n",
       "  <thead>\n",
       "    <tr style=\"text-align: right;\">\n",
       "      <th>debt</th>\n",
       "      <th>0</th>\n",
       "      <th>1</th>\n",
       "      <th>share_debtors</th>\n",
       "    </tr>\n",
       "    <tr>\n",
       "      <th>family_status_id</th>\n",
       "      <th></th>\n",
       "      <th></th>\n",
       "      <th></th>\n",
       "    </tr>\n",
       "  </thead>\n",
       "  <tbody>\n",
       "    <tr>\n",
       "      <th>0</th>\n",
       "      <td>11413</td>\n",
       "      <td>931</td>\n",
       "      <td>8.157364</td>\n",
       "    </tr>\n",
       "    <tr>\n",
       "      <th>1</th>\n",
       "      <td>3775</td>\n",
       "      <td>388</td>\n",
       "      <td>10.278146</td>\n",
       "    </tr>\n",
       "    <tr>\n",
       "      <th>2</th>\n",
       "      <td>896</td>\n",
       "      <td>63</td>\n",
       "      <td>7.031250</td>\n",
       "    </tr>\n",
       "    <tr>\n",
       "      <th>3</th>\n",
       "      <td>1110</td>\n",
       "      <td>85</td>\n",
       "      <td>7.657658</td>\n",
       "    </tr>\n",
       "    <tr>\n",
       "      <th>4</th>\n",
       "      <td>2536</td>\n",
       "      <td>274</td>\n",
       "      <td>10.804416</td>\n",
       "    </tr>\n",
       "  </tbody>\n",
       "</table>\n",
       "</div>"
      ],
      "text/plain": [
       "debt                  0    1  share_debtors\n",
       "family_status_id                           \n",
       "0                 11413  931       8.157364\n",
       "1                  3775  388      10.278146\n",
       "2                   896   63       7.031250\n",
       "3                  1110   85       7.657658\n",
       "4                  2536  274      10.804416"
      ]
     },
     "execution_count": 50,
     "metadata": {},
     "output_type": "execute_result"
    }
   ],
   "source": [
    "borrowers_family_status_id['share_debtors'] = borrowers_family_status_id[1] / borrowers_family_status_id[0] * 100\n",
    "borrowers_family_status_id"
   ]
  },
  {
   "cell_type": "markdown",
   "id": "7352c899",
   "metadata": {},
   "source": [
    "0.9.0.4 Вывод 2:"
   ]
  },
  {
   "cell_type": "markdown",
   "id": "47e45f30",
   "metadata": {},
   "source": [
    "Мы видим, что:\n",
    "среди женатых неплательщиков - 8,1%\n",
    "среди живущих в гражданском браке - 10,3%\n",
    "среди вдовцов - 7,0% их крайне мало в нашей таблице - ориентироваться на эти данные мы не будем.\n",
    "среди людей в разводе - 7,7%\n",
    "среди холостяков - 10,8%\n",
    "Казалось бы, что среди холостяков и живущих в гражданском браке неплательщиков больше, но я настаиваю на том, что брать один показатель без учета прочих вводных данных - решение неконструктивное."
   ]
  },
  {
   "cell_type": "markdown",
   "id": "7eb1bdaf",
   "metadata": {},
   "source": [
    "0.9.0.5 Вопрос 3:"
   ]
  },
  {
   "cell_type": "markdown",
   "id": "08682c31",
   "metadata": {},
   "source": [
    "Есть ли зависимость между уровнем дохода и возвратом кредита в срок? Для этого выгрузим количество неплательщиков в каждой группе дохода. Для этого прибегнем к созданному ранее столбцу с категориями клиентов по доходам:"
   ]
  },
  {
   "cell_type": "code",
   "execution_count": 51,
   "id": "db86c379",
   "metadata": {},
   "outputs": [
    {
     "data": {
      "text/html": [
       "<div>\n",
       "<style scoped>\n",
       "    .dataframe tbody tr th:only-of-type {\n",
       "        vertical-align: middle;\n",
       "    }\n",
       "\n",
       "    .dataframe tbody tr th {\n",
       "        vertical-align: top;\n",
       "    }\n",
       "\n",
       "    .dataframe thead th {\n",
       "        text-align: right;\n",
       "    }\n",
       "</style>\n",
       "<table border=\"1\" class=\"dataframe\">\n",
       "  <thead>\n",
       "    <tr style=\"text-align: right;\">\n",
       "      <th>debt</th>\n",
       "      <th>0</th>\n",
       "      <th>1</th>\n",
       "    </tr>\n",
       "    <tr>\n",
       "      <th>total_income_category</th>\n",
       "      <th></th>\n",
       "      <th></th>\n",
       "    </tr>\n",
       "  </thead>\n",
       "  <tbody>\n",
       "    <tr>\n",
       "      <th>A</th>\n",
       "      <td>23</td>\n",
       "      <td>2</td>\n",
       "    </tr>\n",
       "    <tr>\n",
       "      <th>B</th>\n",
       "      <td>5159</td>\n",
       "      <td>386</td>\n",
       "    </tr>\n",
       "    <tr>\n",
       "      <th>C</th>\n",
       "      <td>14199</td>\n",
       "      <td>1330</td>\n",
       "    </tr>\n",
       "    <tr>\n",
       "      <th>D</th>\n",
       "      <td>329</td>\n",
       "      <td>21</td>\n",
       "    </tr>\n",
       "    <tr>\n",
       "      <th>E</th>\n",
       "      <td>20</td>\n",
       "      <td>2</td>\n",
       "    </tr>\n",
       "  </tbody>\n",
       "</table>\n",
       "</div>"
      ],
      "text/plain": [
       "debt                       0     1\n",
       "total_income_category             \n",
       "A                         23     2\n",
       "B                       5159   386\n",
       "C                      14199  1330\n",
       "D                        329    21\n",
       "E                         20     2"
      ]
     },
     "execution_count": 51,
     "metadata": {},
     "output_type": "execute_result"
    }
   ],
   "source": [
    "borrowers_total_income_category = borrowers.pivot_table(index='total_income_category', columns='debt', values='income_type', aggfunc='count')\n",
    "borrowers_total_income_category"
   ]
  },
  {
   "cell_type": "markdown",
   "id": "4c941cac",
   "metadata": {},
   "source": [
    "Посмотрим, какова доля должников среди клиентов в зависимости от их дохода - введем дополнительный столбец, отражающий эту информацию:"
   ]
  },
  {
   "cell_type": "code",
   "execution_count": 52,
   "id": "44e194eb",
   "metadata": {},
   "outputs": [
    {
     "data": {
      "text/html": [
       "<div>\n",
       "<style scoped>\n",
       "    .dataframe tbody tr th:only-of-type {\n",
       "        vertical-align: middle;\n",
       "    }\n",
       "\n",
       "    .dataframe tbody tr th {\n",
       "        vertical-align: top;\n",
       "    }\n",
       "\n",
       "    .dataframe thead th {\n",
       "        text-align: right;\n",
       "    }\n",
       "</style>\n",
       "<table border=\"1\" class=\"dataframe\">\n",
       "  <thead>\n",
       "    <tr style=\"text-align: right;\">\n",
       "      <th>debt</th>\n",
       "      <th>0</th>\n",
       "      <th>1</th>\n",
       "      <th>share_debtors</th>\n",
       "    </tr>\n",
       "    <tr>\n",
       "      <th>total_income_category</th>\n",
       "      <th></th>\n",
       "      <th></th>\n",
       "      <th></th>\n",
       "    </tr>\n",
       "  </thead>\n",
       "  <tbody>\n",
       "    <tr>\n",
       "      <th>A</th>\n",
       "      <td>23</td>\n",
       "      <td>2</td>\n",
       "      <td>8.695652</td>\n",
       "    </tr>\n",
       "    <tr>\n",
       "      <th>B</th>\n",
       "      <td>5159</td>\n",
       "      <td>386</td>\n",
       "      <td>7.482070</td>\n",
       "    </tr>\n",
       "    <tr>\n",
       "      <th>C</th>\n",
       "      <td>14199</td>\n",
       "      <td>1330</td>\n",
       "      <td>9.366857</td>\n",
       "    </tr>\n",
       "    <tr>\n",
       "      <th>D</th>\n",
       "      <td>329</td>\n",
       "      <td>21</td>\n",
       "      <td>6.382979</td>\n",
       "    </tr>\n",
       "    <tr>\n",
       "      <th>E</th>\n",
       "      <td>20</td>\n",
       "      <td>2</td>\n",
       "      <td>10.000000</td>\n",
       "    </tr>\n",
       "  </tbody>\n",
       "</table>\n",
       "</div>"
      ],
      "text/plain": [
       "debt                       0     1  share_debtors\n",
       "total_income_category                            \n",
       "A                         23     2       8.695652\n",
       "B                       5159   386       7.482070\n",
       "C                      14199  1330       9.366857\n",
       "D                        329    21       6.382979\n",
       "E                         20     2      10.000000"
      ]
     },
     "execution_count": 52,
     "metadata": {},
     "output_type": "execute_result"
    }
   ],
   "source": [
    "borrowers_total_income_category['share_debtors'] = borrowers_total_income_category[1] / borrowers_total_income_category[0] * 100\n",
    "borrowers_total_income_category"
   ]
  },
  {
   "cell_type": "markdown",
   "id": "1a3e2e7c",
   "metadata": {},
   "source": [
    "0.9.0.6 Вывод 3:"
   ]
  },
  {
   "cell_type": "markdown",
   "id": "4c803222",
   "metadata": {},
   "source": [
    "Мы помним, что категории распределялись следующим образом:  0–30000 — 'E'; 30001–50000 — 'D'; 50001–200000 — 'C'; 200001–1000000 — 'B'; 1000001 и выше — 'A'\n",
    "Среди клиентов категории 'A' - 8,7% неплательщиков\n",
    "Среди клиентов категории 'B' - 7,5% неплательщиков\n",
    "Среди клиентов категории 'C' - 9,4% неплательщиков\n",
    "Среди клиентов категории 'D' - 6,4% неплательщиков\n",
    "Среди клиентов категории 'E' - 10,0% неплательщиков\n",
    "Прямой зависимости мы не видим, приблизительно равна доля неплательщиков и среди состоятельных людей, и среди людей со средним доходом, и среди тех, кто зарабатывает менее 30 000. Но опять же ориентироваться только на этот показатель будет неверно только потому, что клиентов категории 'A' и 'E' очень мало по сравнению с клиентами категории 'C'."
   ]
  },
  {
   "cell_type": "markdown",
   "id": "8eecb89e",
   "metadata": {},
   "source": [
    "0.9.0.7 Вопрос 4:"
   ]
  },
  {
   "cell_type": "markdown",
   "id": "bbd3c878",
   "metadata": {},
   "source": [
    "Как разные цели кредита влияют на его возврат в срок? Мы разбивали по категориям цели кредита. Снова воспользуемся pivot_table():"
   ]
  },
  {
   "cell_type": "code",
   "execution_count": 53,
   "id": "5100750a",
   "metadata": {},
   "outputs": [
    {
     "data": {
      "text/html": [
       "<div>\n",
       "<style scoped>\n",
       "    .dataframe tbody tr th:only-of-type {\n",
       "        vertical-align: middle;\n",
       "    }\n",
       "\n",
       "    .dataframe tbody tr th {\n",
       "        vertical-align: top;\n",
       "    }\n",
       "\n",
       "    .dataframe thead th {\n",
       "        text-align: right;\n",
       "    }\n",
       "</style>\n",
       "<table border=\"1\" class=\"dataframe\">\n",
       "  <thead>\n",
       "    <tr style=\"text-align: right;\">\n",
       "      <th>debt</th>\n",
       "      <th>0</th>\n",
       "      <th>1</th>\n",
       "    </tr>\n",
       "    <tr>\n",
       "      <th>purpose_category</th>\n",
       "      <th></th>\n",
       "      <th></th>\n",
       "    </tr>\n",
       "  </thead>\n",
       "  <tbody>\n",
       "    <tr>\n",
       "      <th>операции с автомобилем</th>\n",
       "      <td>3905</td>\n",
       "      <td>403</td>\n",
       "    </tr>\n",
       "    <tr>\n",
       "      <th>операции с недвижимостью</th>\n",
       "      <td>10032</td>\n",
       "      <td>782</td>\n",
       "    </tr>\n",
       "    <tr>\n",
       "      <th>получение образования</th>\n",
       "      <td>3644</td>\n",
       "      <td>370</td>\n",
       "    </tr>\n",
       "    <tr>\n",
       "      <th>проведение свадьбы</th>\n",
       "      <td>2149</td>\n",
       "      <td>186</td>\n",
       "    </tr>\n",
       "  </tbody>\n",
       "</table>\n",
       "</div>"
      ],
      "text/plain": [
       "debt                          0    1\n",
       "purpose_category                    \n",
       "операции с автомобилем     3905  403\n",
       "операции с недвижимостью  10032  782\n",
       "получение образования      3644  370\n",
       "проведение свадьбы         2149  186"
      ]
     },
     "execution_count": 53,
     "metadata": {},
     "output_type": "execute_result"
    }
   ],
   "source": [
    "borrowers_purpose_category = borrowers.pivot_table(index='purpose_category', columns='debt', values='income_type', aggfunc='count')\n",
    "borrowers_purpose_category"
   ]
  },
  {
   "cell_type": "markdown",
   "id": "643fbf3b",
   "metadata": {},
   "source": [
    "Посмотрим, какова доля должников среди клиентов в зависимости от цели кредита - введем дополнительный столбец, отражающий эту информацию:"
   ]
  },
  {
   "cell_type": "code",
   "execution_count": 54,
   "id": "92462421",
   "metadata": {},
   "outputs": [
    {
     "data": {
      "text/html": [
       "<div>\n",
       "<style scoped>\n",
       "    .dataframe tbody tr th:only-of-type {\n",
       "        vertical-align: middle;\n",
       "    }\n",
       "\n",
       "    .dataframe tbody tr th {\n",
       "        vertical-align: top;\n",
       "    }\n",
       "\n",
       "    .dataframe thead th {\n",
       "        text-align: right;\n",
       "    }\n",
       "</style>\n",
       "<table border=\"1\" class=\"dataframe\">\n",
       "  <thead>\n",
       "    <tr style=\"text-align: right;\">\n",
       "      <th>debt</th>\n",
       "      <th>0</th>\n",
       "      <th>1</th>\n",
       "      <th>share_debtors</th>\n",
       "    </tr>\n",
       "    <tr>\n",
       "      <th>purpose_category</th>\n",
       "      <th></th>\n",
       "      <th></th>\n",
       "      <th></th>\n",
       "    </tr>\n",
       "  </thead>\n",
       "  <tbody>\n",
       "    <tr>\n",
       "      <th>операции с автомобилем</th>\n",
       "      <td>3905</td>\n",
       "      <td>403</td>\n",
       "      <td>10.320102</td>\n",
       "    </tr>\n",
       "    <tr>\n",
       "      <th>операции с недвижимостью</th>\n",
       "      <td>10032</td>\n",
       "      <td>782</td>\n",
       "      <td>7.795056</td>\n",
       "    </tr>\n",
       "    <tr>\n",
       "      <th>получение образования</th>\n",
       "      <td>3644</td>\n",
       "      <td>370</td>\n",
       "      <td>10.153677</td>\n",
       "    </tr>\n",
       "    <tr>\n",
       "      <th>проведение свадьбы</th>\n",
       "      <td>2149</td>\n",
       "      <td>186</td>\n",
       "      <td>8.655188</td>\n",
       "    </tr>\n",
       "  </tbody>\n",
       "</table>\n",
       "</div>"
      ],
      "text/plain": [
       "debt                          0    1  share_debtors\n",
       "purpose_category                                   \n",
       "операции с автомобилем     3905  403      10.320102\n",
       "операции с недвижимостью  10032  782       7.795056\n",
       "получение образования      3644  370      10.153677\n",
       "проведение свадьбы         2149  186       8.655188"
      ]
     },
     "execution_count": 54,
     "metadata": {},
     "output_type": "execute_result"
    }
   ],
   "source": [
    "borrowers_purpose_category['share_debtors'] = borrowers_purpose_category[1] / borrowers_purpose_category[0] * 100\n",
    "borrowers_purpose_category"
   ]
  },
  {
   "cell_type": "markdown",
   "id": "422198e9",
   "metadata": {},
   "source": [
    "0.9.0.8 Вывод 4:"
   ]
  },
  {
   "cell_type": "markdown",
   "id": "a5c57ba3",
   "metadata": {},
   "source": [
    "Из выгрузки мы видим следующее: \n",
    "неплательщиков среди тех, кто брал кредит на операции с автомобилем - 10,3%\n",
    "неплательщиков среди тех, кто брал кредит на операции с недвижимостью - 7,8%\n",
    "неплательщиков среди тех, кто брал кредит на получение образования - 10,1%\n",
    "неплательщиков среди тех, кто брал кредит на проведение свадьбы - 8,7%\n",
    "Можно сделать вывод, что больше всего неплательщиков среди тех, кто преобретал автомобиль, и меньше всего среди тех, кто покупал недвижимость. Однако снова акцентирую внимание на том, что по одному параметру оценивать плательщика нецелесообразно, так как скорее всего к клиенту, желающему взять в кредит недвижимость требования скорее всего выше, так как суммы таких кредитов больше."
   ]
  },
  {
   "cell_type": "markdown",
   "id": "1bd435ff",
   "metadata": {},
   "source": [
    "## Общий вывод:"
   ]
  },
  {
   "cell_type": "markdown",
   "id": "66e83c2a",
   "metadata": {},
   "source": [
    "Казалось бы мы нашли идеальный портрет заемщика: семейный человек с одним ребенком, доходом 200001–1000000 рублей, берущий кредит на решение вопросов с недвижимостью. Однако нельзя учитывать только эти характеристики. Во-первых выборка крайне неравномерная - количетсво клиентов в каждой категории этих выборок очень сильно разнится. Во-вторых, требования к клиентам, берущим кредиты на различные нужды, тоже разнятся (нужен разный комплект документов, наличие/отсутствие залога, поручителя и т.п.), неизвестно, насколько стабилен доход (в какой сфере работает клиент, уверены ли мы, что его доход будет прежним через месяц, квартал, год)."
   ]
  }
 ],
 "metadata": {
  "ExecuteTimeLog": [
   {
    "duration": 491,
    "start_time": "2022-04-23T10:06:26.605Z"
   },
   {
    "duration": 60,
    "start_time": "2022-04-23T10:07:26.445Z"
   },
   {
    "duration": 76,
    "start_time": "2022-04-23T10:07:56.411Z"
   },
   {
    "duration": 18,
    "start_time": "2022-04-23T10:11:22.958Z"
   },
   {
    "duration": 9,
    "start_time": "2022-04-23T10:11:52.686Z"
   },
   {
    "duration": 78,
    "start_time": "2022-04-23T10:26:28.344Z"
   },
   {
    "duration": 62,
    "start_time": "2022-04-23T10:29:31.202Z"
   },
   {
    "duration": 14,
    "start_time": "2022-04-23T10:29:39.112Z"
   },
   {
    "duration": 45,
    "start_time": "2022-04-25T08:47:33.015Z"
   },
   {
    "duration": 636,
    "start_time": "2022-04-25T08:47:41.566Z"
   },
   {
    "duration": 22,
    "start_time": "2022-04-25T08:47:50.626Z"
   },
   {
    "duration": 16,
    "start_time": "2022-04-25T08:47:53.871Z"
   },
   {
    "duration": 27,
    "start_time": "2022-04-25T09:23:35.970Z"
   },
   {
    "duration": 3,
    "start_time": "2022-04-25T09:24:42.703Z"
   },
   {
    "duration": 3,
    "start_time": "2022-04-25T09:24:45.944Z"
   },
   {
    "duration": 2,
    "start_time": "2022-04-25T09:24:59.203Z"
   },
   {
    "duration": 3,
    "start_time": "2022-04-25T09:25:31.386Z"
   },
   {
    "duration": 2,
    "start_time": "2022-04-25T09:26:02.127Z"
   },
   {
    "duration": 3,
    "start_time": "2022-04-25T09:26:08.685Z"
   },
   {
    "duration": 3,
    "start_time": "2022-04-25T09:27:01.306Z"
   },
   {
    "duration": 2,
    "start_time": "2022-04-25T09:27:20.895Z"
   },
   {
    "duration": 3,
    "start_time": "2022-04-25T09:27:28.048Z"
   },
   {
    "duration": 71,
    "start_time": "2022-04-25T09:28:38.809Z"
   },
   {
    "duration": 66,
    "start_time": "2022-04-25T09:28:47.392Z"
   },
   {
    "duration": 7,
    "start_time": "2022-04-25T09:30:22.462Z"
   },
   {
    "duration": 2,
    "start_time": "2022-04-25T09:30:38.577Z"
   },
   {
    "duration": 3,
    "start_time": "2022-04-25T09:36:36.559Z"
   },
   {
    "duration": 3,
    "start_time": "2022-04-25T09:37:00.632Z"
   },
   {
    "duration": 3,
    "start_time": "2022-04-25T09:38:27.633Z"
   },
   {
    "duration": 3,
    "start_time": "2022-04-25T09:53:05.441Z"
   },
   {
    "duration": 4,
    "start_time": "2022-04-25T09:53:30.071Z"
   },
   {
    "duration": 9,
    "start_time": "2022-04-25T09:54:02.083Z"
   },
   {
    "duration": 5,
    "start_time": "2022-04-25T09:59:05.801Z"
   },
   {
    "duration": 2439,
    "start_time": "2022-04-25T10:01:01.904Z"
   },
   {
    "duration": 470,
    "start_time": "2022-04-25T10:01:10.511Z"
   },
   {
    "duration": 16,
    "start_time": "2022-04-25T10:01:10.984Z"
   },
   {
    "duration": 12,
    "start_time": "2022-04-25T10:01:11.003Z"
   },
   {
    "duration": 133,
    "start_time": "2022-04-25T10:01:11.017Z"
   },
   {
    "duration": 0,
    "start_time": "2022-04-25T10:01:11.152Z"
   },
   {
    "duration": 2359,
    "start_time": "2022-04-25T10:01:42.251Z"
   },
   {
    "duration": 6,
    "start_time": "2022-04-25T10:02:00.210Z"
   },
   {
    "duration": 5,
    "start_time": "2022-04-25T10:02:16.126Z"
   },
   {
    "duration": 5,
    "start_time": "2022-04-25T10:02:27.679Z"
   },
   {
    "duration": 8,
    "start_time": "2022-04-25T10:02:56.370Z"
   },
   {
    "duration": 8,
    "start_time": "2022-04-25T10:03:05.968Z"
   },
   {
    "duration": 3,
    "start_time": "2022-04-25T10:03:40.235Z"
   },
   {
    "duration": 450,
    "start_time": "2022-04-25T10:03:47.182Z"
   },
   {
    "duration": 22,
    "start_time": "2022-04-25T10:03:47.634Z"
   },
   {
    "duration": 10,
    "start_time": "2022-04-25T10:03:47.657Z"
   },
   {
    "duration": 4,
    "start_time": "2022-04-25T10:03:47.669Z"
   },
   {
    "duration": 3,
    "start_time": "2022-04-25T10:04:01.646Z"
   },
   {
    "duration": 3,
    "start_time": "2022-04-25T10:11:57.777Z"
   },
   {
    "duration": 21,
    "start_time": "2022-04-25T10:49:52.810Z"
   },
   {
    "duration": 20,
    "start_time": "2022-04-25T10:54:00.298Z"
   },
   {
    "duration": 474,
    "start_time": "2022-04-25T11:01:34.461Z"
   },
   {
    "duration": 14,
    "start_time": "2022-04-25T11:01:34.937Z"
   },
   {
    "duration": 11,
    "start_time": "2022-04-25T11:01:34.952Z"
   },
   {
    "duration": 26,
    "start_time": "2022-04-25T11:01:34.964Z"
   },
   {
    "duration": 18,
    "start_time": "2022-04-25T11:03:40.795Z"
   },
   {
    "duration": 6,
    "start_time": "2022-04-25T11:06:48.799Z"
   },
   {
    "duration": 6,
    "start_time": "2022-04-25T11:07:06.174Z"
   },
   {
    "duration": 22,
    "start_time": "2022-04-25T11:09:18.772Z"
   },
   {
    "duration": 5,
    "start_time": "2022-04-25T11:09:55.212Z"
   },
   {
    "duration": 20,
    "start_time": "2022-04-25T11:10:51.485Z"
   },
   {
    "duration": 7,
    "start_time": "2022-04-25T11:12:08.452Z"
   },
   {
    "duration": 8,
    "start_time": "2022-04-25T11:17:38.680Z"
   },
   {
    "duration": 539,
    "start_time": "2022-04-25T11:26:49.918Z"
   },
   {
    "duration": 16,
    "start_time": "2022-04-25T11:26:50.459Z"
   },
   {
    "duration": 42,
    "start_time": "2022-04-25T11:26:50.476Z"
   },
   {
    "duration": 45,
    "start_time": "2022-04-25T11:26:50.520Z"
   },
   {
    "duration": 15,
    "start_time": "2022-04-25T11:26:50.567Z"
   },
   {
    "duration": 49,
    "start_time": "2022-04-25T11:26:50.583Z"
   },
   {
    "duration": 137,
    "start_time": "2022-04-25T11:26:50.634Z"
   },
   {
    "duration": 0,
    "start_time": "2022-04-25T11:26:50.772Z"
   },
   {
    "duration": 11,
    "start_time": "2022-04-25T11:27:08.186Z"
   },
   {
    "duration": 503,
    "start_time": "2022-04-25T11:43:45.463Z"
   },
   {
    "duration": 15,
    "start_time": "2022-04-25T11:43:45.968Z"
   },
   {
    "duration": 9,
    "start_time": "2022-04-25T11:43:45.985Z"
   },
   {
    "duration": 23,
    "start_time": "2022-04-25T11:43:45.997Z"
   },
   {
    "duration": 6,
    "start_time": "2022-04-25T11:43:46.021Z"
   },
   {
    "duration": 32,
    "start_time": "2022-04-25T11:43:46.029Z"
   },
   {
    "duration": 10,
    "start_time": "2022-04-25T11:43:46.062Z"
   },
   {
    "duration": 66,
    "start_time": "2022-04-25T11:48:49.590Z"
   },
   {
    "duration": 6,
    "start_time": "2022-04-25T11:49:12.157Z"
   },
   {
    "duration": 9,
    "start_time": "2022-04-25T11:49:27.990Z"
   },
   {
    "duration": 212,
    "start_time": "2022-04-25T11:52:00.446Z"
   },
   {
    "duration": 198,
    "start_time": "2022-04-25T11:52:28.274Z"
   },
   {
    "duration": 189,
    "start_time": "2022-04-25T11:59:36.667Z"
   },
   {
    "duration": 448,
    "start_time": "2022-04-25T12:03:59.691Z"
   },
   {
    "duration": 23,
    "start_time": "2022-04-25T12:04:00.142Z"
   },
   {
    "duration": 54,
    "start_time": "2022-04-25T12:04:00.167Z"
   },
   {
    "duration": 41,
    "start_time": "2022-04-25T12:04:00.224Z"
   },
   {
    "duration": 7,
    "start_time": "2022-04-25T12:04:00.267Z"
   },
   {
    "duration": 36,
    "start_time": "2022-04-25T12:04:00.276Z"
   },
   {
    "duration": 39,
    "start_time": "2022-04-25T12:04:00.313Z"
   },
   {
    "duration": 27,
    "start_time": "2022-04-25T12:04:00.354Z"
   },
   {
    "duration": 242,
    "start_time": "2022-04-25T12:04:00.382Z"
   },
   {
    "duration": 509,
    "start_time": "2022-04-25T12:25:46.893Z"
   },
   {
    "duration": 15,
    "start_time": "2022-04-25T12:25:47.405Z"
   },
   {
    "duration": 10,
    "start_time": "2022-04-25T12:25:47.422Z"
   },
   {
    "duration": 36,
    "start_time": "2022-04-25T12:25:47.434Z"
   },
   {
    "duration": 15,
    "start_time": "2022-04-25T12:25:47.471Z"
   },
   {
    "duration": 9,
    "start_time": "2022-04-25T12:25:47.488Z"
   },
   {
    "duration": 14,
    "start_time": "2022-04-25T12:25:47.499Z"
   },
   {
    "duration": 9,
    "start_time": "2022-04-25T12:25:47.515Z"
   },
   {
    "duration": 382,
    "start_time": "2022-04-25T12:25:47.525Z"
   },
   {
    "duration": 12,
    "start_time": "2022-04-25T12:27:24.356Z"
   },
   {
    "duration": 490,
    "start_time": "2022-04-25T12:31:54.617Z"
   },
   {
    "duration": 14,
    "start_time": "2022-04-25T12:31:55.109Z"
   },
   {
    "duration": 9,
    "start_time": "2022-04-25T12:31:55.125Z"
   },
   {
    "duration": 30,
    "start_time": "2022-04-25T12:31:55.136Z"
   },
   {
    "duration": 5,
    "start_time": "2022-04-25T12:31:55.168Z"
   },
   {
    "duration": 9,
    "start_time": "2022-04-25T12:31:55.175Z"
   },
   {
    "duration": 11,
    "start_time": "2022-04-25T12:31:55.185Z"
   },
   {
    "duration": 9,
    "start_time": "2022-04-25T12:31:55.197Z"
   },
   {
    "duration": 228,
    "start_time": "2022-04-25T12:31:55.207Z"
   },
   {
    "duration": 16,
    "start_time": "2022-04-25T12:31:55.438Z"
   },
   {
    "duration": 2478,
    "start_time": "2022-04-25T12:40:49.596Z"
   },
   {
    "duration": 8,
    "start_time": "2022-04-25T12:41:05.237Z"
   },
   {
    "duration": 6,
    "start_time": "2022-04-25T12:43:11.828Z"
   },
   {
    "duration": 7,
    "start_time": "2022-04-25T12:44:18.038Z"
   },
   {
    "duration": 5,
    "start_time": "2022-04-25T12:44:53.346Z"
   },
   {
    "duration": 4,
    "start_time": "2022-04-25T13:56:09.114Z"
   },
   {
    "duration": 5,
    "start_time": "2022-04-25T13:56:35.507Z"
   },
   {
    "duration": 537,
    "start_time": "2022-04-25T13:59:45.440Z"
   },
   {
    "duration": 21,
    "start_time": "2022-04-25T13:59:45.979Z"
   },
   {
    "duration": 16,
    "start_time": "2022-04-25T13:59:46.002Z"
   },
   {
    "duration": 63,
    "start_time": "2022-04-25T13:59:46.020Z"
   },
   {
    "duration": 8,
    "start_time": "2022-04-25T13:59:46.085Z"
   },
   {
    "duration": 15,
    "start_time": "2022-04-25T13:59:46.094Z"
   },
   {
    "duration": 10,
    "start_time": "2022-04-25T13:59:46.111Z"
   },
   {
    "duration": 9,
    "start_time": "2022-04-25T13:59:46.123Z"
   },
   {
    "duration": 244,
    "start_time": "2022-04-25T13:59:46.134Z"
   },
   {
    "duration": 22,
    "start_time": "2022-04-25T13:59:46.381Z"
   },
   {
    "duration": 5,
    "start_time": "2022-04-25T13:59:46.405Z"
   },
   {
    "duration": 35,
    "start_time": "2022-04-25T13:59:46.412Z"
   },
   {
    "duration": 28,
    "start_time": "2022-04-25T13:59:46.448Z"
   },
   {
    "duration": 15,
    "start_time": "2022-04-25T14:06:06.848Z"
   },
   {
    "duration": 11,
    "start_time": "2022-04-25T14:06:51.303Z"
   },
   {
    "duration": 22,
    "start_time": "2022-04-25T14:13:50.302Z"
   },
   {
    "duration": 23,
    "start_time": "2022-04-25T14:15:39.488Z"
   },
   {
    "duration": 24,
    "start_time": "2022-04-25T14:15:52.083Z"
   },
   {
    "duration": 5,
    "start_time": "2022-04-25T14:23:46.466Z"
   },
   {
    "duration": 24,
    "start_time": "2022-04-25T14:30:21.626Z"
   },
   {
    "duration": 8,
    "start_time": "2022-04-25T14:30:43.407Z"
   },
   {
    "duration": 5,
    "start_time": "2022-04-25T14:31:59.961Z"
   },
   {
    "duration": 572,
    "start_time": "2022-04-25T14:33:06.081Z"
   },
   {
    "duration": 18,
    "start_time": "2022-04-25T14:33:06.656Z"
   },
   {
    "duration": 11,
    "start_time": "2022-04-25T14:33:06.677Z"
   },
   {
    "duration": 22,
    "start_time": "2022-04-25T14:33:06.691Z"
   },
   {
    "duration": 7,
    "start_time": "2022-04-25T14:33:06.714Z"
   },
   {
    "duration": 15,
    "start_time": "2022-04-25T14:33:06.755Z"
   },
   {
    "duration": 15,
    "start_time": "2022-04-25T14:33:06.773Z"
   },
   {
    "duration": 12,
    "start_time": "2022-04-25T14:33:06.790Z"
   },
   {
    "duration": 236,
    "start_time": "2022-04-25T14:33:06.803Z"
   },
   {
    "duration": 17,
    "start_time": "2022-04-25T14:33:07.041Z"
   },
   {
    "duration": 8,
    "start_time": "2022-04-25T14:33:07.060Z"
   },
   {
    "duration": 7,
    "start_time": "2022-04-25T14:33:07.070Z"
   },
   {
    "duration": 10,
    "start_time": "2022-04-25T14:33:07.078Z"
   },
   {
    "duration": 7,
    "start_time": "2022-04-25T14:33:07.090Z"
   },
   {
    "duration": 14,
    "start_time": "2022-04-25T14:33:07.099Z"
   },
   {
    "duration": 87,
    "start_time": "2022-04-25T14:33:07.115Z"
   },
   {
    "duration": 9,
    "start_time": "2022-04-25T14:33:36.489Z"
   },
   {
    "duration": 534,
    "start_time": "2022-04-25T14:34:08.013Z"
   },
   {
    "duration": 18,
    "start_time": "2022-04-25T14:34:08.549Z"
   },
   {
    "duration": 11,
    "start_time": "2022-04-25T14:34:08.569Z"
   },
   {
    "duration": 22,
    "start_time": "2022-04-25T14:34:08.582Z"
   },
   {
    "duration": 5,
    "start_time": "2022-04-25T14:34:08.605Z"
   },
   {
    "duration": 89,
    "start_time": "2022-04-25T14:34:08.612Z"
   },
   {
    "duration": 10,
    "start_time": "2022-04-25T14:34:08.703Z"
   },
   {
    "duration": 11,
    "start_time": "2022-04-25T14:34:08.715Z"
   },
   {
    "duration": 220,
    "start_time": "2022-04-25T14:34:08.728Z"
   },
   {
    "duration": 10,
    "start_time": "2022-04-25T14:34:08.950Z"
   },
   {
    "duration": 7,
    "start_time": "2022-04-25T14:34:08.962Z"
   },
   {
    "duration": 12,
    "start_time": "2022-04-25T14:34:08.970Z"
   },
   {
    "duration": 11,
    "start_time": "2022-04-25T14:34:08.984Z"
   },
   {
    "duration": 10,
    "start_time": "2022-04-25T14:34:08.997Z"
   },
   {
    "duration": 16,
    "start_time": "2022-04-25T14:34:09.009Z"
   },
   {
    "duration": 11,
    "start_time": "2022-04-25T14:34:09.027Z"
   },
   {
    "duration": 218,
    "start_time": "2022-04-25T14:36:27.743Z"
   },
   {
    "duration": 12,
    "start_time": "2022-04-25T14:37:20.335Z"
   },
   {
    "duration": 211,
    "start_time": "2022-04-25T14:37:41.176Z"
   },
   {
    "duration": 12,
    "start_time": "2022-04-25T14:37:44.203Z"
   },
   {
    "duration": 518,
    "start_time": "2022-04-25T14:37:54.022Z"
   },
   {
    "duration": 23,
    "start_time": "2022-04-25T14:37:54.542Z"
   },
   {
    "duration": 15,
    "start_time": "2022-04-25T14:37:54.568Z"
   },
   {
    "duration": 32,
    "start_time": "2022-04-25T14:37:54.585Z"
   },
   {
    "duration": 7,
    "start_time": "2022-04-25T14:37:54.619Z"
   },
   {
    "duration": 29,
    "start_time": "2022-04-25T14:37:54.628Z"
   },
   {
    "duration": 11,
    "start_time": "2022-04-25T14:37:54.659Z"
   },
   {
    "duration": 8,
    "start_time": "2022-04-25T14:37:54.672Z"
   },
   {
    "duration": 225,
    "start_time": "2022-04-25T14:37:54.682Z"
   },
   {
    "duration": 10,
    "start_time": "2022-04-25T14:37:54.909Z"
   },
   {
    "duration": 6,
    "start_time": "2022-04-25T14:37:54.921Z"
   },
   {
    "duration": 5,
    "start_time": "2022-04-25T14:37:54.928Z"
   },
   {
    "duration": 5,
    "start_time": "2022-04-25T14:37:54.954Z"
   },
   {
    "duration": 6,
    "start_time": "2022-04-25T14:37:54.960Z"
   },
   {
    "duration": 11,
    "start_time": "2022-04-25T14:37:54.967Z"
   },
   {
    "duration": 8,
    "start_time": "2022-04-25T14:37:54.979Z"
   },
   {
    "duration": 237,
    "start_time": "2022-04-25T14:37:54.988Z"
   },
   {
    "duration": 11,
    "start_time": "2022-04-25T14:37:55.227Z"
   },
   {
    "duration": 505,
    "start_time": "2022-04-25T14:52:37.120Z"
   },
   {
    "duration": 15,
    "start_time": "2022-04-25T14:52:37.627Z"
   },
   {
    "duration": 19,
    "start_time": "2022-04-25T14:52:37.644Z"
   },
   {
    "duration": 25,
    "start_time": "2022-04-25T14:52:37.666Z"
   },
   {
    "duration": 7,
    "start_time": "2022-04-25T14:52:37.694Z"
   },
   {
    "duration": 23,
    "start_time": "2022-04-25T14:52:37.703Z"
   },
   {
    "duration": 37,
    "start_time": "2022-04-25T14:52:37.728Z"
   },
   {
    "duration": 33,
    "start_time": "2022-04-25T14:52:37.768Z"
   },
   {
    "duration": 266,
    "start_time": "2022-04-25T14:52:37.803Z"
   },
   {
    "duration": 12,
    "start_time": "2022-04-25T14:52:38.073Z"
   },
   {
    "duration": 50,
    "start_time": "2022-04-25T14:52:38.087Z"
   },
   {
    "duration": 59,
    "start_time": "2022-04-25T14:52:38.139Z"
   },
   {
    "duration": 34,
    "start_time": "2022-04-25T14:52:38.200Z"
   },
   {
    "duration": 40,
    "start_time": "2022-04-25T14:52:38.236Z"
   },
   {
    "duration": 47,
    "start_time": "2022-04-25T14:52:38.278Z"
   },
   {
    "duration": 32,
    "start_time": "2022-04-25T14:52:38.327Z"
   },
   {
    "duration": 265,
    "start_time": "2022-04-25T14:52:38.361Z"
   },
   {
    "duration": 11,
    "start_time": "2022-04-25T14:52:38.628Z"
   },
   {
    "duration": 34,
    "start_time": "2022-04-25T14:52:38.641Z"
   },
   {
    "duration": 16,
    "start_time": "2022-04-25T14:53:24.417Z"
   },
   {
    "duration": 21,
    "start_time": "2022-04-25T14:53:44.659Z"
   },
   {
    "duration": 16,
    "start_time": "2022-04-25T14:54:38.914Z"
   },
   {
    "duration": 17,
    "start_time": "2022-04-25T14:55:37.081Z"
   },
   {
    "duration": 16,
    "start_time": "2022-04-25T14:58:56.836Z"
   },
   {
    "duration": 75,
    "start_time": "2022-04-25T14:59:46.197Z"
   },
   {
    "duration": 6,
    "start_time": "2022-04-25T15:03:39.098Z"
   },
   {
    "duration": 26,
    "start_time": "2022-04-25T15:05:18.438Z"
   },
   {
    "duration": 7,
    "start_time": "2022-04-25T15:09:21.683Z"
   },
   {
    "duration": 8,
    "start_time": "2022-04-25T15:09:55.031Z"
   },
   {
    "duration": 7,
    "start_time": "2022-04-25T15:10:24.108Z"
   },
   {
    "duration": 16,
    "start_time": "2022-04-25T15:11:01.057Z"
   },
   {
    "duration": 12,
    "start_time": "2022-04-25T15:11:28.411Z"
   },
   {
    "duration": 11,
    "start_time": "2022-04-25T15:15:34.187Z"
   },
   {
    "duration": 9,
    "start_time": "2022-04-25T15:15:46.136Z"
   },
   {
    "duration": 29,
    "start_time": "2022-04-25T15:20:53.364Z"
   },
   {
    "duration": 19,
    "start_time": "2022-04-25T15:21:17.226Z"
   },
   {
    "duration": 516,
    "start_time": "2022-04-25T15:22:17.763Z"
   },
   {
    "duration": 16,
    "start_time": "2022-04-25T15:22:18.281Z"
   },
   {
    "duration": 10,
    "start_time": "2022-04-25T15:22:18.298Z"
   },
   {
    "duration": 20,
    "start_time": "2022-04-25T15:22:18.310Z"
   },
   {
    "duration": 28,
    "start_time": "2022-04-25T15:22:18.332Z"
   },
   {
    "duration": 9,
    "start_time": "2022-04-25T15:22:18.362Z"
   },
   {
    "duration": 8,
    "start_time": "2022-04-25T15:22:18.373Z"
   },
   {
    "duration": 8,
    "start_time": "2022-04-25T15:22:18.382Z"
   },
   {
    "duration": 237,
    "start_time": "2022-04-25T15:22:18.391Z"
   },
   {
    "duration": 11,
    "start_time": "2022-04-25T15:22:18.630Z"
   },
   {
    "duration": 13,
    "start_time": "2022-04-25T15:22:18.642Z"
   },
   {
    "duration": 7,
    "start_time": "2022-04-25T15:22:18.657Z"
   },
   {
    "duration": 7,
    "start_time": "2022-04-25T15:22:18.666Z"
   },
   {
    "duration": 9,
    "start_time": "2022-04-25T15:22:18.675Z"
   },
   {
    "duration": 8,
    "start_time": "2022-04-25T15:22:18.686Z"
   },
   {
    "duration": 8,
    "start_time": "2022-04-25T15:22:18.696Z"
   },
   {
    "duration": 231,
    "start_time": "2022-04-25T15:22:18.706Z"
   },
   {
    "duration": 16,
    "start_time": "2022-04-25T15:22:18.939Z"
   },
   {
    "duration": 17,
    "start_time": "2022-04-25T15:22:18.957Z"
   },
   {
    "duration": 17,
    "start_time": "2022-04-25T15:22:18.976Z"
   },
   {
    "duration": 30,
    "start_time": "2022-04-25T15:22:18.995Z"
   },
   {
    "duration": 43,
    "start_time": "2022-04-25T15:22:19.027Z"
   },
   {
    "duration": 3,
    "start_time": "2022-04-25T15:22:19.072Z"
   },
   {
    "duration": 7,
    "start_time": "2022-04-25T15:22:19.077Z"
   },
   {
    "duration": 9,
    "start_time": "2022-04-25T15:22:19.086Z"
   },
   {
    "duration": 10,
    "start_time": "2022-04-25T15:22:19.097Z"
   },
   {
    "duration": 4,
    "start_time": "2022-04-25T15:22:19.109Z"
   },
   {
    "duration": 6,
    "start_time": "2022-04-25T15:22:19.116Z"
   },
   {
    "duration": 20,
    "start_time": "2022-04-25T15:22:43.248Z"
   },
   {
    "duration": 18,
    "start_time": "2022-04-25T15:22:47.146Z"
   },
   {
    "duration": 458,
    "start_time": "2022-04-25T15:24:14.399Z"
   },
   {
    "duration": 16,
    "start_time": "2022-04-25T15:24:14.859Z"
   },
   {
    "duration": 11,
    "start_time": "2022-04-25T15:24:14.876Z"
   },
   {
    "duration": 18,
    "start_time": "2022-04-25T15:24:14.889Z"
   },
   {
    "duration": 5,
    "start_time": "2022-04-25T15:24:14.908Z"
   },
   {
    "duration": 45,
    "start_time": "2022-04-25T15:24:14.915Z"
   },
   {
    "duration": 9,
    "start_time": "2022-04-25T15:24:14.962Z"
   },
   {
    "duration": 9,
    "start_time": "2022-04-25T15:24:14.973Z"
   },
   {
    "duration": 245,
    "start_time": "2022-04-25T15:24:14.983Z"
   },
   {
    "duration": 10,
    "start_time": "2022-04-25T15:24:15.232Z"
   },
   {
    "duration": 14,
    "start_time": "2022-04-25T15:24:15.243Z"
   },
   {
    "duration": 5,
    "start_time": "2022-04-25T15:24:15.258Z"
   },
   {
    "duration": 8,
    "start_time": "2022-04-25T15:24:15.264Z"
   },
   {
    "duration": 8,
    "start_time": "2022-04-25T15:24:15.273Z"
   },
   {
    "duration": 11,
    "start_time": "2022-04-25T15:24:15.283Z"
   },
   {
    "duration": 10,
    "start_time": "2022-04-25T15:24:15.296Z"
   },
   {
    "duration": 246,
    "start_time": "2022-04-25T15:24:15.308Z"
   },
   {
    "duration": 12,
    "start_time": "2022-04-25T15:24:15.556Z"
   },
   {
    "duration": 18,
    "start_time": "2022-04-25T15:24:15.570Z"
   },
   {
    "duration": 16,
    "start_time": "2022-04-25T15:24:15.590Z"
   },
   {
    "duration": 47,
    "start_time": "2022-04-25T15:24:15.608Z"
   },
   {
    "duration": 18,
    "start_time": "2022-04-25T15:24:15.657Z"
   },
   {
    "duration": 8,
    "start_time": "2022-04-25T15:24:15.677Z"
   },
   {
    "duration": 11,
    "start_time": "2022-04-25T15:24:15.686Z"
   },
   {
    "duration": 13,
    "start_time": "2022-04-25T15:24:15.699Z"
   },
   {
    "duration": 9,
    "start_time": "2022-04-25T15:24:15.713Z"
   },
   {
    "duration": 30,
    "start_time": "2022-04-25T15:24:15.724Z"
   },
   {
    "duration": 3,
    "start_time": "2022-04-25T15:24:15.758Z"
   },
   {
    "duration": 66,
    "start_time": "2022-04-25T15:26:19.167Z"
   },
   {
    "duration": 8,
    "start_time": "2022-04-25T15:27:38.893Z"
   },
   {
    "duration": 12,
    "start_time": "2022-04-25T15:28:09.064Z"
   },
   {
    "duration": 8,
    "start_time": "2022-04-25T15:29:02.956Z"
   },
   {
    "duration": 459,
    "start_time": "2022-04-25T15:35:48.784Z"
   },
   {
    "duration": 18,
    "start_time": "2022-04-25T15:35:49.245Z"
   },
   {
    "duration": 10,
    "start_time": "2022-04-25T15:35:49.264Z"
   },
   {
    "duration": 21,
    "start_time": "2022-04-25T15:35:49.275Z"
   },
   {
    "duration": 5,
    "start_time": "2022-04-25T15:35:49.298Z"
   },
   {
    "duration": 10,
    "start_time": "2022-04-25T15:35:49.304Z"
   },
   {
    "duration": 9,
    "start_time": "2022-04-25T15:35:49.315Z"
   },
   {
    "duration": 35,
    "start_time": "2022-04-25T15:35:49.326Z"
   },
   {
    "duration": 217,
    "start_time": "2022-04-25T15:35:49.363Z"
   },
   {
    "duration": 11,
    "start_time": "2022-04-25T15:35:49.581Z"
   },
   {
    "duration": 6,
    "start_time": "2022-04-25T15:35:49.593Z"
   },
   {
    "duration": 5,
    "start_time": "2022-04-25T15:35:49.600Z"
   },
   {
    "duration": 6,
    "start_time": "2022-04-25T15:35:49.607Z"
   },
   {
    "duration": 5,
    "start_time": "2022-04-25T15:35:49.616Z"
   },
   {
    "duration": 34,
    "start_time": "2022-04-25T15:35:49.623Z"
   },
   {
    "duration": 17,
    "start_time": "2022-04-25T15:35:49.659Z"
   },
   {
    "duration": 211,
    "start_time": "2022-04-25T15:35:49.678Z"
   },
   {
    "duration": 11,
    "start_time": "2022-04-25T15:35:49.891Z"
   },
   {
    "duration": 16,
    "start_time": "2022-04-25T15:35:49.904Z"
   },
   {
    "duration": 37,
    "start_time": "2022-04-25T15:35:49.922Z"
   },
   {
    "duration": 19,
    "start_time": "2022-04-25T15:35:49.961Z"
   },
   {
    "duration": 16,
    "start_time": "2022-04-25T15:35:49.981Z"
   },
   {
    "duration": 6,
    "start_time": "2022-04-25T15:35:49.999Z"
   },
   {
    "duration": 13,
    "start_time": "2022-04-25T15:35:50.007Z"
   },
   {
    "duration": 34,
    "start_time": "2022-04-25T15:35:50.022Z"
   },
   {
    "duration": 8,
    "start_time": "2022-04-25T15:35:50.057Z"
   },
   {
    "duration": 8,
    "start_time": "2022-04-25T15:35:50.067Z"
   },
   {
    "duration": 14,
    "start_time": "2022-04-25T15:35:50.077Z"
   },
   {
    "duration": 17,
    "start_time": "2022-04-25T15:35:50.092Z"
   },
   {
    "duration": 5,
    "start_time": "2022-04-25T15:40:38.883Z"
   },
   {
    "duration": 11,
    "start_time": "2022-04-25T15:40:53.702Z"
   },
   {
    "duration": 11,
    "start_time": "2022-04-25T15:43:31.883Z"
   },
   {
    "duration": 14,
    "start_time": "2022-04-25T15:46:26.575Z"
   },
   {
    "duration": 11,
    "start_time": "2022-04-25T15:46:58.261Z"
   },
   {
    "duration": 8,
    "start_time": "2022-04-25T15:47:18.567Z"
   },
   {
    "duration": 507,
    "start_time": "2022-04-25T15:48:47.947Z"
   },
   {
    "duration": 15,
    "start_time": "2022-04-25T15:48:48.456Z"
   },
   {
    "duration": 9,
    "start_time": "2022-04-25T15:48:48.473Z"
   },
   {
    "duration": 32,
    "start_time": "2022-04-25T15:48:48.484Z"
   },
   {
    "duration": 6,
    "start_time": "2022-04-25T15:48:48.517Z"
   },
   {
    "duration": 20,
    "start_time": "2022-04-25T15:48:48.525Z"
   },
   {
    "duration": 28,
    "start_time": "2022-04-25T15:48:48.547Z"
   },
   {
    "duration": 21,
    "start_time": "2022-04-25T15:48:48.577Z"
   },
   {
    "duration": 232,
    "start_time": "2022-04-25T15:48:48.600Z"
   },
   {
    "duration": 10,
    "start_time": "2022-04-25T15:48:48.835Z"
   },
   {
    "duration": 23,
    "start_time": "2022-04-25T15:48:48.846Z"
   },
   {
    "duration": 17,
    "start_time": "2022-04-25T15:48:48.872Z"
   },
   {
    "duration": 21,
    "start_time": "2022-04-25T15:48:48.891Z"
   },
   {
    "duration": 12,
    "start_time": "2022-04-25T15:48:48.913Z"
   },
   {
    "duration": 28,
    "start_time": "2022-04-25T15:48:48.926Z"
   },
   {
    "duration": 26,
    "start_time": "2022-04-25T15:48:48.956Z"
   },
   {
    "duration": 222,
    "start_time": "2022-04-25T15:48:48.984Z"
   },
   {
    "duration": 9,
    "start_time": "2022-04-25T15:48:49.208Z"
   },
   {
    "duration": 28,
    "start_time": "2022-04-25T15:48:49.219Z"
   },
   {
    "duration": 25,
    "start_time": "2022-04-25T15:48:49.249Z"
   },
   {
    "duration": 28,
    "start_time": "2022-04-25T15:48:49.276Z"
   },
   {
    "duration": 17,
    "start_time": "2022-04-25T15:48:49.306Z"
   },
   {
    "duration": 10,
    "start_time": "2022-04-25T15:48:49.324Z"
   },
   {
    "duration": 28,
    "start_time": "2022-04-25T15:48:49.335Z"
   },
   {
    "duration": 20,
    "start_time": "2022-04-25T15:48:49.365Z"
   },
   {
    "duration": 27,
    "start_time": "2022-04-25T15:48:49.386Z"
   },
   {
    "duration": 25,
    "start_time": "2022-04-25T15:48:49.415Z"
   },
   {
    "duration": 25,
    "start_time": "2022-04-25T15:48:49.444Z"
   },
   {
    "duration": 27,
    "start_time": "2022-04-25T15:48:49.471Z"
   },
   {
    "duration": 32,
    "start_time": "2022-04-25T15:48:49.499Z"
   },
   {
    "duration": 24,
    "start_time": "2022-04-25T15:48:49.534Z"
   },
   {
    "duration": 27,
    "start_time": "2022-04-25T15:48:49.560Z"
   },
   {
    "duration": 10,
    "start_time": "2022-04-25T15:49:38.522Z"
   },
   {
    "duration": 460,
    "start_time": "2022-04-25T15:49:50.702Z"
   },
   {
    "duration": 16,
    "start_time": "2022-04-25T15:49:51.164Z"
   },
   {
    "duration": 11,
    "start_time": "2022-04-25T15:49:51.183Z"
   },
   {
    "duration": 42,
    "start_time": "2022-04-25T15:49:51.196Z"
   },
   {
    "duration": 17,
    "start_time": "2022-04-25T15:49:51.240Z"
   },
   {
    "duration": 13,
    "start_time": "2022-04-25T15:49:51.259Z"
   },
   {
    "duration": 14,
    "start_time": "2022-04-25T15:49:51.274Z"
   },
   {
    "duration": 34,
    "start_time": "2022-04-25T15:49:51.290Z"
   },
   {
    "duration": 222,
    "start_time": "2022-04-25T15:49:51.326Z"
   },
   {
    "duration": 11,
    "start_time": "2022-04-25T15:49:51.552Z"
   },
   {
    "duration": 18,
    "start_time": "2022-04-25T15:49:51.565Z"
   },
   {
    "duration": 3,
    "start_time": "2022-04-25T15:49:51.585Z"
   },
   {
    "duration": 16,
    "start_time": "2022-04-25T15:49:51.590Z"
   },
   {
    "duration": 16,
    "start_time": "2022-04-25T15:49:51.607Z"
   },
   {
    "duration": 9,
    "start_time": "2022-04-25T15:49:51.625Z"
   },
   {
    "duration": 9,
    "start_time": "2022-04-25T15:49:51.635Z"
   },
   {
    "duration": 211,
    "start_time": "2022-04-25T15:49:51.646Z"
   },
   {
    "duration": 10,
    "start_time": "2022-04-25T15:49:51.859Z"
   },
   {
    "duration": 22,
    "start_time": "2022-04-25T15:49:51.871Z"
   },
   {
    "duration": 16,
    "start_time": "2022-04-25T15:49:51.895Z"
   },
   {
    "duration": 43,
    "start_time": "2022-04-25T15:49:51.912Z"
   },
   {
    "duration": 18,
    "start_time": "2022-04-25T15:49:51.956Z"
   },
   {
    "duration": 7,
    "start_time": "2022-04-25T15:49:51.976Z"
   },
   {
    "duration": 11,
    "start_time": "2022-04-25T15:49:51.984Z"
   },
   {
    "duration": 10,
    "start_time": "2022-04-25T15:49:51.997Z"
   },
   {
    "duration": 11,
    "start_time": "2022-04-25T15:49:52.009Z"
   },
   {
    "duration": 35,
    "start_time": "2022-04-25T15:49:52.021Z"
   },
   {
    "duration": 12,
    "start_time": "2022-04-25T15:49:52.059Z"
   },
   {
    "duration": 11,
    "start_time": "2022-04-25T15:49:52.072Z"
   },
   {
    "duration": 18,
    "start_time": "2022-04-25T15:49:52.085Z"
   },
   {
    "duration": 15,
    "start_time": "2022-04-25T15:49:52.105Z"
   },
   {
    "duration": 29,
    "start_time": "2022-04-25T15:49:52.122Z"
   },
   {
    "duration": 9,
    "start_time": "2022-04-25T15:49:52.155Z"
   },
   {
    "duration": 140,
    "start_time": "2022-04-25T16:45:26.658Z"
   },
   {
    "duration": 68,
    "start_time": "2022-04-25T16:45:40.307Z"
   },
   {
    "duration": 501,
    "start_time": "2022-04-25T16:45:52.946Z"
   },
   {
    "duration": 16,
    "start_time": "2022-04-25T16:45:53.449Z"
   },
   {
    "duration": 13,
    "start_time": "2022-04-25T16:45:53.466Z"
   },
   {
    "duration": 19,
    "start_time": "2022-04-25T16:45:53.480Z"
   },
   {
    "duration": 5,
    "start_time": "2022-04-25T16:45:53.501Z"
   },
   {
    "duration": 9,
    "start_time": "2022-04-25T16:45:53.508Z"
   },
   {
    "duration": 8,
    "start_time": "2022-04-25T16:45:53.518Z"
   },
   {
    "duration": 9,
    "start_time": "2022-04-25T16:45:53.554Z"
   },
   {
    "duration": 225,
    "start_time": "2022-04-25T16:45:53.565Z"
   },
   {
    "duration": 10,
    "start_time": "2022-04-25T16:45:53.792Z"
   },
   {
    "duration": 12,
    "start_time": "2022-04-25T16:45:53.803Z"
   },
   {
    "duration": 16,
    "start_time": "2022-04-25T16:45:53.816Z"
   },
   {
    "duration": 5,
    "start_time": "2022-04-25T16:45:53.834Z"
   },
   {
    "duration": 4,
    "start_time": "2022-04-25T16:45:53.842Z"
   },
   {
    "duration": 12,
    "start_time": "2022-04-25T16:45:53.847Z"
   },
   {
    "duration": 8,
    "start_time": "2022-04-25T16:45:53.860Z"
   },
   {
    "duration": 220,
    "start_time": "2022-04-25T16:45:53.870Z"
   },
   {
    "duration": 11,
    "start_time": "2022-04-25T16:45:54.092Z"
   },
   {
    "duration": 23,
    "start_time": "2022-04-25T16:45:54.104Z"
   },
   {
    "duration": 36,
    "start_time": "2022-04-25T16:45:54.129Z"
   },
   {
    "duration": 18,
    "start_time": "2022-04-25T16:45:54.167Z"
   },
   {
    "duration": 16,
    "start_time": "2022-04-25T16:45:54.187Z"
   },
   {
    "duration": 7,
    "start_time": "2022-04-25T16:45:54.205Z"
   },
   {
    "duration": 10,
    "start_time": "2022-04-25T16:45:54.214Z"
   },
   {
    "duration": 33,
    "start_time": "2022-04-25T16:45:54.226Z"
   },
   {
    "duration": 10,
    "start_time": "2022-04-25T16:45:54.261Z"
   },
   {
    "duration": 9,
    "start_time": "2022-04-25T16:45:54.272Z"
   },
   {
    "duration": 13,
    "start_time": "2022-04-25T16:45:54.283Z"
   },
   {
    "duration": 8,
    "start_time": "2022-04-25T16:45:54.297Z"
   },
   {
    "duration": 11,
    "start_time": "2022-04-25T16:45:54.306Z"
   },
   {
    "duration": 11,
    "start_time": "2022-04-25T16:45:54.318Z"
   },
   {
    "duration": 31,
    "start_time": "2022-04-25T16:45:54.330Z"
   },
   {
    "duration": 11,
    "start_time": "2022-04-25T16:45:54.363Z"
   },
   {
    "duration": 67,
    "start_time": "2022-04-25T16:45:54.375Z"
   },
   {
    "duration": 10,
    "start_time": "2022-04-25T16:51:58.655Z"
   },
   {
    "duration": 22,
    "start_time": "2022-04-25T16:53:01.997Z"
   },
   {
    "duration": 7,
    "start_time": "2022-04-25T16:54:34.965Z"
   },
   {
    "duration": 9,
    "start_time": "2022-04-25T16:54:46.310Z"
   },
   {
    "duration": 8,
    "start_time": "2022-04-25T16:59:34.913Z"
   },
   {
    "duration": 5,
    "start_time": "2022-04-25T16:59:52.303Z"
   },
   {
    "duration": 8,
    "start_time": "2022-04-25T16:59:56.048Z"
   },
   {
    "duration": 7,
    "start_time": "2022-04-25T17:01:57.960Z"
   },
   {
    "duration": 441,
    "start_time": "2022-04-25T17:02:04.193Z"
   },
   {
    "duration": 19,
    "start_time": "2022-04-25T17:02:04.637Z"
   },
   {
    "duration": 9,
    "start_time": "2022-04-25T17:02:04.658Z"
   },
   {
    "duration": 19,
    "start_time": "2022-04-25T17:02:04.669Z"
   },
   {
    "duration": 5,
    "start_time": "2022-04-25T17:02:04.690Z"
   },
   {
    "duration": 7,
    "start_time": "2022-04-25T17:02:04.696Z"
   },
   {
    "duration": 9,
    "start_time": "2022-04-25T17:02:04.705Z"
   },
   {
    "duration": 9,
    "start_time": "2022-04-25T17:02:04.716Z"
   },
   {
    "duration": 211,
    "start_time": "2022-04-25T17:02:04.754Z"
   },
   {
    "duration": 10,
    "start_time": "2022-04-25T17:02:04.967Z"
   },
   {
    "duration": 8,
    "start_time": "2022-04-25T17:02:04.979Z"
   },
   {
    "duration": 5,
    "start_time": "2022-04-25T17:02:04.988Z"
   },
   {
    "duration": 6,
    "start_time": "2022-04-25T17:02:04.994Z"
   },
   {
    "duration": 4,
    "start_time": "2022-04-25T17:02:05.002Z"
   },
   {
    "duration": 8,
    "start_time": "2022-04-25T17:02:05.008Z"
   },
   {
    "duration": 37,
    "start_time": "2022-04-25T17:02:05.018Z"
   },
   {
    "duration": 214,
    "start_time": "2022-04-25T17:02:05.058Z"
   },
   {
    "duration": 10,
    "start_time": "2022-04-25T17:02:05.273Z"
   },
   {
    "duration": 17,
    "start_time": "2022-04-25T17:02:05.284Z"
   },
   {
    "duration": 15,
    "start_time": "2022-04-25T17:02:05.303Z"
   },
   {
    "duration": 38,
    "start_time": "2022-04-25T17:02:05.320Z"
   },
   {
    "duration": 16,
    "start_time": "2022-04-25T17:02:05.359Z"
   },
   {
    "duration": 6,
    "start_time": "2022-04-25T17:02:05.377Z"
   },
   {
    "duration": 11,
    "start_time": "2022-04-25T17:02:05.385Z"
   },
   {
    "duration": 9,
    "start_time": "2022-04-25T17:02:05.397Z"
   },
   {
    "duration": 12,
    "start_time": "2022-04-25T17:02:05.407Z"
   },
   {
    "duration": 12,
    "start_time": "2022-04-25T17:02:05.420Z"
   },
   {
    "duration": 11,
    "start_time": "2022-04-25T17:02:05.454Z"
   },
   {
    "duration": 19,
    "start_time": "2022-04-25T17:02:05.467Z"
   },
   {
    "duration": 22,
    "start_time": "2022-04-25T17:02:05.488Z"
   },
   {
    "duration": 20,
    "start_time": "2022-04-25T17:02:05.512Z"
   },
   {
    "duration": 16,
    "start_time": "2022-04-25T17:02:05.534Z"
   },
   {
    "duration": 9,
    "start_time": "2022-04-25T17:02:05.551Z"
   },
   {
    "duration": 68,
    "start_time": "2022-04-25T17:02:05.562Z"
   },
   {
    "duration": 7,
    "start_time": "2022-04-25T17:16:07.612Z"
   },
   {
    "duration": 8,
    "start_time": "2022-04-25T17:16:34.543Z"
   },
   {
    "duration": 4,
    "start_time": "2022-04-25T17:16:41.299Z"
   },
   {
    "duration": 10,
    "start_time": "2022-04-25T17:16:44.891Z"
   },
   {
    "duration": 18,
    "start_time": "2022-04-25T17:17:46.110Z"
   },
   {
    "duration": 8,
    "start_time": "2022-04-25T17:20:47.075Z"
   },
   {
    "duration": 8,
    "start_time": "2022-04-25T17:20:50.872Z"
   },
   {
    "duration": 7,
    "start_time": "2022-04-25T17:21:07.978Z"
   },
   {
    "duration": 8,
    "start_time": "2022-04-25T17:21:11.142Z"
   },
   {
    "duration": 491,
    "start_time": "2022-04-25T17:21:38.404Z"
   },
   {
    "duration": 16,
    "start_time": "2022-04-25T17:21:38.897Z"
   },
   {
    "duration": 16,
    "start_time": "2022-04-25T17:21:38.914Z"
   },
   {
    "duration": 30,
    "start_time": "2022-04-25T17:21:38.932Z"
   },
   {
    "duration": 5,
    "start_time": "2022-04-25T17:21:38.964Z"
   },
   {
    "duration": 10,
    "start_time": "2022-04-25T17:21:38.972Z"
   },
   {
    "duration": 15,
    "start_time": "2022-04-25T17:21:38.984Z"
   },
   {
    "duration": 22,
    "start_time": "2022-04-25T17:21:39.002Z"
   },
   {
    "duration": 232,
    "start_time": "2022-04-25T17:21:39.026Z"
   },
   {
    "duration": 11,
    "start_time": "2022-04-25T17:21:39.260Z"
   },
   {
    "duration": 17,
    "start_time": "2022-04-25T17:21:39.273Z"
   },
   {
    "duration": 14,
    "start_time": "2022-04-25T17:21:39.292Z"
   },
   {
    "duration": 19,
    "start_time": "2022-04-25T17:21:39.307Z"
   },
   {
    "duration": 19,
    "start_time": "2022-04-25T17:21:39.327Z"
   },
   {
    "duration": 16,
    "start_time": "2022-04-25T17:21:39.348Z"
   },
   {
    "duration": 19,
    "start_time": "2022-04-25T17:21:39.365Z"
   },
   {
    "duration": 232,
    "start_time": "2022-04-25T17:21:39.385Z"
   },
   {
    "duration": 12,
    "start_time": "2022-04-25T17:21:39.619Z"
   },
   {
    "duration": 26,
    "start_time": "2022-04-25T17:21:39.633Z"
   },
   {
    "duration": 18,
    "start_time": "2022-04-25T17:21:39.661Z"
   },
   {
    "duration": 19,
    "start_time": "2022-04-25T17:21:39.681Z"
   },
   {
    "duration": 25,
    "start_time": "2022-04-25T17:21:39.702Z"
   },
   {
    "duration": 9,
    "start_time": "2022-04-25T17:21:39.754Z"
   },
   {
    "duration": 14,
    "start_time": "2022-04-25T17:21:39.765Z"
   },
   {
    "duration": 12,
    "start_time": "2022-04-25T17:21:39.781Z"
   },
   {
    "duration": 10,
    "start_time": "2022-04-25T17:21:39.795Z"
   },
   {
    "duration": 13,
    "start_time": "2022-04-25T17:21:39.807Z"
   },
   {
    "duration": 41,
    "start_time": "2022-04-25T17:21:39.825Z"
   },
   {
    "duration": 10,
    "start_time": "2022-04-25T17:21:39.868Z"
   },
   {
    "duration": 12,
    "start_time": "2022-04-25T17:21:39.880Z"
   },
   {
    "duration": 14,
    "start_time": "2022-04-25T17:21:39.894Z"
   },
   {
    "duration": 13,
    "start_time": "2022-04-25T17:21:39.910Z"
   },
   {
    "duration": 30,
    "start_time": "2022-04-25T17:21:39.924Z"
   },
   {
    "duration": 17,
    "start_time": "2022-04-25T17:21:39.956Z"
   },
   {
    "duration": 6,
    "start_time": "2022-04-25T17:21:39.975Z"
   },
   {
    "duration": 12,
    "start_time": "2022-04-25T17:21:39.982Z"
   },
   {
    "duration": 19,
    "start_time": "2022-04-25T17:21:39.995Z"
   },
   {
    "duration": 69,
    "start_time": "2022-04-25T17:23:03.102Z"
   },
   {
    "duration": 461,
    "start_time": "2022-04-25T17:24:16.087Z"
   },
   {
    "duration": 16,
    "start_time": "2022-04-25T17:24:16.551Z"
   },
   {
    "duration": 11,
    "start_time": "2022-04-25T17:24:16.568Z"
   },
   {
    "duration": 18,
    "start_time": "2022-04-25T17:24:16.582Z"
   },
   {
    "duration": 6,
    "start_time": "2022-04-25T17:24:16.602Z"
   },
   {
    "duration": 8,
    "start_time": "2022-04-25T17:24:16.610Z"
   },
   {
    "duration": 40,
    "start_time": "2022-04-25T17:24:16.620Z"
   },
   {
    "duration": 9,
    "start_time": "2022-04-25T17:24:16.662Z"
   },
   {
    "duration": 237,
    "start_time": "2022-04-25T17:24:16.673Z"
   },
   {
    "duration": 11,
    "start_time": "2022-04-25T17:24:16.913Z"
   },
   {
    "duration": 4,
    "start_time": "2022-04-25T17:24:16.926Z"
   },
   {
    "duration": 22,
    "start_time": "2022-04-25T17:24:16.932Z"
   },
   {
    "duration": 4,
    "start_time": "2022-04-25T17:24:16.956Z"
   },
   {
    "duration": 6,
    "start_time": "2022-04-25T17:24:16.962Z"
   },
   {
    "duration": 8,
    "start_time": "2022-04-25T17:24:16.969Z"
   },
   {
    "duration": 7,
    "start_time": "2022-04-25T17:24:16.979Z"
   },
   {
    "duration": 240,
    "start_time": "2022-04-25T17:24:16.987Z"
   },
   {
    "duration": 10,
    "start_time": "2022-04-25T17:24:17.229Z"
   },
   {
    "duration": 34,
    "start_time": "2022-04-25T17:24:17.241Z"
   },
   {
    "duration": 24,
    "start_time": "2022-04-25T17:24:17.277Z"
   },
   {
    "duration": 25,
    "start_time": "2022-04-25T17:24:17.303Z"
   },
   {
    "duration": 45,
    "start_time": "2022-04-25T17:24:17.330Z"
   },
   {
    "duration": 10,
    "start_time": "2022-04-25T17:24:17.377Z"
   },
   {
    "duration": 11,
    "start_time": "2022-04-25T17:24:17.388Z"
   },
   {
    "duration": 9,
    "start_time": "2022-04-25T17:24:17.400Z"
   },
   {
    "duration": 8,
    "start_time": "2022-04-25T17:24:17.411Z"
   },
   {
    "duration": 34,
    "start_time": "2022-04-25T17:24:17.421Z"
   },
   {
    "duration": 10,
    "start_time": "2022-04-25T17:24:17.460Z"
   },
   {
    "duration": 11,
    "start_time": "2022-04-25T17:24:17.473Z"
   },
   {
    "duration": 13,
    "start_time": "2022-04-25T17:24:17.485Z"
   },
   {
    "duration": 16,
    "start_time": "2022-04-25T17:24:17.500Z"
   },
   {
    "duration": 12,
    "start_time": "2022-04-25T17:24:17.518Z"
   },
   {
    "duration": 10,
    "start_time": "2022-04-25T17:24:17.554Z"
   },
   {
    "duration": 5,
    "start_time": "2022-04-25T17:24:17.565Z"
   },
   {
    "duration": 16,
    "start_time": "2022-04-25T17:24:17.571Z"
   },
   {
    "duration": 5,
    "start_time": "2022-04-25T17:24:17.589Z"
   },
   {
    "duration": 14,
    "start_time": "2022-04-25T17:24:17.595Z"
   },
   {
    "duration": 15,
    "start_time": "2022-04-25T17:24:17.611Z"
   },
   {
    "duration": 489,
    "start_time": "2022-04-25T17:27:04.412Z"
   },
   {
    "duration": 16,
    "start_time": "2022-04-25T17:27:04.903Z"
   },
   {
    "duration": 31,
    "start_time": "2022-04-25T17:27:04.924Z"
   },
   {
    "duration": 29,
    "start_time": "2022-04-25T17:27:04.957Z"
   },
   {
    "duration": 4,
    "start_time": "2022-04-25T17:27:04.988Z"
   },
   {
    "duration": 12,
    "start_time": "2022-04-25T17:27:04.994Z"
   },
   {
    "duration": 20,
    "start_time": "2022-04-25T17:27:05.007Z"
   },
   {
    "duration": 12,
    "start_time": "2022-04-25T17:27:05.029Z"
   },
   {
    "duration": 205,
    "start_time": "2022-04-25T17:27:05.056Z"
   },
   {
    "duration": 11,
    "start_time": "2022-04-25T17:27:05.263Z"
   },
   {
    "duration": 7,
    "start_time": "2022-04-25T17:27:05.275Z"
   },
   {
    "duration": 12,
    "start_time": "2022-04-25T17:27:05.284Z"
   },
   {
    "duration": 17,
    "start_time": "2022-04-25T17:27:05.297Z"
   },
   {
    "duration": 16,
    "start_time": "2022-04-25T17:27:05.316Z"
   },
   {
    "duration": 8,
    "start_time": "2022-04-25T17:27:05.333Z"
   },
   {
    "duration": 16,
    "start_time": "2022-04-25T17:27:05.342Z"
   },
   {
    "duration": 215,
    "start_time": "2022-04-25T17:27:05.360Z"
   },
   {
    "duration": 9,
    "start_time": "2022-04-25T17:27:05.577Z"
   },
   {
    "duration": 17,
    "start_time": "2022-04-25T17:27:05.588Z"
   },
   {
    "duration": 16,
    "start_time": "2022-04-25T17:27:05.606Z"
   },
   {
    "duration": 42,
    "start_time": "2022-04-25T17:27:05.624Z"
   },
   {
    "duration": 16,
    "start_time": "2022-04-25T17:27:05.667Z"
   },
   {
    "duration": 9,
    "start_time": "2022-04-25T17:27:05.685Z"
   },
   {
    "duration": 13,
    "start_time": "2022-04-25T17:27:05.696Z"
   },
   {
    "duration": 16,
    "start_time": "2022-04-25T17:27:05.711Z"
   },
   {
    "duration": 29,
    "start_time": "2022-04-25T17:27:05.729Z"
   },
   {
    "duration": 13,
    "start_time": "2022-04-25T17:27:05.760Z"
   },
   {
    "duration": 12,
    "start_time": "2022-04-25T17:27:05.777Z"
   },
   {
    "duration": 9,
    "start_time": "2022-04-25T17:27:05.791Z"
   },
   {
    "duration": 15,
    "start_time": "2022-04-25T17:27:05.801Z"
   },
   {
    "duration": 14,
    "start_time": "2022-04-25T17:27:05.817Z"
   },
   {
    "duration": 29,
    "start_time": "2022-04-25T17:27:05.833Z"
   },
   {
    "duration": 10,
    "start_time": "2022-04-25T17:27:05.863Z"
   },
   {
    "duration": 4,
    "start_time": "2022-04-25T17:27:05.874Z"
   },
   {
    "duration": 15,
    "start_time": "2022-04-25T17:27:05.879Z"
   },
   {
    "duration": 4,
    "start_time": "2022-04-25T17:27:05.896Z"
   },
   {
    "duration": 11,
    "start_time": "2022-04-25T17:27:05.901Z"
   },
   {
    "duration": 43,
    "start_time": "2022-04-25T17:27:05.913Z"
   },
   {
    "duration": 12,
    "start_time": "2022-04-25T17:30:46.028Z"
   },
   {
    "duration": 458,
    "start_time": "2022-04-25T17:46:26.972Z"
   },
   {
    "duration": 16,
    "start_time": "2022-04-25T17:46:27.432Z"
   },
   {
    "duration": 10,
    "start_time": "2022-04-25T17:46:27.450Z"
   },
   {
    "duration": 18,
    "start_time": "2022-04-25T17:46:27.462Z"
   },
   {
    "duration": 6,
    "start_time": "2022-04-25T17:46:27.482Z"
   },
   {
    "duration": 9,
    "start_time": "2022-04-25T17:46:27.490Z"
   },
   {
    "duration": 13,
    "start_time": "2022-04-25T17:46:27.501Z"
   },
   {
    "duration": 8,
    "start_time": "2022-04-25T17:46:27.515Z"
   },
   {
    "duration": 237,
    "start_time": "2022-04-25T17:46:27.525Z"
   },
   {
    "duration": 9,
    "start_time": "2022-04-25T17:46:27.765Z"
   },
   {
    "duration": 5,
    "start_time": "2022-04-25T17:46:27.776Z"
   },
   {
    "duration": 6,
    "start_time": "2022-04-25T17:46:27.783Z"
   },
   {
    "duration": 9,
    "start_time": "2022-04-25T17:46:27.790Z"
   },
   {
    "duration": 5,
    "start_time": "2022-04-25T17:46:27.800Z"
   },
   {
    "duration": 8,
    "start_time": "2022-04-25T17:46:27.806Z"
   },
   {
    "duration": 9,
    "start_time": "2022-04-25T17:46:27.815Z"
   },
   {
    "duration": 229,
    "start_time": "2022-04-25T17:46:27.826Z"
   },
   {
    "duration": 10,
    "start_time": "2022-04-25T17:46:28.057Z"
   },
   {
    "duration": 15,
    "start_time": "2022-04-25T17:46:28.069Z"
   },
   {
    "duration": 16,
    "start_time": "2022-04-25T17:46:28.085Z"
   },
   {
    "duration": 16,
    "start_time": "2022-04-25T17:46:28.103Z"
   },
   {
    "duration": 44,
    "start_time": "2022-04-25T17:46:28.121Z"
   },
   {
    "duration": 7,
    "start_time": "2022-04-25T17:46:28.167Z"
   },
   {
    "duration": 8,
    "start_time": "2022-04-25T17:46:28.175Z"
   },
   {
    "duration": 9,
    "start_time": "2022-04-25T17:46:28.184Z"
   },
   {
    "duration": 8,
    "start_time": "2022-04-25T17:46:28.195Z"
   },
   {
    "duration": 8,
    "start_time": "2022-04-25T17:46:28.204Z"
   },
   {
    "duration": 39,
    "start_time": "2022-04-25T17:46:28.216Z"
   },
   {
    "duration": 8,
    "start_time": "2022-04-25T17:46:28.257Z"
   },
   {
    "duration": 16,
    "start_time": "2022-04-25T17:46:28.266Z"
   },
   {
    "duration": 13,
    "start_time": "2022-04-25T17:46:28.283Z"
   },
   {
    "duration": 13,
    "start_time": "2022-04-25T17:46:28.297Z"
   },
   {
    "duration": 9,
    "start_time": "2022-04-25T17:46:28.311Z"
   },
   {
    "duration": 4,
    "start_time": "2022-04-25T17:46:28.321Z"
   },
   {
    "duration": 37,
    "start_time": "2022-04-25T17:46:28.327Z"
   },
   {
    "duration": 4,
    "start_time": "2022-04-25T17:46:28.366Z"
   },
   {
    "duration": 13,
    "start_time": "2022-04-25T17:46:28.371Z"
   },
   {
    "duration": 22,
    "start_time": "2022-04-25T17:46:28.386Z"
   },
   {
    "duration": 11,
    "start_time": "2022-04-25T17:46:28.409Z"
   },
   {
    "duration": 6,
    "start_time": "2022-04-25T17:46:28.421Z"
   },
   {
    "duration": 32,
    "start_time": "2022-04-25T17:46:28.428Z"
   },
   {
    "duration": 9,
    "start_time": "2022-04-25T17:50:32.047Z"
   },
   {
    "duration": 70,
    "start_time": "2022-04-25T18:06:45.559Z"
   },
   {
    "duration": 483,
    "start_time": "2022-04-25T18:06:55.040Z"
   },
   {
    "duration": 14,
    "start_time": "2022-04-25T18:06:55.525Z"
   },
   {
    "duration": 17,
    "start_time": "2022-04-25T18:06:55.541Z"
   },
   {
    "duration": 19,
    "start_time": "2022-04-25T18:06:55.560Z"
   },
   {
    "duration": 6,
    "start_time": "2022-04-25T18:06:55.580Z"
   },
   {
    "duration": 9,
    "start_time": "2022-04-25T18:06:55.588Z"
   },
   {
    "duration": 12,
    "start_time": "2022-04-25T18:06:55.599Z"
   },
   {
    "duration": 12,
    "start_time": "2022-04-25T18:06:55.612Z"
   },
   {
    "duration": 209,
    "start_time": "2022-04-25T18:06:55.655Z"
   },
   {
    "duration": 10,
    "start_time": "2022-04-25T18:06:55.866Z"
   },
   {
    "duration": 8,
    "start_time": "2022-04-25T18:06:55.877Z"
   },
   {
    "duration": 6,
    "start_time": "2022-04-25T18:06:55.887Z"
   },
   {
    "duration": 8,
    "start_time": "2022-04-25T18:06:55.894Z"
   },
   {
    "duration": 7,
    "start_time": "2022-04-25T18:06:55.903Z"
   },
   {
    "duration": 10,
    "start_time": "2022-04-25T18:06:55.911Z"
   },
   {
    "duration": 7,
    "start_time": "2022-04-25T18:06:55.923Z"
   },
   {
    "duration": 215,
    "start_time": "2022-04-25T18:06:55.954Z"
   },
   {
    "duration": 10,
    "start_time": "2022-04-25T18:06:56.170Z"
   },
   {
    "duration": 22,
    "start_time": "2022-04-25T18:06:56.182Z"
   },
   {
    "duration": 14,
    "start_time": "2022-04-25T18:06:56.206Z"
   },
   {
    "duration": 41,
    "start_time": "2022-04-25T18:06:56.221Z"
   },
   {
    "duration": 17,
    "start_time": "2022-04-25T18:06:56.264Z"
   },
   {
    "duration": 7,
    "start_time": "2022-04-25T18:06:56.283Z"
   },
   {
    "duration": 8,
    "start_time": "2022-04-25T18:06:56.292Z"
   },
   {
    "duration": 8,
    "start_time": "2022-04-25T18:06:56.302Z"
   },
   {
    "duration": 9,
    "start_time": "2022-04-25T18:06:56.312Z"
   },
   {
    "duration": 35,
    "start_time": "2022-04-25T18:06:56.323Z"
   },
   {
    "duration": 10,
    "start_time": "2022-04-25T18:06:56.362Z"
   },
   {
    "duration": 12,
    "start_time": "2022-04-25T18:06:56.374Z"
   },
   {
    "duration": 12,
    "start_time": "2022-04-25T18:06:56.388Z"
   },
   {
    "duration": 9,
    "start_time": "2022-04-25T18:06:56.402Z"
   },
   {
    "duration": 12,
    "start_time": "2022-04-25T18:06:56.413Z"
   },
   {
    "duration": 11,
    "start_time": "2022-04-25T18:06:56.455Z"
   },
   {
    "duration": 5,
    "start_time": "2022-04-25T18:06:56.467Z"
   },
   {
    "duration": 22,
    "start_time": "2022-04-25T18:06:56.474Z"
   },
   {
    "duration": 3,
    "start_time": "2022-04-25T18:06:56.498Z"
   },
   {
    "duration": 12,
    "start_time": "2022-04-25T18:06:56.503Z"
   },
   {
    "duration": 37,
    "start_time": "2022-04-25T18:06:56.517Z"
   },
   {
    "duration": 9,
    "start_time": "2022-04-25T18:06:56.556Z"
   },
   {
    "duration": 5,
    "start_time": "2022-04-25T18:06:56.567Z"
   },
   {
    "duration": 26,
    "start_time": "2022-04-25T18:06:56.573Z"
   },
   {
    "duration": 8,
    "start_time": "2022-04-25T18:06:56.601Z"
   },
   {
    "duration": 94,
    "start_time": "2022-04-25T18:06:56.610Z"
   },
   {
    "duration": 9,
    "start_time": "2022-04-25T18:07:31.805Z"
   },
   {
    "duration": 7,
    "start_time": "2022-04-25T18:09:21.670Z"
   },
   {
    "duration": 536,
    "start_time": "2022-04-25T18:19:47.847Z"
   },
   {
    "duration": 16,
    "start_time": "2022-04-25T18:19:48.385Z"
   },
   {
    "duration": 18,
    "start_time": "2022-04-25T18:19:48.403Z"
   },
   {
    "duration": 24,
    "start_time": "2022-04-25T18:19:48.423Z"
   },
   {
    "duration": 7,
    "start_time": "2022-04-25T18:19:48.455Z"
   },
   {
    "duration": 34,
    "start_time": "2022-04-25T18:19:48.464Z"
   },
   {
    "duration": 25,
    "start_time": "2022-04-25T18:19:48.499Z"
   },
   {
    "duration": 22,
    "start_time": "2022-04-25T18:19:48.525Z"
   },
   {
    "duration": 219,
    "start_time": "2022-04-25T18:19:48.549Z"
   },
   {
    "duration": 10,
    "start_time": "2022-04-25T18:19:48.770Z"
   },
   {
    "duration": 18,
    "start_time": "2022-04-25T18:19:48.782Z"
   },
   {
    "duration": 6,
    "start_time": "2022-04-25T18:19:48.802Z"
   },
   {
    "duration": 21,
    "start_time": "2022-04-25T18:19:48.810Z"
   },
   {
    "duration": 7,
    "start_time": "2022-04-25T18:19:48.835Z"
   },
   {
    "duration": 12,
    "start_time": "2022-04-25T18:19:48.843Z"
   },
   {
    "duration": 8,
    "start_time": "2022-04-25T18:19:48.857Z"
   },
   {
    "duration": 310,
    "start_time": "2022-04-25T18:19:48.867Z"
   },
   {
    "duration": 10,
    "start_time": "2022-04-25T18:19:49.179Z"
   },
   {
    "duration": 18,
    "start_time": "2022-04-25T18:19:49.191Z"
   },
   {
    "duration": 17,
    "start_time": "2022-04-25T18:19:49.211Z"
   },
   {
    "duration": 19,
    "start_time": "2022-04-25T18:19:49.254Z"
   },
   {
    "duration": 18,
    "start_time": "2022-04-25T18:19:49.274Z"
   },
   {
    "duration": 7,
    "start_time": "2022-04-25T18:19:49.293Z"
   },
   {
    "duration": 8,
    "start_time": "2022-04-25T18:19:49.302Z"
   },
   {
    "duration": 9,
    "start_time": "2022-04-25T18:19:49.311Z"
   },
   {
    "duration": 38,
    "start_time": "2022-04-25T18:19:49.321Z"
   },
   {
    "duration": 10,
    "start_time": "2022-04-25T18:19:49.361Z"
   },
   {
    "duration": 11,
    "start_time": "2022-04-25T18:19:49.373Z"
   },
   {
    "duration": 9,
    "start_time": "2022-04-25T18:19:49.386Z"
   },
   {
    "duration": 11,
    "start_time": "2022-04-25T18:19:49.397Z"
   },
   {
    "duration": 11,
    "start_time": "2022-04-25T18:19:49.409Z"
   },
   {
    "duration": 37,
    "start_time": "2022-04-25T18:19:49.422Z"
   },
   {
    "duration": 9,
    "start_time": "2022-04-25T18:19:49.461Z"
   },
   {
    "duration": 5,
    "start_time": "2022-04-25T18:19:49.472Z"
   },
   {
    "duration": 17,
    "start_time": "2022-04-25T18:19:49.478Z"
   },
   {
    "duration": 5,
    "start_time": "2022-04-25T18:19:49.497Z"
   },
   {
    "duration": 13,
    "start_time": "2022-04-25T18:19:49.504Z"
   },
   {
    "duration": 37,
    "start_time": "2022-04-25T18:19:49.518Z"
   },
   {
    "duration": 7,
    "start_time": "2022-04-25T18:19:49.557Z"
   },
   {
    "duration": 7,
    "start_time": "2022-04-25T18:19:49.565Z"
   },
   {
    "duration": 29,
    "start_time": "2022-04-25T18:19:49.576Z"
   },
   {
    "duration": 8,
    "start_time": "2022-04-25T18:19:49.606Z"
   },
   {
    "duration": 8,
    "start_time": "2022-04-25T18:19:49.615Z"
   },
   {
    "duration": 31,
    "start_time": "2022-04-25T18:19:49.625Z"
   },
   {
    "duration": 8,
    "start_time": "2022-04-25T18:25:08.214Z"
   },
   {
    "duration": 13,
    "start_time": "2022-04-25T18:43:48.088Z"
   },
   {
    "duration": 5672,
    "start_time": "2022-04-25T18:56:40.453Z"
   },
   {
    "duration": 0,
    "start_time": "2022-04-25T18:56:46.127Z"
   },
   {
    "duration": 0,
    "start_time": "2022-04-25T18:56:46.129Z"
   },
   {
    "duration": 0,
    "start_time": "2022-04-25T18:56:46.130Z"
   },
   {
    "duration": 0,
    "start_time": "2022-04-25T18:56:46.130Z"
   },
   {
    "duration": 0,
    "start_time": "2022-04-25T18:56:46.131Z"
   },
   {
    "duration": 0,
    "start_time": "2022-04-25T18:56:46.132Z"
   },
   {
    "duration": 0,
    "start_time": "2022-04-25T18:56:46.133Z"
   },
   {
    "duration": 0,
    "start_time": "2022-04-25T18:56:46.134Z"
   },
   {
    "duration": 0,
    "start_time": "2022-04-25T18:56:46.135Z"
   },
   {
    "duration": 0,
    "start_time": "2022-04-25T18:56:46.135Z"
   },
   {
    "duration": 0,
    "start_time": "2022-04-25T18:56:46.136Z"
   },
   {
    "duration": 0,
    "start_time": "2022-04-25T18:56:46.137Z"
   },
   {
    "duration": 0,
    "start_time": "2022-04-25T18:56:46.138Z"
   },
   {
    "duration": 0,
    "start_time": "2022-04-25T18:56:46.155Z"
   },
   {
    "duration": 0,
    "start_time": "2022-04-25T18:56:46.156Z"
   },
   {
    "duration": 0,
    "start_time": "2022-04-25T18:56:46.157Z"
   },
   {
    "duration": 0,
    "start_time": "2022-04-25T18:56:46.157Z"
   },
   {
    "duration": 0,
    "start_time": "2022-04-25T18:56:46.159Z"
   },
   {
    "duration": 0,
    "start_time": "2022-04-25T18:56:46.160Z"
   },
   {
    "duration": 0,
    "start_time": "2022-04-25T18:56:46.160Z"
   },
   {
    "duration": 0,
    "start_time": "2022-04-25T18:56:46.161Z"
   },
   {
    "duration": 0,
    "start_time": "2022-04-25T18:56:46.162Z"
   },
   {
    "duration": 0,
    "start_time": "2022-04-25T18:56:46.163Z"
   },
   {
    "duration": 0,
    "start_time": "2022-04-25T18:56:46.164Z"
   },
   {
    "duration": 0,
    "start_time": "2022-04-25T18:56:46.164Z"
   },
   {
    "duration": 0,
    "start_time": "2022-04-25T18:56:46.166Z"
   },
   {
    "duration": 0,
    "start_time": "2022-04-25T18:56:46.167Z"
   },
   {
    "duration": 0,
    "start_time": "2022-04-25T18:56:46.168Z"
   },
   {
    "duration": 0,
    "start_time": "2022-04-25T18:56:46.168Z"
   },
   {
    "duration": 0,
    "start_time": "2022-04-25T18:56:46.169Z"
   },
   {
    "duration": 0,
    "start_time": "2022-04-25T18:56:46.170Z"
   },
   {
    "duration": 0,
    "start_time": "2022-04-25T18:56:46.171Z"
   },
   {
    "duration": 0,
    "start_time": "2022-04-25T18:56:46.172Z"
   },
   {
    "duration": 0,
    "start_time": "2022-04-25T18:56:46.173Z"
   },
   {
    "duration": 0,
    "start_time": "2022-04-25T18:56:46.174Z"
   },
   {
    "duration": 0,
    "start_time": "2022-04-25T18:56:46.175Z"
   },
   {
    "duration": 0,
    "start_time": "2022-04-25T18:56:46.175Z"
   },
   {
    "duration": 0,
    "start_time": "2022-04-25T18:56:46.176Z"
   },
   {
    "duration": 0,
    "start_time": "2022-04-25T18:56:46.177Z"
   },
   {
    "duration": 0,
    "start_time": "2022-04-25T18:56:46.178Z"
   },
   {
    "duration": 0,
    "start_time": "2022-04-25T18:56:46.179Z"
   },
   {
    "duration": 0,
    "start_time": "2022-04-25T18:56:46.180Z"
   },
   {
    "duration": 0,
    "start_time": "2022-04-25T18:56:46.180Z"
   },
   {
    "duration": 0,
    "start_time": "2022-04-25T18:56:46.181Z"
   },
   {
    "duration": 0,
    "start_time": "2022-04-25T18:56:46.182Z"
   },
   {
    "duration": 523,
    "start_time": "2022-04-25T18:56:58.460Z"
   },
   {
    "duration": 0,
    "start_time": "2022-04-25T18:56:58.987Z"
   },
   {
    "duration": 0,
    "start_time": "2022-04-25T18:56:58.987Z"
   },
   {
    "duration": 0,
    "start_time": "2022-04-25T18:56:58.988Z"
   },
   {
    "duration": 0,
    "start_time": "2022-04-25T18:56:58.989Z"
   },
   {
    "duration": 0,
    "start_time": "2022-04-25T18:56:58.990Z"
   },
   {
    "duration": 0,
    "start_time": "2022-04-25T18:56:58.991Z"
   },
   {
    "duration": 0,
    "start_time": "2022-04-25T18:56:58.992Z"
   },
   {
    "duration": 0,
    "start_time": "2022-04-25T18:56:58.993Z"
   },
   {
    "duration": 0,
    "start_time": "2022-04-25T18:56:58.994Z"
   },
   {
    "duration": 0,
    "start_time": "2022-04-25T18:56:58.995Z"
   },
   {
    "duration": 0,
    "start_time": "2022-04-25T18:56:58.996Z"
   },
   {
    "duration": 0,
    "start_time": "2022-04-25T18:56:58.997Z"
   },
   {
    "duration": 0,
    "start_time": "2022-04-25T18:56:58.998Z"
   },
   {
    "duration": 0,
    "start_time": "2022-04-25T18:56:58.999Z"
   },
   {
    "duration": 0,
    "start_time": "2022-04-25T18:56:59.000Z"
   },
   {
    "duration": 0,
    "start_time": "2022-04-25T18:56:59.001Z"
   },
   {
    "duration": 0,
    "start_time": "2022-04-25T18:56:59.002Z"
   },
   {
    "duration": 0,
    "start_time": "2022-04-25T18:56:59.003Z"
   },
   {
    "duration": 0,
    "start_time": "2022-04-25T18:56:59.004Z"
   },
   {
    "duration": 0,
    "start_time": "2022-04-25T18:56:59.005Z"
   },
   {
    "duration": 0,
    "start_time": "2022-04-25T18:56:59.006Z"
   },
   {
    "duration": 0,
    "start_time": "2022-04-25T18:56:59.007Z"
   },
   {
    "duration": 0,
    "start_time": "2022-04-25T18:56:59.008Z"
   },
   {
    "duration": 0,
    "start_time": "2022-04-25T18:56:59.009Z"
   },
   {
    "duration": 0,
    "start_time": "2022-04-25T18:56:59.010Z"
   },
   {
    "duration": 0,
    "start_time": "2022-04-25T18:56:59.011Z"
   },
   {
    "duration": 0,
    "start_time": "2022-04-25T18:56:59.011Z"
   },
   {
    "duration": 0,
    "start_time": "2022-04-25T18:56:59.012Z"
   },
   {
    "duration": 0,
    "start_time": "2022-04-25T18:56:59.013Z"
   },
   {
    "duration": 0,
    "start_time": "2022-04-25T18:56:59.014Z"
   },
   {
    "duration": 0,
    "start_time": "2022-04-25T18:56:59.015Z"
   },
   {
    "duration": 0,
    "start_time": "2022-04-25T18:56:59.017Z"
   },
   {
    "duration": 0,
    "start_time": "2022-04-25T18:56:59.055Z"
   },
   {
    "duration": 0,
    "start_time": "2022-04-25T18:56:59.056Z"
   },
   {
    "duration": 0,
    "start_time": "2022-04-25T18:56:59.057Z"
   },
   {
    "duration": 0,
    "start_time": "2022-04-25T18:56:59.058Z"
   },
   {
    "duration": 0,
    "start_time": "2022-04-25T18:56:59.059Z"
   },
   {
    "duration": 0,
    "start_time": "2022-04-25T18:56:59.060Z"
   },
   {
    "duration": 0,
    "start_time": "2022-04-25T18:56:59.061Z"
   },
   {
    "duration": 0,
    "start_time": "2022-04-25T18:56:59.061Z"
   },
   {
    "duration": 0,
    "start_time": "2022-04-25T18:56:59.062Z"
   },
   {
    "duration": 0,
    "start_time": "2022-04-25T18:56:59.063Z"
   },
   {
    "duration": 0,
    "start_time": "2022-04-25T18:56:59.064Z"
   },
   {
    "duration": 0,
    "start_time": "2022-04-25T18:56:59.065Z"
   },
   {
    "duration": 0,
    "start_time": "2022-04-25T18:56:59.066Z"
   },
   {
    "duration": 22,
    "start_time": "2022-04-25T18:57:09.426Z"
   },
   {
    "duration": 27,
    "start_time": "2022-04-25T18:57:39.444Z"
   },
   {
    "duration": 21,
    "start_time": "2022-04-25T18:57:56.436Z"
   },
   {
    "duration": 21,
    "start_time": "2022-04-25T18:58:37.877Z"
   },
   {
    "duration": 462,
    "start_time": "2022-04-25T18:58:44.972Z"
   },
   {
    "duration": 0,
    "start_time": "2022-04-25T18:58:45.437Z"
   },
   {
    "duration": 0,
    "start_time": "2022-04-25T18:58:45.438Z"
   },
   {
    "duration": 0,
    "start_time": "2022-04-25T18:58:45.439Z"
   },
   {
    "duration": 0,
    "start_time": "2022-04-25T18:58:45.440Z"
   },
   {
    "duration": 0,
    "start_time": "2022-04-25T18:58:45.441Z"
   },
   {
    "duration": 0,
    "start_time": "2022-04-25T18:58:45.442Z"
   },
   {
    "duration": 0,
    "start_time": "2022-04-25T18:58:45.443Z"
   },
   {
    "duration": 0,
    "start_time": "2022-04-25T18:58:45.444Z"
   },
   {
    "duration": 0,
    "start_time": "2022-04-25T18:58:45.445Z"
   },
   {
    "duration": 0,
    "start_time": "2022-04-25T18:58:45.454Z"
   },
   {
    "duration": 0,
    "start_time": "2022-04-25T18:58:45.455Z"
   },
   {
    "duration": 0,
    "start_time": "2022-04-25T18:58:45.456Z"
   },
   {
    "duration": 0,
    "start_time": "2022-04-25T18:58:45.457Z"
   },
   {
    "duration": 0,
    "start_time": "2022-04-25T18:58:45.458Z"
   },
   {
    "duration": 0,
    "start_time": "2022-04-25T18:58:45.459Z"
   },
   {
    "duration": 0,
    "start_time": "2022-04-25T18:58:45.460Z"
   },
   {
    "duration": 0,
    "start_time": "2022-04-25T18:58:45.461Z"
   },
   {
    "duration": 0,
    "start_time": "2022-04-25T18:58:45.462Z"
   },
   {
    "duration": 0,
    "start_time": "2022-04-25T18:58:45.463Z"
   },
   {
    "duration": 0,
    "start_time": "2022-04-25T18:58:45.464Z"
   },
   {
    "duration": 0,
    "start_time": "2022-04-25T18:58:45.465Z"
   },
   {
    "duration": 0,
    "start_time": "2022-04-25T18:58:45.466Z"
   },
   {
    "duration": 0,
    "start_time": "2022-04-25T18:58:45.467Z"
   },
   {
    "duration": 0,
    "start_time": "2022-04-25T18:58:45.468Z"
   },
   {
    "duration": 0,
    "start_time": "2022-04-25T18:58:45.469Z"
   },
   {
    "duration": 0,
    "start_time": "2022-04-25T18:58:45.470Z"
   },
   {
    "duration": 0,
    "start_time": "2022-04-25T18:58:45.472Z"
   },
   {
    "duration": 0,
    "start_time": "2022-04-25T18:58:45.472Z"
   },
   {
    "duration": 0,
    "start_time": "2022-04-25T18:58:45.473Z"
   },
   {
    "duration": 0,
    "start_time": "2022-04-25T18:58:45.475Z"
   },
   {
    "duration": 0,
    "start_time": "2022-04-25T18:58:45.476Z"
   },
   {
    "duration": 0,
    "start_time": "2022-04-25T18:58:45.476Z"
   },
   {
    "duration": 0,
    "start_time": "2022-04-25T18:58:45.477Z"
   },
   {
    "duration": 0,
    "start_time": "2022-04-25T18:58:45.478Z"
   },
   {
    "duration": 0,
    "start_time": "2022-04-25T18:58:45.479Z"
   },
   {
    "duration": 0,
    "start_time": "2022-04-25T18:58:45.480Z"
   },
   {
    "duration": 0,
    "start_time": "2022-04-25T18:58:45.481Z"
   },
   {
    "duration": 0,
    "start_time": "2022-04-25T18:58:45.482Z"
   },
   {
    "duration": 0,
    "start_time": "2022-04-25T18:58:45.482Z"
   },
   {
    "duration": 0,
    "start_time": "2022-04-25T18:58:45.484Z"
   },
   {
    "duration": 0,
    "start_time": "2022-04-25T18:58:45.484Z"
   },
   {
    "duration": 0,
    "start_time": "2022-04-25T18:58:45.485Z"
   },
   {
    "duration": 0,
    "start_time": "2022-04-25T18:58:45.486Z"
   },
   {
    "duration": 0,
    "start_time": "2022-04-25T18:58:45.487Z"
   },
   {
    "duration": 0,
    "start_time": "2022-04-25T18:58:45.488Z"
   },
   {
    "duration": 503,
    "start_time": "2022-04-25T18:59:39.995Z"
   },
   {
    "duration": 14,
    "start_time": "2022-04-25T18:59:40.500Z"
   },
   {
    "duration": 9,
    "start_time": "2022-04-25T18:59:40.516Z"
   },
   {
    "duration": 21,
    "start_time": "2022-04-25T18:59:40.527Z"
   },
   {
    "duration": 5,
    "start_time": "2022-04-25T18:59:40.550Z"
   },
   {
    "duration": 11,
    "start_time": "2022-04-25T18:59:40.556Z"
   },
   {
    "duration": 10,
    "start_time": "2022-04-25T18:59:40.568Z"
   },
   {
    "duration": 6,
    "start_time": "2022-04-25T18:59:40.580Z"
   },
   {
    "duration": 205,
    "start_time": "2022-04-25T18:59:40.588Z"
   },
   {
    "duration": 10,
    "start_time": "2022-04-25T18:59:40.796Z"
   },
   {
    "duration": 4,
    "start_time": "2022-04-25T18:59:40.807Z"
   },
   {
    "duration": 4,
    "start_time": "2022-04-25T18:59:40.813Z"
   },
   {
    "duration": 15,
    "start_time": "2022-04-25T18:59:40.819Z"
   },
   {
    "duration": 15,
    "start_time": "2022-04-25T18:59:40.836Z"
   },
   {
    "duration": 28,
    "start_time": "2022-04-25T18:59:40.852Z"
   },
   {
    "duration": 10,
    "start_time": "2022-04-25T18:59:40.882Z"
   },
   {
    "duration": 273,
    "start_time": "2022-04-25T18:59:40.894Z"
   },
   {
    "duration": 9,
    "start_time": "2022-04-25T18:59:41.169Z"
   },
   {
    "duration": 17,
    "start_time": "2022-04-25T18:59:41.180Z"
   },
   {
    "duration": 56,
    "start_time": "2022-04-25T18:59:41.199Z"
   },
   {
    "duration": 18,
    "start_time": "2022-04-25T18:59:41.257Z"
   },
   {
    "duration": 17,
    "start_time": "2022-04-25T18:59:41.277Z"
   },
   {
    "duration": 60,
    "start_time": "2022-04-25T18:59:41.295Z"
   },
   {
    "duration": 7,
    "start_time": "2022-04-25T18:59:41.357Z"
   },
   {
    "duration": 11,
    "start_time": "2022-04-25T18:59:41.365Z"
   },
   {
    "duration": 9,
    "start_time": "2022-04-25T18:59:41.378Z"
   },
   {
    "duration": 8,
    "start_time": "2022-04-25T18:59:41.388Z"
   },
   {
    "duration": 10,
    "start_time": "2022-04-25T18:59:41.399Z"
   },
   {
    "duration": 44,
    "start_time": "2022-04-25T18:59:41.411Z"
   },
   {
    "duration": 11,
    "start_time": "2022-04-25T18:59:41.457Z"
   },
   {
    "duration": 14,
    "start_time": "2022-04-25T18:59:41.469Z"
   },
   {
    "duration": 16,
    "start_time": "2022-04-25T18:59:41.484Z"
   },
   {
    "duration": 10,
    "start_time": "2022-04-25T18:59:41.502Z"
   },
   {
    "duration": 6,
    "start_time": "2022-04-25T18:59:41.514Z"
   },
   {
    "duration": 39,
    "start_time": "2022-04-25T18:59:41.522Z"
   },
   {
    "duration": 5,
    "start_time": "2022-04-25T18:59:41.563Z"
   },
   {
    "duration": 12,
    "start_time": "2022-04-25T18:59:41.569Z"
   },
   {
    "duration": 21,
    "start_time": "2022-04-25T18:59:41.583Z"
   },
   {
    "duration": 11,
    "start_time": "2022-04-25T18:59:41.606Z"
   },
   {
    "duration": 14,
    "start_time": "2022-04-25T18:59:41.619Z"
   },
   {
    "duration": 34,
    "start_time": "2022-04-25T18:59:41.635Z"
   },
   {
    "duration": 8,
    "start_time": "2022-04-25T18:59:41.671Z"
   },
   {
    "duration": 8,
    "start_time": "2022-04-25T18:59:41.681Z"
   },
   {
    "duration": 7,
    "start_time": "2022-04-25T18:59:41.691Z"
   },
   {
    "duration": 17,
    "start_time": "2022-04-25T18:59:41.700Z"
   },
   {
    "duration": 39,
    "start_time": "2022-04-25T18:59:41.718Z"
   },
   {
    "duration": 51,
    "start_time": "2022-04-26T04:59:27.383Z"
   },
   {
    "duration": 584,
    "start_time": "2022-04-26T04:59:44.966Z"
   },
   {
    "duration": 17,
    "start_time": "2022-04-26T04:59:45.552Z"
   },
   {
    "duration": 12,
    "start_time": "2022-04-26T04:59:45.571Z"
   },
   {
    "duration": 43,
    "start_time": "2022-04-26T04:59:45.586Z"
   },
   {
    "duration": 9,
    "start_time": "2022-04-26T04:59:45.631Z"
   },
   {
    "duration": 8,
    "start_time": "2022-04-26T04:59:45.642Z"
   },
   {
    "duration": 8,
    "start_time": "2022-04-26T04:59:45.651Z"
   },
   {
    "duration": 22,
    "start_time": "2022-04-26T04:59:45.661Z"
   },
   {
    "duration": 43,
    "start_time": "2022-04-26T04:59:45.685Z"
   },
   {
    "duration": 236,
    "start_time": "2022-04-26T04:59:45.732Z"
   },
   {
    "duration": 11,
    "start_time": "2022-04-26T04:59:45.970Z"
   },
   {
    "duration": 5,
    "start_time": "2022-04-26T04:59:45.982Z"
   },
   {
    "duration": 4,
    "start_time": "2022-04-26T04:59:45.988Z"
   },
   {
    "duration": 6,
    "start_time": "2022-04-26T04:59:45.993Z"
   },
   {
    "duration": 7,
    "start_time": "2022-04-26T04:59:46.024Z"
   },
   {
    "duration": 9,
    "start_time": "2022-04-26T04:59:46.033Z"
   },
   {
    "duration": 8,
    "start_time": "2022-04-26T04:59:46.044Z"
   },
   {
    "duration": 256,
    "start_time": "2022-04-26T04:59:46.053Z"
   },
   {
    "duration": 12,
    "start_time": "2022-04-26T04:59:46.311Z"
   },
   {
    "duration": 20,
    "start_time": "2022-04-26T04:59:46.326Z"
   },
   {
    "duration": 23,
    "start_time": "2022-04-26T04:59:46.348Z"
   },
   {
    "duration": 24,
    "start_time": "2022-04-26T04:59:46.373Z"
   },
   {
    "duration": 26,
    "start_time": "2022-04-26T04:59:46.423Z"
   },
   {
    "duration": 8,
    "start_time": "2022-04-26T04:59:46.450Z"
   },
   {
    "duration": 12,
    "start_time": "2022-04-26T04:59:46.460Z"
   },
   {
    "duration": 10,
    "start_time": "2022-04-26T04:59:46.473Z"
   },
   {
    "duration": 8,
    "start_time": "2022-04-26T04:59:46.485Z"
   },
   {
    "duration": 11,
    "start_time": "2022-04-26T04:59:46.527Z"
   },
   {
    "duration": 12,
    "start_time": "2022-04-26T04:59:46.540Z"
   },
   {
    "duration": 8,
    "start_time": "2022-04-26T04:59:46.554Z"
   },
   {
    "duration": 10,
    "start_time": "2022-04-26T04:59:46.564Z"
   },
   {
    "duration": 10,
    "start_time": "2022-04-26T04:59:46.575Z"
   },
   {
    "duration": 55,
    "start_time": "2022-04-26T04:59:46.587Z"
   },
   {
    "duration": 10,
    "start_time": "2022-04-26T04:59:46.644Z"
   },
   {
    "duration": 4,
    "start_time": "2022-04-26T04:59:46.656Z"
   },
   {
    "duration": 15,
    "start_time": "2022-04-26T04:59:46.662Z"
   },
   {
    "duration": 7,
    "start_time": "2022-04-26T04:59:46.679Z"
   },
   {
    "duration": 13,
    "start_time": "2022-04-26T04:59:46.688Z"
   },
   {
    "duration": 38,
    "start_time": "2022-04-26T04:59:46.702Z"
   },
   {
    "duration": 7,
    "start_time": "2022-04-26T04:59:46.742Z"
   },
   {
    "duration": 4,
    "start_time": "2022-04-26T04:59:46.751Z"
   },
   {
    "duration": 25,
    "start_time": "2022-04-26T04:59:46.756Z"
   },
   {
    "duration": 8,
    "start_time": "2022-04-26T04:59:46.783Z"
   },
   {
    "duration": 40,
    "start_time": "2022-04-26T04:59:46.792Z"
   },
   {
    "duration": 9,
    "start_time": "2022-04-26T04:59:46.834Z"
   },
   {
    "duration": 12,
    "start_time": "2022-04-26T04:59:46.845Z"
   },
   {
    "duration": 13,
    "start_time": "2022-04-26T04:59:46.859Z"
   },
   {
    "duration": 23,
    "start_time": "2022-04-26T05:00:06.412Z"
   },
   {
    "duration": 29,
    "start_time": "2022-04-26T05:00:21.773Z"
   },
   {
    "duration": 36,
    "start_time": "2022-04-26T05:02:04.560Z"
   },
   {
    "duration": 491,
    "start_time": "2022-04-26T05:02:57.675Z"
   },
   {
    "duration": 17,
    "start_time": "2022-04-26T05:02:58.169Z"
   },
   {
    "duration": 11,
    "start_time": "2022-04-26T05:02:58.188Z"
   },
   {
    "duration": 21,
    "start_time": "2022-04-26T05:02:58.221Z"
   },
   {
    "duration": 6,
    "start_time": "2022-04-26T05:02:58.245Z"
   },
   {
    "duration": 8,
    "start_time": "2022-04-26T05:02:58.253Z"
   },
   {
    "duration": 9,
    "start_time": "2022-04-26T05:02:58.263Z"
   },
   {
    "duration": 9,
    "start_time": "2022-04-26T05:02:58.274Z"
   },
   {
    "duration": 245,
    "start_time": "2022-04-26T05:02:58.323Z"
   },
   {
    "duration": 11,
    "start_time": "2022-04-26T05:02:58.570Z"
   },
   {
    "duration": 5,
    "start_time": "2022-04-26T05:02:58.583Z"
   },
   {
    "duration": 4,
    "start_time": "2022-04-26T05:02:58.590Z"
   },
   {
    "duration": 28,
    "start_time": "2022-04-26T05:02:58.596Z"
   },
   {
    "duration": 6,
    "start_time": "2022-04-26T05:02:58.627Z"
   },
   {
    "duration": 8,
    "start_time": "2022-04-26T05:02:58.634Z"
   },
   {
    "duration": 9,
    "start_time": "2022-04-26T05:02:58.644Z"
   },
   {
    "duration": 243,
    "start_time": "2022-04-26T05:02:58.654Z"
   },
   {
    "duration": 11,
    "start_time": "2022-04-26T05:02:58.899Z"
   },
   {
    "duration": 16,
    "start_time": "2022-04-26T05:02:58.923Z"
   },
   {
    "duration": 17,
    "start_time": "2022-04-26T05:02:58.940Z"
   },
   {
    "duration": 17,
    "start_time": "2022-04-26T05:02:58.959Z"
   },
   {
    "duration": 45,
    "start_time": "2022-04-26T05:02:58.978Z"
   },
   {
    "duration": 7,
    "start_time": "2022-04-26T05:02:59.025Z"
   },
   {
    "duration": 8,
    "start_time": "2022-04-26T05:02:59.034Z"
   },
   {
    "duration": 9,
    "start_time": "2022-04-26T05:02:59.045Z"
   },
   {
    "duration": 11,
    "start_time": "2022-04-26T05:02:59.056Z"
   },
   {
    "duration": 11,
    "start_time": "2022-04-26T05:02:59.069Z"
   },
   {
    "duration": 44,
    "start_time": "2022-04-26T05:02:59.084Z"
   },
   {
    "duration": 9,
    "start_time": "2022-04-26T05:02:59.130Z"
   },
   {
    "duration": 11,
    "start_time": "2022-04-26T05:02:59.140Z"
   },
   {
    "duration": 11,
    "start_time": "2022-04-26T05:02:59.152Z"
   },
   {
    "duration": 11,
    "start_time": "2022-04-26T05:02:59.165Z"
   },
   {
    "duration": 46,
    "start_time": "2022-04-26T05:02:59.178Z"
   },
   {
    "duration": 5,
    "start_time": "2022-04-26T05:02:59.225Z"
   },
   {
    "duration": 17,
    "start_time": "2022-04-26T05:02:59.232Z"
   },
   {
    "duration": 3,
    "start_time": "2022-04-26T05:02:59.251Z"
   },
   {
    "duration": 12,
    "start_time": "2022-04-26T05:02:59.256Z"
   },
   {
    "duration": 16,
    "start_time": "2022-04-26T05:02:59.269Z"
   },
   {
    "duration": 40,
    "start_time": "2022-04-26T05:02:59.287Z"
   },
   {
    "duration": 4,
    "start_time": "2022-04-26T05:02:59.330Z"
   },
   {
    "duration": 34,
    "start_time": "2022-04-26T05:02:59.336Z"
   },
   {
    "duration": 10,
    "start_time": "2022-04-26T05:02:59.373Z"
   },
   {
    "duration": 10,
    "start_time": "2022-04-26T05:02:59.386Z"
   },
   {
    "duration": 9,
    "start_time": "2022-04-26T05:02:59.423Z"
   },
   {
    "duration": 14,
    "start_time": "2022-04-26T05:02:59.434Z"
   },
   {
    "duration": 14,
    "start_time": "2022-04-26T05:02:59.450Z"
   },
   {
    "duration": 17,
    "start_time": "2022-04-26T05:09:45.975Z"
   },
   {
    "duration": 15,
    "start_time": "2022-04-26T05:09:50.755Z"
   },
   {
    "duration": 28,
    "start_time": "2022-04-26T05:10:05.399Z"
   },
   {
    "duration": 180,
    "start_time": "2022-04-26T05:21:55.549Z"
   },
   {
    "duration": 491,
    "start_time": "2022-04-26T05:53:05.480Z"
   },
   {
    "duration": 15,
    "start_time": "2022-04-26T05:53:05.973Z"
   },
   {
    "duration": 10,
    "start_time": "2022-04-26T05:53:05.990Z"
   },
   {
    "duration": 32,
    "start_time": "2022-04-26T05:53:06.002Z"
   },
   {
    "duration": 5,
    "start_time": "2022-04-26T05:53:06.036Z"
   },
   {
    "duration": 8,
    "start_time": "2022-04-26T05:53:06.042Z"
   },
   {
    "duration": 11,
    "start_time": "2022-04-26T05:53:06.051Z"
   },
   {
    "duration": 9,
    "start_time": "2022-04-26T05:53:06.064Z"
   },
   {
    "duration": 243,
    "start_time": "2022-04-26T05:53:06.075Z"
   },
   {
    "duration": 11,
    "start_time": "2022-04-26T05:53:06.322Z"
   },
   {
    "duration": 5,
    "start_time": "2022-04-26T05:53:06.334Z"
   },
   {
    "duration": 4,
    "start_time": "2022-04-26T05:53:06.341Z"
   },
   {
    "duration": 5,
    "start_time": "2022-04-26T05:53:06.347Z"
   },
   {
    "duration": 5,
    "start_time": "2022-04-26T05:53:06.354Z"
   },
   {
    "duration": 7,
    "start_time": "2022-04-26T05:53:06.361Z"
   },
   {
    "duration": 53,
    "start_time": "2022-04-26T05:53:06.370Z"
   },
   {
    "duration": 208,
    "start_time": "2022-04-26T05:53:06.425Z"
   },
   {
    "duration": 10,
    "start_time": "2022-04-26T05:53:06.635Z"
   },
   {
    "duration": 15,
    "start_time": "2022-04-26T05:53:06.646Z"
   },
   {
    "duration": 16,
    "start_time": "2022-04-26T05:53:06.663Z"
   },
   {
    "duration": 46,
    "start_time": "2022-04-26T05:53:06.680Z"
   },
   {
    "duration": 16,
    "start_time": "2022-04-26T05:53:06.728Z"
   },
   {
    "duration": 7,
    "start_time": "2022-04-26T05:53:06.746Z"
   },
   {
    "duration": 8,
    "start_time": "2022-04-26T05:53:06.754Z"
   },
   {
    "duration": 8,
    "start_time": "2022-04-26T05:53:06.763Z"
   },
   {
    "duration": 8,
    "start_time": "2022-04-26T05:53:06.772Z"
   },
   {
    "duration": 42,
    "start_time": "2022-04-26T05:53:06.782Z"
   },
   {
    "duration": 12,
    "start_time": "2022-04-26T05:53:06.827Z"
   },
   {
    "duration": 9,
    "start_time": "2022-04-26T05:53:06.841Z"
   },
   {
    "duration": 10,
    "start_time": "2022-04-26T05:53:06.852Z"
   },
   {
    "duration": 12,
    "start_time": "2022-04-26T05:53:06.864Z"
   },
   {
    "duration": 14,
    "start_time": "2022-04-26T05:53:06.878Z"
   },
   {
    "duration": 34,
    "start_time": "2022-04-26T05:53:06.894Z"
   },
   {
    "duration": 6,
    "start_time": "2022-04-26T05:53:06.929Z"
   },
   {
    "duration": 17,
    "start_time": "2022-04-26T05:53:06.936Z"
   },
   {
    "duration": 3,
    "start_time": "2022-04-26T05:53:06.955Z"
   },
   {
    "duration": 15,
    "start_time": "2022-04-26T05:53:06.960Z"
   },
   {
    "duration": 15,
    "start_time": "2022-04-26T05:53:06.977Z"
   },
   {
    "duration": 8,
    "start_time": "2022-04-26T05:53:07.022Z"
   },
   {
    "duration": 4,
    "start_time": "2022-04-26T05:53:07.032Z"
   },
   {
    "duration": 28,
    "start_time": "2022-04-26T05:53:07.037Z"
   },
   {
    "duration": 8,
    "start_time": "2022-04-26T05:53:07.066Z"
   },
   {
    "duration": 10,
    "start_time": "2022-04-26T05:53:07.075Z"
   },
   {
    "duration": 7,
    "start_time": "2022-04-26T05:53:07.087Z"
   },
   {
    "duration": 9,
    "start_time": "2022-04-26T05:53:07.123Z"
   },
   {
    "duration": 9,
    "start_time": "2022-04-26T05:53:07.134Z"
   },
   {
    "duration": 185,
    "start_time": "2022-04-26T05:53:07.145Z"
   },
   {
    "duration": 318,
    "start_time": "2022-04-26T06:32:52.959Z"
   },
   {
    "duration": 15,
    "start_time": "2022-04-26T06:32:57.254Z"
   },
   {
    "duration": 494,
    "start_time": "2022-04-26T06:33:09.864Z"
   },
   {
    "duration": 16,
    "start_time": "2022-04-26T06:33:10.360Z"
   },
   {
    "duration": 12,
    "start_time": "2022-04-26T06:33:10.377Z"
   },
   {
    "duration": 38,
    "start_time": "2022-04-26T06:33:10.392Z"
   },
   {
    "duration": 6,
    "start_time": "2022-04-26T06:33:10.432Z"
   },
   {
    "duration": 25,
    "start_time": "2022-04-26T06:33:10.439Z"
   },
   {
    "duration": 17,
    "start_time": "2022-04-26T06:33:10.466Z"
   },
   {
    "duration": 19,
    "start_time": "2022-04-26T06:33:10.485Z"
   },
   {
    "duration": 229,
    "start_time": "2022-04-26T06:33:10.506Z"
   },
   {
    "duration": 12,
    "start_time": "2022-04-26T06:33:10.738Z"
   },
   {
    "duration": 9,
    "start_time": "2022-04-26T06:33:10.752Z"
   },
   {
    "duration": 28,
    "start_time": "2022-04-26T06:33:10.763Z"
   },
   {
    "duration": 14,
    "start_time": "2022-04-26T06:33:10.792Z"
   },
   {
    "duration": 29,
    "start_time": "2022-04-26T06:33:10.808Z"
   },
   {
    "duration": 23,
    "start_time": "2022-04-26T06:33:10.838Z"
   },
   {
    "duration": 23,
    "start_time": "2022-04-26T06:33:10.863Z"
   },
   {
    "duration": 228,
    "start_time": "2022-04-26T06:33:10.887Z"
   },
   {
    "duration": 14,
    "start_time": "2022-04-26T06:33:11.117Z"
   },
   {
    "duration": 19,
    "start_time": "2022-04-26T06:33:11.133Z"
   },
   {
    "duration": 25,
    "start_time": "2022-04-26T06:33:11.154Z"
   },
   {
    "duration": 55,
    "start_time": "2022-04-26T06:33:11.181Z"
   },
   {
    "duration": 19,
    "start_time": "2022-04-26T06:33:11.239Z"
   },
   {
    "duration": 11,
    "start_time": "2022-04-26T06:33:11.259Z"
   },
   {
    "duration": 11,
    "start_time": "2022-04-26T06:33:11.272Z"
   },
   {
    "duration": 31,
    "start_time": "2022-04-26T06:33:11.285Z"
   },
   {
    "duration": 18,
    "start_time": "2022-04-26T06:33:11.318Z"
   },
   {
    "duration": 18,
    "start_time": "2022-04-26T06:33:11.338Z"
   },
   {
    "duration": 28,
    "start_time": "2022-04-26T06:33:11.360Z"
   },
   {
    "duration": 19,
    "start_time": "2022-04-26T06:33:11.390Z"
   },
   {
    "duration": 28,
    "start_time": "2022-04-26T06:33:11.411Z"
   },
   {
    "duration": 29,
    "start_time": "2022-04-26T06:33:11.441Z"
   },
   {
    "duration": 17,
    "start_time": "2022-04-26T06:33:11.472Z"
   },
   {
    "duration": 21,
    "start_time": "2022-04-26T06:33:11.491Z"
   },
   {
    "duration": 25,
    "start_time": "2022-04-26T06:33:11.513Z"
   },
   {
    "duration": 27,
    "start_time": "2022-04-26T06:33:11.539Z"
   },
   {
    "duration": 18,
    "start_time": "2022-04-26T06:33:11.567Z"
   },
   {
    "duration": 25,
    "start_time": "2022-04-26T06:33:11.587Z"
   },
   {
    "duration": 24,
    "start_time": "2022-04-26T06:33:11.613Z"
   },
   {
    "duration": 30,
    "start_time": "2022-04-26T06:33:11.638Z"
   },
   {
    "duration": 11,
    "start_time": "2022-04-26T06:33:11.670Z"
   },
   {
    "duration": 41,
    "start_time": "2022-04-26T06:33:11.683Z"
   },
   {
    "duration": 24,
    "start_time": "2022-04-26T06:33:11.726Z"
   },
   {
    "duration": 8,
    "start_time": "2022-04-26T06:33:11.752Z"
   },
   {
    "duration": 19,
    "start_time": "2022-04-26T06:33:11.761Z"
   },
   {
    "duration": 16,
    "start_time": "2022-04-26T06:33:11.781Z"
   },
   {
    "duration": 15,
    "start_time": "2022-04-26T06:33:11.799Z"
   },
   {
    "duration": 34,
    "start_time": "2022-04-26T06:33:11.816Z"
   },
   {
    "duration": 192,
    "start_time": "2022-04-26T06:33:11.852Z"
   },
   {
    "duration": 309,
    "start_time": "2022-04-26T06:34:29.568Z"
   },
   {
    "duration": 15,
    "start_time": "2022-04-26T06:34:32.417Z"
   },
   {
    "duration": 496,
    "start_time": "2022-04-26T06:34:38.942Z"
   },
   {
    "duration": 15,
    "start_time": "2022-04-26T06:34:39.440Z"
   },
   {
    "duration": 9,
    "start_time": "2022-04-26T06:34:39.457Z"
   },
   {
    "duration": 18,
    "start_time": "2022-04-26T06:34:39.469Z"
   },
   {
    "duration": 6,
    "start_time": "2022-04-26T06:34:39.489Z"
   },
   {
    "duration": 32,
    "start_time": "2022-04-26T06:34:39.496Z"
   },
   {
    "duration": 8,
    "start_time": "2022-04-26T06:34:39.531Z"
   },
   {
    "duration": 11,
    "start_time": "2022-04-26T06:34:39.541Z"
   },
   {
    "duration": 244,
    "start_time": "2022-04-26T06:34:39.554Z"
   },
   {
    "duration": 10,
    "start_time": "2022-04-26T06:34:39.801Z"
   },
   {
    "duration": 5,
    "start_time": "2022-04-26T06:34:39.821Z"
   },
   {
    "duration": 5,
    "start_time": "2022-04-26T06:34:39.827Z"
   },
   {
    "duration": 5,
    "start_time": "2022-04-26T06:34:39.833Z"
   },
   {
    "duration": 5,
    "start_time": "2022-04-26T06:34:39.840Z"
   },
   {
    "duration": 8,
    "start_time": "2022-04-26T06:34:39.846Z"
   },
   {
    "duration": 9,
    "start_time": "2022-04-26T06:34:39.856Z"
   },
   {
    "duration": 385,
    "start_time": "2022-04-26T06:34:39.867Z"
   },
   {
    "duration": 15,
    "start_time": "2022-04-26T06:34:40.255Z"
   },
   {
    "duration": 23,
    "start_time": "2022-04-26T06:34:40.272Z"
   },
   {
    "duration": 44,
    "start_time": "2022-04-26T06:34:40.297Z"
   },
   {
    "duration": 26,
    "start_time": "2022-04-26T06:34:40.343Z"
   },
   {
    "duration": 19,
    "start_time": "2022-04-26T06:34:40.371Z"
   },
   {
    "duration": 9,
    "start_time": "2022-04-26T06:34:40.391Z"
   },
   {
    "duration": 11,
    "start_time": "2022-04-26T06:34:40.422Z"
   },
   {
    "duration": 11,
    "start_time": "2022-04-26T06:34:40.434Z"
   },
   {
    "duration": 11,
    "start_time": "2022-04-26T06:34:40.447Z"
   },
   {
    "duration": 11,
    "start_time": "2022-04-26T06:34:40.459Z"
   },
   {
    "duration": 13,
    "start_time": "2022-04-26T06:34:40.473Z"
   },
   {
    "duration": 46,
    "start_time": "2022-04-26T06:34:40.487Z"
   },
   {
    "duration": 13,
    "start_time": "2022-04-26T06:34:40.535Z"
   },
   {
    "duration": 11,
    "start_time": "2022-04-26T06:34:40.550Z"
   },
   {
    "duration": 12,
    "start_time": "2022-04-26T06:34:40.563Z"
   },
   {
    "duration": 13,
    "start_time": "2022-04-26T06:34:40.577Z"
   },
   {
    "duration": 6,
    "start_time": "2022-04-26T06:34:40.624Z"
   },
   {
    "duration": 23,
    "start_time": "2022-04-26T06:34:40.632Z"
   },
   {
    "duration": 5,
    "start_time": "2022-04-26T06:34:40.657Z"
   },
   {
    "duration": 16,
    "start_time": "2022-04-26T06:34:40.663Z"
   },
   {
    "duration": 42,
    "start_time": "2022-04-26T06:34:40.682Z"
   },
   {
    "duration": 8,
    "start_time": "2022-04-26T06:34:40.726Z"
   },
   {
    "duration": 5,
    "start_time": "2022-04-26T06:34:40.736Z"
   },
   {
    "duration": 36,
    "start_time": "2022-04-26T06:34:40.743Z"
   },
   {
    "duration": 42,
    "start_time": "2022-04-26T06:34:40.781Z"
   },
   {
    "duration": 8,
    "start_time": "2022-04-26T06:34:40.825Z"
   },
   {
    "duration": 7,
    "start_time": "2022-04-26T06:34:40.835Z"
   },
   {
    "duration": 11,
    "start_time": "2022-04-26T06:34:40.844Z"
   },
   {
    "duration": 12,
    "start_time": "2022-04-26T06:34:40.857Z"
   },
   {
    "duration": 57,
    "start_time": "2022-04-26T06:34:40.871Z"
   },
   {
    "duration": 247,
    "start_time": "2022-04-26T06:34:40.930Z"
   },
   {
    "duration": 14,
    "start_time": "2022-04-26T06:47:02.367Z"
   },
   {
    "duration": 18,
    "start_time": "2022-04-26T06:47:19.831Z"
   },
   {
    "duration": 187,
    "start_time": "2022-04-26T06:48:43.363Z"
   },
   {
    "duration": 39,
    "start_time": "2022-04-26T06:49:10.011Z"
   },
   {
    "duration": 17,
    "start_time": "2022-04-26T06:52:06.401Z"
   },
   {
    "duration": 18,
    "start_time": "2022-04-26T06:53:15.567Z"
   },
   {
    "duration": 17,
    "start_time": "2022-04-26T06:54:30.944Z"
   },
   {
    "duration": 10,
    "start_time": "2022-04-26T06:58:47.768Z"
   },
   {
    "duration": 4,
    "start_time": "2022-04-26T07:00:00.283Z"
   },
   {
    "duration": 19,
    "start_time": "2022-04-26T07:00:14.196Z"
   },
   {
    "duration": 514,
    "start_time": "2022-04-26T07:00:39.220Z"
   },
   {
    "duration": 16,
    "start_time": "2022-04-26T07:00:39.736Z"
   },
   {
    "duration": 9,
    "start_time": "2022-04-26T07:00:39.753Z"
   },
   {
    "duration": 19,
    "start_time": "2022-04-26T07:00:39.765Z"
   },
   {
    "duration": 5,
    "start_time": "2022-04-26T07:00:39.786Z"
   },
   {
    "duration": 34,
    "start_time": "2022-04-26T07:00:39.793Z"
   },
   {
    "duration": 11,
    "start_time": "2022-04-26T07:00:39.828Z"
   },
   {
    "duration": 8,
    "start_time": "2022-04-26T07:00:39.841Z"
   },
   {
    "duration": 234,
    "start_time": "2022-04-26T07:00:39.851Z"
   },
   {
    "duration": 10,
    "start_time": "2022-04-26T07:00:40.087Z"
   },
   {
    "duration": 4,
    "start_time": "2022-04-26T07:00:40.099Z"
   },
   {
    "duration": 4,
    "start_time": "2022-04-26T07:00:40.104Z"
   },
   {
    "duration": 16,
    "start_time": "2022-04-26T07:00:40.109Z"
   },
   {
    "duration": 17,
    "start_time": "2022-04-26T07:00:40.127Z"
   },
   {
    "duration": 8,
    "start_time": "2022-04-26T07:00:40.145Z"
   },
   {
    "duration": 7,
    "start_time": "2022-04-26T07:00:40.154Z"
   },
   {
    "duration": 225,
    "start_time": "2022-04-26T07:00:40.162Z"
   },
   {
    "duration": 9,
    "start_time": "2022-04-26T07:00:40.389Z"
   },
   {
    "duration": 29,
    "start_time": "2022-04-26T07:00:40.400Z"
   },
   {
    "duration": 16,
    "start_time": "2022-04-26T07:00:40.430Z"
   },
   {
    "duration": 19,
    "start_time": "2022-04-26T07:00:40.447Z"
   },
   {
    "duration": 15,
    "start_time": "2022-04-26T07:00:40.468Z"
   },
   {
    "duration": 7,
    "start_time": "2022-04-26T07:00:40.484Z"
   },
   {
    "duration": 30,
    "start_time": "2022-04-26T07:00:40.493Z"
   },
   {
    "duration": 12,
    "start_time": "2022-04-26T07:00:40.524Z"
   },
   {
    "duration": 21,
    "start_time": "2022-04-26T07:00:40.537Z"
   },
   {
    "duration": 18,
    "start_time": "2022-04-26T07:00:40.560Z"
   },
   {
    "duration": 21,
    "start_time": "2022-04-26T07:00:40.581Z"
   },
   {
    "duration": 17,
    "start_time": "2022-04-26T07:00:40.604Z"
   },
   {
    "duration": 24,
    "start_time": "2022-04-26T07:00:40.623Z"
   },
   {
    "duration": 27,
    "start_time": "2022-04-26T07:00:40.648Z"
   },
   {
    "duration": 22,
    "start_time": "2022-04-26T07:00:40.677Z"
   },
   {
    "duration": 27,
    "start_time": "2022-04-26T07:00:40.701Z"
   },
   {
    "duration": 13,
    "start_time": "2022-04-26T07:00:40.730Z"
   },
   {
    "duration": 22,
    "start_time": "2022-04-26T07:00:40.744Z"
   },
   {
    "duration": 18,
    "start_time": "2022-04-26T07:00:40.768Z"
   },
   {
    "duration": 21,
    "start_time": "2022-04-26T07:00:40.787Z"
   },
   {
    "duration": 23,
    "start_time": "2022-04-26T07:00:40.809Z"
   },
   {
    "duration": 31,
    "start_time": "2022-04-26T07:00:40.834Z"
   },
   {
    "duration": 23,
    "start_time": "2022-04-26T07:00:40.866Z"
   },
   {
    "duration": 37,
    "start_time": "2022-04-26T07:00:40.891Z"
   },
   {
    "duration": 26,
    "start_time": "2022-04-26T07:00:40.929Z"
   },
   {
    "duration": 18,
    "start_time": "2022-04-26T07:00:40.956Z"
   },
   {
    "duration": 24,
    "start_time": "2022-04-26T07:00:40.975Z"
   },
   {
    "duration": 7,
    "start_time": "2022-04-26T07:00:41.000Z"
   },
   {
    "duration": 18,
    "start_time": "2022-04-26T07:00:41.023Z"
   },
   {
    "duration": 17,
    "start_time": "2022-04-26T07:00:41.043Z"
   },
   {
    "duration": 79,
    "start_time": "2022-04-26T07:01:13.609Z"
   },
   {
    "duration": 202,
    "start_time": "2022-04-26T07:01:51.772Z"
   },
   {
    "duration": 9,
    "start_time": "2022-04-26T07:01:54.851Z"
   },
   {
    "duration": 221,
    "start_time": "2022-04-26T07:03:49.632Z"
   },
   {
    "duration": 10,
    "start_time": "2022-04-26T07:03:54.102Z"
   },
   {
    "duration": 497,
    "start_time": "2022-04-26T07:04:05.036Z"
   },
   {
    "duration": 15,
    "start_time": "2022-04-26T07:04:05.535Z"
   },
   {
    "duration": 10,
    "start_time": "2022-04-26T07:04:05.552Z"
   },
   {
    "duration": 20,
    "start_time": "2022-04-26T07:04:05.564Z"
   },
   {
    "duration": 14,
    "start_time": "2022-04-26T07:04:05.586Z"
   },
   {
    "duration": 11,
    "start_time": "2022-04-26T07:04:05.623Z"
   },
   {
    "duration": 12,
    "start_time": "2022-04-26T07:04:05.636Z"
   },
   {
    "duration": 9,
    "start_time": "2022-04-26T07:04:05.650Z"
   },
   {
    "duration": 87,
    "start_time": "2022-04-26T07:04:05.661Z"
   },
   {
    "duration": 0,
    "start_time": "2022-04-26T07:04:05.752Z"
   },
   {
    "duration": 0,
    "start_time": "2022-04-26T07:04:05.753Z"
   },
   {
    "duration": 0,
    "start_time": "2022-04-26T07:04:05.755Z"
   },
   {
    "duration": 0,
    "start_time": "2022-04-26T07:04:05.756Z"
   },
   {
    "duration": 0,
    "start_time": "2022-04-26T07:04:05.757Z"
   },
   {
    "duration": 0,
    "start_time": "2022-04-26T07:04:05.759Z"
   },
   {
    "duration": 0,
    "start_time": "2022-04-26T07:04:05.760Z"
   },
   {
    "duration": 1,
    "start_time": "2022-04-26T07:04:05.761Z"
   },
   {
    "duration": 0,
    "start_time": "2022-04-26T07:04:05.763Z"
   },
   {
    "duration": 0,
    "start_time": "2022-04-26T07:04:05.764Z"
   },
   {
    "duration": 0,
    "start_time": "2022-04-26T07:04:05.766Z"
   },
   {
    "duration": 0,
    "start_time": "2022-04-26T07:04:05.767Z"
   },
   {
    "duration": 0,
    "start_time": "2022-04-26T07:04:05.768Z"
   },
   {
    "duration": 0,
    "start_time": "2022-04-26T07:04:05.769Z"
   },
   {
    "duration": 0,
    "start_time": "2022-04-26T07:04:05.770Z"
   },
   {
    "duration": 0,
    "start_time": "2022-04-26T07:04:05.772Z"
   },
   {
    "duration": 0,
    "start_time": "2022-04-26T07:04:05.772Z"
   },
   {
    "duration": 0,
    "start_time": "2022-04-26T07:04:05.773Z"
   },
   {
    "duration": 0,
    "start_time": "2022-04-26T07:04:05.774Z"
   },
   {
    "duration": 0,
    "start_time": "2022-04-26T07:04:05.775Z"
   },
   {
    "duration": 0,
    "start_time": "2022-04-26T07:04:05.776Z"
   },
   {
    "duration": 0,
    "start_time": "2022-04-26T07:04:05.777Z"
   },
   {
    "duration": 0,
    "start_time": "2022-04-26T07:04:05.778Z"
   },
   {
    "duration": 0,
    "start_time": "2022-04-26T07:04:05.779Z"
   },
   {
    "duration": 0,
    "start_time": "2022-04-26T07:04:05.780Z"
   },
   {
    "duration": 0,
    "start_time": "2022-04-26T07:04:05.822Z"
   },
   {
    "duration": 0,
    "start_time": "2022-04-26T07:04:05.824Z"
   },
   {
    "duration": 0,
    "start_time": "2022-04-26T07:04:05.825Z"
   },
   {
    "duration": 0,
    "start_time": "2022-04-26T07:04:05.826Z"
   },
   {
    "duration": 0,
    "start_time": "2022-04-26T07:04:05.827Z"
   },
   {
    "duration": 0,
    "start_time": "2022-04-26T07:04:05.829Z"
   },
   {
    "duration": 0,
    "start_time": "2022-04-26T07:04:05.830Z"
   },
   {
    "duration": 0,
    "start_time": "2022-04-26T07:04:05.832Z"
   },
   {
    "duration": 0,
    "start_time": "2022-04-26T07:04:05.833Z"
   },
   {
    "duration": 0,
    "start_time": "2022-04-26T07:04:05.834Z"
   },
   {
    "duration": 0,
    "start_time": "2022-04-26T07:04:05.835Z"
   },
   {
    "duration": 0,
    "start_time": "2022-04-26T07:04:05.836Z"
   },
   {
    "duration": 0,
    "start_time": "2022-04-26T07:04:05.837Z"
   },
   {
    "duration": 214,
    "start_time": "2022-04-26T07:05:04.776Z"
   },
   {
    "duration": 10,
    "start_time": "2022-04-26T07:05:08.183Z"
   },
   {
    "duration": 9,
    "start_time": "2022-04-26T07:05:24.481Z"
   },
   {
    "duration": 461,
    "start_time": "2022-04-26T07:05:39.965Z"
   },
   {
    "duration": 16,
    "start_time": "2022-04-26T07:05:40.428Z"
   },
   {
    "duration": 13,
    "start_time": "2022-04-26T07:05:40.446Z"
   },
   {
    "duration": 32,
    "start_time": "2022-04-26T07:05:40.461Z"
   },
   {
    "duration": 6,
    "start_time": "2022-04-26T07:05:40.495Z"
   },
   {
    "duration": 21,
    "start_time": "2022-04-26T07:05:40.502Z"
   },
   {
    "duration": 13,
    "start_time": "2022-04-26T07:05:40.524Z"
   },
   {
    "duration": 18,
    "start_time": "2022-04-26T07:05:40.538Z"
   },
   {
    "duration": 206,
    "start_time": "2022-04-26T07:05:40.557Z"
   },
   {
    "duration": 10,
    "start_time": "2022-04-26T07:05:40.766Z"
   },
   {
    "duration": 16,
    "start_time": "2022-04-26T07:05:40.777Z"
   },
   {
    "duration": 15,
    "start_time": "2022-04-26T07:05:40.794Z"
   },
   {
    "duration": 12,
    "start_time": "2022-04-26T07:05:40.811Z"
   },
   {
    "duration": 17,
    "start_time": "2022-04-26T07:05:40.824Z"
   },
   {
    "duration": 32,
    "start_time": "2022-04-26T07:05:40.842Z"
   },
   {
    "duration": 16,
    "start_time": "2022-04-26T07:05:40.875Z"
   },
   {
    "duration": 235,
    "start_time": "2022-04-26T07:05:40.893Z"
   },
   {
    "duration": 10,
    "start_time": "2022-04-26T07:05:41.129Z"
   },
   {
    "duration": 16,
    "start_time": "2022-04-26T07:05:41.141Z"
   },
   {
    "duration": 19,
    "start_time": "2022-04-26T07:05:41.158Z"
   },
   {
    "duration": 18,
    "start_time": "2022-04-26T07:05:41.179Z"
   },
   {
    "duration": 17,
    "start_time": "2022-04-26T07:05:41.223Z"
   },
   {
    "duration": 6,
    "start_time": "2022-04-26T07:05:41.242Z"
   },
   {
    "duration": 11,
    "start_time": "2022-04-26T07:05:41.249Z"
   },
   {
    "duration": 12,
    "start_time": "2022-04-26T07:05:41.262Z"
   },
   {
    "duration": 12,
    "start_time": "2022-04-26T07:05:41.275Z"
   },
   {
    "duration": 9,
    "start_time": "2022-04-26T07:05:41.289Z"
   },
   {
    "duration": 9,
    "start_time": "2022-04-26T07:05:41.323Z"
   },
   {
    "duration": 11,
    "start_time": "2022-04-26T07:05:41.334Z"
   },
   {
    "duration": 15,
    "start_time": "2022-04-26T07:05:41.347Z"
   },
   {
    "duration": 13,
    "start_time": "2022-04-26T07:05:41.364Z"
   },
   {
    "duration": 21,
    "start_time": "2022-04-26T07:05:41.379Z"
   },
   {
    "duration": 25,
    "start_time": "2022-04-26T07:05:41.402Z"
   },
   {
    "duration": 4,
    "start_time": "2022-04-26T07:05:41.429Z"
   },
   {
    "duration": 18,
    "start_time": "2022-04-26T07:05:41.435Z"
   },
   {
    "duration": 6,
    "start_time": "2022-04-26T07:05:41.455Z"
   },
   {
    "duration": 15,
    "start_time": "2022-04-26T07:05:41.463Z"
   },
   {
    "duration": 16,
    "start_time": "2022-04-26T07:05:41.479Z"
   },
   {
    "duration": 28,
    "start_time": "2022-04-26T07:05:41.498Z"
   },
   {
    "duration": 5,
    "start_time": "2022-04-26T07:05:41.528Z"
   },
   {
    "duration": 28,
    "start_time": "2022-04-26T07:05:41.534Z"
   },
   {
    "duration": 18,
    "start_time": "2022-04-26T07:05:41.564Z"
   },
   {
    "duration": 17,
    "start_time": "2022-04-26T07:05:41.583Z"
   },
   {
    "duration": 34,
    "start_time": "2022-04-26T07:05:41.602Z"
   },
   {
    "duration": 6,
    "start_time": "2022-04-26T07:05:41.638Z"
   },
   {
    "duration": 32,
    "start_time": "2022-04-26T07:05:41.645Z"
   },
   {
    "duration": 18,
    "start_time": "2022-04-26T07:05:41.679Z"
   },
   {
    "duration": 23,
    "start_time": "2022-04-26T07:08:01.526Z"
   },
   {
    "duration": 17,
    "start_time": "2022-04-26T07:10:08.416Z"
   },
   {
    "duration": 514,
    "start_time": "2022-04-26T07:11:01.605Z"
   },
   {
    "duration": 15,
    "start_time": "2022-04-26T07:11:02.121Z"
   },
   {
    "duration": 16,
    "start_time": "2022-04-26T07:11:02.137Z"
   },
   {
    "duration": 38,
    "start_time": "2022-04-26T07:11:02.155Z"
   },
   {
    "duration": 14,
    "start_time": "2022-04-26T07:11:02.195Z"
   },
   {
    "duration": 15,
    "start_time": "2022-04-26T07:11:02.211Z"
   },
   {
    "duration": 16,
    "start_time": "2022-04-26T07:11:02.227Z"
   },
   {
    "duration": 8,
    "start_time": "2022-04-26T07:11:02.245Z"
   },
   {
    "duration": 209,
    "start_time": "2022-04-26T07:11:02.255Z"
   },
   {
    "duration": 9,
    "start_time": "2022-04-26T07:11:02.467Z"
   },
   {
    "duration": 14,
    "start_time": "2022-04-26T07:11:02.477Z"
   },
   {
    "duration": 11,
    "start_time": "2022-04-26T07:11:02.492Z"
   },
   {
    "duration": 11,
    "start_time": "2022-04-26T07:11:02.504Z"
   },
   {
    "duration": 11,
    "start_time": "2022-04-26T07:11:02.517Z"
   },
   {
    "duration": 14,
    "start_time": "2022-04-26T07:11:02.530Z"
   },
   {
    "duration": 14,
    "start_time": "2022-04-26T07:11:02.546Z"
   },
   {
    "duration": 217,
    "start_time": "2022-04-26T07:11:02.562Z"
   },
   {
    "duration": 10,
    "start_time": "2022-04-26T07:11:02.781Z"
   },
   {
    "duration": 29,
    "start_time": "2022-04-26T07:11:02.793Z"
   },
   {
    "duration": 16,
    "start_time": "2022-04-26T07:11:02.824Z"
   },
   {
    "duration": 17,
    "start_time": "2022-04-26T07:11:02.842Z"
   },
   {
    "duration": 16,
    "start_time": "2022-04-26T07:11:02.861Z"
   },
   {
    "duration": 7,
    "start_time": "2022-04-26T07:11:02.878Z"
   },
   {
    "duration": 37,
    "start_time": "2022-04-26T07:11:02.886Z"
   },
   {
    "duration": 6,
    "start_time": "2022-04-26T07:11:02.925Z"
   },
   {
    "duration": 8,
    "start_time": "2022-04-26T07:11:02.933Z"
   },
   {
    "duration": 8,
    "start_time": "2022-04-26T07:11:02.942Z"
   },
   {
    "duration": 11,
    "start_time": "2022-04-26T07:11:02.953Z"
   },
   {
    "duration": 11,
    "start_time": "2022-04-26T07:11:02.965Z"
   },
   {
    "duration": 9,
    "start_time": "2022-04-26T07:11:02.978Z"
   },
   {
    "duration": 40,
    "start_time": "2022-04-26T07:11:02.989Z"
   },
   {
    "duration": 11,
    "start_time": "2022-04-26T07:11:03.030Z"
   },
   {
    "duration": 10,
    "start_time": "2022-04-26T07:11:03.042Z"
   },
   {
    "duration": 4,
    "start_time": "2022-04-26T07:11:03.053Z"
   },
   {
    "duration": 15,
    "start_time": "2022-04-26T07:11:03.059Z"
   },
   {
    "duration": 4,
    "start_time": "2022-04-26T07:11:03.075Z"
   },
   {
    "duration": 41,
    "start_time": "2022-04-26T07:11:03.081Z"
   },
   {
    "duration": 17,
    "start_time": "2022-04-26T07:11:03.124Z"
   },
   {
    "duration": 7,
    "start_time": "2022-04-26T07:11:03.143Z"
   },
   {
    "duration": 5,
    "start_time": "2022-04-26T07:11:03.152Z"
   },
   {
    "duration": 26,
    "start_time": "2022-04-26T07:11:03.159Z"
   },
   {
    "duration": 47,
    "start_time": "2022-04-26T07:11:03.187Z"
   },
   {
    "duration": 19,
    "start_time": "2022-04-26T07:11:03.236Z"
   },
   {
    "duration": 16,
    "start_time": "2022-04-26T07:11:03.257Z"
   },
   {
    "duration": 7,
    "start_time": "2022-04-26T07:11:03.274Z"
   },
   {
    "duration": 52,
    "start_time": "2022-04-26T07:11:03.284Z"
   },
   {
    "duration": 18,
    "start_time": "2022-04-26T07:11:03.338Z"
   },
   {
    "duration": 19,
    "start_time": "2022-04-26T07:18:14.399Z"
   },
   {
    "duration": 595,
    "start_time": "2022-04-26T07:19:10.982Z"
   },
   {
    "duration": 17,
    "start_time": "2022-04-26T07:19:11.579Z"
   },
   {
    "duration": 23,
    "start_time": "2022-04-26T07:19:11.599Z"
   },
   {
    "duration": 23,
    "start_time": "2022-04-26T07:19:11.625Z"
   },
   {
    "duration": 5,
    "start_time": "2022-04-26T07:19:11.650Z"
   },
   {
    "duration": 8,
    "start_time": "2022-04-26T07:19:11.657Z"
   },
   {
    "duration": 8,
    "start_time": "2022-04-26T07:19:11.667Z"
   },
   {
    "duration": 7,
    "start_time": "2022-04-26T07:19:11.677Z"
   },
   {
    "duration": 256,
    "start_time": "2022-04-26T07:19:11.686Z"
   },
   {
    "duration": 11,
    "start_time": "2022-04-26T07:19:11.945Z"
   },
   {
    "duration": 4,
    "start_time": "2022-04-26T07:19:11.958Z"
   },
   {
    "duration": 3,
    "start_time": "2022-04-26T07:19:11.964Z"
   },
   {
    "duration": 5,
    "start_time": "2022-04-26T07:19:11.969Z"
   },
   {
    "duration": 4,
    "start_time": "2022-04-26T07:19:11.975Z"
   },
   {
    "duration": 48,
    "start_time": "2022-04-26T07:19:11.981Z"
   },
   {
    "duration": 7,
    "start_time": "2022-04-26T07:19:12.030Z"
   },
   {
    "duration": 250,
    "start_time": "2022-04-26T07:19:12.039Z"
   },
   {
    "duration": 11,
    "start_time": "2022-04-26T07:19:12.291Z"
   },
   {
    "duration": 28,
    "start_time": "2022-04-26T07:19:12.305Z"
   },
   {
    "duration": 16,
    "start_time": "2022-04-26T07:19:12.335Z"
   },
   {
    "duration": 21,
    "start_time": "2022-04-26T07:19:12.353Z"
   },
   {
    "duration": 16,
    "start_time": "2022-04-26T07:19:12.376Z"
   },
   {
    "duration": 33,
    "start_time": "2022-04-26T07:19:12.394Z"
   },
   {
    "duration": 15,
    "start_time": "2022-04-26T07:19:12.429Z"
   },
   {
    "duration": 12,
    "start_time": "2022-04-26T07:19:12.446Z"
   },
   {
    "duration": 12,
    "start_time": "2022-04-26T07:19:12.460Z"
   },
   {
    "duration": 14,
    "start_time": "2022-04-26T07:19:12.474Z"
   },
   {
    "duration": 14,
    "start_time": "2022-04-26T07:19:12.492Z"
   },
   {
    "duration": 16,
    "start_time": "2022-04-26T07:19:12.508Z"
   },
   {
    "duration": 15,
    "start_time": "2022-04-26T07:19:12.526Z"
   },
   {
    "duration": 72,
    "start_time": "2022-04-26T07:19:12.543Z"
   },
   {
    "duration": 189,
    "start_time": "2022-04-26T07:19:12.617Z"
   },
   {
    "duration": 23,
    "start_time": "2022-04-26T07:19:12.807Z"
   },
   {
    "duration": 15,
    "start_time": "2022-04-26T07:19:12.832Z"
   },
   {
    "duration": 23,
    "start_time": "2022-04-26T07:19:12.849Z"
   },
   {
    "duration": 5,
    "start_time": "2022-04-26T07:19:12.874Z"
   },
   {
    "duration": 15,
    "start_time": "2022-04-26T07:19:12.881Z"
   },
   {
    "duration": 28,
    "start_time": "2022-04-26T07:19:12.898Z"
   },
   {
    "duration": 32,
    "start_time": "2022-04-26T07:19:12.928Z"
   },
   {
    "duration": 21,
    "start_time": "2022-04-26T07:19:12.962Z"
   },
   {
    "duration": 40,
    "start_time": "2022-04-26T07:19:12.985Z"
   },
   {
    "duration": 33,
    "start_time": "2022-04-26T07:19:13.026Z"
   },
   {
    "duration": 20,
    "start_time": "2022-04-26T07:19:13.061Z"
   },
   {
    "duration": 26,
    "start_time": "2022-04-26T07:19:13.083Z"
   },
   {
    "duration": 13,
    "start_time": "2022-04-26T07:19:13.122Z"
   },
   {
    "duration": 34,
    "start_time": "2022-04-26T07:19:13.137Z"
   },
   {
    "duration": 18,
    "start_time": "2022-04-26T07:19:13.172Z"
   },
   {
    "duration": 516,
    "start_time": "2022-04-26T07:27:26.289Z"
   },
   {
    "duration": 15,
    "start_time": "2022-04-26T07:27:26.807Z"
   },
   {
    "duration": 29,
    "start_time": "2022-04-26T07:27:26.823Z"
   },
   {
    "duration": 29,
    "start_time": "2022-04-26T07:27:26.854Z"
   },
   {
    "duration": 5,
    "start_time": "2022-04-26T07:27:26.884Z"
   },
   {
    "duration": 30,
    "start_time": "2022-04-26T07:27:26.891Z"
   },
   {
    "duration": 24,
    "start_time": "2022-04-26T07:27:26.923Z"
   },
   {
    "duration": 20,
    "start_time": "2022-04-26T07:27:26.949Z"
   },
   {
    "duration": 218,
    "start_time": "2022-04-26T07:27:26.971Z"
   },
   {
    "duration": 11,
    "start_time": "2022-04-26T07:27:27.192Z"
   },
   {
    "duration": 34,
    "start_time": "2022-04-26T07:27:27.205Z"
   },
   {
    "duration": 27,
    "start_time": "2022-04-26T07:27:27.241Z"
   },
   {
    "duration": 20,
    "start_time": "2022-04-26T07:27:27.269Z"
   },
   {
    "duration": 26,
    "start_time": "2022-04-26T07:27:27.290Z"
   },
   {
    "duration": 38,
    "start_time": "2022-04-26T07:27:27.318Z"
   },
   {
    "duration": 24,
    "start_time": "2022-04-26T07:27:27.357Z"
   },
   {
    "duration": 229,
    "start_time": "2022-04-26T07:27:27.382Z"
   },
   {
    "duration": 10,
    "start_time": "2022-04-26T07:27:27.613Z"
   },
   {
    "duration": 22,
    "start_time": "2022-04-26T07:27:27.625Z"
   },
   {
    "duration": 16,
    "start_time": "2022-04-26T07:27:27.649Z"
   },
   {
    "duration": 19,
    "start_time": "2022-04-26T07:27:27.666Z"
   },
   {
    "duration": 36,
    "start_time": "2022-04-26T07:27:27.686Z"
   },
   {
    "duration": 8,
    "start_time": "2022-04-26T07:27:27.724Z"
   },
   {
    "duration": 27,
    "start_time": "2022-04-26T07:27:27.733Z"
   },
   {
    "duration": 14,
    "start_time": "2022-04-26T07:27:27.762Z"
   },
   {
    "duration": 19,
    "start_time": "2022-04-26T07:27:27.778Z"
   },
   {
    "duration": 19,
    "start_time": "2022-04-26T07:27:27.798Z"
   },
   {
    "duration": 11,
    "start_time": "2022-04-26T07:27:27.821Z"
   },
   {
    "duration": 15,
    "start_time": "2022-04-26T07:27:27.833Z"
   },
   {
    "duration": 20,
    "start_time": "2022-04-26T07:27:27.849Z"
   },
   {
    "duration": 15,
    "start_time": "2022-04-26T07:27:27.871Z"
   },
   {
    "duration": 18,
    "start_time": "2022-04-26T07:27:27.888Z"
   },
   {
    "duration": 23,
    "start_time": "2022-04-26T07:27:27.908Z"
   },
   {
    "duration": 4,
    "start_time": "2022-04-26T07:27:27.933Z"
   },
   {
    "duration": 26,
    "start_time": "2022-04-26T07:27:27.939Z"
   },
   {
    "duration": 9,
    "start_time": "2022-04-26T07:27:27.967Z"
   },
   {
    "duration": 31,
    "start_time": "2022-04-26T07:27:27.977Z"
   },
   {
    "duration": 18,
    "start_time": "2022-04-26T07:27:28.010Z"
   },
   {
    "duration": 13,
    "start_time": "2022-04-26T07:27:28.030Z"
   },
   {
    "duration": 8,
    "start_time": "2022-04-26T07:27:28.045Z"
   },
   {
    "duration": 29,
    "start_time": "2022-04-26T07:27:28.055Z"
   },
   {
    "duration": 21,
    "start_time": "2022-04-26T07:27:28.086Z"
   },
   {
    "duration": 26,
    "start_time": "2022-04-26T07:27:28.108Z"
   },
   {
    "duration": 15,
    "start_time": "2022-04-26T07:27:28.136Z"
   },
   {
    "duration": 6,
    "start_time": "2022-04-26T07:27:28.153Z"
   },
   {
    "duration": 24,
    "start_time": "2022-04-26T07:27:28.161Z"
   },
   {
    "duration": 43,
    "start_time": "2022-04-26T07:27:28.186Z"
   },
   {
    "duration": 507,
    "start_time": "2022-04-26T07:27:56.684Z"
   },
   {
    "duration": 16,
    "start_time": "2022-04-26T07:27:57.193Z"
   },
   {
    "duration": 19,
    "start_time": "2022-04-26T07:27:57.211Z"
   },
   {
    "duration": 29,
    "start_time": "2022-04-26T07:27:57.233Z"
   },
   {
    "duration": 7,
    "start_time": "2022-04-26T07:27:57.263Z"
   },
   {
    "duration": 20,
    "start_time": "2022-04-26T07:27:57.271Z"
   },
   {
    "duration": 22,
    "start_time": "2022-04-26T07:27:57.292Z"
   },
   {
    "duration": 27,
    "start_time": "2022-04-26T07:27:57.316Z"
   },
   {
    "duration": 215,
    "start_time": "2022-04-26T07:27:57.345Z"
   },
   {
    "duration": 10,
    "start_time": "2022-04-26T07:27:57.563Z"
   },
   {
    "duration": 18,
    "start_time": "2022-04-26T07:27:57.574Z"
   },
   {
    "duration": 9,
    "start_time": "2022-04-26T07:27:57.594Z"
   },
   {
    "duration": 15,
    "start_time": "2022-04-26T07:27:57.604Z"
   },
   {
    "duration": 9,
    "start_time": "2022-04-26T07:27:57.620Z"
   },
   {
    "duration": 21,
    "start_time": "2022-04-26T07:27:57.630Z"
   },
   {
    "duration": 31,
    "start_time": "2022-04-26T07:27:57.653Z"
   },
   {
    "duration": 215,
    "start_time": "2022-04-26T07:27:57.686Z"
   },
   {
    "duration": 19,
    "start_time": "2022-04-26T07:27:57.903Z"
   },
   {
    "duration": 26,
    "start_time": "2022-04-26T07:27:57.924Z"
   },
   {
    "duration": 20,
    "start_time": "2022-04-26T07:27:57.952Z"
   },
   {
    "duration": 31,
    "start_time": "2022-04-26T07:27:57.974Z"
   },
   {
    "duration": 29,
    "start_time": "2022-04-26T07:27:58.007Z"
   },
   {
    "duration": 10,
    "start_time": "2022-04-26T07:27:58.038Z"
   },
   {
    "duration": 19,
    "start_time": "2022-04-26T07:27:58.050Z"
   },
   {
    "duration": 26,
    "start_time": "2022-04-26T07:27:58.070Z"
   },
   {
    "duration": 17,
    "start_time": "2022-04-26T07:27:58.098Z"
   },
   {
    "duration": 27,
    "start_time": "2022-04-26T07:27:58.117Z"
   },
   {
    "duration": 36,
    "start_time": "2022-04-26T07:27:58.148Z"
   },
   {
    "duration": 23,
    "start_time": "2022-04-26T07:27:58.186Z"
   },
   {
    "duration": 38,
    "start_time": "2022-04-26T07:27:58.211Z"
   },
   {
    "duration": 37,
    "start_time": "2022-04-26T07:27:58.252Z"
   },
   {
    "duration": 28,
    "start_time": "2022-04-26T07:27:58.291Z"
   },
   {
    "duration": 36,
    "start_time": "2022-04-26T07:27:58.321Z"
   },
   {
    "duration": 19,
    "start_time": "2022-04-26T07:27:58.359Z"
   },
   {
    "duration": 46,
    "start_time": "2022-04-26T07:27:58.380Z"
   },
   {
    "duration": 19,
    "start_time": "2022-04-26T07:27:58.428Z"
   },
   {
    "duration": 36,
    "start_time": "2022-04-26T07:27:58.449Z"
   },
   {
    "duration": 62,
    "start_time": "2022-04-26T07:27:58.487Z"
   },
   {
    "duration": 32,
    "start_time": "2022-04-26T07:27:58.550Z"
   },
   {
    "duration": 17,
    "start_time": "2022-04-26T07:27:58.584Z"
   },
   {
    "duration": 49,
    "start_time": "2022-04-26T07:27:58.603Z"
   },
   {
    "duration": 22,
    "start_time": "2022-04-26T07:27:58.654Z"
   },
   {
    "duration": 19,
    "start_time": "2022-04-26T07:27:58.678Z"
   },
   {
    "duration": 37,
    "start_time": "2022-04-26T07:27:58.698Z"
   },
   {
    "duration": 14,
    "start_time": "2022-04-26T07:27:58.737Z"
   },
   {
    "duration": 40,
    "start_time": "2022-04-26T07:27:58.753Z"
   },
   {
    "duration": 31,
    "start_time": "2022-04-26T07:27:58.795Z"
   },
   {
    "duration": 16,
    "start_time": "2022-04-26T07:28:25.951Z"
   },
   {
    "duration": 16,
    "start_time": "2022-04-26T07:28:45.960Z"
   },
   {
    "duration": 514,
    "start_time": "2022-04-26T07:29:42.681Z"
   },
   {
    "duration": 15,
    "start_time": "2022-04-26T07:29:43.197Z"
   },
   {
    "duration": 16,
    "start_time": "2022-04-26T07:29:43.213Z"
   },
   {
    "duration": 19,
    "start_time": "2022-04-26T07:29:43.231Z"
   },
   {
    "duration": 5,
    "start_time": "2022-04-26T07:29:43.251Z"
   },
   {
    "duration": 12,
    "start_time": "2022-04-26T07:29:43.258Z"
   },
   {
    "duration": 10,
    "start_time": "2022-04-26T07:29:43.271Z"
   },
   {
    "duration": 40,
    "start_time": "2022-04-26T07:29:43.283Z"
   },
   {
    "duration": 237,
    "start_time": "2022-04-26T07:29:43.325Z"
   },
   {
    "duration": 10,
    "start_time": "2022-04-26T07:29:43.565Z"
   },
   {
    "duration": 6,
    "start_time": "2022-04-26T07:29:43.576Z"
   },
   {
    "duration": 4,
    "start_time": "2022-04-26T07:29:43.584Z"
   },
   {
    "duration": 7,
    "start_time": "2022-04-26T07:29:43.590Z"
   },
   {
    "duration": 5,
    "start_time": "2022-04-26T07:29:43.623Z"
   },
   {
    "duration": 9,
    "start_time": "2022-04-26T07:29:43.630Z"
   },
   {
    "duration": 14,
    "start_time": "2022-04-26T07:29:43.640Z"
   },
   {
    "duration": 241,
    "start_time": "2022-04-26T07:29:43.656Z"
   },
   {
    "duration": 11,
    "start_time": "2022-04-26T07:29:43.899Z"
   },
   {
    "duration": 25,
    "start_time": "2022-04-26T07:29:43.911Z"
   },
   {
    "duration": 17,
    "start_time": "2022-04-26T07:29:43.938Z"
   },
   {
    "duration": 18,
    "start_time": "2022-04-26T07:29:43.957Z"
   },
   {
    "duration": 51,
    "start_time": "2022-04-26T07:29:43.976Z"
   },
   {
    "duration": 7,
    "start_time": "2022-04-26T07:29:44.029Z"
   },
   {
    "duration": 8,
    "start_time": "2022-04-26T07:29:44.037Z"
   },
   {
    "duration": 9,
    "start_time": "2022-04-26T07:29:44.046Z"
   },
   {
    "duration": 10,
    "start_time": "2022-04-26T07:29:44.057Z"
   },
   {
    "duration": 8,
    "start_time": "2022-04-26T07:29:44.069Z"
   },
   {
    "duration": 11,
    "start_time": "2022-04-26T07:29:44.080Z"
   },
   {
    "duration": 33,
    "start_time": "2022-04-26T07:29:44.093Z"
   },
   {
    "duration": 11,
    "start_time": "2022-04-26T07:29:44.128Z"
   },
   {
    "duration": 15,
    "start_time": "2022-04-26T07:29:44.141Z"
   },
   {
    "duration": 15,
    "start_time": "2022-04-26T07:29:44.158Z"
   },
   {
    "duration": 14,
    "start_time": "2022-04-26T07:29:44.174Z"
   },
   {
    "duration": 4,
    "start_time": "2022-04-26T07:29:44.190Z"
   },
   {
    "duration": 38,
    "start_time": "2022-04-26T07:29:44.195Z"
   },
   {
    "duration": 4,
    "start_time": "2022-04-26T07:29:44.234Z"
   },
   {
    "duration": 14,
    "start_time": "2022-04-26T07:29:44.239Z"
   },
   {
    "duration": 14,
    "start_time": "2022-04-26T07:29:44.255Z"
   },
   {
    "duration": 7,
    "start_time": "2022-04-26T07:29:44.270Z"
   },
   {
    "duration": 7,
    "start_time": "2022-04-26T07:29:44.278Z"
   },
   {
    "duration": 47,
    "start_time": "2022-04-26T07:29:44.286Z"
   },
   {
    "duration": 18,
    "start_time": "2022-04-26T07:29:44.335Z"
   },
   {
    "duration": 15,
    "start_time": "2022-04-26T07:29:44.355Z"
   },
   {
    "duration": 14,
    "start_time": "2022-04-26T07:29:44.372Z"
   },
   {
    "duration": 6,
    "start_time": "2022-04-26T07:29:44.387Z"
   },
   {
    "duration": 18,
    "start_time": "2022-04-26T07:29:44.422Z"
   },
   {
    "duration": 18,
    "start_time": "2022-04-26T07:29:44.441Z"
   },
   {
    "duration": 530,
    "start_time": "2022-04-26T07:42:10.438Z"
   },
   {
    "duration": 18,
    "start_time": "2022-04-26T07:42:10.970Z"
   },
   {
    "duration": 11,
    "start_time": "2022-04-26T07:42:10.990Z"
   },
   {
    "duration": 35,
    "start_time": "2022-04-26T07:42:11.004Z"
   },
   {
    "duration": 7,
    "start_time": "2022-04-26T07:42:11.041Z"
   },
   {
    "duration": 8,
    "start_time": "2022-04-26T07:42:11.050Z"
   },
   {
    "duration": 10,
    "start_time": "2022-04-26T07:42:11.060Z"
   },
   {
    "duration": 12,
    "start_time": "2022-04-26T07:42:11.072Z"
   },
   {
    "duration": 444,
    "start_time": "2022-04-26T07:42:11.086Z"
   },
   {
    "duration": 16,
    "start_time": "2022-04-26T07:42:11.535Z"
   },
   {
    "duration": 22,
    "start_time": "2022-04-26T07:42:11.553Z"
   },
   {
    "duration": 13,
    "start_time": "2022-04-26T07:42:11.576Z"
   },
   {
    "duration": 17,
    "start_time": "2022-04-26T07:42:11.592Z"
   },
   {
    "duration": 10,
    "start_time": "2022-04-26T07:42:11.611Z"
   },
   {
    "duration": 11,
    "start_time": "2022-04-26T07:42:11.623Z"
   },
   {
    "duration": 10,
    "start_time": "2022-04-26T07:42:11.635Z"
   },
   {
    "duration": 266,
    "start_time": "2022-04-26T07:42:11.647Z"
   },
   {
    "duration": 15,
    "start_time": "2022-04-26T07:42:11.916Z"
   },
   {
    "duration": 18,
    "start_time": "2022-04-26T07:42:11.933Z"
   },
   {
    "duration": 18,
    "start_time": "2022-04-26T07:42:11.953Z"
   },
   {
    "duration": 20,
    "start_time": "2022-04-26T07:42:11.973Z"
   },
   {
    "duration": 20,
    "start_time": "2022-04-26T07:42:12.022Z"
   },
   {
    "duration": 7,
    "start_time": "2022-04-26T07:42:12.044Z"
   },
   {
    "duration": 9,
    "start_time": "2022-04-26T07:42:12.054Z"
   },
   {
    "duration": 8,
    "start_time": "2022-04-26T07:42:12.065Z"
   },
   {
    "duration": 8,
    "start_time": "2022-04-26T07:42:12.075Z"
   },
   {
    "duration": 11,
    "start_time": "2022-04-26T07:42:12.121Z"
   },
   {
    "duration": 11,
    "start_time": "2022-04-26T07:42:12.136Z"
   },
   {
    "duration": 11,
    "start_time": "2022-04-26T07:42:12.149Z"
   },
   {
    "duration": 13,
    "start_time": "2022-04-26T07:42:12.162Z"
   },
   {
    "duration": 12,
    "start_time": "2022-04-26T07:42:12.177Z"
   },
   {
    "duration": 43,
    "start_time": "2022-04-26T07:42:12.191Z"
   },
   {
    "duration": 11,
    "start_time": "2022-04-26T07:42:12.236Z"
   },
   {
    "duration": 5,
    "start_time": "2022-04-26T07:42:12.249Z"
   },
   {
    "duration": 19,
    "start_time": "2022-04-26T07:42:12.256Z"
   },
   {
    "duration": 6,
    "start_time": "2022-04-26T07:42:12.277Z"
   },
   {
    "duration": 41,
    "start_time": "2022-04-26T07:42:12.284Z"
   },
   {
    "duration": 18,
    "start_time": "2022-04-26T07:42:12.328Z"
   },
   {
    "duration": 10,
    "start_time": "2022-04-26T07:42:12.348Z"
   },
   {
    "duration": 5,
    "start_time": "2022-04-26T07:42:12.360Z"
   },
   {
    "duration": 55,
    "start_time": "2022-04-26T07:42:12.367Z"
   },
   {
    "duration": 21,
    "start_time": "2022-04-26T07:42:12.424Z"
   },
   {
    "duration": 18,
    "start_time": "2022-04-26T07:42:12.447Z"
   },
   {
    "duration": 16,
    "start_time": "2022-04-26T07:42:12.467Z"
   },
   {
    "duration": 7,
    "start_time": "2022-04-26T07:42:12.485Z"
   },
   {
    "duration": 26,
    "start_time": "2022-04-26T07:42:12.523Z"
   },
   {
    "duration": 24,
    "start_time": "2022-04-26T07:42:12.551Z"
   },
   {
    "duration": 4,
    "start_time": "2022-04-26T07:47:06.192Z"
   },
   {
    "duration": 10,
    "start_time": "2022-04-26T07:47:11.395Z"
   },
   {
    "duration": 17,
    "start_time": "2022-04-26T07:47:17.507Z"
   },
   {
    "duration": 3,
    "start_time": "2022-04-26T07:48:09.824Z"
   },
   {
    "duration": 4,
    "start_time": "2022-04-26T07:48:22.951Z"
   },
   {
    "duration": 4,
    "start_time": "2022-04-26T07:48:30.242Z"
   },
   {
    "duration": 487,
    "start_time": "2022-04-26T07:49:52.857Z"
   },
   {
    "duration": 16,
    "start_time": "2022-04-26T07:49:53.346Z"
   },
   {
    "duration": 10,
    "start_time": "2022-04-26T07:49:53.364Z"
   },
   {
    "duration": 25,
    "start_time": "2022-04-26T07:49:53.376Z"
   },
   {
    "duration": 6,
    "start_time": "2022-04-26T07:49:53.422Z"
   },
   {
    "duration": 17,
    "start_time": "2022-04-26T07:49:53.430Z"
   },
   {
    "duration": 19,
    "start_time": "2022-04-26T07:49:53.449Z"
   },
   {
    "duration": 21,
    "start_time": "2022-04-26T07:49:53.469Z"
   },
   {
    "duration": 230,
    "start_time": "2022-04-26T07:49:53.492Z"
   },
   {
    "duration": 10,
    "start_time": "2022-04-26T07:49:53.725Z"
   },
   {
    "duration": 5,
    "start_time": "2022-04-26T07:49:53.737Z"
   },
   {
    "duration": 4,
    "start_time": "2022-04-26T07:49:53.743Z"
   },
   {
    "duration": 6,
    "start_time": "2022-04-26T07:49:53.748Z"
   },
   {
    "duration": 5,
    "start_time": "2022-04-26T07:49:53.755Z"
   },
   {
    "duration": 7,
    "start_time": "2022-04-26T07:49:53.762Z"
   },
   {
    "duration": 11,
    "start_time": "2022-04-26T07:49:53.770Z"
   },
   {
    "duration": 246,
    "start_time": "2022-04-26T07:49:53.782Z"
   },
   {
    "duration": 10,
    "start_time": "2022-04-26T07:49:54.029Z"
   },
   {
    "duration": 19,
    "start_time": "2022-04-26T07:49:54.040Z"
   },
   {
    "duration": 15,
    "start_time": "2022-04-26T07:49:54.060Z"
   },
   {
    "duration": 16,
    "start_time": "2022-04-26T07:49:54.076Z"
   },
   {
    "duration": 40,
    "start_time": "2022-04-26T07:49:54.094Z"
   },
   {
    "duration": 6,
    "start_time": "2022-04-26T07:49:54.136Z"
   },
   {
    "duration": 12,
    "start_time": "2022-04-26T07:49:54.144Z"
   },
   {
    "duration": 24,
    "start_time": "2022-04-26T07:49:54.158Z"
   },
   {
    "duration": 19,
    "start_time": "2022-04-26T07:49:54.183Z"
   },
   {
    "duration": 22,
    "start_time": "2022-04-26T07:49:54.203Z"
   },
   {
    "duration": 15,
    "start_time": "2022-04-26T07:49:54.229Z"
   },
   {
    "duration": 23,
    "start_time": "2022-04-26T07:49:54.246Z"
   },
   {
    "duration": 16,
    "start_time": "2022-04-26T07:49:54.270Z"
   },
   {
    "duration": 13,
    "start_time": "2022-04-26T07:49:54.288Z"
   },
   {
    "duration": 18,
    "start_time": "2022-04-26T07:49:54.302Z"
   },
   {
    "duration": 12,
    "start_time": "2022-04-26T07:49:54.321Z"
   },
   {
    "duration": 7,
    "start_time": "2022-04-26T07:49:54.334Z"
   },
   {
    "duration": 21,
    "start_time": "2022-04-26T07:49:54.342Z"
   },
   {
    "duration": 5,
    "start_time": "2022-04-26T07:49:54.364Z"
   },
   {
    "duration": 15,
    "start_time": "2022-04-26T07:49:54.371Z"
   },
   {
    "duration": 35,
    "start_time": "2022-04-26T07:49:54.388Z"
   },
   {
    "duration": 4,
    "start_time": "2022-04-26T07:49:54.425Z"
   },
   {
    "duration": 10,
    "start_time": "2022-04-26T07:49:54.431Z"
   },
   {
    "duration": 6,
    "start_time": "2022-04-26T07:49:54.443Z"
   },
   {
    "duration": 27,
    "start_time": "2022-04-26T07:49:54.451Z"
   },
   {
    "duration": 18,
    "start_time": "2022-04-26T07:49:54.479Z"
   },
   {
    "duration": 38,
    "start_time": "2022-04-26T07:49:54.499Z"
   },
   {
    "duration": 15,
    "start_time": "2022-04-26T07:49:54.539Z"
   },
   {
    "duration": 5,
    "start_time": "2022-04-26T07:49:54.556Z"
   },
   {
    "duration": 19,
    "start_time": "2022-04-26T07:49:54.563Z"
   },
   {
    "duration": 46,
    "start_time": "2022-04-26T07:49:54.584Z"
   },
   {
    "duration": 5,
    "start_time": "2022-04-26T07:57:53.294Z"
   },
   {
    "duration": 571,
    "start_time": "2022-04-26T07:58:17.627Z"
   },
   {
    "duration": 24,
    "start_time": "2022-04-26T07:58:18.200Z"
   },
   {
    "duration": 11,
    "start_time": "2022-04-26T07:58:18.226Z"
   },
   {
    "duration": 20,
    "start_time": "2022-04-26T07:58:18.239Z"
   },
   {
    "duration": 5,
    "start_time": "2022-04-26T07:58:18.260Z"
   },
   {
    "duration": 7,
    "start_time": "2022-04-26T07:58:18.267Z"
   },
   {
    "duration": 8,
    "start_time": "2022-04-26T07:58:18.276Z"
   },
   {
    "duration": 43,
    "start_time": "2022-04-26T07:58:18.286Z"
   },
   {
    "duration": 244,
    "start_time": "2022-04-26T07:58:18.331Z"
   },
   {
    "duration": 11,
    "start_time": "2022-04-26T07:58:18.579Z"
   },
   {
    "duration": 4,
    "start_time": "2022-04-26T07:58:18.592Z"
   },
   {
    "duration": 4,
    "start_time": "2022-04-26T07:58:18.598Z"
   },
   {
    "duration": 4,
    "start_time": "2022-04-26T07:58:18.623Z"
   },
   {
    "duration": 5,
    "start_time": "2022-04-26T07:58:18.629Z"
   },
   {
    "duration": 7,
    "start_time": "2022-04-26T07:58:18.636Z"
   },
   {
    "duration": 8,
    "start_time": "2022-04-26T07:58:18.645Z"
   },
   {
    "duration": 251,
    "start_time": "2022-04-26T07:58:18.654Z"
   },
   {
    "duration": 16,
    "start_time": "2022-04-26T07:58:18.907Z"
   },
   {
    "duration": 16,
    "start_time": "2022-04-26T07:58:18.925Z"
   },
   {
    "duration": 17,
    "start_time": "2022-04-26T07:58:18.942Z"
   },
   {
    "duration": 18,
    "start_time": "2022-04-26T07:58:18.960Z"
   },
   {
    "duration": 46,
    "start_time": "2022-04-26T07:58:18.980Z"
   },
   {
    "duration": 7,
    "start_time": "2022-04-26T07:58:19.028Z"
   },
   {
    "duration": 17,
    "start_time": "2022-04-26T07:58:19.037Z"
   },
   {
    "duration": 8,
    "start_time": "2022-04-26T07:58:19.055Z"
   },
   {
    "duration": 8,
    "start_time": "2022-04-26T07:58:19.065Z"
   },
   {
    "duration": 8,
    "start_time": "2022-04-26T07:58:19.075Z"
   },
   {
    "duration": 39,
    "start_time": "2022-04-26T07:58:19.087Z"
   },
   {
    "duration": 9,
    "start_time": "2022-04-26T07:58:19.127Z"
   },
   {
    "duration": 14,
    "start_time": "2022-04-26T07:58:19.138Z"
   },
   {
    "duration": 10,
    "start_time": "2022-04-26T07:58:19.153Z"
   },
   {
    "duration": 12,
    "start_time": "2022-04-26T07:58:19.165Z"
   },
   {
    "duration": 17,
    "start_time": "2022-04-26T07:58:19.178Z"
   },
   {
    "duration": 26,
    "start_time": "2022-04-26T07:58:19.197Z"
   },
   {
    "duration": 15,
    "start_time": "2022-04-26T07:58:19.225Z"
   },
   {
    "duration": 5,
    "start_time": "2022-04-26T07:58:19.242Z"
   },
   {
    "duration": 14,
    "start_time": "2022-04-26T07:58:19.249Z"
   },
   {
    "duration": 13,
    "start_time": "2022-04-26T07:58:19.264Z"
   },
   {
    "duration": 6,
    "start_time": "2022-04-26T07:58:19.279Z"
   },
   {
    "duration": 12,
    "start_time": "2022-04-26T07:58:19.287Z"
   },
   {
    "duration": 3,
    "start_time": "2022-04-26T07:58:19.323Z"
   },
   {
    "duration": 28,
    "start_time": "2022-04-26T07:58:19.328Z"
   },
   {
    "duration": 19,
    "start_time": "2022-04-26T07:58:19.358Z"
   },
   {
    "duration": 18,
    "start_time": "2022-04-26T07:58:19.379Z"
   },
   {
    "duration": 20,
    "start_time": "2022-04-26T07:58:19.422Z"
   },
   {
    "duration": 7,
    "start_time": "2022-04-26T07:58:19.444Z"
   },
   {
    "duration": 25,
    "start_time": "2022-04-26T07:58:19.453Z"
   },
   {
    "duration": 47,
    "start_time": "2022-04-26T07:58:19.480Z"
   },
   {
    "duration": 515,
    "start_time": "2022-04-26T08:04:03.598Z"
   },
   {
    "duration": 16,
    "start_time": "2022-04-26T08:04:04.115Z"
   },
   {
    "duration": 11,
    "start_time": "2022-04-26T08:04:04.132Z"
   },
   {
    "duration": 22,
    "start_time": "2022-04-26T08:04:04.145Z"
   },
   {
    "duration": 6,
    "start_time": "2022-04-26T08:04:04.169Z"
   },
   {
    "duration": 11,
    "start_time": "2022-04-26T08:04:04.176Z"
   },
   {
    "duration": 44,
    "start_time": "2022-04-26T08:04:04.188Z"
   },
   {
    "duration": 8,
    "start_time": "2022-04-26T08:04:04.234Z"
   },
   {
    "duration": 220,
    "start_time": "2022-04-26T08:04:04.244Z"
   },
   {
    "duration": 11,
    "start_time": "2022-04-26T08:04:04.466Z"
   },
   {
    "duration": 6,
    "start_time": "2022-04-26T08:04:04.479Z"
   },
   {
    "duration": 7,
    "start_time": "2022-04-26T08:04:04.487Z"
   },
   {
    "duration": 28,
    "start_time": "2022-04-26T08:04:04.495Z"
   },
   {
    "duration": 5,
    "start_time": "2022-04-26T08:04:04.528Z"
   },
   {
    "duration": 8,
    "start_time": "2022-04-26T08:04:04.534Z"
   },
   {
    "duration": 9,
    "start_time": "2022-04-26T08:04:04.544Z"
   },
   {
    "duration": 238,
    "start_time": "2022-04-26T08:04:04.555Z"
   },
   {
    "duration": 12,
    "start_time": "2022-04-26T08:04:04.795Z"
   },
   {
    "duration": 29,
    "start_time": "2022-04-26T08:04:04.808Z"
   },
   {
    "duration": 15,
    "start_time": "2022-04-26T08:04:04.839Z"
   },
   {
    "duration": 16,
    "start_time": "2022-04-26T08:04:04.856Z"
   },
   {
    "duration": 16,
    "start_time": "2022-04-26T08:04:04.874Z"
   },
   {
    "duration": 35,
    "start_time": "2022-04-26T08:04:04.891Z"
   },
   {
    "duration": 8,
    "start_time": "2022-04-26T08:04:04.927Z"
   },
   {
    "duration": 7,
    "start_time": "2022-04-26T08:04:04.937Z"
   },
   {
    "duration": 8,
    "start_time": "2022-04-26T08:04:04.946Z"
   },
   {
    "duration": 10,
    "start_time": "2022-04-26T08:04:04.955Z"
   },
   {
    "duration": 11,
    "start_time": "2022-04-26T08:04:04.967Z"
   },
   {
    "duration": 8,
    "start_time": "2022-04-26T08:04:04.980Z"
   },
   {
    "duration": 38,
    "start_time": "2022-04-26T08:04:04.990Z"
   },
   {
    "duration": 11,
    "start_time": "2022-04-26T08:04:05.030Z"
   },
   {
    "duration": 23,
    "start_time": "2022-04-26T08:04:05.042Z"
   },
   {
    "duration": 9,
    "start_time": "2022-04-26T08:04:05.067Z"
   },
   {
    "duration": 6,
    "start_time": "2022-04-26T08:04:05.077Z"
   },
   {
    "duration": 21,
    "start_time": "2022-04-26T08:04:05.084Z"
   },
   {
    "duration": 4,
    "start_time": "2022-04-26T08:04:05.122Z"
   },
   {
    "duration": 14,
    "start_time": "2022-04-26T08:04:05.127Z"
   },
   {
    "duration": 13,
    "start_time": "2022-04-26T08:04:05.143Z"
   },
   {
    "duration": 6,
    "start_time": "2022-04-26T08:04:05.157Z"
   },
   {
    "duration": 13,
    "start_time": "2022-04-26T08:04:05.165Z"
   },
   {
    "duration": 7,
    "start_time": "2022-04-26T08:04:05.182Z"
   },
   {
    "duration": 39,
    "start_time": "2022-04-26T08:04:05.191Z"
   },
   {
    "duration": 17,
    "start_time": "2022-04-26T08:04:05.231Z"
   },
   {
    "duration": 16,
    "start_time": "2022-04-26T08:04:05.250Z"
   },
   {
    "duration": 15,
    "start_time": "2022-04-26T08:04:05.268Z"
   },
   {
    "duration": 6,
    "start_time": "2022-04-26T08:04:05.284Z"
   },
   {
    "duration": 44,
    "start_time": "2022-04-26T08:04:05.292Z"
   },
   {
    "duration": 16,
    "start_time": "2022-04-26T08:04:05.337Z"
   },
   {
    "duration": 14,
    "start_time": "2022-04-26T08:05:00.808Z"
   },
   {
    "duration": 10,
    "start_time": "2022-04-26T08:05:18.801Z"
   },
   {
    "duration": 476,
    "start_time": "2022-04-26T08:17:04.043Z"
   },
   {
    "duration": 15,
    "start_time": "2022-04-26T08:17:04.521Z"
   },
   {
    "duration": 9,
    "start_time": "2022-04-26T08:17:04.538Z"
   },
   {
    "duration": 20,
    "start_time": "2022-04-26T08:17:04.550Z"
   },
   {
    "duration": 5,
    "start_time": "2022-04-26T08:17:04.571Z"
   },
   {
    "duration": 9,
    "start_time": "2022-04-26T08:17:04.578Z"
   },
   {
    "duration": 38,
    "start_time": "2022-04-26T08:17:04.589Z"
   },
   {
    "duration": 8,
    "start_time": "2022-04-26T08:17:04.628Z"
   },
   {
    "duration": 228,
    "start_time": "2022-04-26T08:17:04.638Z"
   },
   {
    "duration": 9,
    "start_time": "2022-04-26T08:17:04.869Z"
   },
   {
    "duration": 4,
    "start_time": "2022-04-26T08:17:04.880Z"
   },
   {
    "duration": 4,
    "start_time": "2022-04-26T08:17:04.885Z"
   },
   {
    "duration": 9,
    "start_time": "2022-04-26T08:17:04.890Z"
   },
   {
    "duration": 25,
    "start_time": "2022-04-26T08:17:04.901Z"
   },
   {
    "duration": 8,
    "start_time": "2022-04-26T08:17:04.928Z"
   },
   {
    "duration": 7,
    "start_time": "2022-04-26T08:17:04.938Z"
   },
   {
    "duration": 224,
    "start_time": "2022-04-26T08:17:04.946Z"
   },
   {
    "duration": 11,
    "start_time": "2022-04-26T08:17:05.171Z"
   },
   {
    "duration": 17,
    "start_time": "2022-04-26T08:17:05.183Z"
   },
   {
    "duration": 32,
    "start_time": "2022-04-26T08:17:05.202Z"
   },
   {
    "duration": 17,
    "start_time": "2022-04-26T08:17:05.236Z"
   },
   {
    "duration": 18,
    "start_time": "2022-04-26T08:17:05.254Z"
   },
   {
    "duration": 7,
    "start_time": "2022-04-26T08:17:05.274Z"
   },
   {
    "duration": 9,
    "start_time": "2022-04-26T08:17:05.283Z"
   },
   {
    "duration": 34,
    "start_time": "2022-04-26T08:17:05.294Z"
   },
   {
    "duration": 9,
    "start_time": "2022-04-26T08:17:05.330Z"
   },
   {
    "duration": 12,
    "start_time": "2022-04-26T08:17:05.340Z"
   },
   {
    "duration": 12,
    "start_time": "2022-04-26T08:17:05.356Z"
   },
   {
    "duration": 11,
    "start_time": "2022-04-26T08:17:05.369Z"
   },
   {
    "duration": 15,
    "start_time": "2022-04-26T08:17:05.381Z"
   },
   {
    "duration": 31,
    "start_time": "2022-04-26T08:17:05.398Z"
   },
   {
    "duration": 11,
    "start_time": "2022-04-26T08:17:05.431Z"
   },
   {
    "duration": 10,
    "start_time": "2022-04-26T08:17:05.443Z"
   },
   {
    "duration": 4,
    "start_time": "2022-04-26T08:17:05.455Z"
   },
   {
    "duration": 20,
    "start_time": "2022-04-26T08:17:05.461Z"
   },
   {
    "duration": 4,
    "start_time": "2022-04-26T08:17:05.483Z"
   },
   {
    "duration": 39,
    "start_time": "2022-04-26T08:17:05.488Z"
   },
   {
    "duration": 15,
    "start_time": "2022-04-26T08:17:05.528Z"
   },
   {
    "duration": 6,
    "start_time": "2022-04-26T08:17:05.544Z"
   },
   {
    "duration": 13,
    "start_time": "2022-04-26T08:17:05.551Z"
   },
   {
    "duration": 6,
    "start_time": "2022-04-26T08:17:05.566Z"
   },
   {
    "duration": 35,
    "start_time": "2022-04-26T08:17:05.573Z"
   },
   {
    "duration": 29,
    "start_time": "2022-04-26T08:17:05.610Z"
   },
   {
    "duration": 16,
    "start_time": "2022-04-26T08:17:05.641Z"
   },
   {
    "duration": 10,
    "start_time": "2022-04-26T08:17:05.659Z"
   },
   {
    "duration": 19,
    "start_time": "2022-04-26T08:17:05.670Z"
   },
   {
    "duration": 31,
    "start_time": "2022-04-26T08:17:05.691Z"
   },
   {
    "duration": 17,
    "start_time": "2022-04-26T08:17:05.724Z"
   },
   {
    "duration": 17,
    "start_time": "2022-04-26T08:17:05.743Z"
   },
   {
    "duration": 463,
    "start_time": "2022-04-26T08:21:31.971Z"
   },
   {
    "duration": 15,
    "start_time": "2022-04-26T08:21:32.436Z"
   },
   {
    "duration": 12,
    "start_time": "2022-04-26T08:21:32.453Z"
   },
   {
    "duration": 18,
    "start_time": "2022-04-26T08:21:32.468Z"
   },
   {
    "duration": 5,
    "start_time": "2022-04-26T08:21:32.488Z"
   },
   {
    "duration": 6,
    "start_time": "2022-04-26T08:21:32.523Z"
   },
   {
    "duration": 7,
    "start_time": "2022-04-26T08:21:32.531Z"
   },
   {
    "duration": 8,
    "start_time": "2022-04-26T08:21:32.540Z"
   },
   {
    "duration": 228,
    "start_time": "2022-04-26T08:21:32.549Z"
   },
   {
    "duration": 10,
    "start_time": "2022-04-26T08:21:32.780Z"
   },
   {
    "duration": 16,
    "start_time": "2022-04-26T08:21:32.791Z"
   },
   {
    "duration": 6,
    "start_time": "2022-04-26T08:21:32.808Z"
   },
   {
    "duration": 24,
    "start_time": "2022-04-26T08:21:32.815Z"
   },
   {
    "duration": 9,
    "start_time": "2022-04-26T08:21:32.841Z"
   },
   {
    "duration": 18,
    "start_time": "2022-04-26T08:21:32.851Z"
   },
   {
    "duration": 22,
    "start_time": "2022-04-26T08:21:32.870Z"
   },
   {
    "duration": 209,
    "start_time": "2022-04-26T08:21:32.894Z"
   },
   {
    "duration": 17,
    "start_time": "2022-04-26T08:21:33.105Z"
   },
   {
    "duration": 14,
    "start_time": "2022-04-26T08:21:33.123Z"
   },
   {
    "duration": 29,
    "start_time": "2022-04-26T08:21:33.139Z"
   },
   {
    "duration": 18,
    "start_time": "2022-04-26T08:21:33.169Z"
   },
   {
    "duration": 16,
    "start_time": "2022-04-26T08:21:33.188Z"
   },
   {
    "duration": 19,
    "start_time": "2022-04-26T08:21:33.205Z"
   },
   {
    "duration": 14,
    "start_time": "2022-04-26T08:21:33.226Z"
   },
   {
    "duration": 33,
    "start_time": "2022-04-26T08:21:33.242Z"
   },
   {
    "duration": 19,
    "start_time": "2022-04-26T08:21:33.277Z"
   },
   {
    "duration": 25,
    "start_time": "2022-04-26T08:21:33.298Z"
   },
   {
    "duration": 34,
    "start_time": "2022-04-26T08:21:33.327Z"
   },
   {
    "duration": 19,
    "start_time": "2022-04-26T08:21:33.363Z"
   },
   {
    "duration": 29,
    "start_time": "2022-04-26T08:21:33.383Z"
   },
   {
    "duration": 44,
    "start_time": "2022-04-26T08:21:33.414Z"
   },
   {
    "duration": 40,
    "start_time": "2022-04-26T08:21:33.460Z"
   },
   {
    "duration": 25,
    "start_time": "2022-04-26T08:21:33.502Z"
   },
   {
    "duration": 19,
    "start_time": "2022-04-26T08:21:33.529Z"
   },
   {
    "duration": 29,
    "start_time": "2022-04-26T08:21:33.550Z"
   },
   {
    "duration": 28,
    "start_time": "2022-04-26T08:21:33.581Z"
   },
   {
    "duration": 25,
    "start_time": "2022-04-26T08:21:33.610Z"
   },
   {
    "duration": 28,
    "start_time": "2022-04-26T08:21:33.636Z"
   },
   {
    "duration": 30,
    "start_time": "2022-04-26T08:21:33.665Z"
   },
   {
    "duration": 15,
    "start_time": "2022-04-26T08:21:33.696Z"
   },
   {
    "duration": 30,
    "start_time": "2022-04-26T08:21:33.712Z"
   },
   {
    "duration": 34,
    "start_time": "2022-04-26T08:21:33.743Z"
   },
   {
    "duration": 36,
    "start_time": "2022-04-26T08:21:33.779Z"
   },
   {
    "duration": 29,
    "start_time": "2022-04-26T08:21:33.817Z"
   },
   {
    "duration": 10,
    "start_time": "2022-04-26T08:21:33.848Z"
   },
   {
    "duration": 27,
    "start_time": "2022-04-26T08:21:33.859Z"
   },
   {
    "duration": 21,
    "start_time": "2022-04-26T08:21:33.888Z"
   },
   {
    "duration": 24,
    "start_time": "2022-04-26T08:21:33.911Z"
   },
   {
    "duration": 44,
    "start_time": "2022-04-26T08:21:33.937Z"
   },
   {
    "duration": 569,
    "start_time": "2022-04-26T11:43:49.890Z"
   },
   {
    "duration": 17,
    "start_time": "2022-04-26T11:43:50.461Z"
   },
   {
    "duration": 13,
    "start_time": "2022-04-26T11:43:50.480Z"
   },
   {
    "duration": 27,
    "start_time": "2022-04-26T11:43:50.496Z"
   },
   {
    "duration": 6,
    "start_time": "2022-04-26T11:43:50.524Z"
   },
   {
    "duration": 15,
    "start_time": "2022-04-26T11:43:50.531Z"
   },
   {
    "duration": 32,
    "start_time": "2022-04-26T11:43:50.547Z"
   },
   {
    "duration": 10,
    "start_time": "2022-04-26T11:43:50.580Z"
   },
   {
    "duration": 261,
    "start_time": "2022-04-26T11:43:50.592Z"
   },
   {
    "duration": 19,
    "start_time": "2022-04-26T11:43:50.856Z"
   },
   {
    "duration": 6,
    "start_time": "2022-04-26T11:43:50.877Z"
   },
   {
    "duration": 8,
    "start_time": "2022-04-26T11:43:50.886Z"
   },
   {
    "duration": 10,
    "start_time": "2022-04-26T11:43:50.896Z"
   },
   {
    "duration": 6,
    "start_time": "2022-04-26T11:43:50.908Z"
   },
   {
    "duration": 11,
    "start_time": "2022-04-26T11:43:50.916Z"
   },
   {
    "duration": 22,
    "start_time": "2022-04-26T11:43:50.929Z"
   },
   {
    "duration": 251,
    "start_time": "2022-04-26T11:43:50.953Z"
   },
   {
    "duration": 11,
    "start_time": "2022-04-26T11:43:51.206Z"
   },
   {
    "duration": 16,
    "start_time": "2022-04-26T11:43:51.219Z"
   },
   {
    "duration": 38,
    "start_time": "2022-04-26T11:43:51.237Z"
   },
   {
    "duration": 21,
    "start_time": "2022-04-26T11:43:51.277Z"
   },
   {
    "duration": 27,
    "start_time": "2022-04-26T11:43:51.304Z"
   },
   {
    "duration": 7,
    "start_time": "2022-04-26T11:43:51.333Z"
   },
   {
    "duration": 13,
    "start_time": "2022-04-26T11:43:51.341Z"
   },
   {
    "duration": 19,
    "start_time": "2022-04-26T11:43:51.356Z"
   },
   {
    "duration": 13,
    "start_time": "2022-04-26T11:43:51.377Z"
   },
   {
    "duration": 16,
    "start_time": "2022-04-26T11:43:51.392Z"
   },
   {
    "duration": 13,
    "start_time": "2022-04-26T11:43:51.414Z"
   },
   {
    "duration": 18,
    "start_time": "2022-04-26T11:43:51.429Z"
   },
   {
    "duration": 34,
    "start_time": "2022-04-26T11:43:51.449Z"
   },
   {
    "duration": 19,
    "start_time": "2022-04-26T11:43:51.485Z"
   },
   {
    "duration": 23,
    "start_time": "2022-04-26T11:43:51.506Z"
   },
   {
    "duration": 9,
    "start_time": "2022-04-26T11:43:51.531Z"
   },
   {
    "duration": 5,
    "start_time": "2022-04-26T11:43:51.542Z"
   },
   {
    "duration": 41,
    "start_time": "2022-04-26T11:43:51.549Z"
   },
   {
    "duration": 5,
    "start_time": "2022-04-26T11:43:51.592Z"
   },
   {
    "duration": 18,
    "start_time": "2022-04-26T11:43:51.599Z"
   },
   {
    "duration": 22,
    "start_time": "2022-04-26T11:43:51.620Z"
   },
   {
    "duration": 31,
    "start_time": "2022-04-26T11:43:51.644Z"
   },
   {
    "duration": 11,
    "start_time": "2022-04-26T11:43:51.678Z"
   },
   {
    "duration": 9,
    "start_time": "2022-04-26T11:43:51.691Z"
   },
   {
    "duration": 32,
    "start_time": "2022-04-26T11:43:51.702Z"
   },
   {
    "duration": 44,
    "start_time": "2022-04-26T11:43:51.736Z"
   },
   {
    "duration": 20,
    "start_time": "2022-04-26T11:43:51.782Z"
   },
   {
    "duration": 15,
    "start_time": "2022-04-26T11:43:51.804Z"
   },
   {
    "duration": 22,
    "start_time": "2022-04-26T11:43:51.821Z"
   },
   {
    "duration": 34,
    "start_time": "2022-04-26T11:43:51.845Z"
   },
   {
    "duration": 32,
    "start_time": "2022-04-26T11:43:51.881Z"
   },
   {
    "duration": 24,
    "start_time": "2022-04-26T11:43:51.915Z"
   },
   {
    "duration": 517,
    "start_time": "2022-04-26T11:47:07.931Z"
   },
   {
    "duration": 22,
    "start_time": "2022-04-26T11:47:08.451Z"
   },
   {
    "duration": 15,
    "start_time": "2022-04-26T11:47:08.475Z"
   },
   {
    "duration": 23,
    "start_time": "2022-04-26T11:47:08.493Z"
   },
   {
    "duration": 6,
    "start_time": "2022-04-26T11:47:08.518Z"
   },
   {
    "duration": 10,
    "start_time": "2022-04-26T11:47:08.526Z"
   },
   {
    "duration": 40,
    "start_time": "2022-04-26T11:47:08.537Z"
   },
   {
    "duration": 16,
    "start_time": "2022-04-26T11:47:08.580Z"
   },
   {
    "duration": 258,
    "start_time": "2022-04-26T11:47:08.599Z"
   },
   {
    "duration": 15,
    "start_time": "2022-04-26T11:47:08.860Z"
   },
   {
    "duration": 8,
    "start_time": "2022-04-26T11:47:08.877Z"
   },
   {
    "duration": 7,
    "start_time": "2022-04-26T11:47:08.886Z"
   },
   {
    "duration": 8,
    "start_time": "2022-04-26T11:47:08.895Z"
   },
   {
    "duration": 5,
    "start_time": "2022-04-26T11:47:08.905Z"
   },
   {
    "duration": 11,
    "start_time": "2022-04-26T11:47:08.912Z"
   },
   {
    "duration": 8,
    "start_time": "2022-04-26T11:47:08.926Z"
   },
   {
    "duration": 280,
    "start_time": "2022-04-26T11:47:08.973Z"
   },
   {
    "duration": 11,
    "start_time": "2022-04-26T11:47:09.254Z"
   },
   {
    "duration": 19,
    "start_time": "2022-04-26T11:47:09.273Z"
   },
   {
    "duration": 19,
    "start_time": "2022-04-26T11:47:09.294Z"
   },
   {
    "duration": 22,
    "start_time": "2022-04-26T11:47:09.315Z"
   },
   {
    "duration": 49,
    "start_time": "2022-04-26T11:47:09.338Z"
   },
   {
    "duration": 10,
    "start_time": "2022-04-26T11:47:09.390Z"
   },
   {
    "duration": 15,
    "start_time": "2022-04-26T11:47:09.402Z"
   },
   {
    "duration": 12,
    "start_time": "2022-04-26T11:47:09.419Z"
   },
   {
    "duration": 11,
    "start_time": "2022-04-26T11:47:09.433Z"
   },
   {
    "duration": 29,
    "start_time": "2022-04-26T11:47:09.446Z"
   },
   {
    "duration": 11,
    "start_time": "2022-04-26T11:47:09.479Z"
   },
   {
    "duration": 10,
    "start_time": "2022-04-26T11:47:09.493Z"
   },
   {
    "duration": 16,
    "start_time": "2022-04-26T11:47:09.506Z"
   },
   {
    "duration": 18,
    "start_time": "2022-04-26T11:47:09.524Z"
   },
   {
    "duration": 39,
    "start_time": "2022-04-26T11:47:09.544Z"
   },
   {
    "duration": 15,
    "start_time": "2022-04-26T11:47:09.585Z"
   },
   {
    "duration": 16,
    "start_time": "2022-04-26T11:47:09.602Z"
   },
   {
    "duration": 21,
    "start_time": "2022-04-26T11:47:09.619Z"
   },
   {
    "duration": 11,
    "start_time": "2022-04-26T11:47:09.642Z"
   },
   {
    "duration": 23,
    "start_time": "2022-04-26T11:47:09.655Z"
   },
   {
    "duration": 19,
    "start_time": "2022-04-26T11:47:09.680Z"
   },
   {
    "duration": 4,
    "start_time": "2022-04-26T11:47:09.703Z"
   },
   {
    "duration": 15,
    "start_time": "2022-04-26T11:47:09.709Z"
   },
   {
    "duration": 7,
    "start_time": "2022-04-26T11:47:09.726Z"
   },
   {
    "duration": 46,
    "start_time": "2022-04-26T11:47:09.735Z"
   },
   {
    "duration": 26,
    "start_time": "2022-04-26T11:47:09.784Z"
   },
   {
    "duration": 25,
    "start_time": "2022-04-26T11:47:09.812Z"
   },
   {
    "duration": 9,
    "start_time": "2022-04-26T11:47:09.838Z"
   },
   {
    "duration": 20,
    "start_time": "2022-04-26T11:47:09.874Z"
   },
   {
    "duration": 7,
    "start_time": "2022-04-26T11:47:09.897Z"
   },
   {
    "duration": 24,
    "start_time": "2022-04-26T11:47:09.906Z"
   },
   {
    "duration": 48,
    "start_time": "2022-04-26T11:47:09.931Z"
   },
   {
    "duration": 506,
    "start_time": "2022-04-26T11:54:30.100Z"
   },
   {
    "duration": 16,
    "start_time": "2022-04-26T11:54:30.608Z"
   },
   {
    "duration": 21,
    "start_time": "2022-04-26T11:54:30.626Z"
   },
   {
    "duration": 33,
    "start_time": "2022-04-26T11:54:30.650Z"
   },
   {
    "duration": 15,
    "start_time": "2022-04-26T11:54:30.685Z"
   },
   {
    "duration": 16,
    "start_time": "2022-04-26T11:54:30.702Z"
   },
   {
    "duration": 28,
    "start_time": "2022-04-26T11:54:30.720Z"
   },
   {
    "duration": 23,
    "start_time": "2022-04-26T11:54:30.750Z"
   },
   {
    "duration": 211,
    "start_time": "2022-04-26T11:54:30.775Z"
   },
   {
    "duration": 10,
    "start_time": "2022-04-26T11:54:30.989Z"
   },
   {
    "duration": 21,
    "start_time": "2022-04-26T11:54:31.001Z"
   },
   {
    "duration": 18,
    "start_time": "2022-04-26T11:54:31.024Z"
   },
   {
    "duration": 15,
    "start_time": "2022-04-26T11:54:31.044Z"
   },
   {
    "duration": 18,
    "start_time": "2022-04-26T11:54:31.061Z"
   },
   {
    "duration": 19,
    "start_time": "2022-04-26T11:54:31.081Z"
   },
   {
    "duration": 22,
    "start_time": "2022-04-26T11:54:31.101Z"
   },
   {
    "duration": 220,
    "start_time": "2022-04-26T11:54:31.125Z"
   },
   {
    "duration": 11,
    "start_time": "2022-04-26T11:54:31.347Z"
   },
   {
    "duration": 25,
    "start_time": "2022-04-26T11:54:31.360Z"
   },
   {
    "duration": 20,
    "start_time": "2022-04-26T11:54:31.387Z"
   },
   {
    "duration": 20,
    "start_time": "2022-04-26T11:54:31.409Z"
   },
   {
    "duration": 43,
    "start_time": "2022-04-26T11:54:31.431Z"
   },
   {
    "duration": 8,
    "start_time": "2022-04-26T11:54:31.476Z"
   },
   {
    "duration": 24,
    "start_time": "2022-04-26T11:54:31.486Z"
   },
   {
    "duration": 18,
    "start_time": "2022-04-26T11:54:31.512Z"
   },
   {
    "duration": 31,
    "start_time": "2022-04-26T11:54:31.532Z"
   },
   {
    "duration": 22,
    "start_time": "2022-04-26T11:54:31.565Z"
   },
   {
    "duration": 24,
    "start_time": "2022-04-26T11:54:31.590Z"
   },
   {
    "duration": 24,
    "start_time": "2022-04-26T11:54:31.616Z"
   },
   {
    "duration": 20,
    "start_time": "2022-04-26T11:54:31.641Z"
   },
   {
    "duration": 24,
    "start_time": "2022-04-26T11:54:31.663Z"
   },
   {
    "duration": 21,
    "start_time": "2022-04-26T11:54:31.689Z"
   },
   {
    "duration": 20,
    "start_time": "2022-04-26T11:54:31.712Z"
   },
   {
    "duration": 28,
    "start_time": "2022-04-26T11:54:31.734Z"
   },
   {
    "duration": 21,
    "start_time": "2022-04-26T11:54:31.763Z"
   },
   {
    "duration": 10,
    "start_time": "2022-04-26T11:54:31.786Z"
   },
   {
    "duration": 25,
    "start_time": "2022-04-26T11:54:31.798Z"
   },
   {
    "duration": 19,
    "start_time": "2022-04-26T11:54:31.825Z"
   },
   {
    "duration": 15,
    "start_time": "2022-04-26T11:54:31.846Z"
   },
   {
    "duration": 34,
    "start_time": "2022-04-26T11:54:31.862Z"
   },
   {
    "duration": 7,
    "start_time": "2022-04-26T11:54:31.898Z"
   },
   {
    "duration": 27,
    "start_time": "2022-04-26T11:54:31.906Z"
   },
   {
    "duration": 38,
    "start_time": "2022-04-26T11:54:31.935Z"
   },
   {
    "duration": 36,
    "start_time": "2022-04-26T11:54:31.975Z"
   },
   {
    "duration": 13,
    "start_time": "2022-04-26T11:54:32.013Z"
   },
   {
    "duration": 35,
    "start_time": "2022-04-26T11:54:32.028Z"
   },
   {
    "duration": 16,
    "start_time": "2022-04-26T11:54:32.065Z"
   },
   {
    "duration": 28,
    "start_time": "2022-04-26T11:54:32.083Z"
   },
   {
    "duration": 27,
    "start_time": "2022-04-26T11:54:32.113Z"
   },
   {
    "duration": 519,
    "start_time": "2022-04-26T12:00:26.966Z"
   },
   {
    "duration": 16,
    "start_time": "2022-04-26T12:00:27.487Z"
   },
   {
    "duration": 10,
    "start_time": "2022-04-26T12:00:27.505Z"
   },
   {
    "duration": 26,
    "start_time": "2022-04-26T12:00:27.517Z"
   },
   {
    "duration": 6,
    "start_time": "2022-04-26T12:00:27.545Z"
   },
   {
    "duration": 7,
    "start_time": "2022-04-26T12:00:27.574Z"
   },
   {
    "duration": 10,
    "start_time": "2022-04-26T12:00:27.583Z"
   },
   {
    "duration": 8,
    "start_time": "2022-04-26T12:00:27.595Z"
   },
   {
    "duration": 248,
    "start_time": "2022-04-26T12:00:27.605Z"
   },
   {
    "duration": 20,
    "start_time": "2022-04-26T12:00:27.856Z"
   },
   {
    "duration": 9,
    "start_time": "2022-04-26T12:00:27.877Z"
   },
   {
    "duration": 4,
    "start_time": "2022-04-26T12:00:27.888Z"
   },
   {
    "duration": 7,
    "start_time": "2022-04-26T12:00:27.894Z"
   },
   {
    "duration": 7,
    "start_time": "2022-04-26T12:00:27.902Z"
   },
   {
    "duration": 10,
    "start_time": "2022-04-26T12:00:27.911Z"
   },
   {
    "duration": 9,
    "start_time": "2022-04-26T12:00:27.923Z"
   },
   {
    "duration": 252,
    "start_time": "2022-04-26T12:00:27.933Z"
   },
   {
    "duration": 10,
    "start_time": "2022-04-26T12:00:28.187Z"
   },
   {
    "duration": 20,
    "start_time": "2022-04-26T12:00:28.199Z"
   },
   {
    "duration": 18,
    "start_time": "2022-04-26T12:00:28.221Z"
   },
   {
    "duration": 41,
    "start_time": "2022-04-26T12:00:28.241Z"
   },
   {
    "duration": 17,
    "start_time": "2022-04-26T12:00:28.284Z"
   },
   {
    "duration": 7,
    "start_time": "2022-04-26T12:00:28.304Z"
   },
   {
    "duration": 11,
    "start_time": "2022-04-26T12:00:28.313Z"
   },
   {
    "duration": 9,
    "start_time": "2022-04-26T12:00:28.326Z"
   },
   {
    "duration": 41,
    "start_time": "2022-04-26T12:00:28.336Z"
   },
   {
    "duration": 14,
    "start_time": "2022-04-26T12:00:28.378Z"
   },
   {
    "duration": 15,
    "start_time": "2022-04-26T12:00:28.395Z"
   },
   {
    "duration": 16,
    "start_time": "2022-04-26T12:00:28.411Z"
   },
   {
    "duration": 15,
    "start_time": "2022-04-26T12:00:28.429Z"
   },
   {
    "duration": 14,
    "start_time": "2022-04-26T12:00:28.446Z"
   },
   {
    "duration": 23,
    "start_time": "2022-04-26T12:00:28.462Z"
   },
   {
    "duration": 12,
    "start_time": "2022-04-26T12:00:28.486Z"
   },
   {
    "duration": 6,
    "start_time": "2022-04-26T12:00:28.499Z"
   },
   {
    "duration": 21,
    "start_time": "2022-04-26T12:00:28.507Z"
   },
   {
    "duration": 6,
    "start_time": "2022-04-26T12:00:28.531Z"
   },
   {
    "duration": 41,
    "start_time": "2022-04-26T12:00:28.538Z"
   },
   {
    "duration": 17,
    "start_time": "2022-04-26T12:00:28.581Z"
   },
   {
    "duration": 5,
    "start_time": "2022-04-26T12:00:28.601Z"
   },
   {
    "duration": 11,
    "start_time": "2022-04-26T12:00:28.609Z"
   },
   {
    "duration": 13,
    "start_time": "2022-04-26T12:00:28.622Z"
   },
   {
    "duration": 48,
    "start_time": "2022-04-26T12:00:28.637Z"
   },
   {
    "duration": 23,
    "start_time": "2022-04-26T12:00:28.687Z"
   },
   {
    "duration": 21,
    "start_time": "2022-04-26T12:00:28.712Z"
   },
   {
    "duration": 42,
    "start_time": "2022-04-26T12:00:28.735Z"
   },
   {
    "duration": 7,
    "start_time": "2022-04-26T12:00:28.778Z"
   },
   {
    "duration": 24,
    "start_time": "2022-04-26T12:00:28.786Z"
   },
   {
    "duration": 20,
    "start_time": "2022-04-26T12:00:28.812Z"
   },
   {
    "duration": 610,
    "start_time": "2022-05-01T17:14:20.781Z"
   },
   {
    "duration": 16,
    "start_time": "2022-05-01T17:14:21.393Z"
   },
   {
    "duration": 19,
    "start_time": "2022-05-01T17:14:21.411Z"
   },
   {
    "duration": 22,
    "start_time": "2022-05-01T17:14:21.433Z"
   },
   {
    "duration": 6,
    "start_time": "2022-05-01T17:14:21.457Z"
   },
   {
    "duration": 8,
    "start_time": "2022-05-01T17:14:21.465Z"
   },
   {
    "duration": 12,
    "start_time": "2022-05-01T17:14:21.475Z"
   },
   {
    "duration": 9,
    "start_time": "2022-05-01T17:14:21.523Z"
   },
   {
    "duration": 239,
    "start_time": "2022-05-01T17:14:21.534Z"
   },
   {
    "duration": 9,
    "start_time": "2022-05-01T17:14:21.775Z"
   },
   {
    "duration": 7,
    "start_time": "2022-05-01T17:14:21.785Z"
   },
   {
    "duration": 6,
    "start_time": "2022-05-01T17:14:21.793Z"
   },
   {
    "duration": 24,
    "start_time": "2022-05-01T17:14:21.801Z"
   },
   {
    "duration": 5,
    "start_time": "2022-05-01T17:14:21.827Z"
   },
   {
    "duration": 9,
    "start_time": "2022-05-01T17:14:21.834Z"
   },
   {
    "duration": 10,
    "start_time": "2022-05-01T17:14:21.845Z"
   },
   {
    "duration": 235,
    "start_time": "2022-05-01T17:14:21.857Z"
   },
   {
    "duration": 14,
    "start_time": "2022-05-01T17:14:22.094Z"
   },
   {
    "duration": 33,
    "start_time": "2022-05-01T17:14:22.110Z"
   },
   {
    "duration": 24,
    "start_time": "2022-05-01T17:14:22.145Z"
   },
   {
    "duration": 25,
    "start_time": "2022-05-01T17:14:22.171Z"
   },
   {
    "duration": 48,
    "start_time": "2022-05-01T17:14:22.198Z"
   },
   {
    "duration": 8,
    "start_time": "2022-05-01T17:14:22.248Z"
   },
   {
    "duration": 9,
    "start_time": "2022-05-01T17:14:22.258Z"
   },
   {
    "duration": 10,
    "start_time": "2022-05-01T17:14:22.269Z"
   },
   {
    "duration": 10,
    "start_time": "2022-05-01T17:14:22.281Z"
   },
   {
    "duration": 35,
    "start_time": "2022-05-01T17:14:22.293Z"
   },
   {
    "duration": 15,
    "start_time": "2022-05-01T17:14:22.333Z"
   },
   {
    "duration": 11,
    "start_time": "2022-05-01T17:14:22.350Z"
   },
   {
    "duration": 15,
    "start_time": "2022-05-01T17:14:22.363Z"
   },
   {
    "duration": 14,
    "start_time": "2022-05-01T17:14:22.380Z"
   },
   {
    "duration": 15,
    "start_time": "2022-05-01T17:14:22.425Z"
   },
   {
    "duration": 13,
    "start_time": "2022-05-01T17:14:22.442Z"
   },
   {
    "duration": 5,
    "start_time": "2022-05-01T17:14:22.457Z"
   },
   {
    "duration": 21,
    "start_time": "2022-05-01T17:14:22.464Z"
   },
   {
    "duration": 7,
    "start_time": "2022-05-01T17:14:22.486Z"
   },
   {
    "duration": 41,
    "start_time": "2022-05-01T17:14:22.494Z"
   },
   {
    "duration": 22,
    "start_time": "2022-05-01T17:14:22.537Z"
   },
   {
    "duration": 7,
    "start_time": "2022-05-01T17:14:22.561Z"
   },
   {
    "duration": 9,
    "start_time": "2022-05-01T17:14:22.569Z"
   },
   {
    "duration": 6,
    "start_time": "2022-05-01T17:14:22.580Z"
   },
   {
    "duration": 49,
    "start_time": "2022-05-01T17:14:22.588Z"
   },
   {
    "duration": 25,
    "start_time": "2022-05-01T17:14:22.639Z"
   },
   {
    "duration": 23,
    "start_time": "2022-05-01T17:14:22.666Z"
   },
   {
    "duration": 48,
    "start_time": "2022-05-01T17:14:22.691Z"
   },
   {
    "duration": 6,
    "start_time": "2022-05-01T17:14:22.741Z"
   },
   {
    "duration": 17,
    "start_time": "2022-05-01T17:14:22.748Z"
   },
   {
    "duration": 15,
    "start_time": "2022-05-01T17:14:22.767Z"
   },
   {
    "duration": 3,
    "start_time": "2022-05-01T17:23:14.928Z"
   },
   {
    "duration": 4,
    "start_time": "2022-05-01T17:23:26.857Z"
   },
   {
    "duration": 63,
    "start_time": "2022-05-01T17:23:41.508Z"
   },
   {
    "duration": 6,
    "start_time": "2022-05-01T17:23:45.072Z"
   },
   {
    "duration": 6,
    "start_time": "2022-05-01T17:23:52.164Z"
   },
   {
    "duration": 590,
    "start_time": "2022-05-02T10:40:32.933Z"
   },
   {
    "duration": 20,
    "start_time": "2022-05-02T10:40:33.525Z"
   },
   {
    "duration": 12,
    "start_time": "2022-05-02T10:40:33.547Z"
   },
   {
    "duration": 21,
    "start_time": "2022-05-02T10:40:33.561Z"
   },
   {
    "duration": 11,
    "start_time": "2022-05-02T10:40:33.584Z"
   },
   {
    "duration": 12,
    "start_time": "2022-05-02T10:40:33.623Z"
   },
   {
    "duration": 10,
    "start_time": "2022-05-02T10:40:33.636Z"
   },
   {
    "duration": 10,
    "start_time": "2022-05-02T10:40:33.647Z"
   },
   {
    "duration": 351,
    "start_time": "2022-05-02T10:40:33.660Z"
   },
   {
    "duration": 13,
    "start_time": "2022-05-02T10:40:34.015Z"
   },
   {
    "duration": 6,
    "start_time": "2022-05-02T10:40:34.030Z"
   },
   {
    "duration": 8,
    "start_time": "2022-05-02T10:40:34.037Z"
   },
   {
    "duration": 10,
    "start_time": "2022-05-02T10:40:34.047Z"
   },
   {
    "duration": 5,
    "start_time": "2022-05-02T10:40:34.059Z"
   },
   {
    "duration": 13,
    "start_time": "2022-05-02T10:40:34.066Z"
   },
   {
    "duration": 8,
    "start_time": "2022-05-02T10:40:34.081Z"
   },
   {
    "duration": 365,
    "start_time": "2022-05-02T10:40:34.124Z"
   },
   {
    "duration": 14,
    "start_time": "2022-05-02T10:40:34.491Z"
   },
   {
    "duration": 31,
    "start_time": "2022-05-02T10:40:34.507Z"
   },
   {
    "duration": 16,
    "start_time": "2022-05-02T10:40:34.540Z"
   },
   {
    "duration": 25,
    "start_time": "2022-05-02T10:40:34.558Z"
   },
   {
    "duration": 50,
    "start_time": "2022-05-02T10:40:34.584Z"
   },
   {
    "duration": 7,
    "start_time": "2022-05-02T10:40:34.636Z"
   },
   {
    "duration": 10,
    "start_time": "2022-05-02T10:40:34.644Z"
   },
   {
    "duration": 8,
    "start_time": "2022-05-02T10:40:34.656Z"
   },
   {
    "duration": 8,
    "start_time": "2022-05-02T10:40:34.666Z"
   },
   {
    "duration": 9,
    "start_time": "2022-05-02T10:40:34.675Z"
   },
   {
    "duration": 39,
    "start_time": "2022-05-02T10:40:34.688Z"
   },
   {
    "duration": 14,
    "start_time": "2022-05-02T10:40:34.729Z"
   },
   {
    "duration": 13,
    "start_time": "2022-05-02T10:40:34.745Z"
   },
   {
    "duration": 10,
    "start_time": "2022-05-02T10:40:34.760Z"
   },
   {
    "duration": 15,
    "start_time": "2022-05-02T10:40:34.772Z"
   },
   {
    "duration": 35,
    "start_time": "2022-05-02T10:40:34.789Z"
   },
   {
    "duration": 6,
    "start_time": "2022-05-02T10:40:34.826Z"
   },
   {
    "duration": 22,
    "start_time": "2022-05-02T10:40:34.833Z"
   },
   {
    "duration": 6,
    "start_time": "2022-05-02T10:40:34.857Z"
   },
   {
    "duration": 16,
    "start_time": "2022-05-02T10:40:34.865Z"
   },
   {
    "duration": 19,
    "start_time": "2022-05-02T10:40:34.883Z"
   },
   {
    "duration": 4,
    "start_time": "2022-05-02T10:40:34.924Z"
   },
   {
    "duration": 11,
    "start_time": "2022-05-02T10:40:34.930Z"
   },
   {
    "duration": 7,
    "start_time": "2022-05-02T10:40:34.943Z"
   },
   {
    "duration": 32,
    "start_time": "2022-05-02T10:40:34.951Z"
   },
   {
    "duration": 44,
    "start_time": "2022-05-02T10:40:34.985Z"
   },
   {
    "duration": 22,
    "start_time": "2022-05-02T10:40:35.031Z"
   },
   {
    "duration": 1810,
    "start_time": "2022-05-02T10:40:35.054Z"
   },
   {
    "duration": 0,
    "start_time": "2022-05-02T10:40:36.865Z"
   },
   {
    "duration": 0,
    "start_time": "2022-05-02T10:40:36.867Z"
   },
   {
    "duration": 0,
    "start_time": "2022-05-02T10:40:36.868Z"
   },
   {
    "duration": 0,
    "start_time": "2022-05-02T10:40:36.869Z"
   },
   {
    "duration": 0,
    "start_time": "2022-05-02T10:40:36.870Z"
   },
   {
    "duration": 9,
    "start_time": "2022-05-02T10:41:59.046Z"
   },
   {
    "duration": 473,
    "start_time": "2022-05-02T12:51:09.197Z"
   },
   {
    "duration": 13,
    "start_time": "2022-05-02T12:51:09.672Z"
   },
   {
    "duration": 9,
    "start_time": "2022-05-02T12:51:09.686Z"
   },
   {
    "duration": 34,
    "start_time": "2022-05-02T12:51:09.696Z"
   },
   {
    "duration": 4,
    "start_time": "2022-05-02T12:51:09.732Z"
   },
   {
    "duration": 8,
    "start_time": "2022-05-02T12:51:09.737Z"
   },
   {
    "duration": 8,
    "start_time": "2022-05-02T12:51:09.746Z"
   },
   {
    "duration": 10,
    "start_time": "2022-05-02T12:51:09.755Z"
   },
   {
    "duration": 223,
    "start_time": "2022-05-02T12:51:09.766Z"
   },
   {
    "duration": 8,
    "start_time": "2022-05-02T12:51:09.992Z"
   },
   {
    "duration": 7,
    "start_time": "2022-05-02T12:51:10.001Z"
   },
   {
    "duration": 13,
    "start_time": "2022-05-02T12:51:10.010Z"
   },
   {
    "duration": 7,
    "start_time": "2022-05-02T12:51:10.025Z"
   },
   {
    "duration": 7,
    "start_time": "2022-05-02T12:51:10.033Z"
   },
   {
    "duration": 8,
    "start_time": "2022-05-02T12:51:10.041Z"
   },
   {
    "duration": 7,
    "start_time": "2022-05-02T12:51:10.050Z"
   },
   {
    "duration": 230,
    "start_time": "2022-05-02T12:51:10.059Z"
   },
   {
    "duration": 9,
    "start_time": "2022-05-02T12:51:10.290Z"
   },
   {
    "duration": 26,
    "start_time": "2022-05-02T12:51:10.300Z"
   },
   {
    "duration": 14,
    "start_time": "2022-05-02T12:51:10.328Z"
   },
   {
    "duration": 16,
    "start_time": "2022-05-02T12:51:10.343Z"
   },
   {
    "duration": 16,
    "start_time": "2022-05-02T12:51:10.360Z"
   },
   {
    "duration": 7,
    "start_time": "2022-05-02T12:51:10.377Z"
   },
   {
    "duration": 7,
    "start_time": "2022-05-02T12:51:10.385Z"
   },
   {
    "duration": 32,
    "start_time": "2022-05-02T12:51:10.394Z"
   },
   {
    "duration": 8,
    "start_time": "2022-05-02T12:51:10.428Z"
   },
   {
    "duration": 11,
    "start_time": "2022-05-02T12:51:10.437Z"
   },
   {
    "duration": 10,
    "start_time": "2022-05-02T12:51:10.451Z"
   },
   {
    "duration": 18,
    "start_time": "2022-05-02T12:51:10.463Z"
   },
   {
    "duration": 11,
    "start_time": "2022-05-02T12:51:10.483Z"
   },
   {
    "duration": 9,
    "start_time": "2022-05-02T12:51:10.495Z"
   },
   {
    "duration": 27,
    "start_time": "2022-05-02T12:51:10.506Z"
   },
   {
    "duration": 10,
    "start_time": "2022-05-02T12:51:10.534Z"
   },
   {
    "duration": 4,
    "start_time": "2022-05-02T12:51:10.545Z"
   },
   {
    "duration": 17,
    "start_time": "2022-05-02T12:51:10.551Z"
   },
   {
    "duration": 6,
    "start_time": "2022-05-02T12:51:10.570Z"
   },
   {
    "duration": 11,
    "start_time": "2022-05-02T12:51:10.577Z"
   },
   {
    "duration": 43,
    "start_time": "2022-05-02T12:51:10.590Z"
   },
   {
    "duration": 6,
    "start_time": "2022-05-02T12:51:10.635Z"
   },
   {
    "duration": 7,
    "start_time": "2022-05-02T12:51:10.642Z"
   },
   {
    "duration": 3,
    "start_time": "2022-05-02T12:51:10.651Z"
   },
   {
    "duration": 26,
    "start_time": "2022-05-02T12:51:10.656Z"
   },
   {
    "duration": 41,
    "start_time": "2022-05-02T12:51:10.683Z"
   },
   {
    "duration": 18,
    "start_time": "2022-05-02T12:51:10.726Z"
   },
   {
    "duration": 9,
    "start_time": "2022-05-02T12:51:10.746Z"
   },
   {
    "duration": 23,
    "start_time": "2022-05-02T12:51:10.757Z"
   },
   {
    "duration": 26,
    "start_time": "2022-05-02T12:51:10.782Z"
   },
   {
    "duration": 6,
    "start_time": "2022-05-02T12:51:10.809Z"
   },
   {
    "duration": 27,
    "start_time": "2022-05-02T12:51:10.816Z"
   },
   {
    "duration": 18,
    "start_time": "2022-05-02T12:51:10.845Z"
   },
   {
    "duration": 496,
    "start_time": "2022-05-02T12:51:31.531Z"
   },
   {
    "duration": 15,
    "start_time": "2022-05-02T12:51:32.029Z"
   },
   {
    "duration": 10,
    "start_time": "2022-05-02T12:51:32.046Z"
   },
   {
    "duration": 25,
    "start_time": "2022-05-02T12:51:32.058Z"
   },
   {
    "duration": 5,
    "start_time": "2022-05-02T12:51:32.085Z"
   },
   {
    "duration": 53,
    "start_time": "2022-05-02T12:51:32.093Z"
   },
   {
    "duration": 8,
    "start_time": "2022-05-02T12:51:32.148Z"
   },
   {
    "duration": 7,
    "start_time": "2022-05-02T12:51:32.158Z"
   },
   {
    "duration": 219,
    "start_time": "2022-05-02T12:51:32.167Z"
   },
   {
    "duration": 10,
    "start_time": "2022-05-02T12:51:32.390Z"
   },
   {
    "duration": 22,
    "start_time": "2022-05-02T12:51:32.402Z"
   },
   {
    "duration": 4,
    "start_time": "2022-05-02T12:51:32.425Z"
   },
   {
    "duration": 7,
    "start_time": "2022-05-02T12:51:32.430Z"
   },
   {
    "duration": 4,
    "start_time": "2022-05-02T12:51:32.438Z"
   },
   {
    "duration": 12,
    "start_time": "2022-05-02T12:51:32.444Z"
   },
   {
    "duration": 8,
    "start_time": "2022-05-02T12:51:32.457Z"
   },
   {
    "duration": 240,
    "start_time": "2022-05-02T12:51:32.466Z"
   },
   {
    "duration": 19,
    "start_time": "2022-05-02T12:51:32.707Z"
   },
   {
    "duration": 16,
    "start_time": "2022-05-02T12:51:32.728Z"
   },
   {
    "duration": 16,
    "start_time": "2022-05-02T12:51:32.746Z"
   },
   {
    "duration": 21,
    "start_time": "2022-05-02T12:51:32.764Z"
   },
   {
    "duration": 48,
    "start_time": "2022-05-02T12:51:32.786Z"
   },
   {
    "duration": 7,
    "start_time": "2022-05-02T12:51:32.836Z"
   },
   {
    "duration": 8,
    "start_time": "2022-05-02T12:51:32.845Z"
   },
   {
    "duration": 8,
    "start_time": "2022-05-02T12:51:32.855Z"
   },
   {
    "duration": 9,
    "start_time": "2022-05-02T12:51:32.865Z"
   },
   {
    "duration": 10,
    "start_time": "2022-05-02T12:51:32.876Z"
   },
   {
    "duration": 13,
    "start_time": "2022-05-02T12:51:32.923Z"
   },
   {
    "duration": 12,
    "start_time": "2022-05-02T12:51:32.938Z"
   },
   {
    "duration": 21,
    "start_time": "2022-05-02T12:51:32.952Z"
   },
   {
    "duration": 39,
    "start_time": "2022-05-02T12:51:32.975Z"
   },
   {
    "duration": 16,
    "start_time": "2022-05-02T12:51:33.016Z"
   },
   {
    "duration": 10,
    "start_time": "2022-05-02T12:51:33.034Z"
   },
   {
    "duration": 5,
    "start_time": "2022-05-02T12:51:33.045Z"
   },
   {
    "duration": 27,
    "start_time": "2022-05-02T12:51:33.051Z"
   },
   {
    "duration": 7,
    "start_time": "2022-05-02T12:51:33.080Z"
   },
   {
    "duration": 32,
    "start_time": "2022-05-02T12:51:33.089Z"
   },
   {
    "duration": 24,
    "start_time": "2022-05-02T12:51:33.124Z"
   },
   {
    "duration": 6,
    "start_time": "2022-05-02T12:51:33.150Z"
   },
   {
    "duration": 24,
    "start_time": "2022-05-02T12:51:33.158Z"
   },
   {
    "duration": 9,
    "start_time": "2022-05-02T12:51:33.184Z"
   },
   {
    "duration": 59,
    "start_time": "2022-05-02T12:51:33.196Z"
   },
   {
    "duration": 53,
    "start_time": "2022-05-02T12:51:33.257Z"
   },
   {
    "duration": 20,
    "start_time": "2022-05-02T12:51:33.312Z"
   },
   {
    "duration": 1619,
    "start_time": "2022-05-02T12:51:33.333Z"
   },
   {
    "duration": 0,
    "start_time": "2022-05-02T12:51:34.955Z"
   },
   {
    "duration": 0,
    "start_time": "2022-05-02T12:51:34.956Z"
   },
   {
    "duration": 0,
    "start_time": "2022-05-02T12:51:34.957Z"
   },
   {
    "duration": 0,
    "start_time": "2022-05-02T12:51:34.959Z"
   },
   {
    "duration": 0,
    "start_time": "2022-05-02T12:51:34.961Z"
   },
   {
    "duration": 463,
    "start_time": "2022-05-02T12:52:17.138Z"
   },
   {
    "duration": 16,
    "start_time": "2022-05-02T12:52:17.603Z"
   },
   {
    "duration": 10,
    "start_time": "2022-05-02T12:52:17.622Z"
   },
   {
    "duration": 21,
    "start_time": "2022-05-02T12:52:17.635Z"
   },
   {
    "duration": 6,
    "start_time": "2022-05-02T12:52:17.657Z"
   },
   {
    "duration": 8,
    "start_time": "2022-05-02T12:52:17.664Z"
   },
   {
    "duration": 8,
    "start_time": "2022-05-02T12:52:17.674Z"
   },
   {
    "duration": 42,
    "start_time": "2022-05-02T12:52:17.684Z"
   },
   {
    "duration": 355,
    "start_time": "2022-05-02T12:52:17.728Z"
   },
   {
    "duration": 11,
    "start_time": "2022-05-02T12:52:18.086Z"
   },
   {
    "duration": 48,
    "start_time": "2022-05-02T12:52:18.099Z"
   },
   {
    "duration": 12,
    "start_time": "2022-05-02T12:52:18.148Z"
   },
   {
    "duration": 6,
    "start_time": "2022-05-02T12:52:18.162Z"
   },
   {
    "duration": 13,
    "start_time": "2022-05-02T12:52:18.170Z"
   },
   {
    "duration": 13,
    "start_time": "2022-05-02T12:52:18.185Z"
   },
   {
    "duration": 8,
    "start_time": "2022-05-02T12:52:18.200Z"
   },
   {
    "duration": 229,
    "start_time": "2022-05-02T12:52:18.210Z"
   },
   {
    "duration": 9,
    "start_time": "2022-05-02T12:52:18.441Z"
   },
   {
    "duration": 17,
    "start_time": "2022-05-02T12:52:18.452Z"
   },
   {
    "duration": 15,
    "start_time": "2022-05-02T12:52:18.471Z"
   },
   {
    "duration": 36,
    "start_time": "2022-05-02T12:52:18.488Z"
   },
   {
    "duration": 16,
    "start_time": "2022-05-02T12:52:18.525Z"
   },
   {
    "duration": 15,
    "start_time": "2022-05-02T12:52:18.543Z"
   },
   {
    "duration": 33,
    "start_time": "2022-05-02T12:52:18.560Z"
   },
   {
    "duration": 15,
    "start_time": "2022-05-02T12:52:18.595Z"
   },
   {
    "duration": 16,
    "start_time": "2022-05-02T12:52:18.611Z"
   },
   {
    "duration": 15,
    "start_time": "2022-05-02T12:52:18.628Z"
   },
   {
    "duration": 12,
    "start_time": "2022-05-02T12:52:18.647Z"
   },
   {
    "duration": 17,
    "start_time": "2022-05-02T12:52:18.660Z"
   },
   {
    "duration": 30,
    "start_time": "2022-05-02T12:52:18.679Z"
   },
   {
    "duration": 12,
    "start_time": "2022-05-02T12:52:18.711Z"
   },
   {
    "duration": 23,
    "start_time": "2022-05-02T12:52:18.725Z"
   },
   {
    "duration": 11,
    "start_time": "2022-05-02T12:52:18.749Z"
   },
   {
    "duration": 8,
    "start_time": "2022-05-02T12:52:18.761Z"
   },
   {
    "duration": 24,
    "start_time": "2022-05-02T12:52:18.771Z"
   },
   {
    "duration": 6,
    "start_time": "2022-05-02T12:52:18.797Z"
   },
   {
    "duration": 12,
    "start_time": "2022-05-02T12:52:18.804Z"
   },
   {
    "duration": 15,
    "start_time": "2022-05-02T12:52:18.817Z"
   },
   {
    "duration": 2,
    "start_time": "2022-05-02T12:52:18.834Z"
   },
   {
    "duration": 8,
    "start_time": "2022-05-02T12:52:18.838Z"
   },
   {
    "duration": 5,
    "start_time": "2022-05-02T12:52:18.848Z"
   },
   {
    "duration": 22,
    "start_time": "2022-05-02T12:52:18.855Z"
   },
   {
    "duration": 18,
    "start_time": "2022-05-02T12:52:18.878Z"
   },
   {
    "duration": 38,
    "start_time": "2022-05-02T12:52:18.897Z"
   },
   {
    "duration": 12,
    "start_time": "2022-05-02T12:52:18.937Z"
   },
   {
    "duration": 12,
    "start_time": "2022-05-02T12:52:18.950Z"
   },
   {
    "duration": 17,
    "start_time": "2022-05-02T12:52:18.964Z"
   },
   {
    "duration": 6,
    "start_time": "2022-05-02T12:52:18.982Z"
   },
   {
    "duration": 35,
    "start_time": "2022-05-02T12:52:18.989Z"
   },
   {
    "duration": 19,
    "start_time": "2022-05-02T12:52:19.027Z"
   },
   {
    "duration": 10,
    "start_time": "2022-05-02T12:52:36.645Z"
   },
   {
    "duration": 9,
    "start_time": "2022-05-02T12:52:49.863Z"
   },
   {
    "duration": 676,
    "start_time": "2022-05-02T12:57:19.385Z"
   },
   {
    "duration": 21,
    "start_time": "2022-05-02T12:57:20.063Z"
   },
   {
    "duration": 13,
    "start_time": "2022-05-02T12:57:20.086Z"
   },
   {
    "duration": 47,
    "start_time": "2022-05-02T12:57:20.101Z"
   },
   {
    "duration": 7,
    "start_time": "2022-05-02T12:57:20.150Z"
   },
   {
    "duration": 11,
    "start_time": "2022-05-02T12:57:20.159Z"
   },
   {
    "duration": 9,
    "start_time": "2022-05-02T12:57:20.172Z"
   },
   {
    "duration": 12,
    "start_time": "2022-05-02T12:57:20.182Z"
   },
   {
    "duration": 386,
    "start_time": "2022-05-02T12:57:20.225Z"
   },
   {
    "duration": 14,
    "start_time": "2022-05-02T12:57:20.616Z"
   },
   {
    "duration": 5,
    "start_time": "2022-05-02T12:57:20.633Z"
   },
   {
    "duration": 11,
    "start_time": "2022-05-02T12:57:20.640Z"
   },
   {
    "duration": 8,
    "start_time": "2022-05-02T12:57:20.653Z"
   },
   {
    "duration": 5,
    "start_time": "2022-05-02T12:57:20.663Z"
   },
   {
    "duration": 9,
    "start_time": "2022-05-02T12:57:20.670Z"
   },
   {
    "duration": 47,
    "start_time": "2022-05-02T12:57:20.681Z"
   },
   {
    "duration": 365,
    "start_time": "2022-05-02T12:57:20.730Z"
   },
   {
    "duration": 12,
    "start_time": "2022-05-02T12:57:21.097Z"
   },
   {
    "duration": 26,
    "start_time": "2022-05-02T12:57:21.111Z"
   },
   {
    "duration": 17,
    "start_time": "2022-05-02T12:57:21.139Z"
   },
   {
    "duration": 18,
    "start_time": "2022-05-02T12:57:21.157Z"
   },
   {
    "duration": 16,
    "start_time": "2022-05-02T12:57:21.176Z"
   },
   {
    "duration": 37,
    "start_time": "2022-05-02T12:57:21.194Z"
   },
   {
    "duration": 18,
    "start_time": "2022-05-02T12:57:21.233Z"
   },
   {
    "duration": 14,
    "start_time": "2022-05-02T12:57:21.253Z"
   },
   {
    "duration": 12,
    "start_time": "2022-05-02T12:57:21.269Z"
   },
   {
    "duration": 11,
    "start_time": "2022-05-02T12:57:21.282Z"
   },
   {
    "duration": 14,
    "start_time": "2022-05-02T12:57:21.296Z"
   },
   {
    "duration": 17,
    "start_time": "2022-05-02T12:57:21.312Z"
   },
   {
    "duration": 13,
    "start_time": "2022-05-02T12:57:21.331Z"
   },
   {
    "duration": 16,
    "start_time": "2022-05-02T12:57:21.346Z"
   },
   {
    "duration": 14,
    "start_time": "2022-05-02T12:57:21.364Z"
   },
   {
    "duration": 12,
    "start_time": "2022-05-02T12:57:21.379Z"
   },
   {
    "duration": 34,
    "start_time": "2022-05-02T12:57:21.393Z"
   },
   {
    "duration": 23,
    "start_time": "2022-05-02T12:57:21.429Z"
   },
   {
    "duration": 5,
    "start_time": "2022-05-02T12:57:21.454Z"
   },
   {
    "duration": 20,
    "start_time": "2022-05-02T12:57:21.461Z"
   },
   {
    "duration": 20,
    "start_time": "2022-05-02T12:57:21.483Z"
   },
   {
    "duration": 20,
    "start_time": "2022-05-02T12:57:21.505Z"
   },
   {
    "duration": 10,
    "start_time": "2022-05-02T12:57:21.527Z"
   },
   {
    "duration": 8,
    "start_time": "2022-05-02T12:57:21.539Z"
   },
   {
    "duration": 24,
    "start_time": "2022-05-02T12:57:21.548Z"
   },
   {
    "duration": 22,
    "start_time": "2022-05-02T12:57:21.574Z"
   },
   {
    "duration": 42,
    "start_time": "2022-05-02T12:57:21.598Z"
   },
   {
    "duration": 10,
    "start_time": "2022-05-02T12:57:21.642Z"
   },
   {
    "duration": 10,
    "start_time": "2022-05-02T12:57:21.655Z"
   },
   {
    "duration": 20,
    "start_time": "2022-05-02T12:57:21.667Z"
   },
   {
    "duration": 6,
    "start_time": "2022-05-02T12:57:21.688Z"
   },
   {
    "duration": 43,
    "start_time": "2022-05-02T12:57:21.695Z"
   },
   {
    "duration": 18,
    "start_time": "2022-05-02T12:57:21.740Z"
   },
   {
    "duration": 513,
    "start_time": "2022-05-03T09:02:28.890Z"
   },
   {
    "duration": 90,
    "start_time": "2022-05-03T09:02:31.127Z"
   },
   {
    "duration": 48,
    "start_time": "2022-05-03T09:02:39.213Z"
   },
   {
    "duration": 33,
    "start_time": "2022-05-03T09:02:50.312Z"
   },
   {
    "duration": 505,
    "start_time": "2022-05-03T09:06:32.689Z"
   },
   {
    "duration": 82,
    "start_time": "2022-05-03T09:06:33.197Z"
   },
   {
    "duration": 43,
    "start_time": "2022-05-03T09:06:33.282Z"
   },
   {
    "duration": 66,
    "start_time": "2022-05-03T09:06:33.329Z"
   },
   {
    "duration": 14,
    "start_time": "2022-05-03T09:06:33.397Z"
   },
   {
    "duration": 39,
    "start_time": "2022-05-03T09:06:33.413Z"
   },
   {
    "duration": 11,
    "start_time": "2022-05-03T09:06:33.455Z"
   },
   {
    "duration": 20,
    "start_time": "2022-05-03T09:06:33.469Z"
   },
   {
    "duration": 14,
    "start_time": "2022-05-03T09:06:33.491Z"
   },
   {
    "duration": 14,
    "start_time": "2022-05-03T09:06:33.510Z"
   },
   {
    "duration": 433,
    "start_time": "2022-05-03T09:06:33.552Z"
   },
   {
    "duration": 15,
    "start_time": "2022-05-03T09:06:33.986Z"
   },
   {
    "duration": 7,
    "start_time": "2022-05-03T09:06:34.003Z"
   },
   {
    "duration": 40,
    "start_time": "2022-05-03T09:06:34.013Z"
   },
   {
    "duration": 7,
    "start_time": "2022-05-03T09:06:34.056Z"
   },
   {
    "duration": 18,
    "start_time": "2022-05-03T09:06:34.066Z"
   },
   {
    "duration": 16,
    "start_time": "2022-05-03T09:06:34.086Z"
   },
   {
    "duration": 11,
    "start_time": "2022-05-03T09:06:34.104Z"
   },
   {
    "duration": 441,
    "start_time": "2022-05-03T09:06:34.118Z"
   },
   {
    "duration": 13,
    "start_time": "2022-05-03T09:06:34.562Z"
   },
   {
    "duration": 24,
    "start_time": "2022-05-03T09:06:34.577Z"
   },
   {
    "duration": 57,
    "start_time": "2022-05-03T09:06:34.604Z"
   },
   {
    "duration": 37,
    "start_time": "2022-05-03T09:06:34.663Z"
   },
   {
    "duration": 25,
    "start_time": "2022-05-03T09:06:34.703Z"
   },
   {
    "duration": 29,
    "start_time": "2022-05-03T09:06:34.730Z"
   },
   {
    "duration": 25,
    "start_time": "2022-05-03T09:06:34.763Z"
   },
   {
    "duration": 11,
    "start_time": "2022-05-03T09:06:34.790Z"
   },
   {
    "duration": 11,
    "start_time": "2022-05-03T09:06:34.806Z"
   },
   {
    "duration": 43,
    "start_time": "2022-05-03T09:06:34.819Z"
   },
   {
    "duration": 23,
    "start_time": "2022-05-03T09:06:34.865Z"
   },
   {
    "duration": 12,
    "start_time": "2022-05-03T09:06:34.890Z"
   },
   {
    "duration": 16,
    "start_time": "2022-05-03T09:06:34.904Z"
   },
   {
    "duration": 47,
    "start_time": "2022-05-03T09:06:34.922Z"
   },
   {
    "duration": 21,
    "start_time": "2022-05-03T09:06:34.972Z"
   },
   {
    "duration": 16,
    "start_time": "2022-05-03T09:06:34.995Z"
   },
   {
    "duration": 43,
    "start_time": "2022-05-03T09:06:35.013Z"
   },
   {
    "duration": 38,
    "start_time": "2022-05-03T09:06:35.059Z"
   },
   {
    "duration": 8,
    "start_time": "2022-05-03T09:06:35.100Z"
   },
   {
    "duration": 20,
    "start_time": "2022-05-03T09:06:35.110Z"
   },
   {
    "duration": 42,
    "start_time": "2022-05-03T09:06:35.132Z"
   },
   {
    "duration": 5,
    "start_time": "2022-05-03T09:06:35.176Z"
   },
   {
    "duration": 15,
    "start_time": "2022-05-03T09:06:35.183Z"
   },
   {
    "duration": 16,
    "start_time": "2022-05-03T09:06:35.201Z"
   },
   {
    "duration": 72,
    "start_time": "2022-05-03T09:06:35.219Z"
   },
   {
    "duration": 28,
    "start_time": "2022-05-03T09:06:35.293Z"
   },
   {
    "duration": 57,
    "start_time": "2022-05-03T09:06:35.323Z"
   },
   {
    "duration": 14,
    "start_time": "2022-05-03T09:06:35.382Z"
   },
   {
    "duration": 22,
    "start_time": "2022-05-03T09:06:35.398Z"
   },
   {
    "duration": 47,
    "start_time": "2022-05-03T09:06:35.422Z"
   },
   {
    "duration": 10,
    "start_time": "2022-05-03T09:06:35.473Z"
   },
   {
    "duration": 45,
    "start_time": "2022-05-03T09:06:35.485Z"
   },
   {
    "duration": 44,
    "start_time": "2022-05-03T09:06:35.532Z"
   },
   {
    "duration": 8,
    "start_time": "2022-05-03T09:08:04.517Z"
   },
   {
    "duration": 8,
    "start_time": "2022-05-03T09:08:14.566Z"
   },
   {
    "duration": 7,
    "start_time": "2022-05-03T09:08:20.132Z"
   },
   {
    "duration": 13,
    "start_time": "2022-05-03T09:08:25.732Z"
   },
   {
    "duration": 9,
    "start_time": "2022-05-03T09:08:32.557Z"
   },
   {
    "duration": 148,
    "start_time": "2022-05-03T09:08:51.908Z"
   },
   {
    "duration": 573,
    "start_time": "2022-05-03T09:09:03.130Z"
   },
   {
    "duration": 90,
    "start_time": "2022-05-03T09:09:03.706Z"
   },
   {
    "duration": 54,
    "start_time": "2022-05-03T09:09:03.798Z"
   },
   {
    "duration": 29,
    "start_time": "2022-05-03T09:09:03.856Z"
   },
   {
    "duration": 15,
    "start_time": "2022-05-03T09:09:03.887Z"
   },
   {
    "duration": 74,
    "start_time": "2022-05-03T09:09:03.905Z"
   },
   {
    "duration": 8,
    "start_time": "2022-05-03T09:09:03.983Z"
   },
   {
    "duration": 12,
    "start_time": "2022-05-03T09:09:03.994Z"
   },
   {
    "duration": 52,
    "start_time": "2022-05-03T09:09:04.008Z"
   },
   {
    "duration": 13,
    "start_time": "2022-05-03T09:09:04.067Z"
   },
   {
    "duration": 423,
    "start_time": "2022-05-03T09:09:04.083Z"
   },
   {
    "duration": 13,
    "start_time": "2022-05-03T09:09:04.508Z"
   },
   {
    "duration": 6,
    "start_time": "2022-05-03T09:09:04.524Z"
   },
   {
    "duration": 6,
    "start_time": "2022-05-03T09:09:04.551Z"
   },
   {
    "duration": 17,
    "start_time": "2022-05-03T09:09:04.560Z"
   },
   {
    "duration": 11,
    "start_time": "2022-05-03T09:09:04.579Z"
   },
   {
    "duration": 17,
    "start_time": "2022-05-03T09:09:04.592Z"
   },
   {
    "duration": 42,
    "start_time": "2022-05-03T09:09:04.611Z"
   },
   {
    "duration": 644,
    "start_time": "2022-05-03T09:09:04.656Z"
   },
   {
    "duration": 20,
    "start_time": "2022-05-03T09:09:05.303Z"
   },
   {
    "duration": 56,
    "start_time": "2022-05-03T09:09:05.325Z"
   },
   {
    "duration": 34,
    "start_time": "2022-05-03T09:09:05.383Z"
   },
   {
    "duration": 58,
    "start_time": "2022-05-03T09:09:05.420Z"
   },
   {
    "duration": 38,
    "start_time": "2022-05-03T09:09:05.481Z"
   },
   {
    "duration": 35,
    "start_time": "2022-05-03T09:09:05.521Z"
   },
   {
    "duration": 13,
    "start_time": "2022-05-03T09:09:05.559Z"
   },
   {
    "duration": 30,
    "start_time": "2022-05-03T09:09:05.575Z"
   },
   {
    "duration": 11,
    "start_time": "2022-05-03T09:09:05.610Z"
   },
   {
    "duration": 39,
    "start_time": "2022-05-03T09:09:05.623Z"
   },
   {
    "duration": 26,
    "start_time": "2022-05-03T09:09:05.666Z"
   },
   {
    "duration": 14,
    "start_time": "2022-05-03T09:09:05.695Z"
   },
   {
    "duration": 23,
    "start_time": "2022-05-03T09:09:05.712Z"
   },
   {
    "duration": 21,
    "start_time": "2022-05-03T09:09:05.753Z"
   },
   {
    "duration": 24,
    "start_time": "2022-05-03T09:09:05.777Z"
   },
   {
    "duration": 49,
    "start_time": "2022-05-03T09:09:05.804Z"
   },
   {
    "duration": 8,
    "start_time": "2022-05-03T09:09:05.856Z"
   },
   {
    "duration": 34,
    "start_time": "2022-05-03T09:09:05.867Z"
   },
   {
    "duration": 6,
    "start_time": "2022-05-03T09:09:05.903Z"
   },
   {
    "duration": 41,
    "start_time": "2022-05-03T09:09:05.912Z"
   },
   {
    "duration": 28,
    "start_time": "2022-05-03T09:09:05.957Z"
   },
   {
    "duration": 7,
    "start_time": "2022-05-03T09:09:05.987Z"
   },
   {
    "duration": 14,
    "start_time": "2022-05-03T09:09:05.996Z"
   },
   {
    "duration": 40,
    "start_time": "2022-05-03T09:09:06.012Z"
   },
   {
    "duration": 47,
    "start_time": "2022-05-03T09:09:06.055Z"
   },
   {
    "duration": 28,
    "start_time": "2022-05-03T09:09:06.105Z"
   },
   {
    "duration": 46,
    "start_time": "2022-05-03T09:09:06.136Z"
   },
   {
    "duration": 13,
    "start_time": "2022-05-03T09:09:06.184Z"
   },
   {
    "duration": 9,
    "start_time": "2022-05-03T09:09:06.199Z"
   },
   {
    "duration": 64,
    "start_time": "2022-05-03T09:09:06.210Z"
   },
   {
    "duration": 8,
    "start_time": "2022-05-03T09:09:06.277Z"
   },
   {
    "duration": 30,
    "start_time": "2022-05-03T09:09:06.287Z"
   },
   {
    "duration": 59,
    "start_time": "2022-05-03T09:09:06.319Z"
   },
   {
    "duration": 161,
    "start_time": "2022-05-03T09:09:16.443Z"
   },
   {
    "duration": 551,
    "start_time": "2022-05-03T09:09:22.641Z"
   },
   {
    "duration": 86,
    "start_time": "2022-05-03T09:09:23.195Z"
   },
   {
    "duration": 43,
    "start_time": "2022-05-03T09:09:23.284Z"
   },
   {
    "duration": 55,
    "start_time": "2022-05-03T09:09:23.329Z"
   },
   {
    "duration": 13,
    "start_time": "2022-05-03T09:09:23.387Z"
   },
   {
    "duration": 68,
    "start_time": "2022-05-03T09:09:23.402Z"
   },
   {
    "duration": 10,
    "start_time": "2022-05-03T09:09:23.473Z"
   },
   {
    "duration": 23,
    "start_time": "2022-05-03T09:09:23.485Z"
   },
   {
    "duration": 35,
    "start_time": "2022-05-03T09:09:23.510Z"
   },
   {
    "duration": 16,
    "start_time": "2022-05-03T09:09:23.547Z"
   },
   {
    "duration": 497,
    "start_time": "2022-05-03T09:09:23.567Z"
   },
   {
    "duration": 16,
    "start_time": "2022-05-03T09:09:24.067Z"
   },
   {
    "duration": 27,
    "start_time": "2022-05-03T09:09:24.086Z"
   },
   {
    "duration": 23,
    "start_time": "2022-05-03T09:09:24.118Z"
   },
   {
    "duration": 29,
    "start_time": "2022-05-03T09:09:24.143Z"
   },
   {
    "duration": 27,
    "start_time": "2022-05-03T09:09:24.175Z"
   },
   {
    "duration": 31,
    "start_time": "2022-05-03T09:09:24.205Z"
   },
   {
    "duration": 29,
    "start_time": "2022-05-03T09:09:24.239Z"
   },
   {
    "duration": 485,
    "start_time": "2022-05-03T09:09:24.271Z"
   },
   {
    "duration": 18,
    "start_time": "2022-05-03T09:09:24.758Z"
   },
   {
    "duration": 22,
    "start_time": "2022-05-03T09:09:24.778Z"
   },
   {
    "duration": 56,
    "start_time": "2022-05-03T09:09:24.802Z"
   },
   {
    "duration": 35,
    "start_time": "2022-05-03T09:09:24.861Z"
   },
   {
    "duration": 24,
    "start_time": "2022-05-03T09:09:24.899Z"
   },
   {
    "duration": 31,
    "start_time": "2022-05-03T09:09:24.925Z"
   },
   {
    "duration": 26,
    "start_time": "2022-05-03T09:09:24.960Z"
   },
   {
    "duration": 12,
    "start_time": "2022-05-03T09:09:24.989Z"
   },
   {
    "duration": 11,
    "start_time": "2022-05-03T09:09:25.003Z"
   },
   {
    "duration": 43,
    "start_time": "2022-05-03T09:09:25.016Z"
   },
   {
    "duration": 39,
    "start_time": "2022-05-03T09:09:25.062Z"
   },
   {
    "duration": 16,
    "start_time": "2022-05-03T09:09:25.104Z"
   },
   {
    "duration": 36,
    "start_time": "2022-05-03T09:09:25.123Z"
   },
   {
    "duration": 36,
    "start_time": "2022-05-03T09:09:25.162Z"
   },
   {
    "duration": 15,
    "start_time": "2022-05-03T09:09:25.201Z"
   },
   {
    "duration": 15,
    "start_time": "2022-05-03T09:09:25.218Z"
   },
   {
    "duration": 8,
    "start_time": "2022-05-03T09:09:25.252Z"
   },
   {
    "duration": 38,
    "start_time": "2022-05-03T09:09:25.263Z"
   },
   {
    "duration": 7,
    "start_time": "2022-05-03T09:09:25.304Z"
   },
   {
    "duration": 17,
    "start_time": "2022-05-03T09:09:25.313Z"
   },
   {
    "duration": 34,
    "start_time": "2022-05-03T09:09:25.353Z"
   },
   {
    "duration": 6,
    "start_time": "2022-05-03T09:09:25.394Z"
   },
   {
    "duration": 13,
    "start_time": "2022-05-03T09:09:25.402Z"
   },
   {
    "duration": 43,
    "start_time": "2022-05-03T09:09:25.417Z"
   },
   {
    "duration": 60,
    "start_time": "2022-05-03T09:09:25.463Z"
   },
   {
    "duration": 47,
    "start_time": "2022-05-03T09:09:25.525Z"
   },
   {
    "duration": 28,
    "start_time": "2022-05-03T09:09:25.574Z"
   },
   {
    "duration": 15,
    "start_time": "2022-05-03T09:09:25.605Z"
   },
   {
    "duration": 10,
    "start_time": "2022-05-03T09:09:25.651Z"
   },
   {
    "duration": 32,
    "start_time": "2022-05-03T09:09:25.664Z"
   },
   {
    "duration": 8,
    "start_time": "2022-05-03T09:09:25.698Z"
   },
   {
    "duration": 66,
    "start_time": "2022-05-03T09:09:25.708Z"
   },
   {
    "duration": 26,
    "start_time": "2022-05-03T09:09:25.776Z"
   },
   {
    "duration": 536,
    "start_time": "2022-05-03T09:10:36.129Z"
   },
   {
    "duration": 73,
    "start_time": "2022-05-03T09:10:36.668Z"
   },
   {
    "duration": 50,
    "start_time": "2022-05-03T09:10:36.743Z"
   },
   {
    "duration": 22,
    "start_time": "2022-05-03T09:10:36.797Z"
   },
   {
    "duration": 41,
    "start_time": "2022-05-03T09:10:36.821Z"
   },
   {
    "duration": 43,
    "start_time": "2022-05-03T09:10:36.865Z"
   },
   {
    "duration": 7,
    "start_time": "2022-05-03T09:10:36.910Z"
   },
   {
    "duration": 45,
    "start_time": "2022-05-03T09:10:36.919Z"
   },
   {
    "duration": 14,
    "start_time": "2022-05-03T09:10:36.967Z"
   },
   {
    "duration": 11,
    "start_time": "2022-05-03T09:10:36.986Z"
   },
   {
    "duration": 444,
    "start_time": "2022-05-03T09:10:36.998Z"
   },
   {
    "duration": 16,
    "start_time": "2022-05-03T09:10:37.444Z"
   },
   {
    "duration": 32,
    "start_time": "2022-05-03T09:10:37.463Z"
   },
   {
    "duration": 16,
    "start_time": "2022-05-03T09:10:37.498Z"
   },
   {
    "duration": 27,
    "start_time": "2022-05-03T09:10:37.516Z"
   },
   {
    "duration": 28,
    "start_time": "2022-05-03T09:10:37.545Z"
   },
   {
    "duration": 32,
    "start_time": "2022-05-03T09:10:37.575Z"
   },
   {
    "duration": 18,
    "start_time": "2022-05-03T09:10:37.609Z"
   },
   {
    "duration": 415,
    "start_time": "2022-05-03T09:10:37.629Z"
   },
   {
    "duration": 13,
    "start_time": "2022-05-03T09:10:38.046Z"
   },
   {
    "duration": 39,
    "start_time": "2022-05-03T09:10:38.062Z"
   },
   {
    "duration": 29,
    "start_time": "2022-05-03T09:10:38.103Z"
   },
   {
    "duration": 47,
    "start_time": "2022-05-03T09:10:38.134Z"
   },
   {
    "duration": 24,
    "start_time": "2022-05-03T09:10:38.183Z"
   },
   {
    "duration": 10,
    "start_time": "2022-05-03T09:10:38.209Z"
   },
   {
    "duration": 43,
    "start_time": "2022-05-03T09:10:38.221Z"
   },
   {
    "duration": 25,
    "start_time": "2022-05-03T09:10:38.267Z"
   },
   {
    "duration": 14,
    "start_time": "2022-05-03T09:10:38.299Z"
   },
   {
    "duration": 41,
    "start_time": "2022-05-03T09:10:38.315Z"
   },
   {
    "duration": 38,
    "start_time": "2022-05-03T09:10:38.359Z"
   },
   {
    "duration": 22,
    "start_time": "2022-05-03T09:10:38.400Z"
   },
   {
    "duration": 36,
    "start_time": "2022-05-03T09:10:38.424Z"
   },
   {
    "duration": 16,
    "start_time": "2022-05-03T09:10:38.463Z"
   },
   {
    "duration": 15,
    "start_time": "2022-05-03T09:10:38.481Z"
   },
   {
    "duration": 13,
    "start_time": "2022-05-03T09:10:38.498Z"
   },
   {
    "duration": 40,
    "start_time": "2022-05-03T09:10:38.513Z"
   },
   {
    "duration": 35,
    "start_time": "2022-05-03T09:10:38.556Z"
   },
   {
    "duration": 17,
    "start_time": "2022-05-03T09:10:38.593Z"
   },
   {
    "duration": 26,
    "start_time": "2022-05-03T09:10:38.612Z"
   },
   {
    "duration": 38,
    "start_time": "2022-05-03T09:10:38.640Z"
   },
   {
    "duration": 5,
    "start_time": "2022-05-03T09:10:38.680Z"
   },
   {
    "duration": 22,
    "start_time": "2022-05-03T09:10:38.687Z"
   },
   {
    "duration": 17,
    "start_time": "2022-05-03T09:10:38.711Z"
   },
   {
    "duration": 56,
    "start_time": "2022-05-03T09:10:38.730Z"
   },
   {
    "duration": 28,
    "start_time": "2022-05-03T09:10:38.788Z"
   },
   {
    "duration": 51,
    "start_time": "2022-05-03T09:10:38.818Z"
   },
   {
    "duration": 14,
    "start_time": "2022-05-03T09:10:38.871Z"
   },
   {
    "duration": 19,
    "start_time": "2022-05-03T09:10:38.887Z"
   },
   {
    "duration": 38,
    "start_time": "2022-05-03T09:10:38.909Z"
   },
   {
    "duration": 16,
    "start_time": "2022-05-03T09:10:38.952Z"
   },
   {
    "duration": 36,
    "start_time": "2022-05-03T09:10:38.971Z"
   },
   {
    "duration": 50,
    "start_time": "2022-05-03T09:10:39.008Z"
   },
   {
    "duration": 12,
    "start_time": "2022-05-03T09:14:10.840Z"
   },
   {
    "duration": 12,
    "start_time": "2022-05-03T09:17:41.040Z"
   },
   {
    "duration": 583,
    "start_time": "2022-05-03T09:20:43.025Z"
   },
   {
    "duration": 88,
    "start_time": "2022-05-03T09:20:43.611Z"
   },
   {
    "duration": 60,
    "start_time": "2022-05-03T09:20:43.701Z"
   },
   {
    "duration": 25,
    "start_time": "2022-05-03T09:20:43.765Z"
   },
   {
    "duration": 14,
    "start_time": "2022-05-03T09:20:43.792Z"
   },
   {
    "duration": 77,
    "start_time": "2022-05-03T09:20:43.809Z"
   },
   {
    "duration": 8,
    "start_time": "2022-05-03T09:20:43.888Z"
   },
   {
    "duration": 13,
    "start_time": "2022-05-03T09:20:43.898Z"
   },
   {
    "duration": 14,
    "start_time": "2022-05-03T09:20:43.913Z"
   },
   {
    "duration": 14,
    "start_time": "2022-05-03T09:20:43.958Z"
   },
   {
    "duration": 432,
    "start_time": "2022-05-03T09:20:43.975Z"
   },
   {
    "duration": 13,
    "start_time": "2022-05-03T09:20:44.409Z"
   },
   {
    "duration": 29,
    "start_time": "2022-05-03T09:20:44.424Z"
   },
   {
    "duration": 5,
    "start_time": "2022-05-03T09:20:44.456Z"
   },
   {
    "duration": 21,
    "start_time": "2022-05-03T09:20:44.464Z"
   },
   {
    "duration": 6,
    "start_time": "2022-05-03T09:20:44.488Z"
   },
   {
    "duration": 24,
    "start_time": "2022-05-03T09:20:44.496Z"
   },
   {
    "duration": 30,
    "start_time": "2022-05-03T09:20:44.522Z"
   },
   {
    "duration": 446,
    "start_time": "2022-05-03T09:20:44.556Z"
   },
   {
    "duration": 14,
    "start_time": "2022-05-03T09:20:45.004Z"
   },
   {
    "duration": 55,
    "start_time": "2022-05-03T09:20:45.021Z"
   },
   {
    "duration": 26,
    "start_time": "2022-05-03T09:20:45.079Z"
   },
   {
    "duration": 60,
    "start_time": "2022-05-03T09:20:45.107Z"
   },
   {
    "duration": 25,
    "start_time": "2022-05-03T09:20:45.171Z"
   },
   {
    "duration": 10,
    "start_time": "2022-05-03T09:20:45.198Z"
   },
   {
    "duration": 11,
    "start_time": "2022-05-03T09:20:45.210Z"
   },
   {
    "duration": 15,
    "start_time": "2022-05-03T09:20:45.251Z"
   },
   {
    "duration": 14,
    "start_time": "2022-05-03T09:20:45.274Z"
   },
   {
    "duration": 16,
    "start_time": "2022-05-03T09:20:45.291Z"
   },
   {
    "duration": 61,
    "start_time": "2022-05-03T09:20:45.310Z"
   },
   {
    "duration": 13,
    "start_time": "2022-05-03T09:20:45.374Z"
   },
   {
    "duration": 21,
    "start_time": "2022-05-03T09:20:45.389Z"
   },
   {
    "duration": 43,
    "start_time": "2022-05-03T09:20:45.412Z"
   },
   {
    "duration": 24,
    "start_time": "2022-05-03T09:20:45.459Z"
   },
   {
    "duration": 14,
    "start_time": "2022-05-03T09:20:45.486Z"
   },
   {
    "duration": 6,
    "start_time": "2022-05-03T09:20:45.502Z"
   },
   {
    "duration": 74,
    "start_time": "2022-05-03T09:20:45.510Z"
   },
   {
    "duration": 18,
    "start_time": "2022-05-03T09:20:45.587Z"
   },
   {
    "duration": 31,
    "start_time": "2022-05-03T09:20:45.607Z"
   },
   {
    "duration": 47,
    "start_time": "2022-05-03T09:20:45.643Z"
   },
   {
    "duration": 6,
    "start_time": "2022-05-03T09:20:45.693Z"
   },
   {
    "duration": 15,
    "start_time": "2022-05-03T09:20:45.702Z"
   },
   {
    "duration": 9,
    "start_time": "2022-05-03T09:20:45.719Z"
   },
   {
    "duration": 64,
    "start_time": "2022-05-03T09:20:45.730Z"
   },
   {
    "duration": 31,
    "start_time": "2022-05-03T09:20:45.796Z"
   },
   {
    "duration": 35,
    "start_time": "2022-05-03T09:20:45.851Z"
   },
   {
    "duration": 14,
    "start_time": "2022-05-03T09:20:45.889Z"
   },
   {
    "duration": 66,
    "start_time": "2022-05-03T09:20:45.905Z"
   },
   {
    "duration": 10,
    "start_time": "2022-05-03T09:20:45.974Z"
   },
   {
    "duration": 16,
    "start_time": "2022-05-03T09:20:45.986Z"
   },
   {
    "duration": 62,
    "start_time": "2022-05-03T09:20:46.004Z"
   },
   {
    "duration": 12,
    "start_time": "2022-05-03T09:20:46.069Z"
   },
   {
    "duration": 30,
    "start_time": "2022-05-03T09:20:46.083Z"
   },
   {
    "duration": 128,
    "start_time": "2022-05-03T09:20:46.115Z"
   },
   {
    "duration": 576,
    "start_time": "2022-05-03T09:21:10.934Z"
   },
   {
    "duration": 89,
    "start_time": "2022-05-03T09:21:11.513Z"
   },
   {
    "duration": 69,
    "start_time": "2022-05-03T09:21:11.604Z"
   },
   {
    "duration": 23,
    "start_time": "2022-05-03T09:21:11.678Z"
   },
   {
    "duration": 14,
    "start_time": "2022-05-03T09:21:11.703Z"
   },
   {
    "duration": 65,
    "start_time": "2022-05-03T09:21:11.720Z"
   },
   {
    "duration": 8,
    "start_time": "2022-05-03T09:21:11.787Z"
   },
   {
    "duration": 12,
    "start_time": "2022-05-03T09:21:11.798Z"
   },
   {
    "duration": 45,
    "start_time": "2022-05-03T09:21:11.813Z"
   },
   {
    "duration": 16,
    "start_time": "2022-05-03T09:21:11.867Z"
   },
   {
    "duration": 757,
    "start_time": "2022-05-03T09:21:11.886Z"
   },
   {
    "duration": 23,
    "start_time": "2022-05-03T09:21:12.646Z"
   },
   {
    "duration": 8,
    "start_time": "2022-05-03T09:21:12.672Z"
   },
   {
    "duration": 8,
    "start_time": "2022-05-03T09:21:12.683Z"
   },
   {
    "duration": 10,
    "start_time": "2022-05-03T09:21:12.694Z"
   },
   {
    "duration": 15,
    "start_time": "2022-05-03T09:21:12.706Z"
   },
   {
    "duration": 40,
    "start_time": "2022-05-03T09:21:12.723Z"
   },
   {
    "duration": 17,
    "start_time": "2022-05-03T09:21:12.765Z"
   },
   {
    "duration": 429,
    "start_time": "2022-05-03T09:21:12.784Z"
   },
   {
    "duration": 14,
    "start_time": "2022-05-03T09:21:13.215Z"
   },
   {
    "duration": 44,
    "start_time": "2022-05-03T09:21:13.232Z"
   },
   {
    "duration": 34,
    "start_time": "2022-05-03T09:21:13.279Z"
   },
   {
    "duration": 63,
    "start_time": "2022-05-03T09:21:13.316Z"
   },
   {
    "duration": 37,
    "start_time": "2022-05-03T09:21:13.382Z"
   },
   {
    "duration": 36,
    "start_time": "2022-05-03T09:21:13.422Z"
   },
   {
    "duration": 24,
    "start_time": "2022-05-03T09:21:13.461Z"
   },
   {
    "duration": 14,
    "start_time": "2022-05-03T09:21:13.487Z"
   },
   {
    "duration": 20,
    "start_time": "2022-05-03T09:21:13.507Z"
   },
   {
    "duration": 38,
    "start_time": "2022-05-03T09:21:13.529Z"
   },
   {
    "duration": 17,
    "start_time": "2022-05-03T09:21:13.571Z"
   },
   {
    "duration": 14,
    "start_time": "2022-05-03T09:21:13.590Z"
   },
   {
    "duration": 45,
    "start_time": "2022-05-03T09:21:13.607Z"
   },
   {
    "duration": 21,
    "start_time": "2022-05-03T09:21:13.657Z"
   },
   {
    "duration": 23,
    "start_time": "2022-05-03T09:21:13.680Z"
   },
   {
    "duration": 59,
    "start_time": "2022-05-03T09:21:13.705Z"
   },
   {
    "duration": 8,
    "start_time": "2022-05-03T09:21:13.767Z"
   },
   {
    "duration": 25,
    "start_time": "2022-05-03T09:21:13.777Z"
   },
   {
    "duration": 9,
    "start_time": "2022-05-03T09:21:13.804Z"
   },
   {
    "duration": 47,
    "start_time": "2022-05-03T09:21:13.815Z"
   },
   {
    "duration": 25,
    "start_time": "2022-05-03T09:21:13.865Z"
   },
   {
    "duration": 7,
    "start_time": "2022-05-03T09:21:13.892Z"
   },
   {
    "duration": 14,
    "start_time": "2022-05-03T09:21:13.900Z"
   },
   {
    "duration": 34,
    "start_time": "2022-05-03T09:21:13.917Z"
   },
   {
    "duration": 41,
    "start_time": "2022-05-03T09:21:13.954Z"
   },
   {
    "duration": 56,
    "start_time": "2022-05-03T09:21:13.997Z"
   },
   {
    "duration": 33,
    "start_time": "2022-05-03T09:21:14.055Z"
   },
   {
    "duration": 14,
    "start_time": "2022-05-03T09:21:14.091Z"
   },
   {
    "duration": 64,
    "start_time": "2022-05-03T09:21:14.107Z"
   },
   {
    "duration": 13,
    "start_time": "2022-05-03T09:21:14.175Z"
   },
   {
    "duration": 14,
    "start_time": "2022-05-03T09:21:14.190Z"
   },
   {
    "duration": 58,
    "start_time": "2022-05-03T09:21:14.206Z"
   },
   {
    "duration": 13,
    "start_time": "2022-05-03T09:21:14.267Z"
   },
   {
    "duration": 28,
    "start_time": "2022-05-03T09:21:14.282Z"
   },
   {
    "duration": 11,
    "start_time": "2022-05-03T09:21:14.312Z"
   },
   {
    "duration": 510,
    "start_time": "2022-05-03T09:22:02.993Z"
   },
   {
    "duration": 83,
    "start_time": "2022-05-03T09:22:03.506Z"
   },
   {
    "duration": 41,
    "start_time": "2022-05-03T09:22:03.591Z"
   },
   {
    "duration": 42,
    "start_time": "2022-05-03T09:22:03.636Z"
   },
   {
    "duration": 14,
    "start_time": "2022-05-03T09:22:03.681Z"
   },
   {
    "duration": 66,
    "start_time": "2022-05-03T09:22:03.697Z"
   },
   {
    "duration": 12,
    "start_time": "2022-05-03T09:22:03.767Z"
   },
   {
    "duration": 15,
    "start_time": "2022-05-03T09:22:03.781Z"
   },
   {
    "duration": 9,
    "start_time": "2022-05-03T09:22:03.799Z"
   },
   {
    "duration": 48,
    "start_time": "2022-05-03T09:22:03.814Z"
   },
   {
    "duration": 430,
    "start_time": "2022-05-03T09:22:03.866Z"
   },
   {
    "duration": 13,
    "start_time": "2022-05-03T09:22:04.298Z"
   },
   {
    "duration": 66,
    "start_time": "2022-05-03T09:22:04.313Z"
   },
   {
    "duration": 18,
    "start_time": "2022-05-03T09:22:04.381Z"
   },
   {
    "duration": 16,
    "start_time": "2022-05-03T09:22:04.401Z"
   },
   {
    "duration": 30,
    "start_time": "2022-05-03T09:22:04.419Z"
   },
   {
    "duration": 54,
    "start_time": "2022-05-03T09:22:04.452Z"
   },
   {
    "duration": 13,
    "start_time": "2022-05-03T09:22:04.508Z"
   },
   {
    "duration": 463,
    "start_time": "2022-05-03T09:22:04.523Z"
   },
   {
    "duration": 16,
    "start_time": "2022-05-03T09:22:04.988Z"
   },
   {
    "duration": 56,
    "start_time": "2022-05-03T09:22:05.006Z"
   },
   {
    "duration": 31,
    "start_time": "2022-05-03T09:22:05.067Z"
   },
   {
    "duration": 54,
    "start_time": "2022-05-03T09:22:05.100Z"
   },
   {
    "duration": 28,
    "start_time": "2022-05-03T09:22:05.157Z"
   },
   {
    "duration": 21,
    "start_time": "2022-05-03T09:22:05.188Z"
   },
   {
    "duration": 23,
    "start_time": "2022-05-03T09:22:05.212Z"
   },
   {
    "duration": 35,
    "start_time": "2022-05-03T09:22:05.237Z"
   },
   {
    "duration": 32,
    "start_time": "2022-05-03T09:22:05.280Z"
   },
   {
    "duration": 64,
    "start_time": "2022-05-03T09:22:05.314Z"
   },
   {
    "duration": 40,
    "start_time": "2022-05-03T09:22:05.381Z"
   },
   {
    "duration": 58,
    "start_time": "2022-05-03T09:22:05.424Z"
   },
   {
    "duration": 36,
    "start_time": "2022-05-03T09:22:05.484Z"
   },
   {
    "duration": 44,
    "start_time": "2022-05-03T09:22:05.523Z"
   },
   {
    "duration": 75,
    "start_time": "2022-05-03T09:22:05.570Z"
   },
   {
    "duration": 26,
    "start_time": "2022-05-03T09:22:05.648Z"
   },
   {
    "duration": 9,
    "start_time": "2022-05-03T09:22:05.678Z"
   },
   {
    "duration": 56,
    "start_time": "2022-05-03T09:22:05.689Z"
   },
   {
    "duration": 31,
    "start_time": "2022-05-03T09:22:05.751Z"
   },
   {
    "duration": 49,
    "start_time": "2022-05-03T09:22:05.785Z"
   },
   {
    "duration": 56,
    "start_time": "2022-05-03T09:22:05.836Z"
   },
   {
    "duration": 17,
    "start_time": "2022-05-03T09:22:05.894Z"
   },
   {
    "duration": 45,
    "start_time": "2022-05-03T09:22:05.912Z"
   },
   {
    "duration": 15,
    "start_time": "2022-05-03T09:22:05.959Z"
   },
   {
    "duration": 43,
    "start_time": "2022-05-03T09:22:05.979Z"
   },
   {
    "duration": 48,
    "start_time": "2022-05-03T09:22:06.024Z"
   },
   {
    "duration": 26,
    "start_time": "2022-05-03T09:22:06.075Z"
   },
   {
    "duration": 14,
    "start_time": "2022-05-03T09:22:06.104Z"
   },
   {
    "duration": 55,
    "start_time": "2022-05-03T09:22:06.120Z"
   },
   {
    "duration": 12,
    "start_time": "2022-05-03T09:22:06.178Z"
   },
   {
    "duration": 17,
    "start_time": "2022-05-03T09:22:06.192Z"
   },
   {
    "duration": 66,
    "start_time": "2022-05-03T09:22:06.211Z"
   },
   {
    "duration": 14,
    "start_time": "2022-05-03T09:22:06.279Z"
   },
   {
    "duration": 30,
    "start_time": "2022-05-03T09:22:06.296Z"
   },
   {
    "duration": 38,
    "start_time": "2022-05-03T09:22:06.329Z"
   },
   {
    "duration": 713,
    "start_time": "2022-05-03T09:37:34.315Z"
   },
   {
    "duration": 117,
    "start_time": "2022-05-03T09:37:35.032Z"
   },
   {
    "duration": 65,
    "start_time": "2022-05-03T09:37:35.153Z"
   },
   {
    "duration": 41,
    "start_time": "2022-05-03T09:37:35.221Z"
   },
   {
    "duration": 20,
    "start_time": "2022-05-03T09:37:35.267Z"
   },
   {
    "duration": 32,
    "start_time": "2022-05-03T09:37:35.290Z"
   },
   {
    "duration": 11,
    "start_time": "2022-05-03T09:37:35.354Z"
   },
   {
    "duration": 21,
    "start_time": "2022-05-03T09:37:35.368Z"
   },
   {
    "duration": 13,
    "start_time": "2022-05-03T09:37:35.391Z"
   },
   {
    "duration": 10,
    "start_time": "2022-05-03T09:37:35.407Z"
   },
   {
    "duration": 455,
    "start_time": "2022-05-03T09:37:35.453Z"
   },
   {
    "duration": 13,
    "start_time": "2022-05-03T09:37:35.911Z"
   },
   {
    "duration": 28,
    "start_time": "2022-05-03T09:37:35.926Z"
   },
   {
    "duration": 5,
    "start_time": "2022-05-03T09:37:35.959Z"
   },
   {
    "duration": 32,
    "start_time": "2022-05-03T09:37:35.967Z"
   },
   {
    "duration": 16,
    "start_time": "2022-05-03T09:37:36.001Z"
   },
   {
    "duration": 17,
    "start_time": "2022-05-03T09:37:36.019Z"
   },
   {
    "duration": 19,
    "start_time": "2022-05-03T09:37:36.038Z"
   },
   {
    "duration": 451,
    "start_time": "2022-05-03T09:37:36.060Z"
   },
   {
    "duration": 21,
    "start_time": "2022-05-03T09:37:36.513Z"
   },
   {
    "duration": 47,
    "start_time": "2022-05-03T09:37:36.537Z"
   },
   {
    "duration": 25,
    "start_time": "2022-05-03T09:37:36.587Z"
   },
   {
    "duration": 62,
    "start_time": "2022-05-03T09:37:36.615Z"
   },
   {
    "duration": 37,
    "start_time": "2022-05-03T09:37:36.680Z"
   },
   {
    "duration": 32,
    "start_time": "2022-05-03T09:37:36.720Z"
   },
   {
    "duration": 29,
    "start_time": "2022-05-03T09:37:36.755Z"
   },
   {
    "duration": 18,
    "start_time": "2022-05-03T09:37:36.787Z"
   },
   {
    "duration": 13,
    "start_time": "2022-05-03T09:37:36.809Z"
   },
   {
    "duration": 36,
    "start_time": "2022-05-03T09:37:36.825Z"
   },
   {
    "duration": 41,
    "start_time": "2022-05-03T09:37:36.864Z"
   },
   {
    "duration": 19,
    "start_time": "2022-05-03T09:37:36.907Z"
   },
   {
    "duration": 18,
    "start_time": "2022-05-03T09:37:36.928Z"
   },
   {
    "duration": 30,
    "start_time": "2022-05-03T09:37:36.949Z"
   },
   {
    "duration": 26,
    "start_time": "2022-05-03T09:37:36.982Z"
   },
   {
    "duration": 14,
    "start_time": "2022-05-03T09:37:37.010Z"
   },
   {
    "duration": 9,
    "start_time": "2022-05-03T09:37:37.053Z"
   },
   {
    "duration": 38,
    "start_time": "2022-05-03T09:37:37.065Z"
   },
   {
    "duration": 7,
    "start_time": "2022-05-03T09:37:37.106Z"
   },
   {
    "duration": 42,
    "start_time": "2022-05-03T09:37:37.115Z"
   },
   {
    "duration": 36,
    "start_time": "2022-05-03T09:37:37.160Z"
   },
   {
    "duration": 6,
    "start_time": "2022-05-03T09:37:37.203Z"
   },
   {
    "duration": 53,
    "start_time": "2022-05-03T09:37:37.211Z"
   },
   {
    "duration": 16,
    "start_time": "2022-05-03T09:37:37.267Z"
   },
   {
    "duration": 56,
    "start_time": "2022-05-03T09:37:37.286Z"
   },
   {
    "duration": 44,
    "start_time": "2022-05-03T09:37:37.345Z"
   },
   {
    "duration": 58,
    "start_time": "2022-05-03T09:37:37.392Z"
   },
   {
    "duration": 24,
    "start_time": "2022-05-03T09:37:37.454Z"
   },
   {
    "duration": 26,
    "start_time": "2022-05-03T09:37:37.480Z"
   },
   {
    "duration": 8,
    "start_time": "2022-05-03T09:37:37.508Z"
   },
   {
    "duration": 48,
    "start_time": "2022-05-03T09:37:37.518Z"
   },
   {
    "duration": 31,
    "start_time": "2022-05-03T09:37:37.569Z"
   },
   {
    "duration": 11,
    "start_time": "2022-05-03T09:37:37.603Z"
   },
   {
    "duration": 88,
    "start_time": "2022-05-03T09:37:37.616Z"
   },
   {
    "duration": 13,
    "start_time": "2022-05-03T09:37:37.707Z"
   }
  ],
  "kernelspec": {
   "display_name": "Python 3 (ipykernel)",
   "language": "python",
   "name": "python3"
  },
  "language_info": {
   "codemirror_mode": {
    "name": "ipython",
    "version": 3
   },
   "file_extension": ".py",
   "mimetype": "text/x-python",
   "name": "python",
   "nbconvert_exporter": "python",
   "pygments_lexer": "ipython3",
   "version": "3.9.12"
  },
  "toc": {
   "base_numbering": 1,
   "nav_menu": {},
   "number_sections": true,
   "sideBar": true,
   "skip_h1_title": true,
   "title_cell": "Table of Contents",
   "title_sidebar": "Contents",
   "toc_cell": false,
   "toc_position": {},
   "toc_section_display": true,
   "toc_window_display": false
  }
 },
 "nbformat": 4,
 "nbformat_minor": 5
}
